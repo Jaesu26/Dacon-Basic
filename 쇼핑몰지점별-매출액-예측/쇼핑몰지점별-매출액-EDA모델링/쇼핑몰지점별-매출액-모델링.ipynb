{
 "cells": [
  {
   "cell_type": "markdown",
   "id": "c1c0aaf7-ffad-486d-8f46-e72332397f31",
   "metadata": {},
   "source": [
    "# 쇼핑몰 지점별 매출액 예측 경진대회"
   ]
  },
  {
   "cell_type": "markdown",
   "id": "072902e6-33c6-43ea-9afa-c0e0d3ca262b",
   "metadata": {},
   "source": [
    "## 데이터 불러오기"
   ]
  },
  {
   "cell_type": "code",
   "execution_count": 1,
   "id": "3067a461-803d-4a6d-90a4-7d930e950f05",
   "metadata": {},
   "outputs": [],
   "source": [
    "import numpy as np\n",
    "import pandas as pd\n",
    "import os\n",
    "import matplotlib.pyplot as plt\n",
    "import seaborn as sns\n",
    "import warnings\n",
    "from tqdm import tqdm\n",
    "\n",
    "warnings.filterwarnings('ignore')"
   ]
  },
  {
   "cell_type": "code",
   "execution_count": 2,
   "id": "983d2bc8-5164-4441-b99d-dcc138c6d175",
   "metadata": {},
   "outputs": [],
   "source": [
    "sns.set_theme(style='white')"
   ]
  },
  {
   "cell_type": "code",
   "execution_count": 3,
   "id": "70c79229-03e2-4b3e-a1f7-42097c2771e4",
   "metadata": {},
   "outputs": [
    {
     "data": {
      "text/plain": [
       "'C:\\\\Users\\\\Jaesu\\\\github_desktop\\\\Dacon-Basic\\\\쇼핑몰지점별-매출액-예측\\\\쇼핑몰지점별-매출액-EDA모델링'"
      ]
     },
     "execution_count": 3,
     "metadata": {},
     "output_type": "execute_result"
    }
   ],
   "source": [
    "os.getcwd()"
   ]
  },
  {
   "cell_type": "code",
   "execution_count": 4,
   "id": "2e0db761-f4a1-4150-ade9-2fd897da0aa7",
   "metadata": {},
   "outputs": [],
   "source": [
    "os.chdir('C:\\\\Users\\\\Jaesu\\\\github_desktop\\\\Dacon-Basic\\\\쇼핑몰지점별-매출액-예측')"
   ]
  },
  {
   "cell_type": "code",
   "execution_count": 265,
   "id": "e9e87da9-7d5c-4ada-b707-3239ad1c7017",
   "metadata": {},
   "outputs": [],
   "source": [
    "df = pd.read_csv('./Data/train.csv')\n",
    "test = pd.read_csv('./Data/test.csv')\n",
    "submission = pd.read_csv('./Data/sample_submission.csv')"
   ]
  },
  {
   "cell_type": "code",
   "execution_count": 266,
   "id": "a3e43af1-4538-493b-b4e4-9e15a8ce138a",
   "metadata": {},
   "outputs": [],
   "source": [
    "df.drop('id', axis=1, inplace=True)\n",
    "test.drop('id', axis=1, inplace=True)"
   ]
  },
  {
   "cell_type": "markdown",
   "id": "62a11d4b-5680-4299-b8a3-444c408bcc61",
   "metadata": {},
   "source": [
    "## 데이터 전처리 및 파생변수 생성"
   ]
  },
  {
   "cell_type": "markdown",
   "id": "fe079c39-a4d8-4b45-93e3-737c10b878f0",
   "metadata": {},
   "source": [
    "- Data 변수를 날짜 형식으로 변경하여 연, 월, 일 변수를 생성\n",
    "\n",
    "`-` 또한 2010년을 기준으로 연월일을 하루 단위로 변환하여 2010년으로부터 며칠이 지났는지를 알 수 있는 변수를 생성하겠다  "
   ]
  },
  {
   "cell_type": "code",
   "execution_count": 267,
   "id": "ded8be55-2ec9-428d-8dce-7731c8538357",
   "metadata": {},
   "outputs": [],
   "source": [
    "def get_date(df) -> None:\n",
    "    \"\"\"df['Date']에서 연, 월, 일 변수를 생성\"\"\" \n",
    "    df['Date'] = pd.to_datetime(df['Date'])\n",
    "    df['Year'] = df['Date'].dt.year\n",
    "    df['Month'] = df['Date'].dt.month\n",
    "    df['Day'] = df['Date'].dt.day"
   ]
  },
  {
   "cell_type": "code",
   "execution_count": 268,
   "id": "41e00b3c-1934-44c1-981e-13a77162a0c8",
   "metadata": {},
   "outputs": [],
   "source": [
    "get_date(df)\n",
    "get_date(test)"
   ]
  },
  {
   "cell_type": "code",
   "execution_count": 269,
   "id": "8d099e78-4c79-4602-adea-b1b64f34dee8",
   "metadata": {},
   "outputs": [],
   "source": [
    "df['Day_Range'] = (df['Date'] - pd.datetime(2010, 1, 1)).dt.days\n",
    "test['Day_Range'] = (test['Date'] - pd.datetime(2010, 1, 1)).dt.days"
   ]
  },
  {
   "cell_type": "markdown",
   "id": "6ec47d03-b373-4249-970a-2f9896cc404d",
   "metadata": {},
   "source": [
    "- 공휴일 변수를 숫자로 변경"
   ]
  },
  {
   "cell_type": "code",
   "execution_count": 270,
   "id": "3085f0e4-6ca4-4297-9e8c-55637c4747c5",
   "metadata": {},
   "outputs": [],
   "source": [
    "df['IsHoliday'] = df['IsHoliday'].apply(lambda x: 1 if x else 0)\n",
    "test['IsHoliday'] = test['IsHoliday'].apply(lambda x: 1 if x else 0)"
   ]
  },
  {
   "cell_type": "markdown",
   "id": "8bd25c05-52e9-48f9-b6bd-c93d9d7a42ff",
   "metadata": {},
   "source": [
    "- 화씨를 섭씨로 변환"
   ]
  },
  {
   "cell_type": "code",
   "execution_count": 271,
   "id": "603c7e19-baad-412a-9116-c6f249bb770f",
   "metadata": {},
   "outputs": [],
   "source": [
    "df['Temperature'] = (df['Temperature'] - 32) * 5/9\n",
    "test['Temperature'] = (test['Temperature'] - 32) * 5/9"
   ]
  },
  {
   "cell_type": "markdown",
   "id": "8a0f8106-4aa5-4f63-ac56-12c32cacf4a5",
   "metadata": {},
   "source": [
    "- 프로모션의 결측치를 $-1$로 대체"
   ]
  },
  {
   "cell_type": "code",
   "execution_count": 272,
   "id": "42342cb1-7425-42c6-a220-ba90c6ad9afd",
   "metadata": {},
   "outputs": [],
   "source": [
    "df.fillna(value=-1, inplace=True)\n",
    "test.fillna(value=-1, inplace=True)"
   ]
  },
  {
   "cell_type": "markdown",
   "id": "25b53daa-a15a-4de2-989e-e2e481e95a79",
   "metadata": {},
   "source": [
    "- 총 프로모션 비용 변수 생성"
   ]
  },
  {
   "cell_type": "code",
   "execution_count": 273,
   "id": "306a757a-fa03-48a7-a009-099a30e2b906",
   "metadata": {},
   "outputs": [],
   "source": [
    "df['Promotion_Cost'] = df[['Promotion1', 'Promotion2', 'Promotion3', 'Promotion4', 'Promotion5']].sum(axis=1)\n",
    "test['Promotion_Cost'] = test[['Promotion1', 'Promotion2', 'Promotion3', 'Promotion4', 'Promotion5']].sum(axis=1)"
   ]
  },
  {
   "cell_type": "markdown",
   "id": "9e48a50b-4e4f-4a6a-b1de-512446308f8b",
   "metadata": {},
   "source": [
    "- month의 몇 번재 week인지 나타내는 변수 생성"
   ]
  },
  {
   "cell_type": "code",
   "execution_count": 274,
   "id": "f34fc9c7-928d-48a2-abaf-646fbe285b78",
   "metadata": {},
   "outputs": [],
   "source": [
    "df['WeekOfMonth'] = df['Day'].apply(lambda x: (x-1) // 7 + 1)\n",
    "test['WeekOfMonth'] = test['Day'].apply(lambda x: (x-1) // 7 + 1)"
   ]
  },
  {
   "cell_type": "markdown",
   "id": "e60b52c6-3382-4a48-bcc5-a3f512249343",
   "metadata": {},
   "source": [
    "- 크리스마스가 몇 주일 남았는지 나타내는 변수를 생성"
   ]
  },
  {
   "cell_type": "markdown",
   "id": "e399f4db-7bd6-4d0d-9d46-fad5ae513425",
   "metadata": {},
   "source": [
    "`-` 크리스마스는 12월 4주차에 존재함\n",
    "\n",
    "`-` 12월 3주차는 2, 4주차는 3, 5주차는 1, 그 외는 0으로 코딩 (매출액이 기준)"
   ]
  },
  {
   "cell_type": "code",
   "execution_count": 275,
   "id": "f76d9617-6098-4e93-8a65-3d55d3bd88be",
   "metadata": {},
   "outputs": [],
   "source": [
    "def christmas_week(date):\n",
    "    month = date.month\n",
    "    week_of_month = (date.day-1) // 7 + 1\n",
    "    if month == 12:\n",
    "        if week_of_month == 3:\n",
    "            return 2\n",
    "        elif week_of_month == 4:\n",
    "            return 3\n",
    "        elif week_of_month == 5:\n",
    "            return 1\n",
    "    return 0"
   ]
  },
  {
   "cell_type": "code",
   "execution_count": 276,
   "id": "d74825cc-b382-46bb-9f19-4bb7095cc418",
   "metadata": {},
   "outputs": [],
   "source": [
    "df['IsChristmasWeek'] = df['Date'].apply(lambda date: christmas_week(date))\n",
    "test['IsChristmasWeek'] = test['Date'].apply(lambda date: christmas_week(date))"
   ]
  },
  {
   "cell_type": "code",
   "execution_count": 277,
   "id": "b68cf575-7b3b-4c7f-b10d-b4826ff55d58",
   "metadata": {},
   "outputs": [
    {
     "data": {
      "text/html": [
       "<div>\n",
       "<style scoped>\n",
       "    .dataframe tbody tr th:only-of-type {\n",
       "        vertical-align: middle;\n",
       "    }\n",
       "\n",
       "    .dataframe tbody tr th {\n",
       "        vertical-align: top;\n",
       "    }\n",
       "\n",
       "    .dataframe thead th {\n",
       "        text-align: right;\n",
       "    }\n",
       "</style>\n",
       "<table border=\"1\" class=\"dataframe\">\n",
       "  <thead>\n",
       "    <tr style=\"text-align: right;\">\n",
       "      <th></th>\n",
       "      <th>Store</th>\n",
       "      <th>Date</th>\n",
       "      <th>Temperature</th>\n",
       "      <th>Fuel_Price</th>\n",
       "      <th>Promotion1</th>\n",
       "      <th>Promotion2</th>\n",
       "      <th>Promotion3</th>\n",
       "      <th>Promotion4</th>\n",
       "      <th>Promotion5</th>\n",
       "      <th>Unemployment</th>\n",
       "      <th>IsHoliday</th>\n",
       "      <th>Weekly_Sales</th>\n",
       "      <th>Year</th>\n",
       "      <th>Month</th>\n",
       "      <th>Day</th>\n",
       "      <th>Day_Range</th>\n",
       "      <th>Promotion_Cost</th>\n",
       "      <th>WeekOfMonth</th>\n",
       "      <th>IsChristmasWeek</th>\n",
       "    </tr>\n",
       "  </thead>\n",
       "  <tbody>\n",
       "    <tr>\n",
       "      <th>0</th>\n",
       "      <td>1</td>\n",
       "      <td>2010-05-02</td>\n",
       "      <td>5.727778</td>\n",
       "      <td>2.572</td>\n",
       "      <td>-1.0</td>\n",
       "      <td>-1.0</td>\n",
       "      <td>-1.0</td>\n",
       "      <td>-1.0</td>\n",
       "      <td>-1.0</td>\n",
       "      <td>8.106</td>\n",
       "      <td>0</td>\n",
       "      <td>1643690.90</td>\n",
       "      <td>2010</td>\n",
       "      <td>5</td>\n",
       "      <td>2</td>\n",
       "      <td>121</td>\n",
       "      <td>-5.0</td>\n",
       "      <td>1</td>\n",
       "      <td>0</td>\n",
       "    </tr>\n",
       "    <tr>\n",
       "      <th>1</th>\n",
       "      <td>1</td>\n",
       "      <td>2010-12-02</td>\n",
       "      <td>3.616667</td>\n",
       "      <td>2.548</td>\n",
       "      <td>-1.0</td>\n",
       "      <td>-1.0</td>\n",
       "      <td>-1.0</td>\n",
       "      <td>-1.0</td>\n",
       "      <td>-1.0</td>\n",
       "      <td>8.106</td>\n",
       "      <td>1</td>\n",
       "      <td>1641957.44</td>\n",
       "      <td>2010</td>\n",
       "      <td>12</td>\n",
       "      <td>2</td>\n",
       "      <td>335</td>\n",
       "      <td>-5.0</td>\n",
       "      <td>1</td>\n",
       "      <td>0</td>\n",
       "    </tr>\n",
       "    <tr>\n",
       "      <th>2</th>\n",
       "      <td>1</td>\n",
       "      <td>2010-02-19</td>\n",
       "      <td>4.405556</td>\n",
       "      <td>2.514</td>\n",
       "      <td>-1.0</td>\n",
       "      <td>-1.0</td>\n",
       "      <td>-1.0</td>\n",
       "      <td>-1.0</td>\n",
       "      <td>-1.0</td>\n",
       "      <td>8.106</td>\n",
       "      <td>0</td>\n",
       "      <td>1611968.17</td>\n",
       "      <td>2010</td>\n",
       "      <td>2</td>\n",
       "      <td>19</td>\n",
       "      <td>49</td>\n",
       "      <td>-5.0</td>\n",
       "      <td>3</td>\n",
       "      <td>0</td>\n",
       "    </tr>\n",
       "    <tr>\n",
       "      <th>3</th>\n",
       "      <td>1</td>\n",
       "      <td>2010-02-26</td>\n",
       "      <td>8.127778</td>\n",
       "      <td>2.561</td>\n",
       "      <td>-1.0</td>\n",
       "      <td>-1.0</td>\n",
       "      <td>-1.0</td>\n",
       "      <td>-1.0</td>\n",
       "      <td>-1.0</td>\n",
       "      <td>8.106</td>\n",
       "      <td>0</td>\n",
       "      <td>1409727.59</td>\n",
       "      <td>2010</td>\n",
       "      <td>2</td>\n",
       "      <td>26</td>\n",
       "      <td>56</td>\n",
       "      <td>-5.0</td>\n",
       "      <td>4</td>\n",
       "      <td>0</td>\n",
       "    </tr>\n",
       "    <tr>\n",
       "      <th>4</th>\n",
       "      <td>1</td>\n",
       "      <td>2010-05-03</td>\n",
       "      <td>8.055556</td>\n",
       "      <td>2.625</td>\n",
       "      <td>-1.0</td>\n",
       "      <td>-1.0</td>\n",
       "      <td>-1.0</td>\n",
       "      <td>-1.0</td>\n",
       "      <td>-1.0</td>\n",
       "      <td>8.106</td>\n",
       "      <td>0</td>\n",
       "      <td>1554806.68</td>\n",
       "      <td>2010</td>\n",
       "      <td>5</td>\n",
       "      <td>3</td>\n",
       "      <td>122</td>\n",
       "      <td>-5.0</td>\n",
       "      <td>1</td>\n",
       "      <td>0</td>\n",
       "    </tr>\n",
       "  </tbody>\n",
       "</table>\n",
       "</div>"
      ],
      "text/plain": [
       "   Store       Date  Temperature  Fuel_Price  Promotion1  Promotion2  \\\n",
       "0      1 2010-05-02     5.727778       2.572        -1.0        -1.0   \n",
       "1      1 2010-12-02     3.616667       2.548        -1.0        -1.0   \n",
       "2      1 2010-02-19     4.405556       2.514        -1.0        -1.0   \n",
       "3      1 2010-02-26     8.127778       2.561        -1.0        -1.0   \n",
       "4      1 2010-05-03     8.055556       2.625        -1.0        -1.0   \n",
       "\n",
       "   Promotion3  Promotion4  Promotion5  Unemployment  IsHoliday  Weekly_Sales  \\\n",
       "0        -1.0        -1.0        -1.0         8.106          0    1643690.90   \n",
       "1        -1.0        -1.0        -1.0         8.106          1    1641957.44   \n",
       "2        -1.0        -1.0        -1.0         8.106          0    1611968.17   \n",
       "3        -1.0        -1.0        -1.0         8.106          0    1409727.59   \n",
       "4        -1.0        -1.0        -1.0         8.106          0    1554806.68   \n",
       "\n",
       "   Year  Month  Day  Day_Range  Promotion_Cost  WeekOfMonth  IsChristmasWeek  \n",
       "0  2010      5    2        121            -5.0            1                0  \n",
       "1  2010     12    2        335            -5.0            1                0  \n",
       "2  2010      2   19         49            -5.0            3                0  \n",
       "3  2010      2   26         56            -5.0            4                0  \n",
       "4  2010      5    3        122            -5.0            1                0  "
      ]
     },
     "execution_count": 277,
     "metadata": {},
     "output_type": "execute_result"
    }
   ],
   "source": [
    "df.head()"
   ]
  },
  {
   "cell_type": "markdown",
   "id": "b87da657-4585-482a-8ae1-66e4514a9757",
   "metadata": {},
   "source": [
    "- 쇼핑몰 지점 군집화"
   ]
  },
  {
   "cell_type": "code",
   "execution_count": 17,
   "id": "19d45426-bc8e-4db4-ab03-1e2c7688a405",
   "metadata": {},
   "outputs": [],
   "source": [
    "cor_list = []\n",
    "for store in list(range(1, 46)):\n",
    "    df_ = df.query('Store == @store')\n",
    "    cor = np.corrcoef(df_['Day_Range'], df_['Weekly_Sales'])[1, 0]\n",
    "    cor_list.append(cor)"
   ]
  },
  {
   "cell_type": "code",
   "execution_count": 18,
   "id": "971351b6-706a-4187-90ce-cdf43f5ec905",
   "metadata": {},
   "outputs": [
    {
     "data": {
      "text/plain": [
       "<AxesSubplot:xlabel='Weekly_Sales', ylabel='Count'>"
      ]
     },
     "execution_count": 18,
     "metadata": {},
     "output_type": "execute_result"
    },
    {
     "data": {
      "image/png": "[encoded data removed]",
      "text/plain": [
       "<Figure size 432x288 with 1 Axes>"
      ]
     },
     "metadata": {
      "needs_background": "light"
     },
     "output_type": "display_data"
    }
   ],
   "source": [
    "sns.histplot(data=df, x='Weekly_Sales', kde=True)"
   ]
  },
  {
   "cell_type": "code",
   "execution_count": 19,
   "id": "1ecaf6f5-c942-4b20-b350-e59aff4c5dc7",
   "metadata": {},
   "outputs": [
    {
     "data": {
      "text/plain": [
       "<AxesSubplot:xlabel='Store', ylabel='Weekly_Sales'>"
      ]
     },
     "execution_count": 19,
     "metadata": {},
     "output_type": "execute_result"
    },
    {
     "data": {
      "image/png": "[encoded data removed]",
      "text/plain": [
       "<Figure size 1152x576 with 1 Axes>"
      ]
     },
     "metadata": {
      "needs_background": "light"
     },
     "output_type": "display_data"
    }
   ],
   "source": [
    "plt.figure(figsize=(16, 8))\n",
    "sns.boxplot(data=df, y='Weekly_Sales', x='Store')"
   ]
  },
  {
   "cell_type": "markdown",
   "id": "9ddafce2-0169-4612-bd4d-9c3a7e419ffe",
   "metadata": {},
   "source": [
    "`-` 비슷한 분포를 띄는 쇼핑몰 지점을 군집화하자 (매출액의 중앙값과 IQR, 지난 일수와의 상관계수가 비슷해야 함)"
   ]
  },
  {
   "cell_type": "code",
   "execution_count": 18,
   "id": "0a65c071-99cd-4935-9f36-a884c5e8b31a",
   "metadata": {},
   "outputs": [],
   "source": [
    "tmp = df.groupby(by='Store').agg({'Weekly_Sales':[np.median, lambda x: np.quantile(x, q=0.75) - np.quantile(x, q=0.25)]}).\\\n",
    "        reset_index().rename(columns={'<lambda_0>':'IQR'}).melt(id_vars='Store').\\\n",
    "        rename(columns={'variable_1':'statistic'}).drop('variable_0', axis=1)"
   ]
  },
  {
   "cell_type": "code",
   "execution_count": 21,
   "id": "0929a908-8c8a-4206-b58a-b930d0c2e6ea",
   "metadata": {},
   "outputs": [
    {
     "data": {
      "text/plain": [
       "<AxesSubplot:>"
      ]
     },
     "execution_count": 21,
     "metadata": {},
     "output_type": "execute_result"
    },
    {
     "data": {
      "image/png": "[encoded data removed]",
      "text/plain": [
       "<Figure size 432x288 with 1 Axes>"
      ]
     },
     "metadata": {
      "needs_background": "light"
     },
     "output_type": "display_data"
    }
   ],
   "source": [
    "tmp.query('statistic == \"median\"').value.plot.box()"
   ]
  },
  {
   "cell_type": "code",
   "execution_count": 22,
   "id": "d6e7d86d-2486-4486-a73b-a0b51074fc5b",
   "metadata": {},
   "outputs": [
    {
     "data": {
      "text/plain": [
       "<AxesSubplot:>"
      ]
     },
     "execution_count": 22,
     "metadata": {},
     "output_type": "execute_result"
    },
    {
     "data": {
      "image/png": "[encoded data removed]",
      "text/plain": [
       "<Figure size 432x288 with 1 Axes>"
      ]
     },
     "metadata": {
      "needs_background": "light"
     },
     "output_type": "display_data"
    }
   ],
   "source": [
    "tmp.query('statistic == \"IQR\"').value.plot.box()"
   ]
  },
  {
   "cell_type": "markdown",
   "id": "019a3a37-7bb2-4604-8fb3-d53b7b9e93f8",
   "metadata": {},
   "source": [
    "`-` 매출액의 중앙값과 사분위수 범위가 비슷한 쇼핑몰 지점끼리 군집화하겠다\n",
    "\n",
    "`-` 나의 능지 문제로 일단은 일일이 분류하겠다\n",
    "\n",
    "`-` 나중에 함수로 만들든 클래스로 만들든 해가지고 이를 사용해 분류하겠다\n"
   ]
  },
  {
   "cell_type": "code",
   "execution_count": 19,
   "id": "c9676103-9149-496c-9c8f-2499104ced05",
   "metadata": {},
   "outputs": [],
   "source": [
    "median_bins = [-np.inf]\n",
    "for i in range(1, 8):\n",
    "    value = np.quantile(tmp.query('statistic == \"median\"').value, q=i/8)\n",
    "    median_bins.append(value)\n",
    "median_bins.append(np.inf)"
   ]
  },
  {
   "cell_type": "code",
   "execution_count": 20,
   "id": "9da0b52c-848a-4c96-b22c-e74c33ab154c",
   "metadata": {},
   "outputs": [],
   "source": [
    "cuts = pd.cut(tmp.query('statistic == \"median\"').value, bins=median_bins, labels=list(range(1, 9)))"
   ]
  },
  {
   "cell_type": "code",
   "execution_count": 21,
   "id": "285d624e-9af7-40f2-b8ba-cf5d2e947386",
   "metadata": {},
   "outputs": [],
   "source": [
    "store_df = pd.DataFrame(data=range(1, 46), columns=['Store'])"
   ]
  },
  {
   "cell_type": "code",
   "execution_count": 22,
   "id": "44cd8ebf-ac89-4a0b-8b51-d0651adb0370",
   "metadata": {},
   "outputs": [],
   "source": [
    "store_df['Cut'] = cuts"
   ]
  },
  {
   "cell_type": "code",
   "execution_count": 23,
   "id": "cd84a69d-360c-4271-a9ae-d113ef535c17",
   "metadata": {},
   "outputs": [],
   "source": [
    "store_df = store_df.merge(tmp.query('statistic == \"median\"').drop('statistic', axis=1)).\\\n",
    "                    rename(columns={'value':'median'}).\\\n",
    "                    merge(tmp.query('statistic == \"IQR\"').drop('statistic', axis=1)).\\\n",
    "                    rename(columns={'value':'IQR'})"
   ]
  },
  {
   "cell_type": "code",
   "execution_count": 34,
   "id": "bba4e53a-9abb-4f84-ab9e-df160c8aef8e",
   "metadata": {},
   "outputs": [
    {
     "data": {
      "text/html": [
       "<div>\n",
       "<style scoped>\n",
       "    .dataframe tbody tr th:only-of-type {\n",
       "        vertical-align: middle;\n",
       "    }\n",
       "\n",
       "    .dataframe tbody tr th {\n",
       "        vertical-align: top;\n",
       "    }\n",
       "\n",
       "    .dataframe thead th {\n",
       "        text-align: right;\n",
       "    }\n",
       "</style>\n",
       "<table border=\"1\" class=\"dataframe\">\n",
       "  <thead>\n",
       "    <tr style=\"text-align: right;\">\n",
       "      <th></th>\n",
       "      <th>Store</th>\n",
       "      <th>Cut</th>\n",
       "      <th>median</th>\n",
       "      <th>IQR</th>\n",
       "    </tr>\n",
       "  </thead>\n",
       "  <tbody>\n",
       "    <tr>\n",
       "      <th>32</th>\n",
       "      <td>33</td>\n",
       "      <td>1</td>\n",
       "      <td>258427.39</td>\n",
       "      <td>32983.995</td>\n",
       "    </tr>\n",
       "    <tr>\n",
       "      <th>43</th>\n",
       "      <td>44</td>\n",
       "      <td>1</td>\n",
       "      <td>296947.06</td>\n",
       "      <td>33261.035</td>\n",
       "    </tr>\n",
       "    <tr>\n",
       "      <th>4</th>\n",
       "      <td>5</td>\n",
       "      <td>1</td>\n",
       "      <td>310013.11</td>\n",
       "      <td>35965.040</td>\n",
       "    </tr>\n",
       "    <tr>\n",
       "      <th>35</th>\n",
       "      <td>36</td>\n",
       "      <td>1</td>\n",
       "      <td>374182.04</td>\n",
       "      <td>102919.525</td>\n",
       "    </tr>\n",
       "    <tr>\n",
       "      <th>37</th>\n",
       "      <td>38</td>\n",
       "      <td>1</td>\n",
       "      <td>378539.17</td>\n",
       "      <td>63063.615</td>\n",
       "    </tr>\n",
       "    <tr>\n",
       "      <th>2</th>\n",
       "      <td>3</td>\n",
       "      <td>1</td>\n",
       "      <td>394918.83</td>\n",
       "      <td>52937.615</td>\n",
       "    </tr>\n",
       "    <tr>\n",
       "      <th>29</th>\n",
       "      <td>30</td>\n",
       "      <td>2</td>\n",
       "      <td>438068.71</td>\n",
       "      <td>26957.145</td>\n",
       "    </tr>\n",
       "    <tr>\n",
       "      <th>15</th>\n",
       "      <td>16</td>\n",
       "      <td>2</td>\n",
       "      <td>509942.56</td>\n",
       "      <td>102416.915</td>\n",
       "    </tr>\n",
       "    <tr>\n",
       "      <th>36</th>\n",
       "      <td>37</td>\n",
       "      <td>2</td>\n",
       "      <td>517546.69</td>\n",
       "      <td>22461.165</td>\n",
       "    </tr>\n",
       "    <tr>\n",
       "      <th>28</th>\n",
       "      <td>29</td>\n",
       "      <td>2</td>\n",
       "      <td>518628.42</td>\n",
       "      <td>59120.110</td>\n",
       "    </tr>\n",
       "    <tr>\n",
       "      <th>8</th>\n",
       "      <td>9</td>\n",
       "      <td>2</td>\n",
       "      <td>535153.47</td>\n",
       "      <td>53639.170</td>\n",
       "    </tr>\n",
       "    <tr>\n",
       "      <th>41</th>\n",
       "      <td>42</td>\n",
       "      <td>2</td>\n",
       "      <td>556046.12</td>\n",
       "      <td>76349.830</td>\n",
       "    </tr>\n",
       "    <tr>\n",
       "      <th>6</th>\n",
       "      <td>7</td>\n",
       "      <td>3</td>\n",
       "      <td>558691.43</td>\n",
       "      <td>128057.070</td>\n",
       "    </tr>\n",
       "    <tr>\n",
       "      <th>14</th>\n",
       "      <td>15</td>\n",
       "      <td>3</td>\n",
       "      <td>604173.59</td>\n",
       "      <td>73543.915</td>\n",
       "    </tr>\n",
       "    <tr>\n",
       "      <th>42</th>\n",
       "      <td>43</td>\n",
       "      <td>3</td>\n",
       "      <td>635171.05</td>\n",
       "      <td>55651.930</td>\n",
       "    </tr>\n",
       "    <tr>\n",
       "      <th>24</th>\n",
       "      <td>25</td>\n",
       "      <td>3</td>\n",
       "      <td>684783.15</td>\n",
       "      <td>65973.845</td>\n",
       "    </tr>\n",
       "    <tr>\n",
       "      <th>20</th>\n",
       "      <td>21</td>\n",
       "      <td>3</td>\n",
       "      <td>739279.19</td>\n",
       "      <td>81807.025</td>\n",
       "    </tr>\n",
       "    <tr>\n",
       "      <th>44</th>\n",
       "      <td>45</td>\n",
       "      <td>4</td>\n",
       "      <td>765648.93</td>\n",
       "      <td>80163.700</td>\n",
       "    </tr>\n",
       "    <tr>\n",
       "      <th>34</th>\n",
       "      <td>35</td>\n",
       "      <td>4</td>\n",
       "      <td>849397.57</td>\n",
       "      <td>227665.715</td>\n",
       "    </tr>\n",
       "    <tr>\n",
       "      <th>16</th>\n",
       "      <td>17</td>\n",
       "      <td>4</td>\n",
       "      <td>871264.25</td>\n",
       "      <td>121035.165</td>\n",
       "    </tr>\n",
       "    <tr>\n",
       "      <th>7</th>\n",
       "      <td>8</td>\n",
       "      <td>4</td>\n",
       "      <td>892393.77</td>\n",
       "      <td>75346.820</td>\n",
       "    </tr>\n",
       "    <tr>\n",
       "      <th>33</th>\n",
       "      <td>34</td>\n",
       "      <td>4</td>\n",
       "      <td>949625.52</td>\n",
       "      <td>62275.570</td>\n",
       "    </tr>\n",
       "    <tr>\n",
       "      <th>39</th>\n",
       "      <td>40</td>\n",
       "      <td>4</td>\n",
       "      <td>954233.87</td>\n",
       "      <td>105682.575</td>\n",
       "    </tr>\n",
       "    <tr>\n",
       "      <th>11</th>\n",
       "      <td>12</td>\n",
       "      <td>5</td>\n",
       "      <td>985594.23</td>\n",
       "      <td>108909.805</td>\n",
       "    </tr>\n",
       "    <tr>\n",
       "      <th>21</th>\n",
       "      <td>22</td>\n",
       "      <td>5</td>\n",
       "      <td>993436.67</td>\n",
       "      <td>93191.130</td>\n",
       "    </tr>\n",
       "    <tr>\n",
       "      <th>25</th>\n",
       "      <td>26</td>\n",
       "      <td>5</td>\n",
       "      <td>996723.58</td>\n",
       "      <td>124567.910</td>\n",
       "    </tr>\n",
       "    <tr>\n",
       "      <th>17</th>\n",
       "      <td>18</td>\n",
       "      <td>5</td>\n",
       "      <td>1057425.83</td>\n",
       "      <td>138968.115</td>\n",
       "    </tr>\n",
       "    <tr>\n",
       "      <th>31</th>\n",
       "      <td>32</td>\n",
       "      <td>5</td>\n",
       "      <td>1144254.26</td>\n",
       "      <td>88372.920</td>\n",
       "    </tr>\n",
       "    <tr>\n",
       "      <th>40</th>\n",
       "      <td>41</td>\n",
       "      <td>6</td>\n",
       "      <td>1239423.19</td>\n",
       "      <td>167426.540</td>\n",
       "    </tr>\n",
       "    <tr>\n",
       "      <th>27</th>\n",
       "      <td>28</td>\n",
       "      <td>6</td>\n",
       "      <td>1267619.06</td>\n",
       "      <td>261906.240</td>\n",
       "    </tr>\n",
       "    <tr>\n",
       "      <th>10</th>\n",
       "      <td>11</td>\n",
       "      <td>6</td>\n",
       "      <td>1323999.36</td>\n",
       "      <td>130086.225</td>\n",
       "    </tr>\n",
       "    <tr>\n",
       "      <th>23</th>\n",
       "      <td>24</td>\n",
       "      <td>6</td>\n",
       "      <td>1339630.35</td>\n",
       "      <td>154705.055</td>\n",
       "    </tr>\n",
       "    <tr>\n",
       "      <th>22</th>\n",
       "      <td>23</td>\n",
       "      <td>6</td>\n",
       "      <td>1346345.97</td>\n",
       "      <td>186521.055</td>\n",
       "    </tr>\n",
       "    <tr>\n",
       "      <th>30</th>\n",
       "      <td>31</td>\n",
       "      <td>6</td>\n",
       "      <td>1378340.18</td>\n",
       "      <td>92134.875</td>\n",
       "    </tr>\n",
       "    <tr>\n",
       "      <th>18</th>\n",
       "      <td>19</td>\n",
       "      <td>7</td>\n",
       "      <td>1411835.57</td>\n",
       "      <td>136072.395</td>\n",
       "    </tr>\n",
       "    <tr>\n",
       "      <th>38</th>\n",
       "      <td>39</td>\n",
       "      <td>7</td>\n",
       "      <td>1412065.04</td>\n",
       "      <td>197623.025</td>\n",
       "    </tr>\n",
       "    <tr>\n",
       "      <th>5</th>\n",
       "      <td>6</td>\n",
       "      <td>7</td>\n",
       "      <td>1526801.24</td>\n",
       "      <td>172196.575</td>\n",
       "    </tr>\n",
       "    <tr>\n",
       "      <th>0</th>\n",
       "      <td>1</td>\n",
       "      <td>7</td>\n",
       "      <td>1534849.64</td>\n",
       "      <td>158931.905</td>\n",
       "    </tr>\n",
       "    <tr>\n",
       "      <th>26</th>\n",
       "      <td>27</td>\n",
       "      <td>7</td>\n",
       "      <td>1744879.06</td>\n",
       "      <td>241070.095</td>\n",
       "    </tr>\n",
       "    <tr>\n",
       "      <th>9</th>\n",
       "      <td>10</td>\n",
       "      <td>8</td>\n",
       "      <td>1827797.40</td>\n",
       "      <td>205871.625</td>\n",
       "    </tr>\n",
       "    <tr>\n",
       "      <th>1</th>\n",
       "      <td>2</td>\n",
       "      <td>8</td>\n",
       "      <td>1879107.31</td>\n",
       "      <td>154323.830</td>\n",
       "    </tr>\n",
       "    <tr>\n",
       "      <th>12</th>\n",
       "      <td>13</td>\n",
       "      <td>8</td>\n",
       "      <td>1955689.12</td>\n",
       "      <td>167044.580</td>\n",
       "    </tr>\n",
       "    <tr>\n",
       "      <th>13</th>\n",
       "      <td>14</td>\n",
       "      <td>8</td>\n",
       "      <td>2019031.67</td>\n",
       "      <td>253469.580</td>\n",
       "    </tr>\n",
       "    <tr>\n",
       "      <th>19</th>\n",
       "      <td>20</td>\n",
       "      <td>8</td>\n",
       "      <td>2053165.41</td>\n",
       "      <td>195782.720</td>\n",
       "    </tr>\n",
       "    <tr>\n",
       "      <th>3</th>\n",
       "      <td>4</td>\n",
       "      <td>8</td>\n",
       "      <td>2065377.15</td>\n",
       "      <td>245935.340</td>\n",
       "    </tr>\n",
       "  </tbody>\n",
       "</table>\n",
       "</div>"
      ],
      "text/plain": [
       "    Store Cut      median         IQR\n",
       "32     33   1   258427.39   32983.995\n",
       "43     44   1   296947.06   33261.035\n",
       "4       5   1   310013.11   35965.040\n",
       "35     36   1   374182.04  102919.525\n",
       "37     38   1   378539.17   63063.615\n",
       "2       3   1   394918.83   52937.615\n",
       "29     30   2   438068.71   26957.145\n",
       "15     16   2   509942.56  102416.915\n",
       "36     37   2   517546.69   22461.165\n",
       "28     29   2   518628.42   59120.110\n",
       "8       9   2   535153.47   53639.170\n",
       "41     42   2   556046.12   76349.830\n",
       "6       7   3   558691.43  128057.070\n",
       "14     15   3   604173.59   73543.915\n",
       "42     43   3   635171.05   55651.930\n",
       "24     25   3   684783.15   65973.845\n",
       "20     21   3   739279.19   81807.025\n",
       "44     45   4   765648.93   80163.700\n",
       "34     35   4   849397.57  227665.715\n",
       "16     17   4   871264.25  121035.165\n",
       "7       8   4   892393.77   75346.820\n",
       "33     34   4   949625.52   62275.570\n",
       "39     40   4   954233.87  105682.575\n",
       "11     12   5   985594.23  108909.805\n",
       "21     22   5   993436.67   93191.130\n",
       "25     26   5   996723.58  124567.910\n",
       "17     18   5  1057425.83  138968.115\n",
       "31     32   5  1144254.26   88372.920\n",
       "40     41   6  1239423.19  167426.540\n",
       "27     28   6  1267619.06  261906.240\n",
       "10     11   6  1323999.36  130086.225\n",
       "23     24   6  1339630.35  154705.055\n",
       "22     23   6  1346345.97  186521.055\n",
       "30     31   6  1378340.18   92134.875\n",
       "18     19   7  1411835.57  136072.395\n",
       "38     39   7  1412065.04  197623.025\n",
       "5       6   7  1526801.24  172196.575\n",
       "0       1   7  1534849.64  158931.905\n",
       "26     27   7  1744879.06  241070.095\n",
       "9      10   8  1827797.40  205871.625\n",
       "1       2   8  1879107.31  154323.830\n",
       "12     13   8  1955689.12  167044.580\n",
       "13     14   8  2019031.67  253469.580\n",
       "19     20   8  2053165.41  195782.720\n",
       "3       4   8  2065377.15  245935.340"
      ]
     },
     "execution_count": 34,
     "metadata": {},
     "output_type": "execute_result"
    }
   ],
   "source": [
    "store_df.sort_values(['Cut','median'])"
   ]
  },
  {
   "cell_type": "markdown",
   "id": "5dc01928-61e9-4f31-ba43-093f1e28f86e",
   "metadata": {},
   "source": [
    "- 사후처리"
   ]
  },
  {
   "cell_type": "markdown",
   "id": "0ba896f4-a526-4aeb-bbdc-19349a34e7e7",
   "metadata": {},
   "source": [
    "`-` 군집내에서 쇼핑몰 지점별 중앙값의 차이가 큰 경우 군집을 쪼개겠다\n",
    "\n",
    "`-` 또한, 군집내에서 사분위수 범위가 유사한 것끼리 다시 군집화하겠다\n",
    "\n",
    "`-` 성능을 올리기 위해선 필수이다"
   ]
  },
  {
   "cell_type": "markdown",
   "id": "a0e5f4b1-5bb3-46ba-a5a6-6800ae648eaf",
   "metadata": {},
   "source": [
    "|군집 번호| 매출액의 범위|쇼핑몰 지점|\n",
    "|:-:|:-:|:-:|\n",
    "|1|$<416493$|33, 44, 5, 36, 38, 3|\n",
    "|2|$<556046$|30, 16, 37, 29, 9 ,42|\n",
    "|3|$<752464$|7, 15, 43, 25, 21|\n",
    "|4|$<954233$|45, 35, 17, 8, 34, 40|\n",
    "|5|$<1191838$|12, 22, 26, 18, 32|\n",
    "|6|$<1378340$|41, 28, 11, 24, 23, 31|\n",
    "|7|$<1786338$|19, 39, 6, 1, 27|\n",
    "|8|$\\geq 1786338$|10, 2, 13, 14, 20, 4|"
   ]
  },
  {
   "cell_type": "markdown",
   "id": "de5b035c-c9eb-4f84-8830-6d6262744dba",
   "metadata": {},
   "source": [
    "`-` 그룹 8 다시 분류\n",
    "\n",
    "2와 10, 13, 14, 20, 4\n",
    "\n",
    "`-` 그룹 7 다시 분류\n",
    "\n",
    "19, 39, 6,  1, 27\n",
    "\n",
    "`-` 그룹 6 다시 분류\n",
    "\n",
    "24, 23, 31, 11과 24, 41, 28\n",
    "\n",
    "`-` 그룹 5 다시 분류\n",
    "\n",
    "18, 32, 12, 22, 26\n",
    "\n",
    "`-` 그룹 4 다시 분류\n",
    "\n",
    "34와 40, 17, 35, 8\n",
    "\n",
    "`-` 그룹 3 다시 분류\n",
    "\n",
    "45(그룹3과 4의 경계)와 21, 25, 43(특별함), 7, 15\n",
    "\n",
    "`-` 그룹 2 다시 분류\n",
    "\n",
    "42(특별함), 37(특별함), 30(특별함), 16, 29, 9\n",
    "\n",
    "`-` 그룹 1 다시 분류\n",
    "\n",
    "36(하강), 38(상승), 33(특별함), 5, 44"
   ]
  },
  {
   "cell_type": "markdown",
   "id": "59968887-e8a3-4005-8a04-2cf2726b8b53",
   "metadata": {},
   "source": [
    "## 모델링"
   ]
  },
  {
   "cell_type": "code",
   "execution_count": 164,
   "id": "2d65b996-5574-40fb-afcb-cf7884876034",
   "metadata": {},
   "outputs": [],
   "source": [
    "from sklearn.model_selection import KFold, StratifiedKFold\n",
    "from sklearn.ensemble import RandomForestRegressor, ExtraTreesRegressor, GradientBoostingRegressor\n",
    "from catboost import CatBoostRegressor\n",
    "from xgboost import XGBRegressor\n",
    "from lightgbm import LGBMRegressor"
   ]
  },
  {
   "cell_type": "code",
   "execution_count": 127,
   "id": "094cec7a-7103-4880-932e-d15cc820fbb6",
   "metadata": {},
   "outputs": [],
   "source": [
    "SEED = 22"
   ]
  },
  {
   "cell_type": "code",
   "execution_count": 128,
   "id": "408976dc-fd3b-41ea-a369-324804faebad",
   "metadata": {},
   "outputs": [],
   "source": [
    "def RMSE(true, pred):\n",
    "    score = np.sqrt(np.mean(np.square(true - pred)))\n",
    "    return score"
   ]
  },
  {
   "cell_type": "code",
   "execution_count": 202,
   "id": "bdc4e912-efed-4db7-a753-0b3e346164af",
   "metadata": {},
   "outputs": [],
   "source": [
    "def OOF_predict(model, X, y, test, SKfold, stratify=None, original_score=False):\n",
    "    \"\"\"\n",
    "    Out-Of-Fold 방식을 통해 test(numeric)를 예측\n",
    "    train, valid에 대한 RMSE score와 예측한 test를 return\n",
    "    \"\"\" \n",
    "    model_valid_SAE = []\n",
    "    model_train_score = []\n",
    "    model_valid_score = []\n",
    "    model_pred = np.zeros(shape=(test.shape[0]))\n",
    "    \n",
    "    if stratify is not None:\n",
    "        split_fold = SKfold.split(X, X[stratify])\n",
    "    else:\n",
    "        split_fold = SKfold.split(X)\n",
    "\n",
    "    for i, (train_idx, valid_idx) in enumerate(split_fold):\n",
    "        # print(f'({i + 1} / {SKfold.n_splits}) Fold Training......')\n",
    "        X_train, y_train = X.iloc[train_idx], y.iloc[train_idx]\n",
    "        X_valid, y_valid = X.iloc[valid_idx], y.iloc[valid_idx]\n",
    "        \n",
    "        ## 모델 적합\n",
    "        model.fit(X_train,\n",
    "                  y_train,\n",
    "                  eval_set=[(X_train, y_train), (X_valid, y_valid)],\n",
    "                  #eval_metric='rmse', \n",
    "                  verbose=0,\n",
    "                  early_stopping_rounds=200\n",
    "                 )\n",
    "        \n",
    "        ## prediction\n",
    "        train_pred = model.predict(X_train) ## train\n",
    "        valid_pred = model.predict(X_valid) ## valid\n",
    "        test_pred = model.predict(test) ## test\n",
    "        \n",
    "        model_train_score.append(RMSE(y_train, train_pred)) ## train RMSE\n",
    "        model_valid_score.append(RMSE(y_valid, valid_pred)) ## valid RMSE\n",
    "        model_valid_SAE.append(np.square(y_valid, valid_pred)) ## square of absolute error\n",
    "        model_pred += test_pred / SKfold.n_splits ## test 예측값(k Fold)\n",
    "              \n",
    "    if original_score:\n",
    "        return model_train_score, model_valid_score, model_valid_SAE, model_pred\n",
    "    return model_train_score, model_valid_score, model_pred"
   ]
  },
  {
   "cell_type": "markdown",
   "id": "72c63def-15e8-46e6-b14a-a5d95c54fdb3",
   "metadata": {},
   "source": [
    "`-` 랜덤 포레스트 모델과 그래디언트 부스팅 모델은 성능이 좋지 않았다"
   ]
  },
  {
   "cell_type": "code",
   "execution_count": 181,
   "id": "a80591ba-661e-4a27-a8d0-2dc221698df9",
   "metadata": {},
   "outputs": [],
   "source": [
    "CB = CatBoostRegressor(use_best_model=True,\n",
    "                       random_state=SEED,\n",
    "                       #min_data_in_leaf=3,\n",
    "                       verbose=0)"
   ]
  },
  {
   "cell_type": "code",
   "execution_count": 137,
   "id": "191f3965-fccd-40d6-b912-4fed31f96e8a",
   "metadata": {},
   "outputs": [],
   "source": [
    "CB = CatBoostRegressor(n_estimators=3000,\n",
    "                       learning_rate=0.03,\n",
    "                       max_depth=7,\n",
    "                       use_best_model=True,\n",
    "                       random_state=SEED,\n",
    "                       verbose=0)\n",
    "\n",
    "XGB = XGBRegressor(n_estimators=3000,\n",
    "                   learning_rate=0.03,\n",
    "                   max_depth=6,\n",
    "                   random_state=SEED)\n",
    "\n",
    "LGBM = LGBMRegressor(n_estimators=3000,\n",
    "                     learning_rate=0.03,\n",
    "                     max_depth=10,\n",
    "                     min_child_samples=2,\n",
    "                     random_state=SEED)"
   ]
  },
  {
   "cell_type": "markdown",
   "id": "61d65f94-0541-4825-9014-c53e557654ad",
   "metadata": {},
   "source": [
    "- Month 변수를 1월, 12월, 그 외 나머지로 구성"
   ]
  },
  {
   "cell_type": "code",
   "execution_count": 259,
   "id": "f5bf7d84-04a8-475d-9759-7ade3a4044df",
   "metadata": {},
   "outputs": [],
   "source": [
    "# df['Month2'] = df['Month'].apply(lambda x: 0 if x == 1 else (1 if x != 12 else 2))\n",
    "# test['Month2'] = test['Month'].apply(lambda x: 0 if x == 1 else (1 if x != 12 else 2))"
   ]
  },
  {
   "cell_type": "markdown",
   "id": "c0cc55cd-4630-44cb-ab1d-2cecb9d27680",
   "metadata": {},
   "source": [
    "- 사용할 변수"
   ]
  },
  {
   "cell_type": "markdown",
   "id": "cbf1027c-4cd2-4099-aef1-fd06e1e0d07c",
   "metadata": {},
   "source": [
    "`-` 데이터가 일주일 간격으로 존재하여 `Day` 변수도 추가했다 (하루 간격이었으면 제외했음)\n",
    "\n",
    "`-` `Day_Range` 변수는 기온에 대한 정보와 날짜 정보를 담고 있다"
   ]
  },
  {
   "cell_type": "code",
   "execution_count": 260,
   "id": "8a1b5679-4152-4f71-87d1-1ee278346ab1",
   "metadata": {},
   "outputs": [],
   "source": [
    "features = [\n",
    "            'Store',\n",
    "            'Temperature',\n",
    "            'Fuel_Price',\n",
    "            'Unemployment',\n",
    "            #'IsHoliday',\n",
    "            #'Promotion_Cost',\n",
    "            'Year',\n",
    "            'Day',\n",
    "            'IsChristmasWeek',\n",
    "            'Month',\n",
    "            #'Month2',\n",
    "            'WeekOfMonth',\n",
    "            'Day_Range',\n",
    "           ]"
   ]
  },
  {
   "cell_type": "code",
   "execution_count": 261,
   "id": "c2c65ee3-530a-4e19-a7f6-9d926fcc2a9b",
   "metadata": {},
   "outputs": [],
   "source": [
    "target = df['Weekly_Sales']"
   ]
  },
  {
   "cell_type": "code",
   "execution_count": 262,
   "id": "1dc31189-fd92-4224-9505-1efb2b95cf97",
   "metadata": {},
   "outputs": [],
   "source": [
    "df2 = df[features] ## 교호작용 X\n",
    "test2 = test[features]"
   ]
  },
  {
   "cell_type": "code",
   "execution_count": 263,
   "id": "a839b5f6-8dca-4cfb-b426-885350381108",
   "metadata": {},
   "outputs": [],
   "source": [
    "k = 5\n",
    "skfold1 = StratifiedKFold(k, shuffle=True, random_state=SEED)\n",
    "skfold2 = StratifiedKFold(k, shuffle=True, random_state=SEED*2)"
   ]
  },
  {
   "cell_type": "markdown",
   "id": "cac62660-8390-4187-a1ac-53f085a1ee2f",
   "metadata": {},
   "source": [
    "- 모델 학습"
   ]
  },
  {
   "cell_type": "markdown",
   "id": "42c3e04d-5a31-46ee-bf3f-3979fe862bc1",
   "metadata": {},
   "source": [
    "`-` RF, EXT, GD 모델의 성능은 좋지 않다"
   ]
  },
  {
   "cell_type": "markdown",
   "id": "45a510cc-97e2-4273-a804-c9a799c5099a",
   "metadata": {},
   "source": [
    "- RF"
   ]
  },
  {
   "cell_type": "code",
   "execution_count": 106,
   "id": "0f569588-213b-4045-8e95-dabb52f5a6c0",
   "metadata": {},
   "outputs": [
    {
     "name": "stdout",
     "output_type": "stream",
     "text": [
      "RandomForestRegressor -> Mean: 161264.4850842501, Std: 8598.05339970493\n"
     ]
    }
   ],
   "source": [
    "_, RF_valid_RMSE1, RF_test_pred1 = OOF_predict(RF, df2, target, test2, skfold1, stratify='Store')\n",
    "_, RF_valid_RMSE2, RF_test_pred2 = OOF_predict(RF, df2, target, test2, skfold2, stratify='Store')\n",
    "print(f'{RF.__class__.__name__} -> Mean: {np.mean(RF_valid_RMSE1 + RF_valid_RMSE2)}, Std: {np.std(RF_valid_RMSE1 + RF_valid_RMSE2)}')"
   ]
  },
  {
   "cell_type": "markdown",
   "id": "a57ae99d-06c4-4ea1-80ea-2e8165d8a7f2",
   "metadata": {},
   "source": [
    "- EXT"
   ]
  },
  {
   "cell_type": "code",
   "execution_count": 105,
   "id": "f73fdd70-40ca-4d7c-9583-44acfecffeb2",
   "metadata": {},
   "outputs": [
    {
     "name": "stdout",
     "output_type": "stream",
     "text": [
      "ExtraTreesRegressor -> Mean: 154702.36835147176, Std: 8932.41281145462\n"
     ]
    }
   ],
   "source": [
    "_, EXT_valid_RMSE1, EXT_test_pred1 = OOF_predict(EXT, df2, target, test2, skfold1, stratify='Store')\n",
    "_, EXT_valid_RMSE2, EXT_test_pred2 = OOF_predict(EXT, df2, target, test2, skfold2, stratify='Store')\n",
    "print(f'{EXT.__class__.__name__} -> Mean: {np.mean(EXT_valid_RMSE1 + EXT_valid_RMSE2)}, Std: {np.std(EXT_valid_RMSE1 + EXT_valid_RMSE2)}')"
   ]
  },
  {
   "cell_type": "markdown",
   "id": "dd701681-e233-4970-bf40-2380bd137806",
   "metadata": {},
   "source": [
    "- GD"
   ]
  },
  {
   "cell_type": "code",
   "execution_count": 98,
   "id": "1c90bb2a-4c3b-40da-a8c7-a239af4d5770",
   "metadata": {},
   "outputs": [
    {
     "name": "stdout",
     "output_type": "stream",
     "text": [
      "GradientBoostingRegressor -> Mean: 107864.66071510027, Std: 6645.629863025874\n"
     ]
    }
   ],
   "source": [
    "_, GD_valid_RMSE1, GD_test_pred1 = OOF_predict(GD, df2, target, test2, skfold1, stratify='Store')\n",
    "_, GD_valid_RMSE2, GD_test_pred2 = OOF_predict(GD, df2, target, test2, skfold2, stratify='Store')\n",
    "print(f'{GD.__class__.__name__} -> Mean: {np.mean(GD_valid_RMSE1 + GD_valid_RMSE2)}, Std: {np.std(GD_valid_RMSE1 + GD_valid_RMSE2)}')"
   ]
  },
  {
   "cell_type": "markdown",
   "id": "487606d9-2a75-480b-a86b-2265efd8a478",
   "metadata": {},
   "source": [
    "- CB"
   ]
  },
  {
   "cell_type": "code",
   "execution_count": 141,
   "id": "c108685f-8033-495d-9629-07f230fa2853",
   "metadata": {},
   "outputs": [
    {
     "name": "stdout",
     "output_type": "stream",
     "text": [
      "CatBoostRegressor -> Mean: 82722.0130633474, Std: 7682.658217905672\n"
     ]
    }
   ],
   "source": [
    "_, CB_valid_RMSE1, CB_test_pred1 = OOF_predict(CB, df2, target, test2, skfold1, stratify='Store')\n",
    "_, CB_valid_RMSE2, CB_test_pred2 = OOF_predict(CB, df2, target, test2, skfold2, stratify='Store')\n",
    "print(f'{CB.__class__.__name__} -> Mean: {np.mean(CB_valid_RMSE1 + CB_valid_RMSE2)}, Std: {np.std(CB_valid_RMSE1 + CB_valid_RMSE2)}')"
   ]
  },
  {
   "cell_type": "markdown",
   "id": "cfe4e072-a2aa-446a-8c94-0d1d15be8939",
   "metadata": {},
   "source": [
    "- XGB"
   ]
  },
  {
   "cell_type": "code",
   "execution_count": 142,
   "id": "153ed032-04b8-4bfb-b779-303e944faa1e",
   "metadata": {},
   "outputs": [
    {
     "name": "stdout",
     "output_type": "stream",
     "text": [
      "XGBRegressor -> Mean: 95990.43268713747, Std: 10544.859985498664\n"
     ]
    }
   ],
   "source": [
    "_, XGB_valid_RMSE1, XGB_test_pred1 = OOF_predict(XGB, df2, target, test2, skfold1, stratify='Store')\n",
    "_, XGB_valid_RMSE2, XGB_test_pred2 = OOF_predict(XGB, df2, target, test2, skfold2, stratify='Store')\n",
    "print(f'{XGB.__class__.__name__} -> Mean: {np.mean(XGB_valid_RMSE1 + XGB_valid_RMSE2)}, Std: {np.std(XGB_valid_RMSE1 + XGB_valid_RMSE2)}')"
   ]
  },
  {
   "cell_type": "markdown",
   "id": "82085dae-218c-4108-8419-60d6d9269953",
   "metadata": {},
   "source": [
    "- LGBM"
   ]
  },
  {
   "cell_type": "code",
   "execution_count": 140,
   "id": "ac35e856-6a9b-41ee-b062-0e29c384ce7c",
   "metadata": {},
   "outputs": [
    {
     "name": "stdout",
     "output_type": "stream",
     "text": [
      "LGBMRegressor -> Mean: 85635.52555090468, Std: 9292.748045859838\n"
     ]
    }
   ],
   "source": [
    "_, LGBM_valid_RMSE1, LGBM_test_pred1 = OOF_predict(LGBM, df2, target, test2, skfold1, stratify='Store')\n",
    "_, LGBM_valid_RMSE2, LGBM_test_pred2 = OOF_predict(LGBM, df2, target, test2, skfold2, stratify='Store')\n",
    "print(f'{LGBM.__class__.__name__} -> Mean: {np.mean(LGBM_valid_RMSE1 + LGBM_valid_RMSE2)}, Std: {np.std(LGBM_valid_RMSE1 + LGBM_valid_RMSE2)}')"
   ]
  },
  {
   "cell_type": "markdown",
   "id": "17df0ff5-33cf-4d83-9bcd-c76d1e8dd4be",
   "metadata": {},
   "source": [
    "`-` LGBM 모델의 성능이 가장 우수하다"
   ]
  },
  {
   "cell_type": "markdown",
   "id": "8a27ecbc-fe2d-4752-9eda-96b881c5a5d2",
   "metadata": {},
   "source": [
    "- test 예측 및 제출"
   ]
  },
  {
   "cell_type": "markdown",
   "id": "3cf8a8dd-9b92-4267-9faa-8eb75c59597f",
   "metadata": {},
   "source": [
    "`-` test 데이터의 경우 행이 180개로 train 데이터에 비해 매우 적다\n",
    "\n",
    "`-` 연도는 2012년만 존재하며 월의 경우 5월, 10월, 12월만 존재한다\n",
    "\n",
    "`-` 오버피팅을 주의해야 한다\n",
    "\n",
    "`-` LGBM 모델과 XGB 모델은 성능이 좋지 않았으며 Catboost 모델의 성능은 나쁘지 않다"
   ]
  },
  {
   "cell_type": "code",
   "execution_count": 142,
   "id": "3e7893ea-0662-4136-8a7f-e34bcb488c01",
   "metadata": {},
   "outputs": [
    {
     "data": {
      "text/html": [
       "<div>\n",
       "<style scoped>\n",
       "    .dataframe tbody tr th:only-of-type {\n",
       "        vertical-align: middle;\n",
       "    }\n",
       "\n",
       "    .dataframe tbody tr th {\n",
       "        vertical-align: top;\n",
       "    }\n",
       "\n",
       "    .dataframe thead th {\n",
       "        text-align: right;\n",
       "    }\n",
       "</style>\n",
       "<table border=\"1\" class=\"dataframe\">\n",
       "  <thead>\n",
       "    <tr style=\"text-align: right;\">\n",
       "      <th></th>\n",
       "      <th>id</th>\n",
       "      <th>Weekly_Sales</th>\n",
       "    </tr>\n",
       "  </thead>\n",
       "  <tbody>\n",
       "    <tr>\n",
       "      <th>0</th>\n",
       "      <td>1</td>\n",
       "      <td>1.629705e+06</td>\n",
       "    </tr>\n",
       "    <tr>\n",
       "      <th>1</th>\n",
       "      <td>2</td>\n",
       "      <td>1.556559e+06</td>\n",
       "    </tr>\n",
       "    <tr>\n",
       "      <th>2</th>\n",
       "      <td>3</td>\n",
       "      <td>1.258371e+06</td>\n",
       "    </tr>\n",
       "    <tr>\n",
       "      <th>3</th>\n",
       "      <td>4</td>\n",
       "      <td>1.271491e+06</td>\n",
       "    </tr>\n",
       "    <tr>\n",
       "      <th>4</th>\n",
       "      <td>5</td>\n",
       "      <td>1.837574e+06</td>\n",
       "    </tr>\n",
       "  </tbody>\n",
       "</table>\n",
       "</div>"
      ],
      "text/plain": [
       "   id  Weekly_Sales\n",
       "0   1  1.629705e+06\n",
       "1   2  1.556559e+06\n",
       "2   3  1.258371e+06\n",
       "3   4  1.271491e+06\n",
       "4   5  1.837574e+06"
      ]
     },
     "execution_count": 142,
     "metadata": {},
     "output_type": "execute_result"
    }
   ],
   "source": [
    "submission['Weekly_Sales'] = (CB_test_pred1 + CB_test_pred2) / 2\n",
    "submission.head()"
   ]
  },
  {
   "cell_type": "code",
   "execution_count": 143,
   "id": "cd721ade-8a96-4a79-a0c5-8b1beea5a705",
   "metadata": {},
   "outputs": [
    {
     "data": {
      "text/plain": [
       "<AxesSubplot:xlabel='Weekly_Sales', ylabel='Density'>"
      ]
     },
     "execution_count": 143,
     "metadata": {},
     "output_type": "execute_result"
    },
    {
     "data": {
      "image/png": "[encoded data removed]",
      "text/plain": [
       "<Figure size 864x288 with 2 Axes>"
      ]
     },
     "metadata": {
      "needs_background": "light"
     },
     "output_type": "display_data"
    }
   ],
   "source": [
    "fig, (ax1, ax2) = plt.subplots(1, 2, figsize=(12, 4))\n",
    "sns.distplot(df.query('Year == 2011 and (Month == 5 or Month == 10 or Month == 12)')['Weekly_Sales'], ax=ax1)\n",
    "sns.distplot(submission['Weekly_Sales'], ax=ax2)"
   ]
  },
  {
   "cell_type": "code",
   "execution_count": 403,
   "id": "5c4f4868-e622-4677-9e0f-0e23574f1e30",
   "metadata": {},
   "outputs": [],
   "source": [
    "# submission.to_csv('./Data/submission5.csv', index=False)"
   ]
  },
  {
   "cell_type": "markdown",
   "id": "10458b57-35ea-4e50-84f5-d44d23d05e5d",
   "metadata": {},
   "source": [
    "## 쇼핑몰 지점별 모델 생성"
   ]
  },
  {
   "cell_type": "markdown",
   "id": "391bda88-4c45-47f9-845e-7945b8cbb572",
   "metadata": {},
   "source": [
    "`-` 쇼핑몰마다 주간 매출액의 분포가 상이하여 비슷한 분포를 띄는 쇼핑몰끼리 그룹화하려고 했다\n",
    "\n",
    "`-` 그런데 굳이 그룹화 하지않고 쇼핑몰 지점에 따른 모델을 생성하여 학습하고자 했다 \n",
    "\n",
    "`-` 원핫인코딩을 사용하면 피쳐의 개수가 너무 많아져서 쇼핑몰 지점마다 모델을 생성\n",
    "\n",
    "`-` 기존의 존재하지 않는 새로운 쇼핑몰이라면 전체 데이터로 학습시킨 모델을 사용했다\n",
    "\n",
    "`-` 그러나 test 데이터에서 새로운 쇼핑몰은 등장하지 않았다"
   ]
  },
  {
   "cell_type": "code",
   "execution_count": 200,
   "id": "35a1d743-e1ae-42a8-a5e7-7d7338398afd",
   "metadata": {},
   "outputs": [],
   "source": [
    "k = 15\n",
    "skfold1 = KFold(k, shuffle=True, random_state=SEED)\n",
    "skfold2 = KFold(k, shuffle=True, random_state=SEED*2)"
   ]
  },
  {
   "cell_type": "code",
   "execution_count": 206,
   "id": "691c3a0e-1319-4498-b626-8bcad4035119",
   "metadata": {},
   "outputs": [],
   "source": [
    "CB = CatBoostRegressor(use_best_model=True,\n",
    "                       random_state=SEED,\n",
    "                       #min_data_in_leaf=3,\n",
    "                       verbose=0)"
   ]
  },
  {
   "cell_type": "code",
   "execution_count": 160,
   "id": "a1f3b959-b958-435f-8500-9487ff3eb50f",
   "metadata": {},
   "outputs": [],
   "source": [
    "XGB = XGBRegressor(random_state=SEED)"
   ]
  },
  {
   "cell_type": "code",
   "execution_count": 180,
   "id": "301a0d72-f2bc-43cb-97fb-57d17ad15c18",
   "metadata": {},
   "outputs": [],
   "source": [
    "LGBM = LGBMRegressor(n_estimators=3000,\n",
    "                     learning_rate=0.1,\n",
    "                     #max_depth=7,\n",
    "                     min_child_samples=3,\n",
    "                     random_state=SEED)"
   ]
  },
  {
   "cell_type": "markdown",
   "id": "cfdac7f8-dfa5-4b43-b0bb-53624f45dcf9",
   "metadata": {},
   "source": [
    "`-` XGB 기본: 88841, CB 기본: 81941"
   ]
  },
  {
   "cell_type": "code",
   "execution_count": 166,
   "id": "49fccbd7-b57a-43d5-b821-52a0a2adeae5",
   "metadata": {},
   "outputs": [
    {
     "name": "stderr",
     "output_type": "stream",
     "text": [
      "  2%|█▊                                                                                 | 1/45 [00:27<20:17, 27.67s/it]"
     ]
    },
    {
     "name": "stdout",
     "output_type": "stream",
     "text": [
      "1 -> Mean: 87136.37237113387 Std: 42906.36070461575\n"
     ]
    },
    {
     "name": "stderr",
     "output_type": "stream",
     "text": [
      "  4%|███▋                                                                               | 2/45 [00:58<21:10, 29.54s/it]"
     ]
    },
    {
     "name": "stdout",
     "output_type": "stream",
     "text": [
      "2 -> Mean: 125972.18912672275 Std: 69655.00477091299\n"
     ]
    },
    {
     "name": "stderr",
     "output_type": "stream",
     "text": [
      "  7%|█████▌                                                                             | 3/45 [01:24<19:36, 28.01s/it]"
     ]
    },
    {
     "name": "stdout",
     "output_type": "stream",
     "text": [
      "3 -> Mean: 27573.181003135956 Std: 14320.44155524115\n"
     ]
    },
    {
     "name": "stderr",
     "output_type": "stream",
     "text": [
      "  9%|███████▍                                                                           | 4/45 [01:51<18:52, 27.63s/it]"
     ]
    },
    {
     "name": "stdout",
     "output_type": "stream",
     "text": [
      "4 -> Mean: 128853.80890121698 Std: 75264.75055134513\n"
     ]
    },
    {
     "name": "stderr",
     "output_type": "stream",
     "text": [
      " 11%|█████████▏                                                                         | 5/45 [02:16<17:50, 26.77s/it]"
     ]
    },
    {
     "name": "stdout",
     "output_type": "stream",
     "text": [
      "5 -> Mean: 23970.64349514304 Std: 14863.03063383844\n"
     ]
    },
    {
     "name": "stderr",
     "output_type": "stream",
     "text": [
      " 13%|███████████                                                                        | 6/45 [02:47<18:07, 27.88s/it]"
     ]
    },
    {
     "name": "stdout",
     "output_type": "stream",
     "text": [
      "6 -> Mean: 118981.5081593678 Std: 59400.215720738146\n"
     ]
    },
    {
     "name": "stderr",
     "output_type": "stream",
     "text": [
      " 16%|████████████▉                                                                      | 7/45 [03:18<18:24, 29.06s/it]"
     ]
    },
    {
     "name": "stdout",
     "output_type": "stream",
     "text": [
      "7 -> Mean: 60445.49120533374 Std: 28207.93947789523\n"
     ]
    },
    {
     "name": "stderr",
     "output_type": "stream",
     "text": [
      " 18%|██████████████▊                                                                    | 8/45 [03:43<17:08, 27.79s/it]"
     ]
    },
    {
     "name": "stdout",
     "output_type": "stream",
     "text": [
      "8 -> Mean: 63993.352820449116 Std: 32861.29611724553\n"
     ]
    },
    {
     "name": "stderr",
     "output_type": "stream",
     "text": [
      " 20%|████████████████▌                                                                  | 9/45 [04:10<16:26, 27.41s/it]"
     ]
    },
    {
     "name": "stdout",
     "output_type": "stream",
     "text": [
      "9 -> Mean: 40778.330457319025 Std: 22115.354638494373\n"
     ]
    },
    {
     "name": "stderr",
     "output_type": "stream",
     "text": [
      " 22%|██████████████████▏                                                               | 10/45 [04:34<15:30, 26.58s/it]"
     ]
    },
    {
     "name": "stdout",
     "output_type": "stream",
     "text": [
      "10 -> Mean: 170558.5360596979 Std: 89764.64262788805\n"
     ]
    },
    {
     "name": "stderr",
     "output_type": "stream",
     "text": [
      " 24%|████████████████████                                                              | 11/45 [05:04<15:34, 27.49s/it]"
     ]
    },
    {
     "name": "stdout",
     "output_type": "stream",
     "text": [
      "11 -> Mean: 91001.4616396185 Std: 39464.96393918547\n"
     ]
    },
    {
     "name": "stderr",
     "output_type": "stream",
     "text": [
      " 27%|█████████████████████▊                                                            | 12/45 [05:33<15:25, 28.04s/it]"
     ]
    },
    {
     "name": "stdout",
     "output_type": "stream",
     "text": [
      "12 -> Mean: 77696.86990670655 Std: 46152.790646844565\n"
     ]
    },
    {
     "name": "stderr",
     "output_type": "stream",
     "text": [
      " 29%|███████████████████████▋                                                          | 13/45 [06:00<14:44, 27.63s/it]"
     ]
    },
    {
     "name": "stdout",
     "output_type": "stream",
     "text": [
      "13 -> Mean: 144605.5559120764 Std: 79348.74087201459\n"
     ]
    },
    {
     "name": "stderr",
     "output_type": "stream",
     "text": [
      " 31%|█████████████████████████▌                                                        | 14/45 [06:28<14:19, 27.73s/it]"
     ]
    },
    {
     "name": "stdout",
     "output_type": "stream",
     "text": [
      "14 -> Mean: 175316.86325908324 Std: 86465.53857909166\n"
     ]
    },
    {
     "name": "stderr",
     "output_type": "stream",
     "text": [
      " 33%|███████████████████████████▎                                                      | 15/45 [06:59<14:25, 28.85s/it]"
     ]
    },
    {
     "name": "stdout",
     "output_type": "stream",
     "text": [
      "15 -> Mean: 62094.414482111075 Std: 39061.923128374874\n"
     ]
    },
    {
     "name": "stderr",
     "output_type": "stream",
     "text": [
      " 36%|█████████████████████████████▏                                                    | 16/45 [07:30<14:14, 29.46s/it]"
     ]
    },
    {
     "name": "stdout",
     "output_type": "stream",
     "text": [
      "16 -> Mean: 42158.31181836835 Std: 17394.997821793288\n"
     ]
    },
    {
     "name": "stderr",
     "output_type": "stream",
     "text": [
      " 38%|██████████████████████████████▉                                                   | 17/45 [07:55<13:03, 27.98s/it]"
     ]
    },
    {
     "name": "stdout",
     "output_type": "stream",
     "text": [
      "17 -> Mean: 80584.39334759736 Std: 33104.64659345497\n"
     ]
    },
    {
     "name": "stderr",
     "output_type": "stream",
     "text": [
      " 40%|████████████████████████████████▊                                                 | 18/45 [08:23<12:35, 27.99s/it]"
     ]
    },
    {
     "name": "stdout",
     "output_type": "stream",
     "text": [
      "18 -> Mean: 101186.65222009926 Std: 47832.23461653946\n"
     ]
    },
    {
     "name": "stderr",
     "output_type": "stream",
     "text": [
      " 42%|██████████████████████████████████▌                                               | 19/45 [08:49<11:56, 27.55s/it]"
     ]
    },
    {
     "name": "stdout",
     "output_type": "stream",
     "text": [
      "19 -> Mean: 107215.96157995806 Std: 44112.30208084639\n"
     ]
    },
    {
     "name": "stderr",
     "output_type": "stream",
     "text": [
      " 44%|████████████████████████████████████▍                                             | 20/45 [09:14<11:09, 26.80s/it]"
     ]
    },
    {
     "name": "stdout",
     "output_type": "stream",
     "text": [
      "20 -> Mean: 157369.86787027447 Std: 75828.31241124019\n"
     ]
    },
    {
     "name": "stderr",
     "output_type": "stream",
     "text": [
      " 47%|██████████████████████████████████████▎                                           | 21/45 [09:44<11:04, 27.70s/it]"
     ]
    },
    {
     "name": "stdout",
     "output_type": "stream",
     "text": [
      "21 -> Mean: 70389.29604537616 Std: 41325.62900106441\n"
     ]
    },
    {
     "name": "stderr",
     "output_type": "stream",
     "text": [
      " 49%|████████████████████████████████████████                                          | 22/45 [10:15<10:59, 28.68s/it]"
     ]
    },
    {
     "name": "stdout",
     "output_type": "stream",
     "text": [
      "22 -> Mean: 90651.64796348017 Std: 45400.63131211876\n"
     ]
    },
    {
     "name": "stderr",
     "output_type": "stream",
     "text": [
      " 51%|█████████████████████████████████████████▉                                        | 23/45 [10:45<10:38, 29.02s/it]"
     ]
    },
    {
     "name": "stdout",
     "output_type": "stream",
     "text": [
      "23 -> Mean: 132779.78695684546 Std: 51985.94597478217\n"
     ]
    },
    {
     "name": "stderr",
     "output_type": "stream",
     "text": [
      " 53%|███████████████████████████████████████████▋                                      | 24/45 [11:13<10:06, 28.89s/it]"
     ]
    },
    {
     "name": "stdout",
     "output_type": "stream",
     "text": [
      "24 -> Mean: 93892.51792191491 Std: 38820.365021093014\n"
     ]
    },
    {
     "name": "stderr",
     "output_type": "stream",
     "text": [
      " 56%|█████████████████████████████████████████████▌                                    | 25/45 [11:41<09:30, 28.52s/it]"
     ]
    },
    {
     "name": "stdout",
     "output_type": "stream",
     "text": [
      "25 -> Mean: 62813.20733848399 Std: 34016.020578219155\n"
     ]
    },
    {
     "name": "stderr",
     "output_type": "stream",
     "text": [
      " 58%|███████████████████████████████████████████████▍                                  | 26/45 [12:14<09:23, 29.68s/it]"
     ]
    },
    {
     "name": "stdout",
     "output_type": "stream",
     "text": [
      "26 -> Mean: 55513.37034881858 Std: 24718.633826624875\n"
     ]
    },
    {
     "name": "stderr",
     "output_type": "stream",
     "text": [
      " 60%|█████████████████████████████████████████████████▏                                | 27/45 [12:44<08:57, 29.88s/it]"
     ]
    },
    {
     "name": "stdout",
     "output_type": "stream",
     "text": [
      "27 -> Mean: 149446.42596733 Std: 70524.75331003303\n"
     ]
    },
    {
     "name": "stderr",
     "output_type": "stream",
     "text": [
      " 62%|███████████████████████████████████████████████████                               | 28/45 [13:17<08:44, 30.87s/it]"
     ]
    },
    {
     "name": "stdout",
     "output_type": "stream",
     "text": [
      "28 -> Mean: 102382.07387207026 Std: 49161.20773172021\n"
     ]
    },
    {
     "name": "stderr",
     "output_type": "stream",
     "text": [
      " 64%|████████████████████████████████████████████████████▊                             | 29/45 [13:54<08:44, 32.75s/it]"
     ]
    },
    {
     "name": "stdout",
     "output_type": "stream",
     "text": [
      "29 -> Mean: 58675.822329772265 Std: 34276.89739371162\n"
     ]
    },
    {
     "name": "stderr",
     "output_type": "stream",
     "text": [
      " 67%|██████████████████████████████████████████████████████▋                           | 30/45 [14:40<09:09, 36.64s/it]"
     ]
    },
    {
     "name": "stdout",
     "output_type": "stream",
     "text": [
      "30 -> Mean: 14046.104410991213 Std: 5367.547765257223\n"
     ]
    },
    {
     "name": "stderr",
     "output_type": "stream",
     "text": [
      " 69%|████████████████████████████████████████████████████████▍                         | 31/45 [15:19<08:41, 37.24s/it]"
     ]
    },
    {
     "name": "stdout",
     "output_type": "stream",
     "text": [
      "31 -> Mean: 70754.40366883486 Std: 42904.0464101235\n"
     ]
    },
    {
     "name": "stderr",
     "output_type": "stream",
     "text": [
      " 71%|██████████████████████████████████████████████████████████▎                       | 32/45 [15:49<07:35, 35.07s/it]"
     ]
    },
    {
     "name": "stdout",
     "output_type": "stream",
     "text": [
      "32 -> Mean: 78527.27380009365 Std: 44600.055168808256\n"
     ]
    },
    {
     "name": "stderr",
     "output_type": "stream",
     "text": [
      " 73%|████████████████████████████████████████████████████████████▏                     | 33/45 [16:23<06:56, 34.74s/it]"
     ]
    },
    {
     "name": "stdout",
     "output_type": "stream",
     "text": [
      "33 -> Mean: 10524.876569293496 Std: 2559.8020325992125\n"
     ]
    },
    {
     "name": "stderr",
     "output_type": "stream",
     "text": [
      " 76%|█████████████████████████████████████████████████████████████▉                    | 34/45 [16:46<05:46, 31.49s/it]"
     ]
    },
    {
     "name": "stdout",
     "output_type": "stream",
     "text": [
      "34 -> Mean: 58265.69088003491 Std: 34641.01111907563\n"
     ]
    },
    {
     "name": "stderr",
     "output_type": "stream",
     "text": [
      " 78%|███████████████████████████████████████████████████████████████▊                  | 35/45 [17:15<05:04, 30.48s/it]"
     ]
    },
    {
     "name": "stdout",
     "output_type": "stream",
     "text": [
      "35 -> Mean: 113927.87309992357 Std: 70774.00565415504\n"
     ]
    },
    {
     "name": "stderr",
     "output_type": "stream",
     "text": [
      " 80%|█████████████████████████████████████████████████████████████████▌                | 36/45 [17:46<04:37, 30.85s/it]"
     ]
    },
    {
     "name": "stdout",
     "output_type": "stream",
     "text": [
      "36 -> Mean: 15490.505311467618 Std: 4433.484335439257\n"
     ]
    },
    {
     "name": "stderr",
     "output_type": "stream",
     "text": [
      " 82%|███████████████████████████████████████████████████████████████████▍              | 37/45 [18:11<03:51, 28.91s/it]"
     ]
    },
    {
     "name": "stdout",
     "output_type": "stream",
     "text": [
      "37 -> Mean: 15672.809191441405 Std: 6211.636902050337\n"
     ]
    },
    {
     "name": "stderr",
     "output_type": "stream",
     "text": [
      " 84%|█████████████████████████████████████████████████████████████████████▏            | 38/45 [18:42<03:26, 29.48s/it]"
     ]
    },
    {
     "name": "stdout",
     "output_type": "stream",
     "text": [
      "38 -> Mean: 12570.420214832868 Std: 4457.985873759711\n"
     ]
    },
    {
     "name": "stderr",
     "output_type": "stream",
     "text": [
      " 87%|███████████████████████████████████████████████████████████████████████           | 39/45 [19:09<02:53, 28.99s/it]"
     ]
    },
    {
     "name": "stdout",
     "output_type": "stream",
     "text": [
      "39 -> Mean: 118267.50684978096 Std: 68284.01142169457\n"
     ]
    },
    {
     "name": "stderr",
     "output_type": "stream",
     "text": [
      " 89%|████████████████████████████████████████████████████████████████████████▉         | 40/45 [19:39<02:25, 29.19s/it]"
     ]
    },
    {
     "name": "stdout",
     "output_type": "stream",
     "text": [
      "40 -> Mean: 57376.17794472966 Std: 20217.913057509955\n"
     ]
    },
    {
     "name": "stderr",
     "output_type": "stream",
     "text": [
      " 91%|██████████████████████████████████████████████████████████████████████████▋       | 41/45 [20:07<01:55, 28.79s/it]"
     ]
    },
    {
     "name": "stdout",
     "output_type": "stream",
     "text": [
      "41 -> Mean: 102029.5555351649 Std: 59761.63668305741\n"
     ]
    },
    {
     "name": "stderr",
     "output_type": "stream",
     "text": [
      " 93%|████████████████████████████████████████████████████████████████████████████▌     | 42/45 [20:41<01:30, 30.27s/it]"
     ]
    },
    {
     "name": "stdout",
     "output_type": "stream",
     "text": [
      "42 -> Mean: 18816.499492266492 Std: 7559.187626486223\n"
     ]
    },
    {
     "name": "stderr",
     "output_type": "stream",
     "text": [
      " 96%|██████████████████████████████████████████████████████████████████████████████▎   | 43/45 [21:11<01:00, 30.29s/it]"
     ]
    },
    {
     "name": "stdout",
     "output_type": "stream",
     "text": [
      "43 -> Mean: 22900.038783208656 Std: 7096.019323516422\n"
     ]
    },
    {
     "name": "stderr",
     "output_type": "stream",
     "text": [
      " 98%|████████████████████████████████████████████████████████████████████████████████▏ | 44/45 [21:34<00:28, 28.18s/it]"
     ]
    },
    {
     "name": "stdout",
     "output_type": "stream",
     "text": [
      "44 -> Mean: 11146.025999651054 Std: 4213.945500188132\n"
     ]
    },
    {
     "name": "stderr",
     "output_type": "stream",
     "text": [
      "100%|██████████████████████████████████████████████████████████████████████████████████| 45/45 [22:02<00:00, 29.39s/it]"
     ]
    },
    {
     "name": "stdout",
     "output_type": "stream",
     "text": [
      "45 -> Mean: 67753.15337312249 Std: 39307.62043569011\n",
      "쇼핑몰 지점별 RMSE의 평균: 77602.3739889854\n"
     ]
    },
    {
     "name": "stderr",
     "output_type": "stream",
     "text": [
      "\n"
     ]
    }
   ],
   "source": [
    "valid_RMSE = []\n",
    "preds = {}\n",
    "model = CB\n",
    "for store in tqdm(range(1, 46)):\n",
    "    df3 = df.query('Store == @store')\n",
    "    target = df3['Weekly_Sales']\n",
    "    df3 = df3[features].drop('Store', axis=1)\n",
    "    test3 = test2.query('Store == @store')\n",
    "    test3 = test3[features].drop('Store', axis=1)\n",
    "    _, model_valid_RMSE, model_test_pred = OOF_predict(model, df3, target, test3, skfold1)\n",
    "    _, model_valid_RMSE2, model_test_pred2 = OOF_predict(model, df3, target, test3, skfold2)\n",
    "    valid_RMSE.extend(model_valid_RMSE + model_valid_RMSE2)\n",
    "    preds[store] = (model_test_pred + model_test_pred2) / 2\n",
    "    print(f'{store} -> Mean: {np.mean(model_valid_RMSE + model_valid_RMSE2)} Std: {np.std(model_valid_RMSE + model_valid_RMSE2)}')\n",
    "    \n",
    "print(f'쇼핑몰 지점별 RMSE의 평균: {np.mean(valid_RMSE)}')"
   ]
  },
  {
   "cell_type": "code",
   "execution_count": 167,
   "id": "8c61fcf8-42c9-4886-af6b-fb18239a8166",
   "metadata": {},
   "outputs": [],
   "source": [
    "predictions = pd.DataFrame(data=preds[1])\n",
    "for i in range(2, 46):\n",
    "    predictions = predictions.append(pd.DataFrame(data=preds[i]))\n",
    "predictions = predictions.reset_index().drop('index', axis=1).rename(columns={0:'target'})"
   ]
  },
  {
   "cell_type": "code",
   "execution_count": 168,
   "id": "279cc7fa-fba2-48a4-b5b3-670349aab10d",
   "metadata": {},
   "outputs": [],
   "source": [
    "submission['Weekly_Sales'] = predictions['target'] "
   ]
  },
  {
   "cell_type": "code",
   "execution_count": 264,
   "id": "e3826b21-ed19-4a9d-b51f-93af737e7b84",
   "metadata": {},
   "outputs": [
    {
     "data": {
      "text/html": [
       "<div>\n",
       "<style scoped>\n",
       "    .dataframe tbody tr th:only-of-type {\n",
       "        vertical-align: middle;\n",
       "    }\n",
       "\n",
       "    .dataframe tbody tr th {\n",
       "        vertical-align: top;\n",
       "    }\n",
       "\n",
       "    .dataframe thead th {\n",
       "        text-align: right;\n",
       "    }\n",
       "</style>\n",
       "<table border=\"1\" class=\"dataframe\">\n",
       "  <thead>\n",
       "    <tr style=\"text-align: right;\">\n",
       "      <th></th>\n",
       "      <th>Store</th>\n",
       "      <th>Date</th>\n",
       "      <th>Temperature</th>\n",
       "      <th>Fuel_Price</th>\n",
       "      <th>Promotion1</th>\n",
       "      <th>Promotion2</th>\n",
       "      <th>Promotion3</th>\n",
       "      <th>Promotion4</th>\n",
       "      <th>Promotion5</th>\n",
       "      <th>Unemployment</th>\n",
       "      <th>IsHoliday</th>\n",
       "      <th>Weekly_Sales</th>\n",
       "      <th>Year</th>\n",
       "      <th>Month</th>\n",
       "      <th>Day</th>\n",
       "      <th>Day_Range</th>\n",
       "      <th>Promotion_Cost</th>\n",
       "      <th>WeekOfMonth</th>\n",
       "      <th>IsChristmasWeek</th>\n",
       "    </tr>\n",
       "  </thead>\n",
       "  <tbody>\n",
       "    <tr>\n",
       "      <th>1807</th>\n",
       "      <td>14</td>\n",
       "      <td>2010-05-02</td>\n",
       "      <td>-4.134444</td>\n",
       "      <td>2.784</td>\n",
       "      <td>-1.0</td>\n",
       "      <td>-1.0</td>\n",
       "      <td>-1.0</td>\n",
       "      <td>-1.0</td>\n",
       "      <td>-1.0</td>\n",
       "      <td>8.992</td>\n",
       "      <td>0</td>\n",
       "      <td>2623469.95</td>\n",
       "      <td>2010</td>\n",
       "      <td>5</td>\n",
       "      <td>2</td>\n",
       "      <td>121</td>\n",
       "      <td>-5.0</td>\n",
       "      <td>1</td>\n",
       "      <td>0</td>\n",
       "    </tr>\n",
       "    <tr>\n",
       "      <th>1811</th>\n",
       "      <td>14</td>\n",
       "      <td>2010-05-03</td>\n",
       "      <td>5.685556</td>\n",
       "      <td>2.777</td>\n",
       "      <td>-1.0</td>\n",
       "      <td>-1.0</td>\n",
       "      <td>-1.0</td>\n",
       "      <td>-1.0</td>\n",
       "      <td>-1.0</td>\n",
       "      <td>8.992</td>\n",
       "      <td>0</td>\n",
       "      <td>2237544.75</td>\n",
       "      <td>2010</td>\n",
       "      <td>5</td>\n",
       "      <td>3</td>\n",
       "      <td>122</td>\n",
       "      <td>-5.0</td>\n",
       "      <td>1</td>\n",
       "      <td>0</td>\n",
       "    </tr>\n",
       "  </tbody>\n",
       "</table>\n",
       "</div>"
      ],
      "text/plain": [
       "      Store       Date  Temperature  Fuel_Price  Promotion1  Promotion2  \\\n",
       "1807     14 2010-05-02    -4.134444       2.784        -1.0        -1.0   \n",
       "1811     14 2010-05-03     5.685556       2.777        -1.0        -1.0   \n",
       "\n",
       "      Promotion3  Promotion4  Promotion5  Unemployment  IsHoliday  \\\n",
       "1807        -1.0        -1.0        -1.0         8.992          0   \n",
       "1811        -1.0        -1.0        -1.0         8.992          0   \n",
       "\n",
       "      Weekly_Sales  Year  Month  Day  Day_Range  Promotion_Cost  WeekOfMonth  \\\n",
       "1807    2623469.95  2010      5    2        121            -5.0            1   \n",
       "1811    2237544.75  2010      5    3        122            -5.0            1   \n",
       "\n",
       "      IsChristmasWeek  \n",
       "1807                0  \n",
       "1811                0  "
      ]
     },
     "execution_count": 264,
     "metadata": {},
     "output_type": "execute_result"
    }
   ],
   "source": [
    "df.query('(Date==\"2010-05-02\" or Date==\"2010-05-03\") and Store==14')"
   ]
  },
  {
   "cell_type": "code",
   "execution_count": 279,
   "id": "8e12edb1-1bfb-4d28-a151-fd2a515b91b2",
   "metadata": {},
   "outputs": [
    {
     "data": {
      "text/html": [
       "<div>\n",
       "<style scoped>\n",
       "    .dataframe tbody tr th:only-of-type {\n",
       "        vertical-align: middle;\n",
       "    }\n",
       "\n",
       "    .dataframe tbody tr th {\n",
       "        vertical-align: top;\n",
       "    }\n",
       "\n",
       "    .dataframe thead th {\n",
       "        text-align: right;\n",
       "    }\n",
       "</style>\n",
       "<table border=\"1\" class=\"dataframe\">\n",
       "  <thead>\n",
       "    <tr style=\"text-align: right;\">\n",
       "      <th></th>\n",
       "      <th>Store</th>\n",
       "      <th>Date</th>\n",
       "      <th>Temperature</th>\n",
       "      <th>Fuel_Price</th>\n",
       "      <th>Promotion1</th>\n",
       "      <th>Promotion2</th>\n",
       "      <th>Promotion3</th>\n",
       "      <th>Promotion4</th>\n",
       "      <th>Promotion5</th>\n",
       "      <th>Unemployment</th>\n",
       "      <th>IsHoliday</th>\n",
       "      <th>Weekly_Sales</th>\n",
       "      <th>Year</th>\n",
       "      <th>Month</th>\n",
       "      <th>Day</th>\n",
       "      <th>Day_Range</th>\n",
       "      <th>Promotion_Cost</th>\n",
       "      <th>WeekOfMonth</th>\n",
       "      <th>IsChristmasWeek</th>\n",
       "    </tr>\n",
       "  </thead>\n",
       "  <tbody>\n",
       "    <tr>\n",
       "      <th>1807</th>\n",
       "      <td>14</td>\n",
       "      <td>2010-05-02</td>\n",
       "      <td>-2.605556</td>\n",
       "      <td>2.784</td>\n",
       "      <td>-1.0</td>\n",
       "      <td>-1.0</td>\n",
       "      <td>-1.0</td>\n",
       "      <td>-1.0</td>\n",
       "      <td>-1.0</td>\n",
       "      <td>8.992</td>\n",
       "      <td>0</td>\n",
       "      <td>2623469.95</td>\n",
       "      <td>2010</td>\n",
       "      <td>5</td>\n",
       "      <td>2</td>\n",
       "      <td>121</td>\n",
       "      <td>-5.0</td>\n",
       "      <td>1</td>\n",
       "      <td>0</td>\n",
       "    </tr>\n",
       "    <tr>\n",
       "      <th>1819</th>\n",
       "      <td>14</td>\n",
       "      <td>2010-04-30</td>\n",
       "      <td>11.750000</td>\n",
       "      <td>2.921</td>\n",
       "      <td>-1.0</td>\n",
       "      <td>-1.0</td>\n",
       "      <td>-1.0</td>\n",
       "      <td>-1.0</td>\n",
       "      <td>-1.0</td>\n",
       "      <td>8.899</td>\n",
       "      <td>0</td>\n",
       "      <td>2082355.12</td>\n",
       "      <td>2010</td>\n",
       "      <td>4</td>\n",
       "      <td>30</td>\n",
       "      <td>119</td>\n",
       "      <td>-5.0</td>\n",
       "      <td>5</td>\n",
       "      <td>0</td>\n",
       "    </tr>\n",
       "  </tbody>\n",
       "</table>\n",
       "</div>"
      ],
      "text/plain": [
       "      Store       Date  Temperature  Fuel_Price  Promotion1  Promotion2  \\\n",
       "1807     14 2010-05-02    -2.605556       2.784        -1.0        -1.0   \n",
       "1819     14 2010-04-30    11.750000       2.921        -1.0        -1.0   \n",
       "\n",
       "      Promotion3  Promotion4  Promotion5  Unemployment  IsHoliday  \\\n",
       "1807        -1.0        -1.0        -1.0         8.992          0   \n",
       "1819        -1.0        -1.0        -1.0         8.899          0   \n",
       "\n",
       "      Weekly_Sales  Year  Month  Day  Day_Range  Promotion_Cost  WeekOfMonth  \\\n",
       "1807    2623469.95  2010      5    2        121            -5.0            1   \n",
       "1819    2082355.12  2010      4   30        119            -5.0            5   \n",
       "\n",
       "      IsChristmasWeek  \n",
       "1807                0  \n",
       "1819                0  "
      ]
     },
     "execution_count": 279,
     "metadata": {},
     "output_type": "execute_result"
    }
   ],
   "source": [
    "df.query('(Date==\"2010-05-02\" or Date==\"2010-04-30\") and Store==14')"
   ]
  },
  {
   "cell_type": "markdown",
   "id": "cef200f9-fed1-4931-b237-2d65b387ca72",
   "metadata": {},
   "source": [
    "`-` 현재 온도가 중요하기 보다는 전날과의 차이가 중요함"
   ]
  },
  {
   "cell_type": "code",
   "execution_count": 222,
   "id": "64e47f5a-abce-4737-b160-343bacb8b643",
   "metadata": {},
   "outputs": [
    {
     "data": {
      "text/plain": [
       "[numpy.datetime64('2010-01-10T00:00:00.000000000'),\n",
       " numpy.datetime64('2010-02-04T00:00:00.000000000'),\n",
       " numpy.datetime64('2010-02-07T00:00:00.000000000'),\n",
       " numpy.datetime64('2010-02-19T00:00:00.000000000'),\n",
       " numpy.datetime64('2010-02-26T00:00:00.000000000'),\n",
       " numpy.datetime64('2010-03-09T00:00:00.000000000'),\n",
       " numpy.datetime64('2010-03-12T00:00:00.000000000'),\n",
       " numpy.datetime64('2010-03-19T00:00:00.000000000'),\n",
       " numpy.datetime64('2010-03-26T00:00:00.000000000'),\n",
       " numpy.datetime64('2010-04-06T00:00:00.000000000'),\n",
       " numpy.datetime64('2010-04-16T00:00:00.000000000'),\n",
       " numpy.datetime64('2010-04-23T00:00:00.000000000'),\n",
       " numpy.datetime64('2010-04-30T00:00:00.000000000'),\n",
       " numpy.datetime64('2010-05-02T00:00:00.000000000'),\n",
       " numpy.datetime64('2010-05-03T00:00:00.000000000'),\n",
       " numpy.datetime64('2010-05-11T00:00:00.000000000'),\n",
       " numpy.datetime64('2010-05-14T00:00:00.000000000'),\n",
       " numpy.datetime64('2010-05-21T00:00:00.000000000'),\n",
       " numpy.datetime64('2010-05-28T00:00:00.000000000'),\n",
       " numpy.datetime64('2010-06-08T00:00:00.000000000'),\n",
       " numpy.datetime64('2010-06-18T00:00:00.000000000'),\n",
       " numpy.datetime64('2010-06-25T00:00:00.000000000'),\n",
       " numpy.datetime64('2010-07-05T00:00:00.000000000'),\n",
       " numpy.datetime64('2010-07-16T00:00:00.000000000'),\n",
       " numpy.datetime64('2010-07-23T00:00:00.000000000'),\n",
       " numpy.datetime64('2010-07-30T00:00:00.000000000'),\n",
       " numpy.datetime64('2010-08-10T00:00:00.000000000'),\n",
       " numpy.datetime64('2010-08-13T00:00:00.000000000'),\n",
       " numpy.datetime64('2010-08-20T00:00:00.000000000'),\n",
       " numpy.datetime64('2010-08-27T00:00:00.000000000'),\n",
       " numpy.datetime64('2010-09-04T00:00:00.000000000'),\n",
       " numpy.datetime64('2010-09-07T00:00:00.000000000'),\n",
       " numpy.datetime64('2010-09-17T00:00:00.000000000'),\n",
       " numpy.datetime64('2010-09-24T00:00:00.000000000'),\n",
       " numpy.datetime64('2010-10-09T00:00:00.000000000'),\n",
       " numpy.datetime64('2010-10-12T00:00:00.000000000'),\n",
       " numpy.datetime64('2010-10-15T00:00:00.000000000'),\n",
       " numpy.datetime64('2010-10-22T00:00:00.000000000'),\n",
       " numpy.datetime64('2010-10-29T00:00:00.000000000'),\n",
       " numpy.datetime64('2010-11-06T00:00:00.000000000'),\n",
       " numpy.datetime64('2010-11-19T00:00:00.000000000'),\n",
       " numpy.datetime64('2010-11-26T00:00:00.000000000'),\n",
       " numpy.datetime64('2010-12-02T00:00:00.000000000'),\n",
       " numpy.datetime64('2010-12-03T00:00:00.000000000'),\n",
       " numpy.datetime64('2010-12-11T00:00:00.000000000'),\n",
       " numpy.datetime64('2010-12-17T00:00:00.000000000'),\n",
       " numpy.datetime64('2010-12-24T00:00:00.000000000'),\n",
       " numpy.datetime64('2010-12-31T00:00:00.000000000'),\n",
       " numpy.datetime64('2011-01-04T00:00:00.000000000'),\n",
       " numpy.datetime64('2011-01-07T00:00:00.000000000'),\n",
       " numpy.datetime64('2011-01-14T00:00:00.000000000'),\n",
       " numpy.datetime64('2011-01-21T00:00:00.000000000'),\n",
       " numpy.datetime64('2011-01-28T00:00:00.000000000'),\n",
       " numpy.datetime64('2011-02-09T00:00:00.000000000'),\n",
       " numpy.datetime64('2011-02-12T00:00:00.000000000'),\n",
       " numpy.datetime64('2011-02-18T00:00:00.000000000'),\n",
       " numpy.datetime64('2011-02-25T00:00:00.000000000'),\n",
       " numpy.datetime64('2011-03-06T00:00:00.000000000'),\n",
       " numpy.datetime64('2011-03-18T00:00:00.000000000'),\n",
       " numpy.datetime64('2011-03-25T00:00:00.000000000'),\n",
       " numpy.datetime64('2011-04-02T00:00:00.000000000'),\n",
       " numpy.datetime64('2011-04-03T00:00:00.000000000'),\n",
       " numpy.datetime64('2011-04-11T00:00:00.000000000'),\n",
       " numpy.datetime64('2011-04-15T00:00:00.000000000'),\n",
       " numpy.datetime64('2011-04-22T00:00:00.000000000'),\n",
       " numpy.datetime64('2011-04-29T00:00:00.000000000'),\n",
       " numpy.datetime64('2011-05-08T00:00:00.000000000'),\n",
       " numpy.datetime64('2011-05-13T00:00:00.000000000'),\n",
       " numpy.datetime64('2011-05-20T00:00:00.000000000'),\n",
       " numpy.datetime64('2011-05-27T00:00:00.000000000'),\n",
       " numpy.datetime64('2011-06-05T00:00:00.000000000'),\n",
       " numpy.datetime64('2011-06-17T00:00:00.000000000'),\n",
       " numpy.datetime64('2011-06-24T00:00:00.000000000'),\n",
       " numpy.datetime64('2011-07-01T00:00:00.000000000'),\n",
       " numpy.datetime64('2011-07-10T00:00:00.000000000'),\n",
       " numpy.datetime64('2011-07-15T00:00:00.000000000'),\n",
       " numpy.datetime64('2011-07-22T00:00:00.000000000'),\n",
       " numpy.datetime64('2011-07-29T00:00:00.000000000'),\n",
       " numpy.datetime64('2011-08-04T00:00:00.000000000'),\n",
       " numpy.datetime64('2011-08-07T00:00:00.000000000'),\n",
       " numpy.datetime64('2011-08-19T00:00:00.000000000'),\n",
       " numpy.datetime64('2011-08-26T00:00:00.000000000'),\n",
       " numpy.datetime64('2011-09-09T00:00:00.000000000'),\n",
       " numpy.datetime64('2011-09-12T00:00:00.000000000'),\n",
       " numpy.datetime64('2011-09-16T00:00:00.000000000'),\n",
       " numpy.datetime64('2011-09-23T00:00:00.000000000'),\n",
       " numpy.datetime64('2011-09-30T00:00:00.000000000'),\n",
       " numpy.datetime64('2011-10-06T00:00:00.000000000'),\n",
       " numpy.datetime64('2011-10-14T00:00:00.000000000'),\n",
       " numpy.datetime64('2011-10-21T00:00:00.000000000'),\n",
       " numpy.datetime64('2011-10-28T00:00:00.000000000'),\n",
       " numpy.datetime64('2011-11-02T00:00:00.000000000'),\n",
       " numpy.datetime64('2011-11-03T00:00:00.000000000'),\n",
       " numpy.datetime64('2011-11-11T00:00:00.000000000'),\n",
       " numpy.datetime64('2011-11-18T00:00:00.000000000'),\n",
       " numpy.datetime64('2011-11-25T00:00:00.000000000'),\n",
       " numpy.datetime64('2011-12-08T00:00:00.000000000'),\n",
       " numpy.datetime64('2011-12-16T00:00:00.000000000'),\n",
       " numpy.datetime64('2011-12-23T00:00:00.000000000'),\n",
       " numpy.datetime64('2011-12-30T00:00:00.000000000'),\n",
       " numpy.datetime64('2012-01-06T00:00:00.000000000'),\n",
       " numpy.datetime64('2012-01-13T00:00:00.000000000'),\n",
       " numpy.datetime64('2012-01-20T00:00:00.000000000'),\n",
       " numpy.datetime64('2012-01-27T00:00:00.000000000'),\n",
       " numpy.datetime64('2012-02-03T00:00:00.000000000'),\n",
       " numpy.datetime64('2012-02-17T00:00:00.000000000'),\n",
       " numpy.datetime64('2012-02-24T00:00:00.000000000'),\n",
       " numpy.datetime64('2012-03-02T00:00:00.000000000'),\n",
       " numpy.datetime64('2012-03-08T00:00:00.000000000'),\n",
       " numpy.datetime64('2012-03-16T00:00:00.000000000'),\n",
       " numpy.datetime64('2012-03-23T00:00:00.000000000'),\n",
       " numpy.datetime64('2012-03-30T00:00:00.000000000'),\n",
       " numpy.datetime64('2012-04-05T00:00:00.000000000'),\n",
       " numpy.datetime64('2012-04-13T00:00:00.000000000'),\n",
       " numpy.datetime64('2012-04-20T00:00:00.000000000'),\n",
       " numpy.datetime64('2012-04-27T00:00:00.000000000'),\n",
       " numpy.datetime64('2012-05-18T00:00:00.000000000'),\n",
       " numpy.datetime64('2012-05-25T00:00:00.000000000'),\n",
       " numpy.datetime64('2012-06-01T00:00:00.000000000'),\n",
       " numpy.datetime64('2012-06-04T00:00:00.000000000'),\n",
       " numpy.datetime64('2012-06-07T00:00:00.000000000'),\n",
       " numpy.datetime64('2012-06-15T00:00:00.000000000'),\n",
       " numpy.datetime64('2012-06-22T00:00:00.000000000'),\n",
       " numpy.datetime64('2012-06-29T00:00:00.000000000'),\n",
       " numpy.datetime64('2012-07-09T00:00:00.000000000'),\n",
       " numpy.datetime64('2012-07-13T00:00:00.000000000'),\n",
       " numpy.datetime64('2012-07-20T00:00:00.000000000'),\n",
       " numpy.datetime64('2012-07-27T00:00:00.000000000'),\n",
       " numpy.datetime64('2012-08-06T00:00:00.000000000'),\n",
       " numpy.datetime64('2012-08-17T00:00:00.000000000'),\n",
       " numpy.datetime64('2012-08-24T00:00:00.000000000'),\n",
       " numpy.datetime64('2012-08-31T00:00:00.000000000'),\n",
       " numpy.datetime64('2012-09-03T00:00:00.000000000'),\n",
       " numpy.datetime64('2012-09-14T00:00:00.000000000'),\n",
       " numpy.datetime64('2012-09-21T00:00:00.000000000'),\n",
       " numpy.datetime64('2012-09-28T00:00:00.000000000'),\n",
       " numpy.datetime64('2012-10-02T00:00:00.000000000'),\n",
       " numpy.datetime64('2012-10-08T00:00:00.000000000'),\n",
       " numpy.datetime64('2012-11-05T00:00:00.000000000')]"
      ]
     },
     "execution_count": 222,
     "metadata": {},
     "output_type": "execute_result"
    }
   ],
   "source": [
    "sorted(df['Date'].unique())"
   ]
  },
  {
   "cell_type": "code",
   "execution_count": 169,
   "id": "1585065b-8264-469c-81dd-c265e9305c34",
   "metadata": {},
   "outputs": [
    {
     "data": {
      "text/plain": [
       "<AxesSubplot:xlabel='Weekly_Sales', ylabel='Density'>"
      ]
     },
     "execution_count": 169,
     "metadata": {},
     "output_type": "execute_result"
    },
    {
     "data": {
      "image/png": "[encoded data removed]",
      "text/plain": [
       "<Figure size 864x288 with 2 Axes>"
      ]
     },
     "metadata": {
      "needs_background": "light"
     },
     "output_type": "display_data"
    }
   ],
   "source": [
    "fig, (ax1, ax2) = plt.subplots(1, 2, figsize=(12, 4))\n",
    "sns.distplot(df.query('Year == 2011 and (Month == 5 or Month == 10 or Month == 12)')['Weekly_Sales'], ax=ax1)\n",
    "sns.distplot(submission['Weekly_Sales'], ax=ax2)"
   ]
  },
  {
   "cell_type": "code",
   "execution_count": 172,
   "id": "fe345203-c7f9-403e-9c15-688e5f0cc0de",
   "metadata": {},
   "outputs": [],
   "source": [
    "# submission.to_csv('./Data/submission17.csv', index=False)"
   ]
  },
  {
   "cell_type": "code",
   "execution_count": null,
   "id": "78514a44-595b-47ff-b227-4324f1d48952",
   "metadata": {},
   "outputs": [],
   "source": []
  }
 ],
 "metadata": {
  "kernelspec": {
   "display_name": "Python 3 (ipykernel)",
   "language": "python",
   "name": "python3"
  },
  "language_info": {
   "codemirror_mode": {
    "name": "ipython",
    "version": 3
   },
   "file_extension": ".py",
   "mimetype": "text/x-python",
   "name": "python",
   "nbconvert_exporter": "python",
   "pygments_lexer": "ipython3",
   "version": "3.8.11"
  }
 },
 "nbformat": 4,
 "nbformat_minor": 5
}
