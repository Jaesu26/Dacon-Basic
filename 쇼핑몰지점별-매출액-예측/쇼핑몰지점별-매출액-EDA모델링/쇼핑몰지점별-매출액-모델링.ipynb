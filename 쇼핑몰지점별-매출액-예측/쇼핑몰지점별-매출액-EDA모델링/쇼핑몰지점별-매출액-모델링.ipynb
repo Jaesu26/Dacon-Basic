{
 "cells": [
  {
   "cell_type": "markdown",
   "id": "c1c0aaf7-ffad-486d-8f46-e72332397f31",
   "metadata": {},
   "source": [
    "# 쇼핑몰 지점별 매출액 예측 경진대회"
   ]
  },
  {
   "cell_type": "markdown",
   "id": "072902e6-33c6-43ea-9afa-c0e0d3ca262b",
   "metadata": {},
   "source": [
    "## 데이터 불러오기"
   ]
  },
  {
   "cell_type": "code",
   "execution_count": 1,
   "id": "3067a461-803d-4a6d-90a4-7d930e950f05",
   "metadata": {},
   "outputs": [],
   "source": [
    "import numpy as np\n",
    "import pandas as pd\n",
    "import os\n",
    "import matplotlib.pyplot as plt\n",
    "import seaborn as sns\n",
    "import warnings\n",
    "from tqdm import tqdm\n",
    "\n",
    "warnings.filterwarnings('ignore')"
   ]
  },
  {
   "cell_type": "code",
   "execution_count": 2,
   "id": "983d2bc8-5164-4441-b99d-dcc138c6d175",
   "metadata": {},
   "outputs": [],
   "source": [
    "sns.set_theme(style='white')"
   ]
  },
  {
   "cell_type": "code",
   "execution_count": 3,
   "id": "70c79229-03e2-4b3e-a1f7-42097c2771e4",
   "metadata": {},
   "outputs": [
    {
     "data": {
      "text/plain": [
       "'C:\\\\Users\\\\Jaesu\\\\github_desktop\\\\Dacon-Basic\\\\쇼핑몰지점별-매출액-예측\\\\쇼핑몰지점별-매출액-EDA모델링'"
      ]
     },
     "execution_count": 3,
     "metadata": {},
     "output_type": "execute_result"
    }
   ],
   "source": [
    "os.getcwd()"
   ]
  },
  {
   "cell_type": "code",
   "execution_count": 4,
   "id": "2e0db761-f4a1-4150-ade9-2fd897da0aa7",
   "metadata": {},
   "outputs": [],
   "source": [
    "os.chdir('C:\\\\Users\\\\Jaesu\\\\github_desktop\\\\Dacon-Basic\\\\쇼핑몰지점별-매출액-예측')"
   ]
  },
  {
   "cell_type": "code",
   "execution_count": 5,
   "id": "e9e87da9-7d5c-4ada-b707-3239ad1c7017",
   "metadata": {},
   "outputs": [],
   "source": [
    "df = pd.read_csv('./Data/train.csv')\n",
    "test = pd.read_csv('./Data/test.csv')\n",
    "submission = pd.read_csv('./Data/sample_submission.csv')"
   ]
  },
  {
   "cell_type": "code",
   "execution_count": 6,
   "id": "a3e43af1-4538-493b-b4e4-9e15a8ce138a",
   "metadata": {},
   "outputs": [],
   "source": [
    "df.drop('id', axis=1, inplace=True)\n",
    "test.drop('id', axis=1, inplace=True)"
   ]
  },
  {
   "cell_type": "markdown",
   "id": "62a11d4b-5680-4299-b8a3-444c408bcc61",
   "metadata": {},
   "source": [
    "## 데이터 전처리 및 파생변수 생성"
   ]
  },
  {
   "cell_type": "markdown",
   "id": "fe079c39-a4d8-4b45-93e3-737c10b878f0",
   "metadata": {},
   "source": [
    "- Data 변수를 날짜 형식으로 변경하여 연, 월, 일 변수를 생성\n",
    "\n",
    "`-` 또한 2010년을 기준으로 연월일을 하루 단위로 변환하여 2010년으로부터 며칠이 지났는지를 알 수 있는 변수를 생성하겠다  "
   ]
  },
  {
   "cell_type": "code",
   "execution_count": 7,
   "id": "ded8be55-2ec9-428d-8dce-7731c8538357",
   "metadata": {},
   "outputs": [],
   "source": [
    "def get_date(df) -> None:\n",
    "    \"\"\"df['Date']에서 연, 월, 일 변수를 생성\"\"\" \n",
    "    df['Date'] = pd.to_datetime(df['Date'])\n",
    "    df['Year'] = df['Date'].dt.year\n",
    "    df['Month'] = df['Date'].dt.month\n",
    "    df['Day'] = df['Date'].dt.day"
   ]
  },
  {
   "cell_type": "code",
   "execution_count": 8,
   "id": "41e00b3c-1934-44c1-981e-13a77162a0c8",
   "metadata": {},
   "outputs": [],
   "source": [
    "get_date(df)\n",
    "get_date(test)"
   ]
  },
  {
   "cell_type": "code",
   "execution_count": 9,
   "id": "8d099e78-4c79-4602-adea-b1b64f34dee8",
   "metadata": {},
   "outputs": [],
   "source": [
    "df['Day_Range'] = (df['Date'] - pd.datetime(2010, 1, 1)).dt.days\n",
    "test['Day_Range'] = (test['Date'] - pd.datetime(2010, 1, 1)).dt.days"
   ]
  },
  {
   "cell_type": "markdown",
   "id": "298800ae-0820-4335-97b7-014c1704ae4c",
   "metadata": {},
   "source": [
    "- 한 해의 몇 주차인지 나타내는 변수"
   ]
  },
  {
   "cell_type": "code",
   "execution_count": 10,
   "id": "0fa4ad86-3c27-4731-84ad-803b653ae27e",
   "metadata": {},
   "outputs": [],
   "source": [
    "df['WeekOfYear'] = df['Date'].dt.weekofyear\n",
    "test['WeekOfYear'] = test['Date'].dt.weekofyear"
   ]
  },
  {
   "cell_type": "markdown",
   "id": "6ec47d03-b373-4249-970a-2f9896cc404d",
   "metadata": {},
   "source": [
    "- 공휴일 변수를 숫자로 변경"
   ]
  },
  {
   "cell_type": "code",
   "execution_count": 11,
   "id": "3085f0e4-6ca4-4297-9e8c-55637c4747c5",
   "metadata": {},
   "outputs": [],
   "source": [
    "df['IsHoliday'] = df['IsHoliday'].apply(lambda x: 1 if x else 0)\n",
    "test['IsHoliday'] = test['IsHoliday'].apply(lambda x: 1 if x else 0)"
   ]
  },
  {
   "cell_type": "markdown",
   "id": "8bd25c05-52e9-48f9-b6bd-c93d9d7a42ff",
   "metadata": {},
   "source": [
    "- 화씨를 섭씨로 변환"
   ]
  },
  {
   "cell_type": "code",
   "execution_count": 12,
   "id": "603c7e19-baad-412a-9116-c6f249bb770f",
   "metadata": {},
   "outputs": [],
   "source": [
    "df['Temperature'] = (df['Temperature'] - 32) * 5/9\n",
    "test['Temperature'] = (test['Temperature'] - 32) * 5/9"
   ]
  },
  {
   "cell_type": "markdown",
   "id": "8a0f8106-4aa5-4f63-ac56-12c32cacf4a5",
   "metadata": {},
   "source": [
    "- 프로모션의 결측치를 $0$으로 대체"
   ]
  },
  {
   "cell_type": "code",
   "execution_count": 13,
   "id": "42342cb1-7425-42c6-a220-ba90c6ad9afd",
   "metadata": {},
   "outputs": [],
   "source": [
    "df.fillna(value=0, inplace=True)\n",
    "test.fillna(value=0, inplace=True)"
   ]
  },
  {
   "cell_type": "markdown",
   "id": "25b53daa-a15a-4de2-989e-e2e481e95a79",
   "metadata": {},
   "source": [
    "- 총 프로모션 비용 변수 생성"
   ]
  },
  {
   "cell_type": "code",
   "execution_count": 14,
   "id": "306a757a-fa03-48a7-a009-099a30e2b906",
   "metadata": {},
   "outputs": [],
   "source": [
    "df['Promotion_Cost'] = df[['Promotion1', 'Promotion2', 'Promotion3', 'Promotion4', 'Promotion5']].sum(axis=1)\n",
    "test['Promotion_Cost'] = test[['Promotion1', 'Promotion2', 'Promotion3', 'Promotion4', 'Promotion5']].sum(axis=1)"
   ]
  },
  {
   "cell_type": "code",
   "execution_count": 15,
   "id": "6520d07b-e4c3-4271-84a0-89f744c62b08",
   "metadata": {},
   "outputs": [],
   "source": [
    "df.drop(['Promotion1', 'Promotion2', 'Promotion3', 'Promotion4', 'Promotion5'], axis=1, inplace=True)\n",
    "test.drop(['Promotion1', 'Promotion2', 'Promotion3', 'Promotion4', 'Promotion5'], axis=1, inplace=True)"
   ]
  },
  {
   "cell_type": "markdown",
   "id": "9e48a50b-4e4f-4a6a-b1de-512446308f8b",
   "metadata": {},
   "source": [
    "- month의 몇 번재 week인지 나타내는 변수 생성"
   ]
  },
  {
   "cell_type": "code",
   "execution_count": 16,
   "id": "f34fc9c7-928d-48a2-abaf-646fbe285b78",
   "metadata": {},
   "outputs": [],
   "source": [
    "df['WeekOfMonth'] = df['Day'].apply(lambda x: (x-1) // 7 + 1)\n",
    "test['WeekOfMonth'] = test['Day'].apply(lambda x: (x-1) // 7 + 1)"
   ]
  },
  {
   "cell_type": "markdown",
   "id": "e60b52c6-3382-4a48-bcc5-a3f512249343",
   "metadata": {},
   "source": [
    "- 크리스마스가 몇 주일 남았는지 나타내는 변수를 생성"
   ]
  },
  {
   "cell_type": "markdown",
   "id": "e399f4db-7bd6-4d0d-9d46-fad5ae513425",
   "metadata": {},
   "source": [
    "`-` 크리스마스는 12월 4주차에 존재함\n",
    "\n",
    "`-` 12월 3주차는 2, 4주차는 3, 5주차는 1, 그 외는 0으로 코딩 (매출액이 기준)"
   ]
  },
  {
   "cell_type": "code",
   "execution_count": 17,
   "id": "f76d9617-6098-4e93-8a65-3d55d3bd88be",
   "metadata": {},
   "outputs": [],
   "source": [
    "def christmas_week(date):\n",
    "    month = date.month\n",
    "    week_of_month = (date.day-1) // 7 + 1\n",
    "    if month == 12:\n",
    "        if week_of_month == 3:\n",
    "            return 2\n",
    "        elif week_of_month == 4:\n",
    "            return 3\n",
    "        elif week_of_month == 5:\n",
    "            return 1\n",
    "    return 0"
   ]
  },
  {
   "cell_type": "code",
   "execution_count": 18,
   "id": "d74825cc-b382-46bb-9f19-4bb7095cc418",
   "metadata": {},
   "outputs": [],
   "source": [
    "df['IsChristmasWeek'] = df['Date'].apply(lambda date: christmas_week(date))\n",
    "test['IsChristmasWeek'] = test['Date'].apply(lambda date: christmas_week(date))"
   ]
  },
  {
   "cell_type": "markdown",
   "id": "77a18f89-2a13-41cc-9004-9b049cc2b1e8",
   "metadata": {},
   "source": [
    "- 전날에 비해 온도, 연료 가격, 실업률이 얼마나 변했는지 나타내는 변수 생성"
   ]
  },
  {
   "cell_type": "code",
   "execution_count": 19,
   "id": "adb50151-bb65-454f-ad50-d5526f8b0f2c",
   "metadata": {},
   "outputs": [
    {
     "data": {
      "text/plain": [
       "<AxesSubplot:>"
      ]
     },
     "execution_count": 19,
     "metadata": {},
     "output_type": "execute_result"
    },
    {
     "data": {
      "image/png": "[encoded data removed]",
      "text/plain": [
       "<Figure size 432x288 with 1 Axes>"
      ]
     },
     "metadata": {
      "needs_background": "light"
     },
     "output_type": "display_data"
    }
   ],
   "source": [
    "test.query('Month == 10')['Temperature'].plot.box()"
   ]
  },
  {
   "cell_type": "code",
   "execution_count": 20,
   "id": "5043ed25-b691-4934-b09c-f69c93bb2b86",
   "metadata": {},
   "outputs": [],
   "source": [
    "date = sorted(df['Date'].unique())"
   ]
  },
  {
   "cell_type": "code",
   "execution_count": 136,
   "id": "7cd945d6-db1b-494e-a8a9-0fc24d769ce0",
   "metadata": {},
   "outputs": [],
   "source": [
    "def feature_diff(df, is_test=False) -> None:\n",
    "    df['Temperature_Diff'] = 0\n",
    "    df['Fuel_Price_Diff'] = 0\n",
    "    df['Unemployment_Diff'] = 0\n",
    "    \n",
    "    if not is_test:\n",
    "        for store in tqdm(range(1, 46)):\n",
    "            for i in range(1, len(date)):\n",
    "                current_date = date[i]\n",
    "                previous_date = date[i - 1]\n",
    "                df_  = df.query('Store == @store')\n",
    "                for feature in ['Temperature', 'Fuel_Price', 'Unemployment']:\n",
    "                    df.loc[(df['Store'] == store) & (df['Date'] == current_date), f'{feature}_Diff'] = df_.query('Date == @current_date')[feature].item()\\\n",
    "                                                                                                       - df_.query('Date == @previous_date')[feature].item()\n",
    "#     else:\n",
    "#         test_date = sorted(df['Date'].unique())\n",
    "#         for store in tqdm(range(1, 46)):\n",
    "#             for test_d in test_date:\n",
    "#                 current_date = test_d\n",
    "#                 previous_date = date[0]\n",
    "#                 for d in date:\n",
    "#                     if test_d > d:\n",
    "#                         previous_date = d\n",
    "#                     else:\n",
    "#                         break\n",
    "                        \n",
    "#                 df_  = df.query('Store == @store')\n",
    "#                 for feature in ['Temperature', 'Fuel_Price', 'Unemployment']:\n",
    "#                     df.loc[(df['Store'] == store) & (df['Date'] == current_date), f'{feature}_Diff'] = df_.query('Date == @current_date')[feature].item()\\\n",
    "#                                                                                                        - df_.query('Date == @previous_date')[feature].item()"
   ]
  },
  {
   "cell_type": "code",
   "execution_count": 21,
   "id": "4c628f02-0444-41a3-b157-eb2e0f71504c",
   "metadata": {},
   "outputs": [],
   "source": [
    "# feature_diff(df)"
   ]
  },
  {
   "cell_type": "code",
   "execution_count": 22,
   "id": "b68cf575-7b3b-4c7f-b10d-b4826ff55d58",
   "metadata": {},
   "outputs": [
    {
     "data": {
      "text/html": [
       "<div>\n",
       "<style scoped>\n",
       "    .dataframe tbody tr th:only-of-type {\n",
       "        vertical-align: middle;\n",
       "    }\n",
       "\n",
       "    .dataframe tbody tr th {\n",
       "        vertical-align: top;\n",
       "    }\n",
       "\n",
       "    .dataframe thead th {\n",
       "        text-align: right;\n",
       "    }\n",
       "</style>\n",
       "<table border=\"1\" class=\"dataframe\">\n",
       "  <thead>\n",
       "    <tr style=\"text-align: right;\">\n",
       "      <th></th>\n",
       "      <th>Store</th>\n",
       "      <th>Date</th>\n",
       "      <th>Temperature</th>\n",
       "      <th>Fuel_Price</th>\n",
       "      <th>Unemployment</th>\n",
       "      <th>IsHoliday</th>\n",
       "      <th>Weekly_Sales</th>\n",
       "      <th>Year</th>\n",
       "      <th>Month</th>\n",
       "      <th>Day</th>\n",
       "      <th>Day_Range</th>\n",
       "      <th>WeekOfYear</th>\n",
       "      <th>Promotion_Cost</th>\n",
       "      <th>WeekOfMonth</th>\n",
       "      <th>IsChristmasWeek</th>\n",
       "    </tr>\n",
       "  </thead>\n",
       "  <tbody>\n",
       "    <tr>\n",
       "      <th>0</th>\n",
       "      <td>1</td>\n",
       "      <td>2010-05-02</td>\n",
       "      <td>5.727778</td>\n",
       "      <td>2.572</td>\n",
       "      <td>8.106</td>\n",
       "      <td>0</td>\n",
       "      <td>1643690.90</td>\n",
       "      <td>2010</td>\n",
       "      <td>5</td>\n",
       "      <td>2</td>\n",
       "      <td>121</td>\n",
       "      <td>17</td>\n",
       "      <td>0.0</td>\n",
       "      <td>1</td>\n",
       "      <td>0</td>\n",
       "    </tr>\n",
       "    <tr>\n",
       "      <th>1</th>\n",
       "      <td>1</td>\n",
       "      <td>2010-12-02</td>\n",
       "      <td>3.616667</td>\n",
       "      <td>2.548</td>\n",
       "      <td>8.106</td>\n",
       "      <td>1</td>\n",
       "      <td>1641957.44</td>\n",
       "      <td>2010</td>\n",
       "      <td>12</td>\n",
       "      <td>2</td>\n",
       "      <td>335</td>\n",
       "      <td>48</td>\n",
       "      <td>0.0</td>\n",
       "      <td>1</td>\n",
       "      <td>0</td>\n",
       "    </tr>\n",
       "    <tr>\n",
       "      <th>2</th>\n",
       "      <td>1</td>\n",
       "      <td>2010-02-19</td>\n",
       "      <td>4.405556</td>\n",
       "      <td>2.514</td>\n",
       "      <td>8.106</td>\n",
       "      <td>0</td>\n",
       "      <td>1611968.17</td>\n",
       "      <td>2010</td>\n",
       "      <td>2</td>\n",
       "      <td>19</td>\n",
       "      <td>49</td>\n",
       "      <td>7</td>\n",
       "      <td>0.0</td>\n",
       "      <td>3</td>\n",
       "      <td>0</td>\n",
       "    </tr>\n",
       "    <tr>\n",
       "      <th>3</th>\n",
       "      <td>1</td>\n",
       "      <td>2010-02-26</td>\n",
       "      <td>8.127778</td>\n",
       "      <td>2.561</td>\n",
       "      <td>8.106</td>\n",
       "      <td>0</td>\n",
       "      <td>1409727.59</td>\n",
       "      <td>2010</td>\n",
       "      <td>2</td>\n",
       "      <td>26</td>\n",
       "      <td>56</td>\n",
       "      <td>8</td>\n",
       "      <td>0.0</td>\n",
       "      <td>4</td>\n",
       "      <td>0</td>\n",
       "    </tr>\n",
       "    <tr>\n",
       "      <th>4</th>\n",
       "      <td>1</td>\n",
       "      <td>2010-05-03</td>\n",
       "      <td>8.055556</td>\n",
       "      <td>2.625</td>\n",
       "      <td>8.106</td>\n",
       "      <td>0</td>\n",
       "      <td>1554806.68</td>\n",
       "      <td>2010</td>\n",
       "      <td>5</td>\n",
       "      <td>3</td>\n",
       "      <td>122</td>\n",
       "      <td>18</td>\n",
       "      <td>0.0</td>\n",
       "      <td>1</td>\n",
       "      <td>0</td>\n",
       "    </tr>\n",
       "  </tbody>\n",
       "</table>\n",
       "</div>"
      ],
      "text/plain": [
       "   Store       Date  Temperature  Fuel_Price  Unemployment  IsHoliday  \\\n",
       "0      1 2010-05-02     5.727778       2.572         8.106          0   \n",
       "1      1 2010-12-02     3.616667       2.548         8.106          1   \n",
       "2      1 2010-02-19     4.405556       2.514         8.106          0   \n",
       "3      1 2010-02-26     8.127778       2.561         8.106          0   \n",
       "4      1 2010-05-03     8.055556       2.625         8.106          0   \n",
       "\n",
       "   Weekly_Sales  Year  Month  Day  Day_Range  WeekOfYear  Promotion_Cost  \\\n",
       "0    1643690.90  2010      5    2        121          17             0.0   \n",
       "1    1641957.44  2010     12    2        335          48             0.0   \n",
       "2    1611968.17  2010      2   19         49           7             0.0   \n",
       "3    1409727.59  2010      2   26         56           8             0.0   \n",
       "4    1554806.68  2010      5    3        122          18             0.0   \n",
       "\n",
       "   WeekOfMonth  IsChristmasWeek  \n",
       "0            1                0  \n",
       "1            1                0  \n",
       "2            3                0  \n",
       "3            4                0  \n",
       "4            1                0  "
      ]
     },
     "execution_count": 22,
     "metadata": {},
     "output_type": "execute_result"
    }
   ],
   "source": [
    "df.head()"
   ]
  },
  {
   "cell_type": "markdown",
   "id": "b87da657-4585-482a-8ae1-66e4514a9757",
   "metadata": {},
   "source": [
    "- 쇼핑몰 지점 군집화"
   ]
  },
  {
   "cell_type": "markdown",
   "id": "efbfc704-05e0-41bf-b5e3-3a15cffad87a",
   "metadata": {},
   "source": [
    "`-` 군집화되는 쇼핑몰이 거의 없어 성능 차이가 없음"
   ]
  },
  {
   "cell_type": "code",
   "execution_count": 17,
   "id": "19d45426-bc8e-4db4-ab03-1e2c7688a405",
   "metadata": {},
   "outputs": [],
   "source": [
    "cor_list = []\n",
    "for store in list(range(1, 46)):\n",
    "    df_ = df.query('Store == @store')\n",
    "    cor = np.corrcoef(df_['Day_Range'], df_['Weekly_Sales'])[1, 0]\n",
    "    cor_list.append(cor)"
   ]
  },
  {
   "cell_type": "code",
   "execution_count": 18,
   "id": "971351b6-706a-4187-90ce-cdf43f5ec905",
   "metadata": {},
   "outputs": [
    {
     "data": {
      "text/plain": [
       "<AxesSubplot:xlabel='Weekly_Sales', ylabel='Count'>"
      ]
     },
     "execution_count": 18,
     "metadata": {},
     "output_type": "execute_result"
    },
    {
     "data": {
      "image/png": "[encoded data removed]",
      "text/plain": [
       "<Figure size 432x288 with 1 Axes>"
      ]
     },
     "metadata": {
      "needs_background": "light"
     },
     "output_type": "display_data"
    }
   ],
   "source": [
    "sns.histplot(data=df, x='Weekly_Sales', kde=True)"
   ]
  },
  {
   "cell_type": "code",
   "execution_count": 19,
   "id": "1ecaf6f5-c942-4b20-b350-e59aff4c5dc7",
   "metadata": {},
   "outputs": [
    {
     "data": {
      "text/plain": [
       "<AxesSubplot:xlabel='Store', ylabel='Weekly_Sales'>"
      ]
     },
     "execution_count": 19,
     "metadata": {},
     "output_type": "execute_result"
    },
    {
     "data": {
      "image/png": "[encoded data removed]",
      "text/plain": [
       "<Figure size 1152x576 with 1 Axes>"
      ]
     },
     "metadata": {
      "needs_background": "light"
     },
     "output_type": "display_data"
    }
   ],
   "source": [
    "plt.figure(figsize=(16, 8))\n",
    "sns.boxplot(data=df, y='Weekly_Sales', x='Store')"
   ]
  },
  {
   "cell_type": "markdown",
   "id": "9ddafce2-0169-4612-bd4d-9c3a7e419ffe",
   "metadata": {},
   "source": [
    "`-` 비슷한 분포를 띄는 쇼핑몰 지점을 군집화하자 (매출액의 중앙값과 IQR, 지난 일수와의 상관계수가 비슷해야 함)"
   ]
  },
  {
   "cell_type": "code",
   "execution_count": 18,
   "id": "0a65c071-99cd-4935-9f36-a884c5e8b31a",
   "metadata": {},
   "outputs": [],
   "source": [
    "tmp = df.groupby(by='Store').agg({'Weekly_Sales':[np.median, lambda x: np.quantile(x, q=0.75) - np.quantile(x, q=0.25)]}).\\\n",
    "        reset_index().rename(columns={'<lambda_0>':'IQR'}).melt(id_vars='Store').\\\n",
    "        rename(columns={'variable_1':'statistic'}).drop('variable_0', axis=1)"
   ]
  },
  {
   "cell_type": "code",
   "execution_count": 21,
   "id": "0929a908-8c8a-4206-b58a-b930d0c2e6ea",
   "metadata": {},
   "outputs": [
    {
     "data": {
      "text/plain": [
       "<AxesSubplot:>"
      ]
     },
     "execution_count": 21,
     "metadata": {},
     "output_type": "execute_result"
    },
    {
     "data": {
      "image/png": "[encoded data removed]",
      "text/plain": [
       "<Figure size 432x288 with 1 Axes>"
      ]
     },
     "metadata": {
      "needs_background": "light"
     },
     "output_type": "display_data"
    }
   ],
   "source": [
    "tmp.query('statistic == \"median\"').value.plot.box()"
   ]
  },
  {
   "cell_type": "code",
   "execution_count": 22,
   "id": "d6e7d86d-2486-4486-a73b-a0b51074fc5b",
   "metadata": {},
   "outputs": [
    {
     "data": {
      "text/plain": [
       "<AxesSubplot:>"
      ]
     },
     "execution_count": 22,
     "metadata": {},
     "output_type": "execute_result"
    },
    {
     "data": {
      "image/png": "[encoded data removed]",
      "text/plain": [
       "<Figure size 432x288 with 1 Axes>"
      ]
     },
     "metadata": {
      "needs_background": "light"
     },
     "output_type": "display_data"
    }
   ],
   "source": [
    "tmp.query('statistic == \"IQR\"').value.plot.box()"
   ]
  },
  {
   "cell_type": "markdown",
   "id": "019a3a37-7bb2-4604-8fb3-d53b7b9e93f8",
   "metadata": {},
   "source": [
    "`-` 매출액의 중앙값과 사분위수 범위가 비슷한 쇼핑몰 지점끼리 군집화하겠다\n",
    "\n",
    "`-` 나의 능지 문제로 일단은 일일이 분류하겠다\n",
    "\n",
    "`-` 나중에 함수로 만들든 클래스로 만들든 해가지고 이를 사용해 분류하겠다\n"
   ]
  },
  {
   "cell_type": "code",
   "execution_count": 19,
   "id": "c9676103-9149-496c-9c8f-2499104ced05",
   "metadata": {},
   "outputs": [],
   "source": [
    "median_bins = [-np.inf]\n",
    "for i in range(1, 8):\n",
    "    value = np.quantile(tmp.query('statistic == \"median\"').value, q=i/8)\n",
    "    median_bins.append(value)\n",
    "median_bins.append(np.inf)"
   ]
  },
  {
   "cell_type": "code",
   "execution_count": 20,
   "id": "9da0b52c-848a-4c96-b22c-e74c33ab154c",
   "metadata": {},
   "outputs": [],
   "source": [
    "cuts = pd.cut(tmp.query('statistic == \"median\"').value, bins=median_bins, labels=list(range(1, 9)))"
   ]
  },
  {
   "cell_type": "code",
   "execution_count": 21,
   "id": "285d624e-9af7-40f2-b8ba-cf5d2e947386",
   "metadata": {},
   "outputs": [],
   "source": [
    "store_df = pd.DataFrame(data=range(1, 46), columns=['Store'])"
   ]
  },
  {
   "cell_type": "code",
   "execution_count": 22,
   "id": "44cd8ebf-ac89-4a0b-8b51-d0651adb0370",
   "metadata": {},
   "outputs": [],
   "source": [
    "store_df['Cut'] = cuts"
   ]
  },
  {
   "cell_type": "code",
   "execution_count": 23,
   "id": "cd84a69d-360c-4271-a9ae-d113ef535c17",
   "metadata": {},
   "outputs": [],
   "source": [
    "store_df = store_df.merge(tmp.query('statistic == \"median\"').drop('statistic', axis=1)).\\\n",
    "                    rename(columns={'value':'median'}).\\\n",
    "                    merge(tmp.query('statistic == \"IQR\"').drop('statistic', axis=1)).\\\n",
    "                    rename(columns={'value':'IQR'})"
   ]
  },
  {
   "cell_type": "markdown",
   "id": "5dc01928-61e9-4f31-ba43-093f1e28f86e",
   "metadata": {},
   "source": [
    "- 사후처리"
   ]
  },
  {
   "cell_type": "markdown",
   "id": "0ba896f4-a526-4aeb-bbdc-19349a34e7e7",
   "metadata": {},
   "source": [
    "`-` 군집내에서 쇼핑몰 지점별 중앙값의 차이가 큰 경우 군집을 쪼개겠다\n",
    "\n",
    "`-` 또한, 군집내에서 사분위수 범위가 유사한 것끼리 다시 군집화하겠다\n",
    "\n",
    "`-` 성능을 올리기 위해선 필수이다 (얼마나 올라갈진...)"
   ]
  },
  {
   "cell_type": "markdown",
   "id": "a0e5f4b1-5bb3-46ba-a5a6-6800ae648eaf",
   "metadata": {},
   "source": [
    "|군집 번호| 매출액의 범위|쇼핑몰 지점|\n",
    "|:-:|:-:|:-:|\n",
    "|1|$<416493$|33, 44, 5, 36, 38, 3|\n",
    "|2|$<556046$|30, 16, 37, 29, 9 ,42|\n",
    "|3|$<752464$|7, 15, 43, 25, 21|\n",
    "|4|$<954233$|45, 35, 17, 8, 34, 40|\n",
    "|5|$<1191838$|12, 22, 26, 18, 32|\n",
    "|6|$<1378340$|41, 28, 11, 24, 23, 31|\n",
    "|7|$<1786338$|19, 39, 6, 1, 27|\n",
    "|8|$\\geq 1786338$|10, 2, 13, 14, 20, 4|"
   ]
  },
  {
   "cell_type": "markdown",
   "id": "de5b035c-c9eb-4f84-8830-6d6262744dba",
   "metadata": {},
   "source": [
    "`-` 그룹 8 다시 분류\n",
    "\n",
    "2와 10, 13, 14, 20, 4\n",
    "\n",
    "`-` 그룹 7 다시 분류\n",
    "\n",
    "19, 39, 6,  1, 27\n",
    "\n",
    "`-` 그룹 6 다시 분류\n",
    "\n",
    "24, 23, 31, 11과 24, 41, 28\n",
    "\n",
    "`-` 그룹 5 다시 분류\n",
    "\n",
    "18, 32, 12, 22, 26\n",
    "\n",
    "`-` 그룹 4 다시 분류\n",
    "\n",
    "34와 40, 17, 35, 8\n",
    "\n",
    "`-` 그룹 3 다시 분류\n",
    "\n",
    "45(그룹3과 4의 경계)와 21, 25, 43(특별함), 7, 15\n",
    "\n",
    "`-` 그룹 2 다시 분류\n",
    "\n",
    "42(특별함), 37(특별함), 30(특별함), 16, 29, 9\n",
    "\n",
    "`-` 그룹 1 다시 분류\n",
    "\n",
    "36(하강), 38(상승), 33(특별함), 5, 44"
   ]
  },
  {
   "cell_type": "markdown",
   "id": "59968887-e8a3-4005-8a04-2cf2726b8b53",
   "metadata": {},
   "source": [
    "## 모델링"
   ]
  },
  {
   "cell_type": "code",
   "execution_count": 23,
   "id": "2d65b996-5574-40fb-afcb-cf7884876034",
   "metadata": {},
   "outputs": [],
   "source": [
    "from sklearn.model_selection import KFold, StratifiedKFold\n",
    "from sklearn.ensemble import RandomForestRegressor, ExtraTreesRegressor\n",
    "from catboost import CatBoostRegressor\n",
    "from xgboost import XGBRegressor\n",
    "from lightgbm import LGBMRegressor"
   ]
  },
  {
   "cell_type": "code",
   "execution_count": 24,
   "id": "094cec7a-7103-4880-932e-d15cc820fbb6",
   "metadata": {},
   "outputs": [],
   "source": [
    "SEED = 22"
   ]
  },
  {
   "cell_type": "code",
   "execution_count": 25,
   "id": "408976dc-fd3b-41ea-a369-324804faebad",
   "metadata": {},
   "outputs": [],
   "source": [
    "def RMSE(true, pred):\n",
    "    score = np.sqrt(np.mean(np.square(true - pred)))\n",
    "    return score"
   ]
  },
  {
   "cell_type": "code",
   "execution_count": 26,
   "id": "bdc4e912-efed-4db7-a753-0b3e346164af",
   "metadata": {},
   "outputs": [],
   "source": [
    "def OOF_predict(model, X, y, test, SKfold, stratify=None, original_score=False):\n",
    "    \"\"\"\n",
    "    Out-Of-Fold 방식을 통해 test(numeric)를 예측\n",
    "    train, valid에 대한 RMSE score와 예측한 test를 return\n",
    "    \"\"\" \n",
    "    model_valid_SAE = []\n",
    "    model_train_score = []\n",
    "    model_valid_score = []\n",
    "    model_pred = np.zeros(shape=(test.shape[0]))\n",
    "    \n",
    "    if stratify is not None:\n",
    "        split_fold = SKfold.split(X, X[stratify])\n",
    "    else:\n",
    "        split_fold = SKfold.split(X)\n",
    "\n",
    "    for i, (train_idx, valid_idx) in enumerate(split_fold):\n",
    "        # print(f'({i + 1} / {SKfold.n_splits}) Fold Training......')\n",
    "        X_train, y_train = X.iloc[train_idx], y.iloc[train_idx]\n",
    "        X_valid, y_valid = X.iloc[valid_idx], y.iloc[valid_idx]\n",
    "        \n",
    "        ## 모델 적합\n",
    "        model.fit(X_train,\n",
    "                  y_train,\n",
    "                  eval_set=[(X_train, y_train), (X_valid, y_valid)],\n",
    "                  #eval_metric='rmse', \n",
    "                  verbose=0,\n",
    "                  early_stopping_rounds=200\n",
    "                 )\n",
    "        \n",
    "        ## prediction\n",
    "        train_pred = model.predict(X_train) ## train\n",
    "        valid_pred = model.predict(X_valid) ## valid\n",
    "        test_pred = model.predict(test) ## test\n",
    "        \n",
    "        model_train_score.append(RMSE(y_train, train_pred)) ## train RMSE\n",
    "        model_valid_score.append(RMSE(y_valid, valid_pred)) ## valid RMSE\n",
    "        model_valid_SAE.extend(np.square(y_valid - valid_pred)) ## square of absolute error\n",
    "        model_pred += test_pred / SKfold.n_splits ## test 예측값(k Fold)\n",
    "              \n",
    "    if original_score:\n",
    "        return model_train_score, model_valid_score, model_valid_SAE, model_pred\n",
    "    return model_train_score, model_valid_score, model_pred"
   ]
  },
  {
   "cell_type": "markdown",
   "id": "72c63def-15e8-46e6-b14a-a5d95c54fdb3",
   "metadata": {},
   "source": [
    "`-` 랜덤 포레스트 모델과 그래디언트 부스팅 모델은 성능이 좋지 않았다"
   ]
  },
  {
   "cell_type": "code",
   "execution_count": 27,
   "id": "1ea452f2-91ce-41bc-a0d5-1478c4e95c08",
   "metadata": {},
   "outputs": [],
   "source": [
    "RF = RandomForestRegressor(n_estimators=300,\n",
    "                           max_depth=18,\n",
    "                           random_state=SEED)\n",
    "\n",
    "EXT = ExtraTreesRegressor(n_estimators=300,\n",
    "                           max_depth=18,\n",
    "                           random_state=SEED)"
   ]
  },
  {
   "cell_type": "code",
   "execution_count": 38,
   "id": "191f3965-fccd-40d6-b912-4fed31f96e8a",
   "metadata": {},
   "outputs": [],
   "source": [
    "CB = CatBoostRegressor(n_estimators=5000,\n",
    "                       learning_rate=0.03,\n",
    "                       #max_depth=9,\n",
    "                       use_best_model=True,\n",
    "                       random_state=SEED,\n",
    "                       verbose=0)\n",
    "\n",
    "XGB = XGBRegressor(n_estimators=3000,\n",
    "                   learning_rate=0.03,\n",
    "                   max_depth=7,\n",
    "                   random_state=SEED)\n",
    "\n",
    "LGBM = LGBMRegressor(n_estimators=3000,\n",
    "                     learning_rate=0.03,\n",
    "                     max_depth=7,\n",
    "                     min_child_samples=2,\n",
    "                     random_state=SEED)"
   ]
  },
  {
   "cell_type": "markdown",
   "id": "61d65f94-0541-4825-9014-c53e557654ad",
   "metadata": {},
   "source": [
    "- Month 변수를 1월, 12월, 그 외 나머지로 구성"
   ]
  },
  {
   "cell_type": "code",
   "execution_count": 259,
   "id": "f5bf7d84-04a8-475d-9759-7ade3a4044df",
   "metadata": {},
   "outputs": [],
   "source": [
    "# df['Month2'] = df['Month'].apply(lambda x: 0 if x == 1 else (1 if x != 12 else 2))\n",
    "# test['Month2'] = test['Month'].apply(lambda x: 0 if x == 1 else (1 if x != 12 else 2))"
   ]
  },
  {
   "cell_type": "markdown",
   "id": "c0cc55cd-4630-44cb-ab1d-2cecb9d27680",
   "metadata": {},
   "source": [
    "- 사용할 변수"
   ]
  },
  {
   "cell_type": "markdown",
   "id": "cbf1027c-4cd2-4099-aef1-fd06e1e0d07c",
   "metadata": {},
   "source": [
    "`-` 데이터가 일주일 간격으로 존재하여 `Day` 변수도 추가했다 (하루 간격이었으면 제외했음)\n",
    "\n",
    "`-` `Day_Range` 변수는 기온에 대한 정보와 날짜 정보를 담고 있다"
   ]
  },
  {
   "cell_type": "code",
   "execution_count": 72,
   "id": "8a1b5679-4152-4f71-87d1-1ee278346ab1",
   "metadata": {},
   "outputs": [],
   "source": [
    "features = [\n",
    "            'Store',\n",
    "            #'Temperature',\n",
    "            #'Fuel_Price',\n",
    "            #'Unemployment',\n",
    "            #'IsHoliday',\n",
    "            #'Promotion_Cost',\n",
    "            #'Year',\n",
    "            'Day',\n",
    "            'IsChristmasWeek',\n",
    "            'Month',\n",
    "            #'Month2',\n",
    "            'WeekOfYear',\n",
    "            'WeekOfMonth',\n",
    "            'Day_Range',\n",
    "            #'Temperature_Diff'\n",
    "           ]"
   ]
  },
  {
   "cell_type": "code",
   "execution_count": 30,
   "id": "c2c65ee3-530a-4e19-a7f6-9d926fcc2a9b",
   "metadata": {},
   "outputs": [],
   "source": [
    "target = df['Weekly_Sales']"
   ]
  },
  {
   "cell_type": "code",
   "execution_count": 76,
   "id": "1dc31189-fd92-4224-9505-1efb2b95cf97",
   "metadata": {},
   "outputs": [],
   "source": [
    "df2 = df[features] ## 교호작용 X\n",
    "test2 = test[features]"
   ]
  },
  {
   "cell_type": "code",
   "execution_count": 32,
   "id": "a839b5f6-8dca-4cfb-b426-885350381108",
   "metadata": {},
   "outputs": [],
   "source": [
    "k = 5\n",
    "skfold1 = StratifiedKFold(k, shuffle=True, random_state=SEED)\n",
    "skfold2 = StratifiedKFold(k, shuffle=True, random_state=SEED*2)"
   ]
  },
  {
   "cell_type": "markdown",
   "id": "cac62660-8390-4187-a1ac-53f085a1ee2f",
   "metadata": {},
   "source": [
    "- 모델 학습"
   ]
  },
  {
   "cell_type": "markdown",
   "id": "42c3e04d-5a31-46ee-bf3f-3979fe862bc1",
   "metadata": {},
   "source": [
    "`-` RF, EXT 모델의 성능은 좋지 않다"
   ]
  },
  {
   "cell_type": "markdown",
   "id": "45a510cc-97e2-4273-a804-c9a799c5099a",
   "metadata": {},
   "source": [
    "- RF"
   ]
  },
  {
   "cell_type": "code",
   "execution_count": 67,
   "id": "243d1324-1314-4d2c-87cc-4a65572682e8",
   "metadata": {},
   "outputs": [
    {
     "name": "stdout",
     "output_type": "stream",
     "text": [
      "RandomForestRegressor -> Mean: 109924.91976758649, Std: 10244.769607843862\n"
     ]
    }
   ],
   "source": [
    "_, RF_valid_RMSE1, RF_test_pred1 = OOF_predict(RF, df2, target, test2, skfold1, stratify='Store')\n",
    "_, RF_valid_RMSE2, RF_test_pred2 = OOF_predict(RF, df2, target, test2, skfold2, stratify='Store')\n",
    "print(f'{RF.__class__.__name__} -> Mean: {np.mean(RF_valid_RMSE1 + RF_valid_RMSE2)}, Std: {np.std(RF_valid_RMSE1 + RF_valid_RMSE2)}')"
   ]
  },
  {
   "cell_type": "markdown",
   "id": "a57ae99d-06c4-4ea1-80ea-2e8165d8a7f2",
   "metadata": {},
   "source": [
    "- EXT"
   ]
  },
  {
   "cell_type": "code",
   "execution_count": 71,
   "id": "f73fdd70-40ca-4d7c-9583-44acfecffeb2",
   "metadata": {},
   "outputs": [
    {
     "name": "stdout",
     "output_type": "stream",
     "text": [
      "ExtraTreesRegressor -> Mean: 145061.73794414362, Std: 12217.784447607528\n"
     ]
    }
   ],
   "source": [
    "_, EXT_valid_RMSE1, EXT_test_pred1 = OOF_predict(EXT, df2, target, test2, skfold1, stratify='Store')\n",
    "_, EXT_valid_RMSE2, EXT_test_pred2 = OOF_predict(EXT, df2, target, test2, skfold2, stratify='Store')\n",
    "print(f'{EXT.__class__.__name__} -> Mean: {np.mean(EXT_valid_RMSE1 + EXT_valid_RMSE2)}, Std: {np.std(EXT_valid_RMSE1 + EXT_valid_RMSE2)}')"
   ]
  },
  {
   "cell_type": "markdown",
   "id": "487606d9-2a75-480b-a86b-2265efd8a478",
   "metadata": {},
   "source": [
    "- CB"
   ]
  },
  {
   "cell_type": "code",
   "execution_count": 57,
   "id": "75bfa598-c7f5-4b90-8409-497a9e7c43c1",
   "metadata": {},
   "outputs": [
    {
     "name": "stdout",
     "output_type": "stream",
     "text": [
      "CatBoostRegressor -> Mean: 79738.92763592312, Std: 5731.959478252804\n"
     ]
    }
   ],
   "source": [
    "_, CB_valid_RMSE1, CB_test_pred1 = OOF_predict(CB, df2, target, test2, skfold1, stratify='Store')\n",
    "_, CB_valid_RMSE2, CB_test_pred2 = OOF_predict(CB, df2, target, test2, skfold2, stratify='Store')\n",
    "print(f'{CB.__class__.__name__} -> Mean: {np.mean(CB_valid_RMSE1 + CB_valid_RMSE2)}, Std: {np.std(CB_valid_RMSE1 + CB_valid_RMSE2)}')"
   ]
  },
  {
   "cell_type": "markdown",
   "id": "cfe4e072-a2aa-446a-8c94-0d1d15be8939",
   "metadata": {},
   "source": [
    "- XGB"
   ]
  },
  {
   "cell_type": "code",
   "execution_count": 60,
   "id": "dd9db743-9a50-4823-8f5a-c1c8457aae32",
   "metadata": {},
   "outputs": [
    {
     "name": "stdout",
     "output_type": "stream",
     "text": [
      "XGBRegressor -> Mean: 94365.03624550627, Std: 10254.552883121767\n"
     ]
    }
   ],
   "source": [
    "_, XGB_valid_RMSE1, XGB_test_pred1 = OOF_predict(XGB, df2, target, test2, skfold1, stratify='Store')\n",
    "_, XGB_valid_RMSE2, XGB_test_pred2 = OOF_predict(XGB, df2, target, test2, skfold2, stratify='Store')\n",
    "print(f'{XGB.__class__.__name__} -> Mean: {np.mean(XGB_valid_RMSE1 + XGB_valid_RMSE2)}, Std: {np.std(XGB_valid_RMSE1 + XGB_valid_RMSE2)}')"
   ]
  },
  {
   "cell_type": "markdown",
   "id": "82085dae-218c-4108-8419-60d6d9269953",
   "metadata": {},
   "source": [
    "- LGBM"
   ]
  },
  {
   "cell_type": "code",
   "execution_count": 180,
   "id": "c47f287f-c097-4965-85b8-597ecd48cf5a",
   "metadata": {},
   "outputs": [
    {
     "name": "stdout",
     "output_type": "stream",
     "text": [
      "LGBMRegressor -> Mean: 79685.80568992576, Std: 7307.979991065404\n"
     ]
    }
   ],
   "source": [
    "_, LGBM_valid_RMSE1, LGBM_test_pred1 = OOF_predict(LGBM, df2, target, test2, skfold1, stratify='Store')\n",
    "_, LGBM_valid_RMSE2, LGBM_test_pred2 = OOF_predict(LGBM, df2, target, test2, skfold2, stratify='Store')\n",
    "print(f'{LGBM.__class__.__name__} -> Mean: {np.mean(LGBM_valid_RMSE1 + LGBM_valid_RMSE2)}, Std: {np.std(LGBM_valid_RMSE1 + LGBM_valid_RMSE2)}')"
   ]
  },
  {
   "cell_type": "markdown",
   "id": "17df0ff5-33cf-4d83-9bcd-c76d1e8dd4be",
   "metadata": {},
   "source": [
    "`-` LGBM 모델의 성능이 가장 우수하다"
   ]
  },
  {
   "cell_type": "markdown",
   "id": "8a27ecbc-fe2d-4752-9eda-96b881c5a5d2",
   "metadata": {},
   "source": [
    "- test 예측 및 제출"
   ]
  },
  {
   "cell_type": "markdown",
   "id": "3cf8a8dd-9b92-4267-9faa-8eb75c59597f",
   "metadata": {},
   "source": [
    "`-` test 데이터의 경우 행이 180개로 train 데이터에 비해 매우 적다\n",
    "\n",
    "`-` 연도는 2012년만 존재하며 월의 경우 5월, 10월, 12월만 존재한다\n",
    "\n",
    "`-` 오버피팅을 주의해야 한다\n",
    "\n",
    "`-` LGBM 모델과 XGB 모델은 성능이 좋지 않았으며 Catboost 모델의 성능은 나쁘지 않다"
   ]
  },
  {
   "cell_type": "code",
   "execution_count": 142,
   "id": "3e7893ea-0662-4136-8a7f-e34bcb488c01",
   "metadata": {},
   "outputs": [
    {
     "data": {
      "text/html": [
       "<div>\n",
       "<style scoped>\n",
       "    .dataframe tbody tr th:only-of-type {\n",
       "        vertical-align: middle;\n",
       "    }\n",
       "\n",
       "    .dataframe tbody tr th {\n",
       "        vertical-align: top;\n",
       "    }\n",
       "\n",
       "    .dataframe thead th {\n",
       "        text-align: right;\n",
       "    }\n",
       "</style>\n",
       "<table border=\"1\" class=\"dataframe\">\n",
       "  <thead>\n",
       "    <tr style=\"text-align: right;\">\n",
       "      <th></th>\n",
       "      <th>id</th>\n",
       "      <th>Weekly_Sales</th>\n",
       "    </tr>\n",
       "  </thead>\n",
       "  <tbody>\n",
       "    <tr>\n",
       "      <th>0</th>\n",
       "      <td>1</td>\n",
       "      <td>1.629705e+06</td>\n",
       "    </tr>\n",
       "    <tr>\n",
       "      <th>1</th>\n",
       "      <td>2</td>\n",
       "      <td>1.556559e+06</td>\n",
       "    </tr>\n",
       "    <tr>\n",
       "      <th>2</th>\n",
       "      <td>3</td>\n",
       "      <td>1.258371e+06</td>\n",
       "    </tr>\n",
       "    <tr>\n",
       "      <th>3</th>\n",
       "      <td>4</td>\n",
       "      <td>1.271491e+06</td>\n",
       "    </tr>\n",
       "    <tr>\n",
       "      <th>4</th>\n",
       "      <td>5</td>\n",
       "      <td>1.837574e+06</td>\n",
       "    </tr>\n",
       "  </tbody>\n",
       "</table>\n",
       "</div>"
      ],
      "text/plain": [
       "   id  Weekly_Sales\n",
       "0   1  1.629705e+06\n",
       "1   2  1.556559e+06\n",
       "2   3  1.258371e+06\n",
       "3   4  1.271491e+06\n",
       "4   5  1.837574e+06"
      ]
     },
     "execution_count": 142,
     "metadata": {},
     "output_type": "execute_result"
    }
   ],
   "source": [
    "submission['Weekly_Sales'] = (CB_test_pred1 + CB_test_pred2) / 2\n",
    "submission.head()"
   ]
  },
  {
   "cell_type": "code",
   "execution_count": 143,
   "id": "cd721ade-8a96-4a79-a0c5-8b1beea5a705",
   "metadata": {},
   "outputs": [
    {
     "data": {
      "text/plain": [
       "<AxesSubplot:xlabel='Weekly_Sales', ylabel='Density'>"
      ]
     },
     "execution_count": 143,
     "metadata": {},
     "output_type": "execute_result"
    },
    {
     "data": {
      "image/png": "[encoded data removed]",
      "text/plain": [
       "<Figure size 864x288 with 2 Axes>"
      ]
     },
     "metadata": {
      "needs_background": "light"
     },
     "output_type": "display_data"
    }
   ],
   "source": [
    "fig, (ax1, ax2) = plt.subplots(1, 2, figsize=(12, 4))\n",
    "sns.distplot(df.query('Year == 2011 and (Month == 5 or Month == 10 or Month == 12)')['Weekly_Sales'], ax=ax1)\n",
    "sns.distplot(submission['Weekly_Sales'], ax=ax2)"
   ]
  },
  {
   "cell_type": "code",
   "execution_count": 403,
   "id": "5c4f4868-e622-4677-9e0f-0e23574f1e30",
   "metadata": {},
   "outputs": [],
   "source": [
    "# submission.to_csv('./Data/submission5.csv', index=False)"
   ]
  },
  {
   "cell_type": "markdown",
   "id": "10458b57-35ea-4e50-84f5-d44d23d05e5d",
   "metadata": {},
   "source": [
    "## 쇼핑몰 지점별 모델 생성"
   ]
  },
  {
   "cell_type": "markdown",
   "id": "391bda88-4c45-47f9-845e-7945b8cbb572",
   "metadata": {},
   "source": [
    "`-` 쇼핑몰마다 주간 매출액의 분포가 상이하여 비슷한 분포를 띄는 쇼핑몰끼리 그룹화하려고 했다\n",
    "\n",
    "`-` 그런데 굳이 그룹화 하지않고 쇼핑몰 지점에 따른 모델을 생성하여 학습하고자 했다 \n",
    "\n",
    "`-` 원핫인코딩을 사용하면 피쳐의 개수가 너무 많아져서 쇼핑몰 지점마다 모델을 생성\n",
    "\n",
    "`-` 기존의 존재하지 않는 새로운 쇼핑몰이라면 전체 데이터로 학습시킨 모델을 사용했다\n",
    "\n",
    "`-` 그러나 test 데이터에서 새로운 쇼핑몰은 등장하지 않았다"
   ]
  },
  {
   "cell_type": "code",
   "execution_count": 60,
   "id": "35a1d743-e1ae-42a8-a5e7-7d7338398afd",
   "metadata": {},
   "outputs": [],
   "source": [
    "k = 10\n",
    "skfold1 = KFold(k, shuffle=True, random_state=SEED+2)\n",
    "#skfold2 = KFold(k, shuffle=True, random_state=SEED*2)"
   ]
  },
  {
   "cell_type": "code",
   "execution_count": 71,
   "id": "691c3a0e-1319-4498-b626-8bcad4035119",
   "metadata": {},
   "outputs": [],
   "source": [
    "CB = CatBoostRegressor(n_estimators=5000,\n",
    "                       learning_rate=0.03,\n",
    "                       max_depth=6,\n",
    "                       use_best_model=True,\n",
    "                       random_state=SEED,\n",
    "                       verbose=0)"
   ]
  },
  {
   "cell_type": "code",
   "execution_count": 74,
   "id": "a1f3b959-b958-435f-8500-9487ff3eb50f",
   "metadata": {},
   "outputs": [],
   "source": [
    "XGB = XGBRegressor(n_estimators=3000,\n",
    "                   learning_rate=0.03,\n",
    "                   max_depth=6,\n",
    "                   random_state=SEED)"
   ]
  },
  {
   "cell_type": "code",
   "execution_count": 73,
   "id": "301a0d72-f2bc-43cb-97fb-57d17ad15c18",
   "metadata": {},
   "outputs": [],
   "source": [
    "LGBM = LGBMRegressor(n_estimators=5000,\n",
    "                     learning_rate=0.03,\n",
    "                     max_depth=6,\n",
    "                     min_child_samples=3,\n",
    "                     random_state=SEED)"
   ]
  },
  {
   "cell_type": "code",
   "execution_count": 77,
   "id": "e51edc9e-178b-48ec-89b1-16bba18efe9f",
   "metadata": {},
   "outputs": [
    {
     "name": "stderr",
     "output_type": "stream",
     "text": [
      "  2%|█▊                                                                                 | 1/45 [00:09<07:13,  9.85s/it]"
     ]
    },
    {
     "name": "stdout",
     "output_type": "stream",
     "text": [
      "1 -> Mean: 71882.48992936092 Std: 15167.184935794234\n"
     ]
    },
    {
     "name": "stderr",
     "output_type": "stream",
     "text": [
      "  4%|███▋                                                                               | 2/45 [00:20<07:27, 10.40s/it]"
     ]
    },
    {
     "name": "stdout",
     "output_type": "stream",
     "text": [
      "2 -> Mean: 93215.30327652217 Std: 25362.4224854352\n"
     ]
    },
    {
     "name": "stderr",
     "output_type": "stream",
     "text": [
      "  7%|█████▌                                                                             | 3/45 [00:28<06:32,  9.35s/it]"
     ]
    },
    {
     "name": "stdout",
     "output_type": "stream",
     "text": [
      "3 -> Mean: 22695.982978421285 Std: 3294.0601605764114\n"
     ]
    },
    {
     "name": "stderr",
     "output_type": "stream",
     "text": [
      "  9%|███████▍                                                                           | 4/45 [00:43<07:44, 11.32s/it]"
     ]
    },
    {
     "name": "stdout",
     "output_type": "stream",
     "text": [
      "4 -> Mean: 99986.2488301826 Std: 18670.604486872355\n"
     ]
    },
    {
     "name": "stderr",
     "output_type": "stream",
     "text": [
      " 11%|█████████▏                                                                         | 5/45 [00:57<08:10, 12.27s/it]"
     ]
    },
    {
     "name": "stdout",
     "output_type": "stream",
     "text": [
      "5 -> Mean: 16580.20571696024 Std: 3466.41766633691\n"
     ]
    },
    {
     "name": "stderr",
     "output_type": "stream",
     "text": [
      " 13%|███████████                                                                        | 6/45 [01:11<08:32, 13.14s/it]"
     ]
    },
    {
     "name": "stdout",
     "output_type": "stream",
     "text": [
      "6 -> Mean: 75016.58340494471 Std: 19736.246175407774\n"
     ]
    },
    {
     "name": "stderr",
     "output_type": "stream",
     "text": [
      " 16%|████████████▉                                                                      | 7/45 [01:23<08:06, 12.80s/it]"
     ]
    },
    {
     "name": "stdout",
     "output_type": "stream",
     "text": [
      "7 -> Mean: 50015.73241235196 Std: 14863.280393182062\n"
     ]
    },
    {
     "name": "stderr",
     "output_type": "stream",
     "text": [
      " 18%|██████████████▊                                                                    | 8/45 [01:44<09:27, 15.33s/it]"
     ]
    },
    {
     "name": "stdout",
     "output_type": "stream",
     "text": [
      "8 -> Mean: 46253.56833454028 Std: 14044.243208678063\n"
     ]
    },
    {
     "name": "stderr",
     "output_type": "stream",
     "text": [
      " 20%|████████████████▌                                                                  | 9/45 [01:57<08:43, 14.55s/it]"
     ]
    },
    {
     "name": "stdout",
     "output_type": "stream",
     "text": [
      "9 -> Mean: 30295.68115740446 Std: 8260.614478233116\n"
     ]
    },
    {
     "name": "stderr",
     "output_type": "stream",
     "text": [
      " 22%|██████████████████▏                                                               | 10/45 [02:07<07:36, 13.05s/it]"
     ]
    },
    {
     "name": "stdout",
     "output_type": "stream",
     "text": [
      "10 -> Mean: 121991.3740357807 Std: 40855.54052085991\n"
     ]
    },
    {
     "name": "stderr",
     "output_type": "stream",
     "text": [
      " 24%|████████████████████                                                              | 11/45 [02:16<06:41, 11.82s/it]"
     ]
    },
    {
     "name": "stdout",
     "output_type": "stream",
     "text": [
      "11 -> Mean: 81567.1957538433 Std: 14942.234719589182\n"
     ]
    },
    {
     "name": "stderr",
     "output_type": "stream",
     "text": [
      " 27%|█████████████████████▊                                                            | 12/45 [02:23<05:47, 10.54s/it]"
     ]
    },
    {
     "name": "stdout",
     "output_type": "stream",
     "text": [
      "12 -> Mean: 57484.12257887311 Std: 14144.135903607626\n"
     ]
    },
    {
     "name": "stderr",
     "output_type": "stream",
     "text": [
      " 29%|███████████████████████▋                                                          | 13/45 [02:36<05:58, 11.21s/it]"
     ]
    },
    {
     "name": "stdout",
     "output_type": "stream",
     "text": [
      "13 -> Mean: 100985.03412245498 Std: 21771.807000630975\n"
     ]
    },
    {
     "name": "stderr",
     "output_type": "stream",
     "text": [
      " 31%|█████████████████████████▌                                                        | 14/45 [02:45<05:21, 10.36s/it]"
     ]
    },
    {
     "name": "stdout",
     "output_type": "stream",
     "text": [
      "14 -> Mean: 149246.25720111016 Std: 45537.13190219465\n"
     ]
    },
    {
     "name": "stderr",
     "output_type": "stream",
     "text": [
      " 33%|███████████████████████████▎                                                      | 15/45 [02:57<05:25, 10.87s/it]"
     ]
    },
    {
     "name": "stdout",
     "output_type": "stream",
     "text": [
      "15 -> Mean: 41764.72964973625 Std: 12014.608676740592\n"
     ]
    },
    {
     "name": "stderr",
     "output_type": "stream",
     "text": [
      " 36%|█████████████████████████████▏                                                    | 16/45 [03:06<04:59, 10.31s/it]"
     ]
    },
    {
     "name": "stdout",
     "output_type": "stream",
     "text": [
      "16 -> Mean: 33273.916007217085 Std: 7658.3698263223505\n"
     ]
    },
    {
     "name": "stderr",
     "output_type": "stream",
     "text": [
      " 38%|██████████████████████████████▉                                                   | 17/45 [03:15<04:41, 10.05s/it]"
     ]
    },
    {
     "name": "stdout",
     "output_type": "stream",
     "text": [
      "17 -> Mean: 73366.49648637022 Std: 24439.64475203209\n"
     ]
    },
    {
     "name": "stderr",
     "output_type": "stream",
     "text": [
      " 40%|████████████████████████████████▊                                                 | 18/45 [03:24<04:20,  9.64s/it]"
     ]
    },
    {
     "name": "stdout",
     "output_type": "stream",
     "text": [
      "18 -> Mean: 86618.33260134855 Std: 30724.606001069165\n"
     ]
    },
    {
     "name": "stderr",
     "output_type": "stream",
     "text": [
      " 42%|██████████████████████████████████▌                                               | 19/45 [03:34<04:18,  9.93s/it]"
     ]
    },
    {
     "name": "stdout",
     "output_type": "stream",
     "text": [
      "19 -> Mean: 80818.00936821727 Std: 21706.76034486681\n"
     ]
    },
    {
     "name": "stderr",
     "output_type": "stream",
     "text": [
      " 44%|████████████████████████████████████▍                                             | 20/45 [03:44<04:04,  9.80s/it]"
     ]
    },
    {
     "name": "stdout",
     "output_type": "stream",
     "text": [
      "20 -> Mean: 117541.2810648594 Std: 32845.421641363806\n"
     ]
    },
    {
     "name": "stderr",
     "output_type": "stream",
     "text": [
      " 47%|██████████████████████████████████████▎                                           | 21/45 [03:55<04:04, 10.18s/it]"
     ]
    },
    {
     "name": "stdout",
     "output_type": "stream",
     "text": [
      "21 -> Mean: 54880.87154021376 Std: 15000.493065315572\n"
     ]
    },
    {
     "name": "stderr",
     "output_type": "stream",
     "text": [
      " 49%|████████████████████████████████████████                                          | 22/45 [04:04<03:43,  9.73s/it]"
     ]
    },
    {
     "name": "stdout",
     "output_type": "stream",
     "text": [
      "22 -> Mean: 61106.00829720874 Std: 18420.61733404778\n"
     ]
    },
    {
     "name": "stderr",
     "output_type": "stream",
     "text": [
      " 51%|█████████████████████████████████████████▉                                        | 23/45 [04:11<03:19,  9.08s/it]"
     ]
    },
    {
     "name": "stdout",
     "output_type": "stream",
     "text": [
      "23 -> Mean: 98779.42935286502 Std: 23651.192633874907\n"
     ]
    },
    {
     "name": "stderr",
     "output_type": "stream",
     "text": [
      " 53%|███████████████████████████████████████████▋                                      | 24/45 [04:19<03:00,  8.58s/it]"
     ]
    },
    {
     "name": "stdout",
     "output_type": "stream",
     "text": [
      "24 -> Mean: 81127.49451064374 Std: 17586.086723445216\n"
     ]
    },
    {
     "name": "stderr",
     "output_type": "stream",
     "text": [
      " 56%|█████████████████████████████████████████████▌                                    | 25/45 [04:27<02:51,  8.55s/it]"
     ]
    },
    {
     "name": "stdout",
     "output_type": "stream",
     "text": [
      "25 -> Mean: 37859.55520030216 Std: 11592.373883521897\n"
     ]
    },
    {
     "name": "stderr",
     "output_type": "stream",
     "text": [
      " 58%|███████████████████████████████████████████████▍                                  | 26/45 [04:38<02:58,  9.38s/it]"
     ]
    },
    {
     "name": "stdout",
     "output_type": "stream",
     "text": [
      "26 -> Mean: 47928.52015355552 Std: 12442.765513141785\n"
     ]
    },
    {
     "name": "stderr",
     "output_type": "stream",
     "text": [
      " 60%|█████████████████████████████████████████████████▏                                | 27/45 [04:45<02:35,  8.65s/it]"
     ]
    },
    {
     "name": "stdout",
     "output_type": "stream",
     "text": [
      "27 -> Mean: 129251.43469520446 Std: 45914.142265354916\n"
     ]
    },
    {
     "name": "stderr",
     "output_type": "stream",
     "text": [
      " 62%|███████████████████████████████████████████████████                               | 28/45 [04:55<02:30,  8.84s/it]"
     ]
    },
    {
     "name": "stdout",
     "output_type": "stream",
     "text": [
      "28 -> Mean: 73767.20478302614 Std: 17032.450424000628\n"
     ]
    },
    {
     "name": "stderr",
     "output_type": "stream",
     "text": [
      " 64%|████████████████████████████████████████████████████▊                             | 29/45 [05:02<02:15,  8.45s/it]"
     ]
    },
    {
     "name": "stdout",
     "output_type": "stream",
     "text": [
      "29 -> Mean: 41226.82571188348 Std: 10747.790914912315\n"
     ]
    },
    {
     "name": "stderr",
     "output_type": "stream",
     "text": [
      " 67%|██████████████████████████████████████████████████████▋                           | 30/45 [05:08<01:53,  7.56s/it]"
     ]
    },
    {
     "name": "stdout",
     "output_type": "stream",
     "text": [
      "30 -> Mean: 16567.52906962001 Std: 2841.4568315476313\n"
     ]
    },
    {
     "name": "stderr",
     "output_type": "stream",
     "text": [
      " 69%|████████████████████████████████████████████████████████▍                         | 31/45 [05:18<01:59,  8.55s/it]"
     ]
    },
    {
     "name": "stdout",
     "output_type": "stream",
     "text": [
      "31 -> Mean: 53673.4189968471 Std: 10657.866943302204\n"
     ]
    },
    {
     "name": "stderr",
     "output_type": "stream",
     "text": [
      " 71%|██████████████████████████████████████████████████████████▎                       | 32/45 [05:27<01:50,  8.48s/it]"
     ]
    },
    {
     "name": "stdout",
     "output_type": "stream",
     "text": [
      "32 -> Mean: 49704.852785304865 Std: 9492.03917058759\n"
     ]
    },
    {
     "name": "stderr",
     "output_type": "stream",
     "text": [
      " 73%|████████████████████████████████████████████████████████████▏                     | 33/45 [05:36<01:44,  8.71s/it]"
     ]
    },
    {
     "name": "stdout",
     "output_type": "stream",
     "text": [
      "33 -> Mean: 12623.728154658826 Std: 3346.21652997485\n"
     ]
    },
    {
     "name": "stderr",
     "output_type": "stream",
     "text": [
      " 76%|█████████████████████████████████████████████████████████████▉                    | 34/45 [05:44<01:34,  8.57s/it]"
     ]
    },
    {
     "name": "stdout",
     "output_type": "stream",
     "text": [
      "34 -> Mean: 38622.19215681681 Std: 10079.474799462196\n"
     ]
    },
    {
     "name": "stderr",
     "output_type": "stream",
     "text": [
      " 78%|███████████████████████████████████████████████████████████████▊                  | 35/45 [05:51<01:19,  7.97s/it]"
     ]
    },
    {
     "name": "stdout",
     "output_type": "stream",
     "text": [
      "35 -> Mean: 88506.91654598582 Std: 15500.513248997659\n"
     ]
    },
    {
     "name": "stderr",
     "output_type": "stream",
     "text": [
      " 80%|█████████████████████████████████████████████████████████████████▌                | 36/45 [06:01<01:16,  8.54s/it]"
     ]
    },
    {
     "name": "stdout",
     "output_type": "stream",
     "text": [
      "36 -> Mean: 17688.093498036054 Std: 3425.858107078863\n"
     ]
    },
    {
     "name": "stderr",
     "output_type": "stream",
     "text": [
      " 82%|███████████████████████████████████████████████████████████████████▍              | 37/45 [06:07<01:01,  7.73s/it]"
     ]
    },
    {
     "name": "stdout",
     "output_type": "stream",
     "text": [
      "37 -> Mean: 14207.623931454164 Std: 2304.796468124682\n"
     ]
    },
    {
     "name": "stderr",
     "output_type": "stream",
     "text": [
      " 84%|█████████████████████████████████████████████████████████████████████▏            | 38/45 [06:14<00:54,  7.78s/it]"
     ]
    },
    {
     "name": "stdout",
     "output_type": "stream",
     "text": [
      "38 -> Mean: 14973.31052969858 Std: 3566.1804376022255\n"
     ]
    },
    {
     "name": "stderr",
     "output_type": "stream",
     "text": [
      " 87%|███████████████████████████████████████████████████████████████████████           | 39/45 [06:25<00:51,  8.60s/it]"
     ]
    },
    {
     "name": "stdout",
     "output_type": "stream",
     "text": [
      "39 -> Mean: 87520.81987831557 Std: 21348.792355267025\n"
     ]
    },
    {
     "name": "stderr",
     "output_type": "stream",
     "text": [
      " 89%|████████████████████████████████████████████████████████████████████████▉         | 40/45 [06:37<00:47,  9.49s/it]"
     ]
    },
    {
     "name": "stdout",
     "output_type": "stream",
     "text": [
      "40 -> Mean: 45059.69447606895 Std: 9207.793182914225\n"
     ]
    },
    {
     "name": "stderr",
     "output_type": "stream",
     "text": [
      " 91%|██████████████████████████████████████████████████████████████████████████▋       | 41/45 [06:57<00:50, 12.69s/it]"
     ]
    },
    {
     "name": "stdout",
     "output_type": "stream",
     "text": [
      "41 -> Mean: 72024.39405747641 Std: 22288.73383412199\n"
     ]
    },
    {
     "name": "stderr",
     "output_type": "stream",
     "text": [
      " 93%|████████████████████████████████████████████████████████████████████████████▌     | 42/45 [07:16<00:44, 14.70s/it]"
     ]
    },
    {
     "name": "stdout",
     "output_type": "stream",
     "text": [
      "42 -> Mean: 18281.57327976748 Std: 4621.863139703148\n"
     ]
    },
    {
     "name": "stderr",
     "output_type": "stream",
     "text": [
      " 96%|██████████████████████████████████████████████████████████████████████████████▎   | 43/45 [07:25<00:25, 12.89s/it]"
     ]
    },
    {
     "name": "stdout",
     "output_type": "stream",
     "text": [
      "43 -> Mean: 28580.42531605278 Std: 5270.071725940069\n"
     ]
    },
    {
     "name": "stderr",
     "output_type": "stream",
     "text": [
      " 98%|████████████████████████████████████████████████████████████████████████████████▏ | 44/45 [07:34<00:11, 11.78s/it]"
     ]
    },
    {
     "name": "stdout",
     "output_type": "stream",
     "text": [
      "44 -> Mean: 10918.448921386394 Std: 2614.5933323981376\n"
     ]
    },
    {
     "name": "stderr",
     "output_type": "stream",
     "text": [
      "100%|██████████████████████████████████████████████████████████████████████████████████| 45/45 [07:45<00:00, 10.35s/it]"
     ]
    },
    {
     "name": "stdout",
     "output_type": "stream",
     "text": [
      "45 -> Mean: 48246.9552076969 Std: 15564.082084212756\n",
      "쇼핑몰 지점별 RMSE의 평균: 59860.57479912421\n",
      "모델의 RMSE: 71599.23746431962\n"
     ]
    },
    {
     "name": "stderr",
     "output_type": "stream",
     "text": [
      "\n"
     ]
    }
   ],
   "source": [
    "valid_RMSE = []\n",
    "valid_SAE = []\n",
    "preds = {}\n",
    "model = XGB\n",
    "for store in tqdm(range(1, 46)):\n",
    "    df3 = df.query('Store == @store')\n",
    "    target = df3['Weekly_Sales']\n",
    "    df3 = df3[features].drop('Store', axis=1)\n",
    "    test3 = test2.query('Store == @store')\n",
    "    test3 = test3[features].drop('Store', axis=1)\n",
    "    _, model_valid_RMSE, model_valid_SAE, model_test_pred = OOF_predict(model, df3, target, test3, skfold1, original_score=True)\n",
    "    #_, model_valid_RMSE2, model_valid_SAE2, model_test_pred2 = OOF_predict(model, df3, target, test3, skfold2, original_score=True)\n",
    "    \n",
    "    valid_RMSE.extend(model_valid_RMSE \n",
    "                      #+ model_valid_RMSE2\n",
    "                     )\n",
    "    valid_SAE.extend(model_valid_SAE \n",
    "                     #+ model_valid_SAE2\n",
    "                    )\n",
    "    preds[store] = model_test_pred \n",
    "    print(f'{store} -> Mean: {np.mean(model_valid_RMSE)} Std: {np.std(model_valid_RMSE)}')\n",
    "\n",
    "print(f'쇼핑몰 지점별 RMSE의 평균: {np.mean(valid_RMSE)}')\n",
    "print(f'모델의 RMSE: {np.sqrt(np.mean(valid_SAE))}')"
   ]
  },
  {
   "cell_type": "code",
   "execution_count": 78,
   "id": "8c61fcf8-42c9-4886-af6b-fb18239a8166",
   "metadata": {},
   "outputs": [],
   "source": [
    "predictions = pd.DataFrame(data=preds[1])\n",
    "for i in range(2, 46):\n",
    "    predictions = predictions.append(pd.DataFrame(data=preds[i]))\n",
    "predictions = predictions.reset_index().drop('index', axis=1).rename(columns={0:'target'})"
   ]
  },
  {
   "cell_type": "code",
   "execution_count": 79,
   "id": "279cc7fa-fba2-48a4-b5b3-670349aab10d",
   "metadata": {},
   "outputs": [],
   "source": [
    "submission['Weekly_Sales'] = predictions['target'] "
   ]
  },
  {
   "cell_type": "code",
   "execution_count": 80,
   "id": "1585065b-8264-469c-81dd-c265e9305c34",
   "metadata": {},
   "outputs": [
    {
     "data": {
      "text/plain": [
       "<AxesSubplot:xlabel='Weekly_Sales', ylabel='Density'>"
      ]
     },
     "execution_count": 80,
     "metadata": {},
     "output_type": "execute_result"
    },
    {
     "data": {
      "image/png": "[encoded data removed]",
      "text/plain": [
       "<Figure size 864x288 with 2 Axes>"
      ]
     },
     "metadata": {
      "needs_background": "light"
     },
     "output_type": "display_data"
    }
   ],
   "source": [
    "fig, (ax1, ax2) = plt.subplots(1, 2, figsize=(12, 4))\n",
    "sns.distplot(df.query('Year == 2011 and (Month == 5 or Month == 10 or Month == 12)')['Weekly_Sales'], ax=ax1)\n",
    "sns.distplot(submission['Weekly_Sales'], ax=ax2)"
   ]
  },
  {
   "cell_type": "code",
   "execution_count": 82,
   "id": "fe345203-c7f9-403e-9c15-688e5f0cc0de",
   "metadata": {},
   "outputs": [],
   "source": [
    "# submission.to_csv('./Data/submission21.csv', index=False)"
   ]
  },
  {
   "cell_type": "code",
   "execution_count": null,
   "id": "74e44ecb-3f96-4c4a-9837-e9572a2a689d",
   "metadata": {},
   "outputs": [],
   "source": []
  }
 ],
 "metadata": {
  "kernelspec": {
   "display_name": "Python 3 (ipykernel)",
   "language": "python",
   "name": "python3"
  },
  "language_info": {
   "codemirror_mode": {
    "name": "ipython",
    "version": 3
   },
   "file_extension": ".py",
   "mimetype": "text/x-python",
   "name": "python",
   "nbconvert_exporter": "python",
   "pygments_lexer": "ipython3",
   "version": "3.8.11"
  }
 },
 "nbformat": 4,
 "nbformat_minor": 5
}
