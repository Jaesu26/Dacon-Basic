{
 "cells": [
  {
   "cell_type": "markdown",
   "id": "c1c0aaf7-ffad-486d-8f46-e72332397f31",
   "metadata": {},
   "source": [
    "# 쇼핑몰 지점별 매출액 예측 경진대회"
   ]
  },
  {
   "cell_type": "markdown",
   "id": "072902e6-33c6-43ea-9afa-c0e0d3ca262b",
   "metadata": {},
   "source": [
    "## 데이터 불러오기"
   ]
  },
  {
   "cell_type": "code",
   "execution_count": 1,
   "id": "3067a461-803d-4a6d-90a4-7d930e950f05",
   "metadata": {},
   "outputs": [],
   "source": [
    "import numpy as np\n",
    "import pandas as pd\n",
    "import os\n",
    "import matplotlib.pyplot as plt\n",
    "import seaborn as sns\n",
    "import warnings\n",
    "from tqdm import tqdm\n",
    "\n",
    "warnings.filterwarnings('ignore')"
   ]
  },
  {
   "cell_type": "code",
   "execution_count": 20,
   "id": "983d2bc8-5164-4441-b99d-dcc138c6d175",
   "metadata": {},
   "outputs": [],
   "source": [
    "sns.set_theme(style='white')"
   ]
  },
  {
   "cell_type": "code",
   "execution_count": 4,
   "id": "70c79229-03e2-4b3e-a1f7-42097c2771e4",
   "metadata": {},
   "outputs": [
    {
     "data": {
      "text/plain": [
       "'C:\\\\Users\\\\Jaesu\\\\github_desktop\\\\Dacon-Basic\\\\쇼핑몰지점별-매출액-예측\\\\쇼핑몰지점별-매출액-EDA모델링'"
      ]
     },
     "execution_count": 4,
     "metadata": {},
     "output_type": "execute_result"
    }
   ],
   "source": [
    "os.getcwd()"
   ]
  },
  {
   "cell_type": "code",
   "execution_count": 7,
   "id": "2e0db761-f4a1-4150-ade9-2fd897da0aa7",
   "metadata": {},
   "outputs": [],
   "source": [
    "os.chdir('C:\\\\Users\\\\Jaesu\\\\github_desktop\\\\Dacon-Basic\\\\쇼핑몰지점별-매출액-예측')"
   ]
  },
  {
   "cell_type": "code",
   "execution_count": 382,
   "id": "e9e87da9-7d5c-4ada-b707-3239ad1c7017",
   "metadata": {},
   "outputs": [],
   "source": [
    "df = pd.read_csv('./Data/train.csv')\n",
    "test = pd.read_csv('./Data/test.csv')\n",
    "submission = pd.read_csv('./Data/sample_submission.csv')"
   ]
  },
  {
   "cell_type": "code",
   "execution_count": 383,
   "id": "a3e43af1-4538-493b-b4e4-9e15a8ce138a",
   "metadata": {},
   "outputs": [],
   "source": [
    "df.drop('id', axis=1, inplace=True)\n",
    "test.drop('id', axis=1, inplace=True)"
   ]
  },
  {
   "cell_type": "markdown",
   "id": "62a11d4b-5680-4299-b8a3-444c408bcc61",
   "metadata": {},
   "source": [
    "## 데이터 전처리 및 파생변수 생성"
   ]
  },
  {
   "cell_type": "markdown",
   "id": "fe079c39-a4d8-4b45-93e3-737c10b878f0",
   "metadata": {},
   "source": [
    "- Data 변수를 날짜 형식으로 변경하여 연, 월, 일 변수를 생성\n",
    "\n",
    "`-` 또한 2010년을 기준으로 연월일을 하루 단위로 변환하여 2010년으로부터 며칠이 지났는지를 알 수 있는 변수를 생성하겠다  "
   ]
  },
  {
   "cell_type": "code",
   "execution_count": 384,
   "id": "ded8be55-2ec9-428d-8dce-7731c8538357",
   "metadata": {},
   "outputs": [],
   "source": [
    "def get_date(df) -> None:\n",
    "    \"\"\"df['Date']에서 연, 월, 일 변수를 생성\"\"\" \n",
    "    df['Date'] = pd.to_datetime(df['Date'])\n",
    "    df['Year'] = df['Date'].dt.year\n",
    "    df['Month'] = df['Date'].dt.month\n",
    "    df['Day'] = df['Date'].dt.day"
   ]
  },
  {
   "cell_type": "code",
   "execution_count": 385,
   "id": "41e00b3c-1934-44c1-981e-13a77162a0c8",
   "metadata": {},
   "outputs": [],
   "source": [
    "get_date(df)\n",
    "get_date(test)"
   ]
  },
  {
   "cell_type": "code",
   "execution_count": 386,
   "id": "8d099e78-4c79-4602-adea-b1b64f34dee8",
   "metadata": {},
   "outputs": [],
   "source": [
    "df['Day_Range'] = (df['Date'] - pd.datetime(2010, 1, 1)).dt.days\n",
    "test['Day_Range'] = (test['Date'] - pd.datetime(2010, 1, 1)).dt.days"
   ]
  },
  {
   "cell_type": "markdown",
   "id": "6ec47d03-b373-4249-970a-2f9896cc404d",
   "metadata": {},
   "source": [
    "- 공휴일 변수를 숫자로 변경"
   ]
  },
  {
   "cell_type": "code",
   "execution_count": 387,
   "id": "3085f0e4-6ca4-4297-9e8c-55637c4747c5",
   "metadata": {},
   "outputs": [],
   "source": [
    "df['IsHoliday'] = df['IsHoliday'].apply(lambda x: 1 if x else 0)\n",
    "test['IsHoliday'] = test['IsHoliday'].apply(lambda x: 1 if x else 0)"
   ]
  },
  {
   "cell_type": "markdown",
   "id": "8a0f8106-4aa5-4f63-ac56-12c32cacf4a5",
   "metadata": {},
   "source": [
    "- 프로모션의 결측치를 $-1$로 대체"
   ]
  },
  {
   "cell_type": "code",
   "execution_count": 388,
   "id": "42342cb1-7425-42c6-a220-ba90c6ad9afd",
   "metadata": {},
   "outputs": [],
   "source": [
    "df.fillna(value=-1, inplace=True)\n",
    "test.fillna(value=-1, inplace=True)"
   ]
  },
  {
   "cell_type": "markdown",
   "id": "25b53daa-a15a-4de2-989e-e2e481e95a79",
   "metadata": {},
   "source": [
    "- 총 프로모션 비용 변수 생성"
   ]
  },
  {
   "cell_type": "code",
   "execution_count": 389,
   "id": "306a757a-fa03-48a7-a009-099a30e2b906",
   "metadata": {},
   "outputs": [],
   "source": [
    "df['Promotion_Cost'] = df[['Promotion1', 'Promotion2', 'Promotion3', 'Promotion4', 'Promotion5']].sum(axis=1)\n",
    "test['Promotion_Cost'] = test[['Promotion1', 'Promotion2', 'Promotion3', 'Promotion4', 'Promotion5']].sum(axis=1)"
   ]
  },
  {
   "cell_type": "markdown",
   "id": "b26144c8-3271-467d-83e5-943361599426",
   "metadata": {},
   "source": [
    "- 연말 유무를 판단하는 변수 생성"
   ]
  },
  {
   "cell_type": "code",
   "execution_count": 390,
   "id": "bc7bf7d5-e749-4e59-8b7d-4ff8605c071a",
   "metadata": {},
   "outputs": [],
   "source": [
    "df['IsYearEnd'] = df['Month'].apply(lambda x: 1 if x == 12 else 0)\n",
    "test['IsYearEnd'] = test['Month'].apply(lambda x: 1 if x == 12 else 0)"
   ]
  },
  {
   "cell_type": "code",
   "execution_count": 391,
   "id": "b68cf575-7b3b-4c7f-b10d-b4826ff55d58",
   "metadata": {},
   "outputs": [
    {
     "data": {
      "text/html": [
       "<div>\n",
       "<style scoped>\n",
       "    .dataframe tbody tr th:only-of-type {\n",
       "        vertical-align: middle;\n",
       "    }\n",
       "\n",
       "    .dataframe tbody tr th {\n",
       "        vertical-align: top;\n",
       "    }\n",
       "\n",
       "    .dataframe thead th {\n",
       "        text-align: right;\n",
       "    }\n",
       "</style>\n",
       "<table border=\"1\" class=\"dataframe\">\n",
       "  <thead>\n",
       "    <tr style=\"text-align: right;\">\n",
       "      <th></th>\n",
       "      <th>Store</th>\n",
       "      <th>Date</th>\n",
       "      <th>Temperature</th>\n",
       "      <th>Fuel_Price</th>\n",
       "      <th>Promotion1</th>\n",
       "      <th>Promotion2</th>\n",
       "      <th>Promotion3</th>\n",
       "      <th>Promotion4</th>\n",
       "      <th>Promotion5</th>\n",
       "      <th>Unemployment</th>\n",
       "      <th>IsHoliday</th>\n",
       "      <th>Weekly_Sales</th>\n",
       "      <th>Year</th>\n",
       "      <th>Month</th>\n",
       "      <th>Day</th>\n",
       "      <th>Day_Range</th>\n",
       "      <th>Promotion_Cost</th>\n",
       "      <th>IsYearEnd</th>\n",
       "    </tr>\n",
       "  </thead>\n",
       "  <tbody>\n",
       "    <tr>\n",
       "      <th>0</th>\n",
       "      <td>1</td>\n",
       "      <td>2010-05-02</td>\n",
       "      <td>42.31</td>\n",
       "      <td>2.572</td>\n",
       "      <td>-1.0</td>\n",
       "      <td>-1.0</td>\n",
       "      <td>-1.0</td>\n",
       "      <td>-1.0</td>\n",
       "      <td>-1.0</td>\n",
       "      <td>8.106</td>\n",
       "      <td>0</td>\n",
       "      <td>1643690.90</td>\n",
       "      <td>2010</td>\n",
       "      <td>5</td>\n",
       "      <td>2</td>\n",
       "      <td>121</td>\n",
       "      <td>-5.0</td>\n",
       "      <td>0</td>\n",
       "    </tr>\n",
       "    <tr>\n",
       "      <th>1</th>\n",
       "      <td>1</td>\n",
       "      <td>2010-12-02</td>\n",
       "      <td>38.51</td>\n",
       "      <td>2.548</td>\n",
       "      <td>-1.0</td>\n",
       "      <td>-1.0</td>\n",
       "      <td>-1.0</td>\n",
       "      <td>-1.0</td>\n",
       "      <td>-1.0</td>\n",
       "      <td>8.106</td>\n",
       "      <td>1</td>\n",
       "      <td>1641957.44</td>\n",
       "      <td>2010</td>\n",
       "      <td>12</td>\n",
       "      <td>2</td>\n",
       "      <td>335</td>\n",
       "      <td>-5.0</td>\n",
       "      <td>1</td>\n",
       "    </tr>\n",
       "    <tr>\n",
       "      <th>2</th>\n",
       "      <td>1</td>\n",
       "      <td>2010-02-19</td>\n",
       "      <td>39.93</td>\n",
       "      <td>2.514</td>\n",
       "      <td>-1.0</td>\n",
       "      <td>-1.0</td>\n",
       "      <td>-1.0</td>\n",
       "      <td>-1.0</td>\n",
       "      <td>-1.0</td>\n",
       "      <td>8.106</td>\n",
       "      <td>0</td>\n",
       "      <td>1611968.17</td>\n",
       "      <td>2010</td>\n",
       "      <td>2</td>\n",
       "      <td>19</td>\n",
       "      <td>49</td>\n",
       "      <td>-5.0</td>\n",
       "      <td>0</td>\n",
       "    </tr>\n",
       "    <tr>\n",
       "      <th>3</th>\n",
       "      <td>1</td>\n",
       "      <td>2010-02-26</td>\n",
       "      <td>46.63</td>\n",
       "      <td>2.561</td>\n",
       "      <td>-1.0</td>\n",
       "      <td>-1.0</td>\n",
       "      <td>-1.0</td>\n",
       "      <td>-1.0</td>\n",
       "      <td>-1.0</td>\n",
       "      <td>8.106</td>\n",
       "      <td>0</td>\n",
       "      <td>1409727.59</td>\n",
       "      <td>2010</td>\n",
       "      <td>2</td>\n",
       "      <td>26</td>\n",
       "      <td>56</td>\n",
       "      <td>-5.0</td>\n",
       "      <td>0</td>\n",
       "    </tr>\n",
       "    <tr>\n",
       "      <th>4</th>\n",
       "      <td>1</td>\n",
       "      <td>2010-05-03</td>\n",
       "      <td>46.50</td>\n",
       "      <td>2.625</td>\n",
       "      <td>-1.0</td>\n",
       "      <td>-1.0</td>\n",
       "      <td>-1.0</td>\n",
       "      <td>-1.0</td>\n",
       "      <td>-1.0</td>\n",
       "      <td>8.106</td>\n",
       "      <td>0</td>\n",
       "      <td>1554806.68</td>\n",
       "      <td>2010</td>\n",
       "      <td>5</td>\n",
       "      <td>3</td>\n",
       "      <td>122</td>\n",
       "      <td>-5.0</td>\n",
       "      <td>0</td>\n",
       "    </tr>\n",
       "  </tbody>\n",
       "</table>\n",
       "</div>"
      ],
      "text/plain": [
       "   Store       Date  Temperature  Fuel_Price  Promotion1  Promotion2  \\\n",
       "0      1 2010-05-02        42.31       2.572        -1.0        -1.0   \n",
       "1      1 2010-12-02        38.51       2.548        -1.0        -1.0   \n",
       "2      1 2010-02-19        39.93       2.514        -1.0        -1.0   \n",
       "3      1 2010-02-26        46.63       2.561        -1.0        -1.0   \n",
       "4      1 2010-05-03        46.50       2.625        -1.0        -1.0   \n",
       "\n",
       "   Promotion3  Promotion4  Promotion5  Unemployment  IsHoliday  Weekly_Sales  \\\n",
       "0        -1.0        -1.0        -1.0         8.106          0    1643690.90   \n",
       "1        -1.0        -1.0        -1.0         8.106          1    1641957.44   \n",
       "2        -1.0        -1.0        -1.0         8.106          0    1611968.17   \n",
       "3        -1.0        -1.0        -1.0         8.106          0    1409727.59   \n",
       "4        -1.0        -1.0        -1.0         8.106          0    1554806.68   \n",
       "\n",
       "   Year  Month  Day  Day_Range  Promotion_Cost  IsYearEnd  \n",
       "0  2010      5    2        121            -5.0          0  \n",
       "1  2010     12    2        335            -5.0          1  \n",
       "2  2010      2   19         49            -5.0          0  \n",
       "3  2010      2   26         56            -5.0          0  \n",
       "4  2010      5    3        122            -5.0          0  "
      ]
     },
     "execution_count": 391,
     "metadata": {},
     "output_type": "execute_result"
    }
   ],
   "source": [
    "df.head()"
   ]
  },
  {
   "cell_type": "markdown",
   "id": "b87da657-4585-482a-8ae1-66e4514a9757",
   "metadata": {},
   "source": [
    "- 쇼핑몰 지점 군집화"
   ]
  },
  {
   "cell_type": "code",
   "execution_count": 49,
   "id": "971351b6-706a-4187-90ce-cdf43f5ec905",
   "metadata": {},
   "outputs": [
    {
     "data": {
      "text/plain": [
       "<AxesSubplot:xlabel='Weekly_Sales', ylabel='Count'>"
      ]
     },
     "execution_count": 49,
     "metadata": {},
     "output_type": "execute_result"
    },
    {
     "data": {
      "image/png": "[encoded data removed]",
      "text/plain": [
       "<Figure size 432x288 with 1 Axes>"
      ]
     },
     "metadata": {},
     "output_type": "display_data"
    }
   ],
   "source": [
    "sns.histplot(data=df, x='Weekly_Sales', kde=True)"
   ]
  },
  {
   "cell_type": "code",
   "execution_count": 21,
   "id": "1ecaf6f5-c942-4b20-b350-e59aff4c5dc7",
   "metadata": {},
   "outputs": [
    {
     "data": {
      "text/plain": [
       "<AxesSubplot:xlabel='Store', ylabel='Weekly_Sales'>"
      ]
     },
     "execution_count": 21,
     "metadata": {},
     "output_type": "execute_result"
    },
    {
     "data": {
      "image/png": "[encoded data removed]",
      "text/plain": [
       "<Figure size 1152x576 with 1 Axes>"
      ]
     },
     "metadata": {},
     "output_type": "display_data"
    }
   ],
   "source": [
    "plt.figure(figsize=(16, 8))\n",
    "sns.boxplot(data=df, y='Weekly_Sales', x='Store')"
   ]
  },
  {
   "cell_type": "markdown",
   "id": "9ddafce2-0169-4612-bd4d-9c3a7e419ffe",
   "metadata": {},
   "source": [
    "`-` 비슷한 분포를 띄는 쇼핑몰 지점을 군집화하자 (매출액의 중앙값과 IQR, 지난 일수와의 상관계수가 비슷해야 함)"
   ]
  },
  {
   "cell_type": "code",
   "execution_count": 131,
   "id": "0a65c071-99cd-4935-9f36-a884c5e8b31a",
   "metadata": {},
   "outputs": [],
   "source": [
    "tmp = df.groupby(by='Store').agg({'Weekly_Sales':[np.median, lambda x: np.quantile(x, q=0.75) - np.quantile(x, q=0.25)]}).\\\n",
    "        reset_index().rename(columns={'<lambda_0>':'IQR'}).melt(id_vars='Store').\\\n",
    "        rename(columns={'variable_1':'statistic'}).drop('variable_0', axis=1)"
   ]
  },
  {
   "cell_type": "code",
   "execution_count": 134,
   "id": "0929a908-8c8a-4206-b58a-b930d0c2e6ea",
   "metadata": {},
   "outputs": [
    {
     "data": {
      "text/plain": [
       "<AxesSubplot:>"
      ]
     },
     "execution_count": 134,
     "metadata": {},
     "output_type": "execute_result"
    },
    {
     "data": {
      "image/png": "[encoded data removed]",
      "text/plain": [
       "<Figure size 432x288 with 1 Axes>"
      ]
     },
     "metadata": {},
     "output_type": "display_data"
    }
   ],
   "source": [
    "tmp.query('statistic == \"median\"').value.plot.box()"
   ]
  },
  {
   "cell_type": "code",
   "execution_count": 135,
   "id": "d6e7d86d-2486-4486-a73b-a0b51074fc5b",
   "metadata": {},
   "outputs": [
    {
     "data": {
      "text/plain": [
       "<AxesSubplot:>"
      ]
     },
     "execution_count": 135,
     "metadata": {},
     "output_type": "execute_result"
    },
    {
     "data": {
      "image/png": "[encoded data removed]",
      "text/plain": [
       "<Figure size 432x288 with 1 Axes>"
      ]
     },
     "metadata": {},
     "output_type": "display_data"
    }
   ],
   "source": [
    "tmp.query('statistic == \"IQR\"').value.plot.box()"
   ]
  },
  {
   "cell_type": "markdown",
   "id": "019a3a37-7bb2-4604-8fb3-d53b7b9e93f8",
   "metadata": {},
   "source": [
    "`-` 매출액의 중앙값과 사분위수 범위가 비슷한 쇼핑몰 지점끼리 군집화하겠다\n",
    "\n",
    "`-` 나의 능지 문제로 일단은 일일이 분류하겠다\n",
    "\n",
    "`-` 나중에 함수로 만들든 클래스로 만들든 해가지고 이를 사용해 분류하겠다\n"
   ]
  },
  {
   "cell_type": "code",
   "execution_count": 194,
   "id": "c9676103-9149-496c-9c8f-2499104ced05",
   "metadata": {},
   "outputs": [],
   "source": [
    "median_bins = [-np.inf]\n",
    "for i in range(1, 8):\n",
    "    value = np.quantile(tmp.query('statistic == \"median\"').value, q=i/8)\n",
    "    median_bins.append(value)\n",
    "median_bins.append(np.inf)"
   ]
  },
  {
   "cell_type": "code",
   "execution_count": 195,
   "id": "9da0b52c-848a-4c96-b22c-e74c33ab154c",
   "metadata": {},
   "outputs": [],
   "source": [
    "cuts = pd.cut(tmp.query('statistic == \"median\"').value, bins=median_bins, labels=list(range(1, 9)))"
   ]
  },
  {
   "cell_type": "code",
   "execution_count": 210,
   "id": "285d624e-9af7-40f2-b8ba-cf5d2e947386",
   "metadata": {},
   "outputs": [],
   "source": [
    "store_df = pd.DataFrame(data=range(1, 46), columns=['Store'])"
   ]
  },
  {
   "cell_type": "code",
   "execution_count": 211,
   "id": "44cd8ebf-ac89-4a0b-8b51-d0651adb0370",
   "metadata": {},
   "outputs": [],
   "source": [
    "store_df['Cut'] = cuts"
   ]
  },
  {
   "cell_type": "code",
   "execution_count": 212,
   "id": "cd84a69d-360c-4271-a9ae-d113ef535c17",
   "metadata": {},
   "outputs": [],
   "source": [
    "store_df = store_df.merge(tmp.query('statistic == \"median\"').drop('statistic', axis=1))"
   ]
  },
  {
   "cell_type": "markdown",
   "id": "5dc01928-61e9-4f31-ba43-093f1e28f86e",
   "metadata": {},
   "source": [
    "- 사후처리"
   ]
  },
  {
   "cell_type": "markdown",
   "id": "0ba896f4-a526-4aeb-bbdc-19349a34e7e7",
   "metadata": {},
   "source": [
    "`-` 군집내에서 쇼핑몰 지점별 중앙값의 차이가 큰 경우 군집을 쪼개겠다\n",
    "\n",
    "`-` 또한, 군집내에서 사분위수 범위가 유사한 것끼리 다시 군집화하겠다"
   ]
  },
  {
   "cell_type": "code",
   "execution_count": 223,
   "id": "dd64012f-b946-434b-98dd-3ef5bebd6f3e",
   "metadata": {},
   "outputs": [
    {
     "data": {
      "text/html": [
       "<div>\n",
       "<style scoped>\n",
       "    .dataframe tbody tr th:only-of-type {\n",
       "        vertical-align: middle;\n",
       "    }\n",
       "\n",
       "    .dataframe tbody tr th {\n",
       "        vertical-align: top;\n",
       "    }\n",
       "\n",
       "    .dataframe thead th {\n",
       "        text-align: right;\n",
       "    }\n",
       "</style>\n",
       "<table border=\"1\" class=\"dataframe\">\n",
       "  <thead>\n",
       "    <tr style=\"text-align: right;\">\n",
       "      <th></th>\n",
       "      <th>Store</th>\n",
       "      <th>Cut</th>\n",
       "      <th>value</th>\n",
       "    </tr>\n",
       "  </thead>\n",
       "  <tbody>\n",
       "    <tr>\n",
       "      <th>32</th>\n",
       "      <td>33</td>\n",
       "      <td>1</td>\n",
       "      <td>258427.39</td>\n",
       "    </tr>\n",
       "    <tr>\n",
       "      <th>43</th>\n",
       "      <td>44</td>\n",
       "      <td>1</td>\n",
       "      <td>296947.06</td>\n",
       "    </tr>\n",
       "    <tr>\n",
       "      <th>4</th>\n",
       "      <td>5</td>\n",
       "      <td>1</td>\n",
       "      <td>310013.11</td>\n",
       "    </tr>\n",
       "    <tr>\n",
       "      <th>35</th>\n",
       "      <td>36</td>\n",
       "      <td>1</td>\n",
       "      <td>374182.04</td>\n",
       "    </tr>\n",
       "    <tr>\n",
       "      <th>37</th>\n",
       "      <td>38</td>\n",
       "      <td>1</td>\n",
       "      <td>378539.17</td>\n",
       "    </tr>\n",
       "    <tr>\n",
       "      <th>2</th>\n",
       "      <td>3</td>\n",
       "      <td>1</td>\n",
       "      <td>394918.83</td>\n",
       "    </tr>\n",
       "    <tr>\n",
       "      <th>29</th>\n",
       "      <td>30</td>\n",
       "      <td>2</td>\n",
       "      <td>438068.71</td>\n",
       "    </tr>\n",
       "    <tr>\n",
       "      <th>15</th>\n",
       "      <td>16</td>\n",
       "      <td>2</td>\n",
       "      <td>509942.56</td>\n",
       "    </tr>\n",
       "    <tr>\n",
       "      <th>36</th>\n",
       "      <td>37</td>\n",
       "      <td>2</td>\n",
       "      <td>517546.69</td>\n",
       "    </tr>\n",
       "    <tr>\n",
       "      <th>28</th>\n",
       "      <td>29</td>\n",
       "      <td>2</td>\n",
       "      <td>518628.42</td>\n",
       "    </tr>\n",
       "    <tr>\n",
       "      <th>8</th>\n",
       "      <td>9</td>\n",
       "      <td>2</td>\n",
       "      <td>535153.47</td>\n",
       "    </tr>\n",
       "    <tr>\n",
       "      <th>41</th>\n",
       "      <td>42</td>\n",
       "      <td>2</td>\n",
       "      <td>556046.12</td>\n",
       "    </tr>\n",
       "    <tr>\n",
       "      <th>6</th>\n",
       "      <td>7</td>\n",
       "      <td>3</td>\n",
       "      <td>558691.43</td>\n",
       "    </tr>\n",
       "    <tr>\n",
       "      <th>14</th>\n",
       "      <td>15</td>\n",
       "      <td>3</td>\n",
       "      <td>604173.59</td>\n",
       "    </tr>\n",
       "    <tr>\n",
       "      <th>42</th>\n",
       "      <td>43</td>\n",
       "      <td>3</td>\n",
       "      <td>635171.05</td>\n",
       "    </tr>\n",
       "    <tr>\n",
       "      <th>24</th>\n",
       "      <td>25</td>\n",
       "      <td>3</td>\n",
       "      <td>684783.15</td>\n",
       "    </tr>\n",
       "    <tr>\n",
       "      <th>20</th>\n",
       "      <td>21</td>\n",
       "      <td>3</td>\n",
       "      <td>739279.19</td>\n",
       "    </tr>\n",
       "    <tr>\n",
       "      <th>44</th>\n",
       "      <td>45</td>\n",
       "      <td>4</td>\n",
       "      <td>765648.93</td>\n",
       "    </tr>\n",
       "    <tr>\n",
       "      <th>34</th>\n",
       "      <td>35</td>\n",
       "      <td>4</td>\n",
       "      <td>849397.57</td>\n",
       "    </tr>\n",
       "    <tr>\n",
       "      <th>16</th>\n",
       "      <td>17</td>\n",
       "      <td>4</td>\n",
       "      <td>871264.25</td>\n",
       "    </tr>\n",
       "    <tr>\n",
       "      <th>7</th>\n",
       "      <td>8</td>\n",
       "      <td>4</td>\n",
       "      <td>892393.77</td>\n",
       "    </tr>\n",
       "    <tr>\n",
       "      <th>33</th>\n",
       "      <td>34</td>\n",
       "      <td>4</td>\n",
       "      <td>949625.52</td>\n",
       "    </tr>\n",
       "    <tr>\n",
       "      <th>39</th>\n",
       "      <td>40</td>\n",
       "      <td>4</td>\n",
       "      <td>954233.87</td>\n",
       "    </tr>\n",
       "    <tr>\n",
       "      <th>11</th>\n",
       "      <td>12</td>\n",
       "      <td>5</td>\n",
       "      <td>985594.23</td>\n",
       "    </tr>\n",
       "    <tr>\n",
       "      <th>21</th>\n",
       "      <td>22</td>\n",
       "      <td>5</td>\n",
       "      <td>993436.67</td>\n",
       "    </tr>\n",
       "    <tr>\n",
       "      <th>25</th>\n",
       "      <td>26</td>\n",
       "      <td>5</td>\n",
       "      <td>996723.58</td>\n",
       "    </tr>\n",
       "    <tr>\n",
       "      <th>17</th>\n",
       "      <td>18</td>\n",
       "      <td>5</td>\n",
       "      <td>1057425.83</td>\n",
       "    </tr>\n",
       "    <tr>\n",
       "      <th>31</th>\n",
       "      <td>32</td>\n",
       "      <td>5</td>\n",
       "      <td>1144254.26</td>\n",
       "    </tr>\n",
       "    <tr>\n",
       "      <th>40</th>\n",
       "      <td>41</td>\n",
       "      <td>6</td>\n",
       "      <td>1239423.19</td>\n",
       "    </tr>\n",
       "    <tr>\n",
       "      <th>27</th>\n",
       "      <td>28</td>\n",
       "      <td>6</td>\n",
       "      <td>1267619.06</td>\n",
       "    </tr>\n",
       "    <tr>\n",
       "      <th>10</th>\n",
       "      <td>11</td>\n",
       "      <td>6</td>\n",
       "      <td>1323999.36</td>\n",
       "    </tr>\n",
       "    <tr>\n",
       "      <th>23</th>\n",
       "      <td>24</td>\n",
       "      <td>6</td>\n",
       "      <td>1339630.35</td>\n",
       "    </tr>\n",
       "    <tr>\n",
       "      <th>22</th>\n",
       "      <td>23</td>\n",
       "      <td>6</td>\n",
       "      <td>1346345.97</td>\n",
       "    </tr>\n",
       "    <tr>\n",
       "      <th>30</th>\n",
       "      <td>31</td>\n",
       "      <td>6</td>\n",
       "      <td>1378340.18</td>\n",
       "    </tr>\n",
       "    <tr>\n",
       "      <th>18</th>\n",
       "      <td>19</td>\n",
       "      <td>7</td>\n",
       "      <td>1411835.57</td>\n",
       "    </tr>\n",
       "    <tr>\n",
       "      <th>38</th>\n",
       "      <td>39</td>\n",
       "      <td>7</td>\n",
       "      <td>1412065.04</td>\n",
       "    </tr>\n",
       "    <tr>\n",
       "      <th>5</th>\n",
       "      <td>6</td>\n",
       "      <td>7</td>\n",
       "      <td>1526801.24</td>\n",
       "    </tr>\n",
       "    <tr>\n",
       "      <th>0</th>\n",
       "      <td>1</td>\n",
       "      <td>7</td>\n",
       "      <td>1534849.64</td>\n",
       "    </tr>\n",
       "    <tr>\n",
       "      <th>26</th>\n",
       "      <td>27</td>\n",
       "      <td>7</td>\n",
       "      <td>1744879.06</td>\n",
       "    </tr>\n",
       "    <tr>\n",
       "      <th>9</th>\n",
       "      <td>10</td>\n",
       "      <td>8</td>\n",
       "      <td>1827797.40</td>\n",
       "    </tr>\n",
       "    <tr>\n",
       "      <th>1</th>\n",
       "      <td>2</td>\n",
       "      <td>8</td>\n",
       "      <td>1879107.31</td>\n",
       "    </tr>\n",
       "    <tr>\n",
       "      <th>12</th>\n",
       "      <td>13</td>\n",
       "      <td>8</td>\n",
       "      <td>1955689.12</td>\n",
       "    </tr>\n",
       "    <tr>\n",
       "      <th>13</th>\n",
       "      <td>14</td>\n",
       "      <td>8</td>\n",
       "      <td>2019031.67</td>\n",
       "    </tr>\n",
       "    <tr>\n",
       "      <th>19</th>\n",
       "      <td>20</td>\n",
       "      <td>8</td>\n",
       "      <td>2053165.41</td>\n",
       "    </tr>\n",
       "    <tr>\n",
       "      <th>3</th>\n",
       "      <td>4</td>\n",
       "      <td>8</td>\n",
       "      <td>2065377.15</td>\n",
       "    </tr>\n",
       "  </tbody>\n",
       "</table>\n",
       "</div>"
      ],
      "text/plain": [
       "    Store Cut       value\n",
       "32     33   1   258427.39\n",
       "43     44   1   296947.06\n",
       "4       5   1   310013.11\n",
       "35     36   1   374182.04\n",
       "37     38   1   378539.17\n",
       "2       3   1   394918.83\n",
       "29     30   2   438068.71\n",
       "15     16   2   509942.56\n",
       "36     37   2   517546.69\n",
       "28     29   2   518628.42\n",
       "8       9   2   535153.47\n",
       "41     42   2   556046.12\n",
       "6       7   3   558691.43\n",
       "14     15   3   604173.59\n",
       "42     43   3   635171.05\n",
       "24     25   3   684783.15\n",
       "20     21   3   739279.19\n",
       "44     45   4   765648.93\n",
       "34     35   4   849397.57\n",
       "16     17   4   871264.25\n",
       "7       8   4   892393.77\n",
       "33     34   4   949625.52\n",
       "39     40   4   954233.87\n",
       "11     12   5   985594.23\n",
       "21     22   5   993436.67\n",
       "25     26   5   996723.58\n",
       "17     18   5  1057425.83\n",
       "31     32   5  1144254.26\n",
       "40     41   6  1239423.19\n",
       "27     28   6  1267619.06\n",
       "10     11   6  1323999.36\n",
       "23     24   6  1339630.35\n",
       "22     23   6  1346345.97\n",
       "30     31   6  1378340.18\n",
       "18     19   7  1411835.57\n",
       "38     39   7  1412065.04\n",
       "5       6   7  1526801.24\n",
       "0       1   7  1534849.64\n",
       "26     27   7  1744879.06\n",
       "9      10   8  1827797.40\n",
       "1       2   8  1879107.31\n",
       "12     13   8  1955689.12\n",
       "13     14   8  2019031.67\n",
       "19     20   8  2053165.41\n",
       "3       4   8  2065377.15"
      ]
     },
     "execution_count": 223,
     "metadata": {},
     "output_type": "execute_result"
    }
   ],
   "source": [
    "store_df.groupby(['Cut', 'Store', 'value']).sample().sort_values(by=['Cut', 'value'])"
   ]
  },
  {
   "cell_type": "markdown",
   "id": "59968887-e8a3-4005-8a04-2cf2726b8b53",
   "metadata": {},
   "source": [
    "## 모델링"
   ]
  },
  {
   "cell_type": "code",
   "execution_count": 225,
   "id": "2d65b996-5574-40fb-afcb-cf7884876034",
   "metadata": {},
   "outputs": [],
   "source": [
    "from sklearn.model_selection import StratifiedKFold\n",
    "from sklearn.ensemble import RandomForestRegressor, ExtraTreesRegressor, GradientBoostingRegressor\n",
    "from catboost import CatBoostRegressor\n",
    "from xgboost import XGBRegressor\n",
    "from lightgbm import LGBMRegressor"
   ]
  },
  {
   "cell_type": "code",
   "execution_count": 231,
   "id": "094cec7a-7103-4880-932e-d15cc820fbb6",
   "metadata": {},
   "outputs": [],
   "source": [
    "SEED = 22"
   ]
  },
  {
   "cell_type": "code",
   "execution_count": 226,
   "id": "408976dc-fd3b-41ea-a369-324804faebad",
   "metadata": {},
   "outputs": [],
   "source": [
    "def RMSE(true, pred):\n",
    "    score = np.sqrt(np.mean(np.square(true - pred)))\n",
    "    return score"
   ]
  },
  {
   "cell_type": "code",
   "execution_count": 229,
   "id": "bdc4e912-efed-4db7-a753-0b3e346164af",
   "metadata": {},
   "outputs": [],
   "source": [
    "def OOF_predict(model, X, y, test, SKfold, stratify):\n",
    "    \"\"\"\n",
    "    Out-Of-Fold 방식을 통해 test(numeric)를 예측\n",
    "    train, valid에 대한 NMAE score와 예측한 test를 return\n",
    "    \"\"\" \n",
    "    model_train_score = []\n",
    "    model_valid_score = []\n",
    "    model_pred = np.zeros(shape=(test.shape[0]))\n",
    "\n",
    "    for i, (train_idx, valid_idx) in enumerate(SKfold.split(X, X[stratify])):\n",
    "        # print(f'({i + 1} / {SKfold.n_splits}) Fold Training......')\n",
    "        X_train, y_train = X.iloc[train_idx], y.iloc[train_idx]\n",
    "        X_valid, y_valid = X.iloc[valid_idx], y.iloc[valid_idx]\n",
    "        \n",
    "        ## 모델 적합\n",
    "        model.fit(X_train, y_train)\n",
    "        \n",
    "        ## prediction\n",
    "        train_pred = model.predict(X_train) ## train\n",
    "        valid_pred = model.predict(X_valid) ## valid\n",
    "        test_pred = model.predict(test) ## test\n",
    "        \n",
    "        model_train_score.append(RMSE(y_train, train_pred)) ## train NMAE\n",
    "        model_valid_score.append(RMSE(y_valid, valid_pred)) ## valid NMAE\n",
    "        model_pred += test_pred / SKfold.n_splits ## test 예측값(k Fold)\n",
    "              \n",
    "    return model_train_score, model_valid_score, model_pred"
   ]
  },
  {
   "cell_type": "code",
   "execution_count": 328,
   "id": "191f3965-fccd-40d6-b912-4fed31f96e8a",
   "metadata": {},
   "outputs": [],
   "source": [
    "RF = RandomForestRegressor(n_estimators=500,\n",
    "                           max_depth=12,\n",
    "                           min_samples_split=2,\n",
    "                           random_state=SEED)\n",
    "\n",
    "EXT = ExtraTreesRegressor(n_estimators=500,\n",
    "                          max_depth=15,\n",
    "                          min_samples_split=2,\n",
    "                          random_state=SEED)\n",
    "\n",
    "GD = GradientBoostingRegressor(n_estimators=500,\n",
    "                               learning_rate=0.05,\n",
    "                               max_depth=6,\n",
    "                               min_samples_split=3,\n",
    "                               random_state=SEED)\n",
    "\n",
    "CB = CatBoostRegressor(n_estimators=700,\n",
    "                       learning_rate=0.05,\n",
    "                       max_depth=7,\n",
    "                       random_state=SEED,\n",
    "                       verbose=0)\n",
    "\n",
    "XGB = XGBRegressor(n_estimators=500,\n",
    "                   learning_rate=0.05,\n",
    "                   max_depth=6,\n",
    "                   random_state=SEED)\n",
    "\n",
    "LGBM = LGBMRegressor(n_estimators=500,\n",
    "                     learning_rate=0.05,\n",
    "                     max_depth=8,\n",
    "                     random_state=SEED)"
   ]
  },
  {
   "cell_type": "code",
   "execution_count": 406,
   "id": "8a1b5679-4152-4f71-87d1-1ee278346ab1",
   "metadata": {},
   "outputs": [],
   "source": [
    "features = [\n",
    "            'Store',\n",
    "            'Temperature',\n",
    "            'Fuel_Price',\n",
    "            'Unemployment',\n",
    "            'IsHoliday',\n",
    "            'Promotion_Cost',\n",
    "            #'IsYearEnd',\n",
    "            'Year',\n",
    "            'Month',\n",
    "            'Day_Range',\n",
    "           ]"
   ]
  },
  {
   "cell_type": "code",
   "execution_count": 393,
   "id": "c2c65ee3-530a-4e19-a7f6-9d926fcc2a9b",
   "metadata": {},
   "outputs": [],
   "source": [
    "target = df['Weekly_Sales']\n",
    "df.drop('Weekly_Sales', axis=1, inplace=True)"
   ]
  },
  {
   "cell_type": "code",
   "execution_count": 394,
   "id": "1dc31189-fd92-4224-9505-1efb2b95cf97",
   "metadata": {},
   "outputs": [],
   "source": [
    "df2 = df[features] ## 교호작용 X\n",
    "test2 = test[features]"
   ]
  },
  {
   "cell_type": "code",
   "execution_count": 395,
   "id": "a839b5f6-8dca-4cfb-b426-885350381108",
   "metadata": {},
   "outputs": [],
   "source": [
    "k = 5\n",
    "skfold1 = StratifiedKFold(k, shuffle=True, random_state=SEED)\n",
    "skfold2 = StratifiedKFold(k, shuffle=True, random_state=SEED*2)"
   ]
  },
  {
   "cell_type": "markdown",
   "id": "cac62660-8390-4187-a1ac-53f085a1ee2f",
   "metadata": {},
   "source": [
    "- 모델 학습"
   ]
  },
  {
   "cell_type": "code",
   "execution_count": 304,
   "id": "0f569588-213b-4045-8e95-dabb52f5a6c0",
   "metadata": {},
   "outputs": [
    {
     "name": "stdout",
     "output_type": "stream",
     "text": [
      "RandomForestRegressor -> Mean: 157875.42601005337, Std: 7922.675258314715\n"
     ]
    }
   ],
   "source": [
    "_, RF_valid_RMSE1, RF_test_pred1 = OOF_predict(RF, df2, target, test2, skfold1, stratify='Store')\n",
    "_, RF_valid_RMSE2, RF_test_pred2 = OOF_predict(RF, df2, target, test2, skfold2, stratify='Store')\n",
    "print(f'{RF.__class__.__name__} -> Mean: {np.mean(RF_valid_RMSE1 + RF_valid_RMSE2)}, Std: {np.std(RF_valid_RMSE1 + RF_valid_RMSE2)}')"
   ]
  },
  {
   "cell_type": "code",
   "execution_count": 307,
   "id": "f73fdd70-40ca-4d7c-9583-44acfecffeb2",
   "metadata": {},
   "outputs": [
    {
     "name": "stdout",
     "output_type": "stream",
     "text": [
      "ExtraTreesRegressor -> Mean: 147467.29945345293, Std: 8885.620570331603\n"
     ]
    }
   ],
   "source": [
    "_, EXT_valid_RMSE1, EXT_test_pred1 = OOF_predict(EXT, df2, target, test2, skfold1, stratify='Store')\n",
    "_, EXT_valid_RMSE2, EXT_test_pred2 = OOF_predict(EXT, df2, target, test2, skfold2, stratify='Store')\n",
    "print(f'{EXT.__class__.__name__} -> Mean: {np.mean(EXT_valid_RMSE1 + EXT_valid_RMSE2)}, Std: {np.std(EXT_valid_RMSE1 + EXT_valid_RMSE2)}')"
   ]
  },
  {
   "cell_type": "code",
   "execution_count": 375,
   "id": "f46c9859-a745-4888-a08e-ae6d48db4a37",
   "metadata": {},
   "outputs": [
    {
     "name": "stdout",
     "output_type": "stream",
     "text": [
      "GradientBoostingRegressor -> Mean: 106176.89563230696, Std: 4758.9315940279685\n"
     ]
    }
   ],
   "source": [
    "_, GD_valid_RMSE1, GD_test_pred1 = OOF_predict(GD, df2, target, test2, skfold1, stratify='Store')\n",
    "_, GD_valid_RMSE2, GD_test_pred2 = OOF_predict(GD, df2, target, test2, skfold2, stratify='Store')\n",
    "print(f'{GD.__class__.__name__} -> Mean: {np.mean(GD_valid_RMSE1 + GD_valid_RMSE2)}, Std: {np.std(GD_valid_RMSE1 + GD_valid_RMSE2)}')"
   ]
  },
  {
   "cell_type": "code",
   "execution_count": 329,
   "id": "19b60549-83a3-4757-a4d1-e1e4f4196077",
   "metadata": {},
   "outputs": [
    {
     "name": "stdout",
     "output_type": "stream",
     "text": [
      "CatBoostRegressor -> Mean: 102718.08457624466, Std: 4962.214773495546\n"
     ]
    }
   ],
   "source": [
    "_, CB_valid_RMSE1, CB_test_pred1 = OOF_predict(CB, df2, target, test2, skfold1, stratify='Store')\n",
    "_, CB_valid_RMSE2, CB_test_pred2 = OOF_predict(CB, df2, target, test2, skfold2, stratify='Store')\n",
    "print(f'{CB.__class__.__name__} -> Mean: {np.mean(CB_valid_RMSE1 + CB_valid_RMSE2)}, Std: {np.std(CB_valid_RMSE1 + CB_valid_RMSE2)}')"
   ]
  },
  {
   "cell_type": "code",
   "execution_count": 327,
   "id": "f0e437db-9a88-400a-b572-39c5270fd9e1",
   "metadata": {},
   "outputs": [
    {
     "name": "stdout",
     "output_type": "stream",
     "text": [
      "XGBRegressor -> Mean: 102185.80407549346, Std: 6226.103952865928\n"
     ]
    }
   ],
   "source": [
    "_, XGB_valid_RMSE1, XGB_test_pred1 = OOF_predict(XGB, df2, target, test2, skfold1, stratify='Store')\n",
    "_, XGB_valid_RMSE2, XGB_test_pred2 = OOF_predict(XGB, df2, target, test2, skfold2, stratify='Store')\n",
    "print(f'{XGB.__class__.__name__} -> Mean: {np.mean(XGB_valid_RMSE1 + XGB_valid_RMSE2)}, Std: {np.std(XGB_valid_RMSE1 + XGB_valid_RMSE2)}')"
   ]
  },
  {
   "cell_type": "code",
   "execution_count": 330,
   "id": "3c47d79e-67bd-41d3-8b83-c56eb61e1959",
   "metadata": {},
   "outputs": [
    {
     "name": "stdout",
     "output_type": "stream",
     "text": [
      "LGBMRegressor -> Mean: 93369.75245266361, Std: 4254.426456205732\n"
     ]
    }
   ],
   "source": [
    "_, LGBM_valid_RMSE1, LGBM_test_pred1 = OOF_predict(LGBM, df2, target, test2, skfold1, stratify='Store')\n",
    "_, LGBM_valid_RMSE2, LGBM_test_pred2 = OOF_predict(LGBM, df2, target, test2, skfold2, stratify='Store')\n",
    "print(f'{LGBM.__class__.__name__} -> Mean: {np.mean(LGBM_valid_RMSE1 + LGBM_valid_RMSE2)}, Std: {np.std(LGBM_valid_RMSE1 + LGBM_valid_RMSE2)}')"
   ]
  },
  {
   "cell_type": "markdown",
   "id": "17df0ff5-33cf-4d83-9bcd-c76d1e8dd4be",
   "metadata": {},
   "source": [
    "`-` LGBM 모델의 성능이 가장 우수하다"
   ]
  },
  {
   "cell_type": "markdown",
   "id": "8a27ecbc-fe2d-4752-9eda-96b881c5a5d2",
   "metadata": {},
   "source": [
    "- test 예측 및 제출"
   ]
  },
  {
   "cell_type": "markdown",
   "id": "3cf8a8dd-9b92-4267-9faa-8eb75c59597f",
   "metadata": {},
   "source": [
    "`-` test 데이터의 경우 행이 180개로 train 데이터에 비해 매우 적다\n",
    "\n",
    "`-` 연도는 2012년만 존재하며 월의 경우 5월, 10월, 12월만 존재한다\n",
    "\n",
    "`-` 오버피팅을 주의해야 한다\n",
    "\n",
    "`-` LGBM 모델과 XGB 모델은 성능이 좋지 않았으며 Catboost 모델의 성능은 나쁘지 않다"
   ]
  },
  {
   "cell_type": "code",
   "execution_count": 371,
   "id": "8cea24f3-46f3-42d1-8b3d-b1c223b109bb",
   "metadata": {},
   "outputs": [
    {
     "data": {
      "text/html": [
       "<div>\n",
       "<style scoped>\n",
       "    .dataframe tbody tr th:only-of-type {\n",
       "        vertical-align: middle;\n",
       "    }\n",
       "\n",
       "    .dataframe tbody tr th {\n",
       "        vertical-align: top;\n",
       "    }\n",
       "\n",
       "    .dataframe thead th {\n",
       "        text-align: right;\n",
       "    }\n",
       "</style>\n",
       "<table border=\"1\" class=\"dataframe\">\n",
       "  <thead>\n",
       "    <tr style=\"text-align: right;\">\n",
       "      <th></th>\n",
       "      <th>id</th>\n",
       "      <th>Weekly_Sales</th>\n",
       "    </tr>\n",
       "  </thead>\n",
       "  <tbody>\n",
       "    <tr>\n",
       "      <th>0</th>\n",
       "      <td>1</td>\n",
       "      <td>1.618359e+06</td>\n",
       "    </tr>\n",
       "    <tr>\n",
       "      <th>1</th>\n",
       "      <td>2</td>\n",
       "      <td>1.686764e+06</td>\n",
       "    </tr>\n",
       "    <tr>\n",
       "      <th>2</th>\n",
       "      <td>3</td>\n",
       "      <td>1.242928e+06</td>\n",
       "    </tr>\n",
       "    <tr>\n",
       "      <th>3</th>\n",
       "      <td>4</td>\n",
       "      <td>1.271903e+06</td>\n",
       "    </tr>\n",
       "    <tr>\n",
       "      <th>4</th>\n",
       "      <td>5</td>\n",
       "      <td>1.845054e+06</td>\n",
       "    </tr>\n",
       "  </tbody>\n",
       "</table>\n",
       "</div>"
      ],
      "text/plain": [
       "   id  Weekly_Sales\n",
       "0   1  1.618359e+06\n",
       "1   2  1.686764e+06\n",
       "2   3  1.242928e+06\n",
       "3   4  1.271903e+06\n",
       "4   5  1.845054e+06"
      ]
     },
     "execution_count": 371,
     "metadata": {},
     "output_type": "execute_result"
    }
   ],
   "source": [
    "submission['Weekly_Sales'] = (CB_test_pred1 + CB_test_pred2) / 2\n",
    "submission.head()"
   ]
  },
  {
   "cell_type": "code",
   "execution_count": 376,
   "id": "1cac6747-0905-4bf5-a379-306f6b3e755c",
   "metadata": {},
   "outputs": [
    {
     "data": {
      "text/plain": [
       "<AxesSubplot:>"
      ]
     },
     "execution_count": 376,
     "metadata": {},
     "output_type": "execute_result"
    },
    {
     "data": {
      "image/png": "[encoded data removed]",
      "text/plain": [
       "<Figure size 432x288 with 1 Axes>"
      ]
     },
     "metadata": {},
     "output_type": "display_data"
    }
   ],
   "source": [
    "submission['Weekly_Sales'].hist()"
   ]
  },
  {
   "cell_type": "code",
   "execution_count": 403,
   "id": "5c4f4868-e622-4677-9e0f-0e23574f1e30",
   "metadata": {},
   "outputs": [],
   "source": [
    "# submission.to_csv('./Data/submission5.csv', index=False)"
   ]
  },
  {
   "cell_type": "code",
   "execution_count": null,
   "id": "c0ab7aea-a718-4a2c-9eac-f27055b41c3f",
   "metadata": {},
   "outputs": [],
   "source": []
  }
 ],
 "metadata": {
  "kernelspec": {
   "display_name": "Python 3 (ipykernel)",
   "language": "python",
   "name": "python3"
  },
  "language_info": {
   "codemirror_mode": {
    "name": "ipython",
    "version": 3
   },
   "file_extension": ".py",
   "mimetype": "text/x-python",
   "name": "python",
   "nbconvert_exporter": "python",
   "pygments_lexer": "ipython3",
   "version": "3.8.11"
  }
 },
 "nbformat": 4,
 "nbformat_minor": 5
}
