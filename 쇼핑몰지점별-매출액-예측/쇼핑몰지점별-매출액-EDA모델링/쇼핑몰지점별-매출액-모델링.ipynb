{
 "cells": [
  {
   "cell_type": "markdown",
   "id": "c1c0aaf7-ffad-486d-8f46-e72332397f31",
   "metadata": {},
   "source": [
    "# 쇼핑몰 지점별 매출액 예측 경진대회"
   ]
  },
  {
   "cell_type": "markdown",
   "id": "072902e6-33c6-43ea-9afa-c0e0d3ca262b",
   "metadata": {},
   "source": [
    "## 데이터 불러오기"
   ]
  },
  {
   "cell_type": "code",
   "execution_count": 1,
   "id": "3067a461-803d-4a6d-90a4-7d930e950f05",
   "metadata": {},
   "outputs": [],
   "source": [
    "import numpy as np\n",
    "import pandas as pd\n",
    "import os\n",
    "import matplotlib.pyplot as plt\n",
    "import seaborn as sns\n",
    "import warnings\n",
    "from tqdm import tqdm\n",
    "\n",
    "warnings.filterwarnings('ignore')"
   ]
  },
  {
   "cell_type": "code",
   "execution_count": 2,
   "id": "983d2bc8-5164-4441-b99d-dcc138c6d175",
   "metadata": {},
   "outputs": [],
   "source": [
    "sns.set_theme(style='white')"
   ]
  },
  {
   "cell_type": "code",
   "execution_count": 3,
   "id": "70c79229-03e2-4b3e-a1f7-42097c2771e4",
   "metadata": {},
   "outputs": [
    {
     "data": {
      "text/plain": [
       "'C:\\\\Users\\\\Jaesu\\\\github_desktop\\\\Dacon-Basic\\\\쇼핑몰지점별-매출액-예측\\\\쇼핑몰지점별-매출액-EDA모델링'"
      ]
     },
     "execution_count": 3,
     "metadata": {},
     "output_type": "execute_result"
    }
   ],
   "source": [
    "os.getcwd()"
   ]
  },
  {
   "cell_type": "code",
   "execution_count": 4,
   "id": "2e0db761-f4a1-4150-ade9-2fd897da0aa7",
   "metadata": {},
   "outputs": [],
   "source": [
    "os.chdir('C:\\\\Users\\\\Jaesu\\\\github_desktop\\\\Dacon-Basic\\\\쇼핑몰지점별-매출액-예측')"
   ]
  },
  {
   "cell_type": "code",
   "execution_count": 635,
   "id": "e9e87da9-7d5c-4ada-b707-3239ad1c7017",
   "metadata": {},
   "outputs": [],
   "source": [
    "df = pd.read_csv('./Data/train.csv')\n",
    "test = pd.read_csv('./Data/test.csv')\n",
    "submission = pd.read_csv('./Data/sample_submission.csv')"
   ]
  },
  {
   "cell_type": "code",
   "execution_count": 636,
   "id": "a3e43af1-4538-493b-b4e4-9e15a8ce138a",
   "metadata": {},
   "outputs": [],
   "source": [
    "df.drop('id', axis=1, inplace=True)\n",
    "test.drop('id', axis=1, inplace=True)"
   ]
  },
  {
   "cell_type": "markdown",
   "id": "62a11d4b-5680-4299-b8a3-444c408bcc61",
   "metadata": {},
   "source": [
    "## 데이터 전처리 및 파생변수 생성"
   ]
  },
  {
   "cell_type": "markdown",
   "id": "fe079c39-a4d8-4b45-93e3-737c10b878f0",
   "metadata": {},
   "source": [
    "- Data 변수를 날짜 형식으로 변경하여 연, 월, 일 변수를 생성\n",
    "\n",
    "`-` 또한 2010년을 기준으로 연월일을 하루 단위로 변환하여 2010년으로부터 며칠이 지났는지를 알 수 있는 변수를 생성하겠다  "
   ]
  },
  {
   "cell_type": "code",
   "execution_count": 637,
   "id": "ded8be55-2ec9-428d-8dce-7731c8538357",
   "metadata": {},
   "outputs": [],
   "source": [
    "def get_date(df) -> None:\n",
    "    \"\"\"df['Date']에서 연, 월, 일 변수를 생성\"\"\" \n",
    "    df['Date'] = pd.to_datetime(df['Date'])\n",
    "    df['Year'] = df['Date'].dt.year\n",
    "    df['Month'] = df['Date'].dt.month\n",
    "    df['Day'] = df['Date'].dt.day"
   ]
  },
  {
   "cell_type": "code",
   "execution_count": 638,
   "id": "41e00b3c-1934-44c1-981e-13a77162a0c8",
   "metadata": {},
   "outputs": [],
   "source": [
    "get_date(df)\n",
    "get_date(test)"
   ]
  },
  {
   "cell_type": "code",
   "execution_count": 639,
   "id": "8d099e78-4c79-4602-adea-b1b64f34dee8",
   "metadata": {},
   "outputs": [],
   "source": [
    "df['Day_Range'] = (df['Date'] - pd.datetime(2010, 1, 1)).dt.days\n",
    "test['Day_Range'] = (test['Date'] - pd.datetime(2010, 1, 1)).dt.days"
   ]
  },
  {
   "cell_type": "markdown",
   "id": "298800ae-0820-4335-97b7-014c1704ae4c",
   "metadata": {},
   "source": [
    "- 한 해의 몇 주차인지 나타내는 변수"
   ]
  },
  {
   "cell_type": "code",
   "execution_count": 640,
   "id": "0fa4ad86-3c27-4731-84ad-803b653ae27e",
   "metadata": {},
   "outputs": [],
   "source": [
    "df['WeekOfYear'] = df['Date'].dt.weekofyear\n",
    "test['WeekOfYear'] = test['Date'].dt.weekofyear"
   ]
  },
  {
   "cell_type": "markdown",
   "id": "6ec47d03-b373-4249-970a-2f9896cc404d",
   "metadata": {},
   "source": [
    "- 공휴일 변수를 숫자로 변경"
   ]
  },
  {
   "cell_type": "code",
   "execution_count": 641,
   "id": "3085f0e4-6ca4-4297-9e8c-55637c4747c5",
   "metadata": {},
   "outputs": [],
   "source": [
    "df['IsHoliday'] = df['IsHoliday'].apply(lambda x: 1 if x else 0)\n",
    "test['IsHoliday'] = test['IsHoliday'].apply(lambda x: 1 if x else 0)"
   ]
  },
  {
   "cell_type": "markdown",
   "id": "8bd25c05-52e9-48f9-b6bd-c93d9d7a42ff",
   "metadata": {},
   "source": [
    "- 화씨를 섭씨로 변환"
   ]
  },
  {
   "cell_type": "code",
   "execution_count": 642,
   "id": "603c7e19-baad-412a-9116-c6f249bb770f",
   "metadata": {},
   "outputs": [],
   "source": [
    "df['Temperature'] = (df['Temperature'] - 32) * 5/9\n",
    "test['Temperature'] = (test['Temperature'] - 32) * 5/9"
   ]
  },
  {
   "cell_type": "markdown",
   "id": "8a0f8106-4aa5-4f63-ac56-12c32cacf4a5",
   "metadata": {},
   "source": [
    "- 프로모션의 결측치를 $0$으로 대체"
   ]
  },
  {
   "cell_type": "code",
   "execution_count": 643,
   "id": "42342cb1-7425-42c6-a220-ba90c6ad9afd",
   "metadata": {},
   "outputs": [],
   "source": [
    "df.fillna(value=0, inplace=True)\n",
    "test.fillna(value=0, inplace=True)"
   ]
  },
  {
   "cell_type": "markdown",
   "id": "25b53daa-a15a-4de2-989e-e2e481e95a79",
   "metadata": {},
   "source": [
    "- 총 프로모션 비용 변수 생성"
   ]
  },
  {
   "cell_type": "code",
   "execution_count": 644,
   "id": "306a757a-fa03-48a7-a009-099a30e2b906",
   "metadata": {},
   "outputs": [],
   "source": [
    "df['Promotion_Cost'] = df[['Promotion1', 'Promotion2', 'Promotion3', 'Promotion4', 'Promotion5']].sum(axis=1)\n",
    "test['Promotion_Cost'] = test[['Promotion1', 'Promotion2', 'Promotion3', 'Promotion4', 'Promotion5']].sum(axis=1)"
   ]
  },
  {
   "cell_type": "code",
   "execution_count": 645,
   "id": "6520d07b-e4c3-4271-84a0-89f744c62b08",
   "metadata": {},
   "outputs": [],
   "source": [
    "df.drop(['Promotion1', 'Promotion2', 'Promotion3', 'Promotion4', 'Promotion5'], axis=1, inplace=True)\n",
    "test.drop(['Promotion1', 'Promotion2', 'Promotion3', 'Promotion4', 'Promotion5'], axis=1, inplace=True)"
   ]
  },
  {
   "cell_type": "markdown",
   "id": "9e48a50b-4e4f-4a6a-b1de-512446308f8b",
   "metadata": {},
   "source": [
    "- month의 몇 번재 week인지 나타내는 변수 생성"
   ]
  },
  {
   "cell_type": "code",
   "execution_count": 646,
   "id": "f34fc9c7-928d-48a2-abaf-646fbe285b78",
   "metadata": {},
   "outputs": [],
   "source": [
    "df['WeekOfMonth'] = df['Day'].apply(lambda x: (x-1) // 7 + 1)\n",
    "test['WeekOfMonth'] = test['Day'].apply(lambda x: (x-1) // 7 + 1)"
   ]
  },
  {
   "cell_type": "markdown",
   "id": "e60b52c6-3382-4a48-bcc5-a3f512249343",
   "metadata": {},
   "source": [
    "- 크리스마스가 몇 주일 남았는지 나타내는 변수를 생성"
   ]
  },
  {
   "cell_type": "markdown",
   "id": "e399f4db-7bd6-4d0d-9d46-fad5ae513425",
   "metadata": {},
   "source": [
    "`-` 크리스마스는 12월 4주차에 존재함\n",
    "\n",
    "`-` 12월 3주차는 2, 4주차는 3, 5주차는 1, 그 외는 0으로 코딩 (매출액이 기준)"
   ]
  },
  {
   "cell_type": "code",
   "execution_count": 647,
   "id": "f76d9617-6098-4e93-8a65-3d55d3bd88be",
   "metadata": {},
   "outputs": [],
   "source": [
    "def christmas_week(date):\n",
    "    month = date.month\n",
    "    week_of_month = (date.day-1) // 7 + 1\n",
    "    if month == 12:\n",
    "        if week_of_month == 3:\n",
    "            return 2\n",
    "        elif week_of_month == 4:\n",
    "            return 3\n",
    "        elif week_of_month == 5:\n",
    "            return 1\n",
    "    return 0"
   ]
  },
  {
   "cell_type": "code",
   "execution_count": 648,
   "id": "d74825cc-b382-46bb-9f19-4bb7095cc418",
   "metadata": {},
   "outputs": [],
   "source": [
    "df['IsChristmasWeek'] = df['Date'].apply(lambda date: christmas_week(date))\n",
    "test['IsChristmasWeek'] = test['Date'].apply(lambda date: christmas_week(date))"
   ]
  },
  {
   "cell_type": "markdown",
   "id": "77a18f89-2a13-41cc-9004-9b049cc2b1e8",
   "metadata": {},
   "source": [
    "- 전날에 비해 온도, 연료 가격, 실업률이 얼마나 변했는지 나타내는 변수 생성"
   ]
  },
  {
   "cell_type": "code",
   "execution_count": 654,
   "id": "adb50151-bb65-454f-ad50-d5526f8b0f2c",
   "metadata": {},
   "outputs": [
    {
     "data": {
      "text/plain": [
       "<AxesSubplot:>"
      ]
     },
     "execution_count": 654,
     "metadata": {},
     "output_type": "execute_result"
    },
    {
     "data": {
      "image/png": "[encoded data removed]",
      "text/plain": [
       "<Figure size 432x288 with 1 Axes>"
      ]
     },
     "metadata": {
      "needs_background": "light"
     },
     "output_type": "display_data"
    }
   ],
   "source": [
    "test.query('Month == 10')['Temperature'].plot.box()"
   ]
  },
  {
   "cell_type": "code",
   "execution_count": 649,
   "id": "5043ed25-b691-4934-b09c-f69c93bb2b86",
   "metadata": {},
   "outputs": [],
   "source": [
    "date = sorted(df['Date'].unique())"
   ]
  },
  {
   "cell_type": "code",
   "execution_count": 136,
   "id": "7cd945d6-db1b-494e-a8a9-0fc24d769ce0",
   "metadata": {},
   "outputs": [],
   "source": [
    "def feature_diff(df, is_test=False) -> None:\n",
    "    df['Temperature_Diff'] = 0\n",
    "    df['Fuel_Price_Diff'] = 0\n",
    "    df['Unemployment_Diff'] = 0\n",
    "    \n",
    "    if not is_test:\n",
    "        for store in tqdm(range(1, 46)):\n",
    "            for i in range(1, len(date)):\n",
    "                current_date = date[i]\n",
    "                previous_date = date[i - 1]\n",
    "                df_  = df.query('Store == @store')\n",
    "                for feature in ['Temperature', 'Fuel_Price', 'Unemployment']:\n",
    "                    df.loc[(df['Store'] == store) & (df['Date'] == current_date), f'{feature}_Diff'] = df_.query('Date == @current_date')[feature].item()\\\n",
    "                                                                                                       - df_.query('Date == @previous_date')[feature].item()\n",
    "#     else:\n",
    "#         test_date = sorted(df['Date'].unique())\n",
    "#         for store in tqdm(range(1, 46)):\n",
    "#             for test_d in test_date:\n",
    "#                 current_date = test_d\n",
    "#                 previous_date = date[0]\n",
    "#                 for d in date:\n",
    "#                     if test_d > d:\n",
    "#                         previous_date = d\n",
    "#                     else:\n",
    "#                         break\n",
    "                        \n",
    "#                 df_  = df.query('Store == @store')\n",
    "#                 for feature in ['Temperature', 'Fuel_Price', 'Unemployment']:\n",
    "#                     df.loc[(df['Store'] == store) & (df['Date'] == current_date), f'{feature}_Diff'] = df_.query('Date == @current_date')[feature].item()\\\n",
    "#                                                                                                        - df_.query('Date == @previous_date')[feature].item()"
   ]
  },
  {
   "cell_type": "code",
   "execution_count": 137,
   "id": "4c628f02-0444-41a3-b157-eb2e0f71504c",
   "metadata": {},
   "outputs": [
    {
     "name": "stderr",
     "output_type": "stream",
     "text": [
      "100%|██████████████████████████████████████████████████████████████████████████████████| 45/45 [01:29<00:00,  2.00s/it]\n"
     ]
    }
   ],
   "source": [
    "feature_diff(df)"
   ]
  },
  {
   "cell_type": "code",
   "execution_count": 138,
   "id": "b68cf575-7b3b-4c7f-b10d-b4826ff55d58",
   "metadata": {},
   "outputs": [
    {
     "data": {
      "text/html": [
       "<div>\n",
       "<style scoped>\n",
       "    .dataframe tbody tr th:only-of-type {\n",
       "        vertical-align: middle;\n",
       "    }\n",
       "\n",
       "    .dataframe tbody tr th {\n",
       "        vertical-align: top;\n",
       "    }\n",
       "\n",
       "    .dataframe thead th {\n",
       "        text-align: right;\n",
       "    }\n",
       "</style>\n",
       "<table border=\"1\" class=\"dataframe\">\n",
       "  <thead>\n",
       "    <tr style=\"text-align: right;\">\n",
       "      <th></th>\n",
       "      <th>Store</th>\n",
       "      <th>Date</th>\n",
       "      <th>Temperature</th>\n",
       "      <th>Fuel_Price</th>\n",
       "      <th>Promotion1</th>\n",
       "      <th>Promotion2</th>\n",
       "      <th>Promotion3</th>\n",
       "      <th>Promotion4</th>\n",
       "      <th>Promotion5</th>\n",
       "      <th>Unemployment</th>\n",
       "      <th>...</th>\n",
       "      <th>Month</th>\n",
       "      <th>Day</th>\n",
       "      <th>Day_Range</th>\n",
       "      <th>WeekOfYear</th>\n",
       "      <th>Promotion_Cost</th>\n",
       "      <th>WeekOfMonth</th>\n",
       "      <th>IsChristmasWeek</th>\n",
       "      <th>Temperature_Diff</th>\n",
       "      <th>Fuel_Price_Diff</th>\n",
       "      <th>Unemployment_Diff</th>\n",
       "    </tr>\n",
       "  </thead>\n",
       "  <tbody>\n",
       "    <tr>\n",
       "      <th>0</th>\n",
       "      <td>1</td>\n",
       "      <td>2010-05-02</td>\n",
       "      <td>5.727778</td>\n",
       "      <td>2.572</td>\n",
       "      <td>0.0</td>\n",
       "      <td>0.0</td>\n",
       "      <td>0.0</td>\n",
       "      <td>0.0</td>\n",
       "      <td>0.0</td>\n",
       "      <td>8.106</td>\n",
       "      <td>...</td>\n",
       "      <td>5</td>\n",
       "      <td>2</td>\n",
       "      <td>121</td>\n",
       "      <td>17</td>\n",
       "      <td>0.0</td>\n",
       "      <td>1</td>\n",
       "      <td>0</td>\n",
       "      <td>-13.944444</td>\n",
       "      <td>-0.208</td>\n",
       "      <td>0.298</td>\n",
       "    </tr>\n",
       "    <tr>\n",
       "      <th>1</th>\n",
       "      <td>1</td>\n",
       "      <td>2010-12-02</td>\n",
       "      <td>3.616667</td>\n",
       "      <td>2.548</td>\n",
       "      <td>0.0</td>\n",
       "      <td>0.0</td>\n",
       "      <td>0.0</td>\n",
       "      <td>0.0</td>\n",
       "      <td>0.0</td>\n",
       "      <td>8.106</td>\n",
       "      <td>...</td>\n",
       "      <td>12</td>\n",
       "      <td>2</td>\n",
       "      <td>335</td>\n",
       "      <td>48</td>\n",
       "      <td>0.0</td>\n",
       "      <td>1</td>\n",
       "      <td>0</td>\n",
       "      <td>-14.450000</td>\n",
       "      <td>-0.187</td>\n",
       "      <td>0.268</td>\n",
       "    </tr>\n",
       "    <tr>\n",
       "      <th>2</th>\n",
       "      <td>1</td>\n",
       "      <td>2010-02-19</td>\n",
       "      <td>4.405556</td>\n",
       "      <td>2.514</td>\n",
       "      <td>0.0</td>\n",
       "      <td>0.0</td>\n",
       "      <td>0.0</td>\n",
       "      <td>0.0</td>\n",
       "      <td>0.0</td>\n",
       "      <td>8.106</td>\n",
       "      <td>...</td>\n",
       "      <td>2</td>\n",
       "      <td>19</td>\n",
       "      <td>49</td>\n",
       "      <td>7</td>\n",
       "      <td>0.0</td>\n",
       "      <td>3</td>\n",
       "      <td>0</td>\n",
       "      <td>-22.766667</td>\n",
       "      <td>-0.155</td>\n",
       "      <td>0.319</td>\n",
       "    </tr>\n",
       "    <tr>\n",
       "      <th>3</th>\n",
       "      <td>1</td>\n",
       "      <td>2010-02-26</td>\n",
       "      <td>8.127778</td>\n",
       "      <td>2.561</td>\n",
       "      <td>0.0</td>\n",
       "      <td>0.0</td>\n",
       "      <td>0.0</td>\n",
       "      <td>0.0</td>\n",
       "      <td>0.0</td>\n",
       "      <td>8.106</td>\n",
       "      <td>...</td>\n",
       "      <td>2</td>\n",
       "      <td>26</td>\n",
       "      <td>56</td>\n",
       "      <td>8</td>\n",
       "      <td>0.0</td>\n",
       "      <td>4</td>\n",
       "      <td>0</td>\n",
       "      <td>3.722222</td>\n",
       "      <td>0.047</td>\n",
       "      <td>0.000</td>\n",
       "    </tr>\n",
       "    <tr>\n",
       "      <th>4</th>\n",
       "      <td>1</td>\n",
       "      <td>2010-05-03</td>\n",
       "      <td>8.055556</td>\n",
       "      <td>2.625</td>\n",
       "      <td>0.0</td>\n",
       "      <td>0.0</td>\n",
       "      <td>0.0</td>\n",
       "      <td>0.0</td>\n",
       "      <td>0.0</td>\n",
       "      <td>8.106</td>\n",
       "      <td>...</td>\n",
       "      <td>5</td>\n",
       "      <td>3</td>\n",
       "      <td>122</td>\n",
       "      <td>18</td>\n",
       "      <td>0.0</td>\n",
       "      <td>1</td>\n",
       "      <td>0</td>\n",
       "      <td>2.327778</td>\n",
       "      <td>0.053</td>\n",
       "      <td>0.000</td>\n",
       "    </tr>\n",
       "  </tbody>\n",
       "</table>\n",
       "<p>5 rows × 23 columns</p>\n",
       "</div>"
      ],
      "text/plain": [
       "   Store       Date  Temperature  Fuel_Price  Promotion1  Promotion2  \\\n",
       "0      1 2010-05-02     5.727778       2.572         0.0         0.0   \n",
       "1      1 2010-12-02     3.616667       2.548         0.0         0.0   \n",
       "2      1 2010-02-19     4.405556       2.514         0.0         0.0   \n",
       "3      1 2010-02-26     8.127778       2.561         0.0         0.0   \n",
       "4      1 2010-05-03     8.055556       2.625         0.0         0.0   \n",
       "\n",
       "   Promotion3  Promotion4  Promotion5  Unemployment  ...  Month  Day  \\\n",
       "0         0.0         0.0         0.0         8.106  ...      5    2   \n",
       "1         0.0         0.0         0.0         8.106  ...     12    2   \n",
       "2         0.0         0.0         0.0         8.106  ...      2   19   \n",
       "3         0.0         0.0         0.0         8.106  ...      2   26   \n",
       "4         0.0         0.0         0.0         8.106  ...      5    3   \n",
       "\n",
       "   Day_Range  WeekOfYear  Promotion_Cost  WeekOfMonth  IsChristmasWeek  \\\n",
       "0        121          17             0.0            1                0   \n",
       "1        335          48             0.0            1                0   \n",
       "2         49           7             0.0            3                0   \n",
       "3         56           8             0.0            4                0   \n",
       "4        122          18             0.0            1                0   \n",
       "\n",
       "   Temperature_Diff  Fuel_Price_Diff  Unemployment_Diff  \n",
       "0        -13.944444           -0.208              0.298  \n",
       "1        -14.450000           -0.187              0.268  \n",
       "2        -22.766667           -0.155              0.319  \n",
       "3          3.722222            0.047              0.000  \n",
       "4          2.327778            0.053              0.000  \n",
       "\n",
       "[5 rows x 23 columns]"
      ]
     },
     "execution_count": 138,
     "metadata": {},
     "output_type": "execute_result"
    }
   ],
   "source": [
    "df.head()"
   ]
  },
  {
   "cell_type": "markdown",
   "id": "b87da657-4585-482a-8ae1-66e4514a9757",
   "metadata": {},
   "source": [
    "- 쇼핑몰 지점 군집화"
   ]
  },
  {
   "cell_type": "markdown",
   "id": "efbfc704-05e0-41bf-b5e3-3a15cffad87a",
   "metadata": {},
   "source": [
    "`-` 군집화되는 쇼핑몰이 거의 없어 성능 차이가 없음"
   ]
  },
  {
   "cell_type": "code",
   "execution_count": 17,
   "id": "19d45426-bc8e-4db4-ab03-1e2c7688a405",
   "metadata": {},
   "outputs": [],
   "source": [
    "cor_list = []\n",
    "for store in list(range(1, 46)):\n",
    "    df_ = df.query('Store == @store')\n",
    "    cor = np.corrcoef(df_['Day_Range'], df_['Weekly_Sales'])[1, 0]\n",
    "    cor_list.append(cor)"
   ]
  },
  {
   "cell_type": "code",
   "execution_count": 18,
   "id": "971351b6-706a-4187-90ce-cdf43f5ec905",
   "metadata": {},
   "outputs": [
    {
     "data": {
      "text/plain": [
       "<AxesSubplot:xlabel='Weekly_Sales', ylabel='Count'>"
      ]
     },
     "execution_count": 18,
     "metadata": {},
     "output_type": "execute_result"
    },
    {
     "data": {
      "image/png": "[encoded data removed]",
      "text/plain": [
       "<Figure size 432x288 with 1 Axes>"
      ]
     },
     "metadata": {
      "needs_background": "light"
     },
     "output_type": "display_data"
    }
   ],
   "source": [
    "sns.histplot(data=df, x='Weekly_Sales', kde=True)"
   ]
  },
  {
   "cell_type": "code",
   "execution_count": 19,
   "id": "1ecaf6f5-c942-4b20-b350-e59aff4c5dc7",
   "metadata": {},
   "outputs": [
    {
     "data": {
      "text/plain": [
       "<AxesSubplot:xlabel='Store', ylabel='Weekly_Sales'>"
      ]
     },
     "execution_count": 19,
     "metadata": {},
     "output_type": "execute_result"
    },
    {
     "data": {
      "image/png": "[encoded data removed]",
      "text/plain": [
       "<Figure size 1152x576 with 1 Axes>"
      ]
     },
     "metadata": {
      "needs_background": "light"
     },
     "output_type": "display_data"
    }
   ],
   "source": [
    "plt.figure(figsize=(16, 8))\n",
    "sns.boxplot(data=df, y='Weekly_Sales', x='Store')"
   ]
  },
  {
   "cell_type": "markdown",
   "id": "9ddafce2-0169-4612-bd4d-9c3a7e419ffe",
   "metadata": {},
   "source": [
    "`-` 비슷한 분포를 띄는 쇼핑몰 지점을 군집화하자 (매출액의 중앙값과 IQR, 지난 일수와의 상관계수가 비슷해야 함)"
   ]
  },
  {
   "cell_type": "code",
   "execution_count": 18,
   "id": "0a65c071-99cd-4935-9f36-a884c5e8b31a",
   "metadata": {},
   "outputs": [],
   "source": [
    "tmp = df.groupby(by='Store').agg({'Weekly_Sales':[np.median, lambda x: np.quantile(x, q=0.75) - np.quantile(x, q=0.25)]}).\\\n",
    "        reset_index().rename(columns={'<lambda_0>':'IQR'}).melt(id_vars='Store').\\\n",
    "        rename(columns={'variable_1':'statistic'}).drop('variable_0', axis=1)"
   ]
  },
  {
   "cell_type": "code",
   "execution_count": 21,
   "id": "0929a908-8c8a-4206-b58a-b930d0c2e6ea",
   "metadata": {},
   "outputs": [
    {
     "data": {
      "text/plain": [
       "<AxesSubplot:>"
      ]
     },
     "execution_count": 21,
     "metadata": {},
     "output_type": "execute_result"
    },
    {
     "data": {
      "image/png": "[encoded data removed]",
      "text/plain": [
       "<Figure size 432x288 with 1 Axes>"
      ]
     },
     "metadata": {
      "needs_background": "light"
     },
     "output_type": "display_data"
    }
   ],
   "source": [
    "tmp.query('statistic == \"median\"').value.plot.box()"
   ]
  },
  {
   "cell_type": "code",
   "execution_count": 22,
   "id": "d6e7d86d-2486-4486-a73b-a0b51074fc5b",
   "metadata": {},
   "outputs": [
    {
     "data": {
      "text/plain": [
       "<AxesSubplot:>"
      ]
     },
     "execution_count": 22,
     "metadata": {},
     "output_type": "execute_result"
    },
    {
     "data": {
      "image/png": "[encoded data removed]",
      "text/plain": [
       "<Figure size 432x288 with 1 Axes>"
      ]
     },
     "metadata": {
      "needs_background": "light"
     },
     "output_type": "display_data"
    }
   ],
   "source": [
    "tmp.query('statistic == \"IQR\"').value.plot.box()"
   ]
  },
  {
   "cell_type": "markdown",
   "id": "019a3a37-7bb2-4604-8fb3-d53b7b9e93f8",
   "metadata": {},
   "source": [
    "`-` 매출액의 중앙값과 사분위수 범위가 비슷한 쇼핑몰 지점끼리 군집화하겠다\n",
    "\n",
    "`-` 나의 능지 문제로 일단은 일일이 분류하겠다\n",
    "\n",
    "`-` 나중에 함수로 만들든 클래스로 만들든 해가지고 이를 사용해 분류하겠다\n"
   ]
  },
  {
   "cell_type": "code",
   "execution_count": 19,
   "id": "c9676103-9149-496c-9c8f-2499104ced05",
   "metadata": {},
   "outputs": [],
   "source": [
    "median_bins = [-np.inf]\n",
    "for i in range(1, 8):\n",
    "    value = np.quantile(tmp.query('statistic == \"median\"').value, q=i/8)\n",
    "    median_bins.append(value)\n",
    "median_bins.append(np.inf)"
   ]
  },
  {
   "cell_type": "code",
   "execution_count": 20,
   "id": "9da0b52c-848a-4c96-b22c-e74c33ab154c",
   "metadata": {},
   "outputs": [],
   "source": [
    "cuts = pd.cut(tmp.query('statistic == \"median\"').value, bins=median_bins, labels=list(range(1, 9)))"
   ]
  },
  {
   "cell_type": "code",
   "execution_count": 21,
   "id": "285d624e-9af7-40f2-b8ba-cf5d2e947386",
   "metadata": {},
   "outputs": [],
   "source": [
    "store_df = pd.DataFrame(data=range(1, 46), columns=['Store'])"
   ]
  },
  {
   "cell_type": "code",
   "execution_count": 22,
   "id": "44cd8ebf-ac89-4a0b-8b51-d0651adb0370",
   "metadata": {},
   "outputs": [],
   "source": [
    "store_df['Cut'] = cuts"
   ]
  },
  {
   "cell_type": "code",
   "execution_count": 23,
   "id": "cd84a69d-360c-4271-a9ae-d113ef535c17",
   "metadata": {},
   "outputs": [],
   "source": [
    "store_df = store_df.merge(tmp.query('statistic == \"median\"').drop('statistic', axis=1)).\\\n",
    "                    rename(columns={'value':'median'}).\\\n",
    "                    merge(tmp.query('statistic == \"IQR\"').drop('statistic', axis=1)).\\\n",
    "                    rename(columns={'value':'IQR'})"
   ]
  },
  {
   "cell_type": "markdown",
   "id": "5dc01928-61e9-4f31-ba43-093f1e28f86e",
   "metadata": {},
   "source": [
    "- 사후처리"
   ]
  },
  {
   "cell_type": "markdown",
   "id": "0ba896f4-a526-4aeb-bbdc-19349a34e7e7",
   "metadata": {},
   "source": [
    "`-` 군집내에서 쇼핑몰 지점별 중앙값의 차이가 큰 경우 군집을 쪼개겠다\n",
    "\n",
    "`-` 또한, 군집내에서 사분위수 범위가 유사한 것끼리 다시 군집화하겠다\n",
    "\n",
    "`-` 성능을 올리기 위해선 필수이다 (얼마나 올라갈진...)"
   ]
  },
  {
   "cell_type": "markdown",
   "id": "a0e5f4b1-5bb3-46ba-a5a6-6800ae648eaf",
   "metadata": {},
   "source": [
    "|군집 번호| 매출액의 범위|쇼핑몰 지점|\n",
    "|:-:|:-:|:-:|\n",
    "|1|$<416493$|33, 44, 5, 36, 38, 3|\n",
    "|2|$<556046$|30, 16, 37, 29, 9 ,42|\n",
    "|3|$<752464$|7, 15, 43, 25, 21|\n",
    "|4|$<954233$|45, 35, 17, 8, 34, 40|\n",
    "|5|$<1191838$|12, 22, 26, 18, 32|\n",
    "|6|$<1378340$|41, 28, 11, 24, 23, 31|\n",
    "|7|$<1786338$|19, 39, 6, 1, 27|\n",
    "|8|$\\geq 1786338$|10, 2, 13, 14, 20, 4|"
   ]
  },
  {
   "cell_type": "markdown",
   "id": "de5b035c-c9eb-4f84-8830-6d6262744dba",
   "metadata": {},
   "source": [
    "`-` 그룹 8 다시 분류\n",
    "\n",
    "2와 10, 13, 14, 20, 4\n",
    "\n",
    "`-` 그룹 7 다시 분류\n",
    "\n",
    "19, 39, 6,  1, 27\n",
    "\n",
    "`-` 그룹 6 다시 분류\n",
    "\n",
    "24, 23, 31, 11과 24, 41, 28\n",
    "\n",
    "`-` 그룹 5 다시 분류\n",
    "\n",
    "18, 32, 12, 22, 26\n",
    "\n",
    "`-` 그룹 4 다시 분류\n",
    "\n",
    "34와 40, 17, 35, 8\n",
    "\n",
    "`-` 그룹 3 다시 분류\n",
    "\n",
    "45(그룹3과 4의 경계)와 21, 25, 43(특별함), 7, 15\n",
    "\n",
    "`-` 그룹 2 다시 분류\n",
    "\n",
    "42(특별함), 37(특별함), 30(특별함), 16, 29, 9\n",
    "\n",
    "`-` 그룹 1 다시 분류\n",
    "\n",
    "36(하강), 38(상승), 33(특별함), 5, 44"
   ]
  },
  {
   "cell_type": "markdown",
   "id": "59968887-e8a3-4005-8a04-2cf2726b8b53",
   "metadata": {},
   "source": [
    "## 모델링"
   ]
  },
  {
   "cell_type": "code",
   "execution_count": 114,
   "id": "2d65b996-5574-40fb-afcb-cf7884876034",
   "metadata": {},
   "outputs": [],
   "source": [
    "from sklearn.model_selection import KFold, StratifiedKFold\n",
    "from sklearn.ensemble import RandomForestRegressor, ExtraTreesRegressor\n",
    "from catboost import CatBoostRegressor\n",
    "from xgboost import XGBRegressor\n",
    "from lightgbm import LGBMRegressor"
   ]
  },
  {
   "cell_type": "code",
   "execution_count": 139,
   "id": "094cec7a-7103-4880-932e-d15cc820fbb6",
   "metadata": {},
   "outputs": [],
   "source": [
    "SEED = 22"
   ]
  },
  {
   "cell_type": "code",
   "execution_count": 140,
   "id": "408976dc-fd3b-41ea-a369-324804faebad",
   "metadata": {},
   "outputs": [],
   "source": [
    "def RMSE(true, pred):\n",
    "    score = np.sqrt(np.mean(np.square(true - pred)))\n",
    "    return score"
   ]
  },
  {
   "cell_type": "code",
   "execution_count": 275,
   "id": "bdc4e912-efed-4db7-a753-0b3e346164af",
   "metadata": {},
   "outputs": [],
   "source": [
    "def OOF_predict(model, X, y, test, SKfold, stratify=None, original_score=False):\n",
    "    \"\"\"\n",
    "    Out-Of-Fold 방식을 통해 test(numeric)를 예측\n",
    "    train, valid에 대한 RMSE score와 예측한 test를 return\n",
    "    \"\"\" \n",
    "    model_valid_SAE = []\n",
    "    model_train_score = []\n",
    "    model_valid_score = []\n",
    "    model_pred = np.zeros(shape=(test.shape[0]))\n",
    "    \n",
    "    if stratify is not None:\n",
    "        split_fold = SKfold.split(X, X[stratify])\n",
    "    else:\n",
    "        split_fold = SKfold.split(X)\n",
    "\n",
    "    for i, (train_idx, valid_idx) in enumerate(split_fold):\n",
    "        # print(f'({i + 1} / {SKfold.n_splits}) Fold Training......')\n",
    "        X_train, y_train = X.iloc[train_idx], y.iloc[train_idx]\n",
    "        X_valid, y_valid = X.iloc[valid_idx], y.iloc[valid_idx]\n",
    "        \n",
    "        ## 모델 적합\n",
    "        model.fit(X_train,\n",
    "                  y_train,\n",
    "                  eval_set=[(X_train, y_train), (X_valid, y_valid)],\n",
    "                  #eval_metric='rmse', \n",
    "                  verbose=0,\n",
    "                  early_stopping_rounds=200\n",
    "                 )\n",
    "        \n",
    "        ## prediction\n",
    "        train_pred = model.predict(X_train) ## train\n",
    "        valid_pred = model.predict(X_valid) ## valid\n",
    "        test_pred = model.predict(test) ## test\n",
    "        \n",
    "        model_train_score.append(RMSE(y_train, train_pred)) ## train RMSE\n",
    "        model_valid_score.append(RMSE(y_valid, valid_pred)) ## valid RMSE\n",
    "        model_valid_SAE.extend(np.square(y_valid - valid_pred)) ## square of absolute error\n",
    "        model_pred += test_pred / SKfold.n_splits ## test 예측값(k Fold)\n",
    "              \n",
    "    if original_score:\n",
    "        return model_train_score, model_valid_score, model_valid_SAE, model_pred\n",
    "    return model_train_score, model_valid_score, model_pred"
   ]
  },
  {
   "cell_type": "markdown",
   "id": "72c63def-15e8-46e6-b14a-a5d95c54fdb3",
   "metadata": {},
   "source": [
    "`-` 랜덤 포레스트 모델과 그래디언트 부스팅 모델은 성능이 좋지 않았다"
   ]
  },
  {
   "cell_type": "code",
   "execution_count": 142,
   "id": "1ea452f2-91ce-41bc-a0d5-1478c4e95c08",
   "metadata": {},
   "outputs": [],
   "source": [
    "RF = RandomForestRegressor(n_estimators=300,\n",
    "                           max_depth=18,\n",
    "                           random_state=SEED)\n",
    "\n",
    "EXT = ExtraTreesRegressor(n_estimators=300,\n",
    "                           max_depth=18,\n",
    "                           random_state=SEED)"
   ]
  },
  {
   "cell_type": "code",
   "execution_count": 143,
   "id": "191f3965-fccd-40d6-b912-4fed31f96e8a",
   "metadata": {},
   "outputs": [],
   "source": [
    "CB = CatBoostRegressor(n_estimators=3000,\n",
    "                       learning_rate=0.03,\n",
    "                       max_depth=7,\n",
    "                       use_best_model=True,\n",
    "                       random_state=SEED,\n",
    "                       verbose=0)\n",
    "\n",
    "XGB = XGBRegressor(n_estimators=3000,\n",
    "                   learning_rate=0.03,\n",
    "                   max_depth=7,\n",
    "                   random_state=SEED)\n",
    "\n",
    "LGBM = LGBMRegressor(n_estimators=3000,\n",
    "                     learning_rate=0.03,\n",
    "                     max_depth=7,\n",
    "                     min_child_samples=2,\n",
    "                     random_state=SEED)"
   ]
  },
  {
   "cell_type": "markdown",
   "id": "61d65f94-0541-4825-9014-c53e557654ad",
   "metadata": {},
   "source": [
    "- Month 변수를 1월, 12월, 그 외 나머지로 구성"
   ]
  },
  {
   "cell_type": "code",
   "execution_count": 259,
   "id": "f5bf7d84-04a8-475d-9759-7ade3a4044df",
   "metadata": {},
   "outputs": [],
   "source": [
    "# df['Month2'] = df['Month'].apply(lambda x: 0 if x == 1 else (1 if x != 12 else 2))\n",
    "# test['Month2'] = test['Month'].apply(lambda x: 0 if x == 1 else (1 if x != 12 else 2))"
   ]
  },
  {
   "cell_type": "markdown",
   "id": "c0cc55cd-4630-44cb-ab1d-2cecb9d27680",
   "metadata": {},
   "source": [
    "- 사용할 변수"
   ]
  },
  {
   "cell_type": "markdown",
   "id": "cbf1027c-4cd2-4099-aef1-fd06e1e0d07c",
   "metadata": {},
   "source": [
    "`-` 데이터가 일주일 간격으로 존재하여 `Day` 변수도 추가했다 (하루 간격이었으면 제외했음)\n",
    "\n",
    "`-` `Day_Range` 변수는 기온에 대한 정보와 날짜 정보를 담고 있다"
   ]
  },
  {
   "cell_type": "code",
   "execution_count": 399,
   "id": "8a1b5679-4152-4f71-87d1-1ee278346ab1",
   "metadata": {},
   "outputs": [],
   "source": [
    "features = [\n",
    "            'Store',\n",
    "            'Temperature',\n",
    "            'Fuel_Price',\n",
    "            'Unemployment',\n",
    "            #'IsHoliday',\n",
    "            #'Promotion_Cost',\n",
    "            #'Year',\n",
    "            'Day',\n",
    "            'IsChristmasWeek',\n",
    "            'Month',\n",
    "            #'Month2',\n",
    "            'WeekOfYear',\n",
    "            'WeekOfMonth',\n",
    "            #'Day_Range',\n",
    "            #'Temperature_Diff'\n",
    "           ]"
   ]
  },
  {
   "cell_type": "code",
   "execution_count": 400,
   "id": "c2c65ee3-530a-4e19-a7f6-9d926fcc2a9b",
   "metadata": {},
   "outputs": [],
   "source": [
    "target = df['Weekly_Sales']"
   ]
  },
  {
   "cell_type": "code",
   "execution_count": 401,
   "id": "1dc31189-fd92-4224-9505-1efb2b95cf97",
   "metadata": {},
   "outputs": [],
   "source": [
    "df2 = df[features] ## 교호작용 X\n",
    "test2 = test[features]"
   ]
  },
  {
   "cell_type": "code",
   "execution_count": 402,
   "id": "a839b5f6-8dca-4cfb-b426-885350381108",
   "metadata": {},
   "outputs": [],
   "source": [
    "k = 10\n",
    "skfold1 = StratifiedKFold(k, shuffle=True, random_state=SEED)\n",
    "skfold2 = StratifiedKFold(k, shuffle=True, random_state=SEED*2)"
   ]
  },
  {
   "cell_type": "markdown",
   "id": "cac62660-8390-4187-a1ac-53f085a1ee2f",
   "metadata": {},
   "source": [
    "- 모델 학습"
   ]
  },
  {
   "cell_type": "markdown",
   "id": "42c3e04d-5a31-46ee-bf3f-3979fe862bc1",
   "metadata": {},
   "source": [
    "`-` RF, EXT 모델의 성능은 좋지 않다"
   ]
  },
  {
   "cell_type": "markdown",
   "id": "45a510cc-97e2-4273-a804-c9a799c5099a",
   "metadata": {},
   "source": [
    "- RF"
   ]
  },
  {
   "cell_type": "code",
   "execution_count": 67,
   "id": "243d1324-1314-4d2c-87cc-4a65572682e8",
   "metadata": {},
   "outputs": [
    {
     "name": "stdout",
     "output_type": "stream",
     "text": [
      "RandomForestRegressor -> Mean: 109924.91976758649, Std: 10244.769607843862\n"
     ]
    }
   ],
   "source": [
    "_, RF_valid_RMSE1, RF_test_pred1 = OOF_predict(RF, df2, target, test2, skfold1, stratify='Store')\n",
    "_, RF_valid_RMSE2, RF_test_pred2 = OOF_predict(RF, df2, target, test2, skfold2, stratify='Store')\n",
    "print(f'{RF.__class__.__name__} -> Mean: {np.mean(RF_valid_RMSE1 + RF_valid_RMSE2)}, Std: {np.std(RF_valid_RMSE1 + RF_valid_RMSE2)}')"
   ]
  },
  {
   "cell_type": "markdown",
   "id": "a57ae99d-06c4-4ea1-80ea-2e8165d8a7f2",
   "metadata": {},
   "source": [
    "- EXT"
   ]
  },
  {
   "cell_type": "code",
   "execution_count": 71,
   "id": "f73fdd70-40ca-4d7c-9583-44acfecffeb2",
   "metadata": {},
   "outputs": [
    {
     "name": "stdout",
     "output_type": "stream",
     "text": [
      "ExtraTreesRegressor -> Mean: 145061.73794414362, Std: 12217.784447607528\n"
     ]
    }
   ],
   "source": [
    "_, EXT_valid_RMSE1, EXT_test_pred1 = OOF_predict(EXT, df2, target, test2, skfold1, stratify='Store')\n",
    "_, EXT_valid_RMSE2, EXT_test_pred2 = OOF_predict(EXT, df2, target, test2, skfold2, stratify='Store')\n",
    "print(f'{EXT.__class__.__name__} -> Mean: {np.mean(EXT_valid_RMSE1 + EXT_valid_RMSE2)}, Std: {np.std(EXT_valid_RMSE1 + EXT_valid_RMSE2)}')"
   ]
  },
  {
   "cell_type": "markdown",
   "id": "487606d9-2a75-480b-a86b-2265efd8a478",
   "metadata": {},
   "source": [
    "- CB"
   ]
  },
  {
   "cell_type": "code",
   "execution_count": 57,
   "id": "75bfa598-c7f5-4b90-8409-497a9e7c43c1",
   "metadata": {},
   "outputs": [
    {
     "name": "stdout",
     "output_type": "stream",
     "text": [
      "CatBoostRegressor -> Mean: 79738.92763592312, Std: 5731.959478252804\n"
     ]
    }
   ],
   "source": [
    "_, CB_valid_RMSE1, CB_test_pred1 = OOF_predict(CB, df2, target, test2, skfold1, stratify='Store')\n",
    "_, CB_valid_RMSE2, CB_test_pred2 = OOF_predict(CB, df2, target, test2, skfold2, stratify='Store')\n",
    "print(f'{CB.__class__.__name__} -> Mean: {np.mean(CB_valid_RMSE1 + CB_valid_RMSE2)}, Std: {np.std(CB_valid_RMSE1 + CB_valid_RMSE2)}')"
   ]
  },
  {
   "cell_type": "markdown",
   "id": "cfe4e072-a2aa-446a-8c94-0d1d15be8939",
   "metadata": {},
   "source": [
    "- XGB"
   ]
  },
  {
   "cell_type": "code",
   "execution_count": 60,
   "id": "dd9db743-9a50-4823-8f5a-c1c8457aae32",
   "metadata": {},
   "outputs": [
    {
     "name": "stdout",
     "output_type": "stream",
     "text": [
      "XGBRegressor -> Mean: 94365.03624550627, Std: 10254.552883121767\n"
     ]
    }
   ],
   "source": [
    "_, XGB_valid_RMSE1, XGB_test_pred1 = OOF_predict(XGB, df2, target, test2, skfold1, stratify='Store')\n",
    "_, XGB_valid_RMSE2, XGB_test_pred2 = OOF_predict(XGB, df2, target, test2, skfold2, stratify='Store')\n",
    "print(f'{XGB.__class__.__name__} -> Mean: {np.mean(XGB_valid_RMSE1 + XGB_valid_RMSE2)}, Std: {np.std(XGB_valid_RMSE1 + XGB_valid_RMSE2)}')"
   ]
  },
  {
   "cell_type": "markdown",
   "id": "82085dae-218c-4108-8419-60d6d9269953",
   "metadata": {},
   "source": [
    "- LGBM"
   ]
  },
  {
   "cell_type": "code",
   "execution_count": 180,
   "id": "c47f287f-c097-4965-85b8-597ecd48cf5a",
   "metadata": {},
   "outputs": [
    {
     "name": "stdout",
     "output_type": "stream",
     "text": [
      "LGBMRegressor -> Mean: 79685.80568992576, Std: 7307.979991065404\n"
     ]
    }
   ],
   "source": [
    "_, LGBM_valid_RMSE1, LGBM_test_pred1 = OOF_predict(LGBM, df2, target, test2, skfold1, stratify='Store')\n",
    "_, LGBM_valid_RMSE2, LGBM_test_pred2 = OOF_predict(LGBM, df2, target, test2, skfold2, stratify='Store')\n",
    "print(f'{LGBM.__class__.__name__} -> Mean: {np.mean(LGBM_valid_RMSE1 + LGBM_valid_RMSE2)}, Std: {np.std(LGBM_valid_RMSE1 + LGBM_valid_RMSE2)}')"
   ]
  },
  {
   "cell_type": "markdown",
   "id": "17df0ff5-33cf-4d83-9bcd-c76d1e8dd4be",
   "metadata": {},
   "source": [
    "`-` LGBM 모델의 성능이 가장 우수하다"
   ]
  },
  {
   "cell_type": "markdown",
   "id": "8a27ecbc-fe2d-4752-9eda-96b881c5a5d2",
   "metadata": {},
   "source": [
    "- test 예측 및 제출"
   ]
  },
  {
   "cell_type": "markdown",
   "id": "3cf8a8dd-9b92-4267-9faa-8eb75c59597f",
   "metadata": {},
   "source": [
    "`-` test 데이터의 경우 행이 180개로 train 데이터에 비해 매우 적다\n",
    "\n",
    "`-` 연도는 2012년만 존재하며 월의 경우 5월, 10월, 12월만 존재한다\n",
    "\n",
    "`-` 오버피팅을 주의해야 한다\n",
    "\n",
    "`-` LGBM 모델과 XGB 모델은 성능이 좋지 않았으며 Catboost 모델의 성능은 나쁘지 않다"
   ]
  },
  {
   "cell_type": "code",
   "execution_count": 142,
   "id": "3e7893ea-0662-4136-8a7f-e34bcb488c01",
   "metadata": {},
   "outputs": [
    {
     "data": {
      "text/html": [
       "<div>\n",
       "<style scoped>\n",
       "    .dataframe tbody tr th:only-of-type {\n",
       "        vertical-align: middle;\n",
       "    }\n",
       "\n",
       "    .dataframe tbody tr th {\n",
       "        vertical-align: top;\n",
       "    }\n",
       "\n",
       "    .dataframe thead th {\n",
       "        text-align: right;\n",
       "    }\n",
       "</style>\n",
       "<table border=\"1\" class=\"dataframe\">\n",
       "  <thead>\n",
       "    <tr style=\"text-align: right;\">\n",
       "      <th></th>\n",
       "      <th>id</th>\n",
       "      <th>Weekly_Sales</th>\n",
       "    </tr>\n",
       "  </thead>\n",
       "  <tbody>\n",
       "    <tr>\n",
       "      <th>0</th>\n",
       "      <td>1</td>\n",
       "      <td>1.629705e+06</td>\n",
       "    </tr>\n",
       "    <tr>\n",
       "      <th>1</th>\n",
       "      <td>2</td>\n",
       "      <td>1.556559e+06</td>\n",
       "    </tr>\n",
       "    <tr>\n",
       "      <th>2</th>\n",
       "      <td>3</td>\n",
       "      <td>1.258371e+06</td>\n",
       "    </tr>\n",
       "    <tr>\n",
       "      <th>3</th>\n",
       "      <td>4</td>\n",
       "      <td>1.271491e+06</td>\n",
       "    </tr>\n",
       "    <tr>\n",
       "      <th>4</th>\n",
       "      <td>5</td>\n",
       "      <td>1.837574e+06</td>\n",
       "    </tr>\n",
       "  </tbody>\n",
       "</table>\n",
       "</div>"
      ],
      "text/plain": [
       "   id  Weekly_Sales\n",
       "0   1  1.629705e+06\n",
       "1   2  1.556559e+06\n",
       "2   3  1.258371e+06\n",
       "3   4  1.271491e+06\n",
       "4   5  1.837574e+06"
      ]
     },
     "execution_count": 142,
     "metadata": {},
     "output_type": "execute_result"
    }
   ],
   "source": [
    "submission['Weekly_Sales'] = (CB_test_pred1 + CB_test_pred2) / 2\n",
    "submission.head()"
   ]
  },
  {
   "cell_type": "code",
   "execution_count": 143,
   "id": "cd721ade-8a96-4a79-a0c5-8b1beea5a705",
   "metadata": {},
   "outputs": [
    {
     "data": {
      "text/plain": [
       "<AxesSubplot:xlabel='Weekly_Sales', ylabel='Density'>"
      ]
     },
     "execution_count": 143,
     "metadata": {},
     "output_type": "execute_result"
    },
    {
     "data": {
      "image/png": "[encoded data removed]",
      "text/plain": [
       "<Figure size 864x288 with 2 Axes>"
      ]
     },
     "metadata": {
      "needs_background": "light"
     },
     "output_type": "display_data"
    }
   ],
   "source": [
    "fig, (ax1, ax2) = plt.subplots(1, 2, figsize=(12, 4))\n",
    "sns.distplot(df.query('Year == 2011 and (Month == 5 or Month == 10 or Month == 12)')['Weekly_Sales'], ax=ax1)\n",
    "sns.distplot(submission['Weekly_Sales'], ax=ax2)"
   ]
  },
  {
   "cell_type": "code",
   "execution_count": 403,
   "id": "5c4f4868-e622-4677-9e0f-0e23574f1e30",
   "metadata": {},
   "outputs": [],
   "source": [
    "# submission.to_csv('./Data/submission5.csv', index=False)"
   ]
  },
  {
   "cell_type": "markdown",
   "id": "10458b57-35ea-4e50-84f5-d44d23d05e5d",
   "metadata": {},
   "source": [
    "## 쇼핑몰 지점별 모델 생성"
   ]
  },
  {
   "cell_type": "markdown",
   "id": "391bda88-4c45-47f9-845e-7945b8cbb572",
   "metadata": {},
   "source": [
    "`-` 쇼핑몰마다 주간 매출액의 분포가 상이하여 비슷한 분포를 띄는 쇼핑몰끼리 그룹화하려고 했다\n",
    "\n",
    "`-` 그런데 굳이 그룹화 하지않고 쇼핑몰 지점에 따른 모델을 생성하여 학습하고자 했다 \n",
    "\n",
    "`-` 원핫인코딩을 사용하면 피쳐의 개수가 너무 많아져서 쇼핑몰 지점마다 모델을 생성\n",
    "\n",
    "`-` 기존의 존재하지 않는 새로운 쇼핑몰이라면 전체 데이터로 학습시킨 모델을 사용했다\n",
    "\n",
    "`-` 그러나 test 데이터에서 새로운 쇼핑몰은 등장하지 않았다"
   ]
  },
  {
   "cell_type": "code",
   "execution_count": 433,
   "id": "35a1d743-e1ae-42a8-a5e7-7d7338398afd",
   "metadata": {},
   "outputs": [],
   "source": [
    "k = 10\n",
    "skfold1 = KFold(k, shuffle=True, random_state=SEED+2)\n",
    "#skfold2 = KFold(k, shuffle=True, random_state=SEED*2)"
   ]
  },
  {
   "cell_type": "code",
   "execution_count": 446,
   "id": "691c3a0e-1319-4498-b626-8bcad4035119",
   "metadata": {},
   "outputs": [],
   "source": [
    "CB = CatBoostRegressor(n_estimators=3000,\n",
    "                       learning_rate=0.03,\n",
    "                       max_depth=5,\n",
    "                       use_best_model=True,\n",
    "                       random_state=SEED,\n",
    "                       verbose=0)"
   ]
  },
  {
   "cell_type": "code",
   "execution_count": 447,
   "id": "a1f3b959-b958-435f-8500-9487ff3eb50f",
   "metadata": {},
   "outputs": [],
   "source": [
    "XGB = XGBRegressor(n_estimators=3000,\n",
    "                   learning_rate=0.03,\n",
    "                   max_depth=7,\n",
    "                   random_state=SEED)"
   ]
  },
  {
   "cell_type": "code",
   "execution_count": 448,
   "id": "301a0d72-f2bc-43cb-97fb-57d17ad15c18",
   "metadata": {},
   "outputs": [],
   "source": [
    "LGBM = LGBMRegressor(n_estimators=3000,\n",
    "                     learning_rate=0.03,\n",
    "                     max_depth=7,\n",
    "                     min_child_samples=3,\n",
    "                     random_state=SEED)"
   ]
  },
  {
   "cell_type": "code",
   "execution_count": 449,
   "id": "d4be6b1b-107a-4dac-94e4-f50d8e08c1c3",
   "metadata": {},
   "outputs": [
    {
     "name": "stderr",
     "output_type": "stream",
     "text": [
      "  2%|█▊                                                                                 | 1/45 [00:22<16:22, 22.33s/it]Custom logger is already specified. Specify more than one logger at same time is not thread safe."
     ]
    },
    {
     "name": "stdout",
     "output_type": "stream",
     "text": [
      "1 -> Mean: 71626.3546079936 Std: 21535.106240415305\n"
     ]
    },
    {
     "name": "stderr",
     "output_type": "stream",
     "text": [
      "  4%|███▋                                                                               | 2/45 [00:51<18:43, 26.12s/it]"
     ]
    },
    {
     "name": "stdout",
     "output_type": "stream",
     "text": [
      "2 -> Mean: 102663.42679329865 Std: 36087.414517216675\n"
     ]
    },
    {
     "name": "stderr",
     "output_type": "stream",
     "text": [
      "  7%|█████▌                                                                             | 3/45 [01:08<15:38, 22.34s/it]"
     ]
    },
    {
     "name": "stdout",
     "output_type": "stream",
     "text": [
      "3 -> Mean: 24193.152275323988 Std: 7026.096081723979\n"
     ]
    },
    {
     "name": "stderr",
     "output_type": "stream",
     "text": [
      "  9%|███████▍                                                                           | 4/45 [01:25<13:40, 20.02s/it]"
     ]
    },
    {
     "name": "stdout",
     "output_type": "stream",
     "text": [
      "4 -> Mean: 107702.24586375341 Std: 34192.19991473571\n"
     ]
    },
    {
     "name": "stderr",
     "output_type": "stream",
     "text": [
      " 11%|█████████▏                                                                         | 5/45 [01:41<12:19, 18.49s/it]"
     ]
    },
    {
     "name": "stdout",
     "output_type": "stream",
     "text": [
      "5 -> Mean: 20200.971802085358 Std: 6411.253371914664\n"
     ]
    },
    {
     "name": "stderr",
     "output_type": "stream",
     "text": [
      " 13%|███████████                                                                        | 6/45 [02:01<12:25, 19.11s/it]"
     ]
    },
    {
     "name": "stdout",
     "output_type": "stream",
     "text": [
      "6 -> Mean: 98460.8866978072 Std: 26060.451710618505\n"
     ]
    },
    {
     "name": "stderr",
     "output_type": "stream",
     "text": [
      " 16%|████████████▉                                                                      | 7/45 [02:17<11:25, 18.03s/it]"
     ]
    },
    {
     "name": "stdout",
     "output_type": "stream",
     "text": [
      "7 -> Mean: 53917.593986423584 Std: 16329.79656746314\n"
     ]
    },
    {
     "name": "stderr",
     "output_type": "stream",
     "text": [
      " 18%|██████████████▊                                                                    | 8/45 [02:30<10:13, 16.57s/it]"
     ]
    },
    {
     "name": "stdout",
     "output_type": "stream",
     "text": [
      "8 -> Mean: 56846.69498457744 Std: 14906.25307590329\n"
     ]
    },
    {
     "name": "stderr",
     "output_type": "stream",
     "text": [
      " 20%|████████████████▌                                                                  | 9/45 [02:48<10:11, 16.99s/it]"
     ]
    },
    {
     "name": "stdout",
     "output_type": "stream",
     "text": [
      "9 -> Mean: 35653.069672170524 Std: 10556.023741038864\n"
     ]
    },
    {
     "name": "stderr",
     "output_type": "stream",
     "text": [
      " 22%|██████████████████▏                                                               | 10/45 [02:59<08:45, 15.00s/it]"
     ]
    },
    {
     "name": "stdout",
     "output_type": "stream",
     "text": [
      "10 -> Mean: 151106.08400730538 Std: 42176.04434977088\n"
     ]
    },
    {
     "name": "stderr",
     "output_type": "stream",
     "text": [
      " 24%|████████████████████                                                              | 11/45 [03:15<08:48, 15.55s/it]"
     ]
    },
    {
     "name": "stdout",
     "output_type": "stream",
     "text": [
      "11 -> Mean: 75586.16343235988 Std: 20439.8423130985\n"
     ]
    },
    {
     "name": "stderr",
     "output_type": "stream",
     "text": [
      " 27%|█████████████████████▊                                                            | 12/45 [03:30<08:18, 15.12s/it]"
     ]
    },
    {
     "name": "stdout",
     "output_type": "stream",
     "text": [
      "12 -> Mean: 68158.27281059211 Std: 32054.467959211346\n"
     ]
    },
    {
     "name": "stderr",
     "output_type": "stream",
     "text": [
      " 29%|███████████████████████▋                                                          | 13/45 [03:42<07:37, 14.29s/it]"
     ]
    },
    {
     "name": "stdout",
     "output_type": "stream",
     "text": [
      "13 -> Mean: 132493.19481025654 Std: 44492.22500528186\n"
     ]
    },
    {
     "name": "stderr",
     "output_type": "stream",
     "text": [
      " 31%|█████████████████████████▌                                                        | 14/45 [04:03<08:21, 16.18s/it]"
     ]
    },
    {
     "name": "stdout",
     "output_type": "stream",
     "text": [
      "14 -> Mean: 154597.96176732302 Std: 58879.155533727455\n"
     ]
    },
    {
     "name": "stderr",
     "output_type": "stream",
     "text": [
      " 33%|███████████████████████████▎                                                      | 15/45 [04:18<07:58, 15.96s/it]"
     ]
    },
    {
     "name": "stdout",
     "output_type": "stream",
     "text": [
      "15 -> Mean: 50833.69074832935 Std: 19458.283464422177\n"
     ]
    },
    {
     "name": "stderr",
     "output_type": "stream",
     "text": [
      " 36%|█████████████████████████████▏                                                    | 16/45 [04:32<07:24, 15.32s/it]"
     ]
    },
    {
     "name": "stdout",
     "output_type": "stream",
     "text": [
      "16 -> Mean: 38170.44599714597 Std: 11554.093838569881\n"
     ]
    },
    {
     "name": "stderr",
     "output_type": "stream",
     "text": [
      " 38%|██████████████████████████████▉                                                   | 17/45 [04:43<06:29, 13.92s/it]"
     ]
    },
    {
     "name": "stdout",
     "output_type": "stream",
     "text": [
      "17 -> Mean: 73043.09888807025 Std: 22115.164603586312\n"
     ]
    },
    {
     "name": "stderr",
     "output_type": "stream",
     "text": [
      " 40%|████████████████████████████████▊                                                 | 18/45 [05:00<06:47, 15.09s/it]"
     ]
    },
    {
     "name": "stdout",
     "output_type": "stream",
     "text": [
      "18 -> Mean: 90791.66854637348 Std: 31968.035862664816\n"
     ]
    },
    {
     "name": "stderr",
     "output_type": "stream",
     "text": [
      " 42%|██████████████████████████████████▌                                               | 19/45 [05:15<06:28, 14.93s/it]"
     ]
    },
    {
     "name": "stdout",
     "output_type": "stream",
     "text": [
      "19 -> Mean: 87978.95360242223 Std: 23984.07764698314\n"
     ]
    },
    {
     "name": "stderr",
     "output_type": "stream",
     "text": [
      " 44%|████████████████████████████████████▍                                             | 20/45 [05:28<06:00, 14.43s/it]"
     ]
    },
    {
     "name": "stdout",
     "output_type": "stream",
     "text": [
      "20 -> Mean: 142817.77873579558 Std: 38779.799575012265\n"
     ]
    },
    {
     "name": "stderr",
     "output_type": "stream",
     "text": [
      " 47%|██████████████████████████████████████▎                                           | 21/45 [05:45<06:07, 15.29s/it]"
     ]
    },
    {
     "name": "stdout",
     "output_type": "stream",
     "text": [
      "21 -> Mean: 63572.47100630701 Std: 23017.121814613056\n"
     ]
    },
    {
     "name": "stderr",
     "output_type": "stream",
     "text": [
      " 49%|████████████████████████████████████████                                          | 22/45 [05:59<05:39, 14.77s/it]"
     ]
    },
    {
     "name": "stdout",
     "output_type": "stream",
     "text": [
      "22 -> Mean: 82093.49199696627 Std: 27512.285550054487\n"
     ]
    },
    {
     "name": "stderr",
     "output_type": "stream",
     "text": [
      " 51%|█████████████████████████████████████████▉                                        | 23/45 [06:13<05:20, 14.58s/it]"
     ]
    },
    {
     "name": "stdout",
     "output_type": "stream",
     "text": [
      "23 -> Mean: 118389.63891541174 Std: 25084.114015946187\n"
     ]
    },
    {
     "name": "stderr",
     "output_type": "stream",
     "text": [
      " 53%|███████████████████████████████████████████▋                                      | 24/45 [06:24<04:44, 13.55s/it]"
     ]
    },
    {
     "name": "stdout",
     "output_type": "stream",
     "text": [
      "24 -> Mean: 84215.09141138798 Std: 25560.465005764636\n"
     ]
    },
    {
     "name": "stderr",
     "output_type": "stream",
     "text": [
      " 56%|█████████████████████████████████████████████▌                                    | 25/45 [06:39<04:38, 13.93s/it]"
     ]
    },
    {
     "name": "stdout",
     "output_type": "stream",
     "text": [
      "25 -> Mean: 53866.135442406696 Std: 11950.417188715626\n"
     ]
    },
    {
     "name": "stderr",
     "output_type": "stream",
     "text": [
      " 58%|███████████████████████████████████████████████▍                                  | 26/45 [06:55<04:35, 14.52s/it]"
     ]
    },
    {
     "name": "stdout",
     "output_type": "stream",
     "text": [
      "26 -> Mean: 46394.88420613564 Std: 10316.959933282964\n"
     ]
    },
    {
     "name": "stderr",
     "output_type": "stream",
     "text": [
      " 60%|█████████████████████████████████████████████████▏                                | 27/45 [07:08<04:14, 14.12s/it]"
     ]
    },
    {
     "name": "stdout",
     "output_type": "stream",
     "text": [
      "27 -> Mean: 132756.3392425393 Std: 47150.72180631519\n"
     ]
    },
    {
     "name": "stderr",
     "output_type": "stream",
     "text": [
      " 62%|███████████████████████████████████████████████████                               | 28/45 [07:21<03:54, 13.80s/it]"
     ]
    },
    {
     "name": "stdout",
     "output_type": "stream",
     "text": [
      "28 -> Mean: 91816.43040192427 Std: 31688.63646366963\n"
     ]
    },
    {
     "name": "stderr",
     "output_type": "stream",
     "text": [
      " 64%|████████████████████████████████████████████████████▊                             | 29/45 [07:33<03:31, 13.24s/it]"
     ]
    },
    {
     "name": "stdout",
     "output_type": "stream",
     "text": [
      "29 -> Mean: 51748.57889818476 Std: 20355.77062304265\n"
     ]
    },
    {
     "name": "stderr",
     "output_type": "stream",
     "text": [
      " 67%|██████████████████████████████████████████████████████▋                           | 30/45 [07:44<03:05, 12.37s/it]"
     ]
    },
    {
     "name": "stdout",
     "output_type": "stream",
     "text": [
      "30 -> Mean: 14102.585609899746 Std: 2913.264641015926\n"
     ]
    },
    {
     "name": "stderr",
     "output_type": "stream",
     "text": [
      " 69%|████████████████████████████████████████████████████████▍                         | 31/45 [08:02<03:20, 14.29s/it]"
     ]
    },
    {
     "name": "stdout",
     "output_type": "stream",
     "text": [
      "31 -> Mean: 58888.03442188761 Std: 20428.296810616503\n"
     ]
    },
    {
     "name": "stderr",
     "output_type": "stream",
     "text": [
      " 71%|██████████████████████████████████████████████████████████▎                       | 32/45 [08:20<03:19, 15.36s/it]"
     ]
    },
    {
     "name": "stdout",
     "output_type": "stream",
     "text": [
      "32 -> Mean: 67787.29349385011 Std: 21227.783267266732\n"
     ]
    },
    {
     "name": "stderr",
     "output_type": "stream",
     "text": [
      " 73%|████████████████████████████████████████████████████████████▏                     | 33/45 [08:38<03:11, 16.00s/it]"
     ]
    },
    {
     "name": "stdout",
     "output_type": "stream",
     "text": [
      "33 -> Mean: 10550.973638865364 Std: 1909.643501537455\n"
     ]
    },
    {
     "name": "stderr",
     "output_type": "stream",
     "text": [
      " 76%|█████████████████████████████████████████████████████████████▉                    | 34/45 [08:49<02:40, 14.58s/it]"
     ]
    },
    {
     "name": "stdout",
     "output_type": "stream",
     "text": [
      "34 -> Mean: 46532.702099888396 Std: 12618.249820435567\n"
     ]
    },
    {
     "name": "stderr",
     "output_type": "stream",
     "text": [
      " 78%|███████████████████████████████████████████████████████████████▊                  | 35/45 [09:04<02:28, 14.87s/it]"
     ]
    },
    {
     "name": "stdout",
     "output_type": "stream",
     "text": [
      "35 -> Mean: 90084.03495327852 Std: 37203.455323454495\n"
     ]
    },
    {
     "name": "stderr",
     "output_type": "stream",
     "text": [
      " 80%|█████████████████████████████████████████████████████████████████▌                | 36/45 [09:15<02:02, 13.63s/it]"
     ]
    },
    {
     "name": "stdout",
     "output_type": "stream",
     "text": [
      "36 -> Mean: 15935.286170077443 Std: 3179.951947550225\n"
     ]
    },
    {
     "name": "stderr",
     "output_type": "stream",
     "text": [
      " 82%|███████████████████████████████████████████████████████████████████▍              | 37/45 [09:24<01:36, 12.06s/it]"
     ]
    },
    {
     "name": "stdout",
     "output_type": "stream",
     "text": [
      "37 -> Mean: 14739.861683740251 Std: 3315.8669406553886\n"
     ]
    },
    {
     "name": "stderr",
     "output_type": "stream",
     "text": [
      " 84%|█████████████████████████████████████████████████████████████████████▏            | 38/45 [09:34<01:19, 11.42s/it]"
     ]
    },
    {
     "name": "stdout",
     "output_type": "stream",
     "text": [
      "38 -> Mean: 12675.89354728351 Std: 2582.360117706763\n"
     ]
    },
    {
     "name": "stderr",
     "output_type": "stream",
     "text": [
      " 87%|███████████████████████████████████████████████████████████████████████           | 39/45 [09:49<01:15, 12.62s/it]"
     ]
    },
    {
     "name": "stdout",
     "output_type": "stream",
     "text": [
      "39 -> Mean: 100324.45193288615 Std: 33467.580347765186\n"
     ]
    },
    {
     "name": "stderr",
     "output_type": "stream",
     "text": [
      " 89%|████████████████████████████████████████████████████████████████████████▉         | 40/45 [10:06<01:09, 13.87s/it]"
     ]
    },
    {
     "name": "stdout",
     "output_type": "stream",
     "text": [
      "40 -> Mean: 46941.36335415739 Std: 9454.923700273861\n"
     ]
    },
    {
     "name": "stderr",
     "output_type": "stream",
     "text": [
      " 91%|██████████████████████████████████████████████████████████████████████████▋       | 41/45 [10:18<00:53, 13.45s/it]"
     ]
    },
    {
     "name": "stdout",
     "output_type": "stream",
     "text": [
      "41 -> Mean: 91419.84814211787 Std: 39104.25844536196\n"
     ]
    },
    {
     "name": "stderr",
     "output_type": "stream",
     "text": [
      " 93%|████████████████████████████████████████████████████████████████████████████▌     | 42/45 [10:36<00:44, 14.72s/it]"
     ]
    },
    {
     "name": "stdout",
     "output_type": "stream",
     "text": [
      "42 -> Mean: 16421.68147459614 Std: 4600.622671553501\n"
     ]
    },
    {
     "name": "stderr",
     "output_type": "stream",
     "text": [
      " 96%|██████████████████████████████████████████████████████████████████████████████▎   | 43/45 [10:46<00:26, 13.25s/it]"
     ]
    },
    {
     "name": "stdout",
     "output_type": "stream",
     "text": [
      "43 -> Mean: 23253.098682945158 Std: 4950.262938607256\n"
     ]
    },
    {
     "name": "stderr",
     "output_type": "stream",
     "text": [
      " 98%|████████████████████████████████████████████████████████████████████████████████▏ | 44/45 [10:57<00:12, 12.82s/it]"
     ]
    },
    {
     "name": "stdout",
     "output_type": "stream",
     "text": [
      "44 -> Mean: 10440.739075818163 Std: 2913.2205300647834\n"
     ]
    },
    {
     "name": "stderr",
     "output_type": "stream",
     "text": [
      "100%|██████████████████████████████████████████████████████████████████████████████████| 45/45 [11:12<00:00, 14.94s/it]"
     ]
    },
    {
     "name": "stdout",
     "output_type": "stream",
     "text": [
      "45 -> Mean: 59855.048318053654 Std: 23286.87105261504\n",
      "쇼핑몰 지점별 RMSE의 평균: 67592.1704033337\n",
      "Mean RMSE: 82463.93895807197\n"
     ]
    },
    {
     "name": "stderr",
     "output_type": "stream",
     "text": [
      "\n"
     ]
    }
   ],
   "source": [
    "valid_RMSE = []\n",
    "valid_SAE = []\n",
    "preds = {}\n",
    "model = CB\n",
    "for store in tqdm(range(1, 46)):\n",
    "    df3 = df.query('Store == @store')\n",
    "    target = df3['Weekly_Sales']\n",
    "    df3 = df3[features].drop('Store', axis=1)\n",
    "    test3 = test2.query('Store == @store')\n",
    "    test3 = test3[features].drop('Store', axis=1)\n",
    "    _, model_valid_RMSE, model_valid_SAE, model_test_pred = OOF_predict(model, df3, target, test3, skfold1, original_score=True)\n",
    "    #_, model_valid_RMSE2, model_valid_SAE2, model_test_pred2 = OOF_predict(model, df3, target, test3, skfold2, original_score=True)\n",
    "    \n",
    "    valid_RMSE.extend(model_valid_RMSE \n",
    "                      #+ model_valid_RMSE2\n",
    "                     )\n",
    "    valid_SAE.extend(model_valid_SAE \n",
    "                     #+ model_valid_SAE2\n",
    "                    )\n",
    "    preds[store] = model_test_pred \n",
    "    print(f'{store} -> Mean: {np.mean(model_valid_RMSE)} Std: {np.std(model_valid_RMSE)}')\n",
    "\n",
    "print(f'쇼핑몰 지점별 RMSE의 평균: {np.mean(valid_RMSE)}')\n",
    "print(f'Mean RMSE: {np.sqrt(np.mean(valid_SAE))}')"
   ]
  },
  {
   "cell_type": "code",
   "execution_count": 450,
   "id": "8c61fcf8-42c9-4886-af6b-fb18239a8166",
   "metadata": {},
   "outputs": [],
   "source": [
    "predictions = pd.DataFrame(data=preds[1])\n",
    "for i in range(2, 46):\n",
    "    predictions = predictions.append(pd.DataFrame(data=preds[i]))\n",
    "predictions = predictions.reset_index().drop('index', axis=1).rename(columns={0:'target'})"
   ]
  },
  {
   "cell_type": "code",
   "execution_count": 451,
   "id": "279cc7fa-fba2-48a4-b5b3-670349aab10d",
   "metadata": {},
   "outputs": [],
   "source": [
    "submission['Weekly_Sales'] = predictions['target'] "
   ]
  },
  {
   "cell_type": "code",
   "execution_count": 452,
   "id": "1585065b-8264-469c-81dd-c265e9305c34",
   "metadata": {},
   "outputs": [
    {
     "data": {
      "text/plain": [
       "<AxesSubplot:xlabel='Weekly_Sales', ylabel='Density'>"
      ]
     },
     "execution_count": 452,
     "metadata": {},
     "output_type": "execute_result"
    },
    {
     "data": {
      "image/png": "[encoded data removed]",
      "text/plain": [
       "<Figure size 864x288 with 2 Axes>"
      ]
     },
     "metadata": {
      "needs_background": "light"
     },
     "output_type": "display_data"
    }
   ],
   "source": [
    "fig, (ax1, ax2) = plt.subplots(1, 2, figsize=(12, 4))\n",
    "sns.distplot(df.query('Year == 2011 and (Month == 5 or Month == 10 or Month == 12)')['Weekly_Sales'], ax=ax1)\n",
    "sns.distplot(submission['Weekly_Sales'], ax=ax2)"
   ]
  },
  {
   "cell_type": "code",
   "execution_count": 705,
   "id": "fe345203-c7f9-403e-9c15-688e5f0cc0de",
   "metadata": {},
   "outputs": [],
   "source": [
    "# submission.to_csv('./Data/submission20.csv', index=False)"
   ]
  },
  {
   "cell_type": "code",
   "execution_count": null,
   "id": "74e44ecb-3f96-4c4a-9837-e9572a2a689d",
   "metadata": {},
   "outputs": [],
   "source": []
  }
 ],
 "metadata": {
  "kernelspec": {
   "display_name": "Python 3 (ipykernel)",
   "language": "python",
   "name": "python3"
  },
  "language_info": {
   "codemirror_mode": {
    "name": "ipython",
    "version": 3
   },
   "file_extension": ".py",
   "mimetype": "text/x-python",
   "name": "python",
   "nbconvert_exporter": "python",
   "pygments_lexer": "ipython3",
   "version": "3.8.11"
  }
 },
 "nbformat": 4,
 "nbformat_minor": 5
}
