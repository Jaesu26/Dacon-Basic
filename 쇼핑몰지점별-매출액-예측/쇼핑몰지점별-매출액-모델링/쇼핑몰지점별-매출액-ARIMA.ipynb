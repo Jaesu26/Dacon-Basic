{
 "cells": [
  {
   "cell_type": "markdown",
   "id": "cff3ff0e-090d-4b4c-89b4-6ebd2ccb61e2",
   "metadata": {},
   "source": [
    "# 쇼핑몰 지점별 매출액 예측 경진대회"
   ]
  },
  {
   "cell_type": "markdown",
   "id": "bd1a39f8-711e-4efd-978f-f3e3a41c1097",
   "metadata": {},
   "source": [
    "## 데이터 불러오기"
   ]
  },
  {
   "cell_type": "code",
   "execution_count": 1,
   "id": "46c67e1a-e036-467c-bc82-17c8508cf59b",
   "metadata": {},
   "outputs": [],
   "source": [
    "import numpy as np\n",
    "import pandas as pd\n",
    "import os\n",
    "import matplotlib.pyplot as plt\n",
    "import seaborn as sns\n",
    "import warnings\n",
    "from tqdm import tqdm\n",
    "\n",
    "warnings.filterwarnings('ignore')"
   ]
  },
  {
   "cell_type": "code",
   "execution_count": 2,
   "id": "e8ed9872-1279-49a0-a630-8bea741f2da9",
   "metadata": {},
   "outputs": [],
   "source": [
    "sns.set_theme(style='white')"
   ]
  },
  {
   "cell_type": "code",
   "execution_count": 3,
   "id": "0ee1af3f-c67d-4114-8fdb-7197760f3c1f",
   "metadata": {},
   "outputs": [],
   "source": [
    "SEED = 22"
   ]
  },
  {
   "cell_type": "code",
   "execution_count": 4,
   "id": "809b227e-290b-4f84-9d97-f849bee99907",
   "metadata": {},
   "outputs": [
    {
     "data": {
      "text/plain": [
       "'C:\\\\Users\\\\Jaesu\\\\github_desktop\\\\Dacon-Basic\\\\쇼핑몰지점별-매출액-예측\\\\쇼핑몰지점별-매출액-EDA모델링'"
      ]
     },
     "execution_count": 4,
     "metadata": {},
     "output_type": "execute_result"
    }
   ],
   "source": [
    "os.getcwd()"
   ]
  },
  {
   "cell_type": "code",
   "execution_count": 5,
   "id": "ce7c7419-59a6-4e19-9743-4a8a35d3ff2a",
   "metadata": {},
   "outputs": [],
   "source": [
    "os.chdir('C:\\\\Users\\\\Jaesu\\\\github_desktop\\\\Dacon-Basic\\\\쇼핑몰지점별-매출액-예측')"
   ]
  },
  {
   "cell_type": "code",
   "execution_count": 6,
   "id": "7947a334-ea08-4c7d-9053-9ffa850fdab5",
   "metadata": {},
   "outputs": [],
   "source": [
    "df = pd.read_csv('./Data/train.csv')\n",
    "test = pd.read_csv('./Data/test.csv')\n",
    "submission = pd.read_csv('./Data/sample_submission.csv')"
   ]
  },
  {
   "cell_type": "code",
   "execution_count": null,
   "id": "394cf746-dd32-4860-9b26-a51ef35a2a97",
   "metadata": {},
   "outputs": [],
   "source": [
    "df.drop('id', axis=1, inplace=True)\n",
    "test.drop('id', axis=1, inplace=True)"
   ]
  },
  {
   "cell_type": "markdown",
   "id": "546e5014-bf37-4eb1-a544-b27adeeb2e8d",
   "metadata": {},
   "source": [
    "## 데이터 전처리 및 파생변수 생성"
   ]
  },
  {
   "cell_type": "markdown",
   "id": "ea797f3a-a7ab-453f-a003-d82bdbf172df",
   "metadata": {},
   "source": [
    "- Data 변수를 날짜 형식으로 변경"
   ]
  },
  {
   "cell_type": "code",
   "execution_count": 43,
   "id": "d5c1086f-ef7c-4ed6-a867-ca0c182d2bd6",
   "metadata": {},
   "outputs": [],
   "source": [
    "def get_date(df) -> None:\n",
    "    \"\"\"df['Date']에서 연, 월, 일 변수를 생성\"\"\" \n",
    "    df['Date'] = pd.to_datetime(df['Date'])\n",
    "    df['Year'] = df['Date'].dt.year\n",
    "    df['Month'] = df['Date'].dt.month\n",
    "    df['Day'] = df['Date'].dt.day "
   ]
  },
  {
   "cell_type": "code",
   "execution_count": 44,
   "id": "730d8fec-0968-46bb-bb27-e7d82d061886",
   "metadata": {},
   "outputs": [],
   "source": [
    "get_date(df)\n",
    "get_date(test)"
   ]
  },
  {
   "cell_type": "markdown",
   "id": "d7e368ee-4cb8-472e-814c-6b311b418b25",
   "metadata": {},
   "source": [
    "## 시계열 예측 모델 생성"
   ]
  },
  {
   "cell_type": "code",
   "execution_count": 15,
   "id": "d9820b0f-2857-4c4e-9015-8eead34bacb5",
   "metadata": {},
   "outputs": [],
   "source": [
    "import pmdarima as pm\n",
    "from pmdarima.arima import ndiffs"
   ]
  },
  {
   "cell_type": "code",
   "execution_count": 110,
   "id": "a0d614ff-b6ed-4958-9e32-f5d70100ccf9",
   "metadata": {},
   "outputs": [],
   "source": [
    "def RMSE(true, pred):\n",
    "    score = np.sqrt(np.mean(np.square(true - pred)))\n",
    "    return score"
   ]
  },
  {
   "cell_type": "code",
   "execution_count": 45,
   "id": "4e607aba-50f8-4c0c-a0fe-6bcb10e5a092",
   "metadata": {},
   "outputs": [],
   "source": [
    "date = sorted(df['Date'].unique())"
   ]
  },
  {
   "cell_type": "code",
   "execution_count": 46,
   "id": "7d7e9792-b13a-487d-a66f-413bebc2d0e7",
   "metadata": {},
   "outputs": [
    {
     "data": {
      "text/plain": [
       "array(['2012-05-10T00:00:00.000000000', '2012-12-10T00:00:00.000000000',\n",
       "       '2012-10-19T00:00:00.000000000', '2012-10-26T00:00:00.000000000'],\n",
       "      dtype='datetime64[ns]')"
      ]
     },
     "execution_count": 46,
     "metadata": {},
     "output_type": "execute_result"
    }
   ],
   "source": [
    "test['Date'].unique()"
   ]
  },
  {
   "cell_type": "code",
   "execution_count": 47,
   "id": "06232103-c662-44b7-9883-416d8a780e27",
   "metadata": {},
   "outputs": [],
   "source": [
    "train = df[['Store', 'Date', 'Weekly_Sales']]"
   ]
  },
  {
   "cell_type": "markdown",
   "id": "a48ba441-c5b2-47b4-bbd4-857afbadf294",
   "metadata": {},
   "source": [
    "`-` 분포가 상이한 쇼핑몰: 43, 42, 37, 30, 36(하강), 38(상승), 33"
   ]
  },
  {
   "cell_type": "markdown",
   "id": "b6d4bafb-72bf-4a29-bb79-3e26cf0237f3",
   "metadata": {},
   "source": [
    "`-` 차분이 필요한지 확인하겠다"
   ]
  },
  {
   "cell_type": "code",
   "execution_count": 48,
   "id": "7d8189f6-c361-4e86-b3e3-d8c255e202f2",
   "metadata": {},
   "outputs": [],
   "source": [
    "store_diffs = {}\n",
    "for store in range(1, 46):\n",
    "    y_train = train.query('Store == @store').sort_values('Date')['Weekly_Sales']\n",
    "    kpss_diffs = ndiffs(y_train, test='kpss')\n",
    "    adf_diffs = ndiffs(y_train, test='adf')\n",
    "    n_diffs = max(adf_diffs, kpss_diffs)\n",
    "    store_diffs[store] = n_diffs\n",
    "    #print(f'{store} 쇼핑몰의 추정된 차수 d = {n_diffs}')"
   ]
  },
  {
   "cell_type": "code",
   "execution_count": 247,
   "id": "c6ced566-5a95-4b96-b679-0fa11ba73aff",
   "metadata": {},
   "outputs": [],
   "source": [
    "def fit_model(y_train, store, m=12, seasonal=True):\n",
    "    model = pm.auto_arima(y=y_train       \n",
    "                          ,d=store_diffs[store]            \n",
    "                          ,start_p=0 \n",
    "                          ,max_p=4\n",
    "                          ,start_q=0 \n",
    "                          ,max_q=4   \n",
    "                          ,m=m\n",
    "                          ,seasonal=True\n",
    "                          ,stepwise=True\n",
    "                          ,trace=False\n",
    "                          ,random_state=SEED\n",
    "                          )\n",
    "    return model"
   ]
  },
  {
   "cell_type": "code",
   "execution_count": 394,
   "id": "c0be7343-343a-41c3-9242-d7ef023de562",
   "metadata": {},
   "outputs": [],
   "source": [
    "# plt.figure(figsize=(10, 6))\n",
    "# sns.lineplot(data=df.query('Store == 1'), x='Date', y='Weekly_Sales')"
   ]
  },
  {
   "cell_type": "code",
   "execution_count": 393,
   "id": "cd93a654-c19c-47af-a41d-af82b9540153",
   "metadata": {},
   "outputs": [],
   "source": [
    "# store = 1\n",
    "\n",
    "# y_train5 = df.query('Store == @store and Date <= \"2012-04-30\"').sort_values('Date')[['Date', 'Weekly_Sales']].set_index('Date') \n",
    "# y_valid5 = df.query('Store == @store and Date > \"2012-04-30\"').sort_values('Date')[['Date', 'Weekly_Sales']]\n",
    "\n",
    "# y_train10 = df.query('Store == @store and Date <= \"2012-09-30\"').sort_values('Date')[['Date', 'Weekly_Sales']].set_index('Date') \n",
    "# y_valid10 = df.query('Store == @store and Date > \"2012-09-30\"').sort_values('Date')[['Date', 'Weekly_Sales']]\n",
    "\n",
    "# y_train12 = df.query('Store == @store and Date <= \"2011-11-30\"').sort_values('Date')[['Date', 'Weekly_Sales']].set_index('Date') \n",
    "# y_valid12 = df.query('Store == @store and Date > \"2011-11-30\"').sort_values('Date')[['Date', 'Weekly_Sales']]"
   ]
  },
  {
   "cell_type": "markdown",
   "id": "800478ee-e849-49fd-aec1-8c57935330e4",
   "metadata": {},
   "source": [
    "`-` `Prob(Q)` 값이 커야하고 `Prob(JB)` 값이 작아야 하고 `Prob(H)` 값이 커야한다"
   ]
  },
  {
   "cell_type": "markdown",
   "id": "dd230cf5-144b-4a1e-8395-ecf04867545e",
   "metadata": {},
   "source": [
    "`-` test 데이터 날짜 : `2012-05-10`, `2012-10-19`, `2012-10-26`, `2012-12-10`\n",
    "\n",
    "`-` train 데이터 날짜1 : `2012-04-27`, `2012-10-08`, `2012-10-08`, `2012-11-05`\n",
    "\n",
    "`-` train 데이터 날짜2 : `2011-05-08`, `2011-10-14`, `2011-10-21`, `2011-12-08`"
   ]
  },
  {
   "cell_type": "markdown",
   "id": "7e6a8b1c-5b44-4d11-99a5-b2b4e3260880",
   "metadata": {},
   "source": [
    "`-` 데이터가 거의 일주일 주기이므로 예측값도 일주일 주기라고 생각하면 된다"
   ]
  },
  {
   "cell_type": "markdown",
   "id": "d76df667-e42e-468f-a6f3-e64fc10945de",
   "metadata": {},
   "source": [
    "`-` train의 마지막 날짜에서 일주일씩 더하면 된다"
   ]
  },
  {
   "cell_type": "code",
   "execution_count": 427,
   "id": "3164b397-7a68-4256-8ba6-6ecc66faa327",
   "metadata": {},
   "outputs": [],
   "source": [
    "def forecast_one_step(model):\n",
    "    fc, conf_int = model.predict(n_periods=1, return_conf_int=True) \n",
    "    return fc.tolist()[0], np.asarray(conf_int).tolist()[0]"
   ]
  },
  {
   "cell_type": "code",
   "execution_count": 433,
   "id": "7ea9886d-82ea-4421-95c5-7c450f64868f",
   "metadata": {},
   "outputs": [],
   "source": [
    "def predict_test(store, y_train5, y_valid5, y_train10, y_valid10, y_train12, y_valid12):\n",
    "    model5 = fit_model(y_train5, store)\n",
    "    model10 = fit_model(y_train10, store)\n",
    "    model12 = fit_model(y_train12, store)\n",
    "    \n",
    "    ## 5월\n",
    "    pred5 = model5.predict()[2] ## 2012/05/10\n",
    "    \n",
    "    ## 10월\n",
    "    y_pred10 = []\n",
    "    for new_ob in y_valid10['Weekly_Sales']:\n",
    "        fc, _ = forecast_one_step(model10)\n",
    "        y_pred10.append(fc)\n",
    "        model10.update(new_ob)\n",
    "    pred10 = [y_pred10[-1]] + model10.predict(1).tolist() ## 2012/10/19, 2012/10/6\n",
    "    \n",
    "    ## 12월\n",
    "    y_pred12 = []\n",
    "    for new_ob in y_valid12['Weekly_Sales']:\n",
    "        fc, _ = forecast_one_step(model12)\n",
    "        y_pred12.append(fc)\n",
    "        model12.update(new_ob)\n",
    "    pred12 = y_pred12[1] ## 2012/12/10\n",
    "    return {'2012-05-10':pred5, '2012-10-19':pred10[0], '2012-10-26':pred10[1], '2012-12-10':pred12}"
   ]
  },
  {
   "cell_type": "code",
   "execution_count": 434,
   "id": "76dd4a91-bc48-43cc-abdf-899b877d803e",
   "metadata": {},
   "outputs": [],
   "source": [
    "def predict_all_test():\n",
    "    test['Weekly_Sales'] = 0\n",
    "    for store in tqdm(range(1, 46)):\n",
    "        ## 5월, 10월, 12월\n",
    "        y_train5 = df.query('Store == @store and Date <= \"2012-04-30\"').sort_values('Date')[['Date', 'Weekly_Sales']].set_index('Date') \n",
    "        y_valid5 = df.query('Store == @store and Date > \"2012-04-30\"').sort_values('Date')[['Date', 'Weekly_Sales']]\n",
    "\n",
    "        y_train10 = df.query('Store == @store and Date <= \"2012-09-30\"').sort_values('Date')[['Date', 'Weekly_Sales']].set_index('Date') \n",
    "        y_valid10 = df.query('Store == @store and Date > \"2012-09-30\"').sort_values('Date')[['Date', 'Weekly_Sales']]\n",
    "\n",
    "        y_train12 = df.query('Store == @store and Date <= \"2011-11-30\"').sort_values('Date')[['Date', 'Weekly_Sales']].set_index('Date') \n",
    "        y_valid12 = df.query('Store == @store and Date > \"2011-11-30\"').sort_values('Date')[['Date', 'Weekly_Sales']]\n",
    "        \n",
    "        ## 예측\n",
    "        test_dict = predict_test(store, y_train5, y_valid5, y_train10, y_valid10, y_train12, y_valid12)\n",
    "        for d in ['2012-05-10', '2012-10-19', '2012-10-26', '2012-12-10']:    \n",
    "            test.loc[(test['Store'] == store) & (test['Date'] == d), 'Weekly_Sales'] = test_dict[d]"
   ]
  },
  {
   "cell_type": "code",
   "execution_count": 439,
   "id": "4518eafa-a214-4319-90ef-8259fc60c2d4",
   "metadata": {},
   "outputs": [
    {
     "name": "stderr",
     "output_type": "stream",
     "text": [
      "100%|██████████████████████████████████████████████████████████████████████████████████| 45/45 [05:36<00:00,  7.47s/it]\n"
     ]
    }
   ],
   "source": [
    "## 쇼핑몰 지점별 test 예측\n",
    "predict_all_test()"
   ]
  },
  {
   "cell_type": "code",
   "execution_count": 440,
   "id": "b584da0f-befb-4478-9802-0d87477fd185",
   "metadata": {},
   "outputs": [
    {
     "data": {
      "text/html": [
       "<div>\n",
       "<style scoped>\n",
       "    .dataframe tbody tr th:only-of-type {\n",
       "        vertical-align: middle;\n",
       "    }\n",
       "\n",
       "    .dataframe tbody tr th {\n",
       "        vertical-align: top;\n",
       "    }\n",
       "\n",
       "    .dataframe thead th {\n",
       "        text-align: right;\n",
       "    }\n",
       "</style>\n",
       "<table border=\"1\" class=\"dataframe\">\n",
       "  <thead>\n",
       "    <tr style=\"text-align: right;\">\n",
       "      <th></th>\n",
       "      <th>id</th>\n",
       "      <th>Weekly_Sales</th>\n",
       "    </tr>\n",
       "  </thead>\n",
       "  <tbody>\n",
       "    <tr>\n",
       "      <th>0</th>\n",
       "      <td>1</td>\n",
       "      <td>1.592866e+06</td>\n",
       "    </tr>\n",
       "    <tr>\n",
       "      <th>1</th>\n",
       "      <td>2</td>\n",
       "      <td>1.487614e+06</td>\n",
       "    </tr>\n",
       "    <tr>\n",
       "      <th>2</th>\n",
       "      <td>3</td>\n",
       "      <td>1.558230e+06</td>\n",
       "    </tr>\n",
       "    <tr>\n",
       "      <th>3</th>\n",
       "      <td>4</td>\n",
       "      <td>1.609455e+06</td>\n",
       "    </tr>\n",
       "    <tr>\n",
       "      <th>4</th>\n",
       "      <td>5</td>\n",
       "      <td>1.926600e+06</td>\n",
       "    </tr>\n",
       "  </tbody>\n",
       "</table>\n",
       "</div>"
      ],
      "text/plain": [
       "   id  Weekly_Sales\n",
       "0   1  1.592866e+06\n",
       "1   2  1.487614e+06\n",
       "2   3  1.558230e+06\n",
       "3   4  1.609455e+06\n",
       "4   5  1.926600e+06"
      ]
     },
     "execution_count": 440,
     "metadata": {},
     "output_type": "execute_result"
    }
   ],
   "source": [
    "submission['Weekly_Sales'] = test['Weekly_Sales']\n",
    "submission.head()"
   ]
  },
  {
   "cell_type": "code",
   "execution_count": 475,
   "id": "328dd89a-beb2-4d2f-bdb6-7d4a93680c84",
   "metadata": {},
   "outputs": [
    {
     "data": {
      "text/html": [
       "<div>\n",
       "<style scoped>\n",
       "    .dataframe tbody tr th:only-of-type {\n",
       "        vertical-align: middle;\n",
       "    }\n",
       "\n",
       "    .dataframe tbody tr th {\n",
       "        vertical-align: top;\n",
       "    }\n",
       "\n",
       "    .dataframe thead th {\n",
       "        text-align: right;\n",
       "    }\n",
       "</style>\n",
       "<table border=\"1\" class=\"dataframe\">\n",
       "  <thead>\n",
       "    <tr style=\"text-align: right;\">\n",
       "      <th></th>\n",
       "      <th>Store</th>\n",
       "      <th>Date</th>\n",
       "      <th>Temperature</th>\n",
       "      <th>Fuel_Price</th>\n",
       "      <th>Promotion1</th>\n",
       "      <th>Promotion2</th>\n",
       "      <th>Promotion3</th>\n",
       "      <th>Promotion4</th>\n",
       "      <th>Promotion5</th>\n",
       "      <th>Unemployment</th>\n",
       "      <th>IsHoliday</th>\n",
       "      <th>Weekly_Sales</th>\n",
       "      <th>Year</th>\n",
       "      <th>Month</th>\n",
       "      <th>Day</th>\n",
       "    </tr>\n",
       "  </thead>\n",
       "  <tbody>\n",
       "    <tr>\n",
       "      <th>10</th>\n",
       "      <td>1</td>\n",
       "      <td>2010-04-16</td>\n",
       "      <td>66.32</td>\n",
       "      <td>2.808</td>\n",
       "      <td>NaN</td>\n",
       "      <td>NaN</td>\n",
       "      <td>NaN</td>\n",
       "      <td>NaN</td>\n",
       "      <td>NaN</td>\n",
       "      <td>7.808</td>\n",
       "      <td>False</td>\n",
       "      <td>1466058.28</td>\n",
       "      <td>2010</td>\n",
       "      <td>4</td>\n",
       "      <td>16</td>\n",
       "    </tr>\n",
       "    <tr>\n",
       "      <th>11</th>\n",
       "      <td>1</td>\n",
       "      <td>2010-04-23</td>\n",
       "      <td>64.84</td>\n",
       "      <td>2.795</td>\n",
       "      <td>NaN</td>\n",
       "      <td>NaN</td>\n",
       "      <td>NaN</td>\n",
       "      <td>NaN</td>\n",
       "      <td>NaN</td>\n",
       "      <td>7.808</td>\n",
       "      <td>False</td>\n",
       "      <td>1391256.12</td>\n",
       "      <td>2010</td>\n",
       "      <td>4</td>\n",
       "      <td>23</td>\n",
       "    </tr>\n",
       "    <tr>\n",
       "      <th>12</th>\n",
       "      <td>1</td>\n",
       "      <td>2010-04-30</td>\n",
       "      <td>67.41</td>\n",
       "      <td>2.780</td>\n",
       "      <td>NaN</td>\n",
       "      <td>NaN</td>\n",
       "      <td>NaN</td>\n",
       "      <td>NaN</td>\n",
       "      <td>NaN</td>\n",
       "      <td>7.808</td>\n",
       "      <td>False</td>\n",
       "      <td>1425100.71</td>\n",
       "      <td>2010</td>\n",
       "      <td>4</td>\n",
       "      <td>30</td>\n",
       "    </tr>\n",
       "    <tr>\n",
       "      <th>17</th>\n",
       "      <td>1</td>\n",
       "      <td>2010-04-06</td>\n",
       "      <td>80.69</td>\n",
       "      <td>2.705</td>\n",
       "      <td>NaN</td>\n",
       "      <td>NaN</td>\n",
       "      <td>NaN</td>\n",
       "      <td>NaN</td>\n",
       "      <td>NaN</td>\n",
       "      <td>7.808</td>\n",
       "      <td>False</td>\n",
       "      <td>1615524.71</td>\n",
       "      <td>2010</td>\n",
       "      <td>4</td>\n",
       "      <td>6</td>\n",
       "    </tr>\n",
       "    <tr>\n",
       "      <th>52</th>\n",
       "      <td>1</td>\n",
       "      <td>2011-04-02</td>\n",
       "      <td>42.27</td>\n",
       "      <td>2.989</td>\n",
       "      <td>NaN</td>\n",
       "      <td>NaN</td>\n",
       "      <td>NaN</td>\n",
       "      <td>NaN</td>\n",
       "      <td>NaN</td>\n",
       "      <td>7.742</td>\n",
       "      <td>False</td>\n",
       "      <td>1606629.58</td>\n",
       "      <td>2011</td>\n",
       "      <td>4</td>\n",
       "      <td>2</td>\n",
       "    </tr>\n",
       "    <tr>\n",
       "      <th>56</th>\n",
       "      <td>1</td>\n",
       "      <td>2011-04-03</td>\n",
       "      <td>59.58</td>\n",
       "      <td>3.288</td>\n",
       "      <td>NaN</td>\n",
       "      <td>NaN</td>\n",
       "      <td>NaN</td>\n",
       "      <td>NaN</td>\n",
       "      <td>NaN</td>\n",
       "      <td>7.742</td>\n",
       "      <td>False</td>\n",
       "      <td>1636263.41</td>\n",
       "      <td>2011</td>\n",
       "      <td>4</td>\n",
       "      <td>3</td>\n",
       "    </tr>\n",
       "    <tr>\n",
       "      <th>62</th>\n",
       "      <td>1</td>\n",
       "      <td>2011-04-15</td>\n",
       "      <td>71.27</td>\n",
       "      <td>3.743</td>\n",
       "      <td>NaN</td>\n",
       "      <td>NaN</td>\n",
       "      <td>NaN</td>\n",
       "      <td>NaN</td>\n",
       "      <td>NaN</td>\n",
       "      <td>7.682</td>\n",
       "      <td>False</td>\n",
       "      <td>1559889.00</td>\n",
       "      <td>2011</td>\n",
       "      <td>4</td>\n",
       "      <td>15</td>\n",
       "    </tr>\n",
       "    <tr>\n",
       "      <th>63</th>\n",
       "      <td>1</td>\n",
       "      <td>2011-04-22</td>\n",
       "      <td>72.99</td>\n",
       "      <td>3.807</td>\n",
       "      <td>NaN</td>\n",
       "      <td>NaN</td>\n",
       "      <td>NaN</td>\n",
       "      <td>NaN</td>\n",
       "      <td>NaN</td>\n",
       "      <td>7.682</td>\n",
       "      <td>False</td>\n",
       "      <td>1564819.81</td>\n",
       "      <td>2011</td>\n",
       "      <td>4</td>\n",
       "      <td>22</td>\n",
       "    </tr>\n",
       "    <tr>\n",
       "      <th>64</th>\n",
       "      <td>1</td>\n",
       "      <td>2011-04-29</td>\n",
       "      <td>72.03</td>\n",
       "      <td>3.810</td>\n",
       "      <td>NaN</td>\n",
       "      <td>NaN</td>\n",
       "      <td>NaN</td>\n",
       "      <td>NaN</td>\n",
       "      <td>NaN</td>\n",
       "      <td>7.682</td>\n",
       "      <td>False</td>\n",
       "      <td>1455090.69</td>\n",
       "      <td>2011</td>\n",
       "      <td>4</td>\n",
       "      <td>29</td>\n",
       "    </tr>\n",
       "    <tr>\n",
       "      <th>91</th>\n",
       "      <td>1</td>\n",
       "      <td>2011-04-11</td>\n",
       "      <td>54.98</td>\n",
       "      <td>3.332</td>\n",
       "      <td>NaN</td>\n",
       "      <td>NaN</td>\n",
       "      <td>NaN</td>\n",
       "      <td>NaN</td>\n",
       "      <td>NaN</td>\n",
       "      <td>7.866</td>\n",
       "      <td>False</td>\n",
       "      <td>1697229.58</td>\n",
       "      <td>2011</td>\n",
       "      <td>4</td>\n",
       "      <td>11</td>\n",
       "    </tr>\n",
       "    <tr>\n",
       "      <th>114</th>\n",
       "      <td>1</td>\n",
       "      <td>2012-04-13</td>\n",
       "      <td>69.07</td>\n",
       "      <td>3.891</td>\n",
       "      <td>6186.19</td>\n",
       "      <td>3288.69</td>\n",
       "      <td>17.07</td>\n",
       "      <td>1822.55</td>\n",
       "      <td>1063.78</td>\n",
       "      <td>7.143</td>\n",
       "      <td>False</td>\n",
       "      <td>1621031.70</td>\n",
       "      <td>2012</td>\n",
       "      <td>4</td>\n",
       "      <td>13</td>\n",
       "    </tr>\n",
       "    <tr>\n",
       "      <th>115</th>\n",
       "      <td>1</td>\n",
       "      <td>2012-04-20</td>\n",
       "      <td>66.76</td>\n",
       "      <td>3.877</td>\n",
       "      <td>2230.80</td>\n",
       "      <td>612.02</td>\n",
       "      <td>19.75</td>\n",
       "      <td>275.13</td>\n",
       "      <td>5747.10</td>\n",
       "      <td>7.143</td>\n",
       "      <td>False</td>\n",
       "      <td>1521577.87</td>\n",
       "      <td>2012</td>\n",
       "      <td>4</td>\n",
       "      <td>20</td>\n",
       "    </tr>\n",
       "    <tr>\n",
       "      <th>116</th>\n",
       "      <td>1</td>\n",
       "      <td>2012-04-27</td>\n",
       "      <td>67.23</td>\n",
       "      <td>3.814</td>\n",
       "      <td>3221.25</td>\n",
       "      <td>NaN</td>\n",
       "      <td>35.49</td>\n",
       "      <td>577.14</td>\n",
       "      <td>6222.25</td>\n",
       "      <td>7.143</td>\n",
       "      <td>False</td>\n",
       "      <td>1468928.37</td>\n",
       "      <td>2012</td>\n",
       "      <td>4</td>\n",
       "      <td>27</td>\n",
       "    </tr>\n",
       "    <tr>\n",
       "      <th>117</th>\n",
       "      <td>1</td>\n",
       "      <td>2012-04-05</td>\n",
       "      <td>75.55</td>\n",
       "      <td>3.749</td>\n",
       "      <td>21290.13</td>\n",
       "      <td>NaN</td>\n",
       "      <td>69.89</td>\n",
       "      <td>4977.35</td>\n",
       "      <td>3261.04</td>\n",
       "      <td>7.143</td>\n",
       "      <td>False</td>\n",
       "      <td>1684519.99</td>\n",
       "      <td>2012</td>\n",
       "      <td>4</td>\n",
       "      <td>5</td>\n",
       "    </tr>\n",
       "  </tbody>\n",
       "</table>\n",
       "</div>"
      ],
      "text/plain": [
       "     Store       Date  Temperature  Fuel_Price  Promotion1  Promotion2  \\\n",
       "10       1 2010-04-16        66.32       2.808         NaN         NaN   \n",
       "11       1 2010-04-23        64.84       2.795         NaN         NaN   \n",
       "12       1 2010-04-30        67.41       2.780         NaN         NaN   \n",
       "17       1 2010-04-06        80.69       2.705         NaN         NaN   \n",
       "52       1 2011-04-02        42.27       2.989         NaN         NaN   \n",
       "56       1 2011-04-03        59.58       3.288         NaN         NaN   \n",
       "62       1 2011-04-15        71.27       3.743         NaN         NaN   \n",
       "63       1 2011-04-22        72.99       3.807         NaN         NaN   \n",
       "64       1 2011-04-29        72.03       3.810         NaN         NaN   \n",
       "91       1 2011-04-11        54.98       3.332         NaN         NaN   \n",
       "114      1 2012-04-13        69.07       3.891     6186.19     3288.69   \n",
       "115      1 2012-04-20        66.76       3.877     2230.80      612.02   \n",
       "116      1 2012-04-27        67.23       3.814     3221.25         NaN   \n",
       "117      1 2012-04-05        75.55       3.749    21290.13         NaN   \n",
       "\n",
       "     Promotion3  Promotion4  Promotion5  Unemployment  IsHoliday  \\\n",
       "10          NaN         NaN         NaN         7.808      False   \n",
       "11          NaN         NaN         NaN         7.808      False   \n",
       "12          NaN         NaN         NaN         7.808      False   \n",
       "17          NaN         NaN         NaN         7.808      False   \n",
       "52          NaN         NaN         NaN         7.742      False   \n",
       "56          NaN         NaN         NaN         7.742      False   \n",
       "62          NaN         NaN         NaN         7.682      False   \n",
       "63          NaN         NaN         NaN         7.682      False   \n",
       "64          NaN         NaN         NaN         7.682      False   \n",
       "91          NaN         NaN         NaN         7.866      False   \n",
       "114       17.07     1822.55     1063.78         7.143      False   \n",
       "115       19.75      275.13     5747.10         7.143      False   \n",
       "116       35.49      577.14     6222.25         7.143      False   \n",
       "117       69.89     4977.35     3261.04         7.143      False   \n",
       "\n",
       "     Weekly_Sales  Year  Month  Day  \n",
       "10     1466058.28  2010      4   16  \n",
       "11     1391256.12  2010      4   23  \n",
       "12     1425100.71  2010      4   30  \n",
       "17     1615524.71  2010      4    6  \n",
       "52     1606629.58  2011      4    2  \n",
       "56     1636263.41  2011      4    3  \n",
       "62     1559889.00  2011      4   15  \n",
       "63     1564819.81  2011      4   22  \n",
       "64     1455090.69  2011      4   29  \n",
       "91     1697229.58  2011      4   11  \n",
       "114    1621031.70  2012      4   13  \n",
       "115    1521577.87  2012      4   20  \n",
       "116    1468928.37  2012      4   27  \n",
       "117    1684519.99  2012      4    5  "
      ]
     },
     "execution_count": 475,
     "metadata": {},
     "output_type": "execute_result"
    }
   ],
   "source": [
    "df.query('Store == 1 and Month==4')"
   ]
  },
  {
   "cell_type": "code",
   "execution_count": 476,
   "id": "29a5b3c2-2161-4c47-a76a-677caaf5032d",
   "metadata": {},
   "outputs": [],
   "source": [
    "# x = pd.read_csv('./Data/submission16.csv') ## 제일 점수가 좋은 부스팅 모델의 예측"
   ]
  },
  {
   "cell_type": "code",
   "execution_count": 449,
   "id": "140743a1-2246-4a17-8b67-e295e32a9b2e",
   "metadata": {},
   "outputs": [],
   "source": [
    "# submission.to_csv('./Data/submission_arima2.csv', index=False)"
   ]
  },
  {
   "cell_type": "markdown",
   "id": "a7886ef0-1694-4f86-95bd-f6eecb757378",
   "metadata": {},
   "source": [
    "`-` 이상점을 제거하고 시도해보자 (i.g. 온도가 너무 극심하게 변하여 매출량이 매우 높아진 경우)"
   ]
  },
  {
   "cell_type": "code",
   "execution_count": null,
   "id": "fddb55cd-c7e1-46af-b303-dd359bed353c",
   "metadata": {},
   "outputs": [],
   "source": []
  }
 ],
 "metadata": {
  "kernelspec": {
   "display_name": "Python 3 (ipykernel)",
   "language": "python",
   "name": "python3"
  },
  "language_info": {
   "codemirror_mode": {
    "name": "ipython",
    "version": 3
   },
   "file_extension": ".py",
   "mimetype": "text/x-python",
   "name": "python",
   "nbconvert_exporter": "python",
   "pygments_lexer": "ipython3",
   "version": "3.8.11"
  }
 },
 "nbformat": 4,
 "nbformat_minor": 5
}
