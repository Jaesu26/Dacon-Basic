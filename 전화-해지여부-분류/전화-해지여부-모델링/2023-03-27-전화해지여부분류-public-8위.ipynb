{
 "cells": [
  {
   "cell_type": "markdown",
   "metadata": {
    "id": "75xRhMA-ZZ4g"
   },
   "source": [
    "# 전화 해지 여부 분류 AI 경진대회"
   ]
  },
  {
   "cell_type": "code",
   "execution_count": 1,
   "metadata": {
    "colab": {
     "base_uri": "https://localhost:8080/"
    },
    "id": "mG37wYaEkqFq",
    "outputId": "225bd3bf-9ca9-4709-83a3-8ad730a9c113"
   },
   "outputs": [
    {
     "name": "stdout",
     "output_type": "stream",
     "text": [
      "Looking in indexes: https://pypi.org/simple, https://us-python.pkg.dev/colab-wheels/public/simple/\n",
      "Collecting mljar-supervised\n",
      "  Downloading mljar-supervised-0.11.5.tar.gz (112 kB)\n",
      "\u001b[2K     \u001b[90m━━━━━━━━━━━━━━━━━━━━━━━━━━━━━━━━━━━━━━━\u001b[0m \u001b[32m112.7/112.7 KB\u001b[0m \u001b[31m2.8 MB/s\u001b[0m eta \u001b[36m0:00:00\u001b[0m\n",
      "\u001b[?25h  Preparing metadata (setup.py) ... \u001b[?25l\u001b[?25hdone\n",
      "Requirement already satisfied: numpy>=1.19.5 in /usr/local/lib/python3.9/dist-packages (from mljar-supervised) (1.22.4)\n",
      "Requirement already satisfied: pandas>=1.2.0 in /usr/local/lib/python3.9/dist-packages (from mljar-supervised) (1.4.4)\n",
      "Requirement already satisfied: scipy>=1.6.1 in /usr/local/lib/python3.9/dist-packages (from mljar-supervised) (1.10.1)\n",
      "Requirement already satisfied: scikit-learn>=1.0 in /usr/local/lib/python3.9/dist-packages (from mljar-supervised) (1.2.2)\n",
      "Requirement already satisfied: xgboost>=1.3.3 in /usr/local/lib/python3.9/dist-packages (from mljar-supervised) (1.7.4)\n",
      "Collecting lightgbm>=3.0.0\n",
      "  Downloading lightgbm-3.3.5-py3-none-manylinux1_x86_64.whl (2.0 MB)\n",
      "\u001b[2K     \u001b[90m━━━━━━━━━━━━━━━━━━━━━━━━━━━━━━━━━━━━━━━━\u001b[0m \u001b[32m2.0/2.0 MB\u001b[0m \u001b[31m31.1 MB/s\u001b[0m eta \u001b[36m0:00:00\u001b[0m\n",
      "\u001b[?25hCollecting catboost>=0.24.4\n",
      "  Downloading catboost-1.1.1-cp39-none-manylinux1_x86_64.whl (76.6 MB)\n",
      "\u001b[2K     \u001b[90m━━━━━━━━━━━━━━━━━━━━━━━━━━━━━━━━━━━━━━━━\u001b[0m \u001b[32m76.6/76.6 MB\u001b[0m \u001b[31m10.4 MB/s\u001b[0m eta \u001b[36m0:00:00\u001b[0m\n",
      "\u001b[?25hRequirement already satisfied: joblib>=1.0.1 in /usr/local/lib/python3.9/dist-packages (from mljar-supervised) (1.1.1)\n",
      "Requirement already satisfied: tabulate>=0.8.7 in /usr/local/lib/python3.9/dist-packages (from mljar-supervised) (0.8.10)\n",
      "Requirement already satisfied: matplotlib>=3.2.2 in /usr/local/lib/python3.9/dist-packages (from mljar-supervised) (3.5.3)\n",
      "Collecting dtreeviz>=2.0.0\n",
      "  Downloading dtreeviz-2.2.0-py3-none-any.whl (90 kB)\n",
      "\u001b[2K     \u001b[90m━━━━━━━━━━━━━━━━━━━━━━━━━━━━━━━━━━━━━━━━\u001b[0m \u001b[32m90.5/90.5 KB\u001b[0m \u001b[31m9.9 MB/s\u001b[0m eta \u001b[36m0:00:00\u001b[0m\n",
      "\u001b[?25hCollecting shap>=0.36.0\n",
      "  Downloading shap-0.41.0-cp39-cp39-manylinux_2_12_x86_64.manylinux2010_x86_64.whl (572 kB)\n",
      "\u001b[2K     \u001b[90m━━━━━━━━━━━━━━━━━━━━━━━━━━━━━━━━━━━━━━\u001b[0m \u001b[32m572.4/572.4 KB\u001b[0m \u001b[31m43.2 MB/s\u001b[0m eta \u001b[36m0:00:00\u001b[0m\n",
      "\u001b[?25hRequirement already satisfied: seaborn>=0.11.1 in /usr/local/lib/python3.9/dist-packages (from mljar-supervised) (0.11.2)\n",
      "Requirement already satisfied: wordcloud>=1.8.1 in /usr/local/lib/python3.9/dist-packages (from mljar-supervised) (1.8.2.2)\n",
      "Collecting category_encoders>=2.2.2\n",
      "  Downloading category_encoders-2.6.0-py2.py3-none-any.whl (81 kB)\n",
      "\u001b[2K     \u001b[90m━━━━━━━━━━━━━━━━━━━━━━━━━━━━━━━━━━━━━━━━\u001b[0m \u001b[32m81.2/81.2 KB\u001b[0m \u001b[31m9.3 MB/s\u001b[0m eta \u001b[36m0:00:00\u001b[0m\n",
      "\u001b[?25hCollecting optuna>=2.7.0\n",
      "  Downloading optuna-3.1.0-py3-none-any.whl (365 kB)\n",
      "\u001b[2K     \u001b[90m━━━━━━━━━━━━━━━━━━━━━━━━━━━━━━━━━━━━━━\u001b[0m \u001b[32m365.3/365.3 KB\u001b[0m \u001b[31m21.8 MB/s\u001b[0m eta \u001b[36m0:00:00\u001b[0m\n",
      "\u001b[?25hCollecting scikit-plot==0.3.7\n",
      "  Downloading scikit_plot-0.3.7-py3-none-any.whl (33 kB)\n",
      "Requirement already satisfied: markdown in /usr/local/lib/python3.9/dist-packages (from mljar-supervised) (3.4.1)\n",
      "Requirement already satisfied: typing-extensions in /usr/local/lib/python3.9/dist-packages (from mljar-supervised) (4.5.0)\n",
      "Requirement already satisfied: plotly in /usr/local/lib/python3.9/dist-packages (from catboost>=0.24.4->mljar-supervised) (5.5.0)\n",
      "Requirement already satisfied: six in /usr/local/lib/python3.9/dist-packages (from catboost>=0.24.4->mljar-supervised) (1.15.0)\n",
      "Requirement already satisfied: graphviz in /usr/local/lib/python3.9/dist-packages (from catboost>=0.24.4->mljar-supervised) (0.10.1)\n",
      "Requirement already satisfied: patsy>=0.5.1 in /usr/local/lib/python3.9/dist-packages (from category_encoders>=2.2.2->mljar-supervised) (0.5.3)\n",
      "Requirement already satisfied: statsmodels>=0.9.0 in /usr/local/lib/python3.9/dist-packages (from category_encoders>=2.2.2->mljar-supervised) (0.13.5)\n",
      "Requirement already satisfied: pytest in /usr/local/lib/python3.9/dist-packages (from dtreeviz>=2.0.0->mljar-supervised) (3.6.4)\n",
      "Collecting colour\n",
      "  Downloading colour-0.1.5-py2.py3-none-any.whl (23 kB)\n",
      "Requirement already satisfied: wheel in /usr/local/lib/python3.9/dist-packages (from lightgbm>=3.0.0->mljar-supervised) (0.38.4)\n",
      "Requirement already satisfied: pyparsing>=2.2.1 in /usr/local/lib/python3.9/dist-packages (from matplotlib>=3.2.2->mljar-supervised) (3.0.9)\n",
      "Requirement already satisfied: python-dateutil>=2.7 in /usr/local/lib/python3.9/dist-packages (from matplotlib>=3.2.2->mljar-supervised) (2.8.2)\n",
      "Requirement already satisfied: fonttools>=4.22.0 in /usr/local/lib/python3.9/dist-packages (from matplotlib>=3.2.2->mljar-supervised) (4.39.0)\n",
      "Requirement already satisfied: pillow>=6.2.0 in /usr/local/lib/python3.9/dist-packages (from matplotlib>=3.2.2->mljar-supervised) (8.4.0)\n",
      "Requirement already satisfied: packaging>=20.0 in /usr/local/lib/python3.9/dist-packages (from matplotlib>=3.2.2->mljar-supervised) (23.0)\n",
      "Requirement already satisfied: kiwisolver>=1.0.1 in /usr/local/lib/python3.9/dist-packages (from matplotlib>=3.2.2->mljar-supervised) (1.4.4)\n",
      "Requirement already satisfied: cycler>=0.10 in /usr/local/lib/python3.9/dist-packages (from matplotlib>=3.2.2->mljar-supervised) (0.11.0)\n",
      "Collecting alembic>=1.5.0\n",
      "  Downloading alembic-1.10.2-py3-none-any.whl (212 kB)\n",
      "\u001b[2K     \u001b[90m━━━━━━━━━━━━━━━━━━━━━━━━━━━━━━━━━━━━━━\u001b[0m \u001b[32m212.2/212.2 KB\u001b[0m \u001b[31m20.1 MB/s\u001b[0m eta \u001b[36m0:00:00\u001b[0m\n",
      "\u001b[?25hRequirement already satisfied: tqdm in /usr/local/lib/python3.9/dist-packages (from optuna>=2.7.0->mljar-supervised) (4.65.0)\n",
      "Requirement already satisfied: PyYAML in /usr/local/lib/python3.9/dist-packages (from optuna>=2.7.0->mljar-supervised) (6.0)\n",
      "Collecting colorlog\n",
      "  Downloading colorlog-6.7.0-py2.py3-none-any.whl (11 kB)\n",
      "Collecting cmaes>=0.9.1\n",
      "  Downloading cmaes-0.9.1-py3-none-any.whl (21 kB)\n",
      "Requirement already satisfied: sqlalchemy>=1.3.0 in /usr/local/lib/python3.9/dist-packages (from optuna>=2.7.0->mljar-supervised) (1.4.46)\n",
      "Requirement already satisfied: pytz>=2020.1 in /usr/local/lib/python3.9/dist-packages (from pandas>=1.2.0->mljar-supervised) (2022.7.1)\n",
      "Requirement already satisfied: threadpoolctl>=2.0.0 in /usr/local/lib/python3.9/dist-packages (from scikit-learn>=1.0->mljar-supervised) (3.1.0)\n",
      "Requirement already satisfied: cloudpickle in /usr/local/lib/python3.9/dist-packages (from shap>=0.36.0->mljar-supervised) (2.2.1)\n",
      "Collecting slicer==0.0.7\n",
      "  Downloading slicer-0.0.7-py3-none-any.whl (14 kB)\n",
      "Requirement already satisfied: numba in /usr/local/lib/python3.9/dist-packages (from shap>=0.36.0->mljar-supervised) (0.56.4)\n",
      "Requirement already satisfied: importlib-metadata>=4.4 in /usr/local/lib/python3.9/dist-packages (from markdown->mljar-supervised) (6.0.0)\n",
      "Collecting Mako\n",
      "  Downloading Mako-1.2.4-py3-none-any.whl (78 kB)\n",
      "\u001b[2K     \u001b[90m━━━━━━━━━━━━━━━━━━━━━━━━━━━━━━━━━━━━━━━━\u001b[0m \u001b[32m78.7/78.7 KB\u001b[0m \u001b[31m8.4 MB/s\u001b[0m eta \u001b[36m0:00:00\u001b[0m\n",
      "\u001b[?25hRequirement already satisfied: zipp>=0.5 in /usr/local/lib/python3.9/dist-packages (from importlib-metadata>=4.4->markdown->mljar-supervised) (3.15.0)\n",
      "Requirement already satisfied: greenlet!=0.4.17 in /usr/local/lib/python3.9/dist-packages (from sqlalchemy>=1.3.0->optuna>=2.7.0->mljar-supervised) (2.0.2)\n",
      "Requirement already satisfied: llvmlite<0.40,>=0.39.0dev0 in /usr/local/lib/python3.9/dist-packages (from numba->shap>=0.36.0->mljar-supervised) (0.39.1)\n",
      "Requirement already satisfied: setuptools in /usr/local/lib/python3.9/dist-packages (from numba->shap>=0.36.0->mljar-supervised) (63.4.3)\n",
      "Requirement already satisfied: tenacity>=6.2.0 in /usr/local/lib/python3.9/dist-packages (from plotly->catboost>=0.24.4->mljar-supervised) (8.2.2)\n",
      "Requirement already satisfied: more-itertools>=4.0.0 in /usr/local/lib/python3.9/dist-packages (from pytest->dtreeviz>=2.0.0->mljar-supervised) (9.1.0)\n",
      "Requirement already satisfied: atomicwrites>=1.0 in /usr/local/lib/python3.9/dist-packages (from pytest->dtreeviz>=2.0.0->mljar-supervised) (1.4.1)\n",
      "Requirement already satisfied: py>=1.5.0 in /usr/local/lib/python3.9/dist-packages (from pytest->dtreeviz>=2.0.0->mljar-supervised) (1.11.0)\n",
      "Requirement already satisfied: pluggy<0.8,>=0.5 in /usr/local/lib/python3.9/dist-packages (from pytest->dtreeviz>=2.0.0->mljar-supervised) (0.7.1)\n",
      "Requirement already satisfied: attrs>=17.4.0 in /usr/local/lib/python3.9/dist-packages (from pytest->dtreeviz>=2.0.0->mljar-supervised) (22.2.0)\n",
      "Requirement already satisfied: MarkupSafe>=0.9.2 in /usr/local/lib/python3.9/dist-packages (from Mako->alembic>=1.5.0->optuna>=2.7.0->mljar-supervised) (2.1.2)\n",
      "Building wheels for collected packages: mljar-supervised\n",
      "  Building wheel for mljar-supervised (setup.py) ... \u001b[?25l\u001b[?25hdone\n",
      "  Created wheel for mljar-supervised: filename=mljar_supervised-0.11.5-py3-none-any.whl size=147062 sha256=e11bfccac2f232c4f80a8ab9a8f18f3a358240c397e2aa754ea775edb84fab85\n",
      "  Stored in directory: /root/.cache/pip/wheels/62/ed/f2/9a70a649613cf977a8b1e39ce373d14290a135fa309c1f1638\n",
      "Successfully built mljar-supervised\n",
      "Installing collected packages: colour, slicer, Mako, colorlog, cmaes, alembic, shap, scikit-plot, optuna, lightgbm, dtreeviz, catboost, category_encoders, mljar-supervised\n",
      "  Attempting uninstall: lightgbm\n",
      "    Found existing installation: lightgbm 2.2.3\n",
      "    Uninstalling lightgbm-2.2.3:\n",
      "      Successfully uninstalled lightgbm-2.2.3\n",
      "Successfully installed Mako-1.2.4 alembic-1.10.2 catboost-1.1.1 category_encoders-2.6.0 cmaes-0.9.1 colorlog-6.7.0 colour-0.1.5 dtreeviz-2.2.0 lightgbm-3.3.5 mljar-supervised-0.11.5 optuna-3.1.0 scikit-plot-0.3.7 shap-0.41.0 slicer-0.0.7\n"
     ]
    }
   ],
   "source": [
    "!pip install mljar-supervised"
   ]
  },
  {
   "cell_type": "markdown",
   "metadata": {
    "id": "68xM6jF0ZchA"
   },
   "source": [
    "## 데이터 불러오기"
   ]
  },
  {
   "cell_type": "code",
   "execution_count": 2,
   "metadata": {
    "id": "zJnLWFhmMGG4"
   },
   "outputs": [],
   "source": [
    "import numpy as np\n",
    "import pandas as pd\n",
    "import seaborn as sns\n",
    "import matplotlib.pyplot as plt\n",
    "import warnings\n",
    "\n",
    "warnings.filterwarnings('ignore') "
   ]
  },
  {
   "cell_type": "code",
   "execution_count": 3,
   "metadata": {
    "colab": {
     "base_uri": "https://localhost:8080/"
    },
    "id": "GjvmmVOVMW_P",
    "outputId": "f663be23-7569-4b54-f43f-b79ccf8e5705"
   },
   "outputs": [
    {
     "name": "stdout",
     "output_type": "stream",
     "text": [
      "Mounted at /content/drive\n"
     ]
    }
   ],
   "source": [
    "from google.colab import drive\n",
    "\n",
    "drive.mount('/content/drive')  # 구글코랩과 구글드라이브 연결"
   ]
  },
  {
   "cell_type": "code",
   "execution_count": 4,
   "metadata": {
    "colab": {
     "base_uri": "https://localhost:8080/"
    },
    "id": "vcJwBS1jt4J2",
    "outputId": "1b9fbb99-6ef2-49ba-d523-711de7a51235"
   },
   "outputs": [
    {
     "name": "stdout",
     "output_type": "stream",
     "text": [
      "/content/drive/MyDrive/Colab Notebooks/전화-해지여부-분류\n"
     ]
    }
   ],
   "source": [
    "%cd /content/drive/MyDrive/Colab Notebooks/전화-해지여부-분류"
   ]
  },
  {
   "cell_type": "markdown",
   "metadata": {
    "id": "MRrJ4A5RKC4B"
   },
   "source": [
    "- 데이터 불러오기"
   ]
  },
  {
   "cell_type": "code",
   "execution_count": 5,
   "metadata": {
    "id": "N7JdJZofCXED"
   },
   "outputs": [],
   "source": [
    "df = pd.read_csv('./data/train.csv')\n",
    "test = pd.read_csv('./data/test.csv')\n",
    "submission = pd.read_csv('./data/sample_submission.csv')"
   ]
  },
  {
   "cell_type": "code",
   "execution_count": 6,
   "metadata": {
    "colab": {
     "base_uri": "https://localhost:8080/",
     "height": 267
    },
    "id": "r1fZmhFh1LXP",
    "outputId": "ae27aba3-455d-4989-b34d-bb6f252fe848"
   },
   "outputs": [
    {
     "data": {
      "text/html": [
       "\n",
       "  <div id=\"df-d14606e5-c085-4d2d-86de-353a97f34390\">\n",
       "    <div class=\"colab-df-container\">\n",
       "      <div>\n",
       "<style scoped>\n",
       "    .dataframe tbody tr th:only-of-type {\n",
       "        vertical-align: middle;\n",
       "    }\n",
       "\n",
       "    .dataframe tbody tr th {\n",
       "        vertical-align: top;\n",
       "    }\n",
       "\n",
       "    .dataframe thead th {\n",
       "        text-align: right;\n",
       "    }\n",
       "</style>\n",
       "<table border=\"1\" class=\"dataframe\">\n",
       "  <thead>\n",
       "    <tr style=\"text-align: right;\">\n",
       "      <th></th>\n",
       "      <th>ID</th>\n",
       "      <th>가입일</th>\n",
       "      <th>음성사서함이용</th>\n",
       "      <th>주간통화시간</th>\n",
       "      <th>주간통화횟수</th>\n",
       "      <th>주간통화요금</th>\n",
       "      <th>저녁통화시간</th>\n",
       "      <th>저녁통화횟수</th>\n",
       "      <th>저녁통화요금</th>\n",
       "      <th>밤통화시간</th>\n",
       "      <th>밤통화횟수</th>\n",
       "      <th>밤통화요금</th>\n",
       "      <th>상담전화건수</th>\n",
       "      <th>전화해지여부</th>\n",
       "    </tr>\n",
       "  </thead>\n",
       "  <tbody>\n",
       "    <tr>\n",
       "      <th>0</th>\n",
       "      <td>TRAIN_00000</td>\n",
       "      <td>329</td>\n",
       "      <td>0</td>\n",
       "      <td>99.2</td>\n",
       "      <td>93</td>\n",
       "      <td>27.3</td>\n",
       "      <td>268.8</td>\n",
       "      <td>68</td>\n",
       "      <td>28.92</td>\n",
       "      <td>262.9</td>\n",
       "      <td>328</td>\n",
       "      <td>32.89</td>\n",
       "      <td>2</td>\n",
       "      <td>0</td>\n",
       "    </tr>\n",
       "    <tr>\n",
       "      <th>1</th>\n",
       "      <td>TRAIN_00001</td>\n",
       "      <td>2</td>\n",
       "      <td>80</td>\n",
       "      <td>323.9</td>\n",
       "      <td>323</td>\n",
       "      <td>83.7</td>\n",
       "      <td>269.4</td>\n",
       "      <td>326</td>\n",
       "      <td>32.09</td>\n",
       "      <td>322.8</td>\n",
       "      <td>209</td>\n",
       "      <td>32.32</td>\n",
       "      <td>2</td>\n",
       "      <td>0</td>\n",
       "    </tr>\n",
       "    <tr>\n",
       "      <th>2</th>\n",
       "      <td>TRAIN_00002</td>\n",
       "      <td>93</td>\n",
       "      <td>28</td>\n",
       "      <td>282.4</td>\n",
       "      <td>323</td>\n",
       "      <td>34.2</td>\n",
       "      <td>207.0</td>\n",
       "      <td>322</td>\n",
       "      <td>32.82</td>\n",
       "      <td>280.8</td>\n",
       "      <td>328</td>\n",
       "      <td>8.28</td>\n",
       "      <td>0</td>\n",
       "      <td>0</td>\n",
       "    </tr>\n",
       "    <tr>\n",
       "      <th>3</th>\n",
       "      <td>TRAIN_00003</td>\n",
       "      <td>223</td>\n",
       "      <td>1</td>\n",
       "      <td>221.4</td>\n",
       "      <td>223</td>\n",
       "      <td>25.1</td>\n",
       "      <td>233.0</td>\n",
       "      <td>61</td>\n",
       "      <td>23.90</td>\n",
       "      <td>203.8</td>\n",
       "      <td>234</td>\n",
       "      <td>9.36</td>\n",
       "      <td>0</td>\n",
       "      <td>0</td>\n",
       "    </tr>\n",
       "    <tr>\n",
       "      <th>4</th>\n",
       "      <td>TRAIN_00004</td>\n",
       "      <td>222</td>\n",
       "      <td>0</td>\n",
       "      <td>96.3</td>\n",
       "      <td>222</td>\n",
       "      <td>28.7</td>\n",
       "      <td>223.9</td>\n",
       "      <td>69</td>\n",
       "      <td>28.08</td>\n",
       "      <td>263.1</td>\n",
       "      <td>223</td>\n",
       "      <td>2.80</td>\n",
       "      <td>8</td>\n",
       "      <td>0</td>\n",
       "    </tr>\n",
       "  </tbody>\n",
       "</table>\n",
       "</div>\n",
       "      <button class=\"colab-df-convert\" onclick=\"convertToInteractive('df-d14606e5-c085-4d2d-86de-353a97f34390')\"\n",
       "              title=\"Convert this dataframe to an interactive table.\"\n",
       "              style=\"display:none;\">\n",
       "        \n",
       "  <svg xmlns=\"http://www.w3.org/2000/svg\" height=\"24px\"viewBox=\"0 0 24 24\"\n",
       "       width=\"24px\">\n",
       "    <path d=\"M0 0h24v24H0V0z\" fill=\"none\"/>\n",
       "    <path d=\"M18.56 5.44l.94 2.06.94-2.06 2.06-.94-2.06-.94-.94-2.06-.94 2.06-2.06.94zm-11 1L8.5 8.5l.94-2.06 2.06-.94-2.06-.94L8.5 2.5l-.94 2.06-2.06.94zm10 10l.94 2.06.94-2.06 2.06-.94-2.06-.94-.94-2.06-.94 2.06-2.06.94z\"/><path d=\"M17.41 7.96l-1.37-1.37c-.4-.4-.92-.59-1.43-.59-.52 0-1.04.2-1.43.59L10.3 9.45l-7.72 7.72c-.78.78-.78 2.05 0 2.83L4 21.41c.39.39.9.59 1.41.59.51 0 1.02-.2 1.41-.59l7.78-7.78 2.81-2.81c.8-.78.8-2.07 0-2.86zM5.41 20L4 18.59l7.72-7.72 1.47 1.35L5.41 20z\"/>\n",
       "  </svg>\n",
       "      </button>\n",
       "      \n",
       "  <style>\n",
       "    .colab-df-container {\n",
       "      display:flex;\n",
       "      flex-wrap:wrap;\n",
       "      gap: 12px;\n",
       "    }\n",
       "\n",
       "    .colab-df-convert {\n",
       "      background-color: #E8F0FE;\n",
       "      border: none;\n",
       "      border-radius: 50%;\n",
       "      cursor: pointer;\n",
       "      display: none;\n",
       "      fill: #1967D2;\n",
       "      height: 32px;\n",
       "      padding: 0 0 0 0;\n",
       "      width: 32px;\n",
       "    }\n",
       "\n",
       "    .colab-df-convert:hover {\n",
       "      background-color: #E2EBFA;\n",
       "      box-shadow: 0px 1px 2px rgba(60, 64, 67, 0.3), 0px 1px 3px 1px rgba(60, 64, 67, 0.15);\n",
       "      fill: #174EA6;\n",
       "    }\n",
       "\n",
       "    [theme=dark] .colab-df-convert {\n",
       "      background-color: #3B4455;\n",
       "      fill: #D2E3FC;\n",
       "    }\n",
       "\n",
       "    [theme=dark] .colab-df-convert:hover {\n",
       "      background-color: #434B5C;\n",
       "      box-shadow: 0px 1px 3px 1px rgba(0, 0, 0, 0.15);\n",
       "      filter: drop-shadow(0px 1px 2px rgba(0, 0, 0, 0.3));\n",
       "      fill: #FFFFFF;\n",
       "    }\n",
       "  </style>\n",
       "\n",
       "      <script>\n",
       "        const buttonEl =\n",
       "          document.querySelector('#df-d14606e5-c085-4d2d-86de-353a97f34390 button.colab-df-convert');\n",
       "        buttonEl.style.display =\n",
       "          google.colab.kernel.accessAllowed ? 'block' : 'none';\n",
       "\n",
       "        async function convertToInteractive(key) {\n",
       "          const element = document.querySelector('#df-d14606e5-c085-4d2d-86de-353a97f34390');\n",
       "          const dataTable =\n",
       "            await google.colab.kernel.invokeFunction('convertToInteractive',\n",
       "                                                     [key], {});\n",
       "          if (!dataTable) return;\n",
       "\n",
       "          const docLinkHtml = 'Like what you see? Visit the ' +\n",
       "            '<a target=\"_blank\" href=https://colab.research.google.com/notebooks/data_table.ipynb>data table notebook</a>'\n",
       "            + ' to learn more about interactive tables.';\n",
       "          element.innerHTML = '';\n",
       "          dataTable['output_type'] = 'display_data';\n",
       "          await google.colab.output.renderOutput(dataTable, element);\n",
       "          const docLink = document.createElement('div');\n",
       "          docLink.innerHTML = docLinkHtml;\n",
       "          element.appendChild(docLink);\n",
       "        }\n",
       "      </script>\n",
       "    </div>\n",
       "  </div>\n",
       "  "
      ],
      "text/plain": [
       "            ID  가입일  음성사서함이용  주간통화시간  주간통화횟수  주간통화요금  저녁통화시간  저녁통화횟수  저녁통화요금  \\\n",
       "0  TRAIN_00000  329        0    99.2      93    27.3   268.8      68   28.92   \n",
       "1  TRAIN_00001    2       80   323.9     323    83.7   269.4     326   32.09   \n",
       "2  TRAIN_00002   93       28   282.4     323    34.2   207.0     322   32.82   \n",
       "3  TRAIN_00003  223        1   221.4     223    25.1   233.0      61   23.90   \n",
       "4  TRAIN_00004  222        0    96.3     222    28.7   223.9      69   28.08   \n",
       "\n",
       "   밤통화시간  밤통화횟수  밤통화요금  상담전화건수  전화해지여부  \n",
       "0  262.9    328  32.89       2       0  \n",
       "1  322.8    209  32.32       2       0  \n",
       "2  280.8    328   8.28       0       0  \n",
       "3  203.8    234   9.36       0       0  \n",
       "4  263.1    223   2.80       8       0  "
      ]
     },
     "execution_count": 6,
     "metadata": {},
     "output_type": "execute_result"
    }
   ],
   "source": [
    "df.head()"
   ]
  },
  {
   "cell_type": "markdown",
   "metadata": {
    "id": "hZ-LGN8RGoEd"
   },
   "source": [
    "- 기초 통계량 확인"
   ]
  },
  {
   "cell_type": "code",
   "execution_count": 7,
   "metadata": {
    "colab": {
     "base_uri": "https://localhost:8080/",
     "height": 381
    },
    "id": "6dVsc_OmGo2F",
    "outputId": "c4ca9361-9fe8-4e6f-c5f9-94bc9c7ddb29"
   },
   "outputs": [
    {
     "data": {
      "text/html": [
       "\n",
       "  <div id=\"df-db51cd56-f280-47fe-9491-a801d0c2723e\">\n",
       "    <div class=\"colab-df-container\">\n",
       "      <div>\n",
       "<style scoped>\n",
       "    .dataframe tbody tr th:only-of-type {\n",
       "        vertical-align: middle;\n",
       "    }\n",
       "\n",
       "    .dataframe tbody tr th {\n",
       "        vertical-align: top;\n",
       "    }\n",
       "\n",
       "    .dataframe thead th {\n",
       "        text-align: right;\n",
       "    }\n",
       "</style>\n",
       "<table border=\"1\" class=\"dataframe\">\n",
       "  <thead>\n",
       "    <tr style=\"text-align: right;\">\n",
       "      <th></th>\n",
       "      <th>가입일</th>\n",
       "      <th>음성사서함이용</th>\n",
       "      <th>주간통화시간</th>\n",
       "      <th>주간통화횟수</th>\n",
       "      <th>주간통화요금</th>\n",
       "      <th>저녁통화시간</th>\n",
       "      <th>저녁통화횟수</th>\n",
       "      <th>저녁통화요금</th>\n",
       "      <th>밤통화시간</th>\n",
       "      <th>밤통화횟수</th>\n",
       "      <th>밤통화요금</th>\n",
       "      <th>상담전화건수</th>\n",
       "      <th>전화해지여부</th>\n",
       "    </tr>\n",
       "  </thead>\n",
       "  <tbody>\n",
       "    <tr>\n",
       "      <th>count</th>\n",
       "      <td>30200.000000</td>\n",
       "      <td>30200.000000</td>\n",
       "      <td>30200.000000</td>\n",
       "      <td>30200.000000</td>\n",
       "      <td>30200.000000</td>\n",
       "      <td>30200.000000</td>\n",
       "      <td>30200.000000</td>\n",
       "      <td>30200.000000</td>\n",
       "      <td>30200.000000</td>\n",
       "      <td>30200.000000</td>\n",
       "      <td>30200.000000</td>\n",
       "      <td>30200.000000</td>\n",
       "      <td>30200.000000</td>\n",
       "    </tr>\n",
       "    <tr>\n",
       "      <th>mean</th>\n",
       "      <td>159.732649</td>\n",
       "      <td>12.037815</td>\n",
       "      <td>250.563457</td>\n",
       "      <td>159.175728</td>\n",
       "      <td>41.091447</td>\n",
       "      <td>263.247215</td>\n",
       "      <td>158.474536</td>\n",
       "      <td>25.394260</td>\n",
       "      <td>263.438285</td>\n",
       "      <td>157.047417</td>\n",
       "      <td>12.074648</td>\n",
       "      <td>2.288079</td>\n",
       "      <td>0.109868</td>\n",
       "    </tr>\n",
       "    <tr>\n",
       "      <th>std</th>\n",
       "      <td>123.752781</td>\n",
       "      <td>24.925334</td>\n",
       "      <td>84.403350</td>\n",
       "      <td>101.573057</td>\n",
       "      <td>23.179017</td>\n",
       "      <td>74.064922</td>\n",
       "      <td>102.200293</td>\n",
       "      <td>8.146126</td>\n",
       "      <td>73.778416</td>\n",
       "      <td>101.721601</td>\n",
       "      <td>9.414261</td>\n",
       "      <td>2.050746</td>\n",
       "      <td>0.312730</td>\n",
       "    </tr>\n",
       "    <tr>\n",
       "      <th>min</th>\n",
       "      <td>1.000000</td>\n",
       "      <td>0.000000</td>\n",
       "      <td>0.000000</td>\n",
       "      <td>0.000000</td>\n",
       "      <td>0.000000</td>\n",
       "      <td>0.100000</td>\n",
       "      <td>0.000000</td>\n",
       "      <td>0.000000</td>\n",
       "      <td>20.800000</td>\n",
       "      <td>20.000000</td>\n",
       "      <td>1.040000</td>\n",
       "      <td>0.000000</td>\n",
       "      <td>0.000000</td>\n",
       "    </tr>\n",
       "    <tr>\n",
       "      <th>25%</th>\n",
       "      <td>63.000000</td>\n",
       "      <td>0.000000</td>\n",
       "      <td>222.800000</td>\n",
       "      <td>88.000000</td>\n",
       "      <td>24.400000</td>\n",
       "      <td>223.700000</td>\n",
       "      <td>87.000000</td>\n",
       "      <td>22.220000</td>\n",
       "      <td>223.700000</td>\n",
       "      <td>87.000000</td>\n",
       "      <td>4.700000</td>\n",
       "      <td>2.000000</td>\n",
       "      <td>0.000000</td>\n",
       "    </tr>\n",
       "    <tr>\n",
       "      <th>50%</th>\n",
       "      <td>118.000000</td>\n",
       "      <td>1.000000</td>\n",
       "      <td>234.000000</td>\n",
       "      <td>117.500000</td>\n",
       "      <td>30.800000</td>\n",
       "      <td>243.000000</td>\n",
       "      <td>112.000000</td>\n",
       "      <td>23.320000</td>\n",
       "      <td>242.800000</td>\n",
       "      <td>108.000000</td>\n",
       "      <td>9.080000</td>\n",
       "      <td>2.000000</td>\n",
       "      <td>0.000000</td>\n",
       "    </tr>\n",
       "    <tr>\n",
       "      <th>75%</th>\n",
       "      <td>228.000000</td>\n",
       "      <td>22.000000</td>\n",
       "      <td>289.600000</td>\n",
       "      <td>223.000000</td>\n",
       "      <td>45.900000</td>\n",
       "      <td>290.300000</td>\n",
       "      <td>223.000000</td>\n",
       "      <td>28.820000</td>\n",
       "      <td>290.500000</td>\n",
       "      <td>222.000000</td>\n",
       "      <td>20.290000</td>\n",
       "      <td>2.000000</td>\n",
       "      <td>0.000000</td>\n",
       "    </tr>\n",
       "    <tr>\n",
       "      <th>max</th>\n",
       "      <td>2212.000000</td>\n",
       "      <td>1112.000000</td>\n",
       "      <td>481.900000</td>\n",
       "      <td>489.000000</td>\n",
       "      <td>118.600000</td>\n",
       "      <td>481.600000</td>\n",
       "      <td>489.000000</td>\n",
       "      <td>49.980000</td>\n",
       "      <td>481.800000</td>\n",
       "      <td>490.000000</td>\n",
       "      <td>44.980000</td>\n",
       "      <td>11.000000</td>\n",
       "      <td>1.000000</td>\n",
       "    </tr>\n",
       "  </tbody>\n",
       "</table>\n",
       "</div>\n",
       "      <button class=\"colab-df-convert\" onclick=\"convertToInteractive('df-db51cd56-f280-47fe-9491-a801d0c2723e')\"\n",
       "              title=\"Convert this dataframe to an interactive table.\"\n",
       "              style=\"display:none;\">\n",
       "        \n",
       "  <svg xmlns=\"http://www.w3.org/2000/svg\" height=\"24px\"viewBox=\"0 0 24 24\"\n",
       "       width=\"24px\">\n",
       "    <path d=\"M0 0h24v24H0V0z\" fill=\"none\"/>\n",
       "    <path d=\"M18.56 5.44l.94 2.06.94-2.06 2.06-.94-2.06-.94-.94-2.06-.94 2.06-2.06.94zm-11 1L8.5 8.5l.94-2.06 2.06-.94-2.06-.94L8.5 2.5l-.94 2.06-2.06.94zm10 10l.94 2.06.94-2.06 2.06-.94-2.06-.94-.94-2.06-.94 2.06-2.06.94z\"/><path d=\"M17.41 7.96l-1.37-1.37c-.4-.4-.92-.59-1.43-.59-.52 0-1.04.2-1.43.59L10.3 9.45l-7.72 7.72c-.78.78-.78 2.05 0 2.83L4 21.41c.39.39.9.59 1.41.59.51 0 1.02-.2 1.41-.59l7.78-7.78 2.81-2.81c.8-.78.8-2.07 0-2.86zM5.41 20L4 18.59l7.72-7.72 1.47 1.35L5.41 20z\"/>\n",
       "  </svg>\n",
       "      </button>\n",
       "      \n",
       "  <style>\n",
       "    .colab-df-container {\n",
       "      display:flex;\n",
       "      flex-wrap:wrap;\n",
       "      gap: 12px;\n",
       "    }\n",
       "\n",
       "    .colab-df-convert {\n",
       "      background-color: #E8F0FE;\n",
       "      border: none;\n",
       "      border-radius: 50%;\n",
       "      cursor: pointer;\n",
       "      display: none;\n",
       "      fill: #1967D2;\n",
       "      height: 32px;\n",
       "      padding: 0 0 0 0;\n",
       "      width: 32px;\n",
       "    }\n",
       "\n",
       "    .colab-df-convert:hover {\n",
       "      background-color: #E2EBFA;\n",
       "      box-shadow: 0px 1px 2px rgba(60, 64, 67, 0.3), 0px 1px 3px 1px rgba(60, 64, 67, 0.15);\n",
       "      fill: #174EA6;\n",
       "    }\n",
       "\n",
       "    [theme=dark] .colab-df-convert {\n",
       "      background-color: #3B4455;\n",
       "      fill: #D2E3FC;\n",
       "    }\n",
       "\n",
       "    [theme=dark] .colab-df-convert:hover {\n",
       "      background-color: #434B5C;\n",
       "      box-shadow: 0px 1px 3px 1px rgba(0, 0, 0, 0.15);\n",
       "      filter: drop-shadow(0px 1px 2px rgba(0, 0, 0, 0.3));\n",
       "      fill: #FFFFFF;\n",
       "    }\n",
       "  </style>\n",
       "\n",
       "      <script>\n",
       "        const buttonEl =\n",
       "          document.querySelector('#df-db51cd56-f280-47fe-9491-a801d0c2723e button.colab-df-convert');\n",
       "        buttonEl.style.display =\n",
       "          google.colab.kernel.accessAllowed ? 'block' : 'none';\n",
       "\n",
       "        async function convertToInteractive(key) {\n",
       "          const element = document.querySelector('#df-db51cd56-f280-47fe-9491-a801d0c2723e');\n",
       "          const dataTable =\n",
       "            await google.colab.kernel.invokeFunction('convertToInteractive',\n",
       "                                                     [key], {});\n",
       "          if (!dataTable) return;\n",
       "\n",
       "          const docLinkHtml = 'Like what you see? Visit the ' +\n",
       "            '<a target=\"_blank\" href=https://colab.research.google.com/notebooks/data_table.ipynb>data table notebook</a>'\n",
       "            + ' to learn more about interactive tables.';\n",
       "          element.innerHTML = '';\n",
       "          dataTable['output_type'] = 'display_data';\n",
       "          await google.colab.output.renderOutput(dataTable, element);\n",
       "          const docLink = document.createElement('div');\n",
       "          docLink.innerHTML = docLinkHtml;\n",
       "          element.appendChild(docLink);\n",
       "        }\n",
       "      </script>\n",
       "    </div>\n",
       "  </div>\n",
       "  "
      ],
      "text/plain": [
       "                가입일       음성사서함이용        주간통화시간        주간통화횟수        주간통화요금  \\\n",
       "count  30200.000000  30200.000000  30200.000000  30200.000000  30200.000000   \n",
       "mean     159.732649     12.037815    250.563457    159.175728     41.091447   \n",
       "std      123.752781     24.925334     84.403350    101.573057     23.179017   \n",
       "min        1.000000      0.000000      0.000000      0.000000      0.000000   \n",
       "25%       63.000000      0.000000    222.800000     88.000000     24.400000   \n",
       "50%      118.000000      1.000000    234.000000    117.500000     30.800000   \n",
       "75%      228.000000     22.000000    289.600000    223.000000     45.900000   \n",
       "max     2212.000000   1112.000000    481.900000    489.000000    118.600000   \n",
       "\n",
       "             저녁통화시간        저녁통화횟수        저녁통화요금         밤통화시간         밤통화횟수  \\\n",
       "count  30200.000000  30200.000000  30200.000000  30200.000000  30200.000000   \n",
       "mean     263.247215    158.474536     25.394260    263.438285    157.047417   \n",
       "std       74.064922    102.200293      8.146126     73.778416    101.721601   \n",
       "min        0.100000      0.000000      0.000000     20.800000     20.000000   \n",
       "25%      223.700000     87.000000     22.220000    223.700000     87.000000   \n",
       "50%      243.000000    112.000000     23.320000    242.800000    108.000000   \n",
       "75%      290.300000    223.000000     28.820000    290.500000    222.000000   \n",
       "max      481.600000    489.000000     49.980000    481.800000    490.000000   \n",
       "\n",
       "              밤통화요금        상담전화건수        전화해지여부  \n",
       "count  30200.000000  30200.000000  30200.000000  \n",
       "mean      12.074648      2.288079      0.109868  \n",
       "std        9.414261      2.050746      0.312730  \n",
       "min        1.040000      0.000000      0.000000  \n",
       "25%        4.700000      2.000000      0.000000  \n",
       "50%        9.080000      2.000000      0.000000  \n",
       "75%       20.290000      2.000000      0.000000  \n",
       "max       44.980000     11.000000      1.000000  "
      ]
     },
     "execution_count": 7,
     "metadata": {},
     "output_type": "execute_result"
    }
   ],
   "source": [
    "df.describe()"
   ]
  },
  {
   "cell_type": "code",
   "execution_count": 8,
   "metadata": {
    "colab": {
     "base_uri": "https://localhost:8080/"
    },
    "id": "gPnwgSEI1D6J",
    "outputId": "18dd8fef-ff82-4b11-c6f5-71960a7f877b"
   },
   "outputs": [
    {
     "data": {
      "text/plain": [
       "ID         0\n",
       "가입일        0\n",
       "음성사서함이용    0\n",
       "주간통화시간     0\n",
       "주간통화횟수     0\n",
       "주간통화요금     0\n",
       "저녁통화시간     0\n",
       "저녁통화횟수     0\n",
       "저녁통화요금     0\n",
       "밤통화시간      0\n",
       "밤통화횟수      0\n",
       "밤통화요금      0\n",
       "상담전화건수     0\n",
       "전화해지여부     0\n",
       "dtype: int64"
      ]
     },
     "execution_count": 8,
     "metadata": {},
     "output_type": "execute_result"
    }
   ],
   "source": [
    "df.isnull().sum()"
   ]
  },
  {
   "cell_type": "markdown",
   "metadata": {
    "id": "jlAvQzBNs9RW"
   },
   "source": [
    "`-` 결측치는 없다"
   ]
  },
  {
   "cell_type": "markdown",
   "metadata": {
    "id": "QndIBWBeX5gj"
   },
   "source": [
    "- 무의미한 변수 제거"
   ]
  },
  {
   "cell_type": "code",
   "execution_count": 9,
   "metadata": {
    "id": "8LRiGIcTY8wf"
   },
   "outputs": [],
   "source": [
    "df = df.drop(['ID'], axis=1)\n",
    "test = test.drop(['ID'], axis=1)"
   ]
  },
  {
   "cell_type": "markdown",
   "metadata": {
    "id": "8R8eEwVqa-Yw"
   },
   "source": [
    "## 모델 학습"
   ]
  },
  {
   "cell_type": "code",
   "execution_count": 10,
   "metadata": {
    "id": "LA5UYnLG_jCa"
   },
   "outputs": [],
   "source": [
    "from supervised.automl import AutoML"
   ]
  },
  {
   "cell_type": "code",
   "execution_count": 14,
   "metadata": {
    "id": "3J_oeu4SW72A"
   },
   "outputs": [],
   "source": [
    "automl = AutoML(\n",
    "    mode='Compete',\n",
    "    algorithms=['LightGBM', 'Xgboost', 'CatBoost'],\n",
    "    explain_level=0,\n",
    "    eval_metric='f1',\n",
    "    validation_strategy={\n",
    "        'validation_type': 'kfold',\n",
    "        'k_folds': 5,\n",
    "        'shuffle': True,\n",
    "        'stratify': True,\n",
    "    }\n",
    ")"
   ]
  },
  {
   "cell_type": "code",
   "execution_count": 12,
   "metadata": {
    "id": "A5ZBbNZ3YInN"
   },
   "outputs": [],
   "source": [
    "target = df.pop('전화해지여부')"
   ]
  },
  {
   "cell_type": "code",
   "execution_count": 15,
   "metadata": {
    "colab": {
     "base_uri": "https://localhost:8080/",
     "height": 1000
    },
    "id": "K0pYLzaFtCZ-",
    "outputId": "4a6d15eb-973d-41c8-d171-b2a474eb260e"
   },
   "outputs": [
    {
     "name": "stdout",
     "output_type": "stream",
     "text": [
      "AutoML directory: AutoML_2\n",
      "The task is binary_classification with evaluation metric f1\n",
      "AutoML will use algorithms: ['LightGBM', 'Xgboost', 'CatBoost']\n",
      "AutoML will stack models\n",
      "AutoML will ensemble available models\n",
      "AutoML steps: ['simple_algorithms', 'default_algorithms', 'not_so_random', 'golden_features', 'kmeans_features', 'insert_random_feature', 'features_selection', 'hill_climbing_1', 'hill_climbing_2', 'boost_on_errors', 'ensemble', 'stack', 'ensemble_stacked']\n",
      "Skip simple_algorithms because no parameters were generated.\n",
      "* Step default_algorithms will try to check up to 3 models\n",
      "1_Default_LightGBM f1 0.533664 trained in 126.34 seconds\n",
      "2_Default_Xgboost f1 0.399827 trained in 104.5 seconds\n",
      "3_Default_CatBoost f1 0.481018 trained in 90.46 seconds\n",
      "* Step not_so_random will try to check up to 27 models\n",
      "13_LightGBM f1 0.381422 trained in 180.06 seconds\n",
      "4_Xgboost f1 0.550898 trained in 126.76 seconds\n",
      "22_CatBoost f1 0.498209 trained in 146.24 seconds\n",
      "14_LightGBM f1 0.547215 trained in 70.67 seconds\n",
      "5_Xgboost f1 0.575461 trained in 128.39 seconds\n",
      "23_CatBoost f1 0.539491 trained in 114.18 seconds\n",
      "15_LightGBM f1 0.541453 trained in 132.58 seconds\n",
      "6_Xgboost f1 0.425883 trained in 131.2 seconds\n",
      "24_CatBoost f1 0.511243 trained in 88.59 seconds\n",
      "16_LightGBM f1 0.562268 trained in 127.89 seconds\n",
      "7_Xgboost f1 0.0 trained in 18.05 seconds\n",
      "25_CatBoost f1 0.559422 trained in 80.51 seconds\n",
      "17_LightGBM f1 0.57357 trained in 71.18 seconds\n",
      "8_Xgboost f1 0.023718 trained in 22.91 seconds\n",
      "26_CatBoost f1 0.499601 trained in 95.35 seconds\n",
      "* Step golden_features will try to check up to 3 models\n",
      "None 10\n",
      "Add Golden Feature: 상담전화건수_sum_음성사서함이용\n",
      "Add Golden Feature: 음성사서함이용_diff_주간통화시간\n",
      "Add Golden Feature: 상담전화건수_ratio_음성사서함이용\n",
      "Add Golden Feature: 주간통화시간_diff_주간통화요금\n",
      "Add Golden Feature: 저녁통화횟수_sum_음성사서함이용\n",
      "Add Golden Feature: 밤통화요금_ratio_상담전화건수\n",
      "Add Golden Feature: 밤통화요금_sum_음성사서함이용\n",
      "Add Golden Feature: 상담전화건수_sum_밤통화횟수\n",
      "Add Golden Feature: 주간통화횟수_ratio_밤통화요금\n",
      "Add Golden Feature: 밤통화횟수_ratio_주간통화횟수\n",
      "Created 10 Golden Features in 13.07 seconds.\n",
      "5_Xgboost_GoldenFeatures f1 0.569865 trained in 132.25 seconds\n",
      "* Step kmeans_features will try to check up to 3 models\n",
      "5_Xgboost_KMeansFeatures f1 0.569417 trained in 155.2 seconds\n",
      "Not enough time to perform features selection. Skip\n",
      "Time needed for features selection ~ 416.0 seconds\n",
      "Please increase total_time_limit to at least (4218 seconds) to have features selection\n",
      "Skip insert_random_feature because no parameters were generated.\n",
      "Skip features_selection because no parameters were generated.\n",
      "* Step hill_climbing_1 will try to check up to 10 models\n",
      "27_Xgboost f1 0.578122 trained in 127.63 seconds\n",
      "28_LightGBM f1 0.57357 trained in 71.92 seconds\n",
      "29_Xgboost_GoldenFeatures f1 0.574634 trained in 114.75 seconds\n",
      "30_Xgboost f1 0.565383 trained in 132.12 seconds\n",
      "* Step hill_climbing_2 will try to check up to 12 models\n",
      "31_Xgboost f1 0.571117 trained in 133.19 seconds\n",
      "32_Xgboost f1 0.580194 trained in 130.46 seconds\n",
      "* Step boost_on_errors will try to check up to 1 model\n",
      "32_Xgboost_BoostOnErrors f1 0.580169 trained in 124.28 seconds\n",
      "* Step ensemble will try to check up to 1 model\n",
      "Ensemble f1 0.587707 trained in 16.55 seconds\n",
      "* Step stack will try to check up to 22 models\n",
      "32_Xgboost_Stacked f1 0.716987 trained in 50.37 seconds\n",
      "17_LightGBM_Stacked f1 0.721746 trained in 29.82 seconds\n",
      "25_CatBoost_Stacked f1 0.713124 trained in 38.29 seconds\n",
      "27_Xgboost_Stacked f1 0.72047 trained in 35.42 seconds\n",
      "28_LightGBM_Stacked f1 0.721746 trained in 30.28 seconds\n",
      "23_CatBoost_Stacked f1 0.72383 trained in 64.25 seconds\n",
      "5_Xgboost_Stacked f1 0.713043 trained in 50.86 seconds\n",
      "16_LightGBM_Stacked f1 0.724515 trained in 52.35 seconds\n",
      "24_CatBoost_Stacked f1 0.715122 trained in 44.54 seconds\n",
      "29_Xgboost_GoldenFeatures_Stacked f1 0.718615 trained in 39.74 seconds\n",
      "14_LightGBM_Stacked f1 0.720512 trained in 35.83 seconds\n",
      "26_CatBoost_Stacked f1 0.71887 trained in 34.67 seconds\n",
      "31_Xgboost_Stacked not trained. Stop training after the first fold. Time needed to train on the first fold 4.0 seconds. The time estimate for training on all folds is larger than total_time_limit.\n",
      "15_LightGBM_Stacked not trained. Stop training after the first fold. Time needed to train on the first fold 5.0 seconds. The time estimate for training on all folds is larger than total_time_limit.\n",
      "22_CatBoost_Stacked not trained. Stop training after the first fold. Time needed to train on the first fold 12.0 seconds. The time estimate for training on all folds is larger than total_time_limit.\n",
      "* Step ensemble_stacked will try to check up to 1 model\n",
      "Ensemble_Stacked f1 0.727613 trained in 27.59 seconds\n",
      "AutoML fit time: 3645.41 seconds\n",
      "AutoML best model: Ensemble_Stacked\n"
     ]
    },
    {
     "data": {
      "text/html": [
       "<style>#sk-container-id-1 {color: black;background-color: white;}#sk-container-id-1 pre{padding: 0;}#sk-container-id-1 div.sk-toggleable {background-color: white;}#sk-container-id-1 label.sk-toggleable__label {cursor: pointer;display: block;width: 100%;margin-bottom: 0;padding: 0.3em;box-sizing: border-box;text-align: center;}#sk-container-id-1 label.sk-toggleable__label-arrow:before {content: \"▸\";float: left;margin-right: 0.25em;color: #696969;}#sk-container-id-1 label.sk-toggleable__label-arrow:hover:before {color: black;}#sk-container-id-1 div.sk-estimator:hover label.sk-toggleable__label-arrow:before {color: black;}#sk-container-id-1 div.sk-toggleable__content {max-height: 0;max-width: 0;overflow: hidden;text-align: left;background-color: #f0f8ff;}#sk-container-id-1 div.sk-toggleable__content pre {margin: 0.2em;color: black;border-radius: 0.25em;background-color: #f0f8ff;}#sk-container-id-1 input.sk-toggleable__control:checked~div.sk-toggleable__content {max-height: 200px;max-width: 100%;overflow: auto;}#sk-container-id-1 input.sk-toggleable__control:checked~label.sk-toggleable__label-arrow:before {content: \"▾\";}#sk-container-id-1 div.sk-estimator input.sk-toggleable__control:checked~label.sk-toggleable__label {background-color: #d4ebff;}#sk-container-id-1 div.sk-label input.sk-toggleable__control:checked~label.sk-toggleable__label {background-color: #d4ebff;}#sk-container-id-1 input.sk-hidden--visually {border: 0;clip: rect(1px 1px 1px 1px);clip: rect(1px, 1px, 1px, 1px);height: 1px;margin: -1px;overflow: hidden;padding: 0;position: absolute;width: 1px;}#sk-container-id-1 div.sk-estimator {font-family: monospace;background-color: #f0f8ff;border: 1px dotted black;border-radius: 0.25em;box-sizing: border-box;margin-bottom: 0.5em;}#sk-container-id-1 div.sk-estimator:hover {background-color: #d4ebff;}#sk-container-id-1 div.sk-parallel-item::after {content: \"\";width: 100%;border-bottom: 1px solid gray;flex-grow: 1;}#sk-container-id-1 div.sk-label:hover label.sk-toggleable__label {background-color: #d4ebff;}#sk-container-id-1 div.sk-serial::before {content: \"\";position: absolute;border-left: 1px solid gray;box-sizing: border-box;top: 0;bottom: 0;left: 50%;z-index: 0;}#sk-container-id-1 div.sk-serial {display: flex;flex-direction: column;align-items: center;background-color: white;padding-right: 0.2em;padding-left: 0.2em;position: relative;}#sk-container-id-1 div.sk-item {position: relative;z-index: 1;}#sk-container-id-1 div.sk-parallel {display: flex;align-items: stretch;justify-content: center;background-color: white;position: relative;}#sk-container-id-1 div.sk-item::before, #sk-container-id-1 div.sk-parallel-item::before {content: \"\";position: absolute;border-left: 1px solid gray;box-sizing: border-box;top: 0;bottom: 0;left: 50%;z-index: -1;}#sk-container-id-1 div.sk-parallel-item {display: flex;flex-direction: column;z-index: 1;position: relative;background-color: white;}#sk-container-id-1 div.sk-parallel-item:first-child::after {align-self: flex-end;width: 50%;}#sk-container-id-1 div.sk-parallel-item:last-child::after {align-self: flex-start;width: 50%;}#sk-container-id-1 div.sk-parallel-item:only-child::after {width: 0;}#sk-container-id-1 div.sk-dashed-wrapped {border: 1px dashed gray;margin: 0 0.4em 0.5em 0.4em;box-sizing: border-box;padding-bottom: 0.4em;background-color: white;}#sk-container-id-1 div.sk-label label {font-family: monospace;font-weight: bold;display: inline-block;line-height: 1.2em;}#sk-container-id-1 div.sk-label-container {text-align: center;}#sk-container-id-1 div.sk-container {/* jupyter's `normalize.less` sets `[hidden] { display: none; }` but bootstrap.min.css set `[hidden] { display: none !important; }` so we also need the `!important` here to be able to override the default hidden behavior on the sphinx rendered scikit-learn.org. See: https://github.com/scikit-learn/scikit-learn/issues/21755 */display: inline-block !important;position: relative;}#sk-container-id-1 div.sk-text-repr-fallback {display: none;}</style><div id=\"sk-container-id-1\" class=\"sk-top-container\"><div class=\"sk-text-repr-fallback\"><pre>AutoML(algorithms=[&#x27;LightGBM&#x27;, &#x27;Xgboost&#x27;, &#x27;CatBoost&#x27;], eval_metric=&#x27;f1&#x27;,\n",
       "       explain_level=0, mode=&#x27;Compete&#x27;,\n",
       "       validation_strategy={&#x27;k_folds&#x27;: 5, &#x27;shuffle&#x27;: True, &#x27;stratify&#x27;: True,\n",
       "                            &#x27;validation_type&#x27;: &#x27;kfold&#x27;})</pre><b>In a Jupyter environment, please rerun this cell to show the HTML representation or trust the notebook. <br />On GitHub, the HTML representation is unable to render, please try loading this page with nbviewer.org.</b></div><div class=\"sk-container\" hidden><div class=\"sk-item\"><div class=\"sk-estimator sk-toggleable\"><input class=\"sk-toggleable__control sk-hidden--visually\" id=\"sk-estimator-id-1\" type=\"checkbox\" checked><label for=\"sk-estimator-id-1\" class=\"sk-toggleable__label sk-toggleable__label-arrow\">AutoML</label><div class=\"sk-toggleable__content\"><pre>AutoML(algorithms=[&#x27;LightGBM&#x27;, &#x27;Xgboost&#x27;, &#x27;CatBoost&#x27;], eval_metric=&#x27;f1&#x27;,\n",
       "       explain_level=0, mode=&#x27;Compete&#x27;,\n",
       "       validation_strategy={&#x27;k_folds&#x27;: 5, &#x27;shuffle&#x27;: True, &#x27;stratify&#x27;: True,\n",
       "                            &#x27;validation_type&#x27;: &#x27;kfold&#x27;})</pre></div></div></div></div></div>"
      ],
      "text/plain": [
       "AutoML(algorithms=['LightGBM', 'Xgboost', 'CatBoost'], eval_metric='f1',\n",
       "       explain_level=0, mode='Compete',\n",
       "       validation_strategy={'k_folds': 5, 'shuffle': True, 'stratify': True,\n",
       "                            'validation_type': 'kfold'})"
      ]
     },
     "execution_count": 15,
     "metadata": {},
     "output_type": "execute_result"
    }
   ],
   "source": [
    "automl.fit(df, target)"
   ]
  },
  {
   "cell_type": "code",
   "execution_count": 17,
   "metadata": {
    "id": "bdEcpUQqCM4b"
   },
   "outputs": [],
   "source": [
    "pred = automl.predict(test)"
   ]
  },
  {
   "cell_type": "code",
   "execution_count": 22,
   "metadata": {
    "id": "gH0gKypHdHke"
   },
   "outputs": [],
   "source": [
    "submission['전화해지여부'] = pred\n",
    "submission.to_csv('./data/submission-automl-1.csv', index=False)"
   ]
  },
  {
   "cell_type": "code",
   "execution_count": null,
   "metadata": {
    "id": "aOeE3f9-8W3p"
   },
   "outputs": [],
   "source": []
  }
 ],
 "metadata": {
  "colab": {
   "include_colab_link": true,
   "provenance": [],
   "toc_visible": true
  },
  "gpuClass": "standard",
  "kernelspec": {
   "display_name": "Python 3 (ipykernel)",
   "language": "python",
   "name": "python3"
  },
  "language_info": {
   "codemirror_mode": {
    "name": "ipython",
    "version": 3
   },
   "file_extension": ".py",
   "mimetype": "text/x-python",
   "name": "python",
   "nbconvert_exporter": "python",
   "pygments_lexer": "ipython3",
   "version": "3.8.11"
  }
 },
 "nbformat": 4,
 "nbformat_minor": 4
}
