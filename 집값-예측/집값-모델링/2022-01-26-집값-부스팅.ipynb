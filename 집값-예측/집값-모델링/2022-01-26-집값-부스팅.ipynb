{
 "cells": [
  {
   "cell_type": "markdown",
   "id": "2cf2cf69-f744-432b-9012-515e9c265147",
   "metadata": {},
   "source": [
    "# 집값 예측 경진대회"
   ]
  },
  {
   "cell_type": "markdown",
   "id": "82949d40-bd77-456c-b59e-40d6175066be",
   "metadata": {},
   "source": [
    "## 패키지 import 및 데이터 전처리"
   ]
  },
  {
   "cell_type": "code",
   "execution_count": 195,
   "id": "1fbb8f5e-cb76-4300-a997-1bfc475efa16",
   "metadata": {},
   "outputs": [],
   "source": [
    "import pandas as pd\n",
    "import numpy as np\n",
    "import matplotlib.pyplot as plt\n",
    "import seaborn as sns\n",
    "\n",
    "import warnings\n",
    "warnings.filterwarnings('ignore')"
   ]
  },
  {
   "cell_type": "code",
   "execution_count": 196,
   "id": "18b089b8-689b-4d1a-99bc-c61541152c86",
   "metadata": {},
   "outputs": [],
   "source": [
    "df = pd.read_csv('C:/Users/Jaesu/github_desktop/Dacon-Basic/집값-예측/Data/train.csv')\n",
    "test = pd.read_csv('C:/Users/Jaesu/github_desktop/Dacon-Basic/집값-예측/Data/test.csv')"
   ]
  },
  {
   "cell_type": "code",
   "execution_count": 197,
   "id": "1e00560e-60a8-426c-af3e-1e4365537346",
   "metadata": {},
   "outputs": [
    {
     "data": {
      "text/html": [
       "<div>\n",
       "<style scoped>\n",
       "    .dataframe tbody tr th:only-of-type {\n",
       "        vertical-align: middle;\n",
       "    }\n",
       "\n",
       "    .dataframe tbody tr th {\n",
       "        vertical-align: top;\n",
       "    }\n",
       "\n",
       "    .dataframe thead th {\n",
       "        text-align: right;\n",
       "    }\n",
       "</style>\n",
       "<table border=\"1\" class=\"dataframe\">\n",
       "  <thead>\n",
       "    <tr style=\"text-align: right;\">\n",
       "      <th></th>\n",
       "      <th>id</th>\n",
       "      <th>Overall Qual</th>\n",
       "      <th>Gr Liv Area</th>\n",
       "      <th>Exter Qual</th>\n",
       "      <th>Garage Cars</th>\n",
       "      <th>Garage Area</th>\n",
       "      <th>Kitchen Qual</th>\n",
       "      <th>Total Bsmt SF</th>\n",
       "      <th>1st Flr SF</th>\n",
       "      <th>Bsmt Qual</th>\n",
       "      <th>Full Bath</th>\n",
       "      <th>Year Built</th>\n",
       "      <th>Year Remod/Add</th>\n",
       "      <th>Garage Yr Blt</th>\n",
       "      <th>target</th>\n",
       "    </tr>\n",
       "  </thead>\n",
       "  <tbody>\n",
       "    <tr>\n",
       "      <th>0</th>\n",
       "      <td>1</td>\n",
       "      <td>10</td>\n",
       "      <td>2392</td>\n",
       "      <td>Ex</td>\n",
       "      <td>3</td>\n",
       "      <td>968</td>\n",
       "      <td>Ex</td>\n",
       "      <td>2392</td>\n",
       "      <td>2392</td>\n",
       "      <td>Ex</td>\n",
       "      <td>2</td>\n",
       "      <td>2003</td>\n",
       "      <td>2003</td>\n",
       "      <td>2003</td>\n",
       "      <td>386250</td>\n",
       "    </tr>\n",
       "    <tr>\n",
       "      <th>1</th>\n",
       "      <td>2</td>\n",
       "      <td>7</td>\n",
       "      <td>1352</td>\n",
       "      <td>Gd</td>\n",
       "      <td>2</td>\n",
       "      <td>466</td>\n",
       "      <td>Gd</td>\n",
       "      <td>1352</td>\n",
       "      <td>1352</td>\n",
       "      <td>Ex</td>\n",
       "      <td>2</td>\n",
       "      <td>2006</td>\n",
       "      <td>2007</td>\n",
       "      <td>2006</td>\n",
       "      <td>194000</td>\n",
       "    </tr>\n",
       "    <tr>\n",
       "      <th>2</th>\n",
       "      <td>3</td>\n",
       "      <td>5</td>\n",
       "      <td>900</td>\n",
       "      <td>TA</td>\n",
       "      <td>1</td>\n",
       "      <td>288</td>\n",
       "      <td>TA</td>\n",
       "      <td>864</td>\n",
       "      <td>900</td>\n",
       "      <td>TA</td>\n",
       "      <td>1</td>\n",
       "      <td>1967</td>\n",
       "      <td>1967</td>\n",
       "      <td>1967</td>\n",
       "      <td>123000</td>\n",
       "    </tr>\n",
       "    <tr>\n",
       "      <th>3</th>\n",
       "      <td>4</td>\n",
       "      <td>5</td>\n",
       "      <td>1174</td>\n",
       "      <td>TA</td>\n",
       "      <td>2</td>\n",
       "      <td>576</td>\n",
       "      <td>Gd</td>\n",
       "      <td>680</td>\n",
       "      <td>680</td>\n",
       "      <td>TA</td>\n",
       "      <td>1</td>\n",
       "      <td>1900</td>\n",
       "      <td>2006</td>\n",
       "      <td>2000</td>\n",
       "      <td>135000</td>\n",
       "    </tr>\n",
       "    <tr>\n",
       "      <th>4</th>\n",
       "      <td>5</td>\n",
       "      <td>7</td>\n",
       "      <td>1958</td>\n",
       "      <td>Gd</td>\n",
       "      <td>3</td>\n",
       "      <td>936</td>\n",
       "      <td>Gd</td>\n",
       "      <td>1026</td>\n",
       "      <td>1026</td>\n",
       "      <td>Gd</td>\n",
       "      <td>2</td>\n",
       "      <td>2005</td>\n",
       "      <td>2005</td>\n",
       "      <td>2005</td>\n",
       "      <td>250000</td>\n",
       "    </tr>\n",
       "  </tbody>\n",
       "</table>\n",
       "</div>"
      ],
      "text/plain": [
       "   id  Overall Qual  Gr Liv Area Exter Qual  Garage Cars  Garage Area  \\\n",
       "0   1            10         2392         Ex            3          968   \n",
       "1   2             7         1352         Gd            2          466   \n",
       "2   3             5          900         TA            1          288   \n",
       "3   4             5         1174         TA            2          576   \n",
       "4   5             7         1958         Gd            3          936   \n",
       "\n",
       "  Kitchen Qual  Total Bsmt SF  1st Flr SF Bsmt Qual  Full Bath  Year Built  \\\n",
       "0           Ex           2392        2392        Ex          2        2003   \n",
       "1           Gd           1352        1352        Ex          2        2006   \n",
       "2           TA            864         900        TA          1        1967   \n",
       "3           Gd            680         680        TA          1        1900   \n",
       "4           Gd           1026        1026        Gd          2        2005   \n",
       "\n",
       "   Year Remod/Add  Garage Yr Blt  target  \n",
       "0            2003           2003  386250  \n",
       "1            2007           2006  194000  \n",
       "2            1967           1967  123000  \n",
       "3            2006           2000  135000  \n",
       "4            2005           2005  250000  "
      ]
     },
     "execution_count": 197,
     "metadata": {},
     "output_type": "execute_result"
    }
   ],
   "source": [
    "df.head()"
   ]
  },
  {
   "cell_type": "markdown",
   "id": "0dc526cf-a260-4d82-b8e7-8fa052af5761",
   "metadata": {},
   "source": [
    "`-` id는 필요없으니 제거"
   ]
  },
  {
   "cell_type": "code",
   "execution_count": 198,
   "id": "2a9860c1-0eff-4366-866d-55d1bc856562",
   "metadata": {},
   "outputs": [],
   "source": [
    "df.drop('id', axis = 1, inplace = True)\n",
    "test.drop('id', axis = 1, inplace = True)"
   ]
  },
  {
   "cell_type": "markdown",
   "id": "be47ec25-ce38-4f64-9f07-c6f31f99fe51",
   "metadata": {},
   "source": [
    "`-` 결측치는 없다"
   ]
  },
  {
   "cell_type": "markdown",
   "id": "e16ff8ff-941d-4f72-8beb-0e1abf4c6001",
   "metadata": {},
   "source": [
    "`-` 분석의 편의를 위해 컬럼명을 바꾸겠다"
   ]
  },
  {
   "cell_type": "code",
   "execution_count": 199,
   "id": "2ab6ce7d-183c-4f09-8b10-8b0f0058bed5",
   "metadata": {},
   "outputs": [],
   "source": [
    "## 공백과 슬래쉬를 _로 대체 1을 숫자가 아닌 다른 문자로 바꿈 \n",
    "df.rename(columns = dict(zip(df.columns, [column.replace(' ', '_').replace('/', '_').replace('1', 'Fir') for column in df.columns])), inplace = True) \n",
    "test.rename(columns = dict(zip(test.columns, [column.replace(' ', '_').replace('/', '_').replace('1', 'Fir') for column in test.columns])), inplace = True) "
   ]
  },
  {
   "cell_type": "markdown",
   "id": "a7d3213e-b73d-4788-9ad7-63b3ceaba8fc",
   "metadata": {},
   "source": [
    "`-` 범주형 변수는 Exter Qual(외관 재료 품질;4개), Kitchen Qual(부엌 품질; 4개), Bsmt Qual(지하실 높이;5개)이다\n",
    "\n",
    "`-` 총 5개의 등급이 존재하는데 Poor 등급은 Bsmt Qual에 1개 존재한다(나머지는 0개)\n",
    "\n",
    "`-` 아예 poor등급이 존재하지 않는걸 수 도 있고 poor등급이 존재하는데 poor등급에 해당하는 건물이 존재하지 않는걸 수 도 있다\n",
    "\n",
    "`-` 편의상 후자라고 생각하자(사실 후자가 맞다; 아님말고)\n",
    "\n",
    "`-` 이들은 순서형 변수이므로 라벨 인코딩을 해주자"
   ]
  },
  {
   "cell_type": "markdown",
   "id": "fbb8a45a-f8cf-4be7-9c6f-ddfd510f3953",
   "metadata": {},
   "source": [
    "`-` 좋은 등급이 큰 값을 가지도록 하기위해 라벨인코딩을 정의해주자"
   ]
  },
  {
   "cell_type": "code",
   "execution_count": 200,
   "id": "33c85460-84b7-49f2-8017-ffc3bc68f24f",
   "metadata": {},
   "outputs": [],
   "source": [
    "def label_encoding(data):\n",
    "    grade_label = ['Po', 'Fa', 'TA', 'Gd', 'Ex'] ## 0~4점\n",
    "    \n",
    "    for grade, label in enumerate(grade_label):\n",
    "        if data == label:\n",
    "            return grade"
   ]
  },
  {
   "cell_type": "code",
   "execution_count": 201,
   "id": "5598167a-79d7-4264-ada5-c1d33e71f5d5",
   "metadata": {},
   "outputs": [],
   "source": [
    "for col in df.columns[df.dtypes == 'object']:\n",
    "    df[col] = df[col].apply(lambda x: label_encoding(x))"
   ]
  },
  {
   "cell_type": "code",
   "execution_count": 202,
   "id": "cff42eee-58e0-4c34-96ae-ca0f11be7977",
   "metadata": {},
   "outputs": [],
   "source": [
    "for col in test.columns[test.dtypes == 'object']:\n",
    "    test[col] = test[col].apply(lambda x: label_encoding(x))"
   ]
  },
  {
   "cell_type": "code",
   "execution_count": 203,
   "id": "4835bf39-9e7c-4a2c-8855-9d9a5254ba68",
   "metadata": {},
   "outputs": [
    {
     "data": {
      "text/html": [
       "<div>\n",
       "<style scoped>\n",
       "    .dataframe tbody tr th:only-of-type {\n",
       "        vertical-align: middle;\n",
       "    }\n",
       "\n",
       "    .dataframe tbody tr th {\n",
       "        vertical-align: top;\n",
       "    }\n",
       "\n",
       "    .dataframe thead th {\n",
       "        text-align: right;\n",
       "    }\n",
       "</style>\n",
       "<table border=\"1\" class=\"dataframe\">\n",
       "  <thead>\n",
       "    <tr style=\"text-align: right;\">\n",
       "      <th></th>\n",
       "      <th>Overall_Qual</th>\n",
       "      <th>Gr_Liv_Area</th>\n",
       "      <th>Exter_Qual</th>\n",
       "      <th>Garage_Cars</th>\n",
       "      <th>Garage_Area</th>\n",
       "      <th>Kitchen_Qual</th>\n",
       "      <th>Total_Bsmt_SF</th>\n",
       "      <th>First_Flr_SF</th>\n",
       "      <th>Bsmt_Qual</th>\n",
       "      <th>Full_Bath</th>\n",
       "      <th>Year_Built</th>\n",
       "      <th>Year_Remod_Add</th>\n",
       "      <th>Garage_Yr_Blt</th>\n",
       "      <th>target</th>\n",
       "    </tr>\n",
       "  </thead>\n",
       "  <tbody>\n",
       "    <tr>\n",
       "      <th>0</th>\n",
       "      <td>10</td>\n",
       "      <td>2392</td>\n",
       "      <td>4</td>\n",
       "      <td>3</td>\n",
       "      <td>968</td>\n",
       "      <td>4</td>\n",
       "      <td>2392</td>\n",
       "      <td>2392</td>\n",
       "      <td>4</td>\n",
       "      <td>2</td>\n",
       "      <td>2003</td>\n",
       "      <td>2003</td>\n",
       "      <td>2003</td>\n",
       "      <td>386250</td>\n",
       "    </tr>\n",
       "    <tr>\n",
       "      <th>1</th>\n",
       "      <td>7</td>\n",
       "      <td>1352</td>\n",
       "      <td>3</td>\n",
       "      <td>2</td>\n",
       "      <td>466</td>\n",
       "      <td>3</td>\n",
       "      <td>1352</td>\n",
       "      <td>1352</td>\n",
       "      <td>4</td>\n",
       "      <td>2</td>\n",
       "      <td>2006</td>\n",
       "      <td>2007</td>\n",
       "      <td>2006</td>\n",
       "      <td>194000</td>\n",
       "    </tr>\n",
       "    <tr>\n",
       "      <th>2</th>\n",
       "      <td>5</td>\n",
       "      <td>900</td>\n",
       "      <td>2</td>\n",
       "      <td>1</td>\n",
       "      <td>288</td>\n",
       "      <td>2</td>\n",
       "      <td>864</td>\n",
       "      <td>900</td>\n",
       "      <td>2</td>\n",
       "      <td>1</td>\n",
       "      <td>1967</td>\n",
       "      <td>1967</td>\n",
       "      <td>1967</td>\n",
       "      <td>123000</td>\n",
       "    </tr>\n",
       "    <tr>\n",
       "      <th>3</th>\n",
       "      <td>5</td>\n",
       "      <td>1174</td>\n",
       "      <td>2</td>\n",
       "      <td>2</td>\n",
       "      <td>576</td>\n",
       "      <td>3</td>\n",
       "      <td>680</td>\n",
       "      <td>680</td>\n",
       "      <td>2</td>\n",
       "      <td>1</td>\n",
       "      <td>1900</td>\n",
       "      <td>2006</td>\n",
       "      <td>2000</td>\n",
       "      <td>135000</td>\n",
       "    </tr>\n",
       "    <tr>\n",
       "      <th>4</th>\n",
       "      <td>7</td>\n",
       "      <td>1958</td>\n",
       "      <td>3</td>\n",
       "      <td>3</td>\n",
       "      <td>936</td>\n",
       "      <td>3</td>\n",
       "      <td>1026</td>\n",
       "      <td>1026</td>\n",
       "      <td>3</td>\n",
       "      <td>2</td>\n",
       "      <td>2005</td>\n",
       "      <td>2005</td>\n",
       "      <td>2005</td>\n",
       "      <td>250000</td>\n",
       "    </tr>\n",
       "  </tbody>\n",
       "</table>\n",
       "</div>"
      ],
      "text/plain": [
       "   Overall_Qual  Gr_Liv_Area  Exter_Qual  Garage_Cars  Garage_Area  \\\n",
       "0            10         2392           4            3          968   \n",
       "1             7         1352           3            2          466   \n",
       "2             5          900           2            1          288   \n",
       "3             5         1174           2            2          576   \n",
       "4             7         1958           3            3          936   \n",
       "\n",
       "   Kitchen_Qual  Total_Bsmt_SF  First_Flr_SF  Bsmt_Qual  Full_Bath  \\\n",
       "0             4           2392          2392          4          2   \n",
       "1             3           1352          1352          4          2   \n",
       "2             2            864           900          2          1   \n",
       "3             3            680           680          2          1   \n",
       "4             3           1026          1026          3          2   \n",
       "\n",
       "   Year_Built  Year_Remod_Add  Garage_Yr_Blt  target  \n",
       "0        2003            2003           2003  386250  \n",
       "1        2006            2007           2006  194000  \n",
       "2        1967            1967           1967  123000  \n",
       "3        1900            2006           2000  135000  \n",
       "4        2005            2005           2005  250000  "
      ]
     },
     "execution_count": 203,
     "metadata": {},
     "output_type": "execute_result"
    }
   ],
   "source": [
    "df.head()"
   ]
  },
  {
   "cell_type": "markdown",
   "id": "8a81ec99-2e63-43f8-b325-33f2bfbbfeaa",
   "metadata": {},
   "source": [
    "`-` 라벨 인코딩이 잘 되었다"
   ]
  },
  {
   "cell_type": "code",
   "execution_count": 204,
   "id": "55a98557-0f47-4b84-98ef-50e225b32b02",
   "metadata": {},
   "outputs": [
    {
     "data": {
      "text/html": [
       "<div>\n",
       "<style scoped>\n",
       "    .dataframe tbody tr th:only-of-type {\n",
       "        vertical-align: middle;\n",
       "    }\n",
       "\n",
       "    .dataframe tbody tr th {\n",
       "        vertical-align: top;\n",
       "    }\n",
       "\n",
       "    .dataframe thead th {\n",
       "        text-align: right;\n",
       "    }\n",
       "</style>\n",
       "<table border=\"1\" class=\"dataframe\">\n",
       "  <thead>\n",
       "    <tr style=\"text-align: right;\">\n",
       "      <th></th>\n",
       "      <th>Overall_Qual</th>\n",
       "      <th>Gr_Liv_Area</th>\n",
       "      <th>Exter_Qual</th>\n",
       "      <th>Garage_Cars</th>\n",
       "      <th>Garage_Area</th>\n",
       "      <th>Kitchen_Qual</th>\n",
       "      <th>Total_Bsmt_SF</th>\n",
       "      <th>First_Flr_SF</th>\n",
       "      <th>Bsmt_Qual</th>\n",
       "      <th>Full_Bath</th>\n",
       "      <th>Year_Built</th>\n",
       "      <th>Year_Remod_Add</th>\n",
       "      <th>Garage_Yr_Blt</th>\n",
       "      <th>target</th>\n",
       "    </tr>\n",
       "  </thead>\n",
       "  <tbody>\n",
       "    <tr>\n",
       "      <th>254</th>\n",
       "      <td>8</td>\n",
       "      <td>1564</td>\n",
       "      <td>3</td>\n",
       "      <td>2</td>\n",
       "      <td>502</td>\n",
       "      <td>4</td>\n",
       "      <td>1546</td>\n",
       "      <td>1564</td>\n",
       "      <td>3</td>\n",
       "      <td>2</td>\n",
       "      <td>2006</td>\n",
       "      <td>2007</td>\n",
       "      <td>2207</td>\n",
       "      <td>267300</td>\n",
       "    </tr>\n",
       "  </tbody>\n",
       "</table>\n",
       "</div>"
      ],
      "text/plain": [
       "     Overall_Qual  Gr_Liv_Area  Exter_Qual  Garage_Cars  Garage_Area  \\\n",
       "254             8         1564           3            2          502   \n",
       "\n",
       "     Kitchen_Qual  Total_Bsmt_SF  First_Flr_SF  Bsmt_Qual  Full_Bath  \\\n",
       "254             4           1546          1564          3          2   \n",
       "\n",
       "     Year_Built  Year_Remod_Add  Garage_Yr_Blt  target  \n",
       "254        2006            2007           2207  267300  "
      ]
     },
     "execution_count": 204,
     "metadata": {},
     "output_type": "execute_result"
    }
   ],
   "source": [
    "df[df.Garage_Yr_Blt == max(df.Garage_Yr_Blt)]"
   ]
  },
  {
   "cell_type": "markdown",
   "id": "dedf94ff-186e-4713-a411-3854c1789bf7",
   "metadata": {},
   "source": [
    "`-` Garage_Yr_Blt가 2207년으로 되어있다\n",
    "\n",
    "`-` 이를 2007년으로 바꿔주자"
   ]
  },
  {
   "cell_type": "code",
   "execution_count": 205,
   "id": "b9290ee7-71a8-4a74-86a4-ffa666961b13",
   "metadata": {},
   "outputs": [],
   "source": [
    "df.loc[254, 'Garage_Yr_Blt'] = 2007"
   ]
  },
  {
   "cell_type": "markdown",
   "id": "dedf81aa-d6c6-4ce2-a6bf-4b1760cc8b5f",
   "metadata": {},
   "source": [
    "### 로그 변환 및 이상점 제거"
   ]
  },
  {
   "cell_type": "markdown",
   "id": "72f41c8b-5eae-4adb-9de0-215d18aed135",
   "metadata": {},
   "source": [
    "`-` 앞서 EDA에서 집값(target)이 오른쪽으로 꼬리가 긴 분포임을 확인했다\n",
    "\n",
    "`-` 정규분포로 맞춰주기 위해 로그변환을 하자"
   ]
  },
  {
   "cell_type": "code",
   "execution_count": 114,
   "id": "d2b5912b-b927-4483-87ce-2fde26604a20",
   "metadata": {},
   "outputs": [],
   "source": [
    "import scipy.stats as stats"
   ]
  },
  {
   "cell_type": "code",
   "execution_count": 10,
   "id": "d1a01c25-f34c-4482-b699-54474e392ae1",
   "metadata": {},
   "outputs": [
    {
     "data": {
      "text/plain": [
       "<AxesSubplot:>"
      ]
     },
     "execution_count": 10,
     "metadata": {},
     "output_type": "execute_result"
    },
    {
     "data": {
      "image/png": "[encoded data removed]",
      "text/plain": [
       "<Figure size 432x288 with 1 Axes>"
      ]
     },
     "metadata": {
      "needs_background": "light"
     },
     "output_type": "display_data"
    }
   ],
   "source": [
    "np.log(df['target']).hist(bins = 30)"
   ]
  },
  {
   "cell_type": "code",
   "execution_count": 11,
   "id": "8a503fed-e22c-4066-bd78-2e218473da71",
   "metadata": {},
   "outputs": [
    {
     "data": {
      "image/png": "[encoded data removed]",
      "text/plain": [
       "<Figure size 432x288 with 1 Axes>"
      ]
     },
     "metadata": {
      "needs_background": "light"
     },
     "output_type": "display_data"
    }
   ],
   "source": [
    "_ = stats.probplot(np.log(df['target']), plot = plt)"
   ]
  },
  {
   "cell_type": "markdown",
   "id": "a4e6dedf-8e33-4f16-a3e2-72da5b897ba6",
   "metadata": {},
   "source": [
    "`-` 로그 변환을 했지만 정규분포를 따르지 않는것처럼 보인다\n",
    "\n",
    "`-` 샤피로-윌크 검정을 통해 정확히 확인하자"
   ]
  },
  {
   "cell_type": "code",
   "execution_count": 12,
   "id": "676971be-6af5-4e6e-81fa-cc03c9406a43",
   "metadata": {},
   "outputs": [],
   "source": [
    "test_stat, p_val = stats.shapiro(np.log(df['target']))"
   ]
  },
  {
   "cell_type": "code",
   "execution_count": 13,
   "id": "a3f15461-566d-4c1b-a0db-7fb8058e3b67",
   "metadata": {},
   "outputs": [
    {
     "data": {
      "text/plain": [
       "(4.748497602069524e-13, 0.08070163740417918)"
      ]
     },
     "execution_count": 13,
     "metadata": {},
     "output_type": "execute_result"
    }
   ],
   "source": [
    "p_val, np.log(df['target']).skew() ## p값과 왜도"
   ]
  },
  {
   "cell_type": "markdown",
   "id": "27e5e533-f2a4-443c-ae6f-f2ed778ab970",
   "metadata": {},
   "source": [
    "`-` 안타깝게도 정규분포를 따르지 않는다"
   ]
  },
  {
   "cell_type": "markdown",
   "id": "ed80a5d4-6511-42e2-9078-f1e3764743a5",
   "metadata": {},
   "source": [
    "`-` 왜도는 $0.08$로 거의 $0$"
   ]
  },
  {
   "cell_type": "markdown",
   "id": "46230237-fb7d-4443-ad64-85498484adf4",
   "metadata": {},
   "source": [
    "`-` 그런데 Q-Q플랏을 보면 심각한 이상치가 보인다(-3부근에 2개)\n",
    "\n",
    "`-` 저런 이상치를 예측하는 것은 불가능해보이니 제거하자"
   ]
  },
  {
   "cell_type": "markdown",
   "id": "9156f3b1-034b-423e-9e13-65fad8380549",
   "metadata": {},
   "source": [
    "`-` 값이 큰쪽으로도 이상점이 있는데 제거할지 말지 고민중이다"
   ]
  },
  {
   "cell_type": "markdown",
   "id": "8f558512-9208-4abb-8c0c-2725495031a4",
   "metadata": {},
   "source": [
    "`-` 가장 비싼 집이 745000 달러인데 Gr_Liv_Area(지상층 생활 면적)이 4476으로 매우 넓다!\n",
    "\n",
    "`-` 근데 생각해보니 제거하는 것이 맞는 것 같다(심각한 이상치로 인해 큰 영향을 끼칠 수 있음)"
   ]
  },
  {
   "cell_type": "code",
   "execution_count": 11,
   "id": "3047e4a1-73c0-452d-acf5-452279adc70c",
   "metadata": {},
   "outputs": [
    {
     "data": {
      "image/png": "[encoded data removed]",
      "text/plain": [
       "<Figure size 432x288 with 1 Axes>"
      ]
     },
     "metadata": {},
     "output_type": "display_data"
    }
   ],
   "source": [
    "with plt.style.context('seaborn-dark'): \n",
    "    plt.boxplot(np.log(df['target']))\n",
    "plt.show()"
   ]
  },
  {
   "cell_type": "markdown",
   "id": "24405f63-9585-4023-af5f-8d626f48fef5",
   "metadata": {},
   "source": [
    "`-` 로그 변환을 해서 나온 이상치들을 제거하자"
   ]
  },
  {
   "cell_type": "code",
   "execution_count": 10,
   "id": "29123325-59a8-4347-b0fd-05daee9b6a00",
   "metadata": {},
   "outputs": [],
   "source": [
    "def remove_outlier(df):\n",
    "    Q1 = np.log(df).quantile(0.25)\n",
    "    Q3 = np.log(df).quantile(0.75)\n",
    "    IQR = Q3 - Q1   \n",
    "\n",
    "    filter_ = (np.log(df) >= Q1 - 1.5*IQR) & (np.log(df) <= Q3 + 1.5*IQR)\n",
    "    return filter_"
   ]
  },
  {
   "cell_type": "markdown",
   "id": "9f746761-f0eb-4483-a5e3-bf37baa901af",
   "metadata": {},
   "source": [
    "`-` df의 이상점을 제거한 df2를 만듦"
   ]
  },
  {
   "cell_type": "code",
   "execution_count": 47,
   "id": "9a881546-3d95-4a87-bade-4366db7d9948",
   "metadata": {},
   "outputs": [],
   "source": [
    "df2 = df.copy()"
   ]
  },
  {
   "cell_type": "code",
   "execution_count": 44,
   "id": "8264edd2-1833-4d11-a897-71c4dc938d91",
   "metadata": {},
   "outputs": [
    {
     "data": {
      "text/plain": [
       "array([10,  7,  5,  8,  6,  3,  4,  9,  2], dtype=int64)"
      ]
     },
     "execution_count": 44,
     "metadata": {},
     "output_type": "execute_result"
    }
   ],
   "source": [
    "df2['Overall_Qual'].unique()"
   ]
  },
  {
   "cell_type": "markdown",
   "id": "79a9984b-15ce-499e-b565-ab4d40061d55",
   "metadata": {},
   "source": [
    "`-` 위에서 제거한 이상점은 target의 이상점이다\n",
    "\n",
    "`-` 그런데 위와 같이 이상점을 제거하면 target 전체를 기준으로 매우 큰 값 또는 작은 값만 제거된다\n",
    "\n",
    "`-` 하지만 Overall Qual과 같은 변수로 target을 나눠서 보면 target 전체로 봤을 때의 이상점과 다르다\n",
    "\n",
    "`-` 그렇기에 Overall Qual에 따른 target의 이상점을 제거하겠다\n",
    "\n",
    "`-` 예컨대 Overall Qual이 3일 때 이상점으로 30만 달러의 집이 있다고 해도\n",
    "\n",
    "`-` target 전체로 봤을 땐 이상점이 아니다"
   ]
  },
  {
   "cell_type": "markdown",
   "id": "c56eb2c6-ff39-455c-a4c9-fb7f233579c2",
   "metadata": {},
   "source": [
    "`-` 각각의 Overall_Qual에 대한 target의 이상점을 제거하자\n",
    "\n",
    "`-` 각각의 Overall_Qual에 대한 target의 이상점을 제거할려고 했는데\n",
    "\n",
    "`-` Overlall_Qual에 따라 모델을 만들것이 아니라서 전체 target의 이상점만 제거하기로 했다"
   ]
  },
  {
   "cell_type": "code",
   "execution_count": 30,
   "id": "0131873e-297f-4857-bbc2-08d264dfaa13",
   "metadata": {},
   "outputs": [],
   "source": [
    "# l = []\n",
    "# for i in df2['Overall_Qual'].unique():\n",
    "#     l.extend(remove_outlier(df2.query('Overall_Qual == @i')[['target']]).query('target == True').index.tolist()) ## 이상점이 아닌 인덱스번호만 추가\n",
    "             \n",
    "# l = list(set(l))"
   ]
  },
  {
   "cell_type": "code",
   "execution_count": 19,
   "id": "65d85332-2384-4647-98f1-850ef1c12c15",
   "metadata": {},
   "outputs": [],
   "source": [
    "# l = []\n",
    "# for i in df2['Kitchen_Qual'].unique():\n",
    "#     l.extend(remove_outlier(df2.query('Kitchen_Qual == @i')[['target']]).query('target == True').index.tolist()) ## 이상점이 아닌 인덱스번호만 추가\n",
    "\n",
    "# l = list(set(l))\n",
    "# l = list(set(l) & set(remove_outlier(df2[['target']]).query('target == True').index.tolist()))"
   ]
  },
  {
   "cell_type": "code",
   "execution_count": 32,
   "id": "65a33729-6999-4f85-a8fa-6c10d58eec84",
   "metadata": {},
   "outputs": [],
   "source": [
    "# df2 = df2.loc[l,:].reset_index().drop('index', axis = 1)"
   ]
  },
  {
   "cell_type": "code",
   "execution_count": 49,
   "id": "9cd1d323-600a-402d-bd1d-f795bb0bc132",
   "metadata": {},
   "outputs": [],
   "source": [
    "df2 = df2[remove_outlier(df2['target'])]"
   ]
  },
  {
   "cell_type": "code",
   "execution_count": 50,
   "id": "8cdd23f2-4582-4a48-a5da-3ecf733448ee",
   "metadata": {},
   "outputs": [
    {
     "data": {
      "text/plain": [
       "<AxesSubplot:>"
      ]
     },
     "execution_count": 50,
     "metadata": {},
     "output_type": "execute_result"
    },
    {
     "data": {
      "image/png": "[encoded data removed]",
      "text/plain": [
       "<Figure size 432x288 with 1 Axes>"
      ]
     },
     "metadata": {
      "needs_background": "light"
     },
     "output_type": "display_data"
    }
   ],
   "source": [
    "np.log(df2['target']).hist(bins = 30)"
   ]
  },
  {
   "cell_type": "code",
   "execution_count": 51,
   "id": "f268f3d1-73cb-4c58-ad9e-f4930cc37322",
   "metadata": {},
   "outputs": [
    {
     "data": {
      "image/png": "[encoded data removed]",
      "text/plain": [
       "<Figure size 432x288 with 1 Axes>"
      ]
     },
     "metadata": {
      "needs_background": "light"
     },
     "output_type": "display_data"
    }
   ],
   "source": [
    "_ = stats.probplot(np.log(df2['target']), plot = plt)"
   ]
  },
  {
   "cell_type": "code",
   "execution_count": 52,
   "id": "571d48dd-1f97-4e51-a8bf-676b08752d79",
   "metadata": {},
   "outputs": [],
   "source": [
    "test_stat, p_val = stats.shapiro(np.log(df2['target']))"
   ]
  },
  {
   "cell_type": "code",
   "execution_count": 53,
   "id": "8d29ea19-ca25-4e45-ae5e-d4ea145b0be5",
   "metadata": {},
   "outputs": [
    {
     "data": {
      "text/plain": [
       "(2.6139335140840103e-09, 0.30128743590449364)"
      ]
     },
     "execution_count": 53,
     "metadata": {},
     "output_type": "execute_result"
    }
   ],
   "source": [
    "p_val, np.log(df2['target']).skew() ## p값과 왜도"
   ]
  },
  {
   "cell_type": "markdown",
   "id": "578dbed6-ca57-4bdd-96d6-9da2aed6cc97",
   "metadata": {},
   "source": [
    "`-` 이상으로 이상점 제거를 끝냈다"
   ]
  },
  {
   "cell_type": "code",
   "execution_count": 73,
   "id": "03da0e77-fc97-4677-804a-577d6616cf1d",
   "metadata": {},
   "outputs": [],
   "source": [
    "dt = df2.copy()"
   ]
  },
  {
   "cell_type": "code",
   "execution_count": 74,
   "id": "bfe6e5f1-f823-423b-bb10-c874f61bc285",
   "metadata": {},
   "outputs": [],
   "source": [
    "target = dt['target']  ## target\n",
    "dt = dt.iloc[:, :-1]   ## target 제외한 데이터프레임"
   ]
  },
  {
   "cell_type": "code",
   "execution_count": 75,
   "id": "15a3f0f8-413c-4e30-b132-71de0203f568",
   "metadata": {},
   "outputs": [],
   "source": [
    "dt['gap_year_now_bulit'] = 2022 - dt['Year_Built']"
   ]
  },
  {
   "cell_type": "markdown",
   "id": "43905ab5-b09b-4d5e-9c53-22ff358c952e",
   "metadata": {},
   "source": [
    "`-` train 셋에 포함된 피쳐외의 특징을 연도 피쳐가 가지고 있을 수 있으니 연도 변수로 위의 파생 변수를 사용하자"
   ]
  },
  {
   "cell_type": "code",
   "execution_count": 76,
   "id": "7d36a77d-3939-4745-8441-c5d24a90ae34",
   "metadata": {},
   "outputs": [],
   "source": [
    "dt.drop(['Year_Built', 'Year_Remod_Add', 'Garage_Yr_Blt'], axis = 1, inplace = True)"
   ]
  },
  {
   "cell_type": "markdown",
   "id": "6be4d453-0365-4a2d-aaf7-7a46eb36b242",
   "metadata": {},
   "source": [
    "`-` 차고 면적은 차고 자리 개수와 관련이 있다\n",
    "\n",
    "`-` 차고 자리 개수에 따라 차고 면적의 분포가 다름\n",
    "\n",
    "`-` 그렇기에 원핫인코딩을 하고 둘을 곱한 파생 변수를 만들고 로그 변환을 해주자(오른쪽으로 꼬리가 긴 분포)\n",
    "\n",
    "`-` 그런데 일단은 하지 말자"
   ]
  },
  {
   "cell_type": "markdown",
   "id": "19b76d6c-6c0d-405d-9840-e67591baa3a0",
   "metadata": {},
   "source": [
    "`-` 지상층 생활 면적과 1층 면적과 지하실 면적을 로그 변환하자(오른쪽으로 꼬리가 긴 분포)"
   ]
  },
  {
   "cell_type": "code",
   "execution_count": 77,
   "id": "d00925d1-e537-483f-b36f-0d14a2f25bb2",
   "metadata": {},
   "outputs": [],
   "source": [
    "dt['Gr_Liv_Area'] = np.log(dt['Gr_Liv_Area'])\n",
    "dt['Garage_Area'] = np.log(dt['Garage_Area'])\n",
    "dt['First_Flr_SF'] = np.log(dt['First_Flr_SF'])\n",
    "dt['Total_Bsmt_SF'] = np.log(dt['Total_Bsmt_SF'])"
   ]
  },
  {
   "cell_type": "code",
   "execution_count": 79,
   "id": "6ae00e58-b7ba-491f-8b64-e684eb43437e",
   "metadata": {},
   "outputs": [
    {
     "data": {
      "text/html": [
       "<div>\n",
       "<style scoped>\n",
       "    .dataframe tbody tr th:only-of-type {\n",
       "        vertical-align: middle;\n",
       "    }\n",
       "\n",
       "    .dataframe tbody tr th {\n",
       "        vertical-align: top;\n",
       "    }\n",
       "\n",
       "    .dataframe thead th {\n",
       "        text-align: right;\n",
       "    }\n",
       "</style>\n",
       "<table border=\"1\" class=\"dataframe\">\n",
       "  <thead>\n",
       "    <tr style=\"text-align: right;\">\n",
       "      <th></th>\n",
       "      <th>Overall_Qual</th>\n",
       "      <th>Gr_Liv_Area</th>\n",
       "      <th>Exter_Qual</th>\n",
       "      <th>Garage_Cars</th>\n",
       "      <th>Garage_Area</th>\n",
       "      <th>Kitchen_Qual</th>\n",
       "      <th>Total_Bsmt_SF</th>\n",
       "      <th>First_Flr_SF</th>\n",
       "      <th>Bsmt_Qual</th>\n",
       "      <th>Full_Bath</th>\n",
       "      <th>gap_year_now_bulit</th>\n",
       "    </tr>\n",
       "  </thead>\n",
       "  <tbody>\n",
       "    <tr>\n",
       "      <th>0</th>\n",
       "      <td>10</td>\n",
       "      <td>7.779885</td>\n",
       "      <td>4</td>\n",
       "      <td>3</td>\n",
       "      <td>6.875232</td>\n",
       "      <td>4</td>\n",
       "      <td>7.779885</td>\n",
       "      <td>7.779885</td>\n",
       "      <td>4</td>\n",
       "      <td>2</td>\n",
       "      <td>19</td>\n",
       "    </tr>\n",
       "    <tr>\n",
       "      <th>1</th>\n",
       "      <td>7</td>\n",
       "      <td>7.209340</td>\n",
       "      <td>3</td>\n",
       "      <td>2</td>\n",
       "      <td>6.144186</td>\n",
       "      <td>3</td>\n",
       "      <td>7.209340</td>\n",
       "      <td>7.209340</td>\n",
       "      <td>4</td>\n",
       "      <td>2</td>\n",
       "      <td>16</td>\n",
       "    </tr>\n",
       "    <tr>\n",
       "      <th>2</th>\n",
       "      <td>5</td>\n",
       "      <td>6.802395</td>\n",
       "      <td>2</td>\n",
       "      <td>1</td>\n",
       "      <td>5.662960</td>\n",
       "      <td>2</td>\n",
       "      <td>6.761573</td>\n",
       "      <td>6.802395</td>\n",
       "      <td>2</td>\n",
       "      <td>1</td>\n",
       "      <td>55</td>\n",
       "    </tr>\n",
       "    <tr>\n",
       "      <th>3</th>\n",
       "      <td>5</td>\n",
       "      <td>7.068172</td>\n",
       "      <td>2</td>\n",
       "      <td>2</td>\n",
       "      <td>6.356108</td>\n",
       "      <td>3</td>\n",
       "      <td>6.522093</td>\n",
       "      <td>6.522093</td>\n",
       "      <td>2</td>\n",
       "      <td>1</td>\n",
       "      <td>122</td>\n",
       "    </tr>\n",
       "    <tr>\n",
       "      <th>4</th>\n",
       "      <td>7</td>\n",
       "      <td>7.579679</td>\n",
       "      <td>3</td>\n",
       "      <td>3</td>\n",
       "      <td>6.841615</td>\n",
       "      <td>3</td>\n",
       "      <td>6.933423</td>\n",
       "      <td>6.933423</td>\n",
       "      <td>3</td>\n",
       "      <td>2</td>\n",
       "      <td>17</td>\n",
       "    </tr>\n",
       "  </tbody>\n",
       "</table>\n",
       "</div>"
      ],
      "text/plain": [
       "   Overall_Qual  Gr_Liv_Area  Exter_Qual  Garage_Cars  Garage_Area  \\\n",
       "0            10     7.779885           4            3     6.875232   \n",
       "1             7     7.209340           3            2     6.144186   \n",
       "2             5     6.802395           2            1     5.662960   \n",
       "3             5     7.068172           2            2     6.356108   \n",
       "4             7     7.579679           3            3     6.841615   \n",
       "\n",
       "   Kitchen_Qual  Total_Bsmt_SF  First_Flr_SF  Bsmt_Qual  Full_Bath  \\\n",
       "0             4       7.779885      7.779885          4          2   \n",
       "1             3       7.209340      7.209340          4          2   \n",
       "2             2       6.761573      6.802395          2          1   \n",
       "3             3       6.522093      6.522093          2          1   \n",
       "4             3       6.933423      6.933423          3          2   \n",
       "\n",
       "   gap_year_now_bulit  \n",
       "0                  19  \n",
       "1                  16  \n",
       "2                  55  \n",
       "3                 122  \n",
       "4                  17  "
      ]
     },
     "execution_count": 79,
     "metadata": {},
     "output_type": "execute_result"
    }
   ],
   "source": [
    "dt.head() ## 로그 변환이 잘 되었다"
   ]
  },
  {
   "cell_type": "markdown",
   "id": "6221f0ab-4b0b-480f-b4fd-cb0d735ed659",
   "metadata": {},
   "source": [
    "## 모델링(부스팅)"
   ]
  },
  {
   "cell_type": "markdown",
   "id": "c384127c-451b-4652-881b-f7f5b6e858a4",
   "metadata": {},
   "source": [
    "`-` 여러가지 부스팅 모델을 사용해보자"
   ]
  },
  {
   "cell_type": "markdown",
   "id": "30cfe877-3d11-4283-96cc-3f8f32451993",
   "metadata": {},
   "source": [
    "### 스케일링\n",
    "\n",
    "`-` z-점수 스케일링이나 로버스트 스케일링이나 비슷하다\n",
    "\n",
    "`-` 계수를 통해 Overall_Qual과 Gr_Liv_Area이 매우 중요하며 그 다음은 Bsmt_Qual이다\n",
    "\n",
    "`-` Kitchen_Qual과 Total_Bsmt_SF이 그 다음이며 나머지는 비슷하다"
   ]
  },
  {
   "cell_type": "code",
   "execution_count": 80,
   "id": "79900d87-0643-4c53-b174-065ac90690e3",
   "metadata": {},
   "outputs": [],
   "source": [
    "from sklearn.preprocessing import StandardScaler"
   ]
  },
  {
   "cell_type": "code",
   "execution_count": 81,
   "id": "20bcef91-0e8d-4c11-89db-82417ddd6770",
   "metadata": {},
   "outputs": [],
   "source": [
    "## z-score 스케일러 생성\n",
    "standard_scaler = StandardScaler()\n",
    "\n",
    "## 스케일링\n",
    "dt_scaled = standard_scaler.fit_transform(dt)\n",
    "dt_scaled_df = pd.DataFrame(data = dt_scaled, columns = dt.columns)"
   ]
  },
  {
   "cell_type": "code",
   "execution_count": 82,
   "id": "74a9eee2-d7a4-40ab-9248-06567118cd68",
   "metadata": {},
   "outputs": [
    {
     "data": {
      "text/html": [
       "<div>\n",
       "<style scoped>\n",
       "    .dataframe tbody tr th:only-of-type {\n",
       "        vertical-align: middle;\n",
       "    }\n",
       "\n",
       "    .dataframe tbody tr th {\n",
       "        vertical-align: top;\n",
       "    }\n",
       "\n",
       "    .dataframe thead th {\n",
       "        text-align: right;\n",
       "    }\n",
       "</style>\n",
       "<table border=\"1\" class=\"dataframe\">\n",
       "  <thead>\n",
       "    <tr style=\"text-align: right;\">\n",
       "      <th></th>\n",
       "      <th>Overall_Qual</th>\n",
       "      <th>Gr_Liv_Area</th>\n",
       "      <th>Exter_Qual</th>\n",
       "      <th>Garage_Cars</th>\n",
       "      <th>Garage_Area</th>\n",
       "      <th>Kitchen_Qual</th>\n",
       "      <th>Total_Bsmt_SF</th>\n",
       "      <th>First_Flr_SF</th>\n",
       "      <th>Bsmt_Qual</th>\n",
       "      <th>Full_Bath</th>\n",
       "      <th>gap_year_now_bulit</th>\n",
       "    </tr>\n",
       "  </thead>\n",
       "  <tbody>\n",
       "    <tr>\n",
       "      <th>0</th>\n",
       "      <td>2.955073</td>\n",
       "      <td>1.679132</td>\n",
       "      <td>2.822267</td>\n",
       "      <td>1.762432</td>\n",
       "      <td>1.909881</td>\n",
       "      <td>2.232825</td>\n",
       "      <td>2.375787</td>\n",
       "      <td>2.479985</td>\n",
       "      <td>2.041109</td>\n",
       "      <td>0.815269</td>\n",
       "      <td>-1.030914</td>\n",
       "    </tr>\n",
       "    <tr>\n",
       "      <th>1</th>\n",
       "      <td>0.626179</td>\n",
       "      <td>-0.197651</td>\n",
       "      <td>1.037875</td>\n",
       "      <td>0.213310</td>\n",
       "      <td>0.005244</td>\n",
       "      <td>0.693704</td>\n",
       "      <td>0.801414</td>\n",
       "      <td>0.644440</td>\n",
       "      <td>2.041109</td>\n",
       "      <td>0.815269</td>\n",
       "      <td>-1.134062</td>\n",
       "    </tr>\n",
       "    <tr>\n",
       "      <th>2</th>\n",
       "      <td>-0.926417</td>\n",
       "      <td>-1.536280</td>\n",
       "      <td>-0.746518</td>\n",
       "      <td>-1.335811</td>\n",
       "      <td>-1.248520</td>\n",
       "      <td>-0.845416</td>\n",
       "      <td>-0.434164</td>\n",
       "      <td>-0.664775</td>\n",
       "      <td>-0.875701</td>\n",
       "      <td>-1.021159</td>\n",
       "      <td>0.206866</td>\n",
       "    </tr>\n",
       "    <tr>\n",
       "      <th>3</th>\n",
       "      <td>-0.926417</td>\n",
       "      <td>-0.662018</td>\n",
       "      <td>-0.746518</td>\n",
       "      <td>0.213310</td>\n",
       "      <td>0.557376</td>\n",
       "      <td>0.693704</td>\n",
       "      <td>-1.094989</td>\n",
       "      <td>-1.566557</td>\n",
       "      <td>-0.875701</td>\n",
       "      <td>-1.021159</td>\n",
       "      <td>2.510511</td>\n",
       "    </tr>\n",
       "    <tr>\n",
       "      <th>4</th>\n",
       "      <td>0.626179</td>\n",
       "      <td>1.020562</td>\n",
       "      <td>1.037875</td>\n",
       "      <td>1.762432</td>\n",
       "      <td>1.822298</td>\n",
       "      <td>0.693704</td>\n",
       "      <td>0.040043</td>\n",
       "      <td>-0.243234</td>\n",
       "      <td>0.582704</td>\n",
       "      <td>0.815269</td>\n",
       "      <td>-1.099679</td>\n",
       "    </tr>\n",
       "  </tbody>\n",
       "</table>\n",
       "</div>"
      ],
      "text/plain": [
       "   Overall_Qual  Gr_Liv_Area  Exter_Qual  Garage_Cars  Garage_Area  \\\n",
       "0      2.955073     1.679132    2.822267     1.762432     1.909881   \n",
       "1      0.626179    -0.197651    1.037875     0.213310     0.005244   \n",
       "2     -0.926417    -1.536280   -0.746518    -1.335811    -1.248520   \n",
       "3     -0.926417    -0.662018   -0.746518     0.213310     0.557376   \n",
       "4      0.626179     1.020562    1.037875     1.762432     1.822298   \n",
       "\n",
       "   Kitchen_Qual  Total_Bsmt_SF  First_Flr_SF  Bsmt_Qual  Full_Bath  \\\n",
       "0      2.232825       2.375787      2.479985   2.041109   0.815269   \n",
       "1      0.693704       0.801414      0.644440   2.041109   0.815269   \n",
       "2     -0.845416      -0.434164     -0.664775  -0.875701  -1.021159   \n",
       "3      0.693704      -1.094989     -1.566557  -0.875701  -1.021159   \n",
       "4      0.693704       0.040043     -0.243234   0.582704   0.815269   \n",
       "\n",
       "   gap_year_now_bulit  \n",
       "0           -1.030914  \n",
       "1           -1.134062  \n",
       "2            0.206866  \n",
       "3            2.510511  \n",
       "4           -1.099679  "
      ]
     },
     "execution_count": 82,
     "metadata": {},
     "output_type": "execute_result"
    }
   ],
   "source": [
    "dt_scaled_df.head()"
   ]
  },
  {
   "cell_type": "markdown",
   "id": "49ea2f60-542f-4857-8ed3-b27632f5459a",
   "metadata": {},
   "source": [
    "`-` 또한 Qual 관련 변수로 Overall Qual만 사용해봤는데 성능이 더 안좋게 나왔다(선형 회귀)\n",
    "\n",
    "`-` 그래서 Qual 관련 변수를 추가했다\n",
    "\n",
    "`-` 또한 현재 연도에서 완공 연도의 차이를 파생변수로 만들어 추가했다\n",
    "\n",
    "`-` 사실 연도 변수는 포함시킬지 말지 고민했다\n",
    "\n",
    "`-` 최근 연도일수록 집값이 평균적으로 높을텐데\n",
    "\n",
    "`-` 이는 연도때문이라기 보다는 다른 변수에 의한 것이라 생각했기 때문이다\n",
    "\n",
    "`-` 예컨대 과거에는 기술 등의 문제로 더 좋은 건물을 짓지 못했지만 최근에는 가능해진 상황\n",
    "\n",
    "`-` 하지만 train 셋에 포함된 피쳐외의 특징을 연도 피쳐가 가지고 있을 수 있으니 포함하고 모델링 해보기로 했다"
   ]
  },
  {
   "cell_type": "markdown",
   "id": "7a8f4e93-64dd-4c5b-9b23-94c80d5b4923",
   "metadata": {},
   "source": [
    "### 교차 검증"
   ]
  },
  {
   "cell_type": "code",
   "execution_count": 40,
   "id": "dc1e983d-5f81-4680-a6f1-d1444d616a88",
   "metadata": {},
   "outputs": [],
   "source": [
    "from sklearn.ensemble import RandomForestRegressor, GradientBoostingRegressor  \n",
    "from xgboost import XGBRegressor \n",
    "from lightgbm import LGBMRegressor \n",
    "from catboost import CatBoostRegressor\n",
    "from sklearn.model_selection import GridSearchCV, train_test_split, cross_validate, KFold\n",
    "from sklearn.metrics import make_scorer"
   ]
  },
  {
   "cell_type": "code",
   "execution_count": 84,
   "id": "b55ef2e8-22fa-4a39-9c38-3921084494d3",
   "metadata": {},
   "outputs": [],
   "source": [
    "x_train, x_valid, y_train, y_valid = train_test_split(dt_scaled_df, target, shuffle = True, test_size = 0.2, random_state = 22)"
   ]
  },
  {
   "cell_type": "code",
   "execution_count": 85,
   "id": "4a3c9888-6153-4bbf-9866-205392aa4946",
   "metadata": {},
   "outputs": [],
   "source": [
    "log_y_train = np.log(y_train)"
   ]
  },
  {
   "cell_type": "markdown",
   "id": "88e65d54-da48-4382-987c-54bee814d00d",
   "metadata": {},
   "source": [
    "`-` 데이터를 train과 valid로 나눈다\n",
    "\n",
    "`-` 그리고 train에 대해 교차검증(train을 train2와 valid2로 나누어 모형을 평가)을 한다\n",
    "\n",
    "`-` 그리고 교차검증에 사용한 모델로 valid를 평가한다\n",
    "\n",
    "`-` 교차검증을 통해 측정한 성능과 valid로 측정한 성능이 둘 다 좋다면 괜찮은 모델이다"
   ]
  },
  {
   "cell_type": "code",
   "execution_count": 37,
   "id": "dd9638ab-e80b-4c23-9fe6-35f25a4b8a04",
   "metadata": {},
   "outputs": [],
   "source": [
    "def NMAE(true, pred):\n",
    "    mae = np.mean(np.abs(true - pred))\n",
    "    score = mae / np.mean(np.abs(true))\n",
    "    return score"
   ]
  },
  {
   "cell_type": "code",
   "execution_count": 38,
   "id": "457cae7f-186c-480d-9e68-0ae3bb0b8c86",
   "metadata": {},
   "outputs": [],
   "source": [
    "def my_custom_loss_func(true, pred):\n",
    "    return NMAE(np.exp(true), np.exp(pred)) ## 로그 변환을 위한 손실 함수"
   ]
  },
  {
   "cell_type": "code",
   "execution_count": 41,
   "id": "3462e665-19d6-468d-bd18-285fa2932d2a",
   "metadata": {},
   "outputs": [],
   "source": [
    "score = make_scorer(my_custom_loss_func, greater_is_better = False) ## 작을수록 좋다 "
   ]
  },
  {
   "cell_type": "code",
   "execution_count": 149,
   "id": "648ef0f1-a794-458f-b56e-0bd8ad0389a1",
   "metadata": {},
   "outputs": [],
   "source": [
    "gb = GradientBoostingRegressor(random_state = 22, n_estimators = 500, learning_rate = 0.03, max_depth = 3)\n",
    "cb = CatBoostRegressor(random_state = 222, learning_rate = 0.03, n_estimators = 500, depth = 3, loss_function = 'MAE', verbose = 0)\n",
    "xgb = XGBRegressor(random_state = 22, n_estimators = 500,  max_depth = 3, learning_rate = 0.03) \n",
    "lgb = LGBMRegressor(random_state = 22, n_estimators = 500, max_depth = 3, learning_rate = 0.03)"
   ]
  },
  {
   "cell_type": "code",
   "execution_count": 131,
   "id": "70f079f8-6c1a-484d-a3d2-5dec91320137",
   "metadata": {},
   "outputs": [
    {
     "name": "stdout",
     "output_type": "stream",
     "text": [
      "---------------------------------------------\n",
      "교차 검증별 NMAE:  [0.09825523 0.11957861 0.09228815 0.1009453  0.08686296 0.08607822\n",
      " 0.09723404 0.08882254 0.09167116 0.07969104]\n",
      "평균 교차 검증 NMAE:  0.09414272571258657\n",
      "valid에 대한 검증 NMAE:  0.09327363829345853\n",
      "---------------------------------------------\n",
      "교차 검증별 NMAE:  [0.09168768 0.11198073 0.09045588 0.10705738 0.08097689 0.07740045\n",
      " 0.10341037 0.0884669  0.0949103  0.07875323]\n",
      "평균 교차 검증 NMAE:  0.09250998090891124\n",
      "valid에 대한 검증 NMAE:  0.09537103423527143\n",
      "---------------------------------------------\n",
      "교차 검증별 NMAE:  [0.09469139 0.11876199 0.09434135 0.1018124  0.08281141 0.08264961\n",
      " 0.09394308 0.09010295 0.09143423 0.08040145]\n",
      "평균 교차 검증 NMAE:  0.09309498670321215\n",
      "valid에 대한 검증 NMAE:  0.09646062690079403\n",
      "---------------------------------------------\n",
      "교차 검증별 NMAE:  [0.09354834 0.11601373 0.08962922 0.0981409  0.08753513 0.08450661\n",
      " 0.09786521 0.08918322 0.09336603 0.07587111]\n",
      "평균 교차 검증 NMAE:  0.09256595140948579\n",
      "valid에 대한 검증 NMAE:  0.0951102884570039\n"
     ]
    }
   ],
   "source": [
    "for model in [gb, cb, xgb, lgb]:\n",
    "    scores = cross_validate(model, x_train, log_y_train, scoring = score, cv = 10)\n",
    "    model.fit(x_train, log_y_train)\n",
    "    print('---------------------------------------------')\n",
    "    print('교차 검증별 NMAE: ', -scores['test_score'])\n",
    "    print('평균 교차 검증 NMAE: ', np.mean(-scores['test_score']))\n",
    "    print('valid에 대한 검증 NMAE: ', NMAE(y_valid, np.exp(model.predict(x_valid))))"
   ]
  },
  {
   "cell_type": "markdown",
   "id": "f1b17dde-4f80-4d94-9577-291ee5c78d69",
   "metadata": {},
   "source": [
    "`-` Adaboost를 제외하면 성능이 괜찮다"
   ]
  },
  {
   "cell_type": "markdown",
   "id": "0b94523f-9ad2-400e-86d8-2b1f4c2bd5bf",
   "metadata": {
    "tags": []
   },
   "source": [
    "### 앙상블"
   ]
  },
  {
   "cell_type": "markdown",
   "id": "46bc2129-8db3-4581-abb6-ed9e61e8b0f5",
   "metadata": {},
   "source": [
    "`-` 위에서 만든 모델을 섞어 test 데이터를 예측하자"
   ]
  },
  {
   "cell_type": "code",
   "execution_count": 138,
   "id": "6c9c036a-0e23-4ebb-83a4-22f2713df612",
   "metadata": {},
   "outputs": [],
   "source": [
    "test['gap_year_now_bulit'] = 2022 - test['Year_Built']"
   ]
  },
  {
   "cell_type": "markdown",
   "id": "c9aff041-44f0-48dc-a7ab-24e61fd54a73",
   "metadata": {},
   "source": [
    "`-` train 셋에 포함된 피쳐외의 특징을 연도 피쳐가 가지고 있을 수 있으니 연도 변수로 위의 파생 변수를 사용하자"
   ]
  },
  {
   "cell_type": "code",
   "execution_count": 139,
   "id": "4d0cf0bf-d401-4c9b-8420-651f304cf96d",
   "metadata": {},
   "outputs": [],
   "source": [
    "test.drop(['Year_Built', 'Year_Remod_Add', 'Garage_Yr_Blt'], axis = 1, inplace = True)"
   ]
  },
  {
   "cell_type": "markdown",
   "id": "2cc5f31b-16fd-4cd4-b8c2-958db30c5881",
   "metadata": {},
   "source": [
    "`-` 차고 면적은 차고 자리 개수와 관련이 있다\n",
    "\n",
    "`-` 차고 자리 개수에 따라 차고 면적의 분포가 다름\n",
    "\n",
    "`-` 그렇기에 원핫인코딩을 하고 둘을 곱한 파생 변수를 만들고 로그 변환을 해주자(오른쪽으로 꼬리가 긴 분포)\n",
    "\n",
    "`-` 그런데 일단은 하지 말자(하지 말고 그냥 드랍하자)"
   ]
  },
  {
   "cell_type": "markdown",
   "id": "99eaf215-7592-4fa5-97df-31cf1035c997",
   "metadata": {},
   "source": [
    "`-` 지상층 생활 면적과 1층 면적과 지하실 면적과 연도를 로그 변환하자(오른쪽으로 꼬리가 긴 분포)"
   ]
  },
  {
   "cell_type": "code",
   "execution_count": 140,
   "id": "83041308-d5eb-4d9b-8989-58d0a6eb7932",
   "metadata": {},
   "outputs": [],
   "source": [
    "test['Gr_Liv_Area'] = np.log(test['Gr_Liv_Area'])\n",
    "test['Garage_Area'] = np.log(test['Garage_Area'])\n",
    "test['First_Flr_SF'] = np.log(test['First_Flr_SF'])\n",
    "test['Total_Bsmt_SF'] = np.log(test['Total_Bsmt_SF'])"
   ]
  },
  {
   "cell_type": "code",
   "execution_count": 141,
   "id": "372f0a37-edfc-4eed-b5a3-c6cdefc0b03f",
   "metadata": {},
   "outputs": [],
   "source": [
    "for col in test.columns[test.dtypes == 'object']:\n",
    "    test[col] = test[col].apply(lambda x: label_encoding(x))"
   ]
  },
  {
   "cell_type": "code",
   "execution_count": 142,
   "id": "299a5458-3ea1-4f65-baf7-1dba65a6a4de",
   "metadata": {},
   "outputs": [],
   "source": [
    "test_scaled = standard_scaler.transform(test)\n",
    "test_scaled_df = pd.DataFrame(data = test_scaled, columns = test.columns)"
   ]
  },
  {
   "cell_type": "code",
   "execution_count": 144,
   "id": "61056e58-434a-4747-a8cd-2a700b3f28d8",
   "metadata": {},
   "outputs": [
    {
     "data": {
      "text/html": [
       "<div>\n",
       "<style scoped>\n",
       "    .dataframe tbody tr th:only-of-type {\n",
       "        vertical-align: middle;\n",
       "    }\n",
       "\n",
       "    .dataframe tbody tr th {\n",
       "        vertical-align: top;\n",
       "    }\n",
       "\n",
       "    .dataframe thead th {\n",
       "        text-align: right;\n",
       "    }\n",
       "</style>\n",
       "<table border=\"1\" class=\"dataframe\">\n",
       "  <thead>\n",
       "    <tr style=\"text-align: right;\">\n",
       "      <th></th>\n",
       "      <th>Overall_Qual</th>\n",
       "      <th>Gr_Liv_Area</th>\n",
       "      <th>Exter_Qual</th>\n",
       "      <th>Garage_Cars</th>\n",
       "      <th>Garage_Area</th>\n",
       "      <th>Kitchen_Qual</th>\n",
       "      <th>Total_Bsmt_SF</th>\n",
       "      <th>First_Flr_SF</th>\n",
       "      <th>Bsmt_Qual</th>\n",
       "      <th>Full_Bath</th>\n",
       "      <th>gap_year_now_bulit</th>\n",
       "    </tr>\n",
       "  </thead>\n",
       "  <tbody>\n",
       "    <tr>\n",
       "      <th>0</th>\n",
       "      <td>2.178775</td>\n",
       "      <td>0.743798</td>\n",
       "      <td>1.037875</td>\n",
       "      <td>0.213310</td>\n",
       "      <td>1.072783</td>\n",
       "      <td>2.232825</td>\n",
       "      <td>1.591165</td>\n",
       "      <td>1.565202</td>\n",
       "      <td>2.041109</td>\n",
       "      <td>0.815269</td>\n",
       "      <td>-1.168445</td>\n",
       "    </tr>\n",
       "    <tr>\n",
       "      <th>1</th>\n",
       "      <td>-0.150119</td>\n",
       "      <td>-0.930456</td>\n",
       "      <td>-0.746518</td>\n",
       "      <td>-1.335811</td>\n",
       "      <td>-1.723533</td>\n",
       "      <td>-0.845416</td>\n",
       "      <td>0.186688</td>\n",
       "      <td>-0.072262</td>\n",
       "      <td>-0.875701</td>\n",
       "      <td>-1.021159</td>\n",
       "      <td>0.860138</td>\n",
       "    </tr>\n",
       "    <tr>\n",
       "      <th>2</th>\n",
       "      <td>-0.150119</td>\n",
       "      <td>0.300372</td>\n",
       "      <td>1.037875</td>\n",
       "      <td>0.213310</td>\n",
       "      <td>-0.144332</td>\n",
       "      <td>0.693704</td>\n",
       "      <td>-0.802633</td>\n",
       "      <td>-1.170850</td>\n",
       "      <td>0.582704</td>\n",
       "      <td>0.815269</td>\n",
       "      <td>-0.927765</td>\n",
       "    </tr>\n",
       "    <tr>\n",
       "      <th>3</th>\n",
       "      <td>-0.150119</td>\n",
       "      <td>1.748530</td>\n",
       "      <td>1.037875</td>\n",
       "      <td>1.762432</td>\n",
       "      <td>1.224174</td>\n",
       "      <td>0.693704</td>\n",
       "      <td>0.374006</td>\n",
       "      <td>0.146130</td>\n",
       "      <td>0.582704</td>\n",
       "      <td>0.815269</td>\n",
       "      <td>-1.065296</td>\n",
       "    </tr>\n",
       "    <tr>\n",
       "      <th>4</th>\n",
       "      <td>-0.926417</td>\n",
       "      <td>-1.060687</td>\n",
       "      <td>-0.746518</td>\n",
       "      <td>0.213310</td>\n",
       "      <td>1.012715</td>\n",
       "      <td>-0.845416</td>\n",
       "      <td>0.077441</td>\n",
       "      <td>-0.199632</td>\n",
       "      <td>-0.875701</td>\n",
       "      <td>-1.021159</td>\n",
       "      <td>0.172483</td>\n",
       "    </tr>\n",
       "  </tbody>\n",
       "</table>\n",
       "</div>"
      ],
      "text/plain": [
       "   Overall_Qual  Gr_Liv_Area  Exter_Qual  Garage_Cars  Garage_Area  \\\n",
       "0      2.178775     0.743798    1.037875     0.213310     1.072783   \n",
       "1     -0.150119    -0.930456   -0.746518    -1.335811    -1.723533   \n",
       "2     -0.150119     0.300372    1.037875     0.213310    -0.144332   \n",
       "3     -0.150119     1.748530    1.037875     1.762432     1.224174   \n",
       "4     -0.926417    -1.060687   -0.746518     0.213310     1.012715   \n",
       "\n",
       "   Kitchen_Qual  Total_Bsmt_SF  First_Flr_SF  Bsmt_Qual  Full_Bath  \\\n",
       "0      2.232825       1.591165      1.565202   2.041109   0.815269   \n",
       "1     -0.845416       0.186688     -0.072262  -0.875701  -1.021159   \n",
       "2      0.693704      -0.802633     -1.170850   0.582704   0.815269   \n",
       "3      0.693704       0.374006      0.146130   0.582704   0.815269   \n",
       "4     -0.845416       0.077441     -0.199632  -0.875701  -1.021159   \n",
       "\n",
       "   gap_year_now_bulit  \n",
       "0           -1.168445  \n",
       "1            0.860138  \n",
       "2           -0.927765  \n",
       "3           -1.065296  \n",
       "4            0.172483  "
      ]
     },
     "execution_count": 144,
     "metadata": {},
     "output_type": "execute_result"
    }
   ],
   "source": [
    "test_scaled_df.head() ## 로그 변환이 잘 되었다"
   ]
  },
  {
   "cell_type": "code",
   "execution_count": 145,
   "id": "7c397045-c09c-4d17-958a-0b424fe68a21",
   "metadata": {},
   "outputs": [],
   "source": [
    "kfold = KFold(n_splits = 10, random_state = 22, shuffle = True)"
   ]
  },
  {
   "cell_type": "code",
   "execution_count": 148,
   "id": "719d4308-3a38-4763-8df7-d20d49c9ccf2",
   "metadata": {},
   "outputs": [],
   "source": [
    "log_target = np.log(target)"
   ]
  },
  {
   "cell_type": "markdown",
   "id": "f75a226f-ec39-4f8f-8208-7746deff20b6",
   "metadata": {},
   "source": [
    "`-` cat 부스트"
   ]
  },
  {
   "cell_type": "code",
   "execution_count": 151,
   "id": "53c98106-a932-4569-bc67-8f4691757b0f",
   "metadata": {},
   "outputs": [],
   "source": [
    "cb_valid = []\n",
    "cb_predict = np.zeros(test.shape[0])\n",
    "\n",
    "for train_idx, valid_idx in kfold.split(dt_scaled_df, log_target):\n",
    "    x_train, y_train = dt_scaled_df.iloc[train_idx], log_target.iloc[train_idx]\n",
    "    x_valid, y_valid = dt_scaled_df.iloc[valid_idx], np.exp(log_target.iloc[valid_idx])\n",
    "    \n",
    "    cb = CatBoostRegressor(random_state = 222, learning_rate = 0.03, n_estimators = 500, depth = 3, loss_function = 'MAE', verbose = 0)\n",
    "    cb.fit(x_train, y_train)\n",
    "    y_predict = np.exp(cb.predict(x_valid)) ## valid셋 예측\n",
    "    test_predict = np.exp(cb.predict(test_scaled_df)) ## test셋 예측\n",
    "\n",
    "    cb_valid.append(NMAE(y_predict, y_valid)) ## valid 예측값\n",
    "    cb_predict += test_predict / 10 ## test 예측값(10 Fold)"
   ]
  },
  {
   "cell_type": "markdown",
   "id": "1f25db39-5b04-4af4-a210-038cf7ed2839",
   "metadata": {},
   "source": [
    "`-` 그래디언트 부스트"
   ]
  },
  {
   "cell_type": "code",
   "execution_count": 152,
   "id": "b739ddd7-6c00-4ede-b64b-f0877dfd2a53",
   "metadata": {},
   "outputs": [],
   "source": [
    "gb_valid = []\n",
    "gb_predict = np.zeros(test.shape[0])\n",
    "\n",
    "for train_idx, valid_idx in kfold.split(dt_scaled_df, log_target):\n",
    "    x_train, y_train = dt_scaled_df.iloc[train_idx], log_target.iloc[train_idx]\n",
    "    x_valid, y_valid = dt_scaled_df.iloc[valid_idx], np.exp(log_target.iloc[valid_idx])\n",
    "    \n",
    "    gb = GradientBoostingRegressor(random_state = 22, n_estimators = 500, learning_rate = 0.03, max_depth = 3) \n",
    "    gb.fit(x_train, y_train)\n",
    "    y_predict = np.exp(gb.predict(x_valid)) ## valid셋 예측\n",
    "    test_predict = np.exp(gb.predict(test_scaled_df)) ## test셋 예측\n",
    "\n",
    "    gb_valid.append(NMAE(y_predict, y_valid)) ## valid 예측값\n",
    "    gb_predict += test_predict / 10 ## test 예측값(10 Fold)"
   ]
  },
  {
   "cell_type": "markdown",
   "id": "c17c2a9c-6d47-4fc3-a3a6-aa86a87241c9",
   "metadata": {},
   "source": [
    "`-` xgb"
   ]
  },
  {
   "cell_type": "code",
   "execution_count": 153,
   "id": "94ff7820-b4a2-45ad-8782-33b2c7dc1573",
   "metadata": {},
   "outputs": [],
   "source": [
    "xgb_valid = []\n",
    "xgb_predict = np.zeros(test.shape[0])\n",
    "\n",
    "for train_idx, valid_idx in kfold.split(dt_scaled_df, log_target):\n",
    "    x_train, y_train = dt_scaled_df.iloc[train_idx], log_target.iloc[train_idx]\n",
    "    x_valid, y_valid = dt_scaled_df.iloc[valid_idx], np.exp(log_target.iloc[valid_idx])\n",
    "    \n",
    "    xgb = XGBRegressor(random_state = 22, n_estimators = 500, learning_rate = 0.03, max_depth = 3) \n",
    "    xgb.fit(x_train, y_train)\n",
    "    y_predict = np.exp(xgb.predict(x_valid)) ## valid셋 예측\n",
    "    test_predict = np.exp(xgb.predict(test_scaled_df)) ## test셋 예측\n",
    "\n",
    "    xgb_valid.append(NMAE(y_predict, y_valid)) ## valid 예측값\n",
    "    xgb_predict += test_predict / 10 ## test 예측값(10 Fold)"
   ]
  },
  {
   "cell_type": "markdown",
   "id": "ebe2ab7f-5f8c-45e6-92a1-43299ce1805b",
   "metadata": {},
   "source": [
    "`-` lgbm"
   ]
  },
  {
   "cell_type": "code",
   "execution_count": 154,
   "id": "e3d72cc9-8397-4982-b999-025e2b0d7027",
   "metadata": {},
   "outputs": [],
   "source": [
    "lgb_valid = []\n",
    "lgb_predict = np.zeros(test.shape[0])\n",
    "\n",
    "for train_idx, valid_idx in kfold.split(dt_scaled_df, log_target):\n",
    "    x_train, y_train = dt_scaled_df.iloc[train_idx], log_target.iloc[train_idx]\n",
    "    x_valid, y_valid = dt_scaled_df.iloc[valid_idx], np.exp(log_target.iloc[valid_idx])\n",
    "    \n",
    "    lgb = LGBMRegressor(random_state = 22, n_estimators = 700, max_depth = 3, learning_rate = 0.03)\n",
    "    lgb.fit(x_train, y_train)\n",
    "    y_predict = np.exp(lgb.predict(x_valid)) ## valid셋 예측\n",
    "    test_predict = np.exp(lgb.predict(test_scaled_df)) ## test셋 예측\n",
    "\n",
    "    lgb_valid.append(NMAE(y_predict, y_valid)) ## valid 예측값\n",
    "    lgb_predict += test_predict / 10 ## test 예측값(10 Fold)"
   ]
  },
  {
   "cell_type": "markdown",
   "id": "504cf3ce-a385-4dce-bd81-e270447bcfb5",
   "metadata": {},
   "source": [
    "`-` 4개의 모형을 앙상블하자"
   ]
  },
  {
   "cell_type": "code",
   "execution_count": 271,
   "id": "2d8cc55d-7fee-4d6c-b2b3-f4fabe4b85ea",
   "metadata": {},
   "outputs": [],
   "source": [
    "pred = (rf_predict + gb_predict + xgb_predict + lgb_predict) * 0.25 ## 예전 방식\n",
    "# pred = (gb_predict + xgb_predict + lgb_predict) / 3 ---> 이게 점수 더 잘나옴(랜덤 포레스트가 별로인 듯)\n",
    "# 점수는 0.10217이다"
   ]
  },
  {
   "cell_type": "code",
   "execution_count": 166,
   "id": "fd4155bc-94ac-44a6-8dbc-80458537259a",
   "metadata": {},
   "outputs": [],
   "source": [
    "pred = (cb_predict + gb_predict + xgb_predict + lgb_predict) / 4"
   ]
  },
  {
   "cell_type": "code",
   "execution_count": 159,
   "id": "2f6adefe-0492-4db9-9c32-0a7618cd2ade",
   "metadata": {},
   "outputs": [],
   "source": [
    "submission = pd.read_csv('C:/Users/Jaesu/github_desktop/Dacon-Basic/집값-예측/Data/sample_submission.csv')"
   ]
  },
  {
   "cell_type": "code",
   "execution_count": 167,
   "id": "1c9b5a6f-b843-439e-92db-2819d19e546e",
   "metadata": {},
   "outputs": [
    {
     "data": {
      "text/html": [
       "<div>\n",
       "<style scoped>\n",
       "    .dataframe tbody tr th:only-of-type {\n",
       "        vertical-align: middle;\n",
       "    }\n",
       "\n",
       "    .dataframe tbody tr th {\n",
       "        vertical-align: top;\n",
       "    }\n",
       "\n",
       "    .dataframe thead th {\n",
       "        text-align: right;\n",
       "    }\n",
       "</style>\n",
       "<table border=\"1\" class=\"dataframe\">\n",
       "  <thead>\n",
       "    <tr style=\"text-align: right;\">\n",
       "      <th></th>\n",
       "      <th>id</th>\n",
       "      <th>target</th>\n",
       "    </tr>\n",
       "  </thead>\n",
       "  <tbody>\n",
       "    <tr>\n",
       "      <th>0</th>\n",
       "      <td>1</td>\n",
       "      <td>338903.325696</td>\n",
       "    </tr>\n",
       "    <tr>\n",
       "      <th>1</th>\n",
       "      <td>2</td>\n",
       "      <td>132275.668027</td>\n",
       "    </tr>\n",
       "    <tr>\n",
       "      <th>2</th>\n",
       "      <td>3</td>\n",
       "      <td>175242.763379</td>\n",
       "    </tr>\n",
       "    <tr>\n",
       "      <th>3</th>\n",
       "      <td>4</td>\n",
       "      <td>246726.603024</td>\n",
       "    </tr>\n",
       "    <tr>\n",
       "      <th>4</th>\n",
       "      <td>5</td>\n",
       "      <td>134197.295835</td>\n",
       "    </tr>\n",
       "  </tbody>\n",
       "</table>\n",
       "</div>"
      ],
      "text/plain": [
       "   id         target\n",
       "0   1  338903.325696\n",
       "1   2  132275.668027\n",
       "2   3  175242.763379\n",
       "3   4  246726.603024\n",
       "4   5  134197.295835"
      ]
     },
     "execution_count": 167,
     "metadata": {},
     "output_type": "execute_result"
    }
   ],
   "source": [
    "## 위에서 구한 예측값을 그대로 넣어줌\n",
    "submission['target'] = pred\n",
    "\n",
    "## 데이터가 잘 들어갔는지 확인\n",
    "submission.head()"
   ]
  },
  {
   "cell_type": "code",
   "execution_count": 165,
   "id": "abec61e5-c0f7-4587-871b-c2f3b04329fb",
   "metadata": {},
   "outputs": [],
   "source": [
    "## submission을 csv 파일로 저장\n",
    "submission.to_csv('C:/Users/Jaesu/github_desktop/Dacon-Basic/집값-예측/Data/submission9.csv', index = False)"
   ]
  },
  {
   "cell_type": "markdown",
   "id": "e63871e3-fda7-45c0-b259-528b8c1b7c61",
   "metadata": {},
   "source": [
    "## 이상점 제거 X"
   ]
  },
  {
   "cell_type": "markdown",
   "id": "0cebd9e3-fcf3-4a58-88db-390f265aeb4a",
   "metadata": {},
   "source": [
    "`-` 이상점을 제거하지 않아봄(트리 기반 모델은 이상점에 덜 민감함)\n",
    "\n",
    "`-` 또한 표본이 그리 많지 않기에 이상점을 제거하지 않는것이 나을 수 있다(데이터는 소중)"
   ]
  },
  {
   "cell_type": "code",
   "execution_count": 134,
   "id": "92f1c191-396f-497b-87b9-e7a3c981c3ee",
   "metadata": {},
   "outputs": [],
   "source": [
    "dt = df.copy()"
   ]
  },
  {
   "cell_type": "markdown",
   "id": "00d4edd8-b27e-4536-8cf1-6a256912c4dd",
   "metadata": {},
   "source": [
    "`-` 차고 완공 연도 피쳐는 드랍(의미 없어 보인다)"
   ]
  },
  {
   "cell_type": "code",
   "execution_count": 135,
   "id": "8fb39d8b-f054-4700-81b1-853fa647da07",
   "metadata": {},
   "outputs": [],
   "source": [
    "dt.drop('Garage_Yr_Blt', axis = 1, inplace = True)\n",
    "#test.drop(['Year_Built', 'Year_Remod_Add', 'Garage_Yr_Blt'], axis = 1, inplace = True)"
   ]
  },
  {
   "cell_type": "code",
   "execution_count": 136,
   "id": "3877458f-d7d6-43be-9406-6842b804ad57",
   "metadata": {},
   "outputs": [],
   "source": [
    "target = dt['target']  ## target\n",
    "dt.drop('target', axis = 1, inplace = True)   ## target 제외한 데이터프레임"
   ]
  },
  {
   "cell_type": "markdown",
   "id": "49c7aa57-1c31-44ed-8313-f3aaddbd82fa",
   "metadata": {},
   "source": [
    "### 파생변수 생성"
   ]
  },
  {
   "cell_type": "markdown",
   "id": "40d8a6f6-64f8-4ffe-8807-12c4992dca1f",
   "metadata": {},
   "source": [
    "`-` 일단은 스케일링 하지 않음"
   ]
  },
  {
   "cell_type": "code",
   "execution_count": 24,
   "id": "9813c13d-5b8a-4fff-ab69-efdea3c2cd2c",
   "metadata": {},
   "outputs": [],
   "source": [
    "from sklearn.ensemble import RandomForestRegressor, GradientBoostingRegressor  \n",
    "from xgboost import XGBRegressor \n",
    "from lightgbm import LGBMRegressor \n",
    "from lightgbm import LGBMRegressor\n",
    "from catboost import CatBoostRegressor\n",
    "from sklearn.model_selection import GridSearchCV, train_test_split, cross_validate, KFold\n",
    "from sklearn.metrics import make_scorer"
   ]
  },
  {
   "cell_type": "code",
   "execution_count": 137,
   "id": "87ac7f78-463c-4969-a0e6-2b326ca574f6",
   "metadata": {},
   "outputs": [],
   "source": [
    "x_train, x_valid, y_train, y_valid = train_test_split(dt, target, shuffle = True, test_size = 0.2, random_state = 22)"
   ]
  },
  {
   "cell_type": "code",
   "execution_count": 138,
   "id": "8fbdd9b5-0c7e-461d-b3d7-4a369cbe8c9f",
   "metadata": {},
   "outputs": [],
   "source": [
    "log_y_train = np.log(y_train)"
   ]
  },
  {
   "cell_type": "markdown",
   "id": "add94e42-606d-4858-9fac-80b5c70e256a",
   "metadata": {},
   "source": [
    "`-` 데이터를 train과 valid로 나눈다\n",
    "\n",
    "`-` 그리고 train에 대해 교차검증(train을 train2와 valid2로 나누어 모형을 평가)을 한다\n",
    "\n",
    "`-` 그리고 교차검증에 사용한 모델로 valid를 평가한다\n",
    "\n",
    "`-` 교차검증을 통해 측정한 성능과 valid로 측정한 성능이 둘 다 좋다면 괜찮은 모델이다"
   ]
  },
  {
   "cell_type": "code",
   "execution_count": 61,
   "id": "f8fc27ca-b4ac-4203-924c-9e16b1f44971",
   "metadata": {},
   "outputs": [],
   "source": [
    "def NMAE(true, pred):\n",
    "    mae = np.mean(np.abs(true - pred))\n",
    "    score = mae / np.mean(np.abs(true))\n",
    "    return score"
   ]
  },
  {
   "cell_type": "code",
   "execution_count": 62,
   "id": "1fe3557a-9415-4d04-8f27-de0ef1430b10",
   "metadata": {},
   "outputs": [],
   "source": [
    "def my_custom_loss_func(true, pred):\n",
    "    return NMAE(np.exp(true), np.exp(pred)) ## 로그 변환을 위한 손실 함수"
   ]
  },
  {
   "cell_type": "code",
   "execution_count": 63,
   "id": "7b0e87e3-c2cf-485c-a04c-ffa9bf372c47",
   "metadata": {},
   "outputs": [],
   "source": [
    "score = make_scorer(my_custom_loss_func, greater_is_better = False) ## 작을수록 좋다 "
   ]
  },
  {
   "cell_type": "code",
   "execution_count": 30,
   "id": "967e3207-cfeb-4bf5-8631-bafb9a41431f",
   "metadata": {},
   "outputs": [],
   "source": [
    "rf = RandomForestRegressor(random_state = 22, criterion = 'mae')"
   ]
  },
  {
   "cell_type": "code",
   "execution_count": 139,
   "id": "605221f2-967a-4ced-a05b-2f2a123b4b07",
   "metadata": {},
   "outputs": [],
   "source": [
    "log_target = np.log(target)"
   ]
  },
  {
   "cell_type": "code",
   "execution_count": 140,
   "id": "16515994-b136-411a-9269-2c14c662ed0a",
   "metadata": {},
   "outputs": [
    {
     "name": "stdout",
     "output_type": "stream",
     "text": [
      "-----------------랜덤포레스트---------------------\n",
      "교차 검증별 NMAE:  [0.0951445  0.09767047 0.10612592 0.09043182 0.0955651  0.08948114\n",
      " 0.10456766 0.10078583 0.10263118 0.09592502]\n",
      "평균 교차 검증 NMAE:  0.09783286296007823\n",
      "valid에 대한 검증 NMAE:  0.1007880289159616\n"
     ]
    }
   ],
   "source": [
    "scores = cross_validate(rf, dt, log_target, scoring = score, cv = 10)\n",
    "rf.fit(x_train, log_y_train)\n",
    "print('-----------------랜덤포레스트---------------------')\n",
    "print('교차 검증별 NMAE: ', abs(scores['test_score']))\n",
    "print('평균 교차 검증 NMAE: ', np.mean(abs(scores['test_score'])))\n",
    "print('valid에 대한 검증 NMAE: ', NMAE(y_valid, np.exp(rf.predict(x_valid))))"
   ]
  },
  {
   "cell_type": "code",
   "execution_count": 32,
   "id": "95e390dd-81b8-490c-a8bb-03cac7e6d5c7",
   "metadata": {},
   "outputs": [
    {
     "name": "stdout",
     "output_type": "stream",
     "text": [
      "-----------------랜덤포레스트---------------------\n",
      "교차 검증별 NMAE:  [0.09518406 0.09781884 0.10490807 0.09290233 0.09542523 0.08894368\n",
      " 0.10595646 0.10108673 0.10330389 0.0964076 ]\n",
      "평균 교차 검증 NMAE:  0.09819368951488101\n",
      "valid에 대한 검증 NMAE:  0.10126586786131081\n"
     ]
    }
   ],
   "source": [
    "scores = cross_validate(rf, dt, log_target, scoring = score, cv = 10)\n",
    "rf.fit(x_train, log_y_train)\n",
    "print('-----------------랜덤포레스트---------------------')\n",
    "print('교차 검증별 NMAE: ', abs(scores['test_score']))\n",
    "print('평균 교차 검증 NMAE: ', np.mean(abs(scores['test_score'])))\n",
    "print('valid에 대한 검증 NMAE: ', NMAE(y_valid, np.exp(rf.predict(x_valid))))"
   ]
  },
  {
   "cell_type": "code",
   "execution_count": 33,
   "id": "de5cb21f-478c-4d38-8ed6-668b0dd0b199",
   "metadata": {},
   "outputs": [
    {
     "data": {
      "text/plain": [
       "RandomForestRegressor(criterion='mae', random_state=22)"
      ]
     },
     "execution_count": 33,
     "metadata": {},
     "output_type": "execute_result"
    }
   ],
   "source": [
    "rf.fit(dt, target)"
   ]
  },
  {
   "cell_type": "code",
   "execution_count": 142,
   "id": "d85af640-07b7-4814-b0b4-140bae433341",
   "metadata": {},
   "outputs": [
    {
     "data": {
      "text/plain": [
       "{'Overall_Qual': 0.3378385327427716,\n",
       " 'Gr_Liv_Area': 0.1468019580807601,\n",
       " 'Exter_Qual': 0.011952640943769247,\n",
       " 'Garage_Cars': 0.010421908555938442,\n",
       " 'Garage_Area': 0.12440988468275409,\n",
       " 'Kitchen_Qual': 0.011950246437489973,\n",
       " 'Total_Bsmt_SF': 0.07641459733627338,\n",
       " 'First_Flr_SF': 0.09086582072221813,\n",
       " 'Bsmt_Qual': 0.018361467288149972,\n",
       " 'Full_Bath': 0.058033644454802774,\n",
       " 'Year_Built': 0.06463448204518264,\n",
       " 'Year_Remod_Add': 0.04831481670988958}"
      ]
     },
     "execution_count": 142,
     "metadata": {},
     "output_type": "execute_result"
    }
   ],
   "source": [
    "dict(zip(rf.feature_names_in_, rf.feature_importances_)) ## 연도 피쳐 포함"
   ]
  },
  {
   "cell_type": "markdown",
   "id": "3d147873-3fc2-4511-a2a4-f21b44bea3a5",
   "metadata": {},
   "source": [
    "`-` 쓸모없는 변수 : Exter_Qual, Garage_Cars, Kitchen_Qual, Bsmt_Qual, Garage_Yr_Blt"
   ]
  },
  {
   "cell_type": "code",
   "execution_count": 262,
   "id": "5da290e5-5af6-4b47-ad54-84c94c9577ec",
   "metadata": {},
   "outputs": [
    {
     "data": {
      "text/plain": [
       "{'Overall_Qual': 0.37293462948796124,\n",
       " 'Gr_Liv_Area': 0.16089608391551238,\n",
       " 'Garage_Cars': 0.014278231901710847,\n",
       " 'Garage_Area': 0.12494360623796022,\n",
       " 'Total_Bsmt_SF': 0.10065061657514864,\n",
       " 'First_Flr_SF': 0.0935867623506591,\n",
       " 'Full_Bath': 0.06402602105445104,\n",
       " 'ord_Exter_Qual': 0.012468516017666686,\n",
       " 'ord_Kitchen_Qual': 0.019439162543942744,\n",
       " 'ord_Bsmt_Qual': 0.036776369914987075}"
      ]
     },
     "execution_count": 262,
     "metadata": {},
     "output_type": "execute_result"
    }
   ],
   "source": [
    "dict(zip(rf.feature_names_in_, rf.feature_importances_))"
   ]
  },
  {
   "cell_type": "code",
   "execution_count": 284,
   "id": "c4d8ba5b-b1f0-48d6-9b34-70ae9e6b965e",
   "metadata": {},
   "outputs": [],
   "source": [
    "_ = pd.DataFrame(dict(zip(rf.feature_names_in_, rf.feature_importances_)), index = [0]).T.\\\n",
    "reset_index().rename(columns = {'index':'feature', 0:'importance'}).\\\n",
    "sort_values('importance', ascending = False)"
   ]
  },
  {
   "cell_type": "code",
   "execution_count": 285,
   "id": "2025836a-27fc-4f8b-aa7f-c15dbc274485",
   "metadata": {},
   "outputs": [
    {
     "data": {
      "text/plain": [
       "<AxesSubplot:xlabel='importance', ylabel='feature'>"
      ]
     },
     "execution_count": 285,
     "metadata": {},
     "output_type": "execute_result"
    },
    {
     "data": {
      "image/png": "[encoded data removed]",
      "text/plain": [
       "<Figure size 432x288 with 1 Axes>"
      ]
     },
     "metadata": {},
     "output_type": "display_data"
    }
   ],
   "source": [
    "sns.barplot(y = 'feature', x = 'importance', data = _)"
   ]
  },
  {
   "cell_type": "markdown",
   "id": "7ea0be14-6a56-4c78-bfa4-f480570eaae3",
   "metadata": {},
   "source": [
    "`-` 이상점 제거 안하고 딱히 전처리 안했을 때 랜덤포레스트의 성능과 피쳐의 중요도는 위와 같다"
   ]
  },
  {
   "cell_type": "markdown",
   "id": "9583b1dc-feb2-4048-ba20-842c2adb5a9f",
   "metadata": {},
   "source": [
    "`-` 위를 기반으로 파생변수를 생성하자"
   ]
  },
  {
   "cell_type": "code",
   "execution_count": 292,
   "id": "0818ee7e-498e-4786-a47b-f5a9a08aa614",
   "metadata": {},
   "outputs": [
    {
     "data": {
      "text/plain": [
       "<AxesSubplot:xlabel='Garage_Area', ylabel='Count'>"
      ]
     },
     "execution_count": 292,
     "metadata": {},
     "output_type": "execute_result"
    },
    {
     "data": {
      "image/png": "[encoded data removed]",
      "text/plain": [
       "<Figure size 432x288 with 1 Axes>"
      ]
     },
     "metadata": {},
     "output_type": "display_data"
    }
   ],
   "source": [
    "sns.histplot(data = dt, x = 'Garage_Area', hue= 'Garage_Cars')"
   ]
  },
  {
   "cell_type": "markdown",
   "id": "7446e478-7a24-4186-be23-489b430ddf28",
   "metadata": {},
   "source": [
    "`-` 차고의 면적과 차고에 들어가는 차량의 개수는 강한 상관관계를 보인다\n",
    "\n",
    "`-` 차고 면적은 차고 자리 개수와 관련이 있다\n",
    "\n",
    "`-` 차고 자리 개수에 따라 차고 면적의 분포가 다름\n",
    "\n",
    "`-` 그래서 차고에 들어가는 차량의 개수가 1인지 2인지 3인지를 구분하려고 한다\n",
    "\n",
    "`-` 원핫인코딩을 하고 차고 면적을 로그 변환을 해주자(오른쪽으로 꼬리가 긴 분포)\n",
    "\n",
    "`-` 그런데 위와 같이 하니 별로 성능이 좋지 않았다"
   ]
  },
  {
   "cell_type": "code",
   "execution_count": 293,
   "id": "1a024bd1-46ca-41c2-a2a4-d98bcec230b3",
   "metadata": {},
   "outputs": [
    {
     "data": {
      "text/plain": [
       "12"
      ]
     },
     "execution_count": 293,
     "metadata": {},
     "output_type": "execute_result"
    }
   ],
   "source": [
    "sum(dt['Garage_Cars'] >= 4) ## 차고에 들어가는 차량 개수가 4,5인 경우는 12개 뿐이다"
   ]
  },
  {
   "cell_type": "markdown",
   "id": "e2c30bfb-9416-49a1-b042-eb4407f22fe1",
   "metadata": {},
   "source": [
    "`-` 지상층(Ground Living Area)는 땅 위에 있는 전체 면적을 이야기하는데 차고와 지하실을 제외하고 계산한다\n",
    "\n",
    "`-` 따라서 `Gr Liv Area - 1st Flr SF > 0` 일 경우에 2층이 있는 것이므로 2층 면적 피처와 2층의 존재 여부를 새로운 피처로 생성하자\n",
    "\n",
    "`-` 2층을 넘어서 3층까지 있을 수 있는데 일단은 그냥 2층으로 판단하자\n",
    "\n",
    "`-` 또한 지상층 면적과 차고 면적, 지하실 면적을 더해 전체 집의 면적 피쳐를 만들자\n",
    "\n",
    "`-` 그 밖에 다양한 파생변수를 만들자"
   ]
  },
  {
   "cell_type": "code",
   "execution_count": 36,
   "id": "fa1a320a-45f4-4c90-b646-bb344e42a6bd",
   "metadata": {},
   "outputs": [
    {
     "data": {
      "text/plain": [
       "<AxesSubplot:xlabel='First_Flr_SF', ylabel='Gr_Liv_Area'>"
      ]
     },
     "execution_count": 36,
     "metadata": {},
     "output_type": "execute_result"
    },
    {
     "data": {
      "image/png": "[encoded data removed]",
      "text/plain": [
       "<Figure size 432x288 with 1 Axes>"
      ]
     },
     "metadata": {
      "needs_background": "light"
     },
     "output_type": "display_data"
    }
   ],
   "source": [
    "sns.scatterplot(data = dt, x = 'First_Flr_SF', y ='Gr_Liv_Area')"
   ]
  },
  {
   "cell_type": "markdown",
   "id": "5f90ae58-7f8f-481d-b929-b50e2b1ec91f",
   "metadata": {},
   "source": [
    "`-` 참고 : https://dacon.io/competitions/official/235869/codeshare/4304?page=1&dtype=recent"
   ]
  },
  {
   "cell_type": "code",
   "execution_count": 47,
   "id": "4ad7836d-9784-496f-8dc3-592ee447ba80",
   "metadata": {},
   "outputs": [],
   "source": [
    "def feature_eng(data_):\n",
    "    data = data_.copy()\n",
    "    data['Year_Gap_Remod'] = data['Year_Remod_Add'] - data['Year_Built'] ## 리모델링 연도와 완공 연도의 차이\n",
    "    data['Car_Area'] = data['Garage_Area'] / data['Garage_Cars'] ## car 하나당 차지하는 차고의 면적\n",
    "    data['Second_Flr_SF'] = data['Gr_Liv_Area'] - data['First_Flr_SF'] ## 2층 면적\n",
    "    data['Second_Flr'] = data['Second_Flr_SF'].apply(lambda x : 1 if x > 0 else 0) ## 2층의 유무\n",
    "    data['Total_SF'] = data[['Gr_Liv_Area', 'Garage_Area', 'Total_Bsmt_SF']].sum(axis = 1) ## 전체 집의 면적\n",
    "    data['Sum_Qual'] = data[['Exter_Qual', 'Kitchen_Qual', 'Overall_Qual', 'Bsmt_Qual']].sum(axis = 1) ## 품질들의 합계 \n",
    "    return data"
   ]
  },
  {
   "cell_type": "code",
   "execution_count": 48,
   "id": "f8034f4a-2e18-43b8-b418-64f371586d64",
   "metadata": {},
   "outputs": [],
   "source": [
    "dt2 = feature_eng(dt)"
   ]
  },
  {
   "cell_type": "code",
   "execution_count": 49,
   "id": "78d3223b-e166-431b-878f-848f168bd1ea",
   "metadata": {},
   "outputs": [],
   "source": [
    "x_train, x_valid, y_train, y_valid = train_test_split(dt2, target, shuffle = True, test_size = 0.2, random_state = 22)"
   ]
  },
  {
   "cell_type": "code",
   "execution_count": 50,
   "id": "9f0a22de-8f1a-44e9-9cd3-f1adab8fbcde",
   "metadata": {},
   "outputs": [],
   "source": [
    "log_y_train = np.log(y_train)"
   ]
  },
  {
   "cell_type": "markdown",
   "id": "2579bd97-2d1d-4086-ad31-b881c99791b9",
   "metadata": {},
   "source": [
    "`-` 데이터를 train과 valid로 나눈다\n",
    "\n",
    "`-` 그리고 train에 대해 교차검증(train을 train2와 valid2로 나누어 모형을 평가)을 한다\n",
    "\n",
    "`-` 그리고 교차검증에 사용한 모델로 valid를 평가한다\n",
    "\n",
    "`-` 교차검증을 통해 측정한 성능과 valid로 측정한 성능이 둘 다 좋다면 괜찮은 모델이다"
   ]
  },
  {
   "cell_type": "code",
   "execution_count": 52,
   "id": "4778142d-2e87-45c2-8def-8cdc288c2c5a",
   "metadata": {},
   "outputs": [],
   "source": [
    "rf = RandomForestRegressor(random_state = 22, criterion = 'mae')"
   ]
  },
  {
   "cell_type": "code",
   "execution_count": 53,
   "id": "8f2d5d74-4dbd-4f21-add8-de8e017a46f3",
   "metadata": {},
   "outputs": [],
   "source": [
    "log_target = np.log(target)"
   ]
  },
  {
   "cell_type": "code",
   "execution_count": 55,
   "id": "81330df7-0598-4880-a994-a05afe4d5a7b",
   "metadata": {},
   "outputs": [
    {
     "name": "stdout",
     "output_type": "stream",
     "text": [
      "-----------------랜덤포레스트---------------------\n",
      "교차 검증별 NMAE:  [0.09978367 0.09366351 0.09288352 0.0888334  0.09424258 0.08956147\n",
      " 0.10171566 0.08717189 0.10731588 0.09276792]\n",
      "평균 교차 검증 NMAE:  0.09479395146645571\n",
      "valid에 대한 검증 NMAE:  0.0965482550294192\n"
     ]
    }
   ],
   "source": [
    "scores = cross_validate(rf, dt2, log_target, scoring = score, cv = 10)\n",
    "rf.fit(x_train, log_y_train)\n",
    "print('-----------------랜덤포레스트---------------------')\n",
    "print('교차 검증별 NMAE: ', abs(scores['test_score']))\n",
    "print('평균 교차 검증 NMAE: ', np.mean(abs(scores['test_score'])))\n",
    "print('valid에 대한 검증 NMAE: ', NMAE(y_valid, np.exp(rf.predict(x_valid))))"
   ]
  },
  {
   "cell_type": "code",
   "execution_count": 56,
   "id": "b1ce7fde-0e20-45db-a435-a731113e54b0",
   "metadata": {},
   "outputs": [
    {
     "data": {
      "text/plain": [
       "RandomForestRegressor(criterion='mae', random_state=22)"
      ]
     },
     "execution_count": 56,
     "metadata": {},
     "output_type": "execute_result"
    }
   ],
   "source": [
    "rf.fit(dt2, target)"
   ]
  },
  {
   "cell_type": "code",
   "execution_count": 57,
   "id": "62c1ccea-00fb-4d47-b387-71d3d8f40059",
   "metadata": {},
   "outputs": [
    {
     "data": {
      "text/plain": [
       "{'Overall_Qual': 0.0332748191270178,\n",
       " 'Gr_Liv_Area': 0.04853761955776408,\n",
       " 'Exter_Qual': 0.0030014547439831006,\n",
       " 'Garage_Cars': 0.0022024623081202217,\n",
       " 'Garage_Area': 0.02738886797038005,\n",
       " 'Kitchen_Qual': 0.006478389182538803,\n",
       " 'Total_Bsmt_SF': 0.02649817297919563,\n",
       " 'First_Flr_SF': 0.03130050136923161,\n",
       " 'Bsmt_Qual': 0.0064903216218520484,\n",
       " 'Full_Bath': 0.00946993377417972,\n",
       " 'Year_Built': 0.050321334340522855,\n",
       " 'Year_Remod_Add': 0.031227911085082622,\n",
       " 'Garage_Yr_Blt': 0.021315774746708913,\n",
       " 'Year_Gap_Remod': 0.009697357336042134,\n",
       " 'Car_Area': 0.028000294393030017,\n",
       " 'Second_Flr_SF': 0.01309227801553831,\n",
       " 'Second_Flr': 0.001286076972245127,\n",
       " 'Total_SF': 0.4458380983382992,\n",
       " 'Sum_Qual': 0.20457833213826765}"
      ]
     },
     "execution_count": 57,
     "metadata": {},
     "output_type": "execute_result"
    }
   ],
   "source": [
    "dict(zip(rf.feature_names_in_, rf.feature_importances_))  "
   ]
  },
  {
   "cell_type": "code",
   "execution_count": 34,
   "id": "11fb2b81-291f-4e00-acbb-025fa53b897e",
   "metadata": {},
   "outputs": [
    {
     "data": {
      "text/plain": [
       "{'Overall_Qual': 0.36155701025925585,\n",
       " 'Gr_Liv_Area': 0.14571654252277413,\n",
       " 'Exter_Qual': 0.008398603856485859,\n",
       " 'Garage_Cars': 0.01005666553393281,\n",
       " 'Garage_Area': 0.09582617508789004,\n",
       " 'Kitchen_Qual': 0.01285474244877178,\n",
       " 'Total_Bsmt_SF': 0.07686184693696727,\n",
       " 'First_Flr_SF': 0.07889699408657667,\n",
       " 'Bsmt_Qual': 0.02718168131318934,\n",
       " 'Full_Bath': 0.060986867289187605,\n",
       " 'Year_Built': 0.0493476211847213,\n",
       " 'Year_Remod_Add': 0.04117255437822056,\n",
       " 'Garage_Yr_Blt': 0.031142695102026965}"
      ]
     },
     "execution_count": 34,
     "metadata": {},
     "output_type": "execute_result"
    }
   ],
   "source": [
    "dict(zip(rf.feature_names_in_, rf.feature_importances_)) ## 다중공선성을 고려해 여러개의 피쳐를 드랍함"
   ]
  },
  {
   "cell_type": "markdown",
   "id": "290c2373-8cca-4d97-a595-9a3d5c36fd27",
   "metadata": {},
   "source": [
    "`-` 쓸모없는 변수 : Exter_Qual, Garage_Cars, Kitchen_Qual, Bsmt_Qual, Garage_Yr_Blt"
   ]
  },
  {
   "cell_type": "markdown",
   "id": "fa1778e8-43eb-43e4-9b7e-ca69852723fd",
   "metadata": {},
   "source": [
    "## 이상점 제거 O"
   ]
  },
  {
   "cell_type": "code",
   "execution_count": 206,
   "id": "f0c5d8ba-9f74-4ee9-9420-9fc4b779d175",
   "metadata": {},
   "outputs": [
    {
     "data": {
      "image/png": "[encoded data removed]",
      "text/plain": [
       "<Figure size 432x288 with 1 Axes>"
      ]
     },
     "metadata": {},
     "output_type": "display_data"
    }
   ],
   "source": [
    "with plt.style.context('seaborn-dark'): \n",
    "    plt.boxplot(np.log(df['target']))\n",
    "plt.show()"
   ]
  },
  {
   "cell_type": "markdown",
   "id": "26ea9073-c7e9-4d78-937a-7e012f59165b",
   "metadata": {},
   "source": [
    "`-` 로그 변환을 해서 나온 이상치들을 제거하자"
   ]
  },
  {
   "cell_type": "code",
   "execution_count": 207,
   "id": "194ffeee-590a-4e68-8f76-b10bb5d16631",
   "metadata": {},
   "outputs": [],
   "source": [
    "def remove_outlier(df):\n",
    "    Q1 = np.log(df).quantile(0.25)\n",
    "    Q3 = np.log(df).quantile(0.75)\n",
    "    IQR = Q3 - Q1   \n",
    "\n",
    "    filter_ = (np.log(df) >= Q1 - 1.5*IQR) & (np.log(df) <= Q3 + 1.5*IQR)\n",
    "    return filter_"
   ]
  },
  {
   "cell_type": "markdown",
   "id": "7722aff9-7dcd-4890-8d58-742cc5824de6",
   "metadata": {},
   "source": [
    "`-` df의 이상점을 제거한 df2를 만듦"
   ]
  },
  {
   "cell_type": "code",
   "execution_count": 337,
   "id": "cb63036e-5c0d-4eaa-9c14-0ab46d91af54",
   "metadata": {},
   "outputs": [],
   "source": [
    "df2 = df.copy()"
   ]
  },
  {
   "cell_type": "code",
   "execution_count": 209,
   "id": "829c83cc-21aa-4ed6-87a8-7879de9c3dec",
   "metadata": {},
   "outputs": [
    {
     "data": {
      "text/plain": [
       "array([10,  7,  5,  8,  6,  3,  4,  9,  2], dtype=int64)"
      ]
     },
     "execution_count": 209,
     "metadata": {},
     "output_type": "execute_result"
    }
   ],
   "source": [
    "df2['Overall_Qual'].unique()"
   ]
  },
  {
   "cell_type": "markdown",
   "id": "10c297ce-695b-4745-b3e6-aabb4bb9a421",
   "metadata": {},
   "source": [
    "`-` 위에서 제거한 이상점은 target의 이상점이다\n",
    "\n",
    "`-` 그런데 위와 같이 이상점을 제거하면 target 전체를 기준으로 매우 큰 값 또는 작은 값만 제거된다\n",
    "\n",
    "`-` 하지만 Overall Qual과 같은 변수로 target을 나눠서 보면 target 전체로 봤을 때의 이상점과 다르다\n",
    "\n",
    "`-` 그렇기에 Overall Qual에 따른 target의 이상점을 제거하겠다\n",
    "\n",
    "`-` 예컨대 Overall Qual이 3일 때 이상점으로 30만 달러의 집이 있다고 해도\n",
    "\n",
    "`-` target 전체로 봤을 땐 이상점이 아니다"
   ]
  },
  {
   "cell_type": "markdown",
   "id": "8586b109-b027-410d-899a-1ea94138e2e5",
   "metadata": {},
   "source": [
    "`-` 각각의 Overall_Qual에 대한 target의 이상점을 제거하자"
   ]
  },
  {
   "cell_type": "code",
   "execution_count": 338,
   "id": "4b24cd8a-c428-477b-bbb4-77fcd0ed023e",
   "metadata": {},
   "outputs": [],
   "source": [
    "l = []\n",
    "for i in df2['Overall_Qual'].unique():\n",
    "    l.extend(remove_outlier(df2.query('Overall_Qual == @i')[['target']]).query('target == True').index.tolist()) ## 이상점이 아닌 인덱스번호만 추가\n",
    "             \n",
    "l = list(set(l)) \n",
    "#& set(remove_outlier(df2[['target']]).query('target == True').index.tolist())"
   ]
  },
  {
   "cell_type": "code",
   "execution_count": 339,
   "id": "befac488-acb4-48c0-907f-8474a5b6a543",
   "metadata": {},
   "outputs": [
    {
     "data": {
      "text/plain": [
       "1317"
      ]
     },
     "execution_count": 339,
     "metadata": {},
     "output_type": "execute_result"
    }
   ],
   "source": [
    "len(l)"
   ]
  },
  {
   "cell_type": "code",
   "execution_count": 340,
   "id": "5a3f79f6-d503-43b0-af53-1e981e78c7c2",
   "metadata": {},
   "outputs": [],
   "source": [
    "df2 = df2.loc[l,:].reset_index().drop('index', axis = 1)"
   ]
  },
  {
   "cell_type": "code",
   "execution_count": 341,
   "id": "d984bf9a-0f79-438a-b4ee-d85d001c9a29",
   "metadata": {},
   "outputs": [
    {
     "data": {
      "image/png": "[encoded data removed]",
      "text/plain": [
       "<Figure size 432x288 with 1 Axes>"
      ]
     },
     "metadata": {},
     "output_type": "display_data"
    }
   ],
   "source": [
    "with plt.style.context('seaborn-dark'): \n",
    "    plt.boxplot(np.log(df2['target']))\n",
    "plt.show()"
   ]
  },
  {
   "cell_type": "markdown",
   "id": "f22d1359-78b7-4831-9f39-814b8a831044",
   "metadata": {},
   "source": [
    "`-` 9.5부근에 있는 target은 제거해주자"
   ]
  },
  {
   "cell_type": "code",
   "execution_count": 342,
   "id": "6316e8c1-7f17-4256-84e4-a12eaebc6054",
   "metadata": {},
   "outputs": [
    {
     "data": {
      "text/html": [
       "<div>\n",
       "<style scoped>\n",
       "    .dataframe tbody tr th:only-of-type {\n",
       "        vertical-align: middle;\n",
       "    }\n",
       "\n",
       "    .dataframe tbody tr th {\n",
       "        vertical-align: top;\n",
       "    }\n",
       "\n",
       "    .dataframe thead th {\n",
       "        text-align: right;\n",
       "    }\n",
       "</style>\n",
       "<table border=\"1\" class=\"dataframe\">\n",
       "  <thead>\n",
       "    <tr style=\"text-align: right;\">\n",
       "      <th></th>\n",
       "      <th>Overall_Qual</th>\n",
       "      <th>Gr_Liv_Area</th>\n",
       "      <th>Exter_Qual</th>\n",
       "      <th>Garage_Cars</th>\n",
       "      <th>Garage_Area</th>\n",
       "      <th>Kitchen_Qual</th>\n",
       "      <th>Total_Bsmt_SF</th>\n",
       "      <th>First_Flr_SF</th>\n",
       "      <th>Bsmt_Qual</th>\n",
       "      <th>Full_Bath</th>\n",
       "      <th>Year_Built</th>\n",
       "      <th>Year_Remod_Add</th>\n",
       "      <th>Garage_Yr_Blt</th>\n",
       "      <th>target</th>\n",
       "    </tr>\n",
       "  </thead>\n",
       "  <tbody>\n",
       "    <tr>\n",
       "      <th>1176</th>\n",
       "      <td>2</td>\n",
       "      <td>832</td>\n",
       "      <td>2</td>\n",
       "      <td>2</td>\n",
       "      <td>780</td>\n",
       "      <td>2</td>\n",
       "      <td>678</td>\n",
       "      <td>832</td>\n",
       "      <td>1</td>\n",
       "      <td>1</td>\n",
       "      <td>1923</td>\n",
       "      <td>1970</td>\n",
       "      <td>1928</td>\n",
       "      <td>12789</td>\n",
       "    </tr>\n",
       "  </tbody>\n",
       "</table>\n",
       "</div>"
      ],
      "text/plain": [
       "      Overall_Qual  Gr_Liv_Area  Exter_Qual  Garage_Cars  Garage_Area  \\\n",
       "1176             2          832           2            2          780   \n",
       "\n",
       "      Kitchen_Qual  Total_Bsmt_SF  First_Flr_SF  Bsmt_Qual  Full_Bath  \\\n",
       "1176             2            678           832          1          1   \n",
       "\n",
       "      Year_Built  Year_Remod_Add  Garage_Yr_Blt  target  \n",
       "1176        1923            1970           1928   12789  "
      ]
     },
     "execution_count": 342,
     "metadata": {},
     "output_type": "execute_result"
    }
   ],
   "source": [
    "df2[df2.target == df2.target.min()]"
   ]
  },
  {
   "cell_type": "code",
   "execution_count": 343,
   "id": "e9c31b74-58f4-4912-a985-b2a0cf233e4c",
   "metadata": {},
   "outputs": [],
   "source": [
    "df2 = df2.drop(df2[df2.target == df2.target.min()].index).reset_index().drop('index', axis = 1)"
   ]
  },
  {
   "cell_type": "markdown",
   "id": "4948137b-0770-496c-b580-bb1239294aa8",
   "metadata": {},
   "source": [
    "`-` 이상으로 이상점 제거를 마쳤다"
   ]
  },
  {
   "cell_type": "code",
   "execution_count": 89,
   "id": "95b3bab2-6aaa-45cc-bc1a-bf9c3eb9c654",
   "metadata": {},
   "outputs": [
    {
     "data": {
      "text/plain": [
       "<AxesSubplot:>"
      ]
     },
     "execution_count": 89,
     "metadata": {},
     "output_type": "execute_result"
    },
    {
     "data": {
      "image/png": "[encoded data removed]",
      "text/plain": [
       "<Figure size 432x288 with 1 Axes>"
      ]
     },
     "metadata": {
      "needs_background": "light"
     },
     "output_type": "display_data"
    }
   ],
   "source": [
    "np.log(df2['target']).hist(bins = 30)"
   ]
  },
  {
   "cell_type": "code",
   "execution_count": 90,
   "id": "19f860f1-0841-40fb-b91f-ab22284ee72e",
   "metadata": {},
   "outputs": [
    {
     "data": {
      "image/png": "[encoded data removed]",
      "text/plain": [
       "<Figure size 432x288 with 1 Axes>"
      ]
     },
     "metadata": {
      "needs_background": "light"
     },
     "output_type": "display_data"
    }
   ],
   "source": [
    "_ = stats.probplot(np.log(df2['target']), plot = plt)"
   ]
  },
  {
   "cell_type": "code",
   "execution_count": 220,
   "id": "cc9eee60-200b-490f-abdf-e12de9aebbfa",
   "metadata": {},
   "outputs": [],
   "source": [
    "test_stat, p_val = stats.shapiro(np.log(df2['target']))"
   ]
  },
  {
   "cell_type": "code",
   "execution_count": 221,
   "id": "318c7aff-ec0f-4ebb-ba77-8176dff1ef6b",
   "metadata": {},
   "outputs": [
    {
     "data": {
      "text/plain": [
       "(1.6056494675509292e-11, 0.387183540371096)"
      ]
     },
     "execution_count": 221,
     "metadata": {},
     "output_type": "execute_result"
    }
   ],
   "source": [
    "p_val, np.log(df2['target']).skew() ## p값과 왜도"
   ]
  },
  {
   "cell_type": "markdown",
   "id": "835d8cad-e8d8-494c-b837-8904eaecb9fb",
   "metadata": {},
   "source": [
    "`-` 이상으로 이상점 제거를 끝냈다"
   ]
  },
  {
   "cell_type": "markdown",
   "id": "d3e80c1d-fbff-4bc8-a144-a693df916c3e",
   "metadata": {},
   "source": [
    "### 파생변수 생성"
   ]
  },
  {
   "cell_type": "code",
   "execution_count": 344,
   "id": "d0e96eb6-f3c0-4822-8eab-3ddfd55a457e",
   "metadata": {},
   "outputs": [],
   "source": [
    "dt = df2.copy()"
   ]
  },
  {
   "cell_type": "code",
   "execution_count": 345,
   "id": "cd670dc6-536d-418b-badc-98879277dcf6",
   "metadata": {},
   "outputs": [],
   "source": [
    "target = dt['target']  ## target\n",
    "dt = dt.iloc[:, :-1]   ## target 제외한 데이터프레임"
   ]
  },
  {
   "cell_type": "code",
   "execution_count": 346,
   "id": "4ad6abb4-c144-4304-b1e2-412eed3b2469",
   "metadata": {},
   "outputs": [],
   "source": [
    "dt.drop('Garage_Yr_Blt', axis = 1, inplace = True)\n",
    "test.drop('Garage_Yr_Blt', axis = 1, inplace = True)"
   ]
  },
  {
   "cell_type": "markdown",
   "id": "77d36a2c-5ed5-46f7-9a45-5f33a42fe610",
   "metadata": {},
   "source": [
    "`-` 차고 완공 연도 피쳐는 드랍"
   ]
  },
  {
   "cell_type": "code",
   "execution_count": 143,
   "id": "73271512-b6e6-4908-95c0-83a3354b2974",
   "metadata": {},
   "outputs": [
    {
     "data": {
      "text/plain": [
       "{'Overall_Qual': 0.3378385327427716,\n",
       " 'Gr_Liv_Area': 0.1468019580807601,\n",
       " 'Exter_Qual': 0.011952640943769247,\n",
       " 'Garage_Cars': 0.010421908555938442,\n",
       " 'Garage_Area': 0.12440988468275409,\n",
       " 'Kitchen_Qual': 0.011950246437489973,\n",
       " 'Total_Bsmt_SF': 0.07641459733627338,\n",
       " 'First_Flr_SF': 0.09086582072221813,\n",
       " 'Bsmt_Qual': 0.018361467288149972,\n",
       " 'Full_Bath': 0.058033644454802774,\n",
       " 'Year_Built': 0.06463448204518264,\n",
       " 'Year_Remod_Add': 0.04831481670988958}"
      ]
     },
     "execution_count": 143,
     "metadata": {},
     "output_type": "execute_result"
    }
   ],
   "source": [
    "dict(zip(rf.feature_names_in_, rf.feature_importances_)) ## 연도 피쳐 포함"
   ]
  },
  {
   "cell_type": "markdown",
   "id": "d79468aa-4f54-45d4-9164-742580498e80",
   "metadata": {},
   "source": [
    "`-` 파생 변수를 만들자\n",
    "\n",
    "`-` 이상점 제거 X 파트에서 만든 파생 변수를 조금 손봐보자 \n",
    "\n",
    "`-` 퀄리티 관련 변수들을 그냥 더할 수 도 있다\n",
    "\n",
    "`-` 하지만 퀄리티라고 해도 부엌의 퀄리티와 외관 재료의 퀄리티가 다를 수 있다(우선순위의 차이)\n",
    "\n",
    "`-` 그러므로 위에서 랜덤포레스트를 통해 확인한 피쳐 중요도에 따라 다른 가중치를 두어 합치겠다\n",
    "\n",
    "`-` 화장실의 개수도 화장실의 퀄리티이며 차고에 들어가는 차량의 개수도 차고의 퀄리티로 판단할 수 있다\n",
    "\n",
    "`-` 이들을 다 고려하여 새로운 파생변수를 만들자\n",
    "\n",
    "`-` 연도 피쳐는 주어진 피쳐가 설명하지 못하는 점들을 설명할 수 있을 가능성이 존재하니 살려두겠다(차고 완공 연도는 드랍)"
   ]
  },
  {
   "cell_type": "code",
   "execution_count": 347,
   "id": "4558f4ad-b44c-49bf-951f-0aff16fe217b",
   "metadata": {},
   "outputs": [],
   "source": [
    "def feature_eng2(data_):\n",
    "    data = data_.copy()\n",
    "    data['Year_Gap_Remod'] = data['Year_Remod_Add'] - data['Year_Built'] ## 완공을 하고 몇 년뒤에 리모델링을 했는지를 나타냄\n",
    "    #data['Car_Area'] = data['Garage_Area'] / data['Garage_Cars'] ## car 하나당 차지하는 차고의 면적 ## 쓸모없어서 하지 않음 ## Garage_Area로 대체 가능\n",
    "    data['Total_SF'] = data[['Gr_Liv_Area', 'Garage_Area', 'Total_Bsmt_SF']].sum(axis = 1) ## 전체 집의 면적\n",
    "    data['The_Rest_Qual'] = data['Exter_Qual']*0.1 + data['Garage_Cars']*0.1 + data['Kitchen_Qual']*0.2 + data['Bsmt_Qual']*0.2 + data['Full_Bath']*0.3\n",
    "    #data['The_Rest_Qual'] = (data['Exter_Qual'] + data['Garage_Cars'] + data['Kitchen_Qual'] + data['Bsmt_Qual'] + data['Full_Bath']) / 5\n",
    "    #data['The_Rest_Qual'] = (data['Exter_Qual']*0.1 + data['Garage_Cars']*0.1 + data['Kitchen_Qual']*0.2 + data['Bsmt_Qual']*0.2 + data['Full_Bath']*0.3 + data['Overall_Qual']) / 2\n",
    "    ## Overall_Qual은 다른 퀄리티 변수를 모두 포함하는 변수라 따로 취급했다\n",
    "    \n",
    "    data.drop(['Year_Remod_Add', 'Garage_Cars'] , axis = 1, inplace = True) ## 효용가치가 없는 변수 제거\n",
    "    ## 다른 퀄리티 변수도 드랍할지 고민\n",
    "    ## 1층은 냅뒀는데 집을 살 때 보통 1층을 먼저 볼것이니 1층이 중요하다고 생각함\n",
    "    return data"
   ]
  },
  {
   "cell_type": "code",
   "execution_count": 348,
   "id": "3f1f6a9f-c12a-4867-9970-ecf5502d29d0",
   "metadata": {},
   "outputs": [],
   "source": [
    "dt2 = feature_eng2(dt)"
   ]
  },
  {
   "cell_type": "markdown",
   "id": "8d09e15f-9918-41c8-871d-d6e44b71fdca",
   "metadata": {},
   "source": [
    "### 파생변수 시각화"
   ]
  },
  {
   "cell_type": "markdown",
   "id": "39aada92-4630-4a74-869d-279e1c506805",
   "metadata": {},
   "source": [
    "`-` 파생변수들을 시각화해보자"
   ]
  },
  {
   "cell_type": "code",
   "execution_count": 256,
   "id": "afbc841e-922a-4cdc-9a7e-91dc99d24953",
   "metadata": {},
   "outputs": [],
   "source": [
    "dt2['target'] = target ## 시각화를 위해 임시로 만듦"
   ]
  },
  {
   "cell_type": "code",
   "execution_count": 47,
   "id": "b6ee0ad3-4d9b-4991-8313-47b060e04937",
   "metadata": {},
   "outputs": [
    {
     "data": {
      "text/plain": [
       "<AxesSubplot:>"
      ]
     },
     "execution_count": 47,
     "metadata": {},
     "output_type": "execute_result"
    },
    {
     "data": {
      "image/png": "[encoded data removed]",
      "text/plain": [
       "<Figure size 432x288 with 1 Axes>"
      ]
     },
     "metadata": {
      "needs_background": "light"
     },
     "output_type": "display_data"
    }
   ],
   "source": [
    "dt2.Total_SF.hist(bins = 30) ## 오른쪽으로 꼬리가 긴 분포"
   ]
  },
  {
   "cell_type": "code",
   "execution_count": 49,
   "id": "9d6ce316-cef2-4b45-8240-6fe7749f5f5e",
   "metadata": {
    "tags": []
   },
   "outputs": [
    {
     "data": {
      "text/plain": [
       "<AxesSubplot:xlabel='Total_SF', ylabel='target'>"
      ]
     },
     "execution_count": 49,
     "metadata": {},
     "output_type": "execute_result"
    },
    {
     "data": {
      "image/png": "[encoded data removed]",
      "text/plain": [
       "<Figure size 432x288 with 1 Axes>"
      ]
     },
     "metadata": {
      "needs_background": "light"
     },
     "output_type": "display_data"
    }
   ],
   "source": [
    "sns.scatterplot(x = 'Total_SF', y = 'target', data = dt2)"
   ]
  },
  {
   "cell_type": "markdown",
   "id": "eb30c1b5-8bb1-49ce-af29-b4f3e4c7b165",
   "metadata": {},
   "source": [
    "`-` 전체 면적이 거의 8000SF인 집이 있다\n",
    "\n",
    "`-` 다른 데이터와 멀리 떨어져있어 이상점으로 생각할 수 있겠지만 \n",
    "\n",
    "`-` 전체 면적과 집값이 보이는 흐름에서 멀리 떨어져있지는 않아 괜찮아 보인다"
   ]
  },
  {
   "cell_type": "code",
   "execution_count": 261,
   "id": "6ab5c684-64cd-41af-a2e9-19b19f7b9f75",
   "metadata": {},
   "outputs": [],
   "source": [
    "dt2['target'] = target"
   ]
  },
  {
   "cell_type": "code",
   "execution_count": 257,
   "id": "0bfbeb19-4123-488f-8722-11eec9be3588",
   "metadata": {},
   "outputs": [
    {
     "data": {
      "text/plain": [
       "<seaborn.axisgrid.FacetGrid at 0x20209c32c10>"
      ]
     },
     "execution_count": 257,
     "metadata": {},
     "output_type": "execute_result"
    },
    {
     "data": {
      "image/png": "[encoded data removed]",
      "text/plain": [
       "<Figure size 507.625x360 with 1 Axes>"
      ]
     },
     "metadata": {
      "needs_background": "light"
     },
     "output_type": "display_data"
    }
   ],
   "source": [
    "sns.lmplot(x = 'Total_SF', y = 'target', data = dt2, hue = 'The_Rest_Qual', scatter_kws = {'alpha':0.4, 's':20})"
   ]
  },
  {
   "cell_type": "code",
   "execution_count": 258,
   "id": "11004fd9-9140-4c2c-a4cc-1188b1a4e19c",
   "metadata": {},
   "outputs": [
    {
     "data": {
      "text/plain": [
       "<seaborn.axisgrid.FacetGrid at 0x2020a101cd0>"
      ]
     },
     "execution_count": 258,
     "metadata": {},
     "output_type": "execute_result"
    },
    {
     "data": {
      "image/png": "[encoded data removed]",
      "text/plain": [
       "<Figure size 431.875x360 with 1 Axes>"
      ]
     },
     "metadata": {
      "needs_background": "light"
     },
     "output_type": "display_data"
    }
   ],
   "source": [
    "sns.lmplot(x = 'Total_SF', y = 'target', data = dt2, hue = 'Overall_Qual', scatter_kws = {'alpha':0.4, 's':20})"
   ]
  },
  {
   "cell_type": "code",
   "execution_count": 265,
   "id": "0c11ca7b-7175-483b-81b2-92766bd0a87e",
   "metadata": {},
   "outputs": [],
   "source": [
    "dt2.drop('target', axis = 1, inplace = True)"
   ]
  },
  {
   "cell_type": "markdown",
   "id": "9496a90e-6010-42e2-a047-21c4f0154c24",
   "metadata": {},
   "source": [
    "### 간단한 모델을 통한 피쳐 중요도 탐색"
   ]
  },
  {
   "cell_type": "code",
   "execution_count": 229,
   "id": "1738e56a-df04-47b4-b5ac-08f40e223479",
   "metadata": {},
   "outputs": [],
   "source": [
    "x_train, x_valid, y_train, y_valid = train_test_split(dt2, target, shuffle = True, test_size = 0.2, random_state = 22)"
   ]
  },
  {
   "cell_type": "code",
   "execution_count": 230,
   "id": "0f9e1083-c8c8-4b4d-a505-f62e3230774a",
   "metadata": {},
   "outputs": [],
   "source": [
    "log_y_train = np.log(y_train)"
   ]
  },
  {
   "cell_type": "markdown",
   "id": "00a096b2-b9a4-454d-b233-e23a8e0e663b",
   "metadata": {},
   "source": [
    "`-` 데이터를 train과 valid로 나눈다\n",
    "\n",
    "`-` 그리고 train에 대해 교차검증(train을 train2와 valid2로 나누어 모형을 평가)을 한다\n",
    "\n",
    "`-` 그리고 교차검증에 사용한 모델로 valid를 평가한다\n",
    "\n",
    "`-` 교차검증을 통해 측정한 성능과 valid로 측정한 성능이 둘 다 좋다면 괜찮은 모델이다"
   ]
  },
  {
   "cell_type": "code",
   "execution_count": 173,
   "id": "88bd480f-7629-4364-b2b6-62f8f088e25c",
   "metadata": {},
   "outputs": [],
   "source": [
    "rf = RandomForestRegressor(random_state = 22, criterion = 'mae')"
   ]
  },
  {
   "cell_type": "code",
   "execution_count": 231,
   "id": "2e9a41f5-274b-46b7-982f-9c2b94266397",
   "metadata": {},
   "outputs": [],
   "source": [
    "log_target = np.log(target)"
   ]
  },
  {
   "cell_type": "code",
   "execution_count": 174,
   "id": "ef7f3d2f-99e8-4e45-bc9f-f81ebdcb8572",
   "metadata": {},
   "outputs": [
    {
     "name": "stdout",
     "output_type": "stream",
     "text": [
      "-----------------랜덤포레스트---------------------\n",
      "교차 검증별 NMAE:  [0.09426505 0.0952996  0.08771767 0.09303096 0.08775163 0.08824828\n",
      " 0.10694089 0.08741147 0.0923854  0.09043555]\n",
      "평균 교차 검증 NMAE:  0.0923486481930881\n",
      "valid에 대한 검증 NMAE:  0.09182876232877228\n"
     ]
    }
   ],
   "source": [
    "scores = cross_validate(rf, dt2, log_target, scoring = score, cv = 10)\n",
    "rf.fit(x_train, log_y_train)\n",
    "print('-----------------랜덤포레스트---------------------')\n",
    "print('교차 검증별 NMAE: ', abs(scores['test_score']))\n",
    "print('평균 교차 검증 NMAE: ', np.mean(abs(scores['test_score'])))\n",
    "print('valid에 대한 검증 NMAE: ', NMAE(y_valid, np.exp(rf.predict(x_valid))))"
   ]
  },
  {
   "cell_type": "code",
   "execution_count": 148,
   "id": "9864fbf5-6dac-4d8c-b566-c4dd28436dcf",
   "metadata": {},
   "outputs": [
    {
     "data": {
      "text/plain": [
       "RandomForestRegressor(criterion='mae', random_state=22)"
      ]
     },
     "execution_count": 148,
     "metadata": {},
     "output_type": "execute_result"
    }
   ],
   "source": [
    "rf.fit(dt2, log_target)"
   ]
  },
  {
   "cell_type": "code",
   "execution_count": 178,
   "id": "db857746-9da5-443a-a262-794018f85085",
   "metadata": {},
   "outputs": [
    {
     "data": {
      "text/plain": [
       "{'Overall_Qual': 0.14107841780994565,\n",
       " 'Gr_Liv_Area': 0.057338942716802024,\n",
       " 'Exter_Qual': 0.011230273145944528,\n",
       " 'Garage_Area': 0.044720101050935886,\n",
       " 'Kitchen_Qual': 0.013656097663298701,\n",
       " 'Total_Bsmt_SF': 0.03485182723931557,\n",
       " 'First_Flr_SF': 0.04525922362378785,\n",
       " 'Bsmt_Qual': 0.008967493402191903,\n",
       " 'Full_Bath': 0.004853986413651158,\n",
       " 'Year_Built': 0.06024936713969412,\n",
       " 'Year_Gap_Remod': 0.01530262981429434,\n",
       " 'Total_SF': 0.4162230669125945,\n",
       " 'The_Rest_Qual': 0.14626857306754384}"
      ]
     },
     "execution_count": 178,
     "metadata": {},
     "output_type": "execute_result"
    }
   ],
   "source": [
    "dict(zip(rf.feature_names_in_, rf.feature_importances_))"
   ]
  },
  {
   "cell_type": "code",
   "execution_count": 175,
   "id": "3f237141-5fe1-49ff-9267-a3a0bbe8260e",
   "metadata": {},
   "outputs": [],
   "source": [
    "cb = CatBoostRegressor(random_state = 22, learning_rate = 0.03, n_estimators = 3000, depth = 4, loss_function = 'MAE', verbose = 0)"
   ]
  },
  {
   "cell_type": "code",
   "execution_count": 176,
   "id": "4aa89c04-dd49-4436-a56a-1e86ce6483ce",
   "metadata": {},
   "outputs": [
    {
     "data": {
      "text/plain": [
       "<catboost.core.CatBoostRegressor at 0x2027f534190>"
      ]
     },
     "execution_count": 176,
     "metadata": {},
     "output_type": "execute_result"
    }
   ],
   "source": [
    "cb.fit(dt2, log_target)"
   ]
  },
  {
   "cell_type": "code",
   "execution_count": 177,
   "id": "90c352d7-6cc1-495e-811e-06b3554bac01",
   "metadata": {},
   "outputs": [
    {
     "data": {
      "text/plain": [
       "{'Overall_Qual': 16.865591556901975,\n",
       " 'Gr_Liv_Area': 11.483090826813168,\n",
       " 'Exter_Qual': 2.3423525531079474,\n",
       " 'Garage_Area': 4.3616223584894245,\n",
       " 'Kitchen_Qual': 1.9312962160141536,\n",
       " 'Total_Bsmt_SF': 4.671094840360434,\n",
       " 'First_Flr_SF': 6.345672589433746,\n",
       " 'Bsmt_Qual': 2.5476814018701948,\n",
       " 'Full_Bath': 1.4017680890522295,\n",
       " 'Year_Built': 8.407197884360809,\n",
       " 'Year_Gap_Remod': 2.611802859898884,\n",
       " 'Total_SF': 22.728268151566546,\n",
       " 'The_Rest_Qual': 14.30256067213049}"
      ]
     },
     "execution_count": 177,
     "metadata": {},
     "output_type": "execute_result"
    }
   ],
   "source": [
    "dict(zip(cb.feature_names_, cb.feature_importances_))"
   ]
  },
  {
   "cell_type": "markdown",
   "id": "943d7021-b806-4b23-9c3c-0c90eb14d668",
   "metadata": {
    "tags": []
   },
   "source": [
    "### 모델 앙상블"
   ]
  },
  {
   "cell_type": "code",
   "execution_count": 131,
   "id": "fa10237b-549c-4b5e-8f50-390491dabe76",
   "metadata": {},
   "outputs": [],
   "source": [
    "from sklearn.ensemble import RandomForestRegressor, GradientBoostingRegressor  \n",
    "from xgboost import XGBRegressor \n",
    "from lightgbm import LGBMRegressor \n",
    "from catboost import CatBoostRegressor\n",
    "from sklearn.model_selection import GridSearchCV, train_test_split, cross_validate, KFold\n",
    "from sklearn.metrics import make_scorer"
   ]
  },
  {
   "cell_type": "markdown",
   "id": "59267b61-7c41-4714-a076-a1e4315ac546",
   "metadata": {},
   "source": [
    "`-` 스케일링은 하지 않음"
   ]
  },
  {
   "cell_type": "markdown",
   "id": "a7c1b954-6ccd-45aa-9b64-d9c99276fd17",
   "metadata": {},
   "source": [
    "`-` 데이터를 train과 valid로 나눈다\n",
    "\n",
    "`-` 그리고 train에 대해 교차검증(train을 train2와 valid2로 나누어 모형을 평가)을 한다\n",
    "\n",
    "`-` 그리고 교차검증에 사용한 모델로 valid를 평가한다\n",
    "\n",
    "`-` 교차검증을 통해 측정한 성능과 valid로 측정한 성능이 둘 다 좋다면 괜찮은 모델이다"
   ]
  },
  {
   "cell_type": "code",
   "execution_count": 169,
   "id": "602fb91d-08e3-417a-bb43-ceafc89990b1",
   "metadata": {},
   "outputs": [],
   "source": [
    "rf = RandomForestRegressor(random_state = 22, criterion = 'mae')\n",
    "gb = GradientBoostingRegressor(random_state = 22, n_estimators = 300, learning_rate = 0.03, max_depth = 4)\n",
    "cb = CatBoostRegressor(random_state = 22, learning_rate = 0.03, n_estimators = 3000, depth = 4, loss_function = 'MAE', verbose = 0)\n",
    "xgb = XGBRegressor(random_state = 22, n_estimators = 500,  max_depth = 4, learning_rate = 0.03) \n",
    "lgb = LGBMRegressor(random_state = 22, n_estimators = 300, max_depth = 4, learning_rate = 0.03)"
   ]
  },
  {
   "cell_type": "code",
   "execution_count": 170,
   "id": "d4fdeb7c-85c3-45e2-b4bd-fa7ae14eb3c4",
   "metadata": {},
   "outputs": [
    {
     "name": "stdout",
     "output_type": "stream",
     "text": [
      "---------------------------------------------\n",
      "교차 검증별 NMAE:  [0.09426505 0.0952996  0.08771767 0.09303096 0.08775163 0.08824828\n",
      " 0.10694089 0.08741147 0.0923854  0.09043555]\n",
      "평균 교차 검증 NMAE:  0.0923486481930881\n",
      "valid에 대한 검증 NMAE:  0.09182876232877228\n",
      "---------------------------------------------\n",
      "교차 검증별 NMAE:  [0.0932479  0.09382758 0.08227268 0.08587716 0.09020278 0.08316386\n",
      " 0.09733912 0.08400931 0.09329967 0.09819608]\n",
      "평균 교차 검증 NMAE:  0.09014361330853202\n",
      "valid에 대한 검증 NMAE:  0.08695017700516906\n",
      "---------------------------------------------\n",
      "교차 검증별 NMAE:  [0.08795301 0.09227423 0.07824809 0.08775099 0.09320167 0.08275337\n",
      " 0.0957827  0.08546488 0.09464354 0.09439388]\n",
      "평균 교차 검증 NMAE:  0.08924663669001828\n",
      "valid에 대한 검증 NMAE:  0.08513308644657429\n",
      "---------------------------------------------\n",
      "교차 검증별 NMAE:  [0.08884182 0.09212601 0.08210941 0.08528204 0.09210695 0.08449326\n",
      " 0.09821069 0.09240597 0.09084685 0.09375377]\n",
      "평균 교차 검증 NMAE:  0.09001767855826212\n",
      "valid에 대한 검증 NMAE:  0.08789482732040511\n",
      "---------------------------------------------\n",
      "교차 검증별 NMAE:  [0.09166247 0.09062731 0.08430713 0.08714965 0.09287131 0.08919162\n",
      " 0.09978264 0.08459524 0.09518211 0.09043896]\n",
      "평균 교차 검증 NMAE:  0.09058084337702911\n",
      "valid에 대한 검증 NMAE:  0.08913220870784812\n"
     ]
    }
   ],
   "source": [
    "for model in [rf, gb, cb, xgb, lgb]:\n",
    "    scores = cross_validate(model, dt2, log_target, scoring = score, cv = 10)\n",
    "    model.fit(x_train, log_y_train)\n",
    "    print('---------------------------------------------')\n",
    "    print('교차 검증별 NMAE: ', abs(scores['test_score']))\n",
    "    print('평균 교차 검증 NMAE: ', np.mean(abs(scores['test_score'])))\n",
    "    print('valid에 대한 검증 NMAE: ', NMAE(y_valid, np.exp(model.predict(x_valid))))"
   ]
  },
  {
   "cell_type": "code",
   "execution_count": 292,
   "id": "ee8ec74a-c639-4dec-9c6e-4c7731204c6a",
   "metadata": {},
   "outputs": [],
   "source": [
    "test2 = feature_eng2(test)"
   ]
  },
  {
   "cell_type": "code",
   "execution_count": 248,
   "id": "f85504e2-334b-467e-adf2-4ede9170fcb6",
   "metadata": {},
   "outputs": [],
   "source": [
    "kfold = KFold(n_splits = 10, random_state = 22, shuffle = True)"
   ]
  },
  {
   "cell_type": "markdown",
   "id": "9525dac4-2586-4a11-acdc-8148b147b131",
   "metadata": {},
   "source": [
    "`-` 랜덤포레스트"
   ]
  },
  {
   "cell_type": "code",
   "execution_count": 296,
   "id": "f1b431b8-2d16-4ba7-a267-91579728b9cb",
   "metadata": {},
   "outputs": [],
   "source": [
    "rf_valid = []\n",
    "rf_predict = np.zeros(test2.shape[0])\n",
    "\n",
    "for train_idx, valid_idx in kfold.split(dt2, log_target):\n",
    "    x_train, y_train = dt2.iloc[train_idx], log_target.iloc[train_idx]\n",
    "    x_valid, y_valid = dt2.iloc[valid_idx], np.exp(log_target.iloc[valid_idx])\n",
    "    \n",
    "    rf = RandomForestRegressor(random_state = 22, criterion = 'mae')\n",
    "    rf.fit(x_train, y_train)\n",
    "    y_predict = np.exp(rf.predict(x_valid)) ## valid셋 예측\n",
    "    test_predict = np.exp(rf.predict(test2)) ## test셋 예측\n",
    "\n",
    "    rf_valid.append(NMAE(y_predict, y_valid)) ## valid 예측값\n",
    "    rf_predict += test_predict / 10 ## test 예측값(10 Fold)"
   ]
  },
  {
   "cell_type": "markdown",
   "id": "654f36df-f87c-4ddd-9731-440b32a710a6",
   "metadata": {},
   "source": [
    "`-` cat 부스트"
   ]
  },
  {
   "cell_type": "code",
   "execution_count": 297,
   "id": "1a01a2f3-4a52-4ba3-8b2b-70f24d1ef0b2",
   "metadata": {},
   "outputs": [],
   "source": [
    "cb_valid = []\n",
    "cb_predict = np.zeros(test2.shape[0])\n",
    "\n",
    "for train_idx, valid_idx in kfold.split(dt2, log_target):\n",
    "    x_train, y_train = dt2.iloc[train_idx], log_target.iloc[train_idx]\n",
    "    x_valid, y_valid = dt2.iloc[valid_idx], np.exp(log_target.iloc[valid_idx])\n",
    "    \n",
    "    cb = CatBoostRegressor(random_state = 22, learning_rate = 0.03, n_estimators = 500, depth = 4, loss_function = 'MAE', verbose = 0)\n",
    "    cb.fit(x_train, y_train)\n",
    "    y_predict = np.exp(cb.predict(x_valid)) ## valid셋 예측\n",
    "    test_predict = np.exp(cb.predict(test2)) ## test셋 예측\n",
    "\n",
    "    cb_valid.append(NMAE(y_predict, y_valid)) ## valid 예측값\n",
    "    cb_predict += test_predict / 10 ## test 예측값(10 Fold)"
   ]
  },
  {
   "cell_type": "markdown",
   "id": "c094863b-21a0-4a8a-8f41-c5c691d78693",
   "metadata": {},
   "source": [
    "`-` 그래디언트 부스트"
   ]
  },
  {
   "cell_type": "code",
   "execution_count": 298,
   "id": "b78218a3-854b-4f1b-865e-576fa7733ee2",
   "metadata": {},
   "outputs": [],
   "source": [
    "gb_valid = []\n",
    "gb_predict = np.zeros(test2.shape[0])\n",
    "\n",
    "for train_idx, valid_idx in kfold.split(dt2, log_target):\n",
    "    x_train, y_train = dt2.iloc[train_idx], log_target.iloc[train_idx]\n",
    "    x_valid, y_valid = dt2.iloc[valid_idx], np.exp(log_target.iloc[valid_idx])\n",
    "    \n",
    "    gb = GradientBoostingRegressor(random_state = 22, n_estimators = 500, learning_rate = 0.03, max_depth = 4)\n",
    "    gb.fit(x_train, y_train)\n",
    "    y_predict = np.exp(gb.predict(x_valid)) ## valid셋 예측\n",
    "    test_predict = np.exp(gb.predict(test2)) ## test셋 예측\n",
    "\n",
    "    gb_valid.append(NMAE(y_predict, y_valid)) ## valid 예측값\n",
    "    gb_predict += test_predict / 10 ## test 예측값(10 Fold)"
   ]
  },
  {
   "cell_type": "markdown",
   "id": "3d7f286e-90d3-43dc-9d9e-eaec08be715a",
   "metadata": {},
   "source": [
    "`-` xgb"
   ]
  },
  {
   "cell_type": "code",
   "execution_count": 299,
   "id": "9730bda8-49db-4f02-a406-ae1f3accb1bb",
   "metadata": {},
   "outputs": [],
   "source": [
    "xgb_valid = []\n",
    "xgb_predict = np.zeros(test2.shape[0])\n",
    "\n",
    "for train_idx, valid_idx in kfold.split(dt2, log_target):\n",
    "    x_train, y_train = dt2.iloc[train_idx], log_target.iloc[train_idx]\n",
    "    x_valid, y_valid = dt2.iloc[valid_idx], np.exp(log_target.iloc[valid_idx])\n",
    "    \n",
    "    xgb = XGBRegressor(random_state = 22, n_estimators = 500,  max_depth = 4, learning_rate = 0.03) \n",
    "    xgb.fit(x_train, y_train)\n",
    "    y_predict = np.exp(xgb.predict(x_valid)) ## valid셋 예측\n",
    "    test_predict = np.exp(xgb.predict(test2)) ## test셋 예측\n",
    "\n",
    "    xgb_valid.append(NMAE(y_predict, y_valid)) ## valid 예측값\n",
    "    xgb_predict += test_predict / 10 ## test 예측값(10 Fold)"
   ]
  },
  {
   "cell_type": "markdown",
   "id": "09970c2d-0ed7-490d-94f3-c9a5d21bc67a",
   "metadata": {},
   "source": [
    "`-` lgbm"
   ]
  },
  {
   "cell_type": "code",
   "execution_count": 300,
   "id": "292b568a-7516-4e30-b965-5cfd58d6369b",
   "metadata": {},
   "outputs": [],
   "source": [
    "lgb_valid = []\n",
    "lgb_predict = np.zeros(test2.shape[0])\n",
    "\n",
    "for train_idx, valid_idx in kfold.split(dt2, log_target):\n",
    "    x_train, y_train = dt2.iloc[train_idx], log_target.iloc[train_idx]\n",
    "    x_valid, y_valid = dt2.iloc[valid_idx], np.exp(log_target.iloc[valid_idx])\n",
    "    \n",
    "    lgb = LGBMRegressor(random_state = 22, n_estimators = 500, max_depth = 4, learning_rate = 0.03)\n",
    "    lgb.fit(x_train, y_train)\n",
    "    y_predict = np.exp(lgb.predict(x_valid)) ## valid셋 예측\n",
    "    test_predict = np.exp(lgb.predict(test2)) ## test셋 예측\n",
    "\n",
    "    lgb_valid.append(NMAE(y_predict, y_valid)) ## valid 예측값\n",
    "    lgb_predict += test_predict / 10 ## test 예측값(10 Fold)"
   ]
  },
  {
   "cell_type": "markdown",
   "id": "83bc909c-4d67-4f67-b3bb-4c783900e1db",
   "metadata": {},
   "source": [
    "`-` 4개의 모형을 앙상블하자"
   ]
  },
  {
   "cell_type": "code",
   "execution_count": 302,
   "id": "6acfe79f-5854-49a3-90be-a58c033d1970",
   "metadata": {},
   "outputs": [
    {
     "data": {
      "text/plain": [
       "(0.0932797809162971,\n",
       " 0.09150833847465892,\n",
       " 0.09164010389162143,\n",
       " 0.09205270642067118,\n",
       " 0.09072103094716263)"
      ]
     },
     "execution_count": 302,
     "metadata": {},
     "output_type": "execute_result"
    }
   ],
   "source": [
    "np.mean(rf_valid), np.mean(gb_valid), np.mean(cb_valid), np.mean(xgb_valid), np.mean(lgb_valid)"
   ]
  },
  {
   "cell_type": "code",
   "execution_count": 303,
   "id": "cd8368da-3bad-413a-adab-069c59724024",
   "metadata": {},
   "outputs": [],
   "source": [
    "pred = (rf_predict + gb_predict + cb_predict + xgb_predict + lgb_predict) / 5 "
   ]
  },
  {
   "cell_type": "code",
   "execution_count": 304,
   "id": "fded9428-1d89-4f91-8a58-64c85f021cb3",
   "metadata": {},
   "outputs": [],
   "source": [
    "submission = pd.read_csv('C:/Users/Jaesu/github_desktop/Dacon-Basic/집값-예측/Data/sample_submission.csv')"
   ]
  },
  {
   "cell_type": "code",
   "execution_count": 305,
   "id": "dd2ee3c0-2b2e-469d-b760-ce3148547165",
   "metadata": {},
   "outputs": [
    {
     "data": {
      "text/html": [
       "<div>\n",
       "<style scoped>\n",
       "    .dataframe tbody tr th:only-of-type {\n",
       "        vertical-align: middle;\n",
       "    }\n",
       "\n",
       "    .dataframe tbody tr th {\n",
       "        vertical-align: top;\n",
       "    }\n",
       "\n",
       "    .dataframe thead th {\n",
       "        text-align: right;\n",
       "    }\n",
       "</style>\n",
       "<table border=\"1\" class=\"dataframe\">\n",
       "  <thead>\n",
       "    <tr style=\"text-align: right;\">\n",
       "      <th></th>\n",
       "      <th>id</th>\n",
       "      <th>target</th>\n",
       "    </tr>\n",
       "  </thead>\n",
       "  <tbody>\n",
       "    <tr>\n",
       "      <th>0</th>\n",
       "      <td>1</td>\n",
       "      <td>335399.034649</td>\n",
       "    </tr>\n",
       "    <tr>\n",
       "      <th>1</th>\n",
       "      <td>2</td>\n",
       "      <td>125040.558297</td>\n",
       "    </tr>\n",
       "    <tr>\n",
       "      <th>2</th>\n",
       "      <td>3</td>\n",
       "      <td>173989.487515</td>\n",
       "    </tr>\n",
       "    <tr>\n",
       "      <th>3</th>\n",
       "      <td>4</td>\n",
       "      <td>250717.491861</td>\n",
       "    </tr>\n",
       "    <tr>\n",
       "      <th>4</th>\n",
       "      <td>5</td>\n",
       "      <td>134037.757004</td>\n",
       "    </tr>\n",
       "  </tbody>\n",
       "</table>\n",
       "</div>"
      ],
      "text/plain": [
       "   id         target\n",
       "0   1  335399.034649\n",
       "1   2  125040.558297\n",
       "2   3  173989.487515\n",
       "3   4  250717.491861\n",
       "4   5  134037.757004"
      ]
     },
     "execution_count": 305,
     "metadata": {},
     "output_type": "execute_result"
    }
   ],
   "source": [
    "## 위에서 구한 예측값을 그대로 넣어줌\n",
    "submission['target'] = pred\n",
    "\n",
    "## 데이터가 잘 들어갔는지 확인\n",
    "submission.head()"
   ]
  },
  {
   "cell_type": "code",
   "execution_count": 306,
   "id": "75837dd3-b08f-4808-ab8f-e33b9e00f83c",
   "metadata": {},
   "outputs": [],
   "source": [
    "## submission을 csv 파일로 저장\n",
    "submission.to_csv('C:/Users/Jaesu/github_desktop/Dacon-Basic/집값-예측/Data/submission10.csv', index = False)"
   ]
  },
  {
   "cell_type": "markdown",
   "id": "13ea45d0-e92d-4b3d-b244-67a3bd228f74",
   "metadata": {},
   "source": [
    "`-` 점수는 $0.0935553928$이다"
   ]
  },
  {
   "cell_type": "markdown",
   "id": "e33adb71-10b4-4927-9d9a-43fe73db50e7",
   "metadata": {},
   "source": [
    "`-` 랜덤포레스트의 NMAE가 조금 높다\n",
    "\n",
    "`-` 이를 제외한 모형을 앙상블해보자"
   ]
  },
  {
   "cell_type": "code",
   "execution_count": 315,
   "id": "441a9d3c-5831-4740-ba5e-3f9be1d5f56a",
   "metadata": {},
   "outputs": [],
   "source": [
    "pred = (gb_predict + cb_predict + xgb_predict + lgb_predict) / 4"
   ]
  },
  {
   "cell_type": "code",
   "execution_count": 316,
   "id": "7bdca8d8-c7f6-4eab-bcc0-0997d6214b9c",
   "metadata": {},
   "outputs": [
    {
     "data": {
      "text/html": [
       "<div>\n",
       "<style scoped>\n",
       "    .dataframe tbody tr th:only-of-type {\n",
       "        vertical-align: middle;\n",
       "    }\n",
       "\n",
       "    .dataframe tbody tr th {\n",
       "        vertical-align: top;\n",
       "    }\n",
       "\n",
       "    .dataframe thead th {\n",
       "        text-align: right;\n",
       "    }\n",
       "</style>\n",
       "<table border=\"1\" class=\"dataframe\">\n",
       "  <thead>\n",
       "    <tr style=\"text-align: right;\">\n",
       "      <th></th>\n",
       "      <th>id</th>\n",
       "      <th>target</th>\n",
       "    </tr>\n",
       "  </thead>\n",
       "  <tbody>\n",
       "    <tr>\n",
       "      <th>0</th>\n",
       "      <td>1</td>\n",
       "      <td>338199.899338</td>\n",
       "    </tr>\n",
       "    <tr>\n",
       "      <th>1</th>\n",
       "      <td>2</td>\n",
       "      <td>123711.730245</td>\n",
       "    </tr>\n",
       "    <tr>\n",
       "      <th>2</th>\n",
       "      <td>3</td>\n",
       "      <td>172601.743726</td>\n",
       "    </tr>\n",
       "    <tr>\n",
       "      <th>3</th>\n",
       "      <td>4</td>\n",
       "      <td>248086.080387</td>\n",
       "    </tr>\n",
       "    <tr>\n",
       "      <th>4</th>\n",
       "      <td>5</td>\n",
       "      <td>135187.737567</td>\n",
       "    </tr>\n",
       "  </tbody>\n",
       "</table>\n",
       "</div>"
      ],
      "text/plain": [
       "   id         target\n",
       "0   1  338199.899338\n",
       "1   2  123711.730245\n",
       "2   3  172601.743726\n",
       "3   4  248086.080387\n",
       "4   5  135187.737567"
      ]
     },
     "execution_count": 316,
     "metadata": {},
     "output_type": "execute_result"
    }
   ],
   "source": [
    "## 위에서 구한 예측값을 그대로 넣어줌\n",
    "submission['target'] = pred\n",
    "\n",
    "## 데이터가 잘 들어갔는지 확인\n",
    "submission.head()"
   ]
  },
  {
   "cell_type": "code",
   "execution_count": 309,
   "id": "dfc91064-34ce-42e5-8947-a20b553a1f53",
   "metadata": {},
   "outputs": [],
   "source": [
    "## submission을 csv 파일로 저장\n",
    "submission.to_csv('C:/Users/Jaesu/github_desktop/Dacon-Basic/집값-예측/Data/submission11.csv', index = False)"
   ]
  },
  {
   "cell_type": "markdown",
   "id": "6dbd208c-d5ab-43fd-a334-52bdd7f169cc",
   "metadata": {},
   "source": [
    "`-` 점수는 $0.0934076125$이다"
   ]
  },
  {
   "cell_type": "markdown",
   "id": "e1126e1f-844d-4b99-9cb2-7b529206f146",
   "metadata": {},
   "source": [
    "`-` 내가 위에서 모델 평가할 때 전체에 대해 교차검증을 하고\n",
    "\n",
    "`-` train, valid로 나누어 평가를 했는데\n",
    "\n",
    "`-` 처음부터 train, valid로 나누고 train에 대해서만 교차검증 하는 방식으로도 해보자"
   ]
  },
  {
   "cell_type": "markdown",
   "id": "a100bba4-ddbd-4fd3-b69e-6be6c8b9f5c5",
   "metadata": {},
   "source": [
    "### 교호작용 추가 + Feature Selection"
   ]
  },
  {
   "cell_type": "markdown",
   "id": "057228f7-1724-46d2-a080-2a7f4a6ae455",
   "metadata": {},
   "source": [
    "`-` 교호작용을 추가해보자"
   ]
  },
  {
   "cell_type": "code",
   "execution_count": 349,
   "id": "42453e55-c13b-4935-8efe-8ae21fc2d1ea",
   "metadata": {},
   "outputs": [],
   "source": [
    "dt3 = dt2.copy()"
   ]
  },
  {
   "cell_type": "code",
   "execution_count": 350,
   "id": "7cd7080e-8e41-4d37-8a89-e7f7a0f8a43a",
   "metadata": {},
   "outputs": [],
   "source": [
    "test2 = feature_eng2(test)"
   ]
  },
  {
   "cell_type": "code",
   "execution_count": 352,
   "id": "ab1c3522-4ec4-4937-9669-c63c77ab674b",
   "metadata": {},
   "outputs": [],
   "source": [
    "dt3['Overall_Qual_Total_SF'] = dt3['Overall_Qual'] * dt3['Total_SF'] ## 전체적인 퀄리티와 집의 전체 면적을 곱함\n",
    "dt3['Kitchen_Qual_First_Flr_SF'] = dt3['Kitchen_Qual'] * dt3['First_Flr_SF'] ## 부엌의 퀄리티와 1층 면적을 곱함(1층에 부엌이 있을 것)\n",
    "dt3['Bath_Qual_First_Flr_SF'] = dt3['Full_Bath'] * dt3['First_Flr_SF'] ## 화장실 개수와 1층 면적을 곱함(1층에 화장실이 있을 것)\n",
    "dt3['Bsmt_Qual_Total_Bsmt_SF'] = dt3['Bsmt_Qual'] * dt3['Total_Bsmt_SF'] ## 지하실 높이 수준과 지하실 면적을 곱함\n",
    "#dt3['The_Rest_Qual_Total_SF'] = dt3['The_Rest_Qual'] * dt3['Total_SF']"
   ]
  },
  {
   "cell_type": "code",
   "execution_count": 353,
   "id": "619dd95d-4e75-45af-b5f8-2c2cd4df0d86",
   "metadata": {},
   "outputs": [],
   "source": [
    "test2['Overall_Qual_Total_SF'] = test2['Overall_Qual'] * test2['Total_SF'] ## 전체적인 퀄리티와 집의 전체 면적을 곱함\n",
    "test2['Kitchen_Qual_First_Flr_SF'] = test2['Kitchen_Qual'] * test2['First_Flr_SF'] ## 부엌의 퀄리티와 1층 면적을 곱함(1층에 부엌이 있을 것)\n",
    "test2['Bath_Qual_First_Flr_SF'] = test2['Full_Bath'] * test2['First_Flr_SF'] ## 화장실 개수와 1층 면적을 곱함(1층에 화장실이 있을 것)\n",
    "test2['Bsmt_Qual_Total_Bsmt_SF'] = test2['Bsmt_Qual'] * test2['Total_Bsmt_SF'] ## 지하실 높이 수준과 지하실 면적을 곱함"
   ]
  },
  {
   "cell_type": "code",
   "execution_count": 354,
   "id": "cefceebe-9d8b-4d2c-9aa0-8e89dd7b84ff",
   "metadata": {},
   "outputs": [
    {
     "data": {
      "text/html": [
       "<div>\n",
       "<style scoped>\n",
       "    .dataframe tbody tr th:only-of-type {\n",
       "        vertical-align: middle;\n",
       "    }\n",
       "\n",
       "    .dataframe tbody tr th {\n",
       "        vertical-align: top;\n",
       "    }\n",
       "\n",
       "    .dataframe thead th {\n",
       "        text-align: right;\n",
       "    }\n",
       "</style>\n",
       "<table border=\"1\" class=\"dataframe\">\n",
       "  <thead>\n",
       "    <tr style=\"text-align: right;\">\n",
       "      <th></th>\n",
       "      <th>Overall_Qual</th>\n",
       "      <th>Gr_Liv_Area</th>\n",
       "      <th>Exter_Qual</th>\n",
       "      <th>Garage_Area</th>\n",
       "      <th>Kitchen_Qual</th>\n",
       "      <th>Total_Bsmt_SF</th>\n",
       "      <th>First_Flr_SF</th>\n",
       "      <th>Bsmt_Qual</th>\n",
       "      <th>Full_Bath</th>\n",
       "      <th>Year_Built</th>\n",
       "      <th>Year_Gap_Remod</th>\n",
       "      <th>Total_SF</th>\n",
       "      <th>The_Rest_Qual</th>\n",
       "      <th>Overall_Qual_Total_SF</th>\n",
       "      <th>Kitchen_Qual_First_Flr_SF</th>\n",
       "      <th>Bath_Qual_First_Flr_SF</th>\n",
       "      <th>Bsmt_Qual_Total_Bsmt_SF</th>\n",
       "    </tr>\n",
       "  </thead>\n",
       "  <tbody>\n",
       "    <tr>\n",
       "      <th>0</th>\n",
       "      <td>9</td>\n",
       "      <td>1800</td>\n",
       "      <td>3</td>\n",
       "      <td>702</td>\n",
       "      <td>4</td>\n",
       "      <td>1800</td>\n",
       "      <td>1800</td>\n",
       "      <td>4</td>\n",
       "      <td>2</td>\n",
       "      <td>2007</td>\n",
       "      <td>0</td>\n",
       "      <td>4302</td>\n",
       "      <td>2.7</td>\n",
       "      <td>38718</td>\n",
       "      <td>7200</td>\n",
       "      <td>3600</td>\n",
       "      <td>7200</td>\n",
       "    </tr>\n",
       "    <tr>\n",
       "      <th>1</th>\n",
       "      <td>6</td>\n",
       "      <td>1082</td>\n",
       "      <td>2</td>\n",
       "      <td>240</td>\n",
       "      <td>2</td>\n",
       "      <td>1082</td>\n",
       "      <td>1082</td>\n",
       "      <td>2</td>\n",
       "      <td>1</td>\n",
       "      <td>1948</td>\n",
       "      <td>2</td>\n",
       "      <td>2404</td>\n",
       "      <td>1.4</td>\n",
       "      <td>14424</td>\n",
       "      <td>2164</td>\n",
       "      <td>1082</td>\n",
       "      <td>2164</td>\n",
       "    </tr>\n",
       "    <tr>\n",
       "      <th>2</th>\n",
       "      <td>6</td>\n",
       "      <td>1573</td>\n",
       "      <td>3</td>\n",
       "      <td>440</td>\n",
       "      <td>3</td>\n",
       "      <td>756</td>\n",
       "      <td>769</td>\n",
       "      <td>3</td>\n",
       "      <td>2</td>\n",
       "      <td>2000</td>\n",
       "      <td>0</td>\n",
       "      <td>2769</td>\n",
       "      <td>2.3</td>\n",
       "      <td>16614</td>\n",
       "      <td>2307</td>\n",
       "      <td>1538</td>\n",
       "      <td>2268</td>\n",
       "    </tr>\n",
       "    <tr>\n",
       "      <th>3</th>\n",
       "      <td>6</td>\n",
       "      <td>2443</td>\n",
       "      <td>3</td>\n",
       "      <td>744</td>\n",
       "      <td>3</td>\n",
       "      <td>1158</td>\n",
       "      <td>1158</td>\n",
       "      <td>3</td>\n",
       "      <td>2</td>\n",
       "      <td>2004</td>\n",
       "      <td>0</td>\n",
       "      <td>4345</td>\n",
       "      <td>2.4</td>\n",
       "      <td>26070</td>\n",
       "      <td>3474</td>\n",
       "      <td>2316</td>\n",
       "      <td>3474</td>\n",
       "    </tr>\n",
       "    <tr>\n",
       "      <th>4</th>\n",
       "      <td>5</td>\n",
       "      <td>1040</td>\n",
       "      <td>2</td>\n",
       "      <td>686</td>\n",
       "      <td>2</td>\n",
       "      <td>1040</td>\n",
       "      <td>1040</td>\n",
       "      <td>2</td>\n",
       "      <td>1</td>\n",
       "      <td>1968</td>\n",
       "      <td>0</td>\n",
       "      <td>2766</td>\n",
       "      <td>1.5</td>\n",
       "      <td>13830</td>\n",
       "      <td>2080</td>\n",
       "      <td>1040</td>\n",
       "      <td>2080</td>\n",
       "    </tr>\n",
       "  </tbody>\n",
       "</table>\n",
       "</div>"
      ],
      "text/plain": [
       "   Overall_Qual  Gr_Liv_Area  Exter_Qual  Garage_Area  Kitchen_Qual  \\\n",
       "0             9         1800           3          702             4   \n",
       "1             6         1082           2          240             2   \n",
       "2             6         1573           3          440             3   \n",
       "3             6         2443           3          744             3   \n",
       "4             5         1040           2          686             2   \n",
       "\n",
       "   Total_Bsmt_SF  First_Flr_SF  Bsmt_Qual  Full_Bath  Year_Built  \\\n",
       "0           1800          1800          4          2        2007   \n",
       "1           1082          1082          2          1        1948   \n",
       "2            756           769          3          2        2000   \n",
       "3           1158          1158          3          2        2004   \n",
       "4           1040          1040          2          1        1968   \n",
       "\n",
       "   Year_Gap_Remod  Total_SF  The_Rest_Qual  Overall_Qual_Total_SF  \\\n",
       "0               0      4302            2.7                  38718   \n",
       "1               2      2404            1.4                  14424   \n",
       "2               0      2769            2.3                  16614   \n",
       "3               0      4345            2.4                  26070   \n",
       "4               0      2766            1.5                  13830   \n",
       "\n",
       "   Kitchen_Qual_First_Flr_SF  Bath_Qual_First_Flr_SF  Bsmt_Qual_Total_Bsmt_SF  \n",
       "0                       7200                    3600                     7200  \n",
       "1                       2164                    1082                     2164  \n",
       "2                       2307                    1538                     2268  \n",
       "3                       3474                    2316                     3474  \n",
       "4                       2080                    1040                     2080  "
      ]
     },
     "execution_count": 354,
     "metadata": {},
     "output_type": "execute_result"
    }
   ],
   "source": [
    "test2.head()"
   ]
  },
  {
   "cell_type": "code",
   "execution_count": 320,
   "id": "7490e346-f203-4c69-8850-841856a8c9b5",
   "metadata": {},
   "outputs": [],
   "source": [
    "#dt3.drop(['Exter_Qual', 'Kitchen_Qual', 'Bsmt_Qual', 'Full_Bath'], axis = 1, inplace = True)"
   ]
  },
  {
   "cell_type": "code",
   "execution_count": 332,
   "id": "3f789876-7453-4c90-86be-6f4e49a16a7d",
   "metadata": {},
   "outputs": [],
   "source": [
    "#test2.drop(['Exter_Qual', 'Kitchen_Qual', 'Bsmt_Qual', 'Full_Bath'], axis = 1, inplace = True)"
   ]
  },
  {
   "cell_type": "markdown",
   "id": "ea53818e-0d3d-49ad-a554-2fa0d5e5944b",
   "metadata": {},
   "source": [
    "`-` 드랍안한 것이 성능이 더 잘나옴"
   ]
  },
  {
   "cell_type": "markdown",
   "id": "1e3b973d-c617-409e-84a4-17840d015ede",
   "metadata": {},
   "source": [
    "`-` 성능을 평가해보자"
   ]
  },
  {
   "cell_type": "code",
   "execution_count": 356,
   "id": "3e0eb32d-b470-4cf7-90de-ab1fdfb8023d",
   "metadata": {},
   "outputs": [],
   "source": [
    "from sklearn.linear_model import Lasso, Ridge"
   ]
  },
  {
   "cell_type": "code",
   "execution_count": 357,
   "id": "2c4f7df4-cd7b-4ae0-9aed-0ad8fd3c11ec",
   "metadata": {},
   "outputs": [],
   "source": [
    "rf = RandomForestRegressor(random_state = 22, criterion = 'mae')\n",
    "gb = GradientBoostingRegressor(random_state = 22, n_estimators = 350, learning_rate = 0.03, max_depth = 4)\n",
    "cb = CatBoostRegressor(random_state = 22, learning_rate = 0.03, n_estimators = 3000, depth = 4, loss_function = 'MAE', verbose = 0)\n",
    "xgb = XGBRegressor(random_state = 22, n_estimators = 500,  max_depth = 4, learning_rate = 0.03) \n",
    "lgb = LGBMRegressor(random_state = 22, n_estimators = 350, max_depth = 3, learning_rate = 0.03)\n",
    "ridge = Ridge(alpha = 0.4, random_state = 22)\n",
    "lasso = Lasso(alpha = 0.008, random_state = 22)"
   ]
  },
  {
   "cell_type": "code",
   "execution_count": 366,
   "id": "b551c7e1-20fb-4a39-beb6-807cc537c267",
   "metadata": {},
   "outputs": [],
   "source": [
    "x_train, x_valid, y_train, y_valid = train_test_split(dt3, target, shuffle = True, test_size = 0.2, random_state = 22)"
   ]
  },
  {
   "cell_type": "code",
   "execution_count": 367,
   "id": "ca20c112-5be3-44b2-95dd-f10f43c766f0",
   "metadata": {},
   "outputs": [],
   "source": [
    "log_y_train = np.log(y_train)"
   ]
  },
  {
   "cell_type": "markdown",
   "id": "e0239564-bdf3-47b3-9f73-d3e36c3395d0",
   "metadata": {},
   "source": [
    "`-` 데이터를 train과 valid로 나눈다\n",
    "\n",
    "`-` 그리고 train에 대해 교차검증(train을 train2와 valid2로 나누어 모형을 평가)을 한다\n",
    "\n",
    "`-` 그리고 교차검증에 사용한 모델로 valid를 평가한다\n",
    "\n",
    "`-` 교차검증을 통해 측정한 성능과 valid로 측정한 성능이 둘 다 좋다면 괜찮은 모델이다"
   ]
  },
  {
   "cell_type": "code",
   "execution_count": 362,
   "id": "f409a314-6023-48bb-9a1a-c4433e5f6519",
   "metadata": {},
   "outputs": [],
   "source": [
    "log_target = np.log(target)"
   ]
  },
  {
   "cell_type": "code",
   "execution_count": 376,
   "id": "02d6f750-3690-426a-b69c-025e3784375b",
   "metadata": {},
   "outputs": [
    {
     "name": "stdout",
     "output_type": "stream",
     "text": [
      "---------------------------------------------\n",
      "교차 검증별 NMAE:  [0.10134241 0.10040301 0.09342677 0.090996   0.08993296 0.08286015\n",
      " 0.105263   0.08686474 0.09782062 0.08647926]\n",
      "평균 교차 검증 NMAE:  0.09353889158045361\n",
      "valid에 대한 검증 NMAE:  0.09421556961367068\n",
      "---------------------------------------------\n",
      "교차 검증별 NMAE:  [0.0945999  0.09947476 0.08592917 0.08645308 0.08893089 0.07894581\n",
      " 0.10403897 0.08896942 0.09249837 0.08562495]\n",
      "평균 교차 검증 NMAE:  0.09054653233171701\n",
      "valid에 대한 검증 NMAE:  0.08798846938568923\n",
      "---------------------------------------------\n",
      "교차 검증별 NMAE:  [0.09054723 0.09021781 0.08203305 0.08747055 0.09067075 0.08048582\n",
      " 0.10230043 0.08706119 0.09089355 0.08638353]\n",
      "평균 교차 검증 NMAE:  0.08880639062960194\n",
      "valid에 대한 검증 NMAE:  0.08157018643446305\n",
      "---------------------------------------------\n",
      "교차 검증별 NMAE:  [0.09577003 0.09879315 0.08411884 0.08722169 0.08867808 0.07953855\n",
      " 0.10860954 0.08940723 0.09062802 0.08383762]\n",
      "평균 교차 검증 NMAE:  0.09066027495964635\n",
      "valid에 대한 검증 NMAE:  0.08644301699576572\n",
      "---------------------------------------------\n",
      "교차 검증별 NMAE:  [0.08961103 0.09356902 0.08377544 0.09069843 0.09008516 0.0791932\n",
      " 0.106036   0.08550671 0.09455962 0.08517385]\n",
      "평균 교차 검증 NMAE:  0.08982084618109865\n",
      "valid에 대한 검증 NMAE:  0.0913042675730103\n",
      "---------------------------------------------\n",
      "교차 검증별 NMAE:  [0.1003553  0.09066333 0.08500616 0.09160025 0.09342484 0.0768801\n",
      " 0.08929837 0.09173454 0.10499716 0.09208951]\n",
      "평균 교차 검증 NMAE:  0.09160495624625273\n",
      "valid에 대한 검증 NMAE:  0.09077253104210525\n",
      "---------------------------------------------\n",
      "교차 검증별 NMAE:  [0.10365649 0.09272361 0.08547348 0.08589492 0.09275511 0.0777311\n",
      " 0.09644716 0.08928324 0.10505248 0.09186928]\n",
      "평균 교차 검증 NMAE:  0.0920886887999012\n",
      "valid에 대한 검증 NMAE:  0.08908785958076582\n"
     ]
    }
   ],
   "source": [
    "for model in [rf, gb, cb, xgb, lgb, ridge, lasso]:\n",
    "    scores = cross_validate(model, dt3, log_target, scoring = score, cv = 10)\n",
    "    model.fit(x_train, log_y_train)\n",
    "    print('---------------------------------------------')\n",
    "    print('교차 검증별 NMAE: ', abs(scores['test_score']))\n",
    "    print('평균 교차 검증 NMAE: ', np.mean(abs(scores['test_score'])))\n",
    "    print('valid에 대한 검증 NMAE: ', NMAE(y_valid, np.exp(model.predict(x_valid))))"
   ]
  },
  {
   "cell_type": "markdown",
   "id": "02c07ac8-cd10-44d6-8bf3-803d65caafc6",
   "metadata": {},
   "source": [
    "`-` 모델 앙상블"
   ]
  },
  {
   "cell_type": "code",
   "execution_count": 377,
   "id": "ab38bd4b-98fe-4712-ad3f-a6516b4207db",
   "metadata": {},
   "outputs": [],
   "source": [
    "kfold = KFold(n_splits = 10, random_state = 22, shuffle = True)"
   ]
  },
  {
   "cell_type": "markdown",
   "id": "a843f07e-789d-47f7-ad5f-af933b4b1fb1",
   "metadata": {},
   "source": [
    "`-` 랜덤포레스트"
   ]
  },
  {
   "cell_type": "code",
   "execution_count": 384,
   "id": "2d73314c-ed9a-4ff8-a874-c77913cd83db",
   "metadata": {},
   "outputs": [],
   "source": [
    "rf_valid = []\n",
    "rf_predict = np.zeros(test2.shape[0])\n",
    "\n",
    "for train_idx, valid_idx in kfold.split(dt3, log_target):\n",
    "    x_train, y_train = dt3.iloc[train_idx], log_target.iloc[train_idx]\n",
    "    x_valid, y_valid = dt3.iloc[valid_idx], np.exp(log_target.iloc[valid_idx])\n",
    "    \n",
    "    rf = RandomForestRegressor(random_state = 22, criterion = 'mae')\n",
    "    rf.fit(x_train, y_train)\n",
    "    y_predict = np.exp(rf.predict(x_valid)) ## valid셋 예측\n",
    "    test_predict = np.exp(rf.predict(test2)) ## test셋 예측\n",
    "\n",
    "    rf_valid.append(NMAE(y_predict, y_valid)) ## valid 예측값\n",
    "    rf_predict += test_predict / 10 ## test 예측값(10 Fold)"
   ]
  },
  {
   "cell_type": "markdown",
   "id": "5677a23f-6b03-4ae6-b1af-739350476d50",
   "metadata": {},
   "source": [
    "`-` cat 부스트"
   ]
  },
  {
   "cell_type": "code",
   "execution_count": 385,
   "id": "73b2d37f-8573-49cf-a91b-4a4378e3cc37",
   "metadata": {},
   "outputs": [],
   "source": [
    "cb_valid = []\n",
    "cb_predict = np.zeros(test2.shape[0])\n",
    "\n",
    "for train_idx, valid_idx in kfold.split(dt3, log_target):\n",
    "    x_train, y_train = dt3.iloc[train_idx], log_target.iloc[train_idx]\n",
    "    x_valid, y_valid = dt3.iloc[valid_idx], np.exp(log_target.iloc[valid_idx])\n",
    "    \n",
    "    cb = CatBoostRegressor(random_state = 22, learning_rate = 0.03, n_estimators = 3000, depth = 4, loss_function = 'MAE', verbose = 0)\n",
    "    cb.fit(x_train, y_train)\n",
    "    y_predict = np.exp(cb.predict(x_valid)) ## valid셋 예측\n",
    "    test_predict = np.exp(cb.predict(test2)) ## test셋 예측\n",
    "\n",
    "    cb_valid.append(NMAE(y_predict, y_valid)) ## valid 예측값\n",
    "    cb_predict += test_predict / 10 ## test 예측값(10 Fold)"
   ]
  },
  {
   "cell_type": "markdown",
   "id": "6d7b96e0-d0e0-493e-90f9-94e10fa056f7",
   "metadata": {},
   "source": [
    "`-` 그래디언트 부스트"
   ]
  },
  {
   "cell_type": "code",
   "execution_count": 386,
   "id": "20cf4e0e-4ee5-4b00-ae9d-f69912ecdd71",
   "metadata": {},
   "outputs": [],
   "source": [
    "gb_valid = []\n",
    "gb_predict = np.zeros(test2.shape[0])\n",
    "\n",
    "for train_idx, valid_idx in kfold.split(dt3, log_target):\n",
    "    x_train, y_train = dt3.iloc[train_idx], log_target.iloc[train_idx]\n",
    "    x_valid, y_valid = dt3.iloc[valid_idx], np.exp(log_target.iloc[valid_idx])\n",
    "    \n",
    "    gb = GradientBoostingRegressor(random_state = 22, n_estimators = 350, learning_rate = 0.03, max_depth = 4)\n",
    "    gb.fit(x_train, y_train)\n",
    "    y_predict = np.exp(gb.predict(x_valid)) ## valid셋 예측\n",
    "    test_predict = np.exp(gb.predict(test2)) ## test셋 예측\n",
    "\n",
    "    gb_valid.append(NMAE(y_predict, y_valid)) ## valid 예측값\n",
    "    gb_predict += test_predict / 10 ## test 예측값(10 Fold)"
   ]
  },
  {
   "cell_type": "markdown",
   "id": "7d1ca4e4-59dd-4513-a357-30d87bd1464d",
   "metadata": {},
   "source": [
    "`-` xgb"
   ]
  },
  {
   "cell_type": "code",
   "execution_count": 387,
   "id": "6659bca0-15cf-4635-9f29-3ea608ff80c3",
   "metadata": {},
   "outputs": [],
   "source": [
    "xgb_valid = []\n",
    "xgb_predict = np.zeros(test2.shape[0])\n",
    "\n",
    "for train_idx, valid_idx in kfold.split(dt3, log_target):\n",
    "    x_train, y_train = dt3.iloc[train_idx], log_target.iloc[train_idx]\n",
    "    x_valid, y_valid = dt3.iloc[valid_idx], np.exp(log_target.iloc[valid_idx])\n",
    "    \n",
    "    xgb = XGBRegressor(random_state = 22, n_estimators = 500,  max_depth = 4, learning_rate = 0.03) \n",
    "    xgb.fit(x_train, y_train)\n",
    "    y_predict = np.exp(xgb.predict(x_valid)) ## valid셋 예측\n",
    "    test_predict = np.exp(xgb.predict(test2)) ## test셋 예측\n",
    "\n",
    "    xgb_valid.append(NMAE(y_predict, y_valid)) ## valid 예측값\n",
    "    xgb_predict += test_predict / 10 ## test 예측값(10 Fold)"
   ]
  },
  {
   "cell_type": "markdown",
   "id": "5dcd24d3-3fb7-4961-a320-8d8b9ee8d023",
   "metadata": {},
   "source": [
    "`-` lgbm"
   ]
  },
  {
   "cell_type": "code",
   "execution_count": 388,
   "id": "cd0a9c62-1c0b-4dec-ae3e-6981d3da283f",
   "metadata": {},
   "outputs": [],
   "source": [
    "lgb_valid = []\n",
    "lgb_predict = np.zeros(test2.shape[0])\n",
    "\n",
    "for train_idx, valid_idx in kfold.split(dt3, log_target):\n",
    "    x_train, y_train = dt3.iloc[train_idx], log_target.iloc[train_idx]\n",
    "    x_valid, y_valid = dt3.iloc[valid_idx], np.exp(log_target.iloc[valid_idx])\n",
    "    \n",
    "    lgb = LGBMRegressor(random_state = 22, n_estimators = 350, max_depth = 3, learning_rate = 0.03)\n",
    "    lgb.fit(x_train, y_train)\n",
    "    y_predict = np.exp(lgb.predict(x_valid)) ## valid셋 예측\n",
    "    test_predict = np.exp(lgb.predict(test2)) ## test셋 예측\n",
    "\n",
    "    lgb_valid.append(NMAE(y_predict, y_valid)) ## valid 예측값\n",
    "    lgb_predict += test_predict / 10 ## test 예측값(10 Fold)"
   ]
  },
  {
   "cell_type": "markdown",
   "id": "690868a0-3058-4dd3-8e4d-7b1edf970fd9",
   "metadata": {},
   "source": [
    "`-` ridge"
   ]
  },
  {
   "cell_type": "code",
   "execution_count": 389,
   "id": "e9e63706-265a-4267-abfd-867af3e48c37",
   "metadata": {},
   "outputs": [],
   "source": [
    "ridge_valid = []\n",
    "ridge_predict = np.zeros(test2.shape[0])\n",
    "\n",
    "for train_idx, valid_idx in kfold.split(dt3, log_target):\n",
    "    x_train, y_train = dt3.iloc[train_idx], log_target.iloc[train_idx]\n",
    "    x_valid, y_valid = dt3.iloc[valid_idx], np.exp(log_target.iloc[valid_idx])\n",
    "    \n",
    "    ridge = Ridge(alpha = 0.4, random_state = 22)\n",
    "    ridge.fit(x_train, y_train)\n",
    "    y_predict = np.exp(ridge.predict(x_valid)) ## valid셋 예측\n",
    "    test_predict = np.exp(ridge.predict(test2)) ## test셋 예측\n",
    "\n",
    "    ridge_valid.append(NMAE(y_predict, y_valid)) ## valid 예측값\n",
    "    ridge_predict += test_predict / 10 ## test 예측값(10 Fold)"
   ]
  },
  {
   "cell_type": "markdown",
   "id": "fbe3017e-f804-4560-bb11-8491c9e1beee",
   "metadata": {},
   "source": [
    "`-` lasso"
   ]
  },
  {
   "cell_type": "code",
   "execution_count": 390,
   "id": "315016e2-0705-4dab-a2ae-cc22224cfec9",
   "metadata": {},
   "outputs": [],
   "source": [
    "lasso_valid = []\n",
    "lasso_predict = np.zeros(test2.shape[0])\n",
    "\n",
    "for train_idx, valid_idx in kfold.split(dt3, log_target):\n",
    "    x_train, y_train = dt3.iloc[train_idx], log_target.iloc[train_idx]\n",
    "    x_valid, y_valid = dt3.iloc[valid_idx], np.exp(log_target.iloc[valid_idx])\n",
    "    \n",
    "    lasso = Lasso(alpha = 0.008, random_state = 22)\n",
    "    lasso.fit(x_train, y_train)\n",
    "    y_predict = np.exp(lasso.predict(x_valid)) ## valid셋 예측\n",
    "    test_predict = np.exp(lasso.predict(test2)) ## test셋 예측\n",
    "\n",
    "    lasso_valid.append(NMAE(y_predict, y_valid)) ## valid 예측값\n",
    "    lasso_predict += test_predict / 10 ## test 예측값(10 Fold)"
   ]
  },
  {
   "cell_type": "markdown",
   "id": "73fda2bb-505e-4d84-9d20-6ffe7071a960",
   "metadata": {},
   "source": [
    "`-` 성능이 좋은 모형을 앙상블하자"
   ]
  },
  {
   "cell_type": "code",
   "execution_count": 391,
   "id": "79d5b3b5-8e28-44c4-9601-3b5e9cfa4b0e",
   "metadata": {},
   "outputs": [
    {
     "data": {
      "text/plain": [
       "(0.0942707986058594,\n",
       " 0.09251502710113897,\n",
       " 0.08906182700088569,\n",
       " 0.09239366663817983,\n",
       " 0.09242420208015215,\n",
       " 0.09230907679723946,\n",
       " 0.09266565396370621)"
      ]
     },
     "execution_count": 391,
     "metadata": {},
     "output_type": "execute_result"
    }
   ],
   "source": [
    "np.mean(rf_valid), np.mean(gb_valid), np.mean(cb_valid), np.mean(xgb_valid), np.mean(lgb_valid), np.mean(ridge_valid), np.mean(lasso_valid)"
   ]
  },
  {
   "cell_type": "code",
   "execution_count": 425,
   "id": "d0cd6a06-6c78-42e9-afc4-bd7aa9455d83",
   "metadata": {},
   "outputs": [],
   "source": [
    "pred = (gb_predict + cb_predict + xgb_predict + lgb_predict + ridge_predict) / 5"
   ]
  },
  {
   "cell_type": "code",
   "execution_count": 367,
   "id": "07528f6b-5bc6-4970-b53a-0eaaf56cbe28",
   "metadata": {},
   "outputs": [],
   "source": [
    "submission = pd.read_csv('C:/Users/Jaesu/github_desktop/Dacon-Basic/집값-예측/Data/sample_submission.csv')"
   ]
  },
  {
   "cell_type": "code",
   "execution_count": 427,
   "id": "7e8f4f84-7364-48ed-9b93-741dacb11589",
   "metadata": {},
   "outputs": [
    {
     "data": {
      "text/html": [
       "<div>\n",
       "<style scoped>\n",
       "    .dataframe tbody tr th:only-of-type {\n",
       "        vertical-align: middle;\n",
       "    }\n",
       "\n",
       "    .dataframe tbody tr th {\n",
       "        vertical-align: top;\n",
       "    }\n",
       "\n",
       "    .dataframe thead th {\n",
       "        text-align: right;\n",
       "    }\n",
       "</style>\n",
       "<table border=\"1\" class=\"dataframe\">\n",
       "  <thead>\n",
       "    <tr style=\"text-align: right;\">\n",
       "      <th></th>\n",
       "      <th>id</th>\n",
       "      <th>target</th>\n",
       "    </tr>\n",
       "  </thead>\n",
       "  <tbody>\n",
       "    <tr>\n",
       "      <th>0</th>\n",
       "      <td>1</td>\n",
       "      <td>336046.709249</td>\n",
       "    </tr>\n",
       "    <tr>\n",
       "      <th>1</th>\n",
       "      <td>2</td>\n",
       "      <td>128230.394997</td>\n",
       "    </tr>\n",
       "    <tr>\n",
       "      <th>2</th>\n",
       "      <td>3</td>\n",
       "      <td>172234.214137</td>\n",
       "    </tr>\n",
       "    <tr>\n",
       "      <th>3</th>\n",
       "      <td>4</td>\n",
       "      <td>249201.818059</td>\n",
       "    </tr>\n",
       "    <tr>\n",
       "      <th>4</th>\n",
       "      <td>5</td>\n",
       "      <td>134137.036193</td>\n",
       "    </tr>\n",
       "  </tbody>\n",
       "</table>\n",
       "</div>"
      ],
      "text/plain": [
       "   id         target\n",
       "0   1  336046.709249\n",
       "1   2  128230.394997\n",
       "2   3  172234.214137\n",
       "3   4  249201.818059\n",
       "4   5  134137.036193"
      ]
     },
     "execution_count": 427,
     "metadata": {},
     "output_type": "execute_result"
    }
   ],
   "source": [
    "## 위에서 구한 예측값을 그대로 넣어줌\n",
    "submission['target'] = pred\n",
    "\n",
    "## 데이터가 잘 들어갔는지 확인\n",
    "submission.head()"
   ]
  },
  {
   "cell_type": "code",
   "execution_count": 369,
   "id": "e0fe3d12-732f-44bf-87ab-f587ab29d011",
   "metadata": {},
   "outputs": [],
   "source": [
    "## submission을 csv 파일로 저장\n",
    "submission.to_csv('C:/Users/Jaesu/github_desktop/Dacon-Basic/집값-예측/Data/submission20.csv', index = False)"
   ]
  },
  {
   "cell_type": "code",
   "execution_count": 428,
   "id": "10eff04a-da43-4b7b-b080-d2244b6a3541",
   "metadata": {},
   "outputs": [],
   "source": [
    "# pred = (gb_predict + cb_predict + xgb_predict + lgb_predict) / 4\n",
    "# 점수는 0.0929077786\n",
    "# 선형모델은 성능이 좋지 않았음(스케일링도 안했고 피쳐수도 너무 많다)"
   ]
  },
  {
   "cell_type": "markdown",
   "id": "784acd58-8d57-465e-b7cb-5568dc8270b4",
   "metadata": {},
   "source": [
    "`-` 트리 모형은 스케일링에 큰 영향을 받지 않는다\n",
    "\n",
    "`-` 스케일링을 한다면 test 데이터에 대해 오차가 생길 수 밖에 없기에 굳이 안해도 되면 안할 것임"
   ]
  },
  {
   "cell_type": "markdown",
   "id": "16b83be6-16ee-42fa-981d-97b881015448",
   "metadata": {},
   "source": [
    "`-` 위에서는 10개의 폴드로 나누고 각각의 폴드로 test를 예측했는데\n",
    "\n",
    "`-` 굳이 그러지말고 모델의 성능은 확인했으니 전체 train을 모델에 학습시키고 test를 예측했다\n",
    "\n",
    "`-` 점수는 $0.0925983911$이다"
   ]
  },
  {
   "cell_type": "markdown",
   "id": "4a430445-c593-458a-a453-bbd455e1dcf1",
   "metadata": {},
   "source": [
    "```python\n",
    "## 아래와 같이 코딩함\n",
    "gb.fit(dt3, log_target)\n",
    "xgb.fit(dt3, log_target)\n",
    "lgb.fit(dt3, log_target)\n",
    "cb.fit(dt3, log_target)\n",
    "\n",
    "gb_pred = np.exp(gb.predict(test2))\n",
    "lgb_pred = np.exp(lgb.predict(test2))\n",
    "xgb_pred = np.exp(xgb.predict(test2))\n",
    "cb_pred = np.exp(cb.predict(test2))\n",
    "\n",
    "## 위에서 구한 예측값을 그대로 넣어줌\n",
    "submission['target'] = (gb_pred + xgb_pred + lgb_pred + cb_pred) / 4\n",
    "```"
   ]
  },
  {
   "cell_type": "markdown",
   "id": "458816ce-1ad3-4367-b446-ecc0ee091ee1",
   "metadata": {},
   "source": [
    "## 전체 집값과 Overall_Qual에 따른 집값을 기준으로 이상점 제거"
   ]
  },
  {
   "cell_type": "markdown",
   "id": "b5f11242-1e2c-46f8-8059-8e1f4d663293",
   "metadata": {},
   "source": [
    "`-` 모델의 하이퍼파라미터를 최적화시키지 않은 기준으로 보면 성능이 좋지 않았음"
   ]
  },
  {
   "cell_type": "code",
   "execution_count": 311,
   "id": "9215b752-bb19-423f-a150-8bdff8d21383",
   "metadata": {},
   "outputs": [],
   "source": [
    "df2 = df.copy()"
   ]
  },
  {
   "cell_type": "code",
   "execution_count": 312,
   "id": "8d0bd68c-43ae-4580-addb-f0ae26e5788a",
   "metadata": {},
   "outputs": [],
   "source": [
    "l = []\n",
    "for i in df2['Overall_Qual'].unique():\n",
    "    l.extend(remove_outlier(df2.query('Overall_Qual == @i')[['target']]).query('target == True').index.tolist()) ## 이상점이 아닌 인덱스번호만 추가\n",
    "             \n",
    "l = list(set(l) & set(remove_outlier(df2[['target']]).query('target == True').index.tolist()))"
   ]
  },
  {
   "cell_type": "code",
   "execution_count": 313,
   "id": "adc5abbf-376f-445a-a043-be625f786e49",
   "metadata": {},
   "outputs": [
    {
     "data": {
      "text/plain": [
       "1299"
      ]
     },
     "execution_count": 313,
     "metadata": {},
     "output_type": "execute_result"
    }
   ],
   "source": [
    "len(l)"
   ]
  },
  {
   "cell_type": "code",
   "execution_count": 314,
   "id": "ff452853-52b4-4a36-9128-851ad255dd44",
   "metadata": {},
   "outputs": [],
   "source": [
    "df2 = df2.loc[l,:].reset_index().drop('index', axis = 1)"
   ]
  },
  {
   "cell_type": "markdown",
   "id": "bc86758c-e8eb-4997-8ff6-a32360d7b519",
   "metadata": {},
   "source": [
    "`-` 이상으로 이상점 제거를 마쳤다"
   ]
  },
  {
   "cell_type": "markdown",
   "id": "d065e66e-cd60-495e-bbaa-96b6cac54dc5",
   "metadata": {},
   "source": [
    "### 파생변수 생성"
   ]
  },
  {
   "cell_type": "code",
   "execution_count": 315,
   "id": "9da66274-39a0-486e-8b86-33fa7125023e",
   "metadata": {},
   "outputs": [],
   "source": [
    "dt = df2.copy()"
   ]
  },
  {
   "cell_type": "code",
   "execution_count": 316,
   "id": "3d2878b9-3f5f-4088-9041-0773727a2713",
   "metadata": {},
   "outputs": [],
   "source": [
    "target = dt['target']  ## target\n",
    "dt = dt.iloc[:, :-1]   ## target 제외한 데이터프레임"
   ]
  },
  {
   "cell_type": "code",
   "execution_count": 317,
   "id": "d3f3d8fe-0bfc-4b41-bdf1-089ca8b1ca98",
   "metadata": {},
   "outputs": [],
   "source": [
    "def feature_eng3(data_):\n",
    "    data = data_.copy()\n",
    "    data['Year_Gap_Remod'] = data['Year_Remod_Add'] - data['Year_Built'] ## 완공을 하고 몇 년뒤에 리모델링을 했는지를 나타냄\n",
    "    #data['Car_Area'] = data['Garage_Area'] / data['Garage_Cars'] ## car 하나당 차지하는 차고의 면적 ## 쓸모없어서 하지 않음 ## Garage_Area로 대체 가능\n",
    "    data['Total_SF'] = data[['Gr_Liv_Area', 'Garage_Area', 'Total_Bsmt_SF']].sum(axis = 1) ## 전체 집의 면적\n",
    "    data['The_Rest_Qual'] = data['Exter_Qual']*0.1 + data['Garage_Cars']*0.1 + data['Kitchen_Qual']*0.2 + data['Bsmt_Qual']*0.2 + data['Full_Bath']*0.3\n",
    "    #data['The_Rest_Qual'] = (data['Exter_Qual'] + data['Garage_Cars'] + data['Kitchen_Qual'] + data['Bsmt_Qual'] + data['Full_Bath']) / 5\n",
    "    #data['The_Rest_Qual'] = (data['Exter_Qual']*0.1 + data['Garage_Cars']*0.1 + data['Kitchen_Qual']*0.2 + data['Bsmt_Qual']*0.2 + data['Full_Bath']*0.3 + data['Overall_Qual']) / 2\n",
    "    ## Overall_Qual은 다른 퀄리티 변수를 모두 포함하는 변수라 따로 취급했다\n",
    "    \n",
    "    data.drop(['Year_Remod_Add', 'Garage_Cars', 'Garage_Yr_Blt'] , axis = 1, inplace = True) ## 효용가치가 없는 변수 제거\n",
    "    ## 다른 퀄리티 변수도 드랍할지 고민\n",
    "    ## 1층은 냅뒀는데 집을 살 때 보통 1층을 먼저 볼것이니 1층이 중요하다고 생각함\n",
    "    return data"
   ]
  },
  {
   "cell_type": "code",
   "execution_count": 318,
   "id": "47b7a66e-ffdf-45ef-80a4-967032215bf9",
   "metadata": {},
   "outputs": [],
   "source": [
    "dt2 = feature_eng3(dt)"
   ]
  },
  {
   "cell_type": "markdown",
   "id": "37559d59-3dca-49bb-9fd6-2264b3dee6b5",
   "metadata": {
    "tags": []
   },
   "source": [
    "### 모델 앙상블"
   ]
  },
  {
   "cell_type": "code",
   "execution_count": 131,
   "id": "b51321bb-13e1-48da-aa88-b86cc830734c",
   "metadata": {},
   "outputs": [],
   "source": [
    "from sklearn.ensemble import RandomForestRegressor, GradientBoostingRegressor  \n",
    "from xgboost import XGBRegressor \n",
    "from lightgbm import LGBMRegressor \n",
    "from catboost import CatBoostRegressor\n",
    "from sklearn.model_selection import GridSearchCV, train_test_split, cross_validate, KFold\n",
    "from sklearn.metrics import make_scorer"
   ]
  },
  {
   "cell_type": "code",
   "execution_count": 319,
   "id": "156a5c4f-5c27-490a-a5d1-35e2a5077206",
   "metadata": {},
   "outputs": [],
   "source": [
    "x_train, x_valid, y_train, y_valid = train_test_split(dt2, target, shuffle = True, test_size = 0.2, random_state = 22)"
   ]
  },
  {
   "cell_type": "code",
   "execution_count": 320,
   "id": "5422157c-5dac-4f12-97a1-18c8bf650128",
   "metadata": {},
   "outputs": [],
   "source": [
    "log_y_train = np.log(y_train)"
   ]
  },
  {
   "cell_type": "code",
   "execution_count": 321,
   "id": "09fd0fe3-f094-45ac-9125-fe18f9c4fd4c",
   "metadata": {},
   "outputs": [],
   "source": [
    "log_target = np.log(target)"
   ]
  },
  {
   "cell_type": "markdown",
   "id": "04c9e4aa-1bfe-434c-9232-d38ad23c78bb",
   "metadata": {},
   "source": [
    "`-` 스케일링은 하지 않음"
   ]
  },
  {
   "cell_type": "markdown",
   "id": "000b19d6-365a-466b-a105-9d72bb7bc86c",
   "metadata": {},
   "source": [
    "`-` 데이터를 train과 valid로 나눈다\n",
    "\n",
    "`-` 그리고 train에 대해 교차검증(train을 train2와 valid2로 나누어 모형을 평가)을 한다\n",
    "\n",
    "`-` 그리고 교차검증에 사용한 모델로 valid를 평가한다\n",
    "\n",
    "`-` 교차검증을 통해 측정한 성능과 valid로 측정한 성능이 둘 다 좋다면 괜찮은 모델이다"
   ]
  },
  {
   "cell_type": "code",
   "execution_count": 324,
   "id": "ae3ecb29-0452-4966-a809-17ad8a55231a",
   "metadata": {},
   "outputs": [],
   "source": [
    "rf = RandomForestRegressor(random_state = 22, criterion = 'mae')\n",
    "gb = GradientBoostingRegressor(random_state = 22, n_estimators = 350, learning_rate = 0.03, max_depth = 4)\n",
    "cb = CatBoostRegressor(random_state = 22, learning_rate = 0.03, n_estimators = 1000, depth = 4, loss_function = 'MAE', verbose = 0)\n",
    "xgb = XGBRegressor(random_state = 22, n_estimators = 500,  max_depth = 4, learning_rate = 0.03) \n",
    "lgb = LGBMRegressor(random_state = 22, n_estimators = 350, max_depth = 3, learning_rate = 0.03)"
   ]
  },
  {
   "cell_type": "code",
   "execution_count": 325,
   "id": "37637da7-e67e-4570-8b21-6d556b8b5c48",
   "metadata": {},
   "outputs": [
    {
     "name": "stdout",
     "output_type": "stream",
     "text": [
      "---------------------------------------------\n",
      "교차 검증별 NMAE:  [0.08895869 0.0914522  0.08677014 0.09123053 0.0891177  0.08760941\n",
      " 0.09715463 0.08516482 0.0932697  0.08679781]\n",
      "평균 교차 검증 NMAE:  0.08975256140220303\n",
      "valid에 대한 검증 NMAE:  0.08810418141089467\n",
      "---------------------------------------------\n",
      "교차 검증별 NMAE:  [0.08726128 0.09116885 0.080729   0.09069824 0.09045394 0.08012546\n",
      " 0.0896421  0.08324834 0.09237142 0.08569798]\n",
      "평균 교차 검증 NMAE:  0.0871396600590819\n",
      "valid에 대한 검증 NMAE:  0.08402900953030686\n",
      "---------------------------------------------\n",
      "교차 검증별 NMAE:  [0.08107538 0.09046633 0.07543391 0.08588825 0.09295194 0.08103876\n",
      " 0.08621714 0.08502467 0.09261    0.08554006]\n",
      "평균 교차 검증 NMAE:  0.08562464371206577\n",
      "valid에 대한 검증 NMAE:  0.08088816408151467\n",
      "---------------------------------------------\n",
      "교차 검증별 NMAE:  [0.08306371 0.09044917 0.08073993 0.08837718 0.09178245 0.08368917\n",
      " 0.09027859 0.08916774 0.0909205  0.08469581]\n",
      "평균 교차 검증 NMAE:  0.08731642577647392\n",
      "valid에 대한 검증 NMAE:  0.08761443236809065\n",
      "---------------------------------------------\n",
      "교차 검증별 NMAE:  [0.08240945 0.09046753 0.08112318 0.08656408 0.09383528 0.07930328\n",
      " 0.08801612 0.08640711 0.09639802 0.08572609]\n",
      "평균 교차 검증 NMAE:  0.08702501231490764\n",
      "valid에 대한 검증 NMAE:  0.08284421903992105\n"
     ]
    }
   ],
   "source": [
    "for model in [rf, gb, cb, xgb, lgb]:\n",
    "    scores = cross_validate(model, dt2, log_target, scoring = score, cv = 10)\n",
    "    model.fit(x_train, log_y_train)\n",
    "    print('---------------------------------------------')\n",
    "    print('교차 검증별 NMAE: ', abs(scores['test_score']))\n",
    "    print('평균 교차 검증 NMAE: ', np.mean(abs(scores['test_score'])))\n",
    "    print('valid에 대한 검증 NMAE: ', NMAE(y_valid, np.exp(model.predict(x_valid))))"
   ]
  },
  {
   "cell_type": "code",
   "execution_count": 327,
   "id": "263b19ac-86f6-45ee-bf91-2fddc7c6c812",
   "metadata": {},
   "outputs": [],
   "source": [
    "test2 = feature_eng3(test)"
   ]
  },
  {
   "cell_type": "code",
   "execution_count": 329,
   "id": "8668a630-ab4c-44cb-a27c-b48ac7d519aa",
   "metadata": {},
   "outputs": [
    {
     "data": {
      "text/plain": [
       "XGBRegressor(base_score=0.5, booster='gbtree', colsample_bylevel=1,\n",
       "             colsample_bynode=1, colsample_bytree=1, enable_categorical=False,\n",
       "             gamma=0, gpu_id=-1, importance_type=None,\n",
       "             interaction_constraints='', learning_rate=0.03, max_delta_step=0,\n",
       "             max_depth=4, min_child_weight=1, missing=nan,\n",
       "             monotone_constraints='()', n_estimators=500, n_jobs=4,\n",
       "             num_parallel_tree=1, predictor='auto', random_state=22,\n",
       "             reg_alpha=0, reg_lambda=1, scale_pos_weight=1, subsample=1,\n",
       "             tree_method='exact', validate_parameters=1, verbosity=None)"
      ]
     },
     "execution_count": 329,
     "metadata": {},
     "output_type": "execute_result"
    }
   ],
   "source": [
    "rf.fit(dt2, log_target)\n",
    "cb.fit(dt2, log_target)\n",
    "gb.fit(dt2, log_target)\n",
    "lgb.fit(dt2, log_target)\n",
    "xgb.fit(dt2, log_target)"
   ]
  },
  {
   "cell_type": "code",
   "execution_count": 333,
   "id": "ef9eaa1c-694b-4f25-bd24-dbe39b96c41a",
   "metadata": {},
   "outputs": [],
   "source": [
    "pred = (np.exp(rf.predict(test2)) + np.exp(cb.predict(test2)) + np.exp(gb.predict(test2))+ np.exp(lgb.predict(test2))+ np.exp(xgb.predict(test2))) / 5"
   ]
  },
  {
   "cell_type": "code",
   "execution_count": 334,
   "id": "4d10efb8-90c2-4b02-96cd-7541ca710663",
   "metadata": {},
   "outputs": [],
   "source": [
    "submission = pd.read_csv('C:/Users/Jaesu/github_desktop/Dacon-Basic/집값-예측/Data/sample_submission.csv')"
   ]
  },
  {
   "cell_type": "code",
   "execution_count": 335,
   "id": "30d62843-7af2-40c9-a32e-3cd4e5bf53d0",
   "metadata": {},
   "outputs": [
    {
     "data": {
      "text/html": [
       "<div>\n",
       "<style scoped>\n",
       "    .dataframe tbody tr th:only-of-type {\n",
       "        vertical-align: middle;\n",
       "    }\n",
       "\n",
       "    .dataframe tbody tr th {\n",
       "        vertical-align: top;\n",
       "    }\n",
       "\n",
       "    .dataframe thead th {\n",
       "        text-align: right;\n",
       "    }\n",
       "</style>\n",
       "<table border=\"1\" class=\"dataframe\">\n",
       "  <thead>\n",
       "    <tr style=\"text-align: right;\">\n",
       "      <th></th>\n",
       "      <th>id</th>\n",
       "      <th>target</th>\n",
       "    </tr>\n",
       "  </thead>\n",
       "  <tbody>\n",
       "    <tr>\n",
       "      <th>0</th>\n",
       "      <td>1</td>\n",
       "      <td>334786.425670</td>\n",
       "    </tr>\n",
       "    <tr>\n",
       "      <th>1</th>\n",
       "      <td>2</td>\n",
       "      <td>128105.519950</td>\n",
       "    </tr>\n",
       "    <tr>\n",
       "      <th>2</th>\n",
       "      <td>3</td>\n",
       "      <td>173958.213936</td>\n",
       "    </tr>\n",
       "    <tr>\n",
       "      <th>3</th>\n",
       "      <td>4</td>\n",
       "      <td>250719.737624</td>\n",
       "    </tr>\n",
       "    <tr>\n",
       "      <th>4</th>\n",
       "      <td>5</td>\n",
       "      <td>133995.721519</td>\n",
       "    </tr>\n",
       "  </tbody>\n",
       "</table>\n",
       "</div>"
      ],
      "text/plain": [
       "   id         target\n",
       "0   1  334786.425670\n",
       "1   2  128105.519950\n",
       "2   3  173958.213936\n",
       "3   4  250719.737624\n",
       "4   5  133995.721519"
      ]
     },
     "execution_count": 335,
     "metadata": {},
     "output_type": "execute_result"
    }
   ],
   "source": [
    "## 위에서 구한 예측값을 그대로 넣어줌\n",
    "submission['target'] = pred\n",
    "\n",
    "## 데이터가 잘 들어갔는지 확인\n",
    "submission.head()"
   ]
  },
  {
   "cell_type": "code",
   "execution_count": 336,
   "id": "ae191836-aebb-4c3f-a41c-df89f1962c02",
   "metadata": {},
   "outputs": [],
   "source": [
    "## submission을 csv 파일로 저장\n",
    "submission.to_csv('C:/Users/Jaesu/github_desktop/Dacon-Basic/집값-예측/Data/submission19.csv', index = False)"
   ]
  },
  {
   "cell_type": "markdown",
   "id": "27edfad2-8fe0-4afe-858f-dd897d6417e6",
   "metadata": {},
   "source": [
    "`-` 점수는 약 $0.973$"
   ]
  },
  {
   "cell_type": "code",
   "execution_count": null,
   "id": "99d119b9-6f73-42a9-9a7f-4fd3de9c13bc",
   "metadata": {},
   "outputs": [],
   "source": []
  }
 ],
 "metadata": {
  "kernelspec": {
   "display_name": "Python 3 (ipykernel)",
   "language": "python",
   "name": "python3"
  },
  "language_info": {
   "codemirror_mode": {
    "name": "ipython",
    "version": 3
   },
   "file_extension": ".py",
   "mimetype": "text/x-python",
   "name": "python",
   "nbconvert_exporter": "python",
   "pygments_lexer": "ipython3",
   "version": "3.8.11"
  }
 },
 "nbformat": 4,
 "nbformat_minor": 5
}
