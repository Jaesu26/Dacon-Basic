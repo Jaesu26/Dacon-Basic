{
 "cells": [
  {
   "cell_type": "markdown",
   "id": "2cf2cf69-f744-432b-9012-515e9c265147",
   "metadata": {},
   "source": [
    "# 집값 예측 경진대회"
   ]
  },
  {
   "cell_type": "markdown",
   "id": "82949d40-bd77-456c-b59e-40d6175066be",
   "metadata": {},
   "source": [
    "## 패키지 import 및 데이터 전처리"
   ]
  },
  {
   "cell_type": "code",
   "execution_count": 2,
   "id": "1fbb8f5e-cb76-4300-a997-1bfc475efa16",
   "metadata": {},
   "outputs": [],
   "source": [
    "import pandas as pd\n",
    "import numpy as np\n",
    "import matplotlib.pyplot as plt\n",
    "import seaborn as sns\n",
    "\n",
    "import warnings\n",
    "warnings.filterwarnings('ignore')"
   ]
  },
  {
   "cell_type": "code",
   "execution_count": 208,
   "id": "18b089b8-689b-4d1a-99bc-c61541152c86",
   "metadata": {},
   "outputs": [],
   "source": [
    "df = pd.read_csv('C:/Users/Jaesu/github_desktop/Dacon-Basic/집값-예측/Data/train.csv')\n",
    "test = pd.read_csv('C:/Users/Jaesu/github_desktop/Dacon-Basic/집값-예측/Data/test.csv')"
   ]
  },
  {
   "cell_type": "code",
   "execution_count": 182,
   "id": "1e00560e-60a8-426c-af3e-1e4365537346",
   "metadata": {},
   "outputs": [
    {
     "data": {
      "text/html": [
       "<div>\n",
       "<style scoped>\n",
       "    .dataframe tbody tr th:only-of-type {\n",
       "        vertical-align: middle;\n",
       "    }\n",
       "\n",
       "    .dataframe tbody tr th {\n",
       "        vertical-align: top;\n",
       "    }\n",
       "\n",
       "    .dataframe thead th {\n",
       "        text-align: right;\n",
       "    }\n",
       "</style>\n",
       "<table border=\"1\" class=\"dataframe\">\n",
       "  <thead>\n",
       "    <tr style=\"text-align: right;\">\n",
       "      <th></th>\n",
       "      <th>id</th>\n",
       "      <th>Overall Qual</th>\n",
       "      <th>Gr Liv Area</th>\n",
       "      <th>Exter Qual</th>\n",
       "      <th>Garage Cars</th>\n",
       "      <th>Garage Area</th>\n",
       "      <th>Kitchen Qual</th>\n",
       "      <th>Total Bsmt SF</th>\n",
       "      <th>1st Flr SF</th>\n",
       "      <th>Bsmt Qual</th>\n",
       "      <th>Full Bath</th>\n",
       "      <th>Year Built</th>\n",
       "      <th>Year Remod/Add</th>\n",
       "      <th>Garage Yr Blt</th>\n",
       "      <th>target</th>\n",
       "    </tr>\n",
       "  </thead>\n",
       "  <tbody>\n",
       "    <tr>\n",
       "      <th>0</th>\n",
       "      <td>1</td>\n",
       "      <td>10</td>\n",
       "      <td>2392</td>\n",
       "      <td>Ex</td>\n",
       "      <td>3</td>\n",
       "      <td>968</td>\n",
       "      <td>Ex</td>\n",
       "      <td>2392</td>\n",
       "      <td>2392</td>\n",
       "      <td>Ex</td>\n",
       "      <td>2</td>\n",
       "      <td>2003</td>\n",
       "      <td>2003</td>\n",
       "      <td>2003</td>\n",
       "      <td>386250</td>\n",
       "    </tr>\n",
       "    <tr>\n",
       "      <th>1</th>\n",
       "      <td>2</td>\n",
       "      <td>7</td>\n",
       "      <td>1352</td>\n",
       "      <td>Gd</td>\n",
       "      <td>2</td>\n",
       "      <td>466</td>\n",
       "      <td>Gd</td>\n",
       "      <td>1352</td>\n",
       "      <td>1352</td>\n",
       "      <td>Ex</td>\n",
       "      <td>2</td>\n",
       "      <td>2006</td>\n",
       "      <td>2007</td>\n",
       "      <td>2006</td>\n",
       "      <td>194000</td>\n",
       "    </tr>\n",
       "    <tr>\n",
       "      <th>2</th>\n",
       "      <td>3</td>\n",
       "      <td>5</td>\n",
       "      <td>900</td>\n",
       "      <td>TA</td>\n",
       "      <td>1</td>\n",
       "      <td>288</td>\n",
       "      <td>TA</td>\n",
       "      <td>864</td>\n",
       "      <td>900</td>\n",
       "      <td>TA</td>\n",
       "      <td>1</td>\n",
       "      <td>1967</td>\n",
       "      <td>1967</td>\n",
       "      <td>1967</td>\n",
       "      <td>123000</td>\n",
       "    </tr>\n",
       "    <tr>\n",
       "      <th>3</th>\n",
       "      <td>4</td>\n",
       "      <td>5</td>\n",
       "      <td>1174</td>\n",
       "      <td>TA</td>\n",
       "      <td>2</td>\n",
       "      <td>576</td>\n",
       "      <td>Gd</td>\n",
       "      <td>680</td>\n",
       "      <td>680</td>\n",
       "      <td>TA</td>\n",
       "      <td>1</td>\n",
       "      <td>1900</td>\n",
       "      <td>2006</td>\n",
       "      <td>2000</td>\n",
       "      <td>135000</td>\n",
       "    </tr>\n",
       "    <tr>\n",
       "      <th>4</th>\n",
       "      <td>5</td>\n",
       "      <td>7</td>\n",
       "      <td>1958</td>\n",
       "      <td>Gd</td>\n",
       "      <td>3</td>\n",
       "      <td>936</td>\n",
       "      <td>Gd</td>\n",
       "      <td>1026</td>\n",
       "      <td>1026</td>\n",
       "      <td>Gd</td>\n",
       "      <td>2</td>\n",
       "      <td>2005</td>\n",
       "      <td>2005</td>\n",
       "      <td>2005</td>\n",
       "      <td>250000</td>\n",
       "    </tr>\n",
       "  </tbody>\n",
       "</table>\n",
       "</div>"
      ],
      "text/plain": [
       "   id  Overall Qual  Gr Liv Area Exter Qual  Garage Cars  Garage Area  \\\n",
       "0   1            10         2392         Ex            3          968   \n",
       "1   2             7         1352         Gd            2          466   \n",
       "2   3             5          900         TA            1          288   \n",
       "3   4             5         1174         TA            2          576   \n",
       "4   5             7         1958         Gd            3          936   \n",
       "\n",
       "  Kitchen Qual  Total Bsmt SF  1st Flr SF Bsmt Qual  Full Bath  Year Built  \\\n",
       "0           Ex           2392        2392        Ex          2        2003   \n",
       "1           Gd           1352        1352        Ex          2        2006   \n",
       "2           TA            864         900        TA          1        1967   \n",
       "3           Gd            680         680        TA          1        1900   \n",
       "4           Gd           1026        1026        Gd          2        2005   \n",
       "\n",
       "   Year Remod/Add  Garage Yr Blt  target  \n",
       "0            2003           2003  386250  \n",
       "1            2007           2006  194000  \n",
       "2            1967           1967  123000  \n",
       "3            2006           2000  135000  \n",
       "4            2005           2005  250000  "
      ]
     },
     "execution_count": 182,
     "metadata": {},
     "output_type": "execute_result"
    }
   ],
   "source": [
    "df.head()"
   ]
  },
  {
   "cell_type": "markdown",
   "id": "0dc526cf-a260-4d82-b8e7-8fa052af5761",
   "metadata": {},
   "source": [
    "`-` id는 필요없으니 제거"
   ]
  },
  {
   "cell_type": "code",
   "execution_count": 209,
   "id": "2a9860c1-0eff-4366-866d-55d1bc856562",
   "metadata": {},
   "outputs": [],
   "source": [
    "df.drop('id', axis = 1, inplace = True)\n",
    "test.drop('id', axis = 1, inplace = True)"
   ]
  },
  {
   "cell_type": "markdown",
   "id": "be47ec25-ce38-4f64-9f07-c6f31f99fe51",
   "metadata": {},
   "source": [
    "`-` 결측치는 없다"
   ]
  },
  {
   "cell_type": "markdown",
   "id": "e16ff8ff-941d-4f72-8beb-0e1abf4c6001",
   "metadata": {},
   "source": [
    "`-` 분석의 편의를 위해 컬럼명을 바꾸겠다"
   ]
  },
  {
   "cell_type": "code",
   "execution_count": 210,
   "id": "2ab6ce7d-183c-4f09-8b10-8b0f0058bed5",
   "metadata": {},
   "outputs": [],
   "source": [
    "## 공백과 슬래쉬를 _로 대체 1을 숫자가 아닌 다른 문자로 바꿈 \n",
    "\n",
    "df.rename(columns = dict(zip(df.columns, [column.replace(' ', '_').replace('/', '_').replace('1', 'Fir') for column in df.columns])), inplace = True) \n",
    "test.rename(columns = dict(zip(test.columns, [column.replace(' ', '_').replace('/', '_').replace('1', 'Fir') for column in test.columns])), inplace = True) "
   ]
  },
  {
   "cell_type": "markdown",
   "id": "a7d3213e-b73d-4788-9ad7-63b3ceaba8fc",
   "metadata": {},
   "source": [
    "`-` 범주형 변수는 Exter Qual(외관 재료 품질;4개), Kitchen Qual(부엌 품질; 4개), Bsmt Qual(지하실 높이;5개)이다\n",
    "\n",
    "`-` 총 5개의 등급이 존재하는데 Poor 등급은 Bsmt Qual에 1개 존재한다(나머지는 0개)\n",
    "\n",
    "`-` 아예 poor등급이 존재하지 않는걸 수 도 있고 poor등급이 존재하는데 poor등급에 해당하는 건물이 존재하지 않는걸 수 도 있다\n",
    "\n",
    "`-` 편의상 후자라고 생각하자(사실 후자가 맞다; 아님말고)\n",
    "\n",
    "`-` 이들은 순서형 변수이므로 라벨 인코딩을 해주자"
   ]
  },
  {
   "cell_type": "markdown",
   "id": "fbb8a45a-f8cf-4be7-9c6f-ddfd510f3953",
   "metadata": {},
   "source": [
    "`-` 좋은 등급이 큰 값을 가지도록 하기위해 라벨인코딩을 정의해주자"
   ]
  },
  {
   "cell_type": "code",
   "execution_count": 185,
   "id": "33c85460-84b7-49f2-8017-ffc3bc68f24f",
   "metadata": {},
   "outputs": [],
   "source": [
    "def label_encoding(data):\n",
    "    grade_label = ['Po', 'Fa', 'TA', 'Gd', 'Ex'] ## 0~4점\n",
    "    \n",
    "    for grade, label in enumerate(grade_label):\n",
    "        if data == label:\n",
    "            return grade"
   ]
  },
  {
   "cell_type": "code",
   "execution_count": 211,
   "id": "5598167a-79d7-4264-ada5-c1d33e71f5d5",
   "metadata": {},
   "outputs": [],
   "source": [
    "for col in df.columns[df.dtypes == 'object']:\n",
    "    df[col] = df[col].apply(lambda x: label_encoding(x))"
   ]
  },
  {
   "cell_type": "code",
   "execution_count": 212,
   "id": "cff42eee-58e0-4c34-96ae-ca0f11be7977",
   "metadata": {},
   "outputs": [],
   "source": [
    "for col in test.columns[test.dtypes == 'object']:\n",
    "    test[col] = test[col].apply(lambda x: label_encoding(x))"
   ]
  },
  {
   "cell_type": "code",
   "execution_count": 187,
   "id": "4835bf39-9e7c-4a2c-8855-9d9a5254ba68",
   "metadata": {},
   "outputs": [
    {
     "data": {
      "text/html": [
       "<div>\n",
       "<style scoped>\n",
       "    .dataframe tbody tr th:only-of-type {\n",
       "        vertical-align: middle;\n",
       "    }\n",
       "\n",
       "    .dataframe tbody tr th {\n",
       "        vertical-align: top;\n",
       "    }\n",
       "\n",
       "    .dataframe thead th {\n",
       "        text-align: right;\n",
       "    }\n",
       "</style>\n",
       "<table border=\"1\" class=\"dataframe\">\n",
       "  <thead>\n",
       "    <tr style=\"text-align: right;\">\n",
       "      <th></th>\n",
       "      <th>Overall_Qual</th>\n",
       "      <th>Gr_Liv_Area</th>\n",
       "      <th>Exter_Qual</th>\n",
       "      <th>Garage_Cars</th>\n",
       "      <th>Garage_Area</th>\n",
       "      <th>Kitchen_Qual</th>\n",
       "      <th>Total_Bsmt_SF</th>\n",
       "      <th>First_Flr_SF</th>\n",
       "      <th>Bsmt_Qual</th>\n",
       "      <th>Full_Bath</th>\n",
       "      <th>Year_Built</th>\n",
       "      <th>Year_Remod_Add</th>\n",
       "      <th>Garage_Yr_Blt</th>\n",
       "      <th>target</th>\n",
       "    </tr>\n",
       "  </thead>\n",
       "  <tbody>\n",
       "    <tr>\n",
       "      <th>0</th>\n",
       "      <td>10</td>\n",
       "      <td>2392</td>\n",
       "      <td>4</td>\n",
       "      <td>3</td>\n",
       "      <td>968</td>\n",
       "      <td>4</td>\n",
       "      <td>2392</td>\n",
       "      <td>2392</td>\n",
       "      <td>4</td>\n",
       "      <td>2</td>\n",
       "      <td>2003</td>\n",
       "      <td>2003</td>\n",
       "      <td>2003</td>\n",
       "      <td>386250</td>\n",
       "    </tr>\n",
       "    <tr>\n",
       "      <th>1</th>\n",
       "      <td>7</td>\n",
       "      <td>1352</td>\n",
       "      <td>3</td>\n",
       "      <td>2</td>\n",
       "      <td>466</td>\n",
       "      <td>3</td>\n",
       "      <td>1352</td>\n",
       "      <td>1352</td>\n",
       "      <td>4</td>\n",
       "      <td>2</td>\n",
       "      <td>2006</td>\n",
       "      <td>2007</td>\n",
       "      <td>2006</td>\n",
       "      <td>194000</td>\n",
       "    </tr>\n",
       "    <tr>\n",
       "      <th>2</th>\n",
       "      <td>5</td>\n",
       "      <td>900</td>\n",
       "      <td>2</td>\n",
       "      <td>1</td>\n",
       "      <td>288</td>\n",
       "      <td>2</td>\n",
       "      <td>864</td>\n",
       "      <td>900</td>\n",
       "      <td>2</td>\n",
       "      <td>1</td>\n",
       "      <td>1967</td>\n",
       "      <td>1967</td>\n",
       "      <td>1967</td>\n",
       "      <td>123000</td>\n",
       "    </tr>\n",
       "    <tr>\n",
       "      <th>3</th>\n",
       "      <td>5</td>\n",
       "      <td>1174</td>\n",
       "      <td>2</td>\n",
       "      <td>2</td>\n",
       "      <td>576</td>\n",
       "      <td>3</td>\n",
       "      <td>680</td>\n",
       "      <td>680</td>\n",
       "      <td>2</td>\n",
       "      <td>1</td>\n",
       "      <td>1900</td>\n",
       "      <td>2006</td>\n",
       "      <td>2000</td>\n",
       "      <td>135000</td>\n",
       "    </tr>\n",
       "    <tr>\n",
       "      <th>4</th>\n",
       "      <td>7</td>\n",
       "      <td>1958</td>\n",
       "      <td>3</td>\n",
       "      <td>3</td>\n",
       "      <td>936</td>\n",
       "      <td>3</td>\n",
       "      <td>1026</td>\n",
       "      <td>1026</td>\n",
       "      <td>3</td>\n",
       "      <td>2</td>\n",
       "      <td>2005</td>\n",
       "      <td>2005</td>\n",
       "      <td>2005</td>\n",
       "      <td>250000</td>\n",
       "    </tr>\n",
       "  </tbody>\n",
       "</table>\n",
       "</div>"
      ],
      "text/plain": [
       "   Overall_Qual  Gr_Liv_Area  Exter_Qual  Garage_Cars  Garage_Area  \\\n",
       "0            10         2392           4            3          968   \n",
       "1             7         1352           3            2          466   \n",
       "2             5          900           2            1          288   \n",
       "3             5         1174           2            2          576   \n",
       "4             7         1958           3            3          936   \n",
       "\n",
       "   Kitchen_Qual  Total_Bsmt_SF  First_Flr_SF  Bsmt_Qual  Full_Bath  \\\n",
       "0             4           2392          2392          4          2   \n",
       "1             3           1352          1352          4          2   \n",
       "2             2            864           900          2          1   \n",
       "3             3            680           680          2          1   \n",
       "4             3           1026          1026          3          2   \n",
       "\n",
       "   Year_Built  Year_Remod_Add  Garage_Yr_Blt  target  \n",
       "0        2003            2003           2003  386250  \n",
       "1        2006            2007           2006  194000  \n",
       "2        1967            1967           1967  123000  \n",
       "3        1900            2006           2000  135000  \n",
       "4        2005            2005           2005  250000  "
      ]
     },
     "execution_count": 187,
     "metadata": {},
     "output_type": "execute_result"
    }
   ],
   "source": [
    "df.head()"
   ]
  },
  {
   "cell_type": "markdown",
   "id": "8a81ec99-2e63-43f8-b325-33f2bfbbfeaa",
   "metadata": {},
   "source": [
    "`-` 라벨 인코딩이 잘 되었다"
   ]
  },
  {
   "cell_type": "markdown",
   "id": "dedf81aa-d6c6-4ce2-a6bf-4b1760cc8b5f",
   "metadata": {},
   "source": [
    "### 로그 변환 및 이상점 제거"
   ]
  },
  {
   "cell_type": "markdown",
   "id": "72f41c8b-5eae-4adb-9de0-215d18aed135",
   "metadata": {},
   "source": [
    "`-` 앞서 EDA에서 집값(target)이 오른쪽으로 꼬리가 긴 분포임을 확인했다\n",
    "\n",
    "`-` 정규분포로 맞춰주기 위해 로그변환을 하자"
   ]
  },
  {
   "cell_type": "code",
   "execution_count": 36,
   "id": "d2b5912b-b927-4483-87ce-2fde26604a20",
   "metadata": {},
   "outputs": [],
   "source": [
    "import scipy.stats as stats"
   ]
  },
  {
   "cell_type": "code",
   "execution_count": 10,
   "id": "d1a01c25-f34c-4482-b699-54474e392ae1",
   "metadata": {},
   "outputs": [
    {
     "data": {
      "text/plain": [
       "<AxesSubplot:>"
      ]
     },
     "execution_count": 10,
     "metadata": {},
     "output_type": "execute_result"
    },
    {
     "data": {
      "image/png": "[encoded data removed]",
      "text/plain": [
       "<Figure size 432x288 with 1 Axes>"
      ]
     },
     "metadata": {
      "needs_background": "light"
     },
     "output_type": "display_data"
    }
   ],
   "source": [
    "np.log(df['target']).hist(bins = 30)"
   ]
  },
  {
   "cell_type": "code",
   "execution_count": 11,
   "id": "8a503fed-e22c-4066-bd78-2e218473da71",
   "metadata": {},
   "outputs": [
    {
     "data": {
      "image/png": "[encoded data removed]",
      "text/plain": [
       "<Figure size 432x288 with 1 Axes>"
      ]
     },
     "metadata": {
      "needs_background": "light"
     },
     "output_type": "display_data"
    }
   ],
   "source": [
    "_ = stats.probplot(np.log(df['target']), plot = plt)"
   ]
  },
  {
   "cell_type": "markdown",
   "id": "a4e6dedf-8e33-4f16-a3e2-72da5b897ba6",
   "metadata": {},
   "source": [
    "`-` 로그 변환을 했지만 정규분포를 따르지 않는것처럼 보인다\n",
    "\n",
    "`-` 샤피로-윌크 검정을 통해 정확히 확인하자"
   ]
  },
  {
   "cell_type": "code",
   "execution_count": 12,
   "id": "676971be-6af5-4e6e-81fa-cc03c9406a43",
   "metadata": {},
   "outputs": [],
   "source": [
    "test_stat, p_val = stats.shapiro(np.log(df['target']))"
   ]
  },
  {
   "cell_type": "code",
   "execution_count": 13,
   "id": "a3f15461-566d-4c1b-a0db-7fb8058e3b67",
   "metadata": {},
   "outputs": [
    {
     "data": {
      "text/plain": [
       "(4.748497602069524e-13, 0.08070163740417918)"
      ]
     },
     "execution_count": 13,
     "metadata": {},
     "output_type": "execute_result"
    }
   ],
   "source": [
    "p_val, np.log(df['target']).skew() ## p값과 왜도"
   ]
  },
  {
   "cell_type": "markdown",
   "id": "27e5e533-f2a4-443c-ae6f-f2ed778ab970",
   "metadata": {},
   "source": [
    "`-` 안타깝게도 정규분포를 따르지 않는다"
   ]
  },
  {
   "cell_type": "markdown",
   "id": "ed80a5d4-6511-42e2-9078-f1e3764743a5",
   "metadata": {},
   "source": [
    "`-` 왜도는 $0.08$로 거의 $0$"
   ]
  },
  {
   "cell_type": "markdown",
   "id": "46230237-fb7d-4443-ad64-85498484adf4",
   "metadata": {},
   "source": [
    "`-` 그런데 Q-Q플랏을 보면 심각한 이상치가 보인다(-3부근에 2개)\n",
    "\n",
    "`-` 저런 이상치를 예측하는 것은 불가능해보이니 제거하자"
   ]
  },
  {
   "cell_type": "markdown",
   "id": "9156f3b1-034b-423e-9e13-65fad8380549",
   "metadata": {},
   "source": [
    "`-` 값이 큰쪽으로도 이상점이 있는데 제거할지 말지 고민중이다"
   ]
  },
  {
   "cell_type": "markdown",
   "id": "8f558512-9208-4abb-8c0c-2725495031a4",
   "metadata": {},
   "source": [
    "`-` 가장 비싼 집이 745000 달러인데 Gr_Liv_Area(지상층 생활 면적)이 4476으로 매우 넓다!\n",
    "\n",
    "`-` 근데 생각해보니 제거하는 것이 맞는 것 같다(심각한 이상치로 인해 큰 영향을 끼칠 수 있음)"
   ]
  },
  {
   "cell_type": "code",
   "execution_count": 11,
   "id": "3047e4a1-73c0-452d-acf5-452279adc70c",
   "metadata": {},
   "outputs": [
    {
     "data": {
      "image/png": "[encoded data removed]",
      "text/plain": [
       "<Figure size 432x288 with 1 Axes>"
      ]
     },
     "metadata": {},
     "output_type": "display_data"
    }
   ],
   "source": [
    "with plt.style.context('seaborn-dark'): \n",
    "    plt.boxplot(np.log(df['target']))\n",
    "plt.show()"
   ]
  },
  {
   "cell_type": "markdown",
   "id": "24405f63-9585-4023-af5f-8d626f48fef5",
   "metadata": {},
   "source": [
    "`-` 로그 변환을 해서 나온 이상치들을 제거하자"
   ]
  },
  {
   "cell_type": "code",
   "execution_count": 10,
   "id": "29123325-59a8-4347-b0fd-05daee9b6a00",
   "metadata": {},
   "outputs": [],
   "source": [
    "def remove_outlier(df):\n",
    "    Q1 = np.log(df).quantile(0.25)\n",
    "    Q3 = np.log(df).quantile(0.75)\n",
    "    IQR = Q3 - Q1   \n",
    "\n",
    "    filter_ = (np.log(df) >= Q1 - 1.5*IQR) & (np.log(df) <= Q3 + 1.5*IQR)\n",
    "    return filter_"
   ]
  },
  {
   "cell_type": "markdown",
   "id": "9f746761-f0eb-4483-a5e3-bf37baa901af",
   "metadata": {},
   "source": [
    "`-` df의 이상점을 제거한 df2를 만듦"
   ]
  },
  {
   "cell_type": "code",
   "execution_count": 47,
   "id": "9a881546-3d95-4a87-bade-4366db7d9948",
   "metadata": {},
   "outputs": [],
   "source": [
    "df2 = df.copy()"
   ]
  },
  {
   "cell_type": "code",
   "execution_count": 44,
   "id": "8264edd2-1833-4d11-a897-71c4dc938d91",
   "metadata": {},
   "outputs": [
    {
     "data": {
      "text/plain": [
       "array([10,  7,  5,  8,  6,  3,  4,  9,  2], dtype=int64)"
      ]
     },
     "execution_count": 44,
     "metadata": {},
     "output_type": "execute_result"
    }
   ],
   "source": [
    "df2['Overall_Qual'].unique()"
   ]
  },
  {
   "cell_type": "markdown",
   "id": "79a9984b-15ce-499e-b565-ab4d40061d55",
   "metadata": {},
   "source": [
    "`-` 위에서 제거한 이상점은 target의 이상점이다\n",
    "\n",
    "`-` 그런데 위와 같이 이상점을 제거하면 target 전체를 기준으로 매우 큰 값 또는 작은 값만 제거된다\n",
    "\n",
    "`-` 하지만 Overall Qual과 같은 변수로 target을 나눠서 보면 target 전체로 봤을 때의 이상점과 다르다\n",
    "\n",
    "`-` 그렇기에 Overall Qual에 따른 target의 이상점을 제거하겠다\n",
    "\n",
    "`-` 예컨대 Overall Qual이 3일 때 이상점으로 30만 달러의 집이 있다고 해도\n",
    "\n",
    "`-` target 전체로 봤을 땐 이상점이 아니다"
   ]
  },
  {
   "cell_type": "markdown",
   "id": "c56eb2c6-ff39-455c-a4c9-fb7f233579c2",
   "metadata": {},
   "source": [
    "`-` 각각의 Overall_Qual에 대한 target의 이상점을 제거하자\n",
    "\n",
    "`-` 각각의 Overall_Qual에 대한 target의 이상점을 제거할려고 했는데\n",
    "\n",
    "`-` Overlall_Qual에 따라 모델을 만들것이 아니라서 전체 target의 이상점만 제거하기로 했다"
   ]
  },
  {
   "cell_type": "code",
   "execution_count": 30,
   "id": "0131873e-297f-4857-bbc2-08d264dfaa13",
   "metadata": {},
   "outputs": [],
   "source": [
    "# l = []\n",
    "# for i in df2['Overall_Qual'].unique():\n",
    "#     l.extend(remove_outlier(df2.query('Overall_Qual == @i')[['target']]).query('target == True').index.tolist()) ## 이상점이 아닌 인덱스번호만 추가\n",
    "             \n",
    "# l = list(set(l))"
   ]
  },
  {
   "cell_type": "code",
   "execution_count": 19,
   "id": "65d85332-2384-4647-98f1-850ef1c12c15",
   "metadata": {},
   "outputs": [],
   "source": [
    "# l = []\n",
    "# for i in df2['Kitchen_Qual'].unique():\n",
    "#     l.extend(remove_outlier(df2.query('Kitchen_Qual == @i')[['target']]).query('target == True').index.tolist()) ## 이상점이 아닌 인덱스번호만 추가\n",
    "\n",
    "# l = list(set(l))\n",
    "# l = list(set(l) & set(remove_outlier(df2[['target']]).query('target == True').index.tolist()))"
   ]
  },
  {
   "cell_type": "code",
   "execution_count": 32,
   "id": "65a33729-6999-4f85-a8fa-6c10d58eec84",
   "metadata": {},
   "outputs": [],
   "source": [
    "# df2 = df2.loc[l,:].reset_index().drop('index', axis = 1)"
   ]
  },
  {
   "cell_type": "code",
   "execution_count": 49,
   "id": "9cd1d323-600a-402d-bd1d-f795bb0bc132",
   "metadata": {},
   "outputs": [],
   "source": [
    "df2 = df2[remove_outlier(df2['target'])]"
   ]
  },
  {
   "cell_type": "code",
   "execution_count": 50,
   "id": "8cdd23f2-4582-4a48-a5da-3ecf733448ee",
   "metadata": {},
   "outputs": [
    {
     "data": {
      "text/plain": [
       "<AxesSubplot:>"
      ]
     },
     "execution_count": 50,
     "metadata": {},
     "output_type": "execute_result"
    },
    {
     "data": {
      "image/png": "[encoded data removed]",
      "text/plain": [
       "<Figure size 432x288 with 1 Axes>"
      ]
     },
     "metadata": {
      "needs_background": "light"
     },
     "output_type": "display_data"
    }
   ],
   "source": [
    "np.log(df2['target']).hist(bins = 30)"
   ]
  },
  {
   "cell_type": "code",
   "execution_count": 51,
   "id": "f268f3d1-73cb-4c58-ad9e-f4930cc37322",
   "metadata": {},
   "outputs": [
    {
     "data": {
      "image/png": "[encoded data removed]",
      "text/plain": [
       "<Figure size 432x288 with 1 Axes>"
      ]
     },
     "metadata": {
      "needs_background": "light"
     },
     "output_type": "display_data"
    }
   ],
   "source": [
    "_ = stats.probplot(np.log(df2['target']), plot = plt)"
   ]
  },
  {
   "cell_type": "code",
   "execution_count": 52,
   "id": "571d48dd-1f97-4e51-a8bf-676b08752d79",
   "metadata": {},
   "outputs": [],
   "source": [
    "test_stat, p_val = stats.shapiro(np.log(df2['target']))"
   ]
  },
  {
   "cell_type": "code",
   "execution_count": 53,
   "id": "8d29ea19-ca25-4e45-ae5e-d4ea145b0be5",
   "metadata": {},
   "outputs": [
    {
     "data": {
      "text/plain": [
       "(2.6139335140840103e-09, 0.30128743590449364)"
      ]
     },
     "execution_count": 53,
     "metadata": {},
     "output_type": "execute_result"
    }
   ],
   "source": [
    "p_val, np.log(df2['target']).skew() ## p값과 왜도"
   ]
  },
  {
   "cell_type": "markdown",
   "id": "578dbed6-ca57-4bdd-96d6-9da2aed6cc97",
   "metadata": {},
   "source": [
    "`-` 이상으로 이상점 제거를 끝냈다"
   ]
  },
  {
   "cell_type": "code",
   "execution_count": 73,
   "id": "03da0e77-fc97-4677-804a-577d6616cf1d",
   "metadata": {},
   "outputs": [],
   "source": [
    "dt = df2.copy()"
   ]
  },
  {
   "cell_type": "code",
   "execution_count": 74,
   "id": "bfe6e5f1-f823-423b-bb10-c874f61bc285",
   "metadata": {},
   "outputs": [],
   "source": [
    "target = dt['target']  ## target\n",
    "dt = dt.iloc[:, :-1]   ## target 제외한 데이터프레임"
   ]
  },
  {
   "cell_type": "code",
   "execution_count": 75,
   "id": "15a3f0f8-413c-4e30-b132-71de0203f568",
   "metadata": {},
   "outputs": [],
   "source": [
    "dt['gap_year_now_bulit'] = 2022 - dt['Year_Built']"
   ]
  },
  {
   "cell_type": "markdown",
   "id": "43905ab5-b09b-4d5e-9c53-22ff358c952e",
   "metadata": {},
   "source": [
    "`-` train 셋에 포함된 피쳐외의 특징을 연도 피쳐가 가지고 있을 수 있으니 연도 변수로 위의 파생 변수를 사용하자"
   ]
  },
  {
   "cell_type": "code",
   "execution_count": 76,
   "id": "7d36a77d-3939-4745-8441-c5d24a90ae34",
   "metadata": {},
   "outputs": [],
   "source": [
    "dt.drop(['Year_Built', 'Year_Remod_Add', 'Garage_Yr_Blt'], axis = 1, inplace = True)"
   ]
  },
  {
   "cell_type": "markdown",
   "id": "6be4d453-0365-4a2d-aaf7-7a46eb36b242",
   "metadata": {},
   "source": [
    "`-` 차고 면적은 차고 자리 개수와 관련이 있다\n",
    "\n",
    "`-` 차고 자리 개수에 따라 차고 면적의 분포가 다름\n",
    "\n",
    "`-` 그렇기에 원핫인코딩을 하고 둘을 곱한 파생 변수를 만들고 로그 변환을 해주자(오른쪽으로 꼬리가 긴 분포)\n",
    "\n",
    "`-` 그런데 일단은 하지 말자"
   ]
  },
  {
   "cell_type": "markdown",
   "id": "19b76d6c-6c0d-405d-9840-e67591baa3a0",
   "metadata": {},
   "source": [
    "`-` 지상층 생활 면적과 1층 면적과 지하실 면적을 로그 변환하자(오른쪽으로 꼬리가 긴 분포)"
   ]
  },
  {
   "cell_type": "code",
   "execution_count": 77,
   "id": "d00925d1-e537-483f-b36f-0d14a2f25bb2",
   "metadata": {},
   "outputs": [],
   "source": [
    "dt['Gr_Liv_Area'] = np.log(dt['Gr_Liv_Area'])\n",
    "dt['Garage_Area'] = np.log(dt['Garage_Area'])\n",
    "dt['First_Flr_SF'] = np.log(dt['First_Flr_SF'])\n",
    "dt['Total_Bsmt_SF'] = np.log(dt['Total_Bsmt_SF'])"
   ]
  },
  {
   "cell_type": "code",
   "execution_count": 79,
   "id": "6ae00e58-b7ba-491f-8b64-e684eb43437e",
   "metadata": {},
   "outputs": [
    {
     "data": {
      "text/html": [
       "<div>\n",
       "<style scoped>\n",
       "    .dataframe tbody tr th:only-of-type {\n",
       "        vertical-align: middle;\n",
       "    }\n",
       "\n",
       "    .dataframe tbody tr th {\n",
       "        vertical-align: top;\n",
       "    }\n",
       "\n",
       "    .dataframe thead th {\n",
       "        text-align: right;\n",
       "    }\n",
       "</style>\n",
       "<table border=\"1\" class=\"dataframe\">\n",
       "  <thead>\n",
       "    <tr style=\"text-align: right;\">\n",
       "      <th></th>\n",
       "      <th>Overall_Qual</th>\n",
       "      <th>Gr_Liv_Area</th>\n",
       "      <th>Exter_Qual</th>\n",
       "      <th>Garage_Cars</th>\n",
       "      <th>Garage_Area</th>\n",
       "      <th>Kitchen_Qual</th>\n",
       "      <th>Total_Bsmt_SF</th>\n",
       "      <th>First_Flr_SF</th>\n",
       "      <th>Bsmt_Qual</th>\n",
       "      <th>Full_Bath</th>\n",
       "      <th>gap_year_now_bulit</th>\n",
       "    </tr>\n",
       "  </thead>\n",
       "  <tbody>\n",
       "    <tr>\n",
       "      <th>0</th>\n",
       "      <td>10</td>\n",
       "      <td>7.779885</td>\n",
       "      <td>4</td>\n",
       "      <td>3</td>\n",
       "      <td>6.875232</td>\n",
       "      <td>4</td>\n",
       "      <td>7.779885</td>\n",
       "      <td>7.779885</td>\n",
       "      <td>4</td>\n",
       "      <td>2</td>\n",
       "      <td>19</td>\n",
       "    </tr>\n",
       "    <tr>\n",
       "      <th>1</th>\n",
       "      <td>7</td>\n",
       "      <td>7.209340</td>\n",
       "      <td>3</td>\n",
       "      <td>2</td>\n",
       "      <td>6.144186</td>\n",
       "      <td>3</td>\n",
       "      <td>7.209340</td>\n",
       "      <td>7.209340</td>\n",
       "      <td>4</td>\n",
       "      <td>2</td>\n",
       "      <td>16</td>\n",
       "    </tr>\n",
       "    <tr>\n",
       "      <th>2</th>\n",
       "      <td>5</td>\n",
       "      <td>6.802395</td>\n",
       "      <td>2</td>\n",
       "      <td>1</td>\n",
       "      <td>5.662960</td>\n",
       "      <td>2</td>\n",
       "      <td>6.761573</td>\n",
       "      <td>6.802395</td>\n",
       "      <td>2</td>\n",
       "      <td>1</td>\n",
       "      <td>55</td>\n",
       "    </tr>\n",
       "    <tr>\n",
       "      <th>3</th>\n",
       "      <td>5</td>\n",
       "      <td>7.068172</td>\n",
       "      <td>2</td>\n",
       "      <td>2</td>\n",
       "      <td>6.356108</td>\n",
       "      <td>3</td>\n",
       "      <td>6.522093</td>\n",
       "      <td>6.522093</td>\n",
       "      <td>2</td>\n",
       "      <td>1</td>\n",
       "      <td>122</td>\n",
       "    </tr>\n",
       "    <tr>\n",
       "      <th>4</th>\n",
       "      <td>7</td>\n",
       "      <td>7.579679</td>\n",
       "      <td>3</td>\n",
       "      <td>3</td>\n",
       "      <td>6.841615</td>\n",
       "      <td>3</td>\n",
       "      <td>6.933423</td>\n",
       "      <td>6.933423</td>\n",
       "      <td>3</td>\n",
       "      <td>2</td>\n",
       "      <td>17</td>\n",
       "    </tr>\n",
       "  </tbody>\n",
       "</table>\n",
       "</div>"
      ],
      "text/plain": [
       "   Overall_Qual  Gr_Liv_Area  Exter_Qual  Garage_Cars  Garage_Area  \\\n",
       "0            10     7.779885           4            3     6.875232   \n",
       "1             7     7.209340           3            2     6.144186   \n",
       "2             5     6.802395           2            1     5.662960   \n",
       "3             5     7.068172           2            2     6.356108   \n",
       "4             7     7.579679           3            3     6.841615   \n",
       "\n",
       "   Kitchen_Qual  Total_Bsmt_SF  First_Flr_SF  Bsmt_Qual  Full_Bath  \\\n",
       "0             4       7.779885      7.779885          4          2   \n",
       "1             3       7.209340      7.209340          4          2   \n",
       "2             2       6.761573      6.802395          2          1   \n",
       "3             3       6.522093      6.522093          2          1   \n",
       "4             3       6.933423      6.933423          3          2   \n",
       "\n",
       "   gap_year_now_bulit  \n",
       "0                  19  \n",
       "1                  16  \n",
       "2                  55  \n",
       "3                 122  \n",
       "4                  17  "
      ]
     },
     "execution_count": 79,
     "metadata": {},
     "output_type": "execute_result"
    }
   ],
   "source": [
    "dt.head() ## 로그 변환이 잘 되었다"
   ]
  },
  {
   "cell_type": "markdown",
   "id": "6221f0ab-4b0b-480f-b4fd-cb0d735ed659",
   "metadata": {},
   "source": [
    "## 모델링(부스팅)"
   ]
  },
  {
   "cell_type": "markdown",
   "id": "c384127c-451b-4652-881b-f7f5b6e858a4",
   "metadata": {},
   "source": [
    "`-` 여러가지 부스팅 모델을 사용해보자"
   ]
  },
  {
   "cell_type": "markdown",
   "id": "30cfe877-3d11-4283-96cc-3f8f32451993",
   "metadata": {},
   "source": [
    "### 스케일링\n",
    "\n",
    "`-` z-점수 스케일링이나 로버스트 스케일링이나 비슷하다\n",
    "\n",
    "`-` 계수를 통해 Overall_Qual과 Gr_Liv_Area이 매우 중요하며 그 다음은 Bsmt_Qual이다\n",
    "\n",
    "`-` Kitchen_Qual과 Total_Bsmt_SF이 그 다음이며 나머지는 비슷하다"
   ]
  },
  {
   "cell_type": "code",
   "execution_count": 80,
   "id": "79900d87-0643-4c53-b174-065ac90690e3",
   "metadata": {},
   "outputs": [],
   "source": [
    "from sklearn.preprocessing import StandardScaler"
   ]
  },
  {
   "cell_type": "code",
   "execution_count": 81,
   "id": "20bcef91-0e8d-4c11-89db-82417ddd6770",
   "metadata": {},
   "outputs": [],
   "source": [
    "## z-score 스케일러 생성\n",
    "standard_scaler = StandardScaler()\n",
    "\n",
    "## 스케일링\n",
    "dt_scaled = standard_scaler.fit_transform(dt)\n",
    "dt_scaled_df = pd.DataFrame(data = dt_scaled, columns = dt.columns)"
   ]
  },
  {
   "cell_type": "code",
   "execution_count": 82,
   "id": "74a9eee2-d7a4-40ab-9248-06567118cd68",
   "metadata": {},
   "outputs": [
    {
     "data": {
      "text/html": [
       "<div>\n",
       "<style scoped>\n",
       "    .dataframe tbody tr th:only-of-type {\n",
       "        vertical-align: middle;\n",
       "    }\n",
       "\n",
       "    .dataframe tbody tr th {\n",
       "        vertical-align: top;\n",
       "    }\n",
       "\n",
       "    .dataframe thead th {\n",
       "        text-align: right;\n",
       "    }\n",
       "</style>\n",
       "<table border=\"1\" class=\"dataframe\">\n",
       "  <thead>\n",
       "    <tr style=\"text-align: right;\">\n",
       "      <th></th>\n",
       "      <th>Overall_Qual</th>\n",
       "      <th>Gr_Liv_Area</th>\n",
       "      <th>Exter_Qual</th>\n",
       "      <th>Garage_Cars</th>\n",
       "      <th>Garage_Area</th>\n",
       "      <th>Kitchen_Qual</th>\n",
       "      <th>Total_Bsmt_SF</th>\n",
       "      <th>First_Flr_SF</th>\n",
       "      <th>Bsmt_Qual</th>\n",
       "      <th>Full_Bath</th>\n",
       "      <th>gap_year_now_bulit</th>\n",
       "    </tr>\n",
       "  </thead>\n",
       "  <tbody>\n",
       "    <tr>\n",
       "      <th>0</th>\n",
       "      <td>2.955073</td>\n",
       "      <td>1.679132</td>\n",
       "      <td>2.822267</td>\n",
       "      <td>1.762432</td>\n",
       "      <td>1.909881</td>\n",
       "      <td>2.232825</td>\n",
       "      <td>2.375787</td>\n",
       "      <td>2.479985</td>\n",
       "      <td>2.041109</td>\n",
       "      <td>0.815269</td>\n",
       "      <td>-1.030914</td>\n",
       "    </tr>\n",
       "    <tr>\n",
       "      <th>1</th>\n",
       "      <td>0.626179</td>\n",
       "      <td>-0.197651</td>\n",
       "      <td>1.037875</td>\n",
       "      <td>0.213310</td>\n",
       "      <td>0.005244</td>\n",
       "      <td>0.693704</td>\n",
       "      <td>0.801414</td>\n",
       "      <td>0.644440</td>\n",
       "      <td>2.041109</td>\n",
       "      <td>0.815269</td>\n",
       "      <td>-1.134062</td>\n",
       "    </tr>\n",
       "    <tr>\n",
       "      <th>2</th>\n",
       "      <td>-0.926417</td>\n",
       "      <td>-1.536280</td>\n",
       "      <td>-0.746518</td>\n",
       "      <td>-1.335811</td>\n",
       "      <td>-1.248520</td>\n",
       "      <td>-0.845416</td>\n",
       "      <td>-0.434164</td>\n",
       "      <td>-0.664775</td>\n",
       "      <td>-0.875701</td>\n",
       "      <td>-1.021159</td>\n",
       "      <td>0.206866</td>\n",
       "    </tr>\n",
       "    <tr>\n",
       "      <th>3</th>\n",
       "      <td>-0.926417</td>\n",
       "      <td>-0.662018</td>\n",
       "      <td>-0.746518</td>\n",
       "      <td>0.213310</td>\n",
       "      <td>0.557376</td>\n",
       "      <td>0.693704</td>\n",
       "      <td>-1.094989</td>\n",
       "      <td>-1.566557</td>\n",
       "      <td>-0.875701</td>\n",
       "      <td>-1.021159</td>\n",
       "      <td>2.510511</td>\n",
       "    </tr>\n",
       "    <tr>\n",
       "      <th>4</th>\n",
       "      <td>0.626179</td>\n",
       "      <td>1.020562</td>\n",
       "      <td>1.037875</td>\n",
       "      <td>1.762432</td>\n",
       "      <td>1.822298</td>\n",
       "      <td>0.693704</td>\n",
       "      <td>0.040043</td>\n",
       "      <td>-0.243234</td>\n",
       "      <td>0.582704</td>\n",
       "      <td>0.815269</td>\n",
       "      <td>-1.099679</td>\n",
       "    </tr>\n",
       "  </tbody>\n",
       "</table>\n",
       "</div>"
      ],
      "text/plain": [
       "   Overall_Qual  Gr_Liv_Area  Exter_Qual  Garage_Cars  Garage_Area  \\\n",
       "0      2.955073     1.679132    2.822267     1.762432     1.909881   \n",
       "1      0.626179    -0.197651    1.037875     0.213310     0.005244   \n",
       "2     -0.926417    -1.536280   -0.746518    -1.335811    -1.248520   \n",
       "3     -0.926417    -0.662018   -0.746518     0.213310     0.557376   \n",
       "4      0.626179     1.020562    1.037875     1.762432     1.822298   \n",
       "\n",
       "   Kitchen_Qual  Total_Bsmt_SF  First_Flr_SF  Bsmt_Qual  Full_Bath  \\\n",
       "0      2.232825       2.375787      2.479985   2.041109   0.815269   \n",
       "1      0.693704       0.801414      0.644440   2.041109   0.815269   \n",
       "2     -0.845416      -0.434164     -0.664775  -0.875701  -1.021159   \n",
       "3      0.693704      -1.094989     -1.566557  -0.875701  -1.021159   \n",
       "4      0.693704       0.040043     -0.243234   0.582704   0.815269   \n",
       "\n",
       "   gap_year_now_bulit  \n",
       "0           -1.030914  \n",
       "1           -1.134062  \n",
       "2            0.206866  \n",
       "3            2.510511  \n",
       "4           -1.099679  "
      ]
     },
     "execution_count": 82,
     "metadata": {},
     "output_type": "execute_result"
    }
   ],
   "source": [
    "dt_scaled_df.head()"
   ]
  },
  {
   "cell_type": "markdown",
   "id": "49ea2f60-542f-4857-8ed3-b27632f5459a",
   "metadata": {},
   "source": [
    "`-` 또한 Qual 관련 변수로 Overall Qual만 사용해봤는데 성능이 더 안좋게 나왔다(선형 회귀)\n",
    "\n",
    "`-` 그래서 Qual 관련 변수를 추가했다\n",
    "\n",
    "`-` 또한 현재 연도에서 완공 연도의 차이를 파생변수로 만들어 추가했다\n",
    "\n",
    "`-` 사실 연도 변수는 포함시킬지 말지 고민했다\n",
    "\n",
    "`-` 최근 연도일수록 집값이 평균적으로 높을텐데\n",
    "\n",
    "`-` 이는 연도때문이라기 보다는 다른 변수에 의한 것이라 생각했기 때문이다\n",
    "\n",
    "`-` 예컨대 과거에는 기술 등의 문제로 더 좋은 건물을 짓지 못했지만 최근에는 가능해진 상황\n",
    "\n",
    "`-` 하지만 train 셋에 포함된 피쳐외의 특징을 연도 피쳐가 가지고 있을 수 있으니 포함하고 모델링 해보기로 했다"
   ]
  },
  {
   "cell_type": "markdown",
   "id": "7a8f4e93-64dd-4c5b-9b23-94c80d5b4923",
   "metadata": {},
   "source": [
    "### 교차 검증"
   ]
  },
  {
   "cell_type": "code",
   "execution_count": 83,
   "id": "dc1e983d-5f81-4680-a6f1-d1444d616a88",
   "metadata": {},
   "outputs": [],
   "source": [
    "from sklearn.ensemble import RandomForestRegressor, GradientBoostingRegressor  \n",
    "from xgboost import XGBRegressor \n",
    "from lightgbm import LGBMRegressor \n",
    "from lightgbm import LGBMRegressor\n",
    "from catboost import CatBoostRegressor\n",
    "from sklearn.model_selection import GridSearchCV, train_test_split, cross_validate, KFold\n",
    "from sklearn.metrics import make_scorer"
   ]
  },
  {
   "cell_type": "code",
   "execution_count": 84,
   "id": "b55ef2e8-22fa-4a39-9c38-3921084494d3",
   "metadata": {},
   "outputs": [],
   "source": [
    "x_train, x_valid, y_train, y_valid = train_test_split(dt_scaled_df, target, shuffle = True, test_size = 0.2, random_state = 22)"
   ]
  },
  {
   "cell_type": "code",
   "execution_count": 85,
   "id": "4a3c9888-6153-4bbf-9866-205392aa4946",
   "metadata": {},
   "outputs": [],
   "source": [
    "log_y_train = np.log(y_train)"
   ]
  },
  {
   "cell_type": "markdown",
   "id": "88e65d54-da48-4382-987c-54bee814d00d",
   "metadata": {},
   "source": [
    "`-` 데이터를 train과 valid로 나눈다\n",
    "\n",
    "`-` 그리고 train에 대해 교차검증(train을 train2와 valid2로 나누어 모형을 평가)을 한다\n",
    "\n",
    "`-` 그리고 교차검증에 사용한 모델로 valid를 평가한다\n",
    "\n",
    "`-` 교차검증을 통해 측정한 성능과 valid로 측정한 성능이 둘 다 좋다면 괜찮은 모델이다"
   ]
  },
  {
   "cell_type": "code",
   "execution_count": 86,
   "id": "dd9638ab-e80b-4c23-9fe6-35f25a4b8a04",
   "metadata": {},
   "outputs": [],
   "source": [
    "def NMAE(true, pred):\n",
    "    mae = np.mean(np.abs(true - pred))\n",
    "    score = mae / np.mean(np.abs(true))\n",
    "    return score"
   ]
  },
  {
   "cell_type": "code",
   "execution_count": 87,
   "id": "457cae7f-186c-480d-9e68-0ae3bb0b8c86",
   "metadata": {},
   "outputs": [],
   "source": [
    "def my_custom_loss_func(true, pred):\n",
    "    return NMAE(np.exp(true), np.exp(pred)) ## 로그 변환을 위한 손실 함수"
   ]
  },
  {
   "cell_type": "code",
   "execution_count": 88,
   "id": "3462e665-19d6-468d-bd18-285fa2932d2a",
   "metadata": {},
   "outputs": [],
   "source": [
    "score = make_scorer(my_custom_loss_func, greater_is_better = False) ## 작을수록 좋다 "
   ]
  },
  {
   "cell_type": "code",
   "execution_count": 126,
   "id": "14970831-c4d4-4195-b371-7a73980f6dfc",
   "metadata": {},
   "outputs": [],
   "source": [
    "params = {'learning_rate':0.03,\n",
    "          'max_depth':3,\n",
    "          'n_estimators':500,\n",
    "          'metric':'mae',\n",
    "          'seed':22}"
   ]
  },
  {
   "cell_type": "code",
   "execution_count": 149,
   "id": "648ef0f1-a794-458f-b56e-0bd8ad0389a1",
   "metadata": {},
   "outputs": [],
   "source": [
    "gb = GradientBoostingRegressor(random_state = 22, n_estimators = 500, learning_rate = 0.03, max_depth = 3)\n",
    "cb = CatBoostRegressor(random_state = 222, learning_rate = 0.03, n_estimators = 500, depth = 3, loss_function = 'MAE', verbose = 0)\n",
    "xgb = XGBRegressor(random_state = 22, n_estimators = 500,  max_depth = 3, learning_rate = 0.03) \n",
    "lgb = LGBMRegressor(random_state = 22, n_estimators = 500, max_depth = 3, learning_rate = 0.03)"
   ]
  },
  {
   "cell_type": "code",
   "execution_count": 131,
   "id": "70f079f8-6c1a-484d-a3d2-5dec91320137",
   "metadata": {},
   "outputs": [
    {
     "name": "stdout",
     "output_type": "stream",
     "text": [
      "---------------------------------------------\n",
      "교차 검증별 NMAE:  [0.09825523 0.11957861 0.09228815 0.1009453  0.08686296 0.08607822\n",
      " 0.09723404 0.08882254 0.09167116 0.07969104]\n",
      "평균 교차 검증 NMAE:  0.09414272571258657\n",
      "valid에 대한 검증 NMAE:  0.09327363829345853\n",
      "---------------------------------------------\n",
      "교차 검증별 NMAE:  [0.09168768 0.11198073 0.09045588 0.10705738 0.08097689 0.07740045\n",
      " 0.10341037 0.0884669  0.0949103  0.07875323]\n",
      "평균 교차 검증 NMAE:  0.09250998090891124\n",
      "valid에 대한 검증 NMAE:  0.09537103423527143\n",
      "---------------------------------------------\n",
      "교차 검증별 NMAE:  [0.09469139 0.11876199 0.09434135 0.1018124  0.08281141 0.08264961\n",
      " 0.09394308 0.09010295 0.09143423 0.08040145]\n",
      "평균 교차 검증 NMAE:  0.09309498670321215\n",
      "valid에 대한 검증 NMAE:  0.09646062690079403\n",
      "---------------------------------------------\n",
      "교차 검증별 NMAE:  [0.09354834 0.11601373 0.08962922 0.0981409  0.08753513 0.08450661\n",
      " 0.09786521 0.08918322 0.09336603 0.07587111]\n",
      "평균 교차 검증 NMAE:  0.09256595140948579\n",
      "valid에 대한 검증 NMAE:  0.0951102884570039\n"
     ]
    }
   ],
   "source": [
    "for model in [gb, cb, xgb, lgb]:\n",
    "    scores = cross_validate(model, x_train, log_y_train, scoring = score, cv = 10)\n",
    "    model.fit(x_train, log_y_train)\n",
    "    print('---------------------------------------------')\n",
    "    print('교차 검증별 NMAE: ', -scores['test_score'])\n",
    "    print('평균 교차 검증 NMAE: ', np.mean(-scores['test_score']))\n",
    "    print('valid에 대한 검증 NMAE: ', NMAE(y_valid, np.exp(model.predict(x_valid))))"
   ]
  },
  {
   "cell_type": "markdown",
   "id": "02ce5520-d773-48d8-b4ea-1a1b16da44f0",
   "metadata": {},
   "source": [
    "`-` 아래는 예전에 했던 방식"
   ]
  },
  {
   "cell_type": "code",
   "execution_count": null,
   "id": "54586ecb-8d23-4342-868d-b6c511f27635",
   "metadata": {},
   "outputs": [
    {
     "name": "stdout",
     "output_type": "stream",
     "text": [
      "---------------------------------------------\n",
      "교차 검증별 NMAE:  [0.09069717 0.09542324 0.09053177 0.09930363 0.09879612 0.09823109\n",
      " 0.09031211 0.0844011  0.1003161  0.08260519]\n",
      "평균 교차 검증 NMAE:  0.09306175212129086\n",
      "valid에 대한 검증 NMAE:  0.08757140289281869\n",
      "---------------------------------------------\n",
      "교차 검증별 NMAE:  [0.09450406 0.09229055 0.08658855 0.09936189 0.10160993 0.10323769\n",
      " 0.09040929 0.08530859 0.10261107 0.0872947 ]\n",
      "평균 교차 검증 NMAE:  0.09432163140518088\n",
      "valid에 대한 검증 NMAE:  0.08502093478974589\n",
      "---------------------------------------------\n",
      "교차 검증별 NMAE:  [0.10474376 0.1044917  0.108671   0.11292011 0.10662772 0.11692226\n",
      " 0.1044543  0.09510495 0.11135832 0.09690058]\n",
      "평균 교차 검증 NMAE:  0.10621946953437231\n",
      "valid에 대한 검증 NMAE:  0.10984493084650232\n",
      "---------------------------------------------\n",
      "교차 검증별 NMAE:  [0.10479987 0.09271494 0.0867327  0.10170367 0.09710625 0.09705917\n",
      " 0.09448252 0.08727167 0.1011098  0.08602371]\n",
      "평균 교차 검증 NMAE:  0.09490042984584213\n",
      "valid에 대한 검증 NMAE:  0.084614942415492\n",
      "---------------------------------------------\n",
      "교차 검증별 NMAE:  [0.09570166 0.10065266 0.08687925 0.09803669 0.10669451 0.10111567\n",
      " 0.09504939 0.09130931 0.10211388 0.08343554]\n",
      "평균 교차 검증 NMAE:  0.09609885694513408\n",
      "valid에 대한 검증 NMAE:  0.08775551220218403\n"
     ]
    }
   ],
   "source": [
    "for model in [rf, gb, ad, xgb, lgb]:\n",
    "    scores = cross_validate(model, x_train, log_y_train, scoring = score, cv = 10)\n",
    "    model.fit(x_train, log_y_train)\n",
    "    print('---------------------------------------------')\n",
    "    print('교차 검증별 NMAE: ', -scores['test_score'])\n",
    "    print('평균 교차 검증 NMAE: ', np.mean(-scores['test_score']))\n",
    "    print('valid에 대한 검증 NMAE: ', NMAE(y_valid, np.exp(model.predict(x_valid))))"
   ]
  },
  {
   "cell_type": "markdown",
   "id": "f1b17dde-4f80-4d94-9577-291ee5c78d69",
   "metadata": {},
   "source": [
    "`-` Adaboost를 제외하면 성능이 괜찮다"
   ]
  },
  {
   "cell_type": "markdown",
   "id": "0b94523f-9ad2-400e-86d8-2b1f4c2bd5bf",
   "metadata": {
    "tags": []
   },
   "source": [
    "### 앙상블"
   ]
  },
  {
   "cell_type": "markdown",
   "id": "46bc2129-8db3-4581-abb6-ed9e61e8b0f5",
   "metadata": {},
   "source": [
    "`-` 위에서 만든 모델을 섞어 test 데이터를 예측하자"
   ]
  },
  {
   "cell_type": "code",
   "execution_count": 138,
   "id": "6c9c036a-0e23-4ebb-83a4-22f2713df612",
   "metadata": {},
   "outputs": [],
   "source": [
    "test['gap_year_now_bulit'] = 2022 - test['Year_Built']"
   ]
  },
  {
   "cell_type": "markdown",
   "id": "c9aff041-44f0-48dc-a7ab-24e61fd54a73",
   "metadata": {},
   "source": [
    "`-` train 셋에 포함된 피쳐외의 특징을 연도 피쳐가 가지고 있을 수 있으니 연도 변수로 위의 파생 변수를 사용하자"
   ]
  },
  {
   "cell_type": "code",
   "execution_count": 139,
   "id": "4d0cf0bf-d401-4c9b-8420-651f304cf96d",
   "metadata": {},
   "outputs": [],
   "source": [
    "test.drop(['Year_Built', 'Year_Remod_Add', 'Garage_Yr_Blt'], axis = 1, inplace = True)"
   ]
  },
  {
   "cell_type": "markdown",
   "id": "2cc5f31b-16fd-4cd4-b8c2-958db30c5881",
   "metadata": {},
   "source": [
    "`-` 차고 면적은 차고 자리 개수와 관련이 있다\n",
    "\n",
    "`-` 차고 자리 개수에 따라 차고 면적의 분포가 다름\n",
    "\n",
    "`-` 그렇기에 원핫인코딩을 하고 둘을 곱한 파생 변수를 만들고 로그 변환을 해주자(오른쪽으로 꼬리가 긴 분포)\n",
    "\n",
    "`-` 그런데 일단은 하지 말자(하지 말고 그냥 드랍하자)"
   ]
  },
  {
   "cell_type": "markdown",
   "id": "99eaf215-7592-4fa5-97df-31cf1035c997",
   "metadata": {},
   "source": [
    "`-` 지상층 생활 면적과 1층 면적과 지하실 면적과 연도를 로그 변환하자(오른쪽으로 꼬리가 긴 분포)"
   ]
  },
  {
   "cell_type": "code",
   "execution_count": 140,
   "id": "83041308-d5eb-4d9b-8989-58d0a6eb7932",
   "metadata": {},
   "outputs": [],
   "source": [
    "test['Gr_Liv_Area'] = np.log(test['Gr_Liv_Area'])\n",
    "test['Garage_Area'] = np.log(test['Garage_Area'])\n",
    "test['First_Flr_SF'] = np.log(test['First_Flr_SF'])\n",
    "test['Total_Bsmt_SF'] = np.log(test['Total_Bsmt_SF'])"
   ]
  },
  {
   "cell_type": "code",
   "execution_count": 141,
   "id": "372f0a37-edfc-4eed-b5a3-c6cdefc0b03f",
   "metadata": {},
   "outputs": [],
   "source": [
    "for col in test.columns[test.dtypes == 'object']:\n",
    "    test[col] = test[col].apply(lambda x: label_encoding(x))"
   ]
  },
  {
   "cell_type": "code",
   "execution_count": 142,
   "id": "299a5458-3ea1-4f65-baf7-1dba65a6a4de",
   "metadata": {},
   "outputs": [],
   "source": [
    "test_scaled = standard_scaler.transform(test)\n",
    "test_scaled_df = pd.DataFrame(data = test_scaled, columns = test.columns)"
   ]
  },
  {
   "cell_type": "code",
   "execution_count": 144,
   "id": "61056e58-434a-4747-a8cd-2a700b3f28d8",
   "metadata": {},
   "outputs": [
    {
     "data": {
      "text/html": [
       "<div>\n",
       "<style scoped>\n",
       "    .dataframe tbody tr th:only-of-type {\n",
       "        vertical-align: middle;\n",
       "    }\n",
       "\n",
       "    .dataframe tbody tr th {\n",
       "        vertical-align: top;\n",
       "    }\n",
       "\n",
       "    .dataframe thead th {\n",
       "        text-align: right;\n",
       "    }\n",
       "</style>\n",
       "<table border=\"1\" class=\"dataframe\">\n",
       "  <thead>\n",
       "    <tr style=\"text-align: right;\">\n",
       "      <th></th>\n",
       "      <th>Overall_Qual</th>\n",
       "      <th>Gr_Liv_Area</th>\n",
       "      <th>Exter_Qual</th>\n",
       "      <th>Garage_Cars</th>\n",
       "      <th>Garage_Area</th>\n",
       "      <th>Kitchen_Qual</th>\n",
       "      <th>Total_Bsmt_SF</th>\n",
       "      <th>First_Flr_SF</th>\n",
       "      <th>Bsmt_Qual</th>\n",
       "      <th>Full_Bath</th>\n",
       "      <th>gap_year_now_bulit</th>\n",
       "    </tr>\n",
       "  </thead>\n",
       "  <tbody>\n",
       "    <tr>\n",
       "      <th>0</th>\n",
       "      <td>2.178775</td>\n",
       "      <td>0.743798</td>\n",
       "      <td>1.037875</td>\n",
       "      <td>0.213310</td>\n",
       "      <td>1.072783</td>\n",
       "      <td>2.232825</td>\n",
       "      <td>1.591165</td>\n",
       "      <td>1.565202</td>\n",
       "      <td>2.041109</td>\n",
       "      <td>0.815269</td>\n",
       "      <td>-1.168445</td>\n",
       "    </tr>\n",
       "    <tr>\n",
       "      <th>1</th>\n",
       "      <td>-0.150119</td>\n",
       "      <td>-0.930456</td>\n",
       "      <td>-0.746518</td>\n",
       "      <td>-1.335811</td>\n",
       "      <td>-1.723533</td>\n",
       "      <td>-0.845416</td>\n",
       "      <td>0.186688</td>\n",
       "      <td>-0.072262</td>\n",
       "      <td>-0.875701</td>\n",
       "      <td>-1.021159</td>\n",
       "      <td>0.860138</td>\n",
       "    </tr>\n",
       "    <tr>\n",
       "      <th>2</th>\n",
       "      <td>-0.150119</td>\n",
       "      <td>0.300372</td>\n",
       "      <td>1.037875</td>\n",
       "      <td>0.213310</td>\n",
       "      <td>-0.144332</td>\n",
       "      <td>0.693704</td>\n",
       "      <td>-0.802633</td>\n",
       "      <td>-1.170850</td>\n",
       "      <td>0.582704</td>\n",
       "      <td>0.815269</td>\n",
       "      <td>-0.927765</td>\n",
       "    </tr>\n",
       "    <tr>\n",
       "      <th>3</th>\n",
       "      <td>-0.150119</td>\n",
       "      <td>1.748530</td>\n",
       "      <td>1.037875</td>\n",
       "      <td>1.762432</td>\n",
       "      <td>1.224174</td>\n",
       "      <td>0.693704</td>\n",
       "      <td>0.374006</td>\n",
       "      <td>0.146130</td>\n",
       "      <td>0.582704</td>\n",
       "      <td>0.815269</td>\n",
       "      <td>-1.065296</td>\n",
       "    </tr>\n",
       "    <tr>\n",
       "      <th>4</th>\n",
       "      <td>-0.926417</td>\n",
       "      <td>-1.060687</td>\n",
       "      <td>-0.746518</td>\n",
       "      <td>0.213310</td>\n",
       "      <td>1.012715</td>\n",
       "      <td>-0.845416</td>\n",
       "      <td>0.077441</td>\n",
       "      <td>-0.199632</td>\n",
       "      <td>-0.875701</td>\n",
       "      <td>-1.021159</td>\n",
       "      <td>0.172483</td>\n",
       "    </tr>\n",
       "  </tbody>\n",
       "</table>\n",
       "</div>"
      ],
      "text/plain": [
       "   Overall_Qual  Gr_Liv_Area  Exter_Qual  Garage_Cars  Garage_Area  \\\n",
       "0      2.178775     0.743798    1.037875     0.213310     1.072783   \n",
       "1     -0.150119    -0.930456   -0.746518    -1.335811    -1.723533   \n",
       "2     -0.150119     0.300372    1.037875     0.213310    -0.144332   \n",
       "3     -0.150119     1.748530    1.037875     1.762432     1.224174   \n",
       "4     -0.926417    -1.060687   -0.746518     0.213310     1.012715   \n",
       "\n",
       "   Kitchen_Qual  Total_Bsmt_SF  First_Flr_SF  Bsmt_Qual  Full_Bath  \\\n",
       "0      2.232825       1.591165      1.565202   2.041109   0.815269   \n",
       "1     -0.845416       0.186688     -0.072262  -0.875701  -1.021159   \n",
       "2      0.693704      -0.802633     -1.170850   0.582704   0.815269   \n",
       "3      0.693704       0.374006      0.146130   0.582704   0.815269   \n",
       "4     -0.845416       0.077441     -0.199632  -0.875701  -1.021159   \n",
       "\n",
       "   gap_year_now_bulit  \n",
       "0           -1.168445  \n",
       "1            0.860138  \n",
       "2           -0.927765  \n",
       "3           -1.065296  \n",
       "4            0.172483  "
      ]
     },
     "execution_count": 144,
     "metadata": {},
     "output_type": "execute_result"
    }
   ],
   "source": [
    "test_scaled_df.head() ## 로그 변환이 잘 되었다"
   ]
  },
  {
   "cell_type": "code",
   "execution_count": 145,
   "id": "7c397045-c09c-4d17-958a-0b424fe68a21",
   "metadata": {},
   "outputs": [],
   "source": [
    "kfold = KFold(n_splits = 10, random_state = 22, shuffle = True)"
   ]
  },
  {
   "cell_type": "code",
   "execution_count": 148,
   "id": "719d4308-3a38-4763-8df7-d20d49c9ccf2",
   "metadata": {},
   "outputs": [],
   "source": [
    "log_target = np.log(target)"
   ]
  },
  {
   "cell_type": "markdown",
   "id": "f75a226f-ec39-4f8f-8208-7746deff20b6",
   "metadata": {},
   "source": [
    "`-` cat 부스트"
   ]
  },
  {
   "cell_type": "code",
   "execution_count": 151,
   "id": "53c98106-a932-4569-bc67-8f4691757b0f",
   "metadata": {},
   "outputs": [],
   "source": [
    "cb_valid = []\n",
    "cb_predict = np.zeros(test.shape[0])\n",
    "\n",
    "for train_idx, valid_idx in kfold.split(dt_scaled_df, log_target):\n",
    "    x_train, y_train = dt_scaled_df.iloc[train_idx], log_target.iloc[train_idx]\n",
    "    x_valid, y_valid = dt_scaled_df.iloc[valid_idx], np.exp(log_target.iloc[valid_idx])\n",
    "    \n",
    "    cb = CatBoostRegressor(random_state = 222, learning_rate = 0.03, n_estimators = 500, depth = 3, loss_function = 'MAE', verbose = 0)\n",
    "    cb.fit(x_train, y_train)\n",
    "    y_predict = np.exp(cb.predict(x_valid)) ## valid셋 예측\n",
    "    test_predict = np.exp(cb.predict(test_scaled_df)) ## test셋 예측\n",
    "\n",
    "    cb_valid.append(NMAE(y_predict, y_valid)) ## valid 예측값\n",
    "    cb_predict += test_predict / 10 ## test 예측값(10 Fold)"
   ]
  },
  {
   "cell_type": "markdown",
   "id": "1f25db39-5b04-4af4-a210-038cf7ed2839",
   "metadata": {},
   "source": [
    "`-` 그래디언트 부스트"
   ]
  },
  {
   "cell_type": "code",
   "execution_count": 152,
   "id": "b739ddd7-6c00-4ede-b64b-f0877dfd2a53",
   "metadata": {},
   "outputs": [],
   "source": [
    "gb_valid = []\n",
    "gb_predict = np.zeros(test.shape[0])\n",
    "\n",
    "for train_idx, valid_idx in kfold.split(dt_scaled_df, log_target):\n",
    "    x_train, y_train = dt_scaled_df.iloc[train_idx], log_target.iloc[train_idx]\n",
    "    x_valid, y_valid = dt_scaled_df.iloc[valid_idx], np.exp(log_target.iloc[valid_idx])\n",
    "    \n",
    "    gb = GradientBoostingRegressor(random_state = 22, n_estimators = 500, learning_rate = 0.03, max_depth = 3) \n",
    "    gb.fit(x_train, y_train)\n",
    "    y_predict = np.exp(gb.predict(x_valid)) ## valid셋 예측\n",
    "    test_predict = np.exp(gb.predict(test_scaled_df)) ## test셋 예측\n",
    "\n",
    "    gb_valid.append(NMAE(y_predict, y_valid)) ## valid 예측값\n",
    "    gb_predict += test_predict / 10 ## test 예측값(10 Fold)"
   ]
  },
  {
   "cell_type": "markdown",
   "id": "c17c2a9c-6d47-4fc3-a3a6-aa86a87241c9",
   "metadata": {},
   "source": [
    "`-` xgb"
   ]
  },
  {
   "cell_type": "code",
   "execution_count": 153,
   "id": "94ff7820-b4a2-45ad-8782-33b2c7dc1573",
   "metadata": {},
   "outputs": [],
   "source": [
    "xgb_valid = []\n",
    "xgb_predict = np.zeros(test.shape[0])\n",
    "\n",
    "for train_idx, valid_idx in kfold.split(dt_scaled_df, log_target):\n",
    "    x_train, y_train = dt_scaled_df.iloc[train_idx], log_target.iloc[train_idx]\n",
    "    x_valid, y_valid = dt_scaled_df.iloc[valid_idx], np.exp(log_target.iloc[valid_idx])\n",
    "    \n",
    "    xgb = XGBRegressor(random_state = 22, n_estimators = 500, learning_rate = 0.03, max_depth = 3) \n",
    "    xgb.fit(x_train, y_train)\n",
    "    y_predict = np.exp(xgb.predict(x_valid)) ## valid셋 예측\n",
    "    test_predict = np.exp(xgb.predict(test_scaled_df)) ## test셋 예측\n",
    "\n",
    "    xgb_valid.append(NMAE(y_predict, y_valid)) ## valid 예측값\n",
    "    xgb_predict += test_predict / 10 ## test 예측값(10 Fold)"
   ]
  },
  {
   "cell_type": "markdown",
   "id": "ebe2ab7f-5f8c-45e6-92a1-43299ce1805b",
   "metadata": {},
   "source": [
    "`-` lgbm"
   ]
  },
  {
   "cell_type": "code",
   "execution_count": 154,
   "id": "e3d72cc9-8397-4982-b999-025e2b0d7027",
   "metadata": {},
   "outputs": [],
   "source": [
    "lgb_valid = []\n",
    "lgb_predict = np.zeros(test.shape[0])\n",
    "\n",
    "for train_idx, valid_idx in kfold.split(dt_scaled_df, log_target):\n",
    "    x_train, y_train = dt_scaled_df.iloc[train_idx], log_target.iloc[train_idx]\n",
    "    x_valid, y_valid = dt_scaled_df.iloc[valid_idx], np.exp(log_target.iloc[valid_idx])\n",
    "    \n",
    "    lgb = LGBMRegressor(random_state = 22, n_estimators = 700, max_depth = 3, learning_rate = 0.03)\n",
    "    lgb.fit(x_train, y_train)\n",
    "    y_predict = np.exp(lgb.predict(x_valid)) ## valid셋 예측\n",
    "    test_predict = np.exp(lgb.predict(test_scaled_df)) ## test셋 예측\n",
    "\n",
    "    lgb_valid.append(NMAE(y_predict, y_valid)) ## valid 예측값\n",
    "    lgb_predict += test_predict / 10 ## test 예측값(10 Fold)"
   ]
  },
  {
   "cell_type": "markdown",
   "id": "504cf3ce-a385-4dce-bd81-e270447bcfb5",
   "metadata": {},
   "source": [
    "`-` 4개의 모형을 앙상블하자"
   ]
  },
  {
   "cell_type": "code",
   "execution_count": 271,
   "id": "2d8cc55d-7fee-4d6c-b2b3-f4fabe4b85ea",
   "metadata": {},
   "outputs": [],
   "source": [
    "pred = (rf_predict + gb_predict + xgb_predict + lgb_predict) * 0.25 ## 예전 방식\n",
    "# pred = (gb_predict + xgb_predict + lgb_predict) / 3 ---> 이게 점수 더 잘나옴(랜덤 포레스트가 별로인 듯)\n",
    "# 점수는 0.10217이다"
   ]
  },
  {
   "cell_type": "code",
   "execution_count": 166,
   "id": "fd4155bc-94ac-44a6-8dbc-80458537259a",
   "metadata": {},
   "outputs": [],
   "source": [
    "pred = (cb_predict + gb_predict + xgb_predict + lgb_predict) / 4"
   ]
  },
  {
   "cell_type": "code",
   "execution_count": 159,
   "id": "2f6adefe-0492-4db9-9c32-0a7618cd2ade",
   "metadata": {},
   "outputs": [],
   "source": [
    "submission = pd.read_csv('C:/Users/Jaesu/github_desktop/Dacon-Basic/집값-예측/Data/sample_submission.csv')"
   ]
  },
  {
   "cell_type": "code",
   "execution_count": 167,
   "id": "1c9b5a6f-b843-439e-92db-2819d19e546e",
   "metadata": {},
   "outputs": [
    {
     "data": {
      "text/html": [
       "<div>\n",
       "<style scoped>\n",
       "    .dataframe tbody tr th:only-of-type {\n",
       "        vertical-align: middle;\n",
       "    }\n",
       "\n",
       "    .dataframe tbody tr th {\n",
       "        vertical-align: top;\n",
       "    }\n",
       "\n",
       "    .dataframe thead th {\n",
       "        text-align: right;\n",
       "    }\n",
       "</style>\n",
       "<table border=\"1\" class=\"dataframe\">\n",
       "  <thead>\n",
       "    <tr style=\"text-align: right;\">\n",
       "      <th></th>\n",
       "      <th>id</th>\n",
       "      <th>target</th>\n",
       "    </tr>\n",
       "  </thead>\n",
       "  <tbody>\n",
       "    <tr>\n",
       "      <th>0</th>\n",
       "      <td>1</td>\n",
       "      <td>338903.325696</td>\n",
       "    </tr>\n",
       "    <tr>\n",
       "      <th>1</th>\n",
       "      <td>2</td>\n",
       "      <td>132275.668027</td>\n",
       "    </tr>\n",
       "    <tr>\n",
       "      <th>2</th>\n",
       "      <td>3</td>\n",
       "      <td>175242.763379</td>\n",
       "    </tr>\n",
       "    <tr>\n",
       "      <th>3</th>\n",
       "      <td>4</td>\n",
       "      <td>246726.603024</td>\n",
       "    </tr>\n",
       "    <tr>\n",
       "      <th>4</th>\n",
       "      <td>5</td>\n",
       "      <td>134197.295835</td>\n",
       "    </tr>\n",
       "  </tbody>\n",
       "</table>\n",
       "</div>"
      ],
      "text/plain": [
       "   id         target\n",
       "0   1  338903.325696\n",
       "1   2  132275.668027\n",
       "2   3  175242.763379\n",
       "3   4  246726.603024\n",
       "4   5  134197.295835"
      ]
     },
     "execution_count": 167,
     "metadata": {},
     "output_type": "execute_result"
    }
   ],
   "source": [
    "## 위에서 구한 예측값을 그대로 넣어줌\n",
    "submission['target'] = pred\n",
    "\n",
    "## 데이터가 잘 들어갔는지 확인\n",
    "submission.head()"
   ]
  },
  {
   "cell_type": "code",
   "execution_count": 165,
   "id": "abec61e5-c0f7-4587-871b-c2f3b04329fb",
   "metadata": {},
   "outputs": [],
   "source": [
    "## submission을 csv 파일로 저장\n",
    "submission.to_csv('C:/Users/Jaesu/github_desktop/Dacon-Basic/집값-예측/Data/submission9.csv', index = False)"
   ]
  },
  {
   "cell_type": "markdown",
   "id": "e63871e3-fda7-45c0-b259-528b8c1b7c61",
   "metadata": {},
   "source": [
    "## 이상점 제거 X"
   ]
  },
  {
   "cell_type": "markdown",
   "id": "0cebd9e3-fcf3-4a58-88db-390f265aeb4a",
   "metadata": {},
   "source": [
    "`-` 이상점을 제거하지 않아봄(트리 기반 모델은 이상점에 덜 민감함)"
   ]
  },
  {
   "cell_type": "code",
   "execution_count": 201,
   "id": "92f1c191-396f-497b-87b9-e7a3c981c3ee",
   "metadata": {},
   "outputs": [],
   "source": [
    "dt = df.copy()"
   ]
  },
  {
   "cell_type": "markdown",
   "id": "13b0e1a8-a69f-41f3-9ae0-99c19afeccba",
   "metadata": {},
   "source": [
    "`-` 다음 컬럼들은 변수 값별 target의 중위값으로 인코딩"
   ]
  },
  {
   "cell_type": "code",
   "execution_count": 227,
   "id": "cf1bce7e-afd7-4733-a909-00916918e918",
   "metadata": {},
   "outputs": [],
   "source": [
    "cols = ['Exter_Qual', 'Kitchen_Qual', 'Bsmt_Qual']"
   ]
  },
  {
   "cell_type": "code",
   "execution_count": 218,
   "id": "2f4156f4-0a17-4bf4-ab0c-ee35aac26619",
   "metadata": {},
   "outputs": [],
   "source": [
    "for c in cols :\n",
    "    ord_df = dt.groupby(c).target.median().reset_index(name = f'ord_{c}')\n",
    "    dt = pd.merge(dt, ord_df, how = 'left')\n",
    "    test = pd.merge(test, ord_df, how = 'left')"
   ]
  },
  {
   "cell_type": "code",
   "execution_count": 221,
   "id": "503808a7-722f-48f1-85e2-310e67a7d8b5",
   "metadata": {},
   "outputs": [],
   "source": [
    "dt.drop(cols, axis = 1, inplace = True)\n",
    "test.drop(cols, axis = 1, inplace = True)"
   ]
  },
  {
   "cell_type": "markdown",
   "id": "36530658-0198-49b4-af12-22ef7ff7d232",
   "metadata": {},
   "source": [
    "`-` 타겟 인코딩을 하면서 test 데이터에 결측값(1개)이 발생"
   ]
  },
  {
   "cell_type": "code",
   "execution_count": 234,
   "id": "76738dc3-f1d2-47bb-b89e-96e6d8ceedd3",
   "metadata": {},
   "outputs": [
    {
     "data": {
      "text/html": [
       "<div>\n",
       "<style scoped>\n",
       "    .dataframe tbody tr th:only-of-type {\n",
       "        vertical-align: middle;\n",
       "    }\n",
       "\n",
       "    .dataframe tbody tr th {\n",
       "        vertical-align: top;\n",
       "    }\n",
       "\n",
       "    .dataframe thead th {\n",
       "        text-align: right;\n",
       "    }\n",
       "</style>\n",
       "<table border=\"1\" class=\"dataframe\">\n",
       "  <thead>\n",
       "    <tr style=\"text-align: right;\">\n",
       "      <th></th>\n",
       "      <th>Overall_Qual</th>\n",
       "      <th>Gr_Liv_Area</th>\n",
       "      <th>Garage_Cars</th>\n",
       "      <th>Garage_Area</th>\n",
       "      <th>Total_Bsmt_SF</th>\n",
       "      <th>First_Flr_SF</th>\n",
       "      <th>Full_Bath</th>\n",
       "      <th>Year_Built</th>\n",
       "      <th>Year_Remod_Add</th>\n",
       "      <th>Garage_Yr_Blt</th>\n",
       "      <th>ord_Exter_Qual</th>\n",
       "      <th>ord_Kitchen_Qual</th>\n",
       "      <th>ord_Bsmt_Qual</th>\n",
       "    </tr>\n",
       "  </thead>\n",
       "  <tbody>\n",
       "    <tr>\n",
       "      <th>878</th>\n",
       "      <td>5</td>\n",
       "      <td>1224</td>\n",
       "      <td>1</td>\n",
       "      <td>180</td>\n",
       "      <td>689</td>\n",
       "      <td>725</td>\n",
       "      <td>1</td>\n",
       "      <td>1917</td>\n",
       "      <td>1950</td>\n",
       "      <td>1917</td>\n",
       "      <td>142312.5</td>\n",
       "      <td>NaN</td>\n",
       "      <td>193000.0</td>\n",
       "    </tr>\n",
       "  </tbody>\n",
       "</table>\n",
       "</div>"
      ],
      "text/plain": [
       "     Overall_Qual  Gr_Liv_Area  Garage_Cars  Garage_Area  Total_Bsmt_SF  \\\n",
       "878             5         1224            1          180            689   \n",
       "\n",
       "     First_Flr_SF  Full_Bath  Year_Built  Year_Remod_Add  Garage_Yr_Blt  \\\n",
       "878           725          1        1917            1950           1917   \n",
       "\n",
       "     ord_Exter_Qual  ord_Kitchen_Qual  ord_Bsmt_Qual  \n",
       "878        142312.5               NaN       193000.0  "
      ]
     },
     "execution_count": 234,
     "metadata": {},
     "output_type": "execute_result"
    }
   ],
   "source": [
    "test[test.ord_Kitchen_Qual.isnull()]"
   ]
  },
  {
   "cell_type": "markdown",
   "id": "e1a9b1af-e2bd-491e-a796-88483d9a76c1",
   "metadata": {},
   "source": [
    "`-` dt의 중앙값으로 대체함"
   ]
  },
  {
   "cell_type": "code",
   "execution_count": 235,
   "id": "d4c1eb97-b25a-4c80-a3ae-bdceebd229e2",
   "metadata": {},
   "outputs": [],
   "source": [
    "test.fillna(dt.ord_Kitchen_Qual.median(), inplace = True)"
   ]
  },
  {
   "cell_type": "markdown",
   "id": "00d4edd8-b27e-4536-8cf1-6a256912c4dd",
   "metadata": {},
   "source": [
    "`-` 연도 피쳐는 드랍(의미 없어 보인다)"
   ]
  },
  {
   "cell_type": "code",
   "execution_count": 239,
   "id": "8fb39d8b-f054-4700-81b1-853fa647da07",
   "metadata": {},
   "outputs": [],
   "source": [
    "dt.drop(['Year_Built', 'Year_Remod_Add', 'Garage_Yr_Blt'], axis = 1, inplace = True)\n",
    "test.drop(['Year_Built', 'Year_Remod_Add', 'Garage_Yr_Blt'], axis = 1, inplace = True)"
   ]
  },
  {
   "cell_type": "code",
   "execution_count": 241,
   "id": "3877458f-d7d6-43be-9406-6842b804ad57",
   "metadata": {},
   "outputs": [],
   "source": [
    "target = dt['target']  ## target\n",
    "dt.drop('target', axis = 1, inplace = True)   ## target 제외한 데이터프레임"
   ]
  },
  {
   "cell_type": "markdown",
   "id": "49c7aa57-1c31-44ed-8313-f3aaddbd82fa",
   "metadata": {},
   "source": [
    "### 모델링"
   ]
  },
  {
   "cell_type": "markdown",
   "id": "40d8a6f6-64f8-4ffe-8807-12c4992dca1f",
   "metadata": {},
   "source": [
    "`-` 일단은 스케일링 하지 않음"
   ]
  },
  {
   "cell_type": "code",
   "execution_count": 238,
   "id": "9813c13d-5b8a-4fff-ab69-efdea3c2cd2c",
   "metadata": {},
   "outputs": [],
   "source": [
    "from sklearn.ensemble import RandomForestRegressor, GradientBoostingRegressor  \n",
    "from xgboost import XGBRegressor \n",
    "from lightgbm import LGBMRegressor \n",
    "from lightgbm import LGBMRegressor\n",
    "from catboost import CatBoostRegressor\n",
    "from sklearn.model_selection import GridSearchCV, train_test_split, cross_validate, KFold\n",
    "from sklearn.metrics import make_scorer"
   ]
  },
  {
   "cell_type": "code",
   "execution_count": 242,
   "id": "87ac7f78-463c-4969-a0e6-2b326ca574f6",
   "metadata": {},
   "outputs": [],
   "source": [
    "x_train, x_valid, y_train, y_valid = train_test_split(dt, target, shuffle = True, test_size = 0.2, random_state = 22)"
   ]
  },
  {
   "cell_type": "code",
   "execution_count": 243,
   "id": "8fbdd9b5-0c7e-461d-b3d7-4a369cbe8c9f",
   "metadata": {},
   "outputs": [],
   "source": [
    "log_y_train = np.log(y_train)"
   ]
  },
  {
   "cell_type": "markdown",
   "id": "add94e42-606d-4858-9fac-80b5c70e256a",
   "metadata": {},
   "source": [
    "`-` 데이터를 train과 valid로 나눈다\n",
    "\n",
    "`-` 그리고 train에 대해 교차검증(train을 train2와 valid2로 나누어 모형을 평가)을 한다\n",
    "\n",
    "`-` 그리고 교차검증에 사용한 모델로 valid를 평가한다\n",
    "\n",
    "`-` 교차검증을 통해 측정한 성능과 valid로 측정한 성능이 둘 다 좋다면 괜찮은 모델이다"
   ]
  },
  {
   "cell_type": "code",
   "execution_count": 244,
   "id": "f8fc27ca-b4ac-4203-924c-9e16b1f44971",
   "metadata": {},
   "outputs": [],
   "source": [
    "def NMAE(true, pred):\n",
    "    mae = np.mean(np.abs(true - pred))\n",
    "    score = mae / np.mean(np.abs(true))\n",
    "    return score"
   ]
  },
  {
   "cell_type": "code",
   "execution_count": 245,
   "id": "1fe3557a-9415-4d04-8f27-de0ef1430b10",
   "metadata": {},
   "outputs": [],
   "source": [
    "def my_custom_loss_func(true, pred):\n",
    "    return NMAE(np.exp(true), np.exp(pred)) ## 로그 변환을 위한 손실 함수"
   ]
  },
  {
   "cell_type": "code",
   "execution_count": 246,
   "id": "7b0e87e3-c2cf-485c-a04c-ffa9bf372c47",
   "metadata": {},
   "outputs": [],
   "source": [
    "score = make_scorer(my_custom_loss_func, greater_is_better = False) ## 작을수록 좋다 "
   ]
  },
  {
   "cell_type": "code",
   "execution_count": 254,
   "id": "967e3207-cfeb-4bf5-8631-bafb9a41431f",
   "metadata": {},
   "outputs": [],
   "source": [
    "rf = RandomForestRegressor(random_state = 22, criterion = 'mae')"
   ]
  },
  {
   "cell_type": "code",
   "execution_count": 252,
   "id": "605221f2-967a-4ced-a05b-2f2a123b4b07",
   "metadata": {},
   "outputs": [],
   "source": [
    "log_target = np.log(target)"
   ]
  },
  {
   "cell_type": "code",
   "execution_count": 255,
   "id": "95e390dd-81b8-490c-a8bb-03cac7e6d5c7",
   "metadata": {},
   "outputs": [
    {
     "name": "stdout",
     "output_type": "stream",
     "text": [
      "-----------------랜덤포레스트---------------------\n",
      "교차 검증별 NMAE:  [0.09774087 0.10535609 0.11505462 0.10144409 0.10108346 0.09631843\n",
      " 0.11027896 0.10163337 0.11041766 0.0997512 ]\n",
      "평균 교차 검증 NMAE:  0.10390787474990973\n",
      "valid에 대한 검증 NMAE:  0.106494377303765\n"
     ]
    }
   ],
   "source": [
    "scores = cross_validate(rf, dt, log_target, scoring = score, cv = 10)\n",
    "rf.fit(x_train, log_y_train)\n",
    "print('-----------------랜덤포레스트---------------------')\n",
    "print('교차 검증별 NMAE: ', abs(scores['test_score']))\n",
    "print('평균 교차 검증 NMAE: ', np.mean(abs(scores['test_score'])))\n",
    "print('valid에 대한 검증 NMAE: ', NMAE(y_valid, np.exp(rf.predict(x_valid))))"
   ]
  },
  {
   "cell_type": "code",
   "execution_count": 259,
   "id": "de5cb21f-478c-4d38-8ed6-668b0dd0b199",
   "metadata": {},
   "outputs": [
    {
     "data": {
      "text/plain": [
       "RandomForestRegressor(criterion='mae', random_state=22)"
      ]
     },
     "execution_count": 259,
     "metadata": {},
     "output_type": "execute_result"
    }
   ],
   "source": [
    "rf.fit(dt, target)"
   ]
  },
  {
   "cell_type": "code",
   "execution_count": 262,
   "id": "5da290e5-5af6-4b47-ad54-84c94c9577ec",
   "metadata": {},
   "outputs": [
    {
     "data": {
      "text/plain": [
       "{'Overall_Qual': 0.37293462948796124,\n",
       " 'Gr_Liv_Area': 0.16089608391551238,\n",
       " 'Garage_Cars': 0.014278231901710847,\n",
       " 'Garage_Area': 0.12494360623796022,\n",
       " 'Total_Bsmt_SF': 0.10065061657514864,\n",
       " 'First_Flr_SF': 0.0935867623506591,\n",
       " 'Full_Bath': 0.06402602105445104,\n",
       " 'ord_Exter_Qual': 0.012468516017666686,\n",
       " 'ord_Kitchen_Qual': 0.019439162543942744,\n",
       " 'ord_Bsmt_Qual': 0.036776369914987075}"
      ]
     },
     "execution_count": 262,
     "metadata": {},
     "output_type": "execute_result"
    }
   ],
   "source": [
    "dict(zip(rf.feature_names_in_, rf.feature_importances_))"
   ]
  },
  {
   "cell_type": "code",
   "execution_count": 284,
   "id": "c4d8ba5b-b1f0-48d6-9b34-70ae9e6b965e",
   "metadata": {},
   "outputs": [],
   "source": [
    "_ = pd.DataFrame(dict(zip(rf.feature_names_in_, rf.feature_importances_)), index = [0]).T.\\\n",
    "reset_index().rename(columns = {'index':'feature', 0:'importance'}).\\\n",
    "sort_values('importance', ascending = False)"
   ]
  },
  {
   "cell_type": "code",
   "execution_count": 285,
   "id": "2025836a-27fc-4f8b-aa7f-c15dbc274485",
   "metadata": {},
   "outputs": [
    {
     "data": {
      "text/plain": [
       "<AxesSubplot:xlabel='importance', ylabel='feature'>"
      ]
     },
     "execution_count": 285,
     "metadata": {},
     "output_type": "execute_result"
    },
    {
     "data": {
      "image/png": "[encoded data removed]",
      "text/plain": [
       "<Figure size 432x288 with 1 Axes>"
      ]
     },
     "metadata": {},
     "output_type": "display_data"
    }
   ],
   "source": [
    "sns.barplot(y = 'feature', x = 'importance', data = _)"
   ]
  },
  {
   "cell_type": "markdown",
   "id": "7ea0be14-6a56-4c78-bfa4-f480570eaae3",
   "metadata": {},
   "source": [
    "`-` 이상점 제거 안하고 딱히 전처리 안했을 때 랜덤포레스트의 성능과 피쳐의 중요도는 위와 같다"
   ]
  },
  {
   "cell_type": "code",
   "execution_count": null,
   "id": "25ede803-7b21-4065-840e-96658ff823ed",
   "metadata": {},
   "outputs": [],
   "source": []
  }
 ],
 "metadata": {
  "kernelspec": {
   "display_name": "Python 3 (ipykernel)",
   "language": "python",
   "name": "python3"
  },
  "language_info": {
   "codemirror_mode": {
    "name": "ipython",
    "version": 3
   },
   "file_extension": ".py",
   "mimetype": "text/x-python",
   "name": "python",
   "nbconvert_exporter": "python",
   "pygments_lexer": "ipython3",
   "version": "3.8.11"
  }
 },
 "nbformat": 4,
 "nbformat_minor": 5
}
