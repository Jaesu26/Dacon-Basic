{
 "cells": [
  {
   "cell_type": "markdown",
   "id": "f12dea35-3318-44e1-a8e4-4c6987789f1c",
   "metadata": {},
   "source": [
    "# 집값 예측 경진대회"
   ]
  },
  {
   "cell_type": "markdown",
   "id": "e86cee4e-a866-411b-9037-4370f4bf27f0",
   "metadata": {},
   "source": [
    "## 패키지 import 및 데이터 전처리"
   ]
  },
  {
   "cell_type": "code",
   "execution_count": 42,
   "id": "f8bf0549-d508-4eef-b568-2197242519c9",
   "metadata": {},
   "outputs": [],
   "source": [
    "import pandas as pd\n",
    "import numpy as np\n",
    "import matplotlib.pyplot as plt"
   ]
  },
  {
   "cell_type": "code",
   "execution_count": 43,
   "id": "53637b8d-584b-4953-9373-ef0d4824f05b",
   "metadata": {},
   "outputs": [],
   "source": [
    "df = pd.read_csv('C:/Users/Jaesu/github_desktop/Dacon-Basic/집값-예측/Data/train.csv')\n",
    "test = pd.read_csv('C:/Users/Jaesu/github_desktop/Dacon-Basic/집값-예측/Data/test.csv')"
   ]
  },
  {
   "cell_type": "code",
   "execution_count": 44,
   "id": "7d089a0c-eae8-4ab9-8b11-c03c301b63e6",
   "metadata": {},
   "outputs": [
    {
     "data": {
      "text/html": [
       "<div>\n",
       "<style scoped>\n",
       "    .dataframe tbody tr th:only-of-type {\n",
       "        vertical-align: middle;\n",
       "    }\n",
       "\n",
       "    .dataframe tbody tr th {\n",
       "        vertical-align: top;\n",
       "    }\n",
       "\n",
       "    .dataframe thead th {\n",
       "        text-align: right;\n",
       "    }\n",
       "</style>\n",
       "<table border=\"1\" class=\"dataframe\">\n",
       "  <thead>\n",
       "    <tr style=\"text-align: right;\">\n",
       "      <th></th>\n",
       "      <th>id</th>\n",
       "      <th>Overall Qual</th>\n",
       "      <th>Gr Liv Area</th>\n",
       "      <th>Exter Qual</th>\n",
       "      <th>Garage Cars</th>\n",
       "      <th>Garage Area</th>\n",
       "      <th>Kitchen Qual</th>\n",
       "      <th>Total Bsmt SF</th>\n",
       "      <th>1st Flr SF</th>\n",
       "      <th>Bsmt Qual</th>\n",
       "      <th>Full Bath</th>\n",
       "      <th>Year Built</th>\n",
       "      <th>Year Remod/Add</th>\n",
       "      <th>Garage Yr Blt</th>\n",
       "      <th>target</th>\n",
       "    </tr>\n",
       "  </thead>\n",
       "  <tbody>\n",
       "    <tr>\n",
       "      <th>0</th>\n",
       "      <td>1</td>\n",
       "      <td>10</td>\n",
       "      <td>2392</td>\n",
       "      <td>Ex</td>\n",
       "      <td>3</td>\n",
       "      <td>968</td>\n",
       "      <td>Ex</td>\n",
       "      <td>2392</td>\n",
       "      <td>2392</td>\n",
       "      <td>Ex</td>\n",
       "      <td>2</td>\n",
       "      <td>2003</td>\n",
       "      <td>2003</td>\n",
       "      <td>2003</td>\n",
       "      <td>386250</td>\n",
       "    </tr>\n",
       "    <tr>\n",
       "      <th>1</th>\n",
       "      <td>2</td>\n",
       "      <td>7</td>\n",
       "      <td>1352</td>\n",
       "      <td>Gd</td>\n",
       "      <td>2</td>\n",
       "      <td>466</td>\n",
       "      <td>Gd</td>\n",
       "      <td>1352</td>\n",
       "      <td>1352</td>\n",
       "      <td>Ex</td>\n",
       "      <td>2</td>\n",
       "      <td>2006</td>\n",
       "      <td>2007</td>\n",
       "      <td>2006</td>\n",
       "      <td>194000</td>\n",
       "    </tr>\n",
       "    <tr>\n",
       "      <th>2</th>\n",
       "      <td>3</td>\n",
       "      <td>5</td>\n",
       "      <td>900</td>\n",
       "      <td>TA</td>\n",
       "      <td>1</td>\n",
       "      <td>288</td>\n",
       "      <td>TA</td>\n",
       "      <td>864</td>\n",
       "      <td>900</td>\n",
       "      <td>TA</td>\n",
       "      <td>1</td>\n",
       "      <td>1967</td>\n",
       "      <td>1967</td>\n",
       "      <td>1967</td>\n",
       "      <td>123000</td>\n",
       "    </tr>\n",
       "    <tr>\n",
       "      <th>3</th>\n",
       "      <td>4</td>\n",
       "      <td>5</td>\n",
       "      <td>1174</td>\n",
       "      <td>TA</td>\n",
       "      <td>2</td>\n",
       "      <td>576</td>\n",
       "      <td>Gd</td>\n",
       "      <td>680</td>\n",
       "      <td>680</td>\n",
       "      <td>TA</td>\n",
       "      <td>1</td>\n",
       "      <td>1900</td>\n",
       "      <td>2006</td>\n",
       "      <td>2000</td>\n",
       "      <td>135000</td>\n",
       "    </tr>\n",
       "    <tr>\n",
       "      <th>4</th>\n",
       "      <td>5</td>\n",
       "      <td>7</td>\n",
       "      <td>1958</td>\n",
       "      <td>Gd</td>\n",
       "      <td>3</td>\n",
       "      <td>936</td>\n",
       "      <td>Gd</td>\n",
       "      <td>1026</td>\n",
       "      <td>1026</td>\n",
       "      <td>Gd</td>\n",
       "      <td>2</td>\n",
       "      <td>2005</td>\n",
       "      <td>2005</td>\n",
       "      <td>2005</td>\n",
       "      <td>250000</td>\n",
       "    </tr>\n",
       "  </tbody>\n",
       "</table>\n",
       "</div>"
      ],
      "text/plain": [
       "   id  Overall Qual  Gr Liv Area Exter Qual  Garage Cars  Garage Area  \\\n",
       "0   1            10         2392         Ex            3          968   \n",
       "1   2             7         1352         Gd            2          466   \n",
       "2   3             5          900         TA            1          288   \n",
       "3   4             5         1174         TA            2          576   \n",
       "4   5             7         1958         Gd            3          936   \n",
       "\n",
       "  Kitchen Qual  Total Bsmt SF  1st Flr SF Bsmt Qual  Full Bath  Year Built  \\\n",
       "0           Ex           2392        2392        Ex          2        2003   \n",
       "1           Gd           1352        1352        Ex          2        2006   \n",
       "2           TA            864         900        TA          1        1967   \n",
       "3           Gd            680         680        TA          1        1900   \n",
       "4           Gd           1026        1026        Gd          2        2005   \n",
       "\n",
       "   Year Remod/Add  Garage Yr Blt  target  \n",
       "0            2003           2003  386250  \n",
       "1            2007           2006  194000  \n",
       "2            1967           1967  123000  \n",
       "3            2006           2000  135000  \n",
       "4            2005           2005  250000  "
      ]
     },
     "execution_count": 44,
     "metadata": {},
     "output_type": "execute_result"
    }
   ],
   "source": [
    "df.head()"
   ]
  },
  {
   "cell_type": "markdown",
   "id": "99b90d82-162d-43e4-a66e-d50f472b92f9",
   "metadata": {},
   "source": [
    "`-` id는 필요없으니 제거"
   ]
  },
  {
   "cell_type": "code",
   "execution_count": 45,
   "id": "6bcce290-16b5-4868-a840-342dc31346f4",
   "metadata": {},
   "outputs": [],
   "source": [
    "df.drop('id', axis = 1, inplace = True)\n",
    "test.drop('id', axis = 1, inplace = True)"
   ]
  },
  {
   "cell_type": "markdown",
   "id": "d0fe3191-1b14-4f78-b936-37e78b8342e7",
   "metadata": {},
   "source": [
    "`-` 결측치는 없다"
   ]
  },
  {
   "cell_type": "markdown",
   "id": "fa33897d-28f7-46d1-b02c-79d3662a69ea",
   "metadata": {},
   "source": [
    "`-` 분석의 편의를 위해 컬럼명을 바꾸겠다"
   ]
  },
  {
   "cell_type": "code",
   "execution_count": 46,
   "id": "357216ba-2a96-4e8d-be0c-66325574a76f",
   "metadata": {},
   "outputs": [],
   "source": [
    "## 공백과 슬래쉬를 _로 대체 1을 숫자가 아닌 다른 문자로 바꿈 \n",
    "\n",
    "df.rename(columns = dict(zip(df.columns, [column.replace(' ', '_').replace('/', '_').replace('1', 'fir') for column in df.columns])), inplace = True) \n",
    "test.rename(columns = dict(zip(test.columns, [column.replace(' ', '_').replace('/', '_').replace('1', 'fir') for column in test.columns])), inplace = True) "
   ]
  },
  {
   "cell_type": "markdown",
   "id": "a1fd051d-5793-4e77-b987-cc7289c303a5",
   "metadata": {},
   "source": [
    "`-` 범주형 변수는 Exter Qual(외관 재료 품질;4개), Kitchen Qual(부엌 품질; 4개), Bsmt Qual(지하실 높이;5개)이다\n",
    "\n",
    "`-` 총 5개의 등급이 존재하는데 Poor 등급은 Bsmt Qual에 1개 존재한다(나머지는 0개)\n",
    "\n",
    "`-` 아예 poor등급이 존재하지 않는걸 수 도 있고 poor등급이 존재하는데 poor등급에 해당하는 건물이 존재하지 않는걸 수 도 있다\n",
    "\n",
    "`-` 편의상 후자라고 생각하자\n",
    "\n",
    "`-` 이들은 순서형 변수이므로 라벨 인코딩을 해주자"
   ]
  },
  {
   "cell_type": "markdown",
   "id": "0cfa695b-f700-407e-ae30-e42097e36a60",
   "metadata": {},
   "source": [
    "`-` 좋은 등급이 큰 값을 가지도록 하기위해 라벨인코딩을 정의해주자"
   ]
  },
  {
   "cell_type": "code",
   "execution_count": 47,
   "id": "d2a656ff-fa7a-4071-8627-306e9bc14800",
   "metadata": {},
   "outputs": [],
   "source": [
    "def label_encoding(data):\n",
    "    grade_label = ['Po', 'Fa', 'TA', 'Gd', 'Ex'] ## 0~4점\n",
    "    \n",
    "    for grade, label in enumerate(grade_label):\n",
    "        if data == label:\n",
    "            return grade"
   ]
  },
  {
   "cell_type": "code",
   "execution_count": 48,
   "id": "4d61b89c-8104-43e3-97af-d1ea4fecb8e6",
   "metadata": {},
   "outputs": [],
   "source": [
    "for col in df.columns[df.dtypes == 'object']:\n",
    "    df[col] = df[col].apply(lambda x: label_encoding(x))"
   ]
  },
  {
   "cell_type": "code",
   "execution_count": 49,
   "id": "1048795d-e0de-404c-a420-61a444866d5f",
   "metadata": {},
   "outputs": [
    {
     "data": {
      "text/html": [
       "<div>\n",
       "<style scoped>\n",
       "    .dataframe tbody tr th:only-of-type {\n",
       "        vertical-align: middle;\n",
       "    }\n",
       "\n",
       "    .dataframe tbody tr th {\n",
       "        vertical-align: top;\n",
       "    }\n",
       "\n",
       "    .dataframe thead th {\n",
       "        text-align: right;\n",
       "    }\n",
       "</style>\n",
       "<table border=\"1\" class=\"dataframe\">\n",
       "  <thead>\n",
       "    <tr style=\"text-align: right;\">\n",
       "      <th></th>\n",
       "      <th>Overall_Qual</th>\n",
       "      <th>Gr_Liv_Area</th>\n",
       "      <th>Exter_Qual</th>\n",
       "      <th>Garage_Cars</th>\n",
       "      <th>Garage_Area</th>\n",
       "      <th>Kitchen_Qual</th>\n",
       "      <th>Total_Bsmt_SF</th>\n",
       "      <th>first_Flr_SF</th>\n",
       "      <th>Bsmt_Qual</th>\n",
       "      <th>Full_Bath</th>\n",
       "      <th>Year_Built</th>\n",
       "      <th>Year_Remod_Add</th>\n",
       "      <th>Garage_Yr_Blt</th>\n",
       "      <th>target</th>\n",
       "    </tr>\n",
       "  </thead>\n",
       "  <tbody>\n",
       "    <tr>\n",
       "      <th>0</th>\n",
       "      <td>10</td>\n",
       "      <td>2392</td>\n",
       "      <td>4</td>\n",
       "      <td>3</td>\n",
       "      <td>968</td>\n",
       "      <td>4</td>\n",
       "      <td>2392</td>\n",
       "      <td>2392</td>\n",
       "      <td>4</td>\n",
       "      <td>2</td>\n",
       "      <td>2003</td>\n",
       "      <td>2003</td>\n",
       "      <td>2003</td>\n",
       "      <td>386250</td>\n",
       "    </tr>\n",
       "    <tr>\n",
       "      <th>1</th>\n",
       "      <td>7</td>\n",
       "      <td>1352</td>\n",
       "      <td>3</td>\n",
       "      <td>2</td>\n",
       "      <td>466</td>\n",
       "      <td>3</td>\n",
       "      <td>1352</td>\n",
       "      <td>1352</td>\n",
       "      <td>4</td>\n",
       "      <td>2</td>\n",
       "      <td>2006</td>\n",
       "      <td>2007</td>\n",
       "      <td>2006</td>\n",
       "      <td>194000</td>\n",
       "    </tr>\n",
       "    <tr>\n",
       "      <th>2</th>\n",
       "      <td>5</td>\n",
       "      <td>900</td>\n",
       "      <td>2</td>\n",
       "      <td>1</td>\n",
       "      <td>288</td>\n",
       "      <td>2</td>\n",
       "      <td>864</td>\n",
       "      <td>900</td>\n",
       "      <td>2</td>\n",
       "      <td>1</td>\n",
       "      <td>1967</td>\n",
       "      <td>1967</td>\n",
       "      <td>1967</td>\n",
       "      <td>123000</td>\n",
       "    </tr>\n",
       "    <tr>\n",
       "      <th>3</th>\n",
       "      <td>5</td>\n",
       "      <td>1174</td>\n",
       "      <td>2</td>\n",
       "      <td>2</td>\n",
       "      <td>576</td>\n",
       "      <td>3</td>\n",
       "      <td>680</td>\n",
       "      <td>680</td>\n",
       "      <td>2</td>\n",
       "      <td>1</td>\n",
       "      <td>1900</td>\n",
       "      <td>2006</td>\n",
       "      <td>2000</td>\n",
       "      <td>135000</td>\n",
       "    </tr>\n",
       "    <tr>\n",
       "      <th>4</th>\n",
       "      <td>7</td>\n",
       "      <td>1958</td>\n",
       "      <td>3</td>\n",
       "      <td>3</td>\n",
       "      <td>936</td>\n",
       "      <td>3</td>\n",
       "      <td>1026</td>\n",
       "      <td>1026</td>\n",
       "      <td>3</td>\n",
       "      <td>2</td>\n",
       "      <td>2005</td>\n",
       "      <td>2005</td>\n",
       "      <td>2005</td>\n",
       "      <td>250000</td>\n",
       "    </tr>\n",
       "  </tbody>\n",
       "</table>\n",
       "</div>"
      ],
      "text/plain": [
       "   Overall_Qual  Gr_Liv_Area  Exter_Qual  Garage_Cars  Garage_Area  \\\n",
       "0            10         2392           4            3          968   \n",
       "1             7         1352           3            2          466   \n",
       "2             5          900           2            1          288   \n",
       "3             5         1174           2            2          576   \n",
       "4             7         1958           3            3          936   \n",
       "\n",
       "   Kitchen_Qual  Total_Bsmt_SF  first_Flr_SF  Bsmt_Qual  Full_Bath  \\\n",
       "0             4           2392          2392          4          2   \n",
       "1             3           1352          1352          4          2   \n",
       "2             2            864           900          2          1   \n",
       "3             3            680           680          2          1   \n",
       "4             3           1026          1026          3          2   \n",
       "\n",
       "   Year_Built  Year_Remod_Add  Garage_Yr_Blt  target  \n",
       "0        2003            2003           2003  386250  \n",
       "1        2006            2007           2006  194000  \n",
       "2        1967            1967           1967  123000  \n",
       "3        1900            2006           2000  135000  \n",
       "4        2005            2005           2005  250000  "
      ]
     },
     "execution_count": 49,
     "metadata": {},
     "output_type": "execute_result"
    }
   ],
   "source": [
    "df.head()"
   ]
  },
  {
   "cell_type": "markdown",
   "id": "85b802ab-5313-4b78-9353-3af9e0f638bf",
   "metadata": {},
   "source": [
    "`-` 라벨 인코딩이 잘 되었다"
   ]
  },
  {
   "cell_type": "markdown",
   "id": "616f5b75-818a-42af-9cc1-33da2f6d3a0e",
   "metadata": {},
   "source": [
    "### 로그 변환 및 이상점 제거"
   ]
  },
  {
   "cell_type": "markdown",
   "id": "ff1a3204-ea5d-467b-868d-e691fe07c90a",
   "metadata": {},
   "source": [
    "`-` 앞서 EDA에서 집값(target)이 오른쪽으로 꼬리가 긴 분포임을 확인했다\n",
    "\n",
    "`-` 정규분포로 맞춰주기 위해 로그변환을 하자"
   ]
  },
  {
   "cell_type": "code",
   "execution_count": 50,
   "id": "e0060b0b-d9f2-4f39-9b10-c0681b43489a",
   "metadata": {},
   "outputs": [],
   "source": [
    "import scipy.stats as stats"
   ]
  },
  {
   "cell_type": "code",
   "execution_count": 51,
   "id": "392b2b2f-5c67-461e-996b-f742422f46bf",
   "metadata": {},
   "outputs": [
    {
     "data": {
      "text/plain": [
       "<AxesSubplot:>"
      ]
     },
     "execution_count": 51,
     "metadata": {},
     "output_type": "execute_result"
    },
    {
     "data": {
      "image/png": "[encoded data removed]",
      "text/plain": [
       "<Figure size 432x288 with 1 Axes>"
      ]
     },
     "metadata": {
      "needs_background": "light"
     },
     "output_type": "display_data"
    }
   ],
   "source": [
    "np.log(df['target']).hist(bins = 30)"
   ]
  },
  {
   "cell_type": "code",
   "execution_count": 52,
   "id": "f4d43018-89d4-4cb3-bfcb-f5dbd591a0d4",
   "metadata": {},
   "outputs": [
    {
     "data": {
      "image/png": "[encoded data removed]",
      "text/plain": [
       "<Figure size 432x288 with 1 Axes>"
      ]
     },
     "metadata": {
      "needs_background": "light"
     },
     "output_type": "display_data"
    }
   ],
   "source": [
    "_ = stats.probplot(np.log(df['target']), plot = plt)"
   ]
  },
  {
   "cell_type": "markdown",
   "id": "f73badad-ee57-404a-af37-e85eb0f5be90",
   "metadata": {},
   "source": [
    "`-` 로그 변환을 했지만 정규분포를 따르지 않는것처럼 보인다\n",
    "\n",
    "`-` 샤피로-윌크 검정을 통해 정확히 확인하자"
   ]
  },
  {
   "cell_type": "code",
   "execution_count": 53,
   "id": "e92a280e-b2aa-419f-843a-7f911ae36054",
   "metadata": {},
   "outputs": [],
   "source": [
    "test_stat, p_val = stats.shapiro(np.log(df['target']))"
   ]
  },
  {
   "cell_type": "code",
   "execution_count": 54,
   "id": "e32fbef7-a05d-456f-9c9e-7b5714f448c6",
   "metadata": {},
   "outputs": [
    {
     "data": {
      "text/plain": [
       "(4.748497602069524e-13, 0.08070163740417918)"
      ]
     },
     "execution_count": 54,
     "metadata": {},
     "output_type": "execute_result"
    }
   ],
   "source": [
    "p_val, np.log(df['target']).skew() ## p값과 왜도"
   ]
  },
  {
   "cell_type": "markdown",
   "id": "ff278120-4c37-4dd7-b0a3-739c07d43093",
   "metadata": {},
   "source": [
    "`-` 안타깝게도 정규분포를 따르지 않는다"
   ]
  },
  {
   "cell_type": "markdown",
   "id": "103acf3b-2d37-47cb-b036-f8db44c9f286",
   "metadata": {},
   "source": [
    "`-` 왜도는 $0.08$로 거의 $0$"
   ]
  },
  {
   "cell_type": "markdown",
   "id": "26f59312-7aea-47fc-804e-d4d82ee4e28a",
   "metadata": {},
   "source": [
    "`-` 그런데 Q-Q플랏을 보면 심각한 이상치가 보인다(-3부근에 2개)\n",
    "\n",
    "`-` 저런 이상치를 예측하는 것은 불가능해보이니 제거하자"
   ]
  },
  {
   "cell_type": "markdown",
   "id": "95b71221-7f74-47a7-9038-c83df3808dfb",
   "metadata": {},
   "source": [
    "`-` 값이 큰쪽으로도 이상점이 있는데 제거할지 말지 고민중이다"
   ]
  },
  {
   "cell_type": "markdown",
   "id": "12452b64-ec06-409b-a471-22f7a80d4065",
   "metadata": {},
   "source": [
    "`-` 가장 비싼 집이 745000 달러인데 Gr_Liv_Area(지상층 생활 면적)이 4476으로 매우 넓다!\n",
    "\n",
    "`-` 근데 생각해보니 제거하는 것이 맞는 것 같다(심각한 이상치로 인해 큰 영향을 끼칠 수 있음)"
   ]
  },
  {
   "cell_type": "code",
   "execution_count": 55,
   "id": "cecb4803-b70c-45a2-be54-8f919f0a1d90",
   "metadata": {},
   "outputs": [
    {
     "data": {
      "image/png": "[encoded data removed]",
      "text/plain": [
       "<Figure size 432x288 with 1 Axes>"
      ]
     },
     "metadata": {},
     "output_type": "display_data"
    }
   ],
   "source": [
    "with plt.style.context('seaborn-dark'): \n",
    "    plt.boxplot(np.log(df['target']))\n",
    "plt.show()"
   ]
  },
  {
   "cell_type": "markdown",
   "id": "b77255b0-fb34-494c-ba4f-d710035a81f1",
   "metadata": {},
   "source": [
    "`-` 로그 변환을 해서 나온 이상치들을 제거하자"
   ]
  },
  {
   "cell_type": "code",
   "execution_count": 72,
   "id": "29857ef1-7d6f-4121-8ae2-bdf12d2444de",
   "metadata": {},
   "outputs": [],
   "source": [
    "def remove_outlier(df):\n",
    "    Q1 = np.log(df).quantile(0.25)\n",
    "    Q3 = np.log(df).quantile(0.75)\n",
    "    IQR = Q3 - Q1   \n",
    "\n",
    "    filter_ = (np.log(df) >= Q1 - 1.5*IQR) & (np.log(df) <= Q3 + 1.5*IQR)\n",
    "    return filter_"
   ]
  },
  {
   "cell_type": "markdown",
   "id": "f0ea29a1-1a28-45cd-ad1c-61b5d5dca06a",
   "metadata": {},
   "source": [
    "`-` df의 이상점을 제거한 df2를 만듦"
   ]
  },
  {
   "cell_type": "code",
   "execution_count": 300,
   "id": "8d326e08-1f73-4b47-8862-920a069cd646",
   "metadata": {},
   "outputs": [],
   "source": [
    "df2 = df.copy()"
   ]
  },
  {
   "cell_type": "code",
   "execution_count": 301,
   "id": "210d1094-79ee-4126-b834-489aab5b2a3a",
   "metadata": {},
   "outputs": [
    {
     "data": {
      "text/plain": [
       "array([10,  7,  5,  8,  6,  3,  4,  9,  2], dtype=int64)"
      ]
     },
     "execution_count": 301,
     "metadata": {},
     "output_type": "execute_result"
    }
   ],
   "source": [
    "df2['Overall_Qual'].unique()"
   ]
  },
  {
   "cell_type": "markdown",
   "id": "cd27af93-a923-4dee-acad-02166c6fe319",
   "metadata": {},
   "source": [
    "`-` 위에서 제거한 이상점은 target의 이상점이다\n",
    "\n",
    "`-` 그런데 위와 같이 이상점을 제거하면 target 전체를 기준으로 매우 큰 값 또는 작은 값만 제거된다\n",
    "\n",
    "`-` 하지만 Overall Qual과 같은 변수로 target을 나눠서 보면 target 전체로 봤을 때의 이상점과 다르다\n",
    "\n",
    "`-` 그렇기에 Overall Qual에 따른 target의 이상점을 제거하겠다\n",
    "\n",
    "`-` 예컨대 Overall Qual이 3일 때 이상점으로 30만 달러의 집이 있다고 해도\n",
    "\n",
    "`-` target 전체로 봤을 땐 이상점이 아니다"
   ]
  },
  {
   "cell_type": "markdown",
   "id": "652870af-fd5e-47df-a0e5-6a9cb3bff07c",
   "metadata": {},
   "source": [
    "`-` 각각의 Overall_Qual에 대한 target의 이상점을 제거하자\n",
    "\n",
    "`-` 기준을 Overall_Qual로 할지 Kitchen_Qual로 할지 고민이다\n",
    "\n",
    "`-` 일단은 kitchen_Qual로 해보자\n",
    "\n",
    "`-` 그리고 전체 target에 대한 이상점도 제거하자"
   ]
  },
  {
   "cell_type": "code",
   "execution_count": 220,
   "id": "d6a46513-0132-40f6-99a5-76333dd7c173",
   "metadata": {},
   "outputs": [],
   "source": [
    "# l = []\n",
    "# for i in df2['Overall_Qual'].unique():\n",
    "#     l.extend(remove_outlier(df2.query('Overall_Qual == @i')[['target']]).query('target == True').index.tolist()) ## 이상점이 아닌 인덱스번호만 추가\n",
    "             \n",
    "# l = list(set(l))"
   ]
  },
  {
   "cell_type": "code",
   "execution_count": 302,
   "id": "d87cd960-dc8d-4c5e-b6c9-b00c0c2a399a",
   "metadata": {},
   "outputs": [],
   "source": [
    "l = []\n",
    "for i in df2['Kitchen_Qual'].unique():\n",
    "    l.extend(remove_outlier(df2.query('Kitchen_Qual == @i')[['target']]).query('target == True').index.tolist()) ## 이상점이 아닌 인덱스번호만 추가\n",
    "\n",
    "# l = list(set(l))\n",
    "l = list(set(l) & set(remove_outlier(df2[['target']]).query('target == True').index.tolist()))"
   ]
  },
  {
   "cell_type": "code",
   "execution_count": 303,
   "id": "80d0c85e-df81-4355-92d2-e0d4e90b9faf",
   "metadata": {},
   "outputs": [],
   "source": [
    "df2 = df2.loc[l,:].reset_index().drop('index', axis = 1)"
   ]
  },
  {
   "cell_type": "code",
   "execution_count": 304,
   "id": "1ea3e730-af82-491e-939d-79ef94ef6a1f",
   "metadata": {},
   "outputs": [
    {
     "data": {
      "text/plain": [
       "<AxesSubplot:>"
      ]
     },
     "execution_count": 304,
     "metadata": {},
     "output_type": "execute_result"
    },
    {
     "data": {
      "image/png": "[encoded data removed]",
      "text/plain": [
       "<Figure size 432x288 with 1 Axes>"
      ]
     },
     "metadata": {
      "needs_background": "light"
     },
     "output_type": "display_data"
    }
   ],
   "source": [
    "np.log(df2['target']).hist(bins = 30)"
   ]
  },
  {
   "cell_type": "code",
   "execution_count": 234,
   "id": "086f6571-b0a5-4279-9082-36eacac5c68e",
   "metadata": {},
   "outputs": [
    {
     "data": {
      "image/png": "[encoded data removed]",
      "text/plain": [
       "<Figure size 432x288 with 1 Axes>"
      ]
     },
     "metadata": {
      "needs_background": "light"
     },
     "output_type": "display_data"
    }
   ],
   "source": [
    "_ = stats.probplot(np.log(df2['target']), plot = plt)"
   ]
  },
  {
   "cell_type": "code",
   "execution_count": 307,
   "id": "670ed86e-5c17-4c7e-a6f2-c143292ab6ff",
   "metadata": {},
   "outputs": [],
   "source": [
    "test_stat, p_val = stats.shapiro(np.log(df2['target']))"
   ]
  },
  {
   "cell_type": "code",
   "execution_count": 308,
   "id": "7d55c291-9d9f-4a7b-9ba1-472c4ec2c675",
   "metadata": {},
   "outputs": [
    {
     "data": {
      "text/plain": [
       "(1.1122151810649683e-11, 0.4089823524750673)"
      ]
     },
     "execution_count": 308,
     "metadata": {},
     "output_type": "execute_result"
    }
   ],
   "source": [
    "p_val, np.log(df2['target']).skew() ## p값과 왜도"
   ]
  },
  {
   "cell_type": "markdown",
   "id": "9013b767-f419-430b-be05-53bd2e3db543",
   "metadata": {},
   "source": [
    "`-` 이상으로 이상점 제거를 끝냈다"
   ]
  },
  {
   "cell_type": "code",
   "execution_count": 309,
   "id": "c1253eec-1261-41ed-91a2-695299c991d5",
   "metadata": {},
   "outputs": [],
   "source": [
    "dt = df2.copy()"
   ]
  },
  {
   "cell_type": "code",
   "execution_count": 311,
   "id": "17fb28d5-924c-439e-9aeb-399c6f5c2dc9",
   "metadata": {},
   "outputs": [],
   "source": [
    "target = dt['target']  ## target\n",
    "dt = dt.iloc[:, :-1]   ## target 제외한 데이터프레임"
   ]
  },
  {
   "cell_type": "code",
   "execution_count": 312,
   "id": "a91195cb-68c8-49c1-87ae-22a6045b0308",
   "metadata": {},
   "outputs": [],
   "source": [
    "dt['gap_year_now_bulit'] = 2022 - dt['Year_Built']"
   ]
  },
  {
   "cell_type": "markdown",
   "id": "53a07bea-eac4-440c-9357-a2f7ad515225",
   "metadata": {},
   "source": [
    "`-` train 셋에 포함된 피쳐외의 특징을 연도 피쳐가 가지고 있을 수 있으니 연도 변수로 위의 파생 변수를 사용하자"
   ]
  },
  {
   "cell_type": "code",
   "execution_count": 313,
   "id": "fa387c10-42a3-4fc7-9c27-84296435277e",
   "metadata": {},
   "outputs": [],
   "source": [
    "dt.drop(['Year_Built', 'Year_Remod_Add', 'Garage_Yr_Blt'], axis = 1, inplace = True)"
   ]
  },
  {
   "cell_type": "markdown",
   "id": "e193396e-40fe-43e6-9587-ce89f15c421e",
   "metadata": {},
   "source": [
    "`-` 차고 면적은 차고 자리 개수와 관련이 있다\n",
    "\n",
    "`-` 차고 자리 개수에 따라 차고 면적의 분포가 다름\n",
    "\n",
    "`-` 그렇기에 원핫인코딩을 하고 둘을 곱한 파생 변수를 만들고 로그 변환을 해주자(오른쪽으로 꼬리가 긴 분포)\n",
    "\n",
    "`-` 그런데 일단은 하지 말자(하지 말고 그냥 드랍하자)"
   ]
  },
  {
   "cell_type": "markdown",
   "id": "0100e4d2-4729-4b19-8af9-56a448decae1",
   "metadata": {},
   "source": [
    "`-` 지상층 생활 면적과 1층 면적과 지하실 면적과 연도를 로그 변환하자(오른쪽으로 꼬리가 긴 분포)"
   ]
  },
  {
   "cell_type": "code",
   "execution_count": 314,
   "id": "b8be0343-da7b-4b31-b695-ed2049d7bcd6",
   "metadata": {},
   "outputs": [],
   "source": [
    "dt['Gr_Liv_Area'] = np.log(dt['Gr_Liv_Area'])\n",
    "dt['first_Flr_SF'] = np.log(dt['first_Flr_SF'])\n",
    "dt['Total_Bsmt_SF'] = np.log(dt['Total_Bsmt_SF'])\n",
    "dt['gap_year_now_bulit'] = np.log(dt['gap_year_now_bulit']) ## 솔직히 유용한지 잘 모르겠지만 score가 더 잘나와서 씀"
   ]
  },
  {
   "cell_type": "code",
   "execution_count": 315,
   "id": "76baaaac-0f45-45b0-9b73-afe5efa07777",
   "metadata": {},
   "outputs": [
    {
     "data": {
      "text/html": [
       "<div>\n",
       "<style scoped>\n",
       "    .dataframe tbody tr th:only-of-type {\n",
       "        vertical-align: middle;\n",
       "    }\n",
       "\n",
       "    .dataframe tbody tr th {\n",
       "        vertical-align: top;\n",
       "    }\n",
       "\n",
       "    .dataframe thead th {\n",
       "        text-align: right;\n",
       "    }\n",
       "</style>\n",
       "<table border=\"1\" class=\"dataframe\">\n",
       "  <thead>\n",
       "    <tr style=\"text-align: right;\">\n",
       "      <th></th>\n",
       "      <th>Overall_Qual</th>\n",
       "      <th>Gr_Liv_Area</th>\n",
       "      <th>Exter_Qual</th>\n",
       "      <th>Garage_Cars</th>\n",
       "      <th>Garage_Area</th>\n",
       "      <th>Kitchen_Qual</th>\n",
       "      <th>Total_Bsmt_SF</th>\n",
       "      <th>first_Flr_SF</th>\n",
       "      <th>Bsmt_Qual</th>\n",
       "      <th>Full_Bath</th>\n",
       "      <th>gap_year_now_bulit</th>\n",
       "    </tr>\n",
       "  </thead>\n",
       "  <tbody>\n",
       "    <tr>\n",
       "      <th>0</th>\n",
       "      <td>10</td>\n",
       "      <td>7.779885</td>\n",
       "      <td>4</td>\n",
       "      <td>3</td>\n",
       "      <td>968</td>\n",
       "      <td>4</td>\n",
       "      <td>7.779885</td>\n",
       "      <td>7.779885</td>\n",
       "      <td>4</td>\n",
       "      <td>2</td>\n",
       "      <td>2.944439</td>\n",
       "    </tr>\n",
       "    <tr>\n",
       "      <th>1</th>\n",
       "      <td>7</td>\n",
       "      <td>7.209340</td>\n",
       "      <td>3</td>\n",
       "      <td>2</td>\n",
       "      <td>466</td>\n",
       "      <td>3</td>\n",
       "      <td>7.209340</td>\n",
       "      <td>7.209340</td>\n",
       "      <td>4</td>\n",
       "      <td>2</td>\n",
       "      <td>2.772589</td>\n",
       "    </tr>\n",
       "    <tr>\n",
       "      <th>2</th>\n",
       "      <td>5</td>\n",
       "      <td>6.802395</td>\n",
       "      <td>2</td>\n",
       "      <td>1</td>\n",
       "      <td>288</td>\n",
       "      <td>2</td>\n",
       "      <td>6.761573</td>\n",
       "      <td>6.802395</td>\n",
       "      <td>2</td>\n",
       "      <td>1</td>\n",
       "      <td>4.007333</td>\n",
       "    </tr>\n",
       "    <tr>\n",
       "      <th>3</th>\n",
       "      <td>5</td>\n",
       "      <td>7.068172</td>\n",
       "      <td>2</td>\n",
       "      <td>2</td>\n",
       "      <td>576</td>\n",
       "      <td>3</td>\n",
       "      <td>6.522093</td>\n",
       "      <td>6.522093</td>\n",
       "      <td>2</td>\n",
       "      <td>1</td>\n",
       "      <td>4.804021</td>\n",
       "    </tr>\n",
       "    <tr>\n",
       "      <th>4</th>\n",
       "      <td>7</td>\n",
       "      <td>7.579679</td>\n",
       "      <td>3</td>\n",
       "      <td>3</td>\n",
       "      <td>936</td>\n",
       "      <td>3</td>\n",
       "      <td>6.933423</td>\n",
       "      <td>6.933423</td>\n",
       "      <td>3</td>\n",
       "      <td>2</td>\n",
       "      <td>2.833213</td>\n",
       "    </tr>\n",
       "  </tbody>\n",
       "</table>\n",
       "</div>"
      ],
      "text/plain": [
       "   Overall_Qual  Gr_Liv_Area  Exter_Qual  Garage_Cars  Garage_Area  \\\n",
       "0            10     7.779885           4            3          968   \n",
       "1             7     7.209340           3            2          466   \n",
       "2             5     6.802395           2            1          288   \n",
       "3             5     7.068172           2            2          576   \n",
       "4             7     7.579679           3            3          936   \n",
       "\n",
       "   Kitchen_Qual  Total_Bsmt_SF  first_Flr_SF  Bsmt_Qual  Full_Bath  \\\n",
       "0             4       7.779885      7.779885          4          2   \n",
       "1             3       7.209340      7.209340          4          2   \n",
       "2             2       6.761573      6.802395          2          1   \n",
       "3             3       6.522093      6.522093          2          1   \n",
       "4             3       6.933423      6.933423          3          2   \n",
       "\n",
       "   gap_year_now_bulit  \n",
       "0            2.944439  \n",
       "1            2.772589  \n",
       "2            4.007333  \n",
       "3            4.804021  \n",
       "4            2.833213  "
      ]
     },
     "execution_count": 315,
     "metadata": {},
     "output_type": "execute_result"
    }
   ],
   "source": [
    "dt.head() ## 로그 변환이 잘 되었다"
   ]
  },
  {
   "cell_type": "markdown",
   "id": "7f389e6b-3cb3-409c-9fbe-e721c8134656",
   "metadata": {},
   "source": [
    "## 모델링(랜덤 포레스트)"
   ]
  },
  {
   "cell_type": "markdown",
   "id": "49e98071-b4b3-4d5e-bd78-f29eba41ff9c",
   "metadata": {},
   "source": [
    "`-` 랜덤 포레스트를 사용해보자"
   ]
  },
  {
   "cell_type": "markdown",
   "id": "b028448c-1c6b-44ad-bcc9-30c445a03eae",
   "metadata": {},
   "source": [
    "### 스케일링\n",
    "\n",
    "`-` z-점수 스케일링이나 로버스트 스케일링이나 비슷하다\n",
    "\n",
    "`-` 계수를 통해 Overall_Qual과 Gr_Liv_Area이 매우 중요하며 그 다음은 Bsmt_Qual이다\n",
    "\n",
    "`-` Kitchen_Qual과 Total_Bsmt_SF이 그 다음이며 나머지는 비슷하다"
   ]
  },
  {
   "cell_type": "code",
   "execution_count": 291,
   "id": "cfb74f1b-3407-4e76-8bee-b80d00b3a3cf",
   "metadata": {},
   "outputs": [],
   "source": [
    "from sklearn.preprocessing import RobustScaler"
   ]
  },
  {
   "cell_type": "code",
   "execution_count": 316,
   "id": "d26df6f7-e883-4727-a24b-556904bcea38",
   "metadata": {},
   "outputs": [],
   "source": [
    "## 로버스트 스케일러 생성\n",
    "robust_scaler = RobustScaler()\n",
    "\n",
    "## 스케일링\n",
    "dt_scaled = robust_scaler.fit_transform(dt)\n",
    "dt_scaled_df = pd.DataFrame(data = dt_scaled, columns = dt.columns)"
   ]
  },
  {
   "cell_type": "code",
   "execution_count": 317,
   "id": "ccb13f9a-cd8f-4cea-88c1-b3d21ac70ebf",
   "metadata": {},
   "outputs": [
    {
     "data": {
      "text/html": [
       "<div>\n",
       "<style scoped>\n",
       "    .dataframe tbody tr th:only-of-type {\n",
       "        vertical-align: middle;\n",
       "    }\n",
       "\n",
       "    .dataframe tbody tr th {\n",
       "        vertical-align: top;\n",
       "    }\n",
       "\n",
       "    .dataframe thead th {\n",
       "        text-align: right;\n",
       "    }\n",
       "</style>\n",
       "<table border=\"1\" class=\"dataframe\">\n",
       "  <thead>\n",
       "    <tr style=\"text-align: right;\">\n",
       "      <th></th>\n",
       "      <th>Overall_Qual</th>\n",
       "      <th>Gr_Liv_Area</th>\n",
       "      <th>Exter_Qual</th>\n",
       "      <th>Garage_Cars</th>\n",
       "      <th>Garage_Area</th>\n",
       "      <th>Kitchen_Qual</th>\n",
       "      <th>Total_Bsmt_SF</th>\n",
       "      <th>first_Flr_SF</th>\n",
       "      <th>Bsmt_Qual</th>\n",
       "      <th>Full_Bath</th>\n",
       "      <th>gap_year_now_bulit</th>\n",
       "    </tr>\n",
       "  </thead>\n",
       "  <tbody>\n",
       "    <tr>\n",
       "      <th>0</th>\n",
       "      <td>2.0</td>\n",
       "      <td>1.198532</td>\n",
       "      <td>2.0</td>\n",
       "      <td>1.0</td>\n",
       "      <td>2.432161</td>\n",
       "      <td>2.0</td>\n",
       "      <td>1.886229</td>\n",
       "      <td>1.785060</td>\n",
       "      <td>1.0</td>\n",
       "      <td>0.0</td>\n",
       "      <td>-0.740586</td>\n",
       "    </tr>\n",
       "    <tr>\n",
       "      <th>1</th>\n",
       "      <td>0.5</td>\n",
       "      <td>-0.149847</td>\n",
       "      <td>1.0</td>\n",
       "      <td>0.0</td>\n",
       "      <td>-0.090452</td>\n",
       "      <td>1.0</td>\n",
       "      <td>0.633002</td>\n",
       "      <td>0.485447</td>\n",
       "      <td>1.0</td>\n",
       "      <td>0.0</td>\n",
       "      <td>-0.884524</td>\n",
       "    </tr>\n",
       "    <tr>\n",
       "      <th>2</th>\n",
       "      <td>-0.5</td>\n",
       "      <td>-1.111588</td>\n",
       "      <td>0.0</td>\n",
       "      <td>-1.0</td>\n",
       "      <td>-0.984925</td>\n",
       "      <td>0.0</td>\n",
       "      <td>-0.350538</td>\n",
       "      <td>-0.441513</td>\n",
       "      <td>-1.0</td>\n",
       "      <td>-1.0</td>\n",
       "      <td>0.149668</td>\n",
       "    </tr>\n",
       "    <tr>\n",
       "      <th>3</th>\n",
       "      <td>-0.5</td>\n",
       "      <td>-0.483472</td>\n",
       "      <td>0.0</td>\n",
       "      <td>0.0</td>\n",
       "      <td>0.462312</td>\n",
       "      <td>1.0</td>\n",
       "      <td>-0.876566</td>\n",
       "      <td>-1.079998</td>\n",
       "      <td>-1.0</td>\n",
       "      <td>-1.0</td>\n",
       "      <td>0.816954</td>\n",
       "    </tr>\n",
       "    <tr>\n",
       "      <th>4</th>\n",
       "      <td>0.5</td>\n",
       "      <td>0.725381</td>\n",
       "      <td>1.0</td>\n",
       "      <td>1.0</td>\n",
       "      <td>2.271357</td>\n",
       "      <td>1.0</td>\n",
       "      <td>0.026938</td>\n",
       "      <td>-0.143051</td>\n",
       "      <td>0.0</td>\n",
       "      <td>0.0</td>\n",
       "      <td>-0.833746</td>\n",
       "    </tr>\n",
       "  </tbody>\n",
       "</table>\n",
       "</div>"
      ],
      "text/plain": [
       "   Overall_Qual  Gr_Liv_Area  Exter_Qual  Garage_Cars  Garage_Area  \\\n",
       "0           2.0     1.198532         2.0          1.0     2.432161   \n",
       "1           0.5    -0.149847         1.0          0.0    -0.090452   \n",
       "2          -0.5    -1.111588         0.0         -1.0    -0.984925   \n",
       "3          -0.5    -0.483472         0.0          0.0     0.462312   \n",
       "4           0.5     0.725381         1.0          1.0     2.271357   \n",
       "\n",
       "   Kitchen_Qual  Total_Bsmt_SF  first_Flr_SF  Bsmt_Qual  Full_Bath  \\\n",
       "0           2.0       1.886229      1.785060        1.0        0.0   \n",
       "1           1.0       0.633002      0.485447        1.0        0.0   \n",
       "2           0.0      -0.350538     -0.441513       -1.0       -1.0   \n",
       "3           1.0      -0.876566     -1.079998       -1.0       -1.0   \n",
       "4           1.0       0.026938     -0.143051        0.0        0.0   \n",
       "\n",
       "   gap_year_now_bulit  \n",
       "0           -0.740586  \n",
       "1           -0.884524  \n",
       "2            0.149668  \n",
       "3            0.816954  \n",
       "4           -0.833746  "
      ]
     },
     "execution_count": 317,
     "metadata": {},
     "output_type": "execute_result"
    }
   ],
   "source": [
    "dt_scaled_df.head()"
   ]
  },
  {
   "cell_type": "markdown",
   "id": "e129d520-4ee2-4f77-a71e-e6a47f93967c",
   "metadata": {},
   "source": [
    "`-` 또한 Qual 관련 변수로 Overall Qual만 사용해봤는데 성능이 더 안좋게 나왔다(선형 회귀)\n",
    "\n",
    "`-` 그래서 Qual 관련 변수를 추가했다\n",
    "\n",
    "`-` 또한 현재 연도에서 완공 연도의 차이를 파생변수로 만들어 추가했다\n",
    "\n",
    "`-` 사실 연도 변수는 포함시킬지 말지 고민했다\n",
    "\n",
    "`-` 최근 연도일수록 집값이 평균적으로 높을텐데\n",
    "\n",
    "`-` 이는 연도때문이라기 보다는 다른 변수에 의한 것이라 생각했기 때문이다\n",
    "\n",
    "`-` 예컨대 과거에는 기술 등의 문제로 더 좋은 건물을 짓지 못했지만 최근에는 가능해진 상황\n",
    "\n",
    "`-` 하지만 train 셋에 포함된 피쳐외의 특징을 연도 피쳐가 가지고 있을 수 있으니 포함하고 모델링 해보기로 했다"
   ]
  },
  {
   "cell_type": "markdown",
   "id": "a1956cd2-728b-4f21-a290-5f7a74f14a1d",
   "metadata": {},
   "source": [
    "### 교차 검증"
   ]
  },
  {
   "cell_type": "code",
   "execution_count": 353,
   "id": "e159cf78-17ae-458b-af26-1b2404ace11e",
   "metadata": {},
   "outputs": [],
   "source": [
    "from sklearn.ensemble import RandomForestRegressor\n",
    "from sklearn.model_selection import GridSearchCV, train_test_split, cross_validate\n",
    "from sklearn.metrics import make_scorer"
   ]
  },
  {
   "cell_type": "code",
   "execution_count": 321,
   "id": "1ad62093-d9e2-462f-a3fd-cfde58a94bc8",
   "metadata": {},
   "outputs": [],
   "source": [
    "x_train, x_valid, y_train, y_valid = train_test_split(dt_scaled_df, target, shuffle = True, test_size = 0.2, random_state = 22)"
   ]
  },
  {
   "cell_type": "code",
   "execution_count": 348,
   "id": "a05fa45e-3f36-4c47-81e5-fcbcaea7dae0",
   "metadata": {},
   "outputs": [],
   "source": [
    "log_y_train = np.log(y_train)"
   ]
  },
  {
   "cell_type": "markdown",
   "id": "10b62a3f-7c63-4f44-8cc9-35a94114dd2d",
   "metadata": {},
   "source": [
    "`-` 데이터를 train과 valid로 나눈다\n",
    "\n",
    "`-` 그리고 train에 대해 교차검증(train을 train2와 valid2로 나누어 모형을 평가)을 한다\n",
    "\n",
    "`-` 그리고 교차검증에 사용한 모델로 valid를 평가한다\n",
    "\n",
    "`-` 교차검증을 통해 측정한 성능과 valid로 측정한 성능이 둘 다 좋다면 괜찮은 모델이다"
   ]
  },
  {
   "cell_type": "code",
   "execution_count": 359,
   "id": "89b40781-7334-41ad-b27c-d0ca9486499f",
   "metadata": {},
   "outputs": [],
   "source": [
    "def NMAE(true, pred):\n",
    "    mae = np.mean(np.abs(true - pred))\n",
    "    score = mae / np.mean(np.abs(true))\n",
    "    return score"
   ]
  },
  {
   "cell_type": "code",
   "execution_count": 396,
   "id": "f25dd968-5217-49e4-a23d-9c3698ef4d76",
   "metadata": {},
   "outputs": [],
   "source": [
    "def my_custom_loss_func(true, pred):\n",
    "    return NMAE(np.exp(true), np.exp(pred)) ## 로그 변환을 위한 손실 함수"
   ]
  },
  {
   "cell_type": "code",
   "execution_count": 386,
   "id": "5914df31-c86e-4f13-a8a3-8223eeec9605",
   "metadata": {},
   "outputs": [],
   "source": [
    "score = make_scorer(my_custom_loss_func, greater_is_better = False) ## 작을수록 좋다 "
   ]
  },
  {
   "cell_type": "code",
   "execution_count": 430,
   "id": "94c1a47f-93c7-499e-b801-fd6a16638dfe",
   "metadata": {},
   "outputs": [],
   "source": [
    "rf = RandomForestRegressor(random_state = 22)\n",
    "\n",
    "scores = cross_validate(rf, x_train, log_y_train, scoring = score, return_train_score = True, cv = 5)"
   ]
  },
  {
   "cell_type": "code",
   "execution_count": 405,
   "id": "2e395124-56e7-45ac-bd52-7053b6dd1a17",
   "metadata": {},
   "outputs": [
    {
     "name": "stdout",
     "output_type": "stream",
     "text": [
      "교차 검증별 NMAE:  [0.0936345  0.09644355 0.09863229 0.08587103 0.09441624]\n",
      "평균 교차 검증 NMAE:  0.0937995229414843\n",
      "valid에 대한 검증 NMAE:  0.08656668432303267\n"
     ]
    }
   ],
   "source": [
    "rf.fit(x_train, log_y_train)\n",
    "print('교차 검증별 NMAE: ', -scores['test_score'])\n",
    "print('평균 교차 검증 NMAE: ', np.mean(-scores['test_score']))\n",
    "print('valid에 대한 검증 NMAE: ', NMAE(y_valid, np.exp(rf.predict(x_valid))))"
   ]
  },
  {
   "cell_type": "code",
   "execution_count": 406,
   "id": "46656e29-e314-4c9f-bb59-8fab41795f9f",
   "metadata": {},
   "outputs": [
    {
     "data": {
      "text/plain": [
       "[('Overall_Qual', 0.5431834936782366),\n",
       " ('Gr_Liv_Area', 0.14604383594613135),\n",
       " ('Exter_Qual', 0.04233756499335442),\n",
       " ('Garage_Cars', 0.007818304293604469),\n",
       " ('Garage_Area', 0.07120858446964971),\n",
       " ('Kitchen_Qual', 0.009051944221832066),\n",
       " ('Total_Bsmt_SF', 0.04673881137609024),\n",
       " ('first_Flr_SF', 0.04624833278829917),\n",
       " ('Bsmt_Qual', 0.014066815219848707),\n",
       " ('Full_Bath', 0.01997589290936081),\n",
       " ('gap_year_now_bulit', 0.053326420103592405)]"
      ]
     },
     "execution_count": 406,
     "metadata": {},
     "output_type": "execute_result"
    }
   ],
   "source": [
    "list(zip(rf.feature_names_in_,rf.feature_importances_))"
   ]
  },
  {
   "cell_type": "markdown",
   "id": "7a96c98b-927f-4bf7-a54a-0e269108ec10",
   "metadata": {},
   "source": [
    "`-` 전체적인 품질과 지상층 면적이 중요도의 약 70%를 차지함"
   ]
  },
  {
   "cell_type": "markdown",
   "id": "8071ce73-fb72-470d-9a9c-2af6e22e9b66",
   "metadata": {},
   "source": [
    "### 하이퍼 파라미터 튜닝"
   ]
  },
  {
   "cell_type": "markdown",
   "id": "0d7765a8-ea37-441c-8203-a1421eff32a1",
   "metadata": {},
   "source": [
    "`-` 디폴트 옵션에 대한 성능은 위에서 확인했다\n",
    "\n",
    "`-` 하이퍼 파라미터 튜닝을 통해 성능을 더 올려보자"
   ]
  },
  {
   "cell_type": "code",
   "execution_count": 436,
   "id": "2597040a-4e75-427c-9e15-c66b7a519bff",
   "metadata": {},
   "outputs": [],
   "source": [
    "params = {'n_estimators': [100, 200], 'max_depth': [3, 6, 10], 'min_samples_split': [2, 3, 4]}"
   ]
  },
  {
   "cell_type": "code",
   "execution_count": 437,
   "id": "6ca1ffca-a754-4a4a-add8-3447b11d06d5",
   "metadata": {},
   "outputs": [],
   "source": [
    "rf = RandomForestRegressor(random_state = 22)"
   ]
  },
  {
   "cell_type": "code",
   "execution_count": 438,
   "id": "9754aa1b-d26d-44be-9092-6e7614aad2d2",
   "metadata": {},
   "outputs": [],
   "source": [
    "grid_rf = GridSearchCV(rf, param_grid = params, scoring = score, cv = 5, refit = True)"
   ]
  },
  {
   "cell_type": "code",
   "execution_count": 439,
   "id": "06d9e279-b4b7-46f2-b417-1d79a64fbe9d",
   "metadata": {},
   "outputs": [
    {
     "data": {
      "text/plain": [
       "GridSearchCV(cv=5, estimator=RandomForestRegressor(random_state=22),\n",
       "             param_grid={'max_depth': [3, 6, 10],\n",
       "                         'min_samples_split': [2, 3, 4],\n",
       "                         'n_estimators': [100, 200]},\n",
       "             scoring=make_scorer(my_custom_loss_func, greater_is_better=False))"
      ]
     },
     "execution_count": 439,
     "metadata": {},
     "output_type": "execute_result"
    }
   ],
   "source": [
    "grid_rf.fit(x_train, log_y_train)"
   ]
  },
  {
   "cell_type": "code",
   "execution_count": 448,
   "id": "63f8403f-f492-47b3-9e98-2c521a6c6895",
   "metadata": {},
   "outputs": [
    {
     "data": {
      "text/plain": [
       "0     0.118394\n",
       "1     0.118317\n",
       "2     0.118394\n",
       "3     0.118317\n",
       "4     0.118394\n",
       "5     0.118317\n",
       "6     0.095864\n",
       "7     0.095518\n",
       "8     0.095765\n",
       "9     0.095438\n",
       "10    0.095687\n",
       "11    0.095377\n",
       "12    0.093427\n",
       "13    0.093229\n",
       "14    0.093261\n",
       "15    0.093104\n",
       "16    0.093162\n",
       "17    0.093006\n",
       "Name: mean_test_score, dtype: float64"
      ]
     },
     "execution_count": 448,
     "metadata": {},
     "output_type": "execute_result"
    }
   ],
   "source": [
    "-pd.DataFrame(grid_rf.cv_results_).mean_test_score"
   ]
  },
  {
   "cell_type": "code",
   "execution_count": 449,
   "id": "bf40db4b-d08d-4e3c-aceb-529168f5b09d",
   "metadata": {},
   "outputs": [
    {
     "data": {
      "text/plain": [
       "RandomForestRegressor(max_depth=10, min_samples_split=4, n_estimators=200,\n",
       "                      random_state=22)"
      ]
     },
     "execution_count": 449,
     "metadata": {},
     "output_type": "execute_result"
    }
   ],
   "source": [
    "grid_rf.best_estimator_"
   ]
  },
  {
   "cell_type": "code",
   "execution_count": 454,
   "id": "59a789f8-1ec3-42e6-bfa2-d99a8666a649",
   "metadata": {},
   "outputs": [],
   "source": [
    "rf = RandomForestRegressor(random_state = 22, max_depth = 10, min_samples_split = 4, n_estimators = 200)\n",
    "\n",
    "scores = cross_validate(rf, x_train, log_y_train, scoring = score, return_train_score = True, cv = 5)"
   ]
  },
  {
   "cell_type": "code",
   "execution_count": 455,
   "id": "8483cae5-c70e-4ffa-9d1b-5016da2aaacb",
   "metadata": {},
   "outputs": [
    {
     "name": "stdout",
     "output_type": "stream",
     "text": [
      "교차 검증별 NMAE:  [0.09463772 0.09435694 0.09714864 0.08495343 0.09393178]\n",
      "평균 교차 검증 NMAE:  0.09300570090469953\n",
      "valid에 대한 검증 NMAE:  0.08637251648371118\n"
     ]
    }
   ],
   "source": [
    "rf.fit(x_train, log_y_train)\n",
    "print('교차 검증별 NMAE: ', -scores['test_score'])\n",
    "print('평균 교차 검증 NMAE: ', np.mean(-scores['test_score']))\n",
    "print('valid에 대한 검증 NMAE: ', NMAE(y_valid, np.exp(rf.predict(x_valid))))"
   ]
  },
  {
   "cell_type": "markdown",
   "id": "1f5eda72-da5f-4934-be22-257b609f387c",
   "metadata": {},
   "source": [
    "`-` 조금 성능이 올랐다"
   ]
  },
  {
   "cell_type": "code",
   "execution_count": null,
   "id": "42909367-89f7-49d0-ae4c-02d492bfc013",
   "metadata": {},
   "outputs": [],
   "source": []
  }
 ],
 "metadata": {
  "kernelspec": {
   "display_name": "Python 3 (ipykernel)",
   "language": "python",
   "name": "python3"
  },
  "language_info": {
   "codemirror_mode": {
    "name": "ipython",
    "version": 3
   },
   "file_extension": ".py",
   "mimetype": "text/x-python",
   "name": "python",
   "nbconvert_exporter": "python",
   "pygments_lexer": "ipython3",
   "version": "3.8.11"
  }
 },
 "nbformat": 4,
 "nbformat_minor": 5
}
