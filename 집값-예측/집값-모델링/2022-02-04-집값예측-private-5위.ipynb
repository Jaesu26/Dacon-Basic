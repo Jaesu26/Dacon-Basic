{
 "cells": [
  {
   "cell_type": "markdown",
   "id": "ca10a084-fc61-4ead-9b1d-0925c9bf3d63",
   "metadata": {},
   "source": [
    "# 집값 예측 경진대회"
   ]
  },
  {
   "cell_type": "markdown",
   "id": "753752b9-a7b5-4072-9c74-ef0e5318572c",
   "metadata": {},
   "source": [
    "`-` 참고 코드 : [동화책님의 GBR + RF + RG + NGB + 파생변수 (public : 0.09509)](https://dacon.io/competitions/official/235869/codeshare/4304?page=1&dtype=recent)"
   ]
  },
  {
   "cell_type": "markdown",
   "id": "00ec13ab-fd44-48a4-977e-c92b928bd1b2",
   "metadata": {},
   "source": [
    "## 데이터 불러오기"
   ]
  },
  {
   "cell_type": "code",
   "execution_count": 1,
   "id": "cabe4de1-a242-465a-8ee5-7d50fbe7dadd",
   "metadata": {},
   "outputs": [],
   "source": [
    "import pandas as pd\n",
    "import numpy as np\n",
    "import seaborn as sns\n",
    "import matplotlib.pyplot as plt\n",
    "%matplotlib inline\n",
    "\n",
    "import warnings\n",
    "warnings.filterwarnings('ignore')"
   ]
  },
  {
   "cell_type": "code",
   "execution_count": 2,
   "id": "6fe04523-5241-4012-ade7-3e5b35e90f13",
   "metadata": {},
   "outputs": [],
   "source": [
    "sns.set_theme()\n",
    "sns.set(rc = {'figure.figsize':(12, 8)})"
   ]
  },
  {
   "cell_type": "code",
   "execution_count": 3,
   "id": "ff1bc645-e920-4af9-a7a6-35bad7fa86fb",
   "metadata": {},
   "outputs": [],
   "source": [
    "df = pd.read_csv('train.csv')\n",
    "test = pd.read_csv('test.csv')"
   ]
  },
  {
   "cell_type": "code",
   "execution_count": 4,
   "id": "c279eea2-99bf-486d-bebf-2d5a4a12362c",
   "metadata": {},
   "outputs": [
    {
     "data": {
      "text/html": [
       "<div>\n",
       "<style scoped>\n",
       "    .dataframe tbody tr th:only-of-type {\n",
       "        vertical-align: middle;\n",
       "    }\n",
       "\n",
       "    .dataframe tbody tr th {\n",
       "        vertical-align: top;\n",
       "    }\n",
       "\n",
       "    .dataframe thead th {\n",
       "        text-align: right;\n",
       "    }\n",
       "</style>\n",
       "<table border=\"1\" class=\"dataframe\">\n",
       "  <thead>\n",
       "    <tr style=\"text-align: right;\">\n",
       "      <th></th>\n",
       "      <th>id</th>\n",
       "      <th>Overall Qual</th>\n",
       "      <th>Gr Liv Area</th>\n",
       "      <th>Exter Qual</th>\n",
       "      <th>Garage Cars</th>\n",
       "      <th>Garage Area</th>\n",
       "      <th>Kitchen Qual</th>\n",
       "      <th>Total Bsmt SF</th>\n",
       "      <th>1st Flr SF</th>\n",
       "      <th>Bsmt Qual</th>\n",
       "      <th>Full Bath</th>\n",
       "      <th>Year Built</th>\n",
       "      <th>Year Remod/Add</th>\n",
       "      <th>Garage Yr Blt</th>\n",
       "      <th>target</th>\n",
       "    </tr>\n",
       "  </thead>\n",
       "  <tbody>\n",
       "    <tr>\n",
       "      <th>0</th>\n",
       "      <td>1</td>\n",
       "      <td>10</td>\n",
       "      <td>2392</td>\n",
       "      <td>Ex</td>\n",
       "      <td>3</td>\n",
       "      <td>968</td>\n",
       "      <td>Ex</td>\n",
       "      <td>2392</td>\n",
       "      <td>2392</td>\n",
       "      <td>Ex</td>\n",
       "      <td>2</td>\n",
       "      <td>2003</td>\n",
       "      <td>2003</td>\n",
       "      <td>2003</td>\n",
       "      <td>386250</td>\n",
       "    </tr>\n",
       "    <tr>\n",
       "      <th>1</th>\n",
       "      <td>2</td>\n",
       "      <td>7</td>\n",
       "      <td>1352</td>\n",
       "      <td>Gd</td>\n",
       "      <td>2</td>\n",
       "      <td>466</td>\n",
       "      <td>Gd</td>\n",
       "      <td>1352</td>\n",
       "      <td>1352</td>\n",
       "      <td>Ex</td>\n",
       "      <td>2</td>\n",
       "      <td>2006</td>\n",
       "      <td>2007</td>\n",
       "      <td>2006</td>\n",
       "      <td>194000</td>\n",
       "    </tr>\n",
       "    <tr>\n",
       "      <th>2</th>\n",
       "      <td>3</td>\n",
       "      <td>5</td>\n",
       "      <td>900</td>\n",
       "      <td>TA</td>\n",
       "      <td>1</td>\n",
       "      <td>288</td>\n",
       "      <td>TA</td>\n",
       "      <td>864</td>\n",
       "      <td>900</td>\n",
       "      <td>TA</td>\n",
       "      <td>1</td>\n",
       "      <td>1967</td>\n",
       "      <td>1967</td>\n",
       "      <td>1967</td>\n",
       "      <td>123000</td>\n",
       "    </tr>\n",
       "    <tr>\n",
       "      <th>3</th>\n",
       "      <td>4</td>\n",
       "      <td>5</td>\n",
       "      <td>1174</td>\n",
       "      <td>TA</td>\n",
       "      <td>2</td>\n",
       "      <td>576</td>\n",
       "      <td>Gd</td>\n",
       "      <td>680</td>\n",
       "      <td>680</td>\n",
       "      <td>TA</td>\n",
       "      <td>1</td>\n",
       "      <td>1900</td>\n",
       "      <td>2006</td>\n",
       "      <td>2000</td>\n",
       "      <td>135000</td>\n",
       "    </tr>\n",
       "    <tr>\n",
       "      <th>4</th>\n",
       "      <td>5</td>\n",
       "      <td>7</td>\n",
       "      <td>1958</td>\n",
       "      <td>Gd</td>\n",
       "      <td>3</td>\n",
       "      <td>936</td>\n",
       "      <td>Gd</td>\n",
       "      <td>1026</td>\n",
       "      <td>1026</td>\n",
       "      <td>Gd</td>\n",
       "      <td>2</td>\n",
       "      <td>2005</td>\n",
       "      <td>2005</td>\n",
       "      <td>2005</td>\n",
       "      <td>250000</td>\n",
       "    </tr>\n",
       "  </tbody>\n",
       "</table>\n",
       "</div>"
      ],
      "text/plain": [
       "   id  Overall Qual  Gr Liv Area Exter Qual  Garage Cars  Garage Area  \\\n",
       "0   1            10         2392         Ex            3          968   \n",
       "1   2             7         1352         Gd            2          466   \n",
       "2   3             5          900         TA            1          288   \n",
       "3   4             5         1174         TA            2          576   \n",
       "4   5             7         1958         Gd            3          936   \n",
       "\n",
       "  Kitchen Qual  Total Bsmt SF  1st Flr SF Bsmt Qual  Full Bath  Year Built  \\\n",
       "0           Ex           2392        2392        Ex          2        2003   \n",
       "1           Gd           1352        1352        Ex          2        2006   \n",
       "2           TA            864         900        TA          1        1967   \n",
       "3           Gd            680         680        TA          1        1900   \n",
       "4           Gd           1026        1026        Gd          2        2005   \n",
       "\n",
       "   Year Remod/Add  Garage Yr Blt  target  \n",
       "0            2003           2003  386250  \n",
       "1            2007           2006  194000  \n",
       "2            1967           1967  123000  \n",
       "3            2006           2000  135000  \n",
       "4            2005           2005  250000  "
      ]
     },
     "execution_count": 4,
     "metadata": {},
     "output_type": "execute_result"
    }
   ],
   "source": [
    "df.head()"
   ]
  },
  {
   "cell_type": "markdown",
   "id": "f3098357-029c-4b5f-9f2c-3b4e9307dda0",
   "metadata": {},
   "source": [
    "|컬럼명 |세부사항 |\n",
    "|:-:|:-:|\n",
    "|id | 데이터 고유 id|\n",
    "|Overall Qual | 전반적 재료와 마감 품질|\n",
    "|Year Built | 완공 연도|\n",
    "|Year Remod/Add | 리모델링 연도|\n",
    "|Exter Qual | 외관 재료 품질|\n",
    "|Bsmt Qual |지하실 높이|\n",
    "|Total Bsmt SF| 지하실 면적| \n",
    "|1st Flr SF | 1층 면적 |\n",
    "|Gr Liv Area | 지상층 생활 면적|\n",
    "|Full Bath | 지상층 화장실 개수| \n",
    "|Kitchen Qual | 부엌 품질 |\n",
    "|Garage Yr Blt | 차고 완공 연도|\n",
    "|Garage Cars| 차고 자리 개수|\n",
    "|Garage Area| 차고 면적 |\n",
    "|target | 집값(달러 단위)|"
   ]
  },
  {
   "cell_type": "code",
   "execution_count": 5,
   "id": "2f467a50-f303-41f1-aa18-50623cf7df01",
   "metadata": {},
   "outputs": [
    {
     "data": {
      "text/plain": [
       "False"
      ]
     },
     "execution_count": 5,
     "metadata": {},
     "output_type": "execute_result"
    }
   ],
   "source": [
    "df.isnull().values.any()"
   ]
  },
  {
   "cell_type": "code",
   "execution_count": 6,
   "id": "8acae643-d681-4c6b-99eb-dda2375b90d2",
   "metadata": {},
   "outputs": [
    {
     "data": {
      "text/plain": [
       "False"
      ]
     },
     "execution_count": 6,
     "metadata": {},
     "output_type": "execute_result"
    }
   ],
   "source": [
    "test.isnull().values.any()"
   ]
  },
  {
   "cell_type": "code",
   "execution_count": 7,
   "id": "bea7511a-928d-4ef8-b368-b1e45c8a95f5",
   "metadata": {},
   "outputs": [
    {
     "data": {
      "text/plain": [
       "(1350, 15)"
      ]
     },
     "execution_count": 7,
     "metadata": {},
     "output_type": "execute_result"
    }
   ],
   "source": [
    "df.shape"
   ]
  },
  {
   "cell_type": "markdown",
   "id": "9b6eac23-c6a1-4cc6-9e05-2614943ce7f0",
   "metadata": {},
   "source": [
    "`-` 결측치는 없으며 행은 1350개, 열은 14개입니다"
   ]
  },
  {
   "cell_type": "code",
   "execution_count": 8,
   "id": "40793060-b502-4804-8434-d37d9b706634",
   "metadata": {},
   "outputs": [
    {
     "data": {
      "text/html": [
       "<div>\n",
       "<style scoped>\n",
       "    .dataframe tbody tr th:only-of-type {\n",
       "        vertical-align: middle;\n",
       "    }\n",
       "\n",
       "    .dataframe tbody tr th {\n",
       "        vertical-align: top;\n",
       "    }\n",
       "\n",
       "    .dataframe thead th {\n",
       "        text-align: right;\n",
       "    }\n",
       "</style>\n",
       "<table border=\"1\" class=\"dataframe\">\n",
       "  <thead>\n",
       "    <tr style=\"text-align: right;\">\n",
       "      <th></th>\n",
       "      <th>id</th>\n",
       "      <th>Overall Qual</th>\n",
       "      <th>Gr Liv Area</th>\n",
       "      <th>Garage Cars</th>\n",
       "      <th>Garage Area</th>\n",
       "      <th>Total Bsmt SF</th>\n",
       "      <th>1st Flr SF</th>\n",
       "      <th>Full Bath</th>\n",
       "      <th>Year Built</th>\n",
       "      <th>Year Remod/Add</th>\n",
       "      <th>Garage Yr Blt</th>\n",
       "      <th>target</th>\n",
       "    </tr>\n",
       "  </thead>\n",
       "  <tbody>\n",
       "    <tr>\n",
       "      <th>count</th>\n",
       "      <td>1350.000000</td>\n",
       "      <td>1350.000000</td>\n",
       "      <td>1350.000000</td>\n",
       "      <td>1350.000000</td>\n",
       "      <td>1350.000000</td>\n",
       "      <td>1350.000000</td>\n",
       "      <td>1350.000000</td>\n",
       "      <td>1350.000000</td>\n",
       "      <td>1350.000000</td>\n",
       "      <td>1350.000000</td>\n",
       "      <td>1350.000000</td>\n",
       "      <td>1350.000000</td>\n",
       "    </tr>\n",
       "    <tr>\n",
       "      <th>mean</th>\n",
       "      <td>675.500000</td>\n",
       "      <td>6.208889</td>\n",
       "      <td>1513.542222</td>\n",
       "      <td>1.870370</td>\n",
       "      <td>502.014815</td>\n",
       "      <td>1082.644444</td>\n",
       "      <td>1167.474074</td>\n",
       "      <td>1.560741</td>\n",
       "      <td>1972.987407</td>\n",
       "      <td>1985.099259</td>\n",
       "      <td>1978.471852</td>\n",
       "      <td>186406.312593</td>\n",
       "    </tr>\n",
       "    <tr>\n",
       "      <th>std</th>\n",
       "      <td>389.855743</td>\n",
       "      <td>1.338015</td>\n",
       "      <td>487.523239</td>\n",
       "      <td>0.652483</td>\n",
       "      <td>191.389956</td>\n",
       "      <td>384.067713</td>\n",
       "      <td>375.061407</td>\n",
       "      <td>0.551646</td>\n",
       "      <td>29.307257</td>\n",
       "      <td>20.153244</td>\n",
       "      <td>25.377278</td>\n",
       "      <td>78435.424758</td>\n",
       "    </tr>\n",
       "    <tr>\n",
       "      <th>min</th>\n",
       "      <td>1.000000</td>\n",
       "      <td>2.000000</td>\n",
       "      <td>480.000000</td>\n",
       "      <td>1.000000</td>\n",
       "      <td>100.000000</td>\n",
       "      <td>105.000000</td>\n",
       "      <td>480.000000</td>\n",
       "      <td>0.000000</td>\n",
       "      <td>1880.000000</td>\n",
       "      <td>1950.000000</td>\n",
       "      <td>1900.000000</td>\n",
       "      <td>12789.000000</td>\n",
       "    </tr>\n",
       "    <tr>\n",
       "      <th>25%</th>\n",
       "      <td>338.250000</td>\n",
       "      <td>5.000000</td>\n",
       "      <td>1144.000000</td>\n",
       "      <td>1.000000</td>\n",
       "      <td>368.000000</td>\n",
       "      <td>816.000000</td>\n",
       "      <td>886.250000</td>\n",
       "      <td>1.000000</td>\n",
       "      <td>1955.000000</td>\n",
       "      <td>1968.000000</td>\n",
       "      <td>1961.000000</td>\n",
       "      <td>135000.000000</td>\n",
       "    </tr>\n",
       "    <tr>\n",
       "      <th>50%</th>\n",
       "      <td>675.500000</td>\n",
       "      <td>6.000000</td>\n",
       "      <td>1445.500000</td>\n",
       "      <td>2.000000</td>\n",
       "      <td>484.000000</td>\n",
       "      <td>1009.000000</td>\n",
       "      <td>1092.500000</td>\n",
       "      <td>2.000000</td>\n",
       "      <td>1976.000000</td>\n",
       "      <td>1993.000000</td>\n",
       "      <td>1978.500000</td>\n",
       "      <td>165375.000000</td>\n",
       "    </tr>\n",
       "    <tr>\n",
       "      <th>75%</th>\n",
       "      <td>1012.750000</td>\n",
       "      <td>7.000000</td>\n",
       "      <td>1774.500000</td>\n",
       "      <td>2.000000</td>\n",
       "      <td>588.000000</td>\n",
       "      <td>1309.500000</td>\n",
       "      <td>1396.500000</td>\n",
       "      <td>2.000000</td>\n",
       "      <td>2002.000000</td>\n",
       "      <td>2004.000000</td>\n",
       "      <td>2002.000000</td>\n",
       "      <td>217875.000000</td>\n",
       "    </tr>\n",
       "    <tr>\n",
       "      <th>max</th>\n",
       "      <td>1350.000000</td>\n",
       "      <td>10.000000</td>\n",
       "      <td>4476.000000</td>\n",
       "      <td>5.000000</td>\n",
       "      <td>1488.000000</td>\n",
       "      <td>2660.000000</td>\n",
       "      <td>2898.000000</td>\n",
       "      <td>4.000000</td>\n",
       "      <td>2010.000000</td>\n",
       "      <td>2010.000000</td>\n",
       "      <td>2207.000000</td>\n",
       "      <td>745000.000000</td>\n",
       "    </tr>\n",
       "  </tbody>\n",
       "</table>\n",
       "</div>"
      ],
      "text/plain": [
       "                id  Overall Qual  Gr Liv Area  Garage Cars  Garage Area  \\\n",
       "count  1350.000000   1350.000000  1350.000000  1350.000000  1350.000000   \n",
       "mean    675.500000      6.208889  1513.542222     1.870370   502.014815   \n",
       "std     389.855743      1.338015   487.523239     0.652483   191.389956   \n",
       "min       1.000000      2.000000   480.000000     1.000000   100.000000   \n",
       "25%     338.250000      5.000000  1144.000000     1.000000   368.000000   \n",
       "50%     675.500000      6.000000  1445.500000     2.000000   484.000000   \n",
       "75%    1012.750000      7.000000  1774.500000     2.000000   588.000000   \n",
       "max    1350.000000     10.000000  4476.000000     5.000000  1488.000000   \n",
       "\n",
       "       Total Bsmt SF   1st Flr SF    Full Bath   Year Built  Year Remod/Add  \\\n",
       "count    1350.000000  1350.000000  1350.000000  1350.000000     1350.000000   \n",
       "mean     1082.644444  1167.474074     1.560741  1972.987407     1985.099259   \n",
       "std       384.067713   375.061407     0.551646    29.307257       20.153244   \n",
       "min       105.000000   480.000000     0.000000  1880.000000     1950.000000   \n",
       "25%       816.000000   886.250000     1.000000  1955.000000     1968.000000   \n",
       "50%      1009.000000  1092.500000     2.000000  1976.000000     1993.000000   \n",
       "75%      1309.500000  1396.500000     2.000000  2002.000000     2004.000000   \n",
       "max      2660.000000  2898.000000     4.000000  2010.000000     2010.000000   \n",
       "\n",
       "       Garage Yr Blt         target  \n",
       "count    1350.000000    1350.000000  \n",
       "mean     1978.471852  186406.312593  \n",
       "std        25.377278   78435.424758  \n",
       "min      1900.000000   12789.000000  \n",
       "25%      1961.000000  135000.000000  \n",
       "50%      1978.500000  165375.000000  \n",
       "75%      2002.000000  217875.000000  \n",
       "max      2207.000000  745000.000000  "
      ]
     },
     "execution_count": 8,
     "metadata": {},
     "output_type": "execute_result"
    }
   ],
   "source": [
    "## 기초 통계량을 살펴봅니다\n",
    "df.describe()"
   ]
  },
  {
   "cell_type": "markdown",
   "id": "e856ea90-470f-496e-a4b9-df603d89f17f",
   "metadata": {},
   "source": [
    "`-` 연속형 변수들의 평균이 중앙값보다 큰 것으로 보아 오른쪽으로 꼬리가 긴 분포인 듯 합니다\n",
    "\n",
    "`-` Garage Yr Blt의 최대값이 2207인 점을 제외하면 다른 문제는 없어보입니다"
   ]
  },
  {
   "cell_type": "markdown",
   "id": "c92f5bd0-e9d3-4d38-9615-9958b9df5ffb",
   "metadata": {},
   "source": [
    "`-` 우선 분석의 편의를 위해 컬럼명을 바꾸겠습니다"
   ]
  },
  {
   "cell_type": "code",
   "execution_count": 9,
   "id": "79521746-267a-4d94-a3a5-755dc078c28a",
   "metadata": {},
   "outputs": [],
   "source": [
    "## 공백과 슬래쉬를 _로 대체 1st을 First로 바꾼다\n",
    "df.rename(columns = dict(zip(df.columns, [column.replace(' ', '_').replace('/', '_').replace('1', 'Fir') for column in df.columns])), inplace = True) \n",
    "test.rename(columns = dict(zip(test.columns, [column.replace(' ', '_').replace('/', '_').replace('1', 'Fir') for column in test.columns])), inplace = True) "
   ]
  },
  {
   "cell_type": "code",
   "execution_count": 10,
   "id": "4db5359c-57fb-4339-9e90-525468ea3f87",
   "metadata": {},
   "outputs": [],
   "source": [
    "## id 컬럼은 드랍\n",
    "df.drop('id', axis = 1, inplace = True)\n",
    "test.drop('id', axis = 1, inplace = True)"
   ]
  },
  {
   "cell_type": "markdown",
   "id": "2750a4b1-638f-4653-91a1-3eab20bd184d",
   "metadata": {},
   "source": [
    "`-` 좋은 등급이 큰 값을 가지도록 하기위해 라벨인코딩을 정의합니다"
   ]
  },
  {
   "cell_type": "code",
   "execution_count": 11,
   "id": "05bd107f-906a-4e82-b1e5-6d756b21d394",
   "metadata": {},
   "outputs": [],
   "source": [
    "def label_encoding(data):\n",
    "    grade_label = ['Po', 'Fa', 'TA', 'Gd', 'Ex'] ## 퀄리티가 좋은 순서는 Ex(Excellent) >  Gd(Good) > TA(Average/Typical) > Fa(Fair) > Po(Poor)\n",
    "    \n",
    "    for grade, label in enumerate(grade_label):\n",
    "        if data == label:\n",
    "            return grade"
   ]
  },
  {
   "cell_type": "code",
   "execution_count": 12,
   "id": "1ddee44d-7252-4d2a-87fe-442e7278743c",
   "metadata": {},
   "outputs": [],
   "source": [
    "for col in df.columns[df.dtypes == 'object']:\n",
    "    df[col] = df[col].apply(lambda x: label_encoding(x))\n",
    "    test[col] = test[col].apply(lambda x: label_encoding(x))"
   ]
  },
  {
   "cell_type": "markdown",
   "id": "fb95c6e3-550c-490d-a987-57c9d76f62d9",
   "metadata": {
    "tags": []
   },
   "source": [
    "## 간단한 EDA"
   ]
  },
  {
   "cell_type": "markdown",
   "id": "f72db685-1b01-435d-be62-69e11a4079bb",
   "metadata": {
    "tags": []
   },
   "source": [
    "### 상관계수"
   ]
  },
  {
   "cell_type": "code",
   "execution_count": 13,
   "id": "ae4212fb-de09-46f6-81ce-ad0ea846ecc1",
   "metadata": {},
   "outputs": [
    {
     "data": {
      "text/plain": [
       "<AxesSubplot:>"
      ]
     },
     "execution_count": 13,
     "metadata": {},
     "output_type": "execute_result"
    },
    {
     "data": {
      "image/png": "[encoded data removed]",
      "text/plain": [
       "<Figure size 1152x864 with 2 Axes>"
      ]
     },
     "metadata": {},
     "output_type": "display_data"
    }
   ],
   "source": [
    "plt.figure(figsize = (16, 12))\n",
    "corr_matrix = df.corr(method = 'pearson') # 상관관계 행렬\n",
    "sns.heatmap(corr_matrix, annot = True, square = True)"
   ]
  },
  {
   "cell_type": "markdown",
   "id": "801872cd-26f5-4909-ba8e-c9f220026aff",
   "metadata": {},
   "source": [
    "`-` Overall_Qual과 Gr_Liv_Area가 target과의 상관관계가 강합니다"
   ]
  },
  {
   "cell_type": "markdown",
   "id": "791aa336-1e9b-4e53-9e6a-c51a102165e8",
   "metadata": {},
   "source": [
    "### target의 분포"
   ]
  },
  {
   "cell_type": "code",
   "execution_count": 14,
   "id": "e4c8e20d-0c1f-4630-87c7-f0e2d5641bd8",
   "metadata": {},
   "outputs": [
    {
     "data": {
      "text/plain": [
       "<AxesSubplot:xlabel='target'>"
      ]
     },
     "execution_count": 14,
     "metadata": {},
     "output_type": "execute_result"
    },
    {
     "data": {
      "image/png": "[encoded data removed]",
      "text/plain": [
       "<Figure size 864x576 with 1 Axes>"
      ]
     },
     "metadata": {},
     "output_type": "display_data"
    }
   ],
   "source": [
    "sns.boxplot(x = 'target', data = df)"
   ]
  },
  {
   "cell_type": "code",
   "execution_count": 15,
   "id": "c2c31dc8-f6dc-485c-bc96-2396e4a72d7b",
   "metadata": {},
   "outputs": [
    {
     "data": {
      "text/plain": [
       "<AxesSubplot:xlabel='Overall_Qual', ylabel='target'>"
      ]
     },
     "execution_count": 15,
     "metadata": {},
     "output_type": "execute_result"
    },
    {
     "data": {
      "image/png": "[encoded data removed]",
      "text/plain": [
       "<Figure size 864x576 with 1 Axes>"
      ]
     },
     "metadata": {},
     "output_type": "display_data"
    }
   ],
   "source": [
    "sns.boxplot(y = 'target', x = 'Overall_Qual', data = df)"
   ]
  },
  {
   "cell_type": "markdown",
   "id": "6e710147-be65-47eb-8f63-daf8130846ca",
   "metadata": {},
   "source": [
    "## 이상점 제거"
   ]
  },
  {
   "cell_type": "markdown",
   "id": "d9dcd8b9-ac4d-4a65-ab7a-9912735d1505",
   "metadata": {},
   "source": [
    "`-` 이상점이 모델 학습에서 악영향을 끼칠 수 있기에 제거하려고 합니다\n",
    "\n",
    "`-` 간단하게 target만을 고려하여 이상점을 제거할 수 있겠지만(35만 달러를 넘어가면 이상점이네요)\n",
    "\n",
    "`-` 그렇게 하면 당연하게도 너무 비싸거나 싼 값만이 이상점이 됩니다\n",
    "\n",
    "`-` 집값이 형성되는데 복합적인 이유가 있겠지만 편의상 target과의 상관계수가 가장 높은 Overall_Qual을 기준으로 삼겠습니다\n",
    "\n",
    "`-` 예컨대 Overall_Qual이 9나 10인 경우 높은 등급이기 때문에 집이 비싼 가격대에서 형성되지만 이상점이라고 할 수는 없습니다(하지만 전체 target을 기준으로 이상점을 없앤다면 대부분이 제거되겠죠) \n",
    "\n",
    "`-` Overall_Qual이 10인 경우 target의 박스플랏을 보면 이상점이 1개 존재합니다\n",
    "\n",
    "`-` 같은 Overall_Qual 값을 가지더라도 다른 이유(집이 더 넓다 등등)로 인해 집값이 비쌀 수 있지만 이런 경우는 보편적인 상황이 아니라고 생각하여 이상점으로 취급해 제거하겠습니다\n",
    "\n",
    "- 정리하면 아래와 같습니다\n",
    "\n",
    "`-` 집값만 고려하여 이상점을 제거하자!! ---> 너무 싸거나 비싼 집값만 제거된다\n",
    "\n",
    "`-` Overall_Qual이 4인데 집값이 30만 달러라고 할 때 Overall_Qual을 기준으로 보면 이상점이지만 전체 target을 기준으로 보면 35만 달러보다 작기에 이상점이 아니다\n",
    "\n",
    "`-` `이상점` : `\"Overall_Qual이 4이긴 한데요... 집의 면적이 넓어서 30만 달러에요! 그러니깐 없애지 말아주세요\"` --->\n",
    "\n",
    "`-` ---> 이런 경우는 편의상 보편적이지 않으니 제거한다, 변동성만 커져서 문제가 될 수 있다"
   ]
  },
  {
   "cell_type": "markdown",
   "id": "7810f196-f76b-4d4c-9ea7-ac380d2e3810",
   "metadata": {},
   "source": [
    "`-` 그런데 target이 오른쪽으로 꼬리가 긴 분포여서 로그 변환한 값을 기준으로 이상점을 제거합니다"
   ]
  },
  {
   "cell_type": "code",
   "execution_count": 16,
   "id": "17e1ca2a-c4f5-4004-b3f9-a5c51fedd469",
   "metadata": {},
   "outputs": [
    {
     "data": {
      "text/plain": [
       "<AxesSubplot:xlabel='Overall_Qual', ylabel='target'>"
      ]
     },
     "execution_count": 16,
     "metadata": {},
     "output_type": "execute_result"
    },
    {
     "data": {
      "image/png": "[encoded data removed]",
      "text/plain": [
       "<Figure size 864x576 with 1 Axes>"
      ]
     },
     "metadata": {},
     "output_type": "display_data"
    }
   ],
   "source": [
    "sns.boxplot(y = np.log(df['target']), x = 'Overall_Qual', data = df)"
   ]
  },
  {
   "cell_type": "code",
   "execution_count": 17,
   "id": "ab9b38b7-d8d5-4a90-b4e2-c1bf5a1e52d4",
   "metadata": {},
   "outputs": [],
   "source": [
    "def remove_outlier(df_, type_ = 'default'):\n",
    "    df = df_.copy()\n",
    "    if type_ == 'log':\n",
    "        df['target'] = np.log(df['target'])\n",
    "        \n",
    "    Q1 = df['target'].quantile(0.25)\n",
    "    Q3 = df['target'].quantile(0.75)\n",
    "    IQR = Q3 - Q1   \n",
    "\n",
    "    filter_ = ((df[['target']] >= Q1 - 1.5*IQR) & (df[['target']] <= Q3 + 1.5*IQR)).query('target == True').index.tolist() ## 이상점이 아닌 인덱스 번호\n",
    "    \n",
    "    return filter_"
   ]
  },
  {
   "cell_type": "code",
   "execution_count": 60,
   "id": "fc4e7cf8-c824-4464-8c5a-e954b320ceca",
   "metadata": {},
   "outputs": [
    {
     "data": {
      "text/html": [
       "<div>\n",
       "<style scoped>\n",
       "    .dataframe tbody tr th:only-of-type {\n",
       "        vertical-align: middle;\n",
       "    }\n",
       "\n",
       "    .dataframe tbody tr th {\n",
       "        vertical-align: top;\n",
       "    }\n",
       "\n",
       "    .dataframe thead th {\n",
       "        text-align: right;\n",
       "    }\n",
       "</style>\n",
       "<table border=\"1\" class=\"dataframe\">\n",
       "  <thead>\n",
       "    <tr style=\"text-align: right;\">\n",
       "      <th></th>\n",
       "      <th>Overall_Qual</th>\n",
       "      <th>Gr_Liv_Area</th>\n",
       "      <th>Exter_Qual</th>\n",
       "      <th>Garage_Area</th>\n",
       "      <th>Kitchen_Qual</th>\n",
       "      <th>Total_Bsmt_SF</th>\n",
       "      <th>First_Flr_SF</th>\n",
       "      <th>Bsmt_Qual</th>\n",
       "      <th>Full_Bath</th>\n",
       "      <th>Year_Built</th>\n",
       "      <th>Year_Gap_Remod</th>\n",
       "      <th>Total_SF</th>\n",
       "      <th>House_Qual</th>\n",
       "      <th>Overall_Qual_Total_SF</th>\n",
       "      <th>Kitchen_Qual_First_Flr_SF</th>\n",
       "      <th>Bath_Qual_First_Flr_SF</th>\n",
       "      <th>Bsmt_Qual_Total_Bsmt_SF</th>\n",
       "    </tr>\n",
       "  </thead>\n",
       "  <tbody>\n",
       "    <tr>\n",
       "      <th>0</th>\n",
       "      <td>10</td>\n",
       "      <td>2392</td>\n",
       "      <td>4</td>\n",
       "      <td>968</td>\n",
       "      <td>4</td>\n",
       "      <td>2392</td>\n",
       "      <td>2392</td>\n",
       "      <td>4</td>\n",
       "      <td>2</td>\n",
       "      <td>2003</td>\n",
       "      <td>0</td>\n",
       "      <td>5752</td>\n",
       "      <td>2.9</td>\n",
       "      <td>57520</td>\n",
       "      <td>9568</td>\n",
       "      <td>4784</td>\n",
       "      <td>9568</td>\n",
       "    </tr>\n",
       "    <tr>\n",
       "      <th>1</th>\n",
       "      <td>7</td>\n",
       "      <td>1352</td>\n",
       "      <td>3</td>\n",
       "      <td>466</td>\n",
       "      <td>3</td>\n",
       "      <td>1352</td>\n",
       "      <td>1352</td>\n",
       "      <td>4</td>\n",
       "      <td>2</td>\n",
       "      <td>2006</td>\n",
       "      <td>1</td>\n",
       "      <td>3170</td>\n",
       "      <td>2.5</td>\n",
       "      <td>22190</td>\n",
       "      <td>4056</td>\n",
       "      <td>2704</td>\n",
       "      <td>5408</td>\n",
       "    </tr>\n",
       "    <tr>\n",
       "      <th>2</th>\n",
       "      <td>5</td>\n",
       "      <td>900</td>\n",
       "      <td>2</td>\n",
       "      <td>288</td>\n",
       "      <td>2</td>\n",
       "      <td>864</td>\n",
       "      <td>900</td>\n",
       "      <td>2</td>\n",
       "      <td>1</td>\n",
       "      <td>1967</td>\n",
       "      <td>0</td>\n",
       "      <td>2052</td>\n",
       "      <td>1.4</td>\n",
       "      <td>10260</td>\n",
       "      <td>1800</td>\n",
       "      <td>900</td>\n",
       "      <td>1728</td>\n",
       "    </tr>\n",
       "    <tr>\n",
       "      <th>3</th>\n",
       "      <td>5</td>\n",
       "      <td>1174</td>\n",
       "      <td>2</td>\n",
       "      <td>576</td>\n",
       "      <td>3</td>\n",
       "      <td>680</td>\n",
       "      <td>680</td>\n",
       "      <td>2</td>\n",
       "      <td>1</td>\n",
       "      <td>1900</td>\n",
       "      <td>106</td>\n",
       "      <td>2430</td>\n",
       "      <td>1.7</td>\n",
       "      <td>12150</td>\n",
       "      <td>2040</td>\n",
       "      <td>680</td>\n",
       "      <td>1360</td>\n",
       "    </tr>\n",
       "    <tr>\n",
       "      <th>4</th>\n",
       "      <td>7</td>\n",
       "      <td>1958</td>\n",
       "      <td>3</td>\n",
       "      <td>936</td>\n",
       "      <td>3</td>\n",
       "      <td>1026</td>\n",
       "      <td>1026</td>\n",
       "      <td>3</td>\n",
       "      <td>2</td>\n",
       "      <td>2005</td>\n",
       "      <td>0</td>\n",
       "      <td>3920</td>\n",
       "      <td>2.4</td>\n",
       "      <td>27440</td>\n",
       "      <td>3078</td>\n",
       "      <td>2052</td>\n",
       "      <td>3078</td>\n",
       "    </tr>\n",
       "    <tr>\n",
       "      <th>...</th>\n",
       "      <td>...</td>\n",
       "      <td>...</td>\n",
       "      <td>...</td>\n",
       "      <td>...</td>\n",
       "      <td>...</td>\n",
       "      <td>...</td>\n",
       "      <td>...</td>\n",
       "      <td>...</td>\n",
       "      <td>...</td>\n",
       "      <td>...</td>\n",
       "      <td>...</td>\n",
       "      <td>...</td>\n",
       "      <td>...</td>\n",
       "      <td>...</td>\n",
       "      <td>...</td>\n",
       "      <td>...</td>\n",
       "      <td>...</td>\n",
       "    </tr>\n",
       "    <tr>\n",
       "      <th>1311</th>\n",
       "      <td>6</td>\n",
       "      <td>1756</td>\n",
       "      <td>3</td>\n",
       "      <td>422</td>\n",
       "      <td>2</td>\n",
       "      <td>872</td>\n",
       "      <td>888</td>\n",
       "      <td>4</td>\n",
       "      <td>2</td>\n",
       "      <td>1996</td>\n",
       "      <td>1</td>\n",
       "      <td>3050</td>\n",
       "      <td>2.3</td>\n",
       "      <td>18300</td>\n",
       "      <td>1776</td>\n",
       "      <td>1776</td>\n",
       "      <td>3488</td>\n",
       "    </tr>\n",
       "    <tr>\n",
       "      <th>1312</th>\n",
       "      <td>9</td>\n",
       "      <td>2748</td>\n",
       "      <td>3</td>\n",
       "      <td>850</td>\n",
       "      <td>4</td>\n",
       "      <td>1850</td>\n",
       "      <td>1850</td>\n",
       "      <td>4</td>\n",
       "      <td>2</td>\n",
       "      <td>2006</td>\n",
       "      <td>0</td>\n",
       "      <td>5448</td>\n",
       "      <td>2.8</td>\n",
       "      <td>49032</td>\n",
       "      <td>7400</td>\n",
       "      <td>3700</td>\n",
       "      <td>7400</td>\n",
       "    </tr>\n",
       "    <tr>\n",
       "      <th>1313</th>\n",
       "      <td>5</td>\n",
       "      <td>1214</td>\n",
       "      <td>2</td>\n",
       "      <td>318</td>\n",
       "      <td>2</td>\n",
       "      <td>1214</td>\n",
       "      <td>1214</td>\n",
       "      <td>2</td>\n",
       "      <td>2</td>\n",
       "      <td>1967</td>\n",
       "      <td>0</td>\n",
       "      <td>2746</td>\n",
       "      <td>1.7</td>\n",
       "      <td>13730</td>\n",
       "      <td>2428</td>\n",
       "      <td>2428</td>\n",
       "      <td>2428</td>\n",
       "    </tr>\n",
       "    <tr>\n",
       "      <th>1314</th>\n",
       "      <td>5</td>\n",
       "      <td>894</td>\n",
       "      <td>2</td>\n",
       "      <td>440</td>\n",
       "      <td>2</td>\n",
       "      <td>864</td>\n",
       "      <td>894</td>\n",
       "      <td>3</td>\n",
       "      <td>1</td>\n",
       "      <td>1974</td>\n",
       "      <td>0</td>\n",
       "      <td>2198</td>\n",
       "      <td>1.7</td>\n",
       "      <td>10990</td>\n",
       "      <td>1788</td>\n",
       "      <td>894</td>\n",
       "      <td>2592</td>\n",
       "    </tr>\n",
       "    <tr>\n",
       "      <th>1315</th>\n",
       "      <td>5</td>\n",
       "      <td>907</td>\n",
       "      <td>2</td>\n",
       "      <td>343</td>\n",
       "      <td>2</td>\n",
       "      <td>907</td>\n",
       "      <td>907</td>\n",
       "      <td>3</td>\n",
       "      <td>1</td>\n",
       "      <td>1978</td>\n",
       "      <td>0</td>\n",
       "      <td>2157</td>\n",
       "      <td>1.6</td>\n",
       "      <td>10785</td>\n",
       "      <td>1814</td>\n",
       "      <td>907</td>\n",
       "      <td>2721</td>\n",
       "    </tr>\n",
       "  </tbody>\n",
       "</table>\n",
       "<p>1316 rows × 17 columns</p>\n",
       "</div>"
      ],
      "text/plain": [
       "      Overall_Qual  Gr_Liv_Area  Exter_Qual  Garage_Area  Kitchen_Qual  \\\n",
       "0               10         2392           4          968             4   \n",
       "1                7         1352           3          466             3   \n",
       "2                5          900           2          288             2   \n",
       "3                5         1174           2          576             3   \n",
       "4                7         1958           3          936             3   \n",
       "...            ...          ...         ...          ...           ...   \n",
       "1311             6         1756           3          422             2   \n",
       "1312             9         2748           3          850             4   \n",
       "1313             5         1214           2          318             2   \n",
       "1314             5          894           2          440             2   \n",
       "1315             5          907           2          343             2   \n",
       "\n",
       "      Total_Bsmt_SF  First_Flr_SF  Bsmt_Qual  Full_Bath  Year_Built  \\\n",
       "0              2392          2392          4          2        2003   \n",
       "1              1352          1352          4          2        2006   \n",
       "2               864           900          2          1        1967   \n",
       "3               680           680          2          1        1900   \n",
       "4              1026          1026          3          2        2005   \n",
       "...             ...           ...        ...        ...         ...   \n",
       "1311            872           888          4          2        1996   \n",
       "1312           1850          1850          4          2        2006   \n",
       "1313           1214          1214          2          2        1967   \n",
       "1314            864           894          3          1        1974   \n",
       "1315            907           907          3          1        1978   \n",
       "\n",
       "      Year_Gap_Remod  Total_SF  House_Qual  Overall_Qual_Total_SF  \\\n",
       "0                  0      5752         2.9                  57520   \n",
       "1                  1      3170         2.5                  22190   \n",
       "2                  0      2052         1.4                  10260   \n",
       "3                106      2430         1.7                  12150   \n",
       "4                  0      3920         2.4                  27440   \n",
       "...              ...       ...         ...                    ...   \n",
       "1311               1      3050         2.3                  18300   \n",
       "1312               0      5448         2.8                  49032   \n",
       "1313               0      2746         1.7                  13730   \n",
       "1314               0      2198         1.7                  10990   \n",
       "1315               0      2157         1.6                  10785   \n",
       "\n",
       "      Kitchen_Qual_First_Flr_SF  Bath_Qual_First_Flr_SF  \\\n",
       "0                          9568                    4784   \n",
       "1                          4056                    2704   \n",
       "2                          1800                     900   \n",
       "3                          2040                     680   \n",
       "4                          3078                    2052   \n",
       "...                         ...                     ...   \n",
       "1311                       1776                    1776   \n",
       "1312                       7400                    3700   \n",
       "1313                       2428                    2428   \n",
       "1314                       1788                     894   \n",
       "1315                       1814                     907   \n",
       "\n",
       "      Bsmt_Qual_Total_Bsmt_SF  \n",
       "0                        9568  \n",
       "1                        5408  \n",
       "2                        1728  \n",
       "3                        1360  \n",
       "4                        3078  \n",
       "...                       ...  \n",
       "1311                     3488  \n",
       "1312                     7400  \n",
       "1313                     2428  \n",
       "1314                     2592  \n",
       "1315                     2721  \n",
       "\n",
       "[1316 rows x 17 columns]"
      ]
     },
     "execution_count": 60,
     "metadata": {},
     "output_type": "execute_result"
    }
   ],
   "source": [
    "dt"
   ]
  },
  {
   "cell_type": "code",
   "execution_count": 83,
   "id": "3957d29c-432c-42aa-8ca4-1ba5854f53ce",
   "metadata": {},
   "outputs": [],
   "source": [
    "df2 = df.copy() "
   ]
  },
  {
   "cell_type": "code",
   "execution_count": 84,
   "id": "46e34099-dcd2-45b6-ade0-867617596375",
   "metadata": {},
   "outputs": [],
   "source": [
    "l = []\n",
    "for grade in df2['Overall_Qual'].unique():\n",
    "    l.extend(remove_outlier(df2.query('Overall_Qual == @grade'), type_ = 'log')) ## 이상점이 아닌 인덱스 번호만 추가 \n",
    "l = list(set(l))"
   ]
  },
  {
   "cell_type": "code",
   "execution_count": 85,
   "id": "ae57e2bb-c189-476e-bd03-42e26b7a90c7",
   "metadata": {},
   "outputs": [
    {
     "data": {
      "text/plain": [
       "1317"
      ]
     },
     "execution_count": 85,
     "metadata": {},
     "output_type": "execute_result"
    }
   ],
   "source": [
    "len(l)"
   ]
  },
  {
   "cell_type": "code",
   "execution_count": 86,
   "id": "214b2318-aeaa-4d6e-98cb-38c84ae5eb6e",
   "metadata": {},
   "outputs": [],
   "source": [
    "df2 = df2.loc[l,:].reset_index().drop('index', axis = 1)"
   ]
  },
  {
   "cell_type": "code",
   "execution_count": 87,
   "id": "c3672e94-0c84-4beb-b730-c907a1e65c43",
   "metadata": {},
   "outputs": [
    {
     "data": {
      "image/png": "[encoded data removed]",
      "text/plain": [
       "<Figure size 864x576 with 1 Axes>"
      ]
     },
     "metadata": {},
     "output_type": "display_data"
    }
   ],
   "source": [
    "with plt.style.context('seaborn-darkgrid'): \n",
    "    plt.boxplot(np.log(df2['target']))\n",
    "plt.show()"
   ]
  },
  {
   "cell_type": "markdown",
   "id": "feb1af48-18b8-4a39-9cfb-8bcdbcf36474",
   "metadata": {},
   "source": [
    "`-` 9.5부근에 있는 target만 추가로 제거합니다"
   ]
  },
  {
   "cell_type": "code",
   "execution_count": 88,
   "id": "78837618-fb39-48df-9196-d786d59e265b",
   "metadata": {},
   "outputs": [
    {
     "data": {
      "text/html": [
       "<div>\n",
       "<style scoped>\n",
       "    .dataframe tbody tr th:only-of-type {\n",
       "        vertical-align: middle;\n",
       "    }\n",
       "\n",
       "    .dataframe tbody tr th {\n",
       "        vertical-align: top;\n",
       "    }\n",
       "\n",
       "    .dataframe thead th {\n",
       "        text-align: right;\n",
       "    }\n",
       "</style>\n",
       "<table border=\"1\" class=\"dataframe\">\n",
       "  <thead>\n",
       "    <tr style=\"text-align: right;\">\n",
       "      <th></th>\n",
       "      <th>Overall_Qual</th>\n",
       "      <th>Gr_Liv_Area</th>\n",
       "      <th>Exter_Qual</th>\n",
       "      <th>Garage_Cars</th>\n",
       "      <th>Garage_Area</th>\n",
       "      <th>Kitchen_Qual</th>\n",
       "      <th>Total_Bsmt_SF</th>\n",
       "      <th>First_Flr_SF</th>\n",
       "      <th>Bsmt_Qual</th>\n",
       "      <th>Full_Bath</th>\n",
       "      <th>Year_Built</th>\n",
       "      <th>Year_Remod_Add</th>\n",
       "      <th>Garage_Yr_Blt</th>\n",
       "      <th>target</th>\n",
       "    </tr>\n",
       "  </thead>\n",
       "  <tbody>\n",
       "    <tr>\n",
       "      <th>1176</th>\n",
       "      <td>2</td>\n",
       "      <td>832</td>\n",
       "      <td>2</td>\n",
       "      <td>2</td>\n",
       "      <td>780</td>\n",
       "      <td>2</td>\n",
       "      <td>678</td>\n",
       "      <td>832</td>\n",
       "      <td>1</td>\n",
       "      <td>1</td>\n",
       "      <td>1923</td>\n",
       "      <td>1970</td>\n",
       "      <td>1928</td>\n",
       "      <td>12789</td>\n",
       "    </tr>\n",
       "  </tbody>\n",
       "</table>\n",
       "</div>"
      ],
      "text/plain": [
       "      Overall_Qual  Gr_Liv_Area  Exter_Qual  Garage_Cars  Garage_Area  \\\n",
       "1176             2          832           2            2          780   \n",
       "\n",
       "      Kitchen_Qual  Total_Bsmt_SF  First_Flr_SF  Bsmt_Qual  Full_Bath  \\\n",
       "1176             2            678           832          1          1   \n",
       "\n",
       "      Year_Built  Year_Remod_Add  Garage_Yr_Blt  target  \n",
       "1176        1923            1970           1928   12789  "
      ]
     },
     "execution_count": 88,
     "metadata": {},
     "output_type": "execute_result"
    }
   ],
   "source": [
    "df2[df2.target == df2.target.min()]"
   ]
  },
  {
   "cell_type": "code",
   "execution_count": 89,
   "id": "e72f40ef-6929-41a3-8382-d7543c3026cd",
   "metadata": {},
   "outputs": [],
   "source": [
    "df2 = df2.drop(df2[df2.target == df2.target.min()].index).reset_index().drop('index', axis = 1)"
   ]
  },
  {
   "cell_type": "markdown",
   "id": "3ef337fd-32db-4c4e-813b-c07879ac78dc",
   "metadata": {
    "tags": []
   },
   "source": [
    "## 파생변수 생성"
   ]
  },
  {
   "cell_type": "markdown",
   "id": "ffff30b4-75f0-4e58-acc7-d2756debec2f",
   "metadata": {},
   "source": [
    "`-` 주어진 변수를 활용하여 파생 변수를 만들겠습니다\n",
    "\n",
    "`-` 퀄리티 관련 변수들을 그냥 더하여 새로운 파생변수를 만들 수 있습니다\n",
    "\n",
    "`-` 하지만 퀄리티라고 해도 부엌의 퀄리티와 외관 재료의 퀄리티가 다를 수 있습니다(우선순위의 차이)\n",
    "\n",
    "`-` 그러므로 간단히 랜덤포레스트를 사용해 피쳐 중요도에 따라 다른 가중치를 두어 합치겠습니다\n",
    "\n",
    "`-` 화장실의 개수도 화장실의 퀄리티이며 차고에 들어가는 차량의 개수도 차고의 퀄리티로 판단하겠습니다\n",
    "\n",
    "`-` 또한 지상층면적, 차고면적, 지하실면적을 합친 전체 집의 면적과 완공 연도와 리모델링 연도의 차이도 새로운 변수로 만들겠습니다"
   ]
  },
  {
   "cell_type": "code",
   "execution_count": 35,
   "id": "59866969-5ace-457b-b0d2-194875991dfe",
   "metadata": {},
   "outputs": [],
   "source": [
    "from sklearn.ensemble import RandomForestRegressor\n",
    "from sklearn.model_selection import train_test_split"
   ]
  },
  {
   "cell_type": "code",
   "execution_count": 36,
   "id": "41811e8e-60f8-4b21-a1d9-91c6755ab70a",
   "metadata": {},
   "outputs": [],
   "source": [
    "dt_ = df2.copy()"
   ]
  },
  {
   "cell_type": "code",
   "execution_count": 37,
   "id": "52dc7b89-c791-4ecf-a9c4-8f4d5b976559",
   "metadata": {},
   "outputs": [],
   "source": [
    "target_ = dt_['target']\n",
    "dt_ = dt_.iloc[:, :-1]"
   ]
  },
  {
   "cell_type": "code",
   "execution_count": 42,
   "id": "547988c7-eca5-4784-bfef-c8332ed2b8cd",
   "metadata": {},
   "outputs": [
    {
     "data": {
      "text/plain": [
       "RandomForestRegressor(criterion='mae', random_state=21)"
      ]
     },
     "execution_count": 42,
     "metadata": {},
     "output_type": "execute_result"
    }
   ],
   "source": [
    "rf = RandomForestRegressor(random_state = 21, criterion = 'mae')\n",
    "rf.fit(dt_, target_)"
   ]
  },
  {
   "cell_type": "code",
   "execution_count": 43,
   "id": "aa63e8a6-56f1-4b18-ba0c-20bfa5db60fc",
   "metadata": {},
   "outputs": [
    {
     "data": {
      "text/plain": [
       "(0.007504524758655046,\n",
       " 0.009590860727892673,\n",
       " 0.011825757380935501,\n",
       " 0.01754556041771484,\n",
       " 0.06647633685016144)"
      ]
     },
     "execution_count": 43,
     "metadata": {},
     "output_type": "execute_result"
    }
   ],
   "source": [
    "qual_ = dict(zip(rf.feature_names_in_, rf.feature_importances_))\n",
    "qual_['Exter_Qual'], qual_['Garage_Cars'], qual_['Kitchen_Qual'], qual_['Bsmt_Qual'], qual_['Full_Bath']"
   ]
  },
  {
   "cell_type": "markdown",
   "id": "3537e2c8-0db1-4635-b78b-d642362c3978",
   "metadata": {},
   "source": [
    "`-` 피쳐 중요도는 Garage_Cars < Exter_Qual < Kitchen_Qual < Bsmt_Qual < Full_Bath 입니다\n",
    "\n",
    "`-` 적당히 가중치를 주어 합치겠습니다"
   ]
  },
  {
   "cell_type": "code",
   "execution_count": 44,
   "id": "78493a06-5a13-4e5c-ab8c-60ce849ff51d",
   "metadata": {},
   "outputs": [],
   "source": [
    "def feature_engineering(df_):\n",
    "    df = df_.copy()\n",
    "    df['Year_Gap_Remod'] = df['Year_Remod_Add'] - df['Year_Built'] ## 완공을 하고 몇 년뒤에 리모델링을 했는지를 나타낸다\n",
    "    df['Total_SF'] = df['Gr_Liv_Area'] + df['Garage_Area'] + df['Total_Bsmt_SF'] ## 전체 집의 면적\n",
    "    df['House_Qual'] = df['Exter_Qual']*0.1 + df['Garage_Cars']*0.1 + df['Kitchen_Qual']*0.2 + df['Bsmt_Qual']*0.2 + df['Full_Bath']*0.3 ## 퀄리티 변수들의 가중합\n",
    "    \n",
    "    df.drop(['Year_Remod_Add', 'Garage_Cars', 'Garage_Yr_Blt'] , axis = 1, inplace = True) ## 사용하지 않을 변수 제거\n",
    "    \n",
    "    ## Garage_Cars와 Garage_Area의 상관계수가 높아 Garage_Cars 피쳐를 드랍(Garage_Yr_Blt와 Year_Remod_Add도 마찬가지)\n",
    "    ## Total_Bsmt_SF와 First_Flr_SF의 상관계수도 높아 둘 중 하나를 드랍해야 되지만 깜빡했다\n",
    "    \n",
    "    return df"
   ]
  },
  {
   "cell_type": "markdown",
   "id": "e1dfbfeb-ce8b-45d6-9ff6-25a840d899af",
   "metadata": {},
   "source": [
    "### 교호작용 추가"
   ]
  },
  {
   "cell_type": "markdown",
   "id": "bea31915-987a-40d8-a43f-6216c370e27d",
   "metadata": {},
   "source": [
    "`-` target(집값)을 예측하는데 있어 매우 중요한 변수는 Overall_Qual과 Total_SF 입니다\n",
    "\n",
    "`-` Overall_Qual의 등급이 높으면 집값이 비싸고 Total_SF도 마찬가지로 값이 크면 집값이 비싸지죠\n",
    "\n",
    "`-` 그런데 저는 동일하게 Total_SF(집의 면적)을 추가하더라도 Overall_Qual(전반적 재료 품질)에 따라 target(집값)의 상승폭이 다르다고 생각했습니다\n",
    "\n",
    "`-` 즉 Overall_Qual이 4일 때 Total_SF를 1000 추가해서 집값이 5만 달러가 더 올랐다면\n",
    "\n",
    "`-` Overall_Qual이 9일 때 Total_SF를 1000 추가해도 동일하게 집값이 5만 달러가 더 오르는가?\n",
    "\n",
    "`-` 이 둘이 다르다면 Overall_Qual과 Total_SF간에 교호작용이 존재한다고 볼 수 있을 것입니다"
   ]
  },
  {
   "cell_type": "code",
   "execution_count": 45,
   "id": "653a7241-ea51-4cc8-99d9-cf32d4528696",
   "metadata": {},
   "outputs": [],
   "source": [
    "df2 = feature_engineering(df2)"
   ]
  },
  {
   "cell_type": "code",
   "execution_count": 46,
   "id": "1b97d8c6-6962-4774-a69f-c7e753e2ac3e",
   "metadata": {},
   "outputs": [
    {
     "data": {
      "text/plain": [
       "<seaborn.axisgrid.FacetGrid at 0x1d2ca0d0e50>"
      ]
     },
     "execution_count": 46,
     "metadata": {},
     "output_type": "execute_result"
    },
    {
     "data": {
      "image/png": "[encoded data removed]",
      "text/plain": [
       "<Figure size 726.8x432 with 1 Axes>"
      ]
     },
     "metadata": {},
     "output_type": "display_data"
    }
   ],
   "source": [
    "sns.lmplot(x = 'Total_SF', y = 'target', data = df2, hue = 'Overall_Qual', scatter_kws = {'alpha':0.6, 's':15}, height = 6, aspect = 1.5)"
   ]
  },
  {
   "cell_type": "markdown",
   "id": "e0d1e233-6832-4f33-b8fc-955f3bdd6aa3",
   "metadata": {},
   "source": [
    "`-` Overall_Qual이 2와 3인 경우는 표본이 매우 적어서 무시하고 본다면\n",
    "\n",
    "`-` Overall_Qual이 클수록 Total_SF이 똑같이 추가되도 target의 상승폭이 더 큽니다(기울기가 더 가파르다)"
   ]
  },
  {
   "cell_type": "markdown",
   "id": "2a9c1c5c-e898-4746-b24c-603312af71a1",
   "metadata": {},
   "source": [
    "`-` Overall_Qual과 Total_SF간의 교호작용만 추가하기 아쉬워서 다른 피쳐간의 교호작용도 추가했지만 별로 유용하지는 않았습니다"
   ]
  },
  {
   "cell_type": "code",
   "execution_count": 47,
   "id": "a458f6fc-f565-4cdf-8195-5e770a017ae1",
   "metadata": {},
   "outputs": [],
   "source": [
    "def add_interaction(df_):\n",
    "    df = df_.copy()\n",
    "    \n",
    "    df['Overall_Qual_Total_SF'] = df['Overall_Qual'] * df['Total_SF'] ## 전반적인 재료 퀄리티와 집의 전체 면적을 곱한다  \n",
    "    df['Kitchen_Qual_First_Flr_SF'] = df['Kitchen_Qual'] * df['First_Flr_SF'] ## 부엌의 퀄리티와 1층 면적을 곱한다(1층에 부엌이 있을 것)\n",
    "    df['Bath_Qual_First_Flr_SF'] = df['Full_Bath'] * df['First_Flr_SF'] ## 화장실 개수와 1층 면적을 곱한다(1층에 화장실이 있을 것)\n",
    "    df['Bsmt_Qual_Total_Bsmt_SF'] = df['Bsmt_Qual'] * df['Total_Bsmt_SF'] ## 지하실 높이 수준과 지하실 면적을 곱한다\n",
    "\n",
    "    return df"
   ]
  },
  {
   "cell_type": "code",
   "execution_count": 48,
   "id": "77b96195-67cb-48f6-b433-bcc135e3b441",
   "metadata": {},
   "outputs": [],
   "source": [
    "df2 = add_interaction(df2)"
   ]
  },
  {
   "cell_type": "markdown",
   "id": "976e4506-b11f-41ff-869d-634ab8fd04a7",
   "metadata": {},
   "source": [
    "## 모델링"
   ]
  },
  {
   "cell_type": "code",
   "execution_count": 98,
   "id": "beaa65e4-c800-4299-b0ef-a39c398b15bb",
   "metadata": {},
   "outputs": [],
   "source": [
    "from sklearn.ensemble import RandomForestRegressor, GradientBoostingRegressor  \n",
    "from xgboost import XGBRegressor \n",
    "from lightgbm import LGBMRegressor \n",
    "from catboost import CatBoostRegressor\n",
    "from sklearn.model_selection import cross_validate, KFold\n",
    "from sklearn.metrics import make_scorer"
   ]
  },
  {
   "cell_type": "code",
   "execution_count": 50,
   "id": "f3c91e96-ad33-47dc-8522-5c67065aa7b9",
   "metadata": {},
   "outputs": [],
   "source": [
    "dt = df2.copy()\n",
    "log_target = np.log(dt['target'])\n",
    "dt.drop('target', axis = 1, inplace = True)"
   ]
  },
  {
   "cell_type": "code",
   "execution_count": 51,
   "id": "a75b626a-1371-4b5a-a555-bdafdf132fd0",
   "metadata": {},
   "outputs": [],
   "source": [
    "def NMAE(true, pred):\n",
    "    mae = np.mean(np.abs(true - pred))\n",
    "    score = mae / np.mean(np.abs(true))\n",
    "    return score"
   ]
  },
  {
   "cell_type": "code",
   "execution_count": 52,
   "id": "1f3dbcb4-0f50-4b78-8abf-1272898a982f",
   "metadata": {},
   "outputs": [],
   "source": [
    "def my_custom_loss_func(true, pred):\n",
    "    return NMAE(np.exp(true), np.exp(pred)) "
   ]
  },
  {
   "cell_type": "code",
   "execution_count": 53,
   "id": "75731e47-975c-43f2-8af2-48eb5467ee50",
   "metadata": {},
   "outputs": [],
   "source": [
    "score = make_scorer(my_custom_loss_func, greater_is_better = False)\n",
    "kfold = KFold(n_splits = 5, random_state = 22, shuffle = True)"
   ]
  },
  {
   "cell_type": "code",
   "execution_count": 96,
   "id": "2ce5343a-3d66-458c-82d9-6da7760151be",
   "metadata": {},
   "outputs": [],
   "source": [
    "rf = RandomForestRegressor(random_state = 22, criterion = 'mae')\n",
    "gb = GradientBoostingRegressor(random_state = 22, n_estimators = 350, learning_rate = 0.03, max_depth = 4, criterion = 'mae')\n",
    "cb = CatBoostRegressor(random_state = 22, learning_rate = 0.03, n_estimators = 3000, depth = 4, loss_function = 'MAE', verbose = 0)\n",
    "xgb = XGBRegressor(random_state = 22, n_estimators = 500,  max_depth = 4, learning_rate = 0.03, min_child_weight = 2) \n",
    "lgb = LGBMRegressor(random_state = 22, n_estimators = 400, max_depth = 4, learning_rate = 0.03, num_leaves = 9)"
   ]
  },
  {
   "cell_type": "code",
   "execution_count": 97,
   "id": "6159a486-f3dc-42ee-883d-0decb9cb7f55",
   "metadata": {},
   "outputs": [
    {
     "name": "stdout",
     "output_type": "stream",
     "text": [
      "------------------------------------ rf ------------------------------------\n",
      "교차 검증별 NMAE:  [0.09439534 0.08549849 0.09282394 0.09797326 0.09807528]\n",
      "교차 검증 NMAE 평균:  0.09375325945952193\n",
      "교차 검증 NMAE 표준편차:  0.0046022912256350485\n",
      "------------------------------------ gb ------------------------------------\n",
      "교차 검증별 NMAE:  [0.08957008 0.08521185 0.09017076 0.09245771 0.10034929]\n",
      "교차 검증 NMAE 평균:  0.09155193725372882\n",
      "교차 검증 NMAE 표준편차:  0.00498489512654774\n",
      "------------------------------------ cb ------------------------------------\n",
      "교차 검증별 NMAE:  [0.0832666  0.0886138  0.08945756 0.08734808 0.09642484]\n",
      "교차 검증 NMAE 평균:  0.0890221762905821\n",
      "교차 검증 NMAE 표준편차:  0.004268136815129975\n",
      "------------------------------------ xgb ------------------------------------\n",
      "교차 검증별 NMAE:  [0.08778014 0.08481836 0.08825539 0.090204   0.09938245]\n",
      "교차 검증 NMAE 평균:  0.09008806867902328\n",
      "교차 검증 NMAE 표준편차:  0.004956895862959923\n",
      "------------------------------------ lgb ------------------------------------\n",
      "교차 검증별 NMAE:  [0.09024129 0.08641902 0.08851971 0.08768026 0.10134903]\n",
      "교차 검증 NMAE 평균:  0.09084186335004107\n",
      "교차 검증 NMAE 표준편차:  0.00539835096354213\n"
     ]
    }
   ],
   "source": [
    "for model in ['rf', 'gb', 'cb', 'xgb', 'lgb']:\n",
    "    scores = cross_validate(eval(model), dt, log_target, scoring = score, cv = kfold)\n",
    "    print('------------------------------------ ' + str(model) + ' ------------------------------------')\n",
    "    print('교차 검증별 NMAE: ', abs(scores['test_score']))\n",
    "    print('교차 검증 NMAE 평균: ', np.mean(abs(scores['test_score'])))\n",
    "    print('교차 검증 NMAE 표준편차: ', np.std(abs(scores['test_score'])))"
   ]
  },
  {
   "cell_type": "markdown",
   "id": "bf9746c0-a35c-408c-a74f-f76fb1f19e1e",
   "metadata": {},
   "source": [
    "## test 예측"
   ]
  },
  {
   "cell_type": "code",
   "execution_count": 55,
   "id": "4b971df5-8c9f-4d41-9056-b3080c7f44d2",
   "metadata": {},
   "outputs": [],
   "source": [
    "test2 = feature_engineering(test)\n",
    "test2 = add_interaction(test2)"
   ]
  },
  {
   "cell_type": "markdown",
   "id": "40dfb2c2-40bd-44eb-b4bf-68c4935c0cd3",
   "metadata": {},
   "source": [
    "`-` 교차 검증 MNAE의 평균이 가장 높은 랜덤포레스트는 제외하고 앙상블을 합니다"
   ]
  },
  {
   "cell_type": "code",
   "execution_count": 56,
   "id": "1f8a6f5f-9c3b-4261-bb4a-e56852b5024c",
   "metadata": {},
   "outputs": [],
   "source": [
    "gb.fit(dt, log_target)\n",
    "xgb.fit(dt, log_target, verbose = 0)\n",
    "lgb.fit(dt, log_target, verbose = 0)\n",
    "cb.fit(dt, log_target)\n",
    "\n",
    "gb_pred = np.exp(gb.predict(test2))\n",
    "lgb_pred = np.exp(lgb.predict(test2))\n",
    "xgb_pred = np.exp(xgb.predict(test2))\n",
    "cb_pred = np.exp(cb.predict(test2))\n",
    "\n",
    "pred = (gb_pred + xgb_pred + lgb_pred + cb_pred) / 4"
   ]
  },
  {
   "cell_type": "code",
   "execution_count": 57,
   "id": "68955b13-62ae-4774-aa14-5999222ff243",
   "metadata": {},
   "outputs": [],
   "source": [
    "submission = pd.read_csv('sample_submission.csv')"
   ]
  },
  {
   "cell_type": "code",
   "execution_count": 58,
   "id": "683da145-05dd-4399-ab32-656aff589c0d",
   "metadata": {},
   "outputs": [
    {
     "data": {
      "text/html": [
       "<div>\n",
       "<style scoped>\n",
       "    .dataframe tbody tr th:only-of-type {\n",
       "        vertical-align: middle;\n",
       "    }\n",
       "\n",
       "    .dataframe tbody tr th {\n",
       "        vertical-align: top;\n",
       "    }\n",
       "\n",
       "    .dataframe thead th {\n",
       "        text-align: right;\n",
       "    }\n",
       "</style>\n",
       "<table border=\"1\" class=\"dataframe\">\n",
       "  <thead>\n",
       "    <tr style=\"text-align: right;\">\n",
       "      <th></th>\n",
       "      <th>id</th>\n",
       "      <th>target</th>\n",
       "    </tr>\n",
       "  </thead>\n",
       "  <tbody>\n",
       "    <tr>\n",
       "      <th>0</th>\n",
       "      <td>1</td>\n",
       "      <td>334315.200367</td>\n",
       "    </tr>\n",
       "    <tr>\n",
       "      <th>1</th>\n",
       "      <td>2</td>\n",
       "      <td>128436.762671</td>\n",
       "    </tr>\n",
       "    <tr>\n",
       "      <th>2</th>\n",
       "      <td>3</td>\n",
       "      <td>172754.055755</td>\n",
       "    </tr>\n",
       "    <tr>\n",
       "      <th>3</th>\n",
       "      <td>4</td>\n",
       "      <td>249590.993957</td>\n",
       "    </tr>\n",
       "    <tr>\n",
       "      <th>4</th>\n",
       "      <td>5</td>\n",
       "      <td>135889.842890</td>\n",
       "    </tr>\n",
       "  </tbody>\n",
       "</table>\n",
       "</div>"
      ],
      "text/plain": [
       "   id         target\n",
       "0   1  334315.200367\n",
       "1   2  128436.762671\n",
       "2   3  172754.055755\n",
       "3   4  249590.993957\n",
       "4   5  135889.842890"
      ]
     },
     "execution_count": 58,
     "metadata": {},
     "output_type": "execute_result"
    }
   ],
   "source": [
    "## 위에서 구한 예측값을 그대로 넣어줌\n",
    "submission['target'] = pred\n",
    "\n",
    "## 데이터가 잘 들어갔는지 확인\n",
    "submission.head()"
   ]
  },
  {
   "cell_type": "code",
   "execution_count": 59,
   "id": "181ea87b-77ba-49c0-a16b-6c28c976d15a",
   "metadata": {},
   "outputs": [],
   "source": [
    "## submission을 csv 파일로 저장\n",
    "submission.to_csv('submission.csv', index = False)"
   ]
  },
  {
   "cell_type": "code",
   "execution_count": null,
   "id": "c73e23e5-c0af-40c1-96d4-8eecae0ae1e2",
   "metadata": {},
   "outputs": [],
   "source": []
  }
 ],
 "metadata": {
  "kernelspec": {
   "display_name": "Python 3 (ipykernel)",
   "language": "python",
   "name": "python3"
  },
  "language_info": {
   "codemirror_mode": {
    "name": "ipython",
    "version": 3
   },
   "file_extension": ".py",
   "mimetype": "text/x-python",
   "name": "python",
   "nbconvert_exporter": "python",
   "pygments_lexer": "ipython3",
   "version": "3.8.11"
  }
 },
 "nbformat": 4,
 "nbformat_minor": 5
}
