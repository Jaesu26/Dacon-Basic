{
 "cells": [
  {
   "cell_type": "markdown",
   "id": "0da0dd90-e2b6-4043-9500-3abddd089767",
   "metadata": {},
   "source": [
    "# 집값 예측 경진대회"
   ]
  },
  {
   "cell_type": "markdown",
   "id": "fb0b1e0e-8214-4b8f-858d-45afee354d05",
   "metadata": {},
   "source": [
    "## 패키지 import 및 데이터 전처리"
   ]
  },
  {
   "cell_type": "code",
   "execution_count": 583,
   "id": "edd15dae-dc08-4edf-931b-3bb787ab1f99",
   "metadata": {},
   "outputs": [],
   "source": [
    "import pandas as pd\n",
    "import numpy as np\n",
    "import matplotlib.pyplot as plt"
   ]
  },
  {
   "cell_type": "code",
   "execution_count": 1328,
   "id": "9cf3af2e-4547-46b7-ab49-4c2bc675b90f",
   "metadata": {},
   "outputs": [],
   "source": [
    "df = pd.read_csv('C:/Users/Jaesu/github_desktop/Dacon-Basic/집값-예측/Data/train.csv')\n",
    "test = pd.read_csv('C:/Users/Jaesu/github_desktop/Dacon-Basic/집값-예측/Data/test.csv')"
   ]
  },
  {
   "cell_type": "code",
   "execution_count": 1109,
   "id": "fb68f289-c602-4eb7-8ac1-8ede35571d16",
   "metadata": {},
   "outputs": [
    {
     "data": {
      "text/html": [
       "<div>\n",
       "<style scoped>\n",
       "    .dataframe tbody tr th:only-of-type {\n",
       "        vertical-align: middle;\n",
       "    }\n",
       "\n",
       "    .dataframe tbody tr th {\n",
       "        vertical-align: top;\n",
       "    }\n",
       "\n",
       "    .dataframe thead th {\n",
       "        text-align: right;\n",
       "    }\n",
       "</style>\n",
       "<table border=\"1\" class=\"dataframe\">\n",
       "  <thead>\n",
       "    <tr style=\"text-align: right;\">\n",
       "      <th></th>\n",
       "      <th>id</th>\n",
       "      <th>Overall Qual</th>\n",
       "      <th>Gr Liv Area</th>\n",
       "      <th>Exter Qual</th>\n",
       "      <th>Garage Cars</th>\n",
       "      <th>Garage Area</th>\n",
       "      <th>Kitchen Qual</th>\n",
       "      <th>Total Bsmt SF</th>\n",
       "      <th>1st Flr SF</th>\n",
       "      <th>Bsmt Qual</th>\n",
       "      <th>Full Bath</th>\n",
       "      <th>Year Built</th>\n",
       "      <th>Year Remod/Add</th>\n",
       "      <th>Garage Yr Blt</th>\n",
       "      <th>target</th>\n",
       "    </tr>\n",
       "  </thead>\n",
       "  <tbody>\n",
       "    <tr>\n",
       "      <th>0</th>\n",
       "      <td>1</td>\n",
       "      <td>10</td>\n",
       "      <td>2392</td>\n",
       "      <td>Ex</td>\n",
       "      <td>3</td>\n",
       "      <td>968</td>\n",
       "      <td>Ex</td>\n",
       "      <td>2392</td>\n",
       "      <td>2392</td>\n",
       "      <td>Ex</td>\n",
       "      <td>2</td>\n",
       "      <td>2003</td>\n",
       "      <td>2003</td>\n",
       "      <td>2003</td>\n",
       "      <td>386250</td>\n",
       "    </tr>\n",
       "    <tr>\n",
       "      <th>1</th>\n",
       "      <td>2</td>\n",
       "      <td>7</td>\n",
       "      <td>1352</td>\n",
       "      <td>Gd</td>\n",
       "      <td>2</td>\n",
       "      <td>466</td>\n",
       "      <td>Gd</td>\n",
       "      <td>1352</td>\n",
       "      <td>1352</td>\n",
       "      <td>Ex</td>\n",
       "      <td>2</td>\n",
       "      <td>2006</td>\n",
       "      <td>2007</td>\n",
       "      <td>2006</td>\n",
       "      <td>194000</td>\n",
       "    </tr>\n",
       "    <tr>\n",
       "      <th>2</th>\n",
       "      <td>3</td>\n",
       "      <td>5</td>\n",
       "      <td>900</td>\n",
       "      <td>TA</td>\n",
       "      <td>1</td>\n",
       "      <td>288</td>\n",
       "      <td>TA</td>\n",
       "      <td>864</td>\n",
       "      <td>900</td>\n",
       "      <td>TA</td>\n",
       "      <td>1</td>\n",
       "      <td>1967</td>\n",
       "      <td>1967</td>\n",
       "      <td>1967</td>\n",
       "      <td>123000</td>\n",
       "    </tr>\n",
       "    <tr>\n",
       "      <th>3</th>\n",
       "      <td>4</td>\n",
       "      <td>5</td>\n",
       "      <td>1174</td>\n",
       "      <td>TA</td>\n",
       "      <td>2</td>\n",
       "      <td>576</td>\n",
       "      <td>Gd</td>\n",
       "      <td>680</td>\n",
       "      <td>680</td>\n",
       "      <td>TA</td>\n",
       "      <td>1</td>\n",
       "      <td>1900</td>\n",
       "      <td>2006</td>\n",
       "      <td>2000</td>\n",
       "      <td>135000</td>\n",
       "    </tr>\n",
       "    <tr>\n",
       "      <th>4</th>\n",
       "      <td>5</td>\n",
       "      <td>7</td>\n",
       "      <td>1958</td>\n",
       "      <td>Gd</td>\n",
       "      <td>3</td>\n",
       "      <td>936</td>\n",
       "      <td>Gd</td>\n",
       "      <td>1026</td>\n",
       "      <td>1026</td>\n",
       "      <td>Gd</td>\n",
       "      <td>2</td>\n",
       "      <td>2005</td>\n",
       "      <td>2005</td>\n",
       "      <td>2005</td>\n",
       "      <td>250000</td>\n",
       "    </tr>\n",
       "  </tbody>\n",
       "</table>\n",
       "</div>"
      ],
      "text/plain": [
       "   id  Overall Qual  Gr Liv Area Exter Qual  Garage Cars  Garage Area  \\\n",
       "0   1            10         2392         Ex            3          968   \n",
       "1   2             7         1352         Gd            2          466   \n",
       "2   3             5          900         TA            1          288   \n",
       "3   4             5         1174         TA            2          576   \n",
       "4   5             7         1958         Gd            3          936   \n",
       "\n",
       "  Kitchen Qual  Total Bsmt SF  1st Flr SF Bsmt Qual  Full Bath  Year Built  \\\n",
       "0           Ex           2392        2392        Ex          2        2003   \n",
       "1           Gd           1352        1352        Ex          2        2006   \n",
       "2           TA            864         900        TA          1        1967   \n",
       "3           Gd            680         680        TA          1        1900   \n",
       "4           Gd           1026        1026        Gd          2        2005   \n",
       "\n",
       "   Year Remod/Add  Garage Yr Blt  target  \n",
       "0            2003           2003  386250  \n",
       "1            2007           2006  194000  \n",
       "2            1967           1967  123000  \n",
       "3            2006           2000  135000  \n",
       "4            2005           2005  250000  "
      ]
     },
     "execution_count": 1109,
     "metadata": {},
     "output_type": "execute_result"
    }
   ],
   "source": [
    "df.head()"
   ]
  },
  {
   "cell_type": "markdown",
   "id": "3e7c0e52-54aa-4454-99f5-33b818be4ea2",
   "metadata": {},
   "source": [
    "`-` id는 필요없으니 제거"
   ]
  },
  {
   "cell_type": "code",
   "execution_count": 1329,
   "id": "6fe51af8-de24-44dc-b14a-8e0e25ef6880",
   "metadata": {},
   "outputs": [],
   "source": [
    "df.drop('id', axis = 1, inplace = True)\n",
    "test.drop('id', axis = 1, inplace = True)"
   ]
  },
  {
   "cell_type": "markdown",
   "id": "e19d8b12-e0bd-4626-8b3b-d94d16b31491",
   "metadata": {},
   "source": [
    "`-` 결측치는 없다"
   ]
  },
  {
   "cell_type": "markdown",
   "id": "fd4f5ca9-0d45-4b14-812a-1a4bbb4f7003",
   "metadata": {},
   "source": [
    "`-` 분석의 편의를 위해 컬럼명을 바꾸겠다"
   ]
  },
  {
   "cell_type": "code",
   "execution_count": 1330,
   "id": "36fa871d-a2a9-4810-ae57-804a156cb2e5",
   "metadata": {},
   "outputs": [],
   "source": [
    "## 공백과 슬래쉬를 _로 대체 1을 숫자가 아닌 다른 문자로 바꿈 \n",
    "\n",
    "df.rename(columns = dict(zip(df.columns, [column.replace(' ', '_').replace('/', '_').replace('1', 'fir') for column in df.columns])), inplace = True) \n",
    "test.rename(columns = dict(zip(test.columns, [column.replace(' ', '_').replace('/', '_').replace('1', 'fir') for column in test.columns])), inplace = True) "
   ]
  },
  {
   "cell_type": "markdown",
   "id": "a0cdf9c8-bb90-4762-806a-967b48de6966",
   "metadata": {},
   "source": [
    "`-` 범주형 변수는 Exter Qual(외관 재료 품질;4개), Kitchen Qual(부엌 품질; 4개), Bsmt Qual(지하실 높이;5개)이다\n",
    "\n",
    "`-` 총 5개의 등급이 존재하는데 Poor 등급은 Bsmt Qual에 1개 존재한다(나머지는 0개)\n",
    "\n",
    "`-` 아예 poor등급이 존재하지 않는걸 수 도 있고 poor등급이 존재하는데 poor등급에 해당하는 건물이 존재하지 않는걸 수 도 있다\n",
    "\n",
    "`-` 편의상 후자라고 생각하자\n",
    "\n",
    "`-` 이들은 순서형 변수이므로 라벨 인코딩을 해주자"
   ]
  },
  {
   "cell_type": "markdown",
   "id": "8bf729ef-0b06-4abf-88f1-0562eb2c6016",
   "metadata": {},
   "source": [
    "`-` 좋은 등급이 큰 값을 가지도록 하기위해 라벨인코딩을 정의해주자"
   ]
  },
  {
   "cell_type": "code",
   "execution_count": 1112,
   "id": "c3ea7044-5a92-41c0-aef6-4c7aeaee0c2e",
   "metadata": {},
   "outputs": [],
   "source": [
    "def label_encoding(data):\n",
    "    grade_label = ['Po', 'Fa', 'TA', 'Gd', 'Ex'] ## 0~4점\n",
    "    \n",
    "    for grade, label in enumerate(grade_label):\n",
    "        if data == label:\n",
    "            return grade"
   ]
  },
  {
   "cell_type": "code",
   "execution_count": 1113,
   "id": "a3f1c2e1-a651-452b-bc02-a47e85051b68",
   "metadata": {},
   "outputs": [],
   "source": [
    "for col in df.columns[df.dtypes == 'object']:\n",
    "    df[col] = df[col].apply(lambda x: label_encoding(x))"
   ]
  },
  {
   "cell_type": "code",
   "execution_count": 1114,
   "id": "553df92a-eb3e-4177-bf0e-7383ad6a2508",
   "metadata": {},
   "outputs": [
    {
     "data": {
      "text/html": [
       "<div>\n",
       "<style scoped>\n",
       "    .dataframe tbody tr th:only-of-type {\n",
       "        vertical-align: middle;\n",
       "    }\n",
       "\n",
       "    .dataframe tbody tr th {\n",
       "        vertical-align: top;\n",
       "    }\n",
       "\n",
       "    .dataframe thead th {\n",
       "        text-align: right;\n",
       "    }\n",
       "</style>\n",
       "<table border=\"1\" class=\"dataframe\">\n",
       "  <thead>\n",
       "    <tr style=\"text-align: right;\">\n",
       "      <th></th>\n",
       "      <th>Overall_Qual</th>\n",
       "      <th>Gr_Liv_Area</th>\n",
       "      <th>Exter_Qual</th>\n",
       "      <th>Garage_Cars</th>\n",
       "      <th>Garage_Area</th>\n",
       "      <th>Kitchen_Qual</th>\n",
       "      <th>Total_Bsmt_SF</th>\n",
       "      <th>first_Flr_SF</th>\n",
       "      <th>Bsmt_Qual</th>\n",
       "      <th>Full_Bath</th>\n",
       "      <th>Year_Built</th>\n",
       "      <th>Year_Remod_Add</th>\n",
       "      <th>Garage_Yr_Blt</th>\n",
       "      <th>target</th>\n",
       "    </tr>\n",
       "  </thead>\n",
       "  <tbody>\n",
       "    <tr>\n",
       "      <th>0</th>\n",
       "      <td>10</td>\n",
       "      <td>2392</td>\n",
       "      <td>4</td>\n",
       "      <td>3</td>\n",
       "      <td>968</td>\n",
       "      <td>4</td>\n",
       "      <td>2392</td>\n",
       "      <td>2392</td>\n",
       "      <td>4</td>\n",
       "      <td>2</td>\n",
       "      <td>2003</td>\n",
       "      <td>2003</td>\n",
       "      <td>2003</td>\n",
       "      <td>386250</td>\n",
       "    </tr>\n",
       "    <tr>\n",
       "      <th>1</th>\n",
       "      <td>7</td>\n",
       "      <td>1352</td>\n",
       "      <td>3</td>\n",
       "      <td>2</td>\n",
       "      <td>466</td>\n",
       "      <td>3</td>\n",
       "      <td>1352</td>\n",
       "      <td>1352</td>\n",
       "      <td>4</td>\n",
       "      <td>2</td>\n",
       "      <td>2006</td>\n",
       "      <td>2007</td>\n",
       "      <td>2006</td>\n",
       "      <td>194000</td>\n",
       "    </tr>\n",
       "    <tr>\n",
       "      <th>2</th>\n",
       "      <td>5</td>\n",
       "      <td>900</td>\n",
       "      <td>2</td>\n",
       "      <td>1</td>\n",
       "      <td>288</td>\n",
       "      <td>2</td>\n",
       "      <td>864</td>\n",
       "      <td>900</td>\n",
       "      <td>2</td>\n",
       "      <td>1</td>\n",
       "      <td>1967</td>\n",
       "      <td>1967</td>\n",
       "      <td>1967</td>\n",
       "      <td>123000</td>\n",
       "    </tr>\n",
       "    <tr>\n",
       "      <th>3</th>\n",
       "      <td>5</td>\n",
       "      <td>1174</td>\n",
       "      <td>2</td>\n",
       "      <td>2</td>\n",
       "      <td>576</td>\n",
       "      <td>3</td>\n",
       "      <td>680</td>\n",
       "      <td>680</td>\n",
       "      <td>2</td>\n",
       "      <td>1</td>\n",
       "      <td>1900</td>\n",
       "      <td>2006</td>\n",
       "      <td>2000</td>\n",
       "      <td>135000</td>\n",
       "    </tr>\n",
       "    <tr>\n",
       "      <th>4</th>\n",
       "      <td>7</td>\n",
       "      <td>1958</td>\n",
       "      <td>3</td>\n",
       "      <td>3</td>\n",
       "      <td>936</td>\n",
       "      <td>3</td>\n",
       "      <td>1026</td>\n",
       "      <td>1026</td>\n",
       "      <td>3</td>\n",
       "      <td>2</td>\n",
       "      <td>2005</td>\n",
       "      <td>2005</td>\n",
       "      <td>2005</td>\n",
       "      <td>250000</td>\n",
       "    </tr>\n",
       "  </tbody>\n",
       "</table>\n",
       "</div>"
      ],
      "text/plain": [
       "   Overall_Qual  Gr_Liv_Area  Exter_Qual  Garage_Cars  Garage_Area  \\\n",
       "0            10         2392           4            3          968   \n",
       "1             7         1352           3            2          466   \n",
       "2             5          900           2            1          288   \n",
       "3             5         1174           2            2          576   \n",
       "4             7         1958           3            3          936   \n",
       "\n",
       "   Kitchen_Qual  Total_Bsmt_SF  first_Flr_SF  Bsmt_Qual  Full_Bath  \\\n",
       "0             4           2392          2392          4          2   \n",
       "1             3           1352          1352          4          2   \n",
       "2             2            864           900          2          1   \n",
       "3             3            680           680          2          1   \n",
       "4             3           1026          1026          3          2   \n",
       "\n",
       "   Year_Built  Year_Remod_Add  Garage_Yr_Blt  target  \n",
       "0        2003            2003           2003  386250  \n",
       "1        2006            2007           2006  194000  \n",
       "2        1967            1967           1967  123000  \n",
       "3        1900            2006           2000  135000  \n",
       "4        2005            2005           2005  250000  "
      ]
     },
     "execution_count": 1114,
     "metadata": {},
     "output_type": "execute_result"
    }
   ],
   "source": [
    "df.head()"
   ]
  },
  {
   "cell_type": "markdown",
   "id": "199800b2-0e14-4efa-b7a6-55fac118304a",
   "metadata": {},
   "source": [
    "`-` 라벨 인코딩이 잘 되었다"
   ]
  },
  {
   "cell_type": "markdown",
   "id": "2ddb24be-8ea5-430f-a871-d6e662962d9f",
   "metadata": {},
   "source": [
    "`-` 앞서 EDA에서 집값(target)이 오른쪽으로 꼬리가 긴 분포임을 확인했다\n",
    "\n",
    "`-` 정규분포로 맞춰주기 위해 로그변환을 하자"
   ]
  },
  {
   "cell_type": "code",
   "execution_count": 1115,
   "id": "5d800041-e76f-499f-9521-6afaf2609b99",
   "metadata": {},
   "outputs": [],
   "source": [
    "import scipy.stats as stats"
   ]
  },
  {
   "cell_type": "code",
   "execution_count": 1116,
   "id": "c28a6599-31c0-4874-abc9-a73755e02d2b",
   "metadata": {},
   "outputs": [
    {
     "data": {
      "text/plain": [
       "<AxesSubplot:>"
      ]
     },
     "execution_count": 1116,
     "metadata": {},
     "output_type": "execute_result"
    },
    {
     "data": {
      "image/png": "[encoded data removed]",
      "text/plain": [
       "<Figure size 432x288 with 1 Axes>"
      ]
     },
     "metadata": {
      "needs_background": "light"
     },
     "output_type": "display_data"
    }
   ],
   "source": [
    "np.log(df['target']).hist(bins = 30)"
   ]
  },
  {
   "cell_type": "code",
   "execution_count": 1117,
   "id": "4d3b4a07-2e6e-42d5-bf45-89556f7c776a",
   "metadata": {},
   "outputs": [
    {
     "data": {
      "image/png": "[encoded data removed]",
      "text/plain": [
       "<Figure size 432x288 with 1 Axes>"
      ]
     },
     "metadata": {
      "needs_background": "light"
     },
     "output_type": "display_data"
    }
   ],
   "source": [
    "_ = stats.probplot(np.log(df['target']), plot = plt)"
   ]
  },
  {
   "cell_type": "markdown",
   "id": "fe1d038f-cbea-4809-8c3c-7f3d53bd9a8e",
   "metadata": {},
   "source": [
    "`-` 로그 변환을 했지만 정규분포를 따르지 않는것처럼 보인다\n",
    "\n",
    "`-` 샤피로-윌크 검정을 통해 정확히 확인하자"
   ]
  },
  {
   "cell_type": "code",
   "execution_count": 1118,
   "id": "129afe97-c7b2-455c-bd95-9fe47f158217",
   "metadata": {},
   "outputs": [],
   "source": [
    "test_stat, p_val = stats.shapiro(np.log(df['target']))"
   ]
  },
  {
   "cell_type": "code",
   "execution_count": 1119,
   "id": "6fc47c8b-29e6-452d-be9c-47e87f8457e2",
   "metadata": {},
   "outputs": [
    {
     "data": {
      "text/plain": [
       "(4.748497602069524e-13, 0.08070163740417918)"
      ]
     },
     "execution_count": 1119,
     "metadata": {},
     "output_type": "execute_result"
    }
   ],
   "source": [
    "p_val, np.log(df['target']).skew() ## p값과 왜도"
   ]
  },
  {
   "cell_type": "markdown",
   "id": "dd604a17-a18d-48fb-aede-bc88202e4d88",
   "metadata": {},
   "source": [
    "`-` 안타깝게도 정규분포를 따르지 않는다"
   ]
  },
  {
   "cell_type": "markdown",
   "id": "f6195eed-d40b-4b16-889a-8e9cbc59ce6e",
   "metadata": {},
   "source": [
    "`-` 왜도는 $0.08$로 거의 $0$"
   ]
  },
  {
   "cell_type": "markdown",
   "id": "5bda65ec-b964-4472-9489-35e6a3806338",
   "metadata": {},
   "source": [
    "`-` 그런데 Q-Q플랏을 보면 심각한 이상치가 보인다(-3부근에 2개)\n",
    "\n",
    "`-` 저런 이상치를 예측하는 것은 불가능해보이니 제거하자"
   ]
  },
  {
   "cell_type": "markdown",
   "id": "accef66b-668a-43f2-9497-51b60cf1900a",
   "metadata": {},
   "source": [
    "`-` 값이 큰쪽으로도 이상점이 있는데 제거할지 말지 고민중이다"
   ]
  },
  {
   "cell_type": "markdown",
   "id": "c7844bd6-06e5-4573-a2a6-aae6bd51f19d",
   "metadata": {},
   "source": [
    "`-` 가장 비싼 집이 745000 달러인데 Gr_Liv_Area(지상층 생활 면적)이 4476으로 매우 넓다!\n",
    "\n",
    "`-` 근데 생각해보니 제거하는 것이 맞는 것 같다(심각한 이상치로 인해 큰 영향을 끼칠 수 있음)"
   ]
  },
  {
   "cell_type": "code",
   "execution_count": 1120,
   "id": "42eac668-fa9f-4623-affc-8c039ec5ebaa",
   "metadata": {},
   "outputs": [
    {
     "data": {
      "image/png": "[encoded data removed]",
      "text/plain": [
       "<Figure size 432x288 with 1 Axes>"
      ]
     },
     "metadata": {},
     "output_type": "display_data"
    }
   ],
   "source": [
    "with plt.style.context('seaborn-dark'): \n",
    "    plt.boxplot(np.log(df['target']))\n",
    "plt.show()"
   ]
  },
  {
   "cell_type": "markdown",
   "id": "9c7e9bb9-7ab4-40c5-8ae3-d3ee926cc10b",
   "metadata": {},
   "source": [
    "`-` 로그 변환을 해서 나온 이상치들을 제거하자"
   ]
  },
  {
   "cell_type": "code",
   "execution_count": 1133,
   "id": "a7706de3-13da-4405-a94c-eac12dd2efcf",
   "metadata": {},
   "outputs": [],
   "source": [
    "def remove_outlier(df):\n",
    "    Q1 = np.log(df).quantile(0.25)\n",
    "    Q3 = np.log(df).quantile(0.75)\n",
    "    IQR = Q3 - Q1   \n",
    "\n",
    "    filter_ = (np.log(df) >= Q1 - 1.5*IQR) & (np.log(df) <= Q3 + 1.5*IQR)\n",
    "    return filter_"
   ]
  },
  {
   "cell_type": "markdown",
   "id": "332d4227-3142-49c0-84a9-f40fb0871a41",
   "metadata": {},
   "source": [
    "`-` df의 이상점을 제거한 df2를 만듦"
   ]
  },
  {
   "cell_type": "code",
   "execution_count": 1134,
   "id": "9771da76-f62a-488b-9734-9cab28770ae5",
   "metadata": {},
   "outputs": [],
   "source": [
    "df2 = df.copy()"
   ]
  },
  {
   "cell_type": "code",
   "execution_count": 1135,
   "id": "c3ef383e-71b4-4c72-9f59-acd188e3d277",
   "metadata": {},
   "outputs": [],
   "source": [
    "df2 = df2[remove_outlier(np.log(df2['target']))]"
   ]
  },
  {
   "cell_type": "code",
   "execution_count": 1136,
   "id": "5d169e7f-cf3f-457c-8085-b50a7aec30aa",
   "metadata": {},
   "outputs": [
    {
     "data": {
      "text/plain": [
       "<AxesSubplot:>"
      ]
     },
     "execution_count": 1136,
     "metadata": {},
     "output_type": "execute_result"
    },
    {
     "data": {
      "image/png": "[encoded data removed]",
      "text/plain": [
       "<Figure size 432x288 with 1 Axes>"
      ]
     },
     "metadata": {
      "needs_background": "light"
     },
     "output_type": "display_data"
    }
   ],
   "source": [
    "np.log(df2['target']).hist(bins = 30)"
   ]
  },
  {
   "cell_type": "code",
   "execution_count": 1155,
   "id": "dbf2ba20-73d0-42c0-a455-22e81535f0c6",
   "metadata": {},
   "outputs": [
    {
     "data": {
      "image/png": "[encoded data removed]",
      "text/plain": [
       "<Figure size 432x288 with 1 Axes>"
      ]
     },
     "metadata": {
      "needs_background": "light"
     },
     "output_type": "display_data"
    }
   ],
   "source": [
    "_ = stats.probplot(np.log(df2['target']), plot = plt)"
   ]
  },
  {
   "cell_type": "code",
   "execution_count": 1152,
   "id": "1f055220-b14b-42ce-a8e5-2f2665650aad",
   "metadata": {},
   "outputs": [],
   "source": [
    "test_stat, p_val = stats.shapiro(np.log(df2['target']))"
   ]
  },
  {
   "cell_type": "code",
   "execution_count": 1153,
   "id": "f1d5fd07-52fb-454f-b88d-eefe082ec454",
   "metadata": {},
   "outputs": [
    {
     "data": {
      "text/plain": [
       "(1.1874696781433158e-09, 0.3258074548404892)"
      ]
     },
     "execution_count": 1153,
     "metadata": {},
     "output_type": "execute_result"
    }
   ],
   "source": [
    "p_val, np.log(df2['target']).skew() ## p값과 왜도"
   ]
  },
  {
   "cell_type": "markdown",
   "id": "0f86a8ee-da2c-40de-bb6a-2b3386bea891",
   "metadata": {},
   "source": [
    "`-` 로그 변환대신 box-cox 변환을 해보자\n",
    "\n",
    "`-` box-cox 참고 : https://docs.scipy.org/doc/scipy/reference/generated/scipy.stats.boxcox.html"
   ]
  },
  {
   "cell_type": "markdown",
   "id": "707e9f9b-c57a-4ed2-8e64-62f368cf2cce",
   "metadata": {},
   "source": [
    "`-` $y = \\cfrac{(x^\\lambda - 1)}{\\lambda},\\;\\lambda \\neq 0$\n",
    "\n",
    "`-` $x=(\\lambda y + 1)^\\tfrac{1}{\\lambda},\\;\\lambda \\neq 0$"
   ]
  },
  {
   "cell_type": "code",
   "execution_count": 1192,
   "id": "b1bc6b91-8f74-4e97-814d-e12b5fce4ebc",
   "metadata": {},
   "outputs": [
    {
     "data": {
      "text/plain": [
       "-0.3419437777787296"
      ]
     },
     "execution_count": 1192,
     "metadata": {},
     "output_type": "execute_result"
    }
   ],
   "source": [
    "optimal_lambda"
   ]
  },
  {
   "cell_type": "code",
   "execution_count": 1193,
   "id": "1d2a1316-64ed-4324-bff8-cc24650becf3",
   "metadata": {},
   "outputs": [],
   "source": [
    "def box_cox_transform(x):\n",
    "    return (x**optimal_lambda -1) / optimal_lambda"
   ]
  },
  {
   "cell_type": "code",
   "execution_count": 1239,
   "id": "3d9f7687-22ea-4ce3-9700-9eab115e655e",
   "metadata": {},
   "outputs": [],
   "source": [
    "def inverse_box_cox_transform(x):\n",
    "    return (x*optimal_lambda + 1) ** (1/optimal_lambda)"
   ]
  },
  {
   "cell_type": "code",
   "execution_count": 1165,
   "id": "485b01a5-e828-4c04-a623-b6f54fc9a644",
   "metadata": {},
   "outputs": [],
   "source": [
    "train_target, optimal_lambda = stats.boxcox(df2['target'])"
   ]
  },
  {
   "cell_type": "code",
   "execution_count": 1170,
   "id": "b7f24109-dc15-4416-9db0-b755376a1870",
   "metadata": {},
   "outputs": [
    {
     "data": {
      "text/plain": [
       "<AxesSubplot:>"
      ]
     },
     "execution_count": 1170,
     "metadata": {},
     "output_type": "execute_result"
    },
    {
     "data": {
      "image/png": "[encoded data removed]",
      "text/plain": [
       "<Figure size 432x288 with 1 Axes>"
      ]
     },
     "metadata": {
      "needs_background": "light"
     },
     "output_type": "display_data"
    }
   ],
   "source": [
    "pd.Series(train_target).hist(bins = 30)"
   ]
  },
  {
   "cell_type": "markdown",
   "id": "e03033ed-29e4-4f4a-b0d3-c2bc087129d9",
   "metadata": {},
   "source": [
    "`-` 히스토그램은 로그변환과 비슷해보임"
   ]
  },
  {
   "cell_type": "code",
   "execution_count": 1171,
   "id": "b4f8dbcc-a2aa-491c-bb03-2903a9206d10",
   "metadata": {},
   "outputs": [
    {
     "data": {
      "image/png": "[encoded data removed]",
      "text/plain": [
       "<Figure size 432x288 with 1 Axes>"
      ]
     },
     "metadata": {
      "needs_background": "light"
     },
     "output_type": "display_data"
    }
   ],
   "source": [
    "_ = stats.probplot(pd.Series(train_target), plot = plt)"
   ]
  },
  {
   "cell_type": "code",
   "execution_count": 1172,
   "id": "2e42b90f-ad32-4cff-8b8a-a88b8361b066",
   "metadata": {},
   "outputs": [],
   "source": [
    "test_stat, p_val = stats.shapiro(pd.Series(train_target))"
   ]
  },
  {
   "cell_type": "code",
   "execution_count": 1173,
   "id": "6324b78b-ead6-449b-b5f9-6ab0100b5e89",
   "metadata": {},
   "outputs": [
    {
     "data": {
      "text/plain": [
       "(1.366531341773225e-05, 0.009664306847420746)"
      ]
     },
     "execution_count": 1173,
     "metadata": {},
     "output_type": "execute_result"
    }
   ],
   "source": [
    "p_val, pd.Series(train_target).skew() ## p값과 왜도"
   ]
  },
  {
   "cell_type": "markdown",
   "id": "c7db5eaa-393a-42c4-af36-3961a39b5f98",
   "metadata": {},
   "source": [
    "`-` 로그 변환보다 box-cox 변환이 더 우수한 변환으로 보인다\n",
    "\n",
    "`-` box-cox 변환을 하자\n",
    "\n",
    "`-` box-cox 변환의 단점이 train 셋에 의존한다는 것\n",
    "\n",
    "`-` test 데이터에 train 셋의 box-cox 변환을 적용하면 오차가 꽤 생긴다(점수가 낮게 나왔음)\n",
    "\n",
    "`-` 그러므로 로그 변환을 하자"
   ]
  },
  {
   "cell_type": "markdown",
   "id": "9865513e-aa62-44b9-8f46-b165359b29a4",
   "metadata": {},
   "source": [
    "## 모델링(선형 회귀)"
   ]
  },
  {
   "cell_type": "markdown",
   "id": "58f98186-ec1b-4305-be4d-d60c2227d4f6",
   "metadata": {},
   "source": [
    "`-` 간단하게 다중 선형 회귀를 해보자"
   ]
  },
  {
   "cell_type": "markdown",
   "id": "6225c696-aa24-4392-bee6-e5b67cd96da9",
   "metadata": {},
   "source": [
    "### 변수 선택(뒤로부터 제거)"
   ]
  },
  {
   "cell_type": "code",
   "execution_count": 591,
   "id": "20febe18-c523-435d-9562-69d739595765",
   "metadata": {},
   "outputs": [],
   "source": [
    "from sklearn.model_selection import train_test_split"
   ]
  },
  {
   "cell_type": "code",
   "execution_count": 595,
   "id": "b14c3cbb-b658-4eb1-ad5e-c860fa9f3824",
   "metadata": {},
   "outputs": [
    {
     "data": {
      "text/plain": [
       "(1341, 14)"
      ]
     },
     "execution_count": 595,
     "metadata": {},
     "output_type": "execute_result"
    }
   ],
   "source": [
    "df.shape ## 총 9개의 이상점을 제거함(더 있지만 일단은 냅둠)"
   ]
  },
  {
   "cell_type": "code",
   "execution_count": 775,
   "id": "4a2a692b-d473-4bd1-80a9-08083b8cfc99",
   "metadata": {},
   "outputs": [],
   "source": [
    "dt = df.copy()"
   ]
  },
  {
   "cell_type": "code",
   "execution_count": 776,
   "id": "0f712cfb-772d-4e92-9acf-78faef33ae8e",
   "metadata": {},
   "outputs": [],
   "source": [
    "dt.drop(['Year_Built', 'Year_Remod_Add', 'Garage_Yr_Blt'], axis = 1, inplace = True)"
   ]
  },
  {
   "cell_type": "markdown",
   "id": "7bab0f00-e70c-4942-9b35-d16cfe9dbfdb",
   "metadata": {},
   "source": [
    "`-` EDA를 했을 땐 연도가 의미있는 변수가 아니어서 모델링에 사용하지 않겠다"
   ]
  },
  {
   "cell_type": "code",
   "execution_count": 777,
   "id": "dfdac749-9056-4cbe-b607-1840759b9ee0",
   "metadata": {},
   "outputs": [],
   "source": [
    "target = dt['target']  ## target\n",
    "dt = dt.iloc[:, :-1]   ## target 제외한 데이터프레임"
   ]
  },
  {
   "cell_type": "code",
   "execution_count": 778,
   "id": "8e55399e-de16-4349-91be-69b5ac66ae5a",
   "metadata": {},
   "outputs": [],
   "source": [
    "x_train, x_valid, y_train, y_valid = train_test_split(dt, target, test_size = 0.2, shuffle = True, random_state = 22)\n",
    "\n",
    "## 표본크기가 1341로 커서 일단 교차검증은 하지 않음"
   ]
  },
  {
   "cell_type": "code",
   "execution_count": 779,
   "id": "d007416d-dfa1-4e96-96db-7d65860b6db6",
   "metadata": {},
   "outputs": [],
   "source": [
    "y_train = np.log(y_train) ## 로그 변환"
   ]
  },
  {
   "cell_type": "code",
   "execution_count": 780,
   "id": "229f80c6-bb74-47ed-8e7b-2ff44b9dd32c",
   "metadata": {},
   "outputs": [],
   "source": [
    "import statsmodels.formula.api as smf"
   ]
  },
  {
   "cell_type": "code",
   "execution_count": 781,
   "id": "17747ed2-a472-421e-a5c6-a4f84a16c13d",
   "metadata": {},
   "outputs": [],
   "source": [
    "tmp = pd.concat([x_train, y_train], axis = 1)"
   ]
  },
  {
   "cell_type": "code",
   "execution_count": 782,
   "id": "f462dbaa-7cf1-4120-a651-3adc073e9ae3",
   "metadata": {},
   "outputs": [
    {
     "data": {
      "text/html": [
       "<div>\n",
       "<style scoped>\n",
       "    .dataframe tbody tr th:only-of-type {\n",
       "        vertical-align: middle;\n",
       "    }\n",
       "\n",
       "    .dataframe tbody tr th {\n",
       "        vertical-align: top;\n",
       "    }\n",
       "\n",
       "    .dataframe thead th {\n",
       "        text-align: right;\n",
       "    }\n",
       "</style>\n",
       "<table border=\"1\" class=\"dataframe\">\n",
       "  <thead>\n",
       "    <tr style=\"text-align: right;\">\n",
       "      <th></th>\n",
       "      <th>Overall_Qual</th>\n",
       "      <th>Gr_Liv_Area</th>\n",
       "      <th>Exter_Qual</th>\n",
       "      <th>Garage_Cars</th>\n",
       "      <th>Garage_Area</th>\n",
       "      <th>Kitchen_Qual</th>\n",
       "      <th>Total_Bsmt_SF</th>\n",
       "      <th>first_Flr_SF</th>\n",
       "      <th>Bsmt_Qual</th>\n",
       "      <th>Full_Bath</th>\n",
       "      <th>target</th>\n",
       "    </tr>\n",
       "  </thead>\n",
       "  <tbody>\n",
       "    <tr>\n",
       "      <th>904</th>\n",
       "      <td>7</td>\n",
       "      <td>1536</td>\n",
       "      <td>3</td>\n",
       "      <td>2</td>\n",
       "      <td>532</td>\n",
       "      <td>3</td>\n",
       "      <td>1536</td>\n",
       "      <td>1536</td>\n",
       "      <td>3</td>\n",
       "      <td>2</td>\n",
       "      <td>12.273731</td>\n",
       "    </tr>\n",
       "    <tr>\n",
       "      <th>443</th>\n",
       "      <td>5</td>\n",
       "      <td>1588</td>\n",
       "      <td>2</td>\n",
       "      <td>2</td>\n",
       "      <td>480</td>\n",
       "      <td>2</td>\n",
       "      <td>768</td>\n",
       "      <td>1024</td>\n",
       "      <td>2</td>\n",
       "      <td>1</td>\n",
       "      <td>11.918391</td>\n",
       "    </tr>\n",
       "    <tr>\n",
       "      <th>22</th>\n",
       "      <td>7</td>\n",
       "      <td>1651</td>\n",
       "      <td>2</td>\n",
       "      <td>1</td>\n",
       "      <td>276</td>\n",
       "      <td>2</td>\n",
       "      <td>725</td>\n",
       "      <td>1035</td>\n",
       "      <td>2</td>\n",
       "      <td>2</td>\n",
       "      <td>12.055250</td>\n",
       "    </tr>\n",
       "    <tr>\n",
       "      <th>389</th>\n",
       "      <td>6</td>\n",
       "      <td>1152</td>\n",
       "      <td>2</td>\n",
       "      <td>2</td>\n",
       "      <td>412</td>\n",
       "      <td>2</td>\n",
       "      <td>912</td>\n",
       "      <td>1152</td>\n",
       "      <td>2</td>\n",
       "      <td>1</td>\n",
       "      <td>11.873742</td>\n",
       "    </tr>\n",
       "    <tr>\n",
       "      <th>681</th>\n",
       "      <td>8</td>\n",
       "      <td>1226</td>\n",
       "      <td>3</td>\n",
       "      <td>2</td>\n",
       "      <td>484</td>\n",
       "      <td>3</td>\n",
       "      <td>1226</td>\n",
       "      <td>1226</td>\n",
       "      <td>3</td>\n",
       "      <td>1</td>\n",
       "      <td>12.043554</td>\n",
       "    </tr>\n",
       "  </tbody>\n",
       "</table>\n",
       "</div>"
      ],
      "text/plain": [
       "     Overall_Qual  Gr_Liv_Area  Exter_Qual  Garage_Cars  Garage_Area  \\\n",
       "904             7         1536           3            2          532   \n",
       "443             5         1588           2            2          480   \n",
       "22              7         1651           2            1          276   \n",
       "389             6         1152           2            2          412   \n",
       "681             8         1226           3            2          484   \n",
       "\n",
       "     Kitchen_Qual  Total_Bsmt_SF  first_Flr_SF  Bsmt_Qual  Full_Bath  \\\n",
       "904             3           1536          1536          3          2   \n",
       "443             2            768          1024          2          1   \n",
       "22              2            725          1035          2          2   \n",
       "389             2            912          1152          2          1   \n",
       "681             3           1226          1226          3          1   \n",
       "\n",
       "        target  \n",
       "904  12.273731  \n",
       "443  11.918391  \n",
       "22   12.055250  \n",
       "389  11.873742  \n",
       "681  12.043554  "
      ]
     },
     "execution_count": 782,
     "metadata": {},
     "output_type": "execute_result"
    }
   ],
   "source": [
    "tmp.head()"
   ]
  },
  {
   "cell_type": "markdown",
   "id": "c908ca64-87c9-45a2-8e61-ceb7d10f2b8b",
   "metadata": {},
   "source": [
    "`-` 선형회귀는 표준화를 하나 안하나 상관없어서 일단은 하지 않겠다\n",
    "\n",
    "`-` 표준화를 하면 계수를 통해 중요성을 알 수 있긴 함"
   ]
  },
  {
   "cell_type": "code",
   "execution_count": 783,
   "id": "3f9b9eae-072f-43f2-a938-c931f273c3ff",
   "metadata": {},
   "outputs": [],
   "source": [
    "rst = smf.ols(formula = 'target~' + '+'.join(tmp.columns[:-1]), data = tmp).fit()\n",
    "# rst.summary()"
   ]
  },
  {
   "cell_type": "markdown",
   "id": "a6cefd0e-5fea-4a09-b2cf-ea5bbca57e8d",
   "metadata": {},
   "source": [
    "`-` Full_Bath 변수의 p값이 가장 유의하지 않으니 제거"
   ]
  },
  {
   "cell_type": "code",
   "execution_count": 784,
   "id": "63276882-928a-47d1-a909-ddfdd221e6e2",
   "metadata": {},
   "outputs": [],
   "source": [
    "tmp.drop('Full_Bath', axis = 1, inplace = True)"
   ]
  },
  {
   "cell_type": "code",
   "execution_count": 785,
   "id": "2fdd5d93-c0ad-4254-ab6b-2a0317155db6",
   "metadata": {},
   "outputs": [],
   "source": [
    "rst2 = smf.ols(formula = 'target~' + '+'.join(tmp.columns[:-1]), data = tmp).fit()\n",
    "# rst2.summary()"
   ]
  },
  {
   "cell_type": "markdown",
   "id": "2b202e4a-d1b1-4e35-9cd7-4271d20da93c",
   "metadata": {},
   "source": [
    "`-` Exter_Qual 변수의 p값이 가장 유의하지 않으니 제거"
   ]
  },
  {
   "cell_type": "code",
   "execution_count": 786,
   "id": "19957469-865e-4c04-a4c4-1c0be7b13f11",
   "metadata": {},
   "outputs": [],
   "source": [
    "tmp.drop('Exter_Qual', axis = 1, inplace = True)"
   ]
  },
  {
   "cell_type": "code",
   "execution_count": 787,
   "id": "88dc2727-f8b0-494b-8f67-7e86885a54b3",
   "metadata": {},
   "outputs": [],
   "source": [
    "rst3 = smf.ols(formula = 'target~' + '+'.join(tmp.columns[:-1]), data = tmp).fit()\n",
    "# rst3.summary()"
   ]
  },
  {
   "cell_type": "markdown",
   "id": "a204d378-d612-4fbd-ad41-84f7a2c0f0b9",
   "metadata": {},
   "source": [
    "`-` Garage_Cars 변수의 p값이 가장 유의하지 않으니 제거"
   ]
  },
  {
   "cell_type": "code",
   "execution_count": 788,
   "id": "af4c131a-c052-448d-9df1-571f0ab6a645",
   "metadata": {},
   "outputs": [],
   "source": [
    "tmp.drop('Garage_Cars', axis = 1, inplace = True)"
   ]
  },
  {
   "cell_type": "code",
   "execution_count": 789,
   "id": "3a832aa7-0ce4-4788-826b-5bbc995d1f51",
   "metadata": {},
   "outputs": [
    {
     "data": {
      "text/html": [
       "<table class=\"simpletable\">\n",
       "<caption>OLS Regression Results</caption>\n",
       "<tr>\n",
       "  <th>Dep. Variable:</th>         <td>target</td>      <th>  R-squared:         </th> <td>   0.855</td>\n",
       "</tr>\n",
       "<tr>\n",
       "  <th>Model:</th>                   <td>OLS</td>       <th>  Adj. R-squared:    </th> <td>   0.854</td>\n",
       "</tr>\n",
       "<tr>\n",
       "  <th>Method:</th>             <td>Least Squares</td>  <th>  F-statistic:       </th> <td>   895.5</td>\n",
       "</tr>\n",
       "<tr>\n",
       "  <th>Date:</th>             <td>Mon, 24 Jan 2022</td> <th>  Prob (F-statistic):</th>  <td>  0.00</td> \n",
       "</tr>\n",
       "<tr>\n",
       "  <th>Time:</th>                 <td>23:02:55</td>     <th>  Log-Likelihood:    </th> <td>  581.62</td>\n",
       "</tr>\n",
       "<tr>\n",
       "  <th>No. Observations:</th>      <td>  1072</td>      <th>  AIC:               </th> <td>  -1147.</td>\n",
       "</tr>\n",
       "<tr>\n",
       "  <th>Df Residuals:</th>          <td>  1064</td>      <th>  BIC:               </th> <td>  -1107.</td>\n",
       "</tr>\n",
       "<tr>\n",
       "  <th>Df Model:</th>              <td>     7</td>      <th>                     </th>     <td> </td>   \n",
       "</tr>\n",
       "<tr>\n",
       "  <th>Covariance Type:</th>      <td>nonrobust</td>    <th>                     </th>     <td> </td>   \n",
       "</tr>\n",
       "</table>\n",
       "<table class=\"simpletable\">\n",
       "<tr>\n",
       "        <td></td>           <th>coef</th>     <th>std err</th>      <th>t</th>      <th>P>|t|</th>  <th>[0.025</th>    <th>0.975]</th>  \n",
       "</tr>\n",
       "<tr>\n",
       "  <th>Intercept</th>     <td>   10.4642</td> <td>    0.022</td> <td>  477.262</td> <td> 0.000</td> <td>   10.421</td> <td>   10.507</td>\n",
       "</tr>\n",
       "<tr>\n",
       "  <th>Overall_Qual</th>  <td>    0.0811</td> <td>    0.006</td> <td>   14.438</td> <td> 0.000</td> <td>    0.070</td> <td>    0.092</td>\n",
       "</tr>\n",
       "<tr>\n",
       "  <th>Gr_Liv_Area</th>   <td>    0.0003</td> <td> 1.23e-05</td> <td>   20.641</td> <td> 0.000</td> <td>    0.000</td> <td>    0.000</td>\n",
       "</tr>\n",
       "<tr>\n",
       "  <th>Garage_Area</th>   <td>    0.0001</td> <td> 2.87e-05</td> <td>    5.025</td> <td> 0.000</td> <td>  8.8e-05</td> <td>    0.000</td>\n",
       "</tr>\n",
       "<tr>\n",
       "  <th>Kitchen_Qual</th>  <td>    0.0669</td> <td>    0.009</td> <td>    7.325</td> <td> 0.000</td> <td>    0.049</td> <td>    0.085</td>\n",
       "</tr>\n",
       "<tr>\n",
       "  <th>Total_Bsmt_SF</th> <td>    0.0001</td> <td> 2.41e-05</td> <td>    5.363</td> <td> 0.000</td> <td> 8.21e-05</td> <td>    0.000</td>\n",
       "</tr>\n",
       "<tr>\n",
       "  <th>first_Flr_SF</th>  <td> 7.197e-05</td> <td> 2.54e-05</td> <td>    2.830</td> <td> 0.005</td> <td> 2.21e-05</td> <td>    0.000</td>\n",
       "</tr>\n",
       "<tr>\n",
       "  <th>Bsmt_Qual</th>     <td>    0.0931</td> <td>    0.009</td> <td>   10.801</td> <td> 0.000</td> <td>    0.076</td> <td>    0.110</td>\n",
       "</tr>\n",
       "</table>\n",
       "<table class=\"simpletable\">\n",
       "<tr>\n",
       "  <th>Omnibus:</th>       <td>97.915</td> <th>  Durbin-Watson:     </th> <td>   2.042</td>\n",
       "</tr>\n",
       "<tr>\n",
       "  <th>Prob(Omnibus):</th> <td> 0.000</td> <th>  Jarque-Bera (JB):  </th> <td> 162.586</td>\n",
       "</tr>\n",
       "<tr>\n",
       "  <th>Skew:</th>          <td>-0.639</td> <th>  Prob(JB):          </th> <td>4.95e-36</td>\n",
       "</tr>\n",
       "<tr>\n",
       "  <th>Kurtosis:</th>      <td> 4.417</td> <th>  Cond. No.          </th> <td>1.19e+04</td>\n",
       "</tr>\n",
       "</table><br/><br/>Notes:<br/>[1] Standard Errors assume that the covariance matrix of the errors is correctly specified.<br/>[2] The condition number is large, 1.19e+04. This might indicate that there are<br/>strong multicollinearity or other numerical problems."
      ],
      "text/plain": [
       "<class 'statsmodels.iolib.summary.Summary'>\n",
       "\"\"\"\n",
       "                            OLS Regression Results                            \n",
       "==============================================================================\n",
       "Dep. Variable:                 target   R-squared:                       0.855\n",
       "Model:                            OLS   Adj. R-squared:                  0.854\n",
       "Method:                 Least Squares   F-statistic:                     895.5\n",
       "Date:                Mon, 24 Jan 2022   Prob (F-statistic):               0.00\n",
       "Time:                        23:02:55   Log-Likelihood:                 581.62\n",
       "No. Observations:                1072   AIC:                            -1147.\n",
       "Df Residuals:                    1064   BIC:                            -1107.\n",
       "Df Model:                           7                                         \n",
       "Covariance Type:            nonrobust                                         \n",
       "=================================================================================\n",
       "                    coef    std err          t      P>|t|      [0.025      0.975]\n",
       "---------------------------------------------------------------------------------\n",
       "Intercept        10.4642      0.022    477.262      0.000      10.421      10.507\n",
       "Overall_Qual      0.0811      0.006     14.438      0.000       0.070       0.092\n",
       "Gr_Liv_Area       0.0003   1.23e-05     20.641      0.000       0.000       0.000\n",
       "Garage_Area       0.0001   2.87e-05      5.025      0.000     8.8e-05       0.000\n",
       "Kitchen_Qual      0.0669      0.009      7.325      0.000       0.049       0.085\n",
       "Total_Bsmt_SF     0.0001   2.41e-05      5.363      0.000    8.21e-05       0.000\n",
       "first_Flr_SF   7.197e-05   2.54e-05      2.830      0.005    2.21e-05       0.000\n",
       "Bsmt_Qual         0.0931      0.009     10.801      0.000       0.076       0.110\n",
       "==============================================================================\n",
       "Omnibus:                       97.915   Durbin-Watson:                   2.042\n",
       "Prob(Omnibus):                  0.000   Jarque-Bera (JB):              162.586\n",
       "Skew:                          -0.639   Prob(JB):                     4.95e-36\n",
       "Kurtosis:                       4.417   Cond. No.                     1.19e+04\n",
       "==============================================================================\n",
       "\n",
       "Notes:\n",
       "[1] Standard Errors assume that the covariance matrix of the errors is correctly specified.\n",
       "[2] The condition number is large, 1.19e+04. This might indicate that there are\n",
       "strong multicollinearity or other numerical problems.\n",
       "\"\"\""
      ]
     },
     "execution_count": 789,
     "metadata": {},
     "output_type": "execute_result"
    }
   ],
   "source": [
    "rst4 = smf.ols(formula = 'target~' + '+'.join(tmp.columns[:-1]), data = tmp).fit()\n",
    "rst4.summary()"
   ]
  },
  {
   "cell_type": "markdown",
   "id": "0c3006f3-c45a-4ce9-9740-600128c59001",
   "metadata": {},
   "source": [
    "`-` 다중공선성이 있다는 메시지가 있는데 이는 표준화를 통해 해결할 수 있다(나중에 하자)"
   ]
  },
  {
   "cell_type": "markdown",
   "id": "c9f072f0-5e77-44db-80f7-d6b8a2a85699",
   "metadata": {},
   "source": [
    "`-` 더 이상 유의하지 않은 피쳐는 없으므로 최종 모형은 rst4이다"
   ]
  },
  {
   "cell_type": "markdown",
   "id": "19128d96-cf72-4eda-8ce2-c9b3bf594390",
   "metadata": {},
   "source": [
    "### 잔차의 정규성 확인"
   ]
  },
  {
   "cell_type": "code",
   "execution_count": 790,
   "id": "dd487625-5f08-45fa-a7ce-6e62d8b75013",
   "metadata": {},
   "outputs": [
    {
     "data": {
      "text/plain": [
       "<AxesSubplot:>"
      ]
     },
     "execution_count": 790,
     "metadata": {},
     "output_type": "execute_result"
    },
    {
     "data": {
      "image/png": "[encoded data removed]",
      "text/plain": [
       "<Figure size 432x288 with 1 Axes>"
      ]
     },
     "metadata": {
      "needs_background": "light"
     },
     "output_type": "display_data"
    }
   ],
   "source": [
    "rst4.resid.hist(bins = 30)"
   ]
  },
  {
   "cell_type": "code",
   "execution_count": 462,
   "id": "19f410c3-14e8-4537-ba87-f7306f1d0f4c",
   "metadata": {},
   "outputs": [
    {
     "data": {
      "text/plain": [
       "Text(0.5, 1.0, 'fitted vs residual')"
      ]
     },
     "execution_count": 462,
     "metadata": {},
     "output_type": "execute_result"
    },
    {
     "data": {
      "image/png": "[encoded data removed]",
      "text/plain": [
       "<Figure size 432x288 with 1 Axes>"
      ]
     },
     "metadata": {
      "needs_background": "light"
     },
     "output_type": "display_data"
    }
   ],
   "source": [
    "plt.plot(y_train, rst4.resid, '.k')\n",
    "plt.axhline(0, 0.0, 1.0, color = 'red')\n",
    "plt.title('fitted vs residual')"
   ]
  },
  {
   "cell_type": "markdown",
   "id": "26f86b10-8b54-4c62-bc1b-b24dfeaacf32",
   "metadata": {},
   "source": [
    "`-` 보면 문제가 있음(잔차가 정규분포를 안따름)\n",
    "\n",
    "`-` 애초에 집값의 분포가 오른쪽으로 꼬리가 매우 긴 분포였고\n",
    "\n",
    "`-` 로그 변환도 했지만 정규분포를 따르지 않았기에\n",
    "\n",
    "`-` 이 정도는 그냥 넘어가자(사실 그러면 안 될 것 같지만...)\n",
    "\n",
    "`-` 어떻게 해결할지 고민하자(독립 변수도 정규분포로 맞춰줘야 함)"
   ]
  },
  {
   "cell_type": "code",
   "execution_count": 508,
   "id": "9c085c50-2e98-45ca-adac-9053028a8156",
   "metadata": {},
   "outputs": [],
   "source": [
    "def NMAE(true, pred):\n",
    "    mae = np.mean(np.abs(true - pred))\n",
    "    score = mae / np.mean(np.abs(true))\n",
    "    return score"
   ]
  },
  {
   "cell_type": "code",
   "execution_count": 532,
   "id": "cda99ed1-8955-40eb-88c3-733f6a00bc75",
   "metadata": {},
   "outputs": [
    {
     "data": {
      "text/plain": [
       "0.10197978889761221"
      ]
     },
     "execution_count": 532,
     "metadata": {},
     "output_type": "execute_result"
    }
   ],
   "source": [
    "## target을 로그 변환 했으므로 원래의 상태로 되돌리기 위해 exp를 취한다\n",
    "NMAE(np.exp(y_train), np.exp(rst4.predict(x_train.drop(['Full_Bath', 'Exter_Qual', 'Garage_Cars'],  axis = 1))))"
   ]
  },
  {
   "cell_type": "markdown",
   "id": "4b1d4829-dfc6-4433-ab7f-0a19a88efe1b",
   "metadata": {},
   "source": [
    "`-` train 셋에 대한 NAME는 약 $0.1020$이다"
   ]
  },
  {
   "cell_type": "code",
   "execution_count": 528,
   "id": "66e4b121-281f-435f-9da7-3cf7db4236ef",
   "metadata": {},
   "outputs": [
    {
     "data": {
      "text/plain": [
       "0.08682483720006832"
      ]
     },
     "execution_count": 528,
     "metadata": {},
     "output_type": "execute_result"
    }
   ],
   "source": [
    "## target을 로그 변환 했으므로 원래의 상태로 되돌리기 위해 exp를 취한다\n",
    "NMAE(y_valid, np.exp(rst4.predict(x_valid.drop(['Full_Bath', 'Exter_Qual', 'Garage_Cars'],  axis = 1))))"
   ]
  },
  {
   "cell_type": "markdown",
   "id": "517a5025-783e-4acf-899c-a6c341017879",
   "metadata": {},
   "source": [
    "`-` valid 셋에 대한 NMAE는 약 $0.0868$이다"
   ]
  },
  {
   "cell_type": "markdown",
   "id": "00c33dab-aced-4f3e-b660-9868dc1a1538",
   "metadata": {},
   "source": [
    "### test 예측"
   ]
  },
  {
   "cell_type": "code",
   "execution_count": 563,
   "id": "5ec8a49b-f3b3-4a8e-86c1-147f4767aa60",
   "metadata": {},
   "outputs": [],
   "source": [
    "submission = pd.read_csv('C:/Users/Jaesu/github_desktop/Dacon-Basic/집값-예측/Data/sample_submission.csv')"
   ]
  },
  {
   "cell_type": "markdown",
   "id": "4841a249-ffc2-483a-b4fe-c1fc5aa7df33",
   "metadata": {},
   "source": [
    "`-` test 데이터에 대해 라벨인코딩을 해주자"
   ]
  },
  {
   "cell_type": "code",
   "execution_count": 520,
   "id": "1fa931ac-0195-40bf-a388-eaf387d47196",
   "metadata": {},
   "outputs": [],
   "source": [
    "for col in test.columns[test.dtypes == 'object']:\n",
    "    test[col] = test[col].apply(lambda x: label_encoding(x))"
   ]
  },
  {
   "cell_type": "code",
   "execution_count": 534,
   "id": "2fdb013a-075d-4b50-87b0-51c439c4ef4c",
   "metadata": {},
   "outputs": [
    {
     "data": {
      "text/html": [
       "<div>\n",
       "<style scoped>\n",
       "    .dataframe tbody tr th:only-of-type {\n",
       "        vertical-align: middle;\n",
       "    }\n",
       "\n",
       "    .dataframe tbody tr th {\n",
       "        vertical-align: top;\n",
       "    }\n",
       "\n",
       "    .dataframe thead th {\n",
       "        text-align: right;\n",
       "    }\n",
       "</style>\n",
       "<table border=\"1\" class=\"dataframe\">\n",
       "  <thead>\n",
       "    <tr style=\"text-align: right;\">\n",
       "      <th></th>\n",
       "      <th>Overall_Qual</th>\n",
       "      <th>Gr_Liv_Area</th>\n",
       "      <th>Exter_Qual</th>\n",
       "      <th>Garage_Cars</th>\n",
       "      <th>Garage_Area</th>\n",
       "      <th>Kitchen_Qual</th>\n",
       "      <th>Total_Bsmt_SF</th>\n",
       "      <th>first_Flr_SF</th>\n",
       "      <th>Bsmt_Qual</th>\n",
       "      <th>Full_Bath</th>\n",
       "      <th>Year_Built</th>\n",
       "      <th>Year_Remod_Add</th>\n",
       "      <th>Garage_Yr_Blt</th>\n",
       "    </tr>\n",
       "  </thead>\n",
       "  <tbody>\n",
       "    <tr>\n",
       "      <th>0</th>\n",
       "      <td>9</td>\n",
       "      <td>1800</td>\n",
       "      <td>3</td>\n",
       "      <td>2</td>\n",
       "      <td>702</td>\n",
       "      <td>4</td>\n",
       "      <td>1800</td>\n",
       "      <td>1800</td>\n",
       "      <td>4</td>\n",
       "      <td>2</td>\n",
       "      <td>2007</td>\n",
       "      <td>2007</td>\n",
       "      <td>2007</td>\n",
       "    </tr>\n",
       "    <tr>\n",
       "      <th>1</th>\n",
       "      <td>6</td>\n",
       "      <td>1082</td>\n",
       "      <td>2</td>\n",
       "      <td>1</td>\n",
       "      <td>240</td>\n",
       "      <td>2</td>\n",
       "      <td>1082</td>\n",
       "      <td>1082</td>\n",
       "      <td>2</td>\n",
       "      <td>1</td>\n",
       "      <td>1948</td>\n",
       "      <td>1950</td>\n",
       "      <td>1948</td>\n",
       "    </tr>\n",
       "    <tr>\n",
       "      <th>2</th>\n",
       "      <td>6</td>\n",
       "      <td>1573</td>\n",
       "      <td>3</td>\n",
       "      <td>2</td>\n",
       "      <td>440</td>\n",
       "      <td>3</td>\n",
       "      <td>756</td>\n",
       "      <td>769</td>\n",
       "      <td>3</td>\n",
       "      <td>2</td>\n",
       "      <td>2000</td>\n",
       "      <td>2000</td>\n",
       "      <td>2000</td>\n",
       "    </tr>\n",
       "    <tr>\n",
       "      <th>3</th>\n",
       "      <td>6</td>\n",
       "      <td>2443</td>\n",
       "      <td>3</td>\n",
       "      <td>3</td>\n",
       "      <td>744</td>\n",
       "      <td>3</td>\n",
       "      <td>1158</td>\n",
       "      <td>1158</td>\n",
       "      <td>3</td>\n",
       "      <td>2</td>\n",
       "      <td>2004</td>\n",
       "      <td>2004</td>\n",
       "      <td>2004</td>\n",
       "    </tr>\n",
       "    <tr>\n",
       "      <th>4</th>\n",
       "      <td>5</td>\n",
       "      <td>1040</td>\n",
       "      <td>2</td>\n",
       "      <td>2</td>\n",
       "      <td>686</td>\n",
       "      <td>2</td>\n",
       "      <td>1040</td>\n",
       "      <td>1040</td>\n",
       "      <td>2</td>\n",
       "      <td>1</td>\n",
       "      <td>1968</td>\n",
       "      <td>1968</td>\n",
       "      <td>1991</td>\n",
       "    </tr>\n",
       "  </tbody>\n",
       "</table>\n",
       "</div>"
      ],
      "text/plain": [
       "   Overall_Qual  Gr_Liv_Area  Exter_Qual  Garage_Cars  Garage_Area  \\\n",
       "0             9         1800           3            2          702   \n",
       "1             6         1082           2            1          240   \n",
       "2             6         1573           3            2          440   \n",
       "3             6         2443           3            3          744   \n",
       "4             5         1040           2            2          686   \n",
       "\n",
       "   Kitchen_Qual  Total_Bsmt_SF  first_Flr_SF  Bsmt_Qual  Full_Bath  \\\n",
       "0             4           1800          1800          4          2   \n",
       "1             2           1082          1082          2          1   \n",
       "2             3            756           769          3          2   \n",
       "3             3           1158          1158          3          2   \n",
       "4             2           1040          1040          2          1   \n",
       "\n",
       "   Year_Built  Year_Remod_Add  Garage_Yr_Blt  \n",
       "0        2007            2007           2007  \n",
       "1        1948            1950           1948  \n",
       "2        2000            2000           2000  \n",
       "3        2004            2004           2004  \n",
       "4        1968            1968           1991  "
      ]
     },
     "execution_count": 534,
     "metadata": {},
     "output_type": "execute_result"
    }
   ],
   "source": [
    "test.head()"
   ]
  },
  {
   "cell_type": "markdown",
   "id": "9a309aab-34b0-4329-a2f8-421abf7bad02",
   "metadata": {},
   "source": [
    "`-` 모델을 만들자"
   ]
  },
  {
   "cell_type": "code",
   "execution_count": 560,
   "id": "6496f2bc-823d-40e1-80ff-a070cb8cfbb0",
   "metadata": {},
   "outputs": [
    {
     "data": {
      "text/html": [
       "<table class=\"simpletable\">\n",
       "<caption>OLS Regression Results</caption>\n",
       "<tr>\n",
       "  <th>Dep. Variable:</th>         <td>target</td>      <th>  R-squared:         </th> <td>   0.856</td>\n",
       "</tr>\n",
       "<tr>\n",
       "  <th>Model:</th>                   <td>OLS</td>       <th>  Adj. R-squared:    </th> <td>   0.855</td>\n",
       "</tr>\n",
       "<tr>\n",
       "  <th>Method:</th>             <td>Least Squares</td>  <th>  F-statistic:       </th> <td>   1132.</td>\n",
       "</tr>\n",
       "<tr>\n",
       "  <th>Date:</th>             <td>Mon, 24 Jan 2022</td> <th>  Prob (F-statistic):</th>  <td>  0.00</td> \n",
       "</tr>\n",
       "<tr>\n",
       "  <th>Time:</th>                 <td>17:55:38</td>     <th>  Log-Likelihood:    </th> <td>  747.79</td>\n",
       "</tr>\n",
       "<tr>\n",
       "  <th>No. Observations:</th>      <td>  1341</td>      <th>  AIC:               </th> <td>  -1480.</td>\n",
       "</tr>\n",
       "<tr>\n",
       "  <th>Df Residuals:</th>          <td>  1333</td>      <th>  BIC:               </th> <td>  -1438.</td>\n",
       "</tr>\n",
       "<tr>\n",
       "  <th>Df Model:</th>              <td>     7</td>      <th>                     </th>     <td> </td>   \n",
       "</tr>\n",
       "<tr>\n",
       "  <th>Covariance Type:</th>      <td>nonrobust</td>    <th>                     </th>     <td> </td>   \n",
       "</tr>\n",
       "</table>\n",
       "<table class=\"simpletable\">\n",
       "<tr>\n",
       "        <td></td>           <th>coef</th>     <th>std err</th>      <th>t</th>      <th>P>|t|</th>  <th>[0.025</th>    <th>0.975]</th>  \n",
       "</tr>\n",
       "<tr>\n",
       "  <th>Intercept</th>     <td>   10.4640</td> <td>    0.019</td> <td>  538.646</td> <td> 0.000</td> <td>   10.426</td> <td>   10.502</td>\n",
       "</tr>\n",
       "<tr>\n",
       "  <th>Overall_Qual</th>  <td>    0.0826</td> <td>    0.005</td> <td>   16.741</td> <td> 0.000</td> <td>    0.073</td> <td>    0.092</td>\n",
       "</tr>\n",
       "<tr>\n",
       "  <th>Gr_Liv_Area</th>   <td>    0.0002</td> <td> 1.08e-05</td> <td>   22.496</td> <td> 0.000</td> <td>    0.000</td> <td>    0.000</td>\n",
       "</tr>\n",
       "<tr>\n",
       "  <th>Garage_Area</th>   <td>    0.0001</td> <td> 2.56e-05</td> <td>    5.791</td> <td> 0.000</td> <td> 9.79e-05</td> <td>    0.000</td>\n",
       "</tr>\n",
       "<tr>\n",
       "  <th>Kitchen_Qual</th>  <td>    0.0681</td> <td>    0.008</td> <td>    8.460</td> <td> 0.000</td> <td>    0.052</td> <td>    0.084</td>\n",
       "</tr>\n",
       "<tr>\n",
       "  <th>Total_Bsmt_SF</th> <td>    0.0001</td> <td> 2.15e-05</td> <td>    6.744</td> <td> 0.000</td> <td>    0.000</td> <td>    0.000</td>\n",
       "</tr>\n",
       "<tr>\n",
       "  <th>first_Flr_SF</th>  <td> 6.036e-05</td> <td> 2.21e-05</td> <td>    2.727</td> <td> 0.006</td> <td> 1.69e-05</td> <td>    0.000</td>\n",
       "</tr>\n",
       "<tr>\n",
       "  <th>Bsmt_Qual</th>     <td>    0.0921</td> <td>    0.008</td> <td>   11.796</td> <td> 0.000</td> <td>    0.077</td> <td>    0.107</td>\n",
       "</tr>\n",
       "</table>\n",
       "<table class=\"simpletable\">\n",
       "<tr>\n",
       "  <th>Omnibus:</th>       <td>155.305</td> <th>  Durbin-Watson:     </th> <td>   2.037</td>\n",
       "</tr>\n",
       "<tr>\n",
       "  <th>Prob(Omnibus):</th> <td> 0.000</td>  <th>  Jarque-Bera (JB):  </th> <td> 300.434</td>\n",
       "</tr>\n",
       "<tr>\n",
       "  <th>Skew:</th>          <td>-0.726</td>  <th>  Prob(JB):          </th> <td>5.78e-66</td>\n",
       "</tr>\n",
       "<tr>\n",
       "  <th>Kurtosis:</th>      <td> 4.808</td>  <th>  Cond. No.          </th> <td>1.20e+04</td>\n",
       "</tr>\n",
       "</table><br/><br/>Notes:<br/>[1] Standard Errors assume that the covariance matrix of the errors is correctly specified.<br/>[2] The condition number is large, 1.2e+04. This might indicate that there are<br/>strong multicollinearity or other numerical problems."
      ],
      "text/plain": [
       "<class 'statsmodels.iolib.summary.Summary'>\n",
       "\"\"\"\n",
       "                            OLS Regression Results                            \n",
       "==============================================================================\n",
       "Dep. Variable:                 target   R-squared:                       0.856\n",
       "Model:                            OLS   Adj. R-squared:                  0.855\n",
       "Method:                 Least Squares   F-statistic:                     1132.\n",
       "Date:                Mon, 24 Jan 2022   Prob (F-statistic):               0.00\n",
       "Time:                        17:55:38   Log-Likelihood:                 747.79\n",
       "No. Observations:                1341   AIC:                            -1480.\n",
       "Df Residuals:                    1333   BIC:                            -1438.\n",
       "Df Model:                           7                                         \n",
       "Covariance Type:            nonrobust                                         \n",
       "=================================================================================\n",
       "                    coef    std err          t      P>|t|      [0.025      0.975]\n",
       "---------------------------------------------------------------------------------\n",
       "Intercept        10.4640      0.019    538.646      0.000      10.426      10.502\n",
       "Overall_Qual      0.0826      0.005     16.741      0.000       0.073       0.092\n",
       "Gr_Liv_Area       0.0002   1.08e-05     22.496      0.000       0.000       0.000\n",
       "Garage_Area       0.0001   2.56e-05      5.791      0.000    9.79e-05       0.000\n",
       "Kitchen_Qual      0.0681      0.008      8.460      0.000       0.052       0.084\n",
       "Total_Bsmt_SF     0.0001   2.15e-05      6.744      0.000       0.000       0.000\n",
       "first_Flr_SF   6.036e-05   2.21e-05      2.727      0.006    1.69e-05       0.000\n",
       "Bsmt_Qual         0.0921      0.008     11.796      0.000       0.077       0.107\n",
       "==============================================================================\n",
       "Omnibus:                      155.305   Durbin-Watson:                   2.037\n",
       "Prob(Omnibus):                  0.000   Jarque-Bera (JB):              300.434\n",
       "Skew:                          -0.726   Prob(JB):                     5.78e-66\n",
       "Kurtosis:                       4.808   Cond. No.                     1.20e+04\n",
       "==============================================================================\n",
       "\n",
       "Notes:\n",
       "[1] Standard Errors assume that the covariance matrix of the errors is correctly specified.\n",
       "[2] The condition number is large, 1.2e+04. This might indicate that there are\n",
       "strong multicollinearity or other numerical problems.\n",
       "\"\"\""
      ]
     },
     "execution_count": 560,
     "metadata": {},
     "output_type": "execute_result"
    }
   ],
   "source": [
    "model = smf.ols(formula = 'target~' + '+'.join(dt.drop(['Full_Bath', 'Exter_Qual', 'Garage_Cars'],  axis = 1).columns),\n",
    "                data = pd.concat([dt.drop(['Full_Bath', 'Exter_Qual', 'Garage_Cars'],  axis = 1), np.log(target)], axis = 1)).fit()\n",
    "model.summary()"
   ]
  },
  {
   "cell_type": "markdown",
   "id": "e50dc3e4-71cf-4e4e-a3dc-fd0ee4b5076e",
   "metadata": {},
   "source": [
    "`-` 이제 예측하자"
   ]
  },
  {
   "cell_type": "code",
   "execution_count": 578,
   "id": "3debae50-f006-4506-b9f8-7769e6f68b91",
   "metadata": {},
   "outputs": [
    {
     "data": {
      "text/html": [
       "<div>\n",
       "<style scoped>\n",
       "    .dataframe tbody tr th:only-of-type {\n",
       "        vertical-align: middle;\n",
       "    }\n",
       "\n",
       "    .dataframe tbody tr th {\n",
       "        vertical-align: top;\n",
       "    }\n",
       "\n",
       "    .dataframe thead th {\n",
       "        text-align: right;\n",
       "    }\n",
       "</style>\n",
       "<table border=\"1\" class=\"dataframe\">\n",
       "  <thead>\n",
       "    <tr style=\"text-align: right;\">\n",
       "      <th></th>\n",
       "      <th>id</th>\n",
       "      <th>target</th>\n",
       "    </tr>\n",
       "  </thead>\n",
       "  <tbody>\n",
       "    <tr>\n",
       "      <th>0</th>\n",
       "      <td>1</td>\n",
       "      <td>348354.056444</td>\n",
       "    </tr>\n",
       "    <tr>\n",
       "      <th>1</th>\n",
       "      <td>2</td>\n",
       "      <td>133485.003772</td>\n",
       "    </tr>\n",
       "    <tr>\n",
       "      <th>2</th>\n",
       "      <td>3</td>\n",
       "      <td>170258.092173</td>\n",
       "    </tr>\n",
       "    <tr>\n",
       "      <th>3</th>\n",
       "      <td>4</td>\n",
       "      <td>239000.266354</td>\n",
       "    </tr>\n",
       "    <tr>\n",
       "      <th>4</th>\n",
       "      <td>5</td>\n",
       "      <td>128839.067660</td>\n",
       "    </tr>\n",
       "  </tbody>\n",
       "</table>\n",
       "</div>"
      ],
      "text/plain": [
       "   id         target\n",
       "0   1  348354.056444\n",
       "1   2  133485.003772\n",
       "2   3  170258.092173\n",
       "3   4  239000.266354\n",
       "4   5  128839.067660"
      ]
     },
     "execution_count": 578,
     "metadata": {},
     "output_type": "execute_result"
    }
   ],
   "source": [
    "## 위에서 구한 예측값을 그대로 넣어줌\n",
    "submission['target'] = np.exp(model.predict(test))\n",
    "\n",
    "## 데이터가 잘 들어갔는지 확인\n",
    "submission.head()"
   ]
  },
  {
   "cell_type": "code",
   "execution_count": 582,
   "id": "1930c41e-6bb4-48e2-9d24-29d2f919f6fc",
   "metadata": {},
   "outputs": [],
   "source": [
    "## submission을 csv 파일로 저장\n",
    "submission.to_csv('C:/Users/Jaesu/github_desktop/Dacon-Basic/집값-예측/Data/submission1.csv', index = False)"
   ]
  },
  {
   "cell_type": "markdown",
   "id": "e86d908c-5c12-4b6d-b656-a537f77e7a9d",
   "metadata": {},
   "source": [
    "`-` 반올림을 일의 자리에서 한 것과 하지 않은 것을 제출해봤는데 거의 비슷했다(한 것이 좋았음)\n",
    "\n",
    "`-` 반올림 한 것의 점수는 $0.1135657683$\n",
    "\n",
    "`-` train과 valid의 NMAE에 비해 더 높게 나왔는데 이는 잔차항을 살펴봤을 때 정규성을 띄지 않아\n",
    "\n",
    "`-` 일반화 성능이 떨어진 것이 드러난 것이다"
   ]
  },
  {
   "cell_type": "markdown",
   "id": "2537fbdd-38f4-4faf-811e-23814da4543f",
   "metadata": {},
   "source": [
    "## 규제 선형 회귀(스케일링)"
   ]
  },
  {
   "cell_type": "markdown",
   "id": "ea3d7a04-05e9-4cb4-9ba5-1da144263188",
   "metadata": {},
   "source": [
    "`-` 변수 선택에서 차이점이 있다\n",
    "\n",
    "`-` 또한 회귀 계수의 중요성을 판단하고자 표준화도 하겠다"
   ]
  },
  {
   "cell_type": "code",
   "execution_count": 1288,
   "id": "e655611a-7e15-4ae7-b797-f0bf59875d77",
   "metadata": {},
   "outputs": [],
   "source": [
    "dt = df2.copy()"
   ]
  },
  {
   "cell_type": "markdown",
   "id": "849af702-6fa2-4721-9506-285d1826fc8f",
   "metadata": {},
   "source": [
    "`-` EDA를 했을 땐 연도가 의미있는 변수가 아니어서 모델링에 사용하지 않겠다"
   ]
  },
  {
   "cell_type": "code",
   "execution_count": 1289,
   "id": "3f9aa1ba-69a7-4ce4-8443-0747ed6f5e77",
   "metadata": {},
   "outputs": [],
   "source": [
    "target = dt['target']  ## target\n",
    "dt = dt.iloc[:, :-1]   ## target 제외한 데이터프레임"
   ]
  },
  {
   "cell_type": "code",
   "execution_count": 1290,
   "id": "0e6d73c0-86d9-4c38-bd13-4b6994c42832",
   "metadata": {},
   "outputs": [],
   "source": [
    "dt['gap_year_now_bulit'] = 2022 - dt['Year_Built']"
   ]
  },
  {
   "cell_type": "code",
   "execution_count": 1291,
   "id": "47339324-4399-4919-9712-8f50c9bafa32",
   "metadata": {},
   "outputs": [],
   "source": [
    "dt.drop(['Year_Built', 'Year_Remod_Add', 'Garage_Yr_Blt'], axis = 1, inplace = True)"
   ]
  },
  {
   "cell_type": "markdown",
   "id": "18db75e1-5931-4297-9e83-a47c67efe027",
   "metadata": {},
   "source": [
    "`-` 이제 표준화를 해주자\n",
    "\n",
    "`-` 그런데 독립 변수나 종속 변수나 이상점이 적지 않게 있었기에 로버스트 스케일링을 하겠다\n",
    "\n",
    "`-` 일반적인 z-score 표준화도 하자(그리고 둘이 비교하자)"
   ]
  },
  {
   "cell_type": "code",
   "execution_count": 1292,
   "id": "46f04070-25d2-4846-b4b6-0fe4e3ce46d8",
   "metadata": {},
   "outputs": [],
   "source": [
    "from sklearn.preprocessing import RobustScaler, StandardScaler"
   ]
  },
  {
   "cell_type": "code",
   "execution_count": 1293,
   "id": "8d9ced39-b9d7-4430-a279-0d828b2538bf",
   "metadata": {},
   "outputs": [],
   "source": [
    "## 표준화, 로버스트 스케일러 생성\n",
    "standard_scaler = StandardScaler()\n",
    "robust_scaler = RobustScaler()\n",
    "\n",
    "## 표준화\n",
    "dt_scaled = standard_scaler.fit_transform(dt)\n",
    "dt_scaled_df = pd.DataFrame(data = dt_scaled, columns = dt.columns)\n",
    "\n",
    "## 로버스트 표준화\n",
    "dt_robust = robust_scaler.fit_transform(dt)\n",
    "dt_robust_df = pd.DataFrame(data = dt_robust, columns = dt.columns)"
   ]
  },
  {
   "cell_type": "markdown",
   "id": "42adaaa0-3b8c-4ac5-88b1-2b9d174dfec1",
   "metadata": {},
   "source": [
    "`-` Quality 관련 변수의 경우 Overall Quality가 대표성을 지니므로 Overall_Qual 변수만 사용하겠다(별로 였음)"
   ]
  },
  {
   "cell_type": "code",
   "execution_count": 1294,
   "id": "bb90480a-5b5e-4d3f-9622-48dde30a0eb2",
   "metadata": {},
   "outputs": [],
   "source": [
    "dt_scaled_df2 = dt_scaled_df.drop(['Exter_Qual', 'Kitchen_Qual', 'Bsmt_Qual'], axis = 1)\n",
    "dt_robust_df2 = dt_robust_df.drop(['Exter_Qual', 'Kitchen_Qual', 'Bsmt_Qual'], axis = 1)"
   ]
  },
  {
   "cell_type": "code",
   "execution_count": 1295,
   "id": "67c0a85b-27e4-4dd1-891a-d6a1045a0160",
   "metadata": {},
   "outputs": [
    {
     "data": {
      "text/html": [
       "<div>\n",
       "<style scoped>\n",
       "    .dataframe tbody tr th:only-of-type {\n",
       "        vertical-align: middle;\n",
       "    }\n",
       "\n",
       "    .dataframe tbody tr th {\n",
       "        vertical-align: top;\n",
       "    }\n",
       "\n",
       "    .dataframe thead th {\n",
       "        text-align: right;\n",
       "    }\n",
       "</style>\n",
       "<table border=\"1\" class=\"dataframe\">\n",
       "  <thead>\n",
       "    <tr style=\"text-align: right;\">\n",
       "      <th></th>\n",
       "      <th>Overall_Qual</th>\n",
       "      <th>Gr_Liv_Area</th>\n",
       "      <th>Exter_Qual</th>\n",
       "      <th>Garage_Cars</th>\n",
       "      <th>Garage_Area</th>\n",
       "      <th>Kitchen_Qual</th>\n",
       "      <th>Total_Bsmt_SF</th>\n",
       "      <th>first_Flr_SF</th>\n",
       "      <th>Bsmt_Qual</th>\n",
       "      <th>Full_Bath</th>\n",
       "      <th>gap_year_now_bulit</th>\n",
       "    </tr>\n",
       "  </thead>\n",
       "  <tbody>\n",
       "    <tr>\n",
       "      <th>0</th>\n",
       "      <td>2.937740</td>\n",
       "      <td>1.896548</td>\n",
       "      <td>2.802392</td>\n",
       "      <td>1.756527</td>\n",
       "      <td>2.485555</td>\n",
       "      <td>2.221963</td>\n",
       "      <td>3.532560</td>\n",
       "      <td>3.363828</td>\n",
       "      <td>2.034867</td>\n",
       "      <td>0.810179</td>\n",
       "      <td>-1.028350</td>\n",
       "    </tr>\n",
       "    <tr>\n",
       "      <th>1</th>\n",
       "      <td>0.618930</td>\n",
       "      <td>-0.328625</td>\n",
       "      <td>1.027544</td>\n",
       "      <td>0.209387</td>\n",
       "      <td>-0.180035</td>\n",
       "      <td>0.687586</td>\n",
       "      <td>0.739221</td>\n",
       "      <td>0.519605</td>\n",
       "      <td>2.034867</td>\n",
       "      <td>0.810179</td>\n",
       "      <td>-1.131557</td>\n",
       "    </tr>\n",
       "    <tr>\n",
       "      <th>2</th>\n",
       "      <td>-0.926943</td>\n",
       "      <td>-1.295719</td>\n",
       "      <td>-0.747305</td>\n",
       "      <td>-1.337752</td>\n",
       "      <td>-1.125204</td>\n",
       "      <td>-0.846792</td>\n",
       "      <td>-0.571500</td>\n",
       "      <td>-0.716538</td>\n",
       "      <td>-0.879913</td>\n",
       "      <td>-1.022368</td>\n",
       "      <td>0.210140</td>\n",
       "    </tr>\n",
       "    <tr>\n",
       "      <th>3</th>\n",
       "      <td>-0.926943</td>\n",
       "      <td>-0.709472</td>\n",
       "      <td>-0.747305</td>\n",
       "      <td>0.209387</td>\n",
       "      <td>0.404059</td>\n",
       "      <td>0.687586</td>\n",
       "      <td>-1.065706</td>\n",
       "      <td>-1.318200</td>\n",
       "      <td>-0.879913</td>\n",
       "      <td>-1.022368</td>\n",
       "      <td>2.515106</td>\n",
       "    </tr>\n",
       "    <tr>\n",
       "      <th>4</th>\n",
       "      <td>0.618930</td>\n",
       "      <td>0.967966</td>\n",
       "      <td>1.027544</td>\n",
       "      <td>1.756527</td>\n",
       "      <td>2.315637</td>\n",
       "      <td>0.687586</td>\n",
       "      <td>-0.136383</td>\n",
       "      <td>-0.371949</td>\n",
       "      <td>0.577477</td>\n",
       "      <td>0.810179</td>\n",
       "      <td>-1.097155</td>\n",
       "    </tr>\n",
       "  </tbody>\n",
       "</table>\n",
       "</div>"
      ],
      "text/plain": [
       "   Overall_Qual  Gr_Liv_Area  Exter_Qual  Garage_Cars  Garage_Area  \\\n",
       "0      2.937740     1.896548    2.802392     1.756527     2.485555   \n",
       "1      0.618930    -0.328625    1.027544     0.209387    -0.180035   \n",
       "2     -0.926943    -1.295719   -0.747305    -1.337752    -1.125204   \n",
       "3     -0.926943    -0.709472   -0.747305     0.209387     0.404059   \n",
       "4      0.618930     0.967966    1.027544     1.756527     2.315637   \n",
       "\n",
       "   Kitchen_Qual  Total_Bsmt_SF  first_Flr_SF  Bsmt_Qual  Full_Bath  \\\n",
       "0      2.221963       3.532560      3.363828   2.034867   0.810179   \n",
       "1      0.687586       0.739221      0.519605   2.034867   0.810179   \n",
       "2     -0.846792      -0.571500     -0.716538  -0.879913  -1.022368   \n",
       "3      0.687586      -1.065706     -1.318200  -0.879913  -1.022368   \n",
       "4      0.687586      -0.136383     -0.371949   0.577477   0.810179   \n",
       "\n",
       "   gap_year_now_bulit  \n",
       "0           -1.028350  \n",
       "1           -1.131557  \n",
       "2            0.210140  \n",
       "3            2.515106  \n",
       "4           -1.097155  "
      ]
     },
     "execution_count": 1295,
     "metadata": {},
     "output_type": "execute_result"
    }
   ],
   "source": [
    "dt_scaled_df.head()"
   ]
  },
  {
   "cell_type": "code",
   "execution_count": 1296,
   "id": "2522fede-5393-45e2-98ab-a1c9efd61090",
   "metadata": {},
   "outputs": [
    {
     "data": {
      "text/html": [
       "<div>\n",
       "<style scoped>\n",
       "    .dataframe tbody tr th:only-of-type {\n",
       "        vertical-align: middle;\n",
       "    }\n",
       "\n",
       "    .dataframe tbody tr th {\n",
       "        vertical-align: top;\n",
       "    }\n",
       "\n",
       "    .dataframe thead th {\n",
       "        text-align: right;\n",
       "    }\n",
       "</style>\n",
       "<table border=\"1\" class=\"dataframe\">\n",
       "  <thead>\n",
       "    <tr style=\"text-align: right;\">\n",
       "      <th></th>\n",
       "      <th>Overall_Qual</th>\n",
       "      <th>Gr_Liv_Area</th>\n",
       "      <th>Exter_Qual</th>\n",
       "      <th>Garage_Cars</th>\n",
       "      <th>Garage_Area</th>\n",
       "      <th>Kitchen_Qual</th>\n",
       "      <th>Total_Bsmt_SF</th>\n",
       "      <th>first_Flr_SF</th>\n",
       "      <th>Bsmt_Qual</th>\n",
       "      <th>Full_Bath</th>\n",
       "      <th>gap_year_now_bulit</th>\n",
       "    </tr>\n",
       "  </thead>\n",
       "  <tbody>\n",
       "    <tr>\n",
       "      <th>0</th>\n",
       "      <td>2.0</td>\n",
       "      <td>1.522053</td>\n",
       "      <td>2.0</td>\n",
       "      <td>1.0</td>\n",
       "      <td>2.245940</td>\n",
       "      <td>2.0</td>\n",
       "      <td>2.846272</td>\n",
       "      <td>2.587065</td>\n",
       "      <td>1.0</td>\n",
       "      <td>0.0</td>\n",
       "      <td>-0.600000</td>\n",
       "    </tr>\n",
       "    <tr>\n",
       "      <th>1</th>\n",
       "      <td>0.5</td>\n",
       "      <td>-0.145950</td>\n",
       "      <td>1.0</td>\n",
       "      <td>0.0</td>\n",
       "      <td>-0.083527</td>\n",
       "      <td>1.0</td>\n",
       "      <td>0.707455</td>\n",
       "      <td>0.517413</td>\n",
       "      <td>1.0</td>\n",
       "      <td>0.0</td>\n",
       "      <td>-0.666667</td>\n",
       "    </tr>\n",
       "    <tr>\n",
       "      <th>2</th>\n",
       "      <td>-0.5</td>\n",
       "      <td>-0.870890</td>\n",
       "      <td>0.0</td>\n",
       "      <td>-1.0</td>\n",
       "      <td>-0.909513</td>\n",
       "      <td>0.0</td>\n",
       "      <td>-0.296144</td>\n",
       "      <td>-0.382090</td>\n",
       "      <td>-1.0</td>\n",
       "      <td>-1.0</td>\n",
       "      <td>0.200000</td>\n",
       "    </tr>\n",
       "    <tr>\n",
       "      <th>3</th>\n",
       "      <td>-0.5</td>\n",
       "      <td>-0.431435</td>\n",
       "      <td>0.0</td>\n",
       "      <td>0.0</td>\n",
       "      <td>0.426914</td>\n",
       "      <td>1.0</td>\n",
       "      <td>-0.674550</td>\n",
       "      <td>-0.819900</td>\n",
       "      <td>-1.0</td>\n",
       "      <td>-1.0</td>\n",
       "      <td>1.688889</td>\n",
       "    </tr>\n",
       "    <tr>\n",
       "      <th>4</th>\n",
       "      <td>0.5</td>\n",
       "      <td>0.825982</td>\n",
       "      <td>1.0</td>\n",
       "      <td>1.0</td>\n",
       "      <td>2.097448</td>\n",
       "      <td>1.0</td>\n",
       "      <td>0.037018</td>\n",
       "      <td>-0.131343</td>\n",
       "      <td>0.0</td>\n",
       "      <td>0.0</td>\n",
       "      <td>-0.644444</td>\n",
       "    </tr>\n",
       "  </tbody>\n",
       "</table>\n",
       "</div>"
      ],
      "text/plain": [
       "   Overall_Qual  Gr_Liv_Area  Exter_Qual  Garage_Cars  Garage_Area  \\\n",
       "0           2.0     1.522053         2.0          1.0     2.245940   \n",
       "1           0.5    -0.145950         1.0          0.0    -0.083527   \n",
       "2          -0.5    -0.870890         0.0         -1.0    -0.909513   \n",
       "3          -0.5    -0.431435         0.0          0.0     0.426914   \n",
       "4           0.5     0.825982         1.0          1.0     2.097448   \n",
       "\n",
       "   Kitchen_Qual  Total_Bsmt_SF  first_Flr_SF  Bsmt_Qual  Full_Bath  \\\n",
       "0           2.0       2.846272      2.587065        1.0        0.0   \n",
       "1           1.0       0.707455      0.517413        1.0        0.0   \n",
       "2           0.0      -0.296144     -0.382090       -1.0       -1.0   \n",
       "3           1.0      -0.674550     -0.819900       -1.0       -1.0   \n",
       "4           1.0       0.037018     -0.131343        0.0        0.0   \n",
       "\n",
       "   gap_year_now_bulit  \n",
       "0           -0.600000  \n",
       "1           -0.666667  \n",
       "2            0.200000  \n",
       "3            1.688889  \n",
       "4           -0.644444  "
      ]
     },
     "execution_count": 1296,
     "metadata": {},
     "output_type": "execute_result"
    }
   ],
   "source": [
    "dt_robust_df.head()"
   ]
  },
  {
   "cell_type": "markdown",
   "id": "8fc94920-6388-4329-b999-ed782e12d494",
   "metadata": {},
   "source": [
    "### 스케일링\n",
    "\n",
    "`-` z-점수 스케일링이나 로버스트 스케일링이나 비슷하다\n",
    "\n",
    "`-` 계수를 통해 Overall_Qual과 Gr_Liv_Area이 매우 중요하며 그 다음은 Bsmt_Qual이다\n",
    "\n",
    "`-` Kitchen_Qual과 Total_Bsmt_SF이 그 다음이며 나머지는 비슷하다"
   ]
  },
  {
   "cell_type": "markdown",
   "id": "e69b2a3e-4e8d-4ef6-9bb3-1a1eadc867f2",
   "metadata": {},
   "source": [
    "`-` 또한 Qual 관련 변수로 Overall Qual만 사용해봤는데 성능이 더 안좋게 나왔다(선형 회귀)\n",
    "\n",
    "`-` 그래서 Qual 관련 변수를 추가했다\n",
    "\n",
    "`-` 또한 현재 연도에서 완공 연도의 차이를 파생변수로 만들어 추가했다\n",
    "\n",
    "`-` 사실 연도 변수는 포함시킬지 말지 고민했다\n",
    "\n",
    "`-` 최근 연도일수록 집값이 평균적으로 높을텐데\n",
    "\n",
    "`-` 이는 연도때문이라기 보다는 다른 변수에 의한 것이라 생각했기 때문이다\n",
    "\n",
    "`-` 예컨대 과거에는 기술 등의 문제로 더 좋은 건물을 짓지 못했지만 최근에는 가능해진 상황\n",
    "\n",
    "`-` 하지만 train 셋에 포함된 피쳐외의 특징을 연도 피쳐가 가지고 있을 수 있으니 포함하고 모델링 해보기로 했다"
   ]
  },
  {
   "cell_type": "code",
   "execution_count": 1297,
   "id": "ac011897-b759-479a-8f89-380641791d52",
   "metadata": {},
   "outputs": [],
   "source": [
    "x_train, x_valid, y_train, y_valid = train_test_split(dt_scaled_df, target.reset_index().drop('index', axis = 1), test_size = 0.2, shuffle = True, random_state = 22)\n",
    "\n",
    "## 표본크기가 1341로 커서 일단 교차검증은 하지 않음"
   ]
  },
  {
   "cell_type": "code",
   "execution_count": 1298,
   "id": "efdd93b3-fd8b-4100-94fe-c10498b1e982",
   "metadata": {},
   "outputs": [],
   "source": [
    "y_train = np.log(y_train) ## 로그 변환"
   ]
  },
  {
   "cell_type": "code",
   "execution_count": 1299,
   "id": "6f187438-c8e1-42f3-8e5c-3b475cd9a613",
   "metadata": {},
   "outputs": [],
   "source": [
    "import statsmodels.formula.api as smf"
   ]
  },
  {
   "cell_type": "code",
   "execution_count": 1300,
   "id": "9e712d91-2f31-4cc7-a984-4dedca099930",
   "metadata": {},
   "outputs": [],
   "source": [
    "tmp = pd.concat([x_train, y_train], axis = 1)"
   ]
  },
  {
   "cell_type": "code",
   "execution_count": 1301,
   "id": "664b5b8b-1ecb-4883-b518-90c7f98f1d78",
   "metadata": {},
   "outputs": [
    {
     "data": {
      "text/html": [
       "<div>\n",
       "<style scoped>\n",
       "    .dataframe tbody tr th:only-of-type {\n",
       "        vertical-align: middle;\n",
       "    }\n",
       "\n",
       "    .dataframe tbody tr th {\n",
       "        vertical-align: top;\n",
       "    }\n",
       "\n",
       "    .dataframe thead th {\n",
       "        text-align: right;\n",
       "    }\n",
       "</style>\n",
       "<table border=\"1\" class=\"dataframe\">\n",
       "  <thead>\n",
       "    <tr style=\"text-align: right;\">\n",
       "      <th></th>\n",
       "      <th>Overall_Qual</th>\n",
       "      <th>Gr_Liv_Area</th>\n",
       "      <th>Exter_Qual</th>\n",
       "      <th>Garage_Cars</th>\n",
       "      <th>Garage_Area</th>\n",
       "      <th>Kitchen_Qual</th>\n",
       "      <th>Total_Bsmt_SF</th>\n",
       "      <th>first_Flr_SF</th>\n",
       "      <th>Bsmt_Qual</th>\n",
       "      <th>Full_Bath</th>\n",
       "      <th>gap_year_now_bulit</th>\n",
       "      <th>target</th>\n",
       "    </tr>\n",
       "  </thead>\n",
       "  <tbody>\n",
       "    <tr>\n",
       "      <th>162</th>\n",
       "      <td>-0.926943</td>\n",
       "      <td>-1.034689</td>\n",
       "      <td>-0.747305</td>\n",
       "      <td>0.209387</td>\n",
       "      <td>1.312058</td>\n",
       "      <td>-0.846792</td>\n",
       "      <td>-0.147127</td>\n",
       "      <td>-0.382888</td>\n",
       "      <td>0.577477</td>\n",
       "      <td>-1.022368</td>\n",
       "      <td>-0.718727</td>\n",
       "      <td>11.845820</td>\n",
       "    </tr>\n",
       "    <tr>\n",
       "      <th>248</th>\n",
       "      <td>-1.699879</td>\n",
       "      <td>-1.349209</td>\n",
       "      <td>-0.747305</td>\n",
       "      <td>0.209387</td>\n",
       "      <td>1.211170</td>\n",
       "      <td>0.687586</td>\n",
       "      <td>-1.858047</td>\n",
       "      <td>-0.784908</td>\n",
       "      <td>-0.879913</td>\n",
       "      <td>-1.022368</td>\n",
       "      <td>0.038127</td>\n",
       "      <td>11.669929</td>\n",
       "    </tr>\n",
       "    <tr>\n",
       "      <th>982</th>\n",
       "      <td>-0.154006</td>\n",
       "      <td>-1.109575</td>\n",
       "      <td>-0.747305</td>\n",
       "      <td>-1.337752</td>\n",
       "      <td>-0.785368</td>\n",
       "      <td>-0.846792</td>\n",
       "      <td>-1.594828</td>\n",
       "      <td>-1.856962</td>\n",
       "      <td>-0.879913</td>\n",
       "      <td>-1.022368</td>\n",
       "      <td>0.038127</td>\n",
       "      <td>11.517913</td>\n",
       "    </tr>\n",
       "    <tr>\n",
       "      <th>258</th>\n",
       "      <td>-0.926943</td>\n",
       "      <td>-0.305089</td>\n",
       "      <td>1.027544</td>\n",
       "      <td>-1.337752</td>\n",
       "      <td>-1.125204</td>\n",
       "      <td>-0.846792</td>\n",
       "      <td>-0.184730</td>\n",
       "      <td>0.549688</td>\n",
       "      <td>-0.879913</td>\n",
       "      <td>-1.022368</td>\n",
       "      <td>0.760579</td>\n",
       "      <td>12.013095</td>\n",
       "    </tr>\n",
       "    <tr>\n",
       "      <th>261</th>\n",
       "      <td>1.391867</td>\n",
       "      <td>0.146364</td>\n",
       "      <td>1.027544</td>\n",
       "      <td>1.756527</td>\n",
       "      <td>1.720924</td>\n",
       "      <td>0.687586</td>\n",
       "      <td>1.335491</td>\n",
       "      <td>1.126737</td>\n",
       "      <td>0.577477</td>\n",
       "      <td>0.810179</td>\n",
       "      <td>-1.131557</td>\n",
       "      <td>12.354493</td>\n",
       "    </tr>\n",
       "  </tbody>\n",
       "</table>\n",
       "</div>"
      ],
      "text/plain": [
       "     Overall_Qual  Gr_Liv_Area  Exter_Qual  Garage_Cars  Garage_Area  \\\n",
       "162     -0.926943    -1.034689   -0.747305     0.209387     1.312058   \n",
       "248     -1.699879    -1.349209   -0.747305     0.209387     1.211170   \n",
       "982     -0.154006    -1.109575   -0.747305    -1.337752    -0.785368   \n",
       "258     -0.926943    -0.305089    1.027544    -1.337752    -1.125204   \n",
       "261      1.391867     0.146364    1.027544     1.756527     1.720924   \n",
       "\n",
       "     Kitchen_Qual  Total_Bsmt_SF  first_Flr_SF  Bsmt_Qual  Full_Bath  \\\n",
       "162     -0.846792      -0.147127     -0.382888   0.577477  -1.022368   \n",
       "248      0.687586      -1.858047     -0.784908  -0.879913  -1.022368   \n",
       "982     -0.846792      -1.594828     -1.856962  -0.879913  -1.022368   \n",
       "258     -0.846792      -0.184730      0.549688  -0.879913  -1.022368   \n",
       "261      0.687586       1.335491      1.126737   0.577477   0.810179   \n",
       "\n",
       "     gap_year_now_bulit     target  \n",
       "162           -0.718727  11.845820  \n",
       "248            0.038127  11.669929  \n",
       "982            0.038127  11.517913  \n",
       "258            0.760579  12.013095  \n",
       "261           -1.131557  12.354493  "
      ]
     },
     "execution_count": 1301,
     "metadata": {},
     "output_type": "execute_result"
    }
   ],
   "source": [
    "tmp.head()"
   ]
  },
  {
   "cell_type": "markdown",
   "id": "cedce7ad-08ff-4595-a8ec-48873873abb4",
   "metadata": {},
   "source": [
    "`-` 표준화 스케일링을 통해 변수의 중요도만 판단하자"
   ]
  },
  {
   "cell_type": "code",
   "execution_count": 1303,
   "id": "06320c6b-6961-4da9-a01d-89107914e93b",
   "metadata": {},
   "outputs": [],
   "source": [
    "rst = smf.ols(formula = 'target~' + '+'.join(tmp.columns[:-1]), data = tmp).fit()\n",
    "# rst.summary()"
   ]
  },
  {
   "cell_type": "markdown",
   "id": "b789e593-93dd-4046-8e3c-cf944c572270",
   "metadata": {},
   "source": [
    "`-` Exter_Qual 변수 제거"
   ]
  },
  {
   "cell_type": "code",
   "execution_count": 1304,
   "id": "9d67eaca-2195-4455-bdb1-b843e25a37f1",
   "metadata": {},
   "outputs": [],
   "source": [
    "tmp.drop('Exter_Qual', axis = 1, inplace = True)"
   ]
  },
  {
   "cell_type": "code",
   "execution_count": 1306,
   "id": "f4b4beaf-a5c9-4f38-8cee-b2d4c7bbb751",
   "metadata": {},
   "outputs": [],
   "source": [
    "rst2 = smf.ols(formula = 'target~' + '+'.join(tmp.columns[:-1]), data = tmp).fit()\n",
    "# rst2.summary()"
   ]
  },
  {
   "cell_type": "markdown",
   "id": "d7a6530f-b07e-4feb-a7b5-df97cbe04608",
   "metadata": {},
   "source": [
    "`-` Garage_Area 변수 제거"
   ]
  },
  {
   "cell_type": "code",
   "execution_count": 1307,
   "id": "02ac2ec7-a572-4ab0-b910-84d011bf68aa",
   "metadata": {},
   "outputs": [],
   "source": [
    "tmp.drop('Garage_Area', axis = 1, inplace = True)"
   ]
  },
  {
   "cell_type": "code",
   "execution_count": 1308,
   "id": "383ff720-a859-4dfc-9540-97c38fd12b0f",
   "metadata": {},
   "outputs": [
    {
     "data": {
      "text/html": [
       "<table class=\"simpletable\">\n",
       "<caption>OLS Regression Results</caption>\n",
       "<tr>\n",
       "  <th>Dep. Variable:</th>         <td>target</td>      <th>  R-squared:         </th> <td>   0.870</td>\n",
       "</tr>\n",
       "<tr>\n",
       "  <th>Model:</th>                   <td>OLS</td>       <th>  Adj. R-squared:    </th> <td>   0.869</td>\n",
       "</tr>\n",
       "<tr>\n",
       "  <th>Method:</th>             <td>Least Squares</td>  <th>  F-statistic:       </th> <td>   782.6</td>\n",
       "</tr>\n",
       "<tr>\n",
       "  <th>Date:</th>             <td>Tue, 25 Jan 2022</td> <th>  Prob (F-statistic):</th>  <td>  0.00</td> \n",
       "</tr>\n",
       "<tr>\n",
       "  <th>Time:</th>                 <td>02:50:15</td>     <th>  Log-Likelihood:    </th> <td>  670.67</td>\n",
       "</tr>\n",
       "<tr>\n",
       "  <th>No. Observations:</th>      <td>  1064</td>      <th>  AIC:               </th> <td>  -1321.</td>\n",
       "</tr>\n",
       "<tr>\n",
       "  <th>Df Residuals:</th>          <td>  1054</td>      <th>  BIC:               </th> <td>  -1272.</td>\n",
       "</tr>\n",
       "<tr>\n",
       "  <th>Df Model:</th>              <td>     9</td>      <th>                     </th>     <td> </td>   \n",
       "</tr>\n",
       "<tr>\n",
       "  <th>Covariance Type:</th>      <td>nonrobust</td>    <th>                     </th>     <td> </td>   \n",
       "</tr>\n",
       "</table>\n",
       "<table class=\"simpletable\">\n",
       "<tr>\n",
       "           <td></td>             <th>coef</th>     <th>std err</th>      <th>t</th>      <th>P>|t|</th>  <th>[0.025</th>    <th>0.975]</th>  \n",
       "</tr>\n",
       "<tr>\n",
       "  <th>Intercept</th>          <td>   12.0597</td> <td>    0.004</td> <td> 3035.942</td> <td> 0.000</td> <td>   12.052</td> <td>   12.067</td>\n",
       "</tr>\n",
       "<tr>\n",
       "  <th>Overall_Qual</th>       <td>    0.0967</td> <td>    0.007</td> <td>   14.488</td> <td> 0.000</td> <td>    0.084</td> <td>    0.110</td>\n",
       "</tr>\n",
       "<tr>\n",
       "  <th>Gr_Liv_Area</th>        <td>    0.1247</td> <td>    0.006</td> <td>   20.613</td> <td> 0.000</td> <td>    0.113</td> <td>    0.137</td>\n",
       "</tr>\n",
       "<tr>\n",
       "  <th>Garage_Cars</th>        <td>    0.0239</td> <td>    0.005</td> <td>    4.481</td> <td> 0.000</td> <td>    0.013</td> <td>    0.034</td>\n",
       "</tr>\n",
       "<tr>\n",
       "  <th>Kitchen_Qual</th>       <td>    0.0375</td> <td>    0.005</td> <td>    6.835</td> <td> 0.000</td> <td>    0.027</td> <td>    0.048</td>\n",
       "</tr>\n",
       "<tr>\n",
       "  <th>Total_Bsmt_SF</th>      <td>    0.0380</td> <td>    0.009</td> <td>    4.445</td> <td> 0.000</td> <td>    0.021</td> <td>    0.055</td>\n",
       "</tr>\n",
       "<tr>\n",
       "  <th>first_Flr_SF</th>       <td>    0.0407</td> <td>    0.009</td> <td>    4.656</td> <td> 0.000</td> <td>    0.024</td> <td>    0.058</td>\n",
       "</tr>\n",
       "<tr>\n",
       "  <th>Bsmt_Qual</th>          <td>    0.0337</td> <td>    0.007</td> <td>    5.114</td> <td> 0.000</td> <td>    0.021</td> <td>    0.047</td>\n",
       "</tr>\n",
       "<tr>\n",
       "  <th>Full_Bath</th>          <td>   -0.0116</td> <td>    0.006</td> <td>   -2.024</td> <td> 0.043</td> <td>   -0.023</td> <td>   -0.000</td>\n",
       "</tr>\n",
       "<tr>\n",
       "  <th>gap_year_now_bulit</th> <td>   -0.0559</td> <td>    0.007</td> <td>   -8.545</td> <td> 0.000</td> <td>   -0.069</td> <td>   -0.043</td>\n",
       "</tr>\n",
       "</table>\n",
       "<table class=\"simpletable\">\n",
       "<tr>\n",
       "  <th>Omnibus:</th>       <td>96.453</td> <th>  Durbin-Watson:     </th> <td>   2.030</td>\n",
       "</tr>\n",
       "<tr>\n",
       "  <th>Prob(Omnibus):</th> <td> 0.000</td> <th>  Jarque-Bera (JB):  </th> <td> 212.567</td>\n",
       "</tr>\n",
       "<tr>\n",
       "  <th>Skew:</th>          <td>-0.542</td> <th>  Prob(JB):          </th> <td>6.95e-47</td>\n",
       "</tr>\n",
       "<tr>\n",
       "  <th>Kurtosis:</th>      <td> 4.902</td> <th>  Cond. No.          </th> <td>    6.64</td>\n",
       "</tr>\n",
       "</table><br/><br/>Notes:<br/>[1] Standard Errors assume that the covariance matrix of the errors is correctly specified."
      ],
      "text/plain": [
       "<class 'statsmodels.iolib.summary.Summary'>\n",
       "\"\"\"\n",
       "                            OLS Regression Results                            \n",
       "==============================================================================\n",
       "Dep. Variable:                 target   R-squared:                       0.870\n",
       "Model:                            OLS   Adj. R-squared:                  0.869\n",
       "Method:                 Least Squares   F-statistic:                     782.6\n",
       "Date:                Tue, 25 Jan 2022   Prob (F-statistic):               0.00\n",
       "Time:                        02:50:15   Log-Likelihood:                 670.67\n",
       "No. Observations:                1064   AIC:                            -1321.\n",
       "Df Residuals:                    1054   BIC:                            -1272.\n",
       "Df Model:                           9                                         \n",
       "Covariance Type:            nonrobust                                         \n",
       "======================================================================================\n",
       "                         coef    std err          t      P>|t|      [0.025      0.975]\n",
       "--------------------------------------------------------------------------------------\n",
       "Intercept             12.0597      0.004   3035.942      0.000      12.052      12.067\n",
       "Overall_Qual           0.0967      0.007     14.488      0.000       0.084       0.110\n",
       "Gr_Liv_Area            0.1247      0.006     20.613      0.000       0.113       0.137\n",
       "Garage_Cars            0.0239      0.005      4.481      0.000       0.013       0.034\n",
       "Kitchen_Qual           0.0375      0.005      6.835      0.000       0.027       0.048\n",
       "Total_Bsmt_SF          0.0380      0.009      4.445      0.000       0.021       0.055\n",
       "first_Flr_SF           0.0407      0.009      4.656      0.000       0.024       0.058\n",
       "Bsmt_Qual              0.0337      0.007      5.114      0.000       0.021       0.047\n",
       "Full_Bath             -0.0116      0.006     -2.024      0.043      -0.023      -0.000\n",
       "gap_year_now_bulit    -0.0559      0.007     -8.545      0.000      -0.069      -0.043\n",
       "==============================================================================\n",
       "Omnibus:                       96.453   Durbin-Watson:                   2.030\n",
       "Prob(Omnibus):                  0.000   Jarque-Bera (JB):              212.567\n",
       "Skew:                          -0.542   Prob(JB):                     6.95e-47\n",
       "Kurtosis:                       4.902   Cond. No.                         6.64\n",
       "==============================================================================\n",
       "\n",
       "Notes:\n",
       "[1] Standard Errors assume that the covariance matrix of the errors is correctly specified.\n",
       "\"\"\""
      ]
     },
     "execution_count": 1308,
     "metadata": {},
     "output_type": "execute_result"
    }
   ],
   "source": [
    "rst3 = smf.ols(formula = 'target~' + '+'.join(tmp.columns[:-1]), data = tmp).fit()\n",
    "rst3.summary()"
   ]
  },
  {
   "cell_type": "markdown",
   "id": "41d6b19e-f8cd-4c0d-a6a7-bf1184055506",
   "metadata": {},
   "source": [
    "### 잔차의 정규성 확인"
   ]
  },
  {
   "cell_type": "code",
   "execution_count": 1318,
   "id": "f254f0e7-90a4-415d-8919-51e3488b2908",
   "metadata": {},
   "outputs": [
    {
     "data": {
      "text/plain": [
       "<AxesSubplot:>"
      ]
     },
     "execution_count": 1318,
     "metadata": {},
     "output_type": "execute_result"
    },
    {
     "data": {
      "image/png": "[encoded data removed]",
      "text/plain": [
       "<Figure size 432x288 with 1 Axes>"
      ]
     },
     "metadata": {
      "needs_background": "light"
     },
     "output_type": "display_data"
    }
   ],
   "source": [
    "rst3.resid.hist(bins = 30)"
   ]
  },
  {
   "cell_type": "code",
   "execution_count": 1319,
   "id": "65917faf-d943-4add-b0a4-582e6277032b",
   "metadata": {},
   "outputs": [
    {
     "data": {
      "text/plain": [
       "Text(0.5, 1.0, 'fitted vs residual')"
      ]
     },
     "execution_count": 1319,
     "metadata": {},
     "output_type": "execute_result"
    },
    {
     "data": {
      "image/png": "[encoded data removed]",
      "text/plain": [
       "<Figure size 432x288 with 1 Axes>"
      ]
     },
     "metadata": {
      "needs_background": "light"
     },
     "output_type": "display_data"
    }
   ],
   "source": [
    "plt.plot(y_train, rst3.resid, '.k')\n",
    "plt.axhline(0, 0.0, 1.0, color = 'red')\n",
    "plt.title('fitted vs residual')"
   ]
  },
  {
   "cell_type": "markdown",
   "id": "52b2b7f1-d9bf-481f-b86c-6d1f3a3b1526",
   "metadata": {},
   "source": [
    "`-` 잔차의 정규성 문제는 여전함(나중에 box-cox 변환을 해보자)\n",
    "\n",
    "`-` box-cox 변환을 해봤는데 마찬가지었다"
   ]
  },
  {
   "cell_type": "code",
   "execution_count": 1320,
   "id": "d141759d-d241-4563-8809-e1ac3bf4cdd7",
   "metadata": {},
   "outputs": [
    {
     "data": {
      "text/plain": [
       "0.09283755519722074"
      ]
     },
     "execution_count": 1320,
     "metadata": {},
     "output_type": "execute_result"
    }
   ],
   "source": [
    "## target을 로그 변환 했으므로 원래의 상태로 되돌리기 위해 exp를 취한다\n",
    "NMAE(np.exp(y_train).to_numpy(), np.exp(rst3.predict(x_train)).to_numpy().reshape(-1,1))"
   ]
  },
  {
   "cell_type": "code",
   "execution_count": 1321,
   "id": "072d1e31-656a-435f-a1c9-cc74c0cc9e6f",
   "metadata": {},
   "outputs": [
    {
     "data": {
      "text/plain": [
       "0.10145991179862908"
      ]
     },
     "execution_count": 1321,
     "metadata": {},
     "output_type": "execute_result"
    }
   ],
   "source": [
    "## target을 로그 변환 했으므로 원래의 상태로 되돌리기 위해 exp를 취한다\n",
    "NMAE(y_valid.to_numpy(), np.exp(rst3.predict(x_valid)).to_numpy().reshape(-1,1))"
   ]
  },
  {
   "cell_type": "markdown",
   "id": "28e8865f-e34c-484f-af02-efbdb20d5323",
   "metadata": {},
   "source": [
    "### test 예측"
   ]
  },
  {
   "cell_type": "markdown",
   "id": "e56cae53-798a-4b56-9c76-3dd7f3ac9600",
   "metadata": {},
   "source": [
    "`-` test 데이터에 대해 라벨인코딩을 해주자"
   ]
  },
  {
   "cell_type": "code",
   "execution_count": 1331,
   "id": "b8c5c1df-e96b-4e6f-8452-c95cd6ef8fc9",
   "metadata": {},
   "outputs": [],
   "source": [
    "for col in test.columns[test.dtypes == 'object']:\n",
    "    test[col] = test[col].apply(lambda x: label_encoding(x))"
   ]
  },
  {
   "cell_type": "markdown",
   "id": "da212f87-aecb-4907-b62f-3da64757c60f",
   "metadata": {},
   "source": [
    "`-` test 데이터에 대해 표준화를 해주자"
   ]
  },
  {
   "cell_type": "code",
   "execution_count": 1332,
   "id": "e128f65d-2fab-4e36-a5ac-66d92e9ec8fb",
   "metadata": {},
   "outputs": [],
   "source": [
    "test['gap_year_now_bulit'] = 2022 - test['Year_Built']"
   ]
  },
  {
   "cell_type": "code",
   "execution_count": 1334,
   "id": "64a2fb48-d3ac-4fe1-8341-e486d21778ba",
   "metadata": {},
   "outputs": [],
   "source": [
    "test.drop(['Year_Built', 'Year_Remod_Add', 'Garage_Yr_Blt'], axis = 1, inplace = True)"
   ]
  },
  {
   "cell_type": "code",
   "execution_count": 1335,
   "id": "0e06dd05-15f6-4028-a654-62e55d753cf5",
   "metadata": {},
   "outputs": [
    {
     "data": {
      "text/html": [
       "<div>\n",
       "<style scoped>\n",
       "    .dataframe tbody tr th:only-of-type {\n",
       "        vertical-align: middle;\n",
       "    }\n",
       "\n",
       "    .dataframe tbody tr th {\n",
       "        vertical-align: top;\n",
       "    }\n",
       "\n",
       "    .dataframe thead th {\n",
       "        text-align: right;\n",
       "    }\n",
       "</style>\n",
       "<table border=\"1\" class=\"dataframe\">\n",
       "  <thead>\n",
       "    <tr style=\"text-align: right;\">\n",
       "      <th></th>\n",
       "      <th>Overall_Qual</th>\n",
       "      <th>Gr_Liv_Area</th>\n",
       "      <th>Exter_Qual</th>\n",
       "      <th>Garage_Cars</th>\n",
       "      <th>Garage_Area</th>\n",
       "      <th>Kitchen_Qual</th>\n",
       "      <th>Total_Bsmt_SF</th>\n",
       "      <th>first_Flr_SF</th>\n",
       "      <th>Bsmt_Qual</th>\n",
       "      <th>Full_Bath</th>\n",
       "      <th>gap_year_now_bulit</th>\n",
       "    </tr>\n",
       "  </thead>\n",
       "  <tbody>\n",
       "    <tr>\n",
       "      <th>0</th>\n",
       "      <td>9</td>\n",
       "      <td>1800</td>\n",
       "      <td>3</td>\n",
       "      <td>2</td>\n",
       "      <td>702</td>\n",
       "      <td>4</td>\n",
       "      <td>1800</td>\n",
       "      <td>1800</td>\n",
       "      <td>4</td>\n",
       "      <td>2</td>\n",
       "      <td>15</td>\n",
       "    </tr>\n",
       "    <tr>\n",
       "      <th>1</th>\n",
       "      <td>6</td>\n",
       "      <td>1082</td>\n",
       "      <td>2</td>\n",
       "      <td>1</td>\n",
       "      <td>240</td>\n",
       "      <td>2</td>\n",
       "      <td>1082</td>\n",
       "      <td>1082</td>\n",
       "      <td>2</td>\n",
       "      <td>1</td>\n",
       "      <td>74</td>\n",
       "    </tr>\n",
       "    <tr>\n",
       "      <th>2</th>\n",
       "      <td>6</td>\n",
       "      <td>1573</td>\n",
       "      <td>3</td>\n",
       "      <td>2</td>\n",
       "      <td>440</td>\n",
       "      <td>3</td>\n",
       "      <td>756</td>\n",
       "      <td>769</td>\n",
       "      <td>3</td>\n",
       "      <td>2</td>\n",
       "      <td>22</td>\n",
       "    </tr>\n",
       "    <tr>\n",
       "      <th>3</th>\n",
       "      <td>6</td>\n",
       "      <td>2443</td>\n",
       "      <td>3</td>\n",
       "      <td>3</td>\n",
       "      <td>744</td>\n",
       "      <td>3</td>\n",
       "      <td>1158</td>\n",
       "      <td>1158</td>\n",
       "      <td>3</td>\n",
       "      <td>2</td>\n",
       "      <td>18</td>\n",
       "    </tr>\n",
       "    <tr>\n",
       "      <th>4</th>\n",
       "      <td>5</td>\n",
       "      <td>1040</td>\n",
       "      <td>2</td>\n",
       "      <td>2</td>\n",
       "      <td>686</td>\n",
       "      <td>2</td>\n",
       "      <td>1040</td>\n",
       "      <td>1040</td>\n",
       "      <td>2</td>\n",
       "      <td>1</td>\n",
       "      <td>54</td>\n",
       "    </tr>\n",
       "  </tbody>\n",
       "</table>\n",
       "</div>"
      ],
      "text/plain": [
       "   Overall_Qual  Gr_Liv_Area  Exter_Qual  Garage_Cars  Garage_Area  \\\n",
       "0             9         1800           3            2          702   \n",
       "1             6         1082           2            1          240   \n",
       "2             6         1573           3            2          440   \n",
       "3             6         2443           3            3          744   \n",
       "4             5         1040           2            2          686   \n",
       "\n",
       "   Kitchen_Qual  Total_Bsmt_SF  first_Flr_SF  Bsmt_Qual  Full_Bath  \\\n",
       "0             4           1800          1800          4          2   \n",
       "1             2           1082          1082          2          1   \n",
       "2             3            756           769          3          2   \n",
       "3             3           1158          1158          3          2   \n",
       "4             2           1040          1040          2          1   \n",
       "\n",
       "   gap_year_now_bulit  \n",
       "0                  15  \n",
       "1                  74  \n",
       "2                  22  \n",
       "3                  18  \n",
       "4                  54  "
      ]
     },
     "execution_count": 1335,
     "metadata": {},
     "output_type": "execute_result"
    }
   ],
   "source": [
    "test.head()"
   ]
  },
  {
   "cell_type": "code",
   "execution_count": 1337,
   "id": "d2180438-391f-42ee-b8f1-28ed3f039008",
   "metadata": {},
   "outputs": [],
   "source": [
    "## 표준화\n",
    "test_scaled = standard_scaler.transform(test)\n",
    "test_scaled_df = pd.DataFrame(data = test_scaled, columns = test.columns)"
   ]
  },
  {
   "cell_type": "markdown",
   "id": "6a9c170c-d705-42fb-9a36-bf1f64fed08b",
   "metadata": {},
   "source": [
    "`-` 모델을 만들자"
   ]
  },
  {
   "cell_type": "code",
   "execution_count": 1362,
   "id": "604c18e8-f669-4807-8fbf-8a93fb13184c",
   "metadata": {},
   "outputs": [
    {
     "data": {
      "text/html": [
       "<table class=\"simpletable\">\n",
       "<caption>OLS Regression Results</caption>\n",
       "<tr>\n",
       "  <th>Dep. Variable:</th>         <td>target</td>      <th>  R-squared:         </th> <td>   0.867</td>\n",
       "</tr>\n",
       "<tr>\n",
       "  <th>Model:</th>                   <td>OLS</td>       <th>  Adj. R-squared:    </th> <td>   0.866</td>\n",
       "</tr>\n",
       "<tr>\n",
       "  <th>Method:</th>             <td>Least Squares</td>  <th>  F-statistic:       </th> <td>   958.5</td>\n",
       "</tr>\n",
       "<tr>\n",
       "  <th>Date:</th>             <td>Tue, 25 Jan 2022</td> <th>  Prob (F-statistic):</th>  <td>  0.00</td> \n",
       "</tr>\n",
       "<tr>\n",
       "  <th>Time:</th>                 <td>03:14:17</td>     <th>  Log-Likelihood:    </th> <td>  834.69</td>\n",
       "</tr>\n",
       "<tr>\n",
       "  <th>No. Observations:</th>      <td>  1330</td>      <th>  AIC:               </th> <td>  -1649.</td>\n",
       "</tr>\n",
       "<tr>\n",
       "  <th>Df Residuals:</th>          <td>  1320</td>      <th>  BIC:               </th> <td>  -1597.</td>\n",
       "</tr>\n",
       "<tr>\n",
       "  <th>Df Model:</th>              <td>     9</td>      <th>                     </th>     <td> </td>   \n",
       "</tr>\n",
       "<tr>\n",
       "  <th>Covariance Type:</th>      <td>nonrobust</td>    <th>                     </th>     <td> </td>   \n",
       "</tr>\n",
       "</table>\n",
       "<table class=\"simpletable\">\n",
       "<tr>\n",
       "           <td></td>             <th>coef</th>     <th>std err</th>      <th>t</th>      <th>P>|t|</th>  <th>[0.025</th>    <th>0.975]</th>  \n",
       "</tr>\n",
       "<tr>\n",
       "  <th>Intercept</th>          <td>   12.0593</td> <td>    0.004</td> <td> 3391.579</td> <td> 0.000</td> <td>   12.052</td> <td>   12.066</td>\n",
       "</tr>\n",
       "<tr>\n",
       "  <th>Overall_Qual</th>       <td>    0.0952</td> <td>    0.006</td> <td>   15.636</td> <td> 0.000</td> <td>    0.083</td> <td>    0.107</td>\n",
       "</tr>\n",
       "<tr>\n",
       "  <th>Gr_Liv_Area</th>        <td>    0.1303</td> <td>    0.005</td> <td>   23.730</td> <td> 0.000</td> <td>    0.119</td> <td>    0.141</td>\n",
       "</tr>\n",
       "<tr>\n",
       "  <th>Garage_Cars</th>        <td>    0.0202</td> <td>    0.005</td> <td>    4.195</td> <td> 0.000</td> <td>    0.011</td> <td>    0.030</td>\n",
       "</tr>\n",
       "<tr>\n",
       "  <th>Kitchen_Qual</th>       <td>    0.0385</td> <td>    0.005</td> <td>    7.821</td> <td> 0.000</td> <td>    0.029</td> <td>    0.048</td>\n",
       "</tr>\n",
       "<tr>\n",
       "  <th>Total_Bsmt_SF</th>      <td>    0.0445</td> <td>    0.008</td> <td>    5.889</td> <td> 0.000</td> <td>    0.030</td> <td>    0.059</td>\n",
       "</tr>\n",
       "<tr>\n",
       "  <th>first_Flr_SF</th>       <td>    0.0314</td> <td>    0.008</td> <td>    4.132</td> <td> 0.000</td> <td>    0.016</td> <td>    0.046</td>\n",
       "</tr>\n",
       "<tr>\n",
       "  <th>Bsmt_Qual</th>          <td>    0.0316</td> <td>    0.006</td> <td>    5.336</td> <td> 0.000</td> <td>    0.020</td> <td>    0.043</td>\n",
       "</tr>\n",
       "<tr>\n",
       "  <th>Full_Bath</th>          <td>   -0.0167</td> <td>    0.005</td> <td>   -3.253</td> <td> 0.001</td> <td>   -0.027</td> <td>   -0.007</td>\n",
       "</tr>\n",
       "<tr>\n",
       "  <th>gap_year_now_bulit</th> <td>   -0.0619</td> <td>    0.006</td> <td>  -10.604</td> <td> 0.000</td> <td>   -0.073</td> <td>   -0.050</td>\n",
       "</tr>\n",
       "</table>\n",
       "<table class=\"simpletable\">\n",
       "<tr>\n",
       "  <th>Omnibus:</th>       <td>109.943</td> <th>  Durbin-Watson:     </th> <td>   2.039</td>\n",
       "</tr>\n",
       "<tr>\n",
       "  <th>Prob(Omnibus):</th> <td> 0.000</td>  <th>  Jarque-Bera (JB):  </th> <td> 221.840</td>\n",
       "</tr>\n",
       "<tr>\n",
       "  <th>Skew:</th>          <td>-0.532</td>  <th>  Prob(JB):          </th> <td>6.73e-49</td>\n",
       "</tr>\n",
       "<tr>\n",
       "  <th>Kurtosis:</th>      <td> 4.694</td>  <th>  Cond. No.          </th> <td>    6.46</td>\n",
       "</tr>\n",
       "</table><br/><br/>Notes:<br/>[1] Standard Errors assume that the covariance matrix of the errors is correctly specified."
      ],
      "text/plain": [
       "<class 'statsmodels.iolib.summary.Summary'>\n",
       "\"\"\"\n",
       "                            OLS Regression Results                            \n",
       "==============================================================================\n",
       "Dep. Variable:                 target   R-squared:                       0.867\n",
       "Model:                            OLS   Adj. R-squared:                  0.866\n",
       "Method:                 Least Squares   F-statistic:                     958.5\n",
       "Date:                Tue, 25 Jan 2022   Prob (F-statistic):               0.00\n",
       "Time:                        03:14:17   Log-Likelihood:                 834.69\n",
       "No. Observations:                1330   AIC:                            -1649.\n",
       "Df Residuals:                    1320   BIC:                            -1597.\n",
       "Df Model:                           9                                         \n",
       "Covariance Type:            nonrobust                                         \n",
       "======================================================================================\n",
       "                         coef    std err          t      P>|t|      [0.025      0.975]\n",
       "--------------------------------------------------------------------------------------\n",
       "Intercept             12.0593      0.004   3391.579      0.000      12.052      12.066\n",
       "Overall_Qual           0.0952      0.006     15.636      0.000       0.083       0.107\n",
       "Gr_Liv_Area            0.1303      0.005     23.730      0.000       0.119       0.141\n",
       "Garage_Cars            0.0202      0.005      4.195      0.000       0.011       0.030\n",
       "Kitchen_Qual           0.0385      0.005      7.821      0.000       0.029       0.048\n",
       "Total_Bsmt_SF          0.0445      0.008      5.889      0.000       0.030       0.059\n",
       "first_Flr_SF           0.0314      0.008      4.132      0.000       0.016       0.046\n",
       "Bsmt_Qual              0.0316      0.006      5.336      0.000       0.020       0.043\n",
       "Full_Bath             -0.0167      0.005     -3.253      0.001      -0.027      -0.007\n",
       "gap_year_now_bulit    -0.0619      0.006    -10.604      0.000      -0.073      -0.050\n",
       "==============================================================================\n",
       "Omnibus:                      109.943   Durbin-Watson:                   2.039\n",
       "Prob(Omnibus):                  0.000   Jarque-Bera (JB):              221.840\n",
       "Skew:                          -0.532   Prob(JB):                     6.73e-49\n",
       "Kurtosis:                       4.694   Cond. No.                         6.46\n",
       "==============================================================================\n",
       "\n",
       "Notes:\n",
       "[1] Standard Errors assume that the covariance matrix of the errors is correctly specified.\n",
       "\"\"\""
      ]
     },
     "execution_count": 1362,
     "metadata": {},
     "output_type": "execute_result"
    }
   ],
   "source": [
    "model = smf.ols(formula = 'target~' + '+'.join(dt_scaled_df.drop(['Exter_Qual', 'Garage_Area'],  axis = 1).columns),\n",
    "                data = pd.concat([dt_scaled_df.drop(['Exter_Qual', 'Garage_Area'],  axis = 1), np.log(target.reset_index().drop('index', axis = 1))], axis = 1)).fit()\n",
    "model.summary()"
   ]
  },
  {
   "cell_type": "markdown",
   "id": "dc0f31d7-677a-410c-b370-f0d52644fab1",
   "metadata": {},
   "source": [
    "`-` 이제 예측하자"
   ]
  },
  {
   "cell_type": "code",
   "execution_count": 1369,
   "id": "a50c8fd4-8016-4083-8993-157ea928321e",
   "metadata": {},
   "outputs": [
    {
     "data": {
      "text/html": [
       "<div>\n",
       "<style scoped>\n",
       "    .dataframe tbody tr th:only-of-type {\n",
       "        vertical-align: middle;\n",
       "    }\n",
       "\n",
       "    .dataframe tbody tr th {\n",
       "        vertical-align: top;\n",
       "    }\n",
       "\n",
       "    .dataframe thead th {\n",
       "        text-align: right;\n",
       "    }\n",
       "</style>\n",
       "<table border=\"1\" class=\"dataframe\">\n",
       "  <thead>\n",
       "    <tr style=\"text-align: right;\">\n",
       "      <th></th>\n",
       "      <th>id</th>\n",
       "      <th>target</th>\n",
       "    </tr>\n",
       "  </thead>\n",
       "  <tbody>\n",
       "    <tr>\n",
       "      <th>0</th>\n",
       "      <td>1</td>\n",
       "      <td>328211.829183</td>\n",
       "    </tr>\n",
       "    <tr>\n",
       "      <th>1</th>\n",
       "      <td>2</td>\n",
       "      <td>132788.853750</td>\n",
       "    </tr>\n",
       "    <tr>\n",
       "      <th>2</th>\n",
       "      <td>3</td>\n",
       "      <td>177026.928932</td>\n",
       "    </tr>\n",
       "    <tr>\n",
       "      <th>3</th>\n",
       "      <td>4</td>\n",
       "      <td>254654.566501</td>\n",
       "    </tr>\n",
       "    <tr>\n",
       "      <th>4</th>\n",
       "      <td>5</td>\n",
       "      <td>130141.545456</td>\n",
       "    </tr>\n",
       "  </tbody>\n",
       "</table>\n",
       "</div>"
      ],
      "text/plain": [
       "   id         target\n",
       "0   1  328211.829183\n",
       "1   2  132788.853750\n",
       "2   3  177026.928932\n",
       "3   4  254654.566501\n",
       "4   5  130141.545456"
      ]
     },
     "execution_count": 1369,
     "metadata": {},
     "output_type": "execute_result"
    }
   ],
   "source": [
    "## 위에서 구한 예측값을 그대로 넣어줌\n",
    "submission['target'] = np.exp(model.predict(test_scaled_df))\n",
    "\n",
    "## 데이터가 잘 들어갔는지 확인\n",
    "submission.head()"
   ]
  },
  {
   "cell_type": "code",
   "execution_count": 1370,
   "id": "72a1af7d-3c16-43d1-872d-ce7331f7612d",
   "metadata": {},
   "outputs": [],
   "source": [
    "## submission을 csv 파일로 저장\n",
    "submission.to_csv('C:/Users/Jaesu/github_desktop/Dacon-Basic/집값-예측/Data/submission4.csv', index = False)"
   ]
  },
  {
   "cell_type": "markdown",
   "id": "66f5c19e-0897-4f97-bad9-bbc0a31cf96b",
   "metadata": {},
   "source": [
    "`-` 점수는 $0.11071$\n",
    "\n",
    "`-` 문제점 : 잔차가 정규분포가 아니다(종속 변수를 정규분포로 맞추지 못함) $\\to$ 어쩔 수 없음\n",
    "\n",
    "`-` 다른 모형을 써보자"
   ]
  },
  {
   "cell_type": "code",
   "execution_count": null,
   "id": "e4fce644-1abf-4a68-a9e1-c9912f8ea0a4",
   "metadata": {},
   "outputs": [],
   "source": []
  }
 ],
 "metadata": {
  "kernelspec": {
   "display_name": "Python 3 (ipykernel)",
   "language": "python",
   "name": "python3"
  },
  "language_info": {
   "codemirror_mode": {
    "name": "ipython",
    "version": 3
   },
   "file_extension": ".py",
   "mimetype": "text/x-python",
   "name": "python",
   "nbconvert_exporter": "python",
   "pygments_lexer": "ipython3",
   "version": "3.8.11"
  }
 },
 "nbformat": 4,
 "nbformat_minor": 5
}
