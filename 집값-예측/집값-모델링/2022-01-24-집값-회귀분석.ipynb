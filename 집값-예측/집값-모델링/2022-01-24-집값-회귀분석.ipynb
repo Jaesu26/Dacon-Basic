{
 "cells": [
  {
   "cell_type": "markdown",
   "id": "0da0dd90-e2b6-4043-9500-3abddd089767",
   "metadata": {},
   "source": [
    "# 집값 예측 경진대회"
   ]
  },
  {
   "cell_type": "markdown",
   "id": "fb0b1e0e-8214-4b8f-858d-45afee354d05",
   "metadata": {},
   "source": [
    "## 패키지 import 및 데이터 전처리"
   ]
  },
  {
   "cell_type": "code",
   "execution_count": 1,
   "id": "edd15dae-dc08-4edf-931b-3bb787ab1f99",
   "metadata": {},
   "outputs": [],
   "source": [
    "import pandas as pd\n",
    "import numpy as np\n",
    "import matplotlib.pyplot as plt"
   ]
  },
  {
   "cell_type": "code",
   "execution_count": 397,
   "id": "9cf3af2e-4547-46b7-ab49-4c2bc675b90f",
   "metadata": {},
   "outputs": [],
   "source": [
    "df = pd.read_csv('C:/Users/Jaesu/github_desktop/Dacon-Basic/집값-예측/Data/train.csv')\n",
    "test = pd.read_csv('C:/Users/Jaesu/github_desktop/Dacon-Basic/집값-예측/Data/test.csv')"
   ]
  },
  {
   "cell_type": "code",
   "execution_count": 398,
   "id": "fb68f289-c602-4eb7-8ac1-8ede35571d16",
   "metadata": {},
   "outputs": [
    {
     "data": {
      "text/html": [
       "<div>\n",
       "<style scoped>\n",
       "    .dataframe tbody tr th:only-of-type {\n",
       "        vertical-align: middle;\n",
       "    }\n",
       "\n",
       "    .dataframe tbody tr th {\n",
       "        vertical-align: top;\n",
       "    }\n",
       "\n",
       "    .dataframe thead th {\n",
       "        text-align: right;\n",
       "    }\n",
       "</style>\n",
       "<table border=\"1\" class=\"dataframe\">\n",
       "  <thead>\n",
       "    <tr style=\"text-align: right;\">\n",
       "      <th></th>\n",
       "      <th>id</th>\n",
       "      <th>Overall Qual</th>\n",
       "      <th>Gr Liv Area</th>\n",
       "      <th>Exter Qual</th>\n",
       "      <th>Garage Cars</th>\n",
       "      <th>Garage Area</th>\n",
       "      <th>Kitchen Qual</th>\n",
       "      <th>Total Bsmt SF</th>\n",
       "      <th>1st Flr SF</th>\n",
       "      <th>Bsmt Qual</th>\n",
       "      <th>Full Bath</th>\n",
       "      <th>Year Built</th>\n",
       "      <th>Year Remod/Add</th>\n",
       "      <th>Garage Yr Blt</th>\n",
       "      <th>target</th>\n",
       "    </tr>\n",
       "  </thead>\n",
       "  <tbody>\n",
       "    <tr>\n",
       "      <th>0</th>\n",
       "      <td>1</td>\n",
       "      <td>10</td>\n",
       "      <td>2392</td>\n",
       "      <td>Ex</td>\n",
       "      <td>3</td>\n",
       "      <td>968</td>\n",
       "      <td>Ex</td>\n",
       "      <td>2392</td>\n",
       "      <td>2392</td>\n",
       "      <td>Ex</td>\n",
       "      <td>2</td>\n",
       "      <td>2003</td>\n",
       "      <td>2003</td>\n",
       "      <td>2003</td>\n",
       "      <td>386250</td>\n",
       "    </tr>\n",
       "    <tr>\n",
       "      <th>1</th>\n",
       "      <td>2</td>\n",
       "      <td>7</td>\n",
       "      <td>1352</td>\n",
       "      <td>Gd</td>\n",
       "      <td>2</td>\n",
       "      <td>466</td>\n",
       "      <td>Gd</td>\n",
       "      <td>1352</td>\n",
       "      <td>1352</td>\n",
       "      <td>Ex</td>\n",
       "      <td>2</td>\n",
       "      <td>2006</td>\n",
       "      <td>2007</td>\n",
       "      <td>2006</td>\n",
       "      <td>194000</td>\n",
       "    </tr>\n",
       "    <tr>\n",
       "      <th>2</th>\n",
       "      <td>3</td>\n",
       "      <td>5</td>\n",
       "      <td>900</td>\n",
       "      <td>TA</td>\n",
       "      <td>1</td>\n",
       "      <td>288</td>\n",
       "      <td>TA</td>\n",
       "      <td>864</td>\n",
       "      <td>900</td>\n",
       "      <td>TA</td>\n",
       "      <td>1</td>\n",
       "      <td>1967</td>\n",
       "      <td>1967</td>\n",
       "      <td>1967</td>\n",
       "      <td>123000</td>\n",
       "    </tr>\n",
       "    <tr>\n",
       "      <th>3</th>\n",
       "      <td>4</td>\n",
       "      <td>5</td>\n",
       "      <td>1174</td>\n",
       "      <td>TA</td>\n",
       "      <td>2</td>\n",
       "      <td>576</td>\n",
       "      <td>Gd</td>\n",
       "      <td>680</td>\n",
       "      <td>680</td>\n",
       "      <td>TA</td>\n",
       "      <td>1</td>\n",
       "      <td>1900</td>\n",
       "      <td>2006</td>\n",
       "      <td>2000</td>\n",
       "      <td>135000</td>\n",
       "    </tr>\n",
       "    <tr>\n",
       "      <th>4</th>\n",
       "      <td>5</td>\n",
       "      <td>7</td>\n",
       "      <td>1958</td>\n",
       "      <td>Gd</td>\n",
       "      <td>3</td>\n",
       "      <td>936</td>\n",
       "      <td>Gd</td>\n",
       "      <td>1026</td>\n",
       "      <td>1026</td>\n",
       "      <td>Gd</td>\n",
       "      <td>2</td>\n",
       "      <td>2005</td>\n",
       "      <td>2005</td>\n",
       "      <td>2005</td>\n",
       "      <td>250000</td>\n",
       "    </tr>\n",
       "  </tbody>\n",
       "</table>\n",
       "</div>"
      ],
      "text/plain": [
       "   id  Overall Qual  Gr Liv Area Exter Qual  Garage Cars  Garage Area  \\\n",
       "0   1            10         2392         Ex            3          968   \n",
       "1   2             7         1352         Gd            2          466   \n",
       "2   3             5          900         TA            1          288   \n",
       "3   4             5         1174         TA            2          576   \n",
       "4   5             7         1958         Gd            3          936   \n",
       "\n",
       "  Kitchen Qual  Total Bsmt SF  1st Flr SF Bsmt Qual  Full Bath  Year Built  \\\n",
       "0           Ex           2392        2392        Ex          2        2003   \n",
       "1           Gd           1352        1352        Ex          2        2006   \n",
       "2           TA            864         900        TA          1        1967   \n",
       "3           Gd            680         680        TA          1        1900   \n",
       "4           Gd           1026        1026        Gd          2        2005   \n",
       "\n",
       "   Year Remod/Add  Garage Yr Blt  target  \n",
       "0            2003           2003  386250  \n",
       "1            2007           2006  194000  \n",
       "2            1967           1967  123000  \n",
       "3            2006           2000  135000  \n",
       "4            2005           2005  250000  "
      ]
     },
     "execution_count": 398,
     "metadata": {},
     "output_type": "execute_result"
    }
   ],
   "source": [
    "df.head()"
   ]
  },
  {
   "cell_type": "markdown",
   "id": "3e7c0e52-54aa-4454-99f5-33b818be4ea2",
   "metadata": {},
   "source": [
    "`-` id는 필요없으니 제거"
   ]
  },
  {
   "cell_type": "code",
   "execution_count": 399,
   "id": "6fe51af8-de24-44dc-b14a-8e0e25ef6880",
   "metadata": {},
   "outputs": [],
   "source": [
    "df.drop('id', axis = 1, inplace = True)\n",
    "test.drop('id', axis = 1, inplace = True)"
   ]
  },
  {
   "cell_type": "markdown",
   "id": "e19d8b12-e0bd-4626-8b3b-d94d16b31491",
   "metadata": {},
   "source": [
    "`-` 결측치는 없다"
   ]
  },
  {
   "cell_type": "markdown",
   "id": "fd4f5ca9-0d45-4b14-812a-1a4bbb4f7003",
   "metadata": {},
   "source": [
    "`-` 분석의 편의를 위해 컬럼명을 바꾸겠다"
   ]
  },
  {
   "cell_type": "code",
   "execution_count": 516,
   "id": "36fa871d-a2a9-4810-ae57-804a156cb2e5",
   "metadata": {},
   "outputs": [],
   "source": [
    "## 공백과 슬래쉬를 _로 대체 1을 숫자가 아닌 다른 문자로 바꿈 \n",
    "\n",
    "df.rename(columns = dict(zip(df.columns, [column.replace(' ', '_').replace('/', '_').replace('1', 'fir') for column in df.columns])), inplace = True) \n",
    "test.rename(columns = dict(zip(test.columns, [column.replace(' ', '_').replace('/', '_').replace('1', 'fir') for column in test.columns])), inplace = True) "
   ]
  },
  {
   "cell_type": "markdown",
   "id": "a0cdf9c8-bb90-4762-806a-967b48de6966",
   "metadata": {},
   "source": [
    "`-` 범주형 변수는 Exter Qual(외관 재료 품질;4개), Kitchen Qual(부엌 품질; 4개), Bsmt Qual(지하실 높이;5개)이다\n",
    "\n",
    "`-` 총 5개의 등급이 존재하는데 Poor 등급은 Bsmt Qual에 1개 존재한다(나머지는 0개)\n",
    "\n",
    "`-` 아예 poor등급이 존재하지 않는걸 수 도 있고 poor등급이 존재하는데 poor등급에 해당하는 건물이 존재하지 않는걸 수 도 있다\n",
    "\n",
    "`-` 편의상 후자라고 생각하자\n",
    "\n",
    "`-` 이들은 순서형 변수이므로 라벨 인코딩을 해주자"
   ]
  },
  {
   "cell_type": "markdown",
   "id": "8bf729ef-0b06-4abf-88f1-0562eb2c6016",
   "metadata": {},
   "source": [
    "`-` 좋은 등급이 큰 값을 가지도록 하기위해 라벨인코딩을 정의해주자"
   ]
  },
  {
   "cell_type": "code",
   "execution_count": 401,
   "id": "c3ea7044-5a92-41c0-aef6-4c7aeaee0c2e",
   "metadata": {},
   "outputs": [],
   "source": [
    "def label_encoding(data):\n",
    "    grade_label = ['Po', 'Fa', 'TA', 'Gd', 'Ex'] ## 0~4점\n",
    "    \n",
    "    for grade, label in enumerate(grade_label):\n",
    "        if data == label:\n",
    "            return grade"
   ]
  },
  {
   "cell_type": "code",
   "execution_count": 402,
   "id": "a3f1c2e1-a651-452b-bc02-a47e85051b68",
   "metadata": {},
   "outputs": [],
   "source": [
    "for col in df.columns[df.dtypes == 'object']:\n",
    "    df[col] = df[col].apply(lambda x: label_encoding(x))"
   ]
  },
  {
   "cell_type": "code",
   "execution_count": 403,
   "id": "553df92a-eb3e-4177-bf0e-7383ad6a2508",
   "metadata": {},
   "outputs": [
    {
     "data": {
      "text/html": [
       "<div>\n",
       "<style scoped>\n",
       "    .dataframe tbody tr th:only-of-type {\n",
       "        vertical-align: middle;\n",
       "    }\n",
       "\n",
       "    .dataframe tbody tr th {\n",
       "        vertical-align: top;\n",
       "    }\n",
       "\n",
       "    .dataframe thead th {\n",
       "        text-align: right;\n",
       "    }\n",
       "</style>\n",
       "<table border=\"1\" class=\"dataframe\">\n",
       "  <thead>\n",
       "    <tr style=\"text-align: right;\">\n",
       "      <th></th>\n",
       "      <th>Overall_Qual</th>\n",
       "      <th>Gr_Liv_Area</th>\n",
       "      <th>Exter_Qual</th>\n",
       "      <th>Garage_Cars</th>\n",
       "      <th>Garage_Area</th>\n",
       "      <th>Kitchen_Qual</th>\n",
       "      <th>Total_Bsmt_SF</th>\n",
       "      <th>first_Flr_SF</th>\n",
       "      <th>Bsmt_Qual</th>\n",
       "      <th>Full_Bath</th>\n",
       "      <th>Year_Built</th>\n",
       "      <th>Year_Remod_Add</th>\n",
       "      <th>Garage_Yr_Blt</th>\n",
       "      <th>target</th>\n",
       "    </tr>\n",
       "  </thead>\n",
       "  <tbody>\n",
       "    <tr>\n",
       "      <th>0</th>\n",
       "      <td>10</td>\n",
       "      <td>2392</td>\n",
       "      <td>4</td>\n",
       "      <td>3</td>\n",
       "      <td>968</td>\n",
       "      <td>4</td>\n",
       "      <td>2392</td>\n",
       "      <td>2392</td>\n",
       "      <td>4</td>\n",
       "      <td>2</td>\n",
       "      <td>2003</td>\n",
       "      <td>2003</td>\n",
       "      <td>2003</td>\n",
       "      <td>386250</td>\n",
       "    </tr>\n",
       "    <tr>\n",
       "      <th>1</th>\n",
       "      <td>7</td>\n",
       "      <td>1352</td>\n",
       "      <td>3</td>\n",
       "      <td>2</td>\n",
       "      <td>466</td>\n",
       "      <td>3</td>\n",
       "      <td>1352</td>\n",
       "      <td>1352</td>\n",
       "      <td>4</td>\n",
       "      <td>2</td>\n",
       "      <td>2006</td>\n",
       "      <td>2007</td>\n",
       "      <td>2006</td>\n",
       "      <td>194000</td>\n",
       "    </tr>\n",
       "    <tr>\n",
       "      <th>2</th>\n",
       "      <td>5</td>\n",
       "      <td>900</td>\n",
       "      <td>2</td>\n",
       "      <td>1</td>\n",
       "      <td>288</td>\n",
       "      <td>2</td>\n",
       "      <td>864</td>\n",
       "      <td>900</td>\n",
       "      <td>2</td>\n",
       "      <td>1</td>\n",
       "      <td>1967</td>\n",
       "      <td>1967</td>\n",
       "      <td>1967</td>\n",
       "      <td>123000</td>\n",
       "    </tr>\n",
       "    <tr>\n",
       "      <th>3</th>\n",
       "      <td>5</td>\n",
       "      <td>1174</td>\n",
       "      <td>2</td>\n",
       "      <td>2</td>\n",
       "      <td>576</td>\n",
       "      <td>3</td>\n",
       "      <td>680</td>\n",
       "      <td>680</td>\n",
       "      <td>2</td>\n",
       "      <td>1</td>\n",
       "      <td>1900</td>\n",
       "      <td>2006</td>\n",
       "      <td>2000</td>\n",
       "      <td>135000</td>\n",
       "    </tr>\n",
       "    <tr>\n",
       "      <th>4</th>\n",
       "      <td>7</td>\n",
       "      <td>1958</td>\n",
       "      <td>3</td>\n",
       "      <td>3</td>\n",
       "      <td>936</td>\n",
       "      <td>3</td>\n",
       "      <td>1026</td>\n",
       "      <td>1026</td>\n",
       "      <td>3</td>\n",
       "      <td>2</td>\n",
       "      <td>2005</td>\n",
       "      <td>2005</td>\n",
       "      <td>2005</td>\n",
       "      <td>250000</td>\n",
       "    </tr>\n",
       "  </tbody>\n",
       "</table>\n",
       "</div>"
      ],
      "text/plain": [
       "   Overall_Qual  Gr_Liv_Area  Exter_Qual  Garage_Cars  Garage_Area  \\\n",
       "0            10         2392           4            3          968   \n",
       "1             7         1352           3            2          466   \n",
       "2             5          900           2            1          288   \n",
       "3             5         1174           2            2          576   \n",
       "4             7         1958           3            3          936   \n",
       "\n",
       "   Kitchen_Qual  Total_Bsmt_SF  first_Flr_SF  Bsmt_Qual  Full_Bath  \\\n",
       "0             4           2392          2392          4          2   \n",
       "1             3           1352          1352          4          2   \n",
       "2             2            864           900          2          1   \n",
       "3             3            680           680          2          1   \n",
       "4             3           1026          1026          3          2   \n",
       "\n",
       "   Year_Built  Year_Remod_Add  Garage_Yr_Blt  target  \n",
       "0        2003            2003           2003  386250  \n",
       "1        2006            2007           2006  194000  \n",
       "2        1967            1967           1967  123000  \n",
       "3        1900            2006           2000  135000  \n",
       "4        2005            2005           2005  250000  "
      ]
     },
     "execution_count": 403,
     "metadata": {},
     "output_type": "execute_result"
    }
   ],
   "source": [
    "df.head()"
   ]
  },
  {
   "cell_type": "markdown",
   "id": "199800b2-0e14-4efa-b7a6-55fac118304a",
   "metadata": {},
   "source": [
    "`-` 라벨 인코딩이 잘 되었다"
   ]
  },
  {
   "cell_type": "markdown",
   "id": "2ddb24be-8ea5-430f-a871-d6e662962d9f",
   "metadata": {},
   "source": [
    "`-` 앞서 EDA에서 집값(target)이 오른쪽으로 꼬리가 긴 분포임을 확인했다\n",
    "\n",
    "`-` 정규분포로 맞춰주기 위해 로그변환을 하자"
   ]
  },
  {
   "cell_type": "code",
   "execution_count": 404,
   "id": "5d800041-e76f-499f-9521-6afaf2609b99",
   "metadata": {},
   "outputs": [],
   "source": [
    "import scipy.stats as stats"
   ]
  },
  {
   "cell_type": "code",
   "execution_count": 405,
   "id": "c28a6599-31c0-4874-abc9-a73755e02d2b",
   "metadata": {},
   "outputs": [
    {
     "data": {
      "text/plain": [
       "<AxesSubplot:>"
      ]
     },
     "execution_count": 405,
     "metadata": {},
     "output_type": "execute_result"
    },
    {
     "data": {
      "image/png": "[encoded data removed]",
      "text/plain": [
       "<Figure size 432x288 with 1 Axes>"
      ]
     },
     "metadata": {
      "needs_background": "light"
     },
     "output_type": "display_data"
    }
   ],
   "source": [
    "np.log(df['target']).hist(bins = 30)"
   ]
  },
  {
   "cell_type": "code",
   "execution_count": 406,
   "id": "4d3b4a07-2e6e-42d5-bf45-89556f7c776a",
   "metadata": {},
   "outputs": [
    {
     "data": {
      "image/png": "[encoded data removed]",
      "text/plain": [
       "<Figure size 432x288 with 1 Axes>"
      ]
     },
     "metadata": {
      "needs_background": "light"
     },
     "output_type": "display_data"
    }
   ],
   "source": [
    "_ = stats.probplot(np.log(df['target']), plot = plt)"
   ]
  },
  {
   "cell_type": "markdown",
   "id": "fe1d038f-cbea-4809-8c3c-7f3d53bd9a8e",
   "metadata": {},
   "source": [
    "`-` 로그 변환을 했지만 정규분포를 따르지 않는것처럼 보인다\n",
    "\n",
    "`-` 샤피로-윌크 검정을 통해 정확히 확인하자"
   ]
  },
  {
   "cell_type": "code",
   "execution_count": 407,
   "id": "129afe97-c7b2-455c-bd95-9fe47f158217",
   "metadata": {},
   "outputs": [],
   "source": [
    "test_stat, p_val = stats.shapiro(np.log(df['target']))"
   ]
  },
  {
   "cell_type": "code",
   "execution_count": 408,
   "id": "6fc47c8b-29e6-452d-be9c-47e87f8457e2",
   "metadata": {},
   "outputs": [
    {
     "data": {
      "text/plain": [
       "(4.748497602069524e-13, 0.08070163740417918)"
      ]
     },
     "execution_count": 408,
     "metadata": {},
     "output_type": "execute_result"
    }
   ],
   "source": [
    "p_val, np.log(df['target']).skew() ## p값과 왜도"
   ]
  },
  {
   "cell_type": "markdown",
   "id": "dd604a17-a18d-48fb-aede-bc88202e4d88",
   "metadata": {},
   "source": [
    "`-` 안타깝게도 정규분포를 따르지 않는다"
   ]
  },
  {
   "cell_type": "markdown",
   "id": "f6195eed-d40b-4b16-889a-8e9cbc59ce6e",
   "metadata": {},
   "source": [
    "`-` 왜도는 $0.08$로 거의 $0$"
   ]
  },
  {
   "cell_type": "markdown",
   "id": "5bda65ec-b964-4472-9489-35e6a3806338",
   "metadata": {},
   "source": [
    "`-` 그런데 Q-Q플랏을 보면 심각한 이상치가 보인다(-3부근에 2개)\n",
    "\n",
    "`-` 저런 이상치를 예측하는 것은 불가능해보이니 제거하자"
   ]
  },
  {
   "cell_type": "code",
   "execution_count": 409,
   "id": "39abf958-e0c9-4435-9b92-2bb0df47cefe",
   "metadata": {},
   "outputs": [],
   "source": [
    "df = df.query('target > 50000') ## 5만달러보단 저렴한 집(2개)은 심각한 이상점이므로 제외하자"
   ]
  },
  {
   "cell_type": "code",
   "execution_count": 410,
   "id": "7dff09ed-be31-4941-8d14-5347eee540ae",
   "metadata": {},
   "outputs": [
    {
     "data": {
      "image/png": "[encoded data removed]",
      "text/plain": [
       "<Figure size 432x288 with 1 Axes>"
      ]
     },
     "metadata": {
      "needs_background": "light"
     },
     "output_type": "display_data"
    }
   ],
   "source": [
    "_ = stats.probplot(np.log(df['target']), plot = plt)"
   ]
  },
  {
   "cell_type": "markdown",
   "id": "accef66b-668a-43f2-9497-51b60cf1900a",
   "metadata": {},
   "source": [
    "`-` 값이 큰쪽으로도 이상점이 있는데 제거할지 말지 고민중이다"
   ]
  },
  {
   "cell_type": "code",
   "execution_count": 411,
   "id": "ee22c490-23d9-43fd-be2c-224d786d041b",
   "metadata": {},
   "outputs": [
    {
     "data": {
      "text/html": [
       "<div>\n",
       "<style scoped>\n",
       "    .dataframe tbody tr th:only-of-type {\n",
       "        vertical-align: middle;\n",
       "    }\n",
       "\n",
       "    .dataframe tbody tr th {\n",
       "        vertical-align: top;\n",
       "    }\n",
       "\n",
       "    .dataframe thead th {\n",
       "        text-align: right;\n",
       "    }\n",
       "</style>\n",
       "<table border=\"1\" class=\"dataframe\">\n",
       "  <thead>\n",
       "    <tr style=\"text-align: right;\">\n",
       "      <th></th>\n",
       "      <th>Overall_Qual</th>\n",
       "      <th>Gr_Liv_Area</th>\n",
       "      <th>Exter_Qual</th>\n",
       "      <th>Garage_Cars</th>\n",
       "      <th>Garage_Area</th>\n",
       "      <th>Kitchen_Qual</th>\n",
       "      <th>Total_Bsmt_SF</th>\n",
       "      <th>first_Flr_SF</th>\n",
       "      <th>Bsmt_Qual</th>\n",
       "      <th>Full_Bath</th>\n",
       "      <th>Year_Built</th>\n",
       "      <th>Year_Remod_Add</th>\n",
       "      <th>Garage_Yr_Blt</th>\n",
       "      <th>target</th>\n",
       "    </tr>\n",
       "  </thead>\n",
       "  <tbody>\n",
       "    <tr>\n",
       "      <th>0</th>\n",
       "      <td>10</td>\n",
       "      <td>2392</td>\n",
       "      <td>4</td>\n",
       "      <td>3</td>\n",
       "      <td>968</td>\n",
       "      <td>4</td>\n",
       "      <td>2392</td>\n",
       "      <td>2392</td>\n",
       "      <td>4</td>\n",
       "      <td>2</td>\n",
       "      <td>2003</td>\n",
       "      <td>2003</td>\n",
       "      <td>2003</td>\n",
       "      <td>386250</td>\n",
       "    </tr>\n",
       "    <tr>\n",
       "      <th>120</th>\n",
       "      <td>10</td>\n",
       "      <td>2393</td>\n",
       "      <td>4</td>\n",
       "      <td>2</td>\n",
       "      <td>846</td>\n",
       "      <td>4</td>\n",
       "      <td>970</td>\n",
       "      <td>1469</td>\n",
       "      <td>3</td>\n",
       "      <td>2</td>\n",
       "      <td>1998</td>\n",
       "      <td>1999</td>\n",
       "      <td>1998</td>\n",
       "      <td>345000</td>\n",
       "    </tr>\n",
       "    <tr>\n",
       "      <th>150</th>\n",
       "      <td>10</td>\n",
       "      <td>2007</td>\n",
       "      <td>4</td>\n",
       "      <td>3</td>\n",
       "      <td>812</td>\n",
       "      <td>4</td>\n",
       "      <td>1017</td>\n",
       "      <td>1026</td>\n",
       "      <td>4</td>\n",
       "      <td>2</td>\n",
       "      <td>2008</td>\n",
       "      <td>2008</td>\n",
       "      <td>2008</td>\n",
       "      <td>310000</td>\n",
       "    </tr>\n",
       "    <tr>\n",
       "      <th>201</th>\n",
       "      <td>10</td>\n",
       "      <td>2775</td>\n",
       "      <td>4</td>\n",
       "      <td>2</td>\n",
       "      <td>880</td>\n",
       "      <td>3</td>\n",
       "      <td>1237</td>\n",
       "      <td>1521</td>\n",
       "      <td>2</td>\n",
       "      <td>3</td>\n",
       "      <td>1893</td>\n",
       "      <td>2000</td>\n",
       "      <td>1988</td>\n",
       "      <td>325000</td>\n",
       "    </tr>\n",
       "    <tr>\n",
       "      <th>416</th>\n",
       "      <td>10</td>\n",
       "      <td>2332</td>\n",
       "      <td>4</td>\n",
       "      <td>3</td>\n",
       "      <td>846</td>\n",
       "      <td>4</td>\n",
       "      <td>1682</td>\n",
       "      <td>1742</td>\n",
       "      <td>4</td>\n",
       "      <td>2</td>\n",
       "      <td>2007</td>\n",
       "      <td>2008</td>\n",
       "      <td>2008</td>\n",
       "      <td>426000</td>\n",
       "    </tr>\n",
       "    <tr>\n",
       "      <th>462</th>\n",
       "      <td>10</td>\n",
       "      <td>3627</td>\n",
       "      <td>3</td>\n",
       "      <td>3</td>\n",
       "      <td>807</td>\n",
       "      <td>3</td>\n",
       "      <td>1930</td>\n",
       "      <td>1831</td>\n",
       "      <td>4</td>\n",
       "      <td>3</td>\n",
       "      <td>1995</td>\n",
       "      <td>1996</td>\n",
       "      <td>1995</td>\n",
       "      <td>625000</td>\n",
       "    </tr>\n",
       "    <tr>\n",
       "      <th>683</th>\n",
       "      <td>10</td>\n",
       "      <td>3608</td>\n",
       "      <td>3</td>\n",
       "      <td>3</td>\n",
       "      <td>840</td>\n",
       "      <td>4</td>\n",
       "      <td>1107</td>\n",
       "      <td>1518</td>\n",
       "      <td>2</td>\n",
       "      <td>2</td>\n",
       "      <td>1892</td>\n",
       "      <td>1993</td>\n",
       "      <td>1993</td>\n",
       "      <td>475000</td>\n",
       "    </tr>\n",
       "    <tr>\n",
       "      <th>732</th>\n",
       "      <td>9</td>\n",
       "      <td>2338</td>\n",
       "      <td>4</td>\n",
       "      <td>3</td>\n",
       "      <td>1110</td>\n",
       "      <td>3</td>\n",
       "      <td>2660</td>\n",
       "      <td>2338</td>\n",
       "      <td>4</td>\n",
       "      <td>2</td>\n",
       "      <td>2006</td>\n",
       "      <td>2007</td>\n",
       "      <td>2005</td>\n",
       "      <td>591587</td>\n",
       "    </tr>\n",
       "    <tr>\n",
       "      <th>789</th>\n",
       "      <td>10</td>\n",
       "      <td>1718</td>\n",
       "      <td>4</td>\n",
       "      <td>3</td>\n",
       "      <td>786</td>\n",
       "      <td>4</td>\n",
       "      <td>1700</td>\n",
       "      <td>1718</td>\n",
       "      <td>4</td>\n",
       "      <td>2</td>\n",
       "      <td>2006</td>\n",
       "      <td>2007</td>\n",
       "      <td>2008</td>\n",
       "      <td>337500</td>\n",
       "    </tr>\n",
       "    <tr>\n",
       "      <th>856</th>\n",
       "      <td>10</td>\n",
       "      <td>4476</td>\n",
       "      <td>3</td>\n",
       "      <td>3</td>\n",
       "      <td>813</td>\n",
       "      <td>4</td>\n",
       "      <td>2396</td>\n",
       "      <td>2411</td>\n",
       "      <td>4</td>\n",
       "      <td>3</td>\n",
       "      <td>1996</td>\n",
       "      <td>1996</td>\n",
       "      <td>1996</td>\n",
       "      <td>745000</td>\n",
       "    </tr>\n",
       "    <tr>\n",
       "      <th>871</th>\n",
       "      <td>10</td>\n",
       "      <td>2470</td>\n",
       "      <td>4</td>\n",
       "      <td>3</td>\n",
       "      <td>789</td>\n",
       "      <td>4</td>\n",
       "      <td>2535</td>\n",
       "      <td>2470</td>\n",
       "      <td>4</td>\n",
       "      <td>1</td>\n",
       "      <td>2003</td>\n",
       "      <td>2003</td>\n",
       "      <td>2003</td>\n",
       "      <td>615000</td>\n",
       "    </tr>\n",
       "    <tr>\n",
       "      <th>897</th>\n",
       "      <td>10</td>\n",
       "      <td>2020</td>\n",
       "      <td>4</td>\n",
       "      <td>3</td>\n",
       "      <td>900</td>\n",
       "      <td>4</td>\n",
       "      <td>2006</td>\n",
       "      <td>2020</td>\n",
       "      <td>4</td>\n",
       "      <td>2</td>\n",
       "      <td>2009</td>\n",
       "      <td>2009</td>\n",
       "      <td>2009</td>\n",
       "      <td>402861</td>\n",
       "    </tr>\n",
       "    <tr>\n",
       "      <th>962</th>\n",
       "      <td>10</td>\n",
       "      <td>2945</td>\n",
       "      <td>4</td>\n",
       "      <td>3</td>\n",
       "      <td>641</td>\n",
       "      <td>3</td>\n",
       "      <td>1410</td>\n",
       "      <td>1426</td>\n",
       "      <td>4</td>\n",
       "      <td>3</td>\n",
       "      <td>2006</td>\n",
       "      <td>2006</td>\n",
       "      <td>2006</td>\n",
       "      <td>438780</td>\n",
       "    </tr>\n",
       "    <tr>\n",
       "      <th>1114</th>\n",
       "      <td>10</td>\n",
       "      <td>2296</td>\n",
       "      <td>4</td>\n",
       "      <td>3</td>\n",
       "      <td>842</td>\n",
       "      <td>4</td>\n",
       "      <td>1722</td>\n",
       "      <td>1728</td>\n",
       "      <td>4</td>\n",
       "      <td>2</td>\n",
       "      <td>2008</td>\n",
       "      <td>2008</td>\n",
       "      <td>2008</td>\n",
       "      <td>451950</td>\n",
       "    </tr>\n",
       "    <tr>\n",
       "      <th>1258</th>\n",
       "      <td>9</td>\n",
       "      <td>2868</td>\n",
       "      <td>3</td>\n",
       "      <td>3</td>\n",
       "      <td>716</td>\n",
       "      <td>4</td>\n",
       "      <td>1992</td>\n",
       "      <td>1992</td>\n",
       "      <td>4</td>\n",
       "      <td>3</td>\n",
       "      <td>2005</td>\n",
       "      <td>2006</td>\n",
       "      <td>2005</td>\n",
       "      <td>556581</td>\n",
       "    </tr>\n",
       "    <tr>\n",
       "      <th>1298</th>\n",
       "      <td>10</td>\n",
       "      <td>2084</td>\n",
       "      <td>4</td>\n",
       "      <td>3</td>\n",
       "      <td>1220</td>\n",
       "      <td>4</td>\n",
       "      <td>2078</td>\n",
       "      <td>2084</td>\n",
       "      <td>4</td>\n",
       "      <td>2</td>\n",
       "      <td>2007</td>\n",
       "      <td>2008</td>\n",
       "      <td>2007</td>\n",
       "      <td>385000</td>\n",
       "    </tr>\n",
       "    <tr>\n",
       "      <th>1336</th>\n",
       "      <td>10</td>\n",
       "      <td>2698</td>\n",
       "      <td>4</td>\n",
       "      <td>3</td>\n",
       "      <td>736</td>\n",
       "      <td>4</td>\n",
       "      <td>1850</td>\n",
       "      <td>1850</td>\n",
       "      <td>4</td>\n",
       "      <td>2</td>\n",
       "      <td>2006</td>\n",
       "      <td>2006</td>\n",
       "      <td>2006</td>\n",
       "      <td>535000</td>\n",
       "    </tr>\n",
       "  </tbody>\n",
       "</table>\n",
       "</div>"
      ],
      "text/plain": [
       "      Overall_Qual  Gr_Liv_Area  Exter_Qual  Garage_Cars  Garage_Area  \\\n",
       "0               10         2392           4            3          968   \n",
       "120             10         2393           4            2          846   \n",
       "150             10         2007           4            3          812   \n",
       "201             10         2775           4            2          880   \n",
       "416             10         2332           4            3          846   \n",
       "462             10         3627           3            3          807   \n",
       "683             10         3608           3            3          840   \n",
       "732              9         2338           4            3         1110   \n",
       "789             10         1718           4            3          786   \n",
       "856             10         4476           3            3          813   \n",
       "871             10         2470           4            3          789   \n",
       "897             10         2020           4            3          900   \n",
       "962             10         2945           4            3          641   \n",
       "1114            10         2296           4            3          842   \n",
       "1258             9         2868           3            3          716   \n",
       "1298            10         2084           4            3         1220   \n",
       "1336            10         2698           4            3          736   \n",
       "\n",
       "      Kitchen_Qual  Total_Bsmt_SF  first_Flr_SF  Bsmt_Qual  Full_Bath  \\\n",
       "0                4           2392          2392          4          2   \n",
       "120              4            970          1469          3          2   \n",
       "150              4           1017          1026          4          2   \n",
       "201              3           1237          1521          2          3   \n",
       "416              4           1682          1742          4          2   \n",
       "462              3           1930          1831          4          3   \n",
       "683              4           1107          1518          2          2   \n",
       "732              3           2660          2338          4          2   \n",
       "789              4           1700          1718          4          2   \n",
       "856              4           2396          2411          4          3   \n",
       "871              4           2535          2470          4          1   \n",
       "897              4           2006          2020          4          2   \n",
       "962              3           1410          1426          4          3   \n",
       "1114             4           1722          1728          4          2   \n",
       "1258             4           1992          1992          4          3   \n",
       "1298             4           2078          2084          4          2   \n",
       "1336             4           1850          1850          4          2   \n",
       "\n",
       "      Year_Built  Year_Remod_Add  Garage_Yr_Blt  target  \n",
       "0           2003            2003           2003  386250  \n",
       "120         1998            1999           1998  345000  \n",
       "150         2008            2008           2008  310000  \n",
       "201         1893            2000           1988  325000  \n",
       "416         2007            2008           2008  426000  \n",
       "462         1995            1996           1995  625000  \n",
       "683         1892            1993           1993  475000  \n",
       "732         2006            2007           2005  591587  \n",
       "789         2006            2007           2008  337500  \n",
       "856         1996            1996           1996  745000  \n",
       "871         2003            2003           2003  615000  \n",
       "897         2009            2009           2009  402861  \n",
       "962         2006            2006           2006  438780  \n",
       "1114        2008            2008           2008  451950  \n",
       "1258        2005            2006           2005  556581  \n",
       "1298        2007            2008           2007  385000  \n",
       "1336        2006            2006           2006  535000  "
      ]
     },
     "execution_count": 411,
     "metadata": {},
     "output_type": "execute_result"
    }
   ],
   "source": [
    "df.query('target > 500000 or Overall_Qual == 10')"
   ]
  },
  {
   "cell_type": "markdown",
   "id": "c7844bd6-06e5-4573-a2a6-aae6bd51f19d",
   "metadata": {},
   "source": [
    "`-` 가장 비싼 집이 745000 달러인데 Gr_Liv_Area(지상층 생활 면적)이 4476으로 매우 넓다!\n",
    "\n",
    "`-` 근데 생각해보니 제거하는 것이 맞는 것 같다(6개의 심각한 이상치로 인해 큰 영향을 끼칠 수 있음)"
   ]
  },
  {
   "cell_type": "code",
   "execution_count": 412,
   "id": "88d19e75-66a2-4e61-8cb0-9196ece364cd",
   "metadata": {},
   "outputs": [],
   "source": [
    "df = df.query('target < 500000') ## 50만 달러보다 비싼 집도 제외하자, 기준은 바뀔 수 있음"
   ]
  },
  {
   "cell_type": "code",
   "execution_count": 413,
   "id": "4a5328be-fd2b-419a-9a80-af6cceca8f8c",
   "metadata": {},
   "outputs": [
    {
     "data": {
      "image/png": "[encoded data removed]",
      "text/plain": [
       "<Figure size 432x288 with 1 Axes>"
      ]
     },
     "metadata": {
      "needs_background": "light"
     },
     "output_type": "display_data"
    }
   ],
   "source": [
    "_ = stats.probplot(np.log(df['target']), plot = plt)"
   ]
  },
  {
   "cell_type": "code",
   "execution_count": 414,
   "id": "1749e159-e33c-40d3-8f03-b41b00c66147",
   "metadata": {},
   "outputs": [
    {
     "data": {
      "text/plain": [
       "<AxesSubplot:>"
      ]
     },
     "execution_count": 414,
     "metadata": {},
     "output_type": "execute_result"
    },
    {
     "data": {
      "image/png": "[encoded data removed]",
      "text/plain": [
       "<Figure size 432x288 with 1 Axes>"
      ]
     },
     "metadata": {
      "needs_background": "light"
     },
     "output_type": "display_data"
    }
   ],
   "source": [
    "np.log(df['target']).hist(bins = 30)"
   ]
  },
  {
   "cell_type": "code",
   "execution_count": 415,
   "id": "1f055220-b14b-42ce-a8e5-2f2665650aad",
   "metadata": {},
   "outputs": [],
   "source": [
    "test_stat, p_val = stats.shapiro(np.log(df['target']))"
   ]
  },
  {
   "cell_type": "code",
   "execution_count": 416,
   "id": "f1d5fd07-52fb-454f-b88d-eefe082ec454",
   "metadata": {},
   "outputs": [
    {
     "data": {
      "text/plain": [
       "(1.0687537077558318e-08, 0.28208736513525146)"
      ]
     },
     "execution_count": 416,
     "metadata": {},
     "output_type": "execute_result"
    }
   ],
   "source": [
    "p_val, np.log(df['target']).skew() ## p값과 왜도"
   ]
  },
  {
   "cell_type": "markdown",
   "id": "0f86a8ee-da2c-40de-bb6a-2b3386bea891",
   "metadata": {},
   "source": [
    "`-` 로그 변환대신 box-cox 변환을 해보자\n",
    "\n",
    "`-` box-cox 수식 : https://en.wikipedia.org/wiki/Power_transform#Box%E2%80%93Cox_transformation"
   ]
  },
  {
   "cell_type": "code",
   "execution_count": 417,
   "id": "b005b714-6b41-40c3-86cf-2f94c4f4fec5",
   "metadata": {},
   "outputs": [
    {
     "data": {
      "text/plain": [
       "<AxesSubplot:>"
      ]
     },
     "execution_count": 417,
     "metadata": {},
     "output_type": "execute_result"
    },
    {
     "data": {
      "image/png": "[encoded data removed]",
      "text/plain": [
       "<Figure size 432x288 with 1 Axes>"
      ]
     },
     "metadata": {
      "needs_background": "light"
     },
     "output_type": "display_data"
    }
   ],
   "source": [
    "pd.Series(stats.boxcox(df['target'])[0]).hist(bins = 30)"
   ]
  },
  {
   "cell_type": "markdown",
   "id": "e03033ed-29e4-4f4a-b0d3-c2bc087129d9",
   "metadata": {},
   "source": [
    "`-` 히스토그램은 로그변환과 비슷해보임"
   ]
  },
  {
   "cell_type": "code",
   "execution_count": 418,
   "id": "2e42b90f-ad32-4cff-8b8a-a88b8361b066",
   "metadata": {},
   "outputs": [],
   "source": [
    "test_stat, p_val = stats.shapiro(stats.boxcox(df['target'])[0])"
   ]
  },
  {
   "cell_type": "code",
   "execution_count": 419,
   "id": "da425f13-5095-4b6e-af0d-10ed74a87c9b",
   "metadata": {},
   "outputs": [
    {
     "data": {
      "text/plain": [
       "(7.786380592733622e-06, -4.04804661662393e-05)"
      ]
     },
     "execution_count": 419,
     "metadata": {},
     "output_type": "execute_result"
    }
   ],
   "source": [
    "p_val, pd.Series(stats.boxcox(df['target'])[0]).skew() ## p값과 왜도"
   ]
  },
  {
   "cell_type": "markdown",
   "id": "c7db5eaa-393a-42c4-af36-3961a39b5f98",
   "metadata": {},
   "source": [
    "`-` 로그 변환보다 box-cox 변환이 더 우수한 변환으로 보인다\n",
    "\n",
    "`-` 그런데 box-cox 변환을 하고 다시 원래의 값으로 바꿔야 하는데 어떻게 해야할지 모른다\n",
    "\n",
    "`-` 그래서 일단은 로그 변환을 하자"
   ]
  },
  {
   "cell_type": "markdown",
   "id": "9865513e-aa62-44b9-8f46-b165359b29a4",
   "metadata": {},
   "source": [
    "## 모델링(선형 회귀)"
   ]
  },
  {
   "cell_type": "markdown",
   "id": "58f98186-ec1b-4305-be4d-d60c2227d4f6",
   "metadata": {},
   "source": [
    "`-` 간단하게 다중 선형 회귀를 해보자"
   ]
  },
  {
   "cell_type": "markdown",
   "id": "6225c696-aa24-4392-bee6-e5b67cd96da9",
   "metadata": {},
   "source": [
    "### 변수 선택(뒤로부터 제거)"
   ]
  },
  {
   "cell_type": "code",
   "execution_count": 420,
   "id": "20febe18-c523-435d-9562-69d739595765",
   "metadata": {},
   "outputs": [],
   "source": [
    "from sklearn.model_selection import train_test_split"
   ]
  },
  {
   "cell_type": "code",
   "execution_count": 482,
   "id": "b14c3cbb-b658-4eb1-ad5e-c860fa9f3824",
   "metadata": {},
   "outputs": [
    {
     "data": {
      "text/plain": [
       "(1341, 14)"
      ]
     },
     "execution_count": 482,
     "metadata": {},
     "output_type": "execute_result"
    }
   ],
   "source": [
    "df.shape ## 총 9개의 이상점을 제거함(더 있지만 일단은 냅둠)"
   ]
  },
  {
   "cell_type": "code",
   "execution_count": 492,
   "id": "4a2a692b-d473-4bd1-80a9-08083b8cfc99",
   "metadata": {},
   "outputs": [],
   "source": [
    "dt = df.copy()"
   ]
  },
  {
   "cell_type": "code",
   "execution_count": 494,
   "id": "0f712cfb-772d-4e92-9acf-78faef33ae8e",
   "metadata": {},
   "outputs": [],
   "source": [
    "dt.drop(['Year_Built', 'Year_Remod_Add', 'Garage_Yr_Blt'], axis = 1, inplace = True)"
   ]
  },
  {
   "cell_type": "markdown",
   "id": "7bab0f00-e70c-4942-9b35-d16cfe9dbfdb",
   "metadata": {},
   "source": [
    "`-` EDA를 했을 땐 연도가 의미있는 변수가 아니어서 모델링에 사용하지 않겠다"
   ]
  },
  {
   "cell_type": "code",
   "execution_count": 496,
   "id": "dfdac749-9056-4cbe-b607-1840759b9ee0",
   "metadata": {},
   "outputs": [],
   "source": [
    "target = dt['target']  ## target\n",
    "dt = dt.iloc[:, :-1]   ## target 제외한 데이터프레임"
   ]
  },
  {
   "cell_type": "code",
   "execution_count": 497,
   "id": "8e55399e-de16-4349-91be-69b5ac66ae5a",
   "metadata": {},
   "outputs": [],
   "source": [
    "x_train, x_valid, y_train, y_valid = train_test_split(dt, target, test_size = 0.2, shuffle = True, random_state = 22)\n",
    "\n",
    "## 표본크기가 1341로 커서 일단 교차검증은 하지 않음"
   ]
  },
  {
   "cell_type": "code",
   "execution_count": 498,
   "id": "d007416d-dfa1-4e96-96db-7d65860b6db6",
   "metadata": {},
   "outputs": [],
   "source": [
    "y_train = np.log(y_train) ## 로그 변환"
   ]
  },
  {
   "cell_type": "code",
   "execution_count": 488,
   "id": "229f80c6-bb74-47ed-8e7b-2ff44b9dd32c",
   "metadata": {},
   "outputs": [],
   "source": [
    "import statsmodels.formula.api as smf"
   ]
  },
  {
   "cell_type": "code",
   "execution_count": 539,
   "id": "17747ed2-a472-421e-a5c6-a4f84a16c13d",
   "metadata": {},
   "outputs": [],
   "source": [
    "tmp = pd.concat([x_train, y_train], axis = 1)"
   ]
  },
  {
   "cell_type": "code",
   "execution_count": 540,
   "id": "f462dbaa-7cf1-4120-a651-3adc073e9ae3",
   "metadata": {},
   "outputs": [
    {
     "data": {
      "text/html": [
       "<div>\n",
       "<style scoped>\n",
       "    .dataframe tbody tr th:only-of-type {\n",
       "        vertical-align: middle;\n",
       "    }\n",
       "\n",
       "    .dataframe tbody tr th {\n",
       "        vertical-align: top;\n",
       "    }\n",
       "\n",
       "    .dataframe thead th {\n",
       "        text-align: right;\n",
       "    }\n",
       "</style>\n",
       "<table border=\"1\" class=\"dataframe\">\n",
       "  <thead>\n",
       "    <tr style=\"text-align: right;\">\n",
       "      <th></th>\n",
       "      <th>Overall_Qual</th>\n",
       "      <th>Gr_Liv_Area</th>\n",
       "      <th>Exter_Qual</th>\n",
       "      <th>Garage_Cars</th>\n",
       "      <th>Garage_Area</th>\n",
       "      <th>Kitchen_Qual</th>\n",
       "      <th>Total_Bsmt_SF</th>\n",
       "      <th>first_Flr_SF</th>\n",
       "      <th>Bsmt_Qual</th>\n",
       "      <th>Full_Bath</th>\n",
       "      <th>target</th>\n",
       "    </tr>\n",
       "  </thead>\n",
       "  <tbody>\n",
       "    <tr>\n",
       "      <th>904</th>\n",
       "      <td>7</td>\n",
       "      <td>1536</td>\n",
       "      <td>3</td>\n",
       "      <td>2</td>\n",
       "      <td>532</td>\n",
       "      <td>3</td>\n",
       "      <td>1536</td>\n",
       "      <td>1536</td>\n",
       "      <td>3</td>\n",
       "      <td>2</td>\n",
       "      <td>12.273731</td>\n",
       "    </tr>\n",
       "    <tr>\n",
       "      <th>443</th>\n",
       "      <td>5</td>\n",
       "      <td>1588</td>\n",
       "      <td>2</td>\n",
       "      <td>2</td>\n",
       "      <td>480</td>\n",
       "      <td>2</td>\n",
       "      <td>768</td>\n",
       "      <td>1024</td>\n",
       "      <td>2</td>\n",
       "      <td>1</td>\n",
       "      <td>11.918391</td>\n",
       "    </tr>\n",
       "    <tr>\n",
       "      <th>22</th>\n",
       "      <td>7</td>\n",
       "      <td>1651</td>\n",
       "      <td>2</td>\n",
       "      <td>1</td>\n",
       "      <td>276</td>\n",
       "      <td>2</td>\n",
       "      <td>725</td>\n",
       "      <td>1035</td>\n",
       "      <td>2</td>\n",
       "      <td>2</td>\n",
       "      <td>12.055250</td>\n",
       "    </tr>\n",
       "    <tr>\n",
       "      <th>389</th>\n",
       "      <td>6</td>\n",
       "      <td>1152</td>\n",
       "      <td>2</td>\n",
       "      <td>2</td>\n",
       "      <td>412</td>\n",
       "      <td>2</td>\n",
       "      <td>912</td>\n",
       "      <td>1152</td>\n",
       "      <td>2</td>\n",
       "      <td>1</td>\n",
       "      <td>11.873742</td>\n",
       "    </tr>\n",
       "    <tr>\n",
       "      <th>681</th>\n",
       "      <td>8</td>\n",
       "      <td>1226</td>\n",
       "      <td>3</td>\n",
       "      <td>2</td>\n",
       "      <td>484</td>\n",
       "      <td>3</td>\n",
       "      <td>1226</td>\n",
       "      <td>1226</td>\n",
       "      <td>3</td>\n",
       "      <td>1</td>\n",
       "      <td>12.043554</td>\n",
       "    </tr>\n",
       "  </tbody>\n",
       "</table>\n",
       "</div>"
      ],
      "text/plain": [
       "     Overall_Qual  Gr_Liv_Area  Exter_Qual  Garage_Cars  Garage_Area  \\\n",
       "904             7         1536           3            2          532   \n",
       "443             5         1588           2            2          480   \n",
       "22              7         1651           2            1          276   \n",
       "389             6         1152           2            2          412   \n",
       "681             8         1226           3            2          484   \n",
       "\n",
       "     Kitchen_Qual  Total_Bsmt_SF  first_Flr_SF  Bsmt_Qual  Full_Bath  \\\n",
       "904             3           1536          1536          3          2   \n",
       "443             2            768          1024          2          1   \n",
       "22              2            725          1035          2          2   \n",
       "389             2            912          1152          2          1   \n",
       "681             3           1226          1226          3          1   \n",
       "\n",
       "        target  \n",
       "904  12.273731  \n",
       "443  11.918391  \n",
       "22   12.055250  \n",
       "389  11.873742  \n",
       "681  12.043554  "
      ]
     },
     "execution_count": 540,
     "metadata": {},
     "output_type": "execute_result"
    }
   ],
   "source": [
    "tmp.head()"
   ]
  },
  {
   "cell_type": "markdown",
   "id": "c908ca64-87c9-45a2-8e61-ceb7d10f2b8b",
   "metadata": {},
   "source": [
    "`-` 선형회귀는 표준화를 하나 안하나 상관없어서 일단은 하지 않겠다\n",
    "\n",
    "`-` 표준화를 하면 계수를 통해 중요성을 알 수 있긴 함"
   ]
  },
  {
   "cell_type": "code",
   "execution_count": 541,
   "id": "3f9b9eae-072f-43f2-a938-c931f273c3ff",
   "metadata": {},
   "outputs": [],
   "source": [
    "rst = smf.ols(formula = 'target~' + '+'.join(tmp.columns[:-1]), data = tmp).fit()\n",
    "# rst.summary()"
   ]
  },
  {
   "cell_type": "markdown",
   "id": "a6cefd0e-5fea-4a09-b2cf-ea5bbca57e8d",
   "metadata": {},
   "source": [
    "`-` Full_Bath 변수의 p값이 가장 유의하지 않으니 제거"
   ]
  },
  {
   "cell_type": "code",
   "execution_count": 542,
   "id": "63276882-928a-47d1-a909-ddfdd221e6e2",
   "metadata": {},
   "outputs": [],
   "source": [
    "tmp.drop('Full_Bath', axis = 1, inplace = True)"
   ]
  },
  {
   "cell_type": "code",
   "execution_count": 543,
   "id": "2fdd5d93-c0ad-4254-ab6b-2a0317155db6",
   "metadata": {},
   "outputs": [],
   "source": [
    "rst2 = smf.ols(formula = 'target~' + '+'.join(tmp.columns[:-1]), data = tmp).fit()\n",
    "# rst2.summary()"
   ]
  },
  {
   "cell_type": "markdown",
   "id": "2b202e4a-d1b1-4e35-9cd7-4271d20da93c",
   "metadata": {},
   "source": [
    "`-` Exter_Qual 변수의 p값이 가장 유의하지 않으니 제거"
   ]
  },
  {
   "cell_type": "code",
   "execution_count": 544,
   "id": "19957469-865e-4c04-a4c4-1c0be7b13f11",
   "metadata": {},
   "outputs": [],
   "source": [
    "tmp.drop('Exter_Qual', axis = 1, inplace = True)"
   ]
  },
  {
   "cell_type": "code",
   "execution_count": 545,
   "id": "88dc2727-f8b0-494b-8f67-7e86885a54b3",
   "metadata": {},
   "outputs": [],
   "source": [
    "rst3 = smf.ols(formula = 'target~' + '+'.join(tmp.columns[:-1]), data = tmp).fit()\n",
    "# rst3.summary()"
   ]
  },
  {
   "cell_type": "markdown",
   "id": "a204d378-d612-4fbd-ad41-84f7a2c0f0b9",
   "metadata": {},
   "source": [
    "`-` Garage_Cars 변수의 p값이 가장 유의하지 않으니 제거"
   ]
  },
  {
   "cell_type": "code",
   "execution_count": 546,
   "id": "af4c131a-c052-448d-9df1-571f0ab6a645",
   "metadata": {},
   "outputs": [],
   "source": [
    "tmp.drop('Garage_Cars', axis = 1, inplace = True)"
   ]
  },
  {
   "cell_type": "code",
   "execution_count": 547,
   "id": "3a832aa7-0ce4-4788-826b-5bbc995d1f51",
   "metadata": {},
   "outputs": [
    {
     "data": {
      "text/html": [
       "<table class=\"simpletable\">\n",
       "<caption>OLS Regression Results</caption>\n",
       "<tr>\n",
       "  <th>Dep. Variable:</th>         <td>target</td>      <th>  R-squared:         </th> <td>   0.855</td>\n",
       "</tr>\n",
       "<tr>\n",
       "  <th>Model:</th>                   <td>OLS</td>       <th>  Adj. R-squared:    </th> <td>   0.854</td>\n",
       "</tr>\n",
       "<tr>\n",
       "  <th>Method:</th>             <td>Least Squares</td>  <th>  F-statistic:       </th> <td>   895.5</td>\n",
       "</tr>\n",
       "<tr>\n",
       "  <th>Date:</th>             <td>Mon, 24 Jan 2022</td> <th>  Prob (F-statistic):</th>  <td>  0.00</td> \n",
       "</tr>\n",
       "<tr>\n",
       "  <th>Time:</th>                 <td>17:51:36</td>     <th>  Log-Likelihood:    </th> <td>  581.62</td>\n",
       "</tr>\n",
       "<tr>\n",
       "  <th>No. Observations:</th>      <td>  1072</td>      <th>  AIC:               </th> <td>  -1147.</td>\n",
       "</tr>\n",
       "<tr>\n",
       "  <th>Df Residuals:</th>          <td>  1064</td>      <th>  BIC:               </th> <td>  -1107.</td>\n",
       "</tr>\n",
       "<tr>\n",
       "  <th>Df Model:</th>              <td>     7</td>      <th>                     </th>     <td> </td>   \n",
       "</tr>\n",
       "<tr>\n",
       "  <th>Covariance Type:</th>      <td>nonrobust</td>    <th>                     </th>     <td> </td>   \n",
       "</tr>\n",
       "</table>\n",
       "<table class=\"simpletable\">\n",
       "<tr>\n",
       "        <td></td>           <th>coef</th>     <th>std err</th>      <th>t</th>      <th>P>|t|</th>  <th>[0.025</th>    <th>0.975]</th>  \n",
       "</tr>\n",
       "<tr>\n",
       "  <th>Intercept</th>     <td>   10.4642</td> <td>    0.022</td> <td>  477.262</td> <td> 0.000</td> <td>   10.421</td> <td>   10.507</td>\n",
       "</tr>\n",
       "<tr>\n",
       "  <th>Overall_Qual</th>  <td>    0.0811</td> <td>    0.006</td> <td>   14.438</td> <td> 0.000</td> <td>    0.070</td> <td>    0.092</td>\n",
       "</tr>\n",
       "<tr>\n",
       "  <th>Gr_Liv_Area</th>   <td>    0.0003</td> <td> 1.23e-05</td> <td>   20.641</td> <td> 0.000</td> <td>    0.000</td> <td>    0.000</td>\n",
       "</tr>\n",
       "<tr>\n",
       "  <th>Garage_Area</th>   <td>    0.0001</td> <td> 2.87e-05</td> <td>    5.025</td> <td> 0.000</td> <td>  8.8e-05</td> <td>    0.000</td>\n",
       "</tr>\n",
       "<tr>\n",
       "  <th>Kitchen_Qual</th>  <td>    0.0669</td> <td>    0.009</td> <td>    7.325</td> <td> 0.000</td> <td>    0.049</td> <td>    0.085</td>\n",
       "</tr>\n",
       "<tr>\n",
       "  <th>Total_Bsmt_SF</th> <td>    0.0001</td> <td> 2.41e-05</td> <td>    5.363</td> <td> 0.000</td> <td> 8.21e-05</td> <td>    0.000</td>\n",
       "</tr>\n",
       "<tr>\n",
       "  <th>first_Flr_SF</th>  <td> 7.197e-05</td> <td> 2.54e-05</td> <td>    2.830</td> <td> 0.005</td> <td> 2.21e-05</td> <td>    0.000</td>\n",
       "</tr>\n",
       "<tr>\n",
       "  <th>Bsmt_Qual</th>     <td>    0.0931</td> <td>    0.009</td> <td>   10.801</td> <td> 0.000</td> <td>    0.076</td> <td>    0.110</td>\n",
       "</tr>\n",
       "</table>\n",
       "<table class=\"simpletable\">\n",
       "<tr>\n",
       "  <th>Omnibus:</th>       <td>97.915</td> <th>  Durbin-Watson:     </th> <td>   2.042</td>\n",
       "</tr>\n",
       "<tr>\n",
       "  <th>Prob(Omnibus):</th> <td> 0.000</td> <th>  Jarque-Bera (JB):  </th> <td> 162.586</td>\n",
       "</tr>\n",
       "<tr>\n",
       "  <th>Skew:</th>          <td>-0.639</td> <th>  Prob(JB):          </th> <td>4.95e-36</td>\n",
       "</tr>\n",
       "<tr>\n",
       "  <th>Kurtosis:</th>      <td> 4.417</td> <th>  Cond. No.          </th> <td>1.19e+04</td>\n",
       "</tr>\n",
       "</table><br/><br/>Notes:<br/>[1] Standard Errors assume that the covariance matrix of the errors is correctly specified.<br/>[2] The condition number is large, 1.19e+04. This might indicate that there are<br/>strong multicollinearity or other numerical problems."
      ],
      "text/plain": [
       "<class 'statsmodels.iolib.summary.Summary'>\n",
       "\"\"\"\n",
       "                            OLS Regression Results                            \n",
       "==============================================================================\n",
       "Dep. Variable:                 target   R-squared:                       0.855\n",
       "Model:                            OLS   Adj. R-squared:                  0.854\n",
       "Method:                 Least Squares   F-statistic:                     895.5\n",
       "Date:                Mon, 24 Jan 2022   Prob (F-statistic):               0.00\n",
       "Time:                        17:51:36   Log-Likelihood:                 581.62\n",
       "No. Observations:                1072   AIC:                            -1147.\n",
       "Df Residuals:                    1064   BIC:                            -1107.\n",
       "Df Model:                           7                                         \n",
       "Covariance Type:            nonrobust                                         \n",
       "=================================================================================\n",
       "                    coef    std err          t      P>|t|      [0.025      0.975]\n",
       "---------------------------------------------------------------------------------\n",
       "Intercept        10.4642      0.022    477.262      0.000      10.421      10.507\n",
       "Overall_Qual      0.0811      0.006     14.438      0.000       0.070       0.092\n",
       "Gr_Liv_Area       0.0003   1.23e-05     20.641      0.000       0.000       0.000\n",
       "Garage_Area       0.0001   2.87e-05      5.025      0.000     8.8e-05       0.000\n",
       "Kitchen_Qual      0.0669      0.009      7.325      0.000       0.049       0.085\n",
       "Total_Bsmt_SF     0.0001   2.41e-05      5.363      0.000    8.21e-05       0.000\n",
       "first_Flr_SF   7.197e-05   2.54e-05      2.830      0.005    2.21e-05       0.000\n",
       "Bsmt_Qual         0.0931      0.009     10.801      0.000       0.076       0.110\n",
       "==============================================================================\n",
       "Omnibus:                       97.915   Durbin-Watson:                   2.042\n",
       "Prob(Omnibus):                  0.000   Jarque-Bera (JB):              162.586\n",
       "Skew:                          -0.639   Prob(JB):                     4.95e-36\n",
       "Kurtosis:                       4.417   Cond. No.                     1.19e+04\n",
       "==============================================================================\n",
       "\n",
       "Notes:\n",
       "[1] Standard Errors assume that the covariance matrix of the errors is correctly specified.\n",
       "[2] The condition number is large, 1.19e+04. This might indicate that there are\n",
       "strong multicollinearity or other numerical problems.\n",
       "\"\"\""
      ]
     },
     "execution_count": 547,
     "metadata": {},
     "output_type": "execute_result"
    }
   ],
   "source": [
    "rst4 = smf.ols(formula = 'target~' + '+'.join(tmp.columns[:-1]), data = tmp).fit()\n",
    "rst4.summary()"
   ]
  },
  {
   "cell_type": "markdown",
   "id": "0c3006f3-c45a-4ce9-9740-600128c59001",
   "metadata": {},
   "source": [
    "`-` 다중공선성이 있다는 메시지가 있는데 이는 표준화를 통해 해결할 수 있다(나중에 하자)"
   ]
  },
  {
   "cell_type": "markdown",
   "id": "c9f072f0-5e77-44db-80f7-d6b8a2a85699",
   "metadata": {},
   "source": [
    "`-` 더 이상 유의하지 않은 피쳐는 없으므로 최종 모형은 rst4이다"
   ]
  },
  {
   "cell_type": "markdown",
   "id": "19128d96-cf72-4eda-8ce2-c9b3bf594390",
   "metadata": {},
   "source": [
    "### 잔차의 정규성 확인"
   ]
  },
  {
   "cell_type": "code",
   "execution_count": 461,
   "id": "dd487625-5f08-45fa-a7ce-6e62d8b75013",
   "metadata": {},
   "outputs": [
    {
     "data": {
      "text/plain": [
       "<AxesSubplot:>"
      ]
     },
     "execution_count": 461,
     "metadata": {},
     "output_type": "execute_result"
    },
    {
     "data": {
      "image/png": "[encoded data removed]",
      "text/plain": [
       "<Figure size 432x288 with 1 Axes>"
      ]
     },
     "metadata": {
      "needs_background": "light"
     },
     "output_type": "display_data"
    }
   ],
   "source": [
    "rst4.resid.hist(bins = 30)"
   ]
  },
  {
   "cell_type": "code",
   "execution_count": 462,
   "id": "19f410c3-14e8-4537-ba87-f7306f1d0f4c",
   "metadata": {},
   "outputs": [
    {
     "data": {
      "text/plain": [
       "Text(0.5, 1.0, 'fitted vs residual')"
      ]
     },
     "execution_count": 462,
     "metadata": {},
     "output_type": "execute_result"
    },
    {
     "data": {
      "image/png": "[encoded data removed]",
      "text/plain": [
       "<Figure size 432x288 with 1 Axes>"
      ]
     },
     "metadata": {
      "needs_background": "light"
     },
     "output_type": "display_data"
    }
   ],
   "source": [
    "plt.plot(y_train, rst4.resid, '.k')\n",
    "plt.axhline(0, 0.0, 1.0, color = 'red')\n",
    "plt.title('fitted vs residual')"
   ]
  },
  {
   "cell_type": "markdown",
   "id": "26f86b10-8b54-4c62-bc1b-b24dfeaacf32",
   "metadata": {},
   "source": [
    "`-` 보면 문제가 있음(잔차가 정규분포를 안따름)\n",
    "\n",
    "`-` 애초에 집값의 분포가 오른쪽으로 꼬리가 매우 긴 분포였고\n",
    "\n",
    "`-` 로그 변환도 했지만 정규분포를 따르지 않았기에\n",
    "\n",
    "`-` 이 정도는 그냥 넘어가자(사실 그러면 안 될 것 같지만...)\n",
    "\n",
    "`-` 어떻게 해결할지 고민하자(독립 변수도 정규분포로 맞춰줘야 함)"
   ]
  },
  {
   "cell_type": "code",
   "execution_count": 508,
   "id": "9c085c50-2e98-45ca-adac-9053028a8156",
   "metadata": {},
   "outputs": [],
   "source": [
    "def NMAE(true, pred):\n",
    "    mae = np.mean(np.abs(true - pred))\n",
    "    score = mae / np.mean(np.abs(true))\n",
    "    return score"
   ]
  },
  {
   "cell_type": "code",
   "execution_count": 532,
   "id": "cda99ed1-8955-40eb-88c3-733f6a00bc75",
   "metadata": {},
   "outputs": [
    {
     "data": {
      "text/plain": [
       "0.10197978889761221"
      ]
     },
     "execution_count": 532,
     "metadata": {},
     "output_type": "execute_result"
    }
   ],
   "source": [
    "## target을 로그 변환 했으므로 원래의 상태로 되돌리기 위해 exp를 취한다\n",
    "NMAE(np.exp(y_train), np.exp(rst4.predict(x_train.drop(['Full_Bath', 'Exter_Qual', 'Garage_Cars'],  axis = 1))))"
   ]
  },
  {
   "cell_type": "markdown",
   "id": "4b1d4829-dfc6-4433-ab7f-0a19a88efe1b",
   "metadata": {},
   "source": [
    "`-` train 셋에 대한 NAME는 약 $0.1020$이다"
   ]
  },
  {
   "cell_type": "code",
   "execution_count": 528,
   "id": "66e4b121-281f-435f-9da7-3cf7db4236ef",
   "metadata": {},
   "outputs": [
    {
     "data": {
      "text/plain": [
       "0.08682483720006832"
      ]
     },
     "execution_count": 528,
     "metadata": {},
     "output_type": "execute_result"
    }
   ],
   "source": [
    "## target을 로그 변환 했으므로 원래의 상태로 되돌리기 위해 exp를 취한다\n",
    "NMAE(y_valid, np.exp(rst4.predict(x_valid.drop(['Full_Bath', 'Exter_Qual', 'Garage_Cars'],  axis = 1))))"
   ]
  },
  {
   "cell_type": "markdown",
   "id": "517a5025-783e-4acf-899c-a6c341017879",
   "metadata": {},
   "source": [
    "`-` valid 셋에 대한 NMAE는 약 $0.0868$이다"
   ]
  },
  {
   "cell_type": "markdown",
   "id": "00c33dab-aced-4f3e-b660-9868dc1a1538",
   "metadata": {},
   "source": [
    "### test 예측"
   ]
  },
  {
   "cell_type": "code",
   "execution_count": 563,
   "id": "5ec8a49b-f3b3-4a8e-86c1-147f4767aa60",
   "metadata": {},
   "outputs": [],
   "source": [
    "submission = pd.read_csv('C:/Users/Jaesu/github_desktop/Dacon-Basic/집값-예측/Data/sample_submission.csv')"
   ]
  },
  {
   "cell_type": "markdown",
   "id": "4841a249-ffc2-483a-b4fe-c1fc5aa7df33",
   "metadata": {},
   "source": [
    "`-` test 데이터에 대해 라벨인코딩을 해주자"
   ]
  },
  {
   "cell_type": "code",
   "execution_count": 520,
   "id": "1fa931ac-0195-40bf-a388-eaf387d47196",
   "metadata": {},
   "outputs": [],
   "source": [
    "for col in test.columns[test.dtypes == 'object']:\n",
    "    test[col] = test[col].apply(lambda x: label_encoding(x))"
   ]
  },
  {
   "cell_type": "code",
   "execution_count": 534,
   "id": "2fdb013a-075d-4b50-87b0-51c439c4ef4c",
   "metadata": {},
   "outputs": [
    {
     "data": {
      "text/html": [
       "<div>\n",
       "<style scoped>\n",
       "    .dataframe tbody tr th:only-of-type {\n",
       "        vertical-align: middle;\n",
       "    }\n",
       "\n",
       "    .dataframe tbody tr th {\n",
       "        vertical-align: top;\n",
       "    }\n",
       "\n",
       "    .dataframe thead th {\n",
       "        text-align: right;\n",
       "    }\n",
       "</style>\n",
       "<table border=\"1\" class=\"dataframe\">\n",
       "  <thead>\n",
       "    <tr style=\"text-align: right;\">\n",
       "      <th></th>\n",
       "      <th>Overall_Qual</th>\n",
       "      <th>Gr_Liv_Area</th>\n",
       "      <th>Exter_Qual</th>\n",
       "      <th>Garage_Cars</th>\n",
       "      <th>Garage_Area</th>\n",
       "      <th>Kitchen_Qual</th>\n",
       "      <th>Total_Bsmt_SF</th>\n",
       "      <th>first_Flr_SF</th>\n",
       "      <th>Bsmt_Qual</th>\n",
       "      <th>Full_Bath</th>\n",
       "      <th>Year_Built</th>\n",
       "      <th>Year_Remod_Add</th>\n",
       "      <th>Garage_Yr_Blt</th>\n",
       "    </tr>\n",
       "  </thead>\n",
       "  <tbody>\n",
       "    <tr>\n",
       "      <th>0</th>\n",
       "      <td>9</td>\n",
       "      <td>1800</td>\n",
       "      <td>3</td>\n",
       "      <td>2</td>\n",
       "      <td>702</td>\n",
       "      <td>4</td>\n",
       "      <td>1800</td>\n",
       "      <td>1800</td>\n",
       "      <td>4</td>\n",
       "      <td>2</td>\n",
       "      <td>2007</td>\n",
       "      <td>2007</td>\n",
       "      <td>2007</td>\n",
       "    </tr>\n",
       "    <tr>\n",
       "      <th>1</th>\n",
       "      <td>6</td>\n",
       "      <td>1082</td>\n",
       "      <td>2</td>\n",
       "      <td>1</td>\n",
       "      <td>240</td>\n",
       "      <td>2</td>\n",
       "      <td>1082</td>\n",
       "      <td>1082</td>\n",
       "      <td>2</td>\n",
       "      <td>1</td>\n",
       "      <td>1948</td>\n",
       "      <td>1950</td>\n",
       "      <td>1948</td>\n",
       "    </tr>\n",
       "    <tr>\n",
       "      <th>2</th>\n",
       "      <td>6</td>\n",
       "      <td>1573</td>\n",
       "      <td>3</td>\n",
       "      <td>2</td>\n",
       "      <td>440</td>\n",
       "      <td>3</td>\n",
       "      <td>756</td>\n",
       "      <td>769</td>\n",
       "      <td>3</td>\n",
       "      <td>2</td>\n",
       "      <td>2000</td>\n",
       "      <td>2000</td>\n",
       "      <td>2000</td>\n",
       "    </tr>\n",
       "    <tr>\n",
       "      <th>3</th>\n",
       "      <td>6</td>\n",
       "      <td>2443</td>\n",
       "      <td>3</td>\n",
       "      <td>3</td>\n",
       "      <td>744</td>\n",
       "      <td>3</td>\n",
       "      <td>1158</td>\n",
       "      <td>1158</td>\n",
       "      <td>3</td>\n",
       "      <td>2</td>\n",
       "      <td>2004</td>\n",
       "      <td>2004</td>\n",
       "      <td>2004</td>\n",
       "    </tr>\n",
       "    <tr>\n",
       "      <th>4</th>\n",
       "      <td>5</td>\n",
       "      <td>1040</td>\n",
       "      <td>2</td>\n",
       "      <td>2</td>\n",
       "      <td>686</td>\n",
       "      <td>2</td>\n",
       "      <td>1040</td>\n",
       "      <td>1040</td>\n",
       "      <td>2</td>\n",
       "      <td>1</td>\n",
       "      <td>1968</td>\n",
       "      <td>1968</td>\n",
       "      <td>1991</td>\n",
       "    </tr>\n",
       "  </tbody>\n",
       "</table>\n",
       "</div>"
      ],
      "text/plain": [
       "   Overall_Qual  Gr_Liv_Area  Exter_Qual  Garage_Cars  Garage_Area  \\\n",
       "0             9         1800           3            2          702   \n",
       "1             6         1082           2            1          240   \n",
       "2             6         1573           3            2          440   \n",
       "3             6         2443           3            3          744   \n",
       "4             5         1040           2            2          686   \n",
       "\n",
       "   Kitchen_Qual  Total_Bsmt_SF  first_Flr_SF  Bsmt_Qual  Full_Bath  \\\n",
       "0             4           1800          1800          4          2   \n",
       "1             2           1082          1082          2          1   \n",
       "2             3            756           769          3          2   \n",
       "3             3           1158          1158          3          2   \n",
       "4             2           1040          1040          2          1   \n",
       "\n",
       "   Year_Built  Year_Remod_Add  Garage_Yr_Blt  \n",
       "0        2007            2007           2007  \n",
       "1        1948            1950           1948  \n",
       "2        2000            2000           2000  \n",
       "3        2004            2004           2004  \n",
       "4        1968            1968           1991  "
      ]
     },
     "execution_count": 534,
     "metadata": {},
     "output_type": "execute_result"
    }
   ],
   "source": [
    "test.head()"
   ]
  },
  {
   "cell_type": "markdown",
   "id": "9a309aab-34b0-4329-a2f8-421abf7bad02",
   "metadata": {},
   "source": [
    "`-` 모델을 만들자"
   ]
  },
  {
   "cell_type": "code",
   "execution_count": 560,
   "id": "6496f2bc-823d-40e1-80ff-a070cb8cfbb0",
   "metadata": {},
   "outputs": [
    {
     "data": {
      "text/html": [
       "<table class=\"simpletable\">\n",
       "<caption>OLS Regression Results</caption>\n",
       "<tr>\n",
       "  <th>Dep. Variable:</th>         <td>target</td>      <th>  R-squared:         </th> <td>   0.856</td>\n",
       "</tr>\n",
       "<tr>\n",
       "  <th>Model:</th>                   <td>OLS</td>       <th>  Adj. R-squared:    </th> <td>   0.855</td>\n",
       "</tr>\n",
       "<tr>\n",
       "  <th>Method:</th>             <td>Least Squares</td>  <th>  F-statistic:       </th> <td>   1132.</td>\n",
       "</tr>\n",
       "<tr>\n",
       "  <th>Date:</th>             <td>Mon, 24 Jan 2022</td> <th>  Prob (F-statistic):</th>  <td>  0.00</td> \n",
       "</tr>\n",
       "<tr>\n",
       "  <th>Time:</th>                 <td>17:55:38</td>     <th>  Log-Likelihood:    </th> <td>  747.79</td>\n",
       "</tr>\n",
       "<tr>\n",
       "  <th>No. Observations:</th>      <td>  1341</td>      <th>  AIC:               </th> <td>  -1480.</td>\n",
       "</tr>\n",
       "<tr>\n",
       "  <th>Df Residuals:</th>          <td>  1333</td>      <th>  BIC:               </th> <td>  -1438.</td>\n",
       "</tr>\n",
       "<tr>\n",
       "  <th>Df Model:</th>              <td>     7</td>      <th>                     </th>     <td> </td>   \n",
       "</tr>\n",
       "<tr>\n",
       "  <th>Covariance Type:</th>      <td>nonrobust</td>    <th>                     </th>     <td> </td>   \n",
       "</tr>\n",
       "</table>\n",
       "<table class=\"simpletable\">\n",
       "<tr>\n",
       "        <td></td>           <th>coef</th>     <th>std err</th>      <th>t</th>      <th>P>|t|</th>  <th>[0.025</th>    <th>0.975]</th>  \n",
       "</tr>\n",
       "<tr>\n",
       "  <th>Intercept</th>     <td>   10.4640</td> <td>    0.019</td> <td>  538.646</td> <td> 0.000</td> <td>   10.426</td> <td>   10.502</td>\n",
       "</tr>\n",
       "<tr>\n",
       "  <th>Overall_Qual</th>  <td>    0.0826</td> <td>    0.005</td> <td>   16.741</td> <td> 0.000</td> <td>    0.073</td> <td>    0.092</td>\n",
       "</tr>\n",
       "<tr>\n",
       "  <th>Gr_Liv_Area</th>   <td>    0.0002</td> <td> 1.08e-05</td> <td>   22.496</td> <td> 0.000</td> <td>    0.000</td> <td>    0.000</td>\n",
       "</tr>\n",
       "<tr>\n",
       "  <th>Garage_Area</th>   <td>    0.0001</td> <td> 2.56e-05</td> <td>    5.791</td> <td> 0.000</td> <td> 9.79e-05</td> <td>    0.000</td>\n",
       "</tr>\n",
       "<tr>\n",
       "  <th>Kitchen_Qual</th>  <td>    0.0681</td> <td>    0.008</td> <td>    8.460</td> <td> 0.000</td> <td>    0.052</td> <td>    0.084</td>\n",
       "</tr>\n",
       "<tr>\n",
       "  <th>Total_Bsmt_SF</th> <td>    0.0001</td> <td> 2.15e-05</td> <td>    6.744</td> <td> 0.000</td> <td>    0.000</td> <td>    0.000</td>\n",
       "</tr>\n",
       "<tr>\n",
       "  <th>first_Flr_SF</th>  <td> 6.036e-05</td> <td> 2.21e-05</td> <td>    2.727</td> <td> 0.006</td> <td> 1.69e-05</td> <td>    0.000</td>\n",
       "</tr>\n",
       "<tr>\n",
       "  <th>Bsmt_Qual</th>     <td>    0.0921</td> <td>    0.008</td> <td>   11.796</td> <td> 0.000</td> <td>    0.077</td> <td>    0.107</td>\n",
       "</tr>\n",
       "</table>\n",
       "<table class=\"simpletable\">\n",
       "<tr>\n",
       "  <th>Omnibus:</th>       <td>155.305</td> <th>  Durbin-Watson:     </th> <td>   2.037</td>\n",
       "</tr>\n",
       "<tr>\n",
       "  <th>Prob(Omnibus):</th> <td> 0.000</td>  <th>  Jarque-Bera (JB):  </th> <td> 300.434</td>\n",
       "</tr>\n",
       "<tr>\n",
       "  <th>Skew:</th>          <td>-0.726</td>  <th>  Prob(JB):          </th> <td>5.78e-66</td>\n",
       "</tr>\n",
       "<tr>\n",
       "  <th>Kurtosis:</th>      <td> 4.808</td>  <th>  Cond. No.          </th> <td>1.20e+04</td>\n",
       "</tr>\n",
       "</table><br/><br/>Notes:<br/>[1] Standard Errors assume that the covariance matrix of the errors is correctly specified.<br/>[2] The condition number is large, 1.2e+04. This might indicate that there are<br/>strong multicollinearity or other numerical problems."
      ],
      "text/plain": [
       "<class 'statsmodels.iolib.summary.Summary'>\n",
       "\"\"\"\n",
       "                            OLS Regression Results                            \n",
       "==============================================================================\n",
       "Dep. Variable:                 target   R-squared:                       0.856\n",
       "Model:                            OLS   Adj. R-squared:                  0.855\n",
       "Method:                 Least Squares   F-statistic:                     1132.\n",
       "Date:                Mon, 24 Jan 2022   Prob (F-statistic):               0.00\n",
       "Time:                        17:55:38   Log-Likelihood:                 747.79\n",
       "No. Observations:                1341   AIC:                            -1480.\n",
       "Df Residuals:                    1333   BIC:                            -1438.\n",
       "Df Model:                           7                                         \n",
       "Covariance Type:            nonrobust                                         \n",
       "=================================================================================\n",
       "                    coef    std err          t      P>|t|      [0.025      0.975]\n",
       "---------------------------------------------------------------------------------\n",
       "Intercept        10.4640      0.019    538.646      0.000      10.426      10.502\n",
       "Overall_Qual      0.0826      0.005     16.741      0.000       0.073       0.092\n",
       "Gr_Liv_Area       0.0002   1.08e-05     22.496      0.000       0.000       0.000\n",
       "Garage_Area       0.0001   2.56e-05      5.791      0.000    9.79e-05       0.000\n",
       "Kitchen_Qual      0.0681      0.008      8.460      0.000       0.052       0.084\n",
       "Total_Bsmt_SF     0.0001   2.15e-05      6.744      0.000       0.000       0.000\n",
       "first_Flr_SF   6.036e-05   2.21e-05      2.727      0.006    1.69e-05       0.000\n",
       "Bsmt_Qual         0.0921      0.008     11.796      0.000       0.077       0.107\n",
       "==============================================================================\n",
       "Omnibus:                      155.305   Durbin-Watson:                   2.037\n",
       "Prob(Omnibus):                  0.000   Jarque-Bera (JB):              300.434\n",
       "Skew:                          -0.726   Prob(JB):                     5.78e-66\n",
       "Kurtosis:                       4.808   Cond. No.                     1.20e+04\n",
       "==============================================================================\n",
       "\n",
       "Notes:\n",
       "[1] Standard Errors assume that the covariance matrix of the errors is correctly specified.\n",
       "[2] The condition number is large, 1.2e+04. This might indicate that there are\n",
       "strong multicollinearity or other numerical problems.\n",
       "\"\"\""
      ]
     },
     "execution_count": 560,
     "metadata": {},
     "output_type": "execute_result"
    }
   ],
   "source": [
    "model = smf.ols(formula = 'target~' + '+'.join(dt.drop(['Full_Bath', 'Exter_Qual', 'Garage_Cars'],  axis = 1).columns),\n",
    "                data = pd.concat([dt.drop(['Full_Bath', 'Exter_Qual', 'Garage_Cars'],  axis = 1), np.log(target)], axis = 1)).fit()\n",
    "model.summary()"
   ]
  },
  {
   "cell_type": "markdown",
   "id": "e50dc3e4-71cf-4e4e-a3dc-fd0ee4b5076e",
   "metadata": {},
   "source": [
    "`-` 이제 예측하자"
   ]
  },
  {
   "cell_type": "code",
   "execution_count": 578,
   "id": "3debae50-f006-4506-b9f8-7769e6f68b91",
   "metadata": {},
   "outputs": [
    {
     "data": {
      "text/html": [
       "<div>\n",
       "<style scoped>\n",
       "    .dataframe tbody tr th:only-of-type {\n",
       "        vertical-align: middle;\n",
       "    }\n",
       "\n",
       "    .dataframe tbody tr th {\n",
       "        vertical-align: top;\n",
       "    }\n",
       "\n",
       "    .dataframe thead th {\n",
       "        text-align: right;\n",
       "    }\n",
       "</style>\n",
       "<table border=\"1\" class=\"dataframe\">\n",
       "  <thead>\n",
       "    <tr style=\"text-align: right;\">\n",
       "      <th></th>\n",
       "      <th>id</th>\n",
       "      <th>target</th>\n",
       "    </tr>\n",
       "  </thead>\n",
       "  <tbody>\n",
       "    <tr>\n",
       "      <th>0</th>\n",
       "      <td>1</td>\n",
       "      <td>348354.056444</td>\n",
       "    </tr>\n",
       "    <tr>\n",
       "      <th>1</th>\n",
       "      <td>2</td>\n",
       "      <td>133485.003772</td>\n",
       "    </tr>\n",
       "    <tr>\n",
       "      <th>2</th>\n",
       "      <td>3</td>\n",
       "      <td>170258.092173</td>\n",
       "    </tr>\n",
       "    <tr>\n",
       "      <th>3</th>\n",
       "      <td>4</td>\n",
       "      <td>239000.266354</td>\n",
       "    </tr>\n",
       "    <tr>\n",
       "      <th>4</th>\n",
       "      <td>5</td>\n",
       "      <td>128839.067660</td>\n",
       "    </tr>\n",
       "  </tbody>\n",
       "</table>\n",
       "</div>"
      ],
      "text/plain": [
       "   id         target\n",
       "0   1  348354.056444\n",
       "1   2  133485.003772\n",
       "2   3  170258.092173\n",
       "3   4  239000.266354\n",
       "4   5  128839.067660"
      ]
     },
     "execution_count": 578,
     "metadata": {},
     "output_type": "execute_result"
    }
   ],
   "source": [
    "## 위에서 구한 예측값을 그대로 넣어줌\n",
    "submission['target'] = np.exp(model.predict(test))\n",
    "\n",
    "## 데이터가 잘 들어갔는지 확인\n",
    "submission.head()"
   ]
  },
  {
   "cell_type": "code",
   "execution_count": 582,
   "id": "1930c41e-6bb4-48e2-9d24-29d2f919f6fc",
   "metadata": {},
   "outputs": [],
   "source": [
    "## submission을 csv 파일로 저장\n",
    "submission.to_csv('C:/Users/Jaesu/github_desktop/Dacon-Basic/집값-예측/Data/submission1.csv', index = False)"
   ]
  },
  {
   "cell_type": "markdown",
   "id": "e86d908c-5c12-4b6d-b656-a537f77e7a9d",
   "metadata": {},
   "source": [
    "`-` 반올림을 일의 자리에서 한 것과 하지 않은 것을 제출해봤는데 거의 비슷했다(한 것이 좋았음)\n",
    "\n",
    "`-` 반올림 한 것의 점수는 $0.1135657683$\n",
    "\n",
    "`-` train과 valid의 NMAE에 비해 더 높게 나왔는데 이는 잔차항을 살펴봤을 때 정규성을 띄지 않아\n",
    "\n",
    "`-` 일반화 성능이 떨어진 것이 드러난 것이다"
   ]
  },
  {
   "cell_type": "code",
   "execution_count": null,
   "id": "3dd7d2bf-887a-4f23-aea4-83ddcddde589",
   "metadata": {},
   "outputs": [],
   "source": []
  }
 ],
 "metadata": {
  "kernelspec": {
   "display_name": "Python 3 (ipykernel)",
   "language": "python",
   "name": "python3"
  },
  "language_info": {
   "codemirror_mode": {
    "name": "ipython",
    "version": 3
   },
   "file_extension": ".py",
   "mimetype": "text/x-python",
   "name": "python",
   "nbconvert_exporter": "python",
   "pygments_lexer": "ipython3",
   "version": "3.8.11"
  }
 },
 "nbformat": 4,
 "nbformat_minor": 5
}
