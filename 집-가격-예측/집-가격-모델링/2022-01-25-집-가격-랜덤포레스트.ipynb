{
 "cells": [
  {
   "cell_type": "markdown",
   "id": "f12dea35-3318-44e1-a8e4-4c6987789f1c",
   "metadata": {},
   "source": [
    "# 집값 예측 경진대회"
   ]
  },
  {
   "cell_type": "markdown",
   "id": "e86cee4e-a866-411b-9037-4370f4bf27f0",
   "metadata": {},
   "source": [
    "## 패키지 import 및 데이터 전처리"
   ]
  },
  {
   "cell_type": "code",
   "execution_count": 257,
   "id": "f8bf0549-d508-4eef-b568-2197242519c9",
   "metadata": {},
   "outputs": [],
   "source": [
    "import pandas as pd\n",
    "import numpy as np\n",
    "import matplotlib.pyplot as plt\n",
    "import seaborn as sns\n",
    "\n",
    "import warnings\n",
    "warnings.filterwarnings('ignore')"
   ]
  },
  {
   "cell_type": "code",
   "execution_count": 258,
   "id": "53637b8d-584b-4953-9373-ef0d4824f05b",
   "metadata": {},
   "outputs": [],
   "source": [
    "df = pd.read_csv('C:/Users/Jaesu/github_desktop/Dacon-Basic/집값-예측/Data/train.csv')\n",
    "test = pd.read_csv('C:/Users/Jaesu/github_desktop/Dacon-Basic/집값-예측/Data/test.csv')"
   ]
  },
  {
   "cell_type": "code",
   "execution_count": 259,
   "id": "7d089a0c-eae8-4ab9-8b11-c03c301b63e6",
   "metadata": {},
   "outputs": [
    {
     "data": {
      "text/html": [
       "<div>\n",
       "<style scoped>\n",
       "    .dataframe tbody tr th:only-of-type {\n",
       "        vertical-align: middle;\n",
       "    }\n",
       "\n",
       "    .dataframe tbody tr th {\n",
       "        vertical-align: top;\n",
       "    }\n",
       "\n",
       "    .dataframe thead th {\n",
       "        text-align: right;\n",
       "    }\n",
       "</style>\n",
       "<table border=\"1\" class=\"dataframe\">\n",
       "  <thead>\n",
       "    <tr style=\"text-align: right;\">\n",
       "      <th></th>\n",
       "      <th>id</th>\n",
       "      <th>Overall Qual</th>\n",
       "      <th>Gr Liv Area</th>\n",
       "      <th>Exter Qual</th>\n",
       "      <th>Garage Cars</th>\n",
       "      <th>Garage Area</th>\n",
       "      <th>Kitchen Qual</th>\n",
       "      <th>Total Bsmt SF</th>\n",
       "      <th>1st Flr SF</th>\n",
       "      <th>Bsmt Qual</th>\n",
       "      <th>Full Bath</th>\n",
       "      <th>Year Built</th>\n",
       "      <th>Year Remod/Add</th>\n",
       "      <th>Garage Yr Blt</th>\n",
       "      <th>target</th>\n",
       "    </tr>\n",
       "  </thead>\n",
       "  <tbody>\n",
       "    <tr>\n",
       "      <th>0</th>\n",
       "      <td>1</td>\n",
       "      <td>10</td>\n",
       "      <td>2392</td>\n",
       "      <td>Ex</td>\n",
       "      <td>3</td>\n",
       "      <td>968</td>\n",
       "      <td>Ex</td>\n",
       "      <td>2392</td>\n",
       "      <td>2392</td>\n",
       "      <td>Ex</td>\n",
       "      <td>2</td>\n",
       "      <td>2003</td>\n",
       "      <td>2003</td>\n",
       "      <td>2003</td>\n",
       "      <td>386250</td>\n",
       "    </tr>\n",
       "    <tr>\n",
       "      <th>1</th>\n",
       "      <td>2</td>\n",
       "      <td>7</td>\n",
       "      <td>1352</td>\n",
       "      <td>Gd</td>\n",
       "      <td>2</td>\n",
       "      <td>466</td>\n",
       "      <td>Gd</td>\n",
       "      <td>1352</td>\n",
       "      <td>1352</td>\n",
       "      <td>Ex</td>\n",
       "      <td>2</td>\n",
       "      <td>2006</td>\n",
       "      <td>2007</td>\n",
       "      <td>2006</td>\n",
       "      <td>194000</td>\n",
       "    </tr>\n",
       "    <tr>\n",
       "      <th>2</th>\n",
       "      <td>3</td>\n",
       "      <td>5</td>\n",
       "      <td>900</td>\n",
       "      <td>TA</td>\n",
       "      <td>1</td>\n",
       "      <td>288</td>\n",
       "      <td>TA</td>\n",
       "      <td>864</td>\n",
       "      <td>900</td>\n",
       "      <td>TA</td>\n",
       "      <td>1</td>\n",
       "      <td>1967</td>\n",
       "      <td>1967</td>\n",
       "      <td>1967</td>\n",
       "      <td>123000</td>\n",
       "    </tr>\n",
       "    <tr>\n",
       "      <th>3</th>\n",
       "      <td>4</td>\n",
       "      <td>5</td>\n",
       "      <td>1174</td>\n",
       "      <td>TA</td>\n",
       "      <td>2</td>\n",
       "      <td>576</td>\n",
       "      <td>Gd</td>\n",
       "      <td>680</td>\n",
       "      <td>680</td>\n",
       "      <td>TA</td>\n",
       "      <td>1</td>\n",
       "      <td>1900</td>\n",
       "      <td>2006</td>\n",
       "      <td>2000</td>\n",
       "      <td>135000</td>\n",
       "    </tr>\n",
       "    <tr>\n",
       "      <th>4</th>\n",
       "      <td>5</td>\n",
       "      <td>7</td>\n",
       "      <td>1958</td>\n",
       "      <td>Gd</td>\n",
       "      <td>3</td>\n",
       "      <td>936</td>\n",
       "      <td>Gd</td>\n",
       "      <td>1026</td>\n",
       "      <td>1026</td>\n",
       "      <td>Gd</td>\n",
       "      <td>2</td>\n",
       "      <td>2005</td>\n",
       "      <td>2005</td>\n",
       "      <td>2005</td>\n",
       "      <td>250000</td>\n",
       "    </tr>\n",
       "  </tbody>\n",
       "</table>\n",
       "</div>"
      ],
      "text/plain": [
       "   id  Overall Qual  Gr Liv Area Exter Qual  Garage Cars  Garage Area  \\\n",
       "0   1            10         2392         Ex            3          968   \n",
       "1   2             7         1352         Gd            2          466   \n",
       "2   3             5          900         TA            1          288   \n",
       "3   4             5         1174         TA            2          576   \n",
       "4   5             7         1958         Gd            3          936   \n",
       "\n",
       "  Kitchen Qual  Total Bsmt SF  1st Flr SF Bsmt Qual  Full Bath  Year Built  \\\n",
       "0           Ex           2392        2392        Ex          2        2003   \n",
       "1           Gd           1352        1352        Ex          2        2006   \n",
       "2           TA            864         900        TA          1        1967   \n",
       "3           Gd            680         680        TA          1        1900   \n",
       "4           Gd           1026        1026        Gd          2        2005   \n",
       "\n",
       "   Year Remod/Add  Garage Yr Blt  target  \n",
       "0            2003           2003  386250  \n",
       "1            2007           2006  194000  \n",
       "2            1967           1967  123000  \n",
       "3            2006           2000  135000  \n",
       "4            2005           2005  250000  "
      ]
     },
     "execution_count": 259,
     "metadata": {},
     "output_type": "execute_result"
    }
   ],
   "source": [
    "df.head()"
   ]
  },
  {
   "cell_type": "markdown",
   "id": "99b90d82-162d-43e4-a66e-d50f472b92f9",
   "metadata": {},
   "source": [
    "`-` id는 필요없으니 제거"
   ]
  },
  {
   "cell_type": "code",
   "execution_count": 260,
   "id": "6bcce290-16b5-4868-a840-342dc31346f4",
   "metadata": {},
   "outputs": [],
   "source": [
    "df.drop('id', axis = 1, inplace = True)\n",
    "test.drop('id', axis = 1, inplace = True)"
   ]
  },
  {
   "cell_type": "markdown",
   "id": "d0fe3191-1b14-4f78-b936-37e78b8342e7",
   "metadata": {},
   "source": [
    "`-` 결측치는 없다"
   ]
  },
  {
   "cell_type": "markdown",
   "id": "fa33897d-28f7-46d1-b02c-79d3662a69ea",
   "metadata": {},
   "source": [
    "`-` 분석의 편의를 위해 컬럼명을 바꾸겠다"
   ]
  },
  {
   "cell_type": "code",
   "execution_count": 261,
   "id": "357216ba-2a96-4e8d-be0c-66325574a76f",
   "metadata": {},
   "outputs": [],
   "source": [
    "## 공백과 슬래쉬를 _로 대체 1을 숫자가 아닌 다른 문자로 바꿈 \n",
    "\n",
    "df.rename(columns = dict(zip(df.columns, [column.replace(' ', '_').replace('/', '_').replace('1', 'fir') for column in df.columns])), inplace = True) \n",
    "test.rename(columns = dict(zip(test.columns, [column.replace(' ', '_').replace('/', '_').replace('1', 'fir') for column in test.columns])), inplace = True) "
   ]
  },
  {
   "cell_type": "markdown",
   "id": "a1fd051d-5793-4e77-b987-cc7289c303a5",
   "metadata": {},
   "source": [
    "`-` 범주형 변수는 Exter Qual(외관 재료 품질;4개), Kitchen Qual(부엌 품질; 4개), Bsmt Qual(지하실 높이;5개)이다\n",
    "\n",
    "`-` 총 5개의 등급이 존재하는데 Poor 등급은 Bsmt Qual에 1개 존재한다(나머지는 0개)\n",
    "\n",
    "`-` 아예 poor등급이 존재하지 않는걸 수 도 있고 poor등급이 존재하는데 poor등급에 해당하는 건물이 존재하지 않는걸 수 도 있다\n",
    "\n",
    "`-` 편의상 후자라고 생각하자\n",
    "\n",
    "`-` 이들은 순서형 변수이므로 라벨 인코딩을 해주자"
   ]
  },
  {
   "cell_type": "markdown",
   "id": "0cfa695b-f700-407e-ae30-e42097e36a60",
   "metadata": {},
   "source": [
    "`-` 좋은 등급이 큰 값을 가지도록 하기위해 라벨인코딩을 정의해주자"
   ]
  },
  {
   "cell_type": "code",
   "execution_count": 262,
   "id": "d2a656ff-fa7a-4071-8627-306e9bc14800",
   "metadata": {},
   "outputs": [],
   "source": [
    "def label_encoding(data):\n",
    "    grade_label = ['Po', 'Fa', 'TA', 'Gd', 'Ex'] ## 0~4점\n",
    "    \n",
    "    for grade, label in enumerate(grade_label):\n",
    "        if data == label:\n",
    "            return grade"
   ]
  },
  {
   "cell_type": "code",
   "execution_count": 263,
   "id": "4d61b89c-8104-43e3-97af-d1ea4fecb8e6",
   "metadata": {},
   "outputs": [],
   "source": [
    "for col in df.columns[df.dtypes == 'object']:\n",
    "    df[col] = df[col].apply(lambda x: label_encoding(x))"
   ]
  },
  {
   "cell_type": "code",
   "execution_count": 264,
   "id": "1048795d-e0de-404c-a420-61a444866d5f",
   "metadata": {},
   "outputs": [
    {
     "data": {
      "text/html": [
       "<div>\n",
       "<style scoped>\n",
       "    .dataframe tbody tr th:only-of-type {\n",
       "        vertical-align: middle;\n",
       "    }\n",
       "\n",
       "    .dataframe tbody tr th {\n",
       "        vertical-align: top;\n",
       "    }\n",
       "\n",
       "    .dataframe thead th {\n",
       "        text-align: right;\n",
       "    }\n",
       "</style>\n",
       "<table border=\"1\" class=\"dataframe\">\n",
       "  <thead>\n",
       "    <tr style=\"text-align: right;\">\n",
       "      <th></th>\n",
       "      <th>Overall_Qual</th>\n",
       "      <th>Gr_Liv_Area</th>\n",
       "      <th>Exter_Qual</th>\n",
       "      <th>Garage_Cars</th>\n",
       "      <th>Garage_Area</th>\n",
       "      <th>Kitchen_Qual</th>\n",
       "      <th>Total_Bsmt_SF</th>\n",
       "      <th>first_Flr_SF</th>\n",
       "      <th>Bsmt_Qual</th>\n",
       "      <th>Full_Bath</th>\n",
       "      <th>Year_Built</th>\n",
       "      <th>Year_Remod_Add</th>\n",
       "      <th>Garage_Yr_Blt</th>\n",
       "      <th>target</th>\n",
       "    </tr>\n",
       "  </thead>\n",
       "  <tbody>\n",
       "    <tr>\n",
       "      <th>0</th>\n",
       "      <td>10</td>\n",
       "      <td>2392</td>\n",
       "      <td>4</td>\n",
       "      <td>3</td>\n",
       "      <td>968</td>\n",
       "      <td>4</td>\n",
       "      <td>2392</td>\n",
       "      <td>2392</td>\n",
       "      <td>4</td>\n",
       "      <td>2</td>\n",
       "      <td>2003</td>\n",
       "      <td>2003</td>\n",
       "      <td>2003</td>\n",
       "      <td>386250</td>\n",
       "    </tr>\n",
       "    <tr>\n",
       "      <th>1</th>\n",
       "      <td>7</td>\n",
       "      <td>1352</td>\n",
       "      <td>3</td>\n",
       "      <td>2</td>\n",
       "      <td>466</td>\n",
       "      <td>3</td>\n",
       "      <td>1352</td>\n",
       "      <td>1352</td>\n",
       "      <td>4</td>\n",
       "      <td>2</td>\n",
       "      <td>2006</td>\n",
       "      <td>2007</td>\n",
       "      <td>2006</td>\n",
       "      <td>194000</td>\n",
       "    </tr>\n",
       "    <tr>\n",
       "      <th>2</th>\n",
       "      <td>5</td>\n",
       "      <td>900</td>\n",
       "      <td>2</td>\n",
       "      <td>1</td>\n",
       "      <td>288</td>\n",
       "      <td>2</td>\n",
       "      <td>864</td>\n",
       "      <td>900</td>\n",
       "      <td>2</td>\n",
       "      <td>1</td>\n",
       "      <td>1967</td>\n",
       "      <td>1967</td>\n",
       "      <td>1967</td>\n",
       "      <td>123000</td>\n",
       "    </tr>\n",
       "    <tr>\n",
       "      <th>3</th>\n",
       "      <td>5</td>\n",
       "      <td>1174</td>\n",
       "      <td>2</td>\n",
       "      <td>2</td>\n",
       "      <td>576</td>\n",
       "      <td>3</td>\n",
       "      <td>680</td>\n",
       "      <td>680</td>\n",
       "      <td>2</td>\n",
       "      <td>1</td>\n",
       "      <td>1900</td>\n",
       "      <td>2006</td>\n",
       "      <td>2000</td>\n",
       "      <td>135000</td>\n",
       "    </tr>\n",
       "    <tr>\n",
       "      <th>4</th>\n",
       "      <td>7</td>\n",
       "      <td>1958</td>\n",
       "      <td>3</td>\n",
       "      <td>3</td>\n",
       "      <td>936</td>\n",
       "      <td>3</td>\n",
       "      <td>1026</td>\n",
       "      <td>1026</td>\n",
       "      <td>3</td>\n",
       "      <td>2</td>\n",
       "      <td>2005</td>\n",
       "      <td>2005</td>\n",
       "      <td>2005</td>\n",
       "      <td>250000</td>\n",
       "    </tr>\n",
       "  </tbody>\n",
       "</table>\n",
       "</div>"
      ],
      "text/plain": [
       "   Overall_Qual  Gr_Liv_Area  Exter_Qual  Garage_Cars  Garage_Area  \\\n",
       "0            10         2392           4            3          968   \n",
       "1             7         1352           3            2          466   \n",
       "2             5          900           2            1          288   \n",
       "3             5         1174           2            2          576   \n",
       "4             7         1958           3            3          936   \n",
       "\n",
       "   Kitchen_Qual  Total_Bsmt_SF  first_Flr_SF  Bsmt_Qual  Full_Bath  \\\n",
       "0             4           2392          2392          4          2   \n",
       "1             3           1352          1352          4          2   \n",
       "2             2            864           900          2          1   \n",
       "3             3            680           680          2          1   \n",
       "4             3           1026          1026          3          2   \n",
       "\n",
       "   Year_Built  Year_Remod_Add  Garage_Yr_Blt  target  \n",
       "0        2003            2003           2003  386250  \n",
       "1        2006            2007           2006  194000  \n",
       "2        1967            1967           1967  123000  \n",
       "3        1900            2006           2000  135000  \n",
       "4        2005            2005           2005  250000  "
      ]
     },
     "execution_count": 264,
     "metadata": {},
     "output_type": "execute_result"
    }
   ],
   "source": [
    "df.head()"
   ]
  },
  {
   "cell_type": "markdown",
   "id": "85b802ab-5313-4b78-9353-3af9e0f638bf",
   "metadata": {},
   "source": [
    "`-` 라벨 인코딩이 잘 되었다"
   ]
  },
  {
   "cell_type": "markdown",
   "id": "616f5b75-818a-42af-9cc1-33da2f6d3a0e",
   "metadata": {},
   "source": [
    "### 로그 변환 및 이상점 제거"
   ]
  },
  {
   "cell_type": "markdown",
   "id": "ff1a3204-ea5d-467b-868d-e691fe07c90a",
   "metadata": {},
   "source": [
    "`-` 앞서 EDA에서 집값(target)이 오른쪽으로 꼬리가 긴 분포임을 확인했다\n",
    "\n",
    "`-` 정규분포로 맞춰주기 위해 로그변환을 하자"
   ]
  },
  {
   "cell_type": "code",
   "execution_count": 265,
   "id": "e0060b0b-d9f2-4f39-9b10-c0681b43489a",
   "metadata": {},
   "outputs": [],
   "source": [
    "import scipy.stats as stats"
   ]
  },
  {
   "cell_type": "code",
   "execution_count": 268,
   "id": "8da90b0f-330e-4d05-9d22-23bc15d8a126",
   "metadata": {},
   "outputs": [],
   "source": [
    "sns.set_theme()"
   ]
  },
  {
   "cell_type": "code",
   "execution_count": 269,
   "id": "392b2b2f-5c67-461e-996b-f742422f46bf",
   "metadata": {},
   "outputs": [
    {
     "data": {
      "text/plain": [
       "<AxesSubplot:>"
      ]
     },
     "execution_count": 269,
     "metadata": {},
     "output_type": "execute_result"
    },
    {
     "data": {
      "image/png": "[encoded data removed]",
      "text/plain": [
       "<Figure size 432x288 with 1 Axes>"
      ]
     },
     "metadata": {},
     "output_type": "display_data"
    }
   ],
   "source": [
    "np.log(df['target']).hist(bins = 30)"
   ]
  },
  {
   "cell_type": "code",
   "execution_count": 267,
   "id": "f4d43018-89d4-4cb3-bfcb-f5dbd591a0d4",
   "metadata": {},
   "outputs": [
    {
     "data": {
      "image/png": "[encoded data removed]",
      "text/plain": [
       "<Figure size 432x288 with 1 Axes>"
      ]
     },
     "metadata": {},
     "output_type": "display_data"
    }
   ],
   "source": [
    "_ = stats.probplot(np.log(df['target']), plot = plt)"
   ]
  },
  {
   "cell_type": "markdown",
   "id": "f73badad-ee57-404a-af37-e85eb0f5be90",
   "metadata": {},
   "source": [
    "`-` 로그 변환을 했지만 정규분포를 따르지 않는것처럼 보인다\n",
    "\n",
    "`-` 샤피로-윌크 검정을 통해 정확히 확인하자"
   ]
  },
  {
   "cell_type": "code",
   "execution_count": 270,
   "id": "e92a280e-b2aa-419f-843a-7f911ae36054",
   "metadata": {},
   "outputs": [],
   "source": [
    "test_stat, p_val = stats.shapiro(np.log(df['target']))"
   ]
  },
  {
   "cell_type": "code",
   "execution_count": 271,
   "id": "e32fbef7-a05d-456f-9c9e-7b5714f448c6",
   "metadata": {},
   "outputs": [
    {
     "data": {
      "text/plain": [
       "(4.748497602069524e-13, 0.08070163740417918)"
      ]
     },
     "execution_count": 271,
     "metadata": {},
     "output_type": "execute_result"
    }
   ],
   "source": [
    "p_val, np.log(df['target']).skew() ## p값과 왜도"
   ]
  },
  {
   "cell_type": "markdown",
   "id": "ff278120-4c37-4dd7-b0a3-739c07d43093",
   "metadata": {},
   "source": [
    "`-` 안타깝게도 정규분포를 따르지 않는다"
   ]
  },
  {
   "cell_type": "markdown",
   "id": "103acf3b-2d37-47cb-b036-f8db44c9f286",
   "metadata": {},
   "source": [
    "`-` 왜도는 $0.08$로 거의 $0$"
   ]
  },
  {
   "cell_type": "markdown",
   "id": "26f59312-7aea-47fc-804e-d4d82ee4e28a",
   "metadata": {},
   "source": [
    "`-` 그런데 Q-Q플랏을 보면 심각한 이상치가 보인다(-3부근에 2개)\n",
    "\n",
    "`-` 저런 이상치를 예측하는 것은 불가능해보이니 제거하자"
   ]
  },
  {
   "cell_type": "markdown",
   "id": "95b71221-7f74-47a7-9038-c83df3808dfb",
   "metadata": {},
   "source": [
    "`-` 값이 큰쪽으로도 이상점이 있는데 제거할지 말지 고민중이다"
   ]
  },
  {
   "cell_type": "markdown",
   "id": "12452b64-ec06-409b-a471-22f7a80d4065",
   "metadata": {},
   "source": [
    "`-` 가장 비싼 집이 745000 달러인데 Gr_Liv_Area(지상층 생활 면적)이 4476으로 매우 넓다!\n",
    "\n",
    "`-` 근데 생각해보니 제거하는 것이 맞는 것 같다(심각한 이상치로 인해 큰 영향을 끼칠 수 있음)"
   ]
  },
  {
   "cell_type": "code",
   "execution_count": 272,
   "id": "cecb4803-b70c-45a2-be54-8f919f0a1d90",
   "metadata": {},
   "outputs": [
    {
     "data": {
      "image/png": "[encoded data removed]",
      "text/plain": [
       "<Figure size 432x288 with 1 Axes>"
      ]
     },
     "metadata": {},
     "output_type": "display_data"
    }
   ],
   "source": [
    "with plt.style.context('seaborn-dark'): \n",
    "    plt.boxplot(np.log(df['target']))\n",
    "plt.show()"
   ]
  },
  {
   "cell_type": "markdown",
   "id": "b77255b0-fb34-494c-ba4f-d710035a81f1",
   "metadata": {},
   "source": [
    "`-` 로그 변환을 해서 나온 이상치들을 제거하자"
   ]
  },
  {
   "cell_type": "code",
   "execution_count": 19,
   "id": "29857ef1-7d6f-4121-8ae2-bdf12d2444de",
   "metadata": {},
   "outputs": [],
   "source": [
    "def remove_outlier(df):\n",
    "    Q1 = np.log(df).quantile(0.25)\n",
    "    Q3 = np.log(df).quantile(0.75)\n",
    "    IQR = Q3 - Q1   \n",
    "\n",
    "    filter_ = (np.log(df) >= Q1 - 1.5*IQR) & (np.log(df) <= Q3 + 1.5*IQR)\n",
    "    return filter_"
   ]
  },
  {
   "cell_type": "markdown",
   "id": "f0ea29a1-1a28-45cd-ad1c-61b5d5dca06a",
   "metadata": {},
   "source": [
    "`-` df의 이상점을 제거한 df2를 만듦"
   ]
  },
  {
   "cell_type": "code",
   "execution_count": 279,
   "id": "8d326e08-1f73-4b47-8862-920a069cd646",
   "metadata": {},
   "outputs": [],
   "source": [
    "df2 = df.copy()"
   ]
  },
  {
   "cell_type": "markdown",
   "id": "cd27af93-a923-4dee-acad-02166c6fe319",
   "metadata": {},
   "source": [
    "`-` 위에서 제거한 이상점은 target의 이상점이다\n",
    "\n",
    "`-` 그런데 위와 같이 이상점을 제거하면 target 전체를 기준으로 매우 큰 값 또는 작은 값만 제거된다\n",
    "\n",
    "`-` 하지만 Overall Qual과 같은 변수로 target을 나눠서 보면 target 전체로 봤을 때의 이상점과 다르다\n",
    "\n",
    "`-` 그렇기에 Overall Qual에 따른 target의 이상점을 제거하겠다\n",
    "\n",
    "`-` 예컨대 Overall Qual이 3일 때 이상점으로 30만 달러의 집이 있다고 해도\n",
    "\n",
    "`-` target 전체로 봤을 땐 이상점이 아니다"
   ]
  },
  {
   "cell_type": "markdown",
   "id": "652870af-fd5e-47df-a0e5-6a9cb3bff07c",
   "metadata": {},
   "source": [
    "`-` 각각의 Overall_Qual에 대한 target의 이상점을 제거하자\n",
    "\n",
    "`-` 기준을 Overall_Qual로 할지 Kitchen_Qual로 할지 고민이다\n",
    "\n",
    "`-` 일단은 kitchen_Qual로 해보자\n",
    "\n",
    "`-` 그리고 전체 target에 대한 이상점도 제거하자\n",
    "\n",
    "`-` 위의 처럼 할려고 했는데 그냥 전체 target에 대한 이상점만 제거하기로 했다\n",
    "\n",
    "`-` 이상점이 많다는건 test에서도 그럴 수 있다는 것인데 모두 제거하면 이를 예측하기 어렵다\n",
    "\n",
    "`-` 이상점이 조금 있으면 없애도 큰 문제 없지만 많이 있다는 건 test에서도 그럴 수 있다는 것이고 이를 예측하려면 무작정 이상점 없애면 안된다\n",
    "\n",
    "`-` 결론 : Overall_Qual에 따른 target의 이상점만 제거"
   ]
  },
  {
   "cell_type": "code",
   "execution_count": 280,
   "id": "d6a46513-0132-40f6-99a5-76333dd7c173",
   "metadata": {},
   "outputs": [],
   "source": [
    "# l = []\n",
    "# for i in df2['Overall_Qual'].unique():\n",
    "#     l.extend(remove_outlier(df2.query('Overall_Qual == @i')[['target']]).query('target == True').index.tolist()) ## 이상점이 아닌 인덱스번호만 추가\n",
    "             \n",
    "# l = list(set(l))"
   ]
  },
  {
   "cell_type": "code",
   "execution_count": 275,
   "id": "d87cd960-dc8d-4c5e-b6c9-b00c0c2a399a",
   "metadata": {},
   "outputs": [],
   "source": [
    "# l = []\n",
    "# for i in df2['Kitchen_Qual'].unique():\n",
    "#     l.extend(remove_outlier(df2.query('Kitchen_Qual == @i')[['target']]).query('target == True').index.tolist()) ## 이상점이 아닌 인덱스번호만 추가\n",
    "\n",
    "# # l = list(set(l))\n",
    "# l = list(set(l) & set(remove_outlier(df2[['target']]).query('target == True').index.tolist()))"
   ]
  },
  {
   "cell_type": "code",
   "execution_count": 276,
   "id": "80d0c85e-df81-4355-92d2-e0d4e90b9faf",
   "metadata": {},
   "outputs": [],
   "source": [
    "# df2 = df2.loc[l,:].reset_index().drop('index', axis = 1)"
   ]
  },
  {
   "cell_type": "markdown",
   "id": "5a11a41c-b685-4091-b0a5-68892dc7562d",
   "metadata": {},
   "source": [
    "`-` 이상점 제거 방식을 바꿈"
   ]
  },
  {
   "cell_type": "code",
   "execution_count": 281,
   "id": "0fc995e1-3906-43e8-a3e1-40337e58ef32",
   "metadata": {},
   "outputs": [],
   "source": [
    "df2 = df2[remove_outlier(np.log(df2['target']))]"
   ]
  },
  {
   "cell_type": "code",
   "execution_count": 282,
   "id": "827ccb27-32d8-4d1b-a056-27ab469fa133",
   "metadata": {},
   "outputs": [
    {
     "data": {
      "text/plain": [
       "<AxesSubplot:>"
      ]
     },
     "execution_count": 282,
     "metadata": {},
     "output_type": "execute_result"
    },
    {
     "data": {
      "image/png": "[encoded data removed]",
      "text/plain": [
       "<Figure size 432x288 with 1 Axes>"
      ]
     },
     "metadata": {},
     "output_type": "display_data"
    }
   ],
   "source": [
    "np.log(df2['target']).hist(bins = 30) ## 현재 방식"
   ]
  },
  {
   "cell_type": "code",
   "execution_count": 21,
   "id": "1ea3e730-af82-491e-939d-79ef94ef6a1f",
   "metadata": {},
   "outputs": [
    {
     "data": {
      "text/plain": [
       "<AxesSubplot:>"
      ]
     },
     "execution_count": 21,
     "metadata": {},
     "output_type": "execute_result"
    },
    {
     "data": {
      "image/png": "[encoded data removed]",
      "text/plain": [
       "<Figure size 432x288 with 1 Axes>"
      ]
     },
     "metadata": {
      "needs_background": "light"
     },
     "output_type": "display_data"
    }
   ],
   "source": [
    "np.log(df2['target']).hist(bins = 30) ## 과거 방식"
   ]
  },
  {
   "cell_type": "code",
   "execution_count": 283,
   "id": "38ab8c62-c916-4e97-adb1-bf1d022c859b",
   "metadata": {},
   "outputs": [
    {
     "data": {
      "image/png": "[encoded data removed]",
      "text/plain": [
       "<Figure size 432x288 with 1 Axes>"
      ]
     },
     "metadata": {},
     "output_type": "display_data"
    }
   ],
   "source": [
    "_ = stats.probplot(np.log(df2['target']), plot = plt) ## 현재 방식"
   ]
  },
  {
   "cell_type": "code",
   "execution_count": 22,
   "id": "086f6571-b0a5-4279-9082-36eacac5c68e",
   "metadata": {},
   "outputs": [
    {
     "data": {
      "image/png": "[encoded data removed]",
      "text/plain": [
       "<Figure size 432x288 with 1 Axes>"
      ]
     },
     "metadata": {
      "needs_background": "light"
     },
     "output_type": "display_data"
    }
   ],
   "source": [
    "_ = stats.probplot(np.log(df2['target']), plot = plt) ## 과거 방식"
   ]
  },
  {
   "cell_type": "code",
   "execution_count": 284,
   "id": "670ed86e-5c17-4c7e-a6f2-c143292ab6ff",
   "metadata": {},
   "outputs": [],
   "source": [
    "test_stat, p_val = stats.shapiro(np.log(df2['target']))"
   ]
  },
  {
   "cell_type": "code",
   "execution_count": 33,
   "id": "daf60e2a-2bc5-4d3f-ac23-4b6b672292f8",
   "metadata": {},
   "outputs": [
    {
     "data": {
      "text/plain": [
       "(1.1874696781433158e-09, 0.3258074548404892)"
      ]
     },
     "execution_count": 33,
     "metadata": {},
     "output_type": "execute_result"
    }
   ],
   "source": [
    "p_val, np.log(df2['target']).skew() ## p값과 왜도; 현재 방식"
   ]
  },
  {
   "cell_type": "code",
   "execution_count": 24,
   "id": "7d55c291-9d9f-4a7b-9ba1-472c4ec2c675",
   "metadata": {},
   "outputs": [
    {
     "data": {
      "text/plain": [
       "(1.1122151810649683e-11, 0.4089823524750673)"
      ]
     },
     "execution_count": 24,
     "metadata": {},
     "output_type": "execute_result"
    }
   ],
   "source": [
    "p_val, np.log(df2['target']).skew() ## p값과 왜도; 과거 방식"
   ]
  },
  {
   "cell_type": "markdown",
   "id": "9013b767-f419-430b-be05-53bd2e3db543",
   "metadata": {},
   "source": [
    "`-` 이상으로 이상점 제거를 끝냈다\n",
    "\n",
    "`-` 바꾼 이상점 제거 방식과 바꾸기 전에 이상점 제거 방식을 비교하니\n",
    "\n",
    "`-` 오히려 바꾼 방식이 더 낫다"
   ]
  },
  {
   "cell_type": "code",
   "execution_count": 288,
   "id": "c1253eec-1261-41ed-91a2-695299c991d5",
   "metadata": {},
   "outputs": [],
   "source": [
    "dt = df2.copy()"
   ]
  },
  {
   "cell_type": "code",
   "execution_count": 289,
   "id": "17fb28d5-924c-439e-9aeb-399c6f5c2dc9",
   "metadata": {},
   "outputs": [],
   "source": [
    "target = dt['target']  ## target\n",
    "dt = dt.iloc[:, :-1]   ## target 제외한 데이터프레임"
   ]
  },
  {
   "cell_type": "code",
   "execution_count": 290,
   "id": "a91195cb-68c8-49c1-87ae-22a6045b0308",
   "metadata": {},
   "outputs": [],
   "source": [
    "dt['After_1980Year_Built'] = dt['Year_Built'].apply(lambda x: 1 if x >= 1980 else 0) ## 1980년 이후는 1 이전은 0으로 코딩했다\n",
    "## 데이콘에서 제공한 EDA코드에서 산점도를 보면 1980년을 기준으로 집값의 분포가 달라보임"
   ]
  },
  {
   "cell_type": "code",
   "execution_count": 291,
   "id": "fa387c10-42a3-4fc7-9c27-84296435277e",
   "metadata": {},
   "outputs": [],
   "source": [
    "dt.drop(['Year_Built', 'Year_Remod_Add', 'Garage_Yr_Blt'], axis = 1, inplace = True)"
   ]
  },
  {
   "cell_type": "markdown",
   "id": "53a07bea-eac4-440c-9357-a2f7ad515225",
   "metadata": {},
   "source": [
    "`-` train 셋에 포함된 피쳐외의 특징을 연도 피쳐가 가지고 있을 수 있으니 연도 변수로 위의 파생 변수를 사용하자\n",
    "\n",
    "`-` 근데 연도를 연속형 변수 취급해서 사용하는 것이 맞나 싶다\n",
    "\n",
    "`-` 연도 자체를 가지고 집값을 맞추기 보단 최근, 과거 같이 구간을 나눠서 집값을 예측하는 것이 더 나은 것 같다\n",
    "\n",
    "`-` 1980년을 기준으로 이후와 이전을 나누어 범주형 변수로 코딩하자\n",
    "\n",
    "`-` 모델링을 해보니 거의 유용하지 않은 정보였다"
   ]
  },
  {
   "cell_type": "code",
   "execution_count": 292,
   "id": "16e7f1b1-34f9-4192-8b3e-6097722d8756",
   "metadata": {},
   "outputs": [
    {
     "data": {
      "text/plain": [
       "<AxesSubplot:xlabel='Garage_Area', ylabel='Count'>"
      ]
     },
     "execution_count": 292,
     "metadata": {},
     "output_type": "execute_result"
    },
    {
     "data": {
      "image/png": "[encoded data removed]",
      "text/plain": [
       "<Figure size 432x288 with 1 Axes>"
      ]
     },
     "metadata": {},
     "output_type": "display_data"
    }
   ],
   "source": [
    "sns.histplot(data = dt, x = 'Garage_Area', hue= 'Garage_Cars')"
   ]
  },
  {
   "cell_type": "markdown",
   "id": "9c74a0b1-8932-44d8-94df-281fdf1ccbc8",
   "metadata": {},
   "source": [
    "`-` 차고의 면적과 차고에 들어가는 차량의 개수는 강한 상관관계를 보인다\n",
    "\n",
    "`-` 차고 면적은 차고 자리 개수와 관련이 있다\n",
    "\n",
    "`-` 차고 자리 개수에 따라 차고 면적의 분포가 다름\n",
    "\n",
    "`-` 그래서 차고에 들어가는 차량의 개수가 1인지 2인지 3인지를 구분하려고 한다\n",
    "\n",
    "`-` 원핫인코딩을 하고 차고 면적을 로그 변환을 해주자(오른쪽으로 꼬리가 긴 분포)\n",
    "\n",
    "`-` 그런데 위와 같이 하니 별로 성능이 좋지 않았다"
   ]
  },
  {
   "cell_type": "code",
   "execution_count": 293,
   "id": "36cb61c0-2536-4aba-8398-c45a824fb626",
   "metadata": {},
   "outputs": [
    {
     "data": {
      "text/plain": [
       "12"
      ]
     },
     "execution_count": 293,
     "metadata": {},
     "output_type": "execute_result"
    }
   ],
   "source": [
    "sum(dt['Garage_Cars'] >= 4) ## 차고에 들어가는 차량 개수가 4,5인 경우는 12개 뿐이다"
   ]
  },
  {
   "cell_type": "markdown",
   "id": "876e8e17-95c8-412e-8a93-9a3f53e0025c",
   "metadata": {},
   "source": [
    "`-` first_Flr_SF과 Total_Bsmt_SF은 서로 상관관계가 강하다\n",
    "\n",
    "`-` 둘은 비슷한 피쳐이기에 굳이 두 가지의 피쳐를 쓰지 말고 둘의 평균을 새로운 피쳐로 사용하자\n",
    "\n",
    "`-` 지상층 생활 면적도 포함시킬지 고민 중\n",
    "\n",
    "`-` 차고 면적에 2를 곱한 피쳐도 포함시키자(2를 곱한 이유는 값을 비슷하게 해주려고)"
   ]
  },
  {
   "cell_type": "code",
   "execution_count": 295,
   "id": "8928d6b7-a213-4814-8536-9ec7b5ff882b",
   "metadata": {},
   "outputs": [],
   "source": [
    "dt['The_Rest_Area'] = (dt['first_Flr_SF'] + dt['Total_Bsmt_SF'] + 2*dt['Garage_Area']) / 3"
   ]
  },
  {
   "cell_type": "code",
   "execution_count": 296,
   "id": "88566300-fcca-4355-ae64-850471ae016e",
   "metadata": {},
   "outputs": [
    {
     "data": {
      "text/plain": [
       "<AxesSubplot:>"
      ]
     },
     "execution_count": 296,
     "metadata": {},
     "output_type": "execute_result"
    },
    {
     "data": {
      "image/png": "[encoded data removed]",
      "text/plain": [
       "<Figure size 432x288 with 1 Axes>"
      ]
     },
     "metadata": {},
     "output_type": "display_data"
    }
   ],
   "source": [
    "dt['The_Rest_Area'].hist(bins = 30)"
   ]
  },
  {
   "cell_type": "markdown",
   "id": "0100e4d2-4729-4b19-8af9-56a448decae1",
   "metadata": {},
   "source": [
    "`-` 지상층 생활 면적과 나머지들의 면적을 로그 변환하자(오른쪽으로 꼬리가 긴 분포)"
   ]
  },
  {
   "cell_type": "code",
   "execution_count": 297,
   "id": "b8be0343-da7b-4b31-b695-ed2049d7bcd6",
   "metadata": {},
   "outputs": [],
   "source": [
    "dt['Gr_Liv_Area'] = np.log(dt['Gr_Liv_Area'])\n",
    "dt['The_Rest_Area'] = np.log(dt['The_Rest_Area']) "
   ]
  },
  {
   "cell_type": "markdown",
   "id": "7a50eb8b-36b6-42bf-ba8a-4821b709141d",
   "metadata": {},
   "source": [
    "`-` Overall_Qual을 제외한 Quality 관련변수들은 서로 비슷비슷하다(화장실 개수와 차고에 들어가는 차량 개수 피쳐도 포함)\n",
    "\n",
    "`-` 이들의 평균을 새로운 파생 변수로 만들어 사용하자"
   ]
  },
  {
   "cell_type": "code",
   "execution_count": 298,
   "id": "5625aff3-b1ee-4b1f-8829-4ec4f63f533f",
   "metadata": {},
   "outputs": [],
   "source": [
    "dt['The_Rest_Qual'] = (dt['Exter_Qual'] + dt['Kitchen_Qual'] + dt['Bsmt_Qual'] + dt['Full_Bath'] + dt['Garage_Cars']) / 5"
   ]
  },
  {
   "cell_type": "markdown",
   "id": "c08b0633-6af7-42b3-bc0d-2a16feda8544",
   "metadata": {},
   "source": [
    "`-` 쓰지 않는 피쳐들은 드랍하자"
   ]
  },
  {
   "cell_type": "code",
   "execution_count": 299,
   "id": "cc5f33ea-0491-4216-b44b-0369ee63a2e4",
   "metadata": {},
   "outputs": [],
   "source": [
    "dt.drop(['Garage_Area', 'Garage_Cars', 'Exter_Qual', 'Kitchen_Qual', 'Bsmt_Qual', 'Full_Bath', 'Total_Bsmt_SF', 'first_Flr_SF'], axis = 1, inplace = True)"
   ]
  },
  {
   "cell_type": "code",
   "execution_count": 300,
   "id": "c99ef091-32ae-40d3-9729-532343976242",
   "metadata": {},
   "outputs": [
    {
     "data": {
      "text/html": [
       "<div>\n",
       "<style scoped>\n",
       "    .dataframe tbody tr th:only-of-type {\n",
       "        vertical-align: middle;\n",
       "    }\n",
       "\n",
       "    .dataframe tbody tr th {\n",
       "        vertical-align: top;\n",
       "    }\n",
       "\n",
       "    .dataframe thead th {\n",
       "        text-align: right;\n",
       "    }\n",
       "</style>\n",
       "<table border=\"1\" class=\"dataframe\">\n",
       "  <thead>\n",
       "    <tr style=\"text-align: right;\">\n",
       "      <th></th>\n",
       "      <th>Overall_Qual</th>\n",
       "      <th>Gr_Liv_Area</th>\n",
       "      <th>After_1980Year_Built</th>\n",
       "      <th>The_Rest_Area</th>\n",
       "      <th>The_Rest_Qual</th>\n",
       "    </tr>\n",
       "  </thead>\n",
       "  <tbody>\n",
       "    <tr>\n",
       "      <th>0</th>\n",
       "      <td>10</td>\n",
       "      <td>7.779885</td>\n",
       "      <td>1</td>\n",
       "      <td>7.714231</td>\n",
       "      <td>3.4</td>\n",
       "    </tr>\n",
       "    <tr>\n",
       "      <th>1</th>\n",
       "      <td>7</td>\n",
       "      <td>7.209340</td>\n",
       "      <td>1</td>\n",
       "      <td>7.100027</td>\n",
       "      <td>2.8</td>\n",
       "    </tr>\n",
       "    <tr>\n",
       "      <th>2</th>\n",
       "      <td>5</td>\n",
       "      <td>6.802395</td>\n",
       "      <td>0</td>\n",
       "      <td>6.659294</td>\n",
       "      <td>1.6</td>\n",
       "    </tr>\n",
       "    <tr>\n",
       "      <th>3</th>\n",
       "      <td>5</td>\n",
       "      <td>7.068172</td>\n",
       "      <td>0</td>\n",
       "      <td>6.730222</td>\n",
       "      <td>2.0</td>\n",
       "    </tr>\n",
       "    <tr>\n",
       "      <th>4</th>\n",
       "      <td>7</td>\n",
       "      <td>7.579679</td>\n",
       "      <td>1</td>\n",
       "      <td>7.176255</td>\n",
       "      <td>2.8</td>\n",
       "    </tr>\n",
       "  </tbody>\n",
       "</table>\n",
       "</div>"
      ],
      "text/plain": [
       "   Overall_Qual  Gr_Liv_Area  After_1980Year_Built  The_Rest_Area  \\\n",
       "0            10     7.779885                     1       7.714231   \n",
       "1             7     7.209340                     1       7.100027   \n",
       "2             5     6.802395                     0       6.659294   \n",
       "3             5     7.068172                     0       6.730222   \n",
       "4             7     7.579679                     1       7.176255   \n",
       "\n",
       "   The_Rest_Qual  \n",
       "0            3.4  \n",
       "1            2.8  \n",
       "2            1.6  \n",
       "3            2.0  \n",
       "4            2.8  "
      ]
     },
     "execution_count": 300,
     "metadata": {},
     "output_type": "execute_result"
    }
   ],
   "source": [
    "dt.head() ## 전처리가 잘 되었다"
   ]
  },
  {
   "cell_type": "markdown",
   "id": "7f389e6b-3cb3-409c-9fbe-e721c8134656",
   "metadata": {},
   "source": [
    "## 모델링(랜덤 포레스트)"
   ]
  },
  {
   "cell_type": "markdown",
   "id": "49e98071-b4b3-4d5e-bd78-f29eba41ff9c",
   "metadata": {},
   "source": [
    "`-` 랜덤 포레스트를 사용해보자"
   ]
  },
  {
   "cell_type": "markdown",
   "id": "b028448c-1c6b-44ad-bcc9-30c445a03eae",
   "metadata": {},
   "source": [
    "### 스케일링\n",
    "\n",
    "`-` z-점수 스케일링이나 로버스트 스케일링이나 비슷하다\n",
    "\n",
    "`-` 로그변환을 통해 분포를 종모양 비슷하게 맞춰줬으니 z-점수 스케일링을 하겠다\n",
    "\n",
    "`-` 계수를 통해 Overall_Qual과 Gr_Liv_Area이 매우 중요하며 그 다음은 Bsmt_Qual이다\n",
    "\n",
    "`-` Kitchen_Qual과 Total_Bsmt_SF이 그 다음이며 나머지는 비슷하다"
   ]
  },
  {
   "cell_type": "code",
   "execution_count": 301,
   "id": "cfb74f1b-3407-4e76-8bee-b80d00b3a3cf",
   "metadata": {},
   "outputs": [],
   "source": [
    "from sklearn.preprocessing import StandardScaler"
   ]
  },
  {
   "cell_type": "code",
   "execution_count": 302,
   "id": "d26df6f7-e883-4727-a24b-556904bcea38",
   "metadata": {},
   "outputs": [],
   "source": [
    "## z-score 스케일러 생성\n",
    "standard_scaler = StandardScaler()\n",
    "\n",
    "## 스케일링\n",
    "dt_scaled = standard_scaler.fit_transform(dt)\n",
    "dt_scaled_df = pd.DataFrame(data = dt_scaled, columns = dt.columns)"
   ]
  },
  {
   "cell_type": "code",
   "execution_count": 303,
   "id": "ec1cf706-d1e2-4f24-bc56-4ca8c61419f6",
   "metadata": {},
   "outputs": [
    {
     "data": {
      "text/html": [
       "<div>\n",
       "<style scoped>\n",
       "    .dataframe tbody tr th:only-of-type {\n",
       "        vertical-align: middle;\n",
       "    }\n",
       "\n",
       "    .dataframe tbody tr th {\n",
       "        vertical-align: top;\n",
       "    }\n",
       "\n",
       "    .dataframe thead th {\n",
       "        text-align: right;\n",
       "    }\n",
       "</style>\n",
       "<table border=\"1\" class=\"dataframe\">\n",
       "  <thead>\n",
       "    <tr style=\"text-align: right;\">\n",
       "      <th></th>\n",
       "      <th>Overall_Qual</th>\n",
       "      <th>Gr_Liv_Area</th>\n",
       "      <th>After_1980Year_Built</th>\n",
       "      <th>The_Rest_Area</th>\n",
       "      <th>The_Rest_Qual</th>\n",
       "    </tr>\n",
       "  </thead>\n",
       "  <tbody>\n",
       "    <tr>\n",
       "      <th>0</th>\n",
       "      <td>2.937740</td>\n",
       "      <td>1.672393</td>\n",
       "      <td>1.140631</td>\n",
       "      <td>2.659203</td>\n",
       "      <td>2.456424</td>\n",
       "    </tr>\n",
       "    <tr>\n",
       "      <th>1</th>\n",
       "      <td>0.618930</td>\n",
       "      <td>-0.200761</td>\n",
       "      <td>1.140631</td>\n",
       "      <td>0.543832</td>\n",
       "      <td>1.228366</td>\n",
       "    </tr>\n",
       "    <tr>\n",
       "      <th>2</th>\n",
       "      <td>-0.926943</td>\n",
       "      <td>-1.536803</td>\n",
       "      <td>-0.876708</td>\n",
       "      <td>-0.974091</td>\n",
       "      <td>-1.227750</td>\n",
       "    </tr>\n",
       "    <tr>\n",
       "      <th>3</th>\n",
       "      <td>-0.926943</td>\n",
       "      <td>-0.664230</td>\n",
       "      <td>-0.876708</td>\n",
       "      <td>-0.729808</td>\n",
       "      <td>-0.409045</td>\n",
       "    </tr>\n",
       "    <tr>\n",
       "      <th>4</th>\n",
       "      <td>0.618930</td>\n",
       "      <td>1.015096</td>\n",
       "      <td>1.140631</td>\n",
       "      <td>0.806365</td>\n",
       "      <td>1.228366</td>\n",
       "    </tr>\n",
       "  </tbody>\n",
       "</table>\n",
       "</div>"
      ],
      "text/plain": [
       "   Overall_Qual  Gr_Liv_Area  After_1980Year_Built  The_Rest_Area  \\\n",
       "0      2.937740     1.672393              1.140631       2.659203   \n",
       "1      0.618930    -0.200761              1.140631       0.543832   \n",
       "2     -0.926943    -1.536803             -0.876708      -0.974091   \n",
       "3     -0.926943    -0.664230             -0.876708      -0.729808   \n",
       "4      0.618930     1.015096              1.140631       0.806365   \n",
       "\n",
       "   The_Rest_Qual  \n",
       "0       2.456424  \n",
       "1       1.228366  \n",
       "2      -1.227750  \n",
       "3      -0.409045  \n",
       "4       1.228366  "
      ]
     },
     "execution_count": 303,
     "metadata": {},
     "output_type": "execute_result"
    }
   ],
   "source": [
    "dt_scaled_df.head()"
   ]
  },
  {
   "cell_type": "markdown",
   "id": "e129d520-4ee2-4f77-a71e-e6a47f93967c",
   "metadata": {},
   "source": [
    "`-` 또한 Qual 관련 변수로 Overall Qual만 사용해봤는데 성능이 더 안좋게 나왔다(선형 회귀)\n",
    "\n",
    "`-` 그래서 Qual 관련 변수를 추가했다\n",
    "\n",
    "`-` 또한 현재 연도에서 완공 연도의 차이를 파생변수로 만들어 추가했다\n",
    "\n",
    "`-` 사실 연도 변수는 포함시킬지 말지 고민했다\n",
    "\n",
    "`-` 최근 연도일수록 집값이 평균적으로 높을텐데\n",
    "\n",
    "`-` 이는 연도때문이라기 보다는 다른 변수에 의한 것이라 생각했기 때문이다\n",
    "\n",
    "`-` 예컨대 과거에는 기술 등의 문제로 더 좋은 건물을 짓지 못했지만 최근에는 가능해진 상황\n",
    "\n",
    "`-` 하지만 train 셋에 포함된 피쳐외의 특징을 연도 피쳐가 가지고 있을 수 있으니 포함하고 모델링 해보기로 했다"
   ]
  },
  {
   "cell_type": "markdown",
   "id": "a1956cd2-728b-4f21-a290-5f7a74f14a1d",
   "metadata": {},
   "source": [
    "### 교차 검증"
   ]
  },
  {
   "cell_type": "code",
   "execution_count": 128,
   "id": "e159cf78-17ae-458b-af26-1b2404ace11e",
   "metadata": {},
   "outputs": [],
   "source": [
    "from sklearn.ensemble import RandomForestRegressor\n",
    "from sklearn.model_selection import GridSearchCV, train_test_split, cross_validate\n",
    "from sklearn.metrics import make_scorer"
   ]
  },
  {
   "cell_type": "code",
   "execution_count": 304,
   "id": "1ad62093-d9e2-462f-a3fd-cfde58a94bc8",
   "metadata": {},
   "outputs": [],
   "source": [
    "x_train, x_valid, y_train, y_valid = train_test_split(dt_scaled_df, target, shuffle = True, test_size = 0.2, random_state = 22)"
   ]
  },
  {
   "cell_type": "code",
   "execution_count": 305,
   "id": "a05fa45e-3f36-4c47-81e5-fcbcaea7dae0",
   "metadata": {},
   "outputs": [],
   "source": [
    "log_y_train = np.log(y_train)"
   ]
  },
  {
   "cell_type": "markdown",
   "id": "10b62a3f-7c63-4f44-8cc9-35a94114dd2d",
   "metadata": {},
   "source": [
    "`-` 데이터를 train과 valid로 나눈다\n",
    "\n",
    "`-` 그리고 train에 대해 교차검증(train을 train2와 valid2로 나누어 모형을 평가)을 한다\n",
    "\n",
    "`-` 그리고 교차검증에 사용한 모델로 valid를 평가한다\n",
    "\n",
    "`-` 교차검증을 통해 측정한 성능과 valid로 측정한 성능이 둘 다 좋다면 괜찮은 모델이다"
   ]
  },
  {
   "cell_type": "code",
   "execution_count": 306,
   "id": "89b40781-7334-41ad-b27c-d0ca9486499f",
   "metadata": {},
   "outputs": [],
   "source": [
    "def NMAE(true, pred):\n",
    "    mae = np.mean(np.abs(true - pred))\n",
    "    score = mae / np.mean(np.abs(true))\n",
    "    return score"
   ]
  },
  {
   "cell_type": "code",
   "execution_count": 307,
   "id": "f25dd968-5217-49e4-a23d-9c3698ef4d76",
   "metadata": {},
   "outputs": [],
   "source": [
    "def my_custom_loss_func(true, pred):\n",
    "    return NMAE(np.exp(true), np.exp(pred)) ## 로그 변환을 위한 손실 함수"
   ]
  },
  {
   "cell_type": "code",
   "execution_count": 308,
   "id": "5914df31-c86e-4f13-a8a3-8223eeec9605",
   "metadata": {},
   "outputs": [],
   "source": [
    "score = make_scorer(my_custom_loss_func, greater_is_better = False) ## 작을수록 좋다 "
   ]
  },
  {
   "cell_type": "code",
   "execution_count": 311,
   "id": "94c1a47f-93c7-499e-b801-fd6a16638dfe",
   "metadata": {},
   "outputs": [],
   "source": [
    "rf = RandomForestRegressor(random_state = 22)\n",
    "\n",
    "scores = cross_validate(rf, x_train, log_y_train, scoring = score, return_train_score = True, cv = 5)"
   ]
  },
  {
   "cell_type": "code",
   "execution_count": 315,
   "id": "2e395124-56e7-45ac-bd52-7053b6dd1a17",
   "metadata": {},
   "outputs": [
    {
     "name": "stdout",
     "output_type": "stream",
     "text": [
      "교차 검증별 NMAE:  [0.10650992 0.10620135 0.08954716 0.10849187 0.08975168]\n",
      "평균 교차 검증 NMAE:  0.10010039686130394\n",
      "valid에 대한 검증 NMAE:  0.10203871350920847\n"
     ]
    }
   ],
   "source": [
    "rf.fit(x_train, log_y_train)\n",
    "print('교차 검증별 NMAE: ', -scores['test_score'])\n",
    "print('평균 교차 검증 NMAE: ', np.mean(-scores['test_score']))\n",
    "print('valid에 대한 검증 NMAE: ', NMAE(y_valid, np.exp(rf.predict(x_valid))))"
   ]
  },
  {
   "cell_type": "code",
   "execution_count": 316,
   "id": "607d995f-b625-4565-9649-0ea3b6427b7d",
   "metadata": {},
   "outputs": [
    {
     "data": {
      "text/plain": [
       "[('Overall_Qual', 0.15285131970403082),\n",
       " ('Gr_Liv_Area', 0.1645673496034866),\n",
       " ('After_1980Year_Built', 0.0035522971811383767),\n",
       " ('The_Rest_Area', 0.11690237297839685),\n",
       " ('The_Rest_Qual', 0.5621266605329474)]"
      ]
     },
     "execution_count": 316,
     "metadata": {},
     "output_type": "execute_result"
    }
   ],
   "source": [
    "list(zip(rf.feature_names_in_,rf.feature_importances_))"
   ]
  },
  {
   "cell_type": "markdown",
   "id": "77aa2ea0-f03d-462c-80ac-3adb7de4965a",
   "metadata": {},
   "source": [
    "`-` Overall_Qual을 제외한 피쳐들을 평균낸 피쳐인 The_Rest_Qual의 중요도가 0.56이다"
   ]
  },
  {
   "cell_type": "code",
   "execution_count": 42,
   "id": "46656e29-e314-4c9f-bb59-8fab41795f9f",
   "metadata": {},
   "outputs": [
    {
     "data": {
      "text/plain": [
       "[('Overall_Qual', 0.5431834936782366),\n",
       " ('Gr_Liv_Area', 0.14604383594613135),\n",
       " ('Exter_Qual', 0.04233756499335442),\n",
       " ('Garage_Cars', 0.007818304293604469),\n",
       " ('Garage_Area', 0.07120858446964971),\n",
       " ('Kitchen_Qual', 0.009051944221832066),\n",
       " ('Total_Bsmt_SF', 0.04673881137609024),\n",
       " ('first_Flr_SF', 0.04624833278829917),\n",
       " ('Bsmt_Qual', 0.014066815219848707),\n",
       " ('Full_Bath', 0.01997589290936081),\n",
       " ('gap_year_now_bulit', 0.053326420103592405)]"
      ]
     },
     "execution_count": 42,
     "metadata": {},
     "output_type": "execute_result"
    }
   ],
   "source": [
    "list(zip(rf.feature_names_in_,rf.feature_importances_))"
   ]
  },
  {
   "cell_type": "markdown",
   "id": "7a96c98b-927f-4bf7-a54a-0e269108ec10",
   "metadata": {},
   "source": [
    "`-` 전체적인 품질과 지상층 면적이 중요도의 약 70%를 차지함(예전 방식)"
   ]
  },
  {
   "cell_type": "markdown",
   "id": "8071ce73-fb72-470d-9a9c-2af6e22e9b66",
   "metadata": {},
   "source": [
    "### 하이퍼 파라미터 튜닝"
   ]
  },
  {
   "cell_type": "markdown",
   "id": "0d7765a8-ea37-441c-8203-a1421eff32a1",
   "metadata": {},
   "source": [
    "`-` 디폴트 옵션에 대한 성능은 위에서 확인했다\n",
    "\n",
    "`-` 하이퍼 파라미터 튜닝을 통해 성능을 더 올려보자"
   ]
  },
  {
   "cell_type": "code",
   "execution_count": 43,
   "id": "2597040a-4e75-427c-9e15-c66b7a519bff",
   "metadata": {},
   "outputs": [],
   "source": [
    "params = {'n_estimators': [100, 200], 'max_depth': [6, 10, 15], 'min_samples_split': [4, 5, 6]}"
   ]
  },
  {
   "cell_type": "code",
   "execution_count": 44,
   "id": "6ca1ffca-a754-4a4a-add8-3447b11d06d5",
   "metadata": {},
   "outputs": [],
   "source": [
    "rf = RandomForestRegressor(random_state = 22)"
   ]
  },
  {
   "cell_type": "code",
   "execution_count": 45,
   "id": "9754aa1b-d26d-44be-9092-6e7614aad2d2",
   "metadata": {},
   "outputs": [],
   "source": [
    "grid_rf = GridSearchCV(rf, param_grid = params, scoring = score, cv = 5, refit = True)"
   ]
  },
  {
   "cell_type": "code",
   "execution_count": 46,
   "id": "06d9e279-b4b7-46f2-b417-1d79a64fbe9d",
   "metadata": {},
   "outputs": [
    {
     "data": {
      "text/plain": [
       "GridSearchCV(cv=5, estimator=RandomForestRegressor(random_state=22),\n",
       "             param_grid={'max_depth': [6, 10, 15],\n",
       "                         'min_samples_split': [4, 5, 6],\n",
       "                         'n_estimators': [100, 200]},\n",
       "             scoring=make_scorer(my_custom_loss_func, greater_is_better=False))"
      ]
     },
     "execution_count": 46,
     "metadata": {},
     "output_type": "execute_result"
    }
   ],
   "source": [
    "grid_rf.fit(x_train, log_y_train)"
   ]
  },
  {
   "cell_type": "code",
   "execution_count": 50,
   "id": "11194fc8-aae5-42e1-91fc-2a84487892c8",
   "metadata": {},
   "outputs": [
    {
     "data": {
      "text/plain": [
       "0.09295432419744803"
      ]
     },
     "execution_count": 50,
     "metadata": {},
     "output_type": "execute_result"
    }
   ],
   "source": [
    "-grid_rf.best_score_"
   ]
  },
  {
   "cell_type": "code",
   "execution_count": 48,
   "id": "bf40db4b-d08d-4e3c-aceb-529168f5b09d",
   "metadata": {},
   "outputs": [
    {
     "data": {
      "text/plain": [
       "RandomForestRegressor(max_depth=10, min_samples_split=6, n_estimators=200,\n",
       "                      random_state=22)"
      ]
     },
     "execution_count": 48,
     "metadata": {},
     "output_type": "execute_result"
    }
   ],
   "source": [
    "grid_rf.best_estimator_"
   ]
  },
  {
   "cell_type": "markdown",
   "id": "1f5eda72-da5f-4934-be22-257b609f387c",
   "metadata": {},
   "source": [
    "`-` 조금 성능이 올랐다(예전 이상치 제거 방식과 피쳐 샐렉션 방식을 사용했을 때 기준; 현재는 모름)"
   ]
  },
  {
   "cell_type": "markdown",
   "id": "7eec6b5e-c21d-4593-bd90-1d4a55aab1da",
   "metadata": {},
   "source": [
    "### test 예측\n",
    "\n",
    "`-` 아래는 예전 방식의 내용임\n",
    "\n",
    "`-` 현재 방식을 사용하지 않은 이유는 교차 검증 결과가 좋지 않아서...\n",
    "\n",
    "`-` 랜덤 포레스트 10겹 교차검증을 통해 test를 예측하자\n",
    "\n",
    "`-` 즉 동일한 랜덤 포레스트 모델(훈련 데이터가 다름) 10개를 만들고 이들의 평균을 구하는 것"
   ]
  },
  {
   "cell_type": "code",
   "execution_count": 208,
   "id": "aafe3a03-0026-4126-bcb8-1a3230a52eec",
   "metadata": {},
   "outputs": [],
   "source": [
    "from sklearn.model_selection import KFold"
   ]
  },
  {
   "cell_type": "code",
   "execution_count": 55,
   "id": "bde8d92b-1fd8-482a-bfb4-98958da9e16b",
   "metadata": {},
   "outputs": [],
   "source": [
    "test['gap_year_now_bulit'] = 2022 - test['Year_Built']"
   ]
  },
  {
   "cell_type": "markdown",
   "id": "c2729855-98f4-4cac-a531-54278a423a19",
   "metadata": {},
   "source": [
    "`-` train 셋에 포함된 피쳐외의 특징을 연도 피쳐가 가지고 있을 수 있으니 연도 변수로 위의 파생 변수를 사용하자"
   ]
  },
  {
   "cell_type": "code",
   "execution_count": 56,
   "id": "7357b494-536d-4095-8ca7-3f95248c04a1",
   "metadata": {},
   "outputs": [],
   "source": [
    "test.drop(['Year_Built', 'Year_Remod_Add', 'Garage_Yr_Blt'], axis = 1, inplace = True)"
   ]
  },
  {
   "cell_type": "markdown",
   "id": "7d6bb17c-0bf4-470e-89b9-17974da535c1",
   "metadata": {},
   "source": [
    "`-` 차고 면적은 차고 자리 개수와 관련이 있다\n",
    "\n",
    "`-` 차고 자리 개수에 따라 차고 면적의 분포가 다름\n",
    "\n",
    "`-` 그렇기에 원핫인코딩을 하고 둘을 곱한 파생 변수를 만들고 로그 변환을 해주자(오른쪽으로 꼬리가 긴 분포)\n",
    "\n",
    "`-` 그런데 일단은 하지 말자(하지 말고 그냥 드랍하자)"
   ]
  },
  {
   "cell_type": "markdown",
   "id": "a1ea3ced-3a6d-45dd-875c-b5d4f4fe326a",
   "metadata": {},
   "source": [
    "`-` 지상층 생활 면적과 1층 면적과 지하실 면적과 연도를 로그 변환하자(오른쪽으로 꼬리가 긴 분포)"
   ]
  },
  {
   "cell_type": "code",
   "execution_count": 57,
   "id": "e7c721ee-3d4a-4706-ba8b-20d7d5eb5a0f",
   "metadata": {},
   "outputs": [],
   "source": [
    "test['Gr_Liv_Area'] = np.log(test['Gr_Liv_Area'])\n",
    "test['first_Flr_SF'] = np.log(test['first_Flr_SF'])\n",
    "test['Total_Bsmt_SF'] = np.log(test['Total_Bsmt_SF'])\n",
    "test['gap_year_now_bulit'] = np.log(test['gap_year_now_bulit']) ## 솔직히 유용한지 잘 모르겠지만 score가 더 잘나와서 씀"
   ]
  },
  {
   "cell_type": "code",
   "execution_count": 209,
   "id": "38effb98-3e2d-4491-9fd1-3b9084c1f128",
   "metadata": {},
   "outputs": [],
   "source": [
    "for col in test.columns[test.dtypes == 'object']:\n",
    "    test[col] = test[col].apply(lambda x: label_encoding(x))"
   ]
  },
  {
   "cell_type": "code",
   "execution_count": 59,
   "id": "543edfd7-e6e7-4a2c-b056-7ee012b22ad9",
   "metadata": {},
   "outputs": [],
   "source": [
    "test_scaled = robust_scaler.transform(test)\n",
    "test_scaled_df = pd.DataFrame(data = test_scaled, columns = test.columns)"
   ]
  },
  {
   "cell_type": "code",
   "execution_count": 60,
   "id": "f8347bf3-f796-4c73-b2e3-ff5da819f69d",
   "metadata": {},
   "outputs": [
    {
     "data": {
      "text/html": [
       "<div>\n",
       "<style scoped>\n",
       "    .dataframe tbody tr th:only-of-type {\n",
       "        vertical-align: middle;\n",
       "    }\n",
       "\n",
       "    .dataframe tbody tr th {\n",
       "        vertical-align: top;\n",
       "    }\n",
       "\n",
       "    .dataframe thead th {\n",
       "        text-align: right;\n",
       "    }\n",
       "</style>\n",
       "<table border=\"1\" class=\"dataframe\">\n",
       "  <thead>\n",
       "    <tr style=\"text-align: right;\">\n",
       "      <th></th>\n",
       "      <th>Overall_Qual</th>\n",
       "      <th>Gr_Liv_Area</th>\n",
       "      <th>Exter_Qual</th>\n",
       "      <th>Garage_Cars</th>\n",
       "      <th>Garage_Area</th>\n",
       "      <th>Kitchen_Qual</th>\n",
       "      <th>Total_Bsmt_SF</th>\n",
       "      <th>first_Flr_SF</th>\n",
       "      <th>Bsmt_Qual</th>\n",
       "      <th>Full_Bath</th>\n",
       "      <th>gap_year_now_bulit</th>\n",
       "    </tr>\n",
       "  </thead>\n",
       "  <tbody>\n",
       "    <tr>\n",
       "      <th>0</th>\n",
       "      <td>1.5</td>\n",
       "      <td>0.526539</td>\n",
       "      <td>1.0</td>\n",
       "      <td>0.0</td>\n",
       "      <td>1.095477</td>\n",
       "      <td>2.0</td>\n",
       "      <td>1.261657</td>\n",
       "      <td>1.137370</td>\n",
       "      <td>1.0</td>\n",
       "      <td>0.0</td>\n",
       "      <td>-0.938580</td>\n",
       "    </tr>\n",
       "    <tr>\n",
       "      <th>1</th>\n",
       "      <td>0.0</td>\n",
       "      <td>-0.676332</td>\n",
       "      <td>0.0</td>\n",
       "      <td>-1.0</td>\n",
       "      <td>-1.226131</td>\n",
       "      <td>0.0</td>\n",
       "      <td>0.143670</td>\n",
       "      <td>-0.021998</td>\n",
       "      <td>-1.0</td>\n",
       "      <td>-1.0</td>\n",
       "      <td>0.398203</td>\n",
       "    </tr>\n",
       "    <tr>\n",
       "      <th>2</th>\n",
       "      <td>0.0</td>\n",
       "      <td>0.207959</td>\n",
       "      <td>1.0</td>\n",
       "      <td>0.0</td>\n",
       "      <td>-0.221106</td>\n",
       "      <td>1.0</td>\n",
       "      <td>-0.643845</td>\n",
       "      <td>-0.799827</td>\n",
       "      <td>0.0</td>\n",
       "      <td>0.0</td>\n",
       "      <td>-0.617795</td>\n",
       "    </tr>\n",
       "    <tr>\n",
       "      <th>3</th>\n",
       "      <td>0.0</td>\n",
       "      <td>1.248390</td>\n",
       "      <td>1.0</td>\n",
       "      <td>1.0</td>\n",
       "      <td>1.306533</td>\n",
       "      <td>1.0</td>\n",
       "      <td>0.292779</td>\n",
       "      <td>0.132630</td>\n",
       "      <td>0.0</td>\n",
       "      <td>0.0</td>\n",
       "      <td>-0.785871</td>\n",
       "    </tr>\n",
       "    <tr>\n",
       "      <th>4</th>\n",
       "      <td>-0.5</td>\n",
       "      <td>-0.769897</td>\n",
       "      <td>0.0</td>\n",
       "      <td>0.0</td>\n",
       "      <td>1.015075</td>\n",
       "      <td>0.0</td>\n",
       "      <td>0.056708</td>\n",
       "      <td>-0.112179</td>\n",
       "      <td>-1.0</td>\n",
       "      <td>-1.0</td>\n",
       "      <td>0.134299</td>\n",
       "    </tr>\n",
       "  </tbody>\n",
       "</table>\n",
       "</div>"
      ],
      "text/plain": [
       "   Overall_Qual  Gr_Liv_Area  Exter_Qual  Garage_Cars  Garage_Area  \\\n",
       "0           1.5     0.526539         1.0          0.0     1.095477   \n",
       "1           0.0    -0.676332         0.0         -1.0    -1.226131   \n",
       "2           0.0     0.207959         1.0          0.0    -0.221106   \n",
       "3           0.0     1.248390         1.0          1.0     1.306533   \n",
       "4          -0.5    -0.769897         0.0          0.0     1.015075   \n",
       "\n",
       "   Kitchen_Qual  Total_Bsmt_SF  first_Flr_SF  Bsmt_Qual  Full_Bath  \\\n",
       "0           2.0       1.261657      1.137370        1.0        0.0   \n",
       "1           0.0       0.143670     -0.021998       -1.0       -1.0   \n",
       "2           1.0      -0.643845     -0.799827        0.0        0.0   \n",
       "3           1.0       0.292779      0.132630        0.0        0.0   \n",
       "4           0.0       0.056708     -0.112179       -1.0       -1.0   \n",
       "\n",
       "   gap_year_now_bulit  \n",
       "0           -0.938580  \n",
       "1            0.398203  \n",
       "2           -0.617795  \n",
       "3           -0.785871  \n",
       "4            0.134299  "
      ]
     },
     "execution_count": 60,
     "metadata": {},
     "output_type": "execute_result"
    }
   ],
   "source": [
    "test_scaled_df.head() ## 로그 변환이 잘 되었다"
   ]
  },
  {
   "cell_type": "code",
   "execution_count": 220,
   "id": "555b6ea5-57a3-4836-ade7-fdb064ac1511",
   "metadata": {},
   "outputs": [],
   "source": [
    "kfold = KFold(n_splits = 10, random_state = 22, shuffle = True)"
   ]
  },
  {
   "cell_type": "code",
   "execution_count": 223,
   "id": "fe7d239a-480f-45f6-b8cd-3b3cbd9c31c5",
   "metadata": {},
   "outputs": [],
   "source": [
    "log_target = np.log(target)"
   ]
  },
  {
   "cell_type": "code",
   "execution_count": 66,
   "id": "6f0282c1-1f63-4a12-93b9-2a14922f5a4e",
   "metadata": {},
   "outputs": [],
   "source": [
    "rf_predict = np.zeros(test.shape[0])\n",
    "\n",
    "for train_idx, valid_idx in kfold.split(dt_scaled_df, log_target):\n",
    "    x_train, y_train = dt_scaled_df.iloc[train_idx], log_target.iloc[train_idx]\n",
    "    x_valid, y_valid = dt_scaled_df.iloc[valid_idx], np.exp(log_target.iloc[valid_idx])\n",
    "    \n",
    "    rf = RandomForestRegressor(random_state = 22, criterion = 'absolute_error', n_estimators = 200, max_depth = 10, min_samples_leaf = 6) ## 훈련\n",
    "    rf.fit(x_train, y_train)\n",
    "    \n",
    "    test_predict = np.exp(rf.predict(test_scaled_df)) ## test셋 예측\n",
    "    rf_predict += test_predict / 10 ## test 예측값(10 Fold)"
   ]
  },
  {
   "cell_type": "code",
   "execution_count": 67,
   "id": "2438b5b4-5695-468a-8f92-4c656f0958a4",
   "metadata": {},
   "outputs": [],
   "source": [
    "submission = pd.read_csv('C:/Users/Jaesu/github_desktop/Dacon-Basic/집값-예측/Data/sample_submission.csv')"
   ]
  },
  {
   "cell_type": "code",
   "execution_count": 68,
   "id": "78d8b309-159e-456f-bdc4-527bc1cb4208",
   "metadata": {},
   "outputs": [
    {
     "data": {
      "text/html": [
       "<div>\n",
       "<style scoped>\n",
       "    .dataframe tbody tr th:only-of-type {\n",
       "        vertical-align: middle;\n",
       "    }\n",
       "\n",
       "    .dataframe tbody tr th {\n",
       "        vertical-align: top;\n",
       "    }\n",
       "\n",
       "    .dataframe thead th {\n",
       "        text-align: right;\n",
       "    }\n",
       "</style>\n",
       "<table border=\"1\" class=\"dataframe\">\n",
       "  <thead>\n",
       "    <tr style=\"text-align: right;\">\n",
       "      <th></th>\n",
       "      <th>id</th>\n",
       "      <th>target</th>\n",
       "    </tr>\n",
       "  </thead>\n",
       "  <tbody>\n",
       "    <tr>\n",
       "      <th>0</th>\n",
       "      <td>1</td>\n",
       "      <td>326439.419625</td>\n",
       "    </tr>\n",
       "    <tr>\n",
       "      <th>1</th>\n",
       "      <td>2</td>\n",
       "      <td>135078.056709</td>\n",
       "    </tr>\n",
       "    <tr>\n",
       "      <th>2</th>\n",
       "      <td>3</td>\n",
       "      <td>178239.410762</td>\n",
       "    </tr>\n",
       "    <tr>\n",
       "      <th>3</th>\n",
       "      <td>4</td>\n",
       "      <td>223829.937251</td>\n",
       "    </tr>\n",
       "    <tr>\n",
       "      <th>4</th>\n",
       "      <td>5</td>\n",
       "      <td>133786.154097</td>\n",
       "    </tr>\n",
       "  </tbody>\n",
       "</table>\n",
       "</div>"
      ],
      "text/plain": [
       "   id         target\n",
       "0   1  326439.419625\n",
       "1   2  135078.056709\n",
       "2   3  178239.410762\n",
       "3   4  223829.937251\n",
       "4   5  133786.154097"
      ]
     },
     "execution_count": 68,
     "metadata": {},
     "output_type": "execute_result"
    }
   ],
   "source": [
    "## 위에서 구한 예측값을 그대로 넣어줌\n",
    "submission['target'] = rf_predict\n",
    "\n",
    "## 데이터가 잘 들어갔는지 확인\n",
    "submission.head()"
   ]
  },
  {
   "cell_type": "code",
   "execution_count": 69,
   "id": "b8731ee7-7fad-4dca-bd6c-dbd8c2a5979a",
   "metadata": {},
   "outputs": [],
   "source": [
    "## submission을 csv 파일로 저장\n",
    "submission.to_csv('C:/Users/Jaesu/github_desktop/Dacon-Basic/집값-예측/Data/submission5.csv', index = False)"
   ]
  },
  {
   "cell_type": "markdown",
   "id": "5fad5095-b5a8-463c-a4c5-21433f999806",
   "metadata": {},
   "source": [
    "`-` 점수는 약 $0.11057$이다"
   ]
  },
  {
   "cell_type": "code",
   "execution_count": null,
   "id": "7e200ff4-34b8-4979-9ac2-9f7f0b7c0276",
   "metadata": {},
   "outputs": [],
   "source": []
  }
 ],
 "metadata": {
  "kernelspec": {
   "display_name": "Python 3 (ipykernel)",
   "language": "python",
   "name": "python3"
  },
  "language_info": {
   "codemirror_mode": {
    "name": "ipython",
    "version": 3
   },
   "file_extension": ".py",
   "mimetype": "text/x-python",
   "name": "python",
   "nbconvert_exporter": "python",
   "pygments_lexer": "ipython3",
   "version": "3.8.11"
  }
 },
 "nbformat": 4,
 "nbformat_minor": 5
}
