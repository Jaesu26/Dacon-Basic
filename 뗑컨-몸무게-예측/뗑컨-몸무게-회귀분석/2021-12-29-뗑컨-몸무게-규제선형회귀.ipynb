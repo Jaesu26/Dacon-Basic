{
 "cells": [
  {
   "cell_type": "markdown",
   "id": "9075a2ea-2c8c-4a05-9225-3009aba6d7f5",
   "metadata": {},
   "source": [
    "# 뗑컨 몸무게 예측 경진대회"
   ]
  },
  {
   "cell_type": "markdown",
   "id": "cabf7f99-1520-4e6f-b75c-0222e2bbe492",
   "metadata": {},
   "source": [
    "## 패키지 import 및 데이터 전처리"
   ]
  },
  {
   "cell_type": "code",
   "execution_count": 1,
   "id": "97108185-00c7-429b-b548-8824165715ea",
   "metadata": {},
   "outputs": [],
   "source": [
    "import pandas as pd\n",
    "import numpy as np"
   ]
  },
  {
   "cell_type": "code",
   "execution_count": 70,
   "id": "dfd30bed-f2c7-4526-a994-9d0348b61543",
   "metadata": {},
   "outputs": [],
   "source": [
    "df = pd.read_csv('C:/Users/Jaesu/Dacon-Basic/뗑컨-몸무게-예측/Data/train.csv')"
   ]
  },
  {
   "cell_type": "code",
   "execution_count": 71,
   "id": "b187e66f-5a39-4f16-9ea7-1d49ae83dfa7",
   "metadata": {},
   "outputs": [
    {
     "data": {
      "text/html": [
       "<div>\n",
       "<style scoped>\n",
       "    .dataframe tbody tr th:only-of-type {\n",
       "        vertical-align: middle;\n",
       "    }\n",
       "\n",
       "    .dataframe tbody tr th {\n",
       "        vertical-align: top;\n",
       "    }\n",
       "\n",
       "    .dataframe thead th {\n",
       "        text-align: right;\n",
       "    }\n",
       "</style>\n",
       "<table border=\"1\" class=\"dataframe\">\n",
       "  <thead>\n",
       "    <tr style=\"text-align: right;\">\n",
       "      <th></th>\n",
       "      <th>id</th>\n",
       "      <th>Species</th>\n",
       "      <th>Island</th>\n",
       "      <th>Clutch Completion</th>\n",
       "      <th>Culmen Length (mm)</th>\n",
       "      <th>Culmen Depth (mm)</th>\n",
       "      <th>Flipper Length (mm)</th>\n",
       "      <th>Sex</th>\n",
       "      <th>Delta 15 N (o/oo)</th>\n",
       "      <th>Delta 13 C (o/oo)</th>\n",
       "      <th>Body Mass (g)</th>\n",
       "    </tr>\n",
       "  </thead>\n",
       "  <tbody>\n",
       "    <tr>\n",
       "      <th>0</th>\n",
       "      <td>0</td>\n",
       "      <td>Gentoo penguin (Pygoscelis papua)</td>\n",
       "      <td>Biscoe</td>\n",
       "      <td>Yes</td>\n",
       "      <td>50.0</td>\n",
       "      <td>15.3</td>\n",
       "      <td>220</td>\n",
       "      <td>MALE</td>\n",
       "      <td>8.30515</td>\n",
       "      <td>-25.19017</td>\n",
       "      <td>5550</td>\n",
       "    </tr>\n",
       "    <tr>\n",
       "      <th>1</th>\n",
       "      <td>1</td>\n",
       "      <td>Chinstrap penguin (Pygoscelis antarctica)</td>\n",
       "      <td>Dream</td>\n",
       "      <td>No</td>\n",
       "      <td>49.5</td>\n",
       "      <td>19.0</td>\n",
       "      <td>200</td>\n",
       "      <td>MALE</td>\n",
       "      <td>9.63074</td>\n",
       "      <td>-24.34684</td>\n",
       "      <td>3800</td>\n",
       "    </tr>\n",
       "    <tr>\n",
       "      <th>2</th>\n",
       "      <td>2</td>\n",
       "      <td>Gentoo penguin (Pygoscelis papua)</td>\n",
       "      <td>Biscoe</td>\n",
       "      <td>Yes</td>\n",
       "      <td>45.1</td>\n",
       "      <td>14.4</td>\n",
       "      <td>210</td>\n",
       "      <td>FEMALE</td>\n",
       "      <td>8.51951</td>\n",
       "      <td>-27.01854</td>\n",
       "      <td>4400</td>\n",
       "    </tr>\n",
       "    <tr>\n",
       "      <th>3</th>\n",
       "      <td>3</td>\n",
       "      <td>Gentoo penguin (Pygoscelis papua)</td>\n",
       "      <td>Biscoe</td>\n",
       "      <td>Yes</td>\n",
       "      <td>44.5</td>\n",
       "      <td>14.7</td>\n",
       "      <td>214</td>\n",
       "      <td>FEMALE</td>\n",
       "      <td>8.20106</td>\n",
       "      <td>-26.16524</td>\n",
       "      <td>4850</td>\n",
       "    </tr>\n",
       "    <tr>\n",
       "      <th>4</th>\n",
       "      <td>4</td>\n",
       "      <td>Gentoo penguin (Pygoscelis papua)</td>\n",
       "      <td>Biscoe</td>\n",
       "      <td>No</td>\n",
       "      <td>49.6</td>\n",
       "      <td>16.0</td>\n",
       "      <td>225</td>\n",
       "      <td>MALE</td>\n",
       "      <td>8.38324</td>\n",
       "      <td>-26.84272</td>\n",
       "      <td>5700</td>\n",
       "    </tr>\n",
       "  </tbody>\n",
       "</table>\n",
       "</div>"
      ],
      "text/plain": [
       "   id                                    Species  Island Clutch Completion  \\\n",
       "0   0          Gentoo penguin (Pygoscelis papua)  Biscoe               Yes   \n",
       "1   1  Chinstrap penguin (Pygoscelis antarctica)   Dream                No   \n",
       "2   2          Gentoo penguin (Pygoscelis papua)  Biscoe               Yes   \n",
       "3   3          Gentoo penguin (Pygoscelis papua)  Biscoe               Yes   \n",
       "4   4          Gentoo penguin (Pygoscelis papua)  Biscoe                No   \n",
       "\n",
       "   Culmen Length (mm)  Culmen Depth (mm)  Flipper Length (mm)     Sex  \\\n",
       "0                50.0               15.3                  220    MALE   \n",
       "1                49.5               19.0                  200    MALE   \n",
       "2                45.1               14.4                  210  FEMALE   \n",
       "3                44.5               14.7                  214  FEMALE   \n",
       "4                49.6               16.0                  225    MALE   \n",
       "\n",
       "   Delta 15 N (o/oo)  Delta 13 C (o/oo)  Body Mass (g)  \n",
       "0            8.30515          -25.19017           5550  \n",
       "1            9.63074          -24.34684           3800  \n",
       "2            8.51951          -27.01854           4400  \n",
       "3            8.20106          -26.16524           4850  \n",
       "4            8.38324          -26.84272           5700  "
      ]
     },
     "execution_count": 71,
     "metadata": {},
     "output_type": "execute_result"
    }
   ],
   "source": [
    "df.head()"
   ]
  },
  {
   "cell_type": "code",
   "execution_count": 72,
   "id": "256b52cf-483b-469d-93a3-5176a179af6b",
   "metadata": {},
   "outputs": [],
   "source": [
    "df.rename(columns = {'Clutch Completion':'Full_Clutch', 'Culmen Length (mm)':'Culmen_Length', \n",
    "                     'Culmen Depth (mm)':'Culmen_Depth', 'Flipper Length (mm)':'Flipper_Length',\n",
    "                     'Delta 15 N (o/oo)':'DeltaN', 'Delta 13 C (o/oo)':'DeltaC', 'Body Mass (g)':'Body_Mass'}, inplace = True) ## 열 이름 변경"
   ]
  },
  {
   "cell_type": "code",
   "execution_count": 73,
   "id": "c40daddd-b588-46cf-9459-65b02365cbc0",
   "metadata": {},
   "outputs": [],
   "source": [
    "df.drop('id', axis = 1, inplace = True) ## id는 필요없으니 제거 "
   ]
  },
  {
   "cell_type": "code",
   "execution_count": 74,
   "id": "a4a7272e-35ee-4d28-806b-6dae49ad776f",
   "metadata": {},
   "outputs": [
    {
     "data": {
      "text/plain": [
       "Species           0\n",
       "Island            0\n",
       "Full_Clutch       0\n",
       "Culmen_Length     0\n",
       "Culmen_Depth      0\n",
       "Flipper_Length    0\n",
       "Sex               3\n",
       "DeltaN            3\n",
       "DeltaC            3\n",
       "Body_Mass         0\n",
       "dtype: int64"
      ]
     },
     "execution_count": 74,
     "metadata": {},
     "output_type": "execute_result"
    }
   ],
   "source": [
    "df.isnull().sum()"
   ]
  },
  {
   "cell_type": "markdown",
   "id": "a36d79bd-ee17-43ca-bcdd-25193f02ae9d",
   "metadata": {},
   "source": [
    "`-` Sex, Delta 15 N, Delta 13 C 컬럼에 결측치가 3개씩 존재한다"
   ]
  },
  {
   "cell_type": "code",
   "execution_count": 75,
   "id": "eb3efdbc-3052-4638-a12c-02363dc97b0c",
   "metadata": {},
   "outputs": [
    {
     "data": {
      "text/html": [
       "<div>\n",
       "<style scoped>\n",
       "    .dataframe tbody tr th:only-of-type {\n",
       "        vertical-align: middle;\n",
       "    }\n",
       "\n",
       "    .dataframe tbody tr th {\n",
       "        vertical-align: top;\n",
       "    }\n",
       "\n",
       "    .dataframe thead th {\n",
       "        text-align: right;\n",
       "    }\n",
       "</style>\n",
       "<table border=\"1\" class=\"dataframe\">\n",
       "  <thead>\n",
       "    <tr style=\"text-align: right;\">\n",
       "      <th></th>\n",
       "      <th>Species</th>\n",
       "      <th>Island</th>\n",
       "      <th>Full_Clutch</th>\n",
       "      <th>Culmen_Length</th>\n",
       "      <th>Culmen_Depth</th>\n",
       "      <th>Flipper_Length</th>\n",
       "      <th>Sex</th>\n",
       "      <th>DeltaN</th>\n",
       "      <th>DeltaC</th>\n",
       "      <th>Body_Mass</th>\n",
       "    </tr>\n",
       "  </thead>\n",
       "  <tbody>\n",
       "    <tr>\n",
       "      <th>6</th>\n",
       "      <td>Adelie Penguin (Pygoscelis adeliae)</td>\n",
       "      <td>Torgersen</td>\n",
       "      <td>Yes</td>\n",
       "      <td>42.0</td>\n",
       "      <td>20.2</td>\n",
       "      <td>190</td>\n",
       "      <td>NaN</td>\n",
       "      <td>9.13362</td>\n",
       "      <td>-25.09368</td>\n",
       "      <td>4250</td>\n",
       "    </tr>\n",
       "    <tr>\n",
       "      <th>8</th>\n",
       "      <td>Adelie Penguin (Pygoscelis adeliae)</td>\n",
       "      <td>Torgersen</td>\n",
       "      <td>Yes</td>\n",
       "      <td>34.1</td>\n",
       "      <td>18.1</td>\n",
       "      <td>193</td>\n",
       "      <td>NaN</td>\n",
       "      <td>NaN</td>\n",
       "      <td>NaN</td>\n",
       "      <td>3475</td>\n",
       "    </tr>\n",
       "    <tr>\n",
       "      <th>18</th>\n",
       "      <td>Adelie Penguin (Pygoscelis adeliae)</td>\n",
       "      <td>Dream</td>\n",
       "      <td>No</td>\n",
       "      <td>39.8</td>\n",
       "      <td>19.1</td>\n",
       "      <td>184</td>\n",
       "      <td>MALE</td>\n",
       "      <td>NaN</td>\n",
       "      <td>NaN</td>\n",
       "      <td>4650</td>\n",
       "    </tr>\n",
       "    <tr>\n",
       "      <th>70</th>\n",
       "      <td>Gentoo penguin (Pygoscelis papua)</td>\n",
       "      <td>Biscoe</td>\n",
       "      <td>Yes</td>\n",
       "      <td>46.2</td>\n",
       "      <td>14.4</td>\n",
       "      <td>214</td>\n",
       "      <td>NaN</td>\n",
       "      <td>8.24253</td>\n",
       "      <td>-26.81540</td>\n",
       "      <td>4650</td>\n",
       "    </tr>\n",
       "    <tr>\n",
       "      <th>109</th>\n",
       "      <td>Adelie Penguin (Pygoscelis adeliae)</td>\n",
       "      <td>Torgersen</td>\n",
       "      <td>Yes</td>\n",
       "      <td>36.6</td>\n",
       "      <td>17.8</td>\n",
       "      <td>185</td>\n",
       "      <td>FEMALE</td>\n",
       "      <td>NaN</td>\n",
       "      <td>NaN</td>\n",
       "      <td>3700</td>\n",
       "    </tr>\n",
       "  </tbody>\n",
       "</table>\n",
       "</div>"
      ],
      "text/plain": [
       "                                 Species     Island Full_Clutch  \\\n",
       "6    Adelie Penguin (Pygoscelis adeliae)  Torgersen         Yes   \n",
       "8    Adelie Penguin (Pygoscelis adeliae)  Torgersen         Yes   \n",
       "18   Adelie Penguin (Pygoscelis adeliae)      Dream          No   \n",
       "70     Gentoo penguin (Pygoscelis papua)     Biscoe         Yes   \n",
       "109  Adelie Penguin (Pygoscelis adeliae)  Torgersen         Yes   \n",
       "\n",
       "     Culmen_Length  Culmen_Depth  Flipper_Length     Sex   DeltaN    DeltaC  \\\n",
       "6             42.0          20.2             190     NaN  9.13362 -25.09368   \n",
       "8             34.1          18.1             193     NaN      NaN       NaN   \n",
       "18            39.8          19.1             184    MALE      NaN       NaN   \n",
       "70            46.2          14.4             214     NaN  8.24253 -26.81540   \n",
       "109           36.6          17.8             185  FEMALE      NaN       NaN   \n",
       "\n",
       "     Body_Mass  \n",
       "6         4250  \n",
       "8         3475  \n",
       "18        4650  \n",
       "70        4650  \n",
       "109       3700  "
      ]
     },
     "execution_count": 75,
     "metadata": {},
     "output_type": "execute_result"
    }
   ],
   "source": [
    "## 결측치가 있는 row들을 확인\n",
    "df[df.isna().sum(axis = 1) > 0]"
   ]
  },
  {
   "cell_type": "markdown",
   "id": "8712a3dc-f026-4f84-8517-5fdd2d5b9378",
   "metadata": {},
   "source": [
    "`-` 방사성 동위원소 행의 결측치에는 각각의 중앙값을 넣어주자"
   ]
  },
  {
   "cell_type": "code",
   "execution_count": 76,
   "id": "48a5c2e1-aebe-4bd4-b3e1-f6cb5ac2f3c3",
   "metadata": {},
   "outputs": [],
   "source": [
    "df['DeltaN'].fillna(df['DeltaN'].median(), inplace = True)\n",
    "df['DeltaC'].fillna(df['DeltaC'].median(), inplace = True)"
   ]
  },
  {
   "cell_type": "markdown",
   "id": "65fe4bac-9334-433e-a908-c61971eb2901",
   "metadata": {},
   "source": [
    "`-` EDA를 보면 알겠지만 Species별로 몸무게가 다르다\n",
    "\n",
    "`-` 또한 수컷과 암컷간의 차이도 꽤 있다\n",
    "\n",
    "`-` drop해도 되지만 3개의 데이터가 유실되는 것이기에 Species와 Body_Mass를 통해 결측치에 값을 채워넣자"
   ]
  },
  {
   "cell_type": "code",
   "execution_count": 77,
   "id": "97a7d82e-8579-4430-abbe-3819925af340",
   "metadata": {},
   "outputs": [
    {
     "data": {
      "text/html": [
       "<div>\n",
       "<style scoped>\n",
       "    .dataframe tbody tr th:only-of-type {\n",
       "        vertical-align: middle;\n",
       "    }\n",
       "\n",
       "    .dataframe tbody tr th {\n",
       "        vertical-align: top;\n",
       "    }\n",
       "\n",
       "    .dataframe thead th {\n",
       "        text-align: right;\n",
       "    }\n",
       "</style>\n",
       "<table border=\"1\" class=\"dataframe\">\n",
       "  <thead>\n",
       "    <tr style=\"text-align: right;\">\n",
       "      <th></th>\n",
       "      <th>Species</th>\n",
       "      <th>Sex</th>\n",
       "      <th>Body_Mass</th>\n",
       "    </tr>\n",
       "  </thead>\n",
       "  <tbody>\n",
       "    <tr>\n",
       "      <th>0</th>\n",
       "      <td>Adelie Penguin (Pygoscelis adeliae)</td>\n",
       "      <td>FEMALE</td>\n",
       "      <td>3448.611111</td>\n",
       "    </tr>\n",
       "    <tr>\n",
       "      <th>1</th>\n",
       "      <td>Adelie Penguin (Pygoscelis adeliae)</td>\n",
       "      <td>MALE</td>\n",
       "      <td>4097.619048</td>\n",
       "    </tr>\n",
       "    <tr>\n",
       "      <th>2</th>\n",
       "      <td>Chinstrap penguin (Pygoscelis antarctica)</td>\n",
       "      <td>FEMALE</td>\n",
       "      <td>3550.000000</td>\n",
       "    </tr>\n",
       "    <tr>\n",
       "      <th>3</th>\n",
       "      <td>Chinstrap penguin (Pygoscelis antarctica)</td>\n",
       "      <td>MALE</td>\n",
       "      <td>4018.181818</td>\n",
       "    </tr>\n",
       "    <tr>\n",
       "      <th>4</th>\n",
       "      <td>Gentoo penguin (Pygoscelis papua)</td>\n",
       "      <td>FEMALE</td>\n",
       "      <td>4707.608696</td>\n",
       "    </tr>\n",
       "    <tr>\n",
       "      <th>5</th>\n",
       "      <td>Gentoo penguin (Pygoscelis papua)</td>\n",
       "      <td>MALE</td>\n",
       "      <td>5445.833333</td>\n",
       "    </tr>\n",
       "  </tbody>\n",
       "</table>\n",
       "</div>"
      ],
      "text/plain": [
       "                                     Species     Sex    Body_Mass\n",
       "0        Adelie Penguin (Pygoscelis adeliae)  FEMALE  3448.611111\n",
       "1        Adelie Penguin (Pygoscelis adeliae)    MALE  4097.619048\n",
       "2  Chinstrap penguin (Pygoscelis antarctica)  FEMALE  3550.000000\n",
       "3  Chinstrap penguin (Pygoscelis antarctica)    MALE  4018.181818\n",
       "4          Gentoo penguin (Pygoscelis papua)  FEMALE  4707.608696\n",
       "5          Gentoo penguin (Pygoscelis papua)    MALE  5445.833333"
      ]
     },
     "execution_count": 77,
     "metadata": {},
     "output_type": "execute_result"
    }
   ],
   "source": [
    "df.groupby(['Species', 'Sex']).\\\n",
    "agg({'Body_Mass':np.mean}).reset_index()"
   ]
  },
  {
   "cell_type": "markdown",
   "id": "7210ea1d-e2f7-4b1b-85ef-4bdb8299edd4",
   "metadata": {},
   "source": [
    "`-` 6번 펭귄의 성별은 수컷, 8번은 암컷, 70번은 암컷으로 하자"
   ]
  },
  {
   "cell_type": "code",
   "execution_count": 78,
   "id": "adc5f402-3619-4e57-8199-51d041c72e66",
   "metadata": {},
   "outputs": [],
   "source": [
    "df.loc[[6,8,70], 'Sex']= ['MALE','FEMALE', 'FEMALE']"
   ]
  },
  {
   "cell_type": "markdown",
   "id": "fe5ed211-22cd-4a4a-8c77-f0e8a015ef87",
   "metadata": {},
   "source": [
    "`-` 이상으로 결측치 처리는 끝났다"
   ]
  },
  {
   "cell_type": "code",
   "execution_count": 79,
   "id": "09142df7-c7dc-4172-98ab-fb89861f8055",
   "metadata": {},
   "outputs": [
    {
     "data": {
      "text/plain": [
       "False"
      ]
     },
     "execution_count": 79,
     "metadata": {},
     "output_type": "execute_result"
    }
   ],
   "source": [
    "df.isnull().values.any() ## 이제 결측치는 없다"
   ]
  },
  {
   "cell_type": "markdown",
   "id": "e0d3a138-48bd-4b30-b654-fe5470d3e886",
   "metadata": {},
   "source": [
    "## 모델링을 해보자"
   ]
  },
  {
   "cell_type": "markdown",
   "id": "6ab23453-cb3b-412c-82ba-a2ba6bff9fd6",
   "metadata": {},
   "source": [
    "`-` 뗑컨 데이터셋의 크기는 114로 그리 많지 않다\n",
    "\n",
    "`-` 그렇기에 overfitting이 일어날 가능성이 꽤 있으며 변수간의 상관관계도 강하다\n",
    "\n",
    "`-` 이를 해결하기 위해 cost fuction에 규제항을 추가한 릿지, 라쏘, 엘라스틱 넷을 써보자"
   ]
  },
  {
   "cell_type": "markdown",
   "id": "f9a468dc-aaf8-4191-a0f2-15b73301e075",
   "metadata": {
    "tags": []
   },
   "source": [
    "### preprocessing"
   ]
  },
  {
   "cell_type": "code",
   "execution_count": 24,
   "id": "67ea40bd-bba2-4924-a62c-0ba4f1b40ceb",
   "metadata": {},
   "outputs": [],
   "source": [
    "from sklearn.model_selection import train_test_split"
   ]
  },
  {
   "cell_type": "code",
   "execution_count": 80,
   "id": "e7985ecd-73fd-419b-8d87-9287e613f968",
   "metadata": {},
   "outputs": [],
   "source": [
    "dt = df.copy()"
   ]
  },
  {
   "cell_type": "code",
   "execution_count": 81,
   "id": "cc75d31c-170c-4103-9b52-f9b7b242e89c",
   "metadata": {},
   "outputs": [],
   "source": [
    "target = dt['Body_Mass']  ## target\n",
    "dt = dt.iloc[:, :-1]      ## target 제외한 데이터프레임"
   ]
  },
  {
   "cell_type": "markdown",
   "id": "1d4a3ac7-ead8-42db-b68c-30409462d36a",
   "metadata": {},
   "source": [
    "`-` 라벨인코딩을 해주자"
   ]
  },
  {
   "cell_type": "code",
   "execution_count": 28,
   "id": "182fb25f-a58c-4697-af63-cfba3cfcb916",
   "metadata": {},
   "outputs": [],
   "source": [
    "from sklearn.preprocessing import LabelEncoder"
   ]
  },
  {
   "cell_type": "code",
   "execution_count": 16,
   "id": "e6d04898-563c-4f13-839e-1e83d0a1f0bc",
   "metadata": {},
   "outputs": [],
   "source": [
    "# for col in dt.columns:\n",
    "#     if dt.dtypes[col] == 'O':\n",
    "#         encoder = LabelEncoder()    \n",
    "#         labels = encoder.fit_transform(dt[col])\n",
    "#         dt[col] = list(labels) "
   ]
  },
  {
   "cell_type": "markdown",
   "id": "d65b815a-49eb-4eda-9eae-aafefd159f45",
   "metadata": {},
   "source": [
    "`-` 위랑 아래랑 똑같음!"
   ]
  },
  {
   "cell_type": "code",
   "execution_count": 82,
   "id": "1bf82ac3-6cf1-499f-b390-978ec81473c8",
   "metadata": {},
   "outputs": [],
   "source": [
    "species_encoder = LabelEncoder()\n",
    "species_labels = species_encoder.fit_transform(dt['Species'])\n",
    "dt['Species'] = list(species_labels) ## Species labelencoding\n",
    "\n",
    "island_encoder = LabelEncoder()\n",
    "island_labels = island_encoder.fit_transform(dt['Island'])\n",
    "dt['Island'] = list(island_labels) ## Island labelencoding\n",
    "\n",
    "full_clutch_encoder = LabelEncoder()\n",
    "full_clutch_labels = full_clutch_encoder.fit_transform(dt['Full_Clutch'])\n",
    "dt['Full_Clutch'] = list(full_clutch_labels) ## Full_Clutch labelencoding\n",
    "\n",
    "sex_encoder = LabelEncoder()\n",
    "sex_labels = sex_encoder.fit_transform(dt['Sex'])\n",
    "dt['Sex'] = list(sex_labels) ## Sex labelencoding"
   ]
  },
  {
   "cell_type": "code",
   "execution_count": 83,
   "id": "d1b53d8d-55ff-4048-8c2d-76287795368c",
   "metadata": {},
   "outputs": [
    {
     "data": {
      "text/html": [
       "<div>\n",
       "<style scoped>\n",
       "    .dataframe tbody tr th:only-of-type {\n",
       "        vertical-align: middle;\n",
       "    }\n",
       "\n",
       "    .dataframe tbody tr th {\n",
       "        vertical-align: top;\n",
       "    }\n",
       "\n",
       "    .dataframe thead th {\n",
       "        text-align: right;\n",
       "    }\n",
       "</style>\n",
       "<table border=\"1\" class=\"dataframe\">\n",
       "  <thead>\n",
       "    <tr style=\"text-align: right;\">\n",
       "      <th></th>\n",
       "      <th>Species</th>\n",
       "      <th>Island</th>\n",
       "      <th>Full_Clutch</th>\n",
       "      <th>Culmen_Length</th>\n",
       "      <th>Culmen_Depth</th>\n",
       "      <th>Flipper_Length</th>\n",
       "      <th>Sex</th>\n",
       "      <th>DeltaN</th>\n",
       "      <th>DeltaC</th>\n",
       "    </tr>\n",
       "  </thead>\n",
       "  <tbody>\n",
       "    <tr>\n",
       "      <th>0</th>\n",
       "      <td>2</td>\n",
       "      <td>0</td>\n",
       "      <td>1</td>\n",
       "      <td>50.0</td>\n",
       "      <td>15.3</td>\n",
       "      <td>220</td>\n",
       "      <td>1</td>\n",
       "      <td>8.30515</td>\n",
       "      <td>-25.19017</td>\n",
       "    </tr>\n",
       "    <tr>\n",
       "      <th>1</th>\n",
       "      <td>1</td>\n",
       "      <td>1</td>\n",
       "      <td>0</td>\n",
       "      <td>49.5</td>\n",
       "      <td>19.0</td>\n",
       "      <td>200</td>\n",
       "      <td>1</td>\n",
       "      <td>9.63074</td>\n",
       "      <td>-24.34684</td>\n",
       "    </tr>\n",
       "    <tr>\n",
       "      <th>2</th>\n",
       "      <td>2</td>\n",
       "      <td>0</td>\n",
       "      <td>1</td>\n",
       "      <td>45.1</td>\n",
       "      <td>14.4</td>\n",
       "      <td>210</td>\n",
       "      <td>0</td>\n",
       "      <td>8.51951</td>\n",
       "      <td>-27.01854</td>\n",
       "    </tr>\n",
       "    <tr>\n",
       "      <th>3</th>\n",
       "      <td>2</td>\n",
       "      <td>0</td>\n",
       "      <td>1</td>\n",
       "      <td>44.5</td>\n",
       "      <td>14.7</td>\n",
       "      <td>214</td>\n",
       "      <td>0</td>\n",
       "      <td>8.20106</td>\n",
       "      <td>-26.16524</td>\n",
       "    </tr>\n",
       "    <tr>\n",
       "      <th>4</th>\n",
       "      <td>2</td>\n",
       "      <td>0</td>\n",
       "      <td>0</td>\n",
       "      <td>49.6</td>\n",
       "      <td>16.0</td>\n",
       "      <td>225</td>\n",
       "      <td>1</td>\n",
       "      <td>8.38324</td>\n",
       "      <td>-26.84272</td>\n",
       "    </tr>\n",
       "  </tbody>\n",
       "</table>\n",
       "</div>"
      ],
      "text/plain": [
       "   Species  Island  Full_Clutch  Culmen_Length  Culmen_Depth  Flipper_Length  \\\n",
       "0        2       0            1           50.0          15.3             220   \n",
       "1        1       1            0           49.5          19.0             200   \n",
       "2        2       0            1           45.1          14.4             210   \n",
       "3        2       0            1           44.5          14.7             214   \n",
       "4        2       0            0           49.6          16.0             225   \n",
       "\n",
       "   Sex   DeltaN    DeltaC  \n",
       "0    1  8.30515 -25.19017  \n",
       "1    1  9.63074 -24.34684  \n",
       "2    0  8.51951 -27.01854  \n",
       "3    0  8.20106 -26.16524  \n",
       "4    1  8.38324 -26.84272  "
      ]
     },
     "execution_count": 83,
     "metadata": {},
     "output_type": "execute_result"
    }
   ],
   "source": [
    "dt.head()"
   ]
  },
  {
   "cell_type": "markdown",
   "id": "a6cd1f0c-7f37-46db-8269-aa279942c452",
   "metadata": {},
   "source": [
    "`-` 범주형 변수마다 라벨인코딩이 잘 되었다"
   ]
  },
  {
   "cell_type": "code",
   "execution_count": 60,
   "id": "920a3045-e586-430c-bfd0-13d2fd99522f",
   "metadata": {},
   "outputs": [],
   "source": [
    "x_train, x_valid, y_train, y_valid = train_test_split(dt, target, test_size = 0.2, shuffle = True,\n",
    "                                                      stratify = dt['Species'], random_state = 21) \n",
    "## 종의 비율이 train, valid 비슷하도록 세팅함"
   ]
  },
  {
   "cell_type": "markdown",
   "id": "77ec3992-5e39-4006-aa87-42a937ffb6ac",
   "metadata": {},
   "source": [
    "## 릿지 회귀(Ridge Regressor)"
   ]
  },
  {
   "cell_type": "code",
   "execution_count": 47,
   "id": "d71a5590-e5f0-41df-8206-0ef1f89f0671",
   "metadata": {},
   "outputs": [],
   "source": [
    "def RMSE(real, predict):\n",
    "    return np.sqrt(np.mean(np.square(real - predict)))"
   ]
  },
  {
   "cell_type": "code",
   "execution_count": 20,
   "id": "40169440-8ce2-4fa2-891e-24d59cdec1cf",
   "metadata": {},
   "outputs": [],
   "source": [
    "from sklearn.linear_model import Ridge"
   ]
  },
  {
   "cell_type": "code",
   "execution_count": 21,
   "id": "ac076025-4d64-455d-99fb-f0432be5d0a1",
   "metadata": {},
   "outputs": [
    {
     "name": "stdout",
     "output_type": "stream",
     "text": [
      "이 방정식의 평균 에러는 291.16입니다\n"
     ]
    }
   ],
   "source": [
    "ridge = Ridge(alpha = 10) ## alpha = 10인 릿지 회귀 모형 생성\n",
    "ridge.fit(x_train, y_train) ## 모델 학습\n",
    "y_predict = ridge.predict(x_valid) ## 모델 예측\n",
    "rmse = RMSE(y_predict, y_valid) ## 예측값과 실제값을 통해 RMSE를 구함\n",
    "print('이 방정식의 평균 에러는 {:.2f}입니다'.format(rmse))"
   ]
  },
  {
   "cell_type": "markdown",
   "id": "8490e7e2-b463-4c5d-83b7-3db485d70206",
   "metadata": {},
   "source": [
    "`-` 여러개의 $\\alpha$에 대해 rmse를 계산해보자"
   ]
  },
  {
   "cell_type": "code",
   "execution_count": 176,
   "id": "22328f18-fa25-4ee5-984e-4e447a5e7ff5",
   "metadata": {},
   "outputs": [
    {
     "name": "stdout",
     "output_type": "stream",
     "text": [
      "𝛼가 0.01일 때 이 방정식의 평균 에러는 268.04입니다\n",
      "𝛼가 0.1일 때 이 방정식의 평균 에러는 268.04입니다\n",
      "𝛼가 1일 때 이 방정식의 평균 에러는 269.10입니다\n",
      "𝛼가 10일 때 이 방정식의 평균 에러는 291.16입니다\n",
      "𝛼가 50일 때 이 방정식의 평균 에러는 313.83입니다\n",
      "𝛼가 100일 때 이 방정식의 평균 에러는 319.01입니다\n"
     ]
    }
   ],
   "source": [
    "alphas = [0.01, 0.1, 1, 10, 50, 100]\n",
    "\n",
    "## alpha 값들에 대해 rmse를 구함\n",
    "for alpha in alphas:\n",
    "    ridge = Ridge(alpha = alpha)\n",
    "    ridge.fit(x_train, y_train) ## 모델 학습\n",
    "    y_predict = ridge.predict(x_valid) ## 모델 예측\n",
    "    rmse = RMSE(y_predict, y_valid) ## 예측값과 실제값을 통해 RMSE를 구함\n",
    "    print('𝛼가 {}일 때 이 방정식의 평균 에러는 {:.2f}입니다'.format(alpha, rmse))"
   ]
  },
  {
   "cell_type": "markdown",
   "id": "758facff-c88d-4642-99cc-4274b557bb20",
   "metadata": {},
   "source": [
    "`-` $\\alpha$가 작아질수록 평균 에러가 작아진다"
   ]
  },
  {
   "cell_type": "markdown",
   "id": "4ea4ff43-a9d6-4471-90aa-7e986816278d",
   "metadata": {},
   "source": [
    "### $\\alpha$에 따른 회귀 계수 시각화"
   ]
  },
  {
   "cell_type": "code",
   "execution_count": 48,
   "id": "d447ee4b-c2d6-4c66-a073-a262b3c775d5",
   "metadata": {},
   "outputs": [],
   "source": [
    "import matplotlib.pyplot as plt\n",
    "import seaborn as sns"
   ]
  },
  {
   "cell_type": "code",
   "execution_count": 214,
   "id": "7fe50e98-470c-459c-94dc-81da2b79ab1c",
   "metadata": {},
   "outputs": [
    {
     "data": {
      "image/png": "[encoded data removed]",
      "text/plain": [
       "<Figure size 864x576 with 6 Axes>"
      ]
     },
     "metadata": {
      "needs_background": "light"
     },
     "output_type": "display_data"
    }
   ],
   "source": [
    "fig, axs = plt.subplots(2, 3, figsize = (12, 8))\n",
    "colors = sns.color_palette('husl', 6)\n",
    "coeff_df = pd.DataFrame()\n",
    "alphas = [0.01, 0.1, 1, 10, 50, 100]\n",
    "\n",
    "for i, alpha in enumerate(alphas):\n",
    "    ridge = Ridge(alpha = alpha)\n",
    "    ridge.fit(x_train, y_train)\n",
    "\n",
    "    coeff = pd.Series(data = ridge.coef_, index = x_train.columns)\n",
    "    colname = 'alpha = ' + str(alpha)\n",
    "    coeff_df[colname] = coeff\n",
    "\n",
    "    axs[i//3][i%3].set_title(colname)\n",
    "    axs[i//3][i%3].set_xlim(min(coeff),max(coeff))\n",
    "    sns.barplot(x = coeff.values, y = coeff.index, palette = colors, ax = axs[i//3][i%3])\n",
    "    if i != 0 and i != 3:\n",
    "        axs[i//3][i%3].set(yticklabels = [])   \n",
    "        axs[i//3][i%3].set(ylabel = None)\n",
    "        axs[i//3][i%3].tick_params(left = False)  \n",
    "\n",
    "fig.suptitle('Ridge', fontsize = 16)\n",
    "fig.tight_layout()"
   ]
  },
  {
   "cell_type": "markdown",
   "id": "d73eb27b-30a5-4294-976b-4205baea531c",
   "metadata": {},
   "source": [
    "`-` $\\alpha$가 커짐에 따라 회귀계수가 작아진다"
   ]
  },
  {
   "cell_type": "markdown",
   "id": "5f22d9f7-7ed7-40ed-8f69-5be1ecd217b3",
   "metadata": {
    "tags": []
   },
   "source": [
    "## 라쏘 회귀(Lasso Regressor)"
   ]
  },
  {
   "cell_type": "code",
   "execution_count": 36,
   "id": "81ebd7e4-b379-452d-bcbd-7e39a6f38302",
   "metadata": {},
   "outputs": [],
   "source": [
    "from sklearn.linear_model import Lasso"
   ]
  },
  {
   "cell_type": "markdown",
   "id": "d4388c00-efef-4ed8-ae1f-215b7b0879ba",
   "metadata": {},
   "source": [
    "`-` $\\alpha$가 커짐에 따라 계수가 $0$되는 항이 많아진다"
   ]
  },
  {
   "cell_type": "code",
   "execution_count": 175,
   "id": "8290c8eb-69e5-4ded-a802-ad9a2726d50d",
   "metadata": {},
   "outputs": [
    {
     "name": "stdout",
     "output_type": "stream",
     "text": [
      "𝛼가 0.01일 때 이 방정식의 평균 에러는 268.00입니다\n",
      "𝛼가 0.1일 때 이 방정식의 평균 에러는 267.67입니다\n",
      "𝛼가 1일 때 이 방정식의 평균 에러는 264.49입니다\n",
      "𝛼가 10일 때 이 방정식의 평균 에러는 255.46입니다\n",
      "𝛼가 50일 때 이 방정식의 평균 에러는 311.57입니다\n",
      "𝛼가 100일 때 이 방정식의 평균 에러는 327.98입니다\n"
     ]
    }
   ],
   "source": [
    "alphas = [0.01, 0.1, 1, 10, 50, 100]\n",
    "\n",
    "## alpha 값들에 대해 rmse를 구함\n",
    "for alpha in alphas:\n",
    "    lasso = Lasso(alpha = alpha)\n",
    "    lasso.fit(x_train, y_train) ## 모델 학습\n",
    "    y_predict = lasso.predict(x_valid) ## 모델 예측\n",
    "    rmse = RMSE(y_predict, y_valid) ## 예측값과 실제값을 통해 RMSE를 구함\n",
    "    print('𝛼가 {}일 때 이 방정식의 평균 에러는 {:.2f}입니다'.format(alpha, rmse))"
   ]
  },
  {
   "cell_type": "code",
   "execution_count": 215,
   "id": "e1618c60-ca8c-4aac-97b7-af51f2d02345",
   "metadata": {},
   "outputs": [
    {
     "data": {
      "image/png": "[encoded data removed]",
      "text/plain": [
       "<Figure size 864x576 with 6 Axes>"
      ]
     },
     "metadata": {
      "needs_background": "light"
     },
     "output_type": "display_data"
    }
   ],
   "source": [
    "fig, axs = plt.subplots(2, 3, figsize = (12, 8))\n",
    "colors = sns.color_palette('husl', 6)\n",
    "coeff_df = pd.DataFrame()\n",
    "alphas = [0.01, 0.1, 1, 10, 50, 100]\n",
    "\n",
    "for i, alpha in enumerate(alphas):\n",
    "    lasso = Lasso(alpha = alpha)\n",
    "    lasso.fit(x_train, y_train)\n",
    "\n",
    "    coeff = pd.Series(data = lasso.coef_, index = x_train.columns)\n",
    "    colname = 'alpha = ' + str(alpha)\n",
    "    coeff_df[colname] = coeff\n",
    "\n",
    "    axs[i//3][i%3].set_title(colname)\n",
    "    axs[i//3][i%3].set_xlim(min(coeff),max(coeff))\n",
    "    sns.barplot(x = coeff.values, y = coeff.index, palette = colors, ax = axs[i//3][i%3])\n",
    "    if i != 0 and i != 3:\n",
    "        axs[i//3][i%3].set(yticklabels = [])   \n",
    "        axs[i//3][i%3].set(ylabel = None)\n",
    "        axs[i//3][i%3].tick_params(left = False)  \n",
    "\n",
    "fig.suptitle('Lasso', fontsize = 16)\n",
    "fig.tight_layout()"
   ]
  },
  {
   "cell_type": "markdown",
   "id": "a8fabda0-04c8-41bb-b152-899fbac9f733",
   "metadata": {},
   "source": [
    "## 엘라스틱 넷(Elastic Net)"
   ]
  },
  {
   "cell_type": "markdown",
   "id": "c06012f2-fdf5-4519-a695-aa0fa2d5c0fa",
   "metadata": {},
   "source": [
    "`-` 라쏘 회귀에서의 규제항(L1)과 릿지 회귀에서의 규제항(L2)을 비율에 따라 혼합한 규제항을 사용 "
   ]
  },
  {
   "cell_type": "code",
   "execution_count": 30,
   "id": "629a7807-b9ae-44c2-bed1-da94210d2e35",
   "metadata": {},
   "outputs": [],
   "source": [
    "from sklearn.linear_model import ElasticNet"
   ]
  },
  {
   "cell_type": "code",
   "execution_count": 198,
   "id": "02c38052-e372-4d08-bf9c-515048884a84",
   "metadata": {},
   "outputs": [
    {
     "name": "stdout",
     "output_type": "stream",
     "text": [
      "𝛼가 0.01이고 L1_raio가 0.05일 때 이 방정식의 평균 에러는 268.85입니다\n",
      "𝛼가 0.01이고 L1_raio가 0.2일 때 이 방정식의 평균 에러는 268.62입니다\n",
      "𝛼가 0.01이고 L1_raio가 0.5일 때 이 방정식의 평균 에러는 268.25입니다\n",
      "𝛼가 0.01이고 L1_raio가 0.8일 때 이 방정식의 평균 에러는 268.04입니다\n",
      "𝛼가 0.01이고 L1_raio가 0.95일 때 이 방정식의 평균 에러는 268.00입니다\n",
      "\n",
      "𝛼가 0.1이고 L1_raio가 0.05일 때 이 방정식의 평균 에러는 288.65입니다\n",
      "𝛼가 0.1이고 L1_raio가 0.2일 때 이 방정식의 평균 에러는 285.76입니다\n",
      "𝛼가 0.1이고 L1_raio가 0.5일 때 이 방정식의 평균 에러는 278.81입니다\n",
      "𝛼가 0.1이고 L1_raio가 0.8일 때 이 방정식의 평균 에러는 270.86입니다\n",
      "𝛼가 0.1이고 L1_raio가 0.95일 때 이 방정식의 평균 에러는 267.96입니다\n",
      "\n",
      "𝛼가 1이고 L1_raio가 0.05일 때 이 방정식의 평균 에러는 318.07입니다\n",
      "𝛼가 1이고 L1_raio가 0.2일 때 이 방정식의 평균 에러는 316.89입니다\n",
      "𝛼가 1이고 L1_raio가 0.5일 때 이 방정식의 평균 에러는 313.02입니다\n",
      "𝛼가 1이고 L1_raio가 0.8일 때 이 방정식의 평균 에러는 301.27입니다\n",
      "𝛼가 1이고 L1_raio가 0.95일 때 이 방정식의 평균 에러는 277.80입니다\n",
      "\n",
      "𝛼가 10이고 L1_raio가 0.05일 때 이 방정식의 평균 에러는 332.59입니다\n",
      "𝛼가 10이고 L1_raio가 0.2일 때 이 방정식의 평균 에러는 331.16입니다\n",
      "𝛼가 10이고 L1_raio가 0.5일 때 이 방정식의 평균 에러는 328.05입니다\n",
      "𝛼가 10이고 L1_raio가 0.8일 때 이 방정식의 평균 에러는 323.53입니다\n",
      "𝛼가 10이고 L1_raio가 0.95일 때 이 방정식의 평균 에러는 314.74입니다\n",
      "\n"
     ]
    }
   ],
   "source": [
    "alphas = [0.01, 0.1, 1, 10]\n",
    "L1_ratios = [0.05, 0.2, 0.5, 0.8, 0.95]\n",
    "## alpha 값들에 대해 rmse를 구함\n",
    "for alpha in alphas:\n",
    "    for L1_ratio in L1_ratios:\n",
    "        elastic_net = ElasticNet(alpha = alpha, l1_ratio = L1_ratio)\n",
    "        elastic_net.fit(x_train, y_train) ## 모델 학습\n",
    "        y_predict = elastic_net.predict(x_valid) ## 모델 예측\n",
    "        rmse = RMSE(y_predict, y_valid) ## 예측값과 실제값을 통해 RMSE를 구함\n",
    "        print('𝛼가 {}이고 L1_raio가 {}일 때 이 방정식의 평균 에러는 {:.2f}입니다'.format(alpha, L1_ratio, rmse))\n",
    "    print('\\n', end = '')"
   ]
  },
  {
   "cell_type": "markdown",
   "id": "f8c3a698-e698-4422-8b86-455084276fb8",
   "metadata": {},
   "source": [
    "`-` 뗑컨 데이터에 대해서는 일라스틱 넷에서 L1_ratio가 높을수록 RMSE가 작다\n",
    "\n",
    "`-` 릿지, 라쏘와 엘라스틱 넷의 차이를 느끼고자 L1_ratio는 0.5로 하자"
   ]
  },
  {
   "cell_type": "code",
   "execution_count": 216,
   "id": "758ef40b-fee2-4d9a-9a0d-adc6b0f7c2fc",
   "metadata": {},
   "outputs": [
    {
     "data": {
      "image/png": "[encoded data removed]",
      "text/plain": [
       "<Figure size 864x576 with 6 Axes>"
      ]
     },
     "metadata": {
      "needs_background": "light"
     },
     "output_type": "display_data"
    }
   ],
   "source": [
    "fig, axs = plt.subplots(2, 3, figsize = (12, 8))\n",
    "colors = sns.color_palette('husl', 6)\n",
    "coeff_df = pd.DataFrame()\n",
    "alphas = [0.01, 0.1, 1, 10, 50, 100]\n",
    "\n",
    "for i, alpha in enumerate(alphas):\n",
    "    elastic_net = ElasticNet(alpha = alpha)\n",
    "    elastic_net.fit(x_train, y_train)\n",
    "\n",
    "    coeff = pd.Series(data = elastic_net.coef_, index = x_train.columns)\n",
    "    colname = 'alpha = ' + str(alpha)\n",
    "    coeff_df[colname] = coeff\n",
    "\n",
    "    axs[i//3][i%3].set_title(colname)\n",
    "    axs[i//3][i%3].set_xlim(min(coeff),max(coeff))\n",
    "    sns.barplot(x = coeff.values, y = coeff.index, palette = colors, ax = axs[i//3][i%3])\n",
    "    if i != 0 and i != 3:\n",
    "        axs[i//3][i%3].set(yticklabels = [])   \n",
    "        axs[i//3][i%3].set(ylabel = None)\n",
    "        axs[i//3][i%3].tick_params(left = False)  \n",
    "\n",
    "fig.suptitle('Elastic Net', fontsize = 16)\n",
    "fig.tight_layout()"
   ]
  },
  {
   "cell_type": "markdown",
   "id": "184380b3-60fa-48f8-afbd-6538161d3f64",
   "metadata": {},
   "source": [
    "`-` 회귀계수들이 작아지고 계수가 $0$인 변수도 존재한다"
   ]
  },
  {
   "cell_type": "markdown",
   "id": "039eaaee-fce1-4ba8-a5da-1f7394bcbe9a",
   "metadata": {},
   "source": [
    "## 라쏘 회귀 + 교호작용 + 표준화"
   ]
  },
  {
   "cell_type": "markdown",
   "id": "4cdcd6de-d37c-4310-b73b-0ea456917dd7",
   "metadata": {},
   "source": [
    "`-` EDA에서는 특별히 교호작용항 추가의 필요성을 느끼지 못했는데 이를 라쏘 회귀를 통해 확인하자"
   ]
  },
  {
   "cell_type": "markdown",
   "id": "1f6001e9-d9d8-4a67-b9f2-373703e07985",
   "metadata": {},
   "source": [
    "### 교호작용항 추가"
   ]
  },
  {
   "cell_type": "code",
   "execution_count": 41,
   "id": "4e1da12b-7ea5-4f9a-93d9-89842819b50e",
   "metadata": {},
   "outputs": [],
   "source": [
    "numeric_features = df.columns[(df.dtypes == np.int64) | (df.dtypes == float)][:-1]\n",
    "categorical_features = df.columns[df.dtypes == 'O']"
   ]
  },
  {
   "cell_type": "code",
   "execution_count": 39,
   "id": "140452b8-08de-4dd6-bccd-2974544e5bfe",
   "metadata": {},
   "outputs": [],
   "source": [
    "def poly(df):\n",
    "    df2 = df.copy()\n",
    "    for categorical_feature in categorical_features:\n",
    "        if categorical_feature in df2.columns:\n",
    "            for numeric_feature in numeric_features:\n",
    "                if numeric_feature in df2.columns:\n",
    "                    df2[categorical_feature + '_' + numeric_feature] = df2[categorical_feature] * df2[numeric_feature]\n",
    "    return df2"
   ]
  },
  {
   "cell_type": "code",
   "execution_count": 50,
   "id": "80351470-62e3-4e17-813e-a44abd044b52",
   "metadata": {},
   "outputs": [],
   "source": [
    "x_poly_train = poly(x_train)\n",
    "x_poly_valid = poly(x_valid)"
   ]
  },
  {
   "cell_type": "code",
   "execution_count": 51,
   "id": "4bae3461-f211-4226-80c8-d7bec73c54d6",
   "metadata": {},
   "outputs": [
    {
     "data": {
      "text/plain": [
       "((91, 9), (91, 29))"
      ]
     },
     "execution_count": 51,
     "metadata": {},
     "output_type": "execute_result"
    }
   ],
   "source": [
    "x_train.shape, x_poly_train.shape  ## 교호작용항을 추가하니 피쳐의 수가 9에서 29로 늘어났다"
   ]
  },
  {
   "cell_type": "markdown",
   "id": "7d45760a-c7df-4c4a-8da9-bd4d7c7fdbe6",
   "metadata": {},
   "source": [
    "### 표준화"
   ]
  },
  {
   "cell_type": "markdown",
   "id": "dbb0c86d-4812-41bb-8aba-89e098bc4bad",
   "metadata": {},
   "source": [
    "`-` 위의 교호작용항을 추가한 train, valid 셋을 표준화해주자"
   ]
  },
  {
   "cell_type": "code",
   "execution_count": 52,
   "id": "f9c4e5c7-9ef4-4400-814c-a5728df71a60",
   "metadata": {},
   "outputs": [],
   "source": [
    "from sklearn.preprocessing import StandardScaler\n",
    "\n",
    "## 스케일러 생성\n",
    "standard_scaler = StandardScaler()\n",
    "\n",
    "## 트레인집합 정규화\n",
    "x_poly_train_scaled = standard_scaler.fit_transform(x_poly_train)\n",
    "x_poly_train_scaled_df = pd.DataFrame(data = x_poly_train_scaled, columns = x_poly_train.columns)\n",
    "\n",
    "## 테스트집합 정규화\n",
    "x_poly_valid_scaled = standard_scaler.transform(x_poly_valid) ## x_train에서 학습한 정규화방식을 그대로 x_valid에 적용\n",
    "x_poly_valid_scaled_df = pd.DataFrame(data = x_poly_valid_scaled, columns = x_poly_valid.columns)"
   ]
  },
  {
   "cell_type": "markdown",
   "id": "e421fd02-ac82-4663-8f45-22672d2c1425",
   "metadata": {},
   "source": [
    "### 라쏘 회귀"
   ]
  },
  {
   "cell_type": "markdown",
   "id": "2da1f9b8-0502-42dd-b58d-2fd3d20182d8",
   "metadata": {},
   "source": [
    "`-` $\\alpha$에 따른 rmse를 구해보자"
   ]
  },
  {
   "cell_type": "code",
   "execution_count": 31,
   "id": "b5e7d908-77e2-4901-be70-7486173cfe12",
   "metadata": {},
   "outputs": [
    {
     "name": "stdout",
     "output_type": "stream",
     "text": [
      "𝛼가 0.3일 때 이 방정식의 평균 에러는 224.92입니다\n",
      "𝛼가 0.5일 때 이 방정식의 평균 에러는 237.58입니다\n",
      "𝛼가 0.6일 때 이 방정식의 평균 에러는 243.05입니다\n",
      "𝛼가 0.7일 때 이 방정식의 평균 에러는 246.01입니다\n",
      "𝛼가 0.8일 때 이 방정식의 평균 에러는 248.03입니다\n",
      "𝛼가 0.9일 때 이 방정식의 평균 에러는 250.25입니다\n",
      "𝛼가 0.99일 때 이 방정식의 평균 에러는 252.43입니다\n"
     ]
    }
   ],
   "source": [
    "alphas = [0.3, 0.5, 0.6, 0.7, 0.8, 0.9, 0.99]\n",
    "for alpha in alphas:\n",
    "    lasso = Lasso(alpha = alpha, max_iter = 20000, random_state = 21)\n",
    "    lasso.fit(x_poly_train_scaled_df, y_train)\n",
    "    y_predict = lasso.predict(x_poly_valid_scaled_df) ## 모델 예측\n",
    "    rmse = RMSE(y_predict, y_valid) ## 예측값과 실제값을 통해 RMSE를 구함\n",
    "    print('𝛼가 {}일 때 이 방정식의 평균 에러는 {:.2f}입니다'.format(alpha, rmse))"
   ]
  },
  {
   "cell_type": "markdown",
   "id": "17f0b6c8-dc05-40a4-9cc3-01c55c711be4",
   "metadata": {},
   "source": [
    "`-` $\\alpha$가 작다는것은 규제를 적게 한다는 의미 ---> 오버피팅 가능성 높아짐\n",
    "\n",
    "`-` 피쳐수도 29개라 $\\alpha$를 크게하는것이 일반화에 좋을 것 임"
   ]
  },
  {
   "cell_type": "markdown",
   "id": "f1cb1189-3464-40c8-b02d-6b94e55a62f0",
   "metadata": {},
   "source": [
    "`-` $\\alpha$값으로 $0.7$을 선택하자"
   ]
  },
  {
   "cell_type": "code",
   "execution_count": 42,
   "id": "4d310f78-8ef3-44e4-9bf6-832ff839757a",
   "metadata": {
    "tags": []
   },
   "outputs": [],
   "source": [
    "lasso_07 = Lasso(alpha = 0.7, max_iter = 20000, random_state = 21)\n",
    "lasso_07.fit(x_poly_train_scaled_df, y_train)\n",
    "train_predict = lasso_07.predict(x_poly_train_scaled_df) ## train 예측값 \n",
    "residuals = y_train - train_predict ## 잔차 = 실제값 - 예측값  "
   ]
  },
  {
   "cell_type": "markdown",
   "id": "de7c108d-48e9-411c-952a-a92062c46d37",
   "metadata": {},
   "source": [
    "`-` 잔차와 적합치 그림"
   ]
  },
  {
   "cell_type": "code",
   "execution_count": 43,
   "id": "b75da3f2-de55-42f1-96b6-6594c0f0ce8a",
   "metadata": {},
   "outputs": [
    {
     "data": {
      "text/plain": [
       "Text(0.5, 1.0, 'fitted vs residual')"
      ]
     },
     "execution_count": 43,
     "metadata": {},
     "output_type": "execute_result"
    },
    {
     "data": {
      "image/png": "[encoded data removed]",
      "text/plain": [
       "<Figure size 432x288 with 1 Axes>"
      ]
     },
     "metadata": {
      "needs_background": "light"
     },
     "output_type": "display_data"
    }
   ],
   "source": [
    "plt.plot(y_train, residuals, '.k')\n",
    "plt.axhline(0, 0.0, 1.0, color = 'red')\n",
    "plt.title('fitted vs residual')"
   ]
  },
  {
   "cell_type": "markdown",
   "id": "73f2272b-7dcf-4440-a9f1-bcc9b951f2ad",
   "metadata": {},
   "source": [
    "`-` 나쁘지 않은 것 같다"
   ]
  },
  {
   "cell_type": "markdown",
   "id": "bd9feefa-fe86-4784-944a-5fddba75fa64",
   "metadata": {},
   "source": [
    "`-` 잔차의 히스토그램"
   ]
  },
  {
   "cell_type": "code",
   "execution_count": 44,
   "id": "1a998feb-8e0b-4b82-b15a-a302d56995d9",
   "metadata": {},
   "outputs": [
    {
     "data": {
      "text/plain": [
       "<AxesSubplot:>"
      ]
     },
     "execution_count": 44,
     "metadata": {},
     "output_type": "execute_result"
    },
    {
     "data": {
      "image/png": "[encoded data removed]",
      "text/plain": [
       "<Figure size 432x288 with 1 Axes>"
      ]
     },
     "metadata": {
      "needs_background": "light"
     },
     "output_type": "display_data"
    }
   ],
   "source": [
    "residuals.hist()"
   ]
  },
  {
   "cell_type": "markdown",
   "id": "4fea9ee8-7789-4682-8172-b84703bff59e",
   "metadata": {},
   "source": [
    "`-` 종모양이고 이상점이 있긴한데 개수가 적어서 괜찮은 것 같다"
   ]
  },
  {
   "cell_type": "markdown",
   "id": "9fa761b2-27b9-454a-abd5-1784748d814f",
   "metadata": {},
   "source": [
    "### 라쏘 회귀 최적$\\alpha$ 선택"
   ]
  },
  {
   "cell_type": "markdown",
   "id": "d6202e09-066b-48cd-a895-dc0a2819c5b3",
   "metadata": {},
   "source": [
    "`-` train rmse, test rmse 시각화"
   ]
  },
  {
   "cell_type": "code",
   "execution_count": 67,
   "id": "def18191-5296-44d6-b05c-7e38abe56635",
   "metadata": {},
   "outputs": [],
   "source": [
    "train_rmse_list, valid_rmse_list = [], []\n",
    "alphas = np.linspace(0.01, 0.99, 100)\n",
    "\n",
    "for alpha in alphas:\n",
    "    lasso = Lasso(alpha = alpha, max_iter = 150000, random_state = 21)\n",
    "    lasso.fit(x_poly_train_scaled_df, y_train)\n",
    "    \n",
    "    train_predict = lasso.predict(x_poly_train_scaled_df) ## 훈련집합 예측\n",
    "    y_predict = lasso.predict(x_poly_valid_scaled_df) ## valid셋 예측\n",
    "    \n",
    "    train_rmse = RMSE(train_predict, y_train)\n",
    "    valid_rmse = RMSE(y_predict, y_valid)\n",
    "    train_rmse_list.append(train_rmse)\n",
    "    valid_rmse_list.append(valid_rmse)"
   ]
  },
  {
   "cell_type": "code",
   "execution_count": 71,
   "id": "9fdd3097-0325-4bba-8795-528025de7e77",
   "metadata": {},
   "outputs": [
    {
     "data": {
      "text/plain": [
       "<matplotlib.legend.Legend at 0x2058295c9a0>"
      ]
     },
     "execution_count": 71,
     "metadata": {},
     "output_type": "execute_result"
    },
    {
     "data": {
      "image/png": "[encoded data removed]",
      "text/plain": [
       "<Figure size 432x288 with 1 Axes>"
      ]
     },
     "metadata": {
      "needs_background": "light"
     },
     "output_type": "display_data"
    }
   ],
   "source": [
    "plt.plot(alphas, train_rmse_list, 'b--', label = 'train set')\n",
    "plt.plot(alphas, valid_rmse_list, 'r--', label = 'valid set')\n",
    "plt.title('alpha and rmse')\n",
    "plt.legend()"
   ]
  },
  {
   "cell_type": "markdown",
   "id": "f848d163-2743-409d-8deb-86760d96b35e",
   "metadata": {},
   "source": [
    "`-` 훈련 집합에 대해서는 $\\alpha$가 작을수록 RMSE가 작다\n",
    "\n",
    "`-` 테스트 집합에 대해서는 $\\alpha = 0.1$일 때 RMSE가 가장 작고 증가한다\n",
    "\n",
    "`-` 최적 $\\alpha$값은 $0.7$ 부근인 것 같다(train 그래프와 valid 그래프 사이의 거리가 가장 작은 지점으로 골랐음(나도 이유 모름))"
   ]
  },
  {
   "cell_type": "markdown",
   "id": "bbd2129e-ed2d-41e1-bcb5-617024c4300c",
   "metadata": {},
   "source": [
    "## 라쏘 회귀 + 교호작용 + 표준화 + 하이퍼 파라미터 깎기"
   ]
  },
  {
   "cell_type": "markdown",
   "id": "8b2f5461-fe0d-4134-a369-a4a35a95a471",
   "metadata": {},
   "source": [
    "`-` 어떤 피쳐를 포함하는 것이 좋을지와 $\\alpha$를 무엇으로 정할지를 고려하자\n",
    "\n",
    "`-` 일단 내 생각엔 Full_clutch는 필요없고 Species가 있으면 Island도 필요없다\n",
    "\n",
    "`-` Species와 Island 둘 다 있으면 과적합이 될 것 같다"
   ]
  },
  {
   "cell_type": "markdown",
   "id": "baa5151e-0b70-44af-a895-41c6f58662b5",
   "metadata": {},
   "source": [
    "### Full_Clutch와 Island 드랍"
   ]
  },
  {
   "cell_type": "code",
   "execution_count": 136,
   "id": "278c22f6-f2aa-4c4e-b235-d2dafa683dbd",
   "metadata": {},
   "outputs": [],
   "source": [
    "x_train2 = x_train.drop(['Full_Clutch', 'Island'], axis = 1)\n",
    "x_valid2 = x_valid.drop(['Full_Clutch', 'Island'], axis = 1)"
   ]
  },
  {
   "cell_type": "markdown",
   "id": "ab394a5f-65ab-40db-954b-e0eca43f1d28",
   "metadata": {},
   "source": [
    "`-` 교호작용항을 추가하자"
   ]
  },
  {
   "cell_type": "code",
   "execution_count": 137,
   "id": "510eaab8-e732-4ee7-8b83-d543c7d5ef02",
   "metadata": {},
   "outputs": [],
   "source": [
    "x_poly_train2 = poly(x_train2)\n",
    "x_poly_valid2 = poly(x_valid2)"
   ]
  },
  {
   "cell_type": "code",
   "execution_count": 138,
   "id": "ef990f84-9640-42f8-879c-031320554d59",
   "metadata": {},
   "outputs": [],
   "source": [
    "## 스케일러 생성\n",
    "standard_scaler = StandardScaler()\n",
    "\n",
    "## 트레인집합 정규화\n",
    "x_poly_train2_scaled = standard_scaler.fit_transform(x_poly_train2)\n",
    "x_poly_train2_scaled_df = pd.DataFrame(data = x_poly_train2_scaled, columns = x_poly_train2.columns)\n",
    "\n",
    "## 테스트집합 정규화\n",
    "x_poly_valid2_scaled = standard_scaler.transform(x_poly_valid2) ## x_train에서 학습한 정규화방식을 그대로 x_valid에 적용\n",
    "x_poly_valid2_scaled_df = pd.DataFrame(data = x_poly_valid2_scaled, columns = x_poly_valid2.columns)"
   ]
  },
  {
   "cell_type": "markdown",
   "id": "ae88a769-8b6b-4557-b477-d8e6ccbe048a",
   "metadata": {},
   "source": [
    "`-` $\\alpha$ 선택"
   ]
  },
  {
   "cell_type": "code",
   "execution_count": 139,
   "id": "e69f8a5e-423e-48ae-910a-f63e0c12be5c",
   "metadata": {},
   "outputs": [
    {
     "name": "stdout",
     "output_type": "stream",
     "text": [
      "𝛼가 0.3일 때 이 방정식의 평균 에러는 254.64입니다\n",
      "𝛼가 0.5일 때 이 방정식의 평균 에러는 257.47입니다\n",
      "𝛼가 0.6일 때 이 방정식의 평균 에러는 257.00입니다\n",
      "𝛼가 0.7일 때 이 방정식의 평균 에러는 256.63입니다\n",
      "𝛼가 0.8일 때 이 방정식의 평균 에러는 256.14입니다\n",
      "𝛼가 0.9일 때 이 방정식의 평균 에러는 255.70입니다\n",
      "𝛼가 0.99일 때 이 방정식의 평균 에러는 255.39입니다\n"
     ]
    }
   ],
   "source": [
    "alphas = [0.3, 0.5, 0.6, 0.7, 0.8, 0.9, 0.99]\n",
    "for alpha in alphas:\n",
    "    lasso = Lasso(alpha = alpha, max_iter = 20000, random_state = 21)\n",
    "    lasso.fit(x_poly_train2_scaled_df, y_train)\n",
    "    y_predict = lasso.predict(x_poly_valid2_scaled_df) ## 모델 예측\n",
    "    rmse = RMSE(y_predict, y_valid) ## 예측값과 실제값을 통해 RMSE를 구함\n",
    "    print('𝛼가 {}일 때 이 방정식의 평균 에러는 {:.2f}입니다'.format(alpha, rmse))"
   ]
  },
  {
   "cell_type": "markdown",
   "id": "ef114070-6e09-417f-a246-373e932ef499",
   "metadata": {},
   "source": [
    "`-` Full_Clutch와 Island 드랍하지 않은 모델과 비교하면 rmse가 더 크다\n",
    "\n",
    "`-` 하지만 $\\alpha$값 변화에 따른 rmse의 변화폭은 훨씩 작기에 일반화 능력은 더 좋은 것 같다"
   ]
  },
  {
   "cell_type": "markdown",
   "id": "b36c81fa-c732-49c1-b5f0-af73b9889e05",
   "metadata": {},
   "source": [
    "`-` 최적의 $\\alpha$값을 선택해보자"
   ]
  },
  {
   "cell_type": "code",
   "execution_count": 104,
   "id": "dce15ef7-963b-4724-bd75-c834950fc6f6",
   "metadata": {},
   "outputs": [],
   "source": [
    "train2_rmse_list, valid2_rmse_list = [], []\n",
    "alphas = np.linspace(0.01, 0.99, 100)\n",
    "\n",
    "for alpha in alphas:\n",
    "    lasso = Lasso(alpha = alpha, max_iter = 150000, random_state = 21)\n",
    "    lasso.fit(x_poly_train2_scaled_df, y_train)\n",
    "    \n",
    "    train_predict = lasso.predict(x_poly_train2_scaled_df) ## 훈련집합 예측\n",
    "    y_predict = lasso.predict(x_poly_valid2_scaled_df) ## valid셋 예측\n",
    "    \n",
    "    train_rmse = RMSE(train_predict, y_train)\n",
    "    valid_rmse = RMSE(y_predict, y_valid)\n",
    "    train2_rmse_list.append(train_rmse)\n",
    "    valid2_rmse_list.append(valid_rmse)"
   ]
  },
  {
   "cell_type": "code",
   "execution_count": 105,
   "id": "382b7e73-b374-4a0b-b749-852ef41e640c",
   "metadata": {},
   "outputs": [
    {
     "data": {
      "text/plain": [
       "<matplotlib.legend.Legend at 0x20583f4df40>"
      ]
     },
     "execution_count": 105,
     "metadata": {},
     "output_type": "execute_result"
    },
    {
     "data": {
      "image/png": "[encoded data removed]",
      "text/plain": [
       "<Figure size 432x288 with 1 Axes>"
      ]
     },
     "metadata": {
      "needs_background": "light"
     },
     "output_type": "display_data"
    }
   ],
   "source": [
    "plt.plot(alphas, train2_rmse_list, 'b--', label = 'train set')\n",
    "plt.plot(alphas, valid2_rmse_list, 'r--', label = 'valid set')\n",
    "plt.title('alpha and rmse')\n",
    "plt.legend()"
   ]
  },
  {
   "cell_type": "markdown",
   "id": "b7577dbb-7680-4dac-b023-2cfcc6749a88",
   "metadata": {},
   "source": [
    "`-` $\\alpha = 0.4$일 때가 최적으로 보인다"
   ]
  },
  {
   "cell_type": "code",
   "execution_count": 140,
   "id": "bae38253-b35e-4eb1-99e2-caa69b580bff",
   "metadata": {},
   "outputs": [
    {
     "data": {
      "text/plain": [
       "Lasso(alpha=0.4, max_iter=150000, random_state=21)"
      ]
     },
     "execution_count": 140,
     "metadata": {},
     "output_type": "execute_result"
    }
   ],
   "source": [
    "lasso_04 = Lasso(alpha = 0.4, max_iter = 150000, random_state = 21)\n",
    "lasso_04.fit(x_poly_train2_scaled_df, y_train) ## 라쏘 회귀모형을 train셋을 이용해 학습시킨다"
   ]
  },
  {
   "cell_type": "code",
   "execution_count": 141,
   "id": "479ab995-6994-45d0-ae89-4ddbcf51bf3c",
   "metadata": {},
   "outputs": [],
   "source": [
    "train_predict = lasso_04.predict(x_poly_train2_scaled_df) ## train셋을 통해 학습된 모델을 통해 train셋을 예측"
   ]
  },
  {
   "cell_type": "code",
   "execution_count": 142,
   "id": "48e7b2ca-1268-4264-b483-2bdc4611ce45",
   "metadata": {
    "tags": []
   },
   "outputs": [],
   "source": [
    "residuals = y_train - train_predict ## 잔차 = 실제값 - 예측값  "
   ]
  },
  {
   "cell_type": "markdown",
   "id": "51d04ff0-7304-459c-81d2-4fef2266eb41",
   "metadata": {},
   "source": [
    "`-` 잔차와 적합치 그림"
   ]
  },
  {
   "cell_type": "code",
   "execution_count": 48,
   "id": "0310d1de-50e6-4462-8ac1-29db04646704",
   "metadata": {},
   "outputs": [
    {
     "data": {
      "text/plain": [
       "Text(0.5, 1.0, 'fitted vs residual')"
      ]
     },
     "execution_count": 48,
     "metadata": {},
     "output_type": "execute_result"
    },
    {
     "data": {
      "image/png": "[encoded data removed]",
      "text/plain": [
       "<Figure size 432x288 with 1 Axes>"
      ]
     },
     "metadata": {
      "needs_background": "light"
     },
     "output_type": "display_data"
    }
   ],
   "source": [
    "plt.plot(y_train, residuals, '.k')\n",
    "plt.axhline(0, 0.0, 1.0, color = 'red')\n",
    "plt.title('fitted vs residual')"
   ]
  },
  {
   "cell_type": "markdown",
   "id": "99f95368-70af-4131-90f0-7334cdad642e",
   "metadata": {},
   "source": [
    "`-` 이상점이 하나 있긴 하지만 나쁘지 않은 것 같다"
   ]
  },
  {
   "cell_type": "markdown",
   "id": "adbfe794-2a7a-432a-bc08-582b4d6b2f0b",
   "metadata": {},
   "source": [
    "`-` 잔차의 히스토그램"
   ]
  },
  {
   "cell_type": "code",
   "execution_count": 49,
   "id": "b3de9383-1c7d-4a52-a453-c196d86b87f6",
   "metadata": {},
   "outputs": [
    {
     "data": {
      "text/plain": [
       "<AxesSubplot:>"
      ]
     },
     "execution_count": 49,
     "metadata": {},
     "output_type": "execute_result"
    },
    {
     "data": {
      "image/png": "[encoded data removed]",
      "text/plain": [
       "<Figure size 432x288 with 1 Axes>"
      ]
     },
     "metadata": {
      "needs_background": "light"
     },
     "output_type": "display_data"
    }
   ],
   "source": [
    "residuals.hist()"
   ]
  },
  {
   "cell_type": "markdown",
   "id": "8fbdddef-3350-49da-80bd-ee9273bf5e94",
   "metadata": {},
   "source": [
    "`-` 이상점 하나를 제외하면 아름다운 종모양이다\n",
    "\n",
    "`-` 평균이 $0$이고 표준편차 $250$정도인 정규분포 모양"
   ]
  },
  {
   "cell_type": "markdown",
   "id": "a2001699-380b-4c70-9145-3dd7dc77575c",
   "metadata": {},
   "source": [
    "### Full_Clutch 드랍"
   ]
  },
  {
   "cell_type": "code",
   "execution_count": 99,
   "id": "92e575c8-eeb7-4c6b-ae8a-26027c30881d",
   "metadata": {},
   "outputs": [],
   "source": [
    "x_train3 = x_train.drop('Full_Clutch', axis = 1)\n",
    "x_valid3 = x_valid.drop('Full_Clutch', axis = 1)"
   ]
  },
  {
   "cell_type": "markdown",
   "id": "a9892904-4885-4f11-a0cb-7fcbeaa0deb8",
   "metadata": {},
   "source": [
    "`-` 교호작용항을 추가하자"
   ]
  },
  {
   "cell_type": "code",
   "execution_count": 102,
   "id": "2f70874d-cbca-4315-bc7f-d7596b490621",
   "metadata": {},
   "outputs": [],
   "source": [
    "x_poly_train3 = poly(x_train3)\n",
    "x_poly_valid3 = poly(x_valid3)"
   ]
  },
  {
   "cell_type": "code",
   "execution_count": 143,
   "id": "bb9005db-fc91-4596-98a9-63f2bee228f1",
   "metadata": {},
   "outputs": [],
   "source": [
    "## 스케일러 생성\n",
    "standard_scaler = StandardScaler()\n",
    "\n",
    "## 트레인집합 정규화\n",
    "x_poly_train3_scaled = standard_scaler.fit_transform(x_poly_train3)\n",
    "x_poly_train3_scaled_df = pd.DataFrame(data = x_poly_train3_scaled, columns = x_poly_train3.columns)\n",
    "\n",
    "## 테스트집합 정규화\n",
    "x_poly_valid3_scaled = standard_scaler.transform(x_poly_valid3) ## x_train에서 학습한 정규화방식을 그대로 x_valid에 적용\n",
    "x_poly_valid3_scaled_df = pd.DataFrame(data = x_poly_valid3_scaled, columns = x_poly_valid3.columns)"
   ]
  },
  {
   "cell_type": "markdown",
   "id": "fa7ec333-fa46-459d-8361-47806cf685c2",
   "metadata": {},
   "source": [
    "`-` 최적의 $\\alpha$값을 선택해보자"
   ]
  },
  {
   "cell_type": "code",
   "execution_count": 108,
   "id": "c0576658-038d-4aa0-9213-b8a05dc31581",
   "metadata": {},
   "outputs": [],
   "source": [
    "train3_rmse_list, valid3_rmse_list = [], []\n",
    "alphas = np.linspace(0.01, 0.99, 100)\n",
    "\n",
    "for alpha in alphas:\n",
    "    lasso = Lasso(alpha = alpha, max_iter = 150000, random_state = 21)\n",
    "    lasso.fit(x_poly_train3_scaled_df, y_train)\n",
    "    \n",
    "    train_predict = lasso.predict(x_poly_train3_scaled_df) ## 훈련집합 예측\n",
    "    y_predict = lasso.predict(x_poly_valid3_scaled_df) ## valid셋 예측\n",
    "    \n",
    "    train_rmse = RMSE(train_predict, y_train)\n",
    "    valid_rmse = RMSE(y_predict, y_valid)\n",
    "    train3_rmse_list.append(train_rmse)\n",
    "    valid3_rmse_list.append(valid_rmse)"
   ]
  },
  {
   "cell_type": "code",
   "execution_count": 109,
   "id": "7e530f51-e6f5-4559-9cf2-15c0ad6701dc",
   "metadata": {},
   "outputs": [
    {
     "data": {
      "text/plain": [
       "<matplotlib.legend.Legend at 0x20584034b20>"
      ]
     },
     "execution_count": 109,
     "metadata": {},
     "output_type": "execute_result"
    },
    {
     "data": {
      "image/png": "[encoded data removed]",
      "text/plain": [
       "<Figure size 432x288 with 1 Axes>"
      ]
     },
     "metadata": {
      "needs_background": "light"
     },
     "output_type": "display_data"
    }
   ],
   "source": [
    "plt.plot(alphas, train3_rmse_list, 'b--', label = 'train set')\n",
    "plt.plot(alphas, valid3_rmse_list, 'r--', label = 'valid set')\n",
    "plt.title('alpha and rmse')\n",
    "plt.legend()"
   ]
  },
  {
   "cell_type": "markdown",
   "id": "93229e7b-657a-45ca-adea-4e8f24e6df80",
   "metadata": {},
   "source": [
    "`-` 변수를 드랍하지 않고 라쏘 회귀를 돌린 모형과 비슷한 그래프를 보인다\n",
    "\n",
    "`-` $\\alpha = 0.7$일 때가 최적으로 보인다\n",
    "\n",
    "`-` 눈대중 말고 정확히 구하자"
   ]
  },
  {
   "cell_type": "code",
   "execution_count": 115,
   "id": "30f3c8de-5c01-4256-bc6a-4d4d825597b9",
   "metadata": {},
   "outputs": [],
   "source": [
    "optimal_alpha = pd.DataFrame({'alpha':alphas, 'train_rmse':train3_rmse_list, 'valid_rmse':valid3_rmse_list})"
   ]
  },
  {
   "cell_type": "code",
   "execution_count": 120,
   "id": "4967d343-76fd-4e9f-8fa1-917367d4428f",
   "metadata": {},
   "outputs": [
    {
     "data": {
      "text/plain": [
       "alpha              0.990000\n",
       "train_rmse       300.623132\n",
       "valid_rmse       254.692353\n",
       "rmse_interval     45.930779\n",
       "Name: 99, dtype: float64"
      ]
     },
     "execution_count": 120,
     "metadata": {},
     "output_type": "execute_result"
    }
   ],
   "source": [
    "optimal_alpha.eval('rmse_interval = train_rmse - valid_rmse').\\\n",
    "sort_values('rmse_interval').iloc[0,:]"
   ]
  },
  {
   "cell_type": "markdown",
   "id": "78eae382-5346-4ce6-ba1f-aa39ff35f549",
   "metadata": {},
   "source": [
    "`-` 0.99일 때가 제일 간격이 작다\n",
    "\n",
    "`-` 그런데 내가 최대값을 0.99로 설정해서 그렇지 아마 1일 때가 간격이 제일 작을 듯 싶다"
   ]
  },
  {
   "cell_type": "markdown",
   "id": "92cf8983-5289-427a-bbb2-580d328d9354",
   "metadata": {},
   "source": [
    "## 릿지 회귀와 엘라스틱 넷 찍먹"
   ]
  },
  {
   "cell_type": "markdown",
   "id": "8cbf208e-3fda-4ff2-9582-d2f44548f547",
   "metadata": {
    "tags": []
   },
   "source": [
    "### 릿지 회귀\n",
    "\n",
    "`-` 라쏘 회귀만 하기엔 아쉬우니 릿지 회귀도 해보자"
   ]
  },
  {
   "cell_type": "code",
   "execution_count": 291,
   "id": "b61ad3fb-dd20-448b-a74b-56100a876d98",
   "metadata": {},
   "outputs": [
    {
     "name": "stdout",
     "output_type": "stream",
     "text": [
      "𝛼가 0.1일 때 이 방정식의 평균 에러는 238.11입니다\n",
      "𝛼가 0.3일 때 이 방정식의 평균 에러는 246.98입니다\n",
      "𝛼가 0.5일 때 이 방정식의 평균 에러는 251.14입니다\n",
      "𝛼가 0.7일 때 이 방정식의 평균 에러는 253.86입니다\n",
      "𝛼가 0.9일 때 이 방정식의 평균 에러는 255.86입니다\n",
      "𝛼가 0.99일 때 이 방정식의 평균 에러는 256.60입니다\n"
     ]
    }
   ],
   "source": [
    "alphas = [0.1, 0.3, 0.5, 0.7, 0.9, 0.99]\n",
    "for alpha in alphas:\n",
    "    ridge = Ridge(alpha = alpha, max_iter = 20000, random_state = 21)\n",
    "    ridge.fit(x_poly_train_scaled_df, y_train)\n",
    "    y_predict = ridge.predict(x_poly_valid_scaled_df) ## 모델 예측\n",
    "    rmse = RMSE(y_predict, y_valid) ## 예측값과 실제값을 통해 RMSE를 구함\n",
    "    print('𝛼가 {}일 때 이 방정식의 평균 에러는 {:.2f}입니다'.format(alpha, rmse))"
   ]
  },
  {
   "cell_type": "markdown",
   "id": "79a1792a-072a-4e24-963c-2675b79568db",
   "metadata": {},
   "source": [
    "`-` 라쏘 회귀보다 평균 에러가 더 높게 나온다"
   ]
  },
  {
   "cell_type": "markdown",
   "id": "5663c2df-231b-4181-8d43-9ea7e7167dff",
   "metadata": {},
   "source": [
    "### 엘라스틱 넷"
   ]
  },
  {
   "cell_type": "code",
   "execution_count": 297,
   "id": "eb9de1c6-2d95-442b-80bf-7e0035d746f6",
   "metadata": {},
   "outputs": [
    {
     "name": "stdout",
     "output_type": "stream",
     "text": [
      "𝛼가 0.1일 때 이 방정식의 평균 에러는 266.97입니다\n",
      "𝛼가 0.3일 때 이 방정식의 평균 에러는 271.54입니다\n",
      "𝛼가 0.5일 때 이 방정식의 평균 에러는 273.53입니다\n",
      "𝛼가 0.7일 때 이 방정식의 평균 에러는 275.26입니다\n",
      "𝛼가 0.9일 때 이 방정식의 평균 에러는 277.16입니다\n",
      "𝛼가 0.99일 때 이 방정식의 평균 에러는 278.10입니다\n"
     ]
    }
   ],
   "source": [
    "alphas = [0.1, 0.3, 0.5, 0.7, 0.9, 0.99]\n",
    "for alpha in alphas:\n",
    "    elastic_net = ElasticNet(alpha = alpha, l1_ratio = 0.5, max_iter = 20000, random_state = 21)\n",
    "    elastic_net.fit(x_poly_train_scaled_df, y_train)\n",
    "    y_predict = elastic_net.predict(x_poly_valid_scaled_df) ## 모델 예측\n",
    "    rmse = RMSE(y_predict, y_valid) ## 예측값과 실제값을 통해 RMSE를 구함\n",
    "    print('𝛼가 {}일 때 이 방정식의 평균 에러는 {:.2f}입니다'.format(alpha, rmse))"
   ]
  },
  {
   "cell_type": "markdown",
   "id": "114dd054-9ffd-42f3-b30c-e39e8f135f23",
   "metadata": {},
   "source": [
    "`-` 성능은 라쏘 > 릿지 > 엘라스틱 넷"
   ]
  },
  {
   "cell_type": "markdown",
   "id": "4fad35c7-5afa-4363-b201-bdc4733f200b",
   "metadata": {},
   "source": [
    "### test 예측"
   ]
  },
  {
   "cell_type": "markdown",
   "id": "8e0087e4-37ef-4492-82fa-d5d2fb3212dd",
   "metadata": {},
   "source": [
    "`-` 성능이 가장 좋게 나온 라쏘 회귀 모형을 통해 test 데이터를 예측하자\n",
    "\n",
    "`-` Full_Clutch와 Island를 드랍하고 교호작용을 추가한 데이터를 사용하자\n",
    "\n",
    "`-` $\\alpha = 0.4$인 라쏘 모델을 사용하자"
   ]
  },
  {
   "cell_type": "code",
   "execution_count": 159,
   "id": "bf4783dc-85de-4f4c-865a-1a46e586039a",
   "metadata": {},
   "outputs": [
    {
     "data": {
      "text/html": [
       "<div>\n",
       "<style scoped>\n",
       "    .dataframe tbody tr th:only-of-type {\n",
       "        vertical-align: middle;\n",
       "    }\n",
       "\n",
       "    .dataframe tbody tr th {\n",
       "        vertical-align: top;\n",
       "    }\n",
       "\n",
       "    .dataframe thead th {\n",
       "        text-align: right;\n",
       "    }\n",
       "</style>\n",
       "<table border=\"1\" class=\"dataframe\">\n",
       "  <thead>\n",
       "    <tr style=\"text-align: right;\">\n",
       "      <th></th>\n",
       "      <th>id</th>\n",
       "      <th>Species</th>\n",
       "      <th>Island</th>\n",
       "      <th>Clutch Completion</th>\n",
       "      <th>Culmen Length (mm)</th>\n",
       "      <th>Culmen Depth (mm)</th>\n",
       "      <th>Flipper Length (mm)</th>\n",
       "      <th>Sex</th>\n",
       "      <th>Delta 15 N (o/oo)</th>\n",
       "      <th>Delta 13 C (o/oo)</th>\n",
       "    </tr>\n",
       "  </thead>\n",
       "  <tbody>\n",
       "    <tr>\n",
       "      <th>0</th>\n",
       "      <td>0</td>\n",
       "      <td>Chinstrap penguin (Pygoscelis antarctica)</td>\n",
       "      <td>Dream</td>\n",
       "      <td>Yes</td>\n",
       "      <td>52.0</td>\n",
       "      <td>20.7</td>\n",
       "      <td>210.0</td>\n",
       "      <td>MALE</td>\n",
       "      <td>9.43146</td>\n",
       "      <td>-24.68440</td>\n",
       "    </tr>\n",
       "    <tr>\n",
       "      <th>1</th>\n",
       "      <td>1</td>\n",
       "      <td>Gentoo penguin (Pygoscelis papua)</td>\n",
       "      <td>Biscoe</td>\n",
       "      <td>Yes</td>\n",
       "      <td>55.9</td>\n",
       "      <td>17.0</td>\n",
       "      <td>228.0</td>\n",
       "      <td>MALE</td>\n",
       "      <td>8.31180</td>\n",
       "      <td>-26.35425</td>\n",
       "    </tr>\n",
       "    <tr>\n",
       "      <th>2</th>\n",
       "      <td>2</td>\n",
       "      <td>Adelie Penguin (Pygoscelis adeliae)</td>\n",
       "      <td>Dream</td>\n",
       "      <td>Yes</td>\n",
       "      <td>38.9</td>\n",
       "      <td>18.8</td>\n",
       "      <td>190.0</td>\n",
       "      <td>FEMALE</td>\n",
       "      <td>8.36936</td>\n",
       "      <td>-26.11199</td>\n",
       "    </tr>\n",
       "    <tr>\n",
       "      <th>3</th>\n",
       "      <td>3</td>\n",
       "      <td>Chinstrap penguin (Pygoscelis antarctica)</td>\n",
       "      <td>Dream</td>\n",
       "      <td>Yes</td>\n",
       "      <td>45.2</td>\n",
       "      <td>16.6</td>\n",
       "      <td>191.0</td>\n",
       "      <td>FEMALE</td>\n",
       "      <td>9.62357</td>\n",
       "      <td>-24.78984</td>\n",
       "    </tr>\n",
       "    <tr>\n",
       "      <th>4</th>\n",
       "      <td>4</td>\n",
       "      <td>Adelie Penguin (Pygoscelis adeliae)</td>\n",
       "      <td>Biscoe</td>\n",
       "      <td>No</td>\n",
       "      <td>37.9</td>\n",
       "      <td>18.6</td>\n",
       "      <td>172.0</td>\n",
       "      <td>FEMALE</td>\n",
       "      <td>8.38404</td>\n",
       "      <td>-25.19837</td>\n",
       "    </tr>\n",
       "  </tbody>\n",
       "</table>\n",
       "</div>"
      ],
      "text/plain": [
       "   id                                    Species  Island Clutch Completion  \\\n",
       "0   0  Chinstrap penguin (Pygoscelis antarctica)   Dream               Yes   \n",
       "1   1          Gentoo penguin (Pygoscelis papua)  Biscoe               Yes   \n",
       "2   2        Adelie Penguin (Pygoscelis adeliae)   Dream               Yes   \n",
       "3   3  Chinstrap penguin (Pygoscelis antarctica)   Dream               Yes   \n",
       "4   4        Adelie Penguin (Pygoscelis adeliae)  Biscoe                No   \n",
       "\n",
       "   Culmen Length (mm)  Culmen Depth (mm)  Flipper Length (mm)     Sex  \\\n",
       "0                52.0               20.7                210.0    MALE   \n",
       "1                55.9               17.0                228.0    MALE   \n",
       "2                38.9               18.8                190.0  FEMALE   \n",
       "3                45.2               16.6                191.0  FEMALE   \n",
       "4                37.9               18.6                172.0  FEMALE   \n",
       "\n",
       "   Delta 15 N (o/oo)  Delta 13 C (o/oo)  \n",
       "0            9.43146          -24.68440  \n",
       "1            8.31180          -26.35425  \n",
       "2            8.36936          -26.11199  \n",
       "3            9.62357          -24.78984  \n",
       "4            8.38404          -25.19837  "
      ]
     },
     "execution_count": 159,
     "metadata": {},
     "output_type": "execute_result"
    }
   ],
   "source": [
    "test = pd.read_csv('C:/Users/Jaesu/Dacon-Basic/뗑컨-몸무게-예측/Data/test.csv')\n",
    "test.head()"
   ]
  },
  {
   "cell_type": "code",
   "execution_count": 160,
   "id": "415f2aea-8fde-4609-8cf2-bcd3ad9f1654",
   "metadata": {},
   "outputs": [
    {
     "data": {
      "text/plain": [
       "id                     0\n",
       "Species                0\n",
       "Island                 0\n",
       "Clutch Completion      0\n",
       "Culmen Length (mm)     0\n",
       "Culmen Depth (mm)      0\n",
       "Flipper Length (mm)    0\n",
       "Sex                    6\n",
       "Delta 15 N (o/oo)      9\n",
       "Delta 13 C (o/oo)      8\n",
       "dtype: int64"
      ]
     },
     "execution_count": 160,
     "metadata": {},
     "output_type": "execute_result"
    }
   ],
   "source": [
    "test.isnull().sum()"
   ]
  },
  {
   "cell_type": "code",
   "execution_count": 161,
   "id": "04db3e2e-80dc-4d6c-9242-511a693c8f52",
   "metadata": {},
   "outputs": [],
   "source": [
    "test['Delta 15 N (o/oo)'].fillna(dt['DeltaN'].median(), inplace = True) ## train셋의 중앙값을 대입\n",
    "test['Delta 13 C (o/oo)'].fillna(dt['DeltaC'].median(), inplace = True) ## train셋의 평균을 대입"
   ]
  },
  {
   "cell_type": "code",
   "execution_count": 162,
   "id": "e1ca398d-610d-47a5-acad-03cc087ec83e",
   "metadata": {},
   "outputs": [],
   "source": [
    "test.rename(columns = {'Clutch Completion':'Full_Clutch', 'Culmen Length (mm)':'Culmen_Length', \n",
    "                     'Culmen Depth (mm)':'Culmen_Depth', 'Flipper Length (mm)':'Flipper_Length',\n",
    "                     'Delta 15 N (o/oo)':'DeltaN', 'Delta 13 C (o/oo)':'DeltaC', 'Body Mass (g)':'Body_Mass'}, inplace = True) ## 편의상 열 이름 변경"
   ]
  },
  {
   "cell_type": "code",
   "execution_count": 163,
   "id": "80368ded-f5ee-4c83-a49a-ac7559f35529",
   "metadata": {},
   "outputs": [],
   "source": [
    "test.loc[[46,81,98,152,205,209], 'Sex'] = ['FEMALE'] * 6 ## train셋과 비교하여 몸무게와 상관관계가 큰 날개 길이가 작아 암컷으로 넣어줌 "
   ]
  },
  {
   "cell_type": "code",
   "execution_count": 164,
   "id": "e339a6e5-4dda-44dc-8c45-daad29184c5a",
   "metadata": {},
   "outputs": [],
   "source": [
    "test.drop('id', axis = 1, inplace = True) ## id는 필요없으니 드랍"
   ]
  },
  {
   "cell_type": "markdown",
   "id": "0030f55b-c2e1-40b7-ba32-48860c4e5afd",
   "metadata": {},
   "source": [
    "`-` test 셋도 범주형변수에 대해 라벨 인코딩을 해주자"
   ]
  },
  {
   "cell_type": "code",
   "execution_count": 35,
   "id": "05bd178b-0b7c-4cb1-bae1-938076eedc66",
   "metadata": {},
   "outputs": [],
   "source": [
    "# test2 = test.copy()\n",
    "# for col in test2.columns:\n",
    "#     if test2.dtypes[col] == 'O':\n",
    "#         encoder = LabelEncoder()\n",
    "#         encoder.fit(test2[col])\n",
    "#         labels = encoder.transform(test2[col])\n",
    "#         test2[col] = list(labels) "
   ]
  },
  {
   "cell_type": "markdown",
   "id": "2796390b-7868-4097-98fb-8d17b5fcce40",
   "metadata": {},
   "source": [
    "`-` 위랑 아래랑 똑같음!\n",
    "\n",
    "`-` train에서 fit한 라벨인코딩을 사용하여 test셋을 transform하자"
   ]
  },
  {
   "cell_type": "code",
   "execution_count": 165,
   "id": "43a025fe-35d2-48e8-8d8a-f539b9a35b65",
   "metadata": {},
   "outputs": [],
   "source": [
    "test2 = test.copy()"
   ]
  },
  {
   "cell_type": "code",
   "execution_count": 166,
   "id": "ef95454e-51bc-4263-9fc0-3d04c9185ce1",
   "metadata": {},
   "outputs": [],
   "source": [
    "test2.drop(['Island', 'Full_Clutch'], axis = 1, inplace = True)"
   ]
  },
  {
   "cell_type": "code",
   "execution_count": 167,
   "id": "c5e4b67b-5a51-413b-9cfc-8c7563980515",
   "metadata": {},
   "outputs": [],
   "source": [
    "test_species_labels = species_encoder.transform(test2['Species'])\n",
    "test2['Species'] = list(test_species_labels) ## Species labelencoding\n",
    "\n",
    "# test_island_labels = island_encoder.transform(test2['Island'])\n",
    "# test2['Island'] = list(test_island_labels) ## Island labelencoding\n",
    "\n",
    "# test_full_clutch_labels = full_clutch_encoder.transform(test2['Full_Clutch'])\n",
    "# test2['Full_Clutch'] = list(test_full_clutch_labels) ## Full_Clutch labelencoding\n",
    "\n",
    "test_sex_labels = sex_encoder.transform(test2['Sex'])\n",
    "test2['Sex'] = list(test_sex_labels) ## Sex labelencoding"
   ]
  },
  {
   "cell_type": "code",
   "execution_count": 168,
   "id": "22226da6-c890-49b1-8776-b6f488ccd637",
   "metadata": {},
   "outputs": [
    {
     "data": {
      "text/html": [
       "<div>\n",
       "<style scoped>\n",
       "    .dataframe tbody tr th:only-of-type {\n",
       "        vertical-align: middle;\n",
       "    }\n",
       "\n",
       "    .dataframe tbody tr th {\n",
       "        vertical-align: top;\n",
       "    }\n",
       "\n",
       "    .dataframe thead th {\n",
       "        text-align: right;\n",
       "    }\n",
       "</style>\n",
       "<table border=\"1\" class=\"dataframe\">\n",
       "  <thead>\n",
       "    <tr style=\"text-align: right;\">\n",
       "      <th></th>\n",
       "      <th>Species</th>\n",
       "      <th>Culmen_Length</th>\n",
       "      <th>Culmen_Depth</th>\n",
       "      <th>Flipper_Length</th>\n",
       "      <th>Sex</th>\n",
       "      <th>DeltaN</th>\n",
       "      <th>DeltaC</th>\n",
       "    </tr>\n",
       "  </thead>\n",
       "  <tbody>\n",
       "    <tr>\n",
       "      <th>0</th>\n",
       "      <td>1</td>\n",
       "      <td>52.0</td>\n",
       "      <td>20.7</td>\n",
       "      <td>210.0</td>\n",
       "      <td>1</td>\n",
       "      <td>9.43146</td>\n",
       "      <td>-24.68440</td>\n",
       "    </tr>\n",
       "    <tr>\n",
       "      <th>1</th>\n",
       "      <td>2</td>\n",
       "      <td>55.9</td>\n",
       "      <td>17.0</td>\n",
       "      <td>228.0</td>\n",
       "      <td>1</td>\n",
       "      <td>8.31180</td>\n",
       "      <td>-26.35425</td>\n",
       "    </tr>\n",
       "    <tr>\n",
       "      <th>2</th>\n",
       "      <td>0</td>\n",
       "      <td>38.9</td>\n",
       "      <td>18.8</td>\n",
       "      <td>190.0</td>\n",
       "      <td>0</td>\n",
       "      <td>8.36936</td>\n",
       "      <td>-26.11199</td>\n",
       "    </tr>\n",
       "    <tr>\n",
       "      <th>3</th>\n",
       "      <td>1</td>\n",
       "      <td>45.2</td>\n",
       "      <td>16.6</td>\n",
       "      <td>191.0</td>\n",
       "      <td>0</td>\n",
       "      <td>9.62357</td>\n",
       "      <td>-24.78984</td>\n",
       "    </tr>\n",
       "    <tr>\n",
       "      <th>4</th>\n",
       "      <td>0</td>\n",
       "      <td>37.9</td>\n",
       "      <td>18.6</td>\n",
       "      <td>172.0</td>\n",
       "      <td>0</td>\n",
       "      <td>8.38404</td>\n",
       "      <td>-25.19837</td>\n",
       "    </tr>\n",
       "  </tbody>\n",
       "</table>\n",
       "</div>"
      ],
      "text/plain": [
       "   Species  Culmen_Length  Culmen_Depth  Flipper_Length  Sex   DeltaN  \\\n",
       "0        1           52.0          20.7           210.0    1  9.43146   \n",
       "1        2           55.9          17.0           228.0    1  8.31180   \n",
       "2        0           38.9          18.8           190.0    0  8.36936   \n",
       "3        1           45.2          16.6           191.0    0  9.62357   \n",
       "4        0           37.9          18.6           172.0    0  8.38404   \n",
       "\n",
       "     DeltaC  \n",
       "0 -24.68440  \n",
       "1 -26.35425  \n",
       "2 -26.11199  \n",
       "3 -24.78984  \n",
       "4 -25.19837  "
      ]
     },
     "execution_count": 168,
     "metadata": {},
     "output_type": "execute_result"
    }
   ],
   "source": [
    "test2.head()"
   ]
  },
  {
   "cell_type": "markdown",
   "id": "b6e528c8-0106-48fa-8d5c-a6fab296edde",
   "metadata": {},
   "source": [
    "`-` 라벨 인코딩이 잘 되었다"
   ]
  },
  {
   "cell_type": "markdown",
   "id": "d1d0368a-3d81-423d-a203-3736c6751978",
   "metadata": {},
   "source": [
    "`-` 교호작용항을 추가해주자"
   ]
  },
  {
   "cell_type": "code",
   "execution_count": 169,
   "id": "430d8ad0-bdef-4612-87cf-6fc47e274174",
   "metadata": {},
   "outputs": [],
   "source": [
    "test_poly = poly(test2)"
   ]
  },
  {
   "cell_type": "code",
   "execution_count": 170,
   "id": "79508c1c-0b7b-4180-ad5b-b8907caa3eba",
   "metadata": {},
   "outputs": [
    {
     "data": {
      "text/plain": [
       "(228, 17)"
      ]
     },
     "execution_count": 170,
     "metadata": {},
     "output_type": "execute_result"
    }
   ],
   "source": [
    "test_poly.shape"
   ]
  },
  {
   "cell_type": "markdown",
   "id": "afa2a520-0990-43aa-9ee9-58e41ee6f625",
   "metadata": {},
   "source": [
    "`-` 위에서 train셋을 이용해 학습한 스케일러의 평균과 표준편차"
   ]
  },
  {
   "cell_type": "code",
   "execution_count": 129,
   "id": "bd9cdc82-eaf1-44d2-9d8c-9f15ac3e471b",
   "metadata": {},
   "outputs": [],
   "source": [
    "## 테스트집합 정규화\n",
    "test_poly_scaled = standard_scaler.transform(test_poly) ## x_train에서 학습한 정규화방식을 그대로 test_poly에 적용\n",
    "test_poly_scaled_df = pd.DataFrame(data = test_poly_scaled, columns = test_poly.columns)"
   ]
  },
  {
   "cell_type": "code",
   "execution_count": 64,
   "id": "7ca4cf1f-6703-4bf0-a09f-06563dfbb120",
   "metadata": {},
   "outputs": [
    {
     "data": {
      "text/html": [
       "<div>\n",
       "<style scoped>\n",
       "    .dataframe tbody tr th:only-of-type {\n",
       "        vertical-align: middle;\n",
       "    }\n",
       "\n",
       "    .dataframe tbody tr th {\n",
       "        vertical-align: top;\n",
       "    }\n",
       "\n",
       "    .dataframe thead th {\n",
       "        text-align: right;\n",
       "    }\n",
       "</style>\n",
       "<table border=\"1\" class=\"dataframe\">\n",
       "  <thead>\n",
       "    <tr style=\"text-align: right;\">\n",
       "      <th></th>\n",
       "      <th>Species</th>\n",
       "      <th>Culmen_Length</th>\n",
       "      <th>Culmen_Depth</th>\n",
       "      <th>Flipper_Length</th>\n",
       "      <th>Sex</th>\n",
       "      <th>DeltaN</th>\n",
       "    </tr>\n",
       "  </thead>\n",
       "  <tbody>\n",
       "    <tr>\n",
       "      <th>0</th>\n",
       "      <td>-0.062325</td>\n",
       "      <td>1.352166</td>\n",
       "      <td>1.827049</td>\n",
       "      <td>0.475402</td>\n",
       "      <td>0.946485</td>\n",
       "      <td>1.248746</td>\n",
       "    </tr>\n",
       "    <tr>\n",
       "      <th>1</th>\n",
       "      <td>1.071989</td>\n",
       "      <td>2.067983</td>\n",
       "      <td>-0.043329</td>\n",
       "      <td>1.717361</td>\n",
       "      <td>0.946485</td>\n",
       "      <td>-0.779539</td>\n",
       "    </tr>\n",
       "    <tr>\n",
       "      <th>2</th>\n",
       "      <td>-1.196639</td>\n",
       "      <td>-1.052245</td>\n",
       "      <td>0.866585</td>\n",
       "      <td>-0.904552</td>\n",
       "      <td>-1.056541</td>\n",
       "      <td>-0.675268</td>\n",
       "    </tr>\n",
       "    <tr>\n",
       "      <th>3</th>\n",
       "      <td>-0.062325</td>\n",
       "      <td>0.104075</td>\n",
       "      <td>-0.245532</td>\n",
       "      <td>-0.835555</td>\n",
       "      <td>-1.056541</td>\n",
       "      <td>1.596757</td>\n",
       "    </tr>\n",
       "    <tr>\n",
       "      <th>4</th>\n",
       "      <td>-1.196639</td>\n",
       "      <td>-1.235788</td>\n",
       "      <td>0.765483</td>\n",
       "      <td>-2.146511</td>\n",
       "      <td>-1.056541</td>\n",
       "      <td>-0.648675</td>\n",
       "    </tr>\n",
       "    <tr>\n",
       "      <th>5</th>\n",
       "      <td>-0.062325</td>\n",
       "      <td>1.480646</td>\n",
       "      <td>1.372092</td>\n",
       "      <td>-0.421568</td>\n",
       "      <td>0.946485</td>\n",
       "      <td>0.478778</td>\n",
       "    </tr>\n",
       "  </tbody>\n",
       "</table>\n",
       "</div>"
      ],
      "text/plain": [
       "    Species  Culmen_Length  Culmen_Depth  Flipper_Length       Sex    DeltaN\n",
       "0 -0.062325       1.352166      1.827049        0.475402  0.946485  1.248746\n",
       "1  1.071989       2.067983     -0.043329        1.717361  0.946485 -0.779539\n",
       "2 -1.196639      -1.052245      0.866585       -0.904552 -1.056541 -0.675268\n",
       "3 -0.062325       0.104075     -0.245532       -0.835555 -1.056541  1.596757\n",
       "4 -1.196639      -1.235788      0.765483       -2.146511 -1.056541 -0.648675\n",
       "5 -0.062325       1.480646      1.372092       -0.421568  0.946485  0.478778"
      ]
     },
     "execution_count": 64,
     "metadata": {},
     "output_type": "execute_result"
    }
   ],
   "source": [
    "test_poly_scaled_df.iloc[:6, :6] ## 정규화가 잘 되었는지 확인"
   ]
  },
  {
   "cell_type": "markdown",
   "id": "7989f23b-5786-4bde-b78c-0c915d41e6cf",
   "metadata": {},
   "source": [
    "`-` 이제 예측을 하자"
   ]
  },
  {
   "cell_type": "code",
   "execution_count": 65,
   "id": "9a1950ed-9233-4a57-875b-ceaddab3a7e8",
   "metadata": {},
   "outputs": [
    {
     "data": {
      "text/plain": [
       "array([4292.43478938, 5644.7010042 , 3629.57759285, 3398.53498446,\n",
       "       3355.05669231, 4143.32128426])"
      ]
     },
     "execution_count": 65,
     "metadata": {},
     "output_type": "execute_result"
    }
   ],
   "source": [
    "predict_test = lasso_04.predict(test_poly_scaled_df) ## train셋을 통해 학습된 모델을 통해 test셋을 예측\n",
    "\n",
    "# 예측 결과를 확인\n",
    "predict_test[:6]"
   ]
  },
  {
   "cell_type": "markdown",
   "id": "6d51a2e2-9144-4a21-87a0-fa5fad3629e1",
   "metadata": {},
   "source": [
    "`-` 피쳐네임과 회귀계수 값을 함께 봐보자"
   ]
  },
  {
   "cell_type": "code",
   "execution_count": 71,
   "id": "143c48ca-c4a0-4dfc-b60d-560c3b0cd8a5",
   "metadata": {},
   "outputs": [
    {
     "data": {
      "text/plain": [
       "[('Species', 0.0),\n",
       " ('Culmen_Length', 24.848732652465234),\n",
       " ('Culmen_Depth', 79.43041730143314),\n",
       " ('Flipper_Length', 146.63116217098397),\n",
       " ('Sex', 443.64801316387513),\n",
       " ('DeltaN', -66.56675817740579),\n",
       " ('DeltaC', -71.17941002407247),\n",
       " ('Species_Culmen_Length', 568.1609963555894),\n",
       " ('Species_Culmen_Depth', -214.64866329946864),\n",
       " ('Species_Flipper_Length', 1217.2231087830062),\n",
       " ('Species_DeltaN', -1111.6009737482907),\n",
       " ('Species_DeltaC', -0.0),\n",
       " ('Sex_Culmen_Length', -427.40110849530294),\n",
       " ('Sex_Culmen_Depth', -22.150135494133274),\n",
       " ('Sex_Flipper_Length', 208.7342952529078),\n",
       " ('Sex_DeltaN', -0.0),\n",
       " ('Sex_DeltaC', -0.0)]"
      ]
     },
     "execution_count": 71,
     "metadata": {},
     "output_type": "execute_result"
    }
   ],
   "source": [
    "list(zip(test_poly_scaled_df, lasso_04.coef_))"
   ]
  },
  {
   "cell_type": "markdown",
   "id": "d0e8ea89-f761-437a-bfd0-fda69f4e1034",
   "metadata": {
    "tags": []
   },
   "source": [
    "### dacon 대회에 제출하기"
   ]
  },
  {
   "cell_type": "code",
   "execution_count": 175,
   "id": "7600f53a-f6e6-4591-96bf-9da9d9d38ad3",
   "metadata": {},
   "outputs": [],
   "source": [
    "# 제출용 sample 파일을 불러옴\n",
    "submission = pd.read_csv('C:/Users/Jaesu/Dacon-Basic/뗑컨-몸무게-예측/Data/sample_submission.csv')"
   ]
  },
  {
   "cell_type": "code",
   "execution_count": 73,
   "id": "63cff43f-0fed-4a35-bda0-4a5c545bc55c",
   "metadata": {},
   "outputs": [
    {
     "data": {
      "text/html": [
       "<div>\n",
       "<style scoped>\n",
       "    .dataframe tbody tr th:only-of-type {\n",
       "        vertical-align: middle;\n",
       "    }\n",
       "\n",
       "    .dataframe tbody tr th {\n",
       "        vertical-align: top;\n",
       "    }\n",
       "\n",
       "    .dataframe thead th {\n",
       "        text-align: right;\n",
       "    }\n",
       "</style>\n",
       "<table border=\"1\" class=\"dataframe\">\n",
       "  <thead>\n",
       "    <tr style=\"text-align: right;\">\n",
       "      <th></th>\n",
       "      <th>id</th>\n",
       "      <th>Body Mass (g)</th>\n",
       "    </tr>\n",
       "  </thead>\n",
       "  <tbody>\n",
       "    <tr>\n",
       "      <th>0</th>\n",
       "      <td>0</td>\n",
       "      <td>4292.434789</td>\n",
       "    </tr>\n",
       "    <tr>\n",
       "      <th>1</th>\n",
       "      <td>1</td>\n",
       "      <td>5644.701004</td>\n",
       "    </tr>\n",
       "    <tr>\n",
       "      <th>2</th>\n",
       "      <td>2</td>\n",
       "      <td>3629.577593</td>\n",
       "    </tr>\n",
       "    <tr>\n",
       "      <th>3</th>\n",
       "      <td>3</td>\n",
       "      <td>3398.534984</td>\n",
       "    </tr>\n",
       "    <tr>\n",
       "      <th>4</th>\n",
       "      <td>4</td>\n",
       "      <td>3355.056692</td>\n",
       "    </tr>\n",
       "  </tbody>\n",
       "</table>\n",
       "</div>"
      ],
      "text/plain": [
       "   id  Body Mass (g)\n",
       "0   0    4292.434789\n",
       "1   1    5644.701004\n",
       "2   2    3629.577593\n",
       "3   3    3398.534984\n",
       "4   4    3355.056692"
      ]
     },
     "execution_count": 73,
     "metadata": {},
     "output_type": "execute_result"
    }
   ],
   "source": [
    "# 위에서 구한 예측값을 그대로 넣음\n",
    "submission['Body Mass (g)'] = predict_test\n",
    "\n",
    "# 데이터가 잘 들어갔는지 확인\n",
    "submission.head()"
   ]
  },
  {
   "cell_type": "code",
   "execution_count": 179,
   "id": "d1e738f1-a34b-4ab8-8361-c4fd7babc278",
   "metadata": {},
   "outputs": [],
   "source": [
    "# submission을 csv 파일로 저장\n",
    "submission.to_csv('C:/Users/Jaesu/Dacon-Basic/뗑컨-몸무게-예측/Data/submission_04.csv', index = False)"
   ]
  },
  {
   "cell_type": "markdown",
   "id": "3d64dded-a97e-4c3d-80be-06aff5a8bf8d",
   "metadata": {},
   "source": [
    "`-` 점수는 261.4589133342\n",
    "\n",
    "`-` 근데 내가 test셋 방사성 동위원소 결측치를 중앙값으로 채워야되는데 평균으로 채웠음\n",
    "\n",
    "`-` 중앙값으로 채운것은 점수가 위와 다르겠지만 큰 차이는 없을 듯\n",
    "\n",
    "`-` 일단 EDA를 통해 Full_Clutch는 유의미하지 않은 것을 확인했다\n",
    "\n",
    "`-` 그리고 Species와 Island 각각에 대해서 뗑컨 피쳐들의 산점도가 그룹화 되어있었다 \n",
    "\n",
    "`-` 이를 보고 Species와 Island 둘 중 하나만 피쳐로 사용하는 것이 좋다고 생각했고\n",
    "\n",
    "`-` 직관적으로 보기엔 Island보다 Speices가 뗑컨 몸무게와 더 관련있다 생각했다\n",
    "\n",
    "`-` Island와 뗑컨 몸무게 사이에는 중첩 변수가 존재한다고 생각했음\n",
    "\n",
    "`-` 아무튼 그래서 Island와 Full_Clutch를 제거했는데 일반화능력이 그렇지 않은 것보다 좋게 나왔다"
   ]
  },
  {
   "cell_type": "code",
   "execution_count": null,
   "id": "ab66da64-d701-4dc3-b85a-ccfb8a50b705",
   "metadata": {},
   "outputs": [],
   "source": []
  }
 ],
 "metadata": {
  "kernelspec": {
   "display_name": "Python 3 (ipykernel)",
   "language": "python",
   "name": "python3"
  },
  "language_info": {
   "codemirror_mode": {
    "name": "ipython",
    "version": 3
   },
   "file_extension": ".py",
   "mimetype": "text/x-python",
   "name": "python",
   "nbconvert_exporter": "python",
   "pygments_lexer": "ipython3",
   "version": "3.8.11"
  }
 },
 "nbformat": 4,
 "nbformat_minor": 5
}
