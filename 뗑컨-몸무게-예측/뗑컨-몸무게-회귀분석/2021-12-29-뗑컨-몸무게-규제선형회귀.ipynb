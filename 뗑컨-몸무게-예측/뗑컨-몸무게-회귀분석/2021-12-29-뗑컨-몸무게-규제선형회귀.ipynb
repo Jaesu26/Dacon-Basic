{
 "cells": [
  {
   "cell_type": "markdown",
   "id": "9075a2ea-2c8c-4a05-9225-3009aba6d7f5",
   "metadata": {},
   "source": [
    "# 뗑컨 몸무게 예측 경진대회\n",
    "\n",
    "`-` 교호작용을 Clumen_Length와 DeltaC에 대해서만 수행해보기\n",
    "\n",
    "`-` Clumen_Length는 Island, DeltaC는 Island와 Species에 대해서 수행\n",
    "\n",
    "`-` 위와 같이 할거면 레이블 인코딩말고 원핫 인코딩도 사용해보자\n",
    "\n",
    "`-` 일반화 능력 키우는 방법\n",
    "\n",
    "`1.` 교차검증을 통해 일반화능력을 평가하고 하나의 모델 생성\n",
    "\n",
    "`2.` 교차검증을 통해 생성한 모델들에 가중치를 주고 합하여 예측하기\n",
    "\n",
    "`3.` 교차검증을 통해 하이퍼 파라미터값을 찾고 모델 학습은 모든 표본을 사용하기"
   ]
  },
  {
   "cell_type": "markdown",
   "id": "cabf7f99-1520-4e6f-b75c-0222e2bbe492",
   "metadata": {},
   "source": [
    "## 패키지 import 및 데이터 전처리"
   ]
  },
  {
   "cell_type": "code",
   "execution_count": 1,
   "id": "97108185-00c7-429b-b548-8824165715ea",
   "metadata": {},
   "outputs": [],
   "source": [
    "import pandas as pd\n",
    "import numpy as np"
   ]
  },
  {
   "cell_type": "code",
   "execution_count": 2,
   "id": "dfd30bed-f2c7-4526-a994-9d0348b61543",
   "metadata": {},
   "outputs": [],
   "source": [
    "df = pd.read_csv('C:/Users/Jaesu/Dacon-Basic/뗑컨-몸무게-예측/Data/train.csv')"
   ]
  },
  {
   "cell_type": "code",
   "execution_count": 3,
   "id": "b187e66f-5a39-4f16-9ea7-1d49ae83dfa7",
   "metadata": {},
   "outputs": [
    {
     "data": {
      "text/html": [
       "<div>\n",
       "<style scoped>\n",
       "    .dataframe tbody tr th:only-of-type {\n",
       "        vertical-align: middle;\n",
       "    }\n",
       "\n",
       "    .dataframe tbody tr th {\n",
       "        vertical-align: top;\n",
       "    }\n",
       "\n",
       "    .dataframe thead th {\n",
       "        text-align: right;\n",
       "    }\n",
       "</style>\n",
       "<table border=\"1\" class=\"dataframe\">\n",
       "  <thead>\n",
       "    <tr style=\"text-align: right;\">\n",
       "      <th></th>\n",
       "      <th>id</th>\n",
       "      <th>Species</th>\n",
       "      <th>Island</th>\n",
       "      <th>Clutch Completion</th>\n",
       "      <th>Culmen Length (mm)</th>\n",
       "      <th>Culmen Depth (mm)</th>\n",
       "      <th>Flipper Length (mm)</th>\n",
       "      <th>Sex</th>\n",
       "      <th>Delta 15 N (o/oo)</th>\n",
       "      <th>Delta 13 C (o/oo)</th>\n",
       "      <th>Body Mass (g)</th>\n",
       "    </tr>\n",
       "  </thead>\n",
       "  <tbody>\n",
       "    <tr>\n",
       "      <th>0</th>\n",
       "      <td>0</td>\n",
       "      <td>Gentoo penguin (Pygoscelis papua)</td>\n",
       "      <td>Biscoe</td>\n",
       "      <td>Yes</td>\n",
       "      <td>50.0</td>\n",
       "      <td>15.3</td>\n",
       "      <td>220</td>\n",
       "      <td>MALE</td>\n",
       "      <td>8.30515</td>\n",
       "      <td>-25.19017</td>\n",
       "      <td>5550</td>\n",
       "    </tr>\n",
       "    <tr>\n",
       "      <th>1</th>\n",
       "      <td>1</td>\n",
       "      <td>Chinstrap penguin (Pygoscelis antarctica)</td>\n",
       "      <td>Dream</td>\n",
       "      <td>No</td>\n",
       "      <td>49.5</td>\n",
       "      <td>19.0</td>\n",
       "      <td>200</td>\n",
       "      <td>MALE</td>\n",
       "      <td>9.63074</td>\n",
       "      <td>-24.34684</td>\n",
       "      <td>3800</td>\n",
       "    </tr>\n",
       "    <tr>\n",
       "      <th>2</th>\n",
       "      <td>2</td>\n",
       "      <td>Gentoo penguin (Pygoscelis papua)</td>\n",
       "      <td>Biscoe</td>\n",
       "      <td>Yes</td>\n",
       "      <td>45.1</td>\n",
       "      <td>14.4</td>\n",
       "      <td>210</td>\n",
       "      <td>FEMALE</td>\n",
       "      <td>8.51951</td>\n",
       "      <td>-27.01854</td>\n",
       "      <td>4400</td>\n",
       "    </tr>\n",
       "    <tr>\n",
       "      <th>3</th>\n",
       "      <td>3</td>\n",
       "      <td>Gentoo penguin (Pygoscelis papua)</td>\n",
       "      <td>Biscoe</td>\n",
       "      <td>Yes</td>\n",
       "      <td>44.5</td>\n",
       "      <td>14.7</td>\n",
       "      <td>214</td>\n",
       "      <td>FEMALE</td>\n",
       "      <td>8.20106</td>\n",
       "      <td>-26.16524</td>\n",
       "      <td>4850</td>\n",
       "    </tr>\n",
       "    <tr>\n",
       "      <th>4</th>\n",
       "      <td>4</td>\n",
       "      <td>Gentoo penguin (Pygoscelis papua)</td>\n",
       "      <td>Biscoe</td>\n",
       "      <td>No</td>\n",
       "      <td>49.6</td>\n",
       "      <td>16.0</td>\n",
       "      <td>225</td>\n",
       "      <td>MALE</td>\n",
       "      <td>8.38324</td>\n",
       "      <td>-26.84272</td>\n",
       "      <td>5700</td>\n",
       "    </tr>\n",
       "  </tbody>\n",
       "</table>\n",
       "</div>"
      ],
      "text/plain": [
       "   id                                    Species  Island Clutch Completion  \\\n",
       "0   0          Gentoo penguin (Pygoscelis papua)  Biscoe               Yes   \n",
       "1   1  Chinstrap penguin (Pygoscelis antarctica)   Dream                No   \n",
       "2   2          Gentoo penguin (Pygoscelis papua)  Biscoe               Yes   \n",
       "3   3          Gentoo penguin (Pygoscelis papua)  Biscoe               Yes   \n",
       "4   4          Gentoo penguin (Pygoscelis papua)  Biscoe                No   \n",
       "\n",
       "   Culmen Length (mm)  Culmen Depth (mm)  Flipper Length (mm)     Sex  \\\n",
       "0                50.0               15.3                  220    MALE   \n",
       "1                49.5               19.0                  200    MALE   \n",
       "2                45.1               14.4                  210  FEMALE   \n",
       "3                44.5               14.7                  214  FEMALE   \n",
       "4                49.6               16.0                  225    MALE   \n",
       "\n",
       "   Delta 15 N (o/oo)  Delta 13 C (o/oo)  Body Mass (g)  \n",
       "0            8.30515          -25.19017           5550  \n",
       "1            9.63074          -24.34684           3800  \n",
       "2            8.51951          -27.01854           4400  \n",
       "3            8.20106          -26.16524           4850  \n",
       "4            8.38324          -26.84272           5700  "
      ]
     },
     "execution_count": 3,
     "metadata": {},
     "output_type": "execute_result"
    }
   ],
   "source": [
    "df.head()"
   ]
  },
  {
   "cell_type": "code",
   "execution_count": 4,
   "id": "256b52cf-483b-469d-93a3-5176a179af6b",
   "metadata": {},
   "outputs": [],
   "source": [
    "df.rename(columns = {'Clutch Completion':'Full_Clutch', 'Culmen Length (mm)':'Culmen_Length', \n",
    "                     'Culmen Depth (mm)':'Culmen_Depth', 'Flipper Length (mm)':'Flipper_Length',\n",
    "                     'Delta 15 N (o/oo)':'DeltaN', 'Delta 13 C (o/oo)':'DeltaC', 'Body Mass (g)':'Body_Mass'}, inplace = True) ## 열 이름 변경"
   ]
  },
  {
   "cell_type": "code",
   "execution_count": 5,
   "id": "c40daddd-b588-46cf-9459-65b02365cbc0",
   "metadata": {},
   "outputs": [],
   "source": [
    "df.drop('id', axis = 1, inplace = True) ## id는 필요없으니 제거 "
   ]
  },
  {
   "cell_type": "code",
   "execution_count": 6,
   "id": "a4a7272e-35ee-4d28-806b-6dae49ad776f",
   "metadata": {},
   "outputs": [
    {
     "data": {
      "text/plain": [
       "Species           0\n",
       "Island            0\n",
       "Full_Clutch       0\n",
       "Culmen_Length     0\n",
       "Culmen_Depth      0\n",
       "Flipper_Length    0\n",
       "Sex               3\n",
       "DeltaN            3\n",
       "DeltaC            3\n",
       "Body_Mass         0\n",
       "dtype: int64"
      ]
     },
     "execution_count": 6,
     "metadata": {},
     "output_type": "execute_result"
    }
   ],
   "source": [
    "df.isnull().sum()"
   ]
  },
  {
   "cell_type": "markdown",
   "id": "a36d79bd-ee17-43ca-bcdd-25193f02ae9d",
   "metadata": {},
   "source": [
    "`-` Sex, Delta 15 N, Delta 13 C 컬럼에 결측치가 3개씩 존재한다"
   ]
  },
  {
   "cell_type": "code",
   "execution_count": 7,
   "id": "eb3efdbc-3052-4638-a12c-02363dc97b0c",
   "metadata": {},
   "outputs": [
    {
     "data": {
      "text/html": [
       "<div>\n",
       "<style scoped>\n",
       "    .dataframe tbody tr th:only-of-type {\n",
       "        vertical-align: middle;\n",
       "    }\n",
       "\n",
       "    .dataframe tbody tr th {\n",
       "        vertical-align: top;\n",
       "    }\n",
       "\n",
       "    .dataframe thead th {\n",
       "        text-align: right;\n",
       "    }\n",
       "</style>\n",
       "<table border=\"1\" class=\"dataframe\">\n",
       "  <thead>\n",
       "    <tr style=\"text-align: right;\">\n",
       "      <th></th>\n",
       "      <th>Species</th>\n",
       "      <th>Island</th>\n",
       "      <th>Full_Clutch</th>\n",
       "      <th>Culmen_Length</th>\n",
       "      <th>Culmen_Depth</th>\n",
       "      <th>Flipper_Length</th>\n",
       "      <th>Sex</th>\n",
       "      <th>DeltaN</th>\n",
       "      <th>DeltaC</th>\n",
       "      <th>Body_Mass</th>\n",
       "    </tr>\n",
       "  </thead>\n",
       "  <tbody>\n",
       "    <tr>\n",
       "      <th>6</th>\n",
       "      <td>Adelie Penguin (Pygoscelis adeliae)</td>\n",
       "      <td>Torgersen</td>\n",
       "      <td>Yes</td>\n",
       "      <td>42.0</td>\n",
       "      <td>20.2</td>\n",
       "      <td>190</td>\n",
       "      <td>NaN</td>\n",
       "      <td>9.13362</td>\n",
       "      <td>-25.09368</td>\n",
       "      <td>4250</td>\n",
       "    </tr>\n",
       "    <tr>\n",
       "      <th>8</th>\n",
       "      <td>Adelie Penguin (Pygoscelis adeliae)</td>\n",
       "      <td>Torgersen</td>\n",
       "      <td>Yes</td>\n",
       "      <td>34.1</td>\n",
       "      <td>18.1</td>\n",
       "      <td>193</td>\n",
       "      <td>NaN</td>\n",
       "      <td>NaN</td>\n",
       "      <td>NaN</td>\n",
       "      <td>3475</td>\n",
       "    </tr>\n",
       "    <tr>\n",
       "      <th>18</th>\n",
       "      <td>Adelie Penguin (Pygoscelis adeliae)</td>\n",
       "      <td>Dream</td>\n",
       "      <td>No</td>\n",
       "      <td>39.8</td>\n",
       "      <td>19.1</td>\n",
       "      <td>184</td>\n",
       "      <td>MALE</td>\n",
       "      <td>NaN</td>\n",
       "      <td>NaN</td>\n",
       "      <td>4650</td>\n",
       "    </tr>\n",
       "    <tr>\n",
       "      <th>70</th>\n",
       "      <td>Gentoo penguin (Pygoscelis papua)</td>\n",
       "      <td>Biscoe</td>\n",
       "      <td>Yes</td>\n",
       "      <td>46.2</td>\n",
       "      <td>14.4</td>\n",
       "      <td>214</td>\n",
       "      <td>NaN</td>\n",
       "      <td>8.24253</td>\n",
       "      <td>-26.81540</td>\n",
       "      <td>4650</td>\n",
       "    </tr>\n",
       "    <tr>\n",
       "      <th>109</th>\n",
       "      <td>Adelie Penguin (Pygoscelis adeliae)</td>\n",
       "      <td>Torgersen</td>\n",
       "      <td>Yes</td>\n",
       "      <td>36.6</td>\n",
       "      <td>17.8</td>\n",
       "      <td>185</td>\n",
       "      <td>FEMALE</td>\n",
       "      <td>NaN</td>\n",
       "      <td>NaN</td>\n",
       "      <td>3700</td>\n",
       "    </tr>\n",
       "  </tbody>\n",
       "</table>\n",
       "</div>"
      ],
      "text/plain": [
       "                                 Species     Island Full_Clutch  \\\n",
       "6    Adelie Penguin (Pygoscelis adeliae)  Torgersen         Yes   \n",
       "8    Adelie Penguin (Pygoscelis adeliae)  Torgersen         Yes   \n",
       "18   Adelie Penguin (Pygoscelis adeliae)      Dream          No   \n",
       "70     Gentoo penguin (Pygoscelis papua)     Biscoe         Yes   \n",
       "109  Adelie Penguin (Pygoscelis adeliae)  Torgersen         Yes   \n",
       "\n",
       "     Culmen_Length  Culmen_Depth  Flipper_Length     Sex   DeltaN    DeltaC  \\\n",
       "6             42.0          20.2             190     NaN  9.13362 -25.09368   \n",
       "8             34.1          18.1             193     NaN      NaN       NaN   \n",
       "18            39.8          19.1             184    MALE      NaN       NaN   \n",
       "70            46.2          14.4             214     NaN  8.24253 -26.81540   \n",
       "109           36.6          17.8             185  FEMALE      NaN       NaN   \n",
       "\n",
       "     Body_Mass  \n",
       "6         4250  \n",
       "8         3475  \n",
       "18        4650  \n",
       "70        4650  \n",
       "109       3700  "
      ]
     },
     "execution_count": 7,
     "metadata": {},
     "output_type": "execute_result"
    }
   ],
   "source": [
    "## 결측치가 있는 row들을 확인\n",
    "df[df.isna().sum(axis = 1) > 0]"
   ]
  },
  {
   "cell_type": "markdown",
   "id": "8712a3dc-f026-4f84-8517-5fdd2d5b9378",
   "metadata": {},
   "source": [
    "`-` 방사성 동위원소 행의 결측치에는 각각의 중앙값을 넣어주자"
   ]
  },
  {
   "cell_type": "code",
   "execution_count": 8,
   "id": "48a5c2e1-aebe-4bd4-b3e1-f6cb5ac2f3c3",
   "metadata": {},
   "outputs": [],
   "source": [
    "df['DeltaN'].fillna(df['DeltaN'].median(), inplace = True)\n",
    "df['DeltaC'].fillna(df['DeltaC'].median(), inplace = True)"
   ]
  },
  {
   "cell_type": "markdown",
   "id": "65fe4bac-9334-433e-a908-c61971eb2901",
   "metadata": {},
   "source": [
    "`-` EDA를 보면 알겠지만 Species별로 몸무게가 다르다\n",
    "\n",
    "`-` 또한 수컷과 암컷간의 차이도 꽤 있다\n",
    "\n",
    "`-` drop해도 되지만 3개의 데이터가 유실되는 것이기에 Species와 Body_Mass를 통해 결측치에 값을 채워넣자"
   ]
  },
  {
   "cell_type": "code",
   "execution_count": 9,
   "id": "97a7d82e-8579-4430-abbe-3819925af340",
   "metadata": {},
   "outputs": [
    {
     "data": {
      "text/html": [
       "<div>\n",
       "<style scoped>\n",
       "    .dataframe tbody tr th:only-of-type {\n",
       "        vertical-align: middle;\n",
       "    }\n",
       "\n",
       "    .dataframe tbody tr th {\n",
       "        vertical-align: top;\n",
       "    }\n",
       "\n",
       "    .dataframe thead th {\n",
       "        text-align: right;\n",
       "    }\n",
       "</style>\n",
       "<table border=\"1\" class=\"dataframe\">\n",
       "  <thead>\n",
       "    <tr style=\"text-align: right;\">\n",
       "      <th></th>\n",
       "      <th>Species</th>\n",
       "      <th>Sex</th>\n",
       "      <th>Body_Mass</th>\n",
       "    </tr>\n",
       "  </thead>\n",
       "  <tbody>\n",
       "    <tr>\n",
       "      <th>0</th>\n",
       "      <td>Adelie Penguin (Pygoscelis adeliae)</td>\n",
       "      <td>FEMALE</td>\n",
       "      <td>3448.611111</td>\n",
       "    </tr>\n",
       "    <tr>\n",
       "      <th>1</th>\n",
       "      <td>Adelie Penguin (Pygoscelis adeliae)</td>\n",
       "      <td>MALE</td>\n",
       "      <td>4097.619048</td>\n",
       "    </tr>\n",
       "    <tr>\n",
       "      <th>2</th>\n",
       "      <td>Chinstrap penguin (Pygoscelis antarctica)</td>\n",
       "      <td>FEMALE</td>\n",
       "      <td>3550.000000</td>\n",
       "    </tr>\n",
       "    <tr>\n",
       "      <th>3</th>\n",
       "      <td>Chinstrap penguin (Pygoscelis antarctica)</td>\n",
       "      <td>MALE</td>\n",
       "      <td>4018.181818</td>\n",
       "    </tr>\n",
       "    <tr>\n",
       "      <th>4</th>\n",
       "      <td>Gentoo penguin (Pygoscelis papua)</td>\n",
       "      <td>FEMALE</td>\n",
       "      <td>4707.608696</td>\n",
       "    </tr>\n",
       "    <tr>\n",
       "      <th>5</th>\n",
       "      <td>Gentoo penguin (Pygoscelis papua)</td>\n",
       "      <td>MALE</td>\n",
       "      <td>5445.833333</td>\n",
       "    </tr>\n",
       "  </tbody>\n",
       "</table>\n",
       "</div>"
      ],
      "text/plain": [
       "                                     Species     Sex    Body_Mass\n",
       "0        Adelie Penguin (Pygoscelis adeliae)  FEMALE  3448.611111\n",
       "1        Adelie Penguin (Pygoscelis adeliae)    MALE  4097.619048\n",
       "2  Chinstrap penguin (Pygoscelis antarctica)  FEMALE  3550.000000\n",
       "3  Chinstrap penguin (Pygoscelis antarctica)    MALE  4018.181818\n",
       "4          Gentoo penguin (Pygoscelis papua)  FEMALE  4707.608696\n",
       "5          Gentoo penguin (Pygoscelis papua)    MALE  5445.833333"
      ]
     },
     "execution_count": 9,
     "metadata": {},
     "output_type": "execute_result"
    }
   ],
   "source": [
    "df.groupby(['Species', 'Sex']).\\\n",
    "agg({'Body_Mass':np.mean}).reset_index()"
   ]
  },
  {
   "cell_type": "markdown",
   "id": "7210ea1d-e2f7-4b1b-85ef-4bdb8299edd4",
   "metadata": {},
   "source": [
    "`-` 6번 펭귄의 성별은 수컷, 8번은 암컷, 70번은 암컷으로 하자"
   ]
  },
  {
   "cell_type": "code",
   "execution_count": 10,
   "id": "adc5f402-3619-4e57-8199-51d041c72e66",
   "metadata": {},
   "outputs": [],
   "source": [
    "df.loc[[6,8,70], 'Sex']= ['MALE','FEMALE', 'FEMALE']"
   ]
  },
  {
   "cell_type": "markdown",
   "id": "fe5ed211-22cd-4a4a-8c77-f0e8a015ef87",
   "metadata": {},
   "source": [
    "`-` 이상으로 결측치 처리는 끝났다"
   ]
  },
  {
   "cell_type": "code",
   "execution_count": 11,
   "id": "09142df7-c7dc-4172-98ab-fb89861f8055",
   "metadata": {},
   "outputs": [
    {
     "data": {
      "text/plain": [
       "False"
      ]
     },
     "execution_count": 11,
     "metadata": {},
     "output_type": "execute_result"
    }
   ],
   "source": [
    "df.isnull().values.any() ## 이제 결측치는 없다"
   ]
  },
  {
   "cell_type": "markdown",
   "id": "e0d3a138-48bd-4b30-b654-fe5470d3e886",
   "metadata": {},
   "source": [
    "## 모델링을 해보자"
   ]
  },
  {
   "cell_type": "markdown",
   "id": "6ab23453-cb3b-412c-82ba-a2ba6bff9fd6",
   "metadata": {},
   "source": [
    "`-` 뗑컨 데이터셋의 크기는 114로 그리 많지 않다\n",
    "\n",
    "`-` 그렇기에 overfitting이 일어날 가능성이 꽤 있으며 변수간의 상관관계도 강하다\n",
    "\n",
    "`-` 이를 해결하기 위해 cost fuction에 규제항을 추가한 릿지, 라쏘, 엘라스틱 넷을 써보자"
   ]
  },
  {
   "cell_type": "markdown",
   "id": "f9a468dc-aaf8-4191-a0f2-15b73301e075",
   "metadata": {
    "tags": []
   },
   "source": [
    "### preprocessing"
   ]
  },
  {
   "cell_type": "code",
   "execution_count": 12,
   "id": "67ea40bd-bba2-4924-a62c-0ba4f1b40ceb",
   "metadata": {},
   "outputs": [],
   "source": [
    "from sklearn.model_selection import train_test_split"
   ]
  },
  {
   "cell_type": "code",
   "execution_count": 13,
   "id": "e7985ecd-73fd-419b-8d87-9287e613f968",
   "metadata": {},
   "outputs": [],
   "source": [
    "dt = df.copy()"
   ]
  },
  {
   "cell_type": "code",
   "execution_count": 14,
   "id": "cc75d31c-170c-4103-9b52-f9b7b242e89c",
   "metadata": {},
   "outputs": [],
   "source": [
    "target = dt['Body_Mass']  ## target\n",
    "dt = dt.iloc[:, :-1]      ## target 제외한 데이터프레임"
   ]
  },
  {
   "cell_type": "markdown",
   "id": "1d4a3ac7-ead8-42db-b68c-30409462d36a",
   "metadata": {},
   "source": [
    "`-` 라벨인코딩을 해주자"
   ]
  },
  {
   "cell_type": "code",
   "execution_count": 15,
   "id": "182fb25f-a58c-4697-af63-cfba3cfcb916",
   "metadata": {},
   "outputs": [],
   "source": [
    "from sklearn.preprocessing import LabelEncoder"
   ]
  },
  {
   "cell_type": "code",
   "execution_count": 16,
   "id": "e6d04898-563c-4f13-839e-1e83d0a1f0bc",
   "metadata": {},
   "outputs": [],
   "source": [
    "# for col in dt.columns:\n",
    "#     if dt.dtypes[col] == 'O':\n",
    "#         encoder = LabelEncoder()    \n",
    "#         labels = encoder.fit_transform(dt[col])\n",
    "#         dt[col] = list(labels) "
   ]
  },
  {
   "cell_type": "markdown",
   "id": "d65b815a-49eb-4eda-9eae-aafefd159f45",
   "metadata": {},
   "source": [
    "`-` 위랑 아래랑 똑같음!"
   ]
  },
  {
   "cell_type": "code",
   "execution_count": 16,
   "id": "1bf82ac3-6cf1-499f-b390-978ec81473c8",
   "metadata": {},
   "outputs": [],
   "source": [
    "species_encoder = LabelEncoder()\n",
    "species_labels = species_encoder.fit_transform(dt['Species'])\n",
    "dt['Species'] = list(species_labels) ## Species labelencoding\n",
    "\n",
    "island_encoder = LabelEncoder()\n",
    "island_labels = island_encoder.fit_transform(dt['Island'])\n",
    "dt['Island'] = list(island_labels) ## Island labelencoding\n",
    "\n",
    "full_clutch_encoder = LabelEncoder()\n",
    "full_clutch_labels = full_clutch_encoder.fit_transform(dt['Full_Clutch'])\n",
    "dt['Full_Clutch'] = list(full_clutch_labels) ## Full_Clutch labelencoding\n",
    "\n",
    "sex_encoder = LabelEncoder()\n",
    "sex_labels = sex_encoder.fit_transform(dt['Sex'])\n",
    "dt['Sex'] = list(sex_labels) ## Sex labelencoding"
   ]
  },
  {
   "cell_type": "code",
   "execution_count": 17,
   "id": "d1b53d8d-55ff-4048-8c2d-76287795368c",
   "metadata": {},
   "outputs": [
    {
     "data": {
      "text/html": [
       "<div>\n",
       "<style scoped>\n",
       "    .dataframe tbody tr th:only-of-type {\n",
       "        vertical-align: middle;\n",
       "    }\n",
       "\n",
       "    .dataframe tbody tr th {\n",
       "        vertical-align: top;\n",
       "    }\n",
       "\n",
       "    .dataframe thead th {\n",
       "        text-align: right;\n",
       "    }\n",
       "</style>\n",
       "<table border=\"1\" class=\"dataframe\">\n",
       "  <thead>\n",
       "    <tr style=\"text-align: right;\">\n",
       "      <th></th>\n",
       "      <th>Species</th>\n",
       "      <th>Island</th>\n",
       "      <th>Full_Clutch</th>\n",
       "      <th>Culmen_Length</th>\n",
       "      <th>Culmen_Depth</th>\n",
       "      <th>Flipper_Length</th>\n",
       "      <th>Sex</th>\n",
       "      <th>DeltaN</th>\n",
       "      <th>DeltaC</th>\n",
       "    </tr>\n",
       "  </thead>\n",
       "  <tbody>\n",
       "    <tr>\n",
       "      <th>0</th>\n",
       "      <td>2</td>\n",
       "      <td>0</td>\n",
       "      <td>1</td>\n",
       "      <td>50.0</td>\n",
       "      <td>15.3</td>\n",
       "      <td>220</td>\n",
       "      <td>1</td>\n",
       "      <td>8.30515</td>\n",
       "      <td>-25.19017</td>\n",
       "    </tr>\n",
       "    <tr>\n",
       "      <th>1</th>\n",
       "      <td>1</td>\n",
       "      <td>1</td>\n",
       "      <td>0</td>\n",
       "      <td>49.5</td>\n",
       "      <td>19.0</td>\n",
       "      <td>200</td>\n",
       "      <td>1</td>\n",
       "      <td>9.63074</td>\n",
       "      <td>-24.34684</td>\n",
       "    </tr>\n",
       "    <tr>\n",
       "      <th>2</th>\n",
       "      <td>2</td>\n",
       "      <td>0</td>\n",
       "      <td>1</td>\n",
       "      <td>45.1</td>\n",
       "      <td>14.4</td>\n",
       "      <td>210</td>\n",
       "      <td>0</td>\n",
       "      <td>8.51951</td>\n",
       "      <td>-27.01854</td>\n",
       "    </tr>\n",
       "    <tr>\n",
       "      <th>3</th>\n",
       "      <td>2</td>\n",
       "      <td>0</td>\n",
       "      <td>1</td>\n",
       "      <td>44.5</td>\n",
       "      <td>14.7</td>\n",
       "      <td>214</td>\n",
       "      <td>0</td>\n",
       "      <td>8.20106</td>\n",
       "      <td>-26.16524</td>\n",
       "    </tr>\n",
       "    <tr>\n",
       "      <th>4</th>\n",
       "      <td>2</td>\n",
       "      <td>0</td>\n",
       "      <td>0</td>\n",
       "      <td>49.6</td>\n",
       "      <td>16.0</td>\n",
       "      <td>225</td>\n",
       "      <td>1</td>\n",
       "      <td>8.38324</td>\n",
       "      <td>-26.84272</td>\n",
       "    </tr>\n",
       "  </tbody>\n",
       "</table>\n",
       "</div>"
      ],
      "text/plain": [
       "   Species  Island  Full_Clutch  Culmen_Length  Culmen_Depth  Flipper_Length  \\\n",
       "0        2       0            1           50.0          15.3             220   \n",
       "1        1       1            0           49.5          19.0             200   \n",
       "2        2       0            1           45.1          14.4             210   \n",
       "3        2       0            1           44.5          14.7             214   \n",
       "4        2       0            0           49.6          16.0             225   \n",
       "\n",
       "   Sex   DeltaN    DeltaC  \n",
       "0    1  8.30515 -25.19017  \n",
       "1    1  9.63074 -24.34684  \n",
       "2    0  8.51951 -27.01854  \n",
       "3    0  8.20106 -26.16524  \n",
       "4    1  8.38324 -26.84272  "
      ]
     },
     "execution_count": 17,
     "metadata": {},
     "output_type": "execute_result"
    }
   ],
   "source": [
    "dt.head()"
   ]
  },
  {
   "cell_type": "markdown",
   "id": "a6cd1f0c-7f37-46db-8269-aa279942c452",
   "metadata": {},
   "source": [
    "`-` 범주형 변수마다 라벨인코딩이 잘 되었다"
   ]
  },
  {
   "cell_type": "code",
   "execution_count": 18,
   "id": "920a3045-e586-430c-bfd0-13d2fd99522f",
   "metadata": {},
   "outputs": [],
   "source": [
    "x_train, x_valid, y_train, y_valid = train_test_split(dt, target, test_size = 0.2, shuffle = True,\n",
    "                                                      stratify = dt['Species'], random_state = 21) \n",
    "## 종의 비율이 train, valid 비슷하도록 세팅함 \n",
    "## 웃긴건 stratify 설정안해도 한거랑 종별 count가 동일함"
   ]
  },
  {
   "cell_type": "markdown",
   "id": "fdb527d0-eb05-4eca-a58e-6efe3385b734",
   "metadata": {},
   "source": [
    "`-` 아래는 stratify 설정 안한 버전"
   ]
  },
  {
   "cell_type": "code",
   "execution_count": 19,
   "id": "67bd22e3-f88c-444b-8b6a-ea7da28090e0",
   "metadata": {},
   "outputs": [],
   "source": [
    "x_train_raw, x_valid_raw, y_train_raw, y_valid_raw = train_test_split(dt, target, test_size = 0.2, shuffle = True, random_state = 22) ## 33\n",
    "\n",
    "## 종의 비율이 train, valid 비슷하도록 세팅함 \n",
    "## 웃긴건 stratify 설정안해도 한거랑 종별 count가 동일함(seed 21)"
   ]
  },
  {
   "cell_type": "markdown",
   "id": "77ec3992-5e39-4006-aa87-42a937ffb6ac",
   "metadata": {},
   "source": [
    "## 릿지 회귀(Ridge Regressor)"
   ]
  },
  {
   "cell_type": "code",
   "execution_count": 20,
   "id": "d71a5590-e5f0-41df-8206-0ef1f89f0671",
   "metadata": {},
   "outputs": [],
   "source": [
    "def RMSE(real, predict):\n",
    "    return np.sqrt(np.mean(np.square(real - predict)))"
   ]
  },
  {
   "cell_type": "code",
   "execution_count": 21,
   "id": "40169440-8ce2-4fa2-891e-24d59cdec1cf",
   "metadata": {},
   "outputs": [],
   "source": [
    "from sklearn.linear_model import Ridge"
   ]
  },
  {
   "cell_type": "code",
   "execution_count": 21,
   "id": "ac076025-4d64-455d-99fb-f0432be5d0a1",
   "metadata": {},
   "outputs": [
    {
     "name": "stdout",
     "output_type": "stream",
     "text": [
      "이 방정식의 평균 에러는 291.16입니다\n"
     ]
    }
   ],
   "source": [
    "ridge = Ridge(alpha = 10) ## alpha = 10인 릿지 회귀 모형 생성\n",
    "ridge.fit(x_train, y_train) ## 모델 학습\n",
    "y_predict = ridge.predict(x_valid) ## 모델 예측\n",
    "rmse = RMSE(y_predict, y_valid) ## 예측값과 실제값을 통해 RMSE를 구함\n",
    "print('이 방정식의 평균 에러는 {:.2f}입니다'.format(rmse))"
   ]
  },
  {
   "cell_type": "markdown",
   "id": "8490e7e2-b463-4c5d-83b7-3db485d70206",
   "metadata": {},
   "source": [
    "`-` 여러개의 $\\alpha$에 대해 rmse를 계산해보자"
   ]
  },
  {
   "cell_type": "code",
   "execution_count": 176,
   "id": "22328f18-fa25-4ee5-984e-4e447a5e7ff5",
   "metadata": {},
   "outputs": [
    {
     "name": "stdout",
     "output_type": "stream",
     "text": [
      "𝛼가 0.01일 때 이 방정식의 평균 에러는 268.04입니다\n",
      "𝛼가 0.1일 때 이 방정식의 평균 에러는 268.04입니다\n",
      "𝛼가 1일 때 이 방정식의 평균 에러는 269.10입니다\n",
      "𝛼가 10일 때 이 방정식의 평균 에러는 291.16입니다\n",
      "𝛼가 50일 때 이 방정식의 평균 에러는 313.83입니다\n",
      "𝛼가 100일 때 이 방정식의 평균 에러는 319.01입니다\n"
     ]
    }
   ],
   "source": [
    "alphas = [0.01, 0.1, 1, 10, 50, 100]\n",
    "\n",
    "## alpha 값들에 대해 rmse를 구함\n",
    "for alpha in alphas:\n",
    "    ridge = Ridge(alpha = alpha)\n",
    "    ridge.fit(x_train, y_train) ## 모델 학습\n",
    "    y_predict = ridge.predict(x_valid) ## 모델 예측\n",
    "    rmse = RMSE(y_predict, y_valid) ## 예측값과 실제값을 통해 RMSE를 구함\n",
    "    print('𝛼가 {}일 때 이 방정식의 평균 에러는 {:.2f}입니다'.format(alpha, rmse))"
   ]
  },
  {
   "cell_type": "markdown",
   "id": "758facff-c88d-4642-99cc-4274b557bb20",
   "metadata": {},
   "source": [
    "`-` $\\alpha$가 작아질수록 평균 에러가 작아진다"
   ]
  },
  {
   "cell_type": "markdown",
   "id": "4ea4ff43-a9d6-4471-90aa-7e986816278d",
   "metadata": {},
   "source": [
    "### $\\alpha$에 따른 회귀 계수 시각화"
   ]
  },
  {
   "cell_type": "code",
   "execution_count": 22,
   "id": "d447ee4b-c2d6-4c66-a073-a262b3c775d5",
   "metadata": {},
   "outputs": [],
   "source": [
    "import matplotlib.pyplot as plt\n",
    "import seaborn as sns"
   ]
  },
  {
   "cell_type": "code",
   "execution_count": 214,
   "id": "7fe50e98-470c-459c-94dc-81da2b79ab1c",
   "metadata": {},
   "outputs": [
    {
     "data": {
      "image/png": "[encoded data removed]",
      "text/plain": [
       "<Figure size 864x576 with 6 Axes>"
      ]
     },
     "metadata": {
      "needs_background": "light"
     },
     "output_type": "display_data"
    }
   ],
   "source": [
    "fig, axs = plt.subplots(2, 3, figsize = (12, 8))\n",
    "colors = sns.color_palette('husl', 6)\n",
    "coeff_df = pd.DataFrame()\n",
    "alphas = [0.01, 0.1, 1, 10, 50, 100]\n",
    "\n",
    "for i, alpha in enumerate(alphas):\n",
    "    ridge = Ridge(alpha = alpha)\n",
    "    ridge.fit(x_train, y_train)\n",
    "\n",
    "    coeff = pd.Series(data = ridge.coef_, index = x_train.columns)\n",
    "    colname = 'alpha = ' + str(alpha)\n",
    "    coeff_df[colname] = coeff\n",
    "\n",
    "    axs[i//3][i%3].set_title(colname)\n",
    "    axs[i//3][i%3].set_xlim(min(coeff),max(coeff))\n",
    "    sns.barplot(x = coeff.values, y = coeff.index, palette = colors, ax = axs[i//3][i%3])\n",
    "    if i != 0 and i != 3:\n",
    "        axs[i//3][i%3].set(yticklabels = [])   \n",
    "        axs[i//3][i%3].set(ylabel = None)\n",
    "        axs[i//3][i%3].tick_params(left = False)  \n",
    "\n",
    "fig.suptitle('Ridge', fontsize = 16)\n",
    "fig.tight_layout()"
   ]
  },
  {
   "cell_type": "markdown",
   "id": "d73eb27b-30a5-4294-976b-4205baea531c",
   "metadata": {},
   "source": [
    "`-` $\\alpha$가 커짐에 따라 회귀계수가 작아진다"
   ]
  },
  {
   "cell_type": "markdown",
   "id": "5f22d9f7-7ed7-40ed-8f69-5be1ecd217b3",
   "metadata": {
    "tags": []
   },
   "source": [
    "## 라쏘 회귀(Lasso Regressor)"
   ]
  },
  {
   "cell_type": "code",
   "execution_count": 23,
   "id": "81ebd7e4-b379-452d-bcbd-7e39a6f38302",
   "metadata": {},
   "outputs": [],
   "source": [
    "from sklearn.linear_model import Lasso"
   ]
  },
  {
   "cell_type": "markdown",
   "id": "d4388c00-efef-4ed8-ae1f-215b7b0879ba",
   "metadata": {},
   "source": [
    "`-` $\\alpha$가 커짐에 따라 계수가 $0$되는 항이 많아진다"
   ]
  },
  {
   "cell_type": "code",
   "execution_count": 175,
   "id": "8290c8eb-69e5-4ded-a802-ad9a2726d50d",
   "metadata": {},
   "outputs": [
    {
     "name": "stdout",
     "output_type": "stream",
     "text": [
      "𝛼가 0.01일 때 이 방정식의 평균 에러는 268.00입니다\n",
      "𝛼가 0.1일 때 이 방정식의 평균 에러는 267.67입니다\n",
      "𝛼가 1일 때 이 방정식의 평균 에러는 264.49입니다\n",
      "𝛼가 10일 때 이 방정식의 평균 에러는 255.46입니다\n",
      "𝛼가 50일 때 이 방정식의 평균 에러는 311.57입니다\n",
      "𝛼가 100일 때 이 방정식의 평균 에러는 327.98입니다\n"
     ]
    }
   ],
   "source": [
    "alphas = [0.01, 0.1, 1, 10, 50, 100]\n",
    "\n",
    "## alpha 값들에 대해 rmse를 구함\n",
    "for alpha in alphas:\n",
    "    lasso = Lasso(alpha = alpha)\n",
    "    lasso.fit(x_train, y_train) ## 모델 학습\n",
    "    y_predict = lasso.predict(x_valid) ## 모델 예측\n",
    "    rmse = RMSE(y_predict, y_valid) ## 예측값과 실제값을 통해 RMSE를 구함\n",
    "    print('𝛼가 {}일 때 이 방정식의 평균 에러는 {:.2f}입니다'.format(alpha, rmse))"
   ]
  },
  {
   "cell_type": "code",
   "execution_count": 215,
   "id": "e1618c60-ca8c-4aac-97b7-af51f2d02345",
   "metadata": {},
   "outputs": [
    {
     "data": {
      "image/png": "[encoded data removed]",
      "text/plain": [
       "<Figure size 864x576 with 6 Axes>"
      ]
     },
     "metadata": {
      "needs_background": "light"
     },
     "output_type": "display_data"
    }
   ],
   "source": [
    "fig, axs = plt.subplots(2, 3, figsize = (12, 8))\n",
    "colors = sns.color_palette('husl', 6)\n",
    "coeff_df = pd.DataFrame()\n",
    "alphas = [0.01, 0.1, 1, 10, 50, 100]\n",
    "\n",
    "for i, alpha in enumerate(alphas):\n",
    "    lasso = Lasso(alpha = alpha)\n",
    "    lasso.fit(x_train, y_train)\n",
    "\n",
    "    coeff = pd.Series(data = lasso.coef_, index = x_train.columns)\n",
    "    colname = 'alpha = ' + str(alpha)\n",
    "    coeff_df[colname] = coeff\n",
    "\n",
    "    axs[i//3][i%3].set_title(colname)\n",
    "    axs[i//3][i%3].set_xlim(min(coeff),max(coeff))\n",
    "    sns.barplot(x = coeff.values, y = coeff.index, palette = colors, ax = axs[i//3][i%3])\n",
    "    if i != 0 and i != 3:\n",
    "        axs[i//3][i%3].set(yticklabels = [])   \n",
    "        axs[i//3][i%3].set(ylabel = None)\n",
    "        axs[i//3][i%3].tick_params(left = False)  \n",
    "\n",
    "fig.suptitle('Lasso', fontsize = 16)\n",
    "fig.tight_layout()"
   ]
  },
  {
   "cell_type": "markdown",
   "id": "a8fabda0-04c8-41bb-b152-899fbac9f733",
   "metadata": {},
   "source": [
    "## 엘라스틱 넷(Elastic Net)"
   ]
  },
  {
   "cell_type": "markdown",
   "id": "c06012f2-fdf5-4519-a695-aa0fa2d5c0fa",
   "metadata": {},
   "source": [
    "`-` 라쏘 회귀에서의 규제항(L1)과 릿지 회귀에서의 규제항(L2)을 비율에 따라 혼합한 규제항을 사용 "
   ]
  },
  {
   "cell_type": "code",
   "execution_count": 30,
   "id": "629a7807-b9ae-44c2-bed1-da94210d2e35",
   "metadata": {},
   "outputs": [],
   "source": [
    "from sklearn.linear_model import ElasticNet"
   ]
  },
  {
   "cell_type": "code",
   "execution_count": 198,
   "id": "02c38052-e372-4d08-bf9c-515048884a84",
   "metadata": {},
   "outputs": [
    {
     "name": "stdout",
     "output_type": "stream",
     "text": [
      "𝛼가 0.01이고 L1_raio가 0.05일 때 이 방정식의 평균 에러는 268.85입니다\n",
      "𝛼가 0.01이고 L1_raio가 0.2일 때 이 방정식의 평균 에러는 268.62입니다\n",
      "𝛼가 0.01이고 L1_raio가 0.5일 때 이 방정식의 평균 에러는 268.25입니다\n",
      "𝛼가 0.01이고 L1_raio가 0.8일 때 이 방정식의 평균 에러는 268.04입니다\n",
      "𝛼가 0.01이고 L1_raio가 0.95일 때 이 방정식의 평균 에러는 268.00입니다\n",
      "\n",
      "𝛼가 0.1이고 L1_raio가 0.05일 때 이 방정식의 평균 에러는 288.65입니다\n",
      "𝛼가 0.1이고 L1_raio가 0.2일 때 이 방정식의 평균 에러는 285.76입니다\n",
      "𝛼가 0.1이고 L1_raio가 0.5일 때 이 방정식의 평균 에러는 278.81입니다\n",
      "𝛼가 0.1이고 L1_raio가 0.8일 때 이 방정식의 평균 에러는 270.86입니다\n",
      "𝛼가 0.1이고 L1_raio가 0.95일 때 이 방정식의 평균 에러는 267.96입니다\n",
      "\n",
      "𝛼가 1이고 L1_raio가 0.05일 때 이 방정식의 평균 에러는 318.07입니다\n",
      "𝛼가 1이고 L1_raio가 0.2일 때 이 방정식의 평균 에러는 316.89입니다\n",
      "𝛼가 1이고 L1_raio가 0.5일 때 이 방정식의 평균 에러는 313.02입니다\n",
      "𝛼가 1이고 L1_raio가 0.8일 때 이 방정식의 평균 에러는 301.27입니다\n",
      "𝛼가 1이고 L1_raio가 0.95일 때 이 방정식의 평균 에러는 277.80입니다\n",
      "\n",
      "𝛼가 10이고 L1_raio가 0.05일 때 이 방정식의 평균 에러는 332.59입니다\n",
      "𝛼가 10이고 L1_raio가 0.2일 때 이 방정식의 평균 에러는 331.16입니다\n",
      "𝛼가 10이고 L1_raio가 0.5일 때 이 방정식의 평균 에러는 328.05입니다\n",
      "𝛼가 10이고 L1_raio가 0.8일 때 이 방정식의 평균 에러는 323.53입니다\n",
      "𝛼가 10이고 L1_raio가 0.95일 때 이 방정식의 평균 에러는 314.74입니다\n",
      "\n"
     ]
    }
   ],
   "source": [
    "alphas = [0.01, 0.1, 1, 10]\n",
    "L1_ratios = [0.05, 0.2, 0.5, 0.8, 0.95]\n",
    "## alpha 값들에 대해 rmse를 구함\n",
    "for alpha in alphas:\n",
    "    for L1_ratio in L1_ratios:\n",
    "        elastic_net = ElasticNet(alpha = alpha, l1_ratio = L1_ratio)\n",
    "        elastic_net.fit(x_train, y_train) ## 모델 학습\n",
    "        y_predict = elastic_net.predict(x_valid) ## 모델 예측\n",
    "        rmse = RMSE(y_predict, y_valid) ## 예측값과 실제값을 통해 RMSE를 구함\n",
    "        print('𝛼가 {}이고 L1_raio가 {}일 때 이 방정식의 평균 에러는 {:.2f}입니다'.format(alpha, L1_ratio, rmse))\n",
    "    print('\\n', end = '')"
   ]
  },
  {
   "cell_type": "markdown",
   "id": "f8c3a698-e698-4422-8b86-455084276fb8",
   "metadata": {},
   "source": [
    "`-` 뗑컨 데이터에 대해서는 일라스틱 넷에서 L1_ratio가 높을수록 RMSE가 작다\n",
    "\n",
    "`-` 릿지, 라쏘와 엘라스틱 넷의 차이를 느끼고자 L1_ratio는 0.5로 하자"
   ]
  },
  {
   "cell_type": "code",
   "execution_count": 216,
   "id": "758ef40b-fee2-4d9a-9a0d-adc6b0f7c2fc",
   "metadata": {},
   "outputs": [
    {
     "data": {
      "image/png": "[encoded data removed]",
      "text/plain": [
       "<Figure size 864x576 with 6 Axes>"
      ]
     },
     "metadata": {
      "needs_background": "light"
     },
     "output_type": "display_data"
    }
   ],
   "source": [
    "fig, axs = plt.subplots(2, 3, figsize = (12, 8))\n",
    "colors = sns.color_palette('husl', 6)\n",
    "coeff_df = pd.DataFrame()\n",
    "alphas = [0.01, 0.1, 1, 10, 50, 100]\n",
    "\n",
    "for i, alpha in enumerate(alphas):\n",
    "    elastic_net = ElasticNet(alpha = alpha)\n",
    "    elastic_net.fit(x_train, y_train)\n",
    "\n",
    "    coeff = pd.Series(data = elastic_net.coef_, index = x_train.columns)\n",
    "    colname = 'alpha = ' + str(alpha)\n",
    "    coeff_df[colname] = coeff\n",
    "\n",
    "    axs[i//3][i%3].set_title(colname)\n",
    "    axs[i//3][i%3].set_xlim(min(coeff),max(coeff))\n",
    "    sns.barplot(x = coeff.values, y = coeff.index, palette = colors, ax = axs[i//3][i%3])\n",
    "    if i != 0 and i != 3:\n",
    "        axs[i//3][i%3].set(yticklabels = [])   \n",
    "        axs[i//3][i%3].set(ylabel = None)\n",
    "        axs[i//3][i%3].tick_params(left = False)  \n",
    "\n",
    "fig.suptitle('Elastic Net', fontsize = 16)\n",
    "fig.tight_layout()"
   ]
  },
  {
   "cell_type": "markdown",
   "id": "184380b3-60fa-48f8-afbd-6538161d3f64",
   "metadata": {},
   "source": [
    "`-` 회귀계수들이 작아지고 계수가 $0$인 변수도 존재한다"
   ]
  },
  {
   "cell_type": "markdown",
   "id": "039eaaee-fce1-4ba8-a5da-1f7394bcbe9a",
   "metadata": {},
   "source": [
    "## 라쏘 회귀 + 교호작용 + 표준화"
   ]
  },
  {
   "cell_type": "markdown",
   "id": "4cdcd6de-d37c-4310-b73b-0ea456917dd7",
   "metadata": {},
   "source": [
    "`-` EDA에서는 특별히 교호작용항 추가의 필요성을 느끼지 못했는데 이를 라쏘 회귀를 통해 확인하자"
   ]
  },
  {
   "cell_type": "markdown",
   "id": "1f6001e9-d9d8-4a67-b9f2-373703e07985",
   "metadata": {},
   "source": [
    "### 교호작용항 추가"
   ]
  },
  {
   "cell_type": "code",
   "execution_count": 24,
   "id": "4e1da12b-7ea5-4f9a-93d9-89842819b50e",
   "metadata": {},
   "outputs": [],
   "source": [
    "numeric_features = df.columns[(df.dtypes == np.int64) | (df.dtypes == float)][:-1]\n",
    "categorical_features = df.columns[df.dtypes == 'O']"
   ]
  },
  {
   "cell_type": "code",
   "execution_count": 29,
   "id": "140452b8-08de-4dd6-bccd-2974544e5bfe",
   "metadata": {},
   "outputs": [],
   "source": [
    "def poly(df):\n",
    "    df2 = df.copy()\n",
    "    for categorical_feature in categorical_features:\n",
    "        if categorical_feature in df2.columns:\n",
    "            for numeric_feature in numeric_features:\n",
    "                if numeric_feature in df2.columns:\n",
    "                    df2[categorical_feature + '_' + numeric_feature] = df2[categorical_feature] * df2[numeric_feature]\n",
    "    return df2"
   ]
  },
  {
   "cell_type": "code",
   "execution_count": 39,
   "id": "80351470-62e3-4e17-813e-a44abd044b52",
   "metadata": {},
   "outputs": [],
   "source": [
    "x_poly_train = poly(x_train)\n",
    "x_poly_valid = poly(x_valid)"
   ]
  },
  {
   "cell_type": "code",
   "execution_count": 34,
   "id": "4bae3461-f211-4226-80c8-d7bec73c54d6",
   "metadata": {},
   "outputs": [
    {
     "data": {
      "text/plain": [
       "((91, 9), (91, 29))"
      ]
     },
     "execution_count": 34,
     "metadata": {},
     "output_type": "execute_result"
    }
   ],
   "source": [
    "x_train.shape, x_poly_train.shape  ## 교호작용항을 추가하니 피쳐의 수가 9에서 29로 늘어났다"
   ]
  },
  {
   "cell_type": "markdown",
   "id": "7d45760a-c7df-4c4a-8da9-bd4d7c7fdbe6",
   "metadata": {},
   "source": [
    "### 표준화"
   ]
  },
  {
   "cell_type": "markdown",
   "id": "dbb0c86d-4812-41bb-8aba-89e098bc4bad",
   "metadata": {},
   "source": [
    "`-` 위의 교호작용항을 추가한 train, valid 셋을 표준화해주자"
   ]
  },
  {
   "cell_type": "code",
   "execution_count": 40,
   "id": "f9c4e5c7-9ef4-4400-814c-a5728df71a60",
   "metadata": {},
   "outputs": [],
   "source": [
    "from sklearn.preprocessing import StandardScaler\n",
    "\n",
    "## 스케일러 생성\n",
    "standard_scaler = StandardScaler()\n",
    "\n",
    "## 트레인집합 정규화\n",
    "x_poly_train_scaled = standard_scaler.fit_transform(x_poly_train)\n",
    "x_poly_train_scaled_df = pd.DataFrame(data = x_poly_train_scaled, columns = x_poly_train.columns)\n",
    "\n",
    "## 테스트집합 정규화\n",
    "x_poly_valid_scaled = standard_scaler.transform(x_poly_valid) ## x_train에서 학습한 정규화방식을 그대로 x_valid에 적용\n",
    "x_poly_valid_scaled_df = pd.DataFrame(data = x_poly_valid_scaled, columns = x_poly_valid.columns)"
   ]
  },
  {
   "cell_type": "markdown",
   "id": "e421fd02-ac82-4663-8f45-22672d2c1425",
   "metadata": {},
   "source": [
    "### 라쏘 회귀"
   ]
  },
  {
   "cell_type": "markdown",
   "id": "2da1f9b8-0502-42dd-b58d-2fd3d20182d8",
   "metadata": {},
   "source": [
    "`-` $\\alpha$에 따른 rmse를 구해보자"
   ]
  },
  {
   "cell_type": "code",
   "execution_count": 31,
   "id": "b5e7d908-77e2-4901-be70-7486173cfe12",
   "metadata": {},
   "outputs": [
    {
     "name": "stdout",
     "output_type": "stream",
     "text": [
      "𝛼가 0.3일 때 이 방정식의 평균 에러는 224.92입니다\n",
      "𝛼가 0.5일 때 이 방정식의 평균 에러는 237.58입니다\n",
      "𝛼가 0.6일 때 이 방정식의 평균 에러는 243.05입니다\n",
      "𝛼가 0.7일 때 이 방정식의 평균 에러는 246.01입니다\n",
      "𝛼가 0.8일 때 이 방정식의 평균 에러는 248.03입니다\n",
      "𝛼가 0.9일 때 이 방정식의 평균 에러는 250.25입니다\n",
      "𝛼가 0.99일 때 이 방정식의 평균 에러는 252.43입니다\n"
     ]
    }
   ],
   "source": [
    "alphas = [0.3, 0.5, 0.6, 0.7, 0.8, 0.9, 0.99]\n",
    "for alpha in alphas:\n",
    "    lasso = Lasso(alpha = alpha, max_iter = 20000, random_state = 21)\n",
    "    lasso.fit(x_poly_train_scaled_df, y_train)\n",
    "    y_predict = lasso.predict(x_poly_valid_scaled_df) ## 모델 예측\n",
    "    rmse = RMSE(y_predict, y_valid) ## 예측값과 실제값을 통해 RMSE를 구함\n",
    "    print('𝛼가 {}일 때 이 방정식의 평균 에러는 {:.2f}입니다'.format(alpha, rmse))"
   ]
  },
  {
   "cell_type": "markdown",
   "id": "17f0b6c8-dc05-40a4-9cc3-01c55c711be4",
   "metadata": {},
   "source": [
    "`-` $\\alpha$가 작다는것은 규제를 적게 한다는 의미 ---> 오버피팅 가능성 높아짐\n",
    "\n",
    "`-` 피쳐수도 29개라 $\\alpha$를 크게하는것이 일반화에 좋을 것 임"
   ]
  },
  {
   "cell_type": "markdown",
   "id": "f1cb1189-3464-40c8-b02d-6b94e55a62f0",
   "metadata": {},
   "source": [
    "`-` $\\alpha$값으로 $0.7$을 선택하자"
   ]
  },
  {
   "cell_type": "code",
   "execution_count": 42,
   "id": "4d310f78-8ef3-44e4-9bf6-832ff839757a",
   "metadata": {
    "tags": []
   },
   "outputs": [],
   "source": [
    "lasso_07 = Lasso(alpha = 0.7, max_iter = 20000, random_state = 21)\n",
    "lasso_07.fit(x_poly_train_scaled_df, y_train)\n",
    "train_predict = lasso_07.predict(x_poly_train_scaled_df) ## train 예측값 \n",
    "residuals = y_train - train_predict ## 잔차 = 실제값 - 예측값  "
   ]
  },
  {
   "cell_type": "markdown",
   "id": "de7c108d-48e9-411c-952a-a92062c46d37",
   "metadata": {},
   "source": [
    "`-` 잔차와 적합치 그림"
   ]
  },
  {
   "cell_type": "code",
   "execution_count": 43,
   "id": "b75da3f2-de55-42f1-96b6-6594c0f0ce8a",
   "metadata": {},
   "outputs": [
    {
     "data": {
      "text/plain": [
       "Text(0.5, 1.0, 'fitted vs residual')"
      ]
     },
     "execution_count": 43,
     "metadata": {},
     "output_type": "execute_result"
    },
    {
     "data": {
      "image/png": "[encoded data removed]",
      "text/plain": [
       "<Figure size 432x288 with 1 Axes>"
      ]
     },
     "metadata": {
      "needs_background": "light"
     },
     "output_type": "display_data"
    }
   ],
   "source": [
    "plt.plot(y_train, residuals, '.k')\n",
    "plt.axhline(0, 0.0, 1.0, color = 'red')\n",
    "plt.title('fitted vs residual')"
   ]
  },
  {
   "cell_type": "markdown",
   "id": "73f2272b-7dcf-4440-a9f1-bcc9b951f2ad",
   "metadata": {},
   "source": [
    "`-` 나쁘지 않은 것 같다"
   ]
  },
  {
   "cell_type": "markdown",
   "id": "bd9feefa-fe86-4784-944a-5fddba75fa64",
   "metadata": {},
   "source": [
    "`-` 잔차의 히스토그램"
   ]
  },
  {
   "cell_type": "code",
   "execution_count": 44,
   "id": "1a998feb-8e0b-4b82-b15a-a302d56995d9",
   "metadata": {},
   "outputs": [
    {
     "data": {
      "text/plain": [
       "<AxesSubplot:>"
      ]
     },
     "execution_count": 44,
     "metadata": {},
     "output_type": "execute_result"
    },
    {
     "data": {
      "image/png": "[encoded data removed]",
      "text/plain": [
       "<Figure size 432x288 with 1 Axes>"
      ]
     },
     "metadata": {
      "needs_background": "light"
     },
     "output_type": "display_data"
    }
   ],
   "source": [
    "residuals.hist()"
   ]
  },
  {
   "cell_type": "markdown",
   "id": "4fea9ee8-7789-4682-8172-b84703bff59e",
   "metadata": {},
   "source": [
    "`-` 종모양이고 이상점이 있긴한데 개수가 적어서 괜찮은 것 같다"
   ]
  },
  {
   "cell_type": "markdown",
   "id": "9fa761b2-27b9-454a-abd5-1784748d814f",
   "metadata": {},
   "source": [
    "### 라쏘 회귀 최적$\\alpha$ 선택"
   ]
  },
  {
   "cell_type": "markdown",
   "id": "d6202e09-066b-48cd-a895-dc0a2819c5b3",
   "metadata": {},
   "source": [
    "`-` train rmse, test rmse 시각화"
   ]
  },
  {
   "cell_type": "code",
   "execution_count": 67,
   "id": "def18191-5296-44d6-b05c-7e38abe56635",
   "metadata": {},
   "outputs": [],
   "source": [
    "train_rmse_list, valid_rmse_list = [], []\n",
    "alphas = np.linspace(0.01, 0.99, 100)\n",
    "\n",
    "for alpha in alphas:\n",
    "    lasso = Lasso(alpha = alpha, max_iter = 150000, random_state = 21)\n",
    "    lasso.fit(x_poly_train_scaled_df, y_train)\n",
    "    \n",
    "    train_predict = lasso.predict(x_poly_train_scaled_df) ## 훈련집합 예측\n",
    "    y_predict = lasso.predict(x_poly_valid_scaled_df) ## valid셋 예측\n",
    "    \n",
    "    train_rmse = RMSE(train_predict, y_train)\n",
    "    valid_rmse = RMSE(y_predict, y_valid)\n",
    "    train_rmse_list.append(train_rmse)\n",
    "    valid_rmse_list.append(valid_rmse)"
   ]
  },
  {
   "cell_type": "code",
   "execution_count": 71,
   "id": "9fdd3097-0325-4bba-8795-528025de7e77",
   "metadata": {},
   "outputs": [
    {
     "data": {
      "text/plain": [
       "<matplotlib.legend.Legend at 0x2058295c9a0>"
      ]
     },
     "execution_count": 71,
     "metadata": {},
     "output_type": "execute_result"
    },
    {
     "data": {
      "image/png": "[encoded data removed]",
      "text/plain": [
       "<Figure size 432x288 with 1 Axes>"
      ]
     },
     "metadata": {
      "needs_background": "light"
     },
     "output_type": "display_data"
    }
   ],
   "source": [
    "plt.plot(alphas, train_rmse_list, 'b--', label = 'train set')\n",
    "plt.plot(alphas, valid_rmse_list, 'r--', label = 'valid set')\n",
    "plt.title('alpha and rmse')\n",
    "plt.legend()"
   ]
  },
  {
   "cell_type": "markdown",
   "id": "f848d163-2743-409d-8deb-86760d96b35e",
   "metadata": {},
   "source": [
    "`-` 훈련 집합에 대해서는 $\\alpha$가 작을수록 RMSE가 작다\n",
    "\n",
    "`-` 테스트 집합에 대해서는 $\\alpha = 0.1$일 때 RMSE가 가장 작고 증가한다\n",
    "\n",
    "`-` 최적 $\\alpha$값은 $0.7$ 부근인 것 같다(train 그래프와 valid 그래프 사이의 거리가 가장 작은 지점으로 골랐음"
   ]
  },
  {
   "cell_type": "markdown",
   "id": "bbd2129e-ed2d-41e1-bcb5-617024c4300c",
   "metadata": {},
   "source": [
    "## 라쏘 회귀 + 교호작용 + 표준화 + 하이퍼 파라미터 깎기"
   ]
  },
  {
   "cell_type": "markdown",
   "id": "8b2f5461-fe0d-4134-a369-a4a35a95a471",
   "metadata": {},
   "source": [
    "`-` 어떤 피쳐를 포함하는 것이 좋을지와 $\\alpha$를 무엇으로 정할지를 고려하자\n",
    "\n",
    "`-` 일단 내 생각엔 Full_clutch는 필요없고 Species가 있으면 Island도 필요없다\n",
    "\n",
    "`-` Species와 Island 둘 다 있으면 과적합이 될 것 같다\n",
    "\n",
    "`-` 일단 범주형변수와 양적변수사이에 교호작용항을 추가하는 것은 나쁘지 않음\n",
    "\n",
    "`-` EDA로 보면 큰 차이는 아닌데 범주형변수에 따라 양적변수들의 산점도에서 기울기가 다름\n",
    "\n",
    "`-` 양적변수와 양적변수사이에 교호작용항을 추가하는 것은 별로라고 생각함\n",
    "\n",
    "`-` 교호작용이 있다면 기울기가 갑자기 변하는 구간이 있을것인데 그러한 모습은 보이지 않았기 때문(내가 잘못본게 아니라면)"
   ]
  },
  {
   "cell_type": "markdown",
   "id": "baa5151e-0b70-44af-a895-41c6f58662b5",
   "metadata": {
    "tags": []
   },
   "source": [
    "### Full_Clutch와 Island 드랍"
   ]
  },
  {
   "cell_type": "code",
   "execution_count": 41,
   "id": "278c22f6-f2aa-4c4e-b235-d2dafa683dbd",
   "metadata": {},
   "outputs": [],
   "source": [
    "x_train2 = x_train.drop(['Full_Clutch', 'Island'], axis = 1)\n",
    "x_valid2 = x_valid.drop(['Full_Clutch', 'Island'], axis = 1)"
   ]
  },
  {
   "cell_type": "markdown",
   "id": "ab394a5f-65ab-40db-954b-e0eca43f1d28",
   "metadata": {},
   "source": [
    "`-` 교호작용항을 추가하자"
   ]
  },
  {
   "cell_type": "code",
   "execution_count": 42,
   "id": "510eaab8-e732-4ee7-8b83-d543c7d5ef02",
   "metadata": {},
   "outputs": [],
   "source": [
    "x_poly_train2 = poly(x_train2)\n",
    "x_poly_valid2 = poly(x_valid2)"
   ]
  },
  {
   "cell_type": "code",
   "execution_count": 43,
   "id": "ef990f84-9640-42f8-879c-031320554d59",
   "metadata": {},
   "outputs": [],
   "source": [
    "## 스케일러 생성\n",
    "standard_scaler = StandardScaler()\n",
    "\n",
    "## 트레인집합 정규화\n",
    "x_poly_train2_scaled = standard_scaler.fit_transform(x_poly_train2)\n",
    "x_poly_train2_scaled_df = pd.DataFrame(data = x_poly_train2_scaled, columns = x_poly_train2.columns)\n",
    "\n",
    "## 테스트집합 정규화\n",
    "x_poly_valid2_scaled = standard_scaler.transform(x_poly_valid2) ## x_train에서 학습한 정규화방식을 그대로 x_valid에 적용\n",
    "x_poly_valid2_scaled_df = pd.DataFrame(data = x_poly_valid2_scaled, columns = x_poly_valid2.columns)"
   ]
  },
  {
   "cell_type": "markdown",
   "id": "ae88a769-8b6b-4557-b477-d8e6ccbe048a",
   "metadata": {},
   "source": [
    "`-` $\\alpha$ 선택"
   ]
  },
  {
   "cell_type": "code",
   "execution_count": 48,
   "id": "e69f8a5e-423e-48ae-910a-f63e0c12be5c",
   "metadata": {},
   "outputs": [
    {
     "name": "stdout",
     "output_type": "stream",
     "text": [
      "𝛼가 0.3일 때 이 방정식의 평균 에러는 254.64입니다\n",
      "𝛼가 0.5일 때 이 방정식의 평균 에러는 257.47입니다\n",
      "𝛼가 0.7일 때 이 방정식의 평균 에러는 256.63입니다\n",
      "𝛼가 0.9일 때 이 방정식의 평균 에러는 255.70입니다\n",
      "𝛼가 5일 때 이 방정식의 평균 에러는 257.75입니다\n",
      "𝛼가 10일 때 이 방정식의 평균 에러는 257.76입니다\n"
     ]
    }
   ],
   "source": [
    "alphas = [0.3, 0.5, 0.7, 0.9, 5, 10]\n",
    "for alpha in alphas:\n",
    "    lasso = Lasso(alpha = alpha, max_iter = 20000, random_state = 21)\n",
    "    lasso.fit(x_poly_train2_scaled_df, y_train)\n",
    "    y_predict = lasso.predict(x_poly_valid2_scaled_df) ## 모델 예측\n",
    "    rmse = RMSE(y_predict, y_valid) ## 예측값과 실제값을 통해 RMSE를 구함\n",
    "    print('𝛼가 {}일 때 이 방정식의 평균 에러는 {:.2f}입니다'.format(alpha, rmse))"
   ]
  },
  {
   "cell_type": "markdown",
   "id": "ef114070-6e09-417f-a246-373e932ef499",
   "metadata": {},
   "source": [
    "`-` Full_Clutch와 Island 드랍하지 않은 모델과 비교하면 rmse가 더 크다\n",
    "\n",
    "`-` 하지만 $\\alpha$값 변화에 따른 rmse의 변화폭은 훨씩 작기에 일반화 능력은 더 좋은 것 같다"
   ]
  },
  {
   "cell_type": "markdown",
   "id": "b36c81fa-c732-49c1-b5f0-af73b9889e05",
   "metadata": {},
   "source": [
    "`-` 최적의 $\\alpha$값을 선택해보자"
   ]
  },
  {
   "cell_type": "code",
   "execution_count": 294,
   "id": "dce15ef7-963b-4724-bd75-c834950fc6f6",
   "metadata": {},
   "outputs": [],
   "source": [
    "train2_rmse_list, valid2_rmse_list = [], []\n",
    "train2_r2_list, valid2_r2_list = [], []\n",
    "alphas = np.linspace(0.01, 20, 300)\n",
    "\n",
    "for alpha in alphas:\n",
    "    lasso = Lasso(alpha = alpha, max_iter = 150000, random_state = 21)\n",
    "    lasso.fit(x_poly_train2_scaled_df, y_train)\n",
    "    \n",
    "    train_predict = lasso.predict(x_poly_train2_scaled_df) ## 훈련집합 예측\n",
    "    y_predict = lasso.predict(x_poly_valid2_scaled_df) ## valid셋 예측\n",
    "    \n",
    "    train_rmse = RMSE(train_predict, y_train) ## rmse\n",
    "    valid_rmse = RMSE(y_predict, y_valid)\n",
    "    train2_rmse_list.append(train_rmse)\n",
    "    valid2_rmse_list.append(valid_rmse)\n",
    "    \n",
    "    train_r2 = lasso.score(x_poly_train2_scaled_df, y_train) ## 결정계수(R^2)\n",
    "    valid_r2 = lasso.score(x_poly_valid2_scaled_df, y_valid)\n",
    "    train2_r2_list.append(train_r2)\n",
    "    valid2_r2_list.append(valid_r2)"
   ]
  },
  {
   "cell_type": "markdown",
   "id": "c803375d-7a6b-4eec-9119-dd017d42f785",
   "metadata": {},
   "source": [
    "#### $R^2$ 시각화"
   ]
  },
  {
   "cell_type": "code",
   "execution_count": 295,
   "id": "f4c2e1c3-f888-4ab4-91aa-e322780a856b",
   "metadata": {},
   "outputs": [
    {
     "data": {
      "text/plain": [
       "<matplotlib.legend.Legend at 0x1f1e74c6a30>"
      ]
     },
     "execution_count": 295,
     "metadata": {},
     "output_type": "execute_result"
    },
    {
     "data": {
      "image/png": "[encoded data removed]",
      "text/plain": [
       "<Figure size 432x288 with 1 Axes>"
      ]
     },
     "metadata": {
      "needs_background": "light"
     },
     "output_type": "display_data"
    }
   ],
   "source": [
    "plt.plot(alphas, train2_r2_list, 'b--', label = 'train set')\n",
    "plt.plot(alphas, valid2_r2_list, 'r--', label = 'valid set')\n",
    "plt.title('alpha and $R^2$')\n",
    "plt.legend()"
   ]
  },
  {
   "cell_type": "markdown",
   "id": "549bfbc9-a4eb-4993-b3d3-3f0c6f46dcca",
   "metadata": {},
   "source": [
    "`-` 둘의 $R^2$ 차이가 크다면 오버피팅으로 볼 수 있다\n",
    "\n",
    "`-` 반대로 차이가 작다면 적합이 잘 되었다고 볼 수 있다"
   ]
  },
  {
   "cell_type": "markdown",
   "id": "2e4f666d-92f3-4882-a7ae-680fda1d732e",
   "metadata": {},
   "source": [
    "#### RMSE(추정오차의 표준편차) 시각화"
   ]
  },
  {
   "cell_type": "code",
   "execution_count": 296,
   "id": "1f9bbfe6-fdf4-46eb-8da1-38f4588aade4",
   "metadata": {},
   "outputs": [
    {
     "data": {
      "text/plain": [
       "<matplotlib.legend.Legend at 0x1f1e7526a90>"
      ]
     },
     "execution_count": 296,
     "metadata": {},
     "output_type": "execute_result"
    },
    {
     "data": {
      "image/png": "[encoded data removed]",
      "text/plain": [
       "<Figure size 432x288 with 1 Axes>"
      ]
     },
     "metadata": {
      "needs_background": "light"
     },
     "output_type": "display_data"
    }
   ],
   "source": [
    "plt.plot(alphas, train2_rmse_list, 'b--', label = 'train set')\n",
    "plt.plot(alphas, valid2_rmse_list, 'r--', label = 'valid set')\n",
    "plt.title('alpha and rmse')\n",
    "plt.legend()"
   ]
  },
  {
   "cell_type": "markdown",
   "id": "b7577dbb-7680-4dac-b023-2cfcc6749a88",
   "metadata": {},
   "source": [
    "`-` 종합해보면 $\\alpha = 0.4$일 때가 최적으로 보인다\n",
    "\n",
    "`-` 정확하게 하자면 $\\alpha \\approx 0.45545$\n",
    "\n",
    "`-` 테스트 해봤는데 $\\alpha = 0.4$일 때가 제출점수가 더 우수했다"
   ]
  },
  {
   "cell_type": "code",
   "execution_count": 926,
   "id": "bae38253-b35e-4eb1-99e2-caa69b580bff",
   "metadata": {},
   "outputs": [
    {
     "data": {
      "text/plain": [
       "Lasso(alpha=0.4, max_iter=150000, random_state=21)"
      ]
     },
     "execution_count": 926,
     "metadata": {},
     "output_type": "execute_result"
    }
   ],
   "source": [
    "lasso_04 = Lasso(alpha = 0.4, max_iter = 150000, random_state = 21)\n",
    "lasso_04.fit(x_poly_train2_scaled_df, y_train) ## 라쏘 회귀모형을 train셋을 이용해 학습시킨다"
   ]
  },
  {
   "cell_type": "code",
   "execution_count": 48,
   "id": "479ab995-6994-45d0-ae89-4ddbcf51bf3c",
   "metadata": {},
   "outputs": [],
   "source": [
    "train_predict = lasso_04.predict(x_poly_train2_scaled_df) ## train셋을 통해 학습된 모델을 통해 train셋을 예측"
   ]
  },
  {
   "cell_type": "code",
   "execution_count": 49,
   "id": "48e7b2ca-1268-4264-b483-2bdc4611ce45",
   "metadata": {
    "tags": []
   },
   "outputs": [],
   "source": [
    "residuals = y_train - train_predict ## 잔차 = 실제값 - 예측값  "
   ]
  },
  {
   "cell_type": "markdown",
   "id": "51d04ff0-7304-459c-81d2-4fef2266eb41",
   "metadata": {},
   "source": [
    "#### 잔차와 적합치 그림"
   ]
  },
  {
   "cell_type": "code",
   "execution_count": 42,
   "id": "f85e7d3b-f754-43c5-8fbd-6090b595e798",
   "metadata": {},
   "outputs": [
    {
     "data": {
      "text/plain": [
       "Text(0.5, 1.0, 'fitted vs residual')"
      ]
     },
     "execution_count": 42,
     "metadata": {},
     "output_type": "execute_result"
    },
    {
     "data": {
      "image/png": "[encoded data removed]",
      "text/plain": [
       "<Figure size 432x288 with 1 Axes>"
      ]
     },
     "metadata": {
      "needs_background": "light"
     },
     "output_type": "display_data"
    }
   ],
   "source": [
    "plt.plot(y_train, residuals, '.k')\n",
    "plt.axhline(0, 0.0, 1.0, color = 'red')\n",
    "plt.title('fitted vs residual')"
   ]
  },
  {
   "cell_type": "markdown",
   "id": "99f95368-70af-4131-90f0-7334cdad642e",
   "metadata": {},
   "source": [
    "`-` 이상점이 하나 있긴 하지만 나쁘지 않은 것 같다"
   ]
  },
  {
   "cell_type": "markdown",
   "id": "adbfe794-2a7a-432a-bc08-582b4d6b2f0b",
   "metadata": {},
   "source": [
    "#### 잔차의 히스토그램"
   ]
  },
  {
   "cell_type": "code",
   "execution_count": 49,
   "id": "b3de9383-1c7d-4a52-a453-c196d86b87f6",
   "metadata": {},
   "outputs": [
    {
     "data": {
      "text/plain": [
       "<AxesSubplot:>"
      ]
     },
     "execution_count": 49,
     "metadata": {},
     "output_type": "execute_result"
    },
    {
     "data": {
      "image/png": "[encoded data removed]",
      "text/plain": [
       "<Figure size 432x288 with 1 Axes>"
      ]
     },
     "metadata": {
      "needs_background": "light"
     },
     "output_type": "display_data"
    }
   ],
   "source": [
    "residuals.hist()"
   ]
  },
  {
   "cell_type": "markdown",
   "id": "8fbdddef-3350-49da-80bd-ee9273bf5e94",
   "metadata": {},
   "source": [
    "`-` 이상점 하나를 제외하면 아름다운 종모양이다\n",
    "\n",
    "`-` 평균이 $0$이고 표준편차 $250$정도인 정규분포 모양"
   ]
  },
  {
   "cell_type": "markdown",
   "id": "dd77182c-030a-43de-adee-97ab06e211b4",
   "metadata": {
    "tags": []
   },
   "source": [
    "### stratify 설정 X + Full_Clutch와 Island 드랍 \n",
    "\n",
    "`-` 내가 stratify를 설정한 이유는 Species 비율을 train과 valid셋이 비슷하도록 하기 위해서였음\n",
    "\n",
    "`-` 근데 stratify 설정을 안해도 Species 비율이 동일함\n",
    "\n",
    "`-` stratify를 설정하지 않은 데이터 셋에서도 일반화가 잘 되는지 확인하자\n",
    "\n",
    "`-` 둘의 차이는 그냥 seed넘버 차이라고 봐도 무방함\n",
    "\n",
    "`-` 왜 여태까지 $\\alpha$를 $1$보다 작게했지...\n",
    "\n",
    "`-` 참고로 $\\alpha=0.8$로 하고 제출했을 때 점수는 267.5501166118 이었다(seed 21)"
   ]
  },
  {
   "cell_type": "code",
   "execution_count": 55,
   "id": "cfe87c4d-1190-4d25-aff2-125226f0c7eb",
   "metadata": {},
   "outputs": [],
   "source": [
    "x_train_raw2 = x_train_raw.copy() \n",
    "x_valid_raw2 = x_valid_raw.copy()"
   ]
  },
  {
   "cell_type": "code",
   "execution_count": 56,
   "id": "9e0864e5-860f-49e0-9de6-f1d1011ae0d8",
   "metadata": {},
   "outputs": [],
   "source": [
    "x_train_raw3 = x_train_raw2.copy() ## 피쳐 드랍 X \n",
    "x_valid_raw3 = x_valid_raw2.copy()"
   ]
  },
  {
   "cell_type": "code",
   "execution_count": 57,
   "id": "fd570388-745f-447e-a547-1f472bc37715",
   "metadata": {},
   "outputs": [],
   "source": [
    "x_train_raw.drop(['Full_Clutch', 'Island'], axis = 1, inplace = True)\n",
    "x_valid_raw.drop(['Full_Clutch', 'Island'], axis = 1, inplace = True)"
   ]
  },
  {
   "cell_type": "code",
   "execution_count": 58,
   "id": "af42c4cd-598b-49cb-9cd8-a96bcefa7db6",
   "metadata": {},
   "outputs": [],
   "source": [
    "x_train_raw2.drop('Full_Clutch', axis = 1, inplace = True)\n",
    "x_valid_raw2.drop('Full_Clutch', axis = 1, inplace = True)"
   ]
  },
  {
   "cell_type": "code",
   "execution_count": 59,
   "id": "7e7f39c3-7d65-4a18-becb-2c41343c2518",
   "metadata": {},
   "outputs": [],
   "source": [
    "x_poly_train_raw2 = poly(x_train_raw2)\n",
    "x_poly_valid_raw2 = poly(x_valid_raw2)"
   ]
  },
  {
   "cell_type": "code",
   "execution_count": 60,
   "id": "2aab9adc-ec8d-443b-a2a9-10e1f0618e7a",
   "metadata": {},
   "outputs": [],
   "source": [
    "x_poly_train_raw = poly(x_train_raw)\n",
    "x_poly_valid_raw = poly(x_valid_raw)"
   ]
  },
  {
   "cell_type": "code",
   "execution_count": 61,
   "id": "f14bd63f-22b5-462d-bf54-5a945a09de57",
   "metadata": {},
   "outputs": [],
   "source": [
    "## 스케일러 생성\n",
    "standard_scaler_raw = StandardScaler()\n",
    "\n",
    "## 트레인집합 정규화\n",
    "x_poly_train_raw_scaled = standard_scaler_raw.fit_transform(x_poly_train_raw)\n",
    "x_poly_train_raw_scaled_df = pd.DataFrame(data = x_poly_train_raw_scaled, columns = x_poly_train_raw.columns)\n",
    "\n",
    "## 테스트집합 정규화\n",
    "x_poly_valid_raw_scaled = standard_scaler_raw.transform(x_poly_valid_raw) ## x_train에서 학습한 정규화방식을 그대로 x_valid에 적용\n",
    "x_poly_valid_raw_scaled_df = pd.DataFrame(data = x_poly_valid_raw_scaled, columns = x_poly_valid_raw.columns)"
   ]
  },
  {
   "cell_type": "markdown",
   "id": "0fad9dd7-5e4f-4803-948f-dd38c613d644",
   "metadata": {},
   "source": [
    "`-` $\\alpha$ 선택"
   ]
  },
  {
   "cell_type": "code",
   "execution_count": 227,
   "id": "eb6398ea-4af2-4492-9ade-7cc52d2b43a7",
   "metadata": {},
   "outputs": [
    {
     "name": "stdout",
     "output_type": "stream",
     "text": [
      "𝛼가 0.2일 때 이 방정식의 평균 에러는 284.10입니다\n",
      "𝛼가 0.5일 때 이 방정식의 평균 에러는 285.61입니다\n",
      "𝛼가 0.8일 때 이 방정식의 평균 에러는 287.09입니다\n",
      "𝛼가 1일 때 이 방정식의 평균 에러는 288.78입니다\n",
      "𝛼가 5일 때 이 방정식의 평균 에러는 302.38입니다\n",
      "𝛼가 10일 때 이 방정식의 평균 에러는 305.60입니다\n",
      "𝛼가 15일 때 이 방정식의 평균 에러는 307.18입니다\n",
      "𝛼가 20일 때 이 방정식의 평균 에러는 308.58입니다\n",
      "𝛼가 30일 때 이 방정식의 평균 에러는 312.73입니다\n",
      "𝛼가 40일 때 이 방정식의 평균 에러는 318.63입니다\n"
     ]
    }
   ],
   "source": [
    "alphas = [0.2, 0.5, 0.8, 1, 5, 10, 15, 20, 30, 40]\n",
    "for alpha in alphas:\n",
    "    lasso_raw = Lasso(alpha = alpha, max_iter = 50000, random_state = 21)\n",
    "    lasso_raw.fit(x_poly_train_raw_scaled_df, y_train_raw)\n",
    "    y_predict = lasso_raw.predict(x_poly_valid_raw_scaled_df) ## 모델 예측\n",
    "    rmse = RMSE(y_predict, y_valid_raw) ## 예측값과 실제값을 통해 RMSE를 구함\n",
    "    print('𝛼가 {}일 때 이 방정식의 평균 에러는 {:.2f}입니다'.format(alpha, rmse))"
   ]
  },
  {
   "cell_type": "markdown",
   "id": "cc7a2cae-a62b-4778-ab0d-15eb524d957c",
   "metadata": {},
   "source": [
    "`-` 신기한것이 train과 train_raw의 차이는 seed 뿐인데 RMSE차이가 100까지도 난다(다른 seed로 하면)\n",
    "\n",
    "`-` 표본 크기가 작기에 그만큼 오버피팅 되거나 언더피팅 되기 쉽다는 의미\n",
    "\n",
    "`-` 즉 운에 따라 차이가 꽤 있다는 의미"
   ]
  },
  {
   "cell_type": "markdown",
   "id": "d740d69d-2619-4237-b7cf-5fdcb52e90eb",
   "metadata": {},
   "source": [
    "`-` 최적의 $\\alpha$값을 선택해보자"
   ]
  },
  {
   "cell_type": "code",
   "execution_count": 228,
   "id": "367d83dd-9774-467c-8606-9f2dfa96da75",
   "metadata": {},
   "outputs": [],
   "source": [
    "train_raw_rmse_list, valid_raw_rmse_list = [], []\n",
    "train_raw_r2_list, valid_raw_r2_list = [], []\n",
    "alphas = np.linspace(0.01, 20, 500)\n",
    "\n",
    "for alpha in alphas:\n",
    "    lasso = Lasso(alpha = alpha, max_iter = 150000, random_state = 21)\n",
    "    lasso.fit(x_poly_train_raw_scaled_df, y_train_raw)\n",
    "    \n",
    "    train_predict = lasso.predict(x_poly_train_raw_scaled_df) ## 훈련집합 예측\n",
    "    y_predict = lasso.predict(x_poly_valid_raw_scaled_df) ## valid셋 예측\n",
    "    \n",
    "    train_rmse = RMSE(train_predict, y_train_raw) ## rmse\n",
    "    valid_rmse = RMSE(y_predict, y_valid_raw)\n",
    "    train_raw_rmse_list.append(train_rmse)\n",
    "    valid_raw_rmse_list.append(valid_rmse)\n",
    "    \n",
    "    train_r2 = lasso.score(x_poly_train_raw_scaled_df, y_train_raw) ## 결정계수(R^2)\n",
    "    valid_r2 = lasso.score(x_poly_valid_raw_scaled_df, y_valid_raw)\n",
    "    train_raw_r2_list.append(train_r2)\n",
    "    valid_raw_r2_list.append(valid_r2)"
   ]
  },
  {
   "cell_type": "markdown",
   "id": "963b970a-20e4-4ba1-a5ae-cc4fbc0d7ab1",
   "metadata": {},
   "source": [
    "#### $R^2$ 시각화"
   ]
  },
  {
   "cell_type": "code",
   "execution_count": 229,
   "id": "63286aca-abe0-4230-bf1a-e87d18a1f350",
   "metadata": {},
   "outputs": [
    {
     "data": {
      "text/plain": [
       "<matplotlib.legend.Legend at 0x22353cdfee0>"
      ]
     },
     "execution_count": 229,
     "metadata": {},
     "output_type": "execute_result"
    },
    {
     "data": {
      "image/png": "[encoded data removed]",
      "text/plain": [
       "<Figure size 432x288 with 1 Axes>"
      ]
     },
     "metadata": {
      "needs_background": "light"
     },
     "output_type": "display_data"
    }
   ],
   "source": [
    "plt.plot(alphas, train_raw_r2_list, 'b--', label = 'train set')\n",
    "plt.plot(alphas, valid_raw_r2_list, 'r--', label = 'valid set')\n",
    "plt.title('alpha and $R^2$')\n",
    "plt.legend()"
   ]
  },
  {
   "cell_type": "markdown",
   "id": "4271466b-a421-4b0c-b89a-cf7483869054",
   "metadata": {},
   "source": [
    "`-` 그래프가 신기하게 생겼다\n",
    "\n",
    "`-` $\\alpha$가 커질수록 train 셋의 $R^2$은 작아지고 valid 셋의 $R^2$은 커진다\n",
    "\n",
    "`-` 둘의 $R^2$ 차이가 크다면 오버피팅으로 볼 수 있다\n",
    "\n",
    "`-` 반대로 차이가 작다면 적합이 잘 되었다고 볼 수 있다"
   ]
  },
  {
   "cell_type": "markdown",
   "id": "8a4e4901-f9bd-4fd9-a0a1-e4dbf2c49992",
   "metadata": {},
   "source": [
    "#### RMSE(추정오차의 표준편차) 시각화"
   ]
  },
  {
   "cell_type": "code",
   "execution_count": 230,
   "id": "1a1b3bab-6b9e-45fd-931a-86984ff19e57",
   "metadata": {
    "tags": []
   },
   "outputs": [
    {
     "data": {
      "text/plain": [
       "<matplotlib.legend.Legend at 0x223531ee970>"
      ]
     },
     "execution_count": 230,
     "metadata": {},
     "output_type": "execute_result"
    },
    {
     "data": {
      "image/png": "[encoded data removed]",
      "text/plain": [
       "<Figure size 432x288 with 1 Axes>"
      ]
     },
     "metadata": {
      "needs_background": "light"
     },
     "output_type": "display_data"
    }
   ],
   "source": [
    "plt.plot(alphas, train_raw_rmse_list, 'b--', label = 'train set')\n",
    "plt.plot(alphas, valid_raw_rmse_list, 'r--', label = 'valid set')\n",
    "plt.title('alpha and rmse')\n",
    "plt.legend()"
   ]
  },
  {
   "cell_type": "markdown",
   "id": "d006c2d3-2bed-4c95-b4c5-86ae47d510b8",
   "metadata": {},
   "source": [
    "`-` stratify 설정을 안했으니 나중에 교차검증도 해보자"
   ]
  },
  {
   "cell_type": "markdown",
   "id": "3f81b94e-beb5-4745-ab31-0c5084e72e99",
   "metadata": {},
   "source": [
    "## Full_Clutch와 Island 드랍 + 교차검증"
   ]
  },
  {
   "cell_type": "markdown",
   "id": "c55a28b9-218e-48af-82f2-7453613d5cbc",
   "metadata": {},
   "source": [
    "`-` 표본 크기가 작은 경우 어떤 표본을 train으로 하고 어떤 표본을 valid로 하냐에 따라 차이가 클 수 있다(위에서 내가 겪음)\n",
    "\n",
    "`-` 이를 해결하는 방법으로 교차검증이 있는데 표본을 k등분 하고 k-1개의 train과 1개의 valid를 사용해 모델을 평가하는 것\n",
    "\n",
    "`-` 즉 단순히 train, valid로 나누면 valid는 모델을 훈련시키는데 영영 사용을 못하지만 K fold 방식을 사용하면 훈련 가능\n",
    "\n",
    "`-` 위에서 train과 valid에 대한 $R^2$이나 rmse를 보면 차이가 심했는데 이는 표본이 어떻게 나뉘는지(운)에 영향을 많이 받아서 그럼\n",
    "\n",
    "`-` valid 점수가 좋다고 해서 일반화 능력이 항상 좋다고 할 수 없고 valid 셋에 대해 오버피팅 된 것일 수 있다\n",
    "\n",
    "`-` K fold 방식을 사용해서 일반화 능력을 향상시킬 수 있다\n",
    "\n",
    "`-` 내가 Full_Clutch와 Island를 드랍했음 ---> Species의 비율이 비슷해야 모델 성능이 잘 나옴\n",
    "\n",
    "`-` 만약 Species비율이 train, valid와 상이하다면 성능이 안 좋을 수 밖에 없다\n",
    "\n",
    "`-` EDA를 통해 Species별로 몸무게가 그룹화 되어있음을 알아서 과적합을 막기위해 피쳐2개 버리고 Species만 믿었는데\n",
    "\n",
    "`-` train, valid비율이 상이하면 뗑컨을 그룹화시킬 피쳐인 Species가 힘을 못 쓴다\n",
    "\n",
    "`-` Sex 피쳐도 비율이 비슷해야 좋을 것 같은데 이는 내가 특별히 stratify 지정하지 않아도 알아서 분리된다\n",
    "\n",
    "`-` 교차검증을 통해 최적의 $\\alpha$값을 찾아내고 모든 표본을 학습시키자"
   ]
  },
  {
   "cell_type": "markdown",
   "id": "1f11f925-d0ce-4865-b76a-e21ede276c93",
   "metadata": {},
   "source": [
    "### Lasso Regressor"
   ]
  },
  {
   "cell_type": "code",
   "execution_count": 42,
   "id": "5ed29b54-4a35-4d28-a40d-97d0dcdd30a8",
   "metadata": {},
   "outputs": [],
   "source": [
    "from sklearn.model_selection import cross_validate"
   ]
  },
  {
   "cell_type": "code",
   "execution_count": 41,
   "id": "05270887-320a-4604-bd63-4896eb9812dd",
   "metadata": {},
   "outputs": [],
   "source": [
    "def get_rmse(neg_mse):\n",
    "    return np.sqrt(-1*neg_mse)"
   ]
  },
  {
   "cell_type": "code",
   "execution_count": 69,
   "id": "773444f9-d993-4339-847b-8e8a5e440c58",
   "metadata": {},
   "outputs": [],
   "source": [
    "X_raw = pd.concat([x_poly_train_raw_scaled_df, x_poly_valid_raw_scaled_df]) ## 원래의 target을 제외한 df\n",
    "target_raw = pd.concat([y_train_raw, y_valid_raw]) ## target"
   ]
  },
  {
   "cell_type": "code",
   "execution_count": 70,
   "id": "f7c3e80b-c10c-4242-bb7a-ff21f68b46ba",
   "metadata": {},
   "outputs": [],
   "source": [
    "lasso_kfold = Lasso(alpha = 10, max_iter = 200000, random_state = 21)\n",
    "scores = cross_validate(lasso_kfold, X_raw, target_raw.reset_index().drop('index', axis = 1),\n",
    "                            scoring = ('r2', 'neg_mean_squared_error'), return_train_score = True, cv = 5)"
   ]
  },
  {
   "cell_type": "markdown",
   "id": "7d194082-389d-4cdb-b68a-a698e252bc57",
   "metadata": {},
   "source": [
    "`-` K겹 교차검증을 통해 최적의 $\\alpha$를 찾는다"
   ]
  },
  {
   "cell_type": "code",
   "execution_count": 71,
   "id": "64e86943-3f2d-4e84-b4c9-394a7a7ba504",
   "metadata": {},
   "outputs": [],
   "source": [
    "train_raw_kfold_rmse_list, valid_raw_kfold_rmse_list = [], []\n",
    "train_raw_kfold_r2_list, valid_raw_kfold_r2_list = [], []\n",
    "alphas = np.linspace(0.01, 20, 300) ## 알파\n",
    "\n",
    "for alpha in alphas:\n",
    "    lasso_kfold = Lasso(alpha = alpha, max_iter = 100000, random_state = 21)\n",
    "    \n",
    "    scores = cross_validate(lasso_kfold, X_raw, target_raw.reset_index().drop('index', axis = 1),\n",
    "                            scoring = ('r2', 'neg_mean_squared_error'), return_train_score = True, cv = 5)\n",
    "\n",
    "    train_raw_kfold_rmse_list.append(np.mean(list(map(get_rmse, scores['train_neg_mean_squared_error'])))) ## rmse\n",
    "    valid_raw_kfold_rmse_list.append(np.mean(list(map(get_rmse, scores['test_neg_mean_squared_error']))))\n",
    "\n",
    "    train_raw_kfold_r2_list.append(np.mean(scores['train_r2'])) ## r2\n",
    "    valid_raw_kfold_r2_list.append(np.mean(scores['test_r2']))"
   ]
  },
  {
   "cell_type": "markdown",
   "id": "b5ef898e-4c5d-44c7-a918-9c71e2ee207c",
   "metadata": {},
   "source": [
    "#### $R^2$ 시각화"
   ]
  },
  {
   "cell_type": "code",
   "execution_count": 37,
   "id": "18558404-8e2a-4935-af73-4941aa6537a6",
   "metadata": {},
   "outputs": [
    {
     "data": {
      "text/plain": [
       "<matplotlib.legend.Legend at 0x1f1e0e75970>"
      ]
     },
     "execution_count": 37,
     "metadata": {},
     "output_type": "execute_result"
    },
    {
     "data": {
      "image/png": "[encoded data removed]",
      "text/plain": [
       "<Figure size 432x288 with 1 Axes>"
      ]
     },
     "metadata": {
      "needs_background": "light"
     },
     "output_type": "display_data"
    }
   ],
   "source": [
    "plt.plot(alphas, train_raw_kfold_r2_list, 'b--', label = 'train set')\n",
    "plt.plot(alphas, valid_raw_kfold_r2_list, 'r--', label = 'valid set')\n",
    "plt.title('alpha and $R^2$')\n",
    "plt.legend()"
   ]
  },
  {
   "cell_type": "markdown",
   "id": "ddb7ec9c-70e2-4c9b-ac4b-68a79b847e7d",
   "metadata": {},
   "source": [
    "`-` $\\alpha$가 커질수록 train 셋의 $R^2$은 작아지고 valid 셋의 $R^2$은 커진다\n",
    "\n",
    "`-` 둘의 $R^2$ 차이가 크다면 오버피팅으로 볼 수 있다\n",
    "\n",
    "`-` 반대로 차이가 작다면 적합이 잘 되었다고 볼 수 있다\n",
    "\n",
    "`-` 위의 그래프는 교차검증을 한 모델이므로 일반화 능력이 뛰어나 신뢰가능하다"
   ]
  },
  {
   "cell_type": "markdown",
   "id": "f557a495-f563-4d88-b089-c5a481ead6be",
   "metadata": {},
   "source": [
    "#### RMSE(추정오차의 표준편차) 시각화"
   ]
  },
  {
   "cell_type": "code",
   "execution_count": 73,
   "id": "0b1a7795-f107-4283-96b4-6296990e4a2a",
   "metadata": {
    "tags": []
   },
   "outputs": [
    {
     "data": {
      "text/plain": [
       "<matplotlib.legend.Legend at 0x29c78590460>"
      ]
     },
     "execution_count": 73,
     "metadata": {},
     "output_type": "execute_result"
    },
    {
     "data": {
      "image/png": "[encoded data removed]",
      "text/plain": [
       "<Figure size 432x288 with 1 Axes>"
      ]
     },
     "metadata": {
      "needs_background": "light"
     },
     "output_type": "display_data"
    }
   ],
   "source": [
    "plt.plot(alphas, train_raw_kfold_rmse_list, 'b--', label = 'train set')\n",
    "plt.plot(alphas, valid_raw_kfold_rmse_list, 'r--', label = 'valid set')\n",
    "plt.title('alpha and rmse')\n",
    "plt.legend()"
   ]
  },
  {
   "cell_type": "markdown",
   "id": "4c02f91a-63f2-4019-9d63-bef52f113192",
   "metadata": {},
   "source": [
    "#### 교차검증을 통한 예측"
   ]
  },
  {
   "cell_type": "code",
   "execution_count": 74,
   "id": "41cc9a2f-2ff5-438c-b4f8-2256f909dd91",
   "metadata": {},
   "outputs": [],
   "source": [
    "from sklearn.model_selection import StratifiedKFold"
   ]
  },
  {
   "cell_type": "code",
   "execution_count": 75,
   "id": "4d839f60-f099-4293-aacc-a7e867502c4c",
   "metadata": {},
   "outputs": [],
   "source": [
    "Y_raw = pd.concat([y_train_raw, y_valid_raw])"
   ]
  },
  {
   "cell_type": "code",
   "execution_count": 76,
   "id": "d71c929b-fb85-4121-a9d7-0c487e0717dd",
   "metadata": {},
   "outputs": [],
   "source": [
    "X_poly_raw = pd.concat([x_poly_train_raw, x_poly_valid_raw])"
   ]
  },
  {
   "cell_type": "code",
   "execution_count": 77,
   "id": "67a637d4-af2d-4e7c-b027-ca9642be6a52",
   "metadata": {},
   "outputs": [],
   "source": [
    "## 스케일러 생성\n",
    "standard_scaler_all = StandardScaler()\n",
    "\n",
    "## 전체 데이터셋 정규화\n",
    "X_poly_raw_scaled = standard_scaler_all.fit_transform(X_poly_raw)\n",
    "X_poly_raw_scaled_df = pd.DataFrame(data = X_poly_raw_scaled, columns = X_poly_raw.columns)"
   ]
  },
  {
   "cell_type": "code",
   "execution_count": 78,
   "id": "92409354-1303-453b-8cbc-680768709299",
   "metadata": {},
   "outputs": [],
   "source": [
    "scaled_raw_df = pd.concat([X_poly_raw_scaled_df, Y_raw.reset_index().drop('index', axis = 1)], axis = 1)"
   ]
  },
  {
   "cell_type": "code",
   "execution_count": 79,
   "id": "2aed78ea-844b-4d1a-b1a3-9c47ea3b598b",
   "metadata": {},
   "outputs": [],
   "source": [
    "x_poly_raw = scaled_raw_df.copy()\n",
    "y_raw = scaled_raw_df.copy()"
   ]
  },
  {
   "cell_type": "code",
   "execution_count": 80,
   "id": "20baf7f2-e194-40d6-bc04-e301f24611d8",
   "metadata": {},
   "outputs": [],
   "source": [
    "features = x_poly_raw.copy()\n",
    "features = features.iloc[:,1:]"
   ]
  },
  {
   "cell_type": "code",
   "execution_count": 81,
   "id": "e98e614b-69ee-48f7-a448-b6f8005b5e6b",
   "metadata": {},
   "outputs": [],
   "source": [
    "label = y_raw.copy()\n",
    "label = label.iloc[:,0]"
   ]
  },
  {
   "cell_type": "code",
   "execution_count": 82,
   "id": "62094651-5331-43e3-b28b-cf68dab6f780",
   "metadata": {},
   "outputs": [],
   "source": [
    "num_label = label.unique()"
   ]
  },
  {
   "cell_type": "code",
   "execution_count": 83,
   "id": "aa1831e0-c085-4a91-8d1f-7e404c7e24f5",
   "metadata": {},
   "outputs": [
    {
     "data": {
      "text/plain": [
       "array([ 1.06484795, -0.06966295, -1.20417385])"
      ]
     },
     "execution_count": 83,
     "metadata": {},
     "output_type": "execute_result"
    }
   ],
   "source": [
    "num_label"
   ]
  },
  {
   "cell_type": "code",
   "execution_count": 84,
   "id": "cbbd5e15-b364-4d39-9c87-edcc36fe0b76",
   "metadata": {},
   "outputs": [],
   "source": [
    "label.replace(list(num_label), ['a','b','c'], inplace = True)"
   ]
  },
  {
   "cell_type": "markdown",
   "id": "1fd8d5ee-a1b2-469d-8277-9a7cbd22f909",
   "metadata": {},
   "source": [
    "`-` test 데이터 준비"
   ]
  },
  {
   "cell_type": "code",
   "execution_count": 85,
   "id": "38a71df4-51fa-4dd2-a718-020e897d7fff",
   "metadata": {},
   "outputs": [],
   "source": [
    "test = pd.read_csv('C:/Users/Jaesu/Dacon-Basic/뗑컨-몸무게-예측/Data/test.csv')"
   ]
  },
  {
   "cell_type": "code",
   "execution_count": 86,
   "id": "64df544e-652d-41b9-a183-69563bf47c16",
   "metadata": {},
   "outputs": [
    {
     "data": {
      "text/plain": [
       "id                     0\n",
       "Species                0\n",
       "Island                 0\n",
       "Clutch Completion      0\n",
       "Culmen Length (mm)     0\n",
       "Culmen Depth (mm)      0\n",
       "Flipper Length (mm)    0\n",
       "Sex                    6\n",
       "Delta 15 N (o/oo)      9\n",
       "Delta 13 C (o/oo)      8\n",
       "dtype: int64"
      ]
     },
     "execution_count": 86,
     "metadata": {},
     "output_type": "execute_result"
    }
   ],
   "source": [
    "test.isnull().sum()"
   ]
  },
  {
   "cell_type": "code",
   "execution_count": 87,
   "id": "1a2c63a0-3f57-4769-87ad-341ad411b323",
   "metadata": {},
   "outputs": [],
   "source": [
    "test['Delta 15 N (o/oo)'].fillna(dt['DeltaN'].median(), inplace = True) ## train셋의 중앙값을 대입\n",
    "test['Delta 13 C (o/oo)'].fillna(dt['DeltaC'].median(), inplace = True) ## train셋의 중앙값을 대입"
   ]
  },
  {
   "cell_type": "code",
   "execution_count": 88,
   "id": "6987ab09-19e8-40a8-b5f8-4fc9727f4c0b",
   "metadata": {},
   "outputs": [],
   "source": [
    "test.rename(columns = {'Clutch Completion':'Full_Clutch', 'Culmen Length (mm)':'Culmen_Length', \n",
    "                     'Culmen Depth (mm)':'Culmen_Depth', 'Flipper Length (mm)':'Flipper_Length',\n",
    "                     'Delta 15 N (o/oo)':'DeltaN', 'Delta 13 C (o/oo)':'DeltaC', 'Body Mass (g)':'Body_Mass'}, inplace = True) ## 편의상 열 이름 변경"
   ]
  },
  {
   "cell_type": "code",
   "execution_count": 89,
   "id": "9c8536ab-f571-4162-a529-a0efae7a8c9e",
   "metadata": {},
   "outputs": [],
   "source": [
    "test.loc[[46,81,98,152,205,209], 'Sex'] = ['FEMALE'] * 6 ## train셋과 비교하여 몸무게와 상관관계가 큰 날개 길이가 작아 암컷으로 넣어줌 "
   ]
  },
  {
   "cell_type": "code",
   "execution_count": 90,
   "id": "929fa631-20a1-438a-a7d7-cfe72a9cff7a",
   "metadata": {},
   "outputs": [],
   "source": [
    "test.drop('id', axis = 1, inplace = True) ## id는 필요없으니 드랍"
   ]
  },
  {
   "cell_type": "markdown",
   "id": "65889a97-dbf8-4129-83a0-53aeca585645",
   "metadata": {},
   "source": [
    "`-` test 셋도 범주형변수에 대해 라벨 인코딩을 해주자"
   ]
  },
  {
   "cell_type": "code",
   "execution_count": 91,
   "id": "960d550c-8749-4e46-9cb4-5bed2222cac1",
   "metadata": {},
   "outputs": [],
   "source": [
    "# test2 = test.copy()\n",
    "# for col in test2.columns:\n",
    "#     if test2.dtypes[col] == 'O':\n",
    "#         encoder = LabelEncoder()\n",
    "#         encoder.fit(test2[col])\n",
    "#         labels = encoder.transform(test2[col])\n",
    "#         test2[col] = list(labels) "
   ]
  },
  {
   "cell_type": "markdown",
   "id": "bac205b2-279a-4989-8f89-c7504b5af455",
   "metadata": {},
   "source": [
    "`-` 위랑 아래랑 똑같음!\n",
    "\n",
    "`-` train에서 fit한 라벨인코딩을 사용하여 test셋을 transform하자"
   ]
  },
  {
   "cell_type": "code",
   "execution_count": 92,
   "id": "ffab1a54-3a0d-42bd-b038-b10b32d050b9",
   "metadata": {},
   "outputs": [],
   "source": [
    "test2 = test.copy()"
   ]
  },
  {
   "cell_type": "code",
   "execution_count": 93,
   "id": "6396cf58-6644-44eb-beb8-b58ec4566d04",
   "metadata": {},
   "outputs": [],
   "source": [
    "test2.drop(['Island', 'Full_Clutch'], axis = 1, inplace = True)"
   ]
  },
  {
   "cell_type": "code",
   "execution_count": 94,
   "id": "5b423272-485e-4533-a201-5da0dbe26bd7",
   "metadata": {},
   "outputs": [],
   "source": [
    "test_species_labels = species_encoder.transform(test2['Species'])\n",
    "test2['Species'] = list(test_species_labels) ## Species labelencoding\n",
    "\n",
    "# test_island_labels = island_encoder.transform(test2['Island'])\n",
    "# test2['Island'] = list(test_island_labels) ## Island labelencoding\n",
    "\n",
    "# test_full_clutch_labels = full_clutch_encoder.transform(test2['Full_Clutch'])\n",
    "# test2['Full_Clutch'] = list(test_full_clutch_labels) ## Full_Clutch labelencoding\n",
    "\n",
    "test_sex_labels = sex_encoder.transform(test2['Sex'])\n",
    "test2['Sex'] = list(test_sex_labels) ## Sex labelencoding"
   ]
  },
  {
   "cell_type": "code",
   "execution_count": 95,
   "id": "541193d3-0c9c-4ca0-b0a9-046798f45507",
   "metadata": {},
   "outputs": [
    {
     "data": {
      "text/html": [
       "<div>\n",
       "<style scoped>\n",
       "    .dataframe tbody tr th:only-of-type {\n",
       "        vertical-align: middle;\n",
       "    }\n",
       "\n",
       "    .dataframe tbody tr th {\n",
       "        vertical-align: top;\n",
       "    }\n",
       "\n",
       "    .dataframe thead th {\n",
       "        text-align: right;\n",
       "    }\n",
       "</style>\n",
       "<table border=\"1\" class=\"dataframe\">\n",
       "  <thead>\n",
       "    <tr style=\"text-align: right;\">\n",
       "      <th></th>\n",
       "      <th>Species</th>\n",
       "      <th>Culmen_Length</th>\n",
       "      <th>Culmen_Depth</th>\n",
       "      <th>Flipper_Length</th>\n",
       "      <th>Sex</th>\n",
       "      <th>DeltaN</th>\n",
       "      <th>DeltaC</th>\n",
       "    </tr>\n",
       "  </thead>\n",
       "  <tbody>\n",
       "    <tr>\n",
       "      <th>0</th>\n",
       "      <td>1</td>\n",
       "      <td>52.0</td>\n",
       "      <td>20.7</td>\n",
       "      <td>210.0</td>\n",
       "      <td>1</td>\n",
       "      <td>9.43146</td>\n",
       "      <td>-24.68440</td>\n",
       "    </tr>\n",
       "    <tr>\n",
       "      <th>1</th>\n",
       "      <td>2</td>\n",
       "      <td>55.9</td>\n",
       "      <td>17.0</td>\n",
       "      <td>228.0</td>\n",
       "      <td>1</td>\n",
       "      <td>8.31180</td>\n",
       "      <td>-26.35425</td>\n",
       "    </tr>\n",
       "    <tr>\n",
       "      <th>2</th>\n",
       "      <td>0</td>\n",
       "      <td>38.9</td>\n",
       "      <td>18.8</td>\n",
       "      <td>190.0</td>\n",
       "      <td>0</td>\n",
       "      <td>8.36936</td>\n",
       "      <td>-26.11199</td>\n",
       "    </tr>\n",
       "    <tr>\n",
       "      <th>3</th>\n",
       "      <td>1</td>\n",
       "      <td>45.2</td>\n",
       "      <td>16.6</td>\n",
       "      <td>191.0</td>\n",
       "      <td>0</td>\n",
       "      <td>9.62357</td>\n",
       "      <td>-24.78984</td>\n",
       "    </tr>\n",
       "    <tr>\n",
       "      <th>4</th>\n",
       "      <td>0</td>\n",
       "      <td>37.9</td>\n",
       "      <td>18.6</td>\n",
       "      <td>172.0</td>\n",
       "      <td>0</td>\n",
       "      <td>8.38404</td>\n",
       "      <td>-25.19837</td>\n",
       "    </tr>\n",
       "  </tbody>\n",
       "</table>\n",
       "</div>"
      ],
      "text/plain": [
       "   Species  Culmen_Length  Culmen_Depth  Flipper_Length  Sex   DeltaN  \\\n",
       "0        1           52.0          20.7           210.0    1  9.43146   \n",
       "1        2           55.9          17.0           228.0    1  8.31180   \n",
       "2        0           38.9          18.8           190.0    0  8.36936   \n",
       "3        1           45.2          16.6           191.0    0  9.62357   \n",
       "4        0           37.9          18.6           172.0    0  8.38404   \n",
       "\n",
       "     DeltaC  \n",
       "0 -24.68440  \n",
       "1 -26.35425  \n",
       "2 -26.11199  \n",
       "3 -24.78984  \n",
       "4 -25.19837  "
      ]
     },
     "execution_count": 95,
     "metadata": {},
     "output_type": "execute_result"
    }
   ],
   "source": [
    "test2.head()"
   ]
  },
  {
   "cell_type": "markdown",
   "id": "66d6da81-20b5-4b00-a442-cef5680f7e00",
   "metadata": {},
   "source": [
    "`-` 라벨 인코딩이 잘 되었다"
   ]
  },
  {
   "cell_type": "markdown",
   "id": "25b32fa0-0797-4fe9-a6c0-92fceb2b9002",
   "metadata": {},
   "source": [
    "`-` 교호작용항을 추가해주자"
   ]
  },
  {
   "cell_type": "code",
   "execution_count": 96,
   "id": "fe51b756-8055-4708-8ca3-476849ead5e1",
   "metadata": {},
   "outputs": [],
   "source": [
    "test_poly = poly(test2)"
   ]
  },
  {
   "cell_type": "code",
   "execution_count": 98,
   "id": "5f6a1e24-ec21-4d88-8666-31105f8fa625",
   "metadata": {},
   "outputs": [
    {
     "data": {
      "text/plain": [
       "(228, 17)"
      ]
     },
     "execution_count": 98,
     "metadata": {},
     "output_type": "execute_result"
    }
   ],
   "source": [
    "test_poly.shape"
   ]
  },
  {
   "cell_type": "markdown",
   "id": "fbf7fce7-33c2-4d60-9671-047a3dece36e",
   "metadata": {},
   "source": [
    "`-` 위에서 train셋을 이용해 학습한 스케일러의 평균과 표준편차"
   ]
  },
  {
   "cell_type": "code",
   "execution_count": 97,
   "id": "8c684109-f889-4280-8f2f-c91c238f1dcb",
   "metadata": {},
   "outputs": [],
   "source": [
    "## 테스트집합 정규화\n",
    "test_poly_scaled = standard_scaler_all.transform(test_poly) ## x_train에서 학습한 정규화방식을 그대로 test_poly에 적용\n",
    "test_poly_scaled_df = pd.DataFrame(data = test_poly_scaled, columns = test_poly.columns)"
   ]
  },
  {
   "cell_type": "code",
   "execution_count": 63,
   "id": "3a8c3d8c-9719-4ef7-bba7-16abe42e3281",
   "metadata": {},
   "outputs": [
    {
     "data": {
      "text/html": [
       "<div>\n",
       "<style scoped>\n",
       "    .dataframe tbody tr th:only-of-type {\n",
       "        vertical-align: middle;\n",
       "    }\n",
       "\n",
       "    .dataframe tbody tr th {\n",
       "        vertical-align: top;\n",
       "    }\n",
       "\n",
       "    .dataframe thead th {\n",
       "        text-align: right;\n",
       "    }\n",
       "</style>\n",
       "<table border=\"1\" class=\"dataframe\">\n",
       "  <thead>\n",
       "    <tr style=\"text-align: right;\">\n",
       "      <th></th>\n",
       "      <th>Species</th>\n",
       "      <th>Culmen_Length</th>\n",
       "      <th>Culmen_Depth</th>\n",
       "      <th>Flipper_Length</th>\n",
       "      <th>Sex</th>\n",
       "      <th>DeltaN</th>\n",
       "    </tr>\n",
       "  </thead>\n",
       "  <tbody>\n",
       "    <tr>\n",
       "      <th>0</th>\n",
       "      <td>-0.069663</td>\n",
       "      <td>1.394155</td>\n",
       "      <td>1.906577</td>\n",
       "      <td>0.476205</td>\n",
       "      <td>1.0</td>\n",
       "      <td>1.248586</td>\n",
       "    </tr>\n",
       "    <tr>\n",
       "      <th>1</th>\n",
       "      <td>1.064848</td>\n",
       "      <td>2.130221</td>\n",
       "      <td>-0.007715</td>\n",
       "      <td>1.710011</td>\n",
       "      <td>1.0</td>\n",
       "      <td>-0.758321</td>\n",
       "    </tr>\n",
       "    <tr>\n",
       "      <th>2</th>\n",
       "      <td>-1.204174</td>\n",
       "      <td>-1.078273</td>\n",
       "      <td>0.923562</td>\n",
       "      <td>-0.894689</td>\n",
       "      <td>-1.0</td>\n",
       "      <td>-0.655149</td>\n",
       "    </tr>\n",
       "    <tr>\n",
       "      <th>3</th>\n",
       "      <td>-0.069663</td>\n",
       "      <td>0.110758</td>\n",
       "      <td>-0.214666</td>\n",
       "      <td>-0.826144</td>\n",
       "      <td>-1.0</td>\n",
       "      <td>1.592929</td>\n",
       "    </tr>\n",
       "    <tr>\n",
       "      <th>4</th>\n",
       "      <td>-1.204174</td>\n",
       "      <td>-1.267007</td>\n",
       "      <td>0.820087</td>\n",
       "      <td>-2.128494</td>\n",
       "      <td>-1.0</td>\n",
       "      <td>-0.628836</td>\n",
       "    </tr>\n",
       "    <tr>\n",
       "      <th>5</th>\n",
       "      <td>-0.069663</td>\n",
       "      <td>1.526270</td>\n",
       "      <td>1.440938</td>\n",
       "      <td>-0.414876</td>\n",
       "      <td>1.0</td>\n",
       "      <td>0.486734</td>\n",
       "    </tr>\n",
       "  </tbody>\n",
       "</table>\n",
       "</div>"
      ],
      "text/plain": [
       "    Species  Culmen_Length  Culmen_Depth  Flipper_Length  Sex    DeltaN\n",
       "0 -0.069663       1.394155      1.906577        0.476205  1.0  1.248586\n",
       "1  1.064848       2.130221     -0.007715        1.710011  1.0 -0.758321\n",
       "2 -1.204174      -1.078273      0.923562       -0.894689 -1.0 -0.655149\n",
       "3 -0.069663       0.110758     -0.214666       -0.826144 -1.0  1.592929\n",
       "4 -1.204174      -1.267007      0.820087       -2.128494 -1.0 -0.628836\n",
       "5 -0.069663       1.526270      1.440938       -0.414876  1.0  0.486734"
      ]
     },
     "execution_count": 63,
     "metadata": {},
     "output_type": "execute_result"
    }
   ],
   "source": [
    "test_poly_scaled_df.iloc[:6, :6] ## 정규화가 잘 되었는지 확인"
   ]
  },
  {
   "cell_type": "markdown",
   "id": "742375bf-cd08-44e9-84f5-21ce471c410b",
   "metadata": {},
   "source": [
    "`-` 10개의 각기 다른 train셋으로 훈련시킨 Lasso 모형을 가지고 test셋을 예측해보자"
   ]
  },
  {
   "cell_type": "code",
   "execution_count": 165,
   "id": "6a615e71-1151-482e-ac7d-69662eb2f0dd",
   "metadata": {},
   "outputs": [],
   "source": [
    "skfold = StratifiedKFold(n_splits = 10, shuffle = True, random_state = 22)"
   ]
  },
  {
   "cell_type": "code",
   "execution_count": 173,
   "id": "5e7274c8-a007-46f7-a8d6-b3da91e9ec57",
   "metadata": {
    "tags": []
   },
   "outputs": [],
   "source": [
    "y_predict5_2 = []\n",
    "predict_test_2 = []\n",
    "train_rmse5_2 = []\n",
    "valid_rmse5_2 = []\n",
    "lasso_sk = Lasso(alpha = 0.6, max_iter = 50000, random_state = 21) ## 라쏘회귀모형 정의\n",
    "\n",
    "for train_index, valid_index in skfold.split(features, label):\n",
    "    ## train, valid 데이터 extract\n",
    "    xx_train, xx_valid = features.iloc[train_index], features.iloc[valid_index]\n",
    "    yy_train, yy_valid = label.iloc[train_index], label.iloc[valid_index]\n",
    "\n",
    "    train_target = xx_train.iloc[:,-1] ## 얘가 진짜 target\n",
    "    valid_target = xx_valid.iloc[:,-1] ## 얘가 진짜 target\n",
    "    ori_train = pd.concat([yy_train.replace(['a','b','c'], num_label), xx_train.iloc[:,:-1]], axis = 1) ## 원래의 train feature\n",
    "    ori_valid = pd.concat([yy_valid.replace(['a','b','c'], num_label), xx_valid.iloc[:,:-1]], axis = 1) ## 원래의 valid feature\n",
    "\n",
    "\n",
    "    lasso_sk.fit(ori_train, train_target) ## 훈련\n",
    "\n",
    "    train_predict = lasso_sk.predict(ori_train) ## train셋 예측\n",
    "    y_predict = lasso_sk.predict(ori_valid) ## valid셋 예측\n",
    "    test_predict = lasso_sk.predict(test_poly_scaled_df) ## test셋 예측\n",
    "\n",
    "    y_predict5_2.append(y_predict) ## valid 예측값\n",
    "    predict_test_2.append(test_predict) ## test 예측값\n",
    "    train_rmse5_2.append(RMSE(train_predict, train_target)) ## rmse\n",
    "    valid_rmse5_2.append(RMSE(y_predict, valid_target)) ## rmse"
   ]
  },
  {
   "cell_type": "code",
   "execution_count": 174,
   "id": "7bcc9afd-7882-4426-827b-653a11e69c1f",
   "metadata": {},
   "outputs": [
    {
     "data": {
      "text/plain": [
       "([281.8518411563329,\n",
       "  277.73215395013773,\n",
       "  296.78616825927236,\n",
       "  297.94411155630274,\n",
       "  273.94608668880096,\n",
       "  286.35006254698266,\n",
       "  289.84874014977555,\n",
       "  287.4422254485057,\n",
       "  280.76635961520253,\n",
       "  291.8217862960949],\n",
       " [357.6750506440668,\n",
       "  422.3514119168324,\n",
       "  222.2373398407889,\n",
       "  194.38192114115418,\n",
       "  459.96735103542426,\n",
       "  306.69904440072423,\n",
       "  286.76531847062483,\n",
       "  321.08022273466025,\n",
       "  380.3047692863541,\n",
       "  291.8363817647238])"
      ]
     },
     "execution_count": 174,
     "metadata": {},
     "output_type": "execute_result"
    }
   ],
   "source": [
    "train_rmse5_2, valid_rmse5_2"
   ]
  },
  {
   "cell_type": "code",
   "execution_count": 175,
   "id": "160033da-92b2-49e8-8b89-b898a746dcb1",
   "metadata": {},
   "outputs": [
    {
     "data": {
      "text/plain": [
       "(286.44895356674084, 324.3298811235354)"
      ]
     },
     "execution_count": 175,
     "metadata": {},
     "output_type": "execute_result"
    }
   ],
   "source": [
    "np.mean(train_rmse5_2), np.mean(valid_rmse5_2)"
   ]
  },
  {
   "cell_type": "code",
   "execution_count": 176,
   "id": "96c3ca0b-c7a1-4ccf-9cf5-892b2efd2512",
   "metadata": {},
   "outputs": [],
   "source": [
    "sum_ = 0\n",
    "for i in range(10):\n",
    "    sum_ += predict_test_2[i]"
   ]
  },
  {
   "cell_type": "code",
   "execution_count": 177,
   "id": "4915a567-0ad2-4d8d-9821-1c143d922d7e",
   "metadata": {},
   "outputs": [],
   "source": [
    "test_body_mass_predict2 = sum_ / 10"
   ]
  },
  {
   "cell_type": "code",
   "execution_count": 178,
   "id": "ececc723-0cda-452b-b228-1dacfcf3f057",
   "metadata": {},
   "outputs": [
    {
     "data": {
      "text/plain": [
       "array([4303.33480286, 5565.62974289, 3606.21670031, 3431.91792703,\n",
       "       3335.77535563, 4180.48051091])"
      ]
     },
     "execution_count": 178,
     "metadata": {},
     "output_type": "execute_result"
    }
   ],
   "source": [
    "test_body_mass_predict2[:6]"
   ]
  },
  {
   "cell_type": "markdown",
   "id": "31ac37a5-42b5-47ed-83af-53accc148cb6",
   "metadata": {},
   "source": [
    "`-` 왜 이런식으로 test 데이터를 예측하는가?\n",
    "\n",
    "`-` 일단 표본을 train, valid셋으로 나눈다고 해보자\n",
    "\n",
    "`-` 이는 변동성이 너무 심한다\n",
    "\n",
    "`-` seed를 어떤 숫자로 하느냐에 따라 모델 성능차이가 꽤 있다(rmse가 100씩 차이 나기도 했음)\n",
    "\n",
    "`-` 변동성을 줄이고자 앙상블 모델을 만듦 ---> 5개의 릿지회귀모형을 만들고 가중치를 0.2씩 주고 더했다\n",
    "\n",
    "`-` 피쳐 2개를 제외하기에 Species비율을 train, valid가 비슷하도록 맞춰줬다\n",
    "\n",
    "`-` 릿지모형의 $\\alpha$값은 교차검증을 통해 구했다\n",
    "\n",
    "`-` 운 좋게 시드넘버 잘 설정해서 test셋 예측에만 최적화된 모형을 만드는건 의미가 없다고 생각함\n",
    "\n",
    "`-` test셋이 어떠냐에 따라 성능의 변동성이 어마무시한데 모형을 잘 설계했다고 볼 수 있는가?\n",
    "\n",
    "`-` 그러한 이유로 변동성을 줄이고자 위와 같이 모형을 만들어 test 데이터를 예측함\n",
    "\n",
    "`-` 물론 5개의 모델을 안 써도 되고 5개 다 동일한 모형이 아니어도 된다\n",
    "\n",
    "`-` 그냥 편의상 통일함"
   ]
  },
  {
   "cell_type": "code",
   "execution_count": 127,
   "id": "52fc9764-9386-4a57-b835-2a4d8901e99f",
   "metadata": {},
   "outputs": [],
   "source": [
    "# 제출용 sample 파일을 불러옴\n",
    "submission = pd.read_csv('C:/Users/Jaesu/Dacon-Basic/뗑컨-몸무게-예측/Data/sample_submission.csv')"
   ]
  },
  {
   "cell_type": "code",
   "execution_count": 179,
   "id": "8e0313b9-6310-42c1-b6c1-8e2a19314435",
   "metadata": {},
   "outputs": [
    {
     "data": {
      "text/html": [
       "<div>\n",
       "<style scoped>\n",
       "    .dataframe tbody tr th:only-of-type {\n",
       "        vertical-align: middle;\n",
       "    }\n",
       "\n",
       "    .dataframe tbody tr th {\n",
       "        vertical-align: top;\n",
       "    }\n",
       "\n",
       "    .dataframe thead th {\n",
       "        text-align: right;\n",
       "    }\n",
       "</style>\n",
       "<table border=\"1\" class=\"dataframe\">\n",
       "  <thead>\n",
       "    <tr style=\"text-align: right;\">\n",
       "      <th></th>\n",
       "      <th>id</th>\n",
       "      <th>Body Mass (g)</th>\n",
       "    </tr>\n",
       "  </thead>\n",
       "  <tbody>\n",
       "    <tr>\n",
       "      <th>0</th>\n",
       "      <td>0</td>\n",
       "      <td>4303.334803</td>\n",
       "    </tr>\n",
       "    <tr>\n",
       "      <th>1</th>\n",
       "      <td>1</td>\n",
       "      <td>5565.629743</td>\n",
       "    </tr>\n",
       "    <tr>\n",
       "      <th>2</th>\n",
       "      <td>2</td>\n",
       "      <td>3606.216700</td>\n",
       "    </tr>\n",
       "    <tr>\n",
       "      <th>3</th>\n",
       "      <td>3</td>\n",
       "      <td>3431.917927</td>\n",
       "    </tr>\n",
       "    <tr>\n",
       "      <th>4</th>\n",
       "      <td>4</td>\n",
       "      <td>3335.775356</td>\n",
       "    </tr>\n",
       "  </tbody>\n",
       "</table>\n",
       "</div>"
      ],
      "text/plain": [
       "   id  Body Mass (g)\n",
       "0   0    4303.334803\n",
       "1   1    5565.629743\n",
       "2   2    3606.216700\n",
       "3   3    3431.917927\n",
       "4   4    3335.775356"
      ]
     },
     "execution_count": 179,
     "metadata": {},
     "output_type": "execute_result"
    }
   ],
   "source": [
    "# 위에서 구한 예측값을 그대로 넣음\n",
    "submission['Body Mass (g)'] = test_body_mass_predict2\n",
    "\n",
    "# 데이터가 잘 들어갔는지 확인\n",
    "submission.head()"
   ]
  },
  {
   "cell_type": "code",
   "execution_count": 129,
   "id": "e7ab94b4-5ccf-4ba2-b66f-f4d14e7480bb",
   "metadata": {},
   "outputs": [],
   "source": [
    "# submission을 csv 파일로 저장\n",
    "submission.to_csv('C:/Users/Jaesu/Dacon-Basic/뗑컨-몸무게-예측/Data/submission_raw_10fold_lasso_0.6.csv', index = False)"
   ]
  },
  {
   "cell_type": "markdown",
   "id": "da90dab8-0365-451f-a8fb-1e2bfd618d97",
   "metadata": {},
   "source": [
    "`-` 일단 Lasso가 Ridge보다 점수가 더 높게 나왔음\n",
    "\n",
    "`-` 근데 train셋과 valid셋을 어떻게 나누냐에 따라 같은 모형을 써도 rmse가 다르게 나옴을 알았음\n",
    "\n",
    "`-` 솔직히 어떤 원인에 의해 차이가 꽤 나는지는 정확히 모름(나중에 EDA 해보자)\n",
    "\n",
    "`-` train셋에는 이상점 없고 중앙값에 몰려있는 데이터만 있고 valid셋에는 이상점 있으면 점수 낮게 나오겠지\n",
    "\n",
    "`-` 반대로 train셋에는 이상점있고 valid셋에 이상점 없으면 반대로 점수가 높게 나올 것 임\n",
    "\n",
    "`-` 다르게 생각하면 5겹 교차검증을 사용함으로써 모델을 공짜로 5개나 만들고\n",
    "\n",
    "`-` 5개중에서 잘 적합된 모델만 고를 수 있다는 말이다\n",
    "\n",
    "`-` 중요한 것은 뭐가 좋고 나쁜지 판단 가능하다는 점이다\n",
    "\n",
    "`-` 그러니 예측점수가 많이 낮은 모델은 쓰지 않고 좋은 모델만 쓰자\n",
    "\n",
    "`-` 오히려 예측점수가 안좋고 훈련집합에 대한 점수가 좋은 것을 써야되나?\n",
    "\n",
    "`-` 좀 더 생각해볼 문제임"
   ]
  },
  {
   "cell_type": "markdown",
   "id": "57ae3064-bb02-48ad-b26c-9b3c4baf1e2a",
   "metadata": {},
   "source": [
    "### 논의\n",
    "\n",
    "`-` 내가 짜증이 나는 이유는 시드넘버에 따라 모델 성능 차이가 너무 심하기때문 ---> 내가 멍청해서 모델 설계를 못했음\n",
    "\n",
    "`-` 그래서 교차검증을 했는데 교차검증한 것 끼리도 차이가 많이 난다(첫번째 문장에 의해 당연함)\n",
    "\n",
    "`-` 하지만 각각 가중치(0.2)를 주고 이들을 합치기 때문에 성능 차이가 조금 줄어든다\n",
    "\n",
    "`-` 그러면 된 거 아니냐?? 라고 할 수 있지만...\n",
    "\n",
    "`-` 원래 운으로 때려 맞춘 시드넘버를 가지고 만든 모델읠 점수는 261점이었는걸...\n",
    "\n",
    "`-` 성능을 더 올리기 위해서는 교차검증 하는데 사용된 모델들 중에서 성능이 더 좋은것을 골라야 함\n",
    "\n",
    "`-` 그런데 valid 점수가 더 높다고 더 좋은 모델은 아니다\n",
    "\n",
    "`-` 만약 test case가 train 셋에서 많이 나온다면 오히려 train 점수가 더 높은 모델이 더 좋다!\n",
    "\n",
    "`-` 그런데 나는 그걸 모른다\n",
    "\n",
    "`-` 그래서 짜증이 난다\n",
    "\n",
    "`-` 그래서 생각한 것이 최적의 $\\alpha$값만 찾아내고 학습 데이터로 주어진 표본을 전부 사용하는 방법이다\n",
    "\n",
    "`-` 이러면 위와 같이 짜증낼 필요가 없다\n",
    "\n",
    "`-` 왜냐면 학습 데이터는 어떤 모형이든지 똑같으니까!\n",
    "\n",
    "`-` 하지만 최적의 $\\alpha$값을 찾을려면 train, valid로 나눠야 되므로 \n",
    "\n",
    "`-` train + valid로 학습시키는 모델의 최적 $\\alpha$값과 동일하진 않을 것이다(또한 나는 바보라서 최적의 $\\alpha$ 기준을 모른다)\n",
    "\n",
    "`-` 그래도 짜증낼 필요는 없어지니 위와 같은 방법을 고려하는 것도 나쁘지 않은 선택같다\n",
    "\n",
    "`-` 아니면 Species별로 모델을 3개를 만들자(이때는 Full_Clutch만 drop하고 Island를 drop하면 안된다) ---> 근데 귀찮음\n",
    "\n",
    "`-` 아니면 붓스트랩 표본을 만들어서 표본 크기를 늘리는 것도 있긴한데 이를 구현할 능력이 되지 않는다\n",
    "\n",
    "`-` 일단 데이터별 가중치도 다르게 줘야 되는데 중앙값 근처의 값이 이상값보다 뽑힐 가능성이 더 높다(아님말고)\n",
    "\n",
    "`-` 마치 원에 점을 무작위로 뿌리면 중앙에 점이 더 몰리듯이\n",
    "\n",
    "`-` 결론 : 나의 두뇌로는 표본 전부를 학습시키는데 쓰고 어떤 모델을 쓸지와 하이퍼 파라미터를 무엇으로 정할지 까지가 한계이다 \n",
    "\n",
    "`-` 이 이상의 두뇌를 요구하는 구현은 못함\n",
    "\n",
    "`-` 일단 내가 모르고 있던 사실이 있었는데 모형에 데이터를 fit 시키는 것은 누적된다(아님말고)\n",
    "\n",
    "`-` 즉 한번 fit시키고 다른 데이터로 fit시킨다고 기존의 fit시켜서 학습한 것이 사라지지 않고 누적된다는 것\n",
    "\n",
    "`-` 초기화 되는줄...\n",
    "\n",
    "`-` 그러니 다섯번 fit 시킨 모델을 가지고 test 셋을 예측하면 된다\n",
    "\n",
    "`-` 응 초기화 돼^^\n",
    "\n",
    "`-` 애초애 초기화 안되면 중복학습을 하게 된다\n",
    "\n",
    "`-` 그냥 교차검증의 valid 셋에 대한 평균 rmse를 일반화 능력이라 평가해야 겠다 "
   ]
  },
  {
   "cell_type": "markdown",
   "id": "7feebb26-0694-467a-98b6-b6df08c0ead8",
   "metadata": {},
   "source": [
    "### Ridge Regressor"
   ]
  },
  {
   "cell_type": "markdown",
   "id": "33d1c939-547d-4848-8852-b538e8acfbe4",
   "metadata": {},
   "source": [
    "`-` train, valid가 어떻게 나뉘냐에 따라 차이가 심하니 라쏘보다는 릿지가 나을 수 도 있다\n",
    "\n",
    "`-` 릿지 모형을 사용해보자"
   ]
  },
  {
   "cell_type": "code",
   "execution_count": 182,
   "id": "9e5a10e2-cc7b-4aa2-b87b-ea13500ee375",
   "metadata": {},
   "outputs": [],
   "source": [
    "train_raw_kfold_rmse_list2, valid_raw_kfold_rmse_list2 = [], []\n",
    "train_raw_kfold_r2_list2, valid_raw_kfold_r2_list2 = [], []\n",
    "alphas = np.linspace(0.01, 20, 300)\n",
    "\n",
    "for alpha in alphas:\n",
    "    ridge_kfold = Ridge(alpha = alpha, max_iter = 100000, random_state = 21)\n",
    "    scores = cross_validate(ridge_kfold, X_raw, target_raw.reset_index().drop('index', axis = 1),\n",
    "                            scoring = ('r2', 'neg_mean_squared_error'), return_train_score = True, cv = 5)\n",
    "    \n",
    "    train_raw_kfold_rmse_list2.append(np.mean(list(map(get_rmse, scores['train_neg_mean_squared_error'])))) ## rmse\n",
    "    valid_raw_kfold_rmse_list2.append(np.mean(list(map(get_rmse, scores['test_neg_mean_squared_error']))))\n",
    "    \n",
    "    train_raw_kfold_r2_list2.append(np.mean(scores['train_r2'])) ## r2\n",
    "    valid_raw_kfold_r2_list2.append(np.mean(scores['test_r2']))"
   ]
  },
  {
   "cell_type": "markdown",
   "id": "49fdb6f5-44a3-465f-89e4-fc8206197ae8",
   "metadata": {},
   "source": [
    "#### $R^2$ 시각화"
   ]
  },
  {
   "cell_type": "code",
   "execution_count": 288,
   "id": "49c74bbf-e8b5-4291-9fca-b86be38b1a6c",
   "metadata": {},
   "outputs": [
    {
     "data": {
      "text/plain": [
       "<matplotlib.legend.Legend at 0x22355c451c0>"
      ]
     },
     "execution_count": 288,
     "metadata": {},
     "output_type": "execute_result"
    },
    {
     "data": {
      "image/png": "[encoded data removed]",
      "text/plain": [
       "<Figure size 432x288 with 1 Axes>"
      ]
     },
     "metadata": {
      "needs_background": "light"
     },
     "output_type": "display_data"
    }
   ],
   "source": [
    "plt.plot(alphas, train_raw_kfold_r2_list2, 'b--', label = 'train set')\n",
    "plt.plot(alphas, valid_raw_kfold_r2_list2, 'r--', label = 'valid set')\n",
    "plt.title('alpha and $R^2$')\n",
    "plt.legend()"
   ]
  },
  {
   "cell_type": "markdown",
   "id": "ffc28166-dff4-4441-9213-5f64bc15607f",
   "metadata": {},
   "source": [
    "#### RMSE(추정오차의 표준편차) 시각화"
   ]
  },
  {
   "cell_type": "code",
   "execution_count": 289,
   "id": "bce747e8-6454-4806-9cef-9ccff937d0a9",
   "metadata": {
    "tags": []
   },
   "outputs": [
    {
     "data": {
      "text/plain": [
       "<matplotlib.legend.Legend at 0x22355ca15b0>"
      ]
     },
     "execution_count": 289,
     "metadata": {},
     "output_type": "execute_result"
    },
    {
     "data": {
      "image/png": "[encoded data removed]",
      "text/plain": [
       "<Figure size 432x288 with 1 Axes>"
      ]
     },
     "metadata": {
      "needs_background": "light"
     },
     "output_type": "display_data"
    }
   ],
   "source": [
    "plt.plot(alphas, train_raw_kfold_rmse_list2, 'b--', label = 'train set')\n",
    "plt.plot(alphas, valid_raw_kfold_rmse_list2, 'r--', label = 'valid set')\n",
    "plt.title('alpha and rmse')\n",
    "plt.legend()"
   ]
  },
  {
   "cell_type": "markdown",
   "id": "fec56c92-62ba-4b89-b200-f5f489094fe3",
   "metadata": {},
   "source": [
    "`-` 릿지 회귀모형이 라쏘 회귀모형보다 더 나아보인다\n",
    "\n",
    "`-` 근데 사실 문제점이 하나 있다\n",
    "\n",
    "`-` train 셋에 스케일링을 fit하고 변환시켰다\n",
    "\n",
    "`-` valid 셋은 변환만 시켰다\n",
    "\n",
    "`-` 그리고 이 둘을 합쳐서 데이터프레임으로 만들고 교차검증을 했다\n",
    "\n",
    "`-` train, valid가 무작위로 나뉘는데 나뉠때마다 스케일링을 새로 해야한다\n",
    "\n",
    "`-` 근데 이렇게 하기 귀찮다...\n",
    "\n",
    "`-` 그냥 train, valid 합쳐서 스케일링을 하자\n",
    "\n",
    "`-` 그만큼 test 셋에 대한 일반화는 조금 떨어지겠지만 큰 문제는 없을 것이다\n",
    "\n",
    "`-` 또 문제는 표본 크기가 작아 train, valid를 어떻게 나누냐에 따라 차이가 크다는 것이다\n",
    "\n",
    "`-` 물론 교차검증하니 그렇지 않을 때보단 낫겠지만 그래도 차이가 존재한다\n",
    "\n",
    "`-` Species 변수를 비슷한 비율로 나눔으로써 차이를 적게 해보자"
   ]
  },
  {
   "cell_type": "markdown",
   "id": "b76a319b-c1b2-4d7b-b672-2cdd5d01c277",
   "metadata": {},
   "source": [
    "`-` 5개의 각기 다른 train셋으로 훈련시킨 Ridge 모형을 가지고 test셋을 예측해보자"
   ]
  },
  {
   "cell_type": "code",
   "execution_count": 203,
   "id": "7f99b6eb-4727-4372-a0a9-cca275f6e7a1",
   "metadata": {
    "tags": []
   },
   "outputs": [],
   "source": [
    "y_predict5 = []\n",
    "predict_test = []\n",
    "train_rmse5 = []\n",
    "valid_rmse5 = []\n",
    "\n",
    "for train_index, valid_index in skfold.split(features, label):\n",
    "    ## train, valid 데이터 extract\n",
    "    xx_train, xx_valid = features.iloc[train_index], features.iloc[valid_index]\n",
    "    yy_train, yy_valid = label.iloc[train_index], label.iloc[valid_index]\n",
    "    \n",
    "    train_target = xx_train.iloc[:,-1] ## 얘가 진짜 target\n",
    "    valid_target = xx_valid.iloc[:,-1] ## 얘가 진짜 target\n",
    "    ori_train = pd.concat([yy_train.replace(['a','b','c'], num_label), xx_train.iloc[:,:-1]], axis = 1) ## 원래의 train feature\n",
    "    ori_valid = pd.concat([yy_valid.replace(['a','b','c'], num_label), xx_valid.iloc[:,:-1]], axis = 1) ## 원래의 valid feature\n",
    "    \n",
    "    ridge = Ridge(alpha = 0.7, max_iter = 50000, random_state = 21)\n",
    "    ridge.fit(ori_train, train_target) ## 훈련\n",
    "    \n",
    "    train_predict = ridge.predict(ori_train) ## train셋 예측\n",
    "    y_predict = ridge.predict(ori_valid) ## valid셋 예측\n",
    "    test_predict = ridge.predict(test_poly_scaled_df) ## test셋 예측\n",
    "    \n",
    "    y_predict5.append(y_predict) ## valid 예측값\n",
    "    predict_test.append(test_predict) ## test 예측값\n",
    "    train_rmse5.append(RMSE(train_predict, train_target)) ## rmse\n",
    "    valid_rmse5.append(RMSE(y_predict, valid_target)) ## rmse"
   ]
  },
  {
   "cell_type": "code",
   "execution_count": 204,
   "id": "57e7a615-0232-4e1b-b74f-7d06d2928de4",
   "metadata": {},
   "outputs": [
    {
     "data": {
      "text/plain": [
       "(294.1149541952947, 319.2451370339959)"
      ]
     },
     "execution_count": 204,
     "metadata": {},
     "output_type": "execute_result"
    }
   ],
   "source": [
    "np.mean(train_rmse5), np.mean(valid_rmse5)"
   ]
  },
  {
   "cell_type": "code",
   "execution_count": 205,
   "id": "ca2ec654-886a-41b0-a9c9-9073c8fb80e7",
   "metadata": {},
   "outputs": [],
   "source": [
    "sum_ = 0\n",
    "for i in range(10):\n",
    "    sum_ += predict_test[i]"
   ]
  },
  {
   "cell_type": "code",
   "execution_count": 206,
   "id": "a0bd65c2-cef8-4fa2-ab82-13ecfce02a9a",
   "metadata": {},
   "outputs": [],
   "source": [
    "test_body_mass_predict = sum_ / 10"
   ]
  },
  {
   "cell_type": "code",
   "execution_count": 207,
   "id": "4a23ca76-0943-43b9-8446-870df109e1a6",
   "metadata": {},
   "outputs": [
    {
     "data": {
      "text/plain": [
       "array([4358.25052519, 5513.42078129, 3596.80613331, 3468.80666937,\n",
       "       3268.34843028, 4212.06403313])"
      ]
     },
     "execution_count": 207,
     "metadata": {},
     "output_type": "execute_result"
    }
   ],
   "source": [
    "test_body_mass_predict[:6]"
   ]
  },
  {
   "cell_type": "code",
   "execution_count": 208,
   "id": "7a628e36-f69e-4e08-b5c8-fe6c9e161cab",
   "metadata": {},
   "outputs": [],
   "source": [
    "# 제출용 sample 파일을 불러옴\n",
    "submission = pd.read_csv('C:/Users/Jaesu/Dacon-Basic/뗑컨-몸무게-예측/Data/sample_submission.csv')"
   ]
  },
  {
   "cell_type": "code",
   "execution_count": 209,
   "id": "86e4e555-d146-4b3a-8bcd-e51e20c87c52",
   "metadata": {},
   "outputs": [
    {
     "data": {
      "text/html": [
       "<div>\n",
       "<style scoped>\n",
       "    .dataframe tbody tr th:only-of-type {\n",
       "        vertical-align: middle;\n",
       "    }\n",
       "\n",
       "    .dataframe tbody tr th {\n",
       "        vertical-align: top;\n",
       "    }\n",
       "\n",
       "    .dataframe thead th {\n",
       "        text-align: right;\n",
       "    }\n",
       "</style>\n",
       "<table border=\"1\" class=\"dataframe\">\n",
       "  <thead>\n",
       "    <tr style=\"text-align: right;\">\n",
       "      <th></th>\n",
       "      <th>id</th>\n",
       "      <th>Body Mass (g)</th>\n",
       "    </tr>\n",
       "  </thead>\n",
       "  <tbody>\n",
       "    <tr>\n",
       "      <th>0</th>\n",
       "      <td>0</td>\n",
       "      <td>4358.250525</td>\n",
       "    </tr>\n",
       "    <tr>\n",
       "      <th>1</th>\n",
       "      <td>1</td>\n",
       "      <td>5513.420781</td>\n",
       "    </tr>\n",
       "    <tr>\n",
       "      <th>2</th>\n",
       "      <td>2</td>\n",
       "      <td>3596.806133</td>\n",
       "    </tr>\n",
       "    <tr>\n",
       "      <th>3</th>\n",
       "      <td>3</td>\n",
       "      <td>3468.806669</td>\n",
       "    </tr>\n",
       "    <tr>\n",
       "      <th>4</th>\n",
       "      <td>4</td>\n",
       "      <td>3268.348430</td>\n",
       "    </tr>\n",
       "  </tbody>\n",
       "</table>\n",
       "</div>"
      ],
      "text/plain": [
       "   id  Body Mass (g)\n",
       "0   0    4358.250525\n",
       "1   1    5513.420781\n",
       "2   2    3596.806133\n",
       "3   3    3468.806669\n",
       "4   4    3268.348430"
      ]
     },
     "execution_count": 209,
     "metadata": {},
     "output_type": "execute_result"
    }
   ],
   "source": [
    "# 위에서 구한 예측값을 그대로 넣음\n",
    "submission['Body Mass (g)'] = test_body_mass_predict\n",
    "\n",
    "# 데이터가 잘 들어갔는지 확인\n",
    "submission.head()"
   ]
  },
  {
   "cell_type": "code",
   "execution_count": 210,
   "id": "7433ed09-6a04-4e30-991d-ae0da9ccb14c",
   "metadata": {},
   "outputs": [],
   "source": [
    "# submission을 csv 파일로 저장\n",
    "submission.to_csv('C:/Users/Jaesu/Dacon-Basic/뗑컨-몸무게-예측/Data/submission_raw_10fold_ridge_0.7.csv', index = False)"
   ]
  },
  {
   "cell_type": "markdown",
   "id": "a2001699-380b-4c70-9145-3dd7dc77575c",
   "metadata": {},
   "source": [
    "## Full_Clutch 드랍"
   ]
  },
  {
   "cell_type": "code",
   "execution_count": 404,
   "id": "92e575c8-eeb7-4c6b-ae8a-26027c30881d",
   "metadata": {},
   "outputs": [],
   "source": [
    "x_train3 = x_train.drop('Full_Clutch', axis = 1)\n",
    "x_valid3 = x_valid.drop('Full_Clutch', axis = 1)"
   ]
  },
  {
   "cell_type": "markdown",
   "id": "a9892904-4885-4f11-a0cb-7fcbeaa0deb8",
   "metadata": {},
   "source": [
    "`-` 교호작용항을 추가하자"
   ]
  },
  {
   "cell_type": "code",
   "execution_count": 405,
   "id": "2f70874d-cbca-4315-bc7f-d7596b490621",
   "metadata": {},
   "outputs": [],
   "source": [
    "x_poly_train3 = poly(x_train3)\n",
    "x_poly_valid3 = poly(x_valid3)"
   ]
  },
  {
   "cell_type": "code",
   "execution_count": 406,
   "id": "bb9005db-fc91-4596-98a9-63f2bee228f1",
   "metadata": {},
   "outputs": [],
   "source": [
    "## 스케일러 생성\n",
    "standard_scaler = StandardScaler()\n",
    "\n",
    "## 트레인집합 정규화\n",
    "x_poly_train3_scaled = standard_scaler.fit_transform(x_poly_train3)\n",
    "x_poly_train3_scaled_df = pd.DataFrame(data = x_poly_train3_scaled, columns = x_poly_train3.columns)\n",
    "\n",
    "## 테스트집합 정규화\n",
    "x_poly_valid3_scaled = standard_scaler.transform(x_poly_valid3) ## x_train에서 학습한 정규화방식을 그대로 x_valid에 적용\n",
    "x_poly_valid3_scaled_df = pd.DataFrame(data = x_poly_valid3_scaled, columns = x_poly_valid3.columns)"
   ]
  },
  {
   "cell_type": "markdown",
   "id": "fa7ec333-fa46-459d-8361-47806cf685c2",
   "metadata": {},
   "source": [
    "`-` 최적의 $\\alpha$값을 선택해보자"
   ]
  },
  {
   "cell_type": "code",
   "execution_count": 408,
   "id": "c0576658-038d-4aa0-9213-b8a05dc31581",
   "metadata": {},
   "outputs": [],
   "source": [
    "train3_rmse_list, valid3_rmse_list = [], []\n",
    "train3_r2_list, valid3_r2_list = [], []\n",
    "alphas = np.linspace(0.01, 1, 100)\n",
    "\n",
    "for alpha in alphas:\n",
    "    lasso = Lasso(alpha = alpha, max_iter = 150000, random_state = 21)\n",
    "    lasso.fit(x_poly_train3_scaled_df, y_train)\n",
    "    \n",
    "    train_predict = lasso.predict(x_poly_train3_scaled_df) ## 훈련집합 예측\n",
    "    y_predict = lasso.predict(x_poly_valid3_scaled_df) ## valid셋 예측\n",
    "    \n",
    "    train_rmse = RMSE(train_predict, y_train) ## rmse\n",
    "    valid_rmse = RMSE(y_predict, y_valid)\n",
    "    train3_rmse_list.append(train_rmse)\n",
    "    valid3_rmse_list.append(valid_rmse)\n",
    "    \n",
    "    train_r2 = lasso.score(x_poly_train3_scaled_df, y_train) ## R^2\n",
    "    valid_r2 = lasso.score(x_poly_valid3_scaled_df, y_valid)\n",
    "    train3_r2_list.append(train_r2)\n",
    "    valid3_r2_list.append(valid_r2)"
   ]
  },
  {
   "cell_type": "markdown",
   "id": "fdfde504-ec52-4d9b-9d9f-dfb272cfd2f5",
   "metadata": {},
   "source": [
    "`-` 결정계수 시각화"
   ]
  },
  {
   "cell_type": "code",
   "execution_count": 409,
   "id": "7cd84b68-d95b-4317-97db-d802eea487b8",
   "metadata": {},
   "outputs": [
    {
     "data": {
      "text/plain": [
       "<matplotlib.legend.Legend at 0x29c7bee9490>"
      ]
     },
     "execution_count": 409,
     "metadata": {},
     "output_type": "execute_result"
    },
    {
     "data": {
      "image/png": "[encoded data removed]",
      "text/plain": [
       "<Figure size 432x288 with 1 Axes>"
      ]
     },
     "metadata": {
      "needs_background": "light"
     },
     "output_type": "display_data"
    }
   ],
   "source": [
    "plt.plot(alphas, train3_r2_list, 'b--', label = 'train set')\n",
    "plt.plot(alphas, valid3_r2_list, 'r--', label = 'valid set')\n",
    "plt.title('alpha and $R^2$')\n",
    "plt.legend()"
   ]
  },
  {
   "cell_type": "markdown",
   "id": "a45b427f-568b-4cb1-9b81-311d64a2f5ee",
   "metadata": {},
   "source": [
    "`-` RMSE(추정오차의 표준편차) 시각화"
   ]
  },
  {
   "cell_type": "code",
   "execution_count": 410,
   "id": "7e530f51-e6f5-4559-9cf2-15c0ad6701dc",
   "metadata": {},
   "outputs": [
    {
     "data": {
      "text/plain": [
       "<matplotlib.legend.Legend at 0x29c7bf9e190>"
      ]
     },
     "execution_count": 410,
     "metadata": {},
     "output_type": "execute_result"
    },
    {
     "data": {
      "image/png": "[encoded data removed]",
      "text/plain": [
       "<Figure size 432x288 with 1 Axes>"
      ]
     },
     "metadata": {
      "needs_background": "light"
     },
     "output_type": "display_data"
    }
   ],
   "source": [
    "plt.plot(alphas, train3_rmse_list, 'b--', label = 'train set')\n",
    "plt.plot(alphas, valid3_rmse_list, 'r--', label = 'valid set')\n",
    "plt.title('alpha and rmse')\n",
    "plt.legend()"
   ]
  },
  {
   "cell_type": "markdown",
   "id": "93229e7b-657a-45ca-adea-4e8f24e6df80",
   "metadata": {},
   "source": [
    "`-` 변수를 드랍하지 않고 라쏘 회귀를 돌린 모형과 비슷한 그래프를 보인다\n",
    "\n",
    "`-` $\\alpha = 0.7$일 때가 최적으로 보인다"
   ]
  },
  {
   "cell_type": "markdown",
   "id": "cfcd20dc-685b-451d-85f6-3c15bd1c38e0",
   "metadata": {},
   "source": [
    "### 교호작용 + 교차검증\n",
    "\n",
    "`-` 라쏘 회귀 사용함"
   ]
  },
  {
   "cell_type": "code",
   "execution_count": 206,
   "id": "d319e4b7-e3d3-431f-bd9a-c692f06bb08f",
   "metadata": {},
   "outputs": [],
   "source": [
    "Y_raw = pd.concat([y_train_raw, y_valid_raw])"
   ]
  },
  {
   "cell_type": "code",
   "execution_count": 207,
   "id": "c615f182-342c-40e2-9170-89755bf41c32",
   "metadata": {},
   "outputs": [],
   "source": [
    "X_poly_raw2 = pd.concat([x_poly_train_raw2, x_poly_valid_raw2])"
   ]
  },
  {
   "cell_type": "code",
   "execution_count": 208,
   "id": "98ece4df-71de-4c88-a08d-285723ca2394",
   "metadata": {},
   "outputs": [],
   "source": [
    "## 스케일러 생성\n",
    "standard_scaler_raw2 = StandardScaler()\n",
    "\n",
    "## 전체 데이터셋 정규화\n",
    "X_poly_raw_scaled2 = standard_scaler_raw2.fit_transform(X_poly_raw2)\n",
    "X_poly_raw_scaled_df2 = pd.DataFrame(data = X_poly_raw_scaled2, columns = X_poly_raw2.columns)"
   ]
  },
  {
   "cell_type": "code",
   "execution_count": 209,
   "id": "6a01c40f-eb2c-4b27-b581-4c23631ae9dd",
   "metadata": {},
   "outputs": [],
   "source": [
    "scaled_raw_df2 = pd.concat([X_poly_raw_scaled_df2, Y_raw.reset_index().drop('index', axis = 1)], axis = 1) ## 왜 합쳤지?"
   ]
  },
  {
   "cell_type": "code",
   "execution_count": 218,
   "id": "954a2948-9f69-4134-943b-50a1efaf7db9",
   "metadata": {},
   "outputs": [],
   "source": [
    "train_raw_kfold_rmse_list3, valid_raw_kfold_rmse_list3 = [], []\n",
    "train_raw_kfold_r2_list3, valid_raw_kfold_r2_list3 = [], []\n",
    "alphas = np.linspace(0.01, 20, 300)\n",
    "\n",
    "for alpha in alphas:\n",
    "    lasso3 = Lasso(alpha = alpha, max_iter = 150000, random_state = 21)\n",
    "    scores = cross_validate(lasso3, X_poly_raw_scaled_df2, Y_raw.reset_index().drop('index', axis = 1),\n",
    "                            scoring = ('r2', 'neg_mean_squared_error'), return_train_score = True, cv = 5)\n",
    "    \n",
    "    train_raw_kfold_rmse_list3.append(np.mean(list(map(get_rmse, scores['train_neg_mean_squared_error'])))) ## rmse\n",
    "    valid_raw_kfold_rmse_list3.append(np.mean(list(map(get_rmse, scores['test_neg_mean_squared_error']))))\n",
    "    \n",
    "    train_raw_kfold_r2_list3.append(np.mean(scores['train_r2'])) ## r2\n",
    "    valid_raw_kfold_r2_list3.append(np.mean(scores['test_r2']))"
   ]
  },
  {
   "cell_type": "markdown",
   "id": "00f753c2-cd86-430e-86b5-0d140745f817",
   "metadata": {},
   "source": [
    "#### $R^2$ 시각화"
   ]
  },
  {
   "cell_type": "code",
   "execution_count": 219,
   "id": "c6d5d58e-a895-4757-9d76-f2d424f061ac",
   "metadata": {},
   "outputs": [
    {
     "data": {
      "text/plain": [
       "<matplotlib.legend.Legend at 0x1f1e2c55bb0>"
      ]
     },
     "execution_count": 219,
     "metadata": {},
     "output_type": "execute_result"
    },
    {
     "data": {
      "image/png": "[encoded data removed]",
      "text/plain": [
       "<Figure size 432x288 with 1 Axes>"
      ]
     },
     "metadata": {
      "needs_background": "light"
     },
     "output_type": "display_data"
    }
   ],
   "source": [
    "plt.plot(alphas, train_raw_kfold_r2_list3, 'b--', label = 'train set')\n",
    "plt.plot(alphas, valid_raw_kfold_r2_list3, 'r--', label = 'valid set')\n",
    "plt.title('alpha and $R^2$')\n",
    "plt.legend()"
   ]
  },
  {
   "cell_type": "markdown",
   "id": "d1b01512-2338-424e-9f76-fe490cbd2284",
   "metadata": {},
   "source": [
    "#### RMSE(추정오차의 표준편차) 시각화"
   ]
  },
  {
   "cell_type": "code",
   "execution_count": 220,
   "id": "5ed4dc77-2df0-4cd2-92b2-d8f73a085254",
   "metadata": {},
   "outputs": [
    {
     "data": {
      "text/plain": [
       "<matplotlib.legend.Legend at 0x1f1e34e9850>"
      ]
     },
     "execution_count": 220,
     "metadata": {},
     "output_type": "execute_result"
    },
    {
     "data": {
      "image/png": "[encoded data removed]",
      "text/plain": [
       "<Figure size 432x288 with 1 Axes>"
      ]
     },
     "metadata": {
      "needs_background": "light"
     },
     "output_type": "display_data"
    }
   ],
   "source": [
    "plt.plot(alphas, train_raw_kfold_rmse_list3, 'b--', label = 'train set')\n",
    "plt.plot(alphas, valid_raw_kfold_rmse_list3, 'r--', label = 'valid set')\n",
    "plt.title('alpha and rmse')\n",
    "plt.legend()"
   ]
  },
  {
   "cell_type": "markdown",
   "id": "43517387-367a-471d-9eeb-eefda8346815",
   "metadata": {},
   "source": [
    "`-` 릿지 회귀"
   ]
  },
  {
   "cell_type": "code",
   "execution_count": 221,
   "id": "e66c01dc-6657-4aab-8374-2e15cddbcf4e",
   "metadata": {},
   "outputs": [],
   "source": [
    "train_raw_kfold_rmse_list4, valid_raw_kfold_rmse_list4 = [], []\n",
    "train_raw_kfold_r2_list4, valid_raw_kfold_r2_list4 = [], []\n",
    "alphas = np.linspace(0.01, 20, 300)\n",
    "\n",
    "for alpha in alphas:\n",
    "    ridge3 = Ridge(alpha = alpha, max_iter = 150000, random_state = 21)\n",
    "    scores = cross_validate(ridge3, X_poly_raw_scaled_df2, Y_raw.reset_index().drop('index', axis = 1),\n",
    "                            scoring = ('r2', 'neg_mean_squared_error'), return_train_score = True, cv = 5)\n",
    "    \n",
    "    train_raw_kfold_rmse_list4.append(np.mean(list(map(get_rmse, scores['train_neg_mean_squared_error'])))) ## rmse\n",
    "    valid_raw_kfold_rmse_list4.append(np.mean(list(map(get_rmse, scores['test_neg_mean_squared_error']))))\n",
    "    \n",
    "    train_raw_kfold_r2_list4.append(np.mean(scores['train_r2'])) ## r2\n",
    "    valid_raw_kfold_r2_list4.append(np.mean(scores['test_r2']))"
   ]
  },
  {
   "cell_type": "markdown",
   "id": "d5f682d8-82e2-4e30-861d-9ede10491283",
   "metadata": {},
   "source": [
    "#### $R^2$ 시각화"
   ]
  },
  {
   "cell_type": "code",
   "execution_count": 222,
   "id": "f02da8ce-f1a2-445d-a21a-86691ddfc380",
   "metadata": {},
   "outputs": [
    {
     "data": {
      "text/plain": [
       "<matplotlib.legend.Legend at 0x1f1e3169640>"
      ]
     },
     "execution_count": 222,
     "metadata": {},
     "output_type": "execute_result"
    },
    {
     "data": {
      "image/png": "[encoded data removed]",
      "text/plain": [
       "<Figure size 432x288 with 1 Axes>"
      ]
     },
     "metadata": {
      "needs_background": "light"
     },
     "output_type": "display_data"
    }
   ],
   "source": [
    "plt.plot(alphas, train_raw_kfold_r2_list4, 'b--', label = 'train set')\n",
    "plt.plot(alphas, valid_raw_kfold_r2_list4, 'r--', label = 'valid set')\n",
    "plt.title('alpha and $R^2$')\n",
    "plt.legend()"
   ]
  },
  {
   "cell_type": "markdown",
   "id": "7adf3fb4-e94b-4bb5-9e1d-22e563e39558",
   "metadata": {},
   "source": [
    "#### RMSE(추정오차의 표준편차) 시각화"
   ]
  },
  {
   "cell_type": "code",
   "execution_count": 223,
   "id": "d0bc89e5-3abd-4772-a357-64bd20e2f5ca",
   "metadata": {},
   "outputs": [
    {
     "data": {
      "text/plain": [
       "<matplotlib.legend.Legend at 0x1f1e302cee0>"
      ]
     },
     "execution_count": 223,
     "metadata": {},
     "output_type": "execute_result"
    },
    {
     "data": {
      "image/png": "[encoded data removed]",
      "text/plain": [
       "<Figure size 432x288 with 1 Axes>"
      ]
     },
     "metadata": {
      "needs_background": "light"
     },
     "output_type": "display_data"
    }
   ],
   "source": [
    "plt.plot(alphas, train_raw_kfold_rmse_list4, 'b--', label = 'train set')\n",
    "plt.plot(alphas, valid_raw_kfold_rmse_list4, 'r--', label = 'valid set')\n",
    "plt.title('alpha and rmse')\n",
    "plt.legend()"
   ]
  },
  {
   "cell_type": "markdown",
   "id": "0e3d3742-fd74-4289-9553-587528e7bff1",
   "metadata": {},
   "source": [
    "### 교차검증"
   ]
  },
  {
   "cell_type": "markdown",
   "id": "4b498ae2-0d48-4b08-afcc-d8ee3252d254",
   "metadata": {},
   "source": [
    "`-` 교호작용 생략하고 교차검증만 수행"
   ]
  },
  {
   "cell_type": "code",
   "execution_count": 228,
   "id": "af787679-2b88-4abf-ae92-550e27844cdf",
   "metadata": {},
   "outputs": [],
   "source": [
    "x_raw3 = pd.concat([x_train_raw2, x_valid_raw2])"
   ]
  },
  {
   "cell_type": "code",
   "execution_count": 234,
   "id": "c1a0ce6a-802c-4c47-86a2-8d7e658ed0de",
   "metadata": {},
   "outputs": [
    {
     "data": {
      "text/plain": [
       "85    5550\n",
       "98    5500\n",
       "69    5350\n",
       "0     5550\n",
       "22    4650\n",
       "Name: Body_Mass, dtype: int64"
      ]
     },
     "execution_count": 234,
     "metadata": {},
     "output_type": "execute_result"
    }
   ],
   "source": [
    "Y_raw.head()"
   ]
  },
  {
   "cell_type": "code",
   "execution_count": 235,
   "id": "ec023e62-e373-458a-a438-edf9601ac9b8",
   "metadata": {},
   "outputs": [],
   "source": [
    "## 스케일러 생성\n",
    "standard_scaler_raw3 = StandardScaler()\n",
    "\n",
    "## 전체 데이터셋 정규화\n",
    "X_raw_scaled3 = standard_scaler_raw3.fit_transform(x_raw3)\n",
    "X_raw_scaled_df3 = pd.DataFrame(data = X_raw_scaled3, columns = x_raw3.columns)"
   ]
  },
  {
   "cell_type": "code",
   "execution_count": 237,
   "id": "1eeee19a-7855-4dc0-9ad6-652f1c8516e7",
   "metadata": {},
   "outputs": [
    {
     "data": {
      "text/html": [
       "<div>\n",
       "<style scoped>\n",
       "    .dataframe tbody tr th:only-of-type {\n",
       "        vertical-align: middle;\n",
       "    }\n",
       "\n",
       "    .dataframe tbody tr th {\n",
       "        vertical-align: top;\n",
       "    }\n",
       "\n",
       "    .dataframe thead th {\n",
       "        text-align: right;\n",
       "    }\n",
       "</style>\n",
       "<table border=\"1\" class=\"dataframe\">\n",
       "  <thead>\n",
       "    <tr style=\"text-align: right;\">\n",
       "      <th></th>\n",
       "      <th>Species</th>\n",
       "      <th>Island</th>\n",
       "      <th>Culmen_Length</th>\n",
       "      <th>Culmen_Depth</th>\n",
       "      <th>Flipper_Length</th>\n",
       "      <th>Sex</th>\n",
       "      <th>DeltaN</th>\n",
       "      <th>DeltaC</th>\n",
       "    </tr>\n",
       "  </thead>\n",
       "  <tbody>\n",
       "    <tr>\n",
       "      <th>0</th>\n",
       "      <td>1.064848</td>\n",
       "      <td>-0.900401</td>\n",
       "      <td>0.827950</td>\n",
       "      <td>-0.473354</td>\n",
       "      <td>0.887474</td>\n",
       "      <td>1.0</td>\n",
       "      <td>-1.130483</td>\n",
       "      <td>0.264430</td>\n",
       "    </tr>\n",
       "    <tr>\n",
       "      <th>1</th>\n",
       "      <td>1.064848</td>\n",
       "      <td>-0.900401</td>\n",
       "      <td>0.846824</td>\n",
       "      <td>-1.042468</td>\n",
       "      <td>1.710011</td>\n",
       "      <td>1.0</td>\n",
       "      <td>-0.135740</td>\n",
       "      <td>-0.074362</td>\n",
       "    </tr>\n",
       "    <tr>\n",
       "      <th>2</th>\n",
       "      <td>1.064848</td>\n",
       "      <td>-0.900401</td>\n",
       "      <td>1.016685</td>\n",
       "      <td>-0.576829</td>\n",
       "      <td>1.435832</td>\n",
       "      <td>1.0</td>\n",
       "      <td>-0.957962</td>\n",
       "      <td>-0.789703</td>\n",
       "    </tr>\n",
       "    <tr>\n",
       "      <th>3</th>\n",
       "      <td>1.064848</td>\n",
       "      <td>-0.900401</td>\n",
       "      <td>1.016685</td>\n",
       "      <td>-0.887255</td>\n",
       "      <td>1.161653</td>\n",
       "      <td>1.0</td>\n",
       "      <td>-0.770241</td>\n",
       "      <td>0.637574</td>\n",
       "    </tr>\n",
       "    <tr>\n",
       "      <th>4</th>\n",
       "      <td>1.064848</td>\n",
       "      <td>-0.900401</td>\n",
       "      <td>-0.210092</td>\n",
       "      <td>-0.938992</td>\n",
       "      <td>0.681840</td>\n",
       "      <td>-1.0</td>\n",
       "      <td>-0.929426</td>\n",
       "      <td>-0.451030</td>\n",
       "    </tr>\n",
       "  </tbody>\n",
       "</table>\n",
       "</div>"
      ],
      "text/plain": [
       "    Species    Island  Culmen_Length  Culmen_Depth  Flipper_Length  Sex  \\\n",
       "0  1.064848 -0.900401       0.827950     -0.473354        0.887474  1.0   \n",
       "1  1.064848 -0.900401       0.846824     -1.042468        1.710011  1.0   \n",
       "2  1.064848 -0.900401       1.016685     -0.576829        1.435832  1.0   \n",
       "3  1.064848 -0.900401       1.016685     -0.887255        1.161653  1.0   \n",
       "4  1.064848 -0.900401      -0.210092     -0.938992        0.681840 -1.0   \n",
       "\n",
       "     DeltaN    DeltaC  \n",
       "0 -1.130483  0.264430  \n",
       "1 -0.135740 -0.074362  \n",
       "2 -0.957962 -0.789703  \n",
       "3 -0.770241  0.637574  \n",
       "4 -0.929426 -0.451030  "
      ]
     },
     "execution_count": 237,
     "metadata": {},
     "output_type": "execute_result"
    }
   ],
   "source": [
    "X_raw_scaled_df3.head()"
   ]
  },
  {
   "cell_type": "markdown",
   "id": "21e6c5f9-a5b8-404a-82ae-7bb311d6155c",
   "metadata": {},
   "source": [
    "`-` 라쏘 회귀"
   ]
  },
  {
   "cell_type": "code",
   "execution_count": 238,
   "id": "6c0eb57d-2c4f-4c2f-a55c-f527fe15df06",
   "metadata": {},
   "outputs": [],
   "source": [
    "train_raw_kfold_rmse_list5, valid_raw_kfold_rmse_list5 = [], []\n",
    "train_raw_kfold_r2_list5, valid_raw_kfold_r2_list5 = [], []\n",
    "alphas = np.linspace(0.01, 20, 300)\n",
    "\n",
    "for alpha in alphas:\n",
    "    lasso4 = Lasso(alpha = alpha, max_iter = 150000, random_state = 21)\n",
    "    scores = cross_validate(lasso4, X_raw_scaled_df3, Y_raw.reset_index().drop('index', axis = 1),\n",
    "                            scoring = ('r2', 'neg_mean_squared_error'), return_train_score = True, cv = 5)\n",
    "    \n",
    "    train_raw_kfold_rmse_list5.append(np.mean(list(map(get_rmse, scores['train_neg_mean_squared_error'])))) ## rmse\n",
    "    valid_raw_kfold_rmse_list5.append(np.mean(list(map(get_rmse, scores['test_neg_mean_squared_error']))))\n",
    "    \n",
    "    train_raw_kfold_r2_list5.append(np.mean(scores['train_r2'])) ## r2\n",
    "    valid_raw_kfold_r2_list5.append(np.mean(scores['test_r2']))"
   ]
  },
  {
   "cell_type": "markdown",
   "id": "056abb3f-8ca1-4611-8015-8d8f42788a0d",
   "metadata": {},
   "source": [
    "#### $R^2$ 시각화"
   ]
  },
  {
   "cell_type": "code",
   "execution_count": 239,
   "id": "baff7f7d-d058-4115-8452-bfeada880d08",
   "metadata": {},
   "outputs": [
    {
     "data": {
      "text/plain": [
       "<matplotlib.legend.Legend at 0x1f1e30a8790>"
      ]
     },
     "execution_count": 239,
     "metadata": {},
     "output_type": "execute_result"
    },
    {
     "data": {
      "image/png": "[encoded data removed]",
      "text/plain": [
       "<Figure size 432x288 with 1 Axes>"
      ]
     },
     "metadata": {
      "needs_background": "light"
     },
     "output_type": "display_data"
    }
   ],
   "source": [
    "plt.plot(alphas, train_raw_kfold_r2_list5, 'b--', label = 'train set')\n",
    "plt.plot(alphas, valid_raw_kfold_r2_list5, 'r--', label = 'valid set')\n",
    "plt.title('alpha and $R^2$')\n",
    "plt.legend()"
   ]
  },
  {
   "cell_type": "markdown",
   "id": "03c45797-1765-46bf-aa33-01d1a75f02d5",
   "metadata": {},
   "source": [
    "#### RMSE(추정오차의 표준편차) 시각화"
   ]
  },
  {
   "cell_type": "code",
   "execution_count": 240,
   "id": "91768ef4-35c5-4397-b479-9c006581d06d",
   "metadata": {},
   "outputs": [
    {
     "data": {
      "text/plain": [
       "<matplotlib.legend.Legend at 0x1f1e2f6f9d0>"
      ]
     },
     "execution_count": 240,
     "metadata": {},
     "output_type": "execute_result"
    },
    {
     "data": {
      "image/png": "[encoded data removed]",
      "text/plain": [
       "<Figure size 432x288 with 1 Axes>"
      ]
     },
     "metadata": {
      "needs_background": "light"
     },
     "output_type": "display_data"
    }
   ],
   "source": [
    "plt.plot(alphas, train_raw_kfold_rmse_list5, 'b--', label = 'train set')\n",
    "plt.plot(alphas, valid_raw_kfold_rmse_list5, 'r--', label = 'valid set')\n",
    "plt.title('alpha and rmse')\n",
    "plt.legend()"
   ]
  },
  {
   "cell_type": "markdown",
   "id": "2cf81f98-07b3-4d30-98e4-579ba2d026a0",
   "metadata": {},
   "source": [
    "`-` 릿지 회귀"
   ]
  },
  {
   "cell_type": "code",
   "execution_count": 241,
   "id": "a1a2e8e1-d990-49ae-b0f7-4538ef0c5c56",
   "metadata": {},
   "outputs": [],
   "source": [
    "train_raw_kfold_rmse_list6, valid_raw_kfold_rmse_list6 = [], []\n",
    "train_raw_kfold_r2_list6, valid_raw_kfold_r2_list6 = [], []\n",
    "alphas = np.linspace(0.01, 20, 300)\n",
    "\n",
    "for alpha in alphas:\n",
    "    ridge4 = Ridge(alpha = alpha, max_iter = 150000, random_state = 21)\n",
    "    scores = cross_validate(ridge4, X_raw_scaled_df3, Y_raw.reset_index().drop('index', axis = 1),\n",
    "                            scoring = ('r2', 'neg_mean_squared_error'), return_train_score = True, cv = 5)\n",
    "    \n",
    "    train_raw_kfold_rmse_list6.append(np.mean(list(map(get_rmse, scores['train_neg_mean_squared_error'])))) ## rmse\n",
    "    valid_raw_kfold_rmse_list6.append(np.mean(list(map(get_rmse, scores['test_neg_mean_squared_error']))))\n",
    "    \n",
    "    train_raw_kfold_r2_list6.append(np.mean(scores['train_r2'])) ## r2\n",
    "    valid_raw_kfold_r2_list6.append(np.mean(scores['test_r2']))"
   ]
  },
  {
   "cell_type": "markdown",
   "id": "77507bc7-ea1e-4ad4-a1b1-b05fe16e5165",
   "metadata": {},
   "source": [
    "#### $R^2$ 시각화"
   ]
  },
  {
   "cell_type": "code",
   "execution_count": 242,
   "id": "68feacc0-25ea-4de6-9419-6a13f11671ad",
   "metadata": {},
   "outputs": [
    {
     "data": {
      "text/plain": [
       "<matplotlib.legend.Legend at 0x1f1e3589880>"
      ]
     },
     "execution_count": 242,
     "metadata": {},
     "output_type": "execute_result"
    },
    {
     "data": {
      "image/png": "[encoded data removed]",
      "text/plain": [
       "<Figure size 432x288 with 1 Axes>"
      ]
     },
     "metadata": {
      "needs_background": "light"
     },
     "output_type": "display_data"
    }
   ],
   "source": [
    "plt.plot(alphas, train_raw_kfold_r2_list6, 'b--', label = 'train set')\n",
    "plt.plot(alphas, valid_raw_kfold_r2_list6, 'r--', label = 'valid set')\n",
    "plt.title('alpha and $R^2$')\n",
    "plt.legend()"
   ]
  },
  {
   "cell_type": "markdown",
   "id": "71073d79-f415-4bdc-b577-27caedc1f351",
   "metadata": {},
   "source": [
    "#### RMSE(추정오차의 표준편차) 시각화"
   ]
  },
  {
   "cell_type": "code",
   "execution_count": 243,
   "id": "3e70dce8-d295-4cda-987e-c2b08de96264",
   "metadata": {},
   "outputs": [
    {
     "data": {
      "text/plain": [
       "<matplotlib.legend.Legend at 0x1f1e3044f10>"
      ]
     },
     "execution_count": 243,
     "metadata": {},
     "output_type": "execute_result"
    },
    {
     "data": {
      "image/png": "[encoded data removed]",
      "text/plain": [
       "<Figure size 432x288 with 1 Axes>"
      ]
     },
     "metadata": {
      "needs_background": "light"
     },
     "output_type": "display_data"
    }
   ],
   "source": [
    "plt.plot(alphas, train_raw_kfold_rmse_list6, 'b--', label = 'train set')\n",
    "plt.plot(alphas, valid_raw_kfold_rmse_list6, 'r--', label = 'valid set')\n",
    "plt.title('alpha and rmse')\n",
    "plt.legend()"
   ]
  },
  {
   "cell_type": "markdown",
   "id": "114dd054-9ffd-42f3-b30c-e39e8f135f23",
   "metadata": {},
   "source": [
    "`-` 성능은 라쏘 > 릿지 > 엘라스틱 넷"
   ]
  },
  {
   "cell_type": "markdown",
   "id": "4fad35c7-5afa-4363-b201-bdc4733f200b",
   "metadata": {},
   "source": [
    "### test 예측"
   ]
  },
  {
   "cell_type": "markdown",
   "id": "8e0087e4-37ef-4492-82fa-d5d2fb3212dd",
   "metadata": {},
   "source": [
    "`-` 성능이 가장 좋게 나온 라쏘 회귀 모형을 통해 test 데이터를 예측하자\n",
    "\n",
    "`-` Full_Clutch와 Island를 드랍하고 교호작용을 추가한 데이터를 사용하자\n",
    "\n",
    "`-` $\\alpha = 0.4$인 라쏘 모델을 사용하자"
   ]
  },
  {
   "cell_type": "code",
   "execution_count": 222,
   "id": "bf4783dc-85de-4f4c-865a-1a46e586039a",
   "metadata": {},
   "outputs": [
    {
     "data": {
      "text/html": [
       "<div>\n",
       "<style scoped>\n",
       "    .dataframe tbody tr th:only-of-type {\n",
       "        vertical-align: middle;\n",
       "    }\n",
       "\n",
       "    .dataframe tbody tr th {\n",
       "        vertical-align: top;\n",
       "    }\n",
       "\n",
       "    .dataframe thead th {\n",
       "        text-align: right;\n",
       "    }\n",
       "</style>\n",
       "<table border=\"1\" class=\"dataframe\">\n",
       "  <thead>\n",
       "    <tr style=\"text-align: right;\">\n",
       "      <th></th>\n",
       "      <th>id</th>\n",
       "      <th>Species</th>\n",
       "      <th>Island</th>\n",
       "      <th>Clutch Completion</th>\n",
       "      <th>Culmen Length (mm)</th>\n",
       "      <th>Culmen Depth (mm)</th>\n",
       "      <th>Flipper Length (mm)</th>\n",
       "      <th>Sex</th>\n",
       "      <th>Delta 15 N (o/oo)</th>\n",
       "      <th>Delta 13 C (o/oo)</th>\n",
       "    </tr>\n",
       "  </thead>\n",
       "  <tbody>\n",
       "    <tr>\n",
       "      <th>0</th>\n",
       "      <td>0</td>\n",
       "      <td>Chinstrap penguin (Pygoscelis antarctica)</td>\n",
       "      <td>Dream</td>\n",
       "      <td>Yes</td>\n",
       "      <td>52.0</td>\n",
       "      <td>20.7</td>\n",
       "      <td>210.0</td>\n",
       "      <td>MALE</td>\n",
       "      <td>9.43146</td>\n",
       "      <td>-24.68440</td>\n",
       "    </tr>\n",
       "    <tr>\n",
       "      <th>1</th>\n",
       "      <td>1</td>\n",
       "      <td>Gentoo penguin (Pygoscelis papua)</td>\n",
       "      <td>Biscoe</td>\n",
       "      <td>Yes</td>\n",
       "      <td>55.9</td>\n",
       "      <td>17.0</td>\n",
       "      <td>228.0</td>\n",
       "      <td>MALE</td>\n",
       "      <td>8.31180</td>\n",
       "      <td>-26.35425</td>\n",
       "    </tr>\n",
       "    <tr>\n",
       "      <th>2</th>\n",
       "      <td>2</td>\n",
       "      <td>Adelie Penguin (Pygoscelis adeliae)</td>\n",
       "      <td>Dream</td>\n",
       "      <td>Yes</td>\n",
       "      <td>38.9</td>\n",
       "      <td>18.8</td>\n",
       "      <td>190.0</td>\n",
       "      <td>FEMALE</td>\n",
       "      <td>8.36936</td>\n",
       "      <td>-26.11199</td>\n",
       "    </tr>\n",
       "    <tr>\n",
       "      <th>3</th>\n",
       "      <td>3</td>\n",
       "      <td>Chinstrap penguin (Pygoscelis antarctica)</td>\n",
       "      <td>Dream</td>\n",
       "      <td>Yes</td>\n",
       "      <td>45.2</td>\n",
       "      <td>16.6</td>\n",
       "      <td>191.0</td>\n",
       "      <td>FEMALE</td>\n",
       "      <td>9.62357</td>\n",
       "      <td>-24.78984</td>\n",
       "    </tr>\n",
       "    <tr>\n",
       "      <th>4</th>\n",
       "      <td>4</td>\n",
       "      <td>Adelie Penguin (Pygoscelis adeliae)</td>\n",
       "      <td>Biscoe</td>\n",
       "      <td>No</td>\n",
       "      <td>37.9</td>\n",
       "      <td>18.6</td>\n",
       "      <td>172.0</td>\n",
       "      <td>FEMALE</td>\n",
       "      <td>8.38404</td>\n",
       "      <td>-25.19837</td>\n",
       "    </tr>\n",
       "  </tbody>\n",
       "</table>\n",
       "</div>"
      ],
      "text/plain": [
       "   id                                    Species  Island Clutch Completion  \\\n",
       "0   0  Chinstrap penguin (Pygoscelis antarctica)   Dream               Yes   \n",
       "1   1          Gentoo penguin (Pygoscelis papua)  Biscoe               Yes   \n",
       "2   2        Adelie Penguin (Pygoscelis adeliae)   Dream               Yes   \n",
       "3   3  Chinstrap penguin (Pygoscelis antarctica)   Dream               Yes   \n",
       "4   4        Adelie Penguin (Pygoscelis adeliae)  Biscoe                No   \n",
       "\n",
       "   Culmen Length (mm)  Culmen Depth (mm)  Flipper Length (mm)     Sex  \\\n",
       "0                52.0               20.7                210.0    MALE   \n",
       "1                55.9               17.0                228.0    MALE   \n",
       "2                38.9               18.8                190.0  FEMALE   \n",
       "3                45.2               16.6                191.0  FEMALE   \n",
       "4                37.9               18.6                172.0  FEMALE   \n",
       "\n",
       "   Delta 15 N (o/oo)  Delta 13 C (o/oo)  \n",
       "0            9.43146          -24.68440  \n",
       "1            8.31180          -26.35425  \n",
       "2            8.36936          -26.11199  \n",
       "3            9.62357          -24.78984  \n",
       "4            8.38404          -25.19837  "
      ]
     },
     "execution_count": 222,
     "metadata": {},
     "output_type": "execute_result"
    }
   ],
   "source": [
    "test = pd.read_csv('C:/Users/Jaesu/Dacon-Basic/뗑컨-몸무게-예측/Data/test.csv')\n",
    "test.head()"
   ]
  },
  {
   "cell_type": "code",
   "execution_count": 223,
   "id": "415f2aea-8fde-4609-8cf2-bcd3ad9f1654",
   "metadata": {},
   "outputs": [
    {
     "data": {
      "text/plain": [
       "id                     0\n",
       "Species                0\n",
       "Island                 0\n",
       "Clutch Completion      0\n",
       "Culmen Length (mm)     0\n",
       "Culmen Depth (mm)      0\n",
       "Flipper Length (mm)    0\n",
       "Sex                    6\n",
       "Delta 15 N (o/oo)      9\n",
       "Delta 13 C (o/oo)      8\n",
       "dtype: int64"
      ]
     },
     "execution_count": 223,
     "metadata": {},
     "output_type": "execute_result"
    }
   ],
   "source": [
    "test.isnull().sum()"
   ]
  },
  {
   "cell_type": "code",
   "execution_count": 224,
   "id": "04db3e2e-80dc-4d6c-9242-511a693c8f52",
   "metadata": {},
   "outputs": [],
   "source": [
    "test['Delta 15 N (o/oo)'].fillna(dt['DeltaN'].median(), inplace = True) ## train셋의 중앙값을 대입\n",
    "test['Delta 13 C (o/oo)'].fillna(dt['DeltaC'].median(), inplace = True) ## train셋의 중앙값을 대입"
   ]
  },
  {
   "cell_type": "code",
   "execution_count": 225,
   "id": "e1ca398d-610d-47a5-acad-03cc087ec83e",
   "metadata": {},
   "outputs": [],
   "source": [
    "test.rename(columns = {'Clutch Completion':'Full_Clutch', 'Culmen Length (mm)':'Culmen_Length', \n",
    "                     'Culmen Depth (mm)':'Culmen_Depth', 'Flipper Length (mm)':'Flipper_Length',\n",
    "                     'Delta 15 N (o/oo)':'DeltaN', 'Delta 13 C (o/oo)':'DeltaC', 'Body Mass (g)':'Body_Mass'}, inplace = True) ## 편의상 열 이름 변경"
   ]
  },
  {
   "cell_type": "code",
   "execution_count": 226,
   "id": "80368ded-f5ee-4c83-a49a-ac7559f35529",
   "metadata": {},
   "outputs": [],
   "source": [
    "test.loc[[46,81,98,152,205,209], 'Sex'] = ['FEMALE'] * 6 ## train셋과 비교하여 몸무게와 상관관계가 큰 날개 길이가 작아 암컷으로 넣어줌 "
   ]
  },
  {
   "cell_type": "code",
   "execution_count": 227,
   "id": "e339a6e5-4dda-44dc-8c45-daad29184c5a",
   "metadata": {},
   "outputs": [],
   "source": [
    "test.drop('id', axis = 1, inplace = True) ## id는 필요없으니 드랍"
   ]
  },
  {
   "cell_type": "markdown",
   "id": "0030f55b-c2e1-40b7-ba32-48860c4e5afd",
   "metadata": {},
   "source": [
    "`-` test 셋도 범주형변수에 대해 라벨 인코딩을 해주자"
   ]
  },
  {
   "cell_type": "code",
   "execution_count": 933,
   "id": "05bd178b-0b7c-4cb1-bae1-938076eedc66",
   "metadata": {},
   "outputs": [],
   "source": [
    "# test2 = test.copy()\n",
    "# for col in test2.columns:\n",
    "#     if test2.dtypes[col] == 'O':\n",
    "#         encoder = LabelEncoder()\n",
    "#         encoder.fit(test2[col])\n",
    "#         labels = encoder.transform(test2[col])\n",
    "#         test2[col] = list(labels) "
   ]
  },
  {
   "cell_type": "markdown",
   "id": "2796390b-7868-4097-98fb-8d17b5fcce40",
   "metadata": {},
   "source": [
    "`-` 위랑 아래랑 똑같음!\n",
    "\n",
    "`-` train에서 fit한 라벨인코딩을 사용하여 test셋을 transform하자"
   ]
  },
  {
   "cell_type": "code",
   "execution_count": 228,
   "id": "43a025fe-35d2-48e8-8d8a-f539b9a35b65",
   "metadata": {},
   "outputs": [],
   "source": [
    "test2 = test.copy()"
   ]
  },
  {
   "cell_type": "code",
   "execution_count": 229,
   "id": "ef95454e-51bc-4263-9fc0-3d04c9185ce1",
   "metadata": {},
   "outputs": [],
   "source": [
    "test2.drop(['Island', 'Full_Clutch'], axis = 1, inplace = True)"
   ]
  },
  {
   "cell_type": "code",
   "execution_count": 230,
   "id": "c5e4b67b-5a51-413b-9cfc-8c7563980515",
   "metadata": {},
   "outputs": [],
   "source": [
    "test_species_labels = species_encoder.transform(test2['Species'])\n",
    "test2['Species'] = list(test_species_labels) ## Species labelencoding\n",
    "\n",
    "# test_island_labels = island_encoder.transform(test2['Island'])\n",
    "# test2['Island'] = list(test_island_labels) ## Island labelencoding\n",
    "\n",
    "# test_full_clutch_labels = full_clutch_encoder.transform(test2['Full_Clutch'])\n",
    "# test2['Full_Clutch'] = list(test_full_clutch_labels) ## Full_Clutch labelencoding\n",
    "\n",
    "test_sex_labels = sex_encoder.transform(test2['Sex'])\n",
    "test2['Sex'] = list(test_sex_labels) ## Sex labelencoding"
   ]
  },
  {
   "cell_type": "code",
   "execution_count": 231,
   "id": "22226da6-c890-49b1-8776-b6f488ccd637",
   "metadata": {},
   "outputs": [
    {
     "data": {
      "text/html": [
       "<div>\n",
       "<style scoped>\n",
       "    .dataframe tbody tr th:only-of-type {\n",
       "        vertical-align: middle;\n",
       "    }\n",
       "\n",
       "    .dataframe tbody tr th {\n",
       "        vertical-align: top;\n",
       "    }\n",
       "\n",
       "    .dataframe thead th {\n",
       "        text-align: right;\n",
       "    }\n",
       "</style>\n",
       "<table border=\"1\" class=\"dataframe\">\n",
       "  <thead>\n",
       "    <tr style=\"text-align: right;\">\n",
       "      <th></th>\n",
       "      <th>Species</th>\n",
       "      <th>Culmen_Length</th>\n",
       "      <th>Culmen_Depth</th>\n",
       "      <th>Flipper_Length</th>\n",
       "      <th>Sex</th>\n",
       "      <th>DeltaN</th>\n",
       "      <th>DeltaC</th>\n",
       "    </tr>\n",
       "  </thead>\n",
       "  <tbody>\n",
       "    <tr>\n",
       "      <th>0</th>\n",
       "      <td>1</td>\n",
       "      <td>52.0</td>\n",
       "      <td>20.7</td>\n",
       "      <td>210.0</td>\n",
       "      <td>1</td>\n",
       "      <td>9.43146</td>\n",
       "      <td>-24.68440</td>\n",
       "    </tr>\n",
       "    <tr>\n",
       "      <th>1</th>\n",
       "      <td>2</td>\n",
       "      <td>55.9</td>\n",
       "      <td>17.0</td>\n",
       "      <td>228.0</td>\n",
       "      <td>1</td>\n",
       "      <td>8.31180</td>\n",
       "      <td>-26.35425</td>\n",
       "    </tr>\n",
       "    <tr>\n",
       "      <th>2</th>\n",
       "      <td>0</td>\n",
       "      <td>38.9</td>\n",
       "      <td>18.8</td>\n",
       "      <td>190.0</td>\n",
       "      <td>0</td>\n",
       "      <td>8.36936</td>\n",
       "      <td>-26.11199</td>\n",
       "    </tr>\n",
       "    <tr>\n",
       "      <th>3</th>\n",
       "      <td>1</td>\n",
       "      <td>45.2</td>\n",
       "      <td>16.6</td>\n",
       "      <td>191.0</td>\n",
       "      <td>0</td>\n",
       "      <td>9.62357</td>\n",
       "      <td>-24.78984</td>\n",
       "    </tr>\n",
       "    <tr>\n",
       "      <th>4</th>\n",
       "      <td>0</td>\n",
       "      <td>37.9</td>\n",
       "      <td>18.6</td>\n",
       "      <td>172.0</td>\n",
       "      <td>0</td>\n",
       "      <td>8.38404</td>\n",
       "      <td>-25.19837</td>\n",
       "    </tr>\n",
       "  </tbody>\n",
       "</table>\n",
       "</div>"
      ],
      "text/plain": [
       "   Species  Culmen_Length  Culmen_Depth  Flipper_Length  Sex   DeltaN  \\\n",
       "0        1           52.0          20.7           210.0    1  9.43146   \n",
       "1        2           55.9          17.0           228.0    1  8.31180   \n",
       "2        0           38.9          18.8           190.0    0  8.36936   \n",
       "3        1           45.2          16.6           191.0    0  9.62357   \n",
       "4        0           37.9          18.6           172.0    0  8.38404   \n",
       "\n",
       "     DeltaC  \n",
       "0 -24.68440  \n",
       "1 -26.35425  \n",
       "2 -26.11199  \n",
       "3 -24.78984  \n",
       "4 -25.19837  "
      ]
     },
     "execution_count": 231,
     "metadata": {},
     "output_type": "execute_result"
    }
   ],
   "source": [
    "test2.head()"
   ]
  },
  {
   "cell_type": "markdown",
   "id": "b6e528c8-0106-48fa-8d5c-a6fab296edde",
   "metadata": {},
   "source": [
    "`-` 라벨 인코딩이 잘 되었다"
   ]
  },
  {
   "cell_type": "markdown",
   "id": "d1d0368a-3d81-423d-a203-3736c6751978",
   "metadata": {},
   "source": [
    "`-` 교호작용항을 추가해주자"
   ]
  },
  {
   "cell_type": "code",
   "execution_count": 278,
   "id": "430d8ad0-bdef-4612-87cf-6fc47e274174",
   "metadata": {},
   "outputs": [],
   "source": [
    "test_poly = poly(test2)"
   ]
  },
  {
   "cell_type": "code",
   "execution_count": 310,
   "id": "79508c1c-0b7b-4180-ad5b-b8907caa3eba",
   "metadata": {},
   "outputs": [
    {
     "data": {
      "text/plain": [
       "(228, 17)"
      ]
     },
     "execution_count": 310,
     "metadata": {},
     "output_type": "execute_result"
    }
   ],
   "source": [
    "test_poly.shape"
   ]
  },
  {
   "cell_type": "markdown",
   "id": "afa2a520-0990-43aa-9ee9-58e41ee6f625",
   "metadata": {},
   "source": [
    "`-` 위에서 train셋을 이용해 학습한 스케일러의 평균과 표준편차"
   ]
  },
  {
   "cell_type": "code",
   "execution_count": 311,
   "id": "bd9cdc82-eaf1-44d2-9d8c-9f15ac3e471b",
   "metadata": {},
   "outputs": [],
   "source": [
    "## 테스트집합 정규화\n",
    "test_poly_scaled = standard_scaler.transform(test_poly) ## x_train에서 학습한 정규화방식을 그대로 test_poly에 적용\n",
    "test_poly_scaled_df = pd.DataFrame(data = test_poly_scaled, columns = test_poly.columns)"
   ]
  },
  {
   "cell_type": "code",
   "execution_count": 281,
   "id": "7ca4cf1f-6703-4bf0-a09f-06563dfbb120",
   "metadata": {},
   "outputs": [
    {
     "data": {
      "text/html": [
       "<div>\n",
       "<style scoped>\n",
       "    .dataframe tbody tr th:only-of-type {\n",
       "        vertical-align: middle;\n",
       "    }\n",
       "\n",
       "    .dataframe tbody tr th {\n",
       "        vertical-align: top;\n",
       "    }\n",
       "\n",
       "    .dataframe thead th {\n",
       "        text-align: right;\n",
       "    }\n",
       "</style>\n",
       "<table border=\"1\" class=\"dataframe\">\n",
       "  <thead>\n",
       "    <tr style=\"text-align: right;\">\n",
       "      <th></th>\n",
       "      <th>Species</th>\n",
       "      <th>Culmen_Length</th>\n",
       "      <th>Culmen_Depth</th>\n",
       "      <th>Flipper_Length</th>\n",
       "      <th>Sex</th>\n",
       "      <th>DeltaN</th>\n",
       "    </tr>\n",
       "  </thead>\n",
       "  <tbody>\n",
       "    <tr>\n",
       "      <th>0</th>\n",
       "      <td>-0.062325</td>\n",
       "      <td>1.491127</td>\n",
       "      <td>1.763502</td>\n",
       "      <td>0.529023</td>\n",
       "      <td>1.033529</td>\n",
       "      <td>1.256334</td>\n",
       "    </tr>\n",
       "    <tr>\n",
       "      <th>1</th>\n",
       "      <td>1.071989</td>\n",
       "      <td>2.249948</td>\n",
       "      <td>-0.031453</td>\n",
       "      <td>1.774052</td>\n",
       "      <td>1.033529</td>\n",
       "      <td>-0.757531</td>\n",
       "    </tr>\n",
       "    <tr>\n",
       "      <th>2</th>\n",
       "      <td>-1.196639</td>\n",
       "      <td>-1.057730</td>\n",
       "      <td>0.841768</td>\n",
       "      <td>-0.854342</td>\n",
       "      <td>-0.967559</td>\n",
       "      <td>-0.654001</td>\n",
       "    </tr>\n",
       "    <tr>\n",
       "      <th>3</th>\n",
       "      <td>-0.062325</td>\n",
       "      <td>0.168057</td>\n",
       "      <td>-0.225502</td>\n",
       "      <td>-0.785174</td>\n",
       "      <td>-0.967559</td>\n",
       "      <td>1.601870</td>\n",
       "    </tr>\n",
       "    <tr>\n",
       "      <th>4</th>\n",
       "      <td>-1.196639</td>\n",
       "      <td>-1.252299</td>\n",
       "      <td>0.744744</td>\n",
       "      <td>-2.099371</td>\n",
       "      <td>-0.967559</td>\n",
       "      <td>-0.627597</td>\n",
       "    </tr>\n",
       "    <tr>\n",
       "      <th>5</th>\n",
       "      <td>-0.062325</td>\n",
       "      <td>1.627326</td>\n",
       "      <td>1.326891</td>\n",
       "      <td>-0.370164</td>\n",
       "      <td>1.033529</td>\n",
       "      <td>0.491840</td>\n",
       "    </tr>\n",
       "  </tbody>\n",
       "</table>\n",
       "</div>"
      ],
      "text/plain": [
       "    Species  Culmen_Length  Culmen_Depth  Flipper_Length       Sex    DeltaN\n",
       "0 -0.062325       1.491127      1.763502        0.529023  1.033529  1.256334\n",
       "1  1.071989       2.249948     -0.031453        1.774052  1.033529 -0.757531\n",
       "2 -1.196639      -1.057730      0.841768       -0.854342 -0.967559 -0.654001\n",
       "3 -0.062325       0.168057     -0.225502       -0.785174 -0.967559  1.601870\n",
       "4 -1.196639      -1.252299      0.744744       -2.099371 -0.967559 -0.627597\n",
       "5 -0.062325       1.627326      1.326891       -0.370164  1.033529  0.491840"
      ]
     },
     "execution_count": 281,
     "metadata": {},
     "output_type": "execute_result"
    }
   ],
   "source": [
    "test_poly_scaled_df.iloc[:6, :6] ## 정규화가 잘 되었는지 확인"
   ]
  },
  {
   "cell_type": "markdown",
   "id": "7989f23b-5786-4bde-b78c-0c915d41e6cf",
   "metadata": {},
   "source": [
    "`-` 이제 예측을 하자"
   ]
  },
  {
   "cell_type": "code",
   "execution_count": 942,
   "id": "9a1950ed-9233-4a57-875b-ceaddab3a7e8",
   "metadata": {},
   "outputs": [
    {
     "data": {
      "text/plain": [
       "array([4292.43478938, 5644.7010042 , 3629.57759285, 3398.53498446,\n",
       "       3355.05669231, 4143.32128426])"
      ]
     },
     "execution_count": 942,
     "metadata": {},
     "output_type": "execute_result"
    }
   ],
   "source": [
    "predict_test = lasso_04.predict(test_poly_scaled_df) ## train셋을 통해 학습된 모델을 통해 test셋을 예측\n",
    "\n",
    "# 예측 결과를 확인\n",
    "predict_test[:6]"
   ]
  },
  {
   "cell_type": "markdown",
   "id": "6d51a2e2-9144-4a21-87a0-fa5fad3629e1",
   "metadata": {},
   "source": [
    "`-` 피쳐네임과 회귀계수 값을 함께 봐보자"
   ]
  },
  {
   "cell_type": "code",
   "execution_count": 830,
   "id": "143c48ca-c4a0-4dfc-b60d-560c3b0cd8a5",
   "metadata": {},
   "outputs": [
    {
     "data": {
      "text/plain": [
       "[('Species', 0.0),\n",
       " ('Culmen_Length', 24.848732652465234),\n",
       " ('Culmen_Depth', 79.43041730143314),\n",
       " ('Flipper_Length', 146.63116217098397),\n",
       " ('Sex', 443.64801316387513),\n",
       " ('DeltaN', -66.56675817740579),\n",
       " ('DeltaC', -71.17941002407247),\n",
       " ('Species_Culmen_Length', 568.1609963555894),\n",
       " ('Species_Culmen_Depth', -214.64866329946864),\n",
       " ('Species_Flipper_Length', 1217.2231087830062),\n",
       " ('Species_DeltaN', -1111.6009737482907),\n",
       " ('Species_DeltaC', -0.0),\n",
       " ('Sex_Culmen_Length', -427.40110849530294),\n",
       " ('Sex_Culmen_Depth', -22.150135494133274),\n",
       " ('Sex_Flipper_Length', 208.7342952529078),\n",
       " ('Sex_DeltaN', -0.0),\n",
       " ('Sex_DeltaC', -0.0)]"
      ]
     },
     "execution_count": 830,
     "metadata": {},
     "output_type": "execute_result"
    }
   ],
   "source": [
    "list(zip(test_poly_scaled_df, lasso_04.coef_))"
   ]
  },
  {
   "cell_type": "markdown",
   "id": "d0e8ea89-f761-437a-bfd0-fda69f4e1034",
   "metadata": {
    "tags": []
   },
   "source": [
    "### dacon 대회에 제출하기"
   ]
  },
  {
   "cell_type": "code",
   "execution_count": 388,
   "id": "7600f53a-f6e6-4591-96bf-9da9d9d38ad3",
   "metadata": {
    "tags": []
   },
   "outputs": [],
   "source": [
    "# 제출용 sample 파일을 불러옴\n",
    "submission = pd.read_csv('C:/Users/Jaesu/Dacon-Basic/뗑컨-몸무게-예측/Data/sample_submission.csv')"
   ]
  },
  {
   "cell_type": "code",
   "execution_count": 948,
   "id": "63cff43f-0fed-4a35-bda0-4a5c545bc55c",
   "metadata": {},
   "outputs": [
    {
     "data": {
      "text/html": [
       "<div>\n",
       "<style scoped>\n",
       "    .dataframe tbody tr th:only-of-type {\n",
       "        vertical-align: middle;\n",
       "    }\n",
       "\n",
       "    .dataframe tbody tr th {\n",
       "        vertical-align: top;\n",
       "    }\n",
       "\n",
       "    .dataframe thead th {\n",
       "        text-align: right;\n",
       "    }\n",
       "</style>\n",
       "<table border=\"1\" class=\"dataframe\">\n",
       "  <thead>\n",
       "    <tr style=\"text-align: right;\">\n",
       "      <th></th>\n",
       "      <th>id</th>\n",
       "      <th>Body Mass (g)</th>\n",
       "    </tr>\n",
       "  </thead>\n",
       "  <tbody>\n",
       "    <tr>\n",
       "      <th>0</th>\n",
       "      <td>0</td>\n",
       "      <td>4292.434789</td>\n",
       "    </tr>\n",
       "    <tr>\n",
       "      <th>1</th>\n",
       "      <td>1</td>\n",
       "      <td>5644.701004</td>\n",
       "    </tr>\n",
       "    <tr>\n",
       "      <th>2</th>\n",
       "      <td>2</td>\n",
       "      <td>3629.577593</td>\n",
       "    </tr>\n",
       "    <tr>\n",
       "      <th>3</th>\n",
       "      <td>3</td>\n",
       "      <td>3398.534984</td>\n",
       "    </tr>\n",
       "    <tr>\n",
       "      <th>4</th>\n",
       "      <td>4</td>\n",
       "      <td>3355.056692</td>\n",
       "    </tr>\n",
       "  </tbody>\n",
       "</table>\n",
       "</div>"
      ],
      "text/plain": [
       "   id  Body Mass (g)\n",
       "0   0    4292.434789\n",
       "1   1    5644.701004\n",
       "2   2    3629.577593\n",
       "3   3    3398.534984\n",
       "4   4    3355.056692"
      ]
     },
     "execution_count": 948,
     "metadata": {},
     "output_type": "execute_result"
    }
   ],
   "source": [
    "# 위에서 구한 예측값을 그대로 넣음\n",
    "submission['Body Mass (g)'] = predict_test\n",
    "\n",
    "# 데이터가 잘 들어갔는지 확인\n",
    "submission.head()"
   ]
  },
  {
   "cell_type": "code",
   "execution_count": 390,
   "id": "d1e738f1-a34b-4ab8-8361-c4fd7babc278",
   "metadata": {},
   "outputs": [],
   "source": [
    "# submission을 csv 파일로 저장\n",
    "submission.to_csv('C:/Users/Jaesu/Dacon-Basic/뗑컨-몸무게-예측/Data/submission_04.csv', index = False)"
   ]
  },
  {
   "cell_type": "markdown",
   "id": "3d64dded-a97e-4c3d-80be-06aff5a8bf8d",
   "metadata": {},
   "source": [
    "`-` 점수는 261.4589133342\n",
    "\n",
    "`-` 근데 내가 test셋 방사성 동위원소 결측치를 중앙값으로 채워야되는데 평균으로 채웠음\n",
    "\n",
    "`-` 중앙값으로 채운것은 점수가 위와 다르겠지만 큰 차이는 없을 듯\n",
    "\n",
    "`-` 일단 EDA를 통해 Full_Clutch는 유의미하지 않은 것을 확인했다\n",
    "\n",
    "`-` 그리고 Species와 Island 각각에 대해서 뗑컨 피쳐들의 산점도가 그룹화 되어있었다 \n",
    "\n",
    "`-` 이를 보고 Species와 Island 둘 중 하나만 피쳐로 사용하는 것이 좋다고 생각했고\n",
    "\n",
    "`-` 직관적으로 보기엔 Island보다 Speices가 뗑컨 몸무게와 더 관련있다 생각했다\n",
    "\n",
    "`-` Island와 뗑컨 몸무게 사이에는 중첩 변수가 존재한다고 생각했음\n",
    "\n",
    "`-` 아무튼 그래서 Island와 Full_Clutch를 제거했는데 일반화능력이 그렇지 않은 것보다 좋게 나왔다"
   ]
  },
  {
   "cell_type": "markdown",
   "id": "080f1580-f972-4493-8e34-47bd7df52d3a",
   "metadata": {},
   "source": [
    "## 교호작용항 세심하게 만들기"
   ]
  },
  {
   "cell_type": "markdown",
   "id": "00a0ab49-8cb6-49db-9ee3-97c813927287",
   "metadata": {},
   "source": [
    "`-` 교호작용항을 만들 때 그냥 범주형 변수와 양적 변수끼리 만들었는데 유용한 피쳐만 골라서 만들겠다\n",
    "\n",
    "`-` 이는 EDA를 통해 몸무게와 다른 양적 변수와의 산점도에서 범주형 변수별 나타나는 기울기의 차이를 통해 구분했다\n",
    "\n",
    "`-` 그리고 Island와 Full_Cluthch는 주관적인 이유로 교호작용항으로 만들지 않을 것이다(그냥 만들까?)\n",
    "\n",
    "`-` 다양하게 만들어보자"
   ]
  },
  {
   "cell_type": "code",
   "execution_count": 46,
   "id": "d156f8d2-e444-4f9e-92df-c44439ad7686",
   "metadata": {},
   "outputs": [
    {
     "data": {
      "text/html": [
       "<div>\n",
       "<style scoped>\n",
       "    .dataframe tbody tr th:only-of-type {\n",
       "        vertical-align: middle;\n",
       "    }\n",
       "\n",
       "    .dataframe tbody tr th {\n",
       "        vertical-align: top;\n",
       "    }\n",
       "\n",
       "    .dataframe thead th {\n",
       "        text-align: right;\n",
       "    }\n",
       "</style>\n",
       "<table border=\"1\" class=\"dataframe\">\n",
       "  <thead>\n",
       "    <tr style=\"text-align: right;\">\n",
       "      <th></th>\n",
       "      <th>Species</th>\n",
       "      <th>Island</th>\n",
       "      <th>Full_Clutch</th>\n",
       "      <th>Culmen_Length</th>\n",
       "      <th>Culmen_Depth</th>\n",
       "      <th>Flipper_Length</th>\n",
       "      <th>Sex</th>\n",
       "      <th>DeltaN</th>\n",
       "      <th>DeltaC</th>\n",
       "    </tr>\n",
       "  </thead>\n",
       "  <tbody>\n",
       "    <tr>\n",
       "      <th>85</th>\n",
       "      <td>2</td>\n",
       "      <td>0</td>\n",
       "      <td>0</td>\n",
       "      <td>49.0</td>\n",
       "      <td>16.1</td>\n",
       "      <td>216</td>\n",
       "      <td>1</td>\n",
       "      <td>8.10417</td>\n",
       "      <td>-25.50562</td>\n",
       "    </tr>\n",
       "    <tr>\n",
       "      <th>98</th>\n",
       "      <td>2</td>\n",
       "      <td>0</td>\n",
       "      <td>1</td>\n",
       "      <td>49.1</td>\n",
       "      <td>15.0</td>\n",
       "      <td>228</td>\n",
       "      <td>1</td>\n",
       "      <td>8.65914</td>\n",
       "      <td>-25.79203</td>\n",
       "    </tr>\n",
       "    <tr>\n",
       "      <th>69</th>\n",
       "      <td>2</td>\n",
       "      <td>0</td>\n",
       "      <td>1</td>\n",
       "      <td>50.0</td>\n",
       "      <td>15.9</td>\n",
       "      <td>224</td>\n",
       "      <td>1</td>\n",
       "      <td>8.20042</td>\n",
       "      <td>-26.39677</td>\n",
       "    </tr>\n",
       "    <tr>\n",
       "      <th>0</th>\n",
       "      <td>2</td>\n",
       "      <td>0</td>\n",
       "      <td>1</td>\n",
       "      <td>50.0</td>\n",
       "      <td>15.3</td>\n",
       "      <td>220</td>\n",
       "      <td>1</td>\n",
       "      <td>8.30515</td>\n",
       "      <td>-25.19017</td>\n",
       "    </tr>\n",
       "    <tr>\n",
       "      <th>22</th>\n",
       "      <td>2</td>\n",
       "      <td>0</td>\n",
       "      <td>1</td>\n",
       "      <td>43.5</td>\n",
       "      <td>15.2</td>\n",
       "      <td>213</td>\n",
       "      <td>0</td>\n",
       "      <td>8.21634</td>\n",
       "      <td>-26.11046</td>\n",
       "    </tr>\n",
       "  </tbody>\n",
       "</table>\n",
       "</div>"
      ],
      "text/plain": [
       "    Species  Island  Full_Clutch  Culmen_Length  Culmen_Depth  Flipper_Length  \\\n",
       "85        2       0            0           49.0          16.1             216   \n",
       "98        2       0            1           49.1          15.0             228   \n",
       "69        2       0            1           50.0          15.9             224   \n",
       "0         2       0            1           50.0          15.3             220   \n",
       "22        2       0            1           43.5          15.2             213   \n",
       "\n",
       "    Sex   DeltaN    DeltaC  \n",
       "85    1  8.10417 -25.50562  \n",
       "98    1  8.65914 -25.79203  \n",
       "69    1  8.20042 -26.39677  \n",
       "0     1  8.30515 -25.19017  \n",
       "22    0  8.21634 -26.11046  "
      ]
     },
     "execution_count": 46,
     "metadata": {},
     "output_type": "execute_result"
    }
   ],
   "source": [
    "x_train_raw.head()"
   ]
  },
  {
   "cell_type": "code",
   "execution_count": 57,
   "id": "94a79951-31b2-436f-b76f-03a7605bce28",
   "metadata": {},
   "outputs": [],
   "source": [
    "raw_x = dt.copy()"
   ]
  },
  {
   "cell_type": "code",
   "execution_count": 58,
   "id": "af00009d-8620-4d32-b0f2-9cf24c80c5c9",
   "metadata": {},
   "outputs": [],
   "source": [
    "raw_x.drop(['Island', 'Full_Clutch'], axis = 1, inplace = True)"
   ]
  },
  {
   "cell_type": "markdown",
   "id": "9e6b34d9-9433-41bb-a217-6b840a2c9fad",
   "metadata": {},
   "source": [
    "`-` 교호작용 추가"
   ]
  },
  {
   "cell_type": "code",
   "execution_count": 59,
   "id": "7800bbb5-1202-4a6d-9b1c-d6d6736719e3",
   "metadata": {},
   "outputs": [],
   "source": [
    "raw_x['Sex_DeltaN'] = raw_x['Sex'] * raw_x['DeltaN']\n",
    "\n",
    "raw_x['Species_DeltaN'] = raw_x['Species'] * raw_x['DeltaN']\n",
    "raw_x['Species_Culmen_Depth'] = raw_x['Species'] * raw_x['Culmen_Depth']\n",
    "raw_x['Species_Flipper_Length'] = raw_x['Species'] * raw_x['Flipper_Length']"
   ]
  },
  {
   "cell_type": "code",
   "execution_count": 60,
   "id": "b38e57e4-2d05-4698-ad60-96926795980e",
   "metadata": {},
   "outputs": [
    {
     "data": {
      "text/html": [
       "<div>\n",
       "<style scoped>\n",
       "    .dataframe tbody tr th:only-of-type {\n",
       "        vertical-align: middle;\n",
       "    }\n",
       "\n",
       "    .dataframe tbody tr th {\n",
       "        vertical-align: top;\n",
       "    }\n",
       "\n",
       "    .dataframe thead th {\n",
       "        text-align: right;\n",
       "    }\n",
       "</style>\n",
       "<table border=\"1\" class=\"dataframe\">\n",
       "  <thead>\n",
       "    <tr style=\"text-align: right;\">\n",
       "      <th></th>\n",
       "      <th>Species</th>\n",
       "      <th>Culmen_Length</th>\n",
       "      <th>Culmen_Depth</th>\n",
       "      <th>Flipper_Length</th>\n",
       "      <th>Sex</th>\n",
       "      <th>DeltaN</th>\n",
       "      <th>DeltaC</th>\n",
       "      <th>Sex_DeltaN</th>\n",
       "      <th>Species_DeltaN</th>\n",
       "      <th>Species_Culmen_Depth</th>\n",
       "      <th>Species_Flipper_Length</th>\n",
       "    </tr>\n",
       "  </thead>\n",
       "  <tbody>\n",
       "    <tr>\n",
       "      <th>0</th>\n",
       "      <td>2</td>\n",
       "      <td>50.0</td>\n",
       "      <td>15.3</td>\n",
       "      <td>220</td>\n",
       "      <td>1</td>\n",
       "      <td>8.30515</td>\n",
       "      <td>-25.19017</td>\n",
       "      <td>8.30515</td>\n",
       "      <td>16.61030</td>\n",
       "      <td>30.6</td>\n",
       "      <td>440</td>\n",
       "    </tr>\n",
       "    <tr>\n",
       "      <th>1</th>\n",
       "      <td>1</td>\n",
       "      <td>49.5</td>\n",
       "      <td>19.0</td>\n",
       "      <td>200</td>\n",
       "      <td>1</td>\n",
       "      <td>9.63074</td>\n",
       "      <td>-24.34684</td>\n",
       "      <td>9.63074</td>\n",
       "      <td>9.63074</td>\n",
       "      <td>19.0</td>\n",
       "      <td>200</td>\n",
       "    </tr>\n",
       "    <tr>\n",
       "      <th>2</th>\n",
       "      <td>2</td>\n",
       "      <td>45.1</td>\n",
       "      <td>14.4</td>\n",
       "      <td>210</td>\n",
       "      <td>0</td>\n",
       "      <td>8.51951</td>\n",
       "      <td>-27.01854</td>\n",
       "      <td>0.00000</td>\n",
       "      <td>17.03902</td>\n",
       "      <td>28.8</td>\n",
       "      <td>420</td>\n",
       "    </tr>\n",
       "    <tr>\n",
       "      <th>3</th>\n",
       "      <td>2</td>\n",
       "      <td>44.5</td>\n",
       "      <td>14.7</td>\n",
       "      <td>214</td>\n",
       "      <td>0</td>\n",
       "      <td>8.20106</td>\n",
       "      <td>-26.16524</td>\n",
       "      <td>0.00000</td>\n",
       "      <td>16.40212</td>\n",
       "      <td>29.4</td>\n",
       "      <td>428</td>\n",
       "    </tr>\n",
       "    <tr>\n",
       "      <th>4</th>\n",
       "      <td>2</td>\n",
       "      <td>49.6</td>\n",
       "      <td>16.0</td>\n",
       "      <td>225</td>\n",
       "      <td>1</td>\n",
       "      <td>8.38324</td>\n",
       "      <td>-26.84272</td>\n",
       "      <td>8.38324</td>\n",
       "      <td>16.76648</td>\n",
       "      <td>32.0</td>\n",
       "      <td>450</td>\n",
       "    </tr>\n",
       "  </tbody>\n",
       "</table>\n",
       "</div>"
      ],
      "text/plain": [
       "   Species  Culmen_Length  Culmen_Depth  Flipper_Length  Sex   DeltaN  \\\n",
       "0        2           50.0          15.3             220    1  8.30515   \n",
       "1        1           49.5          19.0             200    1  9.63074   \n",
       "2        2           45.1          14.4             210    0  8.51951   \n",
       "3        2           44.5          14.7             214    0  8.20106   \n",
       "4        2           49.6          16.0             225    1  8.38324   \n",
       "\n",
       "     DeltaC  Sex_DeltaN  Species_DeltaN  Species_Culmen_Depth  \\\n",
       "0 -25.19017     8.30515        16.61030                  30.6   \n",
       "1 -24.34684     9.63074         9.63074                  19.0   \n",
       "2 -27.01854     0.00000        17.03902                  28.8   \n",
       "3 -26.16524     0.00000        16.40212                  29.4   \n",
       "4 -26.84272     8.38324        16.76648                  32.0   \n",
       "\n",
       "   Species_Flipper_Length  \n",
       "0                     440  \n",
       "1                     200  \n",
       "2                     420  \n",
       "3                     428  \n",
       "4                     450  "
      ]
     },
     "execution_count": 60,
     "metadata": {},
     "output_type": "execute_result"
    }
   ],
   "source": [
    "raw_x.head()"
   ]
  },
  {
   "cell_type": "markdown",
   "id": "58cb8d36-b106-47f1-a2f1-14ad7e7116eb",
   "metadata": {},
   "source": [
    "`-` 표준화를 해주자"
   ]
  },
  {
   "cell_type": "code",
   "execution_count": 61,
   "id": "a9cf680a-b7c1-4778-a7de-00adf93cdf2a",
   "metadata": {},
   "outputs": [],
   "source": [
    "## 스케일러 생성\n",
    "my_scaler = StandardScaler()\n",
    "\n",
    "## 전체 데이터셋 정규화\n",
    "my_scaled = my_scaler.fit_transform(raw_x)\n",
    "my_scaled_df = pd.DataFrame(data = my_scaled, columns = raw_x.columns)"
   ]
  },
  {
   "cell_type": "code",
   "execution_count": 126,
   "id": "867679e6-926b-4f3e-bec0-3df6d3520f73",
   "metadata": {},
   "outputs": [
    {
     "data": {
      "text/html": [
       "<div>\n",
       "<style scoped>\n",
       "    .dataframe tbody tr th:only-of-type {\n",
       "        vertical-align: middle;\n",
       "    }\n",
       "\n",
       "    .dataframe tbody tr th {\n",
       "        vertical-align: top;\n",
       "    }\n",
       "\n",
       "    .dataframe thead th {\n",
       "        text-align: right;\n",
       "    }\n",
       "</style>\n",
       "<table border=\"1\" class=\"dataframe\">\n",
       "  <thead>\n",
       "    <tr style=\"text-align: right;\">\n",
       "      <th></th>\n",
       "      <th>id</th>\n",
       "      <th>Species</th>\n",
       "      <th>Island</th>\n",
       "      <th>Clutch Completion</th>\n",
       "      <th>Culmen Length (mm)</th>\n",
       "      <th>Culmen Depth (mm)</th>\n",
       "      <th>Flipper Length (mm)</th>\n",
       "      <th>Sex</th>\n",
       "      <th>Delta 15 N (o/oo)</th>\n",
       "      <th>Delta 13 C (o/oo)</th>\n",
       "    </tr>\n",
       "  </thead>\n",
       "  <tbody>\n",
       "    <tr>\n",
       "      <th>0</th>\n",
       "      <td>0</td>\n",
       "      <td>Chinstrap penguin (Pygoscelis antarctica)</td>\n",
       "      <td>Dream</td>\n",
       "      <td>Yes</td>\n",
       "      <td>52.0</td>\n",
       "      <td>20.7</td>\n",
       "      <td>210.0</td>\n",
       "      <td>MALE</td>\n",
       "      <td>9.43146</td>\n",
       "      <td>-24.68440</td>\n",
       "    </tr>\n",
       "    <tr>\n",
       "      <th>1</th>\n",
       "      <td>1</td>\n",
       "      <td>Gentoo penguin (Pygoscelis papua)</td>\n",
       "      <td>Biscoe</td>\n",
       "      <td>Yes</td>\n",
       "      <td>55.9</td>\n",
       "      <td>17.0</td>\n",
       "      <td>228.0</td>\n",
       "      <td>MALE</td>\n",
       "      <td>8.31180</td>\n",
       "      <td>-26.35425</td>\n",
       "    </tr>\n",
       "    <tr>\n",
       "      <th>2</th>\n",
       "      <td>2</td>\n",
       "      <td>Adelie Penguin (Pygoscelis adeliae)</td>\n",
       "      <td>Dream</td>\n",
       "      <td>Yes</td>\n",
       "      <td>38.9</td>\n",
       "      <td>18.8</td>\n",
       "      <td>190.0</td>\n",
       "      <td>FEMALE</td>\n",
       "      <td>8.36936</td>\n",
       "      <td>-26.11199</td>\n",
       "    </tr>\n",
       "    <tr>\n",
       "      <th>3</th>\n",
       "      <td>3</td>\n",
       "      <td>Chinstrap penguin (Pygoscelis antarctica)</td>\n",
       "      <td>Dream</td>\n",
       "      <td>Yes</td>\n",
       "      <td>45.2</td>\n",
       "      <td>16.6</td>\n",
       "      <td>191.0</td>\n",
       "      <td>FEMALE</td>\n",
       "      <td>9.62357</td>\n",
       "      <td>-24.78984</td>\n",
       "    </tr>\n",
       "    <tr>\n",
       "      <th>4</th>\n",
       "      <td>4</td>\n",
       "      <td>Adelie Penguin (Pygoscelis adeliae)</td>\n",
       "      <td>Biscoe</td>\n",
       "      <td>No</td>\n",
       "      <td>37.9</td>\n",
       "      <td>18.6</td>\n",
       "      <td>172.0</td>\n",
       "      <td>FEMALE</td>\n",
       "      <td>8.38404</td>\n",
       "      <td>-25.19837</td>\n",
       "    </tr>\n",
       "  </tbody>\n",
       "</table>\n",
       "</div>"
      ],
      "text/plain": [
       "   id                                    Species  Island Clutch Completion  \\\n",
       "0   0  Chinstrap penguin (Pygoscelis antarctica)   Dream               Yes   \n",
       "1   1          Gentoo penguin (Pygoscelis papua)  Biscoe               Yes   \n",
       "2   2        Adelie Penguin (Pygoscelis adeliae)   Dream               Yes   \n",
       "3   3  Chinstrap penguin (Pygoscelis antarctica)   Dream               Yes   \n",
       "4   4        Adelie Penguin (Pygoscelis adeliae)  Biscoe                No   \n",
       "\n",
       "   Culmen Length (mm)  Culmen Depth (mm)  Flipper Length (mm)     Sex  \\\n",
       "0                52.0               20.7                210.0    MALE   \n",
       "1                55.9               17.0                228.0    MALE   \n",
       "2                38.9               18.8                190.0  FEMALE   \n",
       "3                45.2               16.6                191.0  FEMALE   \n",
       "4                37.9               18.6                172.0  FEMALE   \n",
       "\n",
       "   Delta 15 N (o/oo)  Delta 13 C (o/oo)  \n",
       "0            9.43146          -24.68440  \n",
       "1            8.31180          -26.35425  \n",
       "2            8.36936          -26.11199  \n",
       "3            9.62357          -24.78984  \n",
       "4            8.38404          -25.19837  "
      ]
     },
     "execution_count": 126,
     "metadata": {},
     "output_type": "execute_result"
    }
   ],
   "source": [
    "test = pd.read_csv('C:/Users/Jaesu/Dacon-Basic/뗑컨-몸무게-예측/Data/test.csv')\n",
    "test.head()"
   ]
  },
  {
   "cell_type": "code",
   "execution_count": 127,
   "id": "c8033e3a-1ace-43d4-a210-5772ee7f6b9e",
   "metadata": {},
   "outputs": [
    {
     "data": {
      "text/plain": [
       "id                     0\n",
       "Species                0\n",
       "Island                 0\n",
       "Clutch Completion      0\n",
       "Culmen Length (mm)     0\n",
       "Culmen Depth (mm)      0\n",
       "Flipper Length (mm)    0\n",
       "Sex                    6\n",
       "Delta 15 N (o/oo)      9\n",
       "Delta 13 C (o/oo)      8\n",
       "dtype: int64"
      ]
     },
     "execution_count": 127,
     "metadata": {},
     "output_type": "execute_result"
    }
   ],
   "source": [
    "test.isnull().sum()"
   ]
  },
  {
   "cell_type": "code",
   "execution_count": 128,
   "id": "29b67066-0d09-46f0-8900-371dd88042a9",
   "metadata": {},
   "outputs": [],
   "source": [
    "test['Delta 15 N (o/oo)'].fillna(dt['DeltaN'].median(), inplace = True) ## train셋의 중앙값을 대입\n",
    "test['Delta 13 C (o/oo)'].fillna(dt['DeltaC'].median(), inplace = True) ## train셋의 중앙값을 대입"
   ]
  },
  {
   "cell_type": "code",
   "execution_count": 129,
   "id": "27d2fcc5-7495-4a00-aa11-1c2c5bf5a63e",
   "metadata": {},
   "outputs": [],
   "source": [
    "test.rename(columns = {'Clutch Completion':'Full_Clutch', 'Culmen Length (mm)':'Culmen_Length', \n",
    "                     'Culmen Depth (mm)':'Culmen_Depth', 'Flipper Length (mm)':'Flipper_Length',\n",
    "                     'Delta 15 N (o/oo)':'DeltaN', 'Delta 13 C (o/oo)':'DeltaC', 'Body Mass (g)':'Body_Mass'}, inplace = True) ## 편의상 열 이름 변경"
   ]
  },
  {
   "cell_type": "code",
   "execution_count": 130,
   "id": "27e96cb9-3146-46ff-a16b-50ea7a8381ca",
   "metadata": {},
   "outputs": [],
   "source": [
    "test.loc[[46,81,98,152,205,209], 'Sex'] = ['FEMALE'] * 6 ## train셋과 비교하여 몸무게와 상관관계가 큰 날개 길이가 작아 암컷으로 넣어줌 "
   ]
  },
  {
   "cell_type": "code",
   "execution_count": 131,
   "id": "29ae54c9-97b1-4840-ae82-139c1951bbda",
   "metadata": {},
   "outputs": [],
   "source": [
    "test.drop('id', axis = 1, inplace = True) ## id는 필요없으니 드랍"
   ]
  },
  {
   "cell_type": "markdown",
   "id": "2983be34-d557-42e7-84f2-39186312068c",
   "metadata": {},
   "source": [
    "`-` test 셋도 범주형변수에 대해 라벨 인코딩을 해주자"
   ]
  },
  {
   "cell_type": "code",
   "execution_count": 933,
   "id": "5502872c-63a0-4b30-ae14-efe0a6ab4779",
   "metadata": {},
   "outputs": [],
   "source": [
    "# test2 = test.copy()\n",
    "# for col in test2.columns:\n",
    "#     if test2.dtypes[col] == 'O':\n",
    "#         encoder = LabelEncoder()\n",
    "#         encoder.fit(test2[col])\n",
    "#         labels = encoder.transform(test2[col])\n",
    "#         test2[col] = list(labels) "
   ]
  },
  {
   "cell_type": "markdown",
   "id": "eede2ef0-f236-4797-9f4d-5285e6a2b9d0",
   "metadata": {},
   "source": [
    "`-` 위랑 아래랑 똑같음!\n",
    "\n",
    "`-` train에서 fit한 라벨인코딩을 사용하여 test셋을 transform하자"
   ]
  },
  {
   "cell_type": "code",
   "execution_count": 238,
   "id": "e7ad3c08-d9ba-47f2-86da-51bc4b99b636",
   "metadata": {},
   "outputs": [],
   "source": [
    "test3 = test.copy()"
   ]
  },
  {
   "cell_type": "code",
   "execution_count": 239,
   "id": "8ec45aa3-b8b3-4b4d-8354-fedb1c9e23ca",
   "metadata": {},
   "outputs": [],
   "source": [
    "test3.drop(['Island', 'Full_Clutch'], axis = 1, inplace = True)"
   ]
  },
  {
   "cell_type": "code",
   "execution_count": 240,
   "id": "ffd6d8af-674b-4589-94f1-dc243876adc7",
   "metadata": {},
   "outputs": [],
   "source": [
    "test_species_labels = species_encoder.transform(test3['Species'])\n",
    "test3['Species'] = list(test_species_labels) ## Species labelencoding\n",
    "\n",
    "# test_island_labels = island_encoder.transform(test2['Island'])\n",
    "# test2['Island'] = list(test_island_labels) ## Island labelencoding\n",
    "\n",
    "# test_full_clutch_labels = full_clutch_encoder.transform(test2['Full_Clutch'])\n",
    "# test2['Full_Clutch'] = list(test_full_clutch_labels) ## Full_Clutch labelencoding\n",
    "\n",
    "test_sex_labels = sex_encoder.transform(test3['Sex'])\n",
    "test3['Sex'] = list(test_sex_labels) ## Sex labelencoding"
   ]
  },
  {
   "cell_type": "code",
   "execution_count": 241,
   "id": "4703cdc1-97f8-449c-84b2-6cfd7dce084a",
   "metadata": {},
   "outputs": [
    {
     "data": {
      "text/html": [
       "<div>\n",
       "<style scoped>\n",
       "    .dataframe tbody tr th:only-of-type {\n",
       "        vertical-align: middle;\n",
       "    }\n",
       "\n",
       "    .dataframe tbody tr th {\n",
       "        vertical-align: top;\n",
       "    }\n",
       "\n",
       "    .dataframe thead th {\n",
       "        text-align: right;\n",
       "    }\n",
       "</style>\n",
       "<table border=\"1\" class=\"dataframe\">\n",
       "  <thead>\n",
       "    <tr style=\"text-align: right;\">\n",
       "      <th></th>\n",
       "      <th>Species</th>\n",
       "      <th>Culmen_Length</th>\n",
       "      <th>Culmen_Depth</th>\n",
       "      <th>Flipper_Length</th>\n",
       "      <th>Sex</th>\n",
       "      <th>DeltaN</th>\n",
       "      <th>DeltaC</th>\n",
       "    </tr>\n",
       "  </thead>\n",
       "  <tbody>\n",
       "    <tr>\n",
       "      <th>0</th>\n",
       "      <td>1</td>\n",
       "      <td>52.0</td>\n",
       "      <td>20.7</td>\n",
       "      <td>210.0</td>\n",
       "      <td>1</td>\n",
       "      <td>9.43146</td>\n",
       "      <td>-24.68440</td>\n",
       "    </tr>\n",
       "    <tr>\n",
       "      <th>1</th>\n",
       "      <td>2</td>\n",
       "      <td>55.9</td>\n",
       "      <td>17.0</td>\n",
       "      <td>228.0</td>\n",
       "      <td>1</td>\n",
       "      <td>8.31180</td>\n",
       "      <td>-26.35425</td>\n",
       "    </tr>\n",
       "    <tr>\n",
       "      <th>2</th>\n",
       "      <td>0</td>\n",
       "      <td>38.9</td>\n",
       "      <td>18.8</td>\n",
       "      <td>190.0</td>\n",
       "      <td>0</td>\n",
       "      <td>8.36936</td>\n",
       "      <td>-26.11199</td>\n",
       "    </tr>\n",
       "    <tr>\n",
       "      <th>3</th>\n",
       "      <td>1</td>\n",
       "      <td>45.2</td>\n",
       "      <td>16.6</td>\n",
       "      <td>191.0</td>\n",
       "      <td>0</td>\n",
       "      <td>9.62357</td>\n",
       "      <td>-24.78984</td>\n",
       "    </tr>\n",
       "    <tr>\n",
       "      <th>4</th>\n",
       "      <td>0</td>\n",
       "      <td>37.9</td>\n",
       "      <td>18.6</td>\n",
       "      <td>172.0</td>\n",
       "      <td>0</td>\n",
       "      <td>8.38404</td>\n",
       "      <td>-25.19837</td>\n",
       "    </tr>\n",
       "  </tbody>\n",
       "</table>\n",
       "</div>"
      ],
      "text/plain": [
       "   Species  Culmen_Length  Culmen_Depth  Flipper_Length  Sex   DeltaN  \\\n",
       "0        1           52.0          20.7           210.0    1  9.43146   \n",
       "1        2           55.9          17.0           228.0    1  8.31180   \n",
       "2        0           38.9          18.8           190.0    0  8.36936   \n",
       "3        1           45.2          16.6           191.0    0  9.62357   \n",
       "4        0           37.9          18.6           172.0    0  8.38404   \n",
       "\n",
       "     DeltaC  \n",
       "0 -24.68440  \n",
       "1 -26.35425  \n",
       "2 -26.11199  \n",
       "3 -24.78984  \n",
       "4 -25.19837  "
      ]
     },
     "execution_count": 241,
     "metadata": {},
     "output_type": "execute_result"
    }
   ],
   "source": [
    "test3.head()"
   ]
  },
  {
   "cell_type": "markdown",
   "id": "2904c0cd-b703-4d73-9b9e-64d55898e22e",
   "metadata": {},
   "source": [
    "`-` 라벨 인코딩이 잘 되었다"
   ]
  },
  {
   "cell_type": "markdown",
   "id": "0e25a739-2cbe-4b34-8003-1e1f3f262804",
   "metadata": {},
   "source": [
    "`-` 교호작용항을 추가해주자"
   ]
  },
  {
   "cell_type": "code",
   "execution_count": 242,
   "id": "d7fbeed0-f8f9-46e4-b533-65877f3979d3",
   "metadata": {},
   "outputs": [],
   "source": [
    "test3['Sex_DeltaN'] = test3['Sex'] * test3['DeltaN']\n",
    "\n",
    "test3['Species_DeltaN'] = test3['Species'] * test3['DeltaN']\n",
    "test3['Species_Culmen_Depth'] = test3['Species'] * test3['Culmen_Depth']\n",
    "test3['Species_Flipper_Length'] = test3['Species'] * test3['Flipper_Length']"
   ]
  },
  {
   "cell_type": "code",
   "execution_count": 243,
   "id": "3e62b514-9029-4886-8a6a-dba502387c97",
   "metadata": {},
   "outputs": [
    {
     "data": {
      "text/plain": [
       "(228, 11)"
      ]
     },
     "execution_count": 243,
     "metadata": {},
     "output_type": "execute_result"
    }
   ],
   "source": [
    "test3.shape"
   ]
  },
  {
   "cell_type": "markdown",
   "id": "731b74a3-ffef-447c-8560-6d4a3e5172c3",
   "metadata": {},
   "source": [
    "`-` 위에서 train셋을 이용해 학습한 스케일러의 평균과 표준편차"
   ]
  },
  {
   "cell_type": "code",
   "execution_count": 247,
   "id": "54abaccb-777f-40d8-b57d-f425eb96a72f",
   "metadata": {},
   "outputs": [],
   "source": [
    "## 테스트집합 정규화\n",
    "test3_scaled = my_scaler.transform(test3) ## x_train에서 학습한 정규화방식을 그대로 test_poly에 적용\n",
    "test3_scaled_df = pd.DataFrame(data = test3_scaled, columns = test3.columns)"
   ]
  },
  {
   "cell_type": "code",
   "execution_count": 249,
   "id": "9e975ca1-8745-445e-98a6-e127679d861c",
   "metadata": {},
   "outputs": [
    {
     "data": {
      "text/html": [
       "<div>\n",
       "<style scoped>\n",
       "    .dataframe tbody tr th:only-of-type {\n",
       "        vertical-align: middle;\n",
       "    }\n",
       "\n",
       "    .dataframe tbody tr th {\n",
       "        vertical-align: top;\n",
       "    }\n",
       "\n",
       "    .dataframe thead th {\n",
       "        text-align: right;\n",
       "    }\n",
       "</style>\n",
       "<table border=\"1\" class=\"dataframe\">\n",
       "  <thead>\n",
       "    <tr style=\"text-align: right;\">\n",
       "      <th></th>\n",
       "      <th>Species</th>\n",
       "      <th>Culmen_Length</th>\n",
       "      <th>Culmen_Depth</th>\n",
       "      <th>Flipper_Length</th>\n",
       "      <th>Sex</th>\n",
       "      <th>DeltaN</th>\n",
       "      <th>DeltaC</th>\n",
       "      <th>Sex_DeltaN</th>\n",
       "      <th>Species_DeltaN</th>\n",
       "      <th>Species_Culmen_Depth</th>\n",
       "      <th>Species_Flipper_Length</th>\n",
       "    </tr>\n",
       "  </thead>\n",
       "  <tbody>\n",
       "    <tr>\n",
       "      <th>0</th>\n",
       "      <td>-0.069663</td>\n",
       "      <td>1.394155</td>\n",
       "      <td>1.906577</td>\n",
       "      <td>0.476205</td>\n",
       "      <td>1.0</td>\n",
       "      <td>1.248586</td>\n",
       "      <td>1.235845</td>\n",
       "      <td>1.135290</td>\n",
       "      <td>0.054321</td>\n",
       "      <td>0.291266</td>\n",
       "      <td>-0.086430</td>\n",
       "    </tr>\n",
       "    <tr>\n",
       "      <th>1</th>\n",
       "      <td>1.064848</td>\n",
       "      <td>2.130221</td>\n",
       "      <td>-0.007715</td>\n",
       "      <td>1.710011</td>\n",
       "      <td>1.0</td>\n",
       "      <td>-0.758321</td>\n",
       "      <td>-0.739407</td>\n",
       "      <td>0.882213</td>\n",
       "      <td>1.039447</td>\n",
       "      <td>1.281218</td>\n",
       "      <td>1.187935</td>\n",
       "    </tr>\n",
       "    <tr>\n",
       "      <th>2</th>\n",
       "      <td>-1.204174</td>\n",
       "      <td>-1.078273</td>\n",
       "      <td>0.923562</td>\n",
       "      <td>-0.894689</td>\n",
       "      <td>-1.0</td>\n",
       "      <td>-0.655149</td>\n",
       "      <td>-0.452839</td>\n",
       "      <td>-0.996506</td>\n",
       "      <td>-1.237531</td>\n",
       "      <td>-1.249486</td>\n",
       "      <td>-1.174303</td>\n",
       "    </tr>\n",
       "    <tr>\n",
       "      <th>3</th>\n",
       "      <td>-0.069663</td>\n",
       "      <td>0.110758</td>\n",
       "      <td>-0.214666</td>\n",
       "      <td>-0.826144</td>\n",
       "      <td>-1.0</td>\n",
       "      <td>1.592929</td>\n",
       "      <td>1.111120</td>\n",
       "      <td>-0.996506</td>\n",
       "      <td>0.080635</td>\n",
       "      <td>-0.013907</td>\n",
       "      <td>-0.184857</td>\n",
       "    </tr>\n",
       "    <tr>\n",
       "      <th>4</th>\n",
       "      <td>-1.204174</td>\n",
       "      <td>-1.267007</td>\n",
       "      <td>0.820087</td>\n",
       "      <td>-2.128494</td>\n",
       "      <td>-1.0</td>\n",
       "      <td>-0.628836</td>\n",
       "      <td>0.627874</td>\n",
       "      <td>-0.996506</td>\n",
       "      <td>-1.237531</td>\n",
       "      <td>-1.249486</td>\n",
       "      <td>-1.174303</td>\n",
       "    </tr>\n",
       "  </tbody>\n",
       "</table>\n",
       "</div>"
      ],
      "text/plain": [
       "    Species  Culmen_Length  Culmen_Depth  Flipper_Length  Sex    DeltaN  \\\n",
       "0 -0.069663       1.394155      1.906577        0.476205  1.0  1.248586   \n",
       "1  1.064848       2.130221     -0.007715        1.710011  1.0 -0.758321   \n",
       "2 -1.204174      -1.078273      0.923562       -0.894689 -1.0 -0.655149   \n",
       "3 -0.069663       0.110758     -0.214666       -0.826144 -1.0  1.592929   \n",
       "4 -1.204174      -1.267007      0.820087       -2.128494 -1.0 -0.628836   \n",
       "\n",
       "     DeltaC  Sex_DeltaN  Species_DeltaN  Species_Culmen_Depth  \\\n",
       "0  1.235845    1.135290        0.054321              0.291266   \n",
       "1 -0.739407    0.882213        1.039447              1.281218   \n",
       "2 -0.452839   -0.996506       -1.237531             -1.249486   \n",
       "3  1.111120   -0.996506        0.080635             -0.013907   \n",
       "4  0.627874   -0.996506       -1.237531             -1.249486   \n",
       "\n",
       "   Species_Flipper_Length  \n",
       "0               -0.086430  \n",
       "1                1.187935  \n",
       "2               -1.174303  \n",
       "3               -0.184857  \n",
       "4               -1.174303  "
      ]
     },
     "execution_count": 249,
     "metadata": {},
     "output_type": "execute_result"
    }
   ],
   "source": [
    "test3_scaled_df.head() ## 정규화가 잘 되었는지 확인"
   ]
  },
  {
   "cell_type": "code",
   "execution_count": 36,
   "id": "9037bcac-2954-4fd2-b8e9-0e3ddceba8b9",
   "metadata": {},
   "outputs": [],
   "source": [
    "from sklearn.model_selection import KFold"
   ]
  },
  {
   "cell_type": "code",
   "execution_count": 37,
   "id": "df7c62fe-6ce4-467f-b6e0-48d3526d80bc",
   "metadata": {},
   "outputs": [],
   "source": [
    "kfold = KFold(n_splits = 10, shuffle = True, random_state = 22)"
   ]
  },
  {
   "cell_type": "markdown",
   "id": "11061a29-3bad-4b81-8bbd-b970d8e8c326",
   "metadata": {},
   "source": [
    "### 라쏘 회귀"
   ]
  },
  {
   "cell_type": "markdown",
   "id": "f8bfa3d1-f2c8-4c58-b214-524a3be0774d",
   "metadata": {},
   "source": [
    "`-` 라쏘 회귀의 $\\alpha$ 선택 ---> $\\alpha = 27$이 좋아보임"
   ]
  },
  {
   "cell_type": "code",
   "execution_count": 62,
   "id": "4a64237e-ecdd-4658-9ff4-637c0fb6c6e5",
   "metadata": {},
   "outputs": [],
   "source": [
    "train_raw_rmse, valid_raw_rmse = [], []\n",
    "train_raw_r2, valid_raw_r2 = [], []\n",
    "alphas = np.linspace(0.01, 50, 300)\n",
    "\n",
    "for alpha in alphas:\n",
    "    my_lasso = Lasso(alpha = alpha, max_iter = 150000, random_state = 21)\n",
    "    scores = cross_validate(my_lasso, my_scaled_df, target,\n",
    "                            scoring = ('r2', 'neg_mean_squared_error'), return_train_score = True, cv = kfold)\n",
    "    \n",
    "    train_raw_rmse.append(np.mean(list(map(get_rmse, scores['train_neg_mean_squared_error'])))) ## rmse\n",
    "    valid_raw_rmse.append(np.mean(list(map(get_rmse, scores['test_neg_mean_squared_error']))))\n",
    "    \n",
    "    train_raw_r2.append(np.mean(scores['train_r2'])) ## r2\n",
    "    valid_raw_r2.append(np.mean(scores['test_r2']))"
   ]
  },
  {
   "cell_type": "markdown",
   "id": "84d5512e-60e1-408f-b149-b7f97c8b081e",
   "metadata": {},
   "source": [
    "#### $R^2$ 시각화"
   ]
  },
  {
   "cell_type": "code",
   "execution_count": 55,
   "id": "17cc5cbb-ce27-4d50-9d91-131d0774ee97",
   "metadata": {},
   "outputs": [
    {
     "data": {
      "text/plain": [
       "<matplotlib.legend.Legend at 0x1c05e7c8d00>"
      ]
     },
     "execution_count": 55,
     "metadata": {},
     "output_type": "execute_result"
    },
    {
     "data": {
      "image/png": "[encoded data removed]",
      "text/plain": [
       "<Figure size 432x288 with 1 Axes>"
      ]
     },
     "metadata": {
      "needs_background": "light"
     },
     "output_type": "display_data"
    }
   ],
   "source": [
    "plt.plot(alphas, train_raw_r2, 'b--', label = 'train set')\n",
    "plt.plot(alphas, valid_raw_r2, 'r--', label = 'valid set')\n",
    "plt.title('alpha and rmse')\n",
    "plt.legend()"
   ]
  },
  {
   "cell_type": "code",
   "execution_count": 311,
   "id": "2dfe5169-9552-48d5-94e6-c1d24a23044f",
   "metadata": {},
   "outputs": [
    {
     "data": {
      "text/plain": [
       "<matplotlib.legend.Legend at 0x29c7bcd2e20>"
      ]
     },
     "execution_count": 311,
     "metadata": {},
     "output_type": "execute_result"
    },
    {
     "data": {
      "image/png": "[encoded data removed]",
      "text/plain": [
       "<Figure size 432x288 with 1 Axes>"
      ]
     },
     "metadata": {
      "needs_background": "light"
     },
     "output_type": "display_data"
    }
   ],
   "source": [
    "plt.plot(alphas, train_raw_r2, 'b--', label = 'train set')\n",
    "plt.plot(alphas, valid_raw_r2, 'r--', label = 'valid set')\n",
    "plt.title('alpha and rmse')\n",
    "plt.legend()"
   ]
  },
  {
   "cell_type": "markdown",
   "id": "ea9d8b0e-63fb-4807-a001-cd352c0d2fc4",
   "metadata": {},
   "source": [
    "#### RMSE(추정오차의 표준편차) 시각화"
   ]
  },
  {
   "cell_type": "code",
   "execution_count": 56,
   "id": "341ac8db-d642-4f08-90d4-f0c7b206cc36",
   "metadata": {},
   "outputs": [
    {
     "data": {
      "text/plain": [
       "<matplotlib.legend.Legend at 0x1c05e9cfdc0>"
      ]
     },
     "execution_count": 56,
     "metadata": {},
     "output_type": "execute_result"
    },
    {
     "data": {
      "image/png": "[encoded data removed]",
      "text/plain": [
       "<Figure size 432x288 with 1 Axes>"
      ]
     },
     "metadata": {
      "needs_background": "light"
     },
     "output_type": "display_data"
    }
   ],
   "source": [
    "plt.plot(alphas, train_raw_rmse, 'b--', label = 'train set')\n",
    "plt.plot(alphas, valid_raw_rmse, 'r--', label = 'valid set')\n",
    "plt.title('alpha and rmse')\n",
    "plt.legend()"
   ]
  },
  {
   "cell_type": "code",
   "execution_count": 312,
   "id": "fe34e352-23ad-437f-a7b6-3e661419f0c5",
   "metadata": {},
   "outputs": [
    {
     "data": {
      "text/plain": [
       "<matplotlib.legend.Legend at 0x29c7bc81550>"
      ]
     },
     "execution_count": 312,
     "metadata": {},
     "output_type": "execute_result"
    },
    {
     "data": {
      "image/png": "[encoded data removed]",
      "text/plain": [
       "<Figure size 432x288 with 1 Axes>"
      ]
     },
     "metadata": {
      "needs_background": "light"
     },
     "output_type": "display_data"
    }
   ],
   "source": [
    "plt.plot(alphas, train_raw_rmse, 'b--', label = 'train set')\n",
    "plt.plot(alphas, valid_raw_rmse, 'r--', label = 'valid set')\n",
    "plt.title('alpha and rmse')\n",
    "plt.legend()"
   ]
  },
  {
   "cell_type": "markdown",
   "id": "e89455dd-40e4-4e9e-aa19-04dcfa01063f",
   "metadata": {},
   "source": [
    "`-` 모델을 학습시키고 test 셋을 예측하자\n",
    "\n",
    "`-` 학습데이터는 표본 전부 사용(모델 성능는 위에서 교차검증을 통해 확인했으니까)\n",
    "\n",
    "`-` 물론 최적 $\\alpha$가 조금 달라지겠지만 큰 차이는 아니므로 괜찮다"
   ]
  },
  {
   "cell_type": "code",
   "execution_count": 99,
   "id": "74abb39b-2084-4292-b02e-90d2e97fc85f",
   "metadata": {},
   "outputs": [],
   "source": [
    "my_lasso = Lasso(alpha = 27, max_iter = 150000, random_state = 21)\n",
    "my_lasso2 = Lasso(alpha = 0.8, max_iter = 150000, random_state = 21)"
   ]
  },
  {
   "cell_type": "code",
   "execution_count": 100,
   "id": "04240e45-c356-4404-a9b1-1e7fab407afc",
   "metadata": {},
   "outputs": [
    {
     "data": {
      "text/plain": [
       "Lasso(alpha=0.8, max_iter=150000, random_state=21)"
      ]
     },
     "execution_count": 100,
     "metadata": {},
     "output_type": "execute_result"
    }
   ],
   "source": [
    "my_lasso.fit(my_scaled_df, target)\n",
    "my_lasso2.fit(my_scaled_df, target)"
   ]
  },
  {
   "cell_type": "code",
   "execution_count": 101,
   "id": "61ce62c4-f5bc-4a5f-ade3-967f31b532aa",
   "metadata": {},
   "outputs": [
    {
     "data": {
      "text/plain": [
       "[('Species', 0.0),\n",
       " ('Culmen_Length', 0.0),\n",
       " ('Culmen_Depth', -0.0),\n",
       " ('Flipper_Length', 341.19349058310866),\n",
       " ('Sex', 238.62796796729788),\n",
       " ('DeltaN', -151.62328086316543),\n",
       " ('DeltaC', -12.790844046911804),\n",
       " ('Sex_DeltaN', 0.0),\n",
       " ('Species_DeltaN', 0.0),\n",
       " ('Species_Culmen_Depth', 0.0),\n",
       " ('Species_Flipper_Length', 183.66878951731493)]"
      ]
     },
     "execution_count": 101,
     "metadata": {},
     "output_type": "execute_result"
    }
   ],
   "source": [
    "list(zip(my_scaled_df.columns, my_lasso.coef_))"
   ]
  },
  {
   "cell_type": "code",
   "execution_count": 97,
   "id": "1b40bdec-9c10-4d5f-99c7-6a37a325d1df",
   "metadata": {},
   "outputs": [
    {
     "data": {
      "text/plain": [
       "[('Species', -0.0),\n",
       " ('Culmen_Length', 13.842366022352914),\n",
       " ('Culmen_Depth', 33.410511794472),\n",
       " ('Flipper_Length', 187.30901707979004),\n",
       " ('Sex', 299.66537970021307),\n",
       " ('DeltaN', -93.97968826881377),\n",
       " ('DeltaC', -10.525559158550905),\n",
       " ('Sex_DeltaN', -30.453186182960724),\n",
       " ('Species_DeltaN', -676.9640428025973),\n",
       " ('Species_Culmen_Depth', -349.0551140123176),\n",
       " ('Species_Flipper_Length', 1407.2613563913867)]"
      ]
     },
     "execution_count": 97,
     "metadata": {},
     "output_type": "execute_result"
    }
   ],
   "source": [
    "list(zip(my_scaled_df.columns, my_lasso2.coef_))"
   ]
  },
  {
   "cell_type": "code",
   "execution_count": 383,
   "id": "294944cb-7f94-4584-b8d6-66612da29aa4",
   "metadata": {},
   "outputs": [],
   "source": [
    "lasso_test_predict = my_lasso.predict(test3_scaled_df)\n",
    "lasso_test_predict2 = my_lasso2.predict(test3_scaled_df)"
   ]
  },
  {
   "cell_type": "code",
   "execution_count": 384,
   "id": "b56e2024-6ca2-45cc-b9d8-d674b279b015",
   "metadata": {},
   "outputs": [
    {
     "data": {
      "text/plain": [
       "(array([4507.96033825, 5492.54673886, 3673.40612757, 3517.65815508,\n",
       "        3234.62699202, 4306.08015104]),\n",
       " array([4374.71830855, 5550.08103443, 3594.56923065, 3426.87697269,\n",
       "        3343.54873165, 4235.8119274 ]))"
      ]
     },
     "execution_count": 384,
     "metadata": {},
     "output_type": "execute_result"
    }
   ],
   "source": [
    "lasso_test_predict[:6], lasso_test_predict2[:6]"
   ]
  },
  {
   "cell_type": "code",
   "execution_count": 375,
   "id": "8ba0b091-b0d4-43a5-adf5-b074a3c36762",
   "metadata": {},
   "outputs": [
    {
     "data": {
      "text/html": [
       "<div>\n",
       "<style scoped>\n",
       "    .dataframe tbody tr th:only-of-type {\n",
       "        vertical-align: middle;\n",
       "    }\n",
       "\n",
       "    .dataframe tbody tr th {\n",
       "        vertical-align: top;\n",
       "    }\n",
       "\n",
       "    .dataframe thead th {\n",
       "        text-align: right;\n",
       "    }\n",
       "</style>\n",
       "<table border=\"1\" class=\"dataframe\">\n",
       "  <thead>\n",
       "    <tr style=\"text-align: right;\">\n",
       "      <th></th>\n",
       "      <th>id</th>\n",
       "      <th>Body Mass (g)</th>\n",
       "    </tr>\n",
       "  </thead>\n",
       "  <tbody>\n",
       "    <tr>\n",
       "      <th>0</th>\n",
       "      <td>0</td>\n",
       "      <td>4507.960338</td>\n",
       "    </tr>\n",
       "    <tr>\n",
       "      <th>1</th>\n",
       "      <td>1</td>\n",
       "      <td>5492.546739</td>\n",
       "    </tr>\n",
       "    <tr>\n",
       "      <th>2</th>\n",
       "      <td>2</td>\n",
       "      <td>3673.406128</td>\n",
       "    </tr>\n",
       "    <tr>\n",
       "      <th>3</th>\n",
       "      <td>3</td>\n",
       "      <td>3517.658155</td>\n",
       "    </tr>\n",
       "    <tr>\n",
       "      <th>4</th>\n",
       "      <td>4</td>\n",
       "      <td>3234.626992</td>\n",
       "    </tr>\n",
       "  </tbody>\n",
       "</table>\n",
       "</div>"
      ],
      "text/plain": [
       "   id  Body Mass (g)\n",
       "0   0    4507.960338\n",
       "1   1    5492.546739\n",
       "2   2    3673.406128\n",
       "3   3    3517.658155\n",
       "4   4    3234.626992"
      ]
     },
     "execution_count": 375,
     "metadata": {},
     "output_type": "execute_result"
    }
   ],
   "source": [
    "# 위에서 구한 예측값을 그대로 넣음\n",
    "submission['Body Mass (g)'] = lasso_test_predict\n",
    "\n",
    "# 데이터가 잘 들어갔는지 확인\n",
    "submission.head()"
   ]
  },
  {
   "cell_type": "code",
   "execution_count": 377,
   "id": "d7096cdb-27c0-43ad-8e70-781ce1a0ac71",
   "metadata": {},
   "outputs": [],
   "source": [
    "# submission을 csv 파일로 저장\n",
    "submission.to_csv('C:/Users/Jaesu/Dacon-Basic/뗑컨-몸무게-예측/Data/submission_mylasso27.csv', index = False)"
   ]
  },
  {
   "cell_type": "code",
   "execution_count": 387,
   "id": "235e8acc-0e26-42b3-a715-8ff9ce6d6f9e",
   "metadata": {},
   "outputs": [
    {
     "data": {
      "text/html": [
       "<div>\n",
       "<style scoped>\n",
       "    .dataframe tbody tr th:only-of-type {\n",
       "        vertical-align: middle;\n",
       "    }\n",
       "\n",
       "    .dataframe tbody tr th {\n",
       "        vertical-align: top;\n",
       "    }\n",
       "\n",
       "    .dataframe thead th {\n",
       "        text-align: right;\n",
       "    }\n",
       "</style>\n",
       "<table border=\"1\" class=\"dataframe\">\n",
       "  <thead>\n",
       "    <tr style=\"text-align: right;\">\n",
       "      <th></th>\n",
       "      <th>id</th>\n",
       "      <th>Body Mass (g)</th>\n",
       "    </tr>\n",
       "  </thead>\n",
       "  <tbody>\n",
       "    <tr>\n",
       "      <th>0</th>\n",
       "      <td>0</td>\n",
       "      <td>4374.718309</td>\n",
       "    </tr>\n",
       "    <tr>\n",
       "      <th>1</th>\n",
       "      <td>1</td>\n",
       "      <td>5550.081034</td>\n",
       "    </tr>\n",
       "    <tr>\n",
       "      <th>2</th>\n",
       "      <td>2</td>\n",
       "      <td>3594.569231</td>\n",
       "    </tr>\n",
       "    <tr>\n",
       "      <th>3</th>\n",
       "      <td>3</td>\n",
       "      <td>3426.876973</td>\n",
       "    </tr>\n",
       "    <tr>\n",
       "      <th>4</th>\n",
       "      <td>4</td>\n",
       "      <td>3343.548732</td>\n",
       "    </tr>\n",
       "  </tbody>\n",
       "</table>\n",
       "</div>"
      ],
      "text/plain": [
       "   id  Body Mass (g)\n",
       "0   0    4374.718309\n",
       "1   1    5550.081034\n",
       "2   2    3594.569231\n",
       "3   3    3426.876973\n",
       "4   4    3343.548732"
      ]
     },
     "execution_count": 387,
     "metadata": {},
     "output_type": "execute_result"
    }
   ],
   "source": [
    "# 위에서 구한 예측값을 그대로 넣음\n",
    "submission['Body Mass (g)'] = lasso_test_predict2\n",
    "\n",
    "# 데이터가 잘 들어갔는지 확인\n",
    "submission.head()"
   ]
  },
  {
   "cell_type": "code",
   "execution_count": 388,
   "id": "ecc57990-f694-4940-bf9a-589141d59e08",
   "metadata": {},
   "outputs": [],
   "source": [
    "# submission을 csv 파일로 저장\n",
    "submission.to_csv('C:/Users/Jaesu/Dacon-Basic/뗑컨-몸무게-예측/Data/submission_mylasso0.8.csv', index = False)"
   ]
  },
  {
   "cell_type": "markdown",
   "id": "00ae5423-7c8b-4601-8e24-702eead65a86",
   "metadata": {},
   "source": [
    "`-` 점수는 273.265498098"
   ]
  },
  {
   "cell_type": "markdown",
   "id": "fe57e1cb-6844-4898-8f80-53ac1ff5d3a2",
   "metadata": {},
   "source": [
    "### 릿지 회귀"
   ]
  },
  {
   "cell_type": "code",
   "execution_count": 319,
   "id": "d2fbde8d-47ae-4c88-ae27-7cc05c1accf5",
   "metadata": {},
   "outputs": [],
   "source": [
    "train_raw_rmse_2, valid_raw_rmse_2 = [], []\n",
    "train_raw_r2_2, valid_raw_r2_2 = [], []\n",
    "alphas = np.linspace(0.01, 50, 300)\n",
    "\n",
    "for alpha in alphas:\n",
    "    my_ridge = Ridge(alpha = alpha, max_iter = 150000, random_state = 21)\n",
    "    scores = cross_validate(my_ridge, my_scaled_df, target,\n",
    "                            scoring = ('r2', 'neg_mean_squared_error'), return_train_score = True, cv = kfold)\n",
    "    \n",
    "    train_raw_rmse_2.append(np.mean(list(map(get_rmse, scores['train_neg_mean_squared_error'])))) ## rmse\n",
    "    valid_raw_rmse_2.append(np.mean(list(map(get_rmse, scores['test_neg_mean_squared_error']))))\n",
    "    \n",
    "    train_raw_r2_2.append(np.mean(scores['train_r2'])) ## r2\n",
    "    valid_raw_r2_2.append(np.mean(scores['test_r2']))"
   ]
  },
  {
   "cell_type": "markdown",
   "id": "ba36a725-a64e-48dd-aeeb-ff1a23bb60cc",
   "metadata": {},
   "source": [
    "#### $R^2$ 시각화"
   ]
  },
  {
   "cell_type": "code",
   "execution_count": 320,
   "id": "1f24c598-ac07-4831-862b-9bad868df06c",
   "metadata": {},
   "outputs": [
    {
     "data": {
      "text/plain": [
       "<matplotlib.legend.Legend at 0x29c7bc96c40>"
      ]
     },
     "execution_count": 320,
     "metadata": {},
     "output_type": "execute_result"
    },
    {
     "data": {
      "image/png": "[encoded data removed]",
      "text/plain": [
       "<Figure size 432x288 with 1 Axes>"
      ]
     },
     "metadata": {
      "needs_background": "light"
     },
     "output_type": "display_data"
    }
   ],
   "source": [
    "plt.plot(alphas, train_raw_r2_2, 'b--', label = 'train set')\n",
    "plt.plot(alphas, valid_raw_r2_2, 'r--', label = 'valid set')\n",
    "plt.title('alpha and rmse')\n",
    "plt.legend()"
   ]
  },
  {
   "cell_type": "markdown",
   "id": "74167e73-7401-4039-a29d-311264dbb34d",
   "metadata": {},
   "source": [
    "#### RMSE(추정오차의 표준편차) 시각화"
   ]
  },
  {
   "cell_type": "code",
   "execution_count": 321,
   "id": "33466062-9d4e-4c40-a9d9-bd0cc3429a67",
   "metadata": {},
   "outputs": [
    {
     "data": {
      "text/plain": [
       "<matplotlib.legend.Legend at 0x29c7bd230d0>"
      ]
     },
     "execution_count": 321,
     "metadata": {},
     "output_type": "execute_result"
    },
    {
     "data": {
      "image/png": "[encoded data removed]",
      "text/plain": [
       "<Figure size 432x288 with 1 Axes>"
      ]
     },
     "metadata": {
      "needs_background": "light"
     },
     "output_type": "display_data"
    }
   ],
   "source": [
    "plt.plot(alphas, train_raw_rmse_2, 'b--', label = 'train set')\n",
    "plt.plot(alphas, valid_raw_rmse_2, 'r--', label = 'valid set')\n",
    "plt.title('alpha and rmse')\n",
    "plt.legend()"
   ]
  },
  {
   "cell_type": "code",
   "execution_count": 68,
   "id": "7011b4e2-b26a-4e55-b540-200f2c2497e9",
   "metadata": {},
   "outputs": [],
   "source": [
    "my_ridge = Ridge(alpha = 25, max_iter = 150000, random_state = 21)\n",
    "my_ridge2 = Ridge(alpha = 1, max_iter = 150000, random_state = 21)"
   ]
  },
  {
   "cell_type": "code",
   "execution_count": 69,
   "id": "9c3752d5-c51c-42ee-bd93-99e387f0d08d",
   "metadata": {},
   "outputs": [
    {
     "data": {
      "text/plain": [
       "Ridge(alpha=1, max_iter=150000, random_state=21)"
      ]
     },
     "execution_count": 69,
     "metadata": {},
     "output_type": "execute_result"
    }
   ],
   "source": [
    "my_ridge.fit(my_scaled_df, target)\n",
    "my_ridge2.fit(my_scaled_df, target)"
   ]
  },
  {
   "cell_type": "code",
   "execution_count": 96,
   "id": "17997caf-1a19-4f8f-8ba7-0b1445244af6",
   "metadata": {},
   "outputs": [
    {
     "data": {
      "text/plain": [
       "[('Species', 73.96480047924298),\n",
       " ('Culmen_Length', 17.601902217648824),\n",
       " ('Culmen_Depth', -37.414121082112345),\n",
       " ('Flipper_Length', 190.57309027751273),\n",
       " ('Sex', 146.11232758257674),\n",
       " ('DeltaN', -140.63731450840947),\n",
       " ('DeltaC', -69.79462785780501),\n",
       " ('Sex_DeltaN', 128.13633633989355),\n",
       " ('Species_DeltaN', 50.65621023728903),\n",
       " ('Species_Culmen_Depth', 54.31070165062659),\n",
       " ('Species_Flipper_Length', 99.03832316509904)]"
      ]
     },
     "execution_count": 96,
     "metadata": {},
     "output_type": "execute_result"
    }
   ],
   "source": [
    "list(zip(my_scaled_df.columns, my_ridge.coef_))"
   ]
  },
  {
   "cell_type": "code",
   "execution_count": 392,
   "id": "bd2b86b8-2087-4ac1-adc1-ffff5f290fb9",
   "metadata": {},
   "outputs": [],
   "source": [
    "ridge_test_predict = my_ridge.predict(test3_scaled_df)\n",
    "ridge_test_predict2 = my_ridge2.predict(test3_scaled_df)"
   ]
  },
  {
   "cell_type": "code",
   "execution_count": 393,
   "id": "6e5918e0-5747-4a55-ab45-011ebe334fe6",
   "metadata": {},
   "outputs": [
    {
     "data": {
      "text/plain": [
       "(array([4406.39892289, 5427.5788897 , 3617.83997354, 3584.88341635,\n",
       "        3304.13072142, 4332.48060213]),\n",
       " array([4416.22387845, 5480.45443987, 3597.03935084, 3462.03646171,\n",
       "        3227.73313425, 4261.34120906]))"
      ]
     },
     "execution_count": 393,
     "metadata": {},
     "output_type": "execute_result"
    }
   ],
   "source": [
    "ridge_test_predict[:6], ridge_test_predict2[:6]"
   ]
  },
  {
   "cell_type": "code",
   "execution_count": 145,
   "id": "1ff6b960-864f-4a5f-88a7-6870613e2926",
   "metadata": {
    "tags": []
   },
   "outputs": [],
   "source": [
    "# 제출용 sample 파일을 불러옴\n",
    "submission = pd.read_csv('C:/Users/Jaesu/Dacon-Basic/뗑컨-몸무게-예측/Data/sample_submission.csv')"
   ]
  },
  {
   "cell_type": "code",
   "execution_count": 379,
   "id": "0d2d12be-93b9-4dfe-9f6b-7740604d7d54",
   "metadata": {},
   "outputs": [
    {
     "data": {
      "text/html": [
       "<div>\n",
       "<style scoped>\n",
       "    .dataframe tbody tr th:only-of-type {\n",
       "        vertical-align: middle;\n",
       "    }\n",
       "\n",
       "    .dataframe tbody tr th {\n",
       "        vertical-align: top;\n",
       "    }\n",
       "\n",
       "    .dataframe thead th {\n",
       "        text-align: right;\n",
       "    }\n",
       "</style>\n",
       "<table border=\"1\" class=\"dataframe\">\n",
       "  <thead>\n",
       "    <tr style=\"text-align: right;\">\n",
       "      <th></th>\n",
       "      <th>id</th>\n",
       "      <th>Body Mass (g)</th>\n",
       "    </tr>\n",
       "  </thead>\n",
       "  <tbody>\n",
       "    <tr>\n",
       "      <th>0</th>\n",
       "      <td>0</td>\n",
       "      <td>4406.398923</td>\n",
       "    </tr>\n",
       "    <tr>\n",
       "      <th>1</th>\n",
       "      <td>1</td>\n",
       "      <td>5427.578890</td>\n",
       "    </tr>\n",
       "    <tr>\n",
       "      <th>2</th>\n",
       "      <td>2</td>\n",
       "      <td>3617.839974</td>\n",
       "    </tr>\n",
       "    <tr>\n",
       "      <th>3</th>\n",
       "      <td>3</td>\n",
       "      <td>3584.883416</td>\n",
       "    </tr>\n",
       "    <tr>\n",
       "      <th>4</th>\n",
       "      <td>4</td>\n",
       "      <td>3304.130721</td>\n",
       "    </tr>\n",
       "  </tbody>\n",
       "</table>\n",
       "</div>"
      ],
      "text/plain": [
       "   id  Body Mass (g)\n",
       "0   0    4406.398923\n",
       "1   1    5427.578890\n",
       "2   2    3617.839974\n",
       "3   3    3584.883416\n",
       "4   4    3304.130721"
      ]
     },
     "execution_count": 379,
     "metadata": {},
     "output_type": "execute_result"
    }
   ],
   "source": [
    "# 위에서 구한 예측값을 그대로 넣음\n",
    "submission['Body Mass (g)'] = ridge_test_predict\n",
    "\n",
    "# 데이터가 잘 들어갔는지 확인\n",
    "submission.head()"
   ]
  },
  {
   "cell_type": "code",
   "execution_count": 380,
   "id": "603dbe58-6f5d-457c-aac2-e414da8bdbbd",
   "metadata": {},
   "outputs": [],
   "source": [
    "# submission을 csv 파일로 저장\n",
    "submission.to_csv('C:/Users/Jaesu/Dacon-Basic/뗑컨-몸무게-예측/Data/submission_myridge25.csv', index = False)"
   ]
  },
  {
   "cell_type": "code",
   "execution_count": 394,
   "id": "a25058c5-8e07-4e21-9cd1-356f3e187534",
   "metadata": {},
   "outputs": [
    {
     "data": {
      "text/html": [
       "<div>\n",
       "<style scoped>\n",
       "    .dataframe tbody tr th:only-of-type {\n",
       "        vertical-align: middle;\n",
       "    }\n",
       "\n",
       "    .dataframe tbody tr th {\n",
       "        vertical-align: top;\n",
       "    }\n",
       "\n",
       "    .dataframe thead th {\n",
       "        text-align: right;\n",
       "    }\n",
       "</style>\n",
       "<table border=\"1\" class=\"dataframe\">\n",
       "  <thead>\n",
       "    <tr style=\"text-align: right;\">\n",
       "      <th></th>\n",
       "      <th>id</th>\n",
       "      <th>Body Mass (g)</th>\n",
       "    </tr>\n",
       "  </thead>\n",
       "  <tbody>\n",
       "    <tr>\n",
       "      <th>0</th>\n",
       "      <td>0</td>\n",
       "      <td>4416.223878</td>\n",
       "    </tr>\n",
       "    <tr>\n",
       "      <th>1</th>\n",
       "      <td>1</td>\n",
       "      <td>5480.454440</td>\n",
       "    </tr>\n",
       "    <tr>\n",
       "      <th>2</th>\n",
       "      <td>2</td>\n",
       "      <td>3597.039351</td>\n",
       "    </tr>\n",
       "    <tr>\n",
       "      <th>3</th>\n",
       "      <td>3</td>\n",
       "      <td>3462.036462</td>\n",
       "    </tr>\n",
       "    <tr>\n",
       "      <th>4</th>\n",
       "      <td>4</td>\n",
       "      <td>3227.733134</td>\n",
       "    </tr>\n",
       "  </tbody>\n",
       "</table>\n",
       "</div>"
      ],
      "text/plain": [
       "   id  Body Mass (g)\n",
       "0   0    4416.223878\n",
       "1   1    5480.454440\n",
       "2   2    3597.039351\n",
       "3   3    3462.036462\n",
       "4   4    3227.733134"
      ]
     },
     "execution_count": 394,
     "metadata": {},
     "output_type": "execute_result"
    }
   ],
   "source": [
    "# 위에서 구한 예측값을 그대로 넣음\n",
    "submission['Body Mass (g)'] = ridge_test_predict2\n",
    "\n",
    "# 데이터가 잘 들어갔는지 확인\n",
    "submission.head()"
   ]
  },
  {
   "cell_type": "code",
   "execution_count": 395,
   "id": "bcb75aab-2bb7-4985-b822-6cd205c932ed",
   "metadata": {},
   "outputs": [],
   "source": [
    "# submission을 csv 파일로 저장\n",
    "submission.to_csv('C:/Users/Jaesu/Dacon-Basic/뗑컨-몸무게-예측/Data/submission_myridge1.csv', index = False)"
   ]
  },
  {
   "cell_type": "markdown",
   "id": "0623d52c-e584-4184-94b6-1d2bbdd26081",
   "metadata": {},
   "source": [
    "`-` 점수는 284.1045115676\n",
    "\n",
    "`-` 릿지 회귀보다 라쏘 회귀가 좋다"
   ]
  },
  {
   "cell_type": "markdown",
   "id": "c87f4727-fdc9-40fa-b943-e1d5ed67c989",
   "metadata": {},
   "source": [
    "## 교호작용항 세심하게 만들기2"
   ]
  },
  {
   "cell_type": "markdown",
   "id": "a44f48e6-bc55-4ddb-be28-58d974375967",
   "metadata": {},
   "source": [
    "`-` Full_Clutch만 제외함"
   ]
  },
  {
   "cell_type": "code",
   "execution_count": 29,
   "id": "d3af3518-4b89-44f8-894c-207584d5ae02",
   "metadata": {},
   "outputs": [
    {
     "data": {
      "text/html": [
       "<div>\n",
       "<style scoped>\n",
       "    .dataframe tbody tr th:only-of-type {\n",
       "        vertical-align: middle;\n",
       "    }\n",
       "\n",
       "    .dataframe tbody tr th {\n",
       "        vertical-align: top;\n",
       "    }\n",
       "\n",
       "    .dataframe thead th {\n",
       "        text-align: right;\n",
       "    }\n",
       "</style>\n",
       "<table border=\"1\" class=\"dataframe\">\n",
       "  <thead>\n",
       "    <tr style=\"text-align: right;\">\n",
       "      <th></th>\n",
       "      <th>Species</th>\n",
       "      <th>Island</th>\n",
       "      <th>Full_Clutch</th>\n",
       "      <th>Culmen_Length</th>\n",
       "      <th>Culmen_Depth</th>\n",
       "      <th>Flipper_Length</th>\n",
       "      <th>Sex</th>\n",
       "      <th>DeltaN</th>\n",
       "      <th>DeltaC</th>\n",
       "    </tr>\n",
       "  </thead>\n",
       "  <tbody>\n",
       "    <tr>\n",
       "      <th>85</th>\n",
       "      <td>2</td>\n",
       "      <td>0</td>\n",
       "      <td>0</td>\n",
       "      <td>49.0</td>\n",
       "      <td>16.1</td>\n",
       "      <td>216</td>\n",
       "      <td>1</td>\n",
       "      <td>8.10417</td>\n",
       "      <td>-25.50562</td>\n",
       "    </tr>\n",
       "    <tr>\n",
       "      <th>98</th>\n",
       "      <td>2</td>\n",
       "      <td>0</td>\n",
       "      <td>1</td>\n",
       "      <td>49.1</td>\n",
       "      <td>15.0</td>\n",
       "      <td>228</td>\n",
       "      <td>1</td>\n",
       "      <td>8.65914</td>\n",
       "      <td>-25.79203</td>\n",
       "    </tr>\n",
       "    <tr>\n",
       "      <th>69</th>\n",
       "      <td>2</td>\n",
       "      <td>0</td>\n",
       "      <td>1</td>\n",
       "      <td>50.0</td>\n",
       "      <td>15.9</td>\n",
       "      <td>224</td>\n",
       "      <td>1</td>\n",
       "      <td>8.20042</td>\n",
       "      <td>-26.39677</td>\n",
       "    </tr>\n",
       "    <tr>\n",
       "      <th>0</th>\n",
       "      <td>2</td>\n",
       "      <td>0</td>\n",
       "      <td>1</td>\n",
       "      <td>50.0</td>\n",
       "      <td>15.3</td>\n",
       "      <td>220</td>\n",
       "      <td>1</td>\n",
       "      <td>8.30515</td>\n",
       "      <td>-25.19017</td>\n",
       "    </tr>\n",
       "    <tr>\n",
       "      <th>22</th>\n",
       "      <td>2</td>\n",
       "      <td>0</td>\n",
       "      <td>1</td>\n",
       "      <td>43.5</td>\n",
       "      <td>15.2</td>\n",
       "      <td>213</td>\n",
       "      <td>0</td>\n",
       "      <td>8.21634</td>\n",
       "      <td>-26.11046</td>\n",
       "    </tr>\n",
       "  </tbody>\n",
       "</table>\n",
       "</div>"
      ],
      "text/plain": [
       "    Species  Island  Full_Clutch  Culmen_Length  Culmen_Depth  Flipper_Length  \\\n",
       "85        2       0            0           49.0          16.1             216   \n",
       "98        2       0            1           49.1          15.0             228   \n",
       "69        2       0            1           50.0          15.9             224   \n",
       "0         2       0            1           50.0          15.3             220   \n",
       "22        2       0            1           43.5          15.2             213   \n",
       "\n",
       "    Sex   DeltaN    DeltaC  \n",
       "85    1  8.10417 -25.50562  \n",
       "98    1  8.65914 -25.79203  \n",
       "69    1  8.20042 -26.39677  \n",
       "0     1  8.30515 -25.19017  \n",
       "22    0  8.21634 -26.11046  "
      ]
     },
     "execution_count": 29,
     "metadata": {},
     "output_type": "execute_result"
    }
   ],
   "source": [
    "x_train_raw.head()"
   ]
  },
  {
   "cell_type": "code",
   "execution_count": 102,
   "id": "d7872093-863c-4790-9303-ee9bd6f9b616",
   "metadata": {},
   "outputs": [],
   "source": [
    "raw_x2 = dt.copy()"
   ]
  },
  {
   "cell_type": "code",
   "execution_count": 103,
   "id": "4e10b7b2-4e56-45ca-be36-8469cc7d938b",
   "metadata": {},
   "outputs": [],
   "source": [
    "raw_x2.drop('Full_Clutch', axis = 1, inplace = True)"
   ]
  },
  {
   "cell_type": "markdown",
   "id": "3386d05e-1970-4518-859d-0b061b918bb4",
   "metadata": {},
   "source": [
    "`-` 교호작용 추가"
   ]
  },
  {
   "cell_type": "code",
   "execution_count": 104,
   "id": "58fa2e8e-693e-4976-aa72-a6ba83966d3b",
   "metadata": {},
   "outputs": [],
   "source": [
    "raw_x2['Species_Culmen_Depth'] = raw_x2['Species'] * raw_x2['Culmen_Depth']\n",
    "raw_x2['Species_Flipper_Length'] = raw_x2['Species'] * raw_x2['Flipper_Length']\n",
    "\n",
    "raw_x2['Island_Culmen_Length'] = raw_x2['Island'] * raw_x2['Culmen_Length']"
   ]
  },
  {
   "cell_type": "code",
   "execution_count": 105,
   "id": "baf45879-f021-46dd-a0b8-50964af2f234",
   "metadata": {},
   "outputs": [
    {
     "data": {
      "text/html": [
       "<div>\n",
       "<style scoped>\n",
       "    .dataframe tbody tr th:only-of-type {\n",
       "        vertical-align: middle;\n",
       "    }\n",
       "\n",
       "    .dataframe tbody tr th {\n",
       "        vertical-align: top;\n",
       "    }\n",
       "\n",
       "    .dataframe thead th {\n",
       "        text-align: right;\n",
       "    }\n",
       "</style>\n",
       "<table border=\"1\" class=\"dataframe\">\n",
       "  <thead>\n",
       "    <tr style=\"text-align: right;\">\n",
       "      <th></th>\n",
       "      <th>Species</th>\n",
       "      <th>Island</th>\n",
       "      <th>Culmen_Length</th>\n",
       "      <th>Culmen_Depth</th>\n",
       "      <th>Flipper_Length</th>\n",
       "      <th>Sex</th>\n",
       "      <th>DeltaN</th>\n",
       "      <th>DeltaC</th>\n",
       "      <th>Species_Culmen_Depth</th>\n",
       "      <th>Species_Flipper_Length</th>\n",
       "      <th>Island_Culmen_Length</th>\n",
       "    </tr>\n",
       "  </thead>\n",
       "  <tbody>\n",
       "    <tr>\n",
       "      <th>0</th>\n",
       "      <td>2</td>\n",
       "      <td>0</td>\n",
       "      <td>50.0</td>\n",
       "      <td>15.3</td>\n",
       "      <td>220</td>\n",
       "      <td>1</td>\n",
       "      <td>8.30515</td>\n",
       "      <td>-25.19017</td>\n",
       "      <td>30.6</td>\n",
       "      <td>440</td>\n",
       "      <td>0.0</td>\n",
       "    </tr>\n",
       "    <tr>\n",
       "      <th>1</th>\n",
       "      <td>1</td>\n",
       "      <td>1</td>\n",
       "      <td>49.5</td>\n",
       "      <td>19.0</td>\n",
       "      <td>200</td>\n",
       "      <td>1</td>\n",
       "      <td>9.63074</td>\n",
       "      <td>-24.34684</td>\n",
       "      <td>19.0</td>\n",
       "      <td>200</td>\n",
       "      <td>49.5</td>\n",
       "    </tr>\n",
       "    <tr>\n",
       "      <th>2</th>\n",
       "      <td>2</td>\n",
       "      <td>0</td>\n",
       "      <td>45.1</td>\n",
       "      <td>14.4</td>\n",
       "      <td>210</td>\n",
       "      <td>0</td>\n",
       "      <td>8.51951</td>\n",
       "      <td>-27.01854</td>\n",
       "      <td>28.8</td>\n",
       "      <td>420</td>\n",
       "      <td>0.0</td>\n",
       "    </tr>\n",
       "    <tr>\n",
       "      <th>3</th>\n",
       "      <td>2</td>\n",
       "      <td>0</td>\n",
       "      <td>44.5</td>\n",
       "      <td>14.7</td>\n",
       "      <td>214</td>\n",
       "      <td>0</td>\n",
       "      <td>8.20106</td>\n",
       "      <td>-26.16524</td>\n",
       "      <td>29.4</td>\n",
       "      <td>428</td>\n",
       "      <td>0.0</td>\n",
       "    </tr>\n",
       "    <tr>\n",
       "      <th>4</th>\n",
       "      <td>2</td>\n",
       "      <td>0</td>\n",
       "      <td>49.6</td>\n",
       "      <td>16.0</td>\n",
       "      <td>225</td>\n",
       "      <td>1</td>\n",
       "      <td>8.38324</td>\n",
       "      <td>-26.84272</td>\n",
       "      <td>32.0</td>\n",
       "      <td>450</td>\n",
       "      <td>0.0</td>\n",
       "    </tr>\n",
       "  </tbody>\n",
       "</table>\n",
       "</div>"
      ],
      "text/plain": [
       "   Species  Island  Culmen_Length  Culmen_Depth  Flipper_Length  Sex   DeltaN  \\\n",
       "0        2       0           50.0          15.3             220    1  8.30515   \n",
       "1        1       1           49.5          19.0             200    1  9.63074   \n",
       "2        2       0           45.1          14.4             210    0  8.51951   \n",
       "3        2       0           44.5          14.7             214    0  8.20106   \n",
       "4        2       0           49.6          16.0             225    1  8.38324   \n",
       "\n",
       "     DeltaC  Species_Culmen_Depth  Species_Flipper_Length  \\\n",
       "0 -25.19017                  30.6                     440   \n",
       "1 -24.34684                  19.0                     200   \n",
       "2 -27.01854                  28.8                     420   \n",
       "3 -26.16524                  29.4                     428   \n",
       "4 -26.84272                  32.0                     450   \n",
       "\n",
       "   Island_Culmen_Length  \n",
       "0                   0.0  \n",
       "1                  49.5  \n",
       "2                   0.0  \n",
       "3                   0.0  \n",
       "4                   0.0  "
      ]
     },
     "execution_count": 105,
     "metadata": {},
     "output_type": "execute_result"
    }
   ],
   "source": [
    "raw_x2.head()"
   ]
  },
  {
   "cell_type": "markdown",
   "id": "868949f6-09e6-445b-a0d3-4888fae7683c",
   "metadata": {},
   "source": [
    "`-` 표준화를 해주자"
   ]
  },
  {
   "cell_type": "code",
   "execution_count": 106,
   "id": "28bb7a29-0156-42fe-817c-b7508f229064",
   "metadata": {},
   "outputs": [],
   "source": [
    "## 스케일러 생성\n",
    "my_scaler2 = StandardScaler()\n",
    "\n",
    "## 전체 데이터셋 정규화\n",
    "my_scaled2 = my_scaler2.fit_transform(raw_x2)\n",
    "my_scaled_df2 = pd.DataFrame(data = my_scaled2, columns = raw_x2.columns)"
   ]
  },
  {
   "cell_type": "markdown",
   "id": "0718d427-ec3d-455a-8ec6-332edad15c37",
   "metadata": {},
   "source": [
    "`-` train에서 fit한 라벨인코딩을 사용하여 test셋을 transform하자"
   ]
  },
  {
   "cell_type": "code",
   "execution_count": 132,
   "id": "79cfeaf1-3bfb-458a-af12-1835f9b3bd57",
   "metadata": {},
   "outputs": [],
   "source": [
    "test4 = test.copy()"
   ]
  },
  {
   "cell_type": "code",
   "execution_count": 133,
   "id": "4658684e-729a-4b01-ae7f-b7c4d3bce07b",
   "metadata": {},
   "outputs": [],
   "source": [
    "test4.drop('Full_Clutch', axis = 1, inplace = True)"
   ]
  },
  {
   "cell_type": "code",
   "execution_count": 134,
   "id": "1b19020a-2d54-44ea-8b3f-37ceb61a218a",
   "metadata": {},
   "outputs": [],
   "source": [
    "test_species_labels = species_encoder.transform(test4['Species'])\n",
    "test4['Species'] = list(test_species_labels) ## Species labelencoding\n",
    "\n",
    "test_island_labels = island_encoder.transform(test4['Island'])\n",
    "test4['Island'] = list(test_island_labels) ## Island labelencoding\n",
    "\n",
    "# test_full_clutch_labels = full_clutch_encoder.transform(test2['Full_Clutch'])\n",
    "# test2['Full_Clutch'] = list(test_full_clutch_labels) ## Full_Clutch labelencoding\n",
    "\n",
    "test_sex_labels = sex_encoder.transform(test4['Sex'])\n",
    "test4['Sex'] = list(test_sex_labels) ## Sex labelencoding"
   ]
  },
  {
   "cell_type": "code",
   "execution_count": 135,
   "id": "d2bdd205-9ab5-4f50-95b0-75da7d434a54",
   "metadata": {},
   "outputs": [
    {
     "data": {
      "text/html": [
       "<div>\n",
       "<style scoped>\n",
       "    .dataframe tbody tr th:only-of-type {\n",
       "        vertical-align: middle;\n",
       "    }\n",
       "\n",
       "    .dataframe tbody tr th {\n",
       "        vertical-align: top;\n",
       "    }\n",
       "\n",
       "    .dataframe thead th {\n",
       "        text-align: right;\n",
       "    }\n",
       "</style>\n",
       "<table border=\"1\" class=\"dataframe\">\n",
       "  <thead>\n",
       "    <tr style=\"text-align: right;\">\n",
       "      <th></th>\n",
       "      <th>Species</th>\n",
       "      <th>Island</th>\n",
       "      <th>Culmen_Length</th>\n",
       "      <th>Culmen_Depth</th>\n",
       "      <th>Flipper_Length</th>\n",
       "      <th>Sex</th>\n",
       "      <th>DeltaN</th>\n",
       "      <th>DeltaC</th>\n",
       "    </tr>\n",
       "  </thead>\n",
       "  <tbody>\n",
       "    <tr>\n",
       "      <th>0</th>\n",
       "      <td>1</td>\n",
       "      <td>1</td>\n",
       "      <td>52.0</td>\n",
       "      <td>20.7</td>\n",
       "      <td>210.0</td>\n",
       "      <td>1</td>\n",
       "      <td>9.43146</td>\n",
       "      <td>-24.68440</td>\n",
       "    </tr>\n",
       "    <tr>\n",
       "      <th>1</th>\n",
       "      <td>2</td>\n",
       "      <td>0</td>\n",
       "      <td>55.9</td>\n",
       "      <td>17.0</td>\n",
       "      <td>228.0</td>\n",
       "      <td>1</td>\n",
       "      <td>8.31180</td>\n",
       "      <td>-26.35425</td>\n",
       "    </tr>\n",
       "    <tr>\n",
       "      <th>2</th>\n",
       "      <td>0</td>\n",
       "      <td>1</td>\n",
       "      <td>38.9</td>\n",
       "      <td>18.8</td>\n",
       "      <td>190.0</td>\n",
       "      <td>0</td>\n",
       "      <td>8.36936</td>\n",
       "      <td>-26.11199</td>\n",
       "    </tr>\n",
       "    <tr>\n",
       "      <th>3</th>\n",
       "      <td>1</td>\n",
       "      <td>1</td>\n",
       "      <td>45.2</td>\n",
       "      <td>16.6</td>\n",
       "      <td>191.0</td>\n",
       "      <td>0</td>\n",
       "      <td>9.62357</td>\n",
       "      <td>-24.78984</td>\n",
       "    </tr>\n",
       "    <tr>\n",
       "      <th>4</th>\n",
       "      <td>0</td>\n",
       "      <td>0</td>\n",
       "      <td>37.9</td>\n",
       "      <td>18.6</td>\n",
       "      <td>172.0</td>\n",
       "      <td>0</td>\n",
       "      <td>8.38404</td>\n",
       "      <td>-25.19837</td>\n",
       "    </tr>\n",
       "  </tbody>\n",
       "</table>\n",
       "</div>"
      ],
      "text/plain": [
       "   Species  Island  Culmen_Length  Culmen_Depth  Flipper_Length  Sex   DeltaN  \\\n",
       "0        1       1           52.0          20.7           210.0    1  9.43146   \n",
       "1        2       0           55.9          17.0           228.0    1  8.31180   \n",
       "2        0       1           38.9          18.8           190.0    0  8.36936   \n",
       "3        1       1           45.2          16.6           191.0    0  9.62357   \n",
       "4        0       0           37.9          18.6           172.0    0  8.38404   \n",
       "\n",
       "     DeltaC  \n",
       "0 -24.68440  \n",
       "1 -26.35425  \n",
       "2 -26.11199  \n",
       "3 -24.78984  \n",
       "4 -25.19837  "
      ]
     },
     "execution_count": 135,
     "metadata": {},
     "output_type": "execute_result"
    }
   ],
   "source": [
    "test4.head()"
   ]
  },
  {
   "cell_type": "markdown",
   "id": "4e31e3ce-1857-4ce7-beb8-1e1d5881de0b",
   "metadata": {},
   "source": [
    "`-` 라벨 인코딩이 잘 되었다"
   ]
  },
  {
   "cell_type": "markdown",
   "id": "b711c513-94d8-4f3c-a7bc-f74e7def4c77",
   "metadata": {},
   "source": [
    "`-` 교호작용항을 추가해주자"
   ]
  },
  {
   "cell_type": "code",
   "execution_count": 136,
   "id": "68de0dcb-5bc8-4b65-a432-563d354bfb69",
   "metadata": {},
   "outputs": [],
   "source": [
    "test4['Species_Culmen_Depth'] = test4['Species'] * test4['Culmen_Depth']\n",
    "test4['Species_Flipper_Length'] = test4['Species'] * test4['Flipper_Length']\n",
    "\n",
    "test4['Island_Culmen_Length'] = test4['Island'] * test4['Culmen_Length']"
   ]
  },
  {
   "cell_type": "code",
   "execution_count": 137,
   "id": "6ac457f7-879e-4303-98c0-d76916f8a5f9",
   "metadata": {},
   "outputs": [
    {
     "data": {
      "text/plain": [
       "(228, 11)"
      ]
     },
     "execution_count": 137,
     "metadata": {},
     "output_type": "execute_result"
    }
   ],
   "source": [
    "test4.shape"
   ]
  },
  {
   "cell_type": "markdown",
   "id": "c7842b8a-f9f5-45e8-9cba-98851e1f5c0c",
   "metadata": {},
   "source": [
    "`-` 위에서 train셋을 이용해 학습한 스케일러의 평균과 표준편차"
   ]
  },
  {
   "cell_type": "code",
   "execution_count": 138,
   "id": "8b7ea63f-2750-4f79-a95b-711d326b3d9c",
   "metadata": {},
   "outputs": [],
   "source": [
    "## 테스트집합 정규화\n",
    "test4_scaled = my_scaler2.transform(test4) ## x_train에서 학습한 정규화방식을 그대로 test_poly에 적용\n",
    "test4_scaled_df = pd.DataFrame(data = test4_scaled, columns = test4.columns)"
   ]
  },
  {
   "cell_type": "code",
   "execution_count": 139,
   "id": "f6694bde-8a90-4202-93e5-854f48450e4a",
   "metadata": {},
   "outputs": [
    {
     "data": {
      "text/html": [
       "<div>\n",
       "<style scoped>\n",
       "    .dataframe tbody tr th:only-of-type {\n",
       "        vertical-align: middle;\n",
       "    }\n",
       "\n",
       "    .dataframe tbody tr th {\n",
       "        vertical-align: top;\n",
       "    }\n",
       "\n",
       "    .dataframe thead th {\n",
       "        text-align: right;\n",
       "    }\n",
       "</style>\n",
       "<table border=\"1\" class=\"dataframe\">\n",
       "  <thead>\n",
       "    <tr style=\"text-align: right;\">\n",
       "      <th></th>\n",
       "      <th>Species</th>\n",
       "      <th>Island</th>\n",
       "      <th>Culmen_Length</th>\n",
       "      <th>Culmen_Depth</th>\n",
       "      <th>Flipper_Length</th>\n",
       "      <th>Sex</th>\n",
       "      <th>DeltaN</th>\n",
       "      <th>DeltaC</th>\n",
       "      <th>Species_Culmen_Depth</th>\n",
       "      <th>Species_Flipper_Length</th>\n",
       "      <th>Island_Culmen_Length</th>\n",
       "    </tr>\n",
       "  </thead>\n",
       "  <tbody>\n",
       "    <tr>\n",
       "      <th>0</th>\n",
       "      <td>-0.069663</td>\n",
       "      <td>0.565966</td>\n",
       "      <td>1.394155</td>\n",
       "      <td>1.906577</td>\n",
       "      <td>0.476205</td>\n",
       "      <td>1.0</td>\n",
       "      <td>1.248586</td>\n",
       "      <td>1.235845</td>\n",
       "      <td>0.291266</td>\n",
       "      <td>-0.086430</td>\n",
       "      <td>0.928583</td>\n",
       "    </tr>\n",
       "    <tr>\n",
       "      <th>1</th>\n",
       "      <td>1.064848</td>\n",
       "      <td>-0.900401</td>\n",
       "      <td>2.130221</td>\n",
       "      <td>-0.007715</td>\n",
       "      <td>1.710011</td>\n",
       "      <td>1.0</td>\n",
       "      <td>-0.758321</td>\n",
       "      <td>-0.739407</td>\n",
       "      <td>1.281218</td>\n",
       "      <td>1.187935</td>\n",
       "      <td>-0.924643</td>\n",
       "    </tr>\n",
       "    <tr>\n",
       "      <th>2</th>\n",
       "      <td>-1.204174</td>\n",
       "      <td>0.565966</td>\n",
       "      <td>-1.078273</td>\n",
       "      <td>0.923562</td>\n",
       "      <td>-0.894689</td>\n",
       "      <td>-1.0</td>\n",
       "      <td>-0.655149</td>\n",
       "      <td>-0.452839</td>\n",
       "      <td>-1.249486</td>\n",
       "      <td>-1.174303</td>\n",
       "      <td>0.461712</td>\n",
       "    </tr>\n",
       "    <tr>\n",
       "      <th>3</th>\n",
       "      <td>-0.069663</td>\n",
       "      <td>0.565966</td>\n",
       "      <td>0.110758</td>\n",
       "      <td>-0.214666</td>\n",
       "      <td>-0.826144</td>\n",
       "      <td>-1.0</td>\n",
       "      <td>1.592929</td>\n",
       "      <td>1.111120</td>\n",
       "      <td>-0.013907</td>\n",
       "      <td>-0.184857</td>\n",
       "      <td>0.686238</td>\n",
       "    </tr>\n",
       "    <tr>\n",
       "      <th>4</th>\n",
       "      <td>-1.204174</td>\n",
       "      <td>-0.900401</td>\n",
       "      <td>-1.267007</td>\n",
       "      <td>0.820087</td>\n",
       "      <td>-2.128494</td>\n",
       "      <td>-1.0</td>\n",
       "      <td>-0.628836</td>\n",
       "      <td>0.627874</td>\n",
       "      <td>-1.249486</td>\n",
       "      <td>-1.174303</td>\n",
       "      <td>-0.924643</td>\n",
       "    </tr>\n",
       "  </tbody>\n",
       "</table>\n",
       "</div>"
      ],
      "text/plain": [
       "    Species    Island  Culmen_Length  Culmen_Depth  Flipper_Length  Sex  \\\n",
       "0 -0.069663  0.565966       1.394155      1.906577        0.476205  1.0   \n",
       "1  1.064848 -0.900401       2.130221     -0.007715        1.710011  1.0   \n",
       "2 -1.204174  0.565966      -1.078273      0.923562       -0.894689 -1.0   \n",
       "3 -0.069663  0.565966       0.110758     -0.214666       -0.826144 -1.0   \n",
       "4 -1.204174 -0.900401      -1.267007      0.820087       -2.128494 -1.0   \n",
       "\n",
       "     DeltaN    DeltaC  Species_Culmen_Depth  Species_Flipper_Length  \\\n",
       "0  1.248586  1.235845              0.291266               -0.086430   \n",
       "1 -0.758321 -0.739407              1.281218                1.187935   \n",
       "2 -0.655149 -0.452839             -1.249486               -1.174303   \n",
       "3  1.592929  1.111120             -0.013907               -0.184857   \n",
       "4 -0.628836  0.627874             -1.249486               -1.174303   \n",
       "\n",
       "   Island_Culmen_Length  \n",
       "0              0.928583  \n",
       "1             -0.924643  \n",
       "2              0.461712  \n",
       "3              0.686238  \n",
       "4             -0.924643  "
      ]
     },
     "execution_count": 139,
     "metadata": {},
     "output_type": "execute_result"
    }
   ],
   "source": [
    "test4_scaled_df.head() ## 정규화가 잘 되었는지 확인"
   ]
  },
  {
   "cell_type": "code",
   "execution_count": 272,
   "id": "9701837b-183f-4843-89c1-9b784870f949",
   "metadata": {},
   "outputs": [],
   "source": [
    "from sklearn.model_selection import KFold"
   ]
  },
  {
   "cell_type": "code",
   "execution_count": 162,
   "id": "383f70b6-a9c3-4977-b9ce-29ec346a06e7",
   "metadata": {},
   "outputs": [],
   "source": [
    "kfold = KFold(n_splits = 10, shuffle = True, random_state = 21)"
   ]
  },
  {
   "cell_type": "markdown",
   "id": "a6ffdddc-084a-4cf7-a658-cf717ba68a04",
   "metadata": {},
   "source": [
    "### 라쏘 회귀"
   ]
  },
  {
   "cell_type": "markdown",
   "id": "cf73dbf3-4c5e-4e79-9c12-34117e3b5cc5",
   "metadata": {},
   "source": [
    "`-` 라쏘 회귀의 $\\alpha$ 선택 ---> $\\alpha = 7$이 좋아보임"
   ]
  },
  {
   "cell_type": "code",
   "execution_count": 171,
   "id": "117f626b-f30c-4f79-86ba-8b45f163dc68",
   "metadata": {},
   "outputs": [],
   "source": [
    "train_raw2_rmse, valid_raw2_rmse = [], []\n",
    "train_raw2_r2, valid_raw2_r2 = [], []\n",
    "alphas = np.linspace(0.01, 50, 300)\n",
    "\n",
    "for alpha in alphas:\n",
    "    my_lasso = Lasso(alpha = alpha, max_iter = 150000, random_state = 21)\n",
    "    scores = cross_validate(my_lasso, my_scaled_df2, target,\n",
    "                            scoring = ('r2', 'neg_mean_squared_error'), return_train_score = True, cv = kfold)\n",
    "    \n",
    "    train_raw2_rmse.append(np.mean(list(map(get_rmse, scores['train_neg_mean_squared_error'])))) ## rmse\n",
    "    valid_raw2_rmse.append(np.mean(list(map(get_rmse, scores['test_neg_mean_squared_error']))))\n",
    "    \n",
    "    train_raw2_r2.append(np.mean(scores['train_r2'])) ## r2\n",
    "    valid_raw2_r2.append(np.mean(scores['test_r2']))"
   ]
  },
  {
   "cell_type": "markdown",
   "id": "673cfc63-981a-4245-a484-b359e80538b9",
   "metadata": {},
   "source": [
    "#### $R^2$ 시각화"
   ]
  },
  {
   "cell_type": "code",
   "execution_count": 166,
   "id": "b6576a37-b72e-4e31-9e33-ffe729f678c4",
   "metadata": {},
   "outputs": [
    {
     "data": {
      "text/plain": [
       "<matplotlib.legend.Legend at 0x1c06240e760>"
      ]
     },
     "execution_count": 166,
     "metadata": {},
     "output_type": "execute_result"
    },
    {
     "data": {
      "image/png": "[encoded data removed]",
      "text/plain": [
       "<Figure size 432x288 with 1 Axes>"
      ]
     },
     "metadata": {
      "needs_background": "light"
     },
     "output_type": "display_data"
    }
   ],
   "source": [
    "plt.plot(alphas, train_raw2_r2, 'b--', label = 'train set')\n",
    "plt.plot(alphas, valid_raw2_r2, 'r--', label = 'valid set')\n",
    "plt.title('alpha and rmse')\n",
    "plt.legend()"
   ]
  },
  {
   "cell_type": "markdown",
   "id": "a8b2233d-334a-44c3-849a-a82fdbb9987d",
   "metadata": {},
   "source": [
    "#### RMSE(추정오차의 표준편차) 시각화"
   ]
  },
  {
   "cell_type": "code",
   "execution_count": 167,
   "id": "0dc5bf79-03b9-46dc-91ae-823a51564e11",
   "metadata": {},
   "outputs": [
    {
     "data": {
      "text/plain": [
       "<matplotlib.legend.Legend at 0x1c06247b6a0>"
      ]
     },
     "execution_count": 167,
     "metadata": {},
     "output_type": "execute_result"
    },
    {
     "data": {
      "image/png": "[encoded data removed]",
      "text/plain": [
       "<Figure size 432x288 with 1 Axes>"
      ]
     },
     "metadata": {
      "needs_background": "light"
     },
     "output_type": "display_data"
    }
   ],
   "source": [
    "plt.plot(alphas, train_raw2_rmse, 'b--', label = 'train set')\n",
    "plt.plot(alphas, valid_raw2_rmse, 'r--', label = 'valid set')\n",
    "plt.title('alpha and rmse')\n",
    "plt.legend()"
   ]
  },
  {
   "cell_type": "markdown",
   "id": "236cc461-a895-4577-ba8a-7119e94e2395",
   "metadata": {},
   "source": [
    "`-` 모델을 학습시키고 test 셋을 예측하자\n",
    "\n",
    "`-` 학습데이터는 표본 전부 사용(모델 성능는 위에서 교차검증을 통해 확인했으니까)\n",
    "\n",
    "`-` 물론 최적 $\\alpha$가 조금 달라지겠지만 큰 차이는 아니므로 괜찮다"
   ]
  },
  {
   "cell_type": "code",
   "execution_count": 172,
   "id": "a12f3328-cedb-4c8a-b77b-064e49b96bc9",
   "metadata": {},
   "outputs": [],
   "source": [
    "my_lasso3 = Lasso(alpha = 7, max_iter = 150000, random_state = 21)"
   ]
  },
  {
   "cell_type": "code",
   "execution_count": 173,
   "id": "e61d5f02-45b1-4c97-85cc-420ca9bc6997",
   "metadata": {},
   "outputs": [
    {
     "data": {
      "text/plain": [
       "Lasso(alpha=7, max_iter=150000, random_state=21)"
      ]
     },
     "execution_count": 173,
     "metadata": {},
     "output_type": "execute_result"
    }
   ],
   "source": [
    "my_lasso3.fit(my_scaled_df2, target)"
   ]
  },
  {
   "cell_type": "code",
   "execution_count": 114,
   "id": "b89d4cd1-1487-4c74-8b65-e8d4ec9da1d3",
   "metadata": {},
   "outputs": [
    {
     "data": {
      "text/plain": [
       "[('Species', 0.0),\n",
       " ('Island', -0.0),\n",
       " ('Culmen_Length', 0.0),\n",
       " ('Culmen_Depth', -0.0),\n",
       " ('Flipper_Length', 291.0156506665558),\n",
       " ('Sex', 278.8937497462744),\n",
       " ('DeltaN', -166.32566347860111),\n",
       " ('DeltaC', -0.04831095327177225),\n",
       " ('Species_Culmen_Depth', 0.0),\n",
       " ('Species_Flipper_Length', 177.216390281056),\n",
       " ('Island_Culmen_Length', -96.45281079656215)]"
      ]
     },
     "execution_count": 114,
     "metadata": {},
     "output_type": "execute_result"
    }
   ],
   "source": [
    "list(zip(my_scaled_df2.columns, my_lasso3.coef_))"
   ]
  },
  {
   "cell_type": "markdown",
   "id": "1ff393da-2f2d-49c0-ac83-57fdf0aca934",
   "metadata": {},
   "source": [
    "`-` Culmen_Depth는 무의미한 변수인가 보다"
   ]
  },
  {
   "cell_type": "code",
   "execution_count": 141,
   "id": "ba991f78-cdf2-443b-a01e-4f6c3a6af416",
   "metadata": {},
   "outputs": [],
   "source": [
    "lasso_test_predict3 = my_lasso3.predict(test4_scaled_df)"
   ]
  },
  {
   "cell_type": "code",
   "execution_count": 143,
   "id": "8049bc4c-b423-4e0d-93cb-4b735596ac37",
   "metadata": {},
   "outputs": [
    {
     "data": {
      "text/plain": [
       "array([4432.71504484, 5530.25452598, 3644.93948211, 3444.58837465,\n",
       "       3415.17207639, 4285.76749866])"
      ]
     },
     "execution_count": 143,
     "metadata": {},
     "output_type": "execute_result"
    }
   ],
   "source": [
    "lasso_test_predict3[:6]"
   ]
  },
  {
   "cell_type": "code",
   "execution_count": 146,
   "id": "918a99db-acbf-466a-b67e-e3586844c4df",
   "metadata": {},
   "outputs": [
    {
     "data": {
      "text/html": [
       "<div>\n",
       "<style scoped>\n",
       "    .dataframe tbody tr th:only-of-type {\n",
       "        vertical-align: middle;\n",
       "    }\n",
       "\n",
       "    .dataframe tbody tr th {\n",
       "        vertical-align: top;\n",
       "    }\n",
       "\n",
       "    .dataframe thead th {\n",
       "        text-align: right;\n",
       "    }\n",
       "</style>\n",
       "<table border=\"1\" class=\"dataframe\">\n",
       "  <thead>\n",
       "    <tr style=\"text-align: right;\">\n",
       "      <th></th>\n",
       "      <th>id</th>\n",
       "      <th>Body Mass (g)</th>\n",
       "    </tr>\n",
       "  </thead>\n",
       "  <tbody>\n",
       "    <tr>\n",
       "      <th>0</th>\n",
       "      <td>0</td>\n",
       "      <td>4432.715045</td>\n",
       "    </tr>\n",
       "    <tr>\n",
       "      <th>1</th>\n",
       "      <td>1</td>\n",
       "      <td>5530.254526</td>\n",
       "    </tr>\n",
       "    <tr>\n",
       "      <th>2</th>\n",
       "      <td>2</td>\n",
       "      <td>3644.939482</td>\n",
       "    </tr>\n",
       "    <tr>\n",
       "      <th>3</th>\n",
       "      <td>3</td>\n",
       "      <td>3444.588375</td>\n",
       "    </tr>\n",
       "    <tr>\n",
       "      <th>4</th>\n",
       "      <td>4</td>\n",
       "      <td>3415.172076</td>\n",
       "    </tr>\n",
       "  </tbody>\n",
       "</table>\n",
       "</div>"
      ],
      "text/plain": [
       "   id  Body Mass (g)\n",
       "0   0    4432.715045\n",
       "1   1    5530.254526\n",
       "2   2    3644.939482\n",
       "3   3    3444.588375\n",
       "4   4    3415.172076"
      ]
     },
     "execution_count": 146,
     "metadata": {},
     "output_type": "execute_result"
    }
   ],
   "source": [
    "# 위에서 구한 예측값을 그대로 넣음\n",
    "submission['Body Mass (g)'] = lasso_test_predict3\n",
    "\n",
    "# 데이터가 잘 들어갔는지 확인\n",
    "submission.head()"
   ]
  },
  {
   "cell_type": "code",
   "execution_count": 147,
   "id": "10ced737-7ce0-420f-81db-3abadba4d271",
   "metadata": {},
   "outputs": [],
   "source": [
    "# submission을 csv 파일로 저장\n",
    "submission.to_csv('C:/Users/Jaesu/Dacon-Basic/뗑컨-몸무게-예측/Data/submission_mylasso3_7.csv', index = False)"
   ]
  },
  {
   "cell_type": "markdown",
   "id": "0941aa46-eafc-4ff4-b50c-e61ed7906fd3",
   "metadata": {},
   "source": [
    "### 라쏘 회귀 + 교차검증을 사용한 예측\n",
    "\n",
    "`-` Island와 Full_Clutch 피쳐는 무의미(포함하면 성능이 안좋아짐)"
   ]
  },
  {
   "cell_type": "markdown",
   "id": "8cbfaf3f-a6ff-401a-a04f-e6820be9aade",
   "metadata": {},
   "source": [
    "`-` 5등분된 뗑컨"
   ]
  },
  {
   "cell_type": "code",
   "execution_count": 392,
   "id": "6b8377e0-1222-494d-a2d6-4898e7da65ac",
   "metadata": {},
   "outputs": [],
   "source": [
    "kfold = KFold(n_splits = 5, shuffle = True, random_state = 2021)"
   ]
  },
  {
   "cell_type": "code",
   "execution_count": 393,
   "id": "3481aff6-e6cd-4585-8162-acfba6ea9166",
   "metadata": {},
   "outputs": [],
   "source": [
    "predict_test4_2 = []\n",
    "train_rmse10_2 = []\n",
    "valid_rmse10_2 = []\n",
    "lasso_k = Lasso(alpha = 7, max_iter = 50000, random_state = 21) ## 라쏘회귀모형 정의\n",
    "\n",
    "for train_index, valid_index in kfold.split(my_scaled_df2):\n",
    "    ## train, valid 데이터 extract\n",
    "    xx_train, xx_valid = my_scaled_df2.iloc[train_index], my_scaled_df2.iloc[valid_index]\n",
    "    yy_train, yy_valid = target.iloc[train_index], target.iloc[valid_index]\n",
    "\n",
    "    lasso_k.fit(xx_train, yy_train) ## 훈련\n",
    "\n",
    "    train_predict = lasso_k.predict(xx_train) ## train셋 예측\n",
    "    y_predict = lasso_k.predict(xx_valid) ## valid셋 예측\n",
    "    test_predict = lasso_k.predict(test4_scaled_df) ## test셋 예측\n",
    "\n",
    "    predict_test4_2.append(test_predict) ## test 예측값\n",
    "    train_rmse10_2.append(RMSE(train_predict, yy_train)) ## train rmse\n",
    "    valid_rmse10_2.append(RMSE(y_predict, yy_valid)) ## valid rmse"
   ]
  },
  {
   "cell_type": "code",
   "execution_count": 394,
   "id": "90a14e11-0c7b-4308-bda7-52a257ef4696",
   "metadata": {},
   "outputs": [
    {
     "data": {
      "text/plain": [
       "(297.068435687834, 306.71671098203325)"
      ]
     },
     "execution_count": 394,
     "metadata": {},
     "output_type": "execute_result"
    }
   ],
   "source": [
    "np.mean(train_rmse10_2), np.mean(valid_rmse10_2)"
   ]
  },
  {
   "cell_type": "code",
   "execution_count": 395,
   "id": "9ed96d40-096e-45fe-84f1-5c551a32b0ad",
   "metadata": {},
   "outputs": [],
   "source": [
    "body_mass = 0\n",
    "for i in range(5):\n",
    "    body_mass += predict_test4_2[i]\n",
    "    \n",
    "body_mass /= 5"
   ]
  },
  {
   "cell_type": "code",
   "execution_count": 396,
   "id": "01272fab-d4de-4782-9f64-40a7974cb7e1",
   "metadata": {},
   "outputs": [
    {
     "data": {
      "text/plain": [
       "array([4423.45442416, 5527.19260495, 3640.32403981, 3444.72790364,\n",
       "       3406.20233912, 4278.59919678])"
      ]
     },
     "execution_count": 396,
     "metadata": {},
     "output_type": "execute_result"
    }
   ],
   "source": [
    "body_mass[:6]"
   ]
  },
  {
   "cell_type": "code",
   "execution_count": 397,
   "id": "7e5cc9ca-7e26-450e-aa59-bce8e608633f",
   "metadata": {},
   "outputs": [
    {
     "data": {
      "text/html": [
       "<div>\n",
       "<style scoped>\n",
       "    .dataframe tbody tr th:only-of-type {\n",
       "        vertical-align: middle;\n",
       "    }\n",
       "\n",
       "    .dataframe tbody tr th {\n",
       "        vertical-align: top;\n",
       "    }\n",
       "\n",
       "    .dataframe thead th {\n",
       "        text-align: right;\n",
       "    }\n",
       "</style>\n",
       "<table border=\"1\" class=\"dataframe\">\n",
       "  <thead>\n",
       "    <tr style=\"text-align: right;\">\n",
       "      <th></th>\n",
       "      <th>id</th>\n",
       "      <th>Body Mass (g)</th>\n",
       "    </tr>\n",
       "  </thead>\n",
       "  <tbody>\n",
       "    <tr>\n",
       "      <th>0</th>\n",
       "      <td>0</td>\n",
       "      <td>4423.454424</td>\n",
       "    </tr>\n",
       "    <tr>\n",
       "      <th>1</th>\n",
       "      <td>1</td>\n",
       "      <td>5527.192605</td>\n",
       "    </tr>\n",
       "    <tr>\n",
       "      <th>2</th>\n",
       "      <td>2</td>\n",
       "      <td>3640.324040</td>\n",
       "    </tr>\n",
       "    <tr>\n",
       "      <th>3</th>\n",
       "      <td>3</td>\n",
       "      <td>3444.727904</td>\n",
       "    </tr>\n",
       "    <tr>\n",
       "      <th>4</th>\n",
       "      <td>4</td>\n",
       "      <td>3406.202339</td>\n",
       "    </tr>\n",
       "  </tbody>\n",
       "</table>\n",
       "</div>"
      ],
      "text/plain": [
       "   id  Body Mass (g)\n",
       "0   0    4423.454424\n",
       "1   1    5527.192605\n",
       "2   2    3640.324040\n",
       "3   3    3444.727904\n",
       "4   4    3406.202339"
      ]
     },
     "execution_count": 397,
     "metadata": {},
     "output_type": "execute_result"
    }
   ],
   "source": [
    "# 위에서 구한 예측값을 그대로 넣음\n",
    "submission['Body Mass (g)'] = body_mass\n",
    "\n",
    "# 데이터가 잘 들어갔는지 확인\n",
    "submission.head()"
   ]
  },
  {
   "cell_type": "code",
   "execution_count": 332,
   "id": "516c58c7-44b7-4240-814e-f8c6795bdd2c",
   "metadata": {},
   "outputs": [],
   "source": [
    "# submission을 csv 파일로 저장\n",
    "submission.to_csv('C:/Users/Jaesu/Dacon-Basic/뗑컨-몸무게-예측/Data/submission13.csv', index = False)"
   ]
  },
  {
   "cell_type": "markdown",
   "id": "636ad338-6948-4a55-b22e-a58c33a63b9b",
   "metadata": {},
   "source": [
    "`-` 10등분된 뗑컨"
   ]
  },
  {
   "cell_type": "code",
   "execution_count": 398,
   "id": "aeb05752-11d0-4e31-b765-089a3b8b1265",
   "metadata": {},
   "outputs": [],
   "source": [
    "kfold = KFold(n_splits = 10, shuffle = True, random_state = 10)"
   ]
  },
  {
   "cell_type": "code",
   "execution_count": 399,
   "id": "08b2a9f0-b7f2-48a4-83c0-72eed400e1c2",
   "metadata": {},
   "outputs": [],
   "source": [
    "predict_test4_2 = []\n",
    "train_rmse10_2 = []\n",
    "valid_rmse10_2 = []\n",
    "lasso_k = Lasso(alpha = 7, max_iter = 50000, random_state = 21) ## 라쏘회귀모형 정의\n",
    "\n",
    "for train_index, valid_index in kfold.split(my_scaled_df2):\n",
    "    ## train, valid 데이터 extract\n",
    "    xx_train, xx_valid = my_scaled_df2.iloc[train_index], my_scaled_df2.iloc[valid_index]\n",
    "    yy_train, yy_valid = target.iloc[train_index], target.iloc[valid_index]\n",
    "\n",
    "    lasso_k.fit(xx_train, yy_train) ## 훈련\n",
    "\n",
    "    train_predict = lasso_k.predict(xx_train) ## train셋 예측\n",
    "    y_predict = lasso_k.predict(xx_valid) ## valid셋 예측\n",
    "    test_predict = lasso_k.predict(test4_scaled_df) ## test셋 예측\n",
    "\n",
    "    predict_test4_2.append(test_predict) ## test 예측값\n",
    "    train_rmse10_2.append(RMSE(train_predict, yy_train)) ## train rmse\n",
    "    valid_rmse10_2.append(RMSE(y_predict, yy_valid)) ## valid rmse"
   ]
  },
  {
   "cell_type": "code",
   "execution_count": 400,
   "id": "7a1af76b-9d81-4977-b2d9-b69b10f7bec8",
   "metadata": {},
   "outputs": [
    {
     "data": {
      "text/plain": [
       "(297.5743069692427, 308.7221417631247)"
      ]
     },
     "execution_count": 400,
     "metadata": {},
     "output_type": "execute_result"
    }
   ],
   "source": [
    "np.mean(train_rmse10_2), np.mean(valid_rmse10_2)"
   ]
  },
  {
   "cell_type": "code",
   "execution_count": 401,
   "id": "3150b592-fa01-484f-8904-10a321e16379",
   "metadata": {},
   "outputs": [],
   "source": [
    "body_mass = 0\n",
    "for i in range(10):\n",
    "    body_mass += predict_test4_2[i]\n",
    "    \n",
    "body_mass /= 10"
   ]
  },
  {
   "cell_type": "code",
   "execution_count": 402,
   "id": "188f02b3-4da4-4642-8378-234031b5946c",
   "metadata": {},
   "outputs": [
    {
     "data": {
      "text/plain": [
       "array([4424.59061711, 5528.02801722, 3644.32224525, 3449.02645699,\n",
       "       3408.87833228, 4279.32309958])"
      ]
     },
     "execution_count": 402,
     "metadata": {},
     "output_type": "execute_result"
    }
   ],
   "source": [
    "body_mass[:6]"
   ]
  },
  {
   "cell_type": "code",
   "execution_count": 403,
   "id": "09ea437e-38db-4ee8-b2b2-1baea36dd542",
   "metadata": {},
   "outputs": [
    {
     "data": {
      "text/html": [
       "<div>\n",
       "<style scoped>\n",
       "    .dataframe tbody tr th:only-of-type {\n",
       "        vertical-align: middle;\n",
       "    }\n",
       "\n",
       "    .dataframe tbody tr th {\n",
       "        vertical-align: top;\n",
       "    }\n",
       "\n",
       "    .dataframe thead th {\n",
       "        text-align: right;\n",
       "    }\n",
       "</style>\n",
       "<table border=\"1\" class=\"dataframe\">\n",
       "  <thead>\n",
       "    <tr style=\"text-align: right;\">\n",
       "      <th></th>\n",
       "      <th>id</th>\n",
       "      <th>Body Mass (g)</th>\n",
       "    </tr>\n",
       "  </thead>\n",
       "  <tbody>\n",
       "    <tr>\n",
       "      <th>0</th>\n",
       "      <td>0</td>\n",
       "      <td>4424.590617</td>\n",
       "    </tr>\n",
       "    <tr>\n",
       "      <th>1</th>\n",
       "      <td>1</td>\n",
       "      <td>5528.028017</td>\n",
       "    </tr>\n",
       "    <tr>\n",
       "      <th>2</th>\n",
       "      <td>2</td>\n",
       "      <td>3644.322245</td>\n",
       "    </tr>\n",
       "    <tr>\n",
       "      <th>3</th>\n",
       "      <td>3</td>\n",
       "      <td>3449.026457</td>\n",
       "    </tr>\n",
       "    <tr>\n",
       "      <th>4</th>\n",
       "      <td>4</td>\n",
       "      <td>3408.878332</td>\n",
       "    </tr>\n",
       "  </tbody>\n",
       "</table>\n",
       "</div>"
      ],
      "text/plain": [
       "   id  Body Mass (g)\n",
       "0   0    4424.590617\n",
       "1   1    5528.028017\n",
       "2   2    3644.322245\n",
       "3   3    3449.026457\n",
       "4   4    3408.878332"
      ]
     },
     "execution_count": 403,
     "metadata": {},
     "output_type": "execute_result"
    }
   ],
   "source": [
    "# 위에서 구한 예측값을 그대로 넣음\n",
    "submission['Body Mass (g)'] = body_mass\n",
    "\n",
    "# 데이터가 잘 들어갔는지 확인\n",
    "submission.head()"
   ]
  },
  {
   "cell_type": "code",
   "execution_count": 374,
   "id": "cba60128-30e5-4766-9531-8ba8c68eb9d1",
   "metadata": {},
   "outputs": [],
   "source": [
    "# submission을 csv 파일로 저장\n",
    "submission.to_csv('C:/Users/Jaesu/Dacon-Basic/뗑컨-몸무게-예측/Data/submission14.csv', index = False)"
   ]
  },
  {
   "cell_type": "markdown",
   "id": "158b8c0f-2759-4a8b-95b8-d9559be5714c",
   "metadata": {},
   "source": [
    "`-` 5등분과 10등분의 값차이는 크지않음\n",
    "\n",
    "`-` 일반화 성능은 10등분이 나을 것 같음"
   ]
  },
  {
   "cell_type": "code",
   "execution_count": null,
   "id": "3c9395b0-634d-4297-8f2e-179cd83bf374",
   "metadata": {},
   "outputs": [],
   "source": []
  }
 ],
 "metadata": {
  "kernelspec": {
   "display_name": "Python 3 (ipykernel)",
   "language": "python",
   "name": "python3"
  },
  "language_info": {
   "codemirror_mode": {
    "name": "ipython",
    "version": 3
   },
   "file_extension": ".py",
   "mimetype": "text/x-python",
   "name": "python",
   "nbconvert_exporter": "python",
   "pygments_lexer": "ipython3",
   "version": "3.8.11"
  }
 },
 "nbformat": 4,
 "nbformat_minor": 5
}
