{
 "cells": [
  {
   "cell_type": "markdown",
   "id": "9075a2ea-2c8c-4a05-9225-3009aba6d7f5",
   "metadata": {},
   "source": [
    "# 뗑컨 몸무게 예측 경진대회"
   ]
  },
  {
   "cell_type": "markdown",
   "id": "cabf7f99-1520-4e6f-b75c-0222e2bbe492",
   "metadata": {},
   "source": [
    "## 패키지 import 및 데이터 전처리"
   ]
  },
  {
   "cell_type": "code",
   "execution_count": 1,
   "id": "97108185-00c7-429b-b548-8824165715ea",
   "metadata": {},
   "outputs": [],
   "source": [
    "import pandas as pd\n",
    "import numpy as np"
   ]
  },
  {
   "cell_type": "code",
   "execution_count": 2,
   "id": "dfd30bed-f2c7-4526-a994-9d0348b61543",
   "metadata": {},
   "outputs": [],
   "source": [
    "df = pd.read_csv('C:/Users/Jaesu/Dacon-Basic/뗑컨-몸무게-예측/Data/train.csv')"
   ]
  },
  {
   "cell_type": "code",
   "execution_count": 3,
   "id": "b187e66f-5a39-4f16-9ea7-1d49ae83dfa7",
   "metadata": {},
   "outputs": [
    {
     "data": {
      "text/html": [
       "<div>\n",
       "<style scoped>\n",
       "    .dataframe tbody tr th:only-of-type {\n",
       "        vertical-align: middle;\n",
       "    }\n",
       "\n",
       "    .dataframe tbody tr th {\n",
       "        vertical-align: top;\n",
       "    }\n",
       "\n",
       "    .dataframe thead th {\n",
       "        text-align: right;\n",
       "    }\n",
       "</style>\n",
       "<table border=\"1\" class=\"dataframe\">\n",
       "  <thead>\n",
       "    <tr style=\"text-align: right;\">\n",
       "      <th></th>\n",
       "      <th>id</th>\n",
       "      <th>Species</th>\n",
       "      <th>Island</th>\n",
       "      <th>Clutch Completion</th>\n",
       "      <th>Culmen Length (mm)</th>\n",
       "      <th>Culmen Depth (mm)</th>\n",
       "      <th>Flipper Length (mm)</th>\n",
       "      <th>Sex</th>\n",
       "      <th>Delta 15 N (o/oo)</th>\n",
       "      <th>Delta 13 C (o/oo)</th>\n",
       "      <th>Body Mass (g)</th>\n",
       "    </tr>\n",
       "  </thead>\n",
       "  <tbody>\n",
       "    <tr>\n",
       "      <th>0</th>\n",
       "      <td>0</td>\n",
       "      <td>Gentoo penguin (Pygoscelis papua)</td>\n",
       "      <td>Biscoe</td>\n",
       "      <td>Yes</td>\n",
       "      <td>50.0</td>\n",
       "      <td>15.3</td>\n",
       "      <td>220</td>\n",
       "      <td>MALE</td>\n",
       "      <td>8.30515</td>\n",
       "      <td>-25.19017</td>\n",
       "      <td>5550</td>\n",
       "    </tr>\n",
       "    <tr>\n",
       "      <th>1</th>\n",
       "      <td>1</td>\n",
       "      <td>Chinstrap penguin (Pygoscelis antarctica)</td>\n",
       "      <td>Dream</td>\n",
       "      <td>No</td>\n",
       "      <td>49.5</td>\n",
       "      <td>19.0</td>\n",
       "      <td>200</td>\n",
       "      <td>MALE</td>\n",
       "      <td>9.63074</td>\n",
       "      <td>-24.34684</td>\n",
       "      <td>3800</td>\n",
       "    </tr>\n",
       "    <tr>\n",
       "      <th>2</th>\n",
       "      <td>2</td>\n",
       "      <td>Gentoo penguin (Pygoscelis papua)</td>\n",
       "      <td>Biscoe</td>\n",
       "      <td>Yes</td>\n",
       "      <td>45.1</td>\n",
       "      <td>14.4</td>\n",
       "      <td>210</td>\n",
       "      <td>FEMALE</td>\n",
       "      <td>8.51951</td>\n",
       "      <td>-27.01854</td>\n",
       "      <td>4400</td>\n",
       "    </tr>\n",
       "    <tr>\n",
       "      <th>3</th>\n",
       "      <td>3</td>\n",
       "      <td>Gentoo penguin (Pygoscelis papua)</td>\n",
       "      <td>Biscoe</td>\n",
       "      <td>Yes</td>\n",
       "      <td>44.5</td>\n",
       "      <td>14.7</td>\n",
       "      <td>214</td>\n",
       "      <td>FEMALE</td>\n",
       "      <td>8.20106</td>\n",
       "      <td>-26.16524</td>\n",
       "      <td>4850</td>\n",
       "    </tr>\n",
       "    <tr>\n",
       "      <th>4</th>\n",
       "      <td>4</td>\n",
       "      <td>Gentoo penguin (Pygoscelis papua)</td>\n",
       "      <td>Biscoe</td>\n",
       "      <td>No</td>\n",
       "      <td>49.6</td>\n",
       "      <td>16.0</td>\n",
       "      <td>225</td>\n",
       "      <td>MALE</td>\n",
       "      <td>8.38324</td>\n",
       "      <td>-26.84272</td>\n",
       "      <td>5700</td>\n",
       "    </tr>\n",
       "  </tbody>\n",
       "</table>\n",
       "</div>"
      ],
      "text/plain": [
       "   id                                    Species  Island Clutch Completion  \\\n",
       "0   0          Gentoo penguin (Pygoscelis papua)  Biscoe               Yes   \n",
       "1   1  Chinstrap penguin (Pygoscelis antarctica)   Dream                No   \n",
       "2   2          Gentoo penguin (Pygoscelis papua)  Biscoe               Yes   \n",
       "3   3          Gentoo penguin (Pygoscelis papua)  Biscoe               Yes   \n",
       "4   4          Gentoo penguin (Pygoscelis papua)  Biscoe                No   \n",
       "\n",
       "   Culmen Length (mm)  Culmen Depth (mm)  Flipper Length (mm)     Sex  \\\n",
       "0                50.0               15.3                  220    MALE   \n",
       "1                49.5               19.0                  200    MALE   \n",
       "2                45.1               14.4                  210  FEMALE   \n",
       "3                44.5               14.7                  214  FEMALE   \n",
       "4                49.6               16.0                  225    MALE   \n",
       "\n",
       "   Delta 15 N (o/oo)  Delta 13 C (o/oo)  Body Mass (g)  \n",
       "0            8.30515          -25.19017           5550  \n",
       "1            9.63074          -24.34684           3800  \n",
       "2            8.51951          -27.01854           4400  \n",
       "3            8.20106          -26.16524           4850  \n",
       "4            8.38324          -26.84272           5700  "
      ]
     },
     "execution_count": 3,
     "metadata": {},
     "output_type": "execute_result"
    }
   ],
   "source": [
    "df.head()"
   ]
  },
  {
   "cell_type": "code",
   "execution_count": 4,
   "id": "256b52cf-483b-469d-93a3-5176a179af6b",
   "metadata": {},
   "outputs": [],
   "source": [
    "df.rename(columns = {'Clutch Completion':'Full_Clutch', 'Culmen Length (mm)':'Culmen_Length', \n",
    "                     'Culmen Depth (mm)':'Culmen_Depth', 'Flipper Length (mm)':'Flipper_Length',\n",
    "                     'Delta 15 N (o/oo)':'DeltaN', 'Delta 13 C (o/oo)':'DeltaC', 'Body Mass (g)':'Body_Mass'}, inplace = True) ## 열 이름 변경"
   ]
  },
  {
   "cell_type": "code",
   "execution_count": 5,
   "id": "c40daddd-b588-46cf-9459-65b02365cbc0",
   "metadata": {},
   "outputs": [],
   "source": [
    "df.drop('id', axis = 1, inplace = True) ## id는 필요없으니 제거 "
   ]
  },
  {
   "cell_type": "code",
   "execution_count": 6,
   "id": "a4a7272e-35ee-4d28-806b-6dae49ad776f",
   "metadata": {},
   "outputs": [
    {
     "data": {
      "text/plain": [
       "Species           0\n",
       "Island            0\n",
       "Full_Clutch       0\n",
       "Culmen_Length     0\n",
       "Culmen_Depth      0\n",
       "Flipper_Length    0\n",
       "Sex               3\n",
       "DeltaN            3\n",
       "DeltaC            3\n",
       "Body_Mass         0\n",
       "dtype: int64"
      ]
     },
     "execution_count": 6,
     "metadata": {},
     "output_type": "execute_result"
    }
   ],
   "source": [
    "df.isnull().sum()"
   ]
  },
  {
   "cell_type": "markdown",
   "id": "a36d79bd-ee17-43ca-bcdd-25193f02ae9d",
   "metadata": {},
   "source": [
    "`-` Sex, Delta 15 N, Delta 13 C 컬럼에 결측치가 3개씩 존재한다"
   ]
  },
  {
   "cell_type": "code",
   "execution_count": 7,
   "id": "eb3efdbc-3052-4638-a12c-02363dc97b0c",
   "metadata": {},
   "outputs": [
    {
     "data": {
      "text/html": [
       "<div>\n",
       "<style scoped>\n",
       "    .dataframe tbody tr th:only-of-type {\n",
       "        vertical-align: middle;\n",
       "    }\n",
       "\n",
       "    .dataframe tbody tr th {\n",
       "        vertical-align: top;\n",
       "    }\n",
       "\n",
       "    .dataframe thead th {\n",
       "        text-align: right;\n",
       "    }\n",
       "</style>\n",
       "<table border=\"1\" class=\"dataframe\">\n",
       "  <thead>\n",
       "    <tr style=\"text-align: right;\">\n",
       "      <th></th>\n",
       "      <th>Species</th>\n",
       "      <th>Island</th>\n",
       "      <th>Full_Clutch</th>\n",
       "      <th>Culmen_Length</th>\n",
       "      <th>Culmen_Depth</th>\n",
       "      <th>Flipper_Length</th>\n",
       "      <th>Sex</th>\n",
       "      <th>DeltaN</th>\n",
       "      <th>DeltaC</th>\n",
       "      <th>Body_Mass</th>\n",
       "    </tr>\n",
       "  </thead>\n",
       "  <tbody>\n",
       "    <tr>\n",
       "      <th>6</th>\n",
       "      <td>Adelie Penguin (Pygoscelis adeliae)</td>\n",
       "      <td>Torgersen</td>\n",
       "      <td>Yes</td>\n",
       "      <td>42.0</td>\n",
       "      <td>20.2</td>\n",
       "      <td>190</td>\n",
       "      <td>NaN</td>\n",
       "      <td>9.13362</td>\n",
       "      <td>-25.09368</td>\n",
       "      <td>4250</td>\n",
       "    </tr>\n",
       "    <tr>\n",
       "      <th>8</th>\n",
       "      <td>Adelie Penguin (Pygoscelis adeliae)</td>\n",
       "      <td>Torgersen</td>\n",
       "      <td>Yes</td>\n",
       "      <td>34.1</td>\n",
       "      <td>18.1</td>\n",
       "      <td>193</td>\n",
       "      <td>NaN</td>\n",
       "      <td>NaN</td>\n",
       "      <td>NaN</td>\n",
       "      <td>3475</td>\n",
       "    </tr>\n",
       "    <tr>\n",
       "      <th>18</th>\n",
       "      <td>Adelie Penguin (Pygoscelis adeliae)</td>\n",
       "      <td>Dream</td>\n",
       "      <td>No</td>\n",
       "      <td>39.8</td>\n",
       "      <td>19.1</td>\n",
       "      <td>184</td>\n",
       "      <td>MALE</td>\n",
       "      <td>NaN</td>\n",
       "      <td>NaN</td>\n",
       "      <td>4650</td>\n",
       "    </tr>\n",
       "    <tr>\n",
       "      <th>70</th>\n",
       "      <td>Gentoo penguin (Pygoscelis papua)</td>\n",
       "      <td>Biscoe</td>\n",
       "      <td>Yes</td>\n",
       "      <td>46.2</td>\n",
       "      <td>14.4</td>\n",
       "      <td>214</td>\n",
       "      <td>NaN</td>\n",
       "      <td>8.24253</td>\n",
       "      <td>-26.81540</td>\n",
       "      <td>4650</td>\n",
       "    </tr>\n",
       "    <tr>\n",
       "      <th>109</th>\n",
       "      <td>Adelie Penguin (Pygoscelis adeliae)</td>\n",
       "      <td>Torgersen</td>\n",
       "      <td>Yes</td>\n",
       "      <td>36.6</td>\n",
       "      <td>17.8</td>\n",
       "      <td>185</td>\n",
       "      <td>FEMALE</td>\n",
       "      <td>NaN</td>\n",
       "      <td>NaN</td>\n",
       "      <td>3700</td>\n",
       "    </tr>\n",
       "  </tbody>\n",
       "</table>\n",
       "</div>"
      ],
      "text/plain": [
       "                                 Species     Island Full_Clutch  \\\n",
       "6    Adelie Penguin (Pygoscelis adeliae)  Torgersen         Yes   \n",
       "8    Adelie Penguin (Pygoscelis adeliae)  Torgersen         Yes   \n",
       "18   Adelie Penguin (Pygoscelis adeliae)      Dream          No   \n",
       "70     Gentoo penguin (Pygoscelis papua)     Biscoe         Yes   \n",
       "109  Adelie Penguin (Pygoscelis adeliae)  Torgersen         Yes   \n",
       "\n",
       "     Culmen_Length  Culmen_Depth  Flipper_Length     Sex   DeltaN    DeltaC  \\\n",
       "6             42.0          20.2             190     NaN  9.13362 -25.09368   \n",
       "8             34.1          18.1             193     NaN      NaN       NaN   \n",
       "18            39.8          19.1             184    MALE      NaN       NaN   \n",
       "70            46.2          14.4             214     NaN  8.24253 -26.81540   \n",
       "109           36.6          17.8             185  FEMALE      NaN       NaN   \n",
       "\n",
       "     Body_Mass  \n",
       "6         4250  \n",
       "8         3475  \n",
       "18        4650  \n",
       "70        4650  \n",
       "109       3700  "
      ]
     },
     "execution_count": 7,
     "metadata": {},
     "output_type": "execute_result"
    }
   ],
   "source": [
    "## 결측치가 있는 row들을 확인\n",
    "df[df.isna().sum(axis = 1) > 0]"
   ]
  },
  {
   "cell_type": "markdown",
   "id": "8712a3dc-f026-4f84-8517-5fdd2d5b9378",
   "metadata": {},
   "source": [
    "`-` 방사성 동위원소 행의 결측치에는 각각의 중앙값을 넣어주자"
   ]
  },
  {
   "cell_type": "code",
   "execution_count": 8,
   "id": "48a5c2e1-aebe-4bd4-b3e1-f6cb5ac2f3c3",
   "metadata": {},
   "outputs": [],
   "source": [
    "df['DeltaN'].fillna(df['DeltaN'].median(), inplace = True)\n",
    "df['DeltaC'].fillna(df['DeltaC'].median(), inplace = True)"
   ]
  },
  {
   "cell_type": "markdown",
   "id": "65fe4bac-9334-433e-a908-c61971eb2901",
   "metadata": {},
   "source": [
    "`-` EDA를 보면 알겠지만 Species별로 몸무게가 다르다\n",
    "\n",
    "`-` 또한 수컷과 암컷간의 차이도 꽤 있다\n",
    "\n",
    "`-` drop해도 되지만 3개의 데이터가 유실되는 것이기에 Species와 Body_Mass를 통해 결측치에 값을 채워넣자"
   ]
  },
  {
   "cell_type": "code",
   "execution_count": 9,
   "id": "97a7d82e-8579-4430-abbe-3819925af340",
   "metadata": {},
   "outputs": [
    {
     "data": {
      "text/html": [
       "<div>\n",
       "<style scoped>\n",
       "    .dataframe tbody tr th:only-of-type {\n",
       "        vertical-align: middle;\n",
       "    }\n",
       "\n",
       "    .dataframe tbody tr th {\n",
       "        vertical-align: top;\n",
       "    }\n",
       "\n",
       "    .dataframe thead th {\n",
       "        text-align: right;\n",
       "    }\n",
       "</style>\n",
       "<table border=\"1\" class=\"dataframe\">\n",
       "  <thead>\n",
       "    <tr style=\"text-align: right;\">\n",
       "      <th></th>\n",
       "      <th>Species</th>\n",
       "      <th>Sex</th>\n",
       "      <th>Body_Mass</th>\n",
       "    </tr>\n",
       "  </thead>\n",
       "  <tbody>\n",
       "    <tr>\n",
       "      <th>0</th>\n",
       "      <td>Adelie Penguin (Pygoscelis adeliae)</td>\n",
       "      <td>FEMALE</td>\n",
       "      <td>3448.611111</td>\n",
       "    </tr>\n",
       "    <tr>\n",
       "      <th>1</th>\n",
       "      <td>Adelie Penguin (Pygoscelis adeliae)</td>\n",
       "      <td>MALE</td>\n",
       "      <td>4097.619048</td>\n",
       "    </tr>\n",
       "    <tr>\n",
       "      <th>2</th>\n",
       "      <td>Chinstrap penguin (Pygoscelis antarctica)</td>\n",
       "      <td>FEMALE</td>\n",
       "      <td>3550.000000</td>\n",
       "    </tr>\n",
       "    <tr>\n",
       "      <th>3</th>\n",
       "      <td>Chinstrap penguin (Pygoscelis antarctica)</td>\n",
       "      <td>MALE</td>\n",
       "      <td>4018.181818</td>\n",
       "    </tr>\n",
       "    <tr>\n",
       "      <th>4</th>\n",
       "      <td>Gentoo penguin (Pygoscelis papua)</td>\n",
       "      <td>FEMALE</td>\n",
       "      <td>4707.608696</td>\n",
       "    </tr>\n",
       "    <tr>\n",
       "      <th>5</th>\n",
       "      <td>Gentoo penguin (Pygoscelis papua)</td>\n",
       "      <td>MALE</td>\n",
       "      <td>5445.833333</td>\n",
       "    </tr>\n",
       "  </tbody>\n",
       "</table>\n",
       "</div>"
      ],
      "text/plain": [
       "                                     Species     Sex    Body_Mass\n",
       "0        Adelie Penguin (Pygoscelis adeliae)  FEMALE  3448.611111\n",
       "1        Adelie Penguin (Pygoscelis adeliae)    MALE  4097.619048\n",
       "2  Chinstrap penguin (Pygoscelis antarctica)  FEMALE  3550.000000\n",
       "3  Chinstrap penguin (Pygoscelis antarctica)    MALE  4018.181818\n",
       "4          Gentoo penguin (Pygoscelis papua)  FEMALE  4707.608696\n",
       "5          Gentoo penguin (Pygoscelis papua)    MALE  5445.833333"
      ]
     },
     "execution_count": 9,
     "metadata": {},
     "output_type": "execute_result"
    }
   ],
   "source": [
    "df.groupby(['Species', 'Sex']).\\\n",
    "agg({'Body_Mass':np.mean}).reset_index()"
   ]
  },
  {
   "cell_type": "markdown",
   "id": "7210ea1d-e2f7-4b1b-85ef-4bdb8299edd4",
   "metadata": {},
   "source": [
    "`-` 6번 펭귄의 성별은 수컷, 8번은 암컷, 70번은 암컷으로 하자"
   ]
  },
  {
   "cell_type": "code",
   "execution_count": 10,
   "id": "adc5f402-3619-4e57-8199-51d041c72e66",
   "metadata": {},
   "outputs": [],
   "source": [
    "df.loc[[6,8,70], 'Sex']= ['MALE','FEMALE', 'FEMALE']"
   ]
  },
  {
   "cell_type": "markdown",
   "id": "fe5ed211-22cd-4a4a-8c77-f0e8a015ef87",
   "metadata": {},
   "source": [
    "`-` 이상으로 결측치 처리는 끝났다"
   ]
  },
  {
   "cell_type": "code",
   "execution_count": 11,
   "id": "80e9c696-be68-4ca6-b10f-b996482dfd72",
   "metadata": {},
   "outputs": [
    {
     "data": {
      "text/plain": [
       "0"
      ]
     },
     "execution_count": 11,
     "metadata": {},
     "output_type": "execute_result"
    }
   ],
   "source": [
    "df.isnull().sum().sum() ## 이제 결측치는 없다"
   ]
  },
  {
   "cell_type": "markdown",
   "id": "e0d3a138-48bd-4b30-b654-fe5470d3e886",
   "metadata": {},
   "source": [
    "## 모델링을 해보자"
   ]
  },
  {
   "cell_type": "markdown",
   "id": "6ab23453-cb3b-412c-82ba-a2ba6bff9fd6",
   "metadata": {},
   "source": [
    "`-` 뗑컨 데이터셋의 크기는 114로 그리 많지 않다\n",
    "\n",
    "`-` 그렇기에 overfitting이 일어날 가능성이 꽤 있으며 변수간의 상관관계도 강하다\n",
    "\n",
    "`-` 이를 해결하기 위해 cost fuction에 규제항을 추가한 릿지, 라쏘, 엘라스틱 넷을 써보자"
   ]
  },
  {
   "cell_type": "markdown",
   "id": "f9a468dc-aaf8-4191-a0f2-15b73301e075",
   "metadata": {
    "tags": []
   },
   "source": [
    "### preprocessing"
   ]
  },
  {
   "cell_type": "code",
   "execution_count": 12,
   "id": "67ea40bd-bba2-4924-a62c-0ba4f1b40ceb",
   "metadata": {},
   "outputs": [],
   "source": [
    "from sklearn.model_selection import train_test_split"
   ]
  },
  {
   "cell_type": "code",
   "execution_count": 13,
   "id": "e7985ecd-73fd-419b-8d87-9287e613f968",
   "metadata": {},
   "outputs": [],
   "source": [
    "dt = df.copy()"
   ]
  },
  {
   "cell_type": "code",
   "execution_count": 14,
   "id": "cc75d31c-170c-4103-9b52-f9b7b242e89c",
   "metadata": {},
   "outputs": [],
   "source": [
    "dt = dt.iloc[:, :-1]      ## target 제외한 데이터프레임\n",
    "target = df['Body_Mass']  ## target"
   ]
  },
  {
   "cell_type": "markdown",
   "id": "1d4a3ac7-ead8-42db-b68c-30409462d36a",
   "metadata": {},
   "source": [
    "`-` 라벨인코딩을 해주자"
   ]
  },
  {
   "cell_type": "code",
   "execution_count": 15,
   "id": "182fb25f-a58c-4697-af63-cfba3cfcb916",
   "metadata": {},
   "outputs": [],
   "source": [
    "from sklearn.preprocessing import LabelEncoder"
   ]
  },
  {
   "cell_type": "code",
   "execution_count": 16,
   "id": "e6d04898-563c-4f13-839e-1e83d0a1f0bc",
   "metadata": {},
   "outputs": [],
   "source": [
    "for col in dt.columns:\n",
    "    if dt.dtypes[col] == 'O':\n",
    "        encoder = LabelEncoder()    \n",
    "        labels = encoder.fit_transform(dt[col])\n",
    "        dt[col] = list(labels) "
   ]
  },
  {
   "cell_type": "code",
   "execution_count": 17,
   "id": "d1b53d8d-55ff-4048-8c2d-76287795368c",
   "metadata": {},
   "outputs": [
    {
     "data": {
      "text/html": [
       "<div>\n",
       "<style scoped>\n",
       "    .dataframe tbody tr th:only-of-type {\n",
       "        vertical-align: middle;\n",
       "    }\n",
       "\n",
       "    .dataframe tbody tr th {\n",
       "        vertical-align: top;\n",
       "    }\n",
       "\n",
       "    .dataframe thead th {\n",
       "        text-align: right;\n",
       "    }\n",
       "</style>\n",
       "<table border=\"1\" class=\"dataframe\">\n",
       "  <thead>\n",
       "    <tr style=\"text-align: right;\">\n",
       "      <th></th>\n",
       "      <th>Species</th>\n",
       "      <th>Island</th>\n",
       "      <th>Full_Clutch</th>\n",
       "      <th>Culmen_Length</th>\n",
       "      <th>Culmen_Depth</th>\n",
       "      <th>Flipper_Length</th>\n",
       "      <th>Sex</th>\n",
       "      <th>DeltaN</th>\n",
       "      <th>DeltaC</th>\n",
       "    </tr>\n",
       "  </thead>\n",
       "  <tbody>\n",
       "    <tr>\n",
       "      <th>0</th>\n",
       "      <td>2</td>\n",
       "      <td>0</td>\n",
       "      <td>1</td>\n",
       "      <td>50.0</td>\n",
       "      <td>15.3</td>\n",
       "      <td>220</td>\n",
       "      <td>1</td>\n",
       "      <td>8.30515</td>\n",
       "      <td>-25.19017</td>\n",
       "    </tr>\n",
       "    <tr>\n",
       "      <th>1</th>\n",
       "      <td>1</td>\n",
       "      <td>1</td>\n",
       "      <td>0</td>\n",
       "      <td>49.5</td>\n",
       "      <td>19.0</td>\n",
       "      <td>200</td>\n",
       "      <td>1</td>\n",
       "      <td>9.63074</td>\n",
       "      <td>-24.34684</td>\n",
       "    </tr>\n",
       "    <tr>\n",
       "      <th>2</th>\n",
       "      <td>2</td>\n",
       "      <td>0</td>\n",
       "      <td>1</td>\n",
       "      <td>45.1</td>\n",
       "      <td>14.4</td>\n",
       "      <td>210</td>\n",
       "      <td>0</td>\n",
       "      <td>8.51951</td>\n",
       "      <td>-27.01854</td>\n",
       "    </tr>\n",
       "    <tr>\n",
       "      <th>3</th>\n",
       "      <td>2</td>\n",
       "      <td>0</td>\n",
       "      <td>1</td>\n",
       "      <td>44.5</td>\n",
       "      <td>14.7</td>\n",
       "      <td>214</td>\n",
       "      <td>0</td>\n",
       "      <td>8.20106</td>\n",
       "      <td>-26.16524</td>\n",
       "    </tr>\n",
       "    <tr>\n",
       "      <th>4</th>\n",
       "      <td>2</td>\n",
       "      <td>0</td>\n",
       "      <td>0</td>\n",
       "      <td>49.6</td>\n",
       "      <td>16.0</td>\n",
       "      <td>225</td>\n",
       "      <td>1</td>\n",
       "      <td>8.38324</td>\n",
       "      <td>-26.84272</td>\n",
       "    </tr>\n",
       "  </tbody>\n",
       "</table>\n",
       "</div>"
      ],
      "text/plain": [
       "   Species  Island  Full_Clutch  Culmen_Length  Culmen_Depth  Flipper_Length  \\\n",
       "0        2       0            1           50.0          15.3             220   \n",
       "1        1       1            0           49.5          19.0             200   \n",
       "2        2       0            1           45.1          14.4             210   \n",
       "3        2       0            1           44.5          14.7             214   \n",
       "4        2       0            0           49.6          16.0             225   \n",
       "\n",
       "   Sex   DeltaN    DeltaC  \n",
       "0    1  8.30515 -25.19017  \n",
       "1    1  9.63074 -24.34684  \n",
       "2    0  8.51951 -27.01854  \n",
       "3    0  8.20106 -26.16524  \n",
       "4    1  8.38324 -26.84272  "
      ]
     },
     "execution_count": 17,
     "metadata": {},
     "output_type": "execute_result"
    }
   ],
   "source": [
    "dt.head()"
   ]
  },
  {
   "cell_type": "markdown",
   "id": "a6cd1f0c-7f37-46db-8269-aa279942c452",
   "metadata": {},
   "source": [
    "`-` 범주형 변수마다 라벨인코딩이 잘 되었다"
   ]
  },
  {
   "cell_type": "code",
   "execution_count": 18,
   "id": "920a3045-e586-430c-bfd0-13d2fd99522f",
   "metadata": {},
   "outputs": [],
   "source": [
    "x_train, x_valid, y_train, y_valid = train_test_split(dt, target, test_size = 0.2, shuffle = True,\n",
    "                                                      stratify = dt['Species'], random_state = 21)\n",
    "## 종의 비율이 train, valid 비슷하도록 세팅함"
   ]
  },
  {
   "cell_type": "markdown",
   "id": "77ec3992-5e39-4006-aa87-42a937ffb6ac",
   "metadata": {},
   "source": [
    "## 릿지 회귀(Ridge Regressor)"
   ]
  },
  {
   "cell_type": "code",
   "execution_count": 19,
   "id": "d71a5590-e5f0-41df-8206-0ef1f89f0671",
   "metadata": {},
   "outputs": [],
   "source": [
    "def RMSE(real, predict):\n",
    "    return np.sqrt(np.mean(np.square(real - predict)))"
   ]
  },
  {
   "cell_type": "code",
   "execution_count": 20,
   "id": "40169440-8ce2-4fa2-891e-24d59cdec1cf",
   "metadata": {},
   "outputs": [],
   "source": [
    "from sklearn.linear_model import Ridge"
   ]
  },
  {
   "cell_type": "code",
   "execution_count": 161,
   "id": "ac076025-4d64-455d-99fb-f0432be5d0a1",
   "metadata": {},
   "outputs": [
    {
     "name": "stdout",
     "output_type": "stream",
     "text": [
      "이 방정식의 평균 에러는 291.16입니다\n"
     ]
    }
   ],
   "source": [
    "ridge = Ridge(alpha = 10) ## alpha = 10인 릿지 회귀 모형 생성\n",
    "ridge.fit(x_train, y_train) ## 모델 학습\n",
    "y_predict = ridge.predict(x_valid) ## 모델 예측\n",
    "rmse = RMSE(y_predict, y_valid) ## 예측값과 실제값을 통해 RMSE를 구함\n",
    "print('이 방정식의 평균 에러는 {:.2f}입니다'.format(rmse))"
   ]
  },
  {
   "cell_type": "markdown",
   "id": "8490e7e2-b463-4c5d-83b7-3db485d70206",
   "metadata": {},
   "source": [
    "`-` 여러개의 $\\alpha$에 대해 rmse를 계산해보자"
   ]
  },
  {
   "cell_type": "code",
   "execution_count": 176,
   "id": "22328f18-fa25-4ee5-984e-4e447a5e7ff5",
   "metadata": {},
   "outputs": [
    {
     "name": "stdout",
     "output_type": "stream",
     "text": [
      "𝛼가 0.01일 때 이 방정식의 평균 에러는 268.04입니다\n",
      "𝛼가 0.1일 때 이 방정식의 평균 에러는 268.04입니다\n",
      "𝛼가 1일 때 이 방정식의 평균 에러는 269.10입니다\n",
      "𝛼가 10일 때 이 방정식의 평균 에러는 291.16입니다\n",
      "𝛼가 50일 때 이 방정식의 평균 에러는 313.83입니다\n",
      "𝛼가 100일 때 이 방정식의 평균 에러는 319.01입니다\n"
     ]
    }
   ],
   "source": [
    "alphas = [0.01, 0.1, 1, 10, 50, 100]\n",
    "\n",
    "## alpha 값들에 대해 rmse를 구함\n",
    "for alpha in alphas:\n",
    "    ridge = Ridge(alpha = alpha)\n",
    "    ridge.fit(x_train, y_train) ## 모델 학습\n",
    "    y_predict = ridge.predict(x_valid) ## 모델 예측\n",
    "    rmse = RMSE(y_predict, y_valid) ## 예측값과 실제값을 통해 RMSE를 구함\n",
    "    print('𝛼가 {}일 때 이 방정식의 평균 에러는 {:.2f}입니다'.format(alpha, rmse))"
   ]
  },
  {
   "cell_type": "markdown",
   "id": "758facff-c88d-4642-99cc-4274b557bb20",
   "metadata": {},
   "source": [
    "`-` $\\alpha$가 작아질수록 평균 에러가 작아진다"
   ]
  },
  {
   "cell_type": "markdown",
   "id": "4ea4ff43-a9d6-4471-90aa-7e986816278d",
   "metadata": {},
   "source": [
    "### $\\alpha$에 따른 회귀 계수 시각화"
   ]
  },
  {
   "cell_type": "code",
   "execution_count": 35,
   "id": "d447ee4b-c2d6-4c66-a073-a262b3c775d5",
   "metadata": {},
   "outputs": [],
   "source": [
    "import matplotlib.pyplot as plt\n",
    "import seaborn as sns"
   ]
  },
  {
   "cell_type": "code",
   "execution_count": 214,
   "id": "7fe50e98-470c-459c-94dc-81da2b79ab1c",
   "metadata": {},
   "outputs": [
    {
     "data": {
      "image/png": "[encoded data removed]",
      "text/plain": [
       "<Figure size 864x576 with 6 Axes>"
      ]
     },
     "metadata": {
      "needs_background": "light"
     },
     "output_type": "display_data"
    }
   ],
   "source": [
    "fig, axs = plt.subplots(2, 3, figsize = (12, 8))\n",
    "colors = sns.color_palette('husl', 6)\n",
    "coeff_df = pd.DataFrame()\n",
    "alphas = [0.01, 0.1, 1, 10, 50, 100]\n",
    "\n",
    "for i, alpha in enumerate(alphas):\n",
    "    ridge = Ridge(alpha = alpha)\n",
    "    ridge.fit(x_train, y_train)\n",
    "\n",
    "    coeff = pd.Series(data = ridge.coef_, index = x_train.columns)\n",
    "    colname = 'alpha = ' + str(alpha)\n",
    "    coeff_df[colname] = coeff\n",
    "\n",
    "    axs[i//3][i%3].set_title(colname)\n",
    "    axs[i//3][i%3].set_xlim(min(coeff),max(coeff))\n",
    "    sns.barplot(x = coeff.values, y = coeff.index, palette = colors, ax = axs[i//3][i%3])\n",
    "    if i != 0 and i != 3:\n",
    "        axs[i//3][i%3].set(yticklabels = [])   \n",
    "        axs[i//3][i%3].set(ylabel = None)\n",
    "        axs[i//3][i%3].tick_params(left = False)  \n",
    "\n",
    "fig.suptitle('Ridge', fontsize = 16)\n",
    "fig.tight_layout()"
   ]
  },
  {
   "cell_type": "markdown",
   "id": "d73eb27b-30a5-4294-976b-4205baea531c",
   "metadata": {},
   "source": [
    "`-` $\\alpha$가 커짐에 따라 회귀계수가 작아진다"
   ]
  },
  {
   "cell_type": "markdown",
   "id": "5f22d9f7-7ed7-40ed-8f69-5be1ecd217b3",
   "metadata": {
    "tags": []
   },
   "source": [
    "## 라쏘 회귀(Lasso Regressor)"
   ]
  },
  {
   "cell_type": "code",
   "execution_count": 21,
   "id": "81ebd7e4-b379-452d-bcbd-7e39a6f38302",
   "metadata": {},
   "outputs": [],
   "source": [
    "from sklearn.linear_model import Lasso"
   ]
  },
  {
   "cell_type": "markdown",
   "id": "d4388c00-efef-4ed8-ae1f-215b7b0879ba",
   "metadata": {},
   "source": [
    "`-` $\\alpha$가 커짐에 따라 계수가 $0$되는 항이 많아진다"
   ]
  },
  {
   "cell_type": "code",
   "execution_count": 175,
   "id": "8290c8eb-69e5-4ded-a802-ad9a2726d50d",
   "metadata": {},
   "outputs": [
    {
     "name": "stdout",
     "output_type": "stream",
     "text": [
      "𝛼가 0.01일 때 이 방정식의 평균 에러는 268.00입니다\n",
      "𝛼가 0.1일 때 이 방정식의 평균 에러는 267.67입니다\n",
      "𝛼가 1일 때 이 방정식의 평균 에러는 264.49입니다\n",
      "𝛼가 10일 때 이 방정식의 평균 에러는 255.46입니다\n",
      "𝛼가 50일 때 이 방정식의 평균 에러는 311.57입니다\n",
      "𝛼가 100일 때 이 방정식의 평균 에러는 327.98입니다\n"
     ]
    }
   ],
   "source": [
    "alphas = [0.01, 0.1, 1, 10, 50, 100]\n",
    "\n",
    "## alpha 값들에 대해 rmse를 구함\n",
    "for alpha in alphas:\n",
    "    lasso = Lasso(alpha = alpha)\n",
    "    lasso.fit(x_train, y_train) ## 모델 학습\n",
    "    y_predict = lasso.predict(x_valid) ## 모델 예측\n",
    "    rmse = RMSE(y_predict, y_valid) ## 예측값과 실제값을 통해 RMSE를 구함\n",
    "    print('𝛼가 {}일 때 이 방정식의 평균 에러는 {:.2f}입니다'.format(alpha, rmse))"
   ]
  },
  {
   "cell_type": "code",
   "execution_count": 215,
   "id": "e1618c60-ca8c-4aac-97b7-af51f2d02345",
   "metadata": {},
   "outputs": [
    {
     "data": {
      "image/png": "[encoded data removed]",
      "text/plain": [
       "<Figure size 864x576 with 6 Axes>"
      ]
     },
     "metadata": {
      "needs_background": "light"
     },
     "output_type": "display_data"
    }
   ],
   "source": [
    "fig, axs = plt.subplots(2, 3, figsize = (12, 8))\n",
    "colors = sns.color_palette('husl', 6)\n",
    "coeff_df = pd.DataFrame()\n",
    "alphas = [0.01, 0.1, 1, 10, 50, 100]\n",
    "\n",
    "for i, alpha in enumerate(alphas):\n",
    "    lasso = Lasso(alpha = alpha)\n",
    "    lasso.fit(x_train, y_train)\n",
    "\n",
    "    coeff = pd.Series(data = lasso.coef_, index = x_train.columns)\n",
    "    colname = 'alpha = ' + str(alpha)\n",
    "    coeff_df[colname] = coeff\n",
    "\n",
    "    axs[i//3][i%3].set_title(colname)\n",
    "    axs[i//3][i%3].set_xlim(min(coeff),max(coeff))\n",
    "    sns.barplot(x = coeff.values, y = coeff.index, palette = colors, ax = axs[i//3][i%3])\n",
    "    if i != 0 and i != 3:\n",
    "        axs[i//3][i%3].set(yticklabels = [])   \n",
    "        axs[i//3][i%3].set(ylabel = None)\n",
    "        axs[i//3][i%3].tick_params(left = False)  \n",
    "\n",
    "fig.suptitle('Lasso', fontsize = 16)\n",
    "fig.tight_layout()"
   ]
  },
  {
   "cell_type": "markdown",
   "id": "a8fabda0-04c8-41bb-b152-899fbac9f733",
   "metadata": {},
   "source": [
    "## 엘라스틱 넷(Elastic Net)"
   ]
  },
  {
   "cell_type": "markdown",
   "id": "c06012f2-fdf5-4519-a695-aa0fa2d5c0fa",
   "metadata": {},
   "source": [
    "`-` 라쏘 회귀에서의 규제항(L1)과 릿지 회귀에서의 규제항(L2)을 비율에 따라 혼합한 규제항을 사용 "
   ]
  },
  {
   "cell_type": "code",
   "execution_count": 187,
   "id": "629a7807-b9ae-44c2-bed1-da94210d2e35",
   "metadata": {},
   "outputs": [],
   "source": [
    "from sklearn.linear_model import ElasticNet"
   ]
  },
  {
   "cell_type": "code",
   "execution_count": 198,
   "id": "02c38052-e372-4d08-bf9c-515048884a84",
   "metadata": {},
   "outputs": [
    {
     "name": "stdout",
     "output_type": "stream",
     "text": [
      "𝛼가 0.01이고 L1_raio가 0.05일 때 이 방정식의 평균 에러는 268.85입니다\n",
      "𝛼가 0.01이고 L1_raio가 0.2일 때 이 방정식의 평균 에러는 268.62입니다\n",
      "𝛼가 0.01이고 L1_raio가 0.5일 때 이 방정식의 평균 에러는 268.25입니다\n",
      "𝛼가 0.01이고 L1_raio가 0.8일 때 이 방정식의 평균 에러는 268.04입니다\n",
      "𝛼가 0.01이고 L1_raio가 0.95일 때 이 방정식의 평균 에러는 268.00입니다\n",
      "\n",
      "𝛼가 0.1이고 L1_raio가 0.05일 때 이 방정식의 평균 에러는 288.65입니다\n",
      "𝛼가 0.1이고 L1_raio가 0.2일 때 이 방정식의 평균 에러는 285.76입니다\n",
      "𝛼가 0.1이고 L1_raio가 0.5일 때 이 방정식의 평균 에러는 278.81입니다\n",
      "𝛼가 0.1이고 L1_raio가 0.8일 때 이 방정식의 평균 에러는 270.86입니다\n",
      "𝛼가 0.1이고 L1_raio가 0.95일 때 이 방정식의 평균 에러는 267.96입니다\n",
      "\n",
      "𝛼가 1이고 L1_raio가 0.05일 때 이 방정식의 평균 에러는 318.07입니다\n",
      "𝛼가 1이고 L1_raio가 0.2일 때 이 방정식의 평균 에러는 316.89입니다\n",
      "𝛼가 1이고 L1_raio가 0.5일 때 이 방정식의 평균 에러는 313.02입니다\n",
      "𝛼가 1이고 L1_raio가 0.8일 때 이 방정식의 평균 에러는 301.27입니다\n",
      "𝛼가 1이고 L1_raio가 0.95일 때 이 방정식의 평균 에러는 277.80입니다\n",
      "\n",
      "𝛼가 10이고 L1_raio가 0.05일 때 이 방정식의 평균 에러는 332.59입니다\n",
      "𝛼가 10이고 L1_raio가 0.2일 때 이 방정식의 평균 에러는 331.16입니다\n",
      "𝛼가 10이고 L1_raio가 0.5일 때 이 방정식의 평균 에러는 328.05입니다\n",
      "𝛼가 10이고 L1_raio가 0.8일 때 이 방정식의 평균 에러는 323.53입니다\n",
      "𝛼가 10이고 L1_raio가 0.95일 때 이 방정식의 평균 에러는 314.74입니다\n",
      "\n"
     ]
    }
   ],
   "source": [
    "alphas = [0.01, 0.1, 1, 10]\n",
    "L1_ratios = [0.05, 0.2, 0.5, 0.8, 0.95]\n",
    "## alpha 값들에 대해 rmse를 구함\n",
    "for alpha in alphas:\n",
    "    for L1_ratio in L1_ratios:\n",
    "        elastic_net = ElasticNet(alpha = alpha, l1_ratio = L1_ratio)\n",
    "        elastic_net.fit(x_train, y_train) ## 모델 학습\n",
    "        y_predict = elastic_net.predict(x_valid) ## 모델 예측\n",
    "        rmse = RMSE(y_predict, y_valid) ## 예측값과 실제값을 통해 RMSE를 구함\n",
    "        print('𝛼가 {}이고 L1_raio가 {}일 때 이 방정식의 평균 에러는 {:.2f}입니다'.format(alpha, L1_ratio, rmse))\n",
    "    print('\\n', end = '')"
   ]
  },
  {
   "cell_type": "markdown",
   "id": "f8c3a698-e698-4422-8b86-455084276fb8",
   "metadata": {},
   "source": [
    "`-` 뗑컨 데이터에 대해서는 일라스틱 넷에서 L1_ratio가 높을수록 RMSE가 작다\n",
    "\n",
    "`-` 릿지, 라쏘와 엘라스틱 넷의 차이를 느끼고자 L1_ratio는 0.5로 하자"
   ]
  },
  {
   "cell_type": "code",
   "execution_count": 216,
   "id": "758ef40b-fee2-4d9a-9a0d-adc6b0f7c2fc",
   "metadata": {},
   "outputs": [
    {
     "data": {
      "image/png": "[encoded data removed]",
      "text/plain": [
       "<Figure size 864x576 with 6 Axes>"
      ]
     },
     "metadata": {
      "needs_background": "light"
     },
     "output_type": "display_data"
    }
   ],
   "source": [
    "fig, axs = plt.subplots(2, 3, figsize = (12, 8))\n",
    "colors = sns.color_palette('husl', 6)\n",
    "coeff_df = pd.DataFrame()\n",
    "alphas = [0.01, 0.1, 1, 10, 50, 100]\n",
    "\n",
    "for i, alpha in enumerate(alphas):\n",
    "    elastic_net = ElasticNet(alpha = alpha)\n",
    "    elastic_net.fit(x_train, y_train)\n",
    "\n",
    "    coeff = pd.Series(data = elastic_net.coef_, index = x_train.columns)\n",
    "    colname = 'alpha = ' + str(alpha)\n",
    "    coeff_df[colname] = coeff\n",
    "\n",
    "    axs[i//3][i%3].set_title(colname)\n",
    "    axs[i//3][i%3].set_xlim(min(coeff),max(coeff))\n",
    "    sns.barplot(x = coeff.values, y = coeff.index, palette = colors, ax = axs[i//3][i%3])\n",
    "    if i != 0 and i != 3:\n",
    "        axs[i//3][i%3].set(yticklabels = [])   \n",
    "        axs[i//3][i%3].set(ylabel = None)\n",
    "        axs[i//3][i%3].tick_params(left = False)  \n",
    "\n",
    "fig.suptitle('Elastic Net', fontsize = 16)\n",
    "fig.tight_layout()"
   ]
  },
  {
   "cell_type": "markdown",
   "id": "184380b3-60fa-48f8-afbd-6538161d3f64",
   "metadata": {},
   "source": [
    "`-` 회귀계수들이 작아지고 계수가 $0$인 변수도 존재한다"
   ]
  },
  {
   "cell_type": "markdown",
   "id": "039eaaee-fce1-4ba8-a5da-1f7394bcbe9a",
   "metadata": {},
   "source": [
    "## 라쏘 회귀 + 교호작용 + 표준화"
   ]
  },
  {
   "cell_type": "markdown",
   "id": "4cdcd6de-d37c-4310-b73b-0ea456917dd7",
   "metadata": {},
   "source": [
    "`-` EDA를 통해 봤을 때는 특별히 교호작용을 추가할 필요는 느끼지 못했는데 라쏘 회귀를 통해 확인하자"
   ]
  },
  {
   "cell_type": "markdown",
   "id": "1f6001e9-d9d8-4a67-b9f2-373703e07985",
   "metadata": {},
   "source": [
    "### 교호작용항 추가"
   ]
  },
  {
   "cell_type": "code",
   "execution_count": 22,
   "id": "4e1da12b-7ea5-4f9a-93d9-89842819b50e",
   "metadata": {},
   "outputs": [],
   "source": [
    "numeric_features = df.columns[(df.dtypes == np.int64) | (df.dtypes == float)][:-1]\n",
    "categorical_features = df.columns[df.dtypes == 'O']"
   ]
  },
  {
   "cell_type": "code",
   "execution_count": 23,
   "id": "140452b8-08de-4dd6-bccd-2974544e5bfe",
   "metadata": {},
   "outputs": [],
   "source": [
    "def poly(df):\n",
    "    df2 = df.copy()\n",
    "    for categorical_feature in categorical_features:\n",
    "        for numeric_feature in numeric_features:\n",
    "            df2[categorical_feature + '_' + numeric_feature] = df2[categorical_feature] * df2[numeric_feature]\n",
    "        \n",
    "    return df2"
   ]
  },
  {
   "cell_type": "code",
   "execution_count": 24,
   "id": "80351470-62e3-4e17-813e-a44abd044b52",
   "metadata": {},
   "outputs": [],
   "source": [
    "x_poly_train = poly(x_train)\n",
    "x_poly_valid = poly(x_valid)"
   ]
  },
  {
   "cell_type": "code",
   "execution_count": 25,
   "id": "4bae3461-f211-4226-80c8-d7bec73c54d6",
   "metadata": {},
   "outputs": [
    {
     "data": {
      "text/plain": [
       "((91, 9), (91, 29))"
      ]
     },
     "execution_count": 25,
     "metadata": {},
     "output_type": "execute_result"
    }
   ],
   "source": [
    "x_train.shape, x_poly_train.shape  ## 교호작용항을 추가하니 피쳐의 수가 9에서 29로 늘어났다"
   ]
  },
  {
   "cell_type": "markdown",
   "id": "7d45760a-c7df-4c4a-8da9-bd4d7c7fdbe6",
   "metadata": {},
   "source": [
    "### 표준화"
   ]
  },
  {
   "cell_type": "markdown",
   "id": "dbb0c86d-4812-41bb-8aba-89e098bc4bad",
   "metadata": {},
   "source": [
    "`-` 위의 교호작용항을 추가한 train, valid 셋을 표준화해주자"
   ]
  },
  {
   "cell_type": "code",
   "execution_count": 26,
   "id": "f9c4e5c7-9ef4-4400-814c-a5728df71a60",
   "metadata": {},
   "outputs": [],
   "source": [
    "from sklearn.preprocessing import StandardScaler\n",
    "\n",
    "## 스케일러 생성\n",
    "standard_scaler = StandardScaler()\n",
    "\n",
    "## 트레인집합 정규화\n",
    "x_poly_train_scaled = standard_scaler.fit_transform(x_poly_train)\n",
    "x_poly_train_scaled_df = pd.DataFrame(data = x_poly_train_scaled, columns = x_poly_train.columns)\n",
    "\n",
    "## 테스트집합 정규화\n",
    "x_poly_valid_scaled = standard_scaler.transform(x_poly_valid) ## x_train에서 학습한 정규화방식을 그대로 x_valid에 적용\n",
    "x_poly_valid_scaled_df = pd.DataFrame(data = x_poly_valid_scaled, columns = x_poly_valid.columns)"
   ]
  },
  {
   "cell_type": "markdown",
   "id": "e421fd02-ac82-4663-8f45-22672d2c1425",
   "metadata": {},
   "source": [
    "### 라쏘 회귀"
   ]
  },
  {
   "cell_type": "markdown",
   "id": "2da1f9b8-0502-42dd-b58d-2fd3d20182d8",
   "metadata": {},
   "source": [
    "`-` $\\alpha$에 따른 rmse를 구해보자"
   ]
  },
  {
   "cell_type": "code",
   "execution_count": 288,
   "id": "b5e7d908-77e2-4901-be70-7486173cfe12",
   "metadata": {},
   "outputs": [
    {
     "name": "stdout",
     "output_type": "stream",
     "text": [
      "𝛼가 0.3일 때 이 방정식의 평균 에러는 224.92입니다\n",
      "𝛼가 0.5일 때 이 방정식의 평균 에러는 237.58입니다\n",
      "𝛼가 0.6일 때 이 방정식의 평균 에러는 243.05입니다\n",
      "𝛼가 0.7일 때 이 방정식의 평균 에러는 246.01입니다\n",
      "𝛼가 0.8일 때 이 방정식의 평균 에러는 248.03입니다\n",
      "𝛼가 0.9일 때 이 방정식의 평균 에러는 250.25입니다\n",
      "𝛼가 0.99일 때 이 방정식의 평균 에러는 252.43입니다\n"
     ]
    }
   ],
   "source": [
    "alphas = [0.3, 0.5, 0.6, 0.7, 0.8, 0.9, 0.99]\n",
    "for alpha in alphas:\n",
    "    lasso = Lasso(alpha = alpha, max_iter = 20000, random_state = 21)\n",
    "    lasso.fit(x_poly_train_scaled_df, y_train)\n",
    "    y_predict = lasso.predict(x_poly_valid_scaled_df) ## 모델 예측\n",
    "    rmse = RMSE(y_predict, y_valid) ## 예측값과 실제값을 통해 RMSE를 구함\n",
    "    print('𝛼가 {}일 때 이 방정식의 평균 에러는 {:.2f}입니다'.format(alpha, rmse))"
   ]
  },
  {
   "cell_type": "markdown",
   "id": "17f0b6c8-dc05-40a4-9cc3-01c55c711be4",
   "metadata": {},
   "source": [
    "`-` $\\alpha$가 작다는것은 규제를 적게 한다는 의미 ---> 오버피팅 가능성 높아짐\n",
    "\n",
    "`-` 피쳐수도 29개라 $\\alpha$를 크게하는것이 일반화에 좋을 것 임"
   ]
  },
  {
   "cell_type": "markdown",
   "id": "8cbf208e-3fda-4ff2-9582-d2f44548f547",
   "metadata": {},
   "source": [
    "### 릿지 회귀\n",
    "\n",
    "`-` 라쏘 회귀만 하기엔 아쉬우니 릿지 회귀도 해보자"
   ]
  },
  {
   "cell_type": "code",
   "execution_count": 291,
   "id": "b61ad3fb-dd20-448b-a74b-56100a876d98",
   "metadata": {},
   "outputs": [
    {
     "name": "stdout",
     "output_type": "stream",
     "text": [
      "𝛼가 0.1일 때 이 방정식의 평균 에러는 238.11입니다\n",
      "𝛼가 0.3일 때 이 방정식의 평균 에러는 246.98입니다\n",
      "𝛼가 0.5일 때 이 방정식의 평균 에러는 251.14입니다\n",
      "𝛼가 0.7일 때 이 방정식의 평균 에러는 253.86입니다\n",
      "𝛼가 0.9일 때 이 방정식의 평균 에러는 255.86입니다\n",
      "𝛼가 0.99일 때 이 방정식의 평균 에러는 256.60입니다\n"
     ]
    }
   ],
   "source": [
    "alphas = [0.1, 0.3, 0.5, 0.7, 0.9, 0.99]\n",
    "for alpha in alphas:\n",
    "    ridge = Ridge(alpha = alpha, max_iter = 20000, random_state = 21)\n",
    "    ridge.fit(x_poly_train_scaled_df, y_train)\n",
    "    y_predict = ridge.predict(x_poly_valid_scaled_df) ## 모델 예측\n",
    "    rmse = RMSE(y_predict, y_valid) ## 예측값과 실제값을 통해 RMSE를 구함\n",
    "    print('𝛼가 {}일 때 이 방정식의 평균 에러는 {:.2f}입니다'.format(alpha, rmse))"
   ]
  },
  {
   "cell_type": "markdown",
   "id": "79a1792a-072a-4e24-963c-2675b79568db",
   "metadata": {},
   "source": [
    "`-` 라쏘 회귀보다 평균 에러가 더 높게 나온다"
   ]
  },
  {
   "cell_type": "markdown",
   "id": "5663c2df-231b-4181-8d43-9ea7e7167dff",
   "metadata": {},
   "source": [
    "### 엘라스틱 넷"
   ]
  },
  {
   "cell_type": "code",
   "execution_count": 297,
   "id": "eb9de1c6-2d95-442b-80bf-7e0035d746f6",
   "metadata": {},
   "outputs": [
    {
     "name": "stdout",
     "output_type": "stream",
     "text": [
      "𝛼가 0.1일 때 이 방정식의 평균 에러는 266.97입니다\n",
      "𝛼가 0.3일 때 이 방정식의 평균 에러는 271.54입니다\n",
      "𝛼가 0.5일 때 이 방정식의 평균 에러는 273.53입니다\n",
      "𝛼가 0.7일 때 이 방정식의 평균 에러는 275.26입니다\n",
      "𝛼가 0.9일 때 이 방정식의 평균 에러는 277.16입니다\n",
      "𝛼가 0.99일 때 이 방정식의 평균 에러는 278.10입니다\n"
     ]
    }
   ],
   "source": [
    "alphas = [0.1, 0.3, 0.5, 0.7, 0.9, 0.99]\n",
    "for alpha in alphas:\n",
    "    elastic_net = ElasticNet(alpha = alpha, l1_ratio = 0.5, max_iter = 20000, random_state = 21)\n",
    "    elastic_net.fit(x_poly_train_scaled_df, y_train)\n",
    "    y_predict = elastic_net.predict(x_poly_valid_scaled_df) ## 모델 예측\n",
    "    rmse = RMSE(y_predict, y_valid) ## 예측값과 실제값을 통해 RMSE를 구함\n",
    "    print('𝛼가 {}일 때 이 방정식의 평균 에러는 {:.2f}입니다'.format(alpha, rmse))"
   ]
  },
  {
   "cell_type": "markdown",
   "id": "114dd054-9ffd-42f3-b30c-e39e8f135f23",
   "metadata": {},
   "source": [
    "`-` 성능은 라쏘 > 릿지 > 엘라스틱 넷"
   ]
  },
  {
   "cell_type": "markdown",
   "id": "4fad35c7-5afa-4363-b201-bdc4733f200b",
   "metadata": {},
   "source": [
    "### test 예측"
   ]
  },
  {
   "cell_type": "markdown",
   "id": "8e0087e4-37ef-4492-82fa-d5d2fb3212dd",
   "metadata": {},
   "source": [
    "`-` 성능이 가장 좋게 나온 라쏘 회귀 모형을 통해 test 데이터를 예측하자\n",
    "\n",
    "`-` $\\alpha = 0.7$로 하자"
   ]
  },
  {
   "cell_type": "code",
   "execution_count": 27,
   "id": "bf4783dc-85de-4f4c-865a-1a46e586039a",
   "metadata": {},
   "outputs": [
    {
     "data": {
      "text/html": [
       "<div>\n",
       "<style scoped>\n",
       "    .dataframe tbody tr th:only-of-type {\n",
       "        vertical-align: middle;\n",
       "    }\n",
       "\n",
       "    .dataframe tbody tr th {\n",
       "        vertical-align: top;\n",
       "    }\n",
       "\n",
       "    .dataframe thead th {\n",
       "        text-align: right;\n",
       "    }\n",
       "</style>\n",
       "<table border=\"1\" class=\"dataframe\">\n",
       "  <thead>\n",
       "    <tr style=\"text-align: right;\">\n",
       "      <th></th>\n",
       "      <th>id</th>\n",
       "      <th>Species</th>\n",
       "      <th>Island</th>\n",
       "      <th>Clutch Completion</th>\n",
       "      <th>Culmen Length (mm)</th>\n",
       "      <th>Culmen Depth (mm)</th>\n",
       "      <th>Flipper Length (mm)</th>\n",
       "      <th>Sex</th>\n",
       "      <th>Delta 15 N (o/oo)</th>\n",
       "      <th>Delta 13 C (o/oo)</th>\n",
       "    </tr>\n",
       "  </thead>\n",
       "  <tbody>\n",
       "    <tr>\n",
       "      <th>0</th>\n",
       "      <td>0</td>\n",
       "      <td>Chinstrap penguin (Pygoscelis antarctica)</td>\n",
       "      <td>Dream</td>\n",
       "      <td>Yes</td>\n",
       "      <td>52.0</td>\n",
       "      <td>20.7</td>\n",
       "      <td>210.0</td>\n",
       "      <td>MALE</td>\n",
       "      <td>9.43146</td>\n",
       "      <td>-24.68440</td>\n",
       "    </tr>\n",
       "    <tr>\n",
       "      <th>1</th>\n",
       "      <td>1</td>\n",
       "      <td>Gentoo penguin (Pygoscelis papua)</td>\n",
       "      <td>Biscoe</td>\n",
       "      <td>Yes</td>\n",
       "      <td>55.9</td>\n",
       "      <td>17.0</td>\n",
       "      <td>228.0</td>\n",
       "      <td>MALE</td>\n",
       "      <td>8.31180</td>\n",
       "      <td>-26.35425</td>\n",
       "    </tr>\n",
       "    <tr>\n",
       "      <th>2</th>\n",
       "      <td>2</td>\n",
       "      <td>Adelie Penguin (Pygoscelis adeliae)</td>\n",
       "      <td>Dream</td>\n",
       "      <td>Yes</td>\n",
       "      <td>38.9</td>\n",
       "      <td>18.8</td>\n",
       "      <td>190.0</td>\n",
       "      <td>FEMALE</td>\n",
       "      <td>8.36936</td>\n",
       "      <td>-26.11199</td>\n",
       "    </tr>\n",
       "    <tr>\n",
       "      <th>3</th>\n",
       "      <td>3</td>\n",
       "      <td>Chinstrap penguin (Pygoscelis antarctica)</td>\n",
       "      <td>Dream</td>\n",
       "      <td>Yes</td>\n",
       "      <td>45.2</td>\n",
       "      <td>16.6</td>\n",
       "      <td>191.0</td>\n",
       "      <td>FEMALE</td>\n",
       "      <td>9.62357</td>\n",
       "      <td>-24.78984</td>\n",
       "    </tr>\n",
       "    <tr>\n",
       "      <th>4</th>\n",
       "      <td>4</td>\n",
       "      <td>Adelie Penguin (Pygoscelis adeliae)</td>\n",
       "      <td>Biscoe</td>\n",
       "      <td>No</td>\n",
       "      <td>37.9</td>\n",
       "      <td>18.6</td>\n",
       "      <td>172.0</td>\n",
       "      <td>FEMALE</td>\n",
       "      <td>8.38404</td>\n",
       "      <td>-25.19837</td>\n",
       "    </tr>\n",
       "  </tbody>\n",
       "</table>\n",
       "</div>"
      ],
      "text/plain": [
       "   id                                    Species  Island Clutch Completion  \\\n",
       "0   0  Chinstrap penguin (Pygoscelis antarctica)   Dream               Yes   \n",
       "1   1          Gentoo penguin (Pygoscelis papua)  Biscoe               Yes   \n",
       "2   2        Adelie Penguin (Pygoscelis adeliae)   Dream               Yes   \n",
       "3   3  Chinstrap penguin (Pygoscelis antarctica)   Dream               Yes   \n",
       "4   4        Adelie Penguin (Pygoscelis adeliae)  Biscoe                No   \n",
       "\n",
       "   Culmen Length (mm)  Culmen Depth (mm)  Flipper Length (mm)     Sex  \\\n",
       "0                52.0               20.7                210.0    MALE   \n",
       "1                55.9               17.0                228.0    MALE   \n",
       "2                38.9               18.8                190.0  FEMALE   \n",
       "3                45.2               16.6                191.0  FEMALE   \n",
       "4                37.9               18.6                172.0  FEMALE   \n",
       "\n",
       "   Delta 15 N (o/oo)  Delta 13 C (o/oo)  \n",
       "0            9.43146          -24.68440  \n",
       "1            8.31180          -26.35425  \n",
       "2            8.36936          -26.11199  \n",
       "3            9.62357          -24.78984  \n",
       "4            8.38404          -25.19837  "
      ]
     },
     "execution_count": 27,
     "metadata": {},
     "output_type": "execute_result"
    }
   ],
   "source": [
    "test = pd.read_csv('C:/Users/Jaesu/Dacon-Basic/뗑컨-몸무게-예측/Data/test.csv')\n",
    "test.head()"
   ]
  },
  {
   "cell_type": "code",
   "execution_count": 28,
   "id": "415f2aea-8fde-4609-8cf2-bcd3ad9f1654",
   "metadata": {},
   "outputs": [
    {
     "data": {
      "text/plain": [
       "id                     0\n",
       "Species                0\n",
       "Island                 0\n",
       "Clutch Completion      0\n",
       "Culmen Length (mm)     0\n",
       "Culmen Depth (mm)      0\n",
       "Flipper Length (mm)    0\n",
       "Sex                    6\n",
       "Delta 15 N (o/oo)      9\n",
       "Delta 13 C (o/oo)      8\n",
       "dtype: int64"
      ]
     },
     "execution_count": 28,
     "metadata": {},
     "output_type": "execute_result"
    }
   ],
   "source": [
    "test.isnull().sum()"
   ]
  },
  {
   "cell_type": "code",
   "execution_count": 29,
   "id": "04db3e2e-80dc-4d6c-9242-511a693c8f52",
   "metadata": {},
   "outputs": [],
   "source": [
    "test['Delta 15 N (o/oo)'].fillna(dt['DeltaN'].mean(), inplace = True)\n",
    "test['Delta 13 C (o/oo)'].fillna(dt['DeltaC'].mean(), inplace = True)"
   ]
  },
  {
   "cell_type": "code",
   "execution_count": 30,
   "id": "e1ca398d-610d-47a5-acad-03cc087ec83e",
   "metadata": {},
   "outputs": [],
   "source": [
    "test.rename(columns = {'Clutch Completion':'Full_Clutch', 'Culmen Length (mm)':'Culmen_Length', \n",
    "                     'Culmen Depth (mm)':'Culmen_Depth', 'Flipper Length (mm)':'Flipper_Length',\n",
    "                     'Delta 15 N (o/oo)':'DeltaN', 'Delta 13 C (o/oo)':'DeltaC', 'Body Mass (g)':'Body_Mass'}, inplace = True) ## 열 이름 변경"
   ]
  },
  {
   "cell_type": "code",
   "execution_count": 31,
   "id": "80368ded-f5ee-4c83-a49a-ac7559f35529",
   "metadata": {},
   "outputs": [],
   "source": [
    "test.loc[[46,81,98,152,205,209], 'Sex'] = ['FEMALE'] * 6"
   ]
  },
  {
   "cell_type": "code",
   "execution_count": 32,
   "id": "e339a6e5-4dda-44dc-8c45-daad29184c5a",
   "metadata": {},
   "outputs": [],
   "source": [
    "test.drop('id', axis = 1, inplace = True)"
   ]
  },
  {
   "cell_type": "markdown",
   "id": "0030f55b-c2e1-40b7-ba32-48860c4e5afd",
   "metadata": {},
   "source": [
    "`-` test 셋도 범주형변수에 대해 라벨 인코딩을 해주자"
   ]
  },
  {
   "cell_type": "code",
   "execution_count": 33,
   "id": "05bd178b-0b7c-4cb1-bae1-938076eedc66",
   "metadata": {},
   "outputs": [],
   "source": [
    "test2 = test.copy()\n",
    "for col in test2.columns:\n",
    "    if test2.dtypes[col] == 'O':\n",
    "        encoder = LabelEncoder()\n",
    "        encoder.fit(test2[col])\n",
    "        labels = encoder.transform(test2[col])\n",
    "        test2[col] = list(labels) "
   ]
  },
  {
   "cell_type": "code",
   "execution_count": 34,
   "id": "472b2268-d981-4334-9ba3-06d5e2507db4",
   "metadata": {},
   "outputs": [
    {
     "data": {
      "text/html": [
       "<div>\n",
       "<style scoped>\n",
       "    .dataframe tbody tr th:only-of-type {\n",
       "        vertical-align: middle;\n",
       "    }\n",
       "\n",
       "    .dataframe tbody tr th {\n",
       "        vertical-align: top;\n",
       "    }\n",
       "\n",
       "    .dataframe thead th {\n",
       "        text-align: right;\n",
       "    }\n",
       "</style>\n",
       "<table border=\"1\" class=\"dataframe\">\n",
       "  <thead>\n",
       "    <tr style=\"text-align: right;\">\n",
       "      <th></th>\n",
       "      <th>Species</th>\n",
       "      <th>Island</th>\n",
       "      <th>Full_Clutch</th>\n",
       "      <th>Culmen_Length</th>\n",
       "      <th>Culmen_Depth</th>\n",
       "      <th>Flipper_Length</th>\n",
       "      <th>Sex</th>\n",
       "      <th>DeltaN</th>\n",
       "      <th>DeltaC</th>\n",
       "    </tr>\n",
       "  </thead>\n",
       "  <tbody>\n",
       "    <tr>\n",
       "      <th>0</th>\n",
       "      <td>1</td>\n",
       "      <td>1</td>\n",
       "      <td>1</td>\n",
       "      <td>52.0</td>\n",
       "      <td>20.7</td>\n",
       "      <td>210.0</td>\n",
       "      <td>1</td>\n",
       "      <td>9.43146</td>\n",
       "      <td>-24.68440</td>\n",
       "    </tr>\n",
       "    <tr>\n",
       "      <th>1</th>\n",
       "      <td>2</td>\n",
       "      <td>0</td>\n",
       "      <td>1</td>\n",
       "      <td>55.9</td>\n",
       "      <td>17.0</td>\n",
       "      <td>228.0</td>\n",
       "      <td>1</td>\n",
       "      <td>8.31180</td>\n",
       "      <td>-26.35425</td>\n",
       "    </tr>\n",
       "    <tr>\n",
       "      <th>2</th>\n",
       "      <td>0</td>\n",
       "      <td>1</td>\n",
       "      <td>1</td>\n",
       "      <td>38.9</td>\n",
       "      <td>18.8</td>\n",
       "      <td>190.0</td>\n",
       "      <td>0</td>\n",
       "      <td>8.36936</td>\n",
       "      <td>-26.11199</td>\n",
       "    </tr>\n",
       "    <tr>\n",
       "      <th>3</th>\n",
       "      <td>1</td>\n",
       "      <td>1</td>\n",
       "      <td>1</td>\n",
       "      <td>45.2</td>\n",
       "      <td>16.6</td>\n",
       "      <td>191.0</td>\n",
       "      <td>0</td>\n",
       "      <td>9.62357</td>\n",
       "      <td>-24.78984</td>\n",
       "    </tr>\n",
       "    <tr>\n",
       "      <th>4</th>\n",
       "      <td>0</td>\n",
       "      <td>0</td>\n",
       "      <td>0</td>\n",
       "      <td>37.9</td>\n",
       "      <td>18.6</td>\n",
       "      <td>172.0</td>\n",
       "      <td>0</td>\n",
       "      <td>8.38404</td>\n",
       "      <td>-25.19837</td>\n",
       "    </tr>\n",
       "  </tbody>\n",
       "</table>\n",
       "</div>"
      ],
      "text/plain": [
       "   Species  Island  Full_Clutch  Culmen_Length  Culmen_Depth  Flipper_Length  \\\n",
       "0        1       1            1           52.0          20.7           210.0   \n",
       "1        2       0            1           55.9          17.0           228.0   \n",
       "2        0       1            1           38.9          18.8           190.0   \n",
       "3        1       1            1           45.2          16.6           191.0   \n",
       "4        0       0            0           37.9          18.6           172.0   \n",
       "\n",
       "   Sex   DeltaN    DeltaC  \n",
       "0    1  9.43146 -24.68440  \n",
       "1    1  8.31180 -26.35425  \n",
       "2    0  8.36936 -26.11199  \n",
       "3    0  9.62357 -24.78984  \n",
       "4    0  8.38404 -25.19837  "
      ]
     },
     "execution_count": 34,
     "metadata": {},
     "output_type": "execute_result"
    }
   ],
   "source": [
    "test2.head()"
   ]
  },
  {
   "cell_type": "markdown",
   "id": "b6e528c8-0106-48fa-8d5c-a6fab296edde",
   "metadata": {},
   "source": [
    "`-` 라벨 인코딩이 잘 되었다"
   ]
  },
  {
   "cell_type": "markdown",
   "id": "d1d0368a-3d81-423d-a203-3736c6751978",
   "metadata": {},
   "source": [
    "`-` 교호작용항 추가"
   ]
  },
  {
   "cell_type": "code",
   "execution_count": 35,
   "id": "74294a4c-cc44-4573-aea5-990c029ce821",
   "metadata": {},
   "outputs": [],
   "source": [
    "test_poly = poly(test2)"
   ]
  },
  {
   "cell_type": "code",
   "execution_count": 36,
   "id": "3ed25882-8dd8-46db-9b68-594ae7c97344",
   "metadata": {},
   "outputs": [],
   "source": [
    "## 테스트집합 정규화\n",
    "test_poly_scaled = standard_scaler.transform(test_poly) ## x_train에서 학습한 정규화방식을 그대로 test에 적용\n",
    "test_poly_scaled_df = pd.DataFrame(data = test_poly_scaled, columns = test_poly.columns)"
   ]
  },
  {
   "cell_type": "code",
   "execution_count": 322,
   "id": "7ca4cf1f-6703-4bf0-a09f-06563dfbb120",
   "metadata": {},
   "outputs": [
    {
     "data": {
      "text/html": [
       "<div>\n",
       "<style scoped>\n",
       "    .dataframe tbody tr th:only-of-type {\n",
       "        vertical-align: middle;\n",
       "    }\n",
       "\n",
       "    .dataframe tbody tr th {\n",
       "        vertical-align: top;\n",
       "    }\n",
       "\n",
       "    .dataframe thead th {\n",
       "        text-align: right;\n",
       "    }\n",
       "</style>\n",
       "<table border=\"1\" class=\"dataframe\">\n",
       "  <thead>\n",
       "    <tr style=\"text-align: right;\">\n",
       "      <th></th>\n",
       "      <th>Species_Culmen_Depth</th>\n",
       "      <th>Species_Flipper_Length</th>\n",
       "      <th>Species_DeltaN</th>\n",
       "      <th>Species_DeltaC</th>\n",
       "      <th>Island_Culmen_Length</th>\n",
       "    </tr>\n",
       "  </thead>\n",
       "  <tbody>\n",
       "    <tr>\n",
       "      <th>0</th>\n",
       "      <td>0.300297</td>\n",
       "      <td>-0.079342</td>\n",
       "      <td>0.060404</td>\n",
       "      <td>0.113680</td>\n",
       "      <td>0.914425</td>\n",
       "    </tr>\n",
       "    <tr>\n",
       "      <th>1</th>\n",
       "      <td>1.293330</td>\n",
       "      <td>1.195717</td>\n",
       "      <td>1.044630</td>\n",
       "      <td>-1.094197</td>\n",
       "      <td>-0.914580</td>\n",
       "    </tr>\n",
       "    <tr>\n",
       "      <th>2</th>\n",
       "      <td>-1.245249</td>\n",
       "      <td>-1.167808</td>\n",
       "      <td>-1.230268</td>\n",
       "      <td>1.177612</td>\n",
       "      <td>0.453657</td>\n",
       "    </tr>\n",
       "    <tr>\n",
       "      <th>3</th>\n",
       "      <td>-0.005825</td>\n",
       "      <td>-0.177823</td>\n",
       "      <td>0.086694</td>\n",
       "      <td>0.109136</td>\n",
       "      <td>0.675247</td>\n",
       "    </tr>\n",
       "    <tr>\n",
       "      <th>4</th>\n",
       "      <td>-1.245249</td>\n",
       "      <td>-1.167808</td>\n",
       "      <td>-1.230268</td>\n",
       "      <td>1.177612</td>\n",
       "      <td>-0.914580</td>\n",
       "    </tr>\n",
       "    <tr>\n",
       "      <th>5</th>\n",
       "      <td>0.233100</td>\n",
       "      <td>-0.146724</td>\n",
       "      <td>0.002238</td>\n",
       "      <td>0.116513</td>\n",
       "      <td>0.939046</td>\n",
       "    </tr>\n",
       "  </tbody>\n",
       "</table>\n",
       "</div>"
      ],
      "text/plain": [
       "   Species_Culmen_Depth  Species_Flipper_Length  Species_DeltaN  \\\n",
       "0              0.300297               -0.079342        0.060404   \n",
       "1              1.293330                1.195717        1.044630   \n",
       "2             -1.245249               -1.167808       -1.230268   \n",
       "3             -0.005825               -0.177823        0.086694   \n",
       "4             -1.245249               -1.167808       -1.230268   \n",
       "5              0.233100               -0.146724        0.002238   \n",
       "\n",
       "   Species_DeltaC  Island_Culmen_Length  \n",
       "0        0.113680              0.914425  \n",
       "1       -1.094197             -0.914580  \n",
       "2        1.177612              0.453657  \n",
       "3        0.109136              0.675247  \n",
       "4        1.177612             -0.914580  \n",
       "5        0.116513              0.939046  "
      ]
     },
     "execution_count": 322,
     "metadata": {},
     "output_type": "execute_result"
    }
   ],
   "source": [
    "test_poly_scaled_df.iloc[:6, 10:15]"
   ]
  },
  {
   "cell_type": "markdown",
   "id": "7989f23b-5786-4bde-b78c-0c915d41e6cf",
   "metadata": {},
   "source": [
    "`-` 이제 예측을 하자"
   ]
  },
  {
   "cell_type": "code",
   "execution_count": 47,
   "id": "b644ff84-d12f-4741-95df-2e8b4e195c53",
   "metadata": {},
   "outputs": [
    {
     "data": {
      "text/plain": [
       "array([4284.72911825, 5602.49239502, 3641.82755582, 3474.95393474,\n",
       "       3783.73909796, 4118.42263249])"
      ]
     },
     "execution_count": 47,
     "metadata": {},
     "output_type": "execute_result"
    }
   ],
   "source": [
    "lasso = Lasso(alpha = 0.7, max_iter = 20000, random_state = 21)\n",
    "lasso.fit(x_poly_train_scaled_df, y_train)\n",
    "predict_test = lasso.predict(test_poly_scaled_df) ## 모델 예측\n",
    "\n",
    "# 예측 결과를 확인\n",
    "predict_test[:6]"
   ]
  },
  {
   "cell_type": "markdown",
   "id": "6d51a2e2-9144-4a21-87a0-fa5fad3629e1",
   "metadata": {},
   "source": [
    "`-` 피쳐네임과 회귀계수 값을 함께 봐보자"
   ]
  },
  {
   "cell_type": "code",
   "execution_count": 49,
   "id": "143c48ca-c4a0-4dfc-b60d-560c3b0cd8a5",
   "metadata": {},
   "outputs": [
    {
     "data": {
      "text/plain": [
       "[('Species', 0.0),\n",
       " ('Island', 0.0),\n",
       " ('Full_Clutch', 2.6412589035640606),\n",
       " ('Culmen_Length', 0.18669090503011523),\n",
       " ('Culmen_Depth', 330.71346933691206),\n",
       " ('Flipper_Length', 224.90152805339403),\n",
       " ('Sex', 425.3027731377754),\n",
       " ('DeltaN', -291.5003671117297),\n",
       " ('DeltaC', -97.91974641966688),\n",
       " ('Species_Culmen_Length', 665.4099883913643),\n",
       " ('Species_Culmen_Depth', -532.4193132071174),\n",
       " ('Species_Flipper_Length', 633.4141236085387),\n",
       " ('Species_DeltaN', -376.81803286381546),\n",
       " ('Species_DeltaC', -0.0),\n",
       " ('Island_Culmen_Length', -0.0),\n",
       " ('Island_Culmen_Depth', -399.6697929061361),\n",
       " ('Island_Flipper_Length', -0.0),\n",
       " ('Island_DeltaN', -0.0),\n",
       " ('Island_DeltaC', -329.67366778540804),\n",
       " ('Full_Clutch_Culmen_Length', 12.68445173026535),\n",
       " ('Full_Clutch_Culmen_Depth', -623.6249428204075),\n",
       " ('Full_Clutch_Flipper_Length', 0.0),\n",
       " ('Full_Clutch_DeltaN', 1093.5183671610816),\n",
       " ('Full_Clutch_DeltaC', 549.6160768977617),\n",
       " ('Sex_Culmen_Length', -343.9234044981184),\n",
       " ('Sex_Culmen_Depth', -0.0),\n",
       " ('Sex_Flipper_Length', 120.40094405861653),\n",
       " ('Sex_DeltaN', 0.0),\n",
       " ('Sex_DeltaC', -0.0)]"
      ]
     },
     "execution_count": 49,
     "metadata": {},
     "output_type": "execute_result"
    }
   ],
   "source": [
    "list(zip(test_poly_scaled_df,lasso.coef_))"
   ]
  },
  {
   "cell_type": "markdown",
   "id": "d0e8ea89-f761-437a-bfd0-fda69f4e1034",
   "metadata": {
    "tags": []
   },
   "source": [
    "### dacon 대회에 제출하기"
   ]
  },
  {
   "cell_type": "code",
   "execution_count": 42,
   "id": "7600f53a-f6e6-4591-96bf-9da9d9d38ad3",
   "metadata": {},
   "outputs": [],
   "source": [
    "# 제출용 sample 파일을 불러옴\n",
    "submission = pd.read_csv('C:/Users/Jaesu/Dacon-Basic/뗑컨-몸무게-예측/Data/sample_submission.csv')"
   ]
  },
  {
   "cell_type": "code",
   "execution_count": 43,
   "id": "63cff43f-0fed-4a35-bda0-4a5c545bc55c",
   "metadata": {},
   "outputs": [
    {
     "data": {
      "text/html": [
       "<div>\n",
       "<style scoped>\n",
       "    .dataframe tbody tr th:only-of-type {\n",
       "        vertical-align: middle;\n",
       "    }\n",
       "\n",
       "    .dataframe tbody tr th {\n",
       "        vertical-align: top;\n",
       "    }\n",
       "\n",
       "    .dataframe thead th {\n",
       "        text-align: right;\n",
       "    }\n",
       "</style>\n",
       "<table border=\"1\" class=\"dataframe\">\n",
       "  <thead>\n",
       "    <tr style=\"text-align: right;\">\n",
       "      <th></th>\n",
       "      <th>id</th>\n",
       "      <th>Body Mass (g)</th>\n",
       "    </tr>\n",
       "  </thead>\n",
       "  <tbody>\n",
       "    <tr>\n",
       "      <th>0</th>\n",
       "      <td>0</td>\n",
       "      <td>4284.729118</td>\n",
       "    </tr>\n",
       "    <tr>\n",
       "      <th>1</th>\n",
       "      <td>1</td>\n",
       "      <td>5602.492395</td>\n",
       "    </tr>\n",
       "    <tr>\n",
       "      <th>2</th>\n",
       "      <td>2</td>\n",
       "      <td>3641.827556</td>\n",
       "    </tr>\n",
       "    <tr>\n",
       "      <th>3</th>\n",
       "      <td>3</td>\n",
       "      <td>3474.953935</td>\n",
       "    </tr>\n",
       "    <tr>\n",
       "      <th>4</th>\n",
       "      <td>4</td>\n",
       "      <td>3783.739098</td>\n",
       "    </tr>\n",
       "  </tbody>\n",
       "</table>\n",
       "</div>"
      ],
      "text/plain": [
       "   id  Body Mass (g)\n",
       "0   0    4284.729118\n",
       "1   1    5602.492395\n",
       "2   2    3641.827556\n",
       "3   3    3474.953935\n",
       "4   4    3783.739098"
      ]
     },
     "execution_count": 46,
     "metadata": {},
     "output_type": "execute_result"
    }
   ],
   "source": [
    "# 위에서 구한 예측값을 그대로 넣음\n",
    "submission['Body Mass (g)'] = predict_test\n",
    "\n",
    "# 데이터가 잘 들어갔는지 확인\n",
    "submission.head()"
   ]
  },
  {
   "cell_type": "code",
   "execution_count": 44,
   "id": "d1e738f1-a34b-4ab8-8361-c4fd7babc278",
   "metadata": {},
   "outputs": [],
   "source": [
    "# submission을 csv 파일로 저장\n",
    "submission.to_csv('C:/Users/Jaesu/Dacon-Basic/뗑컨-몸무게-예측/Data/submission12.csv', index = False)"
   ]
  },
  {
   "cell_type": "markdown",
   "id": "f3160537-1cab-425a-90cb-aa51c7e99448",
   "metadata": {},
   "source": [
    "`-` 점수는 284.1888020295\n",
    "\n",
    "`-` $\\alpha$를 0.3으로 하고 제출해봤는데 점수는 294.3261961943이었다\n",
    "\n",
    "`-` rmse는 $\\alpha$가 0.3 일 때가 더 작았지만 규제항의 비중이 너무 적어 일반화 능력은 떨어졌다\n",
    "\n",
    "`-` $\\alpha$값을 다르게 해보자"
   ]
  },
  {
   "cell_type": "code",
   "execution_count": null,
   "id": "79b8b576-087f-4c39-aeaa-a96cff31e078",
   "metadata": {},
   "outputs": [],
   "source": []
  }
 ],
 "metadata": {
  "kernelspec": {
   "display_name": "Python 3 (ipykernel)",
   "language": "python",
   "name": "python3"
  },
  "language_info": {
   "codemirror_mode": {
    "name": "ipython",
    "version": 3
   },
   "file_extension": ".py",
   "mimetype": "text/x-python",
   "name": "python",
   "nbconvert_exporter": "python",
   "pygments_lexer": "ipython3",
   "version": "3.8.11"
  }
 },
 "nbformat": 4,
 "nbformat_minor": 5
}
