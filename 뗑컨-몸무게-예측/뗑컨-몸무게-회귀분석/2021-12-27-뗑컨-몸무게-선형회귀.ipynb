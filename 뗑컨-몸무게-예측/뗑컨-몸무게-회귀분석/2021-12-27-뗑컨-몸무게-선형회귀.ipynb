{
 "cells": [
  {
   "cell_type": "markdown",
   "id": "255729ab-63d6-4d12-ae08-2aa43e163973",
   "metadata": {},
   "source": [
    "# 뗑컨 몸무게 예측 경진대회"
   ]
  },
  {
   "cell_type": "markdown",
   "id": "5535ad1b-592e-4b8a-a6c6-3160fd74d663",
   "metadata": {},
   "source": [
    "## 패키지 import 및 데이터 전처리"
   ]
  },
  {
   "cell_type": "code",
   "execution_count": 200,
   "id": "7b4c26e8-e193-4016-99cc-e8433ce04a59",
   "metadata": {},
   "outputs": [],
   "source": [
    "import pandas as pd\n",
    "import numpy as np"
   ]
  },
  {
   "cell_type": "code",
   "execution_count": 201,
   "id": "400f21c7-984f-4a6c-8b6a-e2a69a847767",
   "metadata": {},
   "outputs": [],
   "source": [
    "df = pd.read_csv('C:/Users/Jaesu/Dacon-Basic/뗑컨-몸무게-예측/Data/train.csv')"
   ]
  },
  {
   "cell_type": "code",
   "execution_count": 202,
   "id": "f5e5d608-8067-4660-aa8f-15e9c57b6949",
   "metadata": {},
   "outputs": [
    {
     "data": {
      "text/html": [
       "<div>\n",
       "<style scoped>\n",
       "    .dataframe tbody tr th:only-of-type {\n",
       "        vertical-align: middle;\n",
       "    }\n",
       "\n",
       "    .dataframe tbody tr th {\n",
       "        vertical-align: top;\n",
       "    }\n",
       "\n",
       "    .dataframe thead th {\n",
       "        text-align: right;\n",
       "    }\n",
       "</style>\n",
       "<table border=\"1\" class=\"dataframe\">\n",
       "  <thead>\n",
       "    <tr style=\"text-align: right;\">\n",
       "      <th></th>\n",
       "      <th>id</th>\n",
       "      <th>Species</th>\n",
       "      <th>Island</th>\n",
       "      <th>Clutch Completion</th>\n",
       "      <th>Culmen Length (mm)</th>\n",
       "      <th>Culmen Depth (mm)</th>\n",
       "      <th>Flipper Length (mm)</th>\n",
       "      <th>Sex</th>\n",
       "      <th>Delta 15 N (o/oo)</th>\n",
       "      <th>Delta 13 C (o/oo)</th>\n",
       "      <th>Body Mass (g)</th>\n",
       "    </tr>\n",
       "  </thead>\n",
       "  <tbody>\n",
       "    <tr>\n",
       "      <th>0</th>\n",
       "      <td>0</td>\n",
       "      <td>Gentoo penguin (Pygoscelis papua)</td>\n",
       "      <td>Biscoe</td>\n",
       "      <td>Yes</td>\n",
       "      <td>50.0</td>\n",
       "      <td>15.3</td>\n",
       "      <td>220</td>\n",
       "      <td>MALE</td>\n",
       "      <td>8.30515</td>\n",
       "      <td>-25.19017</td>\n",
       "      <td>5550</td>\n",
       "    </tr>\n",
       "    <tr>\n",
       "      <th>1</th>\n",
       "      <td>1</td>\n",
       "      <td>Chinstrap penguin (Pygoscelis antarctica)</td>\n",
       "      <td>Dream</td>\n",
       "      <td>No</td>\n",
       "      <td>49.5</td>\n",
       "      <td>19.0</td>\n",
       "      <td>200</td>\n",
       "      <td>MALE</td>\n",
       "      <td>9.63074</td>\n",
       "      <td>-24.34684</td>\n",
       "      <td>3800</td>\n",
       "    </tr>\n",
       "    <tr>\n",
       "      <th>2</th>\n",
       "      <td>2</td>\n",
       "      <td>Gentoo penguin (Pygoscelis papua)</td>\n",
       "      <td>Biscoe</td>\n",
       "      <td>Yes</td>\n",
       "      <td>45.1</td>\n",
       "      <td>14.4</td>\n",
       "      <td>210</td>\n",
       "      <td>FEMALE</td>\n",
       "      <td>8.51951</td>\n",
       "      <td>-27.01854</td>\n",
       "      <td>4400</td>\n",
       "    </tr>\n",
       "    <tr>\n",
       "      <th>3</th>\n",
       "      <td>3</td>\n",
       "      <td>Gentoo penguin (Pygoscelis papua)</td>\n",
       "      <td>Biscoe</td>\n",
       "      <td>Yes</td>\n",
       "      <td>44.5</td>\n",
       "      <td>14.7</td>\n",
       "      <td>214</td>\n",
       "      <td>FEMALE</td>\n",
       "      <td>8.20106</td>\n",
       "      <td>-26.16524</td>\n",
       "      <td>4850</td>\n",
       "    </tr>\n",
       "    <tr>\n",
       "      <th>4</th>\n",
       "      <td>4</td>\n",
       "      <td>Gentoo penguin (Pygoscelis papua)</td>\n",
       "      <td>Biscoe</td>\n",
       "      <td>No</td>\n",
       "      <td>49.6</td>\n",
       "      <td>16.0</td>\n",
       "      <td>225</td>\n",
       "      <td>MALE</td>\n",
       "      <td>8.38324</td>\n",
       "      <td>-26.84272</td>\n",
       "      <td>5700</td>\n",
       "    </tr>\n",
       "  </tbody>\n",
       "</table>\n",
       "</div>"
      ],
      "text/plain": [
       "   id                                    Species  Island Clutch Completion  \\\n",
       "0   0          Gentoo penguin (Pygoscelis papua)  Biscoe               Yes   \n",
       "1   1  Chinstrap penguin (Pygoscelis antarctica)   Dream                No   \n",
       "2   2          Gentoo penguin (Pygoscelis papua)  Biscoe               Yes   \n",
       "3   3          Gentoo penguin (Pygoscelis papua)  Biscoe               Yes   \n",
       "4   4          Gentoo penguin (Pygoscelis papua)  Biscoe                No   \n",
       "\n",
       "   Culmen Length (mm)  Culmen Depth (mm)  Flipper Length (mm)     Sex  \\\n",
       "0                50.0               15.3                  220    MALE   \n",
       "1                49.5               19.0                  200    MALE   \n",
       "2                45.1               14.4                  210  FEMALE   \n",
       "3                44.5               14.7                  214  FEMALE   \n",
       "4                49.6               16.0                  225    MALE   \n",
       "\n",
       "   Delta 15 N (o/oo)  Delta 13 C (o/oo)  Body Mass (g)  \n",
       "0            8.30515          -25.19017           5550  \n",
       "1            9.63074          -24.34684           3800  \n",
       "2            8.51951          -27.01854           4400  \n",
       "3            8.20106          -26.16524           4850  \n",
       "4            8.38324          -26.84272           5700  "
      ]
     },
     "execution_count": 202,
     "metadata": {},
     "output_type": "execute_result"
    }
   ],
   "source": [
    "df.head()"
   ]
  },
  {
   "cell_type": "code",
   "execution_count": 203,
   "id": "edf18b6f-ff1e-40f4-bc33-2fd0d766d42c",
   "metadata": {},
   "outputs": [],
   "source": [
    "df.rename(columns = {'Clutch Completion':'Full_Clutch', 'Culmen Length (mm)':'Culmen_Length', \n",
    "                     'Culmen Depth (mm)':'Culmen_Depth', 'Flipper Length (mm)':'Flipper_Length',\n",
    "                     'Delta 15 N (o/oo)':'DeltaN', 'Delta 13 C (o/oo)':'DeltaC', 'Body Mass (g)':'Body_Mass'}, inplace = True) ## 열 이름 변경"
   ]
  },
  {
   "cell_type": "code",
   "execution_count": 204,
   "id": "1bf05b12-8aa0-4146-86ff-fed675ef62eb",
   "metadata": {},
   "outputs": [],
   "source": [
    "df.drop('id', axis = 1, inplace = True) ## id는 필요없으니 제거 "
   ]
  },
  {
   "cell_type": "code",
   "execution_count": 205,
   "id": "35b230ae-afb2-499d-b548-21e517bf8ce9",
   "metadata": {},
   "outputs": [
    {
     "data": {
      "text/plain": [
       "Species           0\n",
       "Island            0\n",
       "Full_Clutch       0\n",
       "Culmen_Length     0\n",
       "Culmen_Depth      0\n",
       "Flipper_Length    0\n",
       "Sex               3\n",
       "DeltaN            3\n",
       "DeltaC            3\n",
       "Body_Mass         0\n",
       "dtype: int64"
      ]
     },
     "execution_count": 205,
     "metadata": {},
     "output_type": "execute_result"
    }
   ],
   "source": [
    "df.isnull().sum()"
   ]
  },
  {
   "cell_type": "markdown",
   "id": "847191f7-8f13-4cdb-9322-9b671e40bbc6",
   "metadata": {},
   "source": [
    "`-` Sex, Delta 15 N, Delta 13 C 컬럼에 결측치가 3개씩 존재한다"
   ]
  },
  {
   "cell_type": "code",
   "execution_count": 206,
   "id": "009ca5e2-2b84-41a0-91ed-200ee0074f86",
   "metadata": {},
   "outputs": [
    {
     "data": {
      "text/html": [
       "<div>\n",
       "<style scoped>\n",
       "    .dataframe tbody tr th:only-of-type {\n",
       "        vertical-align: middle;\n",
       "    }\n",
       "\n",
       "    .dataframe tbody tr th {\n",
       "        vertical-align: top;\n",
       "    }\n",
       "\n",
       "    .dataframe thead th {\n",
       "        text-align: right;\n",
       "    }\n",
       "</style>\n",
       "<table border=\"1\" class=\"dataframe\">\n",
       "  <thead>\n",
       "    <tr style=\"text-align: right;\">\n",
       "      <th></th>\n",
       "      <th>Species</th>\n",
       "      <th>Island</th>\n",
       "      <th>Full_Clutch</th>\n",
       "      <th>Culmen_Length</th>\n",
       "      <th>Culmen_Depth</th>\n",
       "      <th>Flipper_Length</th>\n",
       "      <th>Sex</th>\n",
       "      <th>DeltaN</th>\n",
       "      <th>DeltaC</th>\n",
       "      <th>Body_Mass</th>\n",
       "    </tr>\n",
       "  </thead>\n",
       "  <tbody>\n",
       "    <tr>\n",
       "      <th>6</th>\n",
       "      <td>Adelie Penguin (Pygoscelis adeliae)</td>\n",
       "      <td>Torgersen</td>\n",
       "      <td>Yes</td>\n",
       "      <td>42.0</td>\n",
       "      <td>20.2</td>\n",
       "      <td>190</td>\n",
       "      <td>NaN</td>\n",
       "      <td>9.13362</td>\n",
       "      <td>-25.09368</td>\n",
       "      <td>4250</td>\n",
       "    </tr>\n",
       "    <tr>\n",
       "      <th>8</th>\n",
       "      <td>Adelie Penguin (Pygoscelis adeliae)</td>\n",
       "      <td>Torgersen</td>\n",
       "      <td>Yes</td>\n",
       "      <td>34.1</td>\n",
       "      <td>18.1</td>\n",
       "      <td>193</td>\n",
       "      <td>NaN</td>\n",
       "      <td>NaN</td>\n",
       "      <td>NaN</td>\n",
       "      <td>3475</td>\n",
       "    </tr>\n",
       "    <tr>\n",
       "      <th>18</th>\n",
       "      <td>Adelie Penguin (Pygoscelis adeliae)</td>\n",
       "      <td>Dream</td>\n",
       "      <td>No</td>\n",
       "      <td>39.8</td>\n",
       "      <td>19.1</td>\n",
       "      <td>184</td>\n",
       "      <td>MALE</td>\n",
       "      <td>NaN</td>\n",
       "      <td>NaN</td>\n",
       "      <td>4650</td>\n",
       "    </tr>\n",
       "    <tr>\n",
       "      <th>70</th>\n",
       "      <td>Gentoo penguin (Pygoscelis papua)</td>\n",
       "      <td>Biscoe</td>\n",
       "      <td>Yes</td>\n",
       "      <td>46.2</td>\n",
       "      <td>14.4</td>\n",
       "      <td>214</td>\n",
       "      <td>NaN</td>\n",
       "      <td>8.24253</td>\n",
       "      <td>-26.81540</td>\n",
       "      <td>4650</td>\n",
       "    </tr>\n",
       "    <tr>\n",
       "      <th>109</th>\n",
       "      <td>Adelie Penguin (Pygoscelis adeliae)</td>\n",
       "      <td>Torgersen</td>\n",
       "      <td>Yes</td>\n",
       "      <td>36.6</td>\n",
       "      <td>17.8</td>\n",
       "      <td>185</td>\n",
       "      <td>FEMALE</td>\n",
       "      <td>NaN</td>\n",
       "      <td>NaN</td>\n",
       "      <td>3700</td>\n",
       "    </tr>\n",
       "  </tbody>\n",
       "</table>\n",
       "</div>"
      ],
      "text/plain": [
       "                                 Species     Island Full_Clutch  \\\n",
       "6    Adelie Penguin (Pygoscelis adeliae)  Torgersen         Yes   \n",
       "8    Adelie Penguin (Pygoscelis adeliae)  Torgersen         Yes   \n",
       "18   Adelie Penguin (Pygoscelis adeliae)      Dream          No   \n",
       "70     Gentoo penguin (Pygoscelis papua)     Biscoe         Yes   \n",
       "109  Adelie Penguin (Pygoscelis adeliae)  Torgersen         Yes   \n",
       "\n",
       "     Culmen_Length  Culmen_Depth  Flipper_Length     Sex   DeltaN    DeltaC  \\\n",
       "6             42.0          20.2             190     NaN  9.13362 -25.09368   \n",
       "8             34.1          18.1             193     NaN      NaN       NaN   \n",
       "18            39.8          19.1             184    MALE      NaN       NaN   \n",
       "70            46.2          14.4             214     NaN  8.24253 -26.81540   \n",
       "109           36.6          17.8             185  FEMALE      NaN       NaN   \n",
       "\n",
       "     Body_Mass  \n",
       "6         4250  \n",
       "8         3475  \n",
       "18        4650  \n",
       "70        4650  \n",
       "109       3700  "
      ]
     },
     "execution_count": 206,
     "metadata": {},
     "output_type": "execute_result"
    }
   ],
   "source": [
    "## 결측치가 있는 row들을 확인\n",
    "df[df.isna().sum(axis = 1) > 0]"
   ]
  },
  {
   "cell_type": "markdown",
   "id": "71f02948-ad6b-4f37-b371-bdcf1048d001",
   "metadata": {},
   "source": [
    "`-` 방사성 동위원소 행의 결측치에는 평균값을 넣어주자"
   ]
  },
  {
   "cell_type": "code",
   "execution_count": 207,
   "id": "6d113d85-16f5-41c8-a5e2-b2713e3fd510",
   "metadata": {},
   "outputs": [],
   "source": [
    "df['DeltaC'].fillna(df['DeltaC'].mean(), inplace = True)\n",
    "df['DeltaN'].fillna(df['DeltaN'].mean(), inplace = True)"
   ]
  },
  {
   "cell_type": "markdown",
   "id": "a10b2452-1169-4f37-bf55-30b816a66816",
   "metadata": {},
   "source": [
    "`-` EDA를 보면 알겠지만 Species별로 몸무게가 다르다\n",
    "\n",
    "`-` 또한 수컷과 암컷간의 차이도 꽤 있다\n",
    "\n",
    "`-` drop해도 되지만 3개의 데이터가 유실되는 것이기에 Species와 Body_Mass를 통해 결측치에 값을 채워넣자"
   ]
  },
  {
   "cell_type": "code",
   "execution_count": 208,
   "id": "b0844ca5-5744-4ea2-aa73-93631b2e13fe",
   "metadata": {},
   "outputs": [
    {
     "data": {
      "text/html": [
       "<div>\n",
       "<style scoped>\n",
       "    .dataframe tbody tr th:only-of-type {\n",
       "        vertical-align: middle;\n",
       "    }\n",
       "\n",
       "    .dataframe tbody tr th {\n",
       "        vertical-align: top;\n",
       "    }\n",
       "\n",
       "    .dataframe thead th {\n",
       "        text-align: right;\n",
       "    }\n",
       "</style>\n",
       "<table border=\"1\" class=\"dataframe\">\n",
       "  <thead>\n",
       "    <tr style=\"text-align: right;\">\n",
       "      <th></th>\n",
       "      <th>Species</th>\n",
       "      <th>Sex</th>\n",
       "      <th>Body_Mass</th>\n",
       "    </tr>\n",
       "  </thead>\n",
       "  <tbody>\n",
       "    <tr>\n",
       "      <th>0</th>\n",
       "      <td>Adelie Penguin (Pygoscelis adeliae)</td>\n",
       "      <td>FEMALE</td>\n",
       "      <td>3448.611111</td>\n",
       "    </tr>\n",
       "    <tr>\n",
       "      <th>1</th>\n",
       "      <td>Adelie Penguin (Pygoscelis adeliae)</td>\n",
       "      <td>MALE</td>\n",
       "      <td>4097.619048</td>\n",
       "    </tr>\n",
       "    <tr>\n",
       "      <th>2</th>\n",
       "      <td>Chinstrap penguin (Pygoscelis antarctica)</td>\n",
       "      <td>FEMALE</td>\n",
       "      <td>3550.000000</td>\n",
       "    </tr>\n",
       "    <tr>\n",
       "      <th>3</th>\n",
       "      <td>Chinstrap penguin (Pygoscelis antarctica)</td>\n",
       "      <td>MALE</td>\n",
       "      <td>4018.181818</td>\n",
       "    </tr>\n",
       "    <tr>\n",
       "      <th>4</th>\n",
       "      <td>Gentoo penguin (Pygoscelis papua)</td>\n",
       "      <td>FEMALE</td>\n",
       "      <td>4707.608696</td>\n",
       "    </tr>\n",
       "    <tr>\n",
       "      <th>5</th>\n",
       "      <td>Gentoo penguin (Pygoscelis papua)</td>\n",
       "      <td>MALE</td>\n",
       "      <td>5445.833333</td>\n",
       "    </tr>\n",
       "  </tbody>\n",
       "</table>\n",
       "</div>"
      ],
      "text/plain": [
       "                                     Species     Sex    Body_Mass\n",
       "0        Adelie Penguin (Pygoscelis adeliae)  FEMALE  3448.611111\n",
       "1        Adelie Penguin (Pygoscelis adeliae)    MALE  4097.619048\n",
       "2  Chinstrap penguin (Pygoscelis antarctica)  FEMALE  3550.000000\n",
       "3  Chinstrap penguin (Pygoscelis antarctica)    MALE  4018.181818\n",
       "4          Gentoo penguin (Pygoscelis papua)  FEMALE  4707.608696\n",
       "5          Gentoo penguin (Pygoscelis papua)    MALE  5445.833333"
      ]
     },
     "execution_count": 208,
     "metadata": {},
     "output_type": "execute_result"
    }
   ],
   "source": [
    "df.groupby(['Species', 'Sex']).\\\n",
    "agg({'Body_Mass':np.mean}).reset_index()"
   ]
  },
  {
   "cell_type": "markdown",
   "id": "19a10b24-d8ca-4e21-a078-b66f06e976d2",
   "metadata": {},
   "source": [
    "`-` 6번 펭귄의 성별은 수컷, 8번은 암컷, 70번은 암컷으로 하자"
   ]
  },
  {
   "cell_type": "code",
   "execution_count": 209,
   "id": "dedf45ab-683e-4860-bdc0-00c37f5ebd6a",
   "metadata": {},
   "outputs": [],
   "source": [
    "df.loc[[6,8,70], 'Sex']= ['MALE','FEMALE', 'FEMALE']"
   ]
  },
  {
   "cell_type": "markdown",
   "id": "7c61df9a-abe2-430d-b6fc-648ef12726d9",
   "metadata": {},
   "source": [
    "`-` 이상으로 결측치 처리는 끝났다"
   ]
  },
  {
   "cell_type": "code",
   "execution_count": 210,
   "id": "da4c5484-7e04-4211-b8a7-8d3c8524dcf6",
   "metadata": {},
   "outputs": [
    {
     "data": {
      "text/plain": [
       "0"
      ]
     },
     "execution_count": 210,
     "metadata": {},
     "output_type": "execute_result"
    }
   ],
   "source": [
    "df.isnull().sum().sum() ## 이제 결측치는 없다"
   ]
  },
  {
   "cell_type": "markdown",
   "id": "cd597ee8-a865-4e25-882e-6325b6987a63",
   "metadata": {},
   "source": [
    "## 모델링을 해보자"
   ]
  },
  {
   "cell_type": "markdown",
   "id": "6fe2254f-d37f-4e02-bf4b-5b648e53ce6a",
   "metadata": {},
   "source": [
    "## 회귀 분석 (라벨 인코딩)"
   ]
  },
  {
   "cell_type": "markdown",
   "id": "b329ec09-6bb8-4b97-abc6-28822700355f",
   "metadata": {},
   "source": [
    "### 전처리"
   ]
  },
  {
   "cell_type": "code",
   "execution_count": 211,
   "id": "24338805-bce2-4784-b506-e7d92e51ed8b",
   "metadata": {},
   "outputs": [],
   "source": [
    "from sklearn.model_selection import train_test_split"
   ]
  },
  {
   "cell_type": "code",
   "execution_count": 212,
   "id": "f5e647b1-e78a-426a-898b-fec7e2f0d335",
   "metadata": {},
   "outputs": [],
   "source": [
    "dt = df.copy()"
   ]
  },
  {
   "cell_type": "code",
   "execution_count": 213,
   "id": "7cd6dabf-1cd0-42c0-899f-eb30ea22b2f3",
   "metadata": {},
   "outputs": [],
   "source": [
    "dt = dt.iloc[:, :-1]      ## target 제외한 데이터프레임\n",
    "target = df['Body_Mass']  ## target"
   ]
  },
  {
   "cell_type": "markdown",
   "id": "597c5943-8622-4166-9982-241ed40fa1c6",
   "metadata": {},
   "source": [
    "`-` 범주형 변수는 Species만 사용하자"
   ]
  },
  {
   "cell_type": "code",
   "execution_count": 214,
   "id": "df5bc249-e968-428e-a463-84b89db77dff",
   "metadata": {},
   "outputs": [],
   "source": [
    "dt2 = dt.drop(['Island', 'Full_Clutch', 'Sex'], axis = 1)"
   ]
  },
  {
   "cell_type": "markdown",
   "id": "5e812c15-86f9-4cd4-89f9-d64e1bfc8a44",
   "metadata": {},
   "source": [
    "`-` 라벨인코딩을 해주자"
   ]
  },
  {
   "cell_type": "code",
   "execution_count": 215,
   "id": "06836550-9a5e-4223-9907-a12ab8c04234",
   "metadata": {},
   "outputs": [
    {
     "data": {
      "text/html": [
       "<div>\n",
       "<style scoped>\n",
       "    .dataframe tbody tr th:only-of-type {\n",
       "        vertical-align: middle;\n",
       "    }\n",
       "\n",
       "    .dataframe tbody tr th {\n",
       "        vertical-align: top;\n",
       "    }\n",
       "\n",
       "    .dataframe thead th {\n",
       "        text-align: right;\n",
       "    }\n",
       "</style>\n",
       "<table border=\"1\" class=\"dataframe\">\n",
       "  <thead>\n",
       "    <tr style=\"text-align: right;\">\n",
       "      <th></th>\n",
       "      <th>Species</th>\n",
       "      <th>Culmen_Length</th>\n",
       "      <th>Culmen_Depth</th>\n",
       "      <th>Flipper_Length</th>\n",
       "      <th>DeltaN</th>\n",
       "      <th>DeltaC</th>\n",
       "    </tr>\n",
       "  </thead>\n",
       "  <tbody>\n",
       "    <tr>\n",
       "      <th>0</th>\n",
       "      <td>Gentoo penguin (Pygoscelis papua)</td>\n",
       "      <td>50.0</td>\n",
       "      <td>15.3</td>\n",
       "      <td>220</td>\n",
       "      <td>8.30515</td>\n",
       "      <td>-25.19017</td>\n",
       "    </tr>\n",
       "    <tr>\n",
       "      <th>1</th>\n",
       "      <td>Chinstrap penguin (Pygoscelis antarctica)</td>\n",
       "      <td>49.5</td>\n",
       "      <td>19.0</td>\n",
       "      <td>200</td>\n",
       "      <td>9.63074</td>\n",
       "      <td>-24.34684</td>\n",
       "    </tr>\n",
       "    <tr>\n",
       "      <th>2</th>\n",
       "      <td>Gentoo penguin (Pygoscelis papua)</td>\n",
       "      <td>45.1</td>\n",
       "      <td>14.4</td>\n",
       "      <td>210</td>\n",
       "      <td>8.51951</td>\n",
       "      <td>-27.01854</td>\n",
       "    </tr>\n",
       "    <tr>\n",
       "      <th>3</th>\n",
       "      <td>Gentoo penguin (Pygoscelis papua)</td>\n",
       "      <td>44.5</td>\n",
       "      <td>14.7</td>\n",
       "      <td>214</td>\n",
       "      <td>8.20106</td>\n",
       "      <td>-26.16524</td>\n",
       "    </tr>\n",
       "    <tr>\n",
       "      <th>4</th>\n",
       "      <td>Gentoo penguin (Pygoscelis papua)</td>\n",
       "      <td>49.6</td>\n",
       "      <td>16.0</td>\n",
       "      <td>225</td>\n",
       "      <td>8.38324</td>\n",
       "      <td>-26.84272</td>\n",
       "    </tr>\n",
       "  </tbody>\n",
       "</table>\n",
       "</div>"
      ],
      "text/plain": [
       "                                     Species  Culmen_Length  Culmen_Depth  \\\n",
       "0          Gentoo penguin (Pygoscelis papua)           50.0          15.3   \n",
       "1  Chinstrap penguin (Pygoscelis antarctica)           49.5          19.0   \n",
       "2          Gentoo penguin (Pygoscelis papua)           45.1          14.4   \n",
       "3          Gentoo penguin (Pygoscelis papua)           44.5          14.7   \n",
       "4          Gentoo penguin (Pygoscelis papua)           49.6          16.0   \n",
       "\n",
       "   Flipper_Length   DeltaN    DeltaC  \n",
       "0             220  8.30515 -25.19017  \n",
       "1             200  9.63074 -24.34684  \n",
       "2             210  8.51951 -27.01854  \n",
       "3             214  8.20106 -26.16524  \n",
       "4             225  8.38324 -26.84272  "
      ]
     },
     "execution_count": 215,
     "metadata": {},
     "output_type": "execute_result"
    }
   ],
   "source": [
    "dt2.head()"
   ]
  },
  {
   "cell_type": "code",
   "execution_count": 216,
   "id": "ff5a1f0e-2483-429d-a157-d9749fbb2348",
   "metadata": {},
   "outputs": [],
   "source": [
    "def labeling_penguin_name(name):\n",
    "    if name == 'Gentoo penguin (Pygoscelis papua)':\n",
    "        new = 2\n",
    "    elif name == 'Adelie Penguin (Pygoscelis adeliae)':\n",
    "        new = 1\n",
    "    else:\n",
    "        new = 0\n",
    "    return new"
   ]
  },
  {
   "cell_type": "code",
   "execution_count": 217,
   "id": "db34df08-6feb-44dd-974e-ce3b22c3b314",
   "metadata": {},
   "outputs": [],
   "source": [
    "dt2['Species_Label'] = list(map(labeling_penguin_name, dt2['Species']))"
   ]
  },
  {
   "cell_type": "code",
   "execution_count": 218,
   "id": "79f06b22-1d00-477e-923a-9b307db30398",
   "metadata": {},
   "outputs": [
    {
     "data": {
      "text/html": [
       "<div>\n",
       "<style scoped>\n",
       "    .dataframe tbody tr th:only-of-type {\n",
       "        vertical-align: middle;\n",
       "    }\n",
       "\n",
       "    .dataframe tbody tr th {\n",
       "        vertical-align: top;\n",
       "    }\n",
       "\n",
       "    .dataframe thead th {\n",
       "        text-align: right;\n",
       "    }\n",
       "</style>\n",
       "<table border=\"1\" class=\"dataframe\">\n",
       "  <thead>\n",
       "    <tr style=\"text-align: right;\">\n",
       "      <th></th>\n",
       "      <th>Culmen_Length</th>\n",
       "      <th>Culmen_Depth</th>\n",
       "      <th>Flipper_Length</th>\n",
       "      <th>DeltaN</th>\n",
       "      <th>DeltaC</th>\n",
       "      <th>Species_Label</th>\n",
       "    </tr>\n",
       "  </thead>\n",
       "  <tbody>\n",
       "    <tr>\n",
       "      <th>0</th>\n",
       "      <td>50.0</td>\n",
       "      <td>15.3</td>\n",
       "      <td>220</td>\n",
       "      <td>8.30515</td>\n",
       "      <td>-25.19017</td>\n",
       "      <td>2</td>\n",
       "    </tr>\n",
       "    <tr>\n",
       "      <th>1</th>\n",
       "      <td>49.5</td>\n",
       "      <td>19.0</td>\n",
       "      <td>200</td>\n",
       "      <td>9.63074</td>\n",
       "      <td>-24.34684</td>\n",
       "      <td>0</td>\n",
       "    </tr>\n",
       "    <tr>\n",
       "      <th>2</th>\n",
       "      <td>45.1</td>\n",
       "      <td>14.4</td>\n",
       "      <td>210</td>\n",
       "      <td>8.51951</td>\n",
       "      <td>-27.01854</td>\n",
       "      <td>2</td>\n",
       "    </tr>\n",
       "    <tr>\n",
       "      <th>3</th>\n",
       "      <td>44.5</td>\n",
       "      <td>14.7</td>\n",
       "      <td>214</td>\n",
       "      <td>8.20106</td>\n",
       "      <td>-26.16524</td>\n",
       "      <td>2</td>\n",
       "    </tr>\n",
       "    <tr>\n",
       "      <th>4</th>\n",
       "      <td>49.6</td>\n",
       "      <td>16.0</td>\n",
       "      <td>225</td>\n",
       "      <td>8.38324</td>\n",
       "      <td>-26.84272</td>\n",
       "      <td>2</td>\n",
       "    </tr>\n",
       "  </tbody>\n",
       "</table>\n",
       "</div>"
      ],
      "text/plain": [
       "   Culmen_Length  Culmen_Depth  Flipper_Length   DeltaN    DeltaC  \\\n",
       "0           50.0          15.3             220  8.30515 -25.19017   \n",
       "1           49.5          19.0             200  9.63074 -24.34684   \n",
       "2           45.1          14.4             210  8.51951 -27.01854   \n",
       "3           44.5          14.7             214  8.20106 -26.16524   \n",
       "4           49.6          16.0             225  8.38324 -26.84272   \n",
       "\n",
       "   Species_Label  \n",
       "0              2  \n",
       "1              0  \n",
       "2              2  \n",
       "3              2  \n",
       "4              2  "
      ]
     },
     "execution_count": 218,
     "metadata": {},
     "output_type": "execute_result"
    }
   ],
   "source": [
    "dt2.drop('Species', axis = 1, inplace = True)\n",
    "dt2.head()"
   ]
  },
  {
   "cell_type": "code",
   "execution_count": 219,
   "id": "1eb0190b-5dbf-4cd5-80b4-53b3878d0f94",
   "metadata": {},
   "outputs": [],
   "source": [
    "x_train, x_valid, y_train, y_valid = train_test_split(dt2, target, test_size = 0.2, shuffle = True,\n",
    "                                                      stratify = dt2['Species_Label'], random_state = 21)\n",
    "## 종의 비율이 train, valid 비슷하도록 세팅함"
   ]
  },
  {
   "cell_type": "markdown",
   "id": "9f7d61c1-e3e6-4571-b9e4-affc777cd717",
   "metadata": {},
   "source": [
    "`-` 위의 split한 데이터프레임을 reset_index 하게 되면 기존의 인덱스번호가 초기화됨을 잊지말자 "
   ]
  },
  {
   "cell_type": "markdown",
   "id": "140dbf0b-0b91-4030-a020-69cf0c14b3dd",
   "metadata": {},
   "source": [
    "`-` 우선 간단하게 회귀 모형을 만들어보자\n",
    "\n",
    "`-` 변수별 상관계수가 높으므로 전체 변수를 설정하여 모형을 만들고 유의하지 않은 변수 하나씩 제거하자"
   ]
  },
  {
   "cell_type": "markdown",
   "id": "8bef0520-2f48-490d-b231-e0de58cdf64e",
   "metadata": {},
   "source": [
    "### 모델 선택"
   ]
  },
  {
   "cell_type": "code",
   "execution_count": 220,
   "id": "ddc1c892-a3c0-4c75-9393-2b57e5015700",
   "metadata": {},
   "outputs": [],
   "source": [
    "import statsmodels.formula.api as smf"
   ]
  },
  {
   "cell_type": "code",
   "execution_count": 221,
   "id": "98f19754-ca40-45cf-a113-d0172fde7ff4",
   "metadata": {},
   "outputs": [
    {
     "data": {
      "text/html": [
       "<div>\n",
       "<style scoped>\n",
       "    .dataframe tbody tr th:only-of-type {\n",
       "        vertical-align: middle;\n",
       "    }\n",
       "\n",
       "    .dataframe tbody tr th {\n",
       "        vertical-align: top;\n",
       "    }\n",
       "\n",
       "    .dataframe thead th {\n",
       "        text-align: right;\n",
       "    }\n",
       "</style>\n",
       "<table border=\"1\" class=\"dataframe\">\n",
       "  <thead>\n",
       "    <tr style=\"text-align: right;\">\n",
       "      <th></th>\n",
       "      <th>Culmen_Length</th>\n",
       "      <th>Culmen_Depth</th>\n",
       "      <th>Flipper_Length</th>\n",
       "      <th>DeltaN</th>\n",
       "      <th>DeltaC</th>\n",
       "      <th>Species_Label</th>\n",
       "      <th>Body_Mass</th>\n",
       "    </tr>\n",
       "  </thead>\n",
       "  <tbody>\n",
       "    <tr>\n",
       "      <th>54</th>\n",
       "      <td>51.4</td>\n",
       "      <td>19.0</td>\n",
       "      <td>201</td>\n",
       "      <td>9.43782</td>\n",
       "      <td>-24.36202</td>\n",
       "      <td>0</td>\n",
       "      <td>3950</td>\n",
       "    </tr>\n",
       "    <tr>\n",
       "      <th>5</th>\n",
       "      <td>51.1</td>\n",
       "      <td>16.5</td>\n",
       "      <td>225</td>\n",
       "      <td>8.20660</td>\n",
       "      <td>-26.36863</td>\n",
       "      <td>2</td>\n",
       "      <td>5250</td>\n",
       "    </tr>\n",
       "    <tr>\n",
       "      <th>107</th>\n",
       "      <td>46.8</td>\n",
       "      <td>16.5</td>\n",
       "      <td>189</td>\n",
       "      <td>9.65061</td>\n",
       "      <td>-24.48153</td>\n",
       "      <td>0</td>\n",
       "      <td>3650</td>\n",
       "    </tr>\n",
       "    <tr>\n",
       "      <th>52</th>\n",
       "      <td>42.9</td>\n",
       "      <td>17.6</td>\n",
       "      <td>196</td>\n",
       "      <td>8.63259</td>\n",
       "      <td>-26.23027</td>\n",
       "      <td>1</td>\n",
       "      <td>4700</td>\n",
       "    </tr>\n",
       "    <tr>\n",
       "      <th>108</th>\n",
       "      <td>49.0</td>\n",
       "      <td>19.6</td>\n",
       "      <td>212</td>\n",
       "      <td>9.34089</td>\n",
       "      <td>-24.45189</td>\n",
       "      <td>0</td>\n",
       "      <td>4300</td>\n",
       "    </tr>\n",
       "  </tbody>\n",
       "</table>\n",
       "</div>"
      ],
      "text/plain": [
       "     Culmen_Length  Culmen_Depth  Flipper_Length   DeltaN    DeltaC  \\\n",
       "54            51.4          19.0             201  9.43782 -24.36202   \n",
       "5             51.1          16.5             225  8.20660 -26.36863   \n",
       "107           46.8          16.5             189  9.65061 -24.48153   \n",
       "52            42.9          17.6             196  8.63259 -26.23027   \n",
       "108           49.0          19.6             212  9.34089 -24.45189   \n",
       "\n",
       "     Species_Label  Body_Mass  \n",
       "54               0       3950  \n",
       "5                2       5250  \n",
       "107              0       3650  \n",
       "52               1       4700  \n",
       "108              0       4300  "
      ]
     },
     "execution_count": 221,
     "metadata": {},
     "output_type": "execute_result"
    }
   ],
   "source": [
    "tmp = pd.concat([x_train, y_train], axis = 1)\n",
    "tmp.head()"
   ]
  },
  {
   "cell_type": "code",
   "execution_count": 222,
   "id": "36ee9331-d71d-4467-bf51-4c34b3cbe644",
   "metadata": {},
   "outputs": [],
   "source": [
    "result = smf.ols(formula = 'Body_Mass ~ Culmen_Length +\\\n",
    "                 Culmen_Depth + Flipper_Length +\\\n",
    "                 DeltaN + DeltaC + Species_Label', data = tmp).fit()"
   ]
  },
  {
   "cell_type": "code",
   "execution_count": 223,
   "id": "6f3d43cf-40be-42eb-a6ae-415d2b92c791",
   "metadata": {},
   "outputs": [],
   "source": [
    "# result.summary()"
   ]
  },
  {
   "cell_type": "markdown",
   "id": "5e616cd8-771b-419d-885e-cff7d0c9fc6e",
   "metadata": {},
   "source": [
    "`-` DeltaN 변수가 가장 유의하지 않게 나온다\n",
    "\n",
    "`-` 이를 제거하고 다시 회귀분석을 실시하자"
   ]
  },
  {
   "cell_type": "code",
   "execution_count": 224,
   "id": "7496f9b0-f8f0-42f1-8924-26bf33f6ef36",
   "metadata": {},
   "outputs": [],
   "source": [
    "result2 = smf.ols(formula = 'Body_Mass ~ Culmen_Length +\\\n",
    "                 Culmen_Depth + Flipper_Length +\\\n",
    "                 + DeltaC + Species_Label', data = tmp).fit()"
   ]
  },
  {
   "cell_type": "code",
   "execution_count": 225,
   "id": "f2ecb8c3-602d-4c02-91fd-87bb786c2d93",
   "metadata": {},
   "outputs": [],
   "source": [
    "# result2.summary()"
   ]
  },
  {
   "cell_type": "markdown",
   "id": "53c59c4c-0c27-42dc-b47f-35e9ffe0699a",
   "metadata": {},
   "source": [
    "`-` DeltaC 변수가 유의하지 않게 나온다\n",
    "\n",
    "`-` 이를 제거하고 다시 회귀분석을 실시하자"
   ]
  },
  {
   "cell_type": "code",
   "execution_count": 226,
   "id": "b1a2f3ff-7d86-4929-bb05-9a988534f971",
   "metadata": {},
   "outputs": [],
   "source": [
    "result3 = smf.ols(formula = 'Body_Mass ~ Culmen_Length +\\\n",
    "                 Culmen_Depth + Flipper_Length +\\\n",
    "                 + Species_Label', data = tmp).fit()"
   ]
  },
  {
   "cell_type": "code",
   "execution_count": 227,
   "id": "798b32ec-08db-4d11-ac89-9018fdf7e44c",
   "metadata": {},
   "outputs": [],
   "source": [
    "# result3.summary()"
   ]
  },
  {
   "cell_type": "markdown",
   "id": "21e5d7df-a915-410b-877c-e13ed199f2a6",
   "metadata": {},
   "source": [
    "`-` 더 이상 유의하지 않은 변수는 없다\n",
    "\n",
    "`-` x_valid와 y_valid를 통해 모형을 평가하자"
   ]
  },
  {
   "cell_type": "markdown",
   "id": "c1e6d738-b2a1-4ddb-a748-246710bb71da",
   "metadata": {},
   "source": [
    "### 모델 평가"
   ]
  },
  {
   "cell_type": "code",
   "execution_count": 228,
   "id": "4840343e-99e2-4fff-b7ed-601f336a1527",
   "metadata": {},
   "outputs": [],
   "source": [
    "def RMSE(real, predict):\n",
    "    return np.sqrt(np.mean(np.square(real - predict)))"
   ]
  },
  {
   "cell_type": "code",
   "execution_count": 229,
   "id": "43d6d76a-149d-4115-90d8-b45235e64e28",
   "metadata": {},
   "outputs": [],
   "source": [
    "def mass_predict(dt):\n",
    "    return -4514.4208 + dt['Culmen_Length']*51.5544 + dt['Culmen_Depth']*120.1742 + dt['Flipper_Length']*18.1086 + dt['Species_Label']*680.6902"
   ]
  },
  {
   "cell_type": "code",
   "execution_count": 230,
   "id": "867e6ef0-a789-408b-8706-aac29e299d2f",
   "metadata": {},
   "outputs": [
    {
     "data": {
      "text/plain": [
       "109    3542.35220\n",
       "18     3845.44414\n",
       "63     3906.37042\n",
       "41     4248.07078\n",
       "24     3680.90772\n",
       "19     3859.05706\n",
       "dtype: float64"
      ]
     },
     "execution_count": 230,
     "metadata": {},
     "output_type": "execute_result"
    }
   ],
   "source": [
    "predict_y = mass_predict(x_valid)\n",
    "predict_y[:6]"
   ]
  },
  {
   "cell_type": "code",
   "execution_count": 231,
   "id": "d8e71269-7e85-4fa8-96b0-c570404e8640",
   "metadata": {},
   "outputs": [
    {
     "name": "stdout",
     "output_type": "stream",
     "text": [
      "이 방정식의 평균 에러는 331.42 입니다\n"
     ]
    }
   ],
   "source": [
    "# 실제 정답 값을 준비\n",
    "real_answer = y_valid.copy()\n",
    "\n",
    "# 정답과 예측 값을 함수에 넣어 결과를 확인\n",
    "error = RMSE(real_answer, predict_y)\n",
    "\n",
    "print(f'이 방정식의 평균 에러는 {error:.2f} 입니다')"
   ]
  },
  {
   "cell_type": "markdown",
   "id": "fec22324-d233-44d4-936b-673b63768eb4",
   "metadata": {},
   "source": [
    "`-` 모델 평가를 마쳤다\n",
    "\n",
    "`-` test파일을 불러와 예측하고 이를 제출하자"
   ]
  },
  {
   "cell_type": "markdown",
   "id": "54b421ac-4f57-41dc-9e45-471775182afc",
   "metadata": {},
   "source": [
    "### test 데이터 예측"
   ]
  },
  {
   "cell_type": "code",
   "execution_count": 232,
   "id": "78cfc6eb-33e5-4013-a2e1-bed17fe2f7ac",
   "metadata": {},
   "outputs": [
    {
     "data": {
      "text/html": [
       "<div>\n",
       "<style scoped>\n",
       "    .dataframe tbody tr th:only-of-type {\n",
       "        vertical-align: middle;\n",
       "    }\n",
       "\n",
       "    .dataframe tbody tr th {\n",
       "        vertical-align: top;\n",
       "    }\n",
       "\n",
       "    .dataframe thead th {\n",
       "        text-align: right;\n",
       "    }\n",
       "</style>\n",
       "<table border=\"1\" class=\"dataframe\">\n",
       "  <thead>\n",
       "    <tr style=\"text-align: right;\">\n",
       "      <th></th>\n",
       "      <th>id</th>\n",
       "      <th>Species</th>\n",
       "      <th>Island</th>\n",
       "      <th>Clutch Completion</th>\n",
       "      <th>Culmen Length (mm)</th>\n",
       "      <th>Culmen Depth (mm)</th>\n",
       "      <th>Flipper Length (mm)</th>\n",
       "      <th>Sex</th>\n",
       "      <th>Delta 15 N (o/oo)</th>\n",
       "      <th>Delta 13 C (o/oo)</th>\n",
       "    </tr>\n",
       "  </thead>\n",
       "  <tbody>\n",
       "    <tr>\n",
       "      <th>0</th>\n",
       "      <td>0</td>\n",
       "      <td>Chinstrap penguin (Pygoscelis antarctica)</td>\n",
       "      <td>Dream</td>\n",
       "      <td>Yes</td>\n",
       "      <td>52.0</td>\n",
       "      <td>20.7</td>\n",
       "      <td>210.0</td>\n",
       "      <td>MALE</td>\n",
       "      <td>9.43146</td>\n",
       "      <td>-24.68440</td>\n",
       "    </tr>\n",
       "    <tr>\n",
       "      <th>1</th>\n",
       "      <td>1</td>\n",
       "      <td>Gentoo penguin (Pygoscelis papua)</td>\n",
       "      <td>Biscoe</td>\n",
       "      <td>Yes</td>\n",
       "      <td>55.9</td>\n",
       "      <td>17.0</td>\n",
       "      <td>228.0</td>\n",
       "      <td>MALE</td>\n",
       "      <td>8.31180</td>\n",
       "      <td>-26.35425</td>\n",
       "    </tr>\n",
       "    <tr>\n",
       "      <th>2</th>\n",
       "      <td>2</td>\n",
       "      <td>Adelie Penguin (Pygoscelis adeliae)</td>\n",
       "      <td>Dream</td>\n",
       "      <td>Yes</td>\n",
       "      <td>38.9</td>\n",
       "      <td>18.8</td>\n",
       "      <td>190.0</td>\n",
       "      <td>FEMALE</td>\n",
       "      <td>8.36936</td>\n",
       "      <td>-26.11199</td>\n",
       "    </tr>\n",
       "    <tr>\n",
       "      <th>3</th>\n",
       "      <td>3</td>\n",
       "      <td>Chinstrap penguin (Pygoscelis antarctica)</td>\n",
       "      <td>Dream</td>\n",
       "      <td>Yes</td>\n",
       "      <td>45.2</td>\n",
       "      <td>16.6</td>\n",
       "      <td>191.0</td>\n",
       "      <td>FEMALE</td>\n",
       "      <td>9.62357</td>\n",
       "      <td>-24.78984</td>\n",
       "    </tr>\n",
       "    <tr>\n",
       "      <th>4</th>\n",
       "      <td>4</td>\n",
       "      <td>Adelie Penguin (Pygoscelis adeliae)</td>\n",
       "      <td>Biscoe</td>\n",
       "      <td>No</td>\n",
       "      <td>37.9</td>\n",
       "      <td>18.6</td>\n",
       "      <td>172.0</td>\n",
       "      <td>FEMALE</td>\n",
       "      <td>8.38404</td>\n",
       "      <td>-25.19837</td>\n",
       "    </tr>\n",
       "  </tbody>\n",
       "</table>\n",
       "</div>"
      ],
      "text/plain": [
       "   id                                    Species  Island Clutch Completion  \\\n",
       "0   0  Chinstrap penguin (Pygoscelis antarctica)   Dream               Yes   \n",
       "1   1          Gentoo penguin (Pygoscelis papua)  Biscoe               Yes   \n",
       "2   2        Adelie Penguin (Pygoscelis adeliae)   Dream               Yes   \n",
       "3   3  Chinstrap penguin (Pygoscelis antarctica)   Dream               Yes   \n",
       "4   4        Adelie Penguin (Pygoscelis adeliae)  Biscoe                No   \n",
       "\n",
       "   Culmen Length (mm)  Culmen Depth (mm)  Flipper Length (mm)     Sex  \\\n",
       "0                52.0               20.7                210.0    MALE   \n",
       "1                55.9               17.0                228.0    MALE   \n",
       "2                38.9               18.8                190.0  FEMALE   \n",
       "3                45.2               16.6                191.0  FEMALE   \n",
       "4                37.9               18.6                172.0  FEMALE   \n",
       "\n",
       "   Delta 15 N (o/oo)  Delta 13 C (o/oo)  \n",
       "0            9.43146          -24.68440  \n",
       "1            8.31180          -26.35425  \n",
       "2            8.36936          -26.11199  \n",
       "3            9.62357          -24.78984  \n",
       "4            8.38404          -25.19837  "
      ]
     },
     "execution_count": 232,
     "metadata": {},
     "output_type": "execute_result"
    }
   ],
   "source": [
    "test = pd.read_csv('C:/Users/Jaesu/Dacon-Basic/뗑컨-몸무게-예측/Data/test.csv')\n",
    "test.head()"
   ]
  },
  {
   "cell_type": "code",
   "execution_count": 233,
   "id": "d9bbd124-50d9-4337-903c-f054b5d06efc",
   "metadata": {},
   "outputs": [
    {
     "data": {
      "text/plain": [
       "id                     0\n",
       "Species                0\n",
       "Island                 0\n",
       "Clutch Completion      0\n",
       "Culmen Length (mm)     0\n",
       "Culmen Depth (mm)      0\n",
       "Flipper Length (mm)    0\n",
       "Sex                    6\n",
       "Delta 15 N (o/oo)      9\n",
       "Delta 13 C (o/oo)      8\n",
       "dtype: int64"
      ]
     },
     "execution_count": 233,
     "metadata": {},
     "output_type": "execute_result"
    }
   ],
   "source": [
    "test.isnull().sum()"
   ]
  },
  {
   "cell_type": "markdown",
   "id": "66df0a5c-2b19-4ad5-afc9-b97021fea87f",
   "metadata": {},
   "source": [
    "`-` test 데이터에 NA가 존재하지만 어짜피 사용하지 않는 변수이므로 무시해도 된다"
   ]
  },
  {
   "cell_type": "code",
   "execution_count": 234,
   "id": "37e3da02-edb1-4c91-bee4-43478256da6c",
   "metadata": {},
   "outputs": [],
   "source": [
    "test.rename(columns = {'Clutch Completion':'Full_Clutch', 'Culmen Length (mm)':'Culmen_Length', \n",
    "                     'Culmen Depth (mm)':'Culmen_Depth', 'Flipper Length (mm)':'Flipper_Length',\n",
    "                     'Delta 15 N (o/oo)':'DeltaN', 'Delta 13 C (o/oo)':'DeltaC', 'Body Mass (g)':'Body_Mass'}, inplace = True) ## 열 이름 변경"
   ]
  },
  {
   "cell_type": "code",
   "execution_count": 235,
   "id": "3e416622-7029-4591-9bab-96b602b3f394",
   "metadata": {},
   "outputs": [],
   "source": [
    "test['Species_Label'] = list(map(labeling_penguin_name, test['Species']))"
   ]
  },
  {
   "cell_type": "code",
   "execution_count": 236,
   "id": "8c19912b-283f-4e80-b58f-7789b3fa791e",
   "metadata": {},
   "outputs": [
    {
     "data": {
      "text/html": [
       "<div>\n",
       "<style scoped>\n",
       "    .dataframe tbody tr th:only-of-type {\n",
       "        vertical-align: middle;\n",
       "    }\n",
       "\n",
       "    .dataframe tbody tr th {\n",
       "        vertical-align: top;\n",
       "    }\n",
       "\n",
       "    .dataframe thead th {\n",
       "        text-align: right;\n",
       "    }\n",
       "</style>\n",
       "<table border=\"1\" class=\"dataframe\">\n",
       "  <thead>\n",
       "    <tr style=\"text-align: right;\">\n",
       "      <th></th>\n",
       "      <th>id</th>\n",
       "      <th>Species</th>\n",
       "      <th>Island</th>\n",
       "      <th>Full_Clutch</th>\n",
       "      <th>Culmen_Length</th>\n",
       "      <th>Culmen_Depth</th>\n",
       "      <th>Flipper_Length</th>\n",
       "      <th>Sex</th>\n",
       "      <th>DeltaN</th>\n",
       "      <th>DeltaC</th>\n",
       "      <th>Species_Label</th>\n",
       "    </tr>\n",
       "  </thead>\n",
       "  <tbody>\n",
       "    <tr>\n",
       "      <th>0</th>\n",
       "      <td>0</td>\n",
       "      <td>Chinstrap penguin (Pygoscelis antarctica)</td>\n",
       "      <td>Dream</td>\n",
       "      <td>Yes</td>\n",
       "      <td>52.0</td>\n",
       "      <td>20.7</td>\n",
       "      <td>210.0</td>\n",
       "      <td>MALE</td>\n",
       "      <td>9.43146</td>\n",
       "      <td>-24.68440</td>\n",
       "      <td>0</td>\n",
       "    </tr>\n",
       "    <tr>\n",
       "      <th>1</th>\n",
       "      <td>1</td>\n",
       "      <td>Gentoo penguin (Pygoscelis papua)</td>\n",
       "      <td>Biscoe</td>\n",
       "      <td>Yes</td>\n",
       "      <td>55.9</td>\n",
       "      <td>17.0</td>\n",
       "      <td>228.0</td>\n",
       "      <td>MALE</td>\n",
       "      <td>8.31180</td>\n",
       "      <td>-26.35425</td>\n",
       "      <td>2</td>\n",
       "    </tr>\n",
       "    <tr>\n",
       "      <th>2</th>\n",
       "      <td>2</td>\n",
       "      <td>Adelie Penguin (Pygoscelis adeliae)</td>\n",
       "      <td>Dream</td>\n",
       "      <td>Yes</td>\n",
       "      <td>38.9</td>\n",
       "      <td>18.8</td>\n",
       "      <td>190.0</td>\n",
       "      <td>FEMALE</td>\n",
       "      <td>8.36936</td>\n",
       "      <td>-26.11199</td>\n",
       "      <td>1</td>\n",
       "    </tr>\n",
       "    <tr>\n",
       "      <th>3</th>\n",
       "      <td>3</td>\n",
       "      <td>Chinstrap penguin (Pygoscelis antarctica)</td>\n",
       "      <td>Dream</td>\n",
       "      <td>Yes</td>\n",
       "      <td>45.2</td>\n",
       "      <td>16.6</td>\n",
       "      <td>191.0</td>\n",
       "      <td>FEMALE</td>\n",
       "      <td>9.62357</td>\n",
       "      <td>-24.78984</td>\n",
       "      <td>0</td>\n",
       "    </tr>\n",
       "    <tr>\n",
       "      <th>4</th>\n",
       "      <td>4</td>\n",
       "      <td>Adelie Penguin (Pygoscelis adeliae)</td>\n",
       "      <td>Biscoe</td>\n",
       "      <td>No</td>\n",
       "      <td>37.9</td>\n",
       "      <td>18.6</td>\n",
       "      <td>172.0</td>\n",
       "      <td>FEMALE</td>\n",
       "      <td>8.38404</td>\n",
       "      <td>-25.19837</td>\n",
       "      <td>1</td>\n",
       "    </tr>\n",
       "  </tbody>\n",
       "</table>\n",
       "</div>"
      ],
      "text/plain": [
       "   id                                    Species  Island Full_Clutch  \\\n",
       "0   0  Chinstrap penguin (Pygoscelis antarctica)   Dream         Yes   \n",
       "1   1          Gentoo penguin (Pygoscelis papua)  Biscoe         Yes   \n",
       "2   2        Adelie Penguin (Pygoscelis adeliae)   Dream         Yes   \n",
       "3   3  Chinstrap penguin (Pygoscelis antarctica)   Dream         Yes   \n",
       "4   4        Adelie Penguin (Pygoscelis adeliae)  Biscoe          No   \n",
       "\n",
       "   Culmen_Length  Culmen_Depth  Flipper_Length     Sex   DeltaN    DeltaC  \\\n",
       "0           52.0          20.7           210.0    MALE  9.43146 -24.68440   \n",
       "1           55.9          17.0           228.0    MALE  8.31180 -26.35425   \n",
       "2           38.9          18.8           190.0  FEMALE  8.36936 -26.11199   \n",
       "3           45.2          16.6           191.0  FEMALE  9.62357 -24.78984   \n",
       "4           37.9          18.6           172.0  FEMALE  8.38404 -25.19837   \n",
       "\n",
       "   Species_Label  \n",
       "0              0  \n",
       "1              2  \n",
       "2              1  \n",
       "3              0  \n",
       "4              1  "
      ]
     },
     "execution_count": 236,
     "metadata": {},
     "output_type": "execute_result"
    }
   ],
   "source": [
    "test.head()"
   ]
  },
  {
   "cell_type": "code",
   "execution_count": 237,
   "id": "50870d3c-a8b9-496c-94ea-4f26db53fc30",
   "metadata": {},
   "outputs": [
    {
     "data": {
      "text/plain": [
       "0    4456.81994\n",
       "1    5900.57276\n",
       "2    3871.64452\n",
       "3    3269.47240\n",
       "4    3470.10048\n",
       "5    4149.33944\n",
       "dtype: float64"
      ]
     },
     "execution_count": 237,
     "metadata": {},
     "output_type": "execute_result"
    }
   ],
   "source": [
    "# 예측을 진행\n",
    "predict_test = mass_predict(test)\n",
    "\n",
    "# 예측 결과를 확인\n",
    "predict_test[:6]"
   ]
  },
  {
   "cell_type": "markdown",
   "id": "45d40b29-25c6-4dbb-b133-4d0b1d51e198",
   "metadata": {},
   "source": [
    "### dacon 대회에 제출하기"
   ]
  },
  {
   "cell_type": "code",
   "execution_count": 42,
   "id": "5d4acd16-8a85-49df-b82c-621fb855d22f",
   "metadata": {},
   "outputs": [
    {
     "data": {
      "text/html": [
       "<div>\n",
       "<style scoped>\n",
       "    .dataframe tbody tr th:only-of-type {\n",
       "        vertical-align: middle;\n",
       "    }\n",
       "\n",
       "    .dataframe tbody tr th {\n",
       "        vertical-align: top;\n",
       "    }\n",
       "\n",
       "    .dataframe thead th {\n",
       "        text-align: right;\n",
       "    }\n",
       "</style>\n",
       "<table border=\"1\" class=\"dataframe\">\n",
       "  <thead>\n",
       "    <tr style=\"text-align: right;\">\n",
       "      <th></th>\n",
       "      <th>id</th>\n",
       "      <th>Body Mass (g)</th>\n",
       "    </tr>\n",
       "  </thead>\n",
       "  <tbody>\n",
       "    <tr>\n",
       "      <th>0</th>\n",
       "      <td>0</td>\n",
       "      <td>0</td>\n",
       "    </tr>\n",
       "    <tr>\n",
       "      <th>1</th>\n",
       "      <td>1</td>\n",
       "      <td>0</td>\n",
       "    </tr>\n",
       "    <tr>\n",
       "      <th>2</th>\n",
       "      <td>2</td>\n",
       "      <td>0</td>\n",
       "    </tr>\n",
       "    <tr>\n",
       "      <th>3</th>\n",
       "      <td>3</td>\n",
       "      <td>0</td>\n",
       "    </tr>\n",
       "    <tr>\n",
       "      <th>4</th>\n",
       "      <td>4</td>\n",
       "      <td>0</td>\n",
       "    </tr>\n",
       "  </tbody>\n",
       "</table>\n",
       "</div>"
      ],
      "text/plain": [
       "   id  Body Mass (g)\n",
       "0   0              0\n",
       "1   1              0\n",
       "2   2              0\n",
       "3   3              0\n",
       "4   4              0"
      ]
     },
     "execution_count": 42,
     "metadata": {},
     "output_type": "execute_result"
    }
   ],
   "source": [
    "# 제출용 sample 파일을 불러옴\n",
    "submission = pd.read_csv('C:/Users/Jaesu/Dacon-Basic/뗑컨-몸무게-예측/Data/sample_submission.csv')\n",
    "submission.head()"
   ]
  },
  {
   "cell_type": "code",
   "execution_count": 43,
   "id": "f7217c74-e8ae-4770-9273-7662dc348712",
   "metadata": {},
   "outputs": [
    {
     "data": {
      "text/html": [
       "<div>\n",
       "<style scoped>\n",
       "    .dataframe tbody tr th:only-of-type {\n",
       "        vertical-align: middle;\n",
       "    }\n",
       "\n",
       "    .dataframe tbody tr th {\n",
       "        vertical-align: top;\n",
       "    }\n",
       "\n",
       "    .dataframe thead th {\n",
       "        text-align: right;\n",
       "    }\n",
       "</style>\n",
       "<table border=\"1\" class=\"dataframe\">\n",
       "  <thead>\n",
       "    <tr style=\"text-align: right;\">\n",
       "      <th></th>\n",
       "      <th>id</th>\n",
       "      <th>Body Mass (g)</th>\n",
       "    </tr>\n",
       "  </thead>\n",
       "  <tbody>\n",
       "    <tr>\n",
       "      <th>0</th>\n",
       "      <td>0</td>\n",
       "      <td>4456.81994</td>\n",
       "    </tr>\n",
       "    <tr>\n",
       "      <th>1</th>\n",
       "      <td>1</td>\n",
       "      <td>5900.57276</td>\n",
       "    </tr>\n",
       "    <tr>\n",
       "      <th>2</th>\n",
       "      <td>2</td>\n",
       "      <td>3871.64452</td>\n",
       "    </tr>\n",
       "    <tr>\n",
       "      <th>3</th>\n",
       "      <td>3</td>\n",
       "      <td>3269.47240</td>\n",
       "    </tr>\n",
       "    <tr>\n",
       "      <th>4</th>\n",
       "      <td>4</td>\n",
       "      <td>3470.10048</td>\n",
       "    </tr>\n",
       "  </tbody>\n",
       "</table>\n",
       "</div>"
      ],
      "text/plain": [
       "   id  Body Mass (g)\n",
       "0   0     4456.81994\n",
       "1   1     5900.57276\n",
       "2   2     3871.64452\n",
       "3   3     3269.47240\n",
       "4   4     3470.10048"
      ]
     },
     "execution_count": 43,
     "metadata": {},
     "output_type": "execute_result"
    }
   ],
   "source": [
    "# 위에서 구한 예측값을 그대로 넣음\n",
    "submission['Body Mass (g)'] = predict_test\n",
    "\n",
    "# 데이터가 잘 들어갔는지 확인\n",
    "submission.head()"
   ]
  },
  {
   "cell_type": "code",
   "execution_count": 370,
   "id": "ba84fa8c-2c27-4062-b24a-06f9be88fbec",
   "metadata": {},
   "outputs": [],
   "source": [
    "# submission을 csv 파일로 저장\n",
    "submission.to_csv('C:/Users/Jaesu/Dacon-Basic/뗑컨-몸무게-예측/Data/submission.csv', index = False)"
   ]
  },
  {
   "cell_type": "markdown",
   "id": "33ebdf4e-9bf3-4759-bdcf-6a1ab7f8a80c",
   "metadata": {},
   "source": [
    "`-` 점수는 329.2286192974"
   ]
  },
  {
   "cell_type": "markdown",
   "id": "521e0106-3b3a-4b99-8f9a-39efa42d6bc3",
   "metadata": {
    "tags": []
   },
   "source": [
    "## 회귀 분석 (원핫인코딩) + 정규화\n",
    "\n",
    "`-` 라벨 인코딩과 원핫인코딩 모델간의 성능차이를 확인해보자"
   ]
  },
  {
   "cell_type": "markdown",
   "id": "e6f4ed93-e542-4b79-945d-9348f94566a8",
   "metadata": {},
   "source": [
    "### 전처리"
   ]
  },
  {
   "cell_type": "markdown",
   "id": "390e65bc-ae50-4a65-bf94-dbdd140dcbf6",
   "metadata": {},
   "source": [
    "`-` Species 변수를 수치형으로 변경해주기 위해 원핫인코딩 해주자"
   ]
  },
  {
   "cell_type": "code",
   "execution_count": 238,
   "id": "453beea1-ce95-47ff-a07d-a521db055f1f",
   "metadata": {},
   "outputs": [],
   "source": [
    "dt3 = dt.drop(['Island', 'Full_Clutch', 'Sex'], axis = 1)"
   ]
  },
  {
   "cell_type": "code",
   "execution_count": 239,
   "id": "624fac70-f218-44d5-9d46-4b7590453357",
   "metadata": {},
   "outputs": [
    {
     "data": {
      "text/html": [
       "<div>\n",
       "<style scoped>\n",
       "    .dataframe tbody tr th:only-of-type {\n",
       "        vertical-align: middle;\n",
       "    }\n",
       "\n",
       "    .dataframe tbody tr th {\n",
       "        vertical-align: top;\n",
       "    }\n",
       "\n",
       "    .dataframe thead th {\n",
       "        text-align: right;\n",
       "    }\n",
       "</style>\n",
       "<table border=\"1\" class=\"dataframe\">\n",
       "  <thead>\n",
       "    <tr style=\"text-align: right;\">\n",
       "      <th></th>\n",
       "      <th>Species</th>\n",
       "      <th>Culmen_Length</th>\n",
       "      <th>Culmen_Depth</th>\n",
       "      <th>Flipper_Length</th>\n",
       "      <th>DeltaN</th>\n",
       "      <th>DeltaC</th>\n",
       "    </tr>\n",
       "  </thead>\n",
       "  <tbody>\n",
       "    <tr>\n",
       "      <th>0</th>\n",
       "      <td>Gentoo penguin (Pygoscelis papua)</td>\n",
       "      <td>50.0</td>\n",
       "      <td>15.3</td>\n",
       "      <td>220</td>\n",
       "      <td>8.30515</td>\n",
       "      <td>-25.19017</td>\n",
       "    </tr>\n",
       "    <tr>\n",
       "      <th>1</th>\n",
       "      <td>Chinstrap penguin (Pygoscelis antarctica)</td>\n",
       "      <td>49.5</td>\n",
       "      <td>19.0</td>\n",
       "      <td>200</td>\n",
       "      <td>9.63074</td>\n",
       "      <td>-24.34684</td>\n",
       "    </tr>\n",
       "    <tr>\n",
       "      <th>2</th>\n",
       "      <td>Gentoo penguin (Pygoscelis papua)</td>\n",
       "      <td>45.1</td>\n",
       "      <td>14.4</td>\n",
       "      <td>210</td>\n",
       "      <td>8.51951</td>\n",
       "      <td>-27.01854</td>\n",
       "    </tr>\n",
       "    <tr>\n",
       "      <th>3</th>\n",
       "      <td>Gentoo penguin (Pygoscelis papua)</td>\n",
       "      <td>44.5</td>\n",
       "      <td>14.7</td>\n",
       "      <td>214</td>\n",
       "      <td>8.20106</td>\n",
       "      <td>-26.16524</td>\n",
       "    </tr>\n",
       "    <tr>\n",
       "      <th>4</th>\n",
       "      <td>Gentoo penguin (Pygoscelis papua)</td>\n",
       "      <td>49.6</td>\n",
       "      <td>16.0</td>\n",
       "      <td>225</td>\n",
       "      <td>8.38324</td>\n",
       "      <td>-26.84272</td>\n",
       "    </tr>\n",
       "  </tbody>\n",
       "</table>\n",
       "</div>"
      ],
      "text/plain": [
       "                                     Species  Culmen_Length  Culmen_Depth  \\\n",
       "0          Gentoo penguin (Pygoscelis papua)           50.0          15.3   \n",
       "1  Chinstrap penguin (Pygoscelis antarctica)           49.5          19.0   \n",
       "2          Gentoo penguin (Pygoscelis papua)           45.1          14.4   \n",
       "3          Gentoo penguin (Pygoscelis papua)           44.5          14.7   \n",
       "4          Gentoo penguin (Pygoscelis papua)           49.6          16.0   \n",
       "\n",
       "   Flipper_Length   DeltaN    DeltaC  \n",
       "0             220  8.30515 -25.19017  \n",
       "1             200  9.63074 -24.34684  \n",
       "2             210  8.51951 -27.01854  \n",
       "3             214  8.20106 -26.16524  \n",
       "4             225  8.38324 -26.84272  "
      ]
     },
     "execution_count": 239,
     "metadata": {},
     "output_type": "execute_result"
    }
   ],
   "source": [
    "dt3.head()"
   ]
  },
  {
   "cell_type": "code",
   "execution_count": 240,
   "id": "9f495cca-d62b-492a-8bfa-cedf21eb25aa",
   "metadata": {},
   "outputs": [
    {
     "data": {
      "text/html": [
       "<div>\n",
       "<style scoped>\n",
       "    .dataframe tbody tr th:only-of-type {\n",
       "        vertical-align: middle;\n",
       "    }\n",
       "\n",
       "    .dataframe tbody tr th {\n",
       "        vertical-align: top;\n",
       "    }\n",
       "\n",
       "    .dataframe thead th {\n",
       "        text-align: right;\n",
       "    }\n",
       "</style>\n",
       "<table border=\"1\" class=\"dataframe\">\n",
       "  <thead>\n",
       "    <tr style=\"text-align: right;\">\n",
       "      <th></th>\n",
       "      <th>Adelie Penguin (Pygoscelis adeliae)</th>\n",
       "      <th>Chinstrap penguin (Pygoscelis antarctica)</th>\n",
       "      <th>Gentoo penguin (Pygoscelis papua)</th>\n",
       "    </tr>\n",
       "  </thead>\n",
       "  <tbody>\n",
       "    <tr>\n",
       "      <th>0</th>\n",
       "      <td>0</td>\n",
       "      <td>0</td>\n",
       "      <td>1</td>\n",
       "    </tr>\n",
       "    <tr>\n",
       "      <th>1</th>\n",
       "      <td>0</td>\n",
       "      <td>1</td>\n",
       "      <td>0</td>\n",
       "    </tr>\n",
       "    <tr>\n",
       "      <th>2</th>\n",
       "      <td>0</td>\n",
       "      <td>0</td>\n",
       "      <td>1</td>\n",
       "    </tr>\n",
       "    <tr>\n",
       "      <th>3</th>\n",
       "      <td>0</td>\n",
       "      <td>0</td>\n",
       "      <td>1</td>\n",
       "    </tr>\n",
       "    <tr>\n",
       "      <th>4</th>\n",
       "      <td>0</td>\n",
       "      <td>0</td>\n",
       "      <td>1</td>\n",
       "    </tr>\n",
       "  </tbody>\n",
       "</table>\n",
       "</div>"
      ],
      "text/plain": [
       "   Adelie Penguin (Pygoscelis adeliae)  \\\n",
       "0                                    0   \n",
       "1                                    0   \n",
       "2                                    0   \n",
       "3                                    0   \n",
       "4                                    0   \n",
       "\n",
       "   Chinstrap penguin (Pygoscelis antarctica)  \\\n",
       "0                                          0   \n",
       "1                                          1   \n",
       "2                                          0   \n",
       "3                                          0   \n",
       "4                                          0   \n",
       "\n",
       "   Gentoo penguin (Pygoscelis papua)  \n",
       "0                                  1  \n",
       "1                                  0  \n",
       "2                                  1  \n",
       "3                                  1  \n",
       "4                                  1  "
      ]
     },
     "execution_count": 240,
     "metadata": {},
     "output_type": "execute_result"
    }
   ],
   "source": [
    "dummy = pd.get_dummies(dt3['Species'])\n",
    "dummy.head()"
   ]
  },
  {
   "cell_type": "code",
   "execution_count": 241,
   "id": "4f38b51b-626d-40b5-8e7a-41ecd0418211",
   "metadata": {},
   "outputs": [],
   "source": [
    "dt3 = pd.concat([dt3, dummy], axis = 1)"
   ]
  },
  {
   "cell_type": "code",
   "execution_count": 242,
   "id": "bc6823e5-9c7c-42ef-b10c-94e8f43ba7f0",
   "metadata": {},
   "outputs": [],
   "source": [
    "dt3.rename(columns = {'Adelie Penguin (Pygoscelis adeliae)':'Adelie',\n",
    "                          'Chinstrap penguin (Pygoscelis antarctica)':'Chinstrap',\n",
    "                          'Gentoo penguin (Pygoscelis papua)':'Gentoo'}, inplace = True)"
   ]
  },
  {
   "cell_type": "code",
   "execution_count": 243,
   "id": "76705b8e-fd00-486e-ad28-680b7de26812",
   "metadata": {},
   "outputs": [
    {
     "data": {
      "text/html": [
       "<div>\n",
       "<style scoped>\n",
       "    .dataframe tbody tr th:only-of-type {\n",
       "        vertical-align: middle;\n",
       "    }\n",
       "\n",
       "    .dataframe tbody tr th {\n",
       "        vertical-align: top;\n",
       "    }\n",
       "\n",
       "    .dataframe thead th {\n",
       "        text-align: right;\n",
       "    }\n",
       "</style>\n",
       "<table border=\"1\" class=\"dataframe\">\n",
       "  <thead>\n",
       "    <tr style=\"text-align: right;\">\n",
       "      <th></th>\n",
       "      <th>Species</th>\n",
       "      <th>Culmen_Length</th>\n",
       "      <th>Culmen_Depth</th>\n",
       "      <th>Flipper_Length</th>\n",
       "      <th>DeltaN</th>\n",
       "      <th>DeltaC</th>\n",
       "      <th>Adelie</th>\n",
       "      <th>Chinstrap</th>\n",
       "      <th>Gentoo</th>\n",
       "    </tr>\n",
       "  </thead>\n",
       "  <tbody>\n",
       "    <tr>\n",
       "      <th>0</th>\n",
       "      <td>Gentoo penguin (Pygoscelis papua)</td>\n",
       "      <td>50.0</td>\n",
       "      <td>15.3</td>\n",
       "      <td>220</td>\n",
       "      <td>8.30515</td>\n",
       "      <td>-25.19017</td>\n",
       "      <td>0</td>\n",
       "      <td>0</td>\n",
       "      <td>1</td>\n",
       "    </tr>\n",
       "    <tr>\n",
       "      <th>1</th>\n",
       "      <td>Chinstrap penguin (Pygoscelis antarctica)</td>\n",
       "      <td>49.5</td>\n",
       "      <td>19.0</td>\n",
       "      <td>200</td>\n",
       "      <td>9.63074</td>\n",
       "      <td>-24.34684</td>\n",
       "      <td>0</td>\n",
       "      <td>1</td>\n",
       "      <td>0</td>\n",
       "    </tr>\n",
       "    <tr>\n",
       "      <th>2</th>\n",
       "      <td>Gentoo penguin (Pygoscelis papua)</td>\n",
       "      <td>45.1</td>\n",
       "      <td>14.4</td>\n",
       "      <td>210</td>\n",
       "      <td>8.51951</td>\n",
       "      <td>-27.01854</td>\n",
       "      <td>0</td>\n",
       "      <td>0</td>\n",
       "      <td>1</td>\n",
       "    </tr>\n",
       "    <tr>\n",
       "      <th>3</th>\n",
       "      <td>Gentoo penguin (Pygoscelis papua)</td>\n",
       "      <td>44.5</td>\n",
       "      <td>14.7</td>\n",
       "      <td>214</td>\n",
       "      <td>8.20106</td>\n",
       "      <td>-26.16524</td>\n",
       "      <td>0</td>\n",
       "      <td>0</td>\n",
       "      <td>1</td>\n",
       "    </tr>\n",
       "    <tr>\n",
       "      <th>4</th>\n",
       "      <td>Gentoo penguin (Pygoscelis papua)</td>\n",
       "      <td>49.6</td>\n",
       "      <td>16.0</td>\n",
       "      <td>225</td>\n",
       "      <td>8.38324</td>\n",
       "      <td>-26.84272</td>\n",
       "      <td>0</td>\n",
       "      <td>0</td>\n",
       "      <td>1</td>\n",
       "    </tr>\n",
       "  </tbody>\n",
       "</table>\n",
       "</div>"
      ],
      "text/plain": [
       "                                     Species  Culmen_Length  Culmen_Depth  \\\n",
       "0          Gentoo penguin (Pygoscelis papua)           50.0          15.3   \n",
       "1  Chinstrap penguin (Pygoscelis antarctica)           49.5          19.0   \n",
       "2          Gentoo penguin (Pygoscelis papua)           45.1          14.4   \n",
       "3          Gentoo penguin (Pygoscelis papua)           44.5          14.7   \n",
       "4          Gentoo penguin (Pygoscelis papua)           49.6          16.0   \n",
       "\n",
       "   Flipper_Length   DeltaN    DeltaC  Adelie  Chinstrap  Gentoo  \n",
       "0             220  8.30515 -25.19017       0          0       1  \n",
       "1             200  9.63074 -24.34684       0          1       0  \n",
       "2             210  8.51951 -27.01854       0          0       1  \n",
       "3             214  8.20106 -26.16524       0          0       1  \n",
       "4             225  8.38324 -26.84272       0          0       1  "
      ]
     },
     "execution_count": 243,
     "metadata": {},
     "output_type": "execute_result"
    }
   ],
   "source": [
    "dt3.head()"
   ]
  },
  {
   "cell_type": "code",
   "execution_count": 52,
   "id": "495cb249-4b07-4100-82a4-edf4419e0366",
   "metadata": {},
   "outputs": [],
   "source": [
    "x_train, x_valid, y_train, y_valid = train_test_split(dt3, target, test_size = 0.2, shuffle = True,\n",
    "                                                      stratify = dt3['Species'], random_state = 21)\n",
    "## 종의 비율이 train, valid 비슷하도록 세팅함"
   ]
  },
  {
   "cell_type": "code",
   "execution_count": 53,
   "id": "5f25c081-510f-4d64-b27c-69ad9787303d",
   "metadata": {},
   "outputs": [],
   "source": [
    "x_train.drop('Species', axis = 1, inplace = True)\n",
    "x_valid.drop('Species', axis = 1, inplace = True)"
   ]
  },
  {
   "cell_type": "markdown",
   "id": "9a2cc28c-94df-4252-98f3-f6f826e97a71",
   "metadata": {},
   "source": [
    "`-` 정규화를 시켜주자(최대값 $1$, 최소값 $-1$)\n",
    "\n",
    "`-` 표준화는 회귀보단 분류에 적합하고 정규화는 분류보단 회귀에 적합하다고 한다\n",
    "\n",
    "`-` 둘다 이상점에 민감하다"
   ]
  },
  {
   "cell_type": "markdown",
   "id": "832747b1-6abe-476a-ad90-952a7b740a94",
   "metadata": {},
   "source": [
    "`-` 그런데 생각해보니 test 데이터셋은 스케일링을 못함\n",
    "\n",
    "`-` 그런데 회귀모형은 스케일링된 계수에 의해 추정됨\n",
    "\n",
    "`-` 예측하려면 스케일링을 하면 안되겠음\n",
    "\n",
    "`-` 어짜피 회귀모형은 스케일링 하든 안하든 똑같다\n",
    "\n",
    "`-` train셋에서 사용한 스케일링을 그래도 test셋에다 사용하면 된다(오차는 있지만...)"
   ]
  },
  {
   "cell_type": "code",
   "execution_count": 54,
   "id": "ba32dd9a-e9b4-4581-b642-54590beaea65",
   "metadata": {},
   "outputs": [],
   "source": [
    "from sklearn.preprocessing import MinMaxScaler\n",
    "\n",
    "## 스케일러 생성\n",
    "minmax_scaler = MinMaxScaler()\n",
    "minmax_scaler.fit(x_train)\n",
    "\n",
    "## 트레인집합 정규화\n",
    "x_train_scaled = minmax_scaler.transform(x_train)\n",
    "x_train_scaled_df = pd.DataFrame(data = x_train_scaled, columns = x_train.columns)\n",
    "\n",
    "## 테스트집합 정규화\n",
    "x_valid_scaled = minmax_scaler.transform(x_valid) ## x_train에서 학습한 정규화방식을 그대로 x_valid에 적용\n",
    "x_valid_scaled_df = pd.DataFrame(data = x_valid_scaled, columns = x_valid.columns)"
   ]
  },
  {
   "cell_type": "code",
   "execution_count": 55,
   "id": "f15be06f-3039-4b74-a4a1-0ca083bd3be9",
   "metadata": {},
   "outputs": [],
   "source": [
    "x_train_scaled_df['Body_Mass'] = list(y_train)"
   ]
  },
  {
   "cell_type": "code",
   "execution_count": 62,
   "id": "c4478bb8-4290-46b7-9429-5931de7a4864",
   "metadata": {},
   "outputs": [
    {
     "data": {
      "text/html": [
       "<div>\n",
       "<style scoped>\n",
       "    .dataframe tbody tr th:only-of-type {\n",
       "        vertical-align: middle;\n",
       "    }\n",
       "\n",
       "    .dataframe tbody tr th {\n",
       "        vertical-align: top;\n",
       "    }\n",
       "\n",
       "    .dataframe thead th {\n",
       "        text-align: right;\n",
       "    }\n",
       "</style>\n",
       "<table border=\"1\" class=\"dataframe\">\n",
       "  <thead>\n",
       "    <tr style=\"text-align: right;\">\n",
       "      <th></th>\n",
       "      <th>Culmen_Length</th>\n",
       "      <th>Culmen_Depth</th>\n",
       "      <th>Flipper_Length</th>\n",
       "      <th>DeltaN</th>\n",
       "      <th>DeltaC</th>\n",
       "      <th>Adelie</th>\n",
       "      <th>Chinstrap</th>\n",
       "      <th>Gentoo</th>\n",
       "      <th>Body_Mass</th>\n",
       "    </tr>\n",
       "  </thead>\n",
       "  <tbody>\n",
       "    <tr>\n",
       "      <th>0</th>\n",
       "      <td>0.745370</td>\n",
       "      <td>0.354430</td>\n",
       "      <td>0.894737</td>\n",
       "      <td>0.313817</td>\n",
       "      <td>0.061629</td>\n",
       "      <td>0.0</td>\n",
       "      <td>0.0</td>\n",
       "      <td>1.0</td>\n",
       "      <td>5700</td>\n",
       "    </tr>\n",
       "    <tr>\n",
       "      <th>1</th>\n",
       "      <td>0.143519</td>\n",
       "      <td>0.582278</td>\n",
       "      <td>0.192982</td>\n",
       "      <td>0.461899</td>\n",
       "      <td>0.454099</td>\n",
       "      <td>1.0</td>\n",
       "      <td>0.0</td>\n",
       "      <td>0.0</td>\n",
       "      <td>3700</td>\n",
       "    </tr>\n",
       "    <tr>\n",
       "      <th>2</th>\n",
       "      <td>0.620370</td>\n",
       "      <td>0.430380</td>\n",
       "      <td>0.315789</td>\n",
       "      <td>0.908262</td>\n",
       "      <td>0.799610</td>\n",
       "      <td>0.0</td>\n",
       "      <td>1.0</td>\n",
       "      <td>0.0</td>\n",
       "      <td>2700</td>\n",
       "    </tr>\n",
       "    <tr>\n",
       "      <th>3</th>\n",
       "      <td>0.000000</td>\n",
       "      <td>0.734177</td>\n",
       "      <td>0.280702</td>\n",
       "      <td>0.107148</td>\n",
       "      <td>0.135894</td>\n",
       "      <td>1.0</td>\n",
       "      <td>0.0</td>\n",
       "      <td>0.0</td>\n",
       "      <td>3600</td>\n",
       "    </tr>\n",
       "    <tr>\n",
       "      <th>4</th>\n",
       "      <td>0.527778</td>\n",
       "      <td>0.012658</td>\n",
       "      <td>0.684211</td>\n",
       "      <td>0.342410</td>\n",
       "      <td>0.042799</td>\n",
       "      <td>0.0</td>\n",
       "      <td>0.0</td>\n",
       "      <td>1.0</td>\n",
       "      <td>5100</td>\n",
       "    </tr>\n",
       "  </tbody>\n",
       "</table>\n",
       "</div>"
      ],
      "text/plain": [
       "   Culmen_Length  Culmen_Depth  Flipper_Length    DeltaN    DeltaC  Adelie  \\\n",
       "0       0.745370      0.354430        0.894737  0.313817  0.061629     0.0   \n",
       "1       0.143519      0.582278        0.192982  0.461899  0.454099     1.0   \n",
       "2       0.620370      0.430380        0.315789  0.908262  0.799610     0.0   \n",
       "3       0.000000      0.734177        0.280702  0.107148  0.135894     1.0   \n",
       "4       0.527778      0.012658        0.684211  0.342410  0.042799     0.0   \n",
       "\n",
       "   Chinstrap  Gentoo  Body_Mass  \n",
       "0        0.0     1.0       5700  \n",
       "1        0.0     0.0       3700  \n",
       "2        1.0     0.0       2700  \n",
       "3        0.0     0.0       3600  \n",
       "4        0.0     1.0       5100  "
      ]
     },
     "execution_count": 62,
     "metadata": {},
     "output_type": "execute_result"
    }
   ],
   "source": [
    "x_train_scaled_df.head()"
   ]
  },
  {
   "cell_type": "markdown",
   "id": "aa99b56f-d0ea-48b3-9fc1-a44631684c8e",
   "metadata": {},
   "source": [
    "`-` 정규화가 잘 되었다"
   ]
  },
  {
   "cell_type": "markdown",
   "id": "d3114c04-fb7f-4346-9314-347f9ada36e4",
   "metadata": {},
   "source": [
    "### 모델 선택"
   ]
  },
  {
   "cell_type": "code",
   "execution_count": 63,
   "id": "e4f2d3bf-05d8-40be-807a-ec9bffc372af",
   "metadata": {},
   "outputs": [],
   "source": [
    "rslt = smf.ols(formula = 'Body_Mass ~ Culmen_Length +\\\n",
    "               Culmen_Depth + Flipper_Length +\\\n",
    "               Adelie + Chinstrap + Gentoo +\\\n",
    "               DeltaN + DeltaC', data = x_train_scaled_df).fit()"
   ]
  },
  {
   "cell_type": "code",
   "execution_count": 72,
   "id": "6ddeefca-7ac8-4f67-843b-00ba822d49f5",
   "metadata": {},
   "outputs": [],
   "source": [
    "# rslt.summary()"
   ]
  },
  {
   "cell_type": "markdown",
   "id": "2995fd02-2119-401c-95c1-7a7492043999",
   "metadata": {},
   "source": [
    "`-` DeltaN 변수가 가장 유의하지 않으니 제거하자 (Species 관련 변수는 예외)\n",
    "\n",
    "`-` Chinstrap feature는 제거해도 변화가 없다"
   ]
  },
  {
   "cell_type": "code",
   "execution_count": 66,
   "id": "8241f926-171a-4475-b6d8-67b43a51bd2c",
   "metadata": {},
   "outputs": [],
   "source": [
    "rslt2 = smf.ols(formula = 'Body_Mass ~ Culmen_Length +\\\n",
    "               Culmen_Depth + Flipper_Length +\\\n",
    "               Adelie + Chinstrap + Gentoo +\\\n",
    "               DeltaC', data = x_train_scaled_df).fit()"
   ]
  },
  {
   "cell_type": "code",
   "execution_count": 95,
   "id": "c2427613-f6d2-4bfb-a002-0f87e769ac77",
   "metadata": {},
   "outputs": [],
   "source": [
    "# rslt2.summary()"
   ]
  },
  {
   "cell_type": "markdown",
   "id": "f23bc30d-590d-439c-9361-989082f541fd",
   "metadata": {},
   "source": [
    "`-` 유의하지 않은 변수를 제거하니 조정된 결정계수가 올라간 것을 확인할 수 있다\n",
    "\n",
    "`-` 이번에는 DeltaC 변수가 가장 유의하지 않으니 제거하자"
   ]
  },
  {
   "cell_type": "code",
   "execution_count": 68,
   "id": "56a64856-c523-4d61-bbce-d7ee7708b8c2",
   "metadata": {},
   "outputs": [],
   "source": [
    "rslt3 = smf.ols(formula = 'Body_Mass ~ Culmen_Length +\\\n",
    "               Culmen_Depth + Flipper_Length +\\\n",
    "               Adelie + Chinstrap + Gentoo', data = x_train_scaled_df).fit()"
   ]
  },
  {
   "cell_type": "code",
   "execution_count": 94,
   "id": "e7470afd-42eb-4bde-b20f-2946bdc490c7",
   "metadata": {},
   "outputs": [],
   "source": [
    "# rslt3.summary()"
   ]
  },
  {
   "cell_type": "markdown",
   "id": "c99e077f-cfdb-44ff-9d47-7094d11326c4",
   "metadata": {},
   "source": [
    "`-` 더 이상 유의하지 않은 변수는 없다\n",
    "\n",
    "`-` 테스트셋을 통해 모델을 평가하자"
   ]
  },
  {
   "cell_type": "markdown",
   "id": "1565182d-c8a0-4354-817c-e9a4717ecb28",
   "metadata": {},
   "source": [
    "### 모델 평가"
   ]
  },
  {
   "cell_type": "code",
   "execution_count": 76,
   "id": "fcc996c4-0451-4c41-abeb-4b8037fd819a",
   "metadata": {},
   "outputs": [
    {
     "data": {
      "text/html": [
       "<div>\n",
       "<style scoped>\n",
       "    .dataframe tbody tr th:only-of-type {\n",
       "        vertical-align: middle;\n",
       "    }\n",
       "\n",
       "    .dataframe tbody tr th {\n",
       "        vertical-align: top;\n",
       "    }\n",
       "\n",
       "    .dataframe thead th {\n",
       "        text-align: right;\n",
       "    }\n",
       "</style>\n",
       "<table border=\"1\" class=\"dataframe\">\n",
       "  <thead>\n",
       "    <tr style=\"text-align: right;\">\n",
       "      <th></th>\n",
       "      <th>var_name</th>\n",
       "      <th>coefficient</th>\n",
       "    </tr>\n",
       "  </thead>\n",
       "  <tbody>\n",
       "    <tr>\n",
       "      <th>0</th>\n",
       "      <td>Intercept</td>\n",
       "      <td>2012.844563</td>\n",
       "    </tr>\n",
       "    <tr>\n",
       "      <th>1</th>\n",
       "      <td>Culmen_Length</td>\n",
       "      <td>1047.559568</td>\n",
       "    </tr>\n",
       "    <tr>\n",
       "      <th>2</th>\n",
       "      <td>Culmen_Depth</td>\n",
       "      <td>1036.488311</td>\n",
       "    </tr>\n",
       "    <tr>\n",
       "      <th>3</th>\n",
       "      <td>Flipper_Length</td>\n",
       "      <td>877.162091</td>\n",
       "    </tr>\n",
       "    <tr>\n",
       "      <th>4</th>\n",
       "      <td>Adelie</td>\n",
       "      <td>625.367329</td>\n",
       "    </tr>\n",
       "    <tr>\n",
       "      <th>5</th>\n",
       "      <td>Chinstrap</td>\n",
       "      <td>-50.210463</td>\n",
       "    </tr>\n",
       "    <tr>\n",
       "      <th>6</th>\n",
       "      <td>Gentoo</td>\n",
       "      <td>1437.687698</td>\n",
       "    </tr>\n",
       "  </tbody>\n",
       "</table>\n",
       "</div>"
      ],
      "text/plain": [
       "         var_name  coefficient\n",
       "0       Intercept  2012.844563\n",
       "1   Culmen_Length  1047.559568\n",
       "2    Culmen_Depth  1036.488311\n",
       "3  Flipper_Length   877.162091\n",
       "4          Adelie   625.367329\n",
       "5       Chinstrap   -50.210463\n",
       "6          Gentoo  1437.687698"
      ]
     },
     "execution_count": 76,
     "metadata": {},
     "output_type": "execute_result"
    }
   ],
   "source": [
    "pred_df = pd.DataFrame(rslt3.params).reset_index().rename(columns = {'index':'var_name', 0:'coefficient'})\n",
    "pred_df"
   ]
  },
  {
   "cell_type": "code",
   "execution_count": 77,
   "id": "7c97c85f-421b-4652-99fe-fcd85338c35c",
   "metadata": {},
   "outputs": [],
   "source": [
    "def mass_predict2(df):\n",
    "    y_predict = np.array(list(pred_df.query('var_name == \"Intercept\"')['coefficient']) * len(df))\n",
    "    for col in df.columns:\n",
    "        if col in pred_df.set_index('var_name').T.columns:\n",
    "            y_predict += (np.array(df[col] * pred_df.query('var_name == @col')['coefficient'].to_numpy()))\n",
    "    return y_predict"
   ]
  },
  {
   "cell_type": "code",
   "execution_count": 83,
   "id": "332c9c3a-870d-4ce9-8c7e-5f4f024727a4",
   "metadata": {},
   "outputs": [
    {
     "data": {
      "text/plain": [
       "array([3670.68414525, 3703.22495284, 3731.03157442, 5234.15878086,\n",
       "       4164.99267427, 3347.76625386])"
      ]
     },
     "execution_count": 83,
     "metadata": {},
     "output_type": "execute_result"
    }
   ],
   "source": [
    "predict_y = mass_predict2(x_valid_scaled_df) ## 정규화된 valid 셋을 input한다\n",
    "predict_y[:6]"
   ]
  },
  {
   "cell_type": "code",
   "execution_count": 84,
   "id": "f876a991-ca11-4b41-8d08-3013c55570b0",
   "metadata": {},
   "outputs": [
    {
     "name": "stdout",
     "output_type": "stream",
     "text": [
      "이 방정식의 평균 에러는 316.19 입니다\n"
     ]
    }
   ],
   "source": [
    "# 실제 정답 값을 준비\n",
    "real_answer = y_valid.copy()\n",
    "\n",
    "# 정답과 예측 값을 함수에 넣어 결과를 확인\n",
    "error = RMSE(real_answer, predict_y)\n",
    "\n",
    "print(f'이 방정식의 평균 에러는 {error:.2f} 입니다')"
   ]
  },
  {
   "cell_type": "markdown",
   "id": "10f5bb35-47ac-4b19-8c12-f3d297cbe313",
   "metadata": {},
   "source": [
    "`-` 모델 평가를 마쳤다\n",
    "\n",
    "`-` test파일을 불러와 예측하고 이를 제출하자"
   ]
  },
  {
   "cell_type": "markdown",
   "id": "d411e843-ee0e-4728-8516-db9e7b7ff39c",
   "metadata": {},
   "source": [
    "### test 데이터 예측"
   ]
  },
  {
   "cell_type": "code",
   "execution_count": 96,
   "id": "ff287905-0c0f-4abc-a2d8-0e8f51b1c8e7",
   "metadata": {},
   "outputs": [
    {
     "data": {
      "text/html": [
       "<div>\n",
       "<style scoped>\n",
       "    .dataframe tbody tr th:only-of-type {\n",
       "        vertical-align: middle;\n",
       "    }\n",
       "\n",
       "    .dataframe tbody tr th {\n",
       "        vertical-align: top;\n",
       "    }\n",
       "\n",
       "    .dataframe thead th {\n",
       "        text-align: right;\n",
       "    }\n",
       "</style>\n",
       "<table border=\"1\" class=\"dataframe\">\n",
       "  <thead>\n",
       "    <tr style=\"text-align: right;\">\n",
       "      <th></th>\n",
       "      <th>id</th>\n",
       "      <th>Species</th>\n",
       "      <th>Island</th>\n",
       "      <th>Clutch Completion</th>\n",
       "      <th>Culmen Length (mm)</th>\n",
       "      <th>Culmen Depth (mm)</th>\n",
       "      <th>Flipper Length (mm)</th>\n",
       "      <th>Sex</th>\n",
       "      <th>Delta 15 N (o/oo)</th>\n",
       "      <th>Delta 13 C (o/oo)</th>\n",
       "    </tr>\n",
       "  </thead>\n",
       "  <tbody>\n",
       "    <tr>\n",
       "      <th>0</th>\n",
       "      <td>0</td>\n",
       "      <td>Chinstrap penguin (Pygoscelis antarctica)</td>\n",
       "      <td>Dream</td>\n",
       "      <td>Yes</td>\n",
       "      <td>52.0</td>\n",
       "      <td>20.7</td>\n",
       "      <td>210.0</td>\n",
       "      <td>MALE</td>\n",
       "      <td>9.43146</td>\n",
       "      <td>-24.68440</td>\n",
       "    </tr>\n",
       "    <tr>\n",
       "      <th>1</th>\n",
       "      <td>1</td>\n",
       "      <td>Gentoo penguin (Pygoscelis papua)</td>\n",
       "      <td>Biscoe</td>\n",
       "      <td>Yes</td>\n",
       "      <td>55.9</td>\n",
       "      <td>17.0</td>\n",
       "      <td>228.0</td>\n",
       "      <td>MALE</td>\n",
       "      <td>8.31180</td>\n",
       "      <td>-26.35425</td>\n",
       "    </tr>\n",
       "    <tr>\n",
       "      <th>2</th>\n",
       "      <td>2</td>\n",
       "      <td>Adelie Penguin (Pygoscelis adeliae)</td>\n",
       "      <td>Dream</td>\n",
       "      <td>Yes</td>\n",
       "      <td>38.9</td>\n",
       "      <td>18.8</td>\n",
       "      <td>190.0</td>\n",
       "      <td>FEMALE</td>\n",
       "      <td>8.36936</td>\n",
       "      <td>-26.11199</td>\n",
       "    </tr>\n",
       "    <tr>\n",
       "      <th>3</th>\n",
       "      <td>3</td>\n",
       "      <td>Chinstrap penguin (Pygoscelis antarctica)</td>\n",
       "      <td>Dream</td>\n",
       "      <td>Yes</td>\n",
       "      <td>45.2</td>\n",
       "      <td>16.6</td>\n",
       "      <td>191.0</td>\n",
       "      <td>FEMALE</td>\n",
       "      <td>9.62357</td>\n",
       "      <td>-24.78984</td>\n",
       "    </tr>\n",
       "    <tr>\n",
       "      <th>4</th>\n",
       "      <td>4</td>\n",
       "      <td>Adelie Penguin (Pygoscelis adeliae)</td>\n",
       "      <td>Biscoe</td>\n",
       "      <td>No</td>\n",
       "      <td>37.9</td>\n",
       "      <td>18.6</td>\n",
       "      <td>172.0</td>\n",
       "      <td>FEMALE</td>\n",
       "      <td>8.38404</td>\n",
       "      <td>-25.19837</td>\n",
       "    </tr>\n",
       "  </tbody>\n",
       "</table>\n",
       "</div>"
      ],
      "text/plain": [
       "   id                                    Species  Island Clutch Completion  \\\n",
       "0   0  Chinstrap penguin (Pygoscelis antarctica)   Dream               Yes   \n",
       "1   1          Gentoo penguin (Pygoscelis papua)  Biscoe               Yes   \n",
       "2   2        Adelie Penguin (Pygoscelis adeliae)   Dream               Yes   \n",
       "3   3  Chinstrap penguin (Pygoscelis antarctica)   Dream               Yes   \n",
       "4   4        Adelie Penguin (Pygoscelis adeliae)  Biscoe                No   \n",
       "\n",
       "   Culmen Length (mm)  Culmen Depth (mm)  Flipper Length (mm)     Sex  \\\n",
       "0                52.0               20.7                210.0    MALE   \n",
       "1                55.9               17.0                228.0    MALE   \n",
       "2                38.9               18.8                190.0  FEMALE   \n",
       "3                45.2               16.6                191.0  FEMALE   \n",
       "4                37.9               18.6                172.0  FEMALE   \n",
       "\n",
       "   Delta 15 N (o/oo)  Delta 13 C (o/oo)  \n",
       "0            9.43146          -24.68440  \n",
       "1            8.31180          -26.35425  \n",
       "2            8.36936          -26.11199  \n",
       "3            9.62357          -24.78984  \n",
       "4            8.38404          -25.19837  "
      ]
     },
     "execution_count": 96,
     "metadata": {},
     "output_type": "execute_result"
    }
   ],
   "source": [
    "test = pd.read_csv('C:/Users/Jaesu/Dacon-Basic/뗑컨-몸무게-예측/Data/test.csv')\n",
    "test.head()"
   ]
  },
  {
   "cell_type": "code",
   "execution_count": 98,
   "id": "fb80d1e5-6cae-4081-a8db-9d2a096e5e43",
   "metadata": {},
   "outputs": [],
   "source": [
    "test.rename(columns = {'Clutch Completion':'Full_Clutch', 'Culmen Length (mm)':'Culmen_Length', \n",
    "                     'Culmen Depth (mm)':'Culmen_Depth', 'Flipper Length (mm)':'Flipper_Length',\n",
    "                     'Delta 15 N (o/oo)':'DeltaN', 'Delta 13 C (o/oo)':'DeltaC', 'Body Mass (g)':'Body_Mass'}, inplace = True) ## 열 이름 변경"
   ]
  },
  {
   "cell_type": "code",
   "execution_count": 97,
   "id": "ce9effd6-6aea-4752-8806-4dac4510ea5c",
   "metadata": {},
   "outputs": [
    {
     "data": {
      "text/plain": [
       "id                     0\n",
       "Species                0\n",
       "Island                 0\n",
       "Clutch Completion      0\n",
       "Culmen Length (mm)     0\n",
       "Culmen Depth (mm)      0\n",
       "Flipper Length (mm)    0\n",
       "Sex                    6\n",
       "Delta 15 N (o/oo)      9\n",
       "Delta 13 C (o/oo)      8\n",
       "dtype: int64"
      ]
     },
     "execution_count": 97,
     "metadata": {},
     "output_type": "execute_result"
    }
   ],
   "source": [
    "test.isnull().sum()"
   ]
  },
  {
   "cell_type": "markdown",
   "id": "c0df0da5-1d6f-4092-add7-84631ea8d357",
   "metadata": {},
   "source": [
    "`-` test 데이터에 NA가 존재하지만 어짜피 사용하지 않는 변수이므로 무시해도 된다"
   ]
  },
  {
   "cell_type": "markdown",
   "id": "34741580-5e6e-4d52-86cd-fff6c44f2cb6",
   "metadata": {},
   "source": [
    "`-` 테스트 데이터셋도 Species에 대해 원핫인코딩을 하자"
   ]
  },
  {
   "cell_type": "code",
   "execution_count": 110,
   "id": "1af52652-2524-4173-86cf-b8f466900c95",
   "metadata": {},
   "outputs": [],
   "source": [
    "test2 = test.copy()"
   ]
  },
  {
   "cell_type": "code",
   "execution_count": 111,
   "id": "38322c1d-41a5-475d-ad11-a255a57b269e",
   "metadata": {},
   "outputs": [],
   "source": [
    "dummy = pd.get_dummies(test2['Species'])"
   ]
  },
  {
   "cell_type": "code",
   "execution_count": 112,
   "id": "9cf8882a-f0af-48f8-9287-9dc268a4a9a6",
   "metadata": {},
   "outputs": [],
   "source": [
    "test2 = pd.concat([test2, dummy], axis = 1)"
   ]
  },
  {
   "cell_type": "code",
   "execution_count": 113,
   "id": "0a63f3bf-f4c2-41d7-8231-96c3585141aa",
   "metadata": {},
   "outputs": [],
   "source": [
    "test2.rename(columns = {'Adelie Penguin (Pygoscelis adeliae)':'Adelie',\n",
    "                          'Chinstrap penguin (Pygoscelis antarctica)':'Chinstrap',\n",
    "                          'Gentoo penguin (Pygoscelis papua)':'Gentoo'}, inplace = True)"
   ]
  },
  {
   "cell_type": "code",
   "execution_count": 114,
   "id": "63d70b5b-b963-4961-aaf2-377880b35be6",
   "metadata": {},
   "outputs": [],
   "source": [
    "test2.drop(['id', 'Species', 'Island', 'Full_Clutch', 'Sex'], axis = 1, inplace = True) "
   ]
  },
  {
   "cell_type": "code",
   "execution_count": 115,
   "id": "14ebd01d-41bf-4446-9c25-19ffc199e1f9",
   "metadata": {},
   "outputs": [
    {
     "data": {
      "text/html": [
       "<div>\n",
       "<style scoped>\n",
       "    .dataframe tbody tr th:only-of-type {\n",
       "        vertical-align: middle;\n",
       "    }\n",
       "\n",
       "    .dataframe tbody tr th {\n",
       "        vertical-align: top;\n",
       "    }\n",
       "\n",
       "    .dataframe thead th {\n",
       "        text-align: right;\n",
       "    }\n",
       "</style>\n",
       "<table border=\"1\" class=\"dataframe\">\n",
       "  <thead>\n",
       "    <tr style=\"text-align: right;\">\n",
       "      <th></th>\n",
       "      <th>Culmen_Length</th>\n",
       "      <th>Culmen_Depth</th>\n",
       "      <th>Flipper_Length</th>\n",
       "      <th>DeltaN</th>\n",
       "      <th>DeltaC</th>\n",
       "      <th>Adelie</th>\n",
       "      <th>Chinstrap</th>\n",
       "      <th>Gentoo</th>\n",
       "    </tr>\n",
       "  </thead>\n",
       "  <tbody>\n",
       "    <tr>\n",
       "      <th>0</th>\n",
       "      <td>52.0</td>\n",
       "      <td>20.7</td>\n",
       "      <td>210.0</td>\n",
       "      <td>9.43146</td>\n",
       "      <td>-24.68440</td>\n",
       "      <td>0</td>\n",
       "      <td>1</td>\n",
       "      <td>0</td>\n",
       "    </tr>\n",
       "    <tr>\n",
       "      <th>1</th>\n",
       "      <td>55.9</td>\n",
       "      <td>17.0</td>\n",
       "      <td>228.0</td>\n",
       "      <td>8.31180</td>\n",
       "      <td>-26.35425</td>\n",
       "      <td>0</td>\n",
       "      <td>0</td>\n",
       "      <td>1</td>\n",
       "    </tr>\n",
       "    <tr>\n",
       "      <th>2</th>\n",
       "      <td>38.9</td>\n",
       "      <td>18.8</td>\n",
       "      <td>190.0</td>\n",
       "      <td>8.36936</td>\n",
       "      <td>-26.11199</td>\n",
       "      <td>1</td>\n",
       "      <td>0</td>\n",
       "      <td>0</td>\n",
       "    </tr>\n",
       "    <tr>\n",
       "      <th>3</th>\n",
       "      <td>45.2</td>\n",
       "      <td>16.6</td>\n",
       "      <td>191.0</td>\n",
       "      <td>9.62357</td>\n",
       "      <td>-24.78984</td>\n",
       "      <td>0</td>\n",
       "      <td>1</td>\n",
       "      <td>0</td>\n",
       "    </tr>\n",
       "    <tr>\n",
       "      <th>4</th>\n",
       "      <td>37.9</td>\n",
       "      <td>18.6</td>\n",
       "      <td>172.0</td>\n",
       "      <td>8.38404</td>\n",
       "      <td>-25.19837</td>\n",
       "      <td>1</td>\n",
       "      <td>0</td>\n",
       "      <td>0</td>\n",
       "    </tr>\n",
       "  </tbody>\n",
       "</table>\n",
       "</div>"
      ],
      "text/plain": [
       "   Culmen_Length  Culmen_Depth  Flipper_Length   DeltaN    DeltaC  Adelie  \\\n",
       "0           52.0          20.7           210.0  9.43146 -24.68440       0   \n",
       "1           55.9          17.0           228.0  8.31180 -26.35425       0   \n",
       "2           38.9          18.8           190.0  8.36936 -26.11199       1   \n",
       "3           45.2          16.6           191.0  9.62357 -24.78984       0   \n",
       "4           37.9          18.6           172.0  8.38404 -25.19837       1   \n",
       "\n",
       "   Chinstrap  Gentoo  \n",
       "0          1       0  \n",
       "1          0       1  \n",
       "2          0       0  \n",
       "3          1       0  \n",
       "4          0       0  "
      ]
     },
     "execution_count": 115,
     "metadata": {},
     "output_type": "execute_result"
    }
   ],
   "source": [
    "test2.head()"
   ]
  },
  {
   "cell_type": "markdown",
   "id": "463bc074-f429-4e36-bc12-97af77cf2b55",
   "metadata": {},
   "source": [
    "`-` test 셋도 정규화를 해주자"
   ]
  },
  {
   "cell_type": "code",
   "execution_count": 116,
   "id": "53af679f-7451-4476-83ca-a921f85d1457",
   "metadata": {},
   "outputs": [],
   "source": [
    "## 테스트집합 정규화\n",
    "test2_scaled = minmax_scaler.transform(test2) ## x_train에서 학습한 정규화방식을 그대로 x_valid에 적용"
   ]
  },
  {
   "cell_type": "code",
   "execution_count": 119,
   "id": "bebdf6ed-a406-4e4b-87da-7f701b33337d",
   "metadata": {},
   "outputs": [],
   "source": [
    "test2_scaled_df = pd.DataFrame(data = test2_scaled, columns = test2.columns)"
   ]
  },
  {
   "cell_type": "code",
   "execution_count": 121,
   "id": "1e10f9e7-3c05-4860-a2cc-980c4bc05eee",
   "metadata": {},
   "outputs": [
    {
     "data": {
      "text/html": [
       "<div>\n",
       "<style scoped>\n",
       "    .dataframe tbody tr th:only-of-type {\n",
       "        vertical-align: middle;\n",
       "    }\n",
       "\n",
       "    .dataframe tbody tr th {\n",
       "        vertical-align: top;\n",
       "    }\n",
       "\n",
       "    .dataframe thead th {\n",
       "        text-align: right;\n",
       "    }\n",
       "</style>\n",
       "<table border=\"1\" class=\"dataframe\">\n",
       "  <thead>\n",
       "    <tr style=\"text-align: right;\">\n",
       "      <th></th>\n",
       "      <th>Culmen_Length</th>\n",
       "      <th>Culmen_Depth</th>\n",
       "      <th>Flipper_Length</th>\n",
       "      <th>DeltaN</th>\n",
       "      <th>DeltaC</th>\n",
       "      <th>Adelie</th>\n",
       "      <th>Chinstrap</th>\n",
       "      <th>Gentoo</th>\n",
       "    </tr>\n",
       "  </thead>\n",
       "  <tbody>\n",
       "    <tr>\n",
       "      <th>0</th>\n",
       "      <td>0.856481</td>\n",
       "      <td>0.949367</td>\n",
       "      <td>0.631579</td>\n",
       "      <td>0.751809</td>\n",
       "      <td>0.818170</td>\n",
       "      <td>0.0</td>\n",
       "      <td>1.0</td>\n",
       "      <td>0.0</td>\n",
       "    </tr>\n",
       "    <tr>\n",
       "      <th>1</th>\n",
       "      <td>1.037037</td>\n",
       "      <td>0.481013</td>\n",
       "      <td>0.947368</td>\n",
       "      <td>0.283967</td>\n",
       "      <td>0.232849</td>\n",
       "      <td>0.0</td>\n",
       "      <td>0.0</td>\n",
       "      <td>1.0</td>\n",
       "    </tr>\n",
       "    <tr>\n",
       "      <th>2</th>\n",
       "      <td>0.250000</td>\n",
       "      <td>0.708861</td>\n",
       "      <td>0.280702</td>\n",
       "      <td>0.308018</td>\n",
       "      <td>0.317767</td>\n",
       "      <td>1.0</td>\n",
       "      <td>0.0</td>\n",
       "      <td>0.0</td>\n",
       "    </tr>\n",
       "    <tr>\n",
       "      <th>3</th>\n",
       "      <td>0.541667</td>\n",
       "      <td>0.430380</td>\n",
       "      <td>0.298246</td>\n",
       "      <td>0.832081</td>\n",
       "      <td>0.781211</td>\n",
       "      <td>0.0</td>\n",
       "      <td>1.0</td>\n",
       "      <td>0.0</td>\n",
       "    </tr>\n",
       "    <tr>\n",
       "      <th>4</th>\n",
       "      <td>0.203704</td>\n",
       "      <td>0.683544</td>\n",
       "      <td>-0.035088</td>\n",
       "      <td>0.314152</td>\n",
       "      <td>0.638011</td>\n",
       "      <td>1.0</td>\n",
       "      <td>0.0</td>\n",
       "      <td>0.0</td>\n",
       "    </tr>\n",
       "  </tbody>\n",
       "</table>\n",
       "</div>"
      ],
      "text/plain": [
       "   Culmen_Length  Culmen_Depth  Flipper_Length    DeltaN    DeltaC  Adelie  \\\n",
       "0       0.856481      0.949367        0.631579  0.751809  0.818170     0.0   \n",
       "1       1.037037      0.481013        0.947368  0.283967  0.232849     0.0   \n",
       "2       0.250000      0.708861        0.280702  0.308018  0.317767     1.0   \n",
       "3       0.541667      0.430380        0.298246  0.832081  0.781211     0.0   \n",
       "4       0.203704      0.683544       -0.035088  0.314152  0.638011     1.0   \n",
       "\n",
       "   Chinstrap  Gentoo  \n",
       "0        1.0     0.0  \n",
       "1        0.0     1.0  \n",
       "2        0.0     0.0  \n",
       "3        1.0     0.0  \n",
       "4        0.0     0.0  "
      ]
     },
     "execution_count": 121,
     "metadata": {},
     "output_type": "execute_result"
    }
   ],
   "source": [
    "test2_scaled_df.head()"
   ]
  },
  {
   "cell_type": "code",
   "execution_count": 122,
   "id": "304093b1-bdde-464b-8122-b780251151b8",
   "metadata": {},
   "outputs": [
    {
     "data": {
      "text/plain": [
       "array([4397.85447076, 5866.44999422, 3881.04861347, 3237.7555226 ,\n",
       "       3529.31171997, 4113.66770178])"
      ]
     },
     "execution_count": 122,
     "metadata": {},
     "output_type": "execute_result"
    }
   ],
   "source": [
    "# 예측을 진행\n",
    "predict_test = mass_predict2(test2_scaled_df)\n",
    "\n",
    "# 예측 결과를 확인\n",
    "predict_test[:6]"
   ]
  },
  {
   "cell_type": "markdown",
   "id": "284dc9a1-96aa-4645-9b7b-a877927a7cfa",
   "metadata": {},
   "source": [
    "### dacon 대회에 제출하기"
   ]
  },
  {
   "cell_type": "code",
   "execution_count": 124,
   "id": "82dae61e-ce51-40f8-9b2c-ba0de4a34737",
   "metadata": {},
   "outputs": [],
   "source": [
    "# 제출용 sample 파일을 불러옴\n",
    "submission = pd.read_csv('C:/Users/Jaesu/Dacon-Basic/뗑컨-몸무게-예측/Data/sample_submission.csv')"
   ]
  },
  {
   "cell_type": "code",
   "execution_count": 125,
   "id": "9682aed0-03e2-4868-b6d1-2784e4e06ed2",
   "metadata": {},
   "outputs": [],
   "source": [
    "# 위에서 구한 예측값을 그대로 넣음\n",
    "submission['Body Mass (g)'] = predict_test"
   ]
  },
  {
   "cell_type": "code",
   "execution_count": 126,
   "id": "8ac2bb0f-a3ce-4dde-9b13-2caf133c1f4f",
   "metadata": {},
   "outputs": [
    {
     "data": {
      "text/html": [
       "<div>\n",
       "<style scoped>\n",
       "    .dataframe tbody tr th:only-of-type {\n",
       "        vertical-align: middle;\n",
       "    }\n",
       "\n",
       "    .dataframe tbody tr th {\n",
       "        vertical-align: top;\n",
       "    }\n",
       "\n",
       "    .dataframe thead th {\n",
       "        text-align: right;\n",
       "    }\n",
       "</style>\n",
       "<table border=\"1\" class=\"dataframe\">\n",
       "  <thead>\n",
       "    <tr style=\"text-align: right;\">\n",
       "      <th></th>\n",
       "      <th>id</th>\n",
       "      <th>Body Mass (g)</th>\n",
       "    </tr>\n",
       "  </thead>\n",
       "  <tbody>\n",
       "    <tr>\n",
       "      <th>0</th>\n",
       "      <td>0</td>\n",
       "      <td>4397.854471</td>\n",
       "    </tr>\n",
       "    <tr>\n",
       "      <th>1</th>\n",
       "      <td>1</td>\n",
       "      <td>5866.449994</td>\n",
       "    </tr>\n",
       "    <tr>\n",
       "      <th>2</th>\n",
       "      <td>2</td>\n",
       "      <td>3881.048613</td>\n",
       "    </tr>\n",
       "    <tr>\n",
       "      <th>3</th>\n",
       "      <td>3</td>\n",
       "      <td>3237.755523</td>\n",
       "    </tr>\n",
       "    <tr>\n",
       "      <th>4</th>\n",
       "      <td>4</td>\n",
       "      <td>3529.311720</td>\n",
       "    </tr>\n",
       "  </tbody>\n",
       "</table>\n",
       "</div>"
      ],
      "text/plain": [
       "   id  Body Mass (g)\n",
       "0   0    4397.854471\n",
       "1   1    5866.449994\n",
       "2   2    3881.048613\n",
       "3   3    3237.755523\n",
       "4   4    3529.311720"
      ]
     },
     "execution_count": 126,
     "metadata": {},
     "output_type": "execute_result"
    }
   ],
   "source": [
    "submission.head()"
   ]
  },
  {
   "cell_type": "code",
   "execution_count": 127,
   "id": "6b36a90c-d08e-4409-972f-d986dc5f7919",
   "metadata": {},
   "outputs": [],
   "source": [
    "# submission을 csv 파일로 저장\n",
    "submission.to_csv('C:/Users/Jaesu/Dacon-Basic/뗑컨-몸무게-예측/Data/submission2.csv', index = False)"
   ]
  },
  {
   "cell_type": "markdown",
   "id": "370b334c-77be-4293-a58e-64933c76b604",
   "metadata": {},
   "source": [
    "`-` 점수는 341.1752753861"
   ]
  },
  {
   "cell_type": "markdown",
   "id": "8c4327da-d628-4bb3-b461-1c8f6097bc09",
   "metadata": {},
   "source": [
    "## 회귀 분석 (라벨 인코딩) + 뒤로부터 제거하는 방법 + 정규화"
   ]
  },
  {
   "cell_type": "markdown",
   "id": "7e4c5e45-aabe-4f15-87a8-15722357d495",
   "metadata": {},
   "source": [
    "### 전처리"
   ]
  },
  {
   "cell_type": "markdown",
   "id": "c182b9a2-13ca-48eb-ade0-af69f8193375",
   "metadata": {},
   "source": [
    "`-` 위에서는 범주형 변수를 Species만 사용했는데 이번에는 모든 변수를 사용하자"
   ]
  },
  {
   "cell_type": "code",
   "execution_count": 244,
   "id": "c70f867e-4f7d-4668-876f-06cf7ac529d1",
   "metadata": {},
   "outputs": [],
   "source": [
    "dt4 = dt.copy() "
   ]
  },
  {
   "cell_type": "code",
   "execution_count": 245,
   "id": "cdcc72d5-c2c3-4281-a053-cbca22bde3d7",
   "metadata": {},
   "outputs": [
    {
     "data": {
      "text/html": [
       "<div>\n",
       "<style scoped>\n",
       "    .dataframe tbody tr th:only-of-type {\n",
       "        vertical-align: middle;\n",
       "    }\n",
       "\n",
       "    .dataframe tbody tr th {\n",
       "        vertical-align: top;\n",
       "    }\n",
       "\n",
       "    .dataframe thead th {\n",
       "        text-align: right;\n",
       "    }\n",
       "</style>\n",
       "<table border=\"1\" class=\"dataframe\">\n",
       "  <thead>\n",
       "    <tr style=\"text-align: right;\">\n",
       "      <th></th>\n",
       "      <th>Species</th>\n",
       "      <th>Island</th>\n",
       "      <th>Full_Clutch</th>\n",
       "      <th>Culmen_Length</th>\n",
       "      <th>Culmen_Depth</th>\n",
       "      <th>Flipper_Length</th>\n",
       "      <th>Sex</th>\n",
       "      <th>DeltaN</th>\n",
       "      <th>DeltaC</th>\n",
       "    </tr>\n",
       "  </thead>\n",
       "  <tbody>\n",
       "    <tr>\n",
       "      <th>0</th>\n",
       "      <td>Gentoo penguin (Pygoscelis papua)</td>\n",
       "      <td>Biscoe</td>\n",
       "      <td>Yes</td>\n",
       "      <td>50.0</td>\n",
       "      <td>15.3</td>\n",
       "      <td>220</td>\n",
       "      <td>MALE</td>\n",
       "      <td>8.30515</td>\n",
       "      <td>-25.19017</td>\n",
       "    </tr>\n",
       "    <tr>\n",
       "      <th>1</th>\n",
       "      <td>Chinstrap penguin (Pygoscelis antarctica)</td>\n",
       "      <td>Dream</td>\n",
       "      <td>No</td>\n",
       "      <td>49.5</td>\n",
       "      <td>19.0</td>\n",
       "      <td>200</td>\n",
       "      <td>MALE</td>\n",
       "      <td>9.63074</td>\n",
       "      <td>-24.34684</td>\n",
       "    </tr>\n",
       "    <tr>\n",
       "      <th>2</th>\n",
       "      <td>Gentoo penguin (Pygoscelis papua)</td>\n",
       "      <td>Biscoe</td>\n",
       "      <td>Yes</td>\n",
       "      <td>45.1</td>\n",
       "      <td>14.4</td>\n",
       "      <td>210</td>\n",
       "      <td>FEMALE</td>\n",
       "      <td>8.51951</td>\n",
       "      <td>-27.01854</td>\n",
       "    </tr>\n",
       "    <tr>\n",
       "      <th>3</th>\n",
       "      <td>Gentoo penguin (Pygoscelis papua)</td>\n",
       "      <td>Biscoe</td>\n",
       "      <td>Yes</td>\n",
       "      <td>44.5</td>\n",
       "      <td>14.7</td>\n",
       "      <td>214</td>\n",
       "      <td>FEMALE</td>\n",
       "      <td>8.20106</td>\n",
       "      <td>-26.16524</td>\n",
       "    </tr>\n",
       "    <tr>\n",
       "      <th>4</th>\n",
       "      <td>Gentoo penguin (Pygoscelis papua)</td>\n",
       "      <td>Biscoe</td>\n",
       "      <td>No</td>\n",
       "      <td>49.6</td>\n",
       "      <td>16.0</td>\n",
       "      <td>225</td>\n",
       "      <td>MALE</td>\n",
       "      <td>8.38324</td>\n",
       "      <td>-26.84272</td>\n",
       "    </tr>\n",
       "  </tbody>\n",
       "</table>\n",
       "</div>"
      ],
      "text/plain": [
       "                                     Species  Island Full_Clutch  \\\n",
       "0          Gentoo penguin (Pygoscelis papua)  Biscoe         Yes   \n",
       "1  Chinstrap penguin (Pygoscelis antarctica)   Dream          No   \n",
       "2          Gentoo penguin (Pygoscelis papua)  Biscoe         Yes   \n",
       "3          Gentoo penguin (Pygoscelis papua)  Biscoe         Yes   \n",
       "4          Gentoo penguin (Pygoscelis papua)  Biscoe          No   \n",
       "\n",
       "   Culmen_Length  Culmen_Depth  Flipper_Length     Sex   DeltaN    DeltaC  \n",
       "0           50.0          15.3             220    MALE  8.30515 -25.19017  \n",
       "1           49.5          19.0             200    MALE  9.63074 -24.34684  \n",
       "2           45.1          14.4             210  FEMALE  8.51951 -27.01854  \n",
       "3           44.5          14.7             214  FEMALE  8.20106 -26.16524  \n",
       "4           49.6          16.0             225    MALE  8.38324 -26.84272  "
      ]
     },
     "execution_count": 245,
     "metadata": {},
     "output_type": "execute_result"
    }
   ],
   "source": [
    "dt4.head()"
   ]
  },
  {
   "cell_type": "markdown",
   "id": "a52d488c-1dba-4cab-8aee-13b1086838df",
   "metadata": {},
   "source": [
    "`-` 범주형 변수에 라벨인코딩을 해주자"
   ]
  },
  {
   "cell_type": "code",
   "execution_count": 246,
   "id": "51a7845b-8a17-4456-8edf-3d77b8865d2e",
   "metadata": {},
   "outputs": [],
   "source": [
    "from sklearn.preprocessing import LabelEncoder\n",
    "\n",
    "for col in dt4.columns:\n",
    "    if dt4.dtypes[col] == 'O':\n",
    "        encoder = LabelEncoder()\n",
    "        encoder.fit(dt4[col])\n",
    "        labels = encoder.transform(dt4[col])\n",
    "        dt4[col] = list(labels) "
   ]
  },
  {
   "cell_type": "code",
   "execution_count": 247,
   "id": "a0e093f8-4e7e-4671-af00-95c386027244",
   "metadata": {},
   "outputs": [
    {
     "data": {
      "text/html": [
       "<div>\n",
       "<style scoped>\n",
       "    .dataframe tbody tr th:only-of-type {\n",
       "        vertical-align: middle;\n",
       "    }\n",
       "\n",
       "    .dataframe tbody tr th {\n",
       "        vertical-align: top;\n",
       "    }\n",
       "\n",
       "    .dataframe thead th {\n",
       "        text-align: right;\n",
       "    }\n",
       "</style>\n",
       "<table border=\"1\" class=\"dataframe\">\n",
       "  <thead>\n",
       "    <tr style=\"text-align: right;\">\n",
       "      <th></th>\n",
       "      <th>Species</th>\n",
       "      <th>Island</th>\n",
       "      <th>Full_Clutch</th>\n",
       "      <th>Culmen_Length</th>\n",
       "      <th>Culmen_Depth</th>\n",
       "      <th>Flipper_Length</th>\n",
       "      <th>Sex</th>\n",
       "      <th>DeltaN</th>\n",
       "      <th>DeltaC</th>\n",
       "    </tr>\n",
       "  </thead>\n",
       "  <tbody>\n",
       "    <tr>\n",
       "      <th>0</th>\n",
       "      <td>2</td>\n",
       "      <td>0</td>\n",
       "      <td>1</td>\n",
       "      <td>50.0</td>\n",
       "      <td>15.3</td>\n",
       "      <td>220</td>\n",
       "      <td>1</td>\n",
       "      <td>8.30515</td>\n",
       "      <td>-25.19017</td>\n",
       "    </tr>\n",
       "    <tr>\n",
       "      <th>1</th>\n",
       "      <td>1</td>\n",
       "      <td>1</td>\n",
       "      <td>0</td>\n",
       "      <td>49.5</td>\n",
       "      <td>19.0</td>\n",
       "      <td>200</td>\n",
       "      <td>1</td>\n",
       "      <td>9.63074</td>\n",
       "      <td>-24.34684</td>\n",
       "    </tr>\n",
       "    <tr>\n",
       "      <th>2</th>\n",
       "      <td>2</td>\n",
       "      <td>0</td>\n",
       "      <td>1</td>\n",
       "      <td>45.1</td>\n",
       "      <td>14.4</td>\n",
       "      <td>210</td>\n",
       "      <td>0</td>\n",
       "      <td>8.51951</td>\n",
       "      <td>-27.01854</td>\n",
       "    </tr>\n",
       "    <tr>\n",
       "      <th>3</th>\n",
       "      <td>2</td>\n",
       "      <td>0</td>\n",
       "      <td>1</td>\n",
       "      <td>44.5</td>\n",
       "      <td>14.7</td>\n",
       "      <td>214</td>\n",
       "      <td>0</td>\n",
       "      <td>8.20106</td>\n",
       "      <td>-26.16524</td>\n",
       "    </tr>\n",
       "    <tr>\n",
       "      <th>4</th>\n",
       "      <td>2</td>\n",
       "      <td>0</td>\n",
       "      <td>0</td>\n",
       "      <td>49.6</td>\n",
       "      <td>16.0</td>\n",
       "      <td>225</td>\n",
       "      <td>1</td>\n",
       "      <td>8.38324</td>\n",
       "      <td>-26.84272</td>\n",
       "    </tr>\n",
       "  </tbody>\n",
       "</table>\n",
       "</div>"
      ],
      "text/plain": [
       "   Species  Island  Full_Clutch  Culmen_Length  Culmen_Depth  Flipper_Length  \\\n",
       "0        2       0            1           50.0          15.3             220   \n",
       "1        1       1            0           49.5          19.0             200   \n",
       "2        2       0            1           45.1          14.4             210   \n",
       "3        2       0            1           44.5          14.7             214   \n",
       "4        2       0            0           49.6          16.0             225   \n",
       "\n",
       "   Sex   DeltaN    DeltaC  \n",
       "0    1  8.30515 -25.19017  \n",
       "1    1  9.63074 -24.34684  \n",
       "2    0  8.51951 -27.01854  \n",
       "3    0  8.20106 -26.16524  \n",
       "4    1  8.38324 -26.84272  "
      ]
     },
     "execution_count": 247,
     "metadata": {},
     "output_type": "execute_result"
    }
   ],
   "source": [
    "dt4.head()"
   ]
  },
  {
   "cell_type": "markdown",
   "id": "69a7d92f-441e-4727-9a5c-be971e8b6b18",
   "metadata": {},
   "source": [
    "`-` 라벨 인코딩이 잘 되었다"
   ]
  },
  {
   "cell_type": "code",
   "execution_count": 248,
   "id": "4cca8bc4-2ed8-4521-af68-eff15ea7917c",
   "metadata": {},
   "outputs": [],
   "source": [
    "x_train, x_valid, y_train, y_valid = train_test_split(dt4, target, test_size = 0.2, shuffle = True,\n",
    "                                                      stratify = dt4['Species'], random_state = 21)\n",
    "## 종의 비율이 train, valid 비슷하도록 세팅함"
   ]
  },
  {
   "cell_type": "markdown",
   "id": "fc638603-bbf7-4a08-bfd5-412d9be0cb3a",
   "metadata": {},
   "source": [
    "`-` 위의 split한 데이터프레임을 reset_index 하게 되면 기존의 인덱스번호가 초기화됨을 잊지말자 "
   ]
  },
  {
   "cell_type": "markdown",
   "id": "ba29a632-a1df-4a35-847f-5040a252ef65",
   "metadata": {},
   "source": [
    "`-` 우선 간단하게 회귀 모형을 만들어보자\n",
    "\n",
    "`-` 변수별 상관계수가 높으므로 전체 변수를 설정하여 모형을 만들고 유의하지 않은 변수 하나씩 제거하자"
   ]
  },
  {
   "cell_type": "markdown",
   "id": "05448e8a-2e43-4735-98ee-e85f96e83b55",
   "metadata": {},
   "source": [
    "`-` 그 전에 정규화를 해주자"
   ]
  },
  {
   "cell_type": "code",
   "execution_count": 249,
   "id": "1793c66b-5dc5-448a-8510-77b137423723",
   "metadata": {},
   "outputs": [],
   "source": [
    "## 스케일러 생성\n",
    "minmax_scaler = MinMaxScaler()\n",
    "minmax_scaler.fit(x_train)\n",
    "\n",
    "## 트레인집합 정규화\n",
    "x_train_scaled = minmax_scaler.transform(x_train)\n",
    "x_train_scaled_df = pd.DataFrame(data = x_train_scaled, columns = x_train.columns)\n",
    "\n",
    "## 테스트집합 정규화\n",
    "x_valid_scaled = minmax_scaler.transform(x_valid) ## x_train에서 학습한 정규화방식을 그대로 x_valid에 적용\n",
    "x_valid_scaled_df = pd.DataFrame(data = x_valid_scaled, columns = x_valid.columns)"
   ]
  },
  {
   "cell_type": "code",
   "execution_count": 250,
   "id": "46ff43ed-fb97-441f-b64e-ac354938288a",
   "metadata": {},
   "outputs": [],
   "source": [
    "x_train_scaled_df['Body_Mass'] = list(y_train)"
   ]
  },
  {
   "cell_type": "markdown",
   "id": "99b92e06-db94-4580-9542-f3f36c4e9ab5",
   "metadata": {},
   "source": [
    "### 모델 선택"
   ]
  },
  {
   "cell_type": "code",
   "execution_count": 261,
   "id": "36bda98f-9aa7-4cea-a6dd-45a18b9d7a42",
   "metadata": {},
   "outputs": [
    {
     "data": {
      "text/html": [
       "<div>\n",
       "<style scoped>\n",
       "    .dataframe tbody tr th:only-of-type {\n",
       "        vertical-align: middle;\n",
       "    }\n",
       "\n",
       "    .dataframe tbody tr th {\n",
       "        vertical-align: top;\n",
       "    }\n",
       "\n",
       "    .dataframe thead th {\n",
       "        text-align: right;\n",
       "    }\n",
       "</style>\n",
       "<table border=\"1\" class=\"dataframe\">\n",
       "  <thead>\n",
       "    <tr style=\"text-align: right;\">\n",
       "      <th></th>\n",
       "      <th>Species</th>\n",
       "      <th>Island</th>\n",
       "      <th>Full_Clutch</th>\n",
       "      <th>Culmen_Length</th>\n",
       "      <th>Culmen_Depth</th>\n",
       "      <th>Flipper_Length</th>\n",
       "      <th>Sex</th>\n",
       "      <th>DeltaN</th>\n",
       "      <th>DeltaC</th>\n",
       "      <th>Body_Mass</th>\n",
       "    </tr>\n",
       "  </thead>\n",
       "  <tbody>\n",
       "    <tr>\n",
       "      <th>0</th>\n",
       "      <td>1.0</td>\n",
       "      <td>0.0</td>\n",
       "      <td>0.0</td>\n",
       "      <td>0.745370</td>\n",
       "      <td>0.354430</td>\n",
       "      <td>0.894737</td>\n",
       "      <td>1.0</td>\n",
       "      <td>0.313817</td>\n",
       "      <td>0.061629</td>\n",
       "      <td>5700</td>\n",
       "    </tr>\n",
       "    <tr>\n",
       "      <th>1</th>\n",
       "      <td>0.0</td>\n",
       "      <td>1.0</td>\n",
       "      <td>1.0</td>\n",
       "      <td>0.143519</td>\n",
       "      <td>0.582278</td>\n",
       "      <td>0.192982</td>\n",
       "      <td>0.0</td>\n",
       "      <td>0.461899</td>\n",
       "      <td>0.454099</td>\n",
       "      <td>3700</td>\n",
       "    </tr>\n",
       "    <tr>\n",
       "      <th>2</th>\n",
       "      <td>0.5</td>\n",
       "      <td>0.5</td>\n",
       "      <td>0.0</td>\n",
       "      <td>0.620370</td>\n",
       "      <td>0.430380</td>\n",
       "      <td>0.315789</td>\n",
       "      <td>0.0</td>\n",
       "      <td>0.908262</td>\n",
       "      <td>0.799610</td>\n",
       "      <td>2700</td>\n",
       "    </tr>\n",
       "    <tr>\n",
       "      <th>3</th>\n",
       "      <td>0.0</td>\n",
       "      <td>1.0</td>\n",
       "      <td>1.0</td>\n",
       "      <td>0.000000</td>\n",
       "      <td>0.734177</td>\n",
       "      <td>0.280702</td>\n",
       "      <td>0.0</td>\n",
       "      <td>0.107148</td>\n",
       "      <td>0.135894</td>\n",
       "      <td>3600</td>\n",
       "    </tr>\n",
       "    <tr>\n",
       "      <th>4</th>\n",
       "      <td>1.0</td>\n",
       "      <td>0.0</td>\n",
       "      <td>1.0</td>\n",
       "      <td>0.527778</td>\n",
       "      <td>0.012658</td>\n",
       "      <td>0.684211</td>\n",
       "      <td>0.0</td>\n",
       "      <td>0.342410</td>\n",
       "      <td>0.042799</td>\n",
       "      <td>5100</td>\n",
       "    </tr>\n",
       "  </tbody>\n",
       "</table>\n",
       "</div>"
      ],
      "text/plain": [
       "   Species  Island  Full_Clutch  Culmen_Length  Culmen_Depth  Flipper_Length  \\\n",
       "0      1.0     0.0          0.0       0.745370      0.354430        0.894737   \n",
       "1      0.0     1.0          1.0       0.143519      0.582278        0.192982   \n",
       "2      0.5     0.5          0.0       0.620370      0.430380        0.315789   \n",
       "3      0.0     1.0          1.0       0.000000      0.734177        0.280702   \n",
       "4      1.0     0.0          1.0       0.527778      0.012658        0.684211   \n",
       "\n",
       "   Sex    DeltaN    DeltaC  Body_Mass  \n",
       "0  1.0  0.313817  0.061629       5700  \n",
       "1  0.0  0.461899  0.454099       3700  \n",
       "2  0.0  0.908262  0.799610       2700  \n",
       "3  0.0  0.107148  0.135894       3600  \n",
       "4  0.0  0.342410  0.042799       5100  "
      ]
     },
     "execution_count": 261,
     "metadata": {},
     "output_type": "execute_result"
    }
   ],
   "source": [
    "x_train_scaled_df.head()"
   ]
  },
  {
   "cell_type": "code",
   "execution_count": 138,
   "id": "b72f1c22-3f40-43f6-b416-b24170b13387",
   "metadata": {},
   "outputs": [],
   "source": [
    "rst = smf.ols(formula = 'Body_Mass ~ Culmen_Length +\\\n",
    "                 Culmen_Depth + Flipper_Length +\\\n",
    "                 DeltaN + DeltaC + Species +\\\n",
    "                 Island + Full_Clutch + Sex', data = x_train_scaled_df).fit()"
   ]
  },
  {
   "cell_type": "code",
   "execution_count": 144,
   "id": "6bc9ec80-edcc-4345-ae85-95c6be57cb81",
   "metadata": {},
   "outputs": [],
   "source": [
    "# rst.summary()"
   ]
  },
  {
   "cell_type": "markdown",
   "id": "ffbaeeb5-1d1c-473b-9d32-a331d813d0ea",
   "metadata": {},
   "source": [
    "`-` Full_Clutch 변수가 가장 유의하지 않게 나온다\n",
    "\n",
    "`-` 또한 정규화로 인해 다중공선성도 사라졌다\n",
    "\n",
    "`-` (원핫인코딩) + (정규화) 에서는 정규화를 해도 다중공선성이 있었는데 왜 그런지는 더 알아봐야 될 것 같다\n",
    "\n",
    "`-` 내 생각 : 원핫인코딩이 문제(피쳐 개수가 늘어남), 라벨인코딩을 해줘야 한다\n",
    "\n",
    "`-` 원핫인코딩으로 Species를 3개로 나눴는데 EDA를 보면 Species간에 구분이 확실한 것을 알 수 있음 ---> 이 때문인 듯 \n",
    "\n",
    "`-` 아무튼 Full_Clutch 변수를 제거하고 다시 회귀분석을 실시하자"
   ]
  },
  {
   "cell_type": "code",
   "execution_count": 142,
   "id": "262d97cb-ae75-4b99-b0d0-fdf843edde70",
   "metadata": {},
   "outputs": [],
   "source": [
    "rst2 = smf.ols(formula = 'Body_Mass ~ Culmen_Length +\\\n",
    "                 Culmen_Depth + Flipper_Length +\\\n",
    "                 DeltaN + DeltaC + Species +\\\n",
    "                 Island + Sex', data = x_train_scaled_df).fit()"
   ]
  },
  {
   "cell_type": "code",
   "execution_count": 145,
   "id": "f200305f-6b16-4d07-8f71-676b2e797c5c",
   "metadata": {},
   "outputs": [],
   "source": [
    "# rst2.summary()"
   ]
  },
  {
   "cell_type": "markdown",
   "id": "5cb06b98-f88a-4588-88f8-6551652c6d00",
   "metadata": {},
   "source": [
    "`-` Culmen_Length 변수가 가장 유의하지 않게 나온다\n",
    "\n",
    "`-` 이를 제거하고 다시 회귀분석을 실시하자"
   ]
  },
  {
   "cell_type": "code",
   "execution_count": 146,
   "id": "6f0b149c-3582-44b3-8e1f-c354c3529c07",
   "metadata": {},
   "outputs": [],
   "source": [
    "rst3 = smf.ols(formula = 'Body_Mass ~ \\\n",
    "                 Culmen_Depth + Flipper_Length +\\\n",
    "                 DeltaN + DeltaC + Species +\\\n",
    "                 Island + Sex', data = x_train_scaled_df).fit()"
   ]
  },
  {
   "cell_type": "code",
   "execution_count": 152,
   "id": "ec74400e-e988-4e6b-8296-c179a4c53ef3",
   "metadata": {},
   "outputs": [],
   "source": [
    "# rst3.summary()"
   ]
  },
  {
   "cell_type": "markdown",
   "id": "ef00e258-4b32-44bb-9100-d57380b7c27b",
   "metadata": {},
   "source": [
    "`-` Culmen_Depth 변수가 가장 유의하지 않게 나온다\n",
    "\n",
    "`-` 이를 제거하고 다시 회귀분석을 실시하자"
   ]
  },
  {
   "cell_type": "code",
   "execution_count": 149,
   "id": "20daf1ca-fa53-45ad-8d34-c7586f37de70",
   "metadata": {},
   "outputs": [],
   "source": [
    "rst4 = smf.ols(formula = 'Body_Mass ~ Flipper_Length +\\\n",
    "                 DeltaN + DeltaC + Species +\\\n",
    "                 Island + Sex', data = x_train_scaled_df).fit()"
   ]
  },
  {
   "cell_type": "code",
   "execution_count": 155,
   "id": "ac876fb8-f4b1-44fc-adbb-8eb1d4ae2381",
   "metadata": {},
   "outputs": [],
   "source": [
    "# rst4.summary()"
   ]
  },
  {
   "cell_type": "markdown",
   "id": "cdc18321-4004-48f3-b15c-3529ae7deb48",
   "metadata": {},
   "source": [
    "`-` DeltaC 변수가 가장 유의하지 않게 나온다\n",
    "\n",
    "`-` 이를 제거하고 다시 회귀분석을 실시하자"
   ]
  },
  {
   "cell_type": "code",
   "execution_count": 262,
   "id": "d52dacce-9fb9-4671-9391-4b73d5c38a32",
   "metadata": {},
   "outputs": [],
   "source": [
    "rst5 = smf.ols(formula = 'Body_Mass ~ Flipper_Length +\\\n",
    "                 DeltaN + Species +\\\n",
    "                 Island + Sex', data = x_train_scaled_df).fit()"
   ]
  },
  {
   "cell_type": "code",
   "execution_count": 166,
   "id": "b838d243-2ed9-40e1-8fec-c591e9b2aae7",
   "metadata": {},
   "outputs": [],
   "source": [
    "# rst5.summary()"
   ]
  },
  {
   "cell_type": "markdown",
   "id": "cd0c84d4-3669-460e-aefe-8c7d10351db3",
   "metadata": {},
   "source": [
    "`-` Species 변수가 가장 유의하지 않게 나온다\n",
    "\n",
    "`-` EDA를 통해 Species와 Island에 의해 클러스터링됨을 확인했다\n",
    "\n",
    "`-` 예상외로 Species 변수보다 Island 변수가 더 유의하게 나온다\n",
    "\n",
    "`-` Species 변수를 제거하고 다시 회귀분석을 실시하자"
   ]
  },
  {
   "cell_type": "code",
   "execution_count": 271,
   "id": "9b11272e-8cc7-4973-9a5d-72856da7ea57",
   "metadata": {},
   "outputs": [],
   "source": [
    "rst6 = smf.ols(formula = 'Body_Mass ~ Flipper_Length +\\\n",
    "                 DeltaN + Island + Sex', data = x_train_scaled_df).fit()"
   ]
  },
  {
   "cell_type": "code",
   "execution_count": 273,
   "id": "87e75222-5efe-4d63-b257-2ab52fcdacfc",
   "metadata": {},
   "outputs": [],
   "source": [
    "# rst6.summary()"
   ]
  },
  {
   "cell_type": "markdown",
   "id": "923d03cb-c0bf-4232-a632-42017defaf2b",
   "metadata": {},
   "source": [
    "`-` 유의하지 않은 변수가 없다\n",
    "\n",
    "`-` 그런데 오히려 결정계수가 떨어졌다\n",
    "\n",
    "`-` 평가지표가 RMSE인 만큼 좋지 않은 결과이다\n",
    "\n",
    "`-` Species 변수는 제거하지 않겠다\n",
    "\n",
    "`-` 최종 모형은 rst5를 사용하자"
   ]
  },
  {
   "cell_type": "code",
   "execution_count": 268,
   "id": "8c97c870-ca6f-47e7-969b-76240f3ed858",
   "metadata": {},
   "outputs": [],
   "source": [
    "rst7 = smf.ols(formula = 'Body_Mass ~ Flipper_Length +\\\n",
    "                 DeltaN + Species + Sex', data = x_train_scaled_df).fit()"
   ]
  },
  {
   "cell_type": "code",
   "execution_count": 274,
   "id": "ce97268b-3dbf-4671-a5f6-3efb8850e339",
   "metadata": {},
   "outputs": [],
   "source": [
    "# rst7.summary()"
   ]
  },
  {
   "cell_type": "markdown",
   "id": "70867309-dbb5-4755-bff2-21b35c4ebd7e",
   "metadata": {},
   "source": [
    "`-` 대신에 Island 변수를 제거해봤다"
   ]
  },
  {
   "cell_type": "markdown",
   "id": "91e000e5-8fc2-4624-8552-f8d5472446ce",
   "metadata": {},
   "source": [
    "### 잔차와 적합치 산점도"
   ]
  },
  {
   "cell_type": "code",
   "execution_count": 26,
   "id": "71c16406-2f2c-401d-8160-7f114a945494",
   "metadata": {},
   "outputs": [],
   "source": [
    "import matplotlib.pyplot as plt"
   ]
  },
  {
   "cell_type": "code",
   "execution_count": 263,
   "id": "fa36d205-f7e8-450e-903e-ad8eb799132b",
   "metadata": {},
   "outputs": [
    {
     "data": {
      "text/plain": [
       "Text(0.5, 1.0, 'fitted vs residual')"
      ]
     },
     "execution_count": 263,
     "metadata": {},
     "output_type": "execute_result"
    },
    {
     "data": {
      "image/png": "[encoded data removed]",
      "text/plain": [
       "<Figure size 432x288 with 1 Axes>"
      ]
     },
     "metadata": {
      "needs_background": "light"
     },
     "output_type": "display_data"
    }
   ],
   "source": [
    "plt.plot(rst5.fittedvalues, rst5.resid, '.k')\n",
    "plt.axhline(0, 0.0, 1.0, color = 'red')\n",
    "plt.title('fitted vs residual')"
   ]
  },
  {
   "cell_type": "markdown",
   "id": "31c7a0d1-d1a1-465b-b6da-6e52341d54bf",
   "metadata": {},
   "source": [
    "`-` 예쁘게 잘 나왔다"
   ]
  },
  {
   "cell_type": "code",
   "execution_count": 279,
   "id": "c5ca56d5-f28a-4009-bd01-51f7aff9d327",
   "metadata": {},
   "outputs": [
    {
     "data": {
      "text/plain": [
       "<AxesSubplot:>"
      ]
     },
     "execution_count": 279,
     "metadata": {},
     "output_type": "execute_result"
    },
    {
     "data": {
      "image/png": "[encoded data removed]",
      "text/plain": [
       "<Figure size 432x288 with 1 Axes>"
      ]
     },
     "metadata": {
      "needs_background": "light"
     },
     "output_type": "display_data"
    }
   ],
   "source": [
    "rst5.resid.hist()"
   ]
  },
  {
   "cell_type": "markdown",
   "id": "5273fbd6-e2a6-41b3-8b20-ed831ab78c97",
   "metadata": {},
   "source": [
    "`-` 잔차가 종모양을 띈다"
   ]
  },
  {
   "cell_type": "markdown",
   "id": "eb2cc45f-563b-430d-bdca-6f461e363eb3",
   "metadata": {},
   "source": [
    "`-` Island를 제거하고 Species를 선택한 모형(rst7)에 대한 잔차와 적합치 그림"
   ]
  },
  {
   "cell_type": "code",
   "execution_count": 275,
   "id": "7b773f4c-29fd-40cc-9b68-815a15105298",
   "metadata": {},
   "outputs": [
    {
     "data": {
      "text/plain": [
       "Text(0.5, 1.0, 'fitted vs residual')"
      ]
     },
     "execution_count": 275,
     "metadata": {},
     "output_type": "execute_result"
    },
    {
     "data": {
      "image/png": "[encoded data removed]",
      "text/plain": [
       "<Figure size 432x288 with 1 Axes>"
      ]
     },
     "metadata": {
      "needs_background": "light"
     },
     "output_type": "display_data"
    }
   ],
   "source": [
    "plt.plot(rst7.fittedvalues, rst7.resid, '.k')\n",
    "plt.axhline(0, 0.0, 1.0, color = 'red')\n",
    "plt.title('fitted vs residual')"
   ]
  },
  {
   "cell_type": "markdown",
   "id": "8a600e38-b3c7-452b-ab71-03f617a976ca",
   "metadata": {},
   "source": [
    "`-` 이 역시 잘 나왔다\n",
    "\n",
    "`-` 수평선을 기준으로 잔차가 고르게 나뉘었으며 이분산성도 없어보인다"
   ]
  },
  {
   "cell_type": "code",
   "execution_count": 278,
   "id": "0e6594ea-7faa-4d6e-a70a-74b20166041d",
   "metadata": {},
   "outputs": [
    {
     "data": {
      "text/plain": [
       "<AxesSubplot:>"
      ]
     },
     "execution_count": 278,
     "metadata": {},
     "output_type": "execute_result"
    },
    {
     "data": {
      "image/png": "[encoded data removed]",
      "text/plain": [
       "<Figure size 432x288 with 1 Axes>"
      ]
     },
     "metadata": {
      "needs_background": "light"
     },
     "output_type": "display_data"
    }
   ],
   "source": [
    "rst7.resid.hist()"
   ]
  },
  {
   "cell_type": "markdown",
   "id": "3e975926-3e7e-4778-bf15-b1d992bf8875",
   "metadata": {},
   "source": [
    "`-` 잔차가 종모양을 띈다"
   ]
  },
  {
   "cell_type": "markdown",
   "id": "ce6e70c8-4c2e-4a71-aea6-89a0fe13b14a",
   "metadata": {},
   "source": [
    "### 모델 평가"
   ]
  },
  {
   "cell_type": "code",
   "execution_count": 288,
   "id": "fdcce8db-d296-4c5d-82af-a433d10335ab",
   "metadata": {},
   "outputs": [],
   "source": [
    "def mass_predict_rst(df, pred_df):\n",
    "    y_predict = np.array(list(pred_df.query('var_name == \"Intercept\"')['coefficient']) * len(df))\n",
    "    for col in df.columns:\n",
    "        if col in pred_df.set_index('var_name').T.columns:\n",
    "            y_predict += (np.array(df[col] * pred_df.query('var_name == @col')['coefficient'].to_numpy()))\n",
    "    return y_predict"
   ]
  },
  {
   "cell_type": "code",
   "execution_count": 289,
   "id": "5b8b2151-d7ad-426f-a213-a67d22199509",
   "metadata": {},
   "outputs": [],
   "source": [
    "pred_df5 = pd.DataFrame(rst5.params).reset_index().rename(columns = {'index':'var_name', 0:'coefficient'})"
   ]
  },
  {
   "cell_type": "code",
   "execution_count": 285,
   "id": "4e720000-cee1-40c5-b9bc-9acd6cb78a20",
   "metadata": {},
   "outputs": [],
   "source": [
    "pred_df7 = pd.DataFrame(rst7.params).reset_index().rename(columns = {'index':'var_name', 0:'coefficient'})"
   ]
  },
  {
   "cell_type": "code",
   "execution_count": 290,
   "id": "4cbf5567-50ca-488f-94b2-466f146654aa",
   "metadata": {},
   "outputs": [
    {
     "data": {
      "text/plain": [
       "array([3504.2814836 , 4160.39385879, 3502.54533651, 5345.76197534,\n",
       "       3830.45929757, 3380.66628828])"
      ]
     },
     "execution_count": 290,
     "metadata": {},
     "output_type": "execute_result"
    }
   ],
   "source": [
    "predict_y5 = mass_predict_rst(x_valid_scaled_df, pred_df5)\n",
    "predict_y5[:6]"
   ]
  },
  {
   "cell_type": "code",
   "execution_count": 291,
   "id": "6f9d4b10-9d1c-49c3-a3be-a2be17ba6d4b",
   "metadata": {},
   "outputs": [
    {
     "data": {
      "text/plain": [
       "array([3545.17528648, 4185.92493692, 3651.95784854, 5331.24476676,\n",
       "       3977.18920337, 3185.64960478])"
      ]
     },
     "execution_count": 291,
     "metadata": {},
     "output_type": "execute_result"
    }
   ],
   "source": [
    "predict_y7 = mass_predict_rst(x_valid_scaled_df, pred_df7)\n",
    "predict_y7[:6]"
   ]
  },
  {
   "cell_type": "code",
   "execution_count": 292,
   "id": "d4f19e63-c8cc-4d34-968a-c61da2770a77",
   "metadata": {},
   "outputs": [
    {
     "name": "stdout",
     "output_type": "stream",
     "text": [
      "이 방정식의 평균 에러는 246.55 입니다\n"
     ]
    }
   ],
   "source": [
    "# 실제 정답 값을 준비\n",
    "real_answer = y_valid.copy()\n",
    "\n",
    "# 정답과 예측 값을 함수에 넣어 결과를 확인\n",
    "error = RMSE(real_answer, predict_y5)\n",
    "\n",
    "print(f'이 방정식의 평균 에러는 {error:.2f} 입니다')"
   ]
  },
  {
   "cell_type": "code",
   "execution_count": 293,
   "id": "679e89bb-b3f3-46f8-ba4c-a5b3784e4f05",
   "metadata": {},
   "outputs": [
    {
     "name": "stdout",
     "output_type": "stream",
     "text": [
      "이 방정식의 평균 에러는 238.04 입니다\n"
     ]
    }
   ],
   "source": [
    "# 정답과 예측 값을 함수에 넣어 결과를 확인\n",
    "error = RMSE(real_answer, predict_y7)\n",
    "\n",
    "print(f'이 방정식의 평균 에러는 {error:.2f} 입니다')"
   ]
  },
  {
   "cell_type": "markdown",
   "id": "e66c9500-d59c-4960-bcce-101b30af3f89",
   "metadata": {},
   "source": [
    "`-` 모델 평가를 마쳤다\n",
    "\n",
    "`-` test파일을 불러와 예측하고 이를 제출하자"
   ]
  },
  {
   "cell_type": "markdown",
   "id": "e1e47757-c380-4c1a-8fd1-b62ebe46f508",
   "metadata": {},
   "source": [
    "### test 데이터 예측"
   ]
  },
  {
   "cell_type": "code",
   "execution_count": 300,
   "id": "e843d786-c238-411b-8d5f-7b3aed899de6",
   "metadata": {},
   "outputs": [
    {
     "data": {
      "text/html": [
       "<div>\n",
       "<style scoped>\n",
       "    .dataframe tbody tr th:only-of-type {\n",
       "        vertical-align: middle;\n",
       "    }\n",
       "\n",
       "    .dataframe tbody tr th {\n",
       "        vertical-align: top;\n",
       "    }\n",
       "\n",
       "    .dataframe thead th {\n",
       "        text-align: right;\n",
       "    }\n",
       "</style>\n",
       "<table border=\"1\" class=\"dataframe\">\n",
       "  <thead>\n",
       "    <tr style=\"text-align: right;\">\n",
       "      <th></th>\n",
       "      <th>id</th>\n",
       "      <th>Species</th>\n",
       "      <th>Island</th>\n",
       "      <th>Clutch Completion</th>\n",
       "      <th>Culmen Length (mm)</th>\n",
       "      <th>Culmen Depth (mm)</th>\n",
       "      <th>Flipper Length (mm)</th>\n",
       "      <th>Sex</th>\n",
       "      <th>Delta 15 N (o/oo)</th>\n",
       "      <th>Delta 13 C (o/oo)</th>\n",
       "    </tr>\n",
       "  </thead>\n",
       "  <tbody>\n",
       "    <tr>\n",
       "      <th>0</th>\n",
       "      <td>0</td>\n",
       "      <td>Chinstrap penguin (Pygoscelis antarctica)</td>\n",
       "      <td>Dream</td>\n",
       "      <td>Yes</td>\n",
       "      <td>52.0</td>\n",
       "      <td>20.7</td>\n",
       "      <td>210.0</td>\n",
       "      <td>MALE</td>\n",
       "      <td>9.43146</td>\n",
       "      <td>-24.68440</td>\n",
       "    </tr>\n",
       "    <tr>\n",
       "      <th>1</th>\n",
       "      <td>1</td>\n",
       "      <td>Gentoo penguin (Pygoscelis papua)</td>\n",
       "      <td>Biscoe</td>\n",
       "      <td>Yes</td>\n",
       "      <td>55.9</td>\n",
       "      <td>17.0</td>\n",
       "      <td>228.0</td>\n",
       "      <td>MALE</td>\n",
       "      <td>8.31180</td>\n",
       "      <td>-26.35425</td>\n",
       "    </tr>\n",
       "    <tr>\n",
       "      <th>2</th>\n",
       "      <td>2</td>\n",
       "      <td>Adelie Penguin (Pygoscelis adeliae)</td>\n",
       "      <td>Dream</td>\n",
       "      <td>Yes</td>\n",
       "      <td>38.9</td>\n",
       "      <td>18.8</td>\n",
       "      <td>190.0</td>\n",
       "      <td>FEMALE</td>\n",
       "      <td>8.36936</td>\n",
       "      <td>-26.11199</td>\n",
       "    </tr>\n",
       "    <tr>\n",
       "      <th>3</th>\n",
       "      <td>3</td>\n",
       "      <td>Chinstrap penguin (Pygoscelis antarctica)</td>\n",
       "      <td>Dream</td>\n",
       "      <td>Yes</td>\n",
       "      <td>45.2</td>\n",
       "      <td>16.6</td>\n",
       "      <td>191.0</td>\n",
       "      <td>FEMALE</td>\n",
       "      <td>9.62357</td>\n",
       "      <td>-24.78984</td>\n",
       "    </tr>\n",
       "    <tr>\n",
       "      <th>4</th>\n",
       "      <td>4</td>\n",
       "      <td>Adelie Penguin (Pygoscelis adeliae)</td>\n",
       "      <td>Biscoe</td>\n",
       "      <td>No</td>\n",
       "      <td>37.9</td>\n",
       "      <td>18.6</td>\n",
       "      <td>172.0</td>\n",
       "      <td>FEMALE</td>\n",
       "      <td>8.38404</td>\n",
       "      <td>-25.19837</td>\n",
       "    </tr>\n",
       "  </tbody>\n",
       "</table>\n",
       "</div>"
      ],
      "text/plain": [
       "   id                                    Species  Island Clutch Completion  \\\n",
       "0   0  Chinstrap penguin (Pygoscelis antarctica)   Dream               Yes   \n",
       "1   1          Gentoo penguin (Pygoscelis papua)  Biscoe               Yes   \n",
       "2   2        Adelie Penguin (Pygoscelis adeliae)   Dream               Yes   \n",
       "3   3  Chinstrap penguin (Pygoscelis antarctica)   Dream               Yes   \n",
       "4   4        Adelie Penguin (Pygoscelis adeliae)  Biscoe                No   \n",
       "\n",
       "   Culmen Length (mm)  Culmen Depth (mm)  Flipper Length (mm)     Sex  \\\n",
       "0                52.0               20.7                210.0    MALE   \n",
       "1                55.9               17.0                228.0    MALE   \n",
       "2                38.9               18.8                190.0  FEMALE   \n",
       "3                45.2               16.6                191.0  FEMALE   \n",
       "4                37.9               18.6                172.0  FEMALE   \n",
       "\n",
       "   Delta 15 N (o/oo)  Delta 13 C (o/oo)  \n",
       "0            9.43146          -24.68440  \n",
       "1            8.31180          -26.35425  \n",
       "2            8.36936          -26.11199  \n",
       "3            9.62357          -24.78984  \n",
       "4            8.38404          -25.19837  "
      ]
     },
     "execution_count": 300,
     "metadata": {},
     "output_type": "execute_result"
    }
   ],
   "source": [
    "test = pd.read_csv('C:/Users/Jaesu/Dacon-Basic/뗑컨-몸무게-예측/Data/test.csv')\n",
    "test.head()"
   ]
  },
  {
   "cell_type": "code",
   "execution_count": 301,
   "id": "5fdb9564-253c-4846-914b-23926046c138",
   "metadata": {},
   "outputs": [
    {
     "data": {
      "text/plain": [
       "id                     0\n",
       "Species                0\n",
       "Island                 0\n",
       "Clutch Completion      0\n",
       "Culmen Length (mm)     0\n",
       "Culmen Depth (mm)      0\n",
       "Flipper Length (mm)    0\n",
       "Sex                    6\n",
       "Delta 15 N (o/oo)      9\n",
       "Delta 13 C (o/oo)      8\n",
       "dtype: int64"
      ]
     },
     "execution_count": 301,
     "metadata": {},
     "output_type": "execute_result"
    }
   ],
   "source": [
    "test.isnull().sum()"
   ]
  },
  {
   "cell_type": "markdown",
   "id": "5db8a5a3-940f-485c-8920-1ed8d36864a8",
   "metadata": {},
   "source": [
    "`-` test 데이터에 NA가 존재한다\n",
    "\n",
    "`-` 위에서 train 데이터의 NA를 처리하는 방식과 비슷하게 처리하자"
   ]
  },
  {
   "cell_type": "markdown",
   "id": "c885cefc-5375-4948-b9ce-cbf98a3f3410",
   "metadata": {},
   "source": [
    "`-` 방사성 동위원소 값은 train 데이터의 각각의 동위원소 피쳐 평균으로 대체한다"
   ]
  },
  {
   "cell_type": "code",
   "execution_count": 302,
   "id": "6ff33594-c9a5-4940-82e1-58172677907f",
   "metadata": {},
   "outputs": [],
   "source": [
    "test['Delta 15 N (o/oo)'].fillna(dt['DeltaN'].mean(), inplace = True)\n",
    "test['Delta 13 C (o/oo)'].fillna(dt['DeltaC'].mean(), inplace = True)"
   ]
  },
  {
   "cell_type": "code",
   "execution_count": 303,
   "id": "ef3e8006-0b13-48e0-9f29-83a4702b5f2f",
   "metadata": {},
   "outputs": [
    {
     "data": {
      "text/html": [
       "<div>\n",
       "<style scoped>\n",
       "    .dataframe tbody tr th:only-of-type {\n",
       "        vertical-align: middle;\n",
       "    }\n",
       "\n",
       "    .dataframe tbody tr th {\n",
       "        vertical-align: top;\n",
       "    }\n",
       "\n",
       "    .dataframe thead th {\n",
       "        text-align: right;\n",
       "    }\n",
       "</style>\n",
       "<table border=\"1\" class=\"dataframe\">\n",
       "  <thead>\n",
       "    <tr style=\"text-align: right;\">\n",
       "      <th></th>\n",
       "      <th>id</th>\n",
       "      <th>Species</th>\n",
       "      <th>Island</th>\n",
       "      <th>Clutch Completion</th>\n",
       "      <th>Culmen Length (mm)</th>\n",
       "      <th>Culmen Depth (mm)</th>\n",
       "      <th>Flipper Length (mm)</th>\n",
       "      <th>Sex</th>\n",
       "      <th>Delta 15 N (o/oo)</th>\n",
       "      <th>Delta 13 C (o/oo)</th>\n",
       "    </tr>\n",
       "  </thead>\n",
       "  <tbody>\n",
       "    <tr>\n",
       "      <th>46</th>\n",
       "      <td>46</td>\n",
       "      <td>Adelie Penguin (Pygoscelis adeliae)</td>\n",
       "      <td>Torgersen</td>\n",
       "      <td>Yes</td>\n",
       "      <td>37.8</td>\n",
       "      <td>17.1</td>\n",
       "      <td>186.0</td>\n",
       "      <td>NaN</td>\n",
       "      <td>8.632430</td>\n",
       "      <td>-25.213150</td>\n",
       "    </tr>\n",
       "    <tr>\n",
       "      <th>81</th>\n",
       "      <td>81</td>\n",
       "      <td>Adelie Penguin (Pygoscelis adeliae)</td>\n",
       "      <td>Dream</td>\n",
       "      <td>Yes</td>\n",
       "      <td>37.5</td>\n",
       "      <td>18.9</td>\n",
       "      <td>179.0</td>\n",
       "      <td>NaN</td>\n",
       "      <td>8.737634</td>\n",
       "      <td>-25.723051</td>\n",
       "    </tr>\n",
       "    <tr>\n",
       "      <th>98</th>\n",
       "      <td>98</td>\n",
       "      <td>Gentoo penguin (Pygoscelis papua)</td>\n",
       "      <td>Biscoe</td>\n",
       "      <td>Yes</td>\n",
       "      <td>47.3</td>\n",
       "      <td>13.8</td>\n",
       "      <td>216.0</td>\n",
       "      <td>NaN</td>\n",
       "      <td>8.258180</td>\n",
       "      <td>-26.238860</td>\n",
       "    </tr>\n",
       "    <tr>\n",
       "      <th>152</th>\n",
       "      <td>152</td>\n",
       "      <td>Gentoo penguin (Pygoscelis papua)</td>\n",
       "      <td>Biscoe</td>\n",
       "      <td>Yes</td>\n",
       "      <td>44.5</td>\n",
       "      <td>15.7</td>\n",
       "      <td>217.0</td>\n",
       "      <td>NaN</td>\n",
       "      <td>8.041110</td>\n",
       "      <td>-26.184440</td>\n",
       "    </tr>\n",
       "    <tr>\n",
       "      <th>205</th>\n",
       "      <td>205</td>\n",
       "      <td>Adelie Penguin (Pygoscelis adeliae)</td>\n",
       "      <td>Torgersen</td>\n",
       "      <td>Yes</td>\n",
       "      <td>37.8</td>\n",
       "      <td>17.3</td>\n",
       "      <td>180.0</td>\n",
       "      <td>NaN</td>\n",
       "      <td>8.737634</td>\n",
       "      <td>-25.723051</td>\n",
       "    </tr>\n",
       "    <tr>\n",
       "      <th>209</th>\n",
       "      <td>209</td>\n",
       "      <td>Gentoo penguin (Pygoscelis papua)</td>\n",
       "      <td>Biscoe</td>\n",
       "      <td>Yes</td>\n",
       "      <td>44.5</td>\n",
       "      <td>14.3</td>\n",
       "      <td>216.0</td>\n",
       "      <td>NaN</td>\n",
       "      <td>7.966210</td>\n",
       "      <td>-25.693270</td>\n",
       "    </tr>\n",
       "  </tbody>\n",
       "</table>\n",
       "</div>"
      ],
      "text/plain": [
       "      id                              Species     Island Clutch Completion  \\\n",
       "46    46  Adelie Penguin (Pygoscelis adeliae)  Torgersen               Yes   \n",
       "81    81  Adelie Penguin (Pygoscelis adeliae)      Dream               Yes   \n",
       "98    98    Gentoo penguin (Pygoscelis papua)     Biscoe               Yes   \n",
       "152  152    Gentoo penguin (Pygoscelis papua)     Biscoe               Yes   \n",
       "205  205  Adelie Penguin (Pygoscelis adeliae)  Torgersen               Yes   \n",
       "209  209    Gentoo penguin (Pygoscelis papua)     Biscoe               Yes   \n",
       "\n",
       "     Culmen Length (mm)  Culmen Depth (mm)  Flipper Length (mm)  Sex  \\\n",
       "46                 37.8               17.1                186.0  NaN   \n",
       "81                 37.5               18.9                179.0  NaN   \n",
       "98                 47.3               13.8                216.0  NaN   \n",
       "152                44.5               15.7                217.0  NaN   \n",
       "205                37.8               17.3                180.0  NaN   \n",
       "209                44.5               14.3                216.0  NaN   \n",
       "\n",
       "     Delta 15 N (o/oo)  Delta 13 C (o/oo)  \n",
       "46            8.632430         -25.213150  \n",
       "81            8.737634         -25.723051  \n",
       "98            8.258180         -26.238860  \n",
       "152           8.041110         -26.184440  \n",
       "205           8.737634         -25.723051  \n",
       "209           7.966210         -25.693270  "
      ]
     },
     "execution_count": 303,
     "metadata": {},
     "output_type": "execute_result"
    }
   ],
   "source": [
    "## 결측치가 있는 row들을 확인\n",
    "test[test.isna().sum(axis = 1) > 0]"
   ]
  },
  {
   "cell_type": "markdown",
   "id": "ca25eded-ed95-4ea4-8e36-3545efbfc093",
   "metadata": {},
   "source": [
    "`-` 문제점은 test 데이터에는 몸무게가 없다는 것이다\n",
    "\n",
    "`-` EDA를 통해 Body_Mass와 Flipper_Length 간의 강한 양의 상관관계가 있음을 알아냈다\n",
    "\n",
    "`-` 그러니 Body_Mass대신 Flipper_Length를 사용하자"
   ]
  },
  {
   "cell_type": "code",
   "execution_count": 304,
   "id": "fddff183-5d2c-400e-897b-c4a9fc82f211",
   "metadata": {},
   "outputs": [],
   "source": [
    "test.rename(columns = {'Clutch Completion':'Full_Clutch', 'Culmen Length (mm)':'Culmen_Length', \n",
    "                     'Culmen Depth (mm)':'Culmen_Depth', 'Flipper Length (mm)':'Flipper_Length',\n",
    "                     'Delta 15 N (o/oo)':'DeltaN', 'Delta 13 C (o/oo)':'DeltaC', 'Body Mass (g)':'Body_Mass'}, inplace = True) ## 열 이름 변경"
   ]
  },
  {
   "cell_type": "code",
   "execution_count": 305,
   "id": "e8a05dd5-46b2-4e7d-b0ce-566b40ad64d7",
   "metadata": {},
   "outputs": [
    {
     "data": {
      "text/html": [
       "<div>\n",
       "<style scoped>\n",
       "    .dataframe tbody tr th:only-of-type {\n",
       "        vertical-align: middle;\n",
       "    }\n",
       "\n",
       "    .dataframe tbody tr th {\n",
       "        vertical-align: top;\n",
       "    }\n",
       "\n",
       "    .dataframe thead th {\n",
       "        text-align: right;\n",
       "    }\n",
       "</style>\n",
       "<table border=\"1\" class=\"dataframe\">\n",
       "  <thead>\n",
       "    <tr style=\"text-align: right;\">\n",
       "      <th></th>\n",
       "      <th>Species</th>\n",
       "      <th>Sex</th>\n",
       "      <th>Flipper_Length</th>\n",
       "    </tr>\n",
       "  </thead>\n",
       "  <tbody>\n",
       "    <tr>\n",
       "      <th>0</th>\n",
       "      <td>Adelie Penguin (Pygoscelis adeliae)</td>\n",
       "      <td>FEMALE</td>\n",
       "      <td>187.473684</td>\n",
       "    </tr>\n",
       "    <tr>\n",
       "      <th>1</th>\n",
       "      <td>Adelie Penguin (Pygoscelis adeliae)</td>\n",
       "      <td>MALE</td>\n",
       "      <td>191.545455</td>\n",
       "    </tr>\n",
       "    <tr>\n",
       "      <th>2</th>\n",
       "      <td>Chinstrap penguin (Pygoscelis antarctica)</td>\n",
       "      <td>FEMALE</td>\n",
       "      <td>192.642857</td>\n",
       "    </tr>\n",
       "    <tr>\n",
       "      <th>3</th>\n",
       "      <td>Chinstrap penguin (Pygoscelis antarctica)</td>\n",
       "      <td>MALE</td>\n",
       "      <td>200.454545</td>\n",
       "    </tr>\n",
       "    <tr>\n",
       "      <th>4</th>\n",
       "      <td>Gentoo penguin (Pygoscelis papua)</td>\n",
       "      <td>FEMALE</td>\n",
       "      <td>213.250000</td>\n",
       "    </tr>\n",
       "    <tr>\n",
       "      <th>5</th>\n",
       "      <td>Gentoo penguin (Pygoscelis papua)</td>\n",
       "      <td>MALE</td>\n",
       "      <td>223.000000</td>\n",
       "    </tr>\n",
       "  </tbody>\n",
       "</table>\n",
       "</div>"
      ],
      "text/plain": [
       "                                     Species     Sex  Flipper_Length\n",
       "0        Adelie Penguin (Pygoscelis adeliae)  FEMALE      187.473684\n",
       "1        Adelie Penguin (Pygoscelis adeliae)    MALE      191.545455\n",
       "2  Chinstrap penguin (Pygoscelis antarctica)  FEMALE      192.642857\n",
       "3  Chinstrap penguin (Pygoscelis antarctica)    MALE      200.454545\n",
       "4          Gentoo penguin (Pygoscelis papua)  FEMALE      213.250000\n",
       "5          Gentoo penguin (Pygoscelis papua)    MALE      223.000000"
      ]
     },
     "execution_count": 305,
     "metadata": {},
     "output_type": "execute_result"
    }
   ],
   "source": [
    "df.groupby(['Species', 'Sex']).\\\n",
    "agg({'Flipper_Length':np.mean}).reset_index()"
   ]
  },
  {
   "cell_type": "code",
   "execution_count": 306,
   "id": "e8de3cdd-99ac-44c5-8b7d-f1fb56741476",
   "metadata": {},
   "outputs": [],
   "source": [
    "test.loc[[46,81,98,152,205,209], 'Sex'] = ['FEMALE'] * 6"
   ]
  },
  {
   "cell_type": "markdown",
   "id": "f39629b3-9c36-4d75-a9e6-c6decf45ff8f",
   "metadata": {},
   "source": [
    "`-` test 셋도 범주형변수에 대해 라벨 인코딩을 해주자"
   ]
  },
  {
   "cell_type": "code",
   "execution_count": 307,
   "id": "92a78572-30ad-4efc-b7e6-1aaa2ce31537",
   "metadata": {},
   "outputs": [],
   "source": [
    "test3 = test.copy()\n",
    "for col in test3.columns:\n",
    "    if test.dtypes[col] == 'O':\n",
    "        encoder = LabelEncoder()\n",
    "        encoder.fit(test3[col])\n",
    "        labels = encoder.transform(test3[col])\n",
    "        test3[col] = list(labels) "
   ]
  },
  {
   "cell_type": "code",
   "execution_count": 308,
   "id": "bd1c613e-00cd-495a-a9eb-2cf57aa55a3d",
   "metadata": {},
   "outputs": [
    {
     "data": {
      "text/html": [
       "<div>\n",
       "<style scoped>\n",
       "    .dataframe tbody tr th:only-of-type {\n",
       "        vertical-align: middle;\n",
       "    }\n",
       "\n",
       "    .dataframe tbody tr th {\n",
       "        vertical-align: top;\n",
       "    }\n",
       "\n",
       "    .dataframe thead th {\n",
       "        text-align: right;\n",
       "    }\n",
       "</style>\n",
       "<table border=\"1\" class=\"dataframe\">\n",
       "  <thead>\n",
       "    <tr style=\"text-align: right;\">\n",
       "      <th></th>\n",
       "      <th>id</th>\n",
       "      <th>Species</th>\n",
       "      <th>Island</th>\n",
       "      <th>Full_Clutch</th>\n",
       "      <th>Culmen_Length</th>\n",
       "      <th>Culmen_Depth</th>\n",
       "      <th>Flipper_Length</th>\n",
       "      <th>Sex</th>\n",
       "      <th>DeltaN</th>\n",
       "      <th>DeltaC</th>\n",
       "    </tr>\n",
       "  </thead>\n",
       "  <tbody>\n",
       "    <tr>\n",
       "      <th>0</th>\n",
       "      <td>0</td>\n",
       "      <td>1</td>\n",
       "      <td>1</td>\n",
       "      <td>1</td>\n",
       "      <td>52.0</td>\n",
       "      <td>20.7</td>\n",
       "      <td>210.0</td>\n",
       "      <td>1</td>\n",
       "      <td>9.43146</td>\n",
       "      <td>-24.68440</td>\n",
       "    </tr>\n",
       "    <tr>\n",
       "      <th>1</th>\n",
       "      <td>1</td>\n",
       "      <td>2</td>\n",
       "      <td>0</td>\n",
       "      <td>1</td>\n",
       "      <td>55.9</td>\n",
       "      <td>17.0</td>\n",
       "      <td>228.0</td>\n",
       "      <td>1</td>\n",
       "      <td>8.31180</td>\n",
       "      <td>-26.35425</td>\n",
       "    </tr>\n",
       "    <tr>\n",
       "      <th>2</th>\n",
       "      <td>2</td>\n",
       "      <td>0</td>\n",
       "      <td>1</td>\n",
       "      <td>1</td>\n",
       "      <td>38.9</td>\n",
       "      <td>18.8</td>\n",
       "      <td>190.0</td>\n",
       "      <td>0</td>\n",
       "      <td>8.36936</td>\n",
       "      <td>-26.11199</td>\n",
       "    </tr>\n",
       "    <tr>\n",
       "      <th>3</th>\n",
       "      <td>3</td>\n",
       "      <td>1</td>\n",
       "      <td>1</td>\n",
       "      <td>1</td>\n",
       "      <td>45.2</td>\n",
       "      <td>16.6</td>\n",
       "      <td>191.0</td>\n",
       "      <td>0</td>\n",
       "      <td>9.62357</td>\n",
       "      <td>-24.78984</td>\n",
       "    </tr>\n",
       "    <tr>\n",
       "      <th>4</th>\n",
       "      <td>4</td>\n",
       "      <td>0</td>\n",
       "      <td>0</td>\n",
       "      <td>0</td>\n",
       "      <td>37.9</td>\n",
       "      <td>18.6</td>\n",
       "      <td>172.0</td>\n",
       "      <td>0</td>\n",
       "      <td>8.38404</td>\n",
       "      <td>-25.19837</td>\n",
       "    </tr>\n",
       "  </tbody>\n",
       "</table>\n",
       "</div>"
      ],
      "text/plain": [
       "   id  Species  Island  Full_Clutch  Culmen_Length  Culmen_Depth  \\\n",
       "0   0        1       1            1           52.0          20.7   \n",
       "1   1        2       0            1           55.9          17.0   \n",
       "2   2        0       1            1           38.9          18.8   \n",
       "3   3        1       1            1           45.2          16.6   \n",
       "4   4        0       0            0           37.9          18.6   \n",
       "\n",
       "   Flipper_Length  Sex   DeltaN    DeltaC  \n",
       "0           210.0    1  9.43146 -24.68440  \n",
       "1           228.0    1  8.31180 -26.35425  \n",
       "2           190.0    0  8.36936 -26.11199  \n",
       "3           191.0    0  9.62357 -24.78984  \n",
       "4           172.0    0  8.38404 -25.19837  "
      ]
     },
     "execution_count": 308,
     "metadata": {},
     "output_type": "execute_result"
    }
   ],
   "source": [
    "test3.head()"
   ]
  },
  {
   "cell_type": "markdown",
   "id": "f7f70be1-50d7-4789-9adb-43feaf316cbc",
   "metadata": {},
   "source": [
    "`-` 라벨 인코딩이 잘 되었다"
   ]
  },
  {
   "cell_type": "code",
   "execution_count": 309,
   "id": "d60491fc-ff00-4685-ac71-fa7ff2ff233d",
   "metadata": {},
   "outputs": [],
   "source": [
    "test3.drop('id', axis = 1, inplace = True)"
   ]
  },
  {
   "cell_type": "code",
   "execution_count": 310,
   "id": "8df2f635-4212-4ac6-80d1-6956032b8508",
   "metadata": {},
   "outputs": [],
   "source": [
    "## 테스트집합 정규화\n",
    "test3_scaled = minmax_scaler.transform(test3) ## x_train에서 학습한 정규화방식을 그대로 test에 적용"
   ]
  },
  {
   "cell_type": "code",
   "execution_count": 311,
   "id": "8f811c39-bcfc-44d5-80fc-93a49a3a8c55",
   "metadata": {},
   "outputs": [],
   "source": [
    "test3_scaled_df = pd.DataFrame(data = test3_scaled, columns = test3.columns)"
   ]
  },
  {
   "cell_type": "code",
   "execution_count": 312,
   "id": "59fdaa4c-50f5-49b4-8b19-ea36ea9391cc",
   "metadata": {},
   "outputs": [
    {
     "data": {
      "text/html": [
       "<div>\n",
       "<style scoped>\n",
       "    .dataframe tbody tr th:only-of-type {\n",
       "        vertical-align: middle;\n",
       "    }\n",
       "\n",
       "    .dataframe tbody tr th {\n",
       "        vertical-align: top;\n",
       "    }\n",
       "\n",
       "    .dataframe thead th {\n",
       "        text-align: right;\n",
       "    }\n",
       "</style>\n",
       "<table border=\"1\" class=\"dataframe\">\n",
       "  <thead>\n",
       "    <tr style=\"text-align: right;\">\n",
       "      <th></th>\n",
       "      <th>Species</th>\n",
       "      <th>Island</th>\n",
       "      <th>Full_Clutch</th>\n",
       "      <th>Culmen_Length</th>\n",
       "      <th>Culmen_Depth</th>\n",
       "      <th>Flipper_Length</th>\n",
       "      <th>Sex</th>\n",
       "      <th>DeltaN</th>\n",
       "      <th>DeltaC</th>\n",
       "    </tr>\n",
       "  </thead>\n",
       "  <tbody>\n",
       "    <tr>\n",
       "      <th>0</th>\n",
       "      <td>0.5</td>\n",
       "      <td>0.5</td>\n",
       "      <td>1.0</td>\n",
       "      <td>0.856481</td>\n",
       "      <td>0.949367</td>\n",
       "      <td>0.631579</td>\n",
       "      <td>1.0</td>\n",
       "      <td>0.751809</td>\n",
       "      <td>0.818170</td>\n",
       "    </tr>\n",
       "    <tr>\n",
       "      <th>1</th>\n",
       "      <td>1.0</td>\n",
       "      <td>0.0</td>\n",
       "      <td>1.0</td>\n",
       "      <td>1.037037</td>\n",
       "      <td>0.481013</td>\n",
       "      <td>0.947368</td>\n",
       "      <td>1.0</td>\n",
       "      <td>0.283967</td>\n",
       "      <td>0.232849</td>\n",
       "    </tr>\n",
       "    <tr>\n",
       "      <th>2</th>\n",
       "      <td>0.0</td>\n",
       "      <td>0.5</td>\n",
       "      <td>1.0</td>\n",
       "      <td>0.250000</td>\n",
       "      <td>0.708861</td>\n",
       "      <td>0.280702</td>\n",
       "      <td>0.0</td>\n",
       "      <td>0.308018</td>\n",
       "      <td>0.317767</td>\n",
       "    </tr>\n",
       "    <tr>\n",
       "      <th>3</th>\n",
       "      <td>0.5</td>\n",
       "      <td>0.5</td>\n",
       "      <td>1.0</td>\n",
       "      <td>0.541667</td>\n",
       "      <td>0.430380</td>\n",
       "      <td>0.298246</td>\n",
       "      <td>0.0</td>\n",
       "      <td>0.832081</td>\n",
       "      <td>0.781211</td>\n",
       "    </tr>\n",
       "    <tr>\n",
       "      <th>4</th>\n",
       "      <td>0.0</td>\n",
       "      <td>0.0</td>\n",
       "      <td>0.0</td>\n",
       "      <td>0.203704</td>\n",
       "      <td>0.683544</td>\n",
       "      <td>-0.035088</td>\n",
       "      <td>0.0</td>\n",
       "      <td>0.314152</td>\n",
       "      <td>0.638011</td>\n",
       "    </tr>\n",
       "  </tbody>\n",
       "</table>\n",
       "</div>"
      ],
      "text/plain": [
       "   Species  Island  Full_Clutch  Culmen_Length  Culmen_Depth  Flipper_Length  \\\n",
       "0      0.5     0.5          1.0       0.856481      0.949367        0.631579   \n",
       "1      1.0     0.0          1.0       1.037037      0.481013        0.947368   \n",
       "2      0.0     0.5          1.0       0.250000      0.708861        0.280702   \n",
       "3      0.5     0.5          1.0       0.541667      0.430380        0.298246   \n",
       "4      0.0     0.0          0.0       0.203704      0.683544       -0.035088   \n",
       "\n",
       "   Sex    DeltaN    DeltaC  \n",
       "0  1.0  0.751809  0.818170  \n",
       "1  1.0  0.283967  0.232849  \n",
       "2  0.0  0.308018  0.317767  \n",
       "3  0.0  0.832081  0.781211  \n",
       "4  0.0  0.314152  0.638011  "
      ]
     },
     "execution_count": 312,
     "metadata": {},
     "output_type": "execute_result"
    }
   ],
   "source": [
    "test3_scaled_df.head()"
   ]
  },
  {
   "cell_type": "code",
   "execution_count": 313,
   "id": "e249ed47-07b8-460a-8959-b119451eb185",
   "metadata": {},
   "outputs": [],
   "source": [
    "test3_scaled_df = test3_scaled_df[['Flipper_Length', 'DeltaN', 'Species', 'Island', 'Sex']] ## 사용할 변수만 인덱싱"
   ]
  },
  {
   "cell_type": "code",
   "execution_count": 317,
   "id": "b90336f6-4a02-4093-9ee1-1fb1a399aac8",
   "metadata": {},
   "outputs": [
    {
     "data": {
      "text/plain": [
       "array([4395.47890182, 5501.14206001, 3681.88618112, 3386.40227329,\n",
       "       3480.66460445, 4301.05921975])"
      ]
     },
     "execution_count": 317,
     "metadata": {},
     "output_type": "execute_result"
    }
   ],
   "source": [
    "# 예측을 진행\n",
    "predict_test = mass_predict_rst(test3_scaled_df, pred_df5)\n",
    "\n",
    "# 예측 결과를 확인\n",
    "predict_test[:6]"
   ]
  },
  {
   "cell_type": "code",
   "execution_count": 318,
   "id": "3ed33e77-ecf0-47fe-b5bf-2d93f88c4a5a",
   "metadata": {},
   "outputs": [
    {
     "data": {
      "text/plain": [
       "array([4460.30509988, 5507.96985816, 3669.44002661, 3418.52153283,\n",
       "       3260.35075229, 4333.24203918])"
      ]
     },
     "execution_count": 318,
     "metadata": {},
     "output_type": "execute_result"
    }
   ],
   "source": [
    "# 예측을 진행\n",
    "predict_test2 = mass_predict_rst(test3_scaled_df, pred_df7)\n",
    "\n",
    "# 예측 결과를 확인\n",
    "predict_test2[:6]"
   ]
  },
  {
   "cell_type": "markdown",
   "id": "ed943961-6abd-4a8c-b464-cf3f36e415df",
   "metadata": {
    "tags": []
   },
   "source": [
    "### dacon 대회에 제출하기"
   ]
  },
  {
   "cell_type": "code",
   "execution_count": 316,
   "id": "a941e925-c385-4936-9c39-6bd7ac2d5363",
   "metadata": {},
   "outputs": [],
   "source": [
    "# 제출용 sample 파일을 불러옴\n",
    "submission = pd.read_csv('C:/Users/Jaesu/Dacon-Basic/뗑컨-몸무게-예측/Data/sample_submission.csv')"
   ]
  },
  {
   "cell_type": "code",
   "execution_count": 215,
   "id": "8cef0365-5f21-4d79-b998-7db87f178c89",
   "metadata": {},
   "outputs": [
    {
     "data": {
      "text/html": [
       "<div>\n",
       "<style scoped>\n",
       "    .dataframe tbody tr th:only-of-type {\n",
       "        vertical-align: middle;\n",
       "    }\n",
       "\n",
       "    .dataframe tbody tr th {\n",
       "        vertical-align: top;\n",
       "    }\n",
       "\n",
       "    .dataframe thead th {\n",
       "        text-align: right;\n",
       "    }\n",
       "</style>\n",
       "<table border=\"1\" class=\"dataframe\">\n",
       "  <thead>\n",
       "    <tr style=\"text-align: right;\">\n",
       "      <th></th>\n",
       "      <th>id</th>\n",
       "      <th>Body Mass (g)</th>\n",
       "    </tr>\n",
       "  </thead>\n",
       "  <tbody>\n",
       "    <tr>\n",
       "      <th>0</th>\n",
       "      <td>0</td>\n",
       "      <td>4395.478902</td>\n",
       "    </tr>\n",
       "    <tr>\n",
       "      <th>1</th>\n",
       "      <td>1</td>\n",
       "      <td>5501.142060</td>\n",
       "    </tr>\n",
       "    <tr>\n",
       "      <th>2</th>\n",
       "      <td>2</td>\n",
       "      <td>3681.886181</td>\n",
       "    </tr>\n",
       "    <tr>\n",
       "      <th>3</th>\n",
       "      <td>3</td>\n",
       "      <td>3386.402273</td>\n",
       "    </tr>\n",
       "    <tr>\n",
       "      <th>4</th>\n",
       "      <td>4</td>\n",
       "      <td>3480.664604</td>\n",
       "    </tr>\n",
       "  </tbody>\n",
       "</table>\n",
       "</div>"
      ],
      "text/plain": [
       "   id  Body Mass (g)\n",
       "0   0    4395.478902\n",
       "1   1    5501.142060\n",
       "2   2    3681.886181\n",
       "3   3    3386.402273\n",
       "4   4    3480.664604"
      ]
     },
     "execution_count": 215,
     "metadata": {},
     "output_type": "execute_result"
    }
   ],
   "source": [
    "# 위에서 구한 예측값을 그대로 넣음\n",
    "submission['Body Mass (g)'] = predict_test\n",
    "\n",
    "# 데이터가 잘 들어갔는지 확인\n",
    "submission.head()"
   ]
  },
  {
   "cell_type": "code",
   "execution_count": 216,
   "id": "617dc5c3-3450-4fba-8e37-e426297e2581",
   "metadata": {},
   "outputs": [],
   "source": [
    "# submission을 csv 파일로 저장\n",
    "submission.to_csv('C:/Users/Jaesu/Dacon-Basic/뗑컨-몸무게-예측/Data/submission3.csv', index = False)"
   ]
  },
  {
   "cell_type": "markdown",
   "id": "f538f78d-6824-469b-b313-b766c78a6637",
   "metadata": {},
   "source": [
    "`-` 점수는 301.3822093454"
   ]
  },
  {
   "cell_type": "code",
   "execution_count": 319,
   "id": "2badb7da-9a17-46a0-8710-0538b96dc6b6",
   "metadata": {},
   "outputs": [
    {
     "data": {
      "text/html": [
       "<div>\n",
       "<style scoped>\n",
       "    .dataframe tbody tr th:only-of-type {\n",
       "        vertical-align: middle;\n",
       "    }\n",
       "\n",
       "    .dataframe tbody tr th {\n",
       "        vertical-align: top;\n",
       "    }\n",
       "\n",
       "    .dataframe thead th {\n",
       "        text-align: right;\n",
       "    }\n",
       "</style>\n",
       "<table border=\"1\" class=\"dataframe\">\n",
       "  <thead>\n",
       "    <tr style=\"text-align: right;\">\n",
       "      <th></th>\n",
       "      <th>id</th>\n",
       "      <th>Body Mass (g)</th>\n",
       "    </tr>\n",
       "  </thead>\n",
       "  <tbody>\n",
       "    <tr>\n",
       "      <th>0</th>\n",
       "      <td>0</td>\n",
       "      <td>4460.305100</td>\n",
       "    </tr>\n",
       "    <tr>\n",
       "      <th>1</th>\n",
       "      <td>1</td>\n",
       "      <td>5507.969858</td>\n",
       "    </tr>\n",
       "    <tr>\n",
       "      <th>2</th>\n",
       "      <td>2</td>\n",
       "      <td>3669.440027</td>\n",
       "    </tr>\n",
       "    <tr>\n",
       "      <th>3</th>\n",
       "      <td>3</td>\n",
       "      <td>3418.521533</td>\n",
       "    </tr>\n",
       "    <tr>\n",
       "      <th>4</th>\n",
       "      <td>4</td>\n",
       "      <td>3260.350752</td>\n",
       "    </tr>\n",
       "  </tbody>\n",
       "</table>\n",
       "</div>"
      ],
      "text/plain": [
       "   id  Body Mass (g)\n",
       "0   0    4460.305100\n",
       "1   1    5507.969858\n",
       "2   2    3669.440027\n",
       "3   3    3418.521533\n",
       "4   4    3260.350752"
      ]
     },
     "execution_count": 319,
     "metadata": {},
     "output_type": "execute_result"
    }
   ],
   "source": [
    "# 위에서 구한 예측값을 그대로 넣음\n",
    "submission['Body Mass (g)'] = predict_test2\n",
    "\n",
    "# 데이터가 잘 들어갔는지 확인\n",
    "submission.head()"
   ]
  },
  {
   "cell_type": "code",
   "execution_count": 320,
   "id": "fcda7d4c-eaec-4df9-8f37-307051891df1",
   "metadata": {},
   "outputs": [],
   "source": [
    "# submission을 csv 파일로 저장\n",
    "submission.to_csv('C:/Users/Jaesu/Dacon-Basic/뗑컨-몸무게-예측/Data/submission11.csv', index = False)"
   ]
  },
  {
   "cell_type": "markdown",
   "id": "3e403722-c412-4d7d-a0df-e28e06fed5a1",
   "metadata": {},
   "source": [
    "`-` 점수는 몇일까요?"
   ]
  },
  {
   "cell_type": "code",
   "execution_count": null,
   "id": "e0d902d7-2982-4c2c-aa40-f50fbb621711",
   "metadata": {},
   "outputs": [],
   "source": []
  }
 ],
 "metadata": {
  "kernelspec": {
   "display_name": "Python 3 (ipykernel)",
   "language": "python",
   "name": "python3"
  },
  "language_info": {
   "codemirror_mode": {
    "name": "ipython",
    "version": 3
   },
   "file_extension": ".py",
   "mimetype": "text/x-python",
   "name": "python",
   "nbconvert_exporter": "python",
   "pygments_lexer": "ipython3",
   "version": "3.8.11"
  }
 },
 "nbformat": 4,
 "nbformat_minor": 5
}
