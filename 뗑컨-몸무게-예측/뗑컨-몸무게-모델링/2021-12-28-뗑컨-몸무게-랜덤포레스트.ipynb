{
 "cells": [
  {
   "cell_type": "markdown",
   "id": "255729ab-63d6-4d12-ae08-2aa43e163973",
   "metadata": {},
   "source": [
    "# 뗑컨 몸무게 예측 경진대회"
   ]
  },
  {
   "cell_type": "markdown",
   "id": "5535ad1b-592e-4b8a-a6c6-3160fd74d663",
   "metadata": {},
   "source": [
    "## 패키지 import 및 데이터 전처리"
   ]
  },
  {
   "cell_type": "code",
   "execution_count": 272,
   "id": "8085885f-9775-4fc4-9321-ee6333a862b6",
   "metadata": {},
   "outputs": [],
   "source": [
    "import pandas as pd\n",
    "import numpy as np"
   ]
  },
  {
   "cell_type": "code",
   "execution_count": 5,
   "id": "5f4040f2-57db-4025-a033-25e06b3d6a7a",
   "metadata": {},
   "outputs": [],
   "source": [
    "df = pd.read_csv('C:/Users/Jaesu/Dacon-Basic/뗑컨-몸무게-예측/Data/train.csv')"
   ]
  },
  {
   "cell_type": "code",
   "execution_count": 6,
   "id": "094f8217-0d2d-4a86-a151-ada9a7e7c4a8",
   "metadata": {},
   "outputs": [
    {
     "data": {
      "text/html": [
       "<div>\n",
       "<style scoped>\n",
       "    .dataframe tbody tr th:only-of-type {\n",
       "        vertical-align: middle;\n",
       "    }\n",
       "\n",
       "    .dataframe tbody tr th {\n",
       "        vertical-align: top;\n",
       "    }\n",
       "\n",
       "    .dataframe thead th {\n",
       "        text-align: right;\n",
       "    }\n",
       "</style>\n",
       "<table border=\"1\" class=\"dataframe\">\n",
       "  <thead>\n",
       "    <tr style=\"text-align: right;\">\n",
       "      <th></th>\n",
       "      <th>id</th>\n",
       "      <th>Species</th>\n",
       "      <th>Island</th>\n",
       "      <th>Clutch Completion</th>\n",
       "      <th>Culmen Length (mm)</th>\n",
       "      <th>Culmen Depth (mm)</th>\n",
       "      <th>Flipper Length (mm)</th>\n",
       "      <th>Sex</th>\n",
       "      <th>Delta 15 N (o/oo)</th>\n",
       "      <th>Delta 13 C (o/oo)</th>\n",
       "      <th>Body Mass (g)</th>\n",
       "    </tr>\n",
       "  </thead>\n",
       "  <tbody>\n",
       "    <tr>\n",
       "      <th>0</th>\n",
       "      <td>0</td>\n",
       "      <td>Gentoo penguin (Pygoscelis papua)</td>\n",
       "      <td>Biscoe</td>\n",
       "      <td>Yes</td>\n",
       "      <td>50.0</td>\n",
       "      <td>15.3</td>\n",
       "      <td>220</td>\n",
       "      <td>MALE</td>\n",
       "      <td>8.30515</td>\n",
       "      <td>-25.19017</td>\n",
       "      <td>5550</td>\n",
       "    </tr>\n",
       "    <tr>\n",
       "      <th>1</th>\n",
       "      <td>1</td>\n",
       "      <td>Chinstrap penguin (Pygoscelis antarctica)</td>\n",
       "      <td>Dream</td>\n",
       "      <td>No</td>\n",
       "      <td>49.5</td>\n",
       "      <td>19.0</td>\n",
       "      <td>200</td>\n",
       "      <td>MALE</td>\n",
       "      <td>9.63074</td>\n",
       "      <td>-24.34684</td>\n",
       "      <td>3800</td>\n",
       "    </tr>\n",
       "    <tr>\n",
       "      <th>2</th>\n",
       "      <td>2</td>\n",
       "      <td>Gentoo penguin (Pygoscelis papua)</td>\n",
       "      <td>Biscoe</td>\n",
       "      <td>Yes</td>\n",
       "      <td>45.1</td>\n",
       "      <td>14.4</td>\n",
       "      <td>210</td>\n",
       "      <td>FEMALE</td>\n",
       "      <td>8.51951</td>\n",
       "      <td>-27.01854</td>\n",
       "      <td>4400</td>\n",
       "    </tr>\n",
       "    <tr>\n",
       "      <th>3</th>\n",
       "      <td>3</td>\n",
       "      <td>Gentoo penguin (Pygoscelis papua)</td>\n",
       "      <td>Biscoe</td>\n",
       "      <td>Yes</td>\n",
       "      <td>44.5</td>\n",
       "      <td>14.7</td>\n",
       "      <td>214</td>\n",
       "      <td>FEMALE</td>\n",
       "      <td>8.20106</td>\n",
       "      <td>-26.16524</td>\n",
       "      <td>4850</td>\n",
       "    </tr>\n",
       "    <tr>\n",
       "      <th>4</th>\n",
       "      <td>4</td>\n",
       "      <td>Gentoo penguin (Pygoscelis papua)</td>\n",
       "      <td>Biscoe</td>\n",
       "      <td>No</td>\n",
       "      <td>49.6</td>\n",
       "      <td>16.0</td>\n",
       "      <td>225</td>\n",
       "      <td>MALE</td>\n",
       "      <td>8.38324</td>\n",
       "      <td>-26.84272</td>\n",
       "      <td>5700</td>\n",
       "    </tr>\n",
       "  </tbody>\n",
       "</table>\n",
       "</div>"
      ],
      "text/plain": [
       "   id                                    Species  Island Clutch Completion  \\\n",
       "0   0          Gentoo penguin (Pygoscelis papua)  Biscoe               Yes   \n",
       "1   1  Chinstrap penguin (Pygoscelis antarctica)   Dream                No   \n",
       "2   2          Gentoo penguin (Pygoscelis papua)  Biscoe               Yes   \n",
       "3   3          Gentoo penguin (Pygoscelis papua)  Biscoe               Yes   \n",
       "4   4          Gentoo penguin (Pygoscelis papua)  Biscoe                No   \n",
       "\n",
       "   Culmen Length (mm)  Culmen Depth (mm)  Flipper Length (mm)     Sex  \\\n",
       "0                50.0               15.3                  220    MALE   \n",
       "1                49.5               19.0                  200    MALE   \n",
       "2                45.1               14.4                  210  FEMALE   \n",
       "3                44.5               14.7                  214  FEMALE   \n",
       "4                49.6               16.0                  225    MALE   \n",
       "\n",
       "   Delta 15 N (o/oo)  Delta 13 C (o/oo)  Body Mass (g)  \n",
       "0            8.30515          -25.19017           5550  \n",
       "1            9.63074          -24.34684           3800  \n",
       "2            8.51951          -27.01854           4400  \n",
       "3            8.20106          -26.16524           4850  \n",
       "4            8.38324          -26.84272           5700  "
      ]
     },
     "execution_count": 6,
     "metadata": {},
     "output_type": "execute_result"
    }
   ],
   "source": [
    "df.head()"
   ]
  },
  {
   "cell_type": "code",
   "execution_count": 7,
   "id": "fb94ec79-bda4-42a1-9dfc-7499d6458008",
   "metadata": {},
   "outputs": [],
   "source": [
    "df.rename(columns = {'Clutch Completion':'Full_Clutch', 'Culmen Length (mm)':'Culmen_Length', \n",
    "                     'Culmen Depth (mm)':'Culmen_Depth', 'Flipper Length (mm)':'Flipper_Length',\n",
    "                     'Delta 15 N (o/oo)':'DeltaN', 'Delta 13 C (o/oo)':'DeltaC', 'Body Mass (g)':'Body_Mass'}, inplace = True) ## 열 이름 변경"
   ]
  },
  {
   "cell_type": "code",
   "execution_count": 8,
   "id": "882e83dd-d4fa-4a24-9a4d-0b9fd14fc1a6",
   "metadata": {},
   "outputs": [],
   "source": [
    "df.drop('id', axis = 1, inplace = True) ## id는 필요없으니 제거 "
   ]
  },
  {
   "cell_type": "code",
   "execution_count": 9,
   "id": "326f1753-23a4-4443-a9ff-ee8000ecd21b",
   "metadata": {},
   "outputs": [
    {
     "data": {
      "text/plain": [
       "Species           0\n",
       "Island            0\n",
       "Full_Clutch       0\n",
       "Culmen_Length     0\n",
       "Culmen_Depth      0\n",
       "Flipper_Length    0\n",
       "Sex               3\n",
       "DeltaN            3\n",
       "DeltaC            3\n",
       "Body_Mass         0\n",
       "dtype: int64"
      ]
     },
     "execution_count": 9,
     "metadata": {},
     "output_type": "execute_result"
    }
   ],
   "source": [
    "df.isnull().sum()"
   ]
  },
  {
   "cell_type": "markdown",
   "id": "81e46eb7-c715-4ce5-97ad-6b15b8e349b9",
   "metadata": {},
   "source": [
    "`-` Sex, Delta 15 N, Delta 13 C 컬럼에 결측치가 3개씩 존재한다"
   ]
  },
  {
   "cell_type": "code",
   "execution_count": 10,
   "id": "27d4ded2-04b3-4ebf-8245-5e414c02e5d0",
   "metadata": {},
   "outputs": [
    {
     "data": {
      "text/html": [
       "<div>\n",
       "<style scoped>\n",
       "    .dataframe tbody tr th:only-of-type {\n",
       "        vertical-align: middle;\n",
       "    }\n",
       "\n",
       "    .dataframe tbody tr th {\n",
       "        vertical-align: top;\n",
       "    }\n",
       "\n",
       "    .dataframe thead th {\n",
       "        text-align: right;\n",
       "    }\n",
       "</style>\n",
       "<table border=\"1\" class=\"dataframe\">\n",
       "  <thead>\n",
       "    <tr style=\"text-align: right;\">\n",
       "      <th></th>\n",
       "      <th>Species</th>\n",
       "      <th>Island</th>\n",
       "      <th>Full_Clutch</th>\n",
       "      <th>Culmen_Length</th>\n",
       "      <th>Culmen_Depth</th>\n",
       "      <th>Flipper_Length</th>\n",
       "      <th>Sex</th>\n",
       "      <th>DeltaN</th>\n",
       "      <th>DeltaC</th>\n",
       "      <th>Body_Mass</th>\n",
       "    </tr>\n",
       "  </thead>\n",
       "  <tbody>\n",
       "    <tr>\n",
       "      <th>6</th>\n",
       "      <td>Adelie Penguin (Pygoscelis adeliae)</td>\n",
       "      <td>Torgersen</td>\n",
       "      <td>Yes</td>\n",
       "      <td>42.0</td>\n",
       "      <td>20.2</td>\n",
       "      <td>190</td>\n",
       "      <td>NaN</td>\n",
       "      <td>9.13362</td>\n",
       "      <td>-25.09368</td>\n",
       "      <td>4250</td>\n",
       "    </tr>\n",
       "    <tr>\n",
       "      <th>8</th>\n",
       "      <td>Adelie Penguin (Pygoscelis adeliae)</td>\n",
       "      <td>Torgersen</td>\n",
       "      <td>Yes</td>\n",
       "      <td>34.1</td>\n",
       "      <td>18.1</td>\n",
       "      <td>193</td>\n",
       "      <td>NaN</td>\n",
       "      <td>NaN</td>\n",
       "      <td>NaN</td>\n",
       "      <td>3475</td>\n",
       "    </tr>\n",
       "    <tr>\n",
       "      <th>18</th>\n",
       "      <td>Adelie Penguin (Pygoscelis adeliae)</td>\n",
       "      <td>Dream</td>\n",
       "      <td>No</td>\n",
       "      <td>39.8</td>\n",
       "      <td>19.1</td>\n",
       "      <td>184</td>\n",
       "      <td>MALE</td>\n",
       "      <td>NaN</td>\n",
       "      <td>NaN</td>\n",
       "      <td>4650</td>\n",
       "    </tr>\n",
       "    <tr>\n",
       "      <th>70</th>\n",
       "      <td>Gentoo penguin (Pygoscelis papua)</td>\n",
       "      <td>Biscoe</td>\n",
       "      <td>Yes</td>\n",
       "      <td>46.2</td>\n",
       "      <td>14.4</td>\n",
       "      <td>214</td>\n",
       "      <td>NaN</td>\n",
       "      <td>8.24253</td>\n",
       "      <td>-26.81540</td>\n",
       "      <td>4650</td>\n",
       "    </tr>\n",
       "    <tr>\n",
       "      <th>109</th>\n",
       "      <td>Adelie Penguin (Pygoscelis adeliae)</td>\n",
       "      <td>Torgersen</td>\n",
       "      <td>Yes</td>\n",
       "      <td>36.6</td>\n",
       "      <td>17.8</td>\n",
       "      <td>185</td>\n",
       "      <td>FEMALE</td>\n",
       "      <td>NaN</td>\n",
       "      <td>NaN</td>\n",
       "      <td>3700</td>\n",
       "    </tr>\n",
       "  </tbody>\n",
       "</table>\n",
       "</div>"
      ],
      "text/plain": [
       "                                 Species     Island Full_Clutch  \\\n",
       "6    Adelie Penguin (Pygoscelis adeliae)  Torgersen         Yes   \n",
       "8    Adelie Penguin (Pygoscelis adeliae)  Torgersen         Yes   \n",
       "18   Adelie Penguin (Pygoscelis adeliae)      Dream          No   \n",
       "70     Gentoo penguin (Pygoscelis papua)     Biscoe         Yes   \n",
       "109  Adelie Penguin (Pygoscelis adeliae)  Torgersen         Yes   \n",
       "\n",
       "     Culmen_Length  Culmen_Depth  Flipper_Length     Sex   DeltaN    DeltaC  \\\n",
       "6             42.0          20.2             190     NaN  9.13362 -25.09368   \n",
       "8             34.1          18.1             193     NaN      NaN       NaN   \n",
       "18            39.8          19.1             184    MALE      NaN       NaN   \n",
       "70            46.2          14.4             214     NaN  8.24253 -26.81540   \n",
       "109           36.6          17.8             185  FEMALE      NaN       NaN   \n",
       "\n",
       "     Body_Mass  \n",
       "6         4250  \n",
       "8         3475  \n",
       "18        4650  \n",
       "70        4650  \n",
       "109       3700  "
      ]
     },
     "execution_count": 10,
     "metadata": {},
     "output_type": "execute_result"
    }
   ],
   "source": [
    "## 결측치가 있는 row들을 확인\n",
    "df[df.isna().sum(axis = 1) > 0]"
   ]
  },
  {
   "cell_type": "markdown",
   "id": "a7ea4d53-184a-4184-b707-f26d2b781a35",
   "metadata": {},
   "source": [
    "`-` 방사성 동위원소 행의 결측치에는 평균값을 넣어주자"
   ]
  },
  {
   "cell_type": "code",
   "execution_count": 11,
   "id": "4d0fb56f-4b86-40c2-ab59-72b530d0d7a5",
   "metadata": {},
   "outputs": [],
   "source": [
    "df['DeltaC'].fillna(df['DeltaC'].mean(), inplace = True)\n",
    "df['DeltaN'].fillna(df['DeltaN'].mean(), inplace = True)"
   ]
  },
  {
   "cell_type": "markdown",
   "id": "c7561a11-1b8c-4aeb-b5e7-553bec27c9f7",
   "metadata": {},
   "source": [
    "`-` EDA를 보면 알겠지만 Species별로 몸무게가 다르다\n",
    "\n",
    "`-` 또한 수컷과 암컷간의 차이도 꽤 있다\n",
    "\n",
    "`-` drop해도 되지만 3개의 데이터가 유실되는 것이기에 Species와 Body_Mass를 통해 결측치에 값을 채워넣자"
   ]
  },
  {
   "cell_type": "code",
   "execution_count": 12,
   "id": "27f1b609-9f43-4d91-96d3-1cab7cd39d1e",
   "metadata": {},
   "outputs": [
    {
     "data": {
      "text/html": [
       "<div>\n",
       "<style scoped>\n",
       "    .dataframe tbody tr th:only-of-type {\n",
       "        vertical-align: middle;\n",
       "    }\n",
       "\n",
       "    .dataframe tbody tr th {\n",
       "        vertical-align: top;\n",
       "    }\n",
       "\n",
       "    .dataframe thead th {\n",
       "        text-align: right;\n",
       "    }\n",
       "</style>\n",
       "<table border=\"1\" class=\"dataframe\">\n",
       "  <thead>\n",
       "    <tr style=\"text-align: right;\">\n",
       "      <th></th>\n",
       "      <th>Species</th>\n",
       "      <th>Sex</th>\n",
       "      <th>Body_Mass</th>\n",
       "    </tr>\n",
       "  </thead>\n",
       "  <tbody>\n",
       "    <tr>\n",
       "      <th>0</th>\n",
       "      <td>Adelie Penguin (Pygoscelis adeliae)</td>\n",
       "      <td>FEMALE</td>\n",
       "      <td>3448.611111</td>\n",
       "    </tr>\n",
       "    <tr>\n",
       "      <th>1</th>\n",
       "      <td>Adelie Penguin (Pygoscelis adeliae)</td>\n",
       "      <td>MALE</td>\n",
       "      <td>4097.619048</td>\n",
       "    </tr>\n",
       "    <tr>\n",
       "      <th>2</th>\n",
       "      <td>Chinstrap penguin (Pygoscelis antarctica)</td>\n",
       "      <td>FEMALE</td>\n",
       "      <td>3550.000000</td>\n",
       "    </tr>\n",
       "    <tr>\n",
       "      <th>3</th>\n",
       "      <td>Chinstrap penguin (Pygoscelis antarctica)</td>\n",
       "      <td>MALE</td>\n",
       "      <td>4018.181818</td>\n",
       "    </tr>\n",
       "    <tr>\n",
       "      <th>4</th>\n",
       "      <td>Gentoo penguin (Pygoscelis papua)</td>\n",
       "      <td>FEMALE</td>\n",
       "      <td>4707.608696</td>\n",
       "    </tr>\n",
       "    <tr>\n",
       "      <th>5</th>\n",
       "      <td>Gentoo penguin (Pygoscelis papua)</td>\n",
       "      <td>MALE</td>\n",
       "      <td>5445.833333</td>\n",
       "    </tr>\n",
       "  </tbody>\n",
       "</table>\n",
       "</div>"
      ],
      "text/plain": [
       "                                     Species     Sex    Body_Mass\n",
       "0        Adelie Penguin (Pygoscelis adeliae)  FEMALE  3448.611111\n",
       "1        Adelie Penguin (Pygoscelis adeliae)    MALE  4097.619048\n",
       "2  Chinstrap penguin (Pygoscelis antarctica)  FEMALE  3550.000000\n",
       "3  Chinstrap penguin (Pygoscelis antarctica)    MALE  4018.181818\n",
       "4          Gentoo penguin (Pygoscelis papua)  FEMALE  4707.608696\n",
       "5          Gentoo penguin (Pygoscelis papua)    MALE  5445.833333"
      ]
     },
     "execution_count": 12,
     "metadata": {},
     "output_type": "execute_result"
    }
   ],
   "source": [
    "df.groupby(['Species', 'Sex']).\\\n",
    "agg({'Body_Mass':np.mean}).reset_index()"
   ]
  },
  {
   "cell_type": "markdown",
   "id": "541f044f-3920-40c7-a532-3239ba4e25a2",
   "metadata": {},
   "source": [
    "`-` 6번 펭귄의 성별은 수컷, 8번은 암컷, 70번은 암컷으로 하자"
   ]
  },
  {
   "cell_type": "code",
   "execution_count": 13,
   "id": "c21357e7-88b6-4d28-b089-30ca29b44190",
   "metadata": {},
   "outputs": [],
   "source": [
    "df.loc[[6,8,70], 'Sex']= ['MALE','FEMALE', 'FEMALE']"
   ]
  },
  {
   "cell_type": "markdown",
   "id": "2528fcd7-97d9-4c63-9bef-b09b0bbdaa2b",
   "metadata": {},
   "source": [
    "`-` 이상으로 결측치 처리는 끝났다"
   ]
  },
  {
   "cell_type": "code",
   "execution_count": 15,
   "id": "087758a7-f342-4546-8b1d-22b04f5a3f80",
   "metadata": {},
   "outputs": [
    {
     "data": {
      "text/plain": [
       "0"
      ]
     },
     "execution_count": 15,
     "metadata": {},
     "output_type": "execute_result"
    }
   ],
   "source": [
    "df.isnull().sum().sum() ## 이제 결측치는 없다"
   ]
  },
  {
   "cell_type": "markdown",
   "id": "8bef0520-2f48-490d-b231-e0de58cdf64e",
   "metadata": {},
   "source": [
    "## 모델링"
   ]
  },
  {
   "cell_type": "markdown",
   "id": "7e4c5e45-aabe-4f15-87a8-15722357d495",
   "metadata": {},
   "source": [
    "### 전처리"
   ]
  },
  {
   "cell_type": "code",
   "execution_count": 16,
   "id": "302b6d84-3430-465c-8f42-f03fb1a159ca",
   "metadata": {},
   "outputs": [],
   "source": [
    "from sklearn.model_selection import train_test_split"
   ]
  },
  {
   "cell_type": "code",
   "execution_count": 17,
   "id": "fba64af4-e507-4f8f-b261-4c67a0f7fe4e",
   "metadata": {},
   "outputs": [],
   "source": [
    "dt = df.iloc[:, :-1]      ## target 제외한 데이터프레임\n",
    "target = df['Body_Mass']  ## target"
   ]
  },
  {
   "cell_type": "markdown",
   "id": "a52d488c-1dba-4cab-8aee-13b1086838df",
   "metadata": {},
   "source": [
    "`-` 범주형 변수에 라벨인코딩을 해주자"
   ]
  },
  {
   "cell_type": "code",
   "execution_count": 18,
   "id": "51a7845b-8a17-4456-8edf-3d77b8865d2e",
   "metadata": {},
   "outputs": [],
   "source": [
    "from sklearn.preprocessing import LabelEncoder\n",
    "\n",
    "dt2 = dt.copy()\n",
    "for col in dt2.columns:\n",
    "    if dt2.dtypes[col] == 'O':\n",
    "        encoder = LabelEncoder()\n",
    "        encoder.fit(dt2[col])\n",
    "        labels = encoder.transform(dt2[col])\n",
    "        dt2[col] = list(labels) "
   ]
  },
  {
   "cell_type": "code",
   "execution_count": 19,
   "id": "923fcd59-4c91-43f6-81b8-8859d404408b",
   "metadata": {},
   "outputs": [
    {
     "data": {
      "text/html": [
       "<div>\n",
       "<style scoped>\n",
       "    .dataframe tbody tr th:only-of-type {\n",
       "        vertical-align: middle;\n",
       "    }\n",
       "\n",
       "    .dataframe tbody tr th {\n",
       "        vertical-align: top;\n",
       "    }\n",
       "\n",
       "    .dataframe thead th {\n",
       "        text-align: right;\n",
       "    }\n",
       "</style>\n",
       "<table border=\"1\" class=\"dataframe\">\n",
       "  <thead>\n",
       "    <tr style=\"text-align: right;\">\n",
       "      <th></th>\n",
       "      <th>Species</th>\n",
       "      <th>Island</th>\n",
       "      <th>Full_Clutch</th>\n",
       "      <th>Culmen_Length</th>\n",
       "      <th>Culmen_Depth</th>\n",
       "      <th>Flipper_Length</th>\n",
       "      <th>Sex</th>\n",
       "      <th>DeltaN</th>\n",
       "      <th>DeltaC</th>\n",
       "    </tr>\n",
       "  </thead>\n",
       "  <tbody>\n",
       "    <tr>\n",
       "      <th>0</th>\n",
       "      <td>2</td>\n",
       "      <td>0</td>\n",
       "      <td>1</td>\n",
       "      <td>50.0</td>\n",
       "      <td>15.3</td>\n",
       "      <td>220</td>\n",
       "      <td>1</td>\n",
       "      <td>8.30515</td>\n",
       "      <td>-25.19017</td>\n",
       "    </tr>\n",
       "    <tr>\n",
       "      <th>1</th>\n",
       "      <td>1</td>\n",
       "      <td>1</td>\n",
       "      <td>0</td>\n",
       "      <td>49.5</td>\n",
       "      <td>19.0</td>\n",
       "      <td>200</td>\n",
       "      <td>1</td>\n",
       "      <td>9.63074</td>\n",
       "      <td>-24.34684</td>\n",
       "    </tr>\n",
       "    <tr>\n",
       "      <th>2</th>\n",
       "      <td>2</td>\n",
       "      <td>0</td>\n",
       "      <td>1</td>\n",
       "      <td>45.1</td>\n",
       "      <td>14.4</td>\n",
       "      <td>210</td>\n",
       "      <td>0</td>\n",
       "      <td>8.51951</td>\n",
       "      <td>-27.01854</td>\n",
       "    </tr>\n",
       "    <tr>\n",
       "      <th>3</th>\n",
       "      <td>2</td>\n",
       "      <td>0</td>\n",
       "      <td>1</td>\n",
       "      <td>44.5</td>\n",
       "      <td>14.7</td>\n",
       "      <td>214</td>\n",
       "      <td>0</td>\n",
       "      <td>8.20106</td>\n",
       "      <td>-26.16524</td>\n",
       "    </tr>\n",
       "    <tr>\n",
       "      <th>4</th>\n",
       "      <td>2</td>\n",
       "      <td>0</td>\n",
       "      <td>0</td>\n",
       "      <td>49.6</td>\n",
       "      <td>16.0</td>\n",
       "      <td>225</td>\n",
       "      <td>1</td>\n",
       "      <td>8.38324</td>\n",
       "      <td>-26.84272</td>\n",
       "    </tr>\n",
       "  </tbody>\n",
       "</table>\n",
       "</div>"
      ],
      "text/plain": [
       "   Species  Island  Full_Clutch  Culmen_Length  Culmen_Depth  Flipper_Length  \\\n",
       "0        2       0            1           50.0          15.3             220   \n",
       "1        1       1            0           49.5          19.0             200   \n",
       "2        2       0            1           45.1          14.4             210   \n",
       "3        2       0            1           44.5          14.7             214   \n",
       "4        2       0            0           49.6          16.0             225   \n",
       "\n",
       "   Sex   DeltaN    DeltaC  \n",
       "0    1  8.30515 -25.19017  \n",
       "1    1  9.63074 -24.34684  \n",
       "2    0  8.51951 -27.01854  \n",
       "3    0  8.20106 -26.16524  \n",
       "4    1  8.38324 -26.84272  "
      ]
     },
     "execution_count": 19,
     "metadata": {},
     "output_type": "execute_result"
    }
   ],
   "source": [
    "dt2.head()  ## 라벨 인코딩이 잘 되었다"
   ]
  },
  {
   "cell_type": "code",
   "execution_count": 20,
   "id": "4cca8bc4-2ed8-4521-af68-eff15ea7917c",
   "metadata": {},
   "outputs": [],
   "source": [
    "x_train, x_valid, y_train, y_valid = train_test_split(dt2, target, test_size = 0.2, shuffle = True,\n",
    "                                                      stratify = dt2['Species'] , random_state = 21)\n",
    "## 종의 비율이 train, valid 비슷하도록 세팅함"
   ]
  },
  {
   "cell_type": "markdown",
   "id": "fc638603-bbf7-4a08-bfd5-412d9be0cb3a",
   "metadata": {},
   "source": [
    "`-` 위의 split한 데이터프레임을 reset_index 하게 되면 기존의 인덱스번호가 초기화됨을 잊지말자 "
   ]
  },
  {
   "cell_type": "markdown",
   "id": "99b92e06-db94-4580-9542-f3f36c4e9ab5",
   "metadata": {},
   "source": [
    "## 랜덤 포레스트"
   ]
  },
  {
   "cell_type": "code",
   "execution_count": 21,
   "id": "5484c380-c473-49d7-b895-329654233629",
   "metadata": {},
   "outputs": [],
   "source": [
    "from sklearn.ensemble import RandomForestRegressor"
   ]
  },
  {
   "cell_type": "code",
   "execution_count": 22,
   "id": "6c70d6b2-4074-41bf-aed0-f08328ff6453",
   "metadata": {},
   "outputs": [],
   "source": [
    "def RMSE(real, predict):\n",
    "    return np.sqrt(np.mean(np.square(real - predict)))"
   ]
  },
  {
   "cell_type": "code",
   "execution_count": 23,
   "id": "9577dff0-150a-49a1-a3cf-370618a8800c",
   "metadata": {},
   "outputs": [
    {
     "name": "stdout",
     "output_type": "stream",
     "text": [
      "RMSE 258.90741903320344\n"
     ]
    }
   ],
   "source": [
    "model = RandomForestRegressor(random_state = 21)     ## 랜덤 포레스트 모델 선언\n",
    "model.fit(x_train, y_train)         ## 랜덤 포레스트 모델 학습\n",
    "y_predict = model.predict(x_valid)  ## 모델 예측\n",
    "rmse = RMSE(y_predict, y_valid)     ## 평가 지수 \n",
    "print('RMSE', rmse)"
   ]
  },
  {
   "cell_type": "markdown",
   "id": "371e3435-ea55-4665-a7ca-a51f79686a5b",
   "metadata": {},
   "source": [
    "`-` RMSE는 약 258이다"
   ]
  },
  {
   "cell_type": "markdown",
   "id": "5566110b-06fc-4bf0-a1e2-502a9acb9f94",
   "metadata": {},
   "source": [
    "### 모델 성능 시각화"
   ]
  },
  {
   "cell_type": "code",
   "execution_count": 24,
   "id": "0fda05a6-9990-4d20-b891-f4e133a189cc",
   "metadata": {},
   "outputs": [],
   "source": [
    "import matplotlib.pyplot as plt"
   ]
  },
  {
   "cell_type": "code",
   "execution_count": 25,
   "id": "8f84006e-668c-48f1-989c-7244120a4326",
   "metadata": {},
   "outputs": [
    {
     "data": {
      "text/plain": [
       "array([3571.75, 3961.25, 3345.75, 5532.  , 3995.5 , 3329.75])"
      ]
     },
     "execution_count": 25,
     "metadata": {},
     "output_type": "execute_result"
    }
   ],
   "source": [
    "y_predict[:6]"
   ]
  },
  {
   "cell_type": "code",
   "execution_count": 26,
   "id": "a8e0614a-d2f0-4e8a-b170-21deeae8564f",
   "metadata": {},
   "outputs": [
    {
     "data": {
      "text/plain": [
       "<matplotlib.legend.Legend at 0x17c52b16f10>"
      ]
     },
     "execution_count": 26,
     "metadata": {},
     "output_type": "execute_result"
    },
    {
     "data": {
      "image/png": "[encoded data removed]",
      "text/plain": [
       "<Figure size 432x288 with 1 Axes>"
      ]
     },
     "metadata": {
      "needs_background": "light"
     },
     "output_type": "display_data"
    }
   ],
   "source": [
    "real = pd.DataFrame(y_valid.reset_index()).drop('index', axis = 1)\n",
    "plt.plot(real, label = 'real')\n",
    "plt.plot(y_predict, label = 'predict')\n",
    "plt.legend()"
   ]
  },
  {
   "cell_type": "markdown",
   "id": "a5cb881b-3df9-45cc-9602-84bb8c4af0ea",
   "metadata": {},
   "source": [
    "`-` 그럭저럭 잘 맞추는 것 같다"
   ]
  },
  {
   "cell_type": "markdown",
   "id": "394678e2-3728-4704-9500-1ca52528d28b",
   "metadata": {},
   "source": [
    "### feature 중요도 시각화"
   ]
  },
  {
   "cell_type": "markdown",
   "id": "c847101d-7e7a-4341-bb1e-d39cd75dc763",
   "metadata": {},
   "source": [
    "`-` feature_importances를 담은 데이터프레임을 만들자"
   ]
  },
  {
   "cell_type": "code",
   "execution_count": 27,
   "id": "098ac97f-1e0e-4d41-a995-eb9b12e93bb4",
   "metadata": {},
   "outputs": [
    {
     "data": {
      "text/plain": [
       "array([0.30032091, 0.00225925, 0.0048286 , 0.04858699, 0.07117125,\n",
       "       0.43664406, 0.06611859, 0.03603486, 0.03403549])"
      ]
     },
     "execution_count": 27,
     "metadata": {},
     "output_type": "execute_result"
    }
   ],
   "source": [
    "model.feature_importances_"
   ]
  },
  {
   "cell_type": "code",
   "execution_count": 28,
   "id": "3a4f283c-a267-40cf-847e-ca515b6fd344",
   "metadata": {},
   "outputs": [
    {
     "data": {
      "text/plain": [
       "Index(['Species', 'Island', 'Full_Clutch', 'Culmen_Length', 'Culmen_Depth',\n",
       "       'Flipper_Length', 'Sex', 'DeltaN', 'DeltaC'],\n",
       "      dtype='object')"
      ]
     },
     "execution_count": 28,
     "metadata": {},
     "output_type": "execute_result"
    }
   ],
   "source": [
    "x_train.columns"
   ]
  },
  {
   "cell_type": "code",
   "execution_count": 31,
   "id": "739e21dc-2d85-409a-ab4b-5ff462ade70c",
   "metadata": {},
   "outputs": [
    {
     "data": {
      "text/html": [
       "<div>\n",
       "<style scoped>\n",
       "    .dataframe tbody tr th:only-of-type {\n",
       "        vertical-align: middle;\n",
       "    }\n",
       "\n",
       "    .dataframe tbody tr th {\n",
       "        vertical-align: top;\n",
       "    }\n",
       "\n",
       "    .dataframe thead th {\n",
       "        text-align: right;\n",
       "    }\n",
       "</style>\n",
       "<table border=\"1\" class=\"dataframe\">\n",
       "  <thead>\n",
       "    <tr style=\"text-align: right;\">\n",
       "      <th></th>\n",
       "      <th>col_name</th>\n",
       "      <th>importance</th>\n",
       "    </tr>\n",
       "  </thead>\n",
       "  <tbody>\n",
       "    <tr>\n",
       "      <th>0</th>\n",
       "      <td>Species</td>\n",
       "      <td>0.300321</td>\n",
       "    </tr>\n",
       "    <tr>\n",
       "      <th>1</th>\n",
       "      <td>Island</td>\n",
       "      <td>0.002259</td>\n",
       "    </tr>\n",
       "    <tr>\n",
       "      <th>2</th>\n",
       "      <td>Full_Clutch</td>\n",
       "      <td>0.004829</td>\n",
       "    </tr>\n",
       "    <tr>\n",
       "      <th>3</th>\n",
       "      <td>Culmen_Length</td>\n",
       "      <td>0.048587</td>\n",
       "    </tr>\n",
       "    <tr>\n",
       "      <th>4</th>\n",
       "      <td>Culmen_Depth</td>\n",
       "      <td>0.071171</td>\n",
       "    </tr>\n",
       "    <tr>\n",
       "      <th>5</th>\n",
       "      <td>Flipper_Length</td>\n",
       "      <td>0.436644</td>\n",
       "    </tr>\n",
       "    <tr>\n",
       "      <th>6</th>\n",
       "      <td>Sex</td>\n",
       "      <td>0.066119</td>\n",
       "    </tr>\n",
       "    <tr>\n",
       "      <th>7</th>\n",
       "      <td>DeltaN</td>\n",
       "      <td>0.036035</td>\n",
       "    </tr>\n",
       "    <tr>\n",
       "      <th>8</th>\n",
       "      <td>DeltaC</td>\n",
       "      <td>0.034035</td>\n",
       "    </tr>\n",
       "  </tbody>\n",
       "</table>\n",
       "</div>"
      ],
      "text/plain": [
       "         col_name  importance\n",
       "0         Species    0.300321\n",
       "1          Island    0.002259\n",
       "2     Full_Clutch    0.004829\n",
       "3   Culmen_Length    0.048587\n",
       "4    Culmen_Depth    0.071171\n",
       "5  Flipper_Length    0.436644\n",
       "6             Sex    0.066119\n",
       "7          DeltaN    0.036035\n",
       "8          DeltaC    0.034035"
      ]
     },
     "execution_count": 31,
     "metadata": {},
     "output_type": "execute_result"
    }
   ],
   "source": [
    "importance = pd.DataFrame({'col_name':x_train.columns, 'importance':model.feature_importances_})\n",
    "importance"
   ]
  },
  {
   "cell_type": "code",
   "execution_count": 32,
   "id": "ddfa3f67-e73b-43d6-98fb-7801ba288222",
   "metadata": {},
   "outputs": [
    {
     "data": {
      "text/plain": [
       "<AxesSubplot:ylabel='col_name'>"
      ]
     },
     "execution_count": 32,
     "metadata": {},
     "output_type": "execute_result"
    },
    {
     "data": {
      "image/png": "[encoded data removed]",
      "text/plain": [
       "<Figure size 432x288 with 1 Axes>"
      ]
     },
     "metadata": {
      "needs_background": "light"
     },
     "output_type": "display_data"
    }
   ],
   "source": [
    "importance.sort_values('importance', ascending = True).\\\n",
    "set_index('col_name').\\\n",
    "plot.barh()"
   ]
  },
  {
   "cell_type": "markdown",
   "id": "6acbf20e-ef6c-4540-9fb8-8d6a4a7586c2",
   "metadata": {},
   "source": [
    "`-` 일단 중요도들의 합은 $1$이다\n",
    "\n",
    "`-` Island와 Full_Cluth 변수는 중요도가 거의 $0$이다\n",
    "\n",
    "`-` 중요도가 거의 $0$인 변수를 제외하고 랜덤 포레스트 모델을 만들어보자"
   ]
  },
  {
   "cell_type": "markdown",
   "id": "4ef36639-aa65-46c0-8b6b-8bd14344e29d",
   "metadata": {},
   "source": [
    "## 랜덤 포레스트 (중요하지 않은 변수 제거)"
   ]
  },
  {
   "cell_type": "code",
   "execution_count": 33,
   "id": "e1ccbea5-426a-4118-a4bf-7a17f0e3705f",
   "metadata": {},
   "outputs": [],
   "source": [
    "## 중요도가 거의 0인 feature와 방사성 동위원소 feature 제거\n",
    "Xtrain = x_train.drop(['Full_Clutch', 'Island', 'DeltaN', 'DeltaC'], axis = 1)\n",
    "Xvalid = x_valid.drop(['Full_Clutch', 'Island', 'DeltaN', 'DeltaC'], axis = 1)"
   ]
  },
  {
   "cell_type": "code",
   "execution_count": 34,
   "id": "8992eb21-f82a-41cb-9526-741254e5047b",
   "metadata": {},
   "outputs": [
    {
     "name": "stdout",
     "output_type": "stream",
     "text": [
      "RMSE 282.3476888364846\n"
     ]
    }
   ],
   "source": [
    "model = RandomForestRegressor(random_state = 21)     ## 랜덤 포레스트 모델 선언\n",
    "model.fit(Xtrain, y_train)         ## 랜덤 포레스트 모델 학습\n",
    "y_predict = model.predict(Xvalid)  ## 모델 예측\n",
    "rmse = RMSE(y_predict, y_valid)     ## 평가 지수 \n",
    "print('RMSE', rmse)"
   ]
  },
  {
   "cell_type": "markdown",
   "id": "248e2137-1ff4-43a1-aa48-632327034421",
   "metadata": {},
   "source": [
    "### 모델 성능 시각화"
   ]
  },
  {
   "cell_type": "code",
   "execution_count": 35,
   "id": "24bea700-5935-420c-837b-a846cfa86051",
   "metadata": {},
   "outputs": [
    {
     "data": {
      "text/plain": [
       "array([3594.25, 3945.75, 3160.75, 5487.  , 3908.75, 3284.  ])"
      ]
     },
     "execution_count": 35,
     "metadata": {},
     "output_type": "execute_result"
    }
   ],
   "source": [
    "y_predict[:6]"
   ]
  },
  {
   "cell_type": "code",
   "execution_count": 36,
   "id": "cf0ade6e-14fc-46a8-aa55-aeacd76b9a14",
   "metadata": {},
   "outputs": [
    {
     "data": {
      "text/plain": [
       "<matplotlib.legend.Legend at 0x17c5361de50>"
      ]
     },
     "execution_count": 36,
     "metadata": {},
     "output_type": "execute_result"
    },
    {
     "data": {
      "image/png": "[encoded data removed]",
      "text/plain": [
       "<Figure size 432x288 with 1 Axes>"
      ]
     },
     "metadata": {
      "needs_background": "light"
     },
     "output_type": "display_data"
    }
   ],
   "source": [
    "real = pd.DataFrame(y_valid.reset_index()).drop('index', axis = 1)\n",
    "plt.plot(real, label = 'real')\n",
    "plt.plot(y_predict, label = 'predict')\n",
    "plt.legend()"
   ]
  },
  {
   "cell_type": "markdown",
   "id": "abb96ac1-bb9e-4eaa-bf3b-3e25b784ffa3",
   "metadata": {},
   "source": [
    "`-` 그럭저럭 잘 맞추는 것 같다"
   ]
  },
  {
   "cell_type": "markdown",
   "id": "1b7c4617-7a0e-4d44-a6ee-004a7fabadaa",
   "metadata": {},
   "source": [
    "## 랜덤 포레스트 (Species, Flipper_Length 선택)"
   ]
  },
  {
   "cell_type": "code",
   "execution_count": 37,
   "id": "3470060a-02ab-4e5e-bda6-67876fe99d58",
   "metadata": {},
   "outputs": [],
   "source": [
    "Xtrain = x_train[['Species', 'Flipper_Length']]\n",
    "Xvalid = x_valid[['Species', 'Flipper_Length']]"
   ]
  },
  {
   "cell_type": "code",
   "execution_count": 38,
   "id": "499aacf6-3544-409b-8c54-2e14949e05d3",
   "metadata": {},
   "outputs": [
    {
     "name": "stdout",
     "output_type": "stream",
     "text": [
      "RMSE 405.8250980015842\n"
     ]
    }
   ],
   "source": [
    "model = RandomForestRegressor(random_state = 21)     ## 랜덤 포레스트 모델 선언\n",
    "model.fit(Xtrain, y_train)         ## 랜덤 포레스트 모델 학습\n",
    "y_predict = model.predict(Xvalid)  ## 모델 예측\n",
    "rmse = RMSE(y_predict, y_valid)     ## 평가 지수 \n",
    "print('RMSE', rmse)"
   ]
  },
  {
   "cell_type": "markdown",
   "id": "b6b66218-8268-4d3a-9b1f-4955330abdaa",
   "metadata": {},
   "source": [
    "### 모델 성능 시각화"
   ]
  },
  {
   "cell_type": "code",
   "execution_count": 39,
   "id": "20dcd062-0e34-4d6b-ae50-ccf13e68f917",
   "metadata": {},
   "outputs": [
    {
     "data": {
      "text/plain": [
       "<matplotlib.legend.Legend at 0x17c53691790>"
      ]
     },
     "execution_count": 39,
     "metadata": {},
     "output_type": "execute_result"
    },
    {
     "data": {
      "image/png": "[encoded data removed]",
      "text/plain": [
       "<Figure size 432x288 with 1 Axes>"
      ]
     },
     "metadata": {
      "needs_background": "light"
     },
     "output_type": "display_data"
    }
   ],
   "source": [
    "real = pd.DataFrame(y_valid.reset_index()).drop('index', axis = 1)\n",
    "plt.plot(real, label = 'real')\n",
    "plt.plot(y_predict, label = 'predict')\n",
    "plt.legend()"
   ]
  },
  {
   "cell_type": "markdown",
   "id": "b7552e0b-de70-491e-b2d5-98bf4c46c218",
   "metadata": {},
   "source": [
    "`-` 변수를 2개만 사용하니 성능이 더 안좋아졌다\n",
    "\n",
    "`-` 언더피팅 되었다"
   ]
  },
  {
   "cell_type": "markdown",
   "id": "d42c505a-f1a7-460a-9f87-464c7d651e41",
   "metadata": {},
   "source": [
    "## 랜덤 포레스트 하이퍼 파라미터 변경"
   ]
  },
  {
   "cell_type": "markdown",
   "id": "f1271a87-559f-44d2-aaa7-24c10a9d0e77",
   "metadata": {},
   "source": [
    "### Species, Flipper_Length, Sex 사용"
   ]
  },
  {
   "cell_type": "code",
   "execution_count": 199,
   "id": "f562d0eb-3b23-41dd-b85a-0bb74e3fb33c",
   "metadata": {},
   "outputs": [],
   "source": [
    "Xtrain = x_train[['Species', 'Flipper_Length', 'Sex']]\n",
    "Xvalid = x_valid[['Species', 'Flipper_Length', 'Sex']]"
   ]
  },
  {
   "cell_type": "code",
   "execution_count": 200,
   "id": "a94e6b90-a46a-4e6c-a7b8-6ac83c85aaf8",
   "metadata": {},
   "outputs": [
    {
     "name": "stdout",
     "output_type": "stream",
     "text": [
      "RMSE 236.6482183459694\n"
     ]
    }
   ],
   "source": [
    "model_3N = RandomForestRegressor(random_state = 21,\n",
    "                              min_samples_leaf = 7,\n",
    "                              min_samples_split = 15,\n",
    "                              max_depth = 4)     ## 랜덤 포레스트 모델 선언\n",
    "model_3N.fit(Xtrain, y_train)         ## 랜덤 포레스트 모델 학습\n",
    "y_predict = model_3N.predict(Xvalid)  ## 모델 예측\n",
    "rmse = RMSE(y_predict, y_valid)     ## 평가 지수 \n",
    "print('RMSE', rmse)"
   ]
  },
  {
   "cell_type": "code",
   "execution_count": 201,
   "id": "5dc554df-f40f-49ce-981f-460a48e72ce5",
   "metadata": {},
   "outputs": [
    {
     "data": {
      "text/plain": [
       "<matplotlib.legend.Legend at 0x17c54e43fa0>"
      ]
     },
     "execution_count": 201,
     "metadata": {},
     "output_type": "execute_result"
    },
    {
     "data": {
      "image/png": "[encoded data removed]",
      "text/plain": [
       "<Figure size 432x288 with 1 Axes>"
      ]
     },
     "metadata": {
      "needs_background": "light"
     },
     "output_type": "display_data"
    }
   ],
   "source": [
    "real = pd.DataFrame(y_valid.reset_index()).drop('index', axis = 1)\n",
    "plt.plot(real, label = 'real')\n",
    "plt.plot(y_predict, label = 'predict')\n",
    "plt.legend()"
   ]
  },
  {
   "cell_type": "markdown",
   "id": "9a9b84d2-4f04-42f7-9fae-68077a0d0305",
   "metadata": {},
   "source": [
    "`-` Sex 변수를 추가하니 성능이 더 좋아졌다"
   ]
  },
  {
   "cell_type": "code",
   "execution_count": 202,
   "id": "c061e43c-0dec-4663-a981-7b5ddc8ce84a",
   "metadata": {},
   "outputs": [
    {
     "data": {
      "text/plain": [
       "array([0.3588999 , 0.51824795, 0.12285215])"
      ]
     },
     "execution_count": 202,
     "metadata": {},
     "output_type": "execute_result"
    }
   ],
   "source": [
    "model_3N.feature_importances_"
   ]
  },
  {
   "cell_type": "code",
   "execution_count": 203,
   "id": "d34f2d12-d402-4d0a-a680-c71eb7ca5871",
   "metadata": {},
   "outputs": [
    {
     "data": {
      "text/plain": [
       "Index(['Species', 'Flipper_Length', 'Sex'], dtype='object')"
      ]
     },
     "execution_count": 203,
     "metadata": {},
     "output_type": "execute_result"
    }
   ],
   "source": [
    "Xtrain.columns"
   ]
  },
  {
   "cell_type": "code",
   "execution_count": 204,
   "id": "4bf6a9f2-44ac-4fe7-8aa3-87046aa14d2f",
   "metadata": {},
   "outputs": [],
   "source": [
    "importance = pd.DataFrame({'col_name':Xtrain.columns, 'importance':model_3N.feature_importances_})"
   ]
  },
  {
   "cell_type": "code",
   "execution_count": 205,
   "id": "51d1f815-30de-4044-8478-3aab7d1f24aa",
   "metadata": {},
   "outputs": [
    {
     "data": {
      "text/plain": [
       "<AxesSubplot:ylabel='col_name'>"
      ]
     },
     "execution_count": 205,
     "metadata": {},
     "output_type": "execute_result"
    },
    {
     "data": {
      "image/png": "[encoded data removed]",
      "text/plain": [
       "<Figure size 432x288 with 1 Axes>"
      ]
     },
     "metadata": {
      "needs_background": "light"
     },
     "output_type": "display_data"
    }
   ],
   "source": [
    "importance.sort_values('importance', ascending = True).\\\n",
    "set_index('col_name').\\\n",
    "plot.barh()"
   ]
  },
  {
   "cell_type": "markdown",
   "id": "236cbafb-dfd1-45fe-a14b-f433f854bc5f",
   "metadata": {},
   "source": [
    "### Island, Full_Clutch, DeltaN, DeltaC 제거\n",
    "\n",
    "`-` 방사성 동위원소 피쳐를 남기고 랜덤 포레스트를 만들어봤는데 중요도가 $0$이 됐다"
   ]
  },
  {
   "cell_type": "code",
   "execution_count": 188,
   "id": "e813176f-2fd6-4716-ba70-a9120187f930",
   "metadata": {},
   "outputs": [],
   "source": [
    "Xtrain = x_train.drop(['Island', 'Full_Clutch', 'DeltaN', 'DeltaC'], axis = 1)\n",
    "Xvalid = x_valid.drop(['Island', 'Full_Clutch', 'DeltaN', 'DeltaC'], axis = 1)"
   ]
  },
  {
   "cell_type": "code",
   "execution_count": 189,
   "id": "b374aa8e-4a55-4e57-8ece-898c06f14daa",
   "metadata": {},
   "outputs": [
    {
     "name": "stdout",
     "output_type": "stream",
     "text": [
      "RMSE 250.4720397172584\n"
     ]
    }
   ],
   "source": [
    "model = RandomForestRegressor(random_state = 21,\n",
    "                              min_samples_leaf = 7,\n",
    "                              min_samples_split = 14,\n",
    "                              max_depth = 3)     ## 랜덤 포레스트 모델 선언\n",
    "model.fit(Xtrain, y_train)         ## 랜덤 포레스트 모델 학습\n",
    "y_predict = model.predict(Xvalid)  ## 모델 예측\n",
    "rmse = RMSE(y_predict, y_valid)    ## 평가 지수 \n",
    "print('RMSE', rmse)"
   ]
  },
  {
   "cell_type": "code",
   "execution_count": 190,
   "id": "40e17ddc-7f4c-4050-a4c6-35a1dd5831b7",
   "metadata": {},
   "outputs": [
    {
     "data": {
      "text/plain": [
       "<matplotlib.legend.Legend at 0x17c54d6fc40>"
      ]
     },
     "execution_count": 190,
     "metadata": {},
     "output_type": "execute_result"
    },
    {
     "data": {
      "image/png": "[encoded data removed]",
      "text/plain": [
       "<Figure size 432x288 with 1 Axes>"
      ]
     },
     "metadata": {
      "needs_background": "light"
     },
     "output_type": "display_data"
    }
   ],
   "source": [
    "real = pd.DataFrame(y_valid.reset_index()).drop('index', axis = 1)\n",
    "plt.plot(real, label = 'real')\n",
    "plt.plot(y_predict, label = 'predict')\n",
    "plt.legend()"
   ]
  },
  {
   "cell_type": "code",
   "execution_count": 191,
   "id": "1efbacb0-07ba-43de-8c5d-a04be4379e04",
   "metadata": {},
   "outputs": [],
   "source": [
    "importance = pd.DataFrame({'col_name':Xtrain.columns, 'importance':model.feature_importances_})"
   ]
  },
  {
   "cell_type": "code",
   "execution_count": 192,
   "id": "02c8f419-3b81-4ac6-9b9f-12ce2375c9de",
   "metadata": {},
   "outputs": [
    {
     "data": {
      "text/plain": [
       "<AxesSubplot:ylabel='col_name'>"
      ]
     },
     "execution_count": 192,
     "metadata": {},
     "output_type": "execute_result"
    },
    {
     "data": {
      "image/png": "[encoded data removed]",
      "text/plain": [
       "<Figure size 432x288 with 1 Axes>"
      ]
     },
     "metadata": {
      "needs_background": "light"
     },
     "output_type": "display_data"
    }
   ],
   "source": [
    "importance.sort_values('importance', ascending = True).\\\n",
    "set_index('col_name').\\\n",
    "plot.barh()"
   ]
  },
  {
   "cell_type": "markdown",
   "id": "e1e47757-c380-4c1a-8fd1-b62ebe46f508",
   "metadata": {},
   "source": [
    "### test 데이터 예측"
   ]
  },
  {
   "cell_type": "markdown",
   "id": "90fcbd92-3e65-460b-831c-210f8ed38eab",
   "metadata": {},
   "source": [
    "`-` Species, Flipper_Length, Sex를 사용한 랜덤포레스트 모델로 test 데이터셋을 예측하자"
   ]
  },
  {
   "cell_type": "code",
   "execution_count": 193,
   "id": "e843d786-c238-411b-8d5f-7b3aed899de6",
   "metadata": {},
   "outputs": [
    {
     "data": {
      "text/html": [
       "<div>\n",
       "<style scoped>\n",
       "    .dataframe tbody tr th:only-of-type {\n",
       "        vertical-align: middle;\n",
       "    }\n",
       "\n",
       "    .dataframe tbody tr th {\n",
       "        vertical-align: top;\n",
       "    }\n",
       "\n",
       "    .dataframe thead th {\n",
       "        text-align: right;\n",
       "    }\n",
       "</style>\n",
       "<table border=\"1\" class=\"dataframe\">\n",
       "  <thead>\n",
       "    <tr style=\"text-align: right;\">\n",
       "      <th></th>\n",
       "      <th>id</th>\n",
       "      <th>Species</th>\n",
       "      <th>Island</th>\n",
       "      <th>Clutch Completion</th>\n",
       "      <th>Culmen Length (mm)</th>\n",
       "      <th>Culmen Depth (mm)</th>\n",
       "      <th>Flipper Length (mm)</th>\n",
       "      <th>Sex</th>\n",
       "      <th>Delta 15 N (o/oo)</th>\n",
       "      <th>Delta 13 C (o/oo)</th>\n",
       "    </tr>\n",
       "  </thead>\n",
       "  <tbody>\n",
       "    <tr>\n",
       "      <th>0</th>\n",
       "      <td>0</td>\n",
       "      <td>Chinstrap penguin (Pygoscelis antarctica)</td>\n",
       "      <td>Dream</td>\n",
       "      <td>Yes</td>\n",
       "      <td>52.0</td>\n",
       "      <td>20.7</td>\n",
       "      <td>210.0</td>\n",
       "      <td>MALE</td>\n",
       "      <td>9.43146</td>\n",
       "      <td>-24.68440</td>\n",
       "    </tr>\n",
       "    <tr>\n",
       "      <th>1</th>\n",
       "      <td>1</td>\n",
       "      <td>Gentoo penguin (Pygoscelis papua)</td>\n",
       "      <td>Biscoe</td>\n",
       "      <td>Yes</td>\n",
       "      <td>55.9</td>\n",
       "      <td>17.0</td>\n",
       "      <td>228.0</td>\n",
       "      <td>MALE</td>\n",
       "      <td>8.31180</td>\n",
       "      <td>-26.35425</td>\n",
       "    </tr>\n",
       "    <tr>\n",
       "      <th>2</th>\n",
       "      <td>2</td>\n",
       "      <td>Adelie Penguin (Pygoscelis adeliae)</td>\n",
       "      <td>Dream</td>\n",
       "      <td>Yes</td>\n",
       "      <td>38.9</td>\n",
       "      <td>18.8</td>\n",
       "      <td>190.0</td>\n",
       "      <td>FEMALE</td>\n",
       "      <td>8.36936</td>\n",
       "      <td>-26.11199</td>\n",
       "    </tr>\n",
       "    <tr>\n",
       "      <th>3</th>\n",
       "      <td>3</td>\n",
       "      <td>Chinstrap penguin (Pygoscelis antarctica)</td>\n",
       "      <td>Dream</td>\n",
       "      <td>Yes</td>\n",
       "      <td>45.2</td>\n",
       "      <td>16.6</td>\n",
       "      <td>191.0</td>\n",
       "      <td>FEMALE</td>\n",
       "      <td>9.62357</td>\n",
       "      <td>-24.78984</td>\n",
       "    </tr>\n",
       "    <tr>\n",
       "      <th>4</th>\n",
       "      <td>4</td>\n",
       "      <td>Adelie Penguin (Pygoscelis adeliae)</td>\n",
       "      <td>Biscoe</td>\n",
       "      <td>No</td>\n",
       "      <td>37.9</td>\n",
       "      <td>18.6</td>\n",
       "      <td>172.0</td>\n",
       "      <td>FEMALE</td>\n",
       "      <td>8.38404</td>\n",
       "      <td>-25.19837</td>\n",
       "    </tr>\n",
       "  </tbody>\n",
       "</table>\n",
       "</div>"
      ],
      "text/plain": [
       "   id                                    Species  Island Clutch Completion  \\\n",
       "0   0  Chinstrap penguin (Pygoscelis antarctica)   Dream               Yes   \n",
       "1   1          Gentoo penguin (Pygoscelis papua)  Biscoe               Yes   \n",
       "2   2        Adelie Penguin (Pygoscelis adeliae)   Dream               Yes   \n",
       "3   3  Chinstrap penguin (Pygoscelis antarctica)   Dream               Yes   \n",
       "4   4        Adelie Penguin (Pygoscelis adeliae)  Biscoe                No   \n",
       "\n",
       "   Culmen Length (mm)  Culmen Depth (mm)  Flipper Length (mm)     Sex  \\\n",
       "0                52.0               20.7                210.0    MALE   \n",
       "1                55.9               17.0                228.0    MALE   \n",
       "2                38.9               18.8                190.0  FEMALE   \n",
       "3                45.2               16.6                191.0  FEMALE   \n",
       "4                37.9               18.6                172.0  FEMALE   \n",
       "\n",
       "   Delta 15 N (o/oo)  Delta 13 C (o/oo)  \n",
       "0            9.43146          -24.68440  \n",
       "1            8.31180          -26.35425  \n",
       "2            8.36936          -26.11199  \n",
       "3            9.62357          -24.78984  \n",
       "4            8.38404          -25.19837  "
      ]
     },
     "execution_count": 193,
     "metadata": {},
     "output_type": "execute_result"
    }
   ],
   "source": [
    "test = pd.read_csv('C:/Users/Jaesu/Dacon-Basic/뗑컨-몸무게-예측/Data/test.csv')\n",
    "test.head()"
   ]
  },
  {
   "cell_type": "code",
   "execution_count": 194,
   "id": "5fdb9564-253c-4846-914b-23926046c138",
   "metadata": {},
   "outputs": [
    {
     "data": {
      "text/plain": [
       "id                     0\n",
       "Species                0\n",
       "Island                 0\n",
       "Clutch Completion      0\n",
       "Culmen Length (mm)     0\n",
       "Culmen Depth (mm)      0\n",
       "Flipper Length (mm)    0\n",
       "Sex                    6\n",
       "Delta 15 N (o/oo)      9\n",
       "Delta 13 C (o/oo)      8\n",
       "dtype: int64"
      ]
     },
     "execution_count": 194,
     "metadata": {},
     "output_type": "execute_result"
    }
   ],
   "source": [
    "test.isnull().sum()"
   ]
  },
  {
   "cell_type": "markdown",
   "id": "5db8a5a3-940f-485c-8920-1ed8d36864a8",
   "metadata": {},
   "source": [
    "`-` test 데이터에 NA가 존재하나 Species, Flipper_Length만 사용할 것이므로 괜찮다"
   ]
  },
  {
   "cell_type": "code",
   "execution_count": 195,
   "id": "fddff183-5d2c-400e-897b-c4a9fc82f211",
   "metadata": {},
   "outputs": [],
   "source": [
    "test.rename(columns = {'Clutch Completion':'Full_Clutch', 'Culmen Length (mm)':'Culmen_Length', \n",
    "                     'Culmen Depth (mm)':'Culmen_Depth', 'Flipper Length (mm)':'Flipper_Length',\n",
    "                     'Delta 15 N (o/oo)':'DeltaN', 'Delta 13 C (o/oo)':'DeltaC', 'Body Mass (g)':'Body_Mass'}, inplace = True) ## 열 이름 변경"
   ]
  },
  {
   "cell_type": "markdown",
   "id": "62a46349-d046-4758-8ee9-e8176b80205f",
   "metadata": {},
   "source": [
    "`-` test 셋에서 범주형 변수에 라벨인코딩을 해주자"
   ]
  },
  {
   "cell_type": "code",
   "execution_count": 196,
   "id": "1a6a6848-21fc-45a9-87c9-f076402b42bf",
   "metadata": {},
   "outputs": [],
   "source": [
    "test2 = test.copy()\n",
    "for col in test2.columns:\n",
    "    if test2.dtypes[col] == 'O':\n",
    "        encoder = LabelEncoder()\n",
    "        encoder.fit(test2[col])\n",
    "        labels = encoder.transform(test2[col])\n",
    "        test2[col] = list(labels) "
   ]
  },
  {
   "cell_type": "code",
   "execution_count": 197,
   "id": "796f6806-d960-4066-8e24-504c673b0013",
   "metadata": {},
   "outputs": [
    {
     "data": {
      "text/html": [
       "<div>\n",
       "<style scoped>\n",
       "    .dataframe tbody tr th:only-of-type {\n",
       "        vertical-align: middle;\n",
       "    }\n",
       "\n",
       "    .dataframe tbody tr th {\n",
       "        vertical-align: top;\n",
       "    }\n",
       "\n",
       "    .dataframe thead th {\n",
       "        text-align: right;\n",
       "    }\n",
       "</style>\n",
       "<table border=\"1\" class=\"dataframe\">\n",
       "  <thead>\n",
       "    <tr style=\"text-align: right;\">\n",
       "      <th></th>\n",
       "      <th>id</th>\n",
       "      <th>Species</th>\n",
       "      <th>Island</th>\n",
       "      <th>Full_Clutch</th>\n",
       "      <th>Culmen_Length</th>\n",
       "      <th>Culmen_Depth</th>\n",
       "      <th>Flipper_Length</th>\n",
       "      <th>Sex</th>\n",
       "      <th>DeltaN</th>\n",
       "      <th>DeltaC</th>\n",
       "    </tr>\n",
       "  </thead>\n",
       "  <tbody>\n",
       "    <tr>\n",
       "      <th>0</th>\n",
       "      <td>0</td>\n",
       "      <td>1</td>\n",
       "      <td>1</td>\n",
       "      <td>1</td>\n",
       "      <td>52.0</td>\n",
       "      <td>20.7</td>\n",
       "      <td>210.0</td>\n",
       "      <td>1</td>\n",
       "      <td>9.43146</td>\n",
       "      <td>-24.68440</td>\n",
       "    </tr>\n",
       "    <tr>\n",
       "      <th>1</th>\n",
       "      <td>1</td>\n",
       "      <td>2</td>\n",
       "      <td>0</td>\n",
       "      <td>1</td>\n",
       "      <td>55.9</td>\n",
       "      <td>17.0</td>\n",
       "      <td>228.0</td>\n",
       "      <td>1</td>\n",
       "      <td>8.31180</td>\n",
       "      <td>-26.35425</td>\n",
       "    </tr>\n",
       "    <tr>\n",
       "      <th>2</th>\n",
       "      <td>2</td>\n",
       "      <td>0</td>\n",
       "      <td>1</td>\n",
       "      <td>1</td>\n",
       "      <td>38.9</td>\n",
       "      <td>18.8</td>\n",
       "      <td>190.0</td>\n",
       "      <td>0</td>\n",
       "      <td>8.36936</td>\n",
       "      <td>-26.11199</td>\n",
       "    </tr>\n",
       "    <tr>\n",
       "      <th>3</th>\n",
       "      <td>3</td>\n",
       "      <td>1</td>\n",
       "      <td>1</td>\n",
       "      <td>1</td>\n",
       "      <td>45.2</td>\n",
       "      <td>16.6</td>\n",
       "      <td>191.0</td>\n",
       "      <td>0</td>\n",
       "      <td>9.62357</td>\n",
       "      <td>-24.78984</td>\n",
       "    </tr>\n",
       "    <tr>\n",
       "      <th>4</th>\n",
       "      <td>4</td>\n",
       "      <td>0</td>\n",
       "      <td>0</td>\n",
       "      <td>0</td>\n",
       "      <td>37.9</td>\n",
       "      <td>18.6</td>\n",
       "      <td>172.0</td>\n",
       "      <td>0</td>\n",
       "      <td>8.38404</td>\n",
       "      <td>-25.19837</td>\n",
       "    </tr>\n",
       "  </tbody>\n",
       "</table>\n",
       "</div>"
      ],
      "text/plain": [
       "   id  Species  Island  Full_Clutch  Culmen_Length  Culmen_Depth  \\\n",
       "0   0        1       1            1           52.0          20.7   \n",
       "1   1        2       0            1           55.9          17.0   \n",
       "2   2        0       1            1           38.9          18.8   \n",
       "3   3        1       1            1           45.2          16.6   \n",
       "4   4        0       0            0           37.9          18.6   \n",
       "\n",
       "   Flipper_Length  Sex   DeltaN    DeltaC  \n",
       "0           210.0    1  9.43146 -24.68440  \n",
       "1           228.0    1  8.31180 -26.35425  \n",
       "2           190.0    0  8.36936 -26.11199  \n",
       "3           191.0    0  9.62357 -24.78984  \n",
       "4           172.0    0  8.38404 -25.19837  "
      ]
     },
     "execution_count": 197,
     "metadata": {},
     "output_type": "execute_result"
    }
   ],
   "source": [
    "test2.head()  ## 라벨 인코딩이 잘 되었다"
   ]
  },
  {
   "cell_type": "code",
   "execution_count": 198,
   "id": "7ab50f0a-f72a-43c0-a0a2-0f65019b18c6",
   "metadata": {},
   "outputs": [],
   "source": [
    "test2 = test2[['Species', 'Flipper_Length', 'Sex']]"
   ]
  },
  {
   "cell_type": "code",
   "execution_count": 206,
   "id": "b90336f6-4a02-4093-9ee1-1fb1a399aac8",
   "metadata": {},
   "outputs": [],
   "source": [
    "predict_test = model_3N.predict(test2)  ## 모델 예측"
   ]
  },
  {
   "cell_type": "code",
   "execution_count": 207,
   "id": "d81fde78-318a-4bf2-a51c-db0e0f484283",
   "metadata": {},
   "outputs": [
    {
     "data": {
      "text/plain": [
       "array([4388.55855827, 5429.14121511, 3462.77933233, 3485.45232689,\n",
       "       3452.43633413, 4049.73324955])"
      ]
     },
     "execution_count": 207,
     "metadata": {},
     "output_type": "execute_result"
    }
   ],
   "source": [
    "predict_test[:6]"
   ]
  },
  {
   "cell_type": "markdown",
   "id": "ed943961-6abd-4a8c-b464-cf3f36e415df",
   "metadata": {},
   "source": [
    "### dacon 대회에 제출하기"
   ]
  },
  {
   "cell_type": "code",
   "execution_count": 208,
   "id": "a941e925-c385-4936-9c39-6bd7ac2d5363",
   "metadata": {},
   "outputs": [],
   "source": [
    "# 제출용 sample 파일을 불러옴\n",
    "submission = pd.read_csv('C:/Users/Jaesu/Dacon-Basic/뗑컨-몸무게-예측/Data/sample_submission.csv')"
   ]
  },
  {
   "cell_type": "code",
   "execution_count": 209,
   "id": "8cef0365-5f21-4d79-b998-7db87f178c89",
   "metadata": {},
   "outputs": [
    {
     "data": {
      "text/html": [
       "<div>\n",
       "<style scoped>\n",
       "    .dataframe tbody tr th:only-of-type {\n",
       "        vertical-align: middle;\n",
       "    }\n",
       "\n",
       "    .dataframe tbody tr th {\n",
       "        vertical-align: top;\n",
       "    }\n",
       "\n",
       "    .dataframe thead th {\n",
       "        text-align: right;\n",
       "    }\n",
       "</style>\n",
       "<table border=\"1\" class=\"dataframe\">\n",
       "  <thead>\n",
       "    <tr style=\"text-align: right;\">\n",
       "      <th></th>\n",
       "      <th>id</th>\n",
       "      <th>Body Mass (g)</th>\n",
       "    </tr>\n",
       "  </thead>\n",
       "  <tbody>\n",
       "    <tr>\n",
       "      <th>0</th>\n",
       "      <td>0</td>\n",
       "      <td>4388.558558</td>\n",
       "    </tr>\n",
       "    <tr>\n",
       "      <th>1</th>\n",
       "      <td>1</td>\n",
       "      <td>5429.141215</td>\n",
       "    </tr>\n",
       "    <tr>\n",
       "      <th>2</th>\n",
       "      <td>2</td>\n",
       "      <td>3462.779332</td>\n",
       "    </tr>\n",
       "    <tr>\n",
       "      <th>3</th>\n",
       "      <td>3</td>\n",
       "      <td>3485.452327</td>\n",
       "    </tr>\n",
       "    <tr>\n",
       "      <th>4</th>\n",
       "      <td>4</td>\n",
       "      <td>3452.436334</td>\n",
       "    </tr>\n",
       "  </tbody>\n",
       "</table>\n",
       "</div>"
      ],
      "text/plain": [
       "   id  Body Mass (g)\n",
       "0   0    4388.558558\n",
       "1   1    5429.141215\n",
       "2   2    3462.779332\n",
       "3   3    3485.452327\n",
       "4   4    3452.436334"
      ]
     },
     "execution_count": 209,
     "metadata": {},
     "output_type": "execute_result"
    }
   ],
   "source": [
    "# 위에서 구한 예측값을 그대로 넣음\n",
    "submission['Body Mass (g)'] = predict_test\n",
    "\n",
    "# 데이터가 잘 들어갔는지 확인\n",
    "submission.head()"
   ]
  },
  {
   "cell_type": "code",
   "execution_count": 212,
   "id": "617dc5c3-3450-4fba-8e37-e426297e2581",
   "metadata": {},
   "outputs": [],
   "source": [
    "# submission을 csv 파일로 저장\n",
    "submission.to_csv('C:/Users/Jaesu/github_desktop/Dacon-Basic/뗑컨-몸무게-예측/Data/submission4.csv', index = False)"
   ]
  },
  {
   "cell_type": "markdown",
   "id": "bb5c07a7-70fb-4af6-bf70-61a14a6bfbc6",
   "metadata": {},
   "source": [
    "`-` 점수는 315.9755682384"
   ]
  },
  {
   "cell_type": "code",
   "execution_count": null,
   "id": "ae3aca73-6b86-4306-b71a-3be2ce096085",
   "metadata": {},
   "outputs": [],
   "source": []
  }
 ],
 "metadata": {
  "kernelspec": {
   "display_name": "Python 3 (ipykernel)",
   "language": "python",
   "name": "python3"
  },
  "language_info": {
   "codemirror_mode": {
    "name": "ipython",
    "version": 3
   },
   "file_extension": ".py",
   "mimetype": "text/x-python",
   "name": "python",
   "nbconvert_exporter": "python",
   "pygments_lexer": "ipython3",
   "version": "3.8.11"
  }
 },
 "nbformat": 4,
 "nbformat_minor": 5
}
