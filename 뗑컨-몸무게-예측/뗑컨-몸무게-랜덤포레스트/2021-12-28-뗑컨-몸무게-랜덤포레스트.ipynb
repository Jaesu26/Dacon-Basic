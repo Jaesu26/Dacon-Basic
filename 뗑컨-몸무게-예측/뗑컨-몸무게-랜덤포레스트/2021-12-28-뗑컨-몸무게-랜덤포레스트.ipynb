{
 "cells": [
  {
   "cell_type": "markdown",
   "id": "255729ab-63d6-4d12-ae08-2aa43e163973",
   "metadata": {},
   "source": [
    "# 뗑컨 몸무게 예측 경진대회"
   ]
  },
  {
   "cell_type": "markdown",
   "id": "5535ad1b-592e-4b8a-a6c6-3160fd74d663",
   "metadata": {},
   "source": [
    "## 패키지 import 및 데이터 전처리"
   ]
  },
  {
   "cell_type": "code",
   "execution_count": 1,
   "id": "f5ab3cdf-e131-4e08-bf63-f386098931f0",
   "metadata": {},
   "outputs": [],
   "source": [
    "import pandas as pd\n",
    "import numpy as np"
   ]
  },
  {
   "cell_type": "code",
   "execution_count": 2,
   "id": "7efec087-45b1-4ab8-b12b-ede0370893b0",
   "metadata": {},
   "outputs": [],
   "source": [
    "df = pd.read_csv('C:/Users/Jaesu/Dacon-Basic/뗑컨-몸무게-예측/Data/train.csv')"
   ]
  },
  {
   "cell_type": "code",
   "execution_count": 3,
   "id": "39852b6b-3dc3-4a77-b470-68f6827c2fa3",
   "metadata": {},
   "outputs": [
    {
     "data": {
      "text/html": [
       "<div>\n",
       "<style scoped>\n",
       "    .dataframe tbody tr th:only-of-type {\n",
       "        vertical-align: middle;\n",
       "    }\n",
       "\n",
       "    .dataframe tbody tr th {\n",
       "        vertical-align: top;\n",
       "    }\n",
       "\n",
       "    .dataframe thead th {\n",
       "        text-align: right;\n",
       "    }\n",
       "</style>\n",
       "<table border=\"1\" class=\"dataframe\">\n",
       "  <thead>\n",
       "    <tr style=\"text-align: right;\">\n",
       "      <th></th>\n",
       "      <th>id</th>\n",
       "      <th>Species</th>\n",
       "      <th>Island</th>\n",
       "      <th>Clutch Completion</th>\n",
       "      <th>Culmen Length (mm)</th>\n",
       "      <th>Culmen Depth (mm)</th>\n",
       "      <th>Flipper Length (mm)</th>\n",
       "      <th>Sex</th>\n",
       "      <th>Delta 15 N (o/oo)</th>\n",
       "      <th>Delta 13 C (o/oo)</th>\n",
       "      <th>Body Mass (g)</th>\n",
       "    </tr>\n",
       "  </thead>\n",
       "  <tbody>\n",
       "    <tr>\n",
       "      <th>0</th>\n",
       "      <td>0</td>\n",
       "      <td>Gentoo penguin (Pygoscelis papua)</td>\n",
       "      <td>Biscoe</td>\n",
       "      <td>Yes</td>\n",
       "      <td>50.0</td>\n",
       "      <td>15.3</td>\n",
       "      <td>220</td>\n",
       "      <td>MALE</td>\n",
       "      <td>8.30515</td>\n",
       "      <td>-25.19017</td>\n",
       "      <td>5550</td>\n",
       "    </tr>\n",
       "    <tr>\n",
       "      <th>1</th>\n",
       "      <td>1</td>\n",
       "      <td>Chinstrap penguin (Pygoscelis antarctica)</td>\n",
       "      <td>Dream</td>\n",
       "      <td>No</td>\n",
       "      <td>49.5</td>\n",
       "      <td>19.0</td>\n",
       "      <td>200</td>\n",
       "      <td>MALE</td>\n",
       "      <td>9.63074</td>\n",
       "      <td>-24.34684</td>\n",
       "      <td>3800</td>\n",
       "    </tr>\n",
       "    <tr>\n",
       "      <th>2</th>\n",
       "      <td>2</td>\n",
       "      <td>Gentoo penguin (Pygoscelis papua)</td>\n",
       "      <td>Biscoe</td>\n",
       "      <td>Yes</td>\n",
       "      <td>45.1</td>\n",
       "      <td>14.4</td>\n",
       "      <td>210</td>\n",
       "      <td>FEMALE</td>\n",
       "      <td>8.51951</td>\n",
       "      <td>-27.01854</td>\n",
       "      <td>4400</td>\n",
       "    </tr>\n",
       "    <tr>\n",
       "      <th>3</th>\n",
       "      <td>3</td>\n",
       "      <td>Gentoo penguin (Pygoscelis papua)</td>\n",
       "      <td>Biscoe</td>\n",
       "      <td>Yes</td>\n",
       "      <td>44.5</td>\n",
       "      <td>14.7</td>\n",
       "      <td>214</td>\n",
       "      <td>FEMALE</td>\n",
       "      <td>8.20106</td>\n",
       "      <td>-26.16524</td>\n",
       "      <td>4850</td>\n",
       "    </tr>\n",
       "    <tr>\n",
       "      <th>4</th>\n",
       "      <td>4</td>\n",
       "      <td>Gentoo penguin (Pygoscelis papua)</td>\n",
       "      <td>Biscoe</td>\n",
       "      <td>No</td>\n",
       "      <td>49.6</td>\n",
       "      <td>16.0</td>\n",
       "      <td>225</td>\n",
       "      <td>MALE</td>\n",
       "      <td>8.38324</td>\n",
       "      <td>-26.84272</td>\n",
       "      <td>5700</td>\n",
       "    </tr>\n",
       "  </tbody>\n",
       "</table>\n",
       "</div>"
      ],
      "text/plain": [
       "   id                                    Species  Island Clutch Completion  \\\n",
       "0   0          Gentoo penguin (Pygoscelis papua)  Biscoe               Yes   \n",
       "1   1  Chinstrap penguin (Pygoscelis antarctica)   Dream                No   \n",
       "2   2          Gentoo penguin (Pygoscelis papua)  Biscoe               Yes   \n",
       "3   3          Gentoo penguin (Pygoscelis papua)  Biscoe               Yes   \n",
       "4   4          Gentoo penguin (Pygoscelis papua)  Biscoe                No   \n",
       "\n",
       "   Culmen Length (mm)  Culmen Depth (mm)  Flipper Length (mm)     Sex  \\\n",
       "0                50.0               15.3                  220    MALE   \n",
       "1                49.5               19.0                  200    MALE   \n",
       "2                45.1               14.4                  210  FEMALE   \n",
       "3                44.5               14.7                  214  FEMALE   \n",
       "4                49.6               16.0                  225    MALE   \n",
       "\n",
       "   Delta 15 N (o/oo)  Delta 13 C (o/oo)  Body Mass (g)  \n",
       "0            8.30515          -25.19017           5550  \n",
       "1            9.63074          -24.34684           3800  \n",
       "2            8.51951          -27.01854           4400  \n",
       "3            8.20106          -26.16524           4850  \n",
       "4            8.38324          -26.84272           5700  "
      ]
     },
     "execution_count": 3,
     "metadata": {},
     "output_type": "execute_result"
    }
   ],
   "source": [
    "df.head()"
   ]
  },
  {
   "cell_type": "markdown",
   "id": "1a094caf-888e-4a54-bb0b-17ea1a7c450b",
   "metadata": {},
   "source": [
    "|변수   |세부사항   |\n",
    "|:-:|:-:|\n",
    "|id | 샘플 아이디|\n",
    "|Species| 펭귄의 종을 나타내는 문자열|\n",
    "|Island | 샘플들이 수집된 Palmer Station 근처 섬 이름|\n",
    "|Clutch Completion | 관찰된 펭귄 둥지의 알이 2개인 경우 Full Clutch이며 Yes로 표기|\n",
    "|Culmen Length (mm) | 펭귄 옆모습 기준 부리의 가로 길이|\n",
    "|Culmen Depth (mm) | 펭귄 옆모습 기준 부리의 세로 길이|\n",
    "|Flipper Length (mm) |펭귄의 팔(날개) 길이|\n",
    "|Sex | 펭귄의 성별|\n",
    "|Delta 15 N (o/oo)  | 토양에 따라 변화하는 안정 동위원소 15N:14N의 비율|\n",
    "|Delta 13 C (o/oo) | 먹이에 따라 변화하는 안정 동위원소 13C:12C의 비율|\n",
    "|Body Mass (g)| 펭귄의 몸무게를 나타내는 숫자 (g)|"
   ]
  },
  {
   "cell_type": "markdown",
   "id": "50b18b1a-8464-4d65-bfae-ca6500354097",
   "metadata": {},
   "source": [
    "`-` 범주형 변수 4개, 양적 변수 6개이다"
   ]
  },
  {
   "cell_type": "code",
   "execution_count": 4,
   "id": "db73b265-8379-4156-b9fc-a466d0018291",
   "metadata": {},
   "outputs": [
    {
     "data": {
      "text/html": [
       "<div>\n",
       "<style scoped>\n",
       "    .dataframe tbody tr th:only-of-type {\n",
       "        vertical-align: middle;\n",
       "    }\n",
       "\n",
       "    .dataframe tbody tr th {\n",
       "        vertical-align: top;\n",
       "    }\n",
       "\n",
       "    .dataframe thead th {\n",
       "        text-align: right;\n",
       "    }\n",
       "</style>\n",
       "<table border=\"1\" class=\"dataframe\">\n",
       "  <thead>\n",
       "    <tr style=\"text-align: right;\">\n",
       "      <th></th>\n",
       "      <th>id</th>\n",
       "      <th>Culmen Length (mm)</th>\n",
       "      <th>Culmen Depth (mm)</th>\n",
       "      <th>Flipper Length (mm)</th>\n",
       "      <th>Delta 15 N (o/oo)</th>\n",
       "      <th>Delta 13 C (o/oo)</th>\n",
       "      <th>Body Mass (g)</th>\n",
       "    </tr>\n",
       "  </thead>\n",
       "  <tbody>\n",
       "    <tr>\n",
       "      <th>count</th>\n",
       "      <td>114.00</td>\n",
       "      <td>114.00</td>\n",
       "      <td>114.00</td>\n",
       "      <td>114.00</td>\n",
       "      <td>111.00</td>\n",
       "      <td>111.00</td>\n",
       "      <td>114.00</td>\n",
       "    </tr>\n",
       "    <tr>\n",
       "      <th>mean</th>\n",
       "      <td>56.50</td>\n",
       "      <td>44.61</td>\n",
       "      <td>17.01</td>\n",
       "      <td>203.05</td>\n",
       "      <td>8.74</td>\n",
       "      <td>-25.72</td>\n",
       "      <td>4327.85</td>\n",
       "    </tr>\n",
       "    <tr>\n",
       "      <th>std</th>\n",
       "      <td>33.05</td>\n",
       "      <td>5.32</td>\n",
       "      <td>1.94</td>\n",
       "      <td>14.65</td>\n",
       "      <td>0.57</td>\n",
       "      <td>0.86</td>\n",
       "      <td>781.77</td>\n",
       "    </tr>\n",
       "    <tr>\n",
       "      <th>min</th>\n",
       "      <td>0.00</td>\n",
       "      <td>33.50</td>\n",
       "      <td>13.20</td>\n",
       "      <td>174.00</td>\n",
       "      <td>7.63</td>\n",
       "      <td>-27.02</td>\n",
       "      <td>2700.00</td>\n",
       "    </tr>\n",
       "    <tr>\n",
       "      <th>25%</th>\n",
       "      <td>28.25</td>\n",
       "      <td>40.33</td>\n",
       "      <td>15.22</td>\n",
       "      <td>190.00</td>\n",
       "      <td>8.27</td>\n",
       "      <td>-26.43</td>\n",
       "      <td>3675.00</td>\n",
       "    </tr>\n",
       "    <tr>\n",
       "      <th>50%</th>\n",
       "      <td>56.50</td>\n",
       "      <td>45.20</td>\n",
       "      <td>17.25</td>\n",
       "      <td>199.00</td>\n",
       "      <td>8.63</td>\n",
       "      <td>-25.96</td>\n",
       "      <td>4250.00</td>\n",
       "    </tr>\n",
       "    <tr>\n",
       "      <th>75%</th>\n",
       "      <td>84.75</td>\n",
       "      <td>49.08</td>\n",
       "      <td>18.60</td>\n",
       "      <td>216.00</td>\n",
       "      <td>9.26</td>\n",
       "      <td>-25.01</td>\n",
       "      <td>4850.00</td>\n",
       "    </tr>\n",
       "    <tr>\n",
       "      <th>max</th>\n",
       "      <td>113.00</td>\n",
       "      <td>55.10</td>\n",
       "      <td>21.10</td>\n",
       "      <td>231.00</td>\n",
       "      <td>10.03</td>\n",
       "      <td>-24.10</td>\n",
       "      <td>6300.00</td>\n",
       "    </tr>\n",
       "  </tbody>\n",
       "</table>\n",
       "</div>"
      ],
      "text/plain": [
       "           id  Culmen Length (mm)  Culmen Depth (mm)  Flipper Length (mm)  \\\n",
       "count  114.00              114.00             114.00               114.00   \n",
       "mean    56.50               44.61              17.01               203.05   \n",
       "std     33.05                5.32               1.94                14.65   \n",
       "min      0.00               33.50              13.20               174.00   \n",
       "25%     28.25               40.33              15.22               190.00   \n",
       "50%     56.50               45.20              17.25               199.00   \n",
       "75%     84.75               49.08              18.60               216.00   \n",
       "max    113.00               55.10              21.10               231.00   \n",
       "\n",
       "       Delta 15 N (o/oo)  Delta 13 C (o/oo)  Body Mass (g)  \n",
       "count             111.00             111.00         114.00  \n",
       "mean                8.74             -25.72        4327.85  \n",
       "std                 0.57               0.86         781.77  \n",
       "min                 7.63             -27.02        2700.00  \n",
       "25%                 8.27             -26.43        3675.00  \n",
       "50%                 8.63             -25.96        4250.00  \n",
       "75%                 9.26             -25.01        4850.00  \n",
       "max                10.03             -24.10        6300.00  "
      ]
     },
     "execution_count": 4,
     "metadata": {},
     "output_type": "execute_result"
    }
   ],
   "source": [
    "df.describe().round(2)"
   ]
  },
  {
   "cell_type": "code",
   "execution_count": 5,
   "id": "ccde08cb-c2eb-4f24-b9fa-5d3c3c23318c",
   "metadata": {},
   "outputs": [
    {
     "data": {
      "text/plain": [
       "(114, 11)"
      ]
     },
     "execution_count": 5,
     "metadata": {},
     "output_type": "execute_result"
    }
   ],
   "source": [
    "df.shape ## 똉컨 114마리에 대한 10가지의 정보"
   ]
  },
  {
   "cell_type": "code",
   "execution_count": 6,
   "id": "0728100c-b9bb-4ed9-93f5-17f9a8b7f509",
   "metadata": {},
   "outputs": [
    {
     "data": {
      "text/plain": [
       "id                     0\n",
       "Species                0\n",
       "Island                 0\n",
       "Clutch Completion      0\n",
       "Culmen Length (mm)     0\n",
       "Culmen Depth (mm)      0\n",
       "Flipper Length (mm)    0\n",
       "Sex                    3\n",
       "Delta 15 N (o/oo)      3\n",
       "Delta 13 C (o/oo)      3\n",
       "Body Mass (g)          0\n",
       "dtype: int64"
      ]
     },
     "execution_count": 6,
     "metadata": {},
     "output_type": "execute_result"
    }
   ],
   "source": [
    "df.isnull().sum()"
   ]
  },
  {
   "cell_type": "markdown",
   "id": "2156f688-7370-4480-97dd-10983afb6d0e",
   "metadata": {},
   "source": [
    "`-` Sex, Delta 15 N, Delta 13 C 컬럼에 결측치가 3개씩 존재한다"
   ]
  },
  {
   "cell_type": "code",
   "execution_count": 7,
   "id": "ce63e6c7-854a-4642-bbac-9b66f535a6e1",
   "metadata": {},
   "outputs": [
    {
     "name": "stdout",
     "output_type": "stream",
     "text": [
      "결측치가 있는 컬럼은: Sex입니다\n",
      "해당 컬럼에 총 3개의 결측치가 존재합니다.\n",
      "결측치가 있는 컬럼은: Delta 15 N (o/oo)입니다\n",
      "해당 컬럼에 총 3개의 결측치가 존재합니다.\n",
      "결측치가 있는 컬럼은: Delta 13 C (o/oo)입니다\n",
      "해당 컬럼에 총 3개의 결측치가 존재합니다.\n"
     ]
    }
   ],
   "source": [
    "def check_missing_col(dataframe):\n",
    "    missing_col = []\n",
    "    counted_missing_col = 0\n",
    "    for i, col in enumerate(dataframe.columns):\n",
    "        missing_values = sum(dataframe[col].isna())\n",
    "        is_missing = True if missing_values >= 1 else False\n",
    "        if is_missing:\n",
    "            counted_missing_col += 1\n",
    "            print(f'결측치가 있는 컬럼은: {col}입니다')\n",
    "            print(f'해당 컬럼에 총 {missing_values}개의 결측치가 존재합니다.')\n",
    "            missing_col.append([col, dataframe[col].dtype])\n",
    "    if counted_missing_col == 0:\n",
    "        print('결측치가 존재하지 않습니다')\n",
    "    return missing_col\n",
    "\n",
    "missing_col = check_missing_col(df)"
   ]
  },
  {
   "cell_type": "code",
   "execution_count": 8,
   "id": "0116b669-a66b-4bb5-96ac-37bd458b96b3",
   "metadata": {},
   "outputs": [
    {
     "data": {
      "text/plain": [
       "[['Sex', dtype('O')],\n",
       " ['Delta 15 N (o/oo)', dtype('float64')],\n",
       " ['Delta 13 C (o/oo)', dtype('float64')]]"
      ]
     },
     "execution_count": 8,
     "metadata": {},
     "output_type": "execute_result"
    }
   ],
   "source": [
    "missing_col"
   ]
  },
  {
   "cell_type": "code",
   "execution_count": 9,
   "id": "ebc7935d-5fc3-4f02-9cbe-4d72d63426d9",
   "metadata": {},
   "outputs": [],
   "source": [
    "df.drop('id', axis = 1, inplace = True) ## id는 필요없으니 제거 "
   ]
  },
  {
   "cell_type": "code",
   "execution_count": 10,
   "id": "115eb61b-8e80-4477-882b-31fd3c8b20a7",
   "metadata": {},
   "outputs": [
    {
     "data": {
      "text/html": [
       "<div>\n",
       "<style scoped>\n",
       "    .dataframe tbody tr th:only-of-type {\n",
       "        vertical-align: middle;\n",
       "    }\n",
       "\n",
       "    .dataframe tbody tr th {\n",
       "        vertical-align: top;\n",
       "    }\n",
       "\n",
       "    .dataframe thead th {\n",
       "        text-align: right;\n",
       "    }\n",
       "</style>\n",
       "<table border=\"1\" class=\"dataframe\">\n",
       "  <thead>\n",
       "    <tr style=\"text-align: right;\">\n",
       "      <th></th>\n",
       "      <th>Species</th>\n",
       "      <th>Island</th>\n",
       "      <th>Clutch Completion</th>\n",
       "      <th>Culmen Length (mm)</th>\n",
       "      <th>Culmen Depth (mm)</th>\n",
       "      <th>Flipper Length (mm)</th>\n",
       "      <th>Sex</th>\n",
       "      <th>Delta 15 N (o/oo)</th>\n",
       "      <th>Delta 13 C (o/oo)</th>\n",
       "      <th>Body Mass (g)</th>\n",
       "    </tr>\n",
       "  </thead>\n",
       "  <tbody>\n",
       "    <tr>\n",
       "      <th>6</th>\n",
       "      <td>Adelie Penguin (Pygoscelis adeliae)</td>\n",
       "      <td>Torgersen</td>\n",
       "      <td>Yes</td>\n",
       "      <td>42.0</td>\n",
       "      <td>20.2</td>\n",
       "      <td>190</td>\n",
       "      <td>NaN</td>\n",
       "      <td>9.13362</td>\n",
       "      <td>-25.09368</td>\n",
       "      <td>4250</td>\n",
       "    </tr>\n",
       "    <tr>\n",
       "      <th>8</th>\n",
       "      <td>Adelie Penguin (Pygoscelis adeliae)</td>\n",
       "      <td>Torgersen</td>\n",
       "      <td>Yes</td>\n",
       "      <td>34.1</td>\n",
       "      <td>18.1</td>\n",
       "      <td>193</td>\n",
       "      <td>NaN</td>\n",
       "      <td>NaN</td>\n",
       "      <td>NaN</td>\n",
       "      <td>3475</td>\n",
       "    </tr>\n",
       "    <tr>\n",
       "      <th>18</th>\n",
       "      <td>Adelie Penguin (Pygoscelis adeliae)</td>\n",
       "      <td>Dream</td>\n",
       "      <td>No</td>\n",
       "      <td>39.8</td>\n",
       "      <td>19.1</td>\n",
       "      <td>184</td>\n",
       "      <td>MALE</td>\n",
       "      <td>NaN</td>\n",
       "      <td>NaN</td>\n",
       "      <td>4650</td>\n",
       "    </tr>\n",
       "    <tr>\n",
       "      <th>70</th>\n",
       "      <td>Gentoo penguin (Pygoscelis papua)</td>\n",
       "      <td>Biscoe</td>\n",
       "      <td>Yes</td>\n",
       "      <td>46.2</td>\n",
       "      <td>14.4</td>\n",
       "      <td>214</td>\n",
       "      <td>NaN</td>\n",
       "      <td>8.24253</td>\n",
       "      <td>-26.81540</td>\n",
       "      <td>4650</td>\n",
       "    </tr>\n",
       "    <tr>\n",
       "      <th>109</th>\n",
       "      <td>Adelie Penguin (Pygoscelis adeliae)</td>\n",
       "      <td>Torgersen</td>\n",
       "      <td>Yes</td>\n",
       "      <td>36.6</td>\n",
       "      <td>17.8</td>\n",
       "      <td>185</td>\n",
       "      <td>FEMALE</td>\n",
       "      <td>NaN</td>\n",
       "      <td>NaN</td>\n",
       "      <td>3700</td>\n",
       "    </tr>\n",
       "  </tbody>\n",
       "</table>\n",
       "</div>"
      ],
      "text/plain": [
       "                                 Species     Island Clutch Completion  \\\n",
       "6    Adelie Penguin (Pygoscelis adeliae)  Torgersen               Yes   \n",
       "8    Adelie Penguin (Pygoscelis adeliae)  Torgersen               Yes   \n",
       "18   Adelie Penguin (Pygoscelis adeliae)      Dream                No   \n",
       "70     Gentoo penguin (Pygoscelis papua)     Biscoe               Yes   \n",
       "109  Adelie Penguin (Pygoscelis adeliae)  Torgersen               Yes   \n",
       "\n",
       "     Culmen Length (mm)  Culmen Depth (mm)  Flipper Length (mm)     Sex  \\\n",
       "6                  42.0               20.2                  190     NaN   \n",
       "8                  34.1               18.1                  193     NaN   \n",
       "18                 39.8               19.1                  184    MALE   \n",
       "70                 46.2               14.4                  214     NaN   \n",
       "109                36.6               17.8                  185  FEMALE   \n",
       "\n",
       "     Delta 15 N (o/oo)  Delta 13 C (o/oo)  Body Mass (g)  \n",
       "6              9.13362          -25.09368           4250  \n",
       "8                  NaN                NaN           3475  \n",
       "18                 NaN                NaN           4650  \n",
       "70             8.24253          -26.81540           4650  \n",
       "109                NaN                NaN           3700  "
      ]
     },
     "execution_count": 10,
     "metadata": {},
     "output_type": "execute_result"
    }
   ],
   "source": [
    "## 결측치가 있는 row들을 확인\n",
    "df[df.isna().sum(axis = 1) > 0]"
   ]
  },
  {
   "cell_type": "markdown",
   "id": "920b6162-1ba6-4872-93ea-2c45d88a8b30",
   "metadata": {},
   "source": [
    "`-` 결측치가 카테고리이면 행을 삭제하고 수치형이면 평균값을 넣어주자"
   ]
  },
  {
   "cell_type": "code",
   "execution_count": 11,
   "id": "70f7d43e-8342-441e-a025-1955bda1d69d",
   "metadata": {},
   "outputs": [],
   "source": [
    "# 결측치를 처리하는 함수 \n",
    "def handle_na(data, missing_col):\n",
    "    temp = data.copy()\n",
    "    for col, dtype in missing_col:\n",
    "        if dtype == 'O':\n",
    "            # 카테고리형 feature가 결측치인 경우 해당 행들을 삭제\n",
    "            temp = temp.dropna(subset=[col])\n",
    "        elif dtype == int or dtype == float:\n",
    "            # 수치형 feature가 결측치인 경우 평균값을 채움\n",
    "            temp.loc[:,col] = temp[col].fillna(temp[col].mean())\n",
    "    return temp"
   ]
  },
  {
   "cell_type": "code",
   "execution_count": 12,
   "id": "0adcd3ac-0d75-4ac9-b613-7164ccf4e110",
   "metadata": {},
   "outputs": [],
   "source": [
    "df = handle_na(df, missing_col)"
   ]
  },
  {
   "cell_type": "code",
   "execution_count": 13,
   "id": "a858fd8c-944a-442a-b1fc-0611196ad08c",
   "metadata": {},
   "outputs": [
    {
     "name": "stdout",
     "output_type": "stream",
     "text": [
      "결측치가 존재하지 않습니다\n"
     ]
    }
   ],
   "source": [
    "# 결측치 처리가 잘 되었는지 확인\n",
    "missing_col = check_missing_col(df) "
   ]
  },
  {
   "cell_type": "code",
   "execution_count": 14,
   "id": "3427ca6b-23b4-4797-ad81-ffcbb4a78c90",
   "metadata": {},
   "outputs": [],
   "source": [
    "df.rename(columns = {'Clutch Completion':'Full_Clutch', 'Culmen Length (mm)':'Culmen_Length', \n",
    "                     'Culmen Depth (mm)':'Culmen_Depth', 'Flipper Length (mm)':'Flipper_Length',\n",
    "                     'Delta 15 N (o/oo)':'DeltaN', 'Delta 13 C (o/oo)':'DeltaC', 'Body Mass (g)':'Body_Mass'}, inplace = True) ## 열 이름 변경"
   ]
  },
  {
   "cell_type": "markdown",
   "id": "8bef0520-2f48-490d-b231-e0de58cdf64e",
   "metadata": {},
   "source": [
    "## 모델링"
   ]
  },
  {
   "cell_type": "markdown",
   "id": "7e4c5e45-aabe-4f15-87a8-15722357d495",
   "metadata": {},
   "source": [
    "### 전처리"
   ]
  },
  {
   "cell_type": "code",
   "execution_count": 15,
   "id": "302b6d84-3430-465c-8f42-f03fb1a159ca",
   "metadata": {},
   "outputs": [],
   "source": [
    "from sklearn.model_selection import train_test_split"
   ]
  },
  {
   "cell_type": "code",
   "execution_count": 16,
   "id": "fba64af4-e507-4f8f-b261-4c67a0f7fe4e",
   "metadata": {},
   "outputs": [],
   "source": [
    "dt = df.iloc[:, :-1]      ## target 제외한 데이터프레임\n",
    "target = df['Body_Mass']  ## target"
   ]
  },
  {
   "cell_type": "markdown",
   "id": "a52d488c-1dba-4cab-8aee-13b1086838df",
   "metadata": {},
   "source": [
    "`-` 범주형 변수에 라벨인코딩을 해주자"
   ]
  },
  {
   "cell_type": "code",
   "execution_count": 17,
   "id": "51a7845b-8a17-4456-8edf-3d77b8865d2e",
   "metadata": {},
   "outputs": [],
   "source": [
    "from sklearn.preprocessing import LabelEncoder\n",
    "\n",
    "dt2 = dt.copy()\n",
    "for col in dt.columns:\n",
    "    if dt.dtypes[col] == 'O':\n",
    "        encoder = LabelEncoder()\n",
    "        encoder.fit(dt[col])\n",
    "        labels = encoder.transform(dt[col])\n",
    "        dt2[col] = list(labels) "
   ]
  },
  {
   "cell_type": "code",
   "execution_count": 18,
   "id": "923fcd59-4c91-43f6-81b8-8859d404408b",
   "metadata": {},
   "outputs": [
    {
     "data": {
      "text/html": [
       "<div>\n",
       "<style scoped>\n",
       "    .dataframe tbody tr th:only-of-type {\n",
       "        vertical-align: middle;\n",
       "    }\n",
       "\n",
       "    .dataframe tbody tr th {\n",
       "        vertical-align: top;\n",
       "    }\n",
       "\n",
       "    .dataframe thead th {\n",
       "        text-align: right;\n",
       "    }\n",
       "</style>\n",
       "<table border=\"1\" class=\"dataframe\">\n",
       "  <thead>\n",
       "    <tr style=\"text-align: right;\">\n",
       "      <th></th>\n",
       "      <th>Species</th>\n",
       "      <th>Island</th>\n",
       "      <th>Full_Clutch</th>\n",
       "      <th>Culmen_Length</th>\n",
       "      <th>Culmen_Depth</th>\n",
       "      <th>Flipper_Length</th>\n",
       "      <th>Sex</th>\n",
       "      <th>DeltaN</th>\n",
       "      <th>DeltaC</th>\n",
       "    </tr>\n",
       "  </thead>\n",
       "  <tbody>\n",
       "    <tr>\n",
       "      <th>0</th>\n",
       "      <td>2</td>\n",
       "      <td>0</td>\n",
       "      <td>1</td>\n",
       "      <td>50.0</td>\n",
       "      <td>15.3</td>\n",
       "      <td>220</td>\n",
       "      <td>1</td>\n",
       "      <td>8.30515</td>\n",
       "      <td>-25.19017</td>\n",
       "    </tr>\n",
       "    <tr>\n",
       "      <th>1</th>\n",
       "      <td>1</td>\n",
       "      <td>1</td>\n",
       "      <td>0</td>\n",
       "      <td>49.5</td>\n",
       "      <td>19.0</td>\n",
       "      <td>200</td>\n",
       "      <td>1</td>\n",
       "      <td>9.63074</td>\n",
       "      <td>-24.34684</td>\n",
       "    </tr>\n",
       "    <tr>\n",
       "      <th>2</th>\n",
       "      <td>2</td>\n",
       "      <td>0</td>\n",
       "      <td>1</td>\n",
       "      <td>45.1</td>\n",
       "      <td>14.4</td>\n",
       "      <td>210</td>\n",
       "      <td>0</td>\n",
       "      <td>8.51951</td>\n",
       "      <td>-27.01854</td>\n",
       "    </tr>\n",
       "    <tr>\n",
       "      <th>3</th>\n",
       "      <td>2</td>\n",
       "      <td>0</td>\n",
       "      <td>1</td>\n",
       "      <td>44.5</td>\n",
       "      <td>14.7</td>\n",
       "      <td>214</td>\n",
       "      <td>0</td>\n",
       "      <td>8.20106</td>\n",
       "      <td>-26.16524</td>\n",
       "    </tr>\n",
       "    <tr>\n",
       "      <th>4</th>\n",
       "      <td>2</td>\n",
       "      <td>0</td>\n",
       "      <td>0</td>\n",
       "      <td>49.6</td>\n",
       "      <td>16.0</td>\n",
       "      <td>225</td>\n",
       "      <td>1</td>\n",
       "      <td>8.38324</td>\n",
       "      <td>-26.84272</td>\n",
       "    </tr>\n",
       "  </tbody>\n",
       "</table>\n",
       "</div>"
      ],
      "text/plain": [
       "   Species  Island  Full_Clutch  Culmen_Length  Culmen_Depth  Flipper_Length  \\\n",
       "0        2       0            1           50.0          15.3             220   \n",
       "1        1       1            0           49.5          19.0             200   \n",
       "2        2       0            1           45.1          14.4             210   \n",
       "3        2       0            1           44.5          14.7             214   \n",
       "4        2       0            0           49.6          16.0             225   \n",
       "\n",
       "   Sex   DeltaN    DeltaC  \n",
       "0    1  8.30515 -25.19017  \n",
       "1    1  9.63074 -24.34684  \n",
       "2    0  8.51951 -27.01854  \n",
       "3    0  8.20106 -26.16524  \n",
       "4    1  8.38324 -26.84272  "
      ]
     },
     "execution_count": 18,
     "metadata": {},
     "output_type": "execute_result"
    }
   ],
   "source": [
    "dt2.head()  ## 라벨 인코딩이 잘 되었다"
   ]
  },
  {
   "cell_type": "code",
   "execution_count": 19,
   "id": "4cca8bc4-2ed8-4521-af68-eff15ea7917c",
   "metadata": {},
   "outputs": [],
   "source": [
    "x_train, x_valid, y_train, y_valid = train_test_split(dt2, target, test_size = 0.2, shuffle = True,\n",
    "                                                      stratify = dt2['Species'] , random_state = 21)\n",
    "## 종의 비율이 train, valid 비슷하도록 세팅함"
   ]
  },
  {
   "cell_type": "markdown",
   "id": "fc638603-bbf7-4a08-bfd5-412d9be0cb3a",
   "metadata": {},
   "source": [
    "`-` 위의 split한 데이터프레임을 reset_index 하게 되면 기존의 인덱스번호가 초기화됨을 잊지말자 "
   ]
  },
  {
   "cell_type": "markdown",
   "id": "99b92e06-db94-4580-9542-f3f36c4e9ab5",
   "metadata": {},
   "source": [
    "## 랜덤 포레스트"
   ]
  },
  {
   "cell_type": "code",
   "execution_count": 21,
   "id": "5484c380-c473-49d7-b895-329654233629",
   "metadata": {},
   "outputs": [],
   "source": [
    "from sklearn.ensemble import RandomForestRegressor"
   ]
  },
  {
   "cell_type": "code",
   "execution_count": 25,
   "id": "6c70d6b2-4074-41bf-aed0-f08328ff6453",
   "metadata": {},
   "outputs": [],
   "source": [
    "def RMSE(real, predict):\n",
    "    return np.sqrt(np.mean(np.square(real - predict)))"
   ]
  },
  {
   "cell_type": "code",
   "execution_count": 26,
   "id": "9577dff0-150a-49a1-a3cf-370618a8800c",
   "metadata": {},
   "outputs": [
    {
     "name": "stdout",
     "output_type": "stream",
     "text": [
      "RMSE 319.28757311838194\n"
     ]
    }
   ],
   "source": [
    "model = RandomForestRegressor(random_state = 21)     ## 랜덤 포레스트 모델 선언\n",
    "model.fit(x_train, y_train)         ## 랜덤 포레스트 모델 학습\n",
    "y_predict = model.predict(x_valid)  ## 모델 예측\n",
    "rmse = RMSE(y_predict, y_valid)     ## 평가 지수 \n",
    "print('RMSE', rmse)"
   ]
  },
  {
   "cell_type": "markdown",
   "id": "371e3435-ea55-4665-a7ca-a51f79686a5b",
   "metadata": {},
   "source": [
    "`-` RMSE는 약 319이다"
   ]
  },
  {
   "cell_type": "markdown",
   "id": "5566110b-06fc-4bf0-a1e2-502a9acb9f94",
   "metadata": {},
   "source": [
    "### 모델 성능 시각화"
   ]
  },
  {
   "cell_type": "code",
   "execution_count": 28,
   "id": "0fda05a6-9990-4d20-b891-f4e133a189cc",
   "metadata": {},
   "outputs": [],
   "source": [
    "import matplotlib.pyplot as plt"
   ]
  },
  {
   "cell_type": "code",
   "execution_count": 29,
   "id": "8f84006e-668c-48f1-989c-7244120a4326",
   "metadata": {},
   "outputs": [
    {
     "data": {
      "text/plain": [
       "array([4216.25, 3428.25, 3593.75, 4151.  , 4618.75, 4236.5 , 4766.  ,\n",
       "       4171.  , 4205.25, 5127.25, 4176.75, 4149.25, 4846.25, 4055.  ,\n",
       "       3634.75, 4940.25, 3404.25, 3637.25, 5403.75, 4662.25, 5387.5 ,\n",
       "       5466.5 , 4801.75])"
      ]
     },
     "execution_count": 29,
     "metadata": {},
     "output_type": "execute_result"
    }
   ],
   "source": [
    "y_predict"
   ]
  },
  {
   "cell_type": "code",
   "execution_count": 30,
   "id": "a8e0614a-d2f0-4e8a-b170-21deeae8564f",
   "metadata": {},
   "outputs": [
    {
     "data": {
      "text/plain": [
       "<matplotlib.legend.Legend at 0x26bfcfbfb50>"
      ]
     },
     "execution_count": 30,
     "metadata": {},
     "output_type": "execute_result"
    },
    {
     "data": {
      "image/png": "[encoded data removed]",
      "text/plain": [
       "<Figure size 432x288 with 1 Axes>"
      ]
     },
     "metadata": {
      "needs_background": "light"
     },
     "output_type": "display_data"
    }
   ],
   "source": [
    "real = pd.DataFrame(y_valid.reset_index()).drop('index', axis = 1)\n",
    "plt.plot(real, label = 'real')\n",
    "plt.plot(y_predict, label = 'predict')\n",
    "plt.legend()"
   ]
  },
  {
   "cell_type": "markdown",
   "id": "a5cb881b-3df9-45cc-9602-84bb8c4af0ea",
   "metadata": {},
   "source": [
    "`-` 그럭저럭 잘 맞추는 것 같다"
   ]
  },
  {
   "cell_type": "markdown",
   "id": "394678e2-3728-4704-9500-1ca52528d28b",
   "metadata": {},
   "source": [
    "### feature 중요도 시각화"
   ]
  },
  {
   "cell_type": "markdown",
   "id": "c847101d-7e7a-4341-bb1e-d39cd75dc763",
   "metadata": {},
   "source": [
    "`-` feature_importances를 담은 데이터프레임을 만들자"
   ]
  },
  {
   "cell_type": "code",
   "execution_count": 31,
   "id": "098ac97f-1e0e-4d41-a995-eb9b12e93bb4",
   "metadata": {},
   "outputs": [
    {
     "data": {
      "text/plain": [
       "array([0.30041051, 0.00227972, 0.00089773, 0.04522978, 0.05123867,\n",
       "       0.44623878, 0.08612741, 0.03838731, 0.02919009])"
      ]
     },
     "execution_count": 31,
     "metadata": {},
     "output_type": "execute_result"
    }
   ],
   "source": [
    "model.feature_importances_"
   ]
  },
  {
   "cell_type": "code",
   "execution_count": 32,
   "id": "3a4f283c-a267-40cf-847e-ca515b6fd344",
   "metadata": {},
   "outputs": [
    {
     "data": {
      "text/plain": [
       "Index(['Species', 'Island', 'Full_Clutch', 'Culmen_Length', 'Culmen_Depth',\n",
       "       'Flipper_Length', 'Sex', 'DeltaN', 'DeltaC'],\n",
       "      dtype='object')"
      ]
     },
     "execution_count": 32,
     "metadata": {},
     "output_type": "execute_result"
    }
   ],
   "source": [
    "x_train.columns"
   ]
  },
  {
   "cell_type": "code",
   "execution_count": 33,
   "id": "739e21dc-2d85-409a-ab4b-5ff462ade70c",
   "metadata": {},
   "outputs": [
    {
     "data": {
      "text/html": [
       "<div>\n",
       "<style scoped>\n",
       "    .dataframe tbody tr th:only-of-type {\n",
       "        vertical-align: middle;\n",
       "    }\n",
       "\n",
       "    .dataframe tbody tr th {\n",
       "        vertical-align: top;\n",
       "    }\n",
       "\n",
       "    .dataframe thead th {\n",
       "        text-align: right;\n",
       "    }\n",
       "</style>\n",
       "<table border=\"1\" class=\"dataframe\">\n",
       "  <thead>\n",
       "    <tr style=\"text-align: right;\">\n",
       "      <th></th>\n",
       "      <th>col_name</th>\n",
       "      <th>importance</th>\n",
       "    </tr>\n",
       "  </thead>\n",
       "  <tbody>\n",
       "    <tr>\n",
       "      <th>0</th>\n",
       "      <td>Species</td>\n",
       "      <td>0.300411</td>\n",
       "    </tr>\n",
       "    <tr>\n",
       "      <th>1</th>\n",
       "      <td>Island</td>\n",
       "      <td>0.002280</td>\n",
       "    </tr>\n",
       "    <tr>\n",
       "      <th>2</th>\n",
       "      <td>Full_Clutch</td>\n",
       "      <td>0.000898</td>\n",
       "    </tr>\n",
       "    <tr>\n",
       "      <th>3</th>\n",
       "      <td>Culmen_Length</td>\n",
       "      <td>0.045230</td>\n",
       "    </tr>\n",
       "    <tr>\n",
       "      <th>4</th>\n",
       "      <td>Culmen_Depth</td>\n",
       "      <td>0.051239</td>\n",
       "    </tr>\n",
       "    <tr>\n",
       "      <th>5</th>\n",
       "      <td>Flipper_Length</td>\n",
       "      <td>0.446239</td>\n",
       "    </tr>\n",
       "    <tr>\n",
       "      <th>6</th>\n",
       "      <td>Sex</td>\n",
       "      <td>0.086127</td>\n",
       "    </tr>\n",
       "    <tr>\n",
       "      <th>7</th>\n",
       "      <td>DeltaN</td>\n",
       "      <td>0.038387</td>\n",
       "    </tr>\n",
       "    <tr>\n",
       "      <th>8</th>\n",
       "      <td>DeltaC</td>\n",
       "      <td>0.029190</td>\n",
       "    </tr>\n",
       "  </tbody>\n",
       "</table>\n",
       "</div>"
      ],
      "text/plain": [
       "         col_name  importance\n",
       "0         Species    0.300411\n",
       "1          Island    0.002280\n",
       "2     Full_Clutch    0.000898\n",
       "3   Culmen_Length    0.045230\n",
       "4    Culmen_Depth    0.051239\n",
       "5  Flipper_Length    0.446239\n",
       "6             Sex    0.086127\n",
       "7          DeltaN    0.038387\n",
       "8          DeltaC    0.029190"
      ]
     },
     "execution_count": 33,
     "metadata": {},
     "output_type": "execute_result"
    }
   ],
   "source": [
    "importance = pd.DataFrame({'col_name':x_train.columns, 'importance':model.feature_importances_})\n",
    "importance"
   ]
  },
  {
   "cell_type": "code",
   "execution_count": 34,
   "id": "ddfa3f67-e73b-43d6-98fb-7801ba288222",
   "metadata": {},
   "outputs": [
    {
     "data": {
      "text/plain": [
       "<AxesSubplot:ylabel='col_name'>"
      ]
     },
     "execution_count": 34,
     "metadata": {},
     "output_type": "execute_result"
    },
    {
     "data": {
      "image/png": "[encoded data removed]",
      "text/plain": [
       "<Figure size 432x288 with 1 Axes>"
      ]
     },
     "metadata": {
      "needs_background": "light"
     },
     "output_type": "display_data"
    }
   ],
   "source": [
    "importance.sort_values('importance', ascending = True).\\\n",
    "set_index('col_name').\\\n",
    "plot.barh()"
   ]
  },
  {
   "cell_type": "markdown",
   "id": "6acbf20e-ef6c-4540-9fb8-8d6a4a7586c2",
   "metadata": {},
   "source": [
    "`-` 일단 중요도들의 합은 $1$이다\n",
    "\n",
    "`-` Island와 Full_Cluth 변수는 중요도가 $0$이다\n",
    "\n",
    "`-` 중요도가 $0$인 변수를 제외하고 랜덤 포레스트 모델을 만들어보자"
   ]
  },
  {
   "cell_type": "markdown",
   "id": "4ef36639-aa65-46c0-8b6b-8bd14344e29d",
   "metadata": {},
   "source": [
    "## 랜덤 포레스트 (중요하지 않은 변수 제거)"
   ]
  },
  {
   "cell_type": "code",
   "execution_count": 35,
   "id": "e1ccbea5-426a-4118-a4bf-7a17f0e3705f",
   "metadata": {},
   "outputs": [],
   "source": [
    "## 중요도가 0인 feature와 방사성 동위원소 feature 제거\n",
    "Xtrain = x_train.drop(['Full_Clutch', 'Island', 'DeltaN', 'DeltaC'], axis = 1)\n",
    "Xvalid = x_valid.drop(['Full_Clutch', 'Island', 'DeltaN', 'DeltaC'], axis = 1)"
   ]
  },
  {
   "cell_type": "code",
   "execution_count": 36,
   "id": "8992eb21-f82a-41cb-9526-741254e5047b",
   "metadata": {},
   "outputs": [
    {
     "name": "stdout",
     "output_type": "stream",
     "text": [
      "RMSE 331.4706033263964\n"
     ]
    }
   ],
   "source": [
    "model = RandomForestRegressor(random_state = 21)     ## 랜덤 포레스트 모델 선언\n",
    "model.fit(Xtrain, y_train)         ## 랜덤 포레스트 모델 학습\n",
    "y_predict = model.predict(Xvalid)  ## 모델 예측\n",
    "rmse = RMSE(y_predict, y_valid)     ## 평가 지수 \n",
    "print('RMSE', rmse)"
   ]
  },
  {
   "cell_type": "markdown",
   "id": "248e2137-1ff4-43a1-aa48-632327034421",
   "metadata": {},
   "source": [
    "### 모델 성능 시각화"
   ]
  },
  {
   "cell_type": "code",
   "execution_count": 154,
   "id": "24bea700-5935-420c-837b-a846cfa86051",
   "metadata": {},
   "outputs": [
    {
     "data": {
      "text/plain": [
       "array([4139.5 , 3479.25, 3576.75, 4068.  , 4555.75, 4265.25, 4704.5 ,\n",
       "       4493.5 , 4230.75, 5286.5 , 4235.  , 4115.25, 4809.75, 3892.  ,\n",
       "       3574.75, 5004.75, 3367.25, 3575.75, 5676.5 , 4748.5 , 5560.  ,\n",
       "       5577.5 , 4773.75])"
      ]
     },
     "execution_count": 154,
     "metadata": {},
     "output_type": "execute_result"
    }
   ],
   "source": [
    "y_predict"
   ]
  },
  {
   "cell_type": "code",
   "execution_count": 155,
   "id": "cf0ade6e-14fc-46a8-aa55-aeacd76b9a14",
   "metadata": {},
   "outputs": [
    {
     "data": {
      "text/plain": [
       "<matplotlib.legend.Legend at 0x14dc7886fd0>"
      ]
     },
     "execution_count": 155,
     "metadata": {},
     "output_type": "execute_result"
    },
    {
     "data": {
      "image/png": "[encoded data removed]",
      "text/plain": [
       "<Figure size 432x288 with 1 Axes>"
      ]
     },
     "metadata": {
      "needs_background": "light"
     },
     "output_type": "display_data"
    }
   ],
   "source": [
    "real = pd.DataFrame(y_valid.reset_index()).drop('index', axis = 1)\n",
    "plt.plot(real, label = 'real')\n",
    "plt.plot(y_predict, label = 'predict')\n",
    "plt.legend()"
   ]
  },
  {
   "cell_type": "markdown",
   "id": "abb96ac1-bb9e-4eaa-bf3b-3e25b784ffa3",
   "metadata": {},
   "source": [
    "`-` 그럭저럭 잘 맞추는 것 같다"
   ]
  },
  {
   "cell_type": "markdown",
   "id": "1b7c4617-7a0e-4d44-a6ee-004a7fabadaa",
   "metadata": {},
   "source": [
    "## 랜덤 포레스트 (Species, Flipper_Length 선택)"
   ]
  },
  {
   "cell_type": "code",
   "execution_count": 180,
   "id": "3470060a-02ab-4e5e-bda6-67876fe99d58",
   "metadata": {},
   "outputs": [],
   "source": [
    "Xtrain = x_train[['Species', 'Flipper_Length']]\n",
    "Xvalid = x_valid[['Species', 'Flipper_Length']]"
   ]
  },
  {
   "cell_type": "code",
   "execution_count": 181,
   "id": "499aacf6-3544-409b-8c54-2e14949e05d3",
   "metadata": {},
   "outputs": [
    {
     "name": "stdout",
     "output_type": "stream",
     "text": [
      "RMSE 380.46922238082414\n"
     ]
    }
   ],
   "source": [
    "model = RandomForestRegressor(random_state = 21)     ## 랜덤 포레스트 모델 선언\n",
    "model.fit(Xtrain, y_train)         ## 랜덤 포레스트 모델 학습\n",
    "y_predict = model.predict(Xvalid)  ## 모델 예측\n",
    "rmse = RMSE(y_predict, y_valid)     ## 평가 지수 \n",
    "print('RMSE', rmse)"
   ]
  },
  {
   "cell_type": "markdown",
   "id": "1df07ddd-7bf7-4e36-8a10-d610edd3d400",
   "metadata": {},
   "source": [
    "`-` RMSE는 약 380이다"
   ]
  },
  {
   "cell_type": "markdown",
   "id": "b6b66218-8268-4d3a-9b1f-4955330abdaa",
   "metadata": {},
   "source": [
    "### 모델 성능 시각화"
   ]
  },
  {
   "cell_type": "code",
   "execution_count": 182,
   "id": "924d29a4-b077-4398-a9d3-b8f9417b5dfa",
   "metadata": {},
   "outputs": [],
   "source": [
    "import matplotlib.pyplot as plt\n",
    "import seaborn as sns"
   ]
  },
  {
   "cell_type": "code",
   "execution_count": 183,
   "id": "7921f4f6-929d-40f8-b9a2-2ff778d77db7",
   "metadata": {},
   "outputs": [
    {
     "data": {
      "text/plain": [
       "array([3615.375     , 3694.69464286, 3646.9462031 , 4021.63404651,\n",
       "       4572.84821429, 3525.79166667, 4490.90079365, 4400.5       ,\n",
       "       4021.63404651, 4773.75      , 4327.59166667, 4083.45833333,\n",
       "       4582.59821429, 3733.        , 3706.85416667, 5403.63888889,\n",
       "       4083.45833333, 3706.85416667, 5481.5       , 4496.4202381 ,\n",
       "       5495.21666667, 5465.55      , 4773.75      ])"
      ]
     },
     "execution_count": 183,
     "metadata": {},
     "output_type": "execute_result"
    }
   ],
   "source": [
    "y_predict"
   ]
  },
  {
   "cell_type": "code",
   "execution_count": 184,
   "id": "20dcd062-0e34-4d6b-ae50-ccf13e68f917",
   "metadata": {},
   "outputs": [
    {
     "data": {
      "text/plain": [
       "<matplotlib.legend.Legend at 0x14dc7a81fd0>"
      ]
     },
     "execution_count": 184,
     "metadata": {},
     "output_type": "execute_result"
    },
    {
     "data": {
      "image/png": "[encoded data removed]",
      "text/plain": [
       "<Figure size 432x288 with 1 Axes>"
      ]
     },
     "metadata": {
      "needs_background": "light"
     },
     "output_type": "display_data"
    }
   ],
   "source": [
    "real = pd.DataFrame(y_valid.reset_index()).drop('index', axis = 1)\n",
    "plt.plot(real, label = 'real')\n",
    "plt.plot(y_predict, label = 'predict')\n",
    "plt.legend()"
   ]
  },
  {
   "cell_type": "markdown",
   "id": "b7552e0b-de70-491e-b2d5-98bf4c46c218",
   "metadata": {},
   "source": [
    "`-` 그럭저럭 잘 맞추는 것 같다"
   ]
  },
  {
   "cell_type": "markdown",
   "id": "d42c505a-f1a7-460a-9f87-464c7d651e41",
   "metadata": {},
   "source": [
    "## 랜덤 포레스트 하이퍼 파라미터 변경"
   ]
  },
  {
   "cell_type": "markdown",
   "id": "f1271a87-559f-44d2-aaa7-24c10a9d0e77",
   "metadata": {},
   "source": [
    "### Species, Flipper_Length, Sex 사용"
   ]
  },
  {
   "cell_type": "code",
   "execution_count": 262,
   "id": "f562d0eb-3b23-41dd-b85a-0bb74e3fb33c",
   "metadata": {},
   "outputs": [],
   "source": [
    "Xtrain = x_train[['Species', 'Flipper_Length', 'Sex']]\n",
    "Xvalid = x_valid[['Species', 'Flipper_Length', 'Sex']]"
   ]
  },
  {
   "cell_type": "code",
   "execution_count": 373,
   "id": "a94e6b90-a46a-4e6c-a7b8-6ac83c85aaf8",
   "metadata": {},
   "outputs": [
    {
     "name": "stdout",
     "output_type": "stream",
     "text": [
      "RMSE 280.3030939215372\n"
     ]
    }
   ],
   "source": [
    "model = RandomForestRegressor(random_state = 21,\n",
    "                              min_samples_leaf = 2,\n",
    "                              min_samples_split = 32,\n",
    "                              max_depth = 4)     ## 랜덤 포레스트 모델 선언\n",
    "model.fit(Xtrain, y_train)         ## 랜덤 포레스트 모델 학습\n",
    "y_predict = model.predict(Xvalid)  ## 모델 예측\n",
    "rmse = RMSE(y_predict, y_valid)     ## 평가 지수 \n",
    "print('RMSE', rmse)"
   ]
  },
  {
   "cell_type": "code",
   "execution_count": 374,
   "id": "5dc554df-f40f-49ce-981f-460a48e72ce5",
   "metadata": {},
   "outputs": [
    {
     "data": {
      "text/plain": [
       "<matplotlib.legend.Legend at 0x14dcc6e6cd0>"
      ]
     },
     "execution_count": 374,
     "metadata": {},
     "output_type": "execute_result"
    },
    {
     "data": {
      "image/png": "[encoded data removed]",
      "text/plain": [
       "<Figure size 432x288 with 1 Axes>"
      ]
     },
     "metadata": {
      "needs_background": "light"
     },
     "output_type": "display_data"
    }
   ],
   "source": [
    "real = pd.DataFrame(y_valid.reset_index()).drop('index', axis = 1)\n",
    "plt.plot(real, label = 'real')\n",
    "plt.plot(y_predict, label = 'predict')\n",
    "plt.legend()"
   ]
  },
  {
   "cell_type": "markdown",
   "id": "9a9b84d2-4f04-42f7-9fae-68077a0d0305",
   "metadata": {},
   "source": [
    "`-` 성능이 더 좋아진것 같다\n",
    "\n",
    "`-` RMSE도 280이 됐다"
   ]
  },
  {
   "cell_type": "code",
   "execution_count": 375,
   "id": "c061e43c-0dec-4663-a981-7b5ddc8ce84a",
   "metadata": {},
   "outputs": [
    {
     "data": {
      "text/plain": [
       "array([0.40998804, 0.54711062, 0.04290134])"
      ]
     },
     "execution_count": 375,
     "metadata": {},
     "output_type": "execute_result"
    }
   ],
   "source": [
    "model.feature_importances_"
   ]
  },
  {
   "cell_type": "code",
   "execution_count": 376,
   "id": "d34f2d12-d402-4d0a-a680-c71eb7ca5871",
   "metadata": {},
   "outputs": [
    {
     "data": {
      "text/plain": [
       "Index(['Species', 'Flipper_Length', 'Sex'], dtype='object')"
      ]
     },
     "execution_count": 376,
     "metadata": {},
     "output_type": "execute_result"
    }
   ],
   "source": [
    "Xtrain.columns"
   ]
  },
  {
   "cell_type": "code",
   "execution_count": 377,
   "id": "4bf6a9f2-44ac-4fe7-8aa3-87046aa14d2f",
   "metadata": {},
   "outputs": [],
   "source": [
    "importance = pd.DataFrame({'col_name':Xtrain.columns, 'importance':model.feature_importances_})"
   ]
  },
  {
   "cell_type": "code",
   "execution_count": 378,
   "id": "51d1f815-30de-4044-8478-3aab7d1f24aa",
   "metadata": {},
   "outputs": [
    {
     "data": {
      "text/plain": [
       "<AxesSubplot:ylabel='col_name'>"
      ]
     },
     "execution_count": 378,
     "metadata": {},
     "output_type": "execute_result"
    },
    {
     "data": {
      "image/png": "[encoded data removed]",
      "text/plain": [
       "<Figure size 432x288 with 1 Axes>"
      ]
     },
     "metadata": {
      "needs_background": "light"
     },
     "output_type": "display_data"
    }
   ],
   "source": [
    "importance.sort_values('importance', ascending = True).\\\n",
    "set_index('col_name').\\\n",
    "plot.barh()"
   ]
  },
  {
   "cell_type": "markdown",
   "id": "236cbafb-dfd1-45fe-a14b-f433f854bc5f",
   "metadata": {},
   "source": [
    "### Species, Flipper_Length사용"
   ]
  },
  {
   "cell_type": "code",
   "execution_count": 379,
   "id": "e813176f-2fd6-4716-ba70-a9120187f930",
   "metadata": {},
   "outputs": [],
   "source": [
    "Xtrain = x_train[['Species', 'Flipper_Length']]\n",
    "Xvalid = x_valid[['Species', 'Flipper_Length']]"
   ]
  },
  {
   "cell_type": "code",
   "execution_count": 406,
   "id": "b374aa8e-4a55-4e57-8ece-898c06f14daa",
   "metadata": {},
   "outputs": [
    {
     "name": "stdout",
     "output_type": "stream",
     "text": [
      "RMSE 278.6463875041205\n"
     ]
    }
   ],
   "source": [
    "model = RandomForestRegressor(random_state = 21,\n",
    "                              min_samples_leaf = 1,\n",
    "                              min_samples_split = 27,\n",
    "                              max_depth = 3)     ## 랜덤 포레스트 모델 선언\n",
    "model.fit(Xtrain, y_train)         ## 랜덤 포레스트 모델 학습\n",
    "y_predict = model.predict(Xvalid)  ## 모델 예측\n",
    "rmse = RMSE(y_predict, y_valid)    ## 평가 지수 \n",
    "print('RMSE', rmse)"
   ]
  },
  {
   "cell_type": "code",
   "execution_count": 398,
   "id": "40e17ddc-7f4c-4050-a4c6-35a1dd5831b7",
   "metadata": {},
   "outputs": [
    {
     "data": {
      "text/plain": [
       "<matplotlib.legend.Legend at 0x14dcd81a670>"
      ]
     },
     "execution_count": 398,
     "metadata": {},
     "output_type": "execute_result"
    },
    {
     "data": {
      "image/png": "[encoded data removed]",
      "text/plain": [
       "<Figure size 432x288 with 1 Axes>"
      ]
     },
     "metadata": {
      "needs_background": "light"
     },
     "output_type": "display_data"
    }
   ],
   "source": [
    "real = pd.DataFrame(y_valid.reset_index()).drop('index', axis = 1)\n",
    "plt.plot(real, label = 'real')\n",
    "plt.plot(y_predict, label = 'predict')\n",
    "plt.legend()"
   ]
  },
  {
   "cell_type": "markdown",
   "id": "e1e47757-c380-4c1a-8fd1-b62ebe46f508",
   "metadata": {},
   "source": [
    "### test 데이터 예측"
   ]
  },
  {
   "cell_type": "code",
   "execution_count": 403,
   "id": "e843d786-c238-411b-8d5f-7b3aed899de6",
   "metadata": {},
   "outputs": [
    {
     "data": {
      "text/html": [
       "<div>\n",
       "<style scoped>\n",
       "    .dataframe tbody tr th:only-of-type {\n",
       "        vertical-align: middle;\n",
       "    }\n",
       "\n",
       "    .dataframe tbody tr th {\n",
       "        vertical-align: top;\n",
       "    }\n",
       "\n",
       "    .dataframe thead th {\n",
       "        text-align: right;\n",
       "    }\n",
       "</style>\n",
       "<table border=\"1\" class=\"dataframe\">\n",
       "  <thead>\n",
       "    <tr style=\"text-align: right;\">\n",
       "      <th></th>\n",
       "      <th>id</th>\n",
       "      <th>Species</th>\n",
       "      <th>Island</th>\n",
       "      <th>Clutch Completion</th>\n",
       "      <th>Culmen Length (mm)</th>\n",
       "      <th>Culmen Depth (mm)</th>\n",
       "      <th>Flipper Length (mm)</th>\n",
       "      <th>Sex</th>\n",
       "      <th>Delta 15 N (o/oo)</th>\n",
       "      <th>Delta 13 C (o/oo)</th>\n",
       "    </tr>\n",
       "  </thead>\n",
       "  <tbody>\n",
       "    <tr>\n",
       "      <th>0</th>\n",
       "      <td>0</td>\n",
       "      <td>Chinstrap penguin (Pygoscelis antarctica)</td>\n",
       "      <td>Dream</td>\n",
       "      <td>Yes</td>\n",
       "      <td>52.0</td>\n",
       "      <td>20.7</td>\n",
       "      <td>210.0</td>\n",
       "      <td>MALE</td>\n",
       "      <td>9.43146</td>\n",
       "      <td>-24.68440</td>\n",
       "    </tr>\n",
       "    <tr>\n",
       "      <th>1</th>\n",
       "      <td>1</td>\n",
       "      <td>Gentoo penguin (Pygoscelis papua)</td>\n",
       "      <td>Biscoe</td>\n",
       "      <td>Yes</td>\n",
       "      <td>55.9</td>\n",
       "      <td>17.0</td>\n",
       "      <td>228.0</td>\n",
       "      <td>MALE</td>\n",
       "      <td>8.31180</td>\n",
       "      <td>-26.35425</td>\n",
       "    </tr>\n",
       "    <tr>\n",
       "      <th>2</th>\n",
       "      <td>2</td>\n",
       "      <td>Adelie Penguin (Pygoscelis adeliae)</td>\n",
       "      <td>Dream</td>\n",
       "      <td>Yes</td>\n",
       "      <td>38.9</td>\n",
       "      <td>18.8</td>\n",
       "      <td>190.0</td>\n",
       "      <td>FEMALE</td>\n",
       "      <td>8.36936</td>\n",
       "      <td>-26.11199</td>\n",
       "    </tr>\n",
       "    <tr>\n",
       "      <th>3</th>\n",
       "      <td>3</td>\n",
       "      <td>Chinstrap penguin (Pygoscelis antarctica)</td>\n",
       "      <td>Dream</td>\n",
       "      <td>Yes</td>\n",
       "      <td>45.2</td>\n",
       "      <td>16.6</td>\n",
       "      <td>191.0</td>\n",
       "      <td>FEMALE</td>\n",
       "      <td>9.62357</td>\n",
       "      <td>-24.78984</td>\n",
       "    </tr>\n",
       "    <tr>\n",
       "      <th>4</th>\n",
       "      <td>4</td>\n",
       "      <td>Adelie Penguin (Pygoscelis adeliae)</td>\n",
       "      <td>Biscoe</td>\n",
       "      <td>No</td>\n",
       "      <td>37.9</td>\n",
       "      <td>18.6</td>\n",
       "      <td>172.0</td>\n",
       "      <td>FEMALE</td>\n",
       "      <td>8.38404</td>\n",
       "      <td>-25.19837</td>\n",
       "    </tr>\n",
       "  </tbody>\n",
       "</table>\n",
       "</div>"
      ],
      "text/plain": [
       "   id                                    Species  Island Clutch Completion  \\\n",
       "0   0  Chinstrap penguin (Pygoscelis antarctica)   Dream               Yes   \n",
       "1   1          Gentoo penguin (Pygoscelis papua)  Biscoe               Yes   \n",
       "2   2        Adelie Penguin (Pygoscelis adeliae)   Dream               Yes   \n",
       "3   3  Chinstrap penguin (Pygoscelis antarctica)   Dream               Yes   \n",
       "4   4        Adelie Penguin (Pygoscelis adeliae)  Biscoe                No   \n",
       "\n",
       "   Culmen Length (mm)  Culmen Depth (mm)  Flipper Length (mm)     Sex  \\\n",
       "0                52.0               20.7                210.0    MALE   \n",
       "1                55.9               17.0                228.0    MALE   \n",
       "2                38.9               18.8                190.0  FEMALE   \n",
       "3                45.2               16.6                191.0  FEMALE   \n",
       "4                37.9               18.6                172.0  FEMALE   \n",
       "\n",
       "   Delta 15 N (o/oo)  Delta 13 C (o/oo)  \n",
       "0            9.43146          -24.68440  \n",
       "1            8.31180          -26.35425  \n",
       "2            8.36936          -26.11199  \n",
       "3            9.62357          -24.78984  \n",
       "4            8.38404          -25.19837  "
      ]
     },
     "execution_count": 619,
     "metadata": {},
     "output_type": "execute_result"
    }
   ],
   "source": [
    "test = pd.read_csv('C:/Users/Jaesu/Dacon-Basic/뗑컨-몸무게-예측/Data/test.csv')\n",
    "test.head()"
   ]
  },
  {
   "cell_type": "code",
   "execution_count": 404,
   "id": "5fdb9564-253c-4846-914b-23926046c138",
   "metadata": {},
   "outputs": [
    {
     "data": {
      "text/plain": [
       "id                     0\n",
       "Species                0\n",
       "Island                 0\n",
       "Clutch Completion      0\n",
       "Culmen Length (mm)     0\n",
       "Culmen Depth (mm)      0\n",
       "Flipper Length (mm)    0\n",
       "Sex                    6\n",
       "Delta 15 N (o/oo)      9\n",
       "Delta 13 C (o/oo)      8\n",
       "dtype: int64"
      ]
     },
     "execution_count": 620,
     "metadata": {},
     "output_type": "execute_result"
    }
   ],
   "source": [
    "test.isnull().sum()"
   ]
  },
  {
   "cell_type": "markdown",
   "id": "5db8a5a3-940f-485c-8920-1ed8d36864a8",
   "metadata": {},
   "source": [
    "`-` test 데이터에 NA가 존재하나 Species, Flipper_Length만 사용할 것이므로 괜찮다"
   ]
  },
  {
   "cell_type": "code",
   "execution_count": 405,
   "id": "fddff183-5d2c-400e-897b-c4a9fc82f211",
   "metadata": {},
   "outputs": [],
   "source": [
    "test.rename(columns = {'Clutch Completion':'Full_Clutch', 'Culmen Length (mm)':'Culmen_Length', \n",
    "                     'Culmen Depth (mm)':'Culmen_Depth', 'Flipper Length (mm)':'Flipper_Length',\n",
    "                     'Delta 15 N (o/oo)':'DeltaN', 'Delta 13 C (o/oo)':'DeltaC', 'Body Mass (g)':'Body_Mass'}, inplace = True) ## 열 이름 변경"
   ]
  },
  {
   "cell_type": "markdown",
   "id": "62a46349-d046-4758-8ee9-e8176b80205f",
   "metadata": {},
   "source": [
    "`-` test 셋에서 범주형 변수에 라벨인코딩을 해주자"
   ]
  },
  {
   "cell_type": "code",
   "execution_count": 408,
   "id": "1a6a6848-21fc-45a9-87c9-f076402b42bf",
   "metadata": {},
   "outputs": [],
   "source": [
    "test2 = test.copy()\n",
    "for col in test.columns:\n",
    "    if test.dtypes[col] == 'O':\n",
    "        encoder = LabelEncoder()\n",
    "        encoder.fit(test[col])\n",
    "        labels = encoder.transform(test[col])\n",
    "        test2[col] = list(labels) "
   ]
  },
  {
   "cell_type": "code",
   "execution_count": 409,
   "id": "796f6806-d960-4066-8e24-504c673b0013",
   "metadata": {},
   "outputs": [
    {
     "data": {
      "text/html": [
       "<div>\n",
       "<style scoped>\n",
       "    .dataframe tbody tr th:only-of-type {\n",
       "        vertical-align: middle;\n",
       "    }\n",
       "\n",
       "    .dataframe tbody tr th {\n",
       "        vertical-align: top;\n",
       "    }\n",
       "\n",
       "    .dataframe thead th {\n",
       "        text-align: right;\n",
       "    }\n",
       "</style>\n",
       "<table border=\"1\" class=\"dataframe\">\n",
       "  <thead>\n",
       "    <tr style=\"text-align: right;\">\n",
       "      <th></th>\n",
       "      <th>id</th>\n",
       "      <th>Species</th>\n",
       "      <th>Island</th>\n",
       "      <th>Full_Clutch</th>\n",
       "      <th>Culmen_Length</th>\n",
       "      <th>Culmen_Depth</th>\n",
       "      <th>Flipper_Length</th>\n",
       "      <th>Sex</th>\n",
       "      <th>DeltaN</th>\n",
       "      <th>DeltaC</th>\n",
       "    </tr>\n",
       "  </thead>\n",
       "  <tbody>\n",
       "    <tr>\n",
       "      <th>0</th>\n",
       "      <td>0</td>\n",
       "      <td>1</td>\n",
       "      <td>1</td>\n",
       "      <td>1</td>\n",
       "      <td>52.0</td>\n",
       "      <td>20.7</td>\n",
       "      <td>210.0</td>\n",
       "      <td>1</td>\n",
       "      <td>9.43146</td>\n",
       "      <td>-24.68440</td>\n",
       "    </tr>\n",
       "    <tr>\n",
       "      <th>1</th>\n",
       "      <td>1</td>\n",
       "      <td>2</td>\n",
       "      <td>0</td>\n",
       "      <td>1</td>\n",
       "      <td>55.9</td>\n",
       "      <td>17.0</td>\n",
       "      <td>228.0</td>\n",
       "      <td>1</td>\n",
       "      <td>8.31180</td>\n",
       "      <td>-26.35425</td>\n",
       "    </tr>\n",
       "    <tr>\n",
       "      <th>2</th>\n",
       "      <td>2</td>\n",
       "      <td>0</td>\n",
       "      <td>1</td>\n",
       "      <td>1</td>\n",
       "      <td>38.9</td>\n",
       "      <td>18.8</td>\n",
       "      <td>190.0</td>\n",
       "      <td>0</td>\n",
       "      <td>8.36936</td>\n",
       "      <td>-26.11199</td>\n",
       "    </tr>\n",
       "    <tr>\n",
       "      <th>3</th>\n",
       "      <td>3</td>\n",
       "      <td>1</td>\n",
       "      <td>1</td>\n",
       "      <td>1</td>\n",
       "      <td>45.2</td>\n",
       "      <td>16.6</td>\n",
       "      <td>191.0</td>\n",
       "      <td>0</td>\n",
       "      <td>9.62357</td>\n",
       "      <td>-24.78984</td>\n",
       "    </tr>\n",
       "    <tr>\n",
       "      <th>4</th>\n",
       "      <td>4</td>\n",
       "      <td>0</td>\n",
       "      <td>0</td>\n",
       "      <td>0</td>\n",
       "      <td>37.9</td>\n",
       "      <td>18.6</td>\n",
       "      <td>172.0</td>\n",
       "      <td>0</td>\n",
       "      <td>8.38404</td>\n",
       "      <td>-25.19837</td>\n",
       "    </tr>\n",
       "  </tbody>\n",
       "</table>\n",
       "</div>"
      ],
      "text/plain": [
       "   id  Species  Island  Full_Clutch  Culmen_Length  Culmen_Depth  \\\n",
       "0   0        1       1            1           52.0          20.7   \n",
       "1   1        2       0            1           55.9          17.0   \n",
       "2   2        0       1            1           38.9          18.8   \n",
       "3   3        1       1            1           45.2          16.6   \n",
       "4   4        0       0            0           37.9          18.6   \n",
       "\n",
       "   Flipper_Length  Sex   DeltaN    DeltaC  \n",
       "0           210.0    1  9.43146 -24.68440  \n",
       "1           228.0    1  8.31180 -26.35425  \n",
       "2           190.0    0  8.36936 -26.11199  \n",
       "3           191.0    0  9.62357 -24.78984  \n",
       "4           172.0    0  8.38404 -25.19837  "
      ]
     },
     "execution_count": 624,
     "metadata": {},
     "output_type": "execute_result"
    }
   ],
   "source": [
    "test2.head()  ## 라벨 인코딩이 잘 되었다"
   ]
  },
  {
   "cell_type": "code",
   "execution_count": 411,
   "id": "7ab50f0a-f72a-43c0-a0a2-0f65019b18c6",
   "metadata": {},
   "outputs": [],
   "source": [
    "testdata = test2[['Species', 'Flipper_Length']]"
   ]
  },
  {
   "cell_type": "code",
   "execution_count": 418,
   "id": "b90336f6-4a02-4093-9ee1-1fb1a399aac8",
   "metadata": {},
   "outputs": [],
   "source": [
    "predict_test = model.predict(testdata)  ## 모델 예측"
   ]
  },
  {
   "cell_type": "code",
   "execution_count": 419,
   "id": "b8a706cb-3fd4-48d0-9374-8a1a1298f63e",
   "metadata": {},
   "outputs": [
    {
     "data": {
      "text/plain": [
       "array([4449.698957  , 5210.36027627, 3769.45950271, 3709.02504428,\n",
       "       3622.73340479, 3852.32448331])"
      ]
     },
     "execution_count": 419,
     "metadata": {},
     "output_type": "execute_result"
    }
   ],
   "source": [
    "predict_test[:6]"
   ]
  },
  {
   "cell_type": "markdown",
   "id": "ed943961-6abd-4a8c-b464-cf3f36e415df",
   "metadata": {},
   "source": [
    "### dacon 대회에 제출하기"
   ]
  },
  {
   "cell_type": "code",
   "execution_count": 417,
   "id": "a941e925-c385-4936-9c39-6bd7ac2d5363",
   "metadata": {},
   "outputs": [
    {
     "data": {
      "text/html": [
       "<div>\n",
       "<style scoped>\n",
       "    .dataframe tbody tr th:only-of-type {\n",
       "        vertical-align: middle;\n",
       "    }\n",
       "\n",
       "    .dataframe tbody tr th {\n",
       "        vertical-align: top;\n",
       "    }\n",
       "\n",
       "    .dataframe thead th {\n",
       "        text-align: right;\n",
       "    }\n",
       "</style>\n",
       "<table border=\"1\" class=\"dataframe\">\n",
       "  <thead>\n",
       "    <tr style=\"text-align: right;\">\n",
       "      <th></th>\n",
       "      <th>id</th>\n",
       "      <th>Body Mass (g)</th>\n",
       "    </tr>\n",
       "  </thead>\n",
       "  <tbody>\n",
       "    <tr>\n",
       "      <th>0</th>\n",
       "      <td>0</td>\n",
       "      <td>0</td>\n",
       "    </tr>\n",
       "    <tr>\n",
       "      <th>1</th>\n",
       "      <td>1</td>\n",
       "      <td>0</td>\n",
       "    </tr>\n",
       "    <tr>\n",
       "      <th>2</th>\n",
       "      <td>2</td>\n",
       "      <td>0</td>\n",
       "    </tr>\n",
       "    <tr>\n",
       "      <th>3</th>\n",
       "      <td>3</td>\n",
       "      <td>0</td>\n",
       "    </tr>\n",
       "    <tr>\n",
       "      <th>4</th>\n",
       "      <td>4</td>\n",
       "      <td>0</td>\n",
       "    </tr>\n",
       "  </tbody>\n",
       "</table>\n",
       "</div>"
      ],
      "text/plain": [
       "   id  Body Mass (g)\n",
       "0   0              0\n",
       "1   1              0\n",
       "2   2              0\n",
       "3   3              0\n",
       "4   4              0"
      ]
     },
     "execution_count": 417,
     "metadata": {},
     "output_type": "execute_result"
    }
   ],
   "source": [
    "# 제출용 sample 파일을 불러옴\n",
    "submission = pd.read_csv('C:/Users/Jaesu/Dacon-Basic/뗑컨-몸무게-예측/Data/sample_submission.csv')\n",
    "submission.head()"
   ]
  },
  {
   "cell_type": "code",
   "execution_count": 420,
   "id": "8cef0365-5f21-4d79-b998-7db87f178c89",
   "metadata": {},
   "outputs": [
    {
     "data": {
      "text/html": [
       "<div>\n",
       "<style scoped>\n",
       "    .dataframe tbody tr th:only-of-type {\n",
       "        vertical-align: middle;\n",
       "    }\n",
       "\n",
       "    .dataframe tbody tr th {\n",
       "        vertical-align: top;\n",
       "    }\n",
       "\n",
       "    .dataframe thead th {\n",
       "        text-align: right;\n",
       "    }\n",
       "</style>\n",
       "<table border=\"1\" class=\"dataframe\">\n",
       "  <thead>\n",
       "    <tr style=\"text-align: right;\">\n",
       "      <th></th>\n",
       "      <th>id</th>\n",
       "      <th>Body Mass (g)</th>\n",
       "    </tr>\n",
       "  </thead>\n",
       "  <tbody>\n",
       "    <tr>\n",
       "      <th>0</th>\n",
       "      <td>0</td>\n",
       "      <td>4449.698957</td>\n",
       "    </tr>\n",
       "    <tr>\n",
       "      <th>1</th>\n",
       "      <td>1</td>\n",
       "      <td>5210.360276</td>\n",
       "    </tr>\n",
       "    <tr>\n",
       "      <th>2</th>\n",
       "      <td>2</td>\n",
       "      <td>3769.459503</td>\n",
       "    </tr>\n",
       "    <tr>\n",
       "      <th>3</th>\n",
       "      <td>3</td>\n",
       "      <td>3709.025044</td>\n",
       "    </tr>\n",
       "    <tr>\n",
       "      <th>4</th>\n",
       "      <td>4</td>\n",
       "      <td>3622.733405</td>\n",
       "    </tr>\n",
       "  </tbody>\n",
       "</table>\n",
       "</div>"
      ],
      "text/plain": [
       "   id  Body Mass (g)\n",
       "0   0    4449.698957\n",
       "1   1    5210.360276\n",
       "2   2    3769.459503\n",
       "3   3    3709.025044\n",
       "4   4    3622.733405"
      ]
     },
     "execution_count": 420,
     "metadata": {},
     "output_type": "execute_result"
    }
   ],
   "source": [
    "# 위에서 구한 예측값을 그대로 넣음\n",
    "submission['Body Mass (g)'] = predict_test\n",
    "\n",
    "# 데이터가 잘 들어갔는지 확인\n",
    "submission.head()"
   ]
  },
  {
   "cell_type": "code",
   "execution_count": 421,
   "id": "617dc5c3-3450-4fba-8e37-e426297e2581",
   "metadata": {},
   "outputs": [],
   "source": [
    "# submission을 csv 파일로 저장\n",
    "submission.to_csv('C:/Users/Jaesu/Dacon-Basic/뗑컨-몸무게-예측/Data/submission4.csv', index = False)"
   ]
  },
  {
   "cell_type": "markdown",
   "id": "f538f78d-6824-469b-b313-b766c78a6637",
   "metadata": {},
   "source": [
    "`-` 점수는 408.093592646"
   ]
  },
  {
   "cell_type": "markdown",
   "id": "d525e15d-150f-41b3-bbd9-bcb8a6e3178c",
   "metadata": {},
   "source": [
    "`-` 내 생각엔 너무 언더피팅한 것 같음\n",
    "\n",
    "`-` Island와 Full_Clutcht만 제외하자"
   ]
  },
  {
   "cell_type": "markdown",
   "id": "41ee91b8-8d71-4967-9517-8ad2977ae898",
   "metadata": {},
   "source": [
    "`-` 했는데 실수로 날려먹음......\n",
    "\n",
    "`-` 점수는 327.4615887171"
   ]
  },
  {
   "cell_type": "markdown",
   "id": "c2b6f172-055e-4223-92e6-45e5782eb683",
   "metadata": {},
   "source": [
    "## K-Fold Cross Validation (K겹 교차검증)\n",
    "\n",
    "`-` 데이터가 111개로 적은편이다\n",
    "\n",
    "`-` test 데이터셋은 훈련에 학습을 시키지 못하는 단점이 있다\n",
    "\n",
    "`-` 안 그래도 적은 데이터가 더 적어지는 것이다\n",
    "\n",
    "`-` 이러한 점을 보완하는 방법이 K겹 교차검증이다\n",
    "\n",
    "`-` 데이터셋을 K등분하여 K-1개는 train, 나머지는 test하는데 사용한다\n",
    "\n",
    "`-` 이를 K번 반복함으로써 데이터를 전부 사용하기에 정확성이 높아진다"
   ]
  },
  {
   "cell_type": "markdown",
   "id": "a2127055-9f7f-4216-8d86-bb786a6dbc14",
   "metadata": {},
   "source": [
    "`-`  랜덤포레스트에서 중요도가 거의 $0$인 feature는 제외하여 분석하자"
   ]
  },
  {
   "cell_type": "code",
   "execution_count": 39,
   "id": "089396c3-5cfb-4e01-8e7a-d6d714756869",
   "metadata": {},
   "outputs": [],
   "source": [
    "Xtrain = x_train.drop(['Island', 'Full_Clutch'], axis = 1)\n",
    "Xvalid = x_valid.drop(['Island', 'Full_Clutch'], axis = 1)"
   ]
  },
  {
   "cell_type": "code",
   "execution_count": 47,
   "id": "80576b88-5231-4744-a89a-38b46fcaac33",
   "metadata": {},
   "outputs": [],
   "source": [
    "X = pd.concat([Xtrain, Xvalid])"
   ]
  },
  {
   "cell_type": "code",
   "execution_count": 45,
   "id": "25d6e8a9-ca96-46ff-9ed5-89ce8a7bfc73",
   "metadata": {},
   "outputs": [],
   "source": [
    "Y = pd.concat([y_train, y_valid])"
   ]
  },
  {
   "cell_type": "code",
   "execution_count": 41,
   "id": "d65a3afb-49e1-4d86-9446-5e9e533fa41c",
   "metadata": {},
   "outputs": [],
   "source": [
    "from sklearn.model_selection import cross_val_score ## k겹 교차검증"
   ]
  },
  {
   "cell_type": "code",
   "execution_count": 48,
   "id": "a6b93bdf-06c6-4e08-8289-730748699b5d",
   "metadata": {},
   "outputs": [],
   "source": [
    "rf = RandomForestRegressor(random_state = 21,\n",
    "                           min_samples_leaf = 2,\n",
    "                           min_samples_split = 18,\n",
    "                           max_depth = 4)"
   ]
  },
  {
   "cell_type": "markdown",
   "id": "bba2c57e-cbbd-458d-b6ac-c6d74c5c9ea0",
   "metadata": {},
   "source": [
    "`-` k겹 교차검증 : https://dacon.io/competitions/open/235698/talkboard/403902?page=1&dtype=recent"
   ]
  },
  {
   "cell_type": "markdown",
   "id": "e135fb17-4e3f-4525-9083-60d34c7d69fe",
   "metadata": {},
   "source": [
    "`-` 회귀분석할 때 교호작용항 추가해보자"
   ]
  },
  {
   "cell_type": "code",
   "execution_count": null,
   "id": "ae3aca73-6b86-4306-b71a-3be2ce096085",
   "metadata": {},
   "outputs": [],
   "source": []
  }
 ],
 "metadata": {
  "kernelspec": {
   "display_name": "Python 3 (ipykernel)",
   "language": "python",
   "name": "python3"
  },
  "language_info": {
   "codemirror_mode": {
    "name": "ipython",
    "version": 3
   },
   "file_extension": ".py",
   "mimetype": "text/x-python",
   "name": "python",
   "nbconvert_exporter": "python",
   "pygments_lexer": "ipython3",
   "version": "3.8.11"
  }
 },
 "nbformat": 4,
 "nbformat_minor": 5
}
