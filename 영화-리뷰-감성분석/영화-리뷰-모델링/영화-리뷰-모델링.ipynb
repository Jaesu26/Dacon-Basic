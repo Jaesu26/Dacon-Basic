{
 "cells": [
  {
   "cell_type": "markdown",
   "id": "23bfd0c1-dc4e-49e5-b75f-74a0046beda2",
   "metadata": {},
   "source": [
    "# 영화 리뷰 감성분석 경진대회"
   ]
  },
  {
   "cell_type": "markdown",
   "id": "68c0e397-b34e-467f-86a3-dea2c24db40f",
   "metadata": {},
   "source": [
    "`-` NLP는 어려워\n",
    "\n",
    "`-` 딥러닝을 이용한 자연어 처리 입문 강의를 보고 따라하며 익히자\n",
    "\n",
    "`-` 참고: https://wikidocs.net/44249"
   ]
  },
  {
   "cell_type": "markdown",
   "id": "1afb9d2e-f4fe-4777-98a7-4fea16a6e9bf",
   "metadata": {},
   "source": [
    "## 패키지 import및 데이터 전치리"
   ]
  },
  {
   "cell_type": "code",
   "execution_count": 1,
   "id": "8bd6ed8d-64df-4a9f-b883-cd2ee540b2ad",
   "metadata": {},
   "outputs": [],
   "source": [
    "import pandas as pd\n",
    "import numpy as np\n",
    "import matplotlib.pyplot as plt\n",
    "import re\n",
    "from konlpy.tag import Okt\n",
    "from tqdm import tqdm\n",
    "from tensorflow.keras.preprocessing.text import Tokenizer\n",
    "from tensorflow.keras.preprocessing.sequence import pad_sequences"
   ]
  },
  {
   "cell_type": "code",
   "execution_count": 2,
   "id": "7087c256-0343-4afa-8bdd-194bd06c53a6",
   "metadata": {},
   "outputs": [],
   "source": [
    "test = pd.read_csv('C:/Users/Jaesu/github_desktop/Dacon-Basic/영화-리뷰-감성분석/Data/test.csv')"
   ]
  },
  {
   "cell_type": "code",
   "execution_count": 3,
   "id": "0415ec14-eab8-4f86-b5db-ce823b93f083",
   "metadata": {},
   "outputs": [],
   "source": [
    "data = pd.read_csv('C:/Users/Jaesu/github_desktop/Dacon-Basic/영화-리뷰-감성분석/Data/train.csv')"
   ]
  },
  {
   "cell_type": "code",
   "execution_count": 4,
   "id": "99c00aba-2d28-4791-94c3-ea7fdbbd8309",
   "metadata": {},
   "outputs": [
    {
     "data": {
      "text/html": [
       "<div>\n",
       "<style scoped>\n",
       "    .dataframe tbody tr th:only-of-type {\n",
       "        vertical-align: middle;\n",
       "    }\n",
       "\n",
       "    .dataframe tbody tr th {\n",
       "        vertical-align: top;\n",
       "    }\n",
       "\n",
       "    .dataframe thead th {\n",
       "        text-align: right;\n",
       "    }\n",
       "</style>\n",
       "<table border=\"1\" class=\"dataframe\">\n",
       "  <thead>\n",
       "    <tr style=\"text-align: right;\">\n",
       "      <th></th>\n",
       "      <th>id</th>\n",
       "      <th>document</th>\n",
       "      <th>label</th>\n",
       "    </tr>\n",
       "  </thead>\n",
       "  <tbody>\n",
       "    <tr>\n",
       "      <th>0</th>\n",
       "      <td>1</td>\n",
       "      <td>영상이나 음악이 이쁘다 해도 미화시킨 불륜일뿐</td>\n",
       "      <td>0</td>\n",
       "    </tr>\n",
       "    <tr>\n",
       "      <th>1</th>\n",
       "      <td>2</td>\n",
       "      <td>히치콕이 이 영화를 봤다면 분명 박수를 쳤을듯...</td>\n",
       "      <td>1</td>\n",
       "    </tr>\n",
       "    <tr>\n",
       "      <th>2</th>\n",
       "      <td>3</td>\n",
       "      <td>괜찮은 음악영화가 또 나왔군요!!! 따뜻한 겨울이 될 것 같아요~</td>\n",
       "      <td>1</td>\n",
       "    </tr>\n",
       "    <tr>\n",
       "      <th>3</th>\n",
       "      <td>4</td>\n",
       "      <td>아무래도 20년도지난작품이라 지금보기는너무유치하다</td>\n",
       "      <td>0</td>\n",
       "    </tr>\n",
       "    <tr>\n",
       "      <th>4</th>\n",
       "      <td>5</td>\n",
       "      <td>지금까지의 영화들이 그랬듯. 이 영화역시 일본에 대한 미화는 여전하다.</td>\n",
       "      <td>0</td>\n",
       "    </tr>\n",
       "    <tr>\n",
       "      <th>5</th>\n",
       "      <td>6</td>\n",
       "      <td>내인생에 있어 손까락에 꼽히는 영화 원작을 능가한 리메이크작</td>\n",
       "      <td>1</td>\n",
       "    </tr>\n",
       "    <tr>\n",
       "      <th>6</th>\n",
       "      <td>7</td>\n",
       "      <td>성룡영화중 최악 .. 차라리 러시아워가 훨씬 나음</td>\n",
       "      <td>0</td>\n",
       "    </tr>\n",
       "    <tr>\n",
       "      <th>7</th>\n",
       "      <td>8</td>\n",
       "      <td>마음이 성숙하고 보면 다르게 보이는 영화.. 걸작이다.</td>\n",
       "      <td>1</td>\n",
       "    </tr>\n",
       "    <tr>\n",
       "      <th>8</th>\n",
       "      <td>9</td>\n",
       "      <td>가슴 찡했던, 오래 기억에남을 영화!!</td>\n",
       "      <td>1</td>\n",
       "    </tr>\n",
       "    <tr>\n",
       "      <th>9</th>\n",
       "      <td>10</td>\n",
       "      <td>결말 기분나쁘다 공포매니아에게 이따위 결말을</td>\n",
       "      <td>0</td>\n",
       "    </tr>\n",
       "  </tbody>\n",
       "</table>\n",
       "</div>"
      ],
      "text/plain": [
       "   id                                 document  label\n",
       "0   1                영상이나 음악이 이쁘다 해도 미화시킨 불륜일뿐      0\n",
       "1   2             히치콕이 이 영화를 봤다면 분명 박수를 쳤을듯...      1\n",
       "2   3     괜찮은 음악영화가 또 나왔군요!!! 따뜻한 겨울이 될 것 같아요~      1\n",
       "3   4              아무래도 20년도지난작품이라 지금보기는너무유치하다      0\n",
       "4   5  지금까지의 영화들이 그랬듯. 이 영화역시 일본에 대한 미화는 여전하다.      0\n",
       "5   6        내인생에 있어 손까락에 꼽히는 영화 원작을 능가한 리메이크작      1\n",
       "6   7              성룡영화중 최악 .. 차라리 러시아워가 훨씬 나음      0\n",
       "7   8           마음이 성숙하고 보면 다르게 보이는 영화.. 걸작이다.      1\n",
       "8   9                    가슴 찡했던, 오래 기억에남을 영화!!      1\n",
       "9  10                 결말 기분나쁘다 공포매니아에게 이따위 결말을      0"
      ]
     },
     "execution_count": 4,
     "metadata": {},
     "output_type": "execute_result"
    }
   ],
   "source": [
    "data.head(10)"
   ]
  },
  {
   "cell_type": "markdown",
   "id": "3d10dab4-5a64-44de-8813-820abd36d892",
   "metadata": {},
   "source": [
    "`-` 긍정 리뷰는 label이 1, 부정 리뷰는 label이 0으로 되어있다"
   ]
  },
  {
   "cell_type": "markdown",
   "id": "610fa746-1af4-4abc-b417-ca44f01d57bb",
   "metadata": {},
   "source": [
    "`-` 영어가 포함되어 있는 리뷰의 수를 구해보자"
   ]
  },
  {
   "cell_type": "code",
   "execution_count": 5,
   "id": "4533cbd3-62ab-4243-8f84-e153f78a7774",
   "metadata": {},
   "outputs": [],
   "source": [
    "from string import ascii_lowercase, ascii_uppercase"
   ]
  },
  {
   "cell_type": "code",
   "execution_count": 6,
   "id": "83195671-9d05-4da4-b178-7a59170ee542",
   "metadata": {},
   "outputs": [
    {
     "data": {
      "text/plain": [
       "('abcdefghijklmnopqrstuvwxyz', 'ABCDEFGHIJKLMNOPQRSTUVWXYZ')"
      ]
     },
     "execution_count": 6,
     "metadata": {},
     "output_type": "execute_result"
    }
   ],
   "source": [
    "ascii_lowercase, ascii_uppercase ## a부터 z까지, A부터 Z까지"
   ]
  },
  {
   "cell_type": "code",
   "execution_count": 7,
   "id": "2a5751c2-4688-4b87-bafb-d66ce677e22b",
   "metadata": {},
   "outputs": [
    {
     "data": {
      "text/html": [
       "<div>\n",
       "<style scoped>\n",
       "    .dataframe tbody tr th:only-of-type {\n",
       "        vertical-align: middle;\n",
       "    }\n",
       "\n",
       "    .dataframe tbody tr th {\n",
       "        vertical-align: top;\n",
       "    }\n",
       "\n",
       "    .dataframe thead th {\n",
       "        text-align: right;\n",
       "    }\n",
       "</style>\n",
       "<table border=\"1\" class=\"dataframe\">\n",
       "  <thead>\n",
       "    <tr style=\"text-align: right;\">\n",
       "      <th></th>\n",
       "      <th>id</th>\n",
       "      <th>document</th>\n",
       "      <th>label</th>\n",
       "    </tr>\n",
       "  </thead>\n",
       "  <tbody>\n",
       "    <tr>\n",
       "      <th>26</th>\n",
       "      <td>27</td>\n",
       "      <td>initiation을 한글로 이니테이션이랜다</td>\n",
       "      <td>0</td>\n",
       "    </tr>\n",
       "    <tr>\n",
       "      <th>66</th>\n",
       "      <td>67</td>\n",
       "      <td>부분부분 수OO전 스토리를 떠올리게 하는 신기함 이외에는.</td>\n",
       "      <td>0</td>\n",
       "    </tr>\n",
       "    <tr>\n",
       "      <th>93</th>\n",
       "      <td>94</td>\n",
       "      <td>이유없음과정없음설득력없음BGM도없ㅋ음ㅋ감독맘대로 만든것같은 불친절한영화</td>\n",
       "      <td>0</td>\n",
       "    </tr>\n",
       "    <tr>\n",
       "      <th>114</th>\n",
       "      <td>115</td>\n",
       "      <td>뿌리깊은나무가 커피면 대왕세종은 TOP야</td>\n",
       "      <td>1</td>\n",
       "    </tr>\n",
       "    <tr>\n",
       "      <th>131</th>\n",
       "      <td>132</td>\n",
       "      <td>나레이션도 좋았고 OST도 좋았고 많은 생각을 하게 해준 드라마였다</td>\n",
       "      <td>1</td>\n",
       "    </tr>\n",
       "    <tr>\n",
       "      <th>159</th>\n",
       "      <td>160</td>\n",
       "      <td>very very very good</td>\n",
       "      <td>1</td>\n",
       "    </tr>\n",
       "    <tr>\n",
       "      <th>209</th>\n",
       "      <td>210</td>\n",
       "      <td>보리울의 여름 O.S.T.노래 정말 좋아요!!^.^</td>\n",
       "      <td>1</td>\n",
       "    </tr>\n",
       "    <tr>\n",
       "      <th>249</th>\n",
       "      <td>250</td>\n",
       "      <td>어릴대 TV에서 자주보던 거다 ㅎㅎ</td>\n",
       "      <td>1</td>\n",
       "    </tr>\n",
       "    <tr>\n",
       "      <th>256</th>\n",
       "      <td>257</td>\n",
       "      <td>OMG... 스토리가 천재적이네... 이런 소름끼치는 전개 좋다</td>\n",
       "      <td>1</td>\n",
       "    </tr>\n",
       "    <tr>\n",
       "      <th>345</th>\n",
       "      <td>346</td>\n",
       "      <td>왜 재미없는지 nc리뷰나 원작을 보고오세요 퍼니플래닛에 있음</td>\n",
       "      <td>0</td>\n",
       "    </tr>\n",
       "  </tbody>\n",
       "</table>\n",
       "</div>"
      ],
      "text/plain": [
       "      id                                 document  label\n",
       "26    27                 initiation을 한글로 이니테이션이랜다      0\n",
       "66    67         부분부분 수OO전 스토리를 떠올리게 하는 신기함 이외에는.      0\n",
       "93    94  이유없음과정없음설득력없음BGM도없ㅋ음ㅋ감독맘대로 만든것같은 불친절한영화      0\n",
       "114  115                   뿌리깊은나무가 커피면 대왕세종은 TOP야      1\n",
       "131  132    나레이션도 좋았고 OST도 좋았고 많은 생각을 하게 해준 드라마였다      1\n",
       "159  160                      very very very good      1\n",
       "209  210             보리울의 여름 O.S.T.노래 정말 좋아요!!^.^      1\n",
       "249  250                      어릴대 TV에서 자주보던 거다 ㅎㅎ      1\n",
       "256  257      OMG... 스토리가 천재적이네... 이런 소름끼치는 전개 좋다      1\n",
       "345  346        왜 재미없는지 nc리뷰나 원작을 보고오세요 퍼니플래닛에 있음      0"
      ]
     },
     "execution_count": 7,
     "metadata": {},
     "output_type": "execute_result"
    }
   ],
   "source": [
    "data.loc[data['document'].apply(lambda x: True if len(set(x) & set(ascii_lowercase)) or len(set(x) & set(ascii_uppercase)) else False)].head(10)"
   ]
  },
  {
   "cell_type": "markdown",
   "id": "9f89cf8a-1ce2-4b66-a7d6-c7f053698214",
   "metadata": {},
   "source": [
    "`-` 영어가 포함된 리뷰는 210개이다\n",
    "\n",
    "`-` 근데 딱히 긍정/부정을 가를만한 영단어는 없는 것 같으니 제외하자(있긴 한데 매우 적다)\n",
    "\n",
    "`-` 매우 적은 데이터를 보고 긍정/부정을 맞추기는 쉽지 않다고 새각함\n",
    "\n",
    "`-` 또한 data를 보면 물결포, 온점, 느낌표등이 있는데 유의미한 단어는 아니니 이 역시 제거하자\n",
    "\n",
    "`-` 숫자가 포함된 리뷰도 있는데 마찬가지로 제거하면 된다\n",
    "\n",
    "`-` 한글과 띄어쓰기를 제외한 나머지를 제거하면 된다"
   ]
  },
  {
   "cell_type": "markdown",
   "id": "c1f393e6-3d7f-41f6-811a-31379bfb9755",
   "metadata": {},
   "source": [
    "### 데이터 정제"
   ]
  },
  {
   "cell_type": "code",
   "execution_count": 8,
   "id": "b38a1611-85b2-48cf-8cd8-f9ad6e5384b2",
   "metadata": {},
   "outputs": [],
   "source": [
    "def preprocess(text):\n",
    "    text = re.sub(r'[^ㄱ-ㅎㅏ-ㅣ가-힣 ]', '', text) ## 한글과 공백을 제외하고 모두 제거\n",
    "    return text"
   ]
  },
  {
   "cell_type": "code",
   "execution_count": 9,
   "id": "da543761-0553-4607-8202-6ef64c2472a1",
   "metadata": {},
   "outputs": [],
   "source": [
    "data['document'] = data['document'].apply(lambda text: preprocess(text))\n",
    "test['document'] = test['document'].apply(lambda text: preprocess(text))"
   ]
  },
  {
   "cell_type": "markdown",
   "id": "494dce6c-4e0b-4f76-a296-88bf36eb3549",
   "metadata": {},
   "source": [
    "`-` 한글과 띄어쓰기를 제외한 나머지가 잘 제거되었다\n",
    "\n",
    "`-` 영어 혹은 특수문자만 사용하여 리뷰를 작성했을 수 도 있다\n",
    "\n",
    "`-` 그러한 리뷰는 결측치로 처리하자"
   ]
  },
  {
   "cell_type": "code",
   "execution_count": 10,
   "id": "a733b974-1476-4d68-ae28-4f147d8b7d54",
   "metadata": {},
   "outputs": [
    {
     "data": {
      "text/plain": [
       "10"
      ]
     },
     "execution_count": 10,
     "metadata": {},
     "output_type": "execute_result"
    }
   ],
   "source": [
    "data['document'].apply(lambda str_: str_.replace(' ', '')).apply(lambda str_: str_ if len(str_) > 0 else np.nan).isnull().sum()"
   ]
  },
  {
   "cell_type": "markdown",
   "id": "f10f51d3-b90c-49ea-a653-1b0fa5e90312",
   "metadata": {},
   "source": [
    "`-` 결측치가 10개다 ---> 영어 혹은 특수문자만 사용한 리뷰가 10개 존재한다\n",
    "\n",
    "`-` 빈칸만 있는 리뷰를 보고 긍정/부정을 맞출 수 없다\n",
    "\n",
    "`-` 이를 제거해주자"
   ]
  },
  {
   "cell_type": "code",
   "execution_count": 11,
   "id": "efc7a4e4-6bff-441e-a9ae-6173001210bb",
   "metadata": {},
   "outputs": [],
   "source": [
    "data.drop(index = data.loc[data['document'].\\\n",
    "                  apply(lambda str_: str_.replace(' ', '')).\\\n",
    "                  apply(lambda str_: False if len(str_) > 0 else True),:].\\\n",
    "                  index.tolist(), inplace = True)"
   ]
  },
  {
   "cell_type": "code",
   "execution_count": 12,
   "id": "18c86784-0853-4191-a3d9-6cdedf5be1f2",
   "metadata": {},
   "outputs": [
    {
     "data": {
      "text/plain": [
       "(4990, 3)"
      ]
     },
     "execution_count": 12,
     "metadata": {},
     "output_type": "execute_result"
    }
   ],
   "source": [
    "data.shape"
   ]
  },
  {
   "cell_type": "markdown",
   "id": "d437d2be-4b0a-41ef-b9a5-a6f0c9ff2612",
   "metadata": {},
   "source": [
    "`-` 리뷰를 보면 반복되는 글자가 보인다 (ex ㅋㅋㅋ, ㅠㅠㅠ 등)\n",
    "\n",
    "`-` 이러한 글자는 하나만 있어도 의미 전달이 될 것 같으니 한 개만 남기자\n",
    "\n",
    "`-` 또한 ㅠ와 ㅠㅠ는 같은 의미지만 정수인코딩을 할 때 다른 정수를 부여하는 문제를 해결할 수 있다"
   ]
  },
  {
   "cell_type": "code",
   "execution_count": 13,
   "id": "f5d754d6-7e60-4aef-aeb3-3ec83a88bdbc",
   "metadata": {},
   "outputs": [],
   "source": [
    "def remove_repeated_words(text):\n",
    "    text = re.sub(' +' , ' ', text)\n",
    "    text = re.sub('ㅋ+' , 'ㅋ', text)\n",
    "    text = re.sub('ㅠ+' , 'ㅠ', text)\n",
    "    text = re.sub('ㅜ+' , 'ㅜ', text)\n",
    "    text = re.sub('ㅡ+' , 'ㅡ', text)\n",
    "    text = re.sub('ㅎ+' , 'ㅎ', text)\n",
    "    text = re.sub('ㅉ+' , 'ㅉ', text)\n",
    "    text = re.sub('매우+', '매우', text)\n",
    "    text = re.sub('너무+', '너무', text)\n",
    "    text = re.sub('겁나+', '겁나', text) ## 바보라서 이렇밖에 못 만듦\n",
    "    return text"
   ]
  },
  {
   "cell_type": "code",
   "execution_count": 14,
   "id": "b4c838eb-5946-4511-863f-8258f6202d86",
   "metadata": {},
   "outputs": [],
   "source": [
    "data['document'] = data['document'].apply(lambda text: remove_repeated_words(text))\n",
    "test['document'] = test['document'].apply(lambda text: remove_repeated_words(text))"
   ]
  },
  {
   "cell_type": "markdown",
   "id": "f8b6ef33-9760-484e-a8af-53d13a7fbc15",
   "metadata": {},
   "source": [
    "### 토큰화"
   ]
  },
  {
   "cell_type": "markdown",
   "id": "528564d5-493f-4461-ba2f-8cf16a67308e",
   "metadata": {},
   "source": [
    "`-` 이제 문장을 의미있는 단어들로 쪼개는 토큰화를 하자\n",
    "\n",
    "`-` 토큰화 과정에서 불용어는 리뷰가 긍정인지 부정인지 판단하는데 유용하지 않으므로 제거하자\n",
    "\n",
    "`-` 불용어는 정하기 나름인데 일단은 아래 단어만 불용어로 지정하자"
   ]
  },
  {
   "cell_type": "code",
   "execution_count": 65,
   "id": "4d5d0c39-33af-4f08-813b-57084b1a035b",
   "metadata": {},
   "outputs": [],
   "source": [
    "stopwords = ['의', '가', '이', '은', '들', '는', '좀', '잘', '것', \n",
    "             '걍', '과', '도', '을', '를', '으로', '자', '에', '와', '한', '하다']\n",
    "\n",
    "## 불용어 임의로 내가 더 추가했음(?)\n",
    "## EDA에서 확인한 긍정/부정 둘 다 등장하는 상위 10개 단어 추가\n",
    "## 그런데 추가 안해도 상관없을 것 같다(?)"
   ]
  },
  {
   "cell_type": "markdown",
   "id": "51b68c26-f129-4fcf-ad8a-951b86d2e99f",
   "metadata": {},
   "source": [
    "`-` Okt를 이용하여 토큰화를 하자"
   ]
  },
  {
   "cell_type": "code",
   "execution_count": 66,
   "id": "309fc529-cc26-4b83-8f3a-6fb1145b62b5",
   "metadata": {},
   "outputs": [],
   "source": [
    "def text_tokenizer(texts):\n",
    "    okt = Okt()\n",
    "    clean_texts = []\n",
    "    \n",
    "    for sentence in tqdm(texts):\n",
    "        tokenized_sentence = okt.morphs(sentence, stem = True) ## 토큰화, stem = True를 사용하면 일정 수준의 정규화를 수행\n",
    "        stopwords_removed_sentence = [word for word in tokenized_sentence if not word in stopwords] ## 불용어 제거\n",
    "        clean_texts.append(stopwords_removed_sentence)\n",
    "   \n",
    "    return clean_texts"
   ]
  },
  {
   "cell_type": "code",
   "execution_count": 67,
   "id": "57e6081d-ad8b-4306-94a5-1bd978ae453b",
   "metadata": {},
   "outputs": [
    {
     "name": "stderr",
     "output_type": "stream",
     "text": [
      "100%|█████████████████████████████████████████████████████████████████████████████| 4990/4990 [00:31<00:00, 156.73it/s]\n",
      "100%|█████████████████████████████████████████████████████████████████████████████| 5000/5000 [00:33<00:00, 151.01it/s]\n"
     ]
    }
   ],
   "source": [
    "X_train = text_tokenizer(data['document'])\n",
    "X_test = text_tokenizer(test['document'])"
   ]
  },
  {
   "cell_type": "code",
   "execution_count": 68,
   "id": "2f07e893-33fd-4cf5-9822-4a19053f1df4",
   "metadata": {},
   "outputs": [
    {
     "data": {
      "text/plain": [
       "[['영상', '이나', '음악', '이쁘다', '해도', '미화', '시키다', '불륜', '일', '뿐'],\n",
       " ['히치콕', '영화', '보다', '분명', '박수', '치다'],\n",
       " ['괜찮다', '음악', '영화', '또', '나오다', '따뜻하다', '겨울', '되다', '같다']]"
      ]
     },
     "execution_count": 68,
     "metadata": {},
     "output_type": "execute_result"
    }
   ],
   "source": [
    "X_train[:3]"
   ]
  },
  {
   "cell_type": "markdown",
   "id": "373cedcf-e6eb-49de-ae5e-c0d46bf2e2a4",
   "metadata": {},
   "source": [
    "`-` 토큰화가 잘 되었다\n",
    "\n",
    "`-` 이제 단어를 기계가 처리할 수 있도록 숫자로 변환해주자(정수 인코딩)\n",
    "\n",
    "`-` 훈련 데이터에 대해서 단어 집합(vocaburary)을 만들자"
   ]
  },
  {
   "cell_type": "markdown",
   "id": "4822f172-a2d9-4e99-8a95-310a4834c827",
   "metadata": {},
   "source": [
    "### 정수 인코딩"
   ]
  },
  {
   "cell_type": "code",
   "execution_count": 69,
   "id": "ec41a0ab-6885-447c-b2d8-8a5de2707222",
   "metadata": {},
   "outputs": [],
   "source": [
    "tokenizer = Tokenizer()\n",
    "tokenizer.fit_on_texts(X_train)"
   ]
  },
  {
   "cell_type": "markdown",
   "id": "bd37270b-1eb0-45f9-b16a-c02f76a63c79",
   "metadata": {},
   "source": [
    "`-` 단어 집합이 생성되는 동시에 각 단어에 고유한 정수가 부여됐다"
   ]
  },
  {
   "cell_type": "code",
   "execution_count": 70,
   "id": "7c43a9e1-eae3-40af-ae39-74a073dc1230",
   "metadata": {},
   "outputs": [
    {
     "data": {
      "text/plain": [
       "6615"
      ]
     },
     "execution_count": 70,
     "metadata": {},
     "output_type": "execute_result"
    }
   ],
   "source": [
    "len(tokenizer.word_index) "
   ]
  },
  {
   "cell_type": "markdown",
   "id": "fb3ff486-4e54-4a42-8cfb-a22b46e0df59",
   "metadata": {},
   "source": [
    "`-` 각 정수는 전체 훈련 데이터에서 등장 빈도수가 높은 순서대로 부여되었기 때문에\n",
    "\n",
    "`-` 높은 정수가 부여된 단어들은 등장 빈도수가 매우 낮다는 것을 의미한다"
   ]
  },
  {
   "cell_type": "code",
   "execution_count": 71,
   "id": "c3bd995d-5f05-4c1b-b4f1-63934964b550",
   "metadata": {},
   "outputs": [
    {
     "name": "stdout",
     "output_type": "stream",
     "text": [
      "단어 집합(vocabulary)의 크기 : 6615\n",
      "등장 빈도가 1번 이하인 희귀 단어의 수: 3612\n",
      "단어 집합에서 희귀 단어의 비율: 0.546\n",
      "전체 등장 빈도에서 희귀 단어 등장 빈도 비율: 0.089\n"
     ]
    }
   ],
   "source": [
    "threshold = 2\n",
    "total_cnt = len(tokenizer.word_index) ## 단어의 수\n",
    "rare_cnt = 0  ## 등장 빈도수가 threshold보다 작은 단어의 개수를 카운트\n",
    "total_freq = 0  ## 훈련 데이터의 전체 단어 빈도수 총 합\n",
    "rare_freq = 0  ## 등장 빈도수가 threshold보다 작은 단어의 등장 빈도수의 총 합\n",
    "\n",
    "## 단어와 빈도수의 쌍(pair)을 key와 value로 받는다\n",
    "for key, value in tokenizer.word_counts.items():\n",
    "    total_freq = total_freq + value\n",
    "\n",
    "    ## 단어의 등장 빈도수가 threshold보다 작으면\n",
    "    if value < threshold:\n",
    "        rare_cnt = rare_cnt + 1\n",
    "        rare_freq = rare_freq + value\n",
    "\n",
    "print('단어 집합(vocabulary)의 크기 :', total_cnt)\n",
    "print('등장 빈도가 %s번 이하인 희귀 단어의 수: %s' %(threshold - 1, rare_cnt))\n",
    "print('단어 집합에서 희귀 단어의 비율:', round(rare_cnt / total_cnt, 3))\n",
    "print('전체 등장 빈도에서 희귀 단어 등장 빈도 비율:', round(rare_freq / total_freq, 3))"
   ]
  },
  {
   "cell_type": "markdown",
   "id": "30b11bb7-bf29-420e-a706-3f0d1e8993b9",
   "metadata": {},
   "source": [
    "`-` 전체 단어중 등장 빈도가 2번 이하인 단어의 비율은 70%에 달한다\n",
    "\n",
    "`-` 하지만 훈련집합에서 등장 빈도로 차지하는 비중은 14.4% 정도이다\n",
    "\n",
    "`-` 제거해도 괜찮을 것 같지만 일단은 제거하지 않겠다"
   ]
  },
  {
   "cell_type": "code",
   "execution_count": 49,
   "id": "1f135626-bcb0-42e2-9ef8-532f14de65fa",
   "metadata": {},
   "outputs": [
    {
     "name": "stdout",
     "output_type": "stream",
     "text": [
      "단어 집합의 크기 : 3003\n"
     ]
    }
   ],
   "source": [
    "## 전체 단어 개수 중 빈도수 1이하인 단어는 제거\n",
    "## 0번 패딩 토큰을 고려하여 + 1\n",
    "vocab_size = total_cnt - rare_cnt + 1\n",
    "print('단어 집합의 크기 :', vocab_size)"
   ]
  },
  {
   "cell_type": "markdown",
   "id": "bedf55c3-60ab-44a5-b0d8-e980f74c7324",
   "metadata": {},
   "source": [
    "`-` 텍스트 시퀀스를 정수 시퀀스로 변환하자"
   ]
  },
  {
   "cell_type": "code",
   "execution_count": 72,
   "id": "34826386-77fc-46fc-a515-3ae24027e515",
   "metadata": {},
   "outputs": [],
   "source": [
    "tokenizer = Tokenizer(len(tokenizer.word_index)) ## 단어 개수를 vocab_size로 제한\n",
    "tokenizer.fit_on_texts(X_train) ## 학습(fit)\n",
    "X_train = tokenizer.texts_to_sequences(X_train) ## 변환(transform)\n",
    "X_test = tokenizer.texts_to_sequences(X_test)   ## 변환(transform)"
   ]
  },
  {
   "cell_type": "markdown",
   "id": "902f26ac-e319-4bc0-b31b-851345b59989",
   "metadata": {},
   "source": [
    "`-` 각 샘플 내의 단어들은 각 단어에 대한 정수로 변환됐다\n",
    "\n",
    "`-` 단어의 개수는 3001개로 제한되었으므로 0번 단어 ~ 3000번 단어까지만 사용 중이다\n",
    "\n",
    "`-` 0번 단어는 패딩(서로 다른 배열의 길이를 맞춰줌)을 위한 토큰"
   ]
  },
  {
   "cell_type": "code",
   "execution_count": 73,
   "id": "65c8aff7-8893-4b74-9eae-696310e951bf",
   "metadata": {},
   "outputs": [],
   "source": [
    "y_train = np.array(data['label'])"
   ]
  },
  {
   "cell_type": "markdown",
   "id": "570f9f49-fe19-47b6-b4f9-e7bb5751b5fb",
   "metadata": {},
   "source": [
    "### 빈 샘플 제거"
   ]
  },
  {
   "cell_type": "markdown",
   "id": "a48b8ca5-36a3-4d13-91d5-136b703454be",
   "metadata": {},
   "source": [
    "`-` 정수 인코딩 과정에서 빈도수가 낮은 단어만으로 구성되었던 샘플들은 빈(empty) 샘플이 되었다"
   ]
  },
  {
   "cell_type": "code",
   "execution_count": 52,
   "id": "c41ab895-e17e-46b1-b153-4ded1b0b4185",
   "metadata": {},
   "outputs": [],
   "source": [
    "drop_train = [index for index, sentence in enumerate(X_train) if len(sentence) < 1]"
   ]
  },
  {
   "cell_type": "code",
   "execution_count": 53,
   "id": "887a24d7-5e48-4026-8608-8d64d6a2cf2e",
   "metadata": {},
   "outputs": [
    {
     "name": "stdout",
     "output_type": "stream",
     "text": [
      "4988\n",
      "4988\n"
     ]
    },
    {
     "name": "stderr",
     "output_type": "stream",
     "text": [
      "C:\\anaconda3\\envs\\py38r40\\lib\\site-packages\\numpy\\core\\_asarray.py:83: VisibleDeprecationWarning: Creating an ndarray from ragged nested sequences (which is a list-or-tuple of lists-or-tuples-or ndarrays with different lengths or shapes) is deprecated. If you meant to do this, you must specify 'dtype=object' when creating the ndarray\n",
      "  return array(a, dtype, copy=False, order=order)\n"
     ]
    }
   ],
   "source": [
    "## 빈 샘플들을 제거\n",
    "X_train = np.delete(X_train, drop_train, axis = 0)\n",
    "y_train = np.delete(y_train, drop_train, axis = 0)\n",
    "print(len(X_train))\n",
    "print(len(y_train))"
   ]
  },
  {
   "cell_type": "markdown",
   "id": "6612c2e6-9ace-4a43-a7a5-e441307f866e",
   "metadata": {},
   "source": [
    "`-` 4990에서 4998개로 줄었다"
   ]
  },
  {
   "cell_type": "markdown",
   "id": "2c8fa9fe-a438-4469-85ab-3c44dc7da30b",
   "metadata": {},
   "source": [
    "### 패딩"
   ]
  },
  {
   "cell_type": "markdown",
   "id": "99b88216-1390-4a22-bbe2-f27214ce0680",
   "metadata": {},
   "source": [
    "`-` 서로 다른 길이의 샘플들의 길이를 동일하게 맞춰주자\n",
    "\n",
    "`-` 우선 전체 데이터에서 가장 길이가 긴 리뷰와 전체 데이터의 길이 분포를 확인하자"
   ]
  },
  {
   "cell_type": "code",
   "execution_count": 74,
   "id": "a22dbd1c-1906-4462-9c62-dfbe3c6c9031",
   "metadata": {},
   "outputs": [
    {
     "name": "stdout",
     "output_type": "stream",
     "text": [
      "리뷰의 최대 길이 : 19\n",
      "리뷰의 평균 길이 : 8.14749498997996\n"
     ]
    },
    {
     "data": {
      "image/png": "[encoded data removed]",
      "text/plain": [
       "<Figure size 432x288 with 1 Axes>"
      ]
     },
     "metadata": {
      "needs_background": "light"
     },
     "output_type": "display_data"
    }
   ],
   "source": [
    "print('리뷰의 최대 길이 :', max(len(review) for review in X_train))\n",
    "print('리뷰의 평균 길이 :', sum(map(len, X_train)) / len(X_train))\n",
    "plt.hist([len(review) for review in X_train])\n",
    "plt.xlabel('length of samples')\n",
    "plt.ylabel('number of samples')\n",
    "plt.show()"
   ]
  },
  {
   "cell_type": "markdown",
   "id": "5904fe8b-0be4-412c-b6f2-13b614805c16",
   "metadata": {},
   "source": [
    "`-` 대부분의 리뷰가 내용이 잘리지 않도록 할 수 있는 최적의 max_len의 값은 15정도로 보인다\n",
    "\n",
    "`-` 모든 샘플의 길이를 15로 맞추자\n",
    "\n",
    "`-` 길이가 15보다 긴 문장은 짤리고 작은 문장은 0으로 채워진다"
   ]
  },
  {
   "cell_type": "code",
   "execution_count": 75,
   "id": "844b1600-775f-4edc-8863-96c4010edfae",
   "metadata": {},
   "outputs": [],
   "source": [
    "max_len = 15"
   ]
  },
  {
   "cell_type": "code",
   "execution_count": 76,
   "id": "f7109f05-7c5f-43ab-acdd-6efa5b343f23",
   "metadata": {},
   "outputs": [],
   "source": [
    "X_train = pad_sequences(X_train, maxlen = max_len)\n",
    "X_test = pad_sequences(X_test, maxlen = max_len)"
   ]
  },
  {
   "cell_type": "markdown",
   "id": "4cbdcbf0-2ece-4920-94e5-a2b87edd8995",
   "metadata": {},
   "source": [
    "## 모델링(LSTM)"
   ]
  },
  {
   "cell_type": "code",
   "execution_count": 30,
   "id": "c2e6e65c-7384-4fa4-beff-f0182a13e943",
   "metadata": {},
   "outputs": [],
   "source": [
    "import tensorflow as tf\n",
    "from tensorflow.keras.layers import Embedding, Dense, LSTM\n",
    "from tensorflow.keras.models import Sequential\n",
    "from tensorflow.keras.models import load_model\n",
    "from tensorflow.keras.callbacks import EarlyStopping, ModelCheckpoint"
   ]
  },
  {
   "cell_type": "code",
   "execution_count": 77,
   "id": "d3bcbb12-c760-4b5b-b129-5e6ed5c3d9e4",
   "metadata": {},
   "outputs": [
    {
     "data": {
      "text/plain": [
       "3003"
      ]
     },
     "execution_count": 77,
     "metadata": {},
     "output_type": "execute_result"
    }
   ],
   "source": [
    "vocab_size ## 단어 사전의 크기"
   ]
  },
  {
   "cell_type": "code",
   "execution_count": 81,
   "id": "4bf3c375-bf72-48a1-8982-97d9ab9eb2be",
   "metadata": {},
   "outputs": [
    {
     "name": "stdout",
     "output_type": "stream",
     "text": [
      "Epoch 1/10\n",
      "63/63 [==============================] - 5s 38ms/step - loss: 0.5290 - acc: 0.7440 - val_loss: 0.3884 - val_acc: 0.8257\n",
      "\n",
      "Epoch 00001: val_acc improved from -inf to 0.82565, saving model to best_model.h5\n",
      "Epoch 2/10\n",
      "63/63 [==============================] - 2s 24ms/step - loss: 0.2557 - acc: 0.9051 - val_loss: 0.3701 - val_acc: 0.8557\n",
      "\n",
      "Epoch 00002: val_acc improved from 0.82565 to 0.85571, saving model to best_model.h5\n",
      "Epoch 3/10\n",
      "63/63 [==============================] - 2s 25ms/step - loss: 0.1631 - acc: 0.9366 - val_loss: 0.3569 - val_acc: 0.8537\n",
      "\n",
      "Epoch 00003: val_acc did not improve from 0.85571\n",
      "Epoch 4/10\n",
      "63/63 [==============================] - 2s 25ms/step - loss: 0.1120 - acc: 0.9587 - val_loss: 0.3609 - val_acc: 0.8547\n",
      "\n",
      "Epoch 00004: val_acc did not improve from 0.85571\n",
      "Epoch 5/10\n",
      "63/63 [==============================] - 2s 24ms/step - loss: 0.0791 - acc: 0.9729 - val_loss: 0.4368 - val_acc: 0.8567\n",
      "\n",
      "Epoch 00005: val_acc improved from 0.85571 to 0.85671, saving model to best_model.h5\n",
      "Epoch 6/10\n",
      "63/63 [==============================] - 2s 25ms/step - loss: 0.0591 - acc: 0.9805 - val_loss: 0.4948 - val_acc: 0.8367\n",
      "\n",
      "Epoch 00006: val_acc did not improve from 0.85671\n",
      "Epoch 00006: early stopping\n"
     ]
    }
   ],
   "source": [
    "tf.random.set_seed(22)\n",
    "\n",
    "embedding_dim = 100\n",
    "hidden_units = 128\n",
    "\n",
    "model = Sequential() ## 인스턴스 ## 신경망 구축\n",
    "model.add(Embedding(input_dim = len(tokenizer.word_index), output_dim = embedding_dim)) ## (3001, 128) 차원\n",
    "model.add(LSTM(input_dim = embedding_dim, units = hidden_units)) ## (100, 128) 차원\n",
    "model.add(Dense(input_dim = hidden_units, units = 1, activation = 'sigmoid')) ## 결과값이 확률(0과 1사이)이므로 시그모이드 사용, (128, 1) 차원\n",
    "\n",
    "## verbose = 1 옵션은 진행 막대를 표시\n",
    "es = EarlyStopping(monitor = 'val_loss', mode = 'min', verbose = 1, patience = 3) ## 검증 데이터 손실이 4회 증가하면 학습을 멈춤\n",
    "mc = ModelCheckpoint('best_model.h5', monitor = 'val_acc', mode = 'max', verbose = 1, save_best_only = True) ## 가장 좋은 모델을 best_model.h5로 저장\n",
    "\n",
    "model.compile(optimizer = 'rmsprop', loss = 'binary_crossentropy', metrics = ['acc']) ## 평가는 accuracy 사용\n",
    "history = model.fit(X_train, y_train, epochs = 10, callbacks = [es, mc], batch_size = 64, validation_split = 0.2) ## train:valid = 0.8:0.2"
   ]
  },
  {
   "cell_type": "code",
   "execution_count": 82,
   "id": "95995da3-1814-4879-a629-e01d731d34a9",
   "metadata": {},
   "outputs": [],
   "source": [
    "loaded_model = load_model('best_model.h5')"
   ]
  },
  {
   "cell_type": "code",
   "execution_count": 84,
   "id": "4a8d947b-d334-48b4-8668-22f75619357e",
   "metadata": {},
   "outputs": [
    {
     "name": "stdout",
     "output_type": "stream",
     "text": [
      "Epoch 1/3\n",
      "156/156 [==============================] - 4s 18ms/step - loss: 0.1414 - acc: 0.9461\n",
      "Epoch 2/3\n",
      "156/156 [==============================] - 2s 16ms/step - loss: 0.1113 - acc: 0.9579: 1s \n",
      "Epoch 3/3\n",
      "156/156 [==============================] - 2s 16ms/step - loss: 0.0887 - acc: 0.9697\n"
     ]
    },
    {
     "data": {
      "text/plain": [
       "<tensorflow.python.keras.callbacks.History at 0x18ef9626730>"
      ]
     },
     "execution_count": 84,
     "metadata": {},
     "output_type": "execute_result"
    }
   ],
   "source": [
    "loaded_model.fit(X_train, y_train, epochs = 3)"
   ]
  },
  {
   "cell_type": "markdown",
   "id": "6ed0b7a9-17f6-49c2-9dfb-291c33a77d36",
   "metadata": {
    "tags": []
   },
   "source": [
    "### 영화 리뷰 예측"
   ]
  },
  {
   "cell_type": "markdown",
   "id": "e3263eeb-acff-4b9e-93d9-c023381821d0",
   "metadata": {},
   "source": [
    "`-` test 셋을 train을 가지고 학습시킨 model을 이용해 예측하자"
   ]
  },
  {
   "cell_type": "code",
   "execution_count": 85,
   "id": "0aa68bb3-c923-488b-97cb-931a55bfb0a2",
   "metadata": {},
   "outputs": [],
   "source": [
    "pred = loaded_model.predict(X_test)"
   ]
  },
  {
   "cell_type": "code",
   "execution_count": 86,
   "id": "698064e1-d5f0-42ca-a94a-e1360653d804",
   "metadata": {},
   "outputs": [],
   "source": [
    "label = [1 if prob > 0.5 else 0 for prob in pred]"
   ]
  },
  {
   "cell_type": "code",
   "execution_count": 87,
   "id": "982c6db4-791a-4fda-a95c-74c67380f7cb",
   "metadata": {},
   "outputs": [],
   "source": [
    "submission = pd.read_csv('C:/Users/Jaesu/github_desktop/Dacon-Basic/영화-리뷰-감성분석/Data/sample_submission.csv')"
   ]
  },
  {
   "cell_type": "code",
   "execution_count": 88,
   "id": "4fe4ad1e-62e2-4d03-a897-1617eaaa86b2",
   "metadata": {},
   "outputs": [
    {
     "data": {
      "text/html": [
       "<div>\n",
       "<style scoped>\n",
       "    .dataframe tbody tr th:only-of-type {\n",
       "        vertical-align: middle;\n",
       "    }\n",
       "\n",
       "    .dataframe tbody tr th {\n",
       "        vertical-align: top;\n",
       "    }\n",
       "\n",
       "    .dataframe thead th {\n",
       "        text-align: right;\n",
       "    }\n",
       "</style>\n",
       "<table border=\"1\" class=\"dataframe\">\n",
       "  <thead>\n",
       "    <tr style=\"text-align: right;\">\n",
       "      <th></th>\n",
       "      <th>id</th>\n",
       "      <th>label</th>\n",
       "    </tr>\n",
       "  </thead>\n",
       "  <tbody>\n",
       "    <tr>\n",
       "      <th>0</th>\n",
       "      <td>1</td>\n",
       "      <td>0</td>\n",
       "    </tr>\n",
       "    <tr>\n",
       "      <th>1</th>\n",
       "      <td>2</td>\n",
       "      <td>1</td>\n",
       "    </tr>\n",
       "    <tr>\n",
       "      <th>2</th>\n",
       "      <td>3</td>\n",
       "      <td>0</td>\n",
       "    </tr>\n",
       "    <tr>\n",
       "      <th>3</th>\n",
       "      <td>4</td>\n",
       "      <td>1</td>\n",
       "    </tr>\n",
       "    <tr>\n",
       "      <th>4</th>\n",
       "      <td>5</td>\n",
       "      <td>1</td>\n",
       "    </tr>\n",
       "  </tbody>\n",
       "</table>\n",
       "</div>"
      ],
      "text/plain": [
       "   id  label\n",
       "0   1      0\n",
       "1   2      1\n",
       "2   3      0\n",
       "3   4      1\n",
       "4   5      1"
      ]
     },
     "execution_count": 88,
     "metadata": {},
     "output_type": "execute_result"
    }
   ],
   "source": [
    "## 예측 값 넣어주기\n",
    "submission['label'] = label\n",
    "\n",
    "## 데이터가 잘 들어갔는지 확인\n",
    "submission.head()"
   ]
  },
  {
   "cell_type": "code",
   "execution_count": 89,
   "id": "1d67c5ad-29cf-49a6-9b94-4fabc779982c",
   "metadata": {},
   "outputs": [],
   "source": [
    "submission.to_csv('C:/Users/Jaesu/github_desktop/Dacon-Basic/영화-리뷰-감성분석/Data/submission5.csv', index = False) "
   ]
  },
  {
   "cell_type": "markdown",
   "id": "9910a836-6687-4476-b2f7-87e42957bcb2",
   "metadata": {},
   "source": [
    "## 1D CNN"
   ]
  },
  {
   "cell_type": "code",
   "execution_count": 80,
   "id": "e8575686-9075-4332-ae4c-a4249938f8a3",
   "metadata": {},
   "outputs": [],
   "source": [
    "import tensorflow as tf\n",
    "from tensorflow.keras.layers import Dense, Conv1D, GlobalMaxPooling1D, Embedding, Dropout, MaxPooling1D\n",
    "from tensorflow.keras.models import Sequential\n",
    "from tensorflow.keras.callbacks import EarlyStopping, ModelCheckpoint"
   ]
  },
  {
   "cell_type": "code",
   "execution_count": 85,
   "id": "c676ebaa-2175-4334-8e87-f9a40ac0af09",
   "metadata": {},
   "outputs": [
    {
     "name": "stdout",
     "output_type": "stream",
     "text": [
      "Epoch 1/10\n",
      "63/63 [==============================] - 1s 5ms/step - loss: 0.6869 - acc: 0.5674 - val_loss: 0.6732 - val_acc: 0.7255\n",
      "\n",
      "Epoch 00001: val_acc improved from -inf to 0.72545, saving model to best_model.h5\n",
      "Epoch 2/10\n",
      "63/63 [==============================] - 0s 3ms/step - loss: 0.6154 - acc: 0.7907 - val_loss: 0.5331 - val_acc: 0.8046\n",
      "\n",
      "Epoch 00002: val_acc improved from 0.72545 to 0.80461, saving model to best_model.h5\n",
      "Epoch 3/10\n",
      "63/63 [==============================] - 0s 3ms/step - loss: 0.4004 - acc: 0.8774 - val_loss: 0.3652 - val_acc: 0.8427\n",
      "\n",
      "Epoch 00003: val_acc improved from 0.80461 to 0.84269, saving model to best_model.h5\n",
      "Epoch 4/10\n",
      "63/63 [==============================] - 0s 4ms/step - loss: 0.2417 - acc: 0.9165 - val_loss: 0.3402 - val_acc: 0.8467\n",
      "\n",
      "Epoch 00004: val_acc improved from 0.84269 to 0.84669, saving model to best_model.h5\n",
      "Epoch 5/10\n",
      "63/63 [==============================] - 0s 3ms/step - loss: 0.1710 - acc: 0.9424 - val_loss: 0.3554 - val_acc: 0.8427\n",
      "\n",
      "Epoch 00005: val_acc did not improve from 0.84669\n",
      "Epoch 6/10\n",
      "63/63 [==============================] - 0s 3ms/step - loss: 0.1316 - acc: 0.9589 - val_loss: 0.3809 - val_acc: 0.8457\n",
      "\n",
      "Epoch 00006: val_acc did not improve from 0.84669\n",
      "Epoch 7/10\n",
      "63/63 [==============================] - 0s 3ms/step - loss: 0.1071 - acc: 0.9632 - val_loss: 0.4121 - val_acc: 0.8367\n",
      "\n",
      "Epoch 00007: val_acc did not improve from 0.84669\n",
      "Epoch 00007: early stopping\n"
     ]
    }
   ],
   "source": [
    "tf.random.set_seed(22)\n",
    "\n",
    "embedding_dim = 32\n",
    "dropout_ratio = 0.3\n",
    "num_filters = 32\n",
    "kernel_size = 5\n",
    "\n",
    "model = Sequential()\n",
    "model.add(Embedding(vocab_size, embedding_dim))\n",
    "model.add(Dropout(dropout_ratio))\n",
    "model.add(Conv1D(num_filters, kernel_size, padding = 'valid', activation = 'relu'))\n",
    "model.add(GlobalMaxPooling1D())\n",
    "model.add(Dropout(dropout_ratio))\n",
    "model.add(Dense(1, activation = 'sigmoid'))\n",
    "model.compile(optimizer = 'adam', loss = 'binary_crossentropy', metrics = ['acc'])\n",
    "\n",
    "es = EarlyStopping(monitor = 'val_loss', mode = 'min', verbose = 1, patience = 3)\n",
    "mc = ModelCheckpoint('best_model.h5', monitor = 'val_acc', mode = 'max', verbose = 1, save_best_only = True)\n",
    "\n",
    "history = model.fit(X_train, y_train, epochs = 10, batch_size = 64, validation_split = 0.2, callbacks = [es, mc])"
   ]
  },
  {
   "cell_type": "code",
   "execution_count": 337,
   "id": "c287677b-b45a-45ca-9f86-68374b07d7f5",
   "metadata": {},
   "outputs": [],
   "source": [
    "loaded_model = load_model('best_model.h5')"
   ]
  },
  {
   "cell_type": "markdown",
   "id": "ece6ed73-1eeb-4bda-9483-81455bf60c00",
   "metadata": {
    "tags": []
   },
   "source": [
    "### 영화 리뷰 예측"
   ]
  },
  {
   "cell_type": "markdown",
   "id": "50eb5ef6-233c-44f8-9242-73be0a281292",
   "metadata": {},
   "source": [
    "`-` test 셋을 train을 가지고 학습시킨 model을 이용해 예측하자"
   ]
  },
  {
   "cell_type": "code",
   "execution_count": 86,
   "id": "a4accead-9390-4098-9bc6-74f7714a3b2e",
   "metadata": {},
   "outputs": [],
   "source": [
    "pred = loaded_model.predict(X_test)"
   ]
  },
  {
   "cell_type": "code",
   "execution_count": 87,
   "id": "6c8a7bff-01eb-4c9d-bb62-82dbdbc1ee33",
   "metadata": {},
   "outputs": [],
   "source": [
    "label = [1 if prob > 0.5 else 0 for prob in pred]"
   ]
  },
  {
   "cell_type": "code",
   "execution_count": 340,
   "id": "5409a545-bc64-4dd4-8b3b-d50d21e6deaf",
   "metadata": {},
   "outputs": [],
   "source": [
    "submission = pd.read_csv('C:/Users/Jaesu/github_desktop/Dacon-Basic/영화-리뷰-감성분석/Data/sample_submission.csv')"
   ]
  },
  {
   "cell_type": "code",
   "execution_count": 88,
   "id": "0dde71a1-499e-4508-833f-875e0d5b10f4",
   "metadata": {},
   "outputs": [
    {
     "data": {
      "text/html": [
       "<div>\n",
       "<style scoped>\n",
       "    .dataframe tbody tr th:only-of-type {\n",
       "        vertical-align: middle;\n",
       "    }\n",
       "\n",
       "    .dataframe tbody tr th {\n",
       "        vertical-align: top;\n",
       "    }\n",
       "\n",
       "    .dataframe thead th {\n",
       "        text-align: right;\n",
       "    }\n",
       "</style>\n",
       "<table border=\"1\" class=\"dataframe\">\n",
       "  <thead>\n",
       "    <tr style=\"text-align: right;\">\n",
       "      <th></th>\n",
       "      <th>id</th>\n",
       "      <th>label</th>\n",
       "    </tr>\n",
       "  </thead>\n",
       "  <tbody>\n",
       "    <tr>\n",
       "      <th>0</th>\n",
       "      <td>1</td>\n",
       "      <td>0</td>\n",
       "    </tr>\n",
       "    <tr>\n",
       "      <th>1</th>\n",
       "      <td>2</td>\n",
       "      <td>1</td>\n",
       "    </tr>\n",
       "    <tr>\n",
       "      <th>2</th>\n",
       "      <td>3</td>\n",
       "      <td>0</td>\n",
       "    </tr>\n",
       "    <tr>\n",
       "      <th>3</th>\n",
       "      <td>4</td>\n",
       "      <td>1</td>\n",
       "    </tr>\n",
       "    <tr>\n",
       "      <th>4</th>\n",
       "      <td>5</td>\n",
       "      <td>1</td>\n",
       "    </tr>\n",
       "  </tbody>\n",
       "</table>\n",
       "</div>"
      ],
      "text/plain": [
       "   id  label\n",
       "0   1      0\n",
       "1   2      1\n",
       "2   3      0\n",
       "3   4      1\n",
       "4   5      1"
      ]
     },
     "execution_count": 88,
     "metadata": {},
     "output_type": "execute_result"
    }
   ],
   "source": [
    "## 예측 값 넣어주기\n",
    "submission['label'] = label\n",
    "\n",
    "## 데이터가 잘 들어갔는지 확인\n",
    "submission.head()"
   ]
  },
  {
   "cell_type": "code",
   "execution_count": 90,
   "id": "71114bb9-25b1-4d5e-9c82-649ac6a1baca",
   "metadata": {},
   "outputs": [],
   "source": [
    "submission.to_csv('C:/Users/Jaesu/github_desktop/Dacon-Basic/영화-리뷰-감성분석/Data/submission5.csv', index = False) "
   ]
  },
  {
   "cell_type": "markdown",
   "id": "b1c26ba8-f822-4768-82d1-e1457024a754",
   "metadata": {},
   "source": [
    "## Multi-Kernel 1D CNN"
   ]
  },
  {
   "cell_type": "code",
   "execution_count": 91,
   "id": "5025c4c0-ff9b-41a0-8d7b-2ef1d18c4245",
   "metadata": {},
   "outputs": [],
   "source": [
    "import tensorflow as tf\n",
    "from tensorflow.keras.models import Sequential, Model\n",
    "from tensorflow.keras.layers import Embedding, Dropout, Conv1D, GlobalMaxPooling1D, Dense, Input, Flatten, Concatenate\n",
    "from tensorflow.keras.callbacks import EarlyStopping, ModelCheckpoint\n",
    "from tensorflow.keras.models import load_model"
   ]
  },
  {
   "cell_type": "code",
   "execution_count": 114,
   "id": "504045c0-f147-4fd9-b82f-37f73fa9bdc8",
   "metadata": {},
   "outputs": [],
   "source": [
    "embedding_dim = 64\n",
    "dropout_ratio = (0.5, 0.8)\n",
    "num_filters = 64\n",
    "hidden_units = 64"
   ]
  },
  {
   "cell_type": "markdown",
   "id": "47e97eb3-a3e1-475d-a291-9061045184a6",
   "metadata": {},
   "source": [
    "`-` 입력 층과 임베딩 층을 정의"
   ]
  },
  {
   "cell_type": "code",
   "execution_count": 115,
   "id": "5e9a805f-0e01-4a46-8775-6a5d40585e64",
   "metadata": {},
   "outputs": [],
   "source": [
    "model_input = Input(shape = (max_len,))\n",
    "z = Embedding(vocab_size, embedding_dim, input_length = max_len, name = 'embedding')(model_input)\n",
    "z = Dropout(dropout_ratio[0])(z)"
   ]
  },
  {
   "cell_type": "markdown",
   "id": "4f0da647-3b18-4167-b7ac-9e6f24b4def6",
   "metadata": {},
   "source": [
    "`-` 3, 4, 5의 크기를 가지는 커널을 각각 128개 사용하고 이들을 맥스풀링"
   ]
  },
  {
   "cell_type": "code",
   "execution_count": 116,
   "id": "cc550a46-0ce1-4120-ae61-8eab78594efc",
   "metadata": {},
   "outputs": [],
   "source": [
    "conv_blocks = []\n",
    "\n",
    "for sz in [3, 4, 5]:\n",
    "    conv = Conv1D(filters = num_filters,\n",
    "                  kernel_size = sz,\n",
    "                  padding = 'valid',\n",
    "                  activation = 'relu',\n",
    "                  strides = 1)(z)\n",
    "    \n",
    "    conv = GlobalMaxPooling1D()(conv)\n",
    "    conv_blocks.append(conv)"
   ]
  },
  {
   "cell_type": "code",
   "execution_count": 117,
   "id": "9b97738b-f830-4876-9268-24f259421285",
   "metadata": {},
   "outputs": [
    {
     "name": "stdout",
     "output_type": "stream",
     "text": [
      "Epoch 1/10\n",
      "63/63 - 2s - loss: 0.6938 - acc: 0.5098 - val_loss: 0.6855 - val_acc: 0.6503\n",
      "\n",
      "Epoch 00001: val_acc improved from -inf to 0.65030, saving model to CNN_model.h5\n",
      "Epoch 2/10\n",
      "63/63 - 0s - loss: 0.6758 - acc: 0.5739 - val_loss: 0.6267 - val_acc: 0.7816\n",
      "\n",
      "Epoch 00002: val_acc improved from 0.65030 to 0.78156, saving model to CNN_model.h5\n",
      "Epoch 3/10\n",
      "63/63 - 0s - loss: 0.5010 - acc: 0.7910 - val_loss: 0.3698 - val_acc: 0.8357\n",
      "\n",
      "Epoch 00003: val_acc improved from 0.78156 to 0.83567, saving model to CNN_model.h5\n",
      "Epoch 4/10\n",
      "63/63 - 0s - loss: 0.3066 - acc: 0.8764 - val_loss: 0.3446 - val_acc: 0.8477\n",
      "\n",
      "Epoch 00004: val_acc improved from 0.83567 to 0.84770, saving model to CNN_model.h5\n",
      "Epoch 5/10\n",
      "63/63 - 0s - loss: 0.2237 - acc: 0.9125 - val_loss: 0.3616 - val_acc: 0.8507\n",
      "\n",
      "Epoch 00005: val_acc improved from 0.84770 to 0.85070, saving model to CNN_model.h5\n",
      "Epoch 6/10\n",
      "63/63 - 0s - loss: 0.1776 - acc: 0.9333 - val_loss: 0.3944 - val_acc: 0.8487\n",
      "\n",
      "Epoch 00006: val_acc did not improve from 0.85070\n",
      "Epoch 7/10\n",
      "63/63 - 0s - loss: 0.1483 - acc: 0.9471 - val_loss: 0.4311 - val_acc: 0.8467\n",
      "\n",
      "Epoch 00007: val_acc did not improve from 0.85070\n",
      "Epoch 00007: early stopping\n"
     ]
    },
    {
     "data": {
      "text/plain": [
       "<tensorflow.python.keras.callbacks.History at 0x219ee8266a0>"
      ]
     },
     "execution_count": 117,
     "metadata": {},
     "output_type": "execute_result"
    }
   ],
   "source": [
    "tf.random.set_seed(22)\n",
    "\n",
    "z = Concatenate()(conv_blocks) if len(conv_blocks) > 1 else conv_blocks[0]\n",
    "z = Dropout(dropout_ratio[1])(z)\n",
    "z = Dense(hidden_units, activation = 'relu')(z)\n",
    "model_output = Dense(1, activation = 'sigmoid')(z)\n",
    "\n",
    "model = Model(model_input, model_output)\n",
    "model.compile(loss = 'binary_crossentropy', optimizer = 'adam', metrics = ['acc'])\n",
    "\n",
    "es = EarlyStopping(monitor = 'val_loss', mode = 'min', verbose = 1, patience = 3)\n",
    "mc = ModelCheckpoint('CNN_model.h5', monitor = 'val_acc', mode = 'max', verbose = 1, save_best_only = True)\n",
    "\n",
    "model.fit(X_train, y_train, batch_size = 64, epochs = 10, validation_split = 0.2, verbose = 2, callbacks = [es, mc])"
   ]
  },
  {
   "cell_type": "markdown",
   "id": "8de2d763-ebd1-4d3c-9053-b295b575821d",
   "metadata": {
    "tags": []
   },
   "source": [
    "### 영화 리뷰 예측"
   ]
  },
  {
   "cell_type": "markdown",
   "id": "4988739a-acc6-4972-a3c7-9bbbc7d1edda",
   "metadata": {},
   "source": [
    "`-` test 셋을 train을 가지고 학습시킨 model을 이용해 예측하자"
   ]
  },
  {
   "cell_type": "code",
   "execution_count": 118,
   "id": "4d66845e-a42a-462f-9d2e-dd9839d9de88",
   "metadata": {},
   "outputs": [],
   "source": [
    "pred = model.predict(X_test)"
   ]
  },
  {
   "cell_type": "code",
   "execution_count": 119,
   "id": "c4a13b4e-d340-4051-9dc7-b2901be7ff08",
   "metadata": {},
   "outputs": [],
   "source": [
    "label = [1 if prob > 0.5 else 0 for prob in pred]"
   ]
  },
  {
   "cell_type": "code",
   "execution_count": 340,
   "id": "c59d50de-93a7-4bec-8894-9c2a9fcbcc7b",
   "metadata": {},
   "outputs": [],
   "source": [
    "submission = pd.read_csv('C:/Users/Jaesu/github_desktop/Dacon-Basic/영화-리뷰-감성분석/Data/sample_submission.csv')"
   ]
  },
  {
   "cell_type": "code",
   "execution_count": 120,
   "id": "720c2b6b-a7e9-4b4a-8fdd-83c48f8f6367",
   "metadata": {},
   "outputs": [
    {
     "data": {
      "text/html": [
       "<div>\n",
       "<style scoped>\n",
       "    .dataframe tbody tr th:only-of-type {\n",
       "        vertical-align: middle;\n",
       "    }\n",
       "\n",
       "    .dataframe tbody tr th {\n",
       "        vertical-align: top;\n",
       "    }\n",
       "\n",
       "    .dataframe thead th {\n",
       "        text-align: right;\n",
       "    }\n",
       "</style>\n",
       "<table border=\"1\" class=\"dataframe\">\n",
       "  <thead>\n",
       "    <tr style=\"text-align: right;\">\n",
       "      <th></th>\n",
       "      <th>id</th>\n",
       "      <th>label</th>\n",
       "    </tr>\n",
       "  </thead>\n",
       "  <tbody>\n",
       "    <tr>\n",
       "      <th>0</th>\n",
       "      <td>1</td>\n",
       "      <td>0</td>\n",
       "    </tr>\n",
       "    <tr>\n",
       "      <th>1</th>\n",
       "      <td>2</td>\n",
       "      <td>1</td>\n",
       "    </tr>\n",
       "    <tr>\n",
       "      <th>2</th>\n",
       "      <td>3</td>\n",
       "      <td>0</td>\n",
       "    </tr>\n",
       "    <tr>\n",
       "      <th>3</th>\n",
       "      <td>4</td>\n",
       "      <td>1</td>\n",
       "    </tr>\n",
       "    <tr>\n",
       "      <th>4</th>\n",
       "      <td>5</td>\n",
       "      <td>1</td>\n",
       "    </tr>\n",
       "  </tbody>\n",
       "</table>\n",
       "</div>"
      ],
      "text/plain": [
       "   id  label\n",
       "0   1      0\n",
       "1   2      1\n",
       "2   3      0\n",
       "3   4      1\n",
       "4   5      1"
      ]
     },
     "execution_count": 120,
     "metadata": {},
     "output_type": "execute_result"
    }
   ],
   "source": [
    "## 예측 값 넣어주기\n",
    "submission['label'] = label\n",
    "\n",
    "## 데이터가 잘 들어갔는지 확인\n",
    "submission.head()"
   ]
  },
  {
   "cell_type": "code",
   "execution_count": 121,
   "id": "b213162e-80ad-4900-a526-0648adc77e6e",
   "metadata": {},
   "outputs": [],
   "source": [
    "submission.to_csv('C:/Users/Jaesu/github_desktop/Dacon-Basic/영화-리뷰-감성분석/Data/submission6.csv', index = False) "
   ]
  },
  {
   "cell_type": "code",
   "execution_count": null,
   "id": "8b487ebb-ef8e-4fbe-a426-354548964eb9",
   "metadata": {},
   "outputs": [],
   "source": []
  }
 ],
 "metadata": {
  "kernelspec": {
   "display_name": "Python 3 (ipykernel)",
   "language": "python",
   "name": "python3"
  },
  "language_info": {
   "codemirror_mode": {
    "name": "ipython",
    "version": 3
   },
   "file_extension": ".py",
   "mimetype": "text/x-python",
   "name": "python",
   "nbconvert_exporter": "python",
   "pygments_lexer": "ipython3",
   "version": "3.8.11"
  }
 },
 "nbformat": 4,
 "nbformat_minor": 5
}
