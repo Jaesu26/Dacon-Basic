{
 "cells": [
  {
   "cell_type": "markdown",
   "id": "45f02521-9648-45ab-8ec8-cf73f95a94a0",
   "metadata": {},
   "source": [
    "# 전복 나이 예측 경진대회"
   ]
  },
  {
   "cell_type": "markdown",
   "id": "adcf68a2-f061-47e1-8113-cfc9c875d5f9",
   "metadata": {},
   "source": [
    "## 데이터 불러오기"
   ]
  },
  {
   "cell_type": "code",
   "execution_count": 32,
   "id": "0834e091-a0f8-478b-9d97-5f4800229880",
   "metadata": {},
   "outputs": [],
   "source": [
    "import pandas as pd\n",
    "import numpy as np\n",
    "import seaborn as sns\n",
    "import matplotlib.pyplot as plt\n",
    "from sklearn.ensemble import RandomForestRegressor\n",
    "from xgboost import XGBRegressor \n",
    "from lightgbm import LGBMRegressor \n",
    "from catboost import CatBoostRegressor\n",
    "from sklearn.model_selection import cross_validate, StratifiedKFold, train_test_split\n",
    "import warnings\n",
    "\n",
    "warnings.filterwarnings('ignore')\n",
    "%matplotlib inline"
   ]
  },
  {
   "cell_type": "code",
   "execution_count": 249,
   "id": "9b6ccf16-5d35-4f9d-8816-3631a5041292",
   "metadata": {},
   "outputs": [],
   "source": [
    "df = pd.read_csv('C:/Users/Jaesu/github_desktop/Dacon-Basic/전복-나이-예측/Data/train.csv')\n",
    "test_ = pd.read_csv('C:/Users/Jaesu/github_desktop/Dacon-Basic/전복-나이-예측/Data/test.csv')"
   ]
  },
  {
   "cell_type": "code",
   "execution_count": 34,
   "id": "9e7f05c3-443c-45f3-bf1b-0d18fb96f47d",
   "metadata": {},
   "outputs": [],
   "source": [
    "def NMAE(true, pred):\n",
    "    mae = np.mean(np.abs(true - pred))\n",
    "    score = mae / np.mean(np.abs(true))\n",
    "    return score"
   ]
  },
  {
   "cell_type": "code",
   "execution_count": 35,
   "id": "0f51d30f-0955-42e5-afd0-91bd44fce2db",
   "metadata": {},
   "outputs": [],
   "source": [
    "def drop_id(df: pd.DataFrame) -> None:\n",
    "    try:\n",
    "        df.drop('id', axis=1, inplace=True)\n",
    "    except:\n",
    "        pass"
   ]
  },
  {
   "cell_type": "code",
   "execution_count": 36,
   "id": "77b0d647-ebc6-4523-82c4-72f6a5b553c2",
   "metadata": {},
   "outputs": [],
   "source": [
    "## 공백을 _(언더바)로 바꾼다\n",
    "def replace_column_blank2underbar(df: pd.DataFrame) -> None:\n",
    "    df.rename(columns = dict(zip(df.columns, [column.replace(' ', '_') for column in df.columns])), inplace=True) "
   ]
  },
  {
   "cell_type": "code",
   "execution_count": 37,
   "id": "2a867ead-76b8-4b2e-b98e-5534c9931bfd",
   "metadata": {},
   "outputs": [],
   "source": [
    "def split_train_target(df: pd.DataFrame, target: str, inplace=True) -> tuple:\n",
    "    Target = df[target]\n",
    "    train = df.drop(target, axis=1)\n",
    "    if inplace:\n",
    "        del df\n",
    "    \n",
    "    return train, Target"
   ]
  },
  {
   "cell_type": "code",
   "execution_count": 250,
   "id": "499a826c-78e8-4c5f-9333-cbdf98c5666c",
   "metadata": {},
   "outputs": [],
   "source": [
    "tmp = df.copy()\n",
    "test = test_.copy()"
   ]
  },
  {
   "cell_type": "code",
   "execution_count": 251,
   "id": "e5451e95-1348-474c-9dae-11b4aa37d51b",
   "metadata": {},
   "outputs": [],
   "source": [
    "drop_id(tmp)\n",
    "drop_id(test)"
   ]
  },
  {
   "cell_type": "code",
   "execution_count": 252,
   "id": "08b72441-4421-46f4-9e2c-7b7219027766",
   "metadata": {},
   "outputs": [],
   "source": [
    "replace_column_blank2underbar(tmp)\n",
    "replace_column_blank2underbar(test)"
   ]
  },
  {
   "cell_type": "code",
   "execution_count": 253,
   "id": "9b5269b4-0030-435f-abcd-929b4b48b089",
   "metadata": {},
   "outputs": [],
   "source": [
    "tmp['Gender'] = tmp['Gender'].map({'I':0, 'F':1, 'M':2})\n",
    "test['Gender'] = test['Gender'].map({'I':0, 'F':1, 'M':2})"
   ]
  },
  {
   "cell_type": "code",
   "execution_count": 254,
   "id": "6e7c89fb-e14d-4fb2-828a-edcfa46c4554",
   "metadata": {},
   "outputs": [],
   "source": [
    "data_train_T=tmp['Target']\n",
    "target=[]\n",
    "for i in range(len(data_train_T)):\n",
    "    if data_train_T.iloc[i] < 10:\n",
    "        target.append(1)\n",
    "    elif data_train_T.iloc[i] < 15:\n",
    "        target.append(2)\n",
    "    else:\n",
    "        target.append(3)\n",
    "        \n",
    "tmp['Range'] = target"
   ]
  },
  {
   "cell_type": "code",
   "execution_count": 255,
   "id": "396e8bfd-b1ad-4f30-9099-18e34544256a",
   "metadata": {},
   "outputs": [],
   "source": [
    "data_train_3 = tmp[tmp['Range']==3]"
   ]
  },
  {
   "cell_type": "code",
   "execution_count": 256,
   "id": "fe60c263-0468-4301-a32b-a16966149d8d",
   "metadata": {},
   "outputs": [],
   "source": [
    "tmp = tmp.append(data_train_3)"
   ]
  },
  {
   "cell_type": "code",
   "execution_count": 257,
   "id": "28abf838-5282-4d45-b6c0-9de6ec1c3428",
   "metadata": {},
   "outputs": [],
   "source": [
    "tmp.drop('Range', axis=1, inplace=True)"
   ]
  },
  {
   "cell_type": "code",
   "execution_count": 258,
   "id": "3365a289-0b45-4b14-aef7-4b8f95b7629c",
   "metadata": {},
   "outputs": [],
   "source": [
    "tmp, target = split_train_target(tmp, 'Target')"
   ]
  },
  {
   "cell_type": "code",
   "execution_count": 259,
   "id": "8249ba98-6529-4d87-8cb2-5ae152cf350d",
   "metadata": {},
   "outputs": [],
   "source": [
    "skfold = StratifiedKFold(n_splits=5,  shuffle=True, random_state=22)"
   ]
  },
  {
   "cell_type": "code",
   "execution_count": 260,
   "id": "ec3a90e5-c757-483c-8d2a-37e0478cbb58",
   "metadata": {},
   "outputs": [],
   "source": [
    "xgb = XGBRegressor(random_state = 22, learning_rate = 0.03, n_estimators = 1000, max_depth = 6)"
   ]
  },
  {
   "cell_type": "code",
   "execution_count": 261,
   "id": "eba0fc4e-c285-4383-8ad2-3b87d9ed8616",
   "metadata": {},
   "outputs": [],
   "source": [
    "lgbm = LGBMRegressor(random_state=22, learning_rate=0.05, n_estimators=1000, max_depth=5)"
   ]
  },
  {
   "cell_type": "code",
   "execution_count": 262,
   "id": "fb4373e6-a96b-44f8-8d7d-b8b1991ee312",
   "metadata": {},
   "outputs": [],
   "source": [
    "cb = CatBoostRegressor(random_state = 222, learning_rate = 0.03, n_estimators = 1000, depth = 6, loss_function = 'MAE', verbose = 0)"
   ]
  },
  {
   "cell_type": "code",
   "execution_count": 263,
   "id": "0951f069-d9f7-4df7-8732-254c8b819a15",
   "metadata": {},
   "outputs": [],
   "source": [
    "log_target = np.log(target)"
   ]
  },
  {
   "cell_type": "code",
   "execution_count": 274,
   "id": "21a0127f-da3c-40e4-992c-0fe3e9019e2e",
   "metadata": {},
   "outputs": [],
   "source": [
    "def fold_training(df, log_target, stratify, test, model, skfold):\n",
    "    \"\"\"target은 로그 변환 되어야 함\"\"\"\n",
    "    model_valid = []\n",
    "    model_predict = np.zeros(test.shape[0])\n",
    "\n",
    "    \n",
    "    for fold, (train_idx, valid_idx) in enumerate(skfold.split(df, df[stratify])):\n",
    "        print(f'{fold + 1} Fold Training......')\n",
    "        x_train, y_train = df.iloc[train_idx], log_target.iloc[train_idx]\n",
    "        x_valid, y_valid = df.iloc[valid_idx], np.exp(log_target.iloc[valid_idx])\n",
    "\n",
    "        model.fit(x_train, y_train, \n",
    "                  eval_set=(x_valid, y_valid),\n",
    "                  eval_metric='l1', verbose=False, early_stopping_rounds=100)\n",
    "   \n",
    "        y_predict = np.exp(model.predict(x_valid)) ## valid셋 예측\n",
    "        test_predict = np.exp(model.predict(test)) ## test셋 예측\n",
    "        nmae = NMAE(y_predict, y_valid)\n",
    "        model_valid.append(nmae) ## valid 예측값\n",
    "        model_predict += test_predict / skfold.n_splits ## test 예측값\n",
    "        print(f'nmae : {nmae:.4f}', end='\\n\\n')\n",
    "        \n",
    "    model_dict = {cb.__class__.__name__:model,\n",
    "                  'valid':model_valid,\n",
    "                  'predict':model_predict,\n",
    "                 }\n",
    "    \n",
    "    return  model_dict"
   ]
  },
  {
   "cell_type": "code",
   "execution_count": 272,
   "id": "a5c6a49c-6574-42ea-9b85-2a9bb1d4f6d7",
   "metadata": {},
   "outputs": [
    {
     "name": "stdout",
     "output_type": "stream",
     "text": [
      "1 Fold Training......\n",
      "nmae : 0.1682\n",
      "\n",
      "2 Fold Training......\n",
      "nmae : 0.2534\n",
      "\n",
      "3 Fold Training......\n",
      "nmae : 0.2572\n",
      "\n",
      "4 Fold Training......\n",
      "nmae : 0.2685\n",
      "\n",
      "5 Fold Training......\n",
      "nmae : 0.1762\n",
      "\n"
     ]
    }
   ],
   "source": [
    "lgbm_dict = fold_training(tmp, log_target, 'Gender', test, lgbm, skfold)"
   ]
  },
  {
   "cell_type": "code",
   "execution_count": 273,
   "id": "38bd11ba-f876-4abe-bc5c-dc5b1a339352",
   "metadata": {},
   "outputs": [
    {
     "data": {
      "text/plain": [
       "0.224702624305836"
      ]
     },
     "execution_count": 273,
     "metadata": {},
     "output_type": "execute_result"
    }
   ],
   "source": [
    "np.mean(lgbm_dict['valid'])"
   ]
  },
  {
   "cell_type": "code",
   "execution_count": 270,
   "id": "a48096b4-98ab-47de-8887-d4a2dbfa5b5a",
   "metadata": {},
   "outputs": [
    {
     "data": {
      "text/plain": [
       "<AxesSubplot:>"
      ]
     },
     "execution_count": 270,
     "metadata": {},
     "output_type": "execute_result"
    },
    {
     "data": {
      "image/png": "[encoded data removed]",
      "text/plain": [
       "<Figure size 432x288 with 1 Axes>"
      ]
     },
     "metadata": {
      "needs_background": "light"
     },
     "output_type": "display_data"
    }
   ],
   "source": [
    "target.hist()"
   ]
  },
  {
   "cell_type": "code",
   "execution_count": 267,
   "id": "2cbaf641-b18e-4d78-9e3b-1bb6b45d525e",
   "metadata": {},
   "outputs": [
    {
     "data": {
      "text/plain": [
       "(array([105., 210., 371., 779., 855., 356., 149.,  70.,  19.,  10.]),\n",
       " array([ 7.36506127,  7.99474729,  8.62443331,  9.25411933,  9.88380534,\n",
       "        10.51349136, 11.14317738, 11.7728634 , 12.40254942, 13.03223543,\n",
       "        13.66192145]),\n",
       " <BarContainer object of 10 artists>)"
      ]
     },
     "execution_count": 267,
     "metadata": {},
     "output_type": "execute_result"
    },
    {
     "data": {
      "image/png": "[encoded data removed]",
      "text/plain": [
       "<Figure size 432x288 with 1 Axes>"
      ]
     },
     "metadata": {
      "needs_background": "light"
     },
     "output_type": "display_data"
    }
   ],
   "source": [
    "plt.hist(lgbm_dict['predict'])"
   ]
  },
  {
   "cell_type": "code",
   "execution_count": null,
   "id": "6062b4dd-ccb6-4a60-9bda-be35b61c8783",
   "metadata": {},
   "outputs": [],
   "source": []
  }
 ],
 "metadata": {
  "kernelspec": {
   "display_name": "Python 3 (ipykernel)",
   "language": "python",
   "name": "python3"
  },
  "language_info": {
   "codemirror_mode": {
    "name": "ipython",
    "version": 3
   },
   "file_extension": ".py",
   "mimetype": "text/x-python",
   "name": "python",
   "nbconvert_exporter": "python",
   "pygments_lexer": "ipython3",
   "version": "3.8.11"
  }
 },
 "nbformat": 4,
 "nbformat_minor": 5
}
