{
 "cells": [
  {
   "cell_type": "markdown",
   "id": "45f02521-9648-45ab-8ec8-cf73f95a94a0",
   "metadata": {},
   "source": [
    "# 전복 나이 예측 경진대회"
   ]
  },
  {
   "cell_type": "markdown",
   "id": "adcf68a2-f061-47e1-8113-cfc9c875d5f9",
   "metadata": {},
   "source": [
    "## 데이터 불러오기"
   ]
  },
  {
   "cell_type": "code",
   "execution_count": 6,
   "id": "0834e091-a0f8-478b-9d97-5f4800229880",
   "metadata": {},
   "outputs": [],
   "source": [
    "import pandas as pd\n",
    "import numpy as np\n",
    "import seaborn as sns\n",
    "import matplotlib.pyplot as plt\n",
    "from sklearn.ensemble import RandomForestClassifier\n",
    "from sklearn.linear_model import LogisticRegression\n",
    "from catboost import CatBoostClassifier\n",
    "from xgboost import XGBClassifier\n",
    "from lightgbm import LGBMClassifier\n",
    "from sklearn.model_selection import cross_validate, StratifiedKFold, train_test_split\n",
    "import statsmodels.formula.api as smf\n",
    "import warnings\n",
    "\n",
    "warnings.filterwarnings('ignore')\n",
    "%matplotlib inline"
   ]
  },
  {
   "cell_type": "code",
   "execution_count": 7,
   "id": "9b6ccf16-5d35-4f9d-8816-3631a5041292",
   "metadata": {},
   "outputs": [],
   "source": [
    "df = pd.read_csv('C:/Users/Jaesu/github_desktop/Dacon-Basic/전복-나이-예측/Data/train.csv')"
   ]
  },
  {
   "cell_type": "code",
   "execution_count": 12,
   "id": "9e7f05c3-443c-45f3-bf1b-0d18fb96f47d",
   "metadata": {},
   "outputs": [],
   "source": [
    "def NMAE(true, pred):\n",
    "    mae = np.mean(np.abs(true - pred))\n",
    "    score = mae / np.mean(np.abs(true))\n",
    "    return score"
   ]
  },
  {
   "cell_type": "code",
   "execution_count": 10,
   "id": "0f51d30f-0955-42e5-afd0-91bd44fce2db",
   "metadata": {},
   "outputs": [],
   "source": [
    "def drop_id(df: pd.DataFrame) -> None:\n",
    "    try:\n",
    "        df.drop('id', axis=1, inplace=True)\n",
    "    except:\n",
    "        pass"
   ]
  },
  {
   "cell_type": "code",
   "execution_count": null,
   "id": "24945c30-c396-4023-99e7-91d9cca1de87",
   "metadata": {},
   "outputs": [],
   "source": [
    "rst = smf.ols(formula = 'target~' + '+'.join(tmp.columns[:-1]), data = tmp).fit()\n",
    "# rst.summary()"
   ]
  },
  {
   "cell_type": "code",
   "execution_count": null,
   "id": "8249ba98-6529-4d87-8cb2-5ae152cf350d",
   "metadata": {},
   "outputs": [],
   "source": [
    "kfold = KFold(n_splits = 10, random_state = 22, shuffle = True)"
   ]
  },
  {
   "cell_type": "code",
   "execution_count": null,
   "id": "21a0127f-da3c-40e4-992c-0fe3e9019e2e",
   "metadata": {},
   "outputs": [],
   "source": [
    "cb_valid = []\n",
    "cb_predict = np.zeros(test.shape[0])\n",
    "\n",
    "for train_idx, valid_idx in kfold.split(dt_scaled_df, log_target):\n",
    "    x_train, y_train = dt_scaled_df.iloc[train_idx], log_target.iloc[train_idx]\n",
    "    x_valid, y_valid = dt_scaled_df.iloc[valid_idx], np.exp(log_target.iloc[valid_idx])\n",
    "    \n",
    "    cb = CatBoostRegressor(random_state = 222, learning_rate = 0.03, n_estimators = 500, depth = 3, loss_function = 'MAE', verbose = 0)\n",
    "    cb.fit(x_train, y_train)\n",
    "    y_predict = np.exp(cb.predict(x_valid)) ## valid셋 예측\n",
    "    test_predict = np.exp(cb.predict(test_scaled_df)) ## test셋 예측\n",
    "\n",
    "    cb_valid.append(NMAE(y_predict, y_valid)) ## valid 예측값\n",
    "    cb_predict += test_predict / 10 ## test 예측값(10 Fold)"
   ]
  }
 ],
 "metadata": {
  "kernelspec": {
   "display_name": "Python 3 (ipykernel)",
   "language": "python",
   "name": "python3"
  },
  "language_info": {
   "codemirror_mode": {
    "name": "ipython",
    "version": 3
   },
   "file_extension": ".py",
   "mimetype": "text/x-python",
   "name": "python",
   "nbconvert_exporter": "python",
   "pygments_lexer": "ipython3",
   "version": "3.8.11"
  }
 },
 "nbformat": 4,
 "nbformat_minor": 5
}
