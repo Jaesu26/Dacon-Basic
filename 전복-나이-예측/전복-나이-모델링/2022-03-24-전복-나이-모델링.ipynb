{
 "cells": [
  {
   "cell_type": "markdown",
   "id": "45f02521-9648-45ab-8ec8-cf73f95a94a0",
   "metadata": {},
   "source": [
    "# 전복 나이 예측 경진대회"
   ]
  },
  {
   "cell_type": "markdown",
   "id": "adcf68a2-f061-47e1-8113-cfc9c875d5f9",
   "metadata": {},
   "source": [
    "## 데이터 불러오기"
   ]
  },
  {
   "cell_type": "code",
   "execution_count": 1,
   "id": "0834e091-a0f8-478b-9d97-5f4800229880",
   "metadata": {},
   "outputs": [
    {
     "name": "stderr",
     "output_type": "stream",
     "text": [
      "C:\\anaconda3\\envs\\py38r40\\lib\\site-packages\\xgboost\\compat.py:36: FutureWarning: pandas.Int64Index is deprecated and will be removed from pandas in a future version. Use pandas.Index with the appropriate dtype instead.\n",
      "  from pandas import MultiIndex, Int64Index\n"
     ]
    }
   ],
   "source": [
    "import pandas as pd\n",
    "import numpy as np\n",
    "import seaborn as sns\n",
    "import matplotlib.pyplot as plt\n",
    "from sklearn.ensemble import RandomForestRegressor\n",
    "from xgboost import XGBRegressor \n",
    "from lightgbm import LGBMRegressor \n",
    "from catboost import CatBoostRegressor\n",
    "from sklearn.model_selection import cross_validate, StratifiedKFold, train_test_split\n",
    "import warnings\n",
    "\n",
    "warnings.filterwarnings('ignore')\n",
    "%matplotlib inline"
   ]
  },
  {
   "cell_type": "code",
   "execution_count": 15,
   "id": "9b6ccf16-5d35-4f9d-8816-3631a5041292",
   "metadata": {},
   "outputs": [],
   "source": [
    "df = pd.read_csv('C:/Users/Jaesu/github_desktop/Dacon-Basic/전복-나이-예측/Data/train.csv')\n",
    "test_ = pd.read_csv('C:/Users/Jaesu/github_desktop/Dacon-Basic/전복-나이-예측/Data/test.csv')"
   ]
  },
  {
   "cell_type": "code",
   "execution_count": 16,
   "id": "9e7f05c3-443c-45f3-bf1b-0d18fb96f47d",
   "metadata": {},
   "outputs": [],
   "source": [
    "def NMAE(true, pred):\n",
    "    mae = np.mean(np.abs(true - pred))\n",
    "    score = mae / np.mean(np.abs(true))\n",
    "    return score"
   ]
  },
  {
   "cell_type": "code",
   "execution_count": 17,
   "id": "0f51d30f-0955-42e5-afd0-91bd44fce2db",
   "metadata": {},
   "outputs": [],
   "source": [
    "def drop_id(df: pd.DataFrame) -> None:\n",
    "    try:\n",
    "        df.drop('id', axis=1, inplace=True)\n",
    "    except:\n",
    "        pass"
   ]
  },
  {
   "cell_type": "code",
   "execution_count": 18,
   "id": "77b0d647-ebc6-4523-82c4-72f6a5b553c2",
   "metadata": {},
   "outputs": [],
   "source": [
    "## 공백을 _(언더바)로 바꾼다\n",
    "def replace_column_blank2underbar(df: pd.DataFrame) -> None:\n",
    "    df.rename(columns = dict(zip(df.columns, [column.replace(' ', '_') for column in df.columns])), inplace=True) "
   ]
  },
  {
   "cell_type": "code",
   "execution_count": 19,
   "id": "2a867ead-76b8-4b2e-b98e-5534c9931bfd",
   "metadata": {},
   "outputs": [],
   "source": [
    "def split_train_target(df: pd.DataFrame, target: str, inplace=True) -> tuple:\n",
    "    Target = df[target]\n",
    "    train = df.drop(target, axis=1)\n",
    "    if inplace:\n",
    "        del df\n",
    "    \n",
    "    return train, Target"
   ]
  },
  {
   "cell_type": "code",
   "execution_count": 550,
   "id": "499a826c-78e8-4c5f-9333-cbdf98c5666c",
   "metadata": {},
   "outputs": [],
   "source": [
    "tmp = df.copy()\n",
    "test = test_.copy()"
   ]
  },
  {
   "cell_type": "code",
   "execution_count": 551,
   "id": "e5451e95-1348-474c-9dae-11b4aa37d51b",
   "metadata": {},
   "outputs": [],
   "source": [
    "drop_id(tmp)\n",
    "drop_id(test)"
   ]
  },
  {
   "cell_type": "code",
   "execution_count": 552,
   "id": "08b72441-4421-46f4-9e2c-7b7219027766",
   "metadata": {},
   "outputs": [],
   "source": [
    "replace_column_blank2underbar(tmp)\n",
    "replace_column_blank2underbar(test)"
   ]
  },
  {
   "cell_type": "code",
   "execution_count": 553,
   "id": "9b5269b4-0030-435f-abcd-929b4b48b089",
   "metadata": {},
   "outputs": [],
   "source": [
    "tmp['Gender'] = tmp['Gender'].map({'I':0, 'F':1, 'M':2})\n",
    "test['Gender'] = test['Gender'].map({'I':0, 'F':1, 'M':2})"
   ]
  },
  {
   "cell_type": "code",
   "execution_count": 554,
   "id": "444b1dee-d97b-43e2-9046-dcaf3e775fca",
   "metadata": {},
   "outputs": [],
   "source": [
    "tmp['Age'] = tmp['Target'].apply(lambda age: 'young' if age <= 15 else 'old') ## 오버샘플링을 위한 컬럼 "
   ]
  },
  {
   "cell_type": "code",
   "execution_count": 555,
   "id": "112d1284-e3f7-451e-9693-52c3b709708a",
   "metadata": {},
   "outputs": [],
   "source": [
    "tmp['Shell_Water'] = tmp['Whole_Weight'] - tmp['Shucked_Weight'] - tmp['Shell_Weight'] ## 전복이 머금은 물의 무게\n",
    "test['Shell_Water'] = test['Whole_Weight'] - test['Shucked_Weight'] - test['Shell_Weight']"
   ]
  },
  {
   "cell_type": "code",
   "execution_count": 556,
   "id": "cf53f795-63e5-46d3-b9cf-0b4088d5f27e",
   "metadata": {},
   "outputs": [],
   "source": [
    "tmp['Weight_Ratio'] =  tmp['Shucked_Weight'] / tmp['Whole_Weight'] ## 순수한 전복살 무게 / 전체 전복 무게\n",
    "test['Weight_Ratio'] =  test['Shucked_Weight'] / test['Whole_Weight'] "
   ]
  },
  {
   "cell_type": "code",
   "execution_count": 557,
   "id": "defea3f4-cfdf-45ac-b590-b04ef808d631",
   "metadata": {},
   "outputs": [],
   "source": [
    "π = 3.141592"
   ]
  },
  {
   "cell_type": "code",
   "execution_count": 558,
   "id": "c9a11fa8-255a-4ca8-9059-62085fa933b6",
   "metadata": {},
   "outputs": [],
   "source": [
    "tmp['Radius'] = ((tmp['Lenght'] / 2*π) + (tmp['Diameter'] / 2)) / 2 ## 전복의 평균 반지름\n",
    "test['Radius'] = ((test['Lenght'] / 2*π) + (test['Diameter'] / 2)) / 2"
   ]
  },
  {
   "cell_type": "code",
   "execution_count": 559,
   "id": "d0799042-8879-4de9-939d-27982ecff97e",
   "metadata": {},
   "outputs": [],
   "source": [
    "## 전복모양을 편의상 원이라고 가정 \n",
    "tmp['Density'] = tmp['Shucked_Weight'] / (3 * (tmp['Height'] * (tmp['Radius'] ** 2))) ## 순살 무게 / 면적(반지름^2 * 키 * 1/3)\n",
    "test['Density'] = test['Shucked_Weight'] / (3 * (test['Height'] * (test['Radius'] ** 2))) ## 순살 무게 / 면적(반지름^2 * 키 * 1/3)"
   ]
  },
  {
   "cell_type": "markdown",
   "id": "156e50ec-24cb-42f9-b2de-da5319f3296a",
   "metadata": {},
   "source": [
    "`-` 이상치 제거(전복 무게가 전복 내장 무게보다 작다, 물의 무게가 음수이다)"
   ]
  },
  {
   "cell_type": "code",
   "execution_count": 560,
   "id": "9fe8fa25-3c17-4ad0-bd36-979b36b61b7b",
   "metadata": {},
   "outputs": [],
   "source": [
    "tmp = tmp.drop(index=[47, 382, 435, 847, 1078, 465], axis=0)"
   ]
  },
  {
   "cell_type": "markdown",
   "id": "50a5cd6b-891f-4a38-b459-2bfed2e42924",
   "metadata": {},
   "source": [
    "`-` 15살이 넘는 전복 데이터를 over sampling"
   ]
  },
  {
   "cell_type": "code",
   "execution_count": 562,
   "id": "1d84494c-6ea6-4122-881d-9746c379a6ce",
   "metadata": {},
   "outputs": [],
   "source": [
    "tmp = tmp.append(tmp[tmp['Age'] == 'old']).reset_index().drop('index', axis=1)"
   ]
  },
  {
   "cell_type": "code",
   "execution_count": 563,
   "id": "079c5f22-a66a-4567-9682-6152539ee0df",
   "metadata": {},
   "outputs": [],
   "source": [
    "tmp.drop('Age', axis=1, inplace=True)"
   ]
  },
  {
   "cell_type": "markdown",
   "id": "e5536e60-1cd4-4127-8673-992e8614fed7",
   "metadata": {},
   "source": [
    "`-` 다중공선성 문제로 피쳐 드랍"
   ]
  },
  {
   "cell_type": "code",
   "execution_count": 564,
   "id": "7a074427-4b99-4268-a23b-440065ad72f9",
   "metadata": {},
   "outputs": [],
   "source": [
    "def custom_drop(df):\n",
    "    df.drop(['Lenght', 'Radius', 'Shucked_Weight'], axis=1, inplace=True)"
   ]
  },
  {
   "cell_type": "code",
   "execution_count": 565,
   "id": "39b253ca-31a1-483e-b134-465cc2dafcd6",
   "metadata": {},
   "outputs": [],
   "source": [
    "custom_drop(tmp)\n",
    "custom_drop(test)"
   ]
  },
  {
   "cell_type": "code",
   "execution_count": 566,
   "id": "3365a289-0b45-4b14-aef7-4b8f95b7629c",
   "metadata": {},
   "outputs": [],
   "source": [
    "tmp, target = split_train_target(tmp, 'Target')"
   ]
  },
  {
   "cell_type": "code",
   "execution_count": 479,
   "id": "c8057b8e-0e72-4f1b-ba68-d82eafa8909b",
   "metadata": {},
   "outputs": [],
   "source": [
    "skfold = StratifiedKFold(n_splits=5,  shuffle=True, random_state=22)"
   ]
  },
  {
   "cell_type": "code",
   "execution_count": 574,
   "id": "ec3a90e5-c757-483c-8d2a-37e0478cbb58",
   "metadata": {},
   "outputs": [],
   "source": [
    "xgb = XGBRegressor(random_state=22, learning_rate=0.03, n_estimators=600, max_depth=6)"
   ]
  },
  {
   "cell_type": "code",
   "execution_count": 585,
   "id": "eba0fc4e-c285-4383-8ad2-3b87d9ed8616",
   "metadata": {},
   "outputs": [],
   "source": [
    "lgbm = LGBMRegressor(random_state=22, learning_rate=0.05, n_estimators=600, max_depth=5)"
   ]
  },
  {
   "cell_type": "code",
   "execution_count": 589,
   "id": "fb4373e6-a96b-44f8-8d7d-b8b1991ee312",
   "metadata": {},
   "outputs": [],
   "source": [
    "cb = CatBoostRegressor(random_state=222, learning_rate=0.03, n_estimators=600, depth=6, loss_function='MAE', verbose=0)"
   ]
  },
  {
   "cell_type": "code",
   "execution_count": 576,
   "id": "497448f9-db70-48dc-9b9a-6c936922c4b2",
   "metadata": {},
   "outputs": [
    {
     "name": "stdout",
     "output_type": "stream",
     "text": [
      "1 Fold Training......\n",
      "NMAE : 0.1507\n",
      "\n",
      "2 Fold Training......\n",
      "NMAE : 0.1464\n",
      "\n",
      "3 Fold Training......\n",
      "NMAE : 0.1385\n",
      "\n",
      "4 Fold Training......\n",
      "NMAE : 0.1219\n",
      "\n",
      "5 Fold Training......\n",
      "NMAE : 0.1245\n",
      "\n",
      "Mean NMAE : 0.1364\n"
     ]
    }
   ],
   "source": [
    "xgb_valid = []\n",
    "xgb_predict = np.zeros(test.shape[0])\n",
    "\n",
    "for fold, (train_idx, valid_idx) in enumerate(skfold.split(tmp, tmp['Gender'])):\n",
    "    print(f'{fold + 1} Fold Training......')\n",
    "    x_train, y_train = tmp.iloc[train_idx], target.iloc[train_idx]\n",
    "    x_valid, y_valid = tmp.iloc[valid_idx], target.iloc[valid_idx]\n",
    "    xgb.fit(x_train, y_train)\n",
    "\n",
    "    y_predict = xgb.predict(x_valid) ## valid셋 예측\n",
    "    nmae = NMAE(y_predict, y_valid) ## valid nmae\n",
    "    \n",
    "    xgb_predict += xgb.predict(test) / skfold.n_splits ## test셋 예측\n",
    "    xgb_valid.append(nmae) ## valid nmae append\n",
    "    print(f'NMAE : {nmae:.4f}', end='\\n\\n')\n",
    "    \n",
    "print(f'Mean NMAE : {np.mean(xgb_valid):.4f}')"
   ]
  },
  {
   "cell_type": "code",
   "execution_count": 586,
   "id": "baa8cf78-d750-41e3-a511-2e52185b6cf5",
   "metadata": {},
   "outputs": [
    {
     "name": "stdout",
     "output_type": "stream",
     "text": [
      "1 Fold Training......\n",
      "NMAE : 0.1624\n",
      "\n",
      "2 Fold Training......\n",
      "NMAE : 0.1590\n",
      "\n",
      "3 Fold Training......\n",
      "NMAE : 0.1484\n",
      "\n",
      "4 Fold Training......\n",
      "NMAE : 0.1341\n",
      "\n",
      "5 Fold Training......\n",
      "NMAE : 0.1388\n",
      "\n",
      "Mean NMAE : 0.1485\n"
     ]
    }
   ],
   "source": [
    "lgbm_valid = []\n",
    "lgbm_predict = np.zeros(test.shape[0])\n",
    "\n",
    "for fold, (train_idx, valid_idx) in enumerate(skfold.split(tmp, tmp['Gender'])):\n",
    "    print(f'{fold + 1} Fold Training......')\n",
    "    x_train, y_train = tmp.iloc[train_idx], target.iloc[train_idx]\n",
    "    x_valid, y_valid = tmp.iloc[valid_idx], target.iloc[valid_idx]\n",
    "    lgbm.fit(x_train, y_train)\n",
    "\n",
    "    y_predict = lgbm.predict(x_valid) ## valid셋 예측\n",
    "    nmae = NMAE(y_predict, y_valid) ## valid nmae\n",
    "    \n",
    "    lgbm_predict += lgbm.predict(test) / skfold.n_splits ## test셋 예측\n",
    "    lgbm_valid.append(nmae) ## valid nmae append\n",
    "    print(f'NMAE : {nmae:.4f}', end='\\n\\n')\n",
    "    \n",
    "print(f'Mean NMAE : {np.mean(lgbm_valid):.4f}')"
   ]
  },
  {
   "cell_type": "code",
   "execution_count": 590,
   "id": "0e3166e5-5731-49b6-81d9-f70f342ed617",
   "metadata": {},
   "outputs": [
    {
     "name": "stdout",
     "output_type": "stream",
     "text": [
      "1 Fold Training......\n",
      "NMAE : 0.1552\n",
      "\n",
      "2 Fold Training......\n",
      "NMAE : 0.1637\n",
      "\n",
      "3 Fold Training......\n",
      "NMAE : 0.1596\n",
      "\n",
      "4 Fold Training......\n",
      "NMAE : 0.1455\n",
      "\n",
      "5 Fold Training......\n",
      "NMAE : 0.1460\n",
      "\n",
      "Mean NMAE : 0.1540\n"
     ]
    }
   ],
   "source": [
    "cb_valid = []\n",
    "cb_predict = np.zeros(test.shape[0])\n",
    "\n",
    "for fold, (train_idx, valid_idx) in enumerate(skfold.split(tmp, tmp['Gender'])):\n",
    "    print(f'{fold + 1} Fold Training......')\n",
    "    x_train, y_train = tmp.iloc[train_idx], target.iloc[train_idx]\n",
    "    x_valid, y_valid = tmp.iloc[valid_idx], target.iloc[valid_idx]\n",
    "    cb.fit(x_train, y_train)\n",
    "\n",
    "    y_predict = cb.predict(x_valid) ## valid셋 예측\n",
    "    nmae = NMAE(y_predict, y_valid) ## valid nmae\n",
    "    \n",
    "    cb_predict += cb.predict(test) / skfold.n_splits ## test셋 예측\n",
    "    cb_valid.append(nmae) ## valid nmae append\n",
    "    print(f'NMAE : {nmae:.4f}', end='\\n\\n')\n",
    "    \n",
    "print(f'Mean NMAE : {np.mean(cb_valid):.4f}')"
   ]
  },
  {
   "cell_type": "code",
   "execution_count": 587,
   "id": "92400715-a7e3-40ec-94bb-18f174ccb536",
   "metadata": {},
   "outputs": [],
   "source": [
    "submission = pd.read_csv('C:/Users/Jaesu/github_desktop/Dacon-Basic/전복-나이-예측/Data/sample_submission.csv')"
   ]
  },
  {
   "cell_type": "code",
   "execution_count": 591,
   "id": "36f26687-20e7-4b05-8412-728ae30c51e0",
   "metadata": {},
   "outputs": [],
   "source": [
    "pred = (xgb_predict + lgbm_predict + cb_predict) / 3"
   ]
  },
  {
   "cell_type": "code",
   "execution_count": 592,
   "id": "f5dffb9c-eacc-4c0b-9c39-ebed2ca4ebac",
   "metadata": {},
   "outputs": [
    {
     "data": {
      "text/html": [
       "<div>\n",
       "<style scoped>\n",
       "    .dataframe tbody tr th:only-of-type {\n",
       "        vertical-align: middle;\n",
       "    }\n",
       "\n",
       "    .dataframe tbody tr th {\n",
       "        vertical-align: top;\n",
       "    }\n",
       "\n",
       "    .dataframe thead th {\n",
       "        text-align: right;\n",
       "    }\n",
       "</style>\n",
       "<table border=\"1\" class=\"dataframe\">\n",
       "  <thead>\n",
       "    <tr style=\"text-align: right;\">\n",
       "      <th></th>\n",
       "      <th>id</th>\n",
       "      <th>Target</th>\n",
       "    </tr>\n",
       "  </thead>\n",
       "  <tbody>\n",
       "    <tr>\n",
       "      <th>0</th>\n",
       "      <td>1</td>\n",
       "      <td>12.0</td>\n",
       "    </tr>\n",
       "    <tr>\n",
       "      <th>1</th>\n",
       "      <td>2</td>\n",
       "      <td>13.0</td>\n",
       "    </tr>\n",
       "    <tr>\n",
       "      <th>2</th>\n",
       "      <td>3</td>\n",
       "      <td>5.0</td>\n",
       "    </tr>\n",
       "    <tr>\n",
       "      <th>3</th>\n",
       "      <td>4</td>\n",
       "      <td>11.0</td>\n",
       "    </tr>\n",
       "    <tr>\n",
       "      <th>4</th>\n",
       "      <td>5</td>\n",
       "      <td>10.0</td>\n",
       "    </tr>\n",
       "  </tbody>\n",
       "</table>\n",
       "</div>"
      ],
      "text/plain": [
       "   id  Target\n",
       "0   1    12.0\n",
       "1   2    13.0\n",
       "2   3     5.0\n",
       "3   4    11.0\n",
       "4   5    10.0"
      ]
     },
     "execution_count": 592,
     "metadata": {},
     "output_type": "execute_result"
    }
   ],
   "source": [
    "submission['Target'] = np.round(pred)\n",
    "submission.head()"
   ]
  },
  {
   "cell_type": "code",
   "execution_count": 596,
   "id": "27a9b66d-98b5-48f0-9abc-c2b414c7c31e",
   "metadata": {},
   "outputs": [],
   "source": [
    "submission.to_csv('C:/Users/Jaesu/github_desktop/Dacon-Basic/전복-나이-예측/Data/submission_round.csv', index=False)"
   ]
  },
  {
   "cell_type": "code",
   "execution_count": null,
   "id": "2e30b21d-784e-4354-a83b-a2e1555d6438",
   "metadata": {},
   "outputs": [],
   "source": []
  }
 ],
 "metadata": {
  "kernelspec": {
   "display_name": "Python 3 (ipykernel)",
   "language": "python",
   "name": "python3"
  },
  "language_info": {
   "codemirror_mode": {
    "name": "ipython",
    "version": 3
   },
   "file_extension": ".py",
   "mimetype": "text/x-python",
   "name": "python",
   "nbconvert_exporter": "python",
   "pygments_lexer": "ipython3",
   "version": "3.8.11"
  }
 },
 "nbformat": 4,
 "nbformat_minor": 5
}
