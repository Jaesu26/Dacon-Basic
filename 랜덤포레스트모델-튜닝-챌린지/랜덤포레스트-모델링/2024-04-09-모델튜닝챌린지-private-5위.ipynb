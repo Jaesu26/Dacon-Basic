{
  "cells": [
    {
      "cell_type": "markdown",
      "metadata": {
        "id": "view-in-github",
        "colab_type": "text"
      },
      "source": [
        "<a href=\"https://colab.research.google.com/github/Jaesu26/dacon-temp/blob/main/2024-04-08-%EB%AA%A8%EB%8D%B8-%ED%8A%9C%EB%8B%9D-%EC%B1%8C%EB%A6%B0%EC%A7%80.ipynb\" target=\"_parent\"><img src=\"https://colab.research.google.com/assets/colab-badge.svg\" alt=\"Open In Colab\"/></a>"
      ]
    },
    {
      "cell_type": "markdown",
      "metadata": {
        "id": "75xRhMA-ZZ4g"
      },
      "source": [
        "# 모델 튜닝 챌린지"
      ]
    },
    {
      "cell_type": "code",
      "source": [
        "!pip install optuna"
      ],
      "metadata": {
        "colab": {
          "base_uri": "https://localhost:8080/"
        },
        "id": "6GoZiStGh0LI",
        "outputId": "25f3b0ee-7b11-4c70-f042-44d4577e7f2b"
      },
      "execution_count": 1,
      "outputs": [
        {
          "output_type": "stream",
          "name": "stdout",
          "text": [
            "Collecting optuna\n",
            "  Downloading optuna-3.6.1-py3-none-any.whl (380 kB)\n",
            "\u001b[2K     \u001b[90m━━━━━━━━━━━━━━━━━━━━━━━━━━━━━━━━━━━━━━━━\u001b[0m \u001b[32m380.1/380.1 kB\u001b[0m \u001b[31m6.3 MB/s\u001b[0m eta \u001b[36m0:00:00\u001b[0m\n",
            "\u001b[?25hCollecting alembic>=1.5.0 (from optuna)\n",
            "  Downloading alembic-1.13.1-py3-none-any.whl (233 kB)\n",
            "\u001b[2K     \u001b[90m━━━━━━━━━━━━━━━━━━━━━━━━━━━━━━━━━━━━━━━━\u001b[0m \u001b[32m233.4/233.4 kB\u001b[0m \u001b[31m29.1 MB/s\u001b[0m eta \u001b[36m0:00:00\u001b[0m\n",
            "\u001b[?25hCollecting colorlog (from optuna)\n",
            "  Downloading colorlog-6.8.2-py3-none-any.whl (11 kB)\n",
            "Requirement already satisfied: numpy in /usr/local/lib/python3.10/dist-packages (from optuna) (1.25.2)\n",
            "Requirement already satisfied: packaging>=20.0 in /usr/local/lib/python3.10/dist-packages (from optuna) (24.0)\n",
            "Requirement already satisfied: sqlalchemy>=1.3.0 in /usr/local/lib/python3.10/dist-packages (from optuna) (2.0.29)\n",
            "Requirement already satisfied: tqdm in /usr/local/lib/python3.10/dist-packages (from optuna) (4.66.2)\n",
            "Requirement already satisfied: PyYAML in /usr/local/lib/python3.10/dist-packages (from optuna) (6.0.1)\n",
            "Collecting Mako (from alembic>=1.5.0->optuna)\n",
            "  Downloading Mako-1.3.2-py3-none-any.whl (78 kB)\n",
            "\u001b[2K     \u001b[90m━━━━━━━━━━━━━━━━━━━━━━━━━━━━━━━━━━━━━━━━\u001b[0m \u001b[32m78.7/78.7 kB\u001b[0m \u001b[31m10.0 MB/s\u001b[0m eta \u001b[36m0:00:00\u001b[0m\n",
            "\u001b[?25hRequirement already satisfied: typing-extensions>=4 in /usr/local/lib/python3.10/dist-packages (from alembic>=1.5.0->optuna) (4.10.0)\n",
            "Requirement already satisfied: greenlet!=0.4.17 in /usr/local/lib/python3.10/dist-packages (from sqlalchemy>=1.3.0->optuna) (3.0.3)\n",
            "Requirement already satisfied: MarkupSafe>=0.9.2 in /usr/local/lib/python3.10/dist-packages (from Mako->alembic>=1.5.0->optuna) (2.1.5)\n",
            "Installing collected packages: Mako, colorlog, alembic, optuna\n",
            "Successfully installed Mako-1.3.2 alembic-1.13.1 colorlog-6.8.2 optuna-3.6.1\n"
          ]
        }
      ]
    },
    {
      "cell_type": "markdown",
      "metadata": {
        "id": "68xM6jF0ZchA"
      },
      "source": [
        "## 데이터 불러오기"
      ]
    },
    {
      "cell_type": "code",
      "execution_count": 239,
      "metadata": {
        "id": "zJnLWFhmMGG4"
      },
      "outputs": [],
      "source": [
        "import os\n",
        "import random\n",
        "import warnings\n",
        "\n",
        "import matplotlib.pyplot as plt\n",
        "import numpy as np\n",
        "import optuna\n",
        "import pandas as pd\n",
        "import seaborn as sns\n",
        "from sklearn.ensemble import RandomForestClassifier\n",
        "from sklearn.model_selection import cross_val_score, StratifiedKFold\n",
        "\n",
        "warnings.filterwarnings(\"ignore\")"
      ]
    },
    {
      "cell_type": "code",
      "execution_count": 3,
      "metadata": {
        "colab": {
          "base_uri": "https://localhost:8080/"
        },
        "id": "GjvmmVOVMW_P",
        "outputId": "89c710b4-a098-4c8c-d2e7-2eaf23951110"
      },
      "outputs": [
        {
          "output_type": "stream",
          "name": "stdout",
          "text": [
            "Mounted at /content/drive\n"
          ]
        }
      ],
      "source": [
        "from google.colab import drive\n",
        "\n",
        "drive.mount(\"/content/drive\")  # 구글코랩과 구글드라이브 연결"
      ]
    },
    {
      "cell_type": "code",
      "source": [
        "%cd /content/drive/MyDrive/Colab Notebooks/모델-튜닝-챌린지"
      ],
      "metadata": {
        "colab": {
          "base_uri": "https://localhost:8080/"
        },
        "id": "vcJwBS1jt4J2",
        "outputId": "4a1a8fa8-25d5-4cb9-a757-f258997ff21d"
      },
      "execution_count": 4,
      "outputs": [
        {
          "output_type": "stream",
          "name": "stdout",
          "text": [
            "/content/drive/MyDrive/Colab Notebooks/모델-튜닝-챌린지\n"
          ]
        }
      ]
    },
    {
      "cell_type": "markdown",
      "metadata": {
        "id": "MRrJ4A5RKC4B"
      },
      "source": [
        "- 데이터 불러오기"
      ]
    },
    {
      "cell_type": "code",
      "source": [
        "df = pd.read_csv(\"./data/train.csv\")\n",
        "submission = pd.read_csv(\"./data/sample_submission.csv\")"
      ],
      "metadata": {
        "id": "N7JdJZofCXED"
      },
      "execution_count": 203,
      "outputs": []
    },
    {
      "cell_type": "code",
      "source": [
        "df.head(2)"
      ],
      "metadata": {
        "colab": {
          "base_uri": "https://localhost:8080/",
          "height": 112
        },
        "id": "M_Lrz6VbNwWt",
        "outputId": "d16138b6-2529-485e-f770-c1123b5f15ec"
      },
      "execution_count": 204,
      "outputs": [
        {
          "output_type": "execute_result",
          "data": {
            "text/plain": [
              "   person_id  Sex  past_login_total  past_1_month_login  past_1_week_login  \\\n",
              "0          0    0               3.0                 1.0                1.0   \n",
              "1          1    1             111.0                26.0                7.0   \n",
              "\n",
              "   sub_size  email_type  phone_rat  apple_rat  login  \n",
              "0       0.0           0   0.000000        0.0      1  \n",
              "1       2.0           0   0.072072        0.0      1  "
            ],
            "text/html": [
              "\n",
              "  <div id=\"df-ee735f0d-f0c1-4e27-af2e-aac089b7070d\" class=\"colab-df-container\">\n",
              "    <div>\n",
              "<style scoped>\n",
              "    .dataframe tbody tr th:only-of-type {\n",
              "        vertical-align: middle;\n",
              "    }\n",
              "\n",
              "    .dataframe tbody tr th {\n",
              "        vertical-align: top;\n",
              "    }\n",
              "\n",
              "    .dataframe thead th {\n",
              "        text-align: right;\n",
              "    }\n",
              "</style>\n",
              "<table border=\"1\" class=\"dataframe\">\n",
              "  <thead>\n",
              "    <tr style=\"text-align: right;\">\n",
              "      <th></th>\n",
              "      <th>person_id</th>\n",
              "      <th>Sex</th>\n",
              "      <th>past_login_total</th>\n",
              "      <th>past_1_month_login</th>\n",
              "      <th>past_1_week_login</th>\n",
              "      <th>sub_size</th>\n",
              "      <th>email_type</th>\n",
              "      <th>phone_rat</th>\n",
              "      <th>apple_rat</th>\n",
              "      <th>login</th>\n",
              "    </tr>\n",
              "  </thead>\n",
              "  <tbody>\n",
              "    <tr>\n",
              "      <th>0</th>\n",
              "      <td>0</td>\n",
              "      <td>0</td>\n",
              "      <td>3.0</td>\n",
              "      <td>1.0</td>\n",
              "      <td>1.0</td>\n",
              "      <td>0.0</td>\n",
              "      <td>0</td>\n",
              "      <td>0.000000</td>\n",
              "      <td>0.0</td>\n",
              "      <td>1</td>\n",
              "    </tr>\n",
              "    <tr>\n",
              "      <th>1</th>\n",
              "      <td>1</td>\n",
              "      <td>1</td>\n",
              "      <td>111.0</td>\n",
              "      <td>26.0</td>\n",
              "      <td>7.0</td>\n",
              "      <td>2.0</td>\n",
              "      <td>0</td>\n",
              "      <td>0.072072</td>\n",
              "      <td>0.0</td>\n",
              "      <td>1</td>\n",
              "    </tr>\n",
              "  </tbody>\n",
              "</table>\n",
              "</div>\n",
              "    <div class=\"colab-df-buttons\">\n",
              "\n",
              "  <div class=\"colab-df-container\">\n",
              "    <button class=\"colab-df-convert\" onclick=\"convertToInteractive('df-ee735f0d-f0c1-4e27-af2e-aac089b7070d')\"\n",
              "            title=\"Convert this dataframe to an interactive table.\"\n",
              "            style=\"display:none;\">\n",
              "\n",
              "  <svg xmlns=\"http://www.w3.org/2000/svg\" height=\"24px\" viewBox=\"0 -960 960 960\">\n",
              "    <path d=\"M120-120v-720h720v720H120Zm60-500h600v-160H180v160Zm220 220h160v-160H400v160Zm0 220h160v-160H400v160ZM180-400h160v-160H180v160Zm440 0h160v-160H620v160ZM180-180h160v-160H180v160Zm440 0h160v-160H620v160Z\"/>\n",
              "  </svg>\n",
              "    </button>\n",
              "\n",
              "  <style>\n",
              "    .colab-df-container {\n",
              "      display:flex;\n",
              "      gap: 12px;\n",
              "    }\n",
              "\n",
              "    .colab-df-convert {\n",
              "      background-color: #E8F0FE;\n",
              "      border: none;\n",
              "      border-radius: 50%;\n",
              "      cursor: pointer;\n",
              "      display: none;\n",
              "      fill: #1967D2;\n",
              "      height: 32px;\n",
              "      padding: 0 0 0 0;\n",
              "      width: 32px;\n",
              "    }\n",
              "\n",
              "    .colab-df-convert:hover {\n",
              "      background-color: #E2EBFA;\n",
              "      box-shadow: 0px 1px 2px rgba(60, 64, 67, 0.3), 0px 1px 3px 1px rgba(60, 64, 67, 0.15);\n",
              "      fill: #174EA6;\n",
              "    }\n",
              "\n",
              "    .colab-df-buttons div {\n",
              "      margin-bottom: 4px;\n",
              "    }\n",
              "\n",
              "    [theme=dark] .colab-df-convert {\n",
              "      background-color: #3B4455;\n",
              "      fill: #D2E3FC;\n",
              "    }\n",
              "\n",
              "    [theme=dark] .colab-df-convert:hover {\n",
              "      background-color: #434B5C;\n",
              "      box-shadow: 0px 1px 3px 1px rgba(0, 0, 0, 0.15);\n",
              "      filter: drop-shadow(0px 1px 2px rgba(0, 0, 0, 0.3));\n",
              "      fill: #FFFFFF;\n",
              "    }\n",
              "  </style>\n",
              "\n",
              "    <script>\n",
              "      const buttonEl =\n",
              "        document.querySelector('#df-ee735f0d-f0c1-4e27-af2e-aac089b7070d button.colab-df-convert');\n",
              "      buttonEl.style.display =\n",
              "        google.colab.kernel.accessAllowed ? 'block' : 'none';\n",
              "\n",
              "      async function convertToInteractive(key) {\n",
              "        const element = document.querySelector('#df-ee735f0d-f0c1-4e27-af2e-aac089b7070d');\n",
              "        const dataTable =\n",
              "          await google.colab.kernel.invokeFunction('convertToInteractive',\n",
              "                                                    [key], {});\n",
              "        if (!dataTable) return;\n",
              "\n",
              "        const docLinkHtml = 'Like what you see? Visit the ' +\n",
              "          '<a target=\"_blank\" href=https://colab.research.google.com/notebooks/data_table.ipynb>data table notebook</a>'\n",
              "          + ' to learn more about interactive tables.';\n",
              "        element.innerHTML = '';\n",
              "        dataTable['output_type'] = 'display_data';\n",
              "        await google.colab.output.renderOutput(dataTable, element);\n",
              "        const docLink = document.createElement('div');\n",
              "        docLink.innerHTML = docLinkHtml;\n",
              "        element.appendChild(docLink);\n",
              "      }\n",
              "    </script>\n",
              "  </div>\n",
              "\n",
              "\n",
              "<div id=\"df-2ab42975-4c03-4648-a57f-30d302ccbd8f\">\n",
              "  <button class=\"colab-df-quickchart\" onclick=\"quickchart('df-2ab42975-4c03-4648-a57f-30d302ccbd8f')\"\n",
              "            title=\"Suggest charts\"\n",
              "            style=\"display:none;\">\n",
              "\n",
              "<svg xmlns=\"http://www.w3.org/2000/svg\" height=\"24px\"viewBox=\"0 0 24 24\"\n",
              "     width=\"24px\">\n",
              "    <g>\n",
              "        <path d=\"M19 3H5c-1.1 0-2 .9-2 2v14c0 1.1.9 2 2 2h14c1.1 0 2-.9 2-2V5c0-1.1-.9-2-2-2zM9 17H7v-7h2v7zm4 0h-2V7h2v10zm4 0h-2v-4h2v4z\"/>\n",
              "    </g>\n",
              "</svg>\n",
              "  </button>\n",
              "\n",
              "<style>\n",
              "  .colab-df-quickchart {\n",
              "      --bg-color: #E8F0FE;\n",
              "      --fill-color: #1967D2;\n",
              "      --hover-bg-color: #E2EBFA;\n",
              "      --hover-fill-color: #174EA6;\n",
              "      --disabled-fill-color: #AAA;\n",
              "      --disabled-bg-color: #DDD;\n",
              "  }\n",
              "\n",
              "  [theme=dark] .colab-df-quickchart {\n",
              "      --bg-color: #3B4455;\n",
              "      --fill-color: #D2E3FC;\n",
              "      --hover-bg-color: #434B5C;\n",
              "      --hover-fill-color: #FFFFFF;\n",
              "      --disabled-bg-color: #3B4455;\n",
              "      --disabled-fill-color: #666;\n",
              "  }\n",
              "\n",
              "  .colab-df-quickchart {\n",
              "    background-color: var(--bg-color);\n",
              "    border: none;\n",
              "    border-radius: 50%;\n",
              "    cursor: pointer;\n",
              "    display: none;\n",
              "    fill: var(--fill-color);\n",
              "    height: 32px;\n",
              "    padding: 0;\n",
              "    width: 32px;\n",
              "  }\n",
              "\n",
              "  .colab-df-quickchart:hover {\n",
              "    background-color: var(--hover-bg-color);\n",
              "    box-shadow: 0 1px 2px rgba(60, 64, 67, 0.3), 0 1px 3px 1px rgba(60, 64, 67, 0.15);\n",
              "    fill: var(--button-hover-fill-color);\n",
              "  }\n",
              "\n",
              "  .colab-df-quickchart-complete:disabled,\n",
              "  .colab-df-quickchart-complete:disabled:hover {\n",
              "    background-color: var(--disabled-bg-color);\n",
              "    fill: var(--disabled-fill-color);\n",
              "    box-shadow: none;\n",
              "  }\n",
              "\n",
              "  .colab-df-spinner {\n",
              "    border: 2px solid var(--fill-color);\n",
              "    border-color: transparent;\n",
              "    border-bottom-color: var(--fill-color);\n",
              "    animation:\n",
              "      spin 1s steps(1) infinite;\n",
              "  }\n",
              "\n",
              "  @keyframes spin {\n",
              "    0% {\n",
              "      border-color: transparent;\n",
              "      border-bottom-color: var(--fill-color);\n",
              "      border-left-color: var(--fill-color);\n",
              "    }\n",
              "    20% {\n",
              "      border-color: transparent;\n",
              "      border-left-color: var(--fill-color);\n",
              "      border-top-color: var(--fill-color);\n",
              "    }\n",
              "    30% {\n",
              "      border-color: transparent;\n",
              "      border-left-color: var(--fill-color);\n",
              "      border-top-color: var(--fill-color);\n",
              "      border-right-color: var(--fill-color);\n",
              "    }\n",
              "    40% {\n",
              "      border-color: transparent;\n",
              "      border-right-color: var(--fill-color);\n",
              "      border-top-color: var(--fill-color);\n",
              "    }\n",
              "    60% {\n",
              "      border-color: transparent;\n",
              "      border-right-color: var(--fill-color);\n",
              "    }\n",
              "    80% {\n",
              "      border-color: transparent;\n",
              "      border-right-color: var(--fill-color);\n",
              "      border-bottom-color: var(--fill-color);\n",
              "    }\n",
              "    90% {\n",
              "      border-color: transparent;\n",
              "      border-bottom-color: var(--fill-color);\n",
              "    }\n",
              "  }\n",
              "</style>\n",
              "\n",
              "  <script>\n",
              "    async function quickchart(key) {\n",
              "      const quickchartButtonEl =\n",
              "        document.querySelector('#' + key + ' button');\n",
              "      quickchartButtonEl.disabled = true;  // To prevent multiple clicks.\n",
              "      quickchartButtonEl.classList.add('colab-df-spinner');\n",
              "      try {\n",
              "        const charts = await google.colab.kernel.invokeFunction(\n",
              "            'suggestCharts', [key], {});\n",
              "      } catch (error) {\n",
              "        console.error('Error during call to suggestCharts:', error);\n",
              "      }\n",
              "      quickchartButtonEl.classList.remove('colab-df-spinner');\n",
              "      quickchartButtonEl.classList.add('colab-df-quickchart-complete');\n",
              "    }\n",
              "    (() => {\n",
              "      let quickchartButtonEl =\n",
              "        document.querySelector('#df-2ab42975-4c03-4648-a57f-30d302ccbd8f button');\n",
              "      quickchartButtonEl.style.display =\n",
              "        google.colab.kernel.accessAllowed ? 'block' : 'none';\n",
              "    })();\n",
              "  </script>\n",
              "</div>\n",
              "\n",
              "    </div>\n",
              "  </div>\n"
            ],
            "application/vnd.google.colaboratory.intrinsic+json": {
              "type": "dataframe",
              "variable_name": "df",
              "summary": "{\n  \"name\": \"df\",\n  \"rows\": 1309,\n  \"fields\": [\n    {\n      \"column\": \"person_id\",\n      \"properties\": {\n        \"dtype\": \"number\",\n        \"std\": 629,\n        \"min\": 0,\n        \"max\": 2182,\n        \"num_unique_values\": 1309,\n        \"samples\": [\n          1911,\n          1737,\n          1635\n        ],\n        \"semantic_type\": \"\",\n        \"description\": \"\"\n      }\n    },\n    {\n      \"column\": \"Sex\",\n      \"properties\": {\n        \"dtype\": \"number\",\n        \"std\": 0,\n        \"min\": 0,\n        \"max\": 1,\n        \"num_unique_values\": 2,\n        \"samples\": [\n          1,\n          0\n        ],\n        \"semantic_type\": \"\",\n        \"description\": \"\"\n      }\n    },\n    {\n      \"column\": \"past_login_total\",\n      \"properties\": {\n        \"dtype\": \"number\",\n        \"std\": 21.813773158619597,\n        \"min\": 0.0,\n        \"max\": 503.0,\n        \"num_unique_values\": 69,\n        \"samples\": [\n          45.0,\n          3.0\n        ],\n        \"semantic_type\": \"\",\n        \"description\": \"\"\n      }\n    },\n    {\n      \"column\": \"past_1_month_login\",\n      \"properties\": {\n        \"dtype\": \"number\",\n        \"std\": 3.3091684884533716,\n        \"min\": 0.0,\n        \"max\": 93.0,\n        \"num_unique_values\": 21,\n        \"samples\": [\n          1.0,\n          29.0\n        ],\n        \"semantic_type\": \"\",\n        \"description\": \"\"\n      }\n    },\n    {\n      \"column\": \"past_1_week_login\",\n      \"properties\": {\n        \"dtype\": \"number\",\n        \"std\": 1.2338565374239336,\n        \"min\": 0.0,\n        \"max\": 23.0,\n        \"num_unique_values\": 13,\n        \"samples\": [\n          23.0,\n          9.0\n        ],\n        \"semantic_type\": \"\",\n        \"description\": \"\"\n      }\n    },\n    {\n      \"column\": \"sub_size\",\n      \"properties\": {\n        \"dtype\": \"number\",\n        \"std\": 17.787903382781302,\n        \"min\": 0.0,\n        \"max\": 358.0,\n        \"num_unique_values\": 57,\n        \"samples\": [\n          0.0,\n          9.0\n        ],\n        \"semantic_type\": \"\",\n        \"description\": \"\"\n      }\n    },\n    {\n      \"column\": \"email_type\",\n      \"properties\": {\n        \"dtype\": \"number\",\n        \"std\": 0,\n        \"min\": 0,\n        \"max\": 4,\n        \"num_unique_values\": 5,\n        \"samples\": [\n          2,\n          3\n        ],\n        \"semantic_type\": \"\",\n        \"description\": \"\"\n      }\n    },\n    {\n      \"column\": \"phone_rat\",\n      \"properties\": {\n        \"dtype\": \"number\",\n        \"std\": 0.3077918649377146,\n        \"min\": 0.0,\n        \"max\": 1.0,\n        \"num_unique_values\": 85,\n        \"samples\": [\n          0.55,\n          0.0\n        ],\n        \"semantic_type\": \"\",\n        \"description\": \"\"\n      }\n    },\n    {\n      \"column\": \"apple_rat\",\n      \"properties\": {\n        \"dtype\": \"number\",\n        \"std\": 0.40482121610254,\n        \"min\": 0.0,\n        \"max\": 1.0,\n        \"num_unique_values\": 61,\n        \"samples\": [\n          0.0,\n          0.5\n        ],\n        \"semantic_type\": \"\",\n        \"description\": \"\"\n      }\n    },\n    {\n      \"column\": \"login\",\n      \"properties\": {\n        \"dtype\": \"number\",\n        \"std\": 0,\n        \"min\": 0,\n        \"max\": 1,\n        \"num_unique_values\": 2,\n        \"samples\": [\n          0,\n          1\n        ],\n        \"semantic_type\": \"\",\n        \"description\": \"\"\n      }\n    }\n  ]\n}"
            }
          },
          "metadata": {},
          "execution_count": 204
        }
      ]
    },
    {
      "cell_type": "code",
      "source": [
        "df[\"login\"].mean()"
      ],
      "metadata": {
        "colab": {
          "base_uri": "https://localhost:8080/"
        },
        "id": "Y3-kL4hnHslN",
        "outputId": "c1cf1288-b796-48d4-8a5b-6540601713f0"
      },
      "execution_count": 205,
      "outputs": [
        {
          "output_type": "execute_result",
          "data": {
            "text/plain": [
              "0.11153552330022919"
            ]
          },
          "metadata": {},
          "execution_count": 205
        }
      ]
    },
    {
      "cell_type": "markdown",
      "source": [
        "`-` 로그인을 한 유저는 전체의 약 11% 이다"
      ],
      "metadata": {
        "id": "ryZnit1JKZQs"
      }
    },
    {
      "cell_type": "markdown",
      "source": [
        "## 시각화"
      ],
      "metadata": {
        "id": "9Ok7E4iS7x1G"
      }
    },
    {
      "cell_type": "code",
      "source": [
        "sns.boxplot(data=df, x=\"person_id\", hue=\"login\")"
      ],
      "metadata": {
        "colab": {
          "base_uri": "https://localhost:8080/",
          "height": 468
        },
        "id": "yL-yVvXP7zIG",
        "outputId": "76d2df40-c630-4c09-c9c3-368778860772"
      },
      "execution_count": 236,
      "outputs": [
        {
          "output_type": "execute_result",
          "data": {
            "text/plain": [
              "<Axes: xlabel='person_id'>"
            ]
          },
          "metadata": {},
          "execution_count": 236
        },
        {
          "output_type": "display_data",
          "data": {
            "text/plain": [
              "<Figure size 640x480 with 1 Axes>"
            ],
            "image/png": "[encoded data removed]"
          },
          "metadata": {}
        }
      ]
    },
    {
      "cell_type": "code",
      "source": [
        "sns.histplot(data=df, hue=\"login\", x=\"person_id\", binwidth=50)"
      ],
      "metadata": {
        "colab": {
          "base_uri": "https://localhost:8080/",
          "height": 468
        },
        "id": "Ay3Y_7Uj8fRg",
        "outputId": "3521b81c-eec0-4304-e6b5-6c5b6f84e80b"
      },
      "execution_count": 209,
      "outputs": [
        {
          "output_type": "execute_result",
          "data": {
            "text/plain": [
              "<Axes: xlabel='person_id', ylabel='Count'>"
            ]
          },
          "metadata": {},
          "execution_count": 209
        },
        {
          "output_type": "display_data",
          "data": {
            "text/plain": [
              "<Figure size 640x480 with 1 Axes>"
            ],
            "image/png": "[encoded data removed]"
          },
          "metadata": {}
        }
      ]
    },
    {
      "cell_type": "markdown",
      "source": [
        "`-` 유저별 고유 아이디가 로그인 여부와 상관있어 보인다\n",
        "\n",
        "`-` 로그인을 한 유저의 고유 아이디는 작은 쪽에 몰려있다\n",
        "\n",
        "`-` 일반적으로 생각하기에 고유 아이디는 무작위성을 가진 변수로 로그인 여부와 관련이 있다고 불 수 없다\n",
        "\n",
        "`-` 위와 같은 결과가 나온 이유는 우연이거나 고유 아이디가 무작위로 부여되지 않았기 때문일 것이다\n",
        "\n",
        "`-` 만약 고유 아이디를 부여할 때 액티브 유저에게 우선적으로 번호를 배정했다면 고유 아이디가 작을 수록 로그인을 할 확률이 높으므로 위와 같은 결과가 나오는 것이 합리적이다\n",
        "\n",
        "`-` 하지만 다른 변수를 고려하면 그렇지 않은 것 같다"
      ],
      "metadata": {
        "id": "A3kWSLTN75nA"
      }
    },
    {
      "cell_type": "code",
      "source": [
        "df.query(\"person_id == 0\")"
      ],
      "metadata": {
        "colab": {
          "base_uri": "https://localhost:8080/",
          "height": 81
        },
        "id": "-bh_jU3wGTTm",
        "outputId": "415dafdb-10c2-4142-8a7c-593d3b1a2ab1"
      },
      "execution_count": 214,
      "outputs": [
        {
          "output_type": "execute_result",
          "data": {
            "text/plain": [
              "   person_id  Sex  past_login_total  past_1_month_login  past_1_week_login  \\\n",
              "0          0    0               3.0                 1.0                1.0   \n",
              "\n",
              "   sub_size  email_type  phone_rat  apple_rat  login  \n",
              "0       0.0           0        0.0        0.0      1  "
            ],
            "text/html": [
              "\n",
              "  <div id=\"df-7b506423-b3ac-4f6a-ae13-7287c11362f9\" class=\"colab-df-container\">\n",
              "    <div>\n",
              "<style scoped>\n",
              "    .dataframe tbody tr th:only-of-type {\n",
              "        vertical-align: middle;\n",
              "    }\n",
              "\n",
              "    .dataframe tbody tr th {\n",
              "        vertical-align: top;\n",
              "    }\n",
              "\n",
              "    .dataframe thead th {\n",
              "        text-align: right;\n",
              "    }\n",
              "</style>\n",
              "<table border=\"1\" class=\"dataframe\">\n",
              "  <thead>\n",
              "    <tr style=\"text-align: right;\">\n",
              "      <th></th>\n",
              "      <th>person_id</th>\n",
              "      <th>Sex</th>\n",
              "      <th>past_login_total</th>\n",
              "      <th>past_1_month_login</th>\n",
              "      <th>past_1_week_login</th>\n",
              "      <th>sub_size</th>\n",
              "      <th>email_type</th>\n",
              "      <th>phone_rat</th>\n",
              "      <th>apple_rat</th>\n",
              "      <th>login</th>\n",
              "    </tr>\n",
              "  </thead>\n",
              "  <tbody>\n",
              "    <tr>\n",
              "      <th>0</th>\n",
              "      <td>0</td>\n",
              "      <td>0</td>\n",
              "      <td>3.0</td>\n",
              "      <td>1.0</td>\n",
              "      <td>1.0</td>\n",
              "      <td>0.0</td>\n",
              "      <td>0</td>\n",
              "      <td>0.0</td>\n",
              "      <td>0.0</td>\n",
              "      <td>1</td>\n",
              "    </tr>\n",
              "  </tbody>\n",
              "</table>\n",
              "</div>\n",
              "    <div class=\"colab-df-buttons\">\n",
              "\n",
              "  <div class=\"colab-df-container\">\n",
              "    <button class=\"colab-df-convert\" onclick=\"convertToInteractive('df-7b506423-b3ac-4f6a-ae13-7287c11362f9')\"\n",
              "            title=\"Convert this dataframe to an interactive table.\"\n",
              "            style=\"display:none;\">\n",
              "\n",
              "  <svg xmlns=\"http://www.w3.org/2000/svg\" height=\"24px\" viewBox=\"0 -960 960 960\">\n",
              "    <path d=\"M120-120v-720h720v720H120Zm60-500h600v-160H180v160Zm220 220h160v-160H400v160Zm0 220h160v-160H400v160ZM180-400h160v-160H180v160Zm440 0h160v-160H620v160ZM180-180h160v-160H180v160Zm440 0h160v-160H620v160Z\"/>\n",
              "  </svg>\n",
              "    </button>\n",
              "\n",
              "  <style>\n",
              "    .colab-df-container {\n",
              "      display:flex;\n",
              "      gap: 12px;\n",
              "    }\n",
              "\n",
              "    .colab-df-convert {\n",
              "      background-color: #E8F0FE;\n",
              "      border: none;\n",
              "      border-radius: 50%;\n",
              "      cursor: pointer;\n",
              "      display: none;\n",
              "      fill: #1967D2;\n",
              "      height: 32px;\n",
              "      padding: 0 0 0 0;\n",
              "      width: 32px;\n",
              "    }\n",
              "\n",
              "    .colab-df-convert:hover {\n",
              "      background-color: #E2EBFA;\n",
              "      box-shadow: 0px 1px 2px rgba(60, 64, 67, 0.3), 0px 1px 3px 1px rgba(60, 64, 67, 0.15);\n",
              "      fill: #174EA6;\n",
              "    }\n",
              "\n",
              "    .colab-df-buttons div {\n",
              "      margin-bottom: 4px;\n",
              "    }\n",
              "\n",
              "    [theme=dark] .colab-df-convert {\n",
              "      background-color: #3B4455;\n",
              "      fill: #D2E3FC;\n",
              "    }\n",
              "\n",
              "    [theme=dark] .colab-df-convert:hover {\n",
              "      background-color: #434B5C;\n",
              "      box-shadow: 0px 1px 3px 1px rgba(0, 0, 0, 0.15);\n",
              "      filter: drop-shadow(0px 1px 2px rgba(0, 0, 0, 0.3));\n",
              "      fill: #FFFFFF;\n",
              "    }\n",
              "  </style>\n",
              "\n",
              "    <script>\n",
              "      const buttonEl =\n",
              "        document.querySelector('#df-7b506423-b3ac-4f6a-ae13-7287c11362f9 button.colab-df-convert');\n",
              "      buttonEl.style.display =\n",
              "        google.colab.kernel.accessAllowed ? 'block' : 'none';\n",
              "\n",
              "      async function convertToInteractive(key) {\n",
              "        const element = document.querySelector('#df-7b506423-b3ac-4f6a-ae13-7287c11362f9');\n",
              "        const dataTable =\n",
              "          await google.colab.kernel.invokeFunction('convertToInteractive',\n",
              "                                                    [key], {});\n",
              "        if (!dataTable) return;\n",
              "\n",
              "        const docLinkHtml = 'Like what you see? Visit the ' +\n",
              "          '<a target=\"_blank\" href=https://colab.research.google.com/notebooks/data_table.ipynb>data table notebook</a>'\n",
              "          + ' to learn more about interactive tables.';\n",
              "        element.innerHTML = '';\n",
              "        dataTable['output_type'] = 'display_data';\n",
              "        await google.colab.output.renderOutput(dataTable, element);\n",
              "        const docLink = document.createElement('div');\n",
              "        docLink.innerHTML = docLinkHtml;\n",
              "        element.appendChild(docLink);\n",
              "      }\n",
              "    </script>\n",
              "  </div>\n",
              "\n",
              "\n",
              "    </div>\n",
              "  </div>\n"
            ],
            "application/vnd.google.colaboratory.intrinsic+json": {
              "type": "dataframe",
              "summary": "{\n  \"name\": \"df\",\n  \"rows\": 1,\n  \"fields\": [\n    {\n      \"column\": \"person_id\",\n      \"properties\": {\n        \"dtype\": \"number\",\n        \"std\": null,\n        \"min\": 0,\n        \"max\": 0,\n        \"num_unique_values\": 1,\n        \"samples\": [\n          0\n        ],\n        \"semantic_type\": \"\",\n        \"description\": \"\"\n      }\n    },\n    {\n      \"column\": \"Sex\",\n      \"properties\": {\n        \"dtype\": \"number\",\n        \"std\": null,\n        \"min\": 0,\n        \"max\": 0,\n        \"num_unique_values\": 1,\n        \"samples\": [\n          0\n        ],\n        \"semantic_type\": \"\",\n        \"description\": \"\"\n      }\n    },\n    {\n      \"column\": \"past_login_total\",\n      \"properties\": {\n        \"dtype\": \"number\",\n        \"std\": null,\n        \"min\": 3.0,\n        \"max\": 3.0,\n        \"num_unique_values\": 1,\n        \"samples\": [\n          3.0\n        ],\n        \"semantic_type\": \"\",\n        \"description\": \"\"\n      }\n    },\n    {\n      \"column\": \"past_1_month_login\",\n      \"properties\": {\n        \"dtype\": \"number\",\n        \"std\": null,\n        \"min\": 1.0,\n        \"max\": 1.0,\n        \"num_unique_values\": 1,\n        \"samples\": [\n          1.0\n        ],\n        \"semantic_type\": \"\",\n        \"description\": \"\"\n      }\n    },\n    {\n      \"column\": \"past_1_week_login\",\n      \"properties\": {\n        \"dtype\": \"number\",\n        \"std\": null,\n        \"min\": 1.0,\n        \"max\": 1.0,\n        \"num_unique_values\": 1,\n        \"samples\": [\n          1.0\n        ],\n        \"semantic_type\": \"\",\n        \"description\": \"\"\n      }\n    },\n    {\n      \"column\": \"sub_size\",\n      \"properties\": {\n        \"dtype\": \"number\",\n        \"std\": null,\n        \"min\": 0.0,\n        \"max\": 0.0,\n        \"num_unique_values\": 1,\n        \"samples\": [\n          0.0\n        ],\n        \"semantic_type\": \"\",\n        \"description\": \"\"\n      }\n    },\n    {\n      \"column\": \"email_type\",\n      \"properties\": {\n        \"dtype\": \"number\",\n        \"std\": null,\n        \"min\": 0,\n        \"max\": 0,\n        \"num_unique_values\": 1,\n        \"samples\": [\n          0\n        ],\n        \"semantic_type\": \"\",\n        \"description\": \"\"\n      }\n    },\n    {\n      \"column\": \"phone_rat\",\n      \"properties\": {\n        \"dtype\": \"number\",\n        \"std\": null,\n        \"min\": 0.0,\n        \"max\": 0.0,\n        \"num_unique_values\": 1,\n        \"samples\": [\n          0.0\n        ],\n        \"semantic_type\": \"\",\n        \"description\": \"\"\n      }\n    },\n    {\n      \"column\": \"apple_rat\",\n      \"properties\": {\n        \"dtype\": \"number\",\n        \"std\": null,\n        \"min\": 0.0,\n        \"max\": 0.0,\n        \"num_unique_values\": 1,\n        \"samples\": [\n          0.0\n        ],\n        \"semantic_type\": \"\",\n        \"description\": \"\"\n      }\n    },\n    {\n      \"column\": \"login\",\n      \"properties\": {\n        \"dtype\": \"number\",\n        \"std\": null,\n        \"min\": 1,\n        \"max\": 1,\n        \"num_unique_values\": 1,\n        \"samples\": [\n          1\n        ],\n        \"semantic_type\": \"\",\n        \"description\": \"\"\n      }\n    }\n  ]\n}"
            }
          },
          "metadata": {},
          "execution_count": 214
        }
      ]
    },
    {
      "cell_type": "markdown",
      "source": [
        "`-` 고유 아이디가 0번인 유저를 살펴보자\n",
        "\n",
        "`-` 총 로그인 횟수가 3번이며 제출 횟수는 0번이다\n",
        "\n",
        "`-` 액티브한 유저에게 고유 아이디를 우선적으로 부여했다면 나오기 힘든 데이터이다\n",
        "\n",
        "`-` 아니면 로그인 여부 변수와 관련이 있는 또 다른 기준으로 고유 아이디를 부여 했을 수도 있는데 이는 모순되는 데이터가 많아 합리적인 변수로 사용하긴 힘들다"
      ],
      "metadata": {
        "id": "6c4FSVdFGbQn"
      }
    },
    {
      "cell_type": "code",
      "source": [
        "sns.boxplot(data=df, x=\"sub_size\", hue=\"login\")"
      ],
      "metadata": {
        "colab": {
          "base_uri": "https://localhost:8080/",
          "height": 468
        },
        "id": "KKCNvw8RH8GU",
        "outputId": "25f23976-462d-4fe8-f5cf-8e1db538cc35"
      },
      "execution_count": 223,
      "outputs": [
        {
          "output_type": "execute_result",
          "data": {
            "text/plain": [
              "<Axes: xlabel='sub_size'>"
            ]
          },
          "metadata": {},
          "execution_count": 223
        },
        {
          "output_type": "display_data",
          "data": {
            "text/plain": [
              "<Figure size 640x480 with 1 Axes>"
            ],
            "image/png": "[encoded data removed]"
          },
          "metadata": {}
        }
      ]
    },
    {
      "cell_type": "markdown",
      "source": [
        "`-` 과거에 제출을 많이 했더라도 현재는 데이콘에서 활동하지 않을 수 있다\n",
        "\n",
        "`-` 반대로 새로운 액티브 유저의 경우 제출 횟수가 적을 수 밖에 없지만 로그인을 할 가능성이 높다\n",
        "\n",
        "`-` 제출 횟수만 독단적으로 보기 보단 1달 전 로그인 여부, 1주 전 로그인 여부와 같은 변수와 함께 보는 것이 좋다\n",
        "\n",
        "`-` 과거 총 로그인 횟수는 제출 횟수와 비슷한 성격을 가진 변수이므로 함께 보는 것이 적절하지 않을 수 있다"
      ],
      "metadata": {
        "id": "jgvZDdNzIf1c"
      }
    },
    {
      "cell_type": "code",
      "source": [
        "sns.boxplot(data=df, x=\"past_1_month_login\", hue=\"login\")"
      ],
      "metadata": {
        "colab": {
          "base_uri": "https://localhost:8080/",
          "height": 468
        },
        "id": "f6pogRrrJh-d",
        "outputId": "f4e270a5-7cf3-4924-b91d-ba54dca9b2bf"
      },
      "execution_count": 228,
      "outputs": [
        {
          "output_type": "execute_result",
          "data": {
            "text/plain": [
              "<Axes: xlabel='past_1_month_login'>"
            ]
          },
          "metadata": {},
          "execution_count": 228
        },
        {
          "output_type": "display_data",
          "data": {
            "text/plain": [
              "<Figure size 640x480 with 1 Axes>"
            ],
            "image/png": "[encoded data removed]"
          },
          "metadata": {}
        }
      ]
    },
    {
      "cell_type": "code",
      "source": [
        "sns.boxplot(data=df, x=\"past_1_week_login\", hue=\"login\")"
      ],
      "metadata": {
        "colab": {
          "base_uri": "https://localhost:8080/",
          "height": 468
        },
        "id": "4WAgH3p8J0DE",
        "outputId": "9926fd33-89aa-492b-c42b-13a81cf29034"
      },
      "execution_count": 229,
      "outputs": [
        {
          "output_type": "execute_result",
          "data": {
            "text/plain": [
              "<Axes: xlabel='past_1_week_login'>"
            ]
          },
          "metadata": {},
          "execution_count": 229
        },
        {
          "output_type": "display_data",
          "data": {
            "text/plain": [
              "<Figure size 640x480 with 1 Axes>"
            ],
            "image/png": "[encoded data removed]"
          },
          "metadata": {}
        }
      ]
    },
    {
      "cell_type": "markdown",
      "source": [
        "`-` 로그인을 한 사람이 과거에도 로그인을 한 가능성이 높다\n",
        "\n",
        "`-` 그 외 변수는 로그인 여부와 큰 관련은 없다"
      ],
      "metadata": {
        "id": "T42OIukqJ4Ld"
      }
    },
    {
      "cell_type": "markdown",
      "source": [
        "## 전략"
      ],
      "metadata": {
        "id": "pbXZ-yiOcQ3Z"
      }
    },
    {
      "cell_type": "markdown",
      "source": [
        "`-` 내가 모델을 튜닝할 때 유저별 고유 아이디 변수를 사용하지 않더라도 test 환경에서는 모든 변수와 데이터를 사용하여 학습하므로 의미가 없다\n",
        "\n",
        "`-` 유저별 고유 아이디 변수가 로그인 여부와 실제로 관련이 있다면 상관 없지만 랜덤한 변수라면 영향을 덜 받도록 설계해야 한다\n",
        "\n",
        "`-` 사용하는 변수 개수와 트리 개수를 낮추면 고유 아이디 변수의 영향을 최소화 할 수 있다\n",
        "\n",
        "`-` 유저별 고유 아이디 변수, 유용한 변수 4개, 불필요한 변수 4개를 합해서 총 9개의 변수가 존재한다\n",
        "\n",
        "`-` 적어도 하나의 유용한 변수를 포함시키기 위해선 6개의 변수를 사용하면 된다\n",
        "\n",
        "`-` 5개의 변수를 사용할 경우 하나의 유용한 변수도 포함하지 않을 확률은 약 0.008이다 (3개일 경우 약 0.12이다)\n",
        "\n",
        "`-` 꼭 6개 이상의 변수를 사용할 필요는 없고 다양성을 위해 더 적은 수의 변수를 사용해도 된다\n",
        "\n",
        "`-` 단 변수 개수를 너무 낮추면 적합도가 떨어진다\n",
        "\n",
        "`-` 붓스트랩을 사용하지 않고 램덤성을 변수 개수에만 부여한 후 교차 검증으로 auc 점수를 평가한다\n",
        "\n",
        "`-` 하이퍼 파라미터 튜닝은 베이지안 튜닝 사용한다"
      ],
      "metadata": {
        "id": "u6fhcezRcSTQ"
      }
    },
    {
      "cell_type": "markdown",
      "source": [
        "## 하이퍼 파라미터 튜닝"
      ],
      "metadata": {
        "id": "eZfcyXEJvujJ"
      }
    },
    {
      "cell_type": "code",
      "source": [
        "SEED = 2024"
      ],
      "metadata": {
        "id": "-6I69I2Ir6J3"
      },
      "execution_count": 237,
      "outputs": []
    },
    {
      "cell_type": "code",
      "source": [
        "X = df.loc[:, \"person_id\":\"apple_rat\"]\n",
        "y = df[\"login\"]"
      ],
      "metadata": {
        "id": "P8DyNJUEsnfw"
      },
      "execution_count": 242,
      "outputs": []
    },
    {
      "cell_type": "code",
      "source": [
        "def objective(trial, X, y, seeds):\n",
        "    params = {\n",
        "        \"n_estimators\": trial.suggest_int(\"n_estimators\", 50, 50),\n",
        "        \"random_state\": seeds[0],\n",
        "        \"bootstrap\": trial.suggest_categorical(\"bootstrap\", [False]),\n",
        "        \"max_depth\" : trial.suggest_int(\"max_depth\", 3, 8),\n",
        "        \"max_features\": trial.suggest_int(\"max_features\", 3, 6),\n",
        "        \"min_samples_split\": trial.suggest_int(\"min_samples_split\", 2, 6),\n",
        "        \"min_samples_leaf\": trial.suggest_int(\"min_samples_leaf\", 2, 6),\n",
        "        \"min_impurity_decrease\": trial.suggest_float(\"min_impurity_decrease\", 0.0, 0.05),\n",
        "    }\n",
        "    model = RandomForestClassifier(**params)\n",
        "    total_scores = []\n",
        "    for seed in seeds:\n",
        "        cv = StratifiedKFold(n_splits=5, shuffle=True, random_state=seed)\n",
        "        scores = cross_val_score(model, X, y, cv=cv, scoring=\"roc_auc\")\n",
        "        total_scores.extend(scores)\n",
        "    mean_score = np.mean(total_scores)\n",
        "    return mean_score"
      ],
      "metadata": {
        "id": "2EQlh31BNa1U"
      },
      "execution_count": 315,
      "outputs": []
    },
    {
      "cell_type": "code",
      "source": [
        "study = optuna.create_study(study_name=\"rf\", direction=\"maximize\", sampler=optuna.samplers.TPESampler(seed=SEED))\n",
        "study.optimize(lambda trial: objective(trial, X, y, [SEED, SEED * 2]), n_trials=50)"
      ],
      "metadata": {
        "colab": {
          "base_uri": "https://localhost:8080/"
        },
        "id": "iOc0AoZ-hrv-",
        "outputId": "594ba0b2-6e2f-4d0b-adb2-1e1823c30e07"
      },
      "execution_count": 316,
      "outputs": [
        {
          "output_type": "stream",
          "name": "stderr",
          "text": [
            "[I 2024-04-07 17:06:40,286] A new study created in memory with name: rf\n",
            "[I 2024-04-07 17:06:41,102] Trial 0 finished with value: 0.7833955431914796 and parameters: {'n_estimators': 50, 'bootstrap': False, 'max_depth': 6, 'max_features': 5, 'min_samples_split': 2, 'min_samples_leaf': 2, 'min_impurity_decrease': 0.010250947619714441}. Best is trial 0 with value: 0.7833955431914796.\n",
            "[I 2024-04-07 17:06:41,911] Trial 1 finished with value: 0.7455282548621354 and parameters: {'n_estimators': 50, 'bootstrap': False, 'max_depth': 3, 'max_features': 5, 'min_samples_split': 5, 'min_samples_leaf': 4, 'min_impurity_decrease': 0.02241479122401523}. Best is trial 0 with value: 0.7833955431914796.\n",
            "[I 2024-04-07 17:06:42,739] Trial 2 finished with value: 0.745535654595745 and parameters: {'n_estimators': 50, 'bootstrap': False, 'max_depth': 3, 'max_features': 6, 'min_samples_split': 5, 'min_samples_leaf': 6, 'min_impurity_decrease': 0.033218432367823784}. Best is trial 0 with value: 0.7833955431914796.\n",
            "[I 2024-04-07 17:06:43,502] Trial 3 finished with value: 0.745247064984971 and parameters: {'n_estimators': 50, 'bootstrap': False, 'max_depth': 6, 'max_features': 4, 'min_samples_split': 3, 'min_samples_leaf': 5, 'min_impurity_decrease': 0.03678832962259567}. Best is trial 0 with value: 0.7833955431914796.\n",
            "[I 2024-04-07 17:06:44,229] Trial 4 finished with value: 0.7591711777399003 and parameters: {'n_estimators': 50, 'bootstrap': False, 'max_depth': 4, 'max_features': 3, 'min_samples_split': 6, 'min_samples_leaf': 3, 'min_impurity_decrease': 0.014108255972182161}. Best is trial 0 with value: 0.7833955431914796.\n",
            "[I 2024-04-07 17:06:45,052] Trial 5 finished with value: 0.7467197714502968 and parameters: {'n_estimators': 50, 'bootstrap': False, 'max_depth': 7, 'max_features': 6, 'min_samples_split': 4, 'min_samples_leaf': 3, 'min_impurity_decrease': 0.019082547510099863}. Best is trial 0 with value: 0.7833955431914796.\n",
            "[I 2024-04-07 17:06:45,811] Trial 6 finished with value: 0.6321870337955191 and parameters: {'n_estimators': 50, 'bootstrap': False, 'max_depth': 4, 'max_features': 5, 'min_samples_split': 3, 'min_samples_leaf': 4, 'min_impurity_decrease': 0.04417693513882929}. Best is trial 0 with value: 0.7833955431914796.\n",
            "[I 2024-04-07 17:06:46,793] Trial 7 finished with value: 0.7740597702850514 and parameters: {'n_estimators': 50, 'bootstrap': False, 'max_depth': 4, 'max_features': 6, 'min_samples_split': 5, 'min_samples_leaf': 4, 'min_impurity_decrease': 0.011288438379804151}. Best is trial 0 with value: 0.7833955431914796.\n",
            "[I 2024-04-07 17:06:47,492] Trial 8 finished with value: 0.6321870337955191 and parameters: {'n_estimators': 50, 'bootstrap': False, 'max_depth': 5, 'max_features': 3, 'min_samples_split': 4, 'min_samples_leaf': 6, 'min_impurity_decrease': 0.044624319316452755}. Best is trial 0 with value: 0.7833955431914796.\n",
            "[I 2024-04-07 17:06:48,259] Trial 9 finished with value: 0.6561177722889333 and parameters: {'n_estimators': 50, 'bootstrap': False, 'max_depth': 4, 'max_features': 5, 'min_samples_split': 6, 'min_samples_leaf': 3, 'min_impurity_decrease': 0.04336161714831452}. Best is trial 0 with value: 0.7833955431914796.\n",
            "[I 2024-04-07 17:06:49,586] Trial 10 finished with value: 0.8237422068897473 and parameters: {'n_estimators': 50, 'bootstrap': False, 'max_depth': 8, 'max_features': 4, 'min_samples_split': 2, 'min_samples_leaf': 2, 'min_impurity_decrease': 0.0021661808073953175}. Best is trial 10 with value: 0.8237422068897473.\n",
            "[I 2024-04-07 17:06:52,977] Trial 11 finished with value: 0.8242319012722439 and parameters: {'n_estimators': 50, 'bootstrap': False, 'max_depth': 8, 'max_features': 4, 'min_samples_split': 2, 'min_samples_leaf': 2, 'min_impurity_decrease': 0.0008643336064117282}. Best is trial 11 with value: 0.8242319012722439.\n",
            "[I 2024-04-07 17:06:54,099] Trial 12 finished with value: 0.8256079519068349 and parameters: {'n_estimators': 50, 'bootstrap': False, 'max_depth': 8, 'max_features': 4, 'min_samples_split': 2, 'min_samples_leaf': 2, 'min_impurity_decrease': 0.0001194224885584759}. Best is trial 12 with value: 0.8256079519068349.\n",
            "[I 2024-04-07 17:06:55,155] Trial 13 finished with value: 0.8209878102146944 and parameters: {'n_estimators': 50, 'bootstrap': False, 'max_depth': 8, 'max_features': 4, 'min_samples_split': 2, 'min_samples_leaf': 2, 'min_impurity_decrease': 0.0002467281327459403}. Best is trial 12 with value: 0.8256079519068349.\n",
            "[I 2024-04-07 17:06:55,956] Trial 14 finished with value: 0.8058700332477686 and parameters: {'n_estimators': 50, 'bootstrap': False, 'max_depth': 7, 'max_features': 3, 'min_samples_split': 3, 'min_samples_leaf': 2, 'min_impurity_decrease': 0.005752738934022573}. Best is trial 12 with value: 0.8256079519068349.\n",
            "[I 2024-04-07 17:06:56,781] Trial 15 finished with value: 0.796869688352139 and parameters: {'n_estimators': 50, 'bootstrap': False, 'max_depth': 7, 'max_features': 4, 'min_samples_split': 2, 'min_samples_leaf': 3, 'min_impurity_decrease': 0.006792354506279394}. Best is trial 12 with value: 0.8256079519068349.\n",
            "[I 2024-04-07 17:06:57,573] Trial 16 finished with value: 0.7455652535301833 and parameters: {'n_estimators': 50, 'bootstrap': False, 'max_depth': 8, 'max_features': 4, 'min_samples_split': 3, 'min_samples_leaf': 2, 'min_impurity_decrease': 0.030419282806246437}. Best is trial 12 with value: 0.8256079519068349.\n",
            "[I 2024-04-07 17:06:58,336] Trial 17 finished with value: 0.7524617361476136 and parameters: {'n_estimators': 50, 'bootstrap': False, 'max_depth': 7, 'max_features': 3, 'min_samples_split': 2, 'min_samples_leaf': 5, 'min_impurity_decrease': 0.01617602097902215}. Best is trial 12 with value: 0.8256079519068349.\n",
            "[I 2024-04-07 17:06:59,209] Trial 18 finished with value: 0.7999068866854125 and parameters: {'n_estimators': 50, 'bootstrap': False, 'max_depth': 8, 'max_features': 4, 'min_samples_split': 3, 'min_samples_leaf': 3, 'min_impurity_decrease': 0.0055590375476272935}. Best is trial 12 with value: 0.8256079519068349.\n",
            "[I 2024-04-07 17:07:00,035] Trial 19 finished with value: 0.7455282548621354 and parameters: {'n_estimators': 50, 'bootstrap': False, 'max_depth': 6, 'max_features': 5, 'min_samples_split': 4, 'min_samples_leaf': 2, 'min_impurity_decrease': 0.024885108687793582}. Best is trial 12 with value: 0.8256079519068349.\n",
            "[I 2024-04-07 17:07:00,978] Trial 20 finished with value: 0.8283504430909453 and parameters: {'n_estimators': 50, 'bootstrap': False, 'max_depth': 8, 'max_features': 3, 'min_samples_split': 2, 'min_samples_leaf': 5, 'min_impurity_decrease': 0.00025658182715777703}. Best is trial 20 with value: 0.8283504430909453.\n",
            "[I 2024-04-07 17:07:01,881] Trial 21 finished with value: 0.8325549525906724 and parameters: {'n_estimators': 50, 'bootstrap': False, 'max_depth': 8, 'max_features': 3, 'min_samples_split': 2, 'min_samples_leaf': 5, 'min_impurity_decrease': 0.0006249322583502685}. Best is trial 21 with value: 0.8325549525906724.\n",
            "[I 2024-04-07 17:07:02,969] Trial 22 finished with value: 0.7999346059174053 and parameters: {'n_estimators': 50, 'bootstrap': False, 'max_depth': 7, 'max_features': 3, 'min_samples_split': 2, 'min_samples_leaf': 5, 'min_impurity_decrease': 0.00795703022202695}. Best is trial 21 with value: 0.8325549525906724.\n",
            "[I 2024-04-07 17:07:04,216] Trial 23 finished with value: 0.8054635018771508 and parameters: {'n_estimators': 50, 'bootstrap': False, 'max_depth': 8, 'max_features': 3, 'min_samples_split': 3, 'min_samples_leaf': 5, 'min_impurity_decrease': 0.0036990866924514415}. Best is trial 21 with value: 0.8325549525906724.\n",
            "[I 2024-04-07 17:07:05,436] Trial 24 finished with value: 0.7801503294157273 and parameters: {'n_estimators': 50, 'bootstrap': False, 'max_depth': 7, 'max_features': 3, 'min_samples_split': 2, 'min_samples_leaf': 6, 'min_impurity_decrease': 0.011246675983822686}. Best is trial 21 with value: 0.8325549525906724.\n",
            "[I 2024-04-07 17:07:06,493] Trial 25 finished with value: 0.8280670449886793 and parameters: {'n_estimators': 50, 'bootstrap': False, 'max_depth': 8, 'max_features': 3, 'min_samples_split': 3, 'min_samples_leaf': 5, 'min_impurity_decrease': 8.033396443642854e-05}. Best is trial 21 with value: 0.8325549525906724.\n",
            "[I 2024-04-07 17:07:07,249] Trial 26 finished with value: 0.7462139868999198 and parameters: {'n_estimators': 50, 'bootstrap': False, 'max_depth': 5, 'max_features': 3, 'min_samples_split': 3, 'min_samples_leaf': 5, 'min_impurity_decrease': 0.018292172448528154}. Best is trial 21 with value: 0.8325549525906724.\n",
            "[I 2024-04-07 17:07:08,032] Trial 27 finished with value: 0.8025178561100537 and parameters: {'n_estimators': 50, 'bootstrap': False, 'max_depth': 7, 'max_features': 3, 'min_samples_split': 3, 'min_samples_leaf': 5, 'min_impurity_decrease': 0.005353550308189323}. Best is trial 21 with value: 0.8325549525906724.\n",
            "[I 2024-04-07 17:07:08,753] Trial 28 finished with value: 0.535135785111736 and parameters: {'n_estimators': 50, 'bootstrap': False, 'max_depth': 8, 'max_features': 3, 'min_samples_split': 4, 'min_samples_leaf': 6, 'min_impurity_decrease': 0.049477999924286475}. Best is trial 21 with value: 0.8325549525906724.\n",
            "[I 2024-04-07 17:07:09,526] Trial 29 finished with value: 0.7965842702076518 and parameters: {'n_estimators': 50, 'bootstrap': False, 'max_depth': 6, 'max_features': 3, 'min_samples_split': 2, 'min_samples_leaf': 4, 'min_impurity_decrease': 0.009722219502814098}. Best is trial 21 with value: 0.8325549525906724.\n",
            "[I 2024-04-07 17:07:10,285] Trial 30 finished with value: 0.7591711777399003 and parameters: {'n_estimators': 50, 'bootstrap': False, 'max_depth': 6, 'max_features': 3, 'min_samples_split': 3, 'min_samples_leaf': 5, 'min_impurity_decrease': 0.013983715706067294}. Best is trial 21 with value: 0.8325549525906724.\n",
            "[I 2024-04-07 17:07:11,386] Trial 31 finished with value: 0.8220530837326638 and parameters: {'n_estimators': 50, 'bootstrap': False, 'max_depth': 8, 'max_features': 4, 'min_samples_split': 2, 'min_samples_leaf': 5, 'min_impurity_decrease': 5.882903673667345e-06}. Best is trial 21 with value: 0.8325549525906724.\n",
            "[I 2024-04-07 17:07:12,182] Trial 32 finished with value: 0.8053303725893454 and parameters: {'n_estimators': 50, 'bootstrap': False, 'max_depth': 8, 'max_features': 3, 'min_samples_split': 2, 'min_samples_leaf': 4, 'min_impurity_decrease': 0.0037484607819544187}. Best is trial 21 with value: 0.8325549525906724.\n",
            "[I 2024-04-07 17:07:12,991] Trial 33 finished with value: 0.7845642035335005 and parameters: {'n_estimators': 50, 'bootstrap': False, 'max_depth': 8, 'max_features': 4, 'min_samples_split': 2, 'min_samples_leaf': 4, 'min_impurity_decrease': 0.008871317460365947}. Best is trial 21 with value: 0.8325549525906724.\n",
            "[I 2024-04-07 17:07:13,808] Trial 34 finished with value: 0.8159408803811798 and parameters: {'n_estimators': 50, 'bootstrap': False, 'max_depth': 7, 'max_features': 3, 'min_samples_split': 2, 'min_samples_leaf': 6, 'min_impurity_decrease': 0.0029789612544457366}. Best is trial 21 with value: 0.8325549525906724.\n",
            "[I 2024-04-07 17:07:14,829] Trial 35 finished with value: 0.8289246773035712 and parameters: {'n_estimators': 50, 'bootstrap': False, 'max_depth': 8, 'max_features': 4, 'min_samples_split': 3, 'min_samples_leaf': 5, 'min_impurity_decrease': 0.00027070798229854575}. Best is trial 21 with value: 0.8325549525906724.\n",
            "[I 2024-04-07 17:07:15,566] Trial 36 finished with value: 0.7452888607217036 and parameters: {'n_estimators': 50, 'bootstrap': False, 'max_depth': 7, 'max_features': 3, 'min_samples_split': 3, 'min_samples_leaf': 5, 'min_impurity_decrease': 0.031072853734107505}. Best is trial 21 with value: 0.8325549525906724.\n",
            "[I 2024-04-07 17:07:16,731] Trial 37 finished with value: 0.772847634381714 and parameters: {'n_estimators': 50, 'bootstrap': False, 'max_depth': 8, 'max_features': 4, 'min_samples_split': 5, 'min_samples_leaf': 6, 'min_impurity_decrease': 0.012931067471842653}. Best is trial 21 with value: 0.8325549525906724.\n",
            "[I 2024-04-07 17:07:17,982] Trial 38 finished with value: 0.7455282548621354 and parameters: {'n_estimators': 50, 'bootstrap': False, 'max_depth': 7, 'max_features': 5, 'min_samples_split': 4, 'min_samples_leaf': 5, 'min_impurity_decrease': 0.021077581386600052}. Best is trial 21 with value: 0.8325549525906724.\n",
            "[I 2024-04-07 17:07:19,364] Trial 39 finished with value: 0.8003556103589465 and parameters: {'n_estimators': 50, 'bootstrap': False, 'max_depth': 8, 'max_features': 6, 'min_samples_split': 3, 'min_samples_leaf': 4, 'min_impurity_decrease': 0.0038736041250161633}. Best is trial 21 with value: 0.8325549525906724.\n",
            "[I 2024-04-07 17:07:20,133] Trial 40 finished with value: 0.7946598291427026 and parameters: {'n_estimators': 50, 'bootstrap': False, 'max_depth': 3, 'max_features': 3, 'min_samples_split': 4, 'min_samples_leaf': 6, 'min_impurity_decrease': 0.008306307015554536}. Best is trial 21 with value: 0.8325549525906724.\n",
            "[I 2024-04-07 17:07:21,157] Trial 41 finished with value: 0.8294848435168978 and parameters: {'n_estimators': 50, 'bootstrap': False, 'max_depth': 8, 'max_features': 4, 'min_samples_split': 2, 'min_samples_leaf': 5, 'min_impurity_decrease': 0.00024977385778296636}. Best is trial 21 with value: 0.8325549525906724.\n",
            "[I 2024-04-07 17:07:22,035] Trial 42 finished with value: 0.817618748713552 and parameters: {'n_estimators': 50, 'bootstrap': False, 'max_depth': 8, 'max_features': 4, 'min_samples_split': 3, 'min_samples_leaf': 5, 'min_impurity_decrease': 0.002617377238178199}. Best is trial 21 with value: 0.8325549525906724.\n",
            "[I 2024-04-07 17:07:22,908] Trial 43 finished with value: 0.7958073757907933 and parameters: {'n_estimators': 50, 'bootstrap': False, 'max_depth': 8, 'max_features': 5, 'min_samples_split': 2, 'min_samples_leaf': 5, 'min_impurity_decrease': 0.0062809360360932326}. Best is trial 21 with value: 0.8325549525906724.\n",
            "[I 2024-04-07 17:07:23,794] Trial 44 finished with value: 0.8179086492254095 and parameters: {'n_estimators': 50, 'bootstrap': False, 'max_depth': 8, 'max_features': 4, 'min_samples_split': 3, 'min_samples_leaf': 4, 'min_impurity_decrease': 0.0020360017178097617}. Best is trial 21 with value: 0.8325549525906724.\n",
            "[I 2024-04-07 17:07:24,874] Trial 45 finished with value: 0.8310815816377737 and parameters: {'n_estimators': 50, 'bootstrap': False, 'max_depth': 7, 'max_features': 4, 'min_samples_split': 2, 'min_samples_leaf': 5, 'min_impurity_decrease': 0.00013073393969401537}. Best is trial 21 with value: 0.8325549525906724.\n",
            "[I 2024-04-07 17:07:25,729] Trial 46 finished with value: 0.807547967497308 and parameters: {'n_estimators': 50, 'bootstrap': False, 'max_depth': 7, 'max_features': 4, 'min_samples_split': 2, 'min_samples_leaf': 6, 'min_impurity_decrease': 0.004322395666090519}. Best is trial 21 with value: 0.8325549525906724.\n",
            "[I 2024-04-07 17:07:26,542] Trial 47 finished with value: 0.7452174660505325 and parameters: {'n_estimators': 50, 'bootstrap': False, 'max_depth': 5, 'max_features': 5, 'min_samples_split': 2, 'min_samples_leaf': 5, 'min_impurity_decrease': 0.03698407462752954}. Best is trial 21 with value: 0.8325549525906724.\n",
            "[I 2024-04-07 17:07:27,355] Trial 48 finished with value: 0.7771198216749254 and parameters: {'n_estimators': 50, 'bootstrap': False, 'max_depth': 7, 'max_features': 4, 'min_samples_split': 2, 'min_samples_leaf': 4, 'min_impurity_decrease': 0.011191103783689288}. Best is trial 21 with value: 0.8325549525906724.\n",
            "[I 2024-04-07 17:07:28,258] Trial 49 finished with value: 0.8233081710495203 and parameters: {'n_estimators': 50, 'bootstrap': False, 'max_depth': 8, 'max_features': 4, 'min_samples_split': 2, 'min_samples_leaf': 5, 'min_impurity_decrease': 0.0019395117009120705}. Best is trial 21 with value: 0.8325549525906724.\n"
          ]
        }
      ]
    },
    {
      "cell_type": "code",
      "source": [
        "print(\"Best Score:\", study.best_value)\n",
        "print(\"Best trial:\", study.best_trial.params)"
      ],
      "metadata": {
        "colab": {
          "base_uri": "https://localhost:8080/"
        },
        "id": "NFrnc8Qxh5b-",
        "outputId": "05811c3f-6f55-4780-eea4-d27dd0c951e5"
      },
      "execution_count": 318,
      "outputs": [
        {
          "output_type": "stream",
          "name": "stdout",
          "text": [
            "Best Score: 0.8325549525906724\n",
            "Best trial: {'n_estimators': 50, 'bootstrap': False, 'max_depth': 8, 'max_features': 3, 'min_samples_split': 2, 'min_samples_leaf': 5, 'min_impurity_decrease': 0.0006249322583502685}\n"
          ]
        }
      ]
    },
    {
      "cell_type": "code",
      "source": [
        "for k, v in study.best_trial.params.items():\n",
        "    submission[k] = v"
      ],
      "metadata": {
        "id": "vGu_EbBTskcj"
      },
      "execution_count": 319,
      "outputs": []
    },
    {
      "cell_type": "code",
      "source": [
        "submission"
      ],
      "metadata": {
        "colab": {
          "base_uri": "https://localhost:8080/",
          "height": 109
        },
        "id": "s4TtAP0ndOf3",
        "outputId": "3be3c11c-6b76-4197-f474-135d30083a6c"
      },
      "execution_count": 320,
      "outputs": [
        {
          "output_type": "execute_result",
          "data": {
            "text/plain": [
              "   n_estimators criterion  max_depth  min_samples_split  min_samples_leaf  \\\n",
              "0            50      gini          8                  2                 5   \n",
              "\n",
              "   min_weight_fraction_leaf  max_features  max_leaf_nodes  \\\n",
              "0                         0             3             NaN   \n",
              "\n",
              "   min_impurity_decrease  bootstrap  \n",
              "0               0.000625      False  "
            ],
            "text/html": [
              "\n",
              "  <div id=\"df-8c6c739d-3b38-4b56-8af6-6e073a0aa44b\" class=\"colab-df-container\">\n",
              "    <div>\n",
              "<style scoped>\n",
              "    .dataframe tbody tr th:only-of-type {\n",
              "        vertical-align: middle;\n",
              "    }\n",
              "\n",
              "    .dataframe tbody tr th {\n",
              "        vertical-align: top;\n",
              "    }\n",
              "\n",
              "    .dataframe thead th {\n",
              "        text-align: right;\n",
              "    }\n",
              "</style>\n",
              "<table border=\"1\" class=\"dataframe\">\n",
              "  <thead>\n",
              "    <tr style=\"text-align: right;\">\n",
              "      <th></th>\n",
              "      <th>n_estimators</th>\n",
              "      <th>criterion</th>\n",
              "      <th>max_depth</th>\n",
              "      <th>min_samples_split</th>\n",
              "      <th>min_samples_leaf</th>\n",
              "      <th>min_weight_fraction_leaf</th>\n",
              "      <th>max_features</th>\n",
              "      <th>max_leaf_nodes</th>\n",
              "      <th>min_impurity_decrease</th>\n",
              "      <th>bootstrap</th>\n",
              "    </tr>\n",
              "  </thead>\n",
              "  <tbody>\n",
              "    <tr>\n",
              "      <th>0</th>\n",
              "      <td>50</td>\n",
              "      <td>gini</td>\n",
              "      <td>8</td>\n",
              "      <td>2</td>\n",
              "      <td>5</td>\n",
              "      <td>0</td>\n",
              "      <td>3</td>\n",
              "      <td>NaN</td>\n",
              "      <td>0.000625</td>\n",
              "      <td>False</td>\n",
              "    </tr>\n",
              "  </tbody>\n",
              "</table>\n",
              "</div>\n",
              "    <div class=\"colab-df-buttons\">\n",
              "\n",
              "  <div class=\"colab-df-container\">\n",
              "    <button class=\"colab-df-convert\" onclick=\"convertToInteractive('df-8c6c739d-3b38-4b56-8af6-6e073a0aa44b')\"\n",
              "            title=\"Convert this dataframe to an interactive table.\"\n",
              "            style=\"display:none;\">\n",
              "\n",
              "  <svg xmlns=\"http://www.w3.org/2000/svg\" height=\"24px\" viewBox=\"0 -960 960 960\">\n",
              "    <path d=\"M120-120v-720h720v720H120Zm60-500h600v-160H180v160Zm220 220h160v-160H400v160Zm0 220h160v-160H400v160ZM180-400h160v-160H180v160Zm440 0h160v-160H620v160ZM180-180h160v-160H180v160Zm440 0h160v-160H620v160Z\"/>\n",
              "  </svg>\n",
              "    </button>\n",
              "\n",
              "  <style>\n",
              "    .colab-df-container {\n",
              "      display:flex;\n",
              "      gap: 12px;\n",
              "    }\n",
              "\n",
              "    .colab-df-convert {\n",
              "      background-color: #E8F0FE;\n",
              "      border: none;\n",
              "      border-radius: 50%;\n",
              "      cursor: pointer;\n",
              "      display: none;\n",
              "      fill: #1967D2;\n",
              "      height: 32px;\n",
              "      padding: 0 0 0 0;\n",
              "      width: 32px;\n",
              "    }\n",
              "\n",
              "    .colab-df-convert:hover {\n",
              "      background-color: #E2EBFA;\n",
              "      box-shadow: 0px 1px 2px rgba(60, 64, 67, 0.3), 0px 1px 3px 1px rgba(60, 64, 67, 0.15);\n",
              "      fill: #174EA6;\n",
              "    }\n",
              "\n",
              "    .colab-df-buttons div {\n",
              "      margin-bottom: 4px;\n",
              "    }\n",
              "\n",
              "    [theme=dark] .colab-df-convert {\n",
              "      background-color: #3B4455;\n",
              "      fill: #D2E3FC;\n",
              "    }\n",
              "\n",
              "    [theme=dark] .colab-df-convert:hover {\n",
              "      background-color: #434B5C;\n",
              "      box-shadow: 0px 1px 3px 1px rgba(0, 0, 0, 0.15);\n",
              "      filter: drop-shadow(0px 1px 2px rgba(0, 0, 0, 0.3));\n",
              "      fill: #FFFFFF;\n",
              "    }\n",
              "  </style>\n",
              "\n",
              "    <script>\n",
              "      const buttonEl =\n",
              "        document.querySelector('#df-8c6c739d-3b38-4b56-8af6-6e073a0aa44b button.colab-df-convert');\n",
              "      buttonEl.style.display =\n",
              "        google.colab.kernel.accessAllowed ? 'block' : 'none';\n",
              "\n",
              "      async function convertToInteractive(key) {\n",
              "        const element = document.querySelector('#df-8c6c739d-3b38-4b56-8af6-6e073a0aa44b');\n",
              "        const dataTable =\n",
              "          await google.colab.kernel.invokeFunction('convertToInteractive',\n",
              "                                                    [key], {});\n",
              "        if (!dataTable) return;\n",
              "\n",
              "        const docLinkHtml = 'Like what you see? Visit the ' +\n",
              "          '<a target=\"_blank\" href=https://colab.research.google.com/notebooks/data_table.ipynb>data table notebook</a>'\n",
              "          + ' to learn more about interactive tables.';\n",
              "        element.innerHTML = '';\n",
              "        dataTable['output_type'] = 'display_data';\n",
              "        await google.colab.output.renderOutput(dataTable, element);\n",
              "        const docLink = document.createElement('div');\n",
              "        docLink.innerHTML = docLinkHtml;\n",
              "        element.appendChild(docLink);\n",
              "      }\n",
              "    </script>\n",
              "  </div>\n",
              "\n",
              "\n",
              "  <div id=\"id_338958b6-9b6f-4e06-866a-bccc802af804\">\n",
              "    <style>\n",
              "      .colab-df-generate {\n",
              "        background-color: #E8F0FE;\n",
              "        border: none;\n",
              "        border-radius: 50%;\n",
              "        cursor: pointer;\n",
              "        display: none;\n",
              "        fill: #1967D2;\n",
              "        height: 32px;\n",
              "        padding: 0 0 0 0;\n",
              "        width: 32px;\n",
              "      }\n",
              "\n",
              "      .colab-df-generate:hover {\n",
              "        background-color: #E2EBFA;\n",
              "        box-shadow: 0px 1px 2px rgba(60, 64, 67, 0.3), 0px 1px 3px 1px rgba(60, 64, 67, 0.15);\n",
              "        fill: #174EA6;\n",
              "      }\n",
              "\n",
              "      [theme=dark] .colab-df-generate {\n",
              "        background-color: #3B4455;\n",
              "        fill: #D2E3FC;\n",
              "      }\n",
              "\n",
              "      [theme=dark] .colab-df-generate:hover {\n",
              "        background-color: #434B5C;\n",
              "        box-shadow: 0px 1px 3px 1px rgba(0, 0, 0, 0.15);\n",
              "        filter: drop-shadow(0px 1px 2px rgba(0, 0, 0, 0.3));\n",
              "        fill: #FFFFFF;\n",
              "      }\n",
              "    </style>\n",
              "    <button class=\"colab-df-generate\" onclick=\"generateWithVariable('submission')\"\n",
              "            title=\"Generate code using this dataframe.\"\n",
              "            style=\"display:none;\">\n",
              "\n",
              "  <svg xmlns=\"http://www.w3.org/2000/svg\" height=\"24px\"viewBox=\"0 0 24 24\"\n",
              "       width=\"24px\">\n",
              "    <path d=\"M7,19H8.4L18.45,9,17,7.55,7,17.6ZM5,21V16.75L18.45,3.32a2,2,0,0,1,2.83,0l1.4,1.43a1.91,1.91,0,0,1,.58,1.4,1.91,1.91,0,0,1-.58,1.4L9.25,21ZM18.45,9,17,7.55Zm-12,3A5.31,5.31,0,0,0,4.9,8.1,5.31,5.31,0,0,0,1,6.5,5.31,5.31,0,0,0,4.9,4.9,5.31,5.31,0,0,0,6.5,1,5.31,5.31,0,0,0,8.1,4.9,5.31,5.31,0,0,0,12,6.5,5.46,5.46,0,0,0,6.5,12Z\"/>\n",
              "  </svg>\n",
              "    </button>\n",
              "    <script>\n",
              "      (() => {\n",
              "      const buttonEl =\n",
              "        document.querySelector('#id_338958b6-9b6f-4e06-866a-bccc802af804 button.colab-df-generate');\n",
              "      buttonEl.style.display =\n",
              "        google.colab.kernel.accessAllowed ? 'block' : 'none';\n",
              "\n",
              "      buttonEl.onclick = () => {\n",
              "        google.colab.notebook.generateWithVariable('submission');\n",
              "      }\n",
              "      })();\n",
              "    </script>\n",
              "  </div>\n",
              "\n",
              "    </div>\n",
              "  </div>\n"
            ],
            "application/vnd.google.colaboratory.intrinsic+json": {
              "type": "dataframe",
              "variable_name": "submission",
              "summary": "{\n  \"name\": \"submission\",\n  \"rows\": 1,\n  \"fields\": [\n    {\n      \"column\": \"n_estimators\",\n      \"properties\": {\n        \"dtype\": \"number\",\n        \"std\": null,\n        \"min\": 50,\n        \"max\": 50,\n        \"num_unique_values\": 1,\n        \"samples\": [\n          50\n        ],\n        \"semantic_type\": \"\",\n        \"description\": \"\"\n      }\n    },\n    {\n      \"column\": \"criterion\",\n      \"properties\": {\n        \"dtype\": \"string\",\n        \"num_unique_values\": 1,\n        \"samples\": [\n          \"gini\"\n        ],\n        \"semantic_type\": \"\",\n        \"description\": \"\"\n      }\n    },\n    {\n      \"column\": \"max_depth\",\n      \"properties\": {\n        \"dtype\": \"number\",\n        \"std\": null,\n        \"min\": 8,\n        \"max\": 8,\n        \"num_unique_values\": 1,\n        \"samples\": [\n          8\n        ],\n        \"semantic_type\": \"\",\n        \"description\": \"\"\n      }\n    },\n    {\n      \"column\": \"min_samples_split\",\n      \"properties\": {\n        \"dtype\": \"number\",\n        \"std\": null,\n        \"min\": 2,\n        \"max\": 2,\n        \"num_unique_values\": 1,\n        \"samples\": [\n          2\n        ],\n        \"semantic_type\": \"\",\n        \"description\": \"\"\n      }\n    },\n    {\n      \"column\": \"min_samples_leaf\",\n      \"properties\": {\n        \"dtype\": \"number\",\n        \"std\": null,\n        \"min\": 5,\n        \"max\": 5,\n        \"num_unique_values\": 1,\n        \"samples\": [\n          5\n        ],\n        \"semantic_type\": \"\",\n        \"description\": \"\"\n      }\n    },\n    {\n      \"column\": \"min_weight_fraction_leaf\",\n      \"properties\": {\n        \"dtype\": \"number\",\n        \"std\": null,\n        \"min\": 0,\n        \"max\": 0,\n        \"num_unique_values\": 1,\n        \"samples\": [\n          0\n        ],\n        \"semantic_type\": \"\",\n        \"description\": \"\"\n      }\n    },\n    {\n      \"column\": \"max_features\",\n      \"properties\": {\n        \"dtype\": \"number\",\n        \"std\": null,\n        \"min\": 3,\n        \"max\": 3,\n        \"num_unique_values\": 1,\n        \"samples\": [\n          3\n        ],\n        \"semantic_type\": \"\",\n        \"description\": \"\"\n      }\n    },\n    {\n      \"column\": \"max_leaf_nodes\",\n      \"properties\": {\n        \"dtype\": \"number\",\n        \"std\": null,\n        \"min\": null,\n        \"max\": null,\n        \"num_unique_values\": 0,\n        \"samples\": [],\n        \"semantic_type\": \"\",\n        \"description\": \"\"\n      }\n    },\n    {\n      \"column\": \"min_impurity_decrease\",\n      \"properties\": {\n        \"dtype\": \"number\",\n        \"std\": null,\n        \"min\": 0.0006249322583502685,\n        \"max\": 0.0006249322583502685,\n        \"num_unique_values\": 1,\n        \"samples\": [],\n        \"semantic_type\": \"\",\n        \"description\": \"\"\n      }\n    },\n    {\n      \"column\": \"bootstrap\",\n      \"properties\": {\n        \"dtype\": \"boolean\",\n        \"num_unique_values\": 1,\n        \"samples\": [],\n        \"semantic_type\": \"\",\n        \"description\": \"\"\n      }\n    }\n  ]\n}"
            }
          },
          "metadata": {},
          "execution_count": 320
        }
      ]
    },
    {
      "cell_type": "markdown",
      "source": [
        "## 제출"
      ],
      "metadata": {
        "id": "crczr8xHvx1Z"
      }
    },
    {
      "cell_type": "code",
      "source": [
        "submission.to_csv(\"./data/submission-optuna-cv-final.csv\", index=False)"
      ],
      "metadata": {
        "id": "LIlBQRa_sdUV"
      },
      "execution_count": 321,
      "outputs": []
    },
    {
      "cell_type": "markdown",
      "source": [
        "`-` 점수는 0.780181962"
      ],
      "metadata": {
        "id": "U1LUbU58vggx"
      }
    },
    {
      "cell_type": "code",
      "source": [],
      "metadata": {
        "id": "-UhaoxEYiry-"
      },
      "execution_count": null,
      "outputs": []
    }
  ],
  "metadata": {
    "colab": {
      "provenance": [],
      "toc_visible": true,
      "include_colab_link": true
    },
    "gpuClass": "standard",
    "kernelspec": {
      "display_name": "Python 3 (ipykernel)",
      "language": "python",
      "name": "python3"
    },
    "language_info": {
      "codemirror_mode": {
        "name": "ipython",
        "version": 3
      },
      "file_extension": ".py",
      "mimetype": "text/x-python",
      "name": "python",
      "nbconvert_exporter": "python",
      "pygments_lexer": "ipython3",
      "version": "3.8.11"
    }
  },
  "nbformat": 4,
  "nbformat_minor": 0
}