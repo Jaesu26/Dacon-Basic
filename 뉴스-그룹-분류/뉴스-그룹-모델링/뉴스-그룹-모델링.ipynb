{
 "cells": [
  {
   "cell_type": "markdown",
   "id": "d229cb4e-3aa7-45a1-919f-76707a62d87b",
   "metadata": {},
   "source": [
    "# 뉴스 그룹 분류 경진대회"
   ]
  },
  {
   "cell_type": "markdown",
   "id": "d021095d-375b-4d3c-81f6-f5888e487ca3",
   "metadata": {},
   "source": [
    "`-` 참고: https://dacon.io/competitions/official/235884/codeshare/4739?page=1&dtype=recent\n",
    "\n",
    "`-` 참고: https://dacon.io/competitions/official/235864/codeshare/4246?page=1&dtype=recent"
   ]
  },
  {
   "cell_type": "markdown",
   "id": "b6335e6f-7580-4ecb-8131-0b359929a650",
   "metadata": {},
   "source": [
    "## 패키지 import및 데이터 전치리"
   ]
  },
  {
   "cell_type": "code",
   "execution_count": 1,
   "id": "073c34d0-a355-429d-b1f8-9fe4125ab4e4",
   "metadata": {},
   "outputs": [],
   "source": [
    "import pandas as pd\n",
    "import numpy as np\n",
    "import matplotlib.pyplot as plt\n",
    "import re\n",
    "import os\n",
    "from tqdm import tqdm\n",
    "import nltk\n",
    "from nltk.corpus import stopwords\n",
    "# nltk.download('all')"
   ]
  },
  {
   "cell_type": "code",
   "execution_count": 2,
   "id": "79426438-d270-45c4-a874-3cfed0ff876e",
   "metadata": {},
   "outputs": [],
   "source": [
    "SEED = 22"
   ]
  },
  {
   "cell_type": "code",
   "execution_count": 3,
   "id": "54870ac7-7c1d-4bf4-83b8-3880824c6cbd",
   "metadata": {},
   "outputs": [],
   "source": [
    "os.chdir('C:\\\\Users\\\\Jaesu\\\\github_desktop\\\\Dacon-Basic\\\\뉴스-그룹-분류')"
   ]
  },
  {
   "cell_type": "code",
   "execution_count": 4,
   "id": "7008780e-524e-48a0-996a-3b8c115d7949",
   "metadata": {},
   "outputs": [],
   "source": [
    "df = pd.read_csv('./Data/train.csv')\n",
    "test = pd.read_csv('./Data/test.csv')\n",
    "submission = pd.read_csv('./Data/sample_submission.csv')"
   ]
  },
  {
   "cell_type": "code",
   "execution_count": 5,
   "id": "c683c70e-fac8-4e58-90bb-b5c36da8384a",
   "metadata": {},
   "outputs": [],
   "source": [
    "def clean_text(texts): \n",
    "    corpus = [] \n",
    "    for i in range(0, len(texts)): \n",
    "        review = re.sub(r'[@%\\\\*=()/~#&\\+á?\\xc3\\xa1\\-\\|\\.\\:\\;\\!\\-\\,\\_\\~\\$\\'\\\"\\n\\]\\[\\>]', '', texts[i]) ## @%*=()/+ 와 같은 문장부호 제거\n",
    "        #review = re.sub(r'\\d+','', review) ## 숫자 제거\n",
    "        review = review.lower() ## 소문자 변환\n",
    "        review = re.sub(r'\\s+', ' ', review) ## extra space 제거\n",
    "        review = re.sub(r'<[^>]+>','',review) ## Html tags 제거\n",
    "        review = re.sub(r'\\s+', ' ', review) ## spaces 제거\n",
    "        review = re.sub(r\"^\\s+\", '', review) ## space from start 제거\n",
    "        review = re.sub(r'\\s+$', '', review) ## space from the end 제거\n",
    "        review = re.sub(r'_', ' ', review) ## space from the end 제거\n",
    "        corpus.append(review) \n",
    "\n",
    "    return corpus"
   ]
  },
  {
   "cell_type": "code",
   "execution_count": 6,
   "id": "def1b5b1-9928-4e2e-948c-cfaf477d3b1d",
   "metadata": {},
   "outputs": [],
   "source": [
    "df['clean_text'] = clean_text(df['text'])\n",
    "test['clean_text'] = clean_text(test['text'])"
   ]
  },
  {
   "cell_type": "code",
   "execution_count": 7,
   "id": "564e26e5-9ce3-40ef-8607-ea835ac96568",
   "metadata": {},
   "outputs": [],
   "source": [
    "def remove_stopwords(df_text, stopwords_list):\n",
    "    df_words = df_text.split()\n",
    "    df_text_without_stopwords  = ' '.join([df_word for df_word in df_words if df_word not in stopwords_list])\n",
    "    return df_text_without_stopwords"
   ]
  },
  {
   "cell_type": "code",
   "execution_count": 8,
   "id": "0d722519-bce0-4175-875e-63682911bb24",
   "metadata": {},
   "outputs": [],
   "source": [
    "stopwords_list = stopwords.words('english') ## nltk에서 제공하는 불용어사전 이용"
   ]
  },
  {
   "cell_type": "code",
   "execution_count": 9,
   "id": "07b0c37c-9aa7-453a-b9f5-f480d349eefd",
   "metadata": {},
   "outputs": [],
   "source": [
    "df['clean_text'] = df['clean_text'].apply(lambda text: remove_stopwords(text, stopwords_list))\n",
    "test['clean_text'] = test['clean_text'].apply(lambda text: remove_stopwords(text, stopwords_list))"
   ]
  },
  {
   "cell_type": "code",
   "execution_count": 10,
   "id": "9d57f5fb-eb24-47fa-a197-f08941a0f074",
   "metadata": {},
   "outputs": [],
   "source": [
    "df['text_without_stopwords'] = df['text'].apply(lambda text: remove_stopwords(text, stopwords_list))\n",
    "test['text_without_stopwords'] = test['text'].apply(lambda text: remove_stopwords(text, stopwords_list))"
   ]
  },
  {
   "cell_type": "markdown",
   "id": "35e5e2b8-945b-4a79-825e-aef248fdde9c",
   "metadata": {},
   "source": [
    "## 스태킹 (Stacking)"
   ]
  },
  {
   "cell_type": "code",
   "execution_count": 180,
   "id": "d0705eaa-1f13-4318-b1d5-8a7fe4b77130",
   "metadata": {},
   "outputs": [],
   "source": [
    "import rich \n",
    "from rich.table import Table\n",
    "\n",
    "from sklearn.pipeline import Pipeline\n",
    "from sklearn.feature_extraction.text import TfidfVectorizer, CountVectorizer\n",
    "from sklearn.model_selection import StratifiedKFold, train_test_split, cross_validate\n",
    "from sklearn.naive_bayes import ComplementNB\n",
    "from sklearn.linear_model import SGDClassifier, LogisticRegression \n",
    "from sklearn.ensemble import RandomForestClassifier\n",
    "from sklearn.svm import LinearSVC"
   ]
  },
  {
   "cell_type": "code",
   "execution_count": 214,
   "id": "a4decfc1-b80f-487a-bd10-1912ef63db6f",
   "metadata": {},
   "outputs": [],
   "source": [
    "## accuracy 계산\n",
    "def accuracy(true, pred):\n",
    "    return sum(true == pred) / len(true)"
   ]
  },
  {
   "cell_type": "code",
   "execution_count": 215,
   "id": "d56a7c15-e16b-4c4e-95ec-61f98ca1378a",
   "metadata": {},
   "outputs": [],
   "source": [
    "def get_pipe(model, model_name: str) -> Pipeline:\n",
    "    \"\"\"TfidfVectorizer와 모델을 연결한 파이프라인을 반환하는 함수\"\"\"\n",
    "    tfidf = TfidfVectorizer(analyzer='char', ngram_range=(1, 3))\n",
    "    pipe = Pipeline([\n",
    "        ('tfidf', tfidf),\n",
    "        (model_name, model)\n",
    "    ])\n",
    "    return pipe"
   ]
  },
  {
   "cell_type": "code",
   "execution_count": 216,
   "id": "3eba56fe-4db2-478c-a8f2-1aa0e16f73ba",
   "metadata": {},
   "outputs": [],
   "source": [
    "def get_kfold_accuarcy(model, k: int = 5) -> float:\n",
    "    \"\"\"모델을 입력받아 KFold 예측 후 accuracy score를 반환하는 함수\"\"\"\n",
    "    skfold = StratifiedKFold(k, shuffle=True, random_state=SEED)\n",
    "    acc_list = []\n",
    "    for train_idx, valid_idx in skfold.split(df['clean_text'], df['target']):\n",
    "        print('training......')\n",
    "        train, valid = df.iloc[train_idx], df.iloc[valid_idx]\n",
    "        model.fit(train['clean_text'], train['target'])\n",
    "        pred = model.predict(valid['clean_text'])\n",
    "        acc = accuracy(valid['target'], pred)\n",
    "        acc_list.append(acc)\n",
    "\n",
    "    return np.mean(acc_list)"
   ]
  },
  {
   "cell_type": "code",
   "execution_count": 25,
   "id": "51be93a9-8ad7-4861-940c-46438844cfba",
   "metadata": {},
   "outputs": [],
   "source": [
    "models = [\n",
    "    ('SGD', SGDClassifier(random_state=SEED, n_jobs=-1)),\n",
    "    ('rfc', RandomForestClassifier(random_state=SEED, min_samples_split=10, n_jobs=-1)),\n",
    "    ('logistic', LogisticRegression(random_state=SEED, max_iter=500)),\n",
    "]"
   ]
  },
  {
   "cell_type": "code",
   "execution_count": 20,
   "id": "5e912fbd-9091-47f2-92ac-7ecc0e175898",
   "metadata": {},
   "outputs": [],
   "source": [
    "model_pipes = [(model_name, get_pipe(model, model_name)) for model_name, model in models]"
   ]
  },
  {
   "cell_type": "markdown",
   "id": "13367f31-ba57-4b23-a69b-acca50ff90e0",
   "metadata": {},
   "source": [
    "`-` 부스팅 모델(xgboost, lgbm, catboost)을 쓰면 너무너무 느리다...(에러가 나는건 아닌데 무한 로딩 걸림)\n",
    "\n",
    "`-` 생각해보니 학습할 파라미터 수가 너무 많다"
   ]
  },
  {
   "cell_type": "code",
   "execution_count": 21,
   "id": "0f7b1699-8591-428f-8121-4d47173a23c1",
   "metadata": {},
   "outputs": [
    {
     "name": "stderr",
     "output_type": "stream",
     "text": [
      "                                                                                                                       \r"
     ]
    },
    {
     "data": {
      "text/html": [
       "<pre style=\"white-space:pre;overflow-x:auto;line-height:normal;font-family:Menlo,'DejaVu Sans Mono',consolas,'Courier New',monospace\"><span style=\"font-style: italic\"> Model Comparison Table  </span>\n",
       "┏━━━━━━━━━━━━┳━━━━━━━━━━┓\n",
       "┃<span style=\"font-weight: bold\"> Model Name </span>┃<span style=\"font-weight: bold\"> Accuracy </span>┃\n",
       "┡━━━━━━━━━━━━╇━━━━━━━━━━┩\n",
       "│<span style=\"color: #008000; text-decoration-color: #008000\"> SGD        </span>│   0.6663 │\n",
       "│<span style=\"color: #008000; text-decoration-color: #008000\"> rfc        </span>│   0.5498 │\n",
       "│<span style=\"color: #008000; text-decoration-color: #008000\"> logistic   </span>│   0.6173 │\n",
       "└────────────┴──────────┘\n",
       "</pre>\n"
      ],
      "text/plain": [
       "\u001b[3m Model Comparison Table  \u001b[0m\n",
       "┏━━━━━━━━━━━━┳━━━━━━━━━━┓\n",
       "┃\u001b[1m \u001b[0m\u001b[1mModel Name\u001b[0m\u001b[1m \u001b[0m┃\u001b[1m \u001b[0m\u001b[1mAccuracy\u001b[0m\u001b[1m \u001b[0m┃\n",
       "┡━━━━━━━━━━━━╇━━━━━━━━━━┩\n",
       "│\u001b[32m \u001b[0m\u001b[32mSGD       \u001b[0m\u001b[32m \u001b[0m│   0.6663 │\n",
       "│\u001b[32m \u001b[0m\u001b[32mrfc       \u001b[0m\u001b[32m \u001b[0m│   0.5498 │\n",
       "│\u001b[32m \u001b[0m\u001b[32mlogistic  \u001b[0m\u001b[32m \u001b[0m│   0.6173 │\n",
       "└────────────┴──────────┘\n"
      ]
     },
     "metadata": {},
     "output_type": "display_data"
    }
   ],
   "source": [
    "table = Table(title='Model Comparison Table')\n",
    "table.add_column('Model Name', justify='left', style='green')\n",
    "table.add_column('Accuracy', justify='right')\n",
    "\n",
    "for model_name, model in tqdm(model_pipes, leave=False):\n",
    "    acc = get_kfold_accuarcy(model)\n",
    "    table.add_row(model_name, f'{acc:0.4f}')\n",
    "\n",
    "rich.print(table)"
   ]
  },
  {
   "cell_type": "code",
   "execution_count": 24,
   "id": "b2706966-73f2-4129-93f7-34245caacbe7",
   "metadata": {},
   "outputs": [
    {
     "name": "stdout",
     "output_type": "stream",
     "text": [
      "training......\n"
     ]
    },
    {
     "name": "stderr",
     "output_type": "stream",
     "text": [
      "C:\\anaconda3\\envs\\py38r40\\lib\\site-packages\\sklearn\\linear_model\\_logistic.py:814: ConvergenceWarning: lbfgs failed to converge (status=1):\n",
      "STOP: TOTAL NO. of ITERATIONS REACHED LIMIT.\n",
      "\n",
      "Increase the number of iterations (max_iter) or scale the data as shown in:\n",
      "    https://scikit-learn.org/stable/modules/preprocessing.html\n",
      "Please also refer to the documentation for alternative solver options:\n",
      "    https://scikit-learn.org/stable/modules/linear_model.html#logistic-regression\n",
      "  n_iter_i = _check_optimize_result(\n"
     ]
    },
    {
     "name": "stdout",
     "output_type": "stream",
     "text": [
      "training......\n"
     ]
    },
    {
     "name": "stderr",
     "output_type": "stream",
     "text": [
      "C:\\anaconda3\\envs\\py38r40\\lib\\site-packages\\sklearn\\linear_model\\_logistic.py:814: ConvergenceWarning: lbfgs failed to converge (status=1):\n",
      "STOP: TOTAL NO. of ITERATIONS REACHED LIMIT.\n",
      "\n",
      "Increase the number of iterations (max_iter) or scale the data as shown in:\n",
      "    https://scikit-learn.org/stable/modules/preprocessing.html\n",
      "Please also refer to the documentation for alternative solver options:\n",
      "    https://scikit-learn.org/stable/modules/linear_model.html#logistic-regression\n",
      "  n_iter_i = _check_optimize_result(\n"
     ]
    },
    {
     "name": "stdout",
     "output_type": "stream",
     "text": [
      "training......\n"
     ]
    },
    {
     "name": "stderr",
     "output_type": "stream",
     "text": [
      "C:\\anaconda3\\envs\\py38r40\\lib\\site-packages\\sklearn\\linear_model\\_logistic.py:814: ConvergenceWarning: lbfgs failed to converge (status=1):\n",
      "STOP: TOTAL NO. of ITERATIONS REACHED LIMIT.\n",
      "\n",
      "Increase the number of iterations (max_iter) or scale the data as shown in:\n",
      "    https://scikit-learn.org/stable/modules/preprocessing.html\n",
      "Please also refer to the documentation for alternative solver options:\n",
      "    https://scikit-learn.org/stable/modules/linear_model.html#logistic-regression\n",
      "  n_iter_i = _check_optimize_result(\n"
     ]
    },
    {
     "name": "stdout",
     "output_type": "stream",
     "text": [
      "training......\n"
     ]
    },
    {
     "name": "stderr",
     "output_type": "stream",
     "text": [
      "C:\\anaconda3\\envs\\py38r40\\lib\\site-packages\\sklearn\\linear_model\\_logistic.py:814: ConvergenceWarning: lbfgs failed to converge (status=1):\n",
      "STOP: TOTAL NO. of ITERATIONS REACHED LIMIT.\n",
      "\n",
      "Increase the number of iterations (max_iter) or scale the data as shown in:\n",
      "    https://scikit-learn.org/stable/modules/preprocessing.html\n",
      "Please also refer to the documentation for alternative solver options:\n",
      "    https://scikit-learn.org/stable/modules/linear_model.html#logistic-regression\n",
      "  n_iter_i = _check_optimize_result(\n"
     ]
    },
    {
     "name": "stdout",
     "output_type": "stream",
     "text": [
      "training......\n"
     ]
    },
    {
     "name": "stderr",
     "output_type": "stream",
     "text": [
      "C:\\anaconda3\\envs\\py38r40\\lib\\site-packages\\sklearn\\linear_model\\_logistic.py:814: ConvergenceWarning: lbfgs failed to converge (status=1):\n",
      "STOP: TOTAL NO. of ITERATIONS REACHED LIMIT.\n",
      "\n",
      "Increase the number of iterations (max_iter) or scale the data as shown in:\n",
      "    https://scikit-learn.org/stable/modules/preprocessing.html\n",
      "Please also refer to the documentation for alternative solver options:\n",
      "    https://scikit-learn.org/stable/modules/linear_model.html#logistic-regression\n",
      "  n_iter_i = _check_optimize_result(\n"
     ]
    },
    {
     "data": {
      "text/html": [
       "<pre style=\"white-space:pre;overflow-x:auto;line-height:normal;font-family:Menlo,'DejaVu Sans Mono',consolas,'Courier New',monospace\"><span style=\"color: #008080; text-decoration-color: #008080; font-weight: bold\">0.6683616253348671</span>\n",
       "</pre>\n"
      ],
      "text/plain": [
       "\u001b[1;36m0.6683616253348671\u001b[0m\n"
      ]
     },
     "metadata": {},
     "output_type": "display_data"
    }
   ],
   "source": [
    "from sklearn.ensemble import StackingClassifier\n",
    "\n",
    "stack_models = [(model_name, get_pipe(model, model_name)) for model_name, model in models]\n",
    "stacking = StackingClassifier(stack_models)\n",
    "acc = get_kfold_accuarcy(stacking)\n",
    "rich.print(acc)"
   ]
  },
  {
   "cell_type": "code",
   "execution_count": 26,
   "id": "6a02a8c7-c2dd-4252-b57f-ea18bd3c7856",
   "metadata": {},
   "outputs": [
    {
     "name": "stderr",
     "output_type": "stream",
     "text": [
      "C:\\anaconda3\\envs\\py38r40\\lib\\site-packages\\sklearn\\linear_model\\_logistic.py:814: ConvergenceWarning: lbfgs failed to converge (status=1):\n",
      "STOP: TOTAL NO. of ITERATIONS REACHED LIMIT.\n",
      "\n",
      "Increase the number of iterations (max_iter) or scale the data as shown in:\n",
      "    https://scikit-learn.org/stable/modules/preprocessing.html\n",
      "Please also refer to the documentation for alternative solver options:\n",
      "    https://scikit-learn.org/stable/modules/linear_model.html#logistic-regression\n",
      "  n_iter_i = _check_optimize_result(\n"
     ]
    }
   ],
   "source": [
    "stacking.fit(df['clean_text'], df['target'])\n",
    "pred = stacking.predict(test['clean_text'])"
   ]
  },
  {
   "cell_type": "code",
   "execution_count": 27,
   "id": "fe9ebbd3-0c41-4206-9995-2de0ed89dd10",
   "metadata": {},
   "outputs": [
    {
     "data": {
      "text/html": [
       "<div>\n",
       "<style scoped>\n",
       "    .dataframe tbody tr th:only-of-type {\n",
       "        vertical-align: middle;\n",
       "    }\n",
       "\n",
       "    .dataframe tbody tr th {\n",
       "        vertical-align: top;\n",
       "    }\n",
       "\n",
       "    .dataframe thead th {\n",
       "        text-align: right;\n",
       "    }\n",
       "</style>\n",
       "<table border=\"1\" class=\"dataframe\">\n",
       "  <thead>\n",
       "    <tr style=\"text-align: right;\">\n",
       "      <th></th>\n",
       "      <th>id</th>\n",
       "      <th>target</th>\n",
       "    </tr>\n",
       "  </thead>\n",
       "  <tbody>\n",
       "    <tr>\n",
       "      <th>0</th>\n",
       "      <td>0</td>\n",
       "      <td>3</td>\n",
       "    </tr>\n",
       "    <tr>\n",
       "      <th>1</th>\n",
       "      <td>1</td>\n",
       "      <td>16</td>\n",
       "    </tr>\n",
       "    <tr>\n",
       "      <th>2</th>\n",
       "      <td>2</td>\n",
       "      <td>11</td>\n",
       "    </tr>\n",
       "    <tr>\n",
       "      <th>3</th>\n",
       "      <td>3</td>\n",
       "      <td>8</td>\n",
       "    </tr>\n",
       "    <tr>\n",
       "      <th>4</th>\n",
       "      <td>4</td>\n",
       "      <td>7</td>\n",
       "    </tr>\n",
       "  </tbody>\n",
       "</table>\n",
       "</div>"
      ],
      "text/plain": [
       "   id  target\n",
       "0   0       3\n",
       "1   1      16\n",
       "2   2      11\n",
       "3   3       8\n",
       "4   4       7"
      ]
     },
     "execution_count": 27,
     "metadata": {},
     "output_type": "execute_result"
    }
   ],
   "source": [
    "submission['target'] = pred\n",
    "submission.head()"
   ]
  },
  {
   "cell_type": "code",
   "execution_count": 28,
   "id": "505437a0-9559-447f-b8a0-339f032f3443",
   "metadata": {},
   "outputs": [],
   "source": [
    "submission.to_csv('./Data/submission2.csv', index=False)"
   ]
  },
  {
   "cell_type": "markdown",
   "id": "b89f76eb-685a-40f1-858b-a682d3791a2c",
   "metadata": {},
   "source": [
    "`-` 점수는 0.6681109185"
   ]
  },
  {
   "cell_type": "markdown",
   "id": "75893fe8-fade-449d-aa66-f7d8f1031fc9",
   "metadata": {},
   "source": [
    "## 단일 모델"
   ]
  },
  {
   "cell_type": "code",
   "execution_count": 181,
   "id": "3bee8669-ba24-4b3d-aea8-021f03784f48",
   "metadata": {},
   "outputs": [],
   "source": [
    "count_vec = CountVectorizer()"
   ]
  },
  {
   "cell_type": "code",
   "execution_count": 182,
   "id": "8fadad3e-a4cc-480c-923e-9eee24aeaecb",
   "metadata": {},
   "outputs": [],
   "source": [
    "train_vec = count_vec.fit_transform(df['text_without_stopwords'])\n",
    "test_vec = count_vec.transform(test['text_without_stopwords'])"
   ]
  },
  {
   "cell_type": "markdown",
   "id": "b5b23eab-262e-43eb-8f24-42cfc0476cfc",
   "metadata": {},
   "source": [
    "`-` CountVectorizer는 성능이 별로였다"
   ]
  },
  {
   "cell_type": "code",
   "execution_count": 99,
   "id": "0b01c1ed-4672-4769-98ea-ee0212fd4a03",
   "metadata": {},
   "outputs": [],
   "source": [
    "tfidf1 = TfidfVectorizer(ngram_range=(1, 1), stop_words='english')\n",
    "tfidf = TfidfVectorizer(ngram_range=(1, 2), stop_words='english')\n",
    "tfidf2 = TfidfVectorizer(ngram_range=(1, 2), stop_words='english')\n",
    "tfidf3 = TfidfVectorizer(ngram_range=(1, 2), stop_words='english')\n",
    "tfidf4 = TfidfVectorizer(ngram_range=(1, 3), stop_words='english')"
   ]
  },
  {
   "cell_type": "code",
   "execution_count": 100,
   "id": "1684c6e7-ffcd-4782-9cfc-a7a02775e1ab",
   "metadata": {},
   "outputs": [
    {
     "data": {
      "text/plain": [
       "TfidfVectorizer(stop_words='english')"
      ]
     },
     "execution_count": 100,
     "metadata": {},
     "output_type": "execute_result"
    }
   ],
   "source": [
    "tfidf1.fit(np.array(df['text_without_stopwords']))\n",
    "tfidf.fit(np.array(df['text']))\n",
    "tfidf2.fit(np.array(df['text_without_stopwords']))\n",
    "tfidf3.fit(np.array(df['clean_text']))\n",
    "tfidf4.fit(np.array(df['text_without_stopwords']))"
   ]
  },
  {
   "cell_type": "code",
   "execution_count": 101,
   "id": "ec160d65-248a-4534-a8f5-6fc1e81b0c86",
   "metadata": {},
   "outputs": [],
   "source": [
    "train_tfidf1 = tfidf1.transform(df['text_without_stopwords'])\n",
    "test_tfidf1 = tfidf1.transform(test['text_without_stopwords'])\n",
    "\n",
    "train_tfidf = tfidf.transform(df['text'])\n",
    "test_tfidf = tfidf.transform(test['text'])\n",
    "\n",
    "train_tfidf2 = tfidf2.transform(df['text_without_stopwords'])\n",
    "test_tfidf2 = tfidf2.transform(test['text_without_stopwords'])\n",
    "\n",
    "train_tfidf3 = tfidf3.transform(df['clean_text'])\n",
    "test_tfidf3 = tfidf3.transform(test['clean_text'])\n",
    "\n",
    "train_tfidf4 = tfidf4.transform(df['text_without_stopwords'])\n",
    "test_tfidf4 = tfidf4.transform(test['text_without_stopwords'])"
   ]
  },
  {
   "cell_type": "code",
   "execution_count": 19,
   "id": "5787e543-3d31-44a7-bb60-ce13842f2e52",
   "metadata": {},
   "outputs": [],
   "source": [
    "target = df['target']"
   ]
  },
  {
   "cell_type": "code",
   "execution_count": 20,
   "id": "d903ace1-a58b-4536-8a22-67f8f95f5b28",
   "metadata": {},
   "outputs": [],
   "source": [
    "k = 5\n",
    "skfold = StratifiedKFold(k, shuffle=True, random_state=SEED)"
   ]
  },
  {
   "cell_type": "code",
   "execution_count": 21,
   "id": "3f694955-13bd-4aa3-ac1b-177382dd398d",
   "metadata": {},
   "outputs": [],
   "source": [
    "#X_train, X_valid, y_train, y_valid = train_test_split(train_tfidf, target, train_size=0.8, test_size=0.2, random_state=SEED, stratify=target)"
   ]
  },
  {
   "cell_type": "markdown",
   "id": "331bf4fd-75fc-440e-a869-c01f31ce1031",
   "metadata": {},
   "source": [
    "`-` LSVC에서 C에 따른 정확도 시각화"
   ]
  },
  {
   "cell_type": "code",
   "execution_count": 36,
   "id": "247c9aee-0c67-467e-ac2c-8d821bc80396",
   "metadata": {},
   "outputs": [
    {
     "name": "stderr",
     "output_type": "stream",
     "text": [
      "100%|████████████████████████████████████████████████████████████████████████████████████| 7/7 [09:21<00:00, 80.20s/it]\n"
     ]
    }
   ],
   "source": [
    "train_kfold_acc_list, valid_kfold_acc_list = [], []\n",
    "C = [0.1, 0.5, 1, 3, 5, 7, 10] ## C\n",
    "\n",
    "for c in tqdm(C):\n",
    "    LSVC = LinearSVC(random_state=SEED, C=c)\n",
    "    scores = cross_validate(LSVC, train_tfidf, target, scoring = ('accuracy'),\n",
    "                            return_train_score = True, cv = skfold)\n",
    "\n",
    "    train_kfold_acc_list.append(np.mean(scores['train_score'])) ## acc\n",
    "    valid_kfold_acc_list.append(np.mean(scores['test_score']))  ## acc"
   ]
  },
  {
   "cell_type": "code",
   "execution_count": 37,
   "id": "41e932a2-1ed3-414f-ae49-8c6b0e4b84b4",
   "metadata": {},
   "outputs": [
    {
     "data": {
      "text/plain": [
       "<matplotlib.legend.Legend at 0x1eacca60d90>"
      ]
     },
     "execution_count": 37,
     "metadata": {},
     "output_type": "execute_result"
    },
    {
     "data": {
      "image/png": "[encoded data removed]",
      "text/plain": [
       "<Figure size 432x288 with 1 Axes>"
      ]
     },
     "metadata": {
      "needs_background": "light"
     },
     "output_type": "display_data"
    }
   ],
   "source": [
    "plt.plot(C, train_kfold_acc_list, 'b--', label = 'train set')\n",
    "plt.plot(C, valid_kfold_acc_list, 'r--', label = 'valid set')\n",
    "plt.title('C and Auccuracy')\n",
    "plt.legend()"
   ]
  },
  {
   "cell_type": "markdown",
   "id": "674a2410-ddf2-4331-9bc7-368e0a486da9",
   "metadata": {},
   "source": [
    "`-` C가 5일 때 정확도가 제일 높다"
   ]
  },
  {
   "cell_type": "markdown",
   "id": "cc480c0b-72d3-44e0-a192-19f229b2b9e0",
   "metadata": {},
   "source": [
    "`-` 텍스트 전처리에 따른 모델별 정확도 "
   ]
  },
  {
   "cell_type": "code",
   "execution_count": 163,
   "id": "3a5bfa96-7c89-4f01-9109-b8dcaf602707",
   "metadata": {},
   "outputs": [],
   "source": [
    "SGD = SGDClassifier(random_state=SEED, n_jobs=-1)\n",
    "LSVC = LinearSVC(random_state=SEED, C=5)\n",
    "CNB = ComplementNB(alpha=0.2)"
   ]
  },
  {
   "cell_type": "markdown",
   "id": "a4097e35-637a-43dc-89ea-70f9a14a7453",
   "metadata": {},
   "source": [
    "`-` `ngram_range = (1, 2)`"
   ]
  },
  {
   "cell_type": "code",
   "execution_count": 57,
   "id": "3b82f80c-e7b7-4da6-96eb-746865c3690d",
   "metadata": {},
   "outputs": [],
   "source": [
    "scores_LSVC = cross_validate(LSVC, train_tfidf, target, scoring = ('accuracy'), cv = skfold)\n",
    "scores2_LSVC = cross_validate(LSVC, train_tfidf2, target, scoring = ('accuracy'), cv = skfold)\n",
    "scores3_LSVC = cross_validate(LSVC, train_tfidf3, target, scoring = ('accuracy'), cv = skfold)\n",
    "\n",
    "scores_SGD = cross_validate(SGD, train_tfidf, target, scoring = ('accuracy'), cv = skfold)\n",
    "scores2_SGD = cross_validate(SGD, train_tfidf2, target, scoring = ('accuracy'), cv = skfold)\n",
    "scores3_SGD = cross_validate(SGD, train_tfidf3, target, scoring = ('accuracy'), cv = skfold)"
   ]
  },
  {
   "cell_type": "code",
   "execution_count": 58,
   "id": "6c1853c3-25ae-49e2-8d38-26408aebd151",
   "metadata": {},
   "outputs": [
    {
     "name": "stdout",
     "output_type": "stream",
     "text": [
      "tfidf1 -> LSVC: 0.7571752031492609 SGD: 0.7552260378312521\n",
      "tfidf2 -> LSVC: 0.7572838388039285 SGD: 0.7573925331171569\n",
      "tfidf3 -> LSVC: 0.7239241873296336 SGD: 0.7223000490972153\n"
     ]
    }
   ],
   "source": [
    "print(f\"tfidf1 -> LSVC: {np.mean(scores_LSVC['test_score'])} SGD: {np.mean(scores_SGD['test_score'])}\")\n",
    "print(f\"tfidf2 -> LSVC: {np.mean(scores2_LSVC['test_score'])} SGD: {np.mean(scores2_SGD['test_score'])}\")\n",
    "print(f\"tfidf3 -> LSVC: {np.mean(scores3_LSVC['test_score'])} SGD: {np.mean(scores3_SGD['test_score'])}\")"
   ]
  },
  {
   "cell_type": "code",
   "execution_count": 161,
   "id": "3aa93247-2f1b-4d0c-ba0d-95f0c527ba4f",
   "metadata": {},
   "outputs": [],
   "source": [
    "scores_CNB = cross_validate(CNB, train_tfidf, target, scoring = ('accuracy'), cv = skfold)\n",
    "scores2_CNB = cross_validate(CNB, train_tfidf2, target, scoring = ('accuracy'), cv = skfold)"
   ]
  },
  {
   "cell_type": "code",
   "execution_count": 159,
   "id": "66dc0246-9220-4594-83bf-61796405b837",
   "metadata": {},
   "outputs": [
    {
     "name": "stdout",
     "output_type": "stream",
     "text": [
      "tfidf -> CNB: 0.7784029150958393\n",
      "tfidf2 -> CNB: 0.7786200104294921\n"
     ]
    }
   ],
   "source": [
    "print(f\"tfidf -> CNB: {np.mean(scores_CNB['test_score'])}\")\n",
    "print(f\"tfidf2 -> CNB: {np.mean(scores2_CNB['test_score'])}\")"
   ]
  },
  {
   "cell_type": "markdown",
   "id": "c671d151-7c97-46ee-b9a6-7f317f5bac23",
   "metadata": {},
   "source": [
    "`-` `ngram_range = (1, 3)`"
   ]
  },
  {
   "cell_type": "code",
   "execution_count": 69,
   "id": "32e8307a-40fd-45b1-b649-0801b582c389",
   "metadata": {},
   "outputs": [],
   "source": [
    "scores4_SGD = cross_validate(SGD, train_tfidf4, target, scoring = ('accuracy'), cv = skfold)"
   ]
  },
  {
   "cell_type": "code",
   "execution_count": 70,
   "id": "13617aa2-62d5-4001-b5b7-915c2b366d02",
   "metadata": {},
   "outputs": [
    {
     "name": "stdout",
     "output_type": "stream",
     "text": [
      "tfidf4 -> SGD: 0.7573925331171569\n"
     ]
    }
   ],
   "source": [
    "print(f\"tfidf4 -> SGD: {np.mean(scores2_SGD['test_score'])}\")"
   ]
  },
  {
   "cell_type": "markdown",
   "id": "d7187964-5fd5-46b0-ad1c-7ed85f714754",
   "metadata": {},
   "source": [
    "`-` 신기하게도 텍스트에 전처리를 하면 정학도가 오히려 떨어진다"
   ]
  },
  {
   "cell_type": "markdown",
   "id": "07826ac7-9ce1-4795-8bc6-07705578a621",
   "metadata": {},
   "source": [
    "`-` 전체 데이터로 다시 학습"
   ]
  },
  {
   "cell_type": "code",
   "execution_count": 171,
   "id": "a256ffa7-ef4d-4652-8d1e-670e306ab6f7",
   "metadata": {},
   "outputs": [
    {
     "data": {
      "text/plain": [
       "ComplementNB(alpha=0.2)"
      ]
     },
     "execution_count": 171,
     "metadata": {},
     "output_type": "execute_result"
    }
   ],
   "source": [
    "LSVC.fit(train_tfidf2, target)\n",
    "SGD.fit(train_tfidf2, target)\n",
    "CNB.fit(train_tfidf2, target)"
   ]
  },
  {
   "cell_type": "code",
   "execution_count": 172,
   "id": "e873fc1e-5945-4384-aa2b-9df38012283d",
   "metadata": {},
   "outputs": [],
   "source": [
    "pred1 = SGD.predict(test_tfidf2)\n",
    "pred2 = LSVC.predict(test_tfidf2)\n",
    "pred3 = CNB.predict(test_tfidf2)"
   ]
  },
  {
   "cell_type": "code",
   "execution_count": 299,
   "id": "8e9c1bbf-dc9d-4281-a171-4e430f2c4a0c",
   "metadata": {},
   "outputs": [
    {
     "data": {
      "text/html": [
       "<div>\n",
       "<style scoped>\n",
       "    .dataframe tbody tr th:only-of-type {\n",
       "        vertical-align: middle;\n",
       "    }\n",
       "\n",
       "    .dataframe tbody tr th {\n",
       "        vertical-align: top;\n",
       "    }\n",
       "\n",
       "    .dataframe thead th {\n",
       "        text-align: right;\n",
       "    }\n",
       "</style>\n",
       "<table border=\"1\" class=\"dataframe\">\n",
       "  <thead>\n",
       "    <tr style=\"text-align: right;\">\n",
       "      <th></th>\n",
       "      <th>id</th>\n",
       "      <th>target</th>\n",
       "    </tr>\n",
       "  </thead>\n",
       "  <tbody>\n",
       "    <tr>\n",
       "      <th>0</th>\n",
       "      <td>0</td>\n",
       "      <td>3</td>\n",
       "    </tr>\n",
       "    <tr>\n",
       "      <th>1</th>\n",
       "      <td>1</td>\n",
       "      <td>16</td>\n",
       "    </tr>\n",
       "    <tr>\n",
       "      <th>2</th>\n",
       "      <td>2</td>\n",
       "      <td>11</td>\n",
       "    </tr>\n",
       "    <tr>\n",
       "      <th>3</th>\n",
       "      <td>3</td>\n",
       "      <td>8</td>\n",
       "    </tr>\n",
       "    <tr>\n",
       "      <th>4</th>\n",
       "      <td>4</td>\n",
       "      <td>13</td>\n",
       "    </tr>\n",
       "  </tbody>\n",
       "</table>\n",
       "</div>"
      ],
      "text/plain": [
       "   id  target\n",
       "0   0       3\n",
       "1   1      16\n",
       "2   2      11\n",
       "3   3       8\n",
       "4   4      13"
      ]
     },
     "execution_count": 299,
     "metadata": {},
     "output_type": "execute_result"
    }
   ],
   "source": [
    "submission['target'] = pred1\n",
    "submission.head()"
   ]
  },
  {
   "cell_type": "code",
   "execution_count": 297,
   "id": "6d6ed2b0-d72d-4a77-bfe9-23377c2b6093",
   "metadata": {},
   "outputs": [],
   "source": [
    "submission.to_csv('./Data/submission_SGD.csv', index=False)"
   ]
  },
  {
   "cell_type": "code",
   "execution_count": 300,
   "id": "11886ce6-c8ab-4e33-8d40-b31c263818ae",
   "metadata": {},
   "outputs": [],
   "source": [
    "submission['target'] = pred2\n",
    "submission.to_csv('./Data/submission_LSVC.csv', index=False)"
   ]
  },
  {
   "cell_type": "code",
   "execution_count": 177,
   "id": "bddbb119-caf8-4fe9-b1a7-d3abe69983f8",
   "metadata": {},
   "outputs": [],
   "source": [
    "submission['target'] = pred3\n",
    "submission.to_csv('./Data/submission_CNB.csv', index=False)"
   ]
  },
  {
   "cell_type": "markdown",
   "id": "ac274075-7149-4a4a-98b2-34668372b7a1",
   "metadata": {},
   "source": [
    "`-` 점수는 0.78184(CNB, 나머지 둘은 0.25정도 더 낮다)"
   ]
  },
  {
   "cell_type": "markdown",
   "id": "795191bb-ebe7-40c5-925c-640ae47ac0ec",
   "metadata": {},
   "source": [
    "`-` 단일 모델이 위의 스태킹 모델보다 점수가 훨씬 잘 나왔다\n",
    "\n",
    "`-` 텍스트를 숫자로 변환하는 방법이 다르고 스태킹에 성능이 낮은 모델이 섞여있어서 그런 것 같다\n",
    "\n",
    "`-` 근데 텍스트를 숫자로 변환하는 방법의 차이가 영향이 더 큰 것 같다"
   ]
  },
  {
   "cell_type": "markdown",
   "id": "d435f347-4aa8-49a0-8244-2aea3973e444",
   "metadata": {},
   "source": [
    "## TF-IDF + Stacking"
   ]
  },
  {
   "cell_type": "code",
   "execution_count": 213,
   "id": "3d608dfd-a0c7-43ef-825a-ac0a0984c9e4",
   "metadata": {},
   "outputs": [],
   "source": [
    "def get_pipe2(model, model_name: str) -> Pipeline:\n",
    "    \"\"\"TfidfVectorizer와 모델을 연결한 파이프라인을 반환하는 함수\"\"\"\n",
    "    tfidf = TfidfVectorizer(ngram_range=(1, 2), stop_words='english')\n",
    "    pipe = Pipeline([\n",
    "        ('tfidf', tfidf),\n",
    "        (model_name, model)\n",
    "    ])\n",
    "    return pipe"
   ]
  },
  {
   "cell_type": "code",
   "execution_count": 217,
   "id": "a1f232ec-637c-4e3d-9a35-ded27a0403ad",
   "metadata": {},
   "outputs": [],
   "source": [
    "models = [\n",
    "    ('SGD', SGDClassifier(random_state=SEED)),\n",
    "    ('LSVC', LinearSVC(random_state=SEED, C=5.0)),\n",
    "    ('CNB', ComplementNB(alpha=0.2)),\n",
    "]"
   ]
  },
  {
   "cell_type": "code",
   "execution_count": 218,
   "id": "b6aa54ce-b1a7-40f4-b4d9-38f6df081c7d",
   "metadata": {},
   "outputs": [],
   "source": [
    "stack_models = [(model_name, get_pipe2(model, model_name)) for model_name, model in models]\n",
    "stacking = StackingClassifier(stack_models)"
   ]
  },
  {
   "cell_type": "code",
   "execution_count": 219,
   "id": "2ed3af8e-0f88-474f-b64e-59bc73e85d8b",
   "metadata": {},
   "outputs": [
    {
     "name": "stderr",
     "output_type": "stream",
     "text": [
      "C:\\anaconda3\\envs\\py38r40\\lib\\site-packages\\sklearn\\linear_model\\_logistic.py:814: ConvergenceWarning: lbfgs failed to converge (status=1):\n",
      "STOP: TOTAL NO. of ITERATIONS REACHED LIMIT.\n",
      "\n",
      "Increase the number of iterations (max_iter) or scale the data as shown in:\n",
      "    https://scikit-learn.org/stable/modules/preprocessing.html\n",
      "Please also refer to the documentation for alternative solver options:\n",
      "    https://scikit-learn.org/stable/modules/linear_model.html#logistic-regression\n",
      "  n_iter_i = _check_optimize_result(\n"
     ]
    }
   ],
   "source": [
    "stacking.fit(df['text_without_stopwords'], target)\n",
    "pred = stacking.predict(test['text_without_stopwords'])"
   ]
  },
  {
   "cell_type": "code",
   "execution_count": 225,
   "id": "089d68a3-246e-4945-bee8-b7bc81841071",
   "metadata": {},
   "outputs": [
    {
     "data": {
      "text/html": [
       "<div>\n",
       "<style scoped>\n",
       "    .dataframe tbody tr th:only-of-type {\n",
       "        vertical-align: middle;\n",
       "    }\n",
       "\n",
       "    .dataframe tbody tr th {\n",
       "        vertical-align: top;\n",
       "    }\n",
       "\n",
       "    .dataframe thead th {\n",
       "        text-align: right;\n",
       "    }\n",
       "</style>\n",
       "<table border=\"1\" class=\"dataframe\">\n",
       "  <thead>\n",
       "    <tr style=\"text-align: right;\">\n",
       "      <th></th>\n",
       "      <th>id</th>\n",
       "      <th>target</th>\n",
       "    </tr>\n",
       "  </thead>\n",
       "  <tbody>\n",
       "    <tr>\n",
       "      <th>0</th>\n",
       "      <td>0</td>\n",
       "      <td>3</td>\n",
       "    </tr>\n",
       "    <tr>\n",
       "      <th>1</th>\n",
       "      <td>1</td>\n",
       "      <td>16</td>\n",
       "    </tr>\n",
       "    <tr>\n",
       "      <th>2</th>\n",
       "      <td>2</td>\n",
       "      <td>11</td>\n",
       "    </tr>\n",
       "    <tr>\n",
       "      <th>3</th>\n",
       "      <td>3</td>\n",
       "      <td>8</td>\n",
       "    </tr>\n",
       "    <tr>\n",
       "      <th>4</th>\n",
       "      <td>4</td>\n",
       "      <td>12</td>\n",
       "    </tr>\n",
       "  </tbody>\n",
       "</table>\n",
       "</div>"
      ],
      "text/plain": [
       "   id  target\n",
       "0   0       3\n",
       "1   1      16\n",
       "2   2      11\n",
       "3   3       8\n",
       "4   4      12"
      ]
     },
     "execution_count": 225,
     "metadata": {},
     "output_type": "execute_result"
    }
   ],
   "source": [
    "submission['target'] = pred\n",
    "submission.head()"
   ]
  },
  {
   "cell_type": "code",
   "execution_count": 226,
   "id": "0598e15d-81d5-45fa-b486-a11b3a13c5cc",
   "metadata": {},
   "outputs": [],
   "source": [
    "submission.to_csv('./Data/submission_stacking2.csv', index=False) ## stacking2는 CNB포함, 점수가 똑같음...??\n",
    "## public에 해당하는 인덱스가 똑같나 보다"
   ]
  },
  {
   "cell_type": "markdown",
   "id": "ce721deb-1a98-41ee-b515-b693d5cf3b3f",
   "metadata": {},
   "source": [
    "## ComplementNB OOF\n",
    "\n",
    "`-` out-of-fold"
   ]
  },
  {
   "cell_type": "code",
   "execution_count": 268,
   "id": "d204a9b3-d101-4745-937b-05a0048f923f",
   "metadata": {},
   "outputs": [],
   "source": [
    "CNB = ComplementNB(alpha=0.2)"
   ]
  },
  {
   "cell_type": "code",
   "execution_count": 271,
   "id": "ef620ee2-50dc-4b21-bfb3-04474f029173",
   "metadata": {},
   "outputs": [],
   "source": [
    "k = 15\n",
    "skfold = StratifiedKFold(k, shuffle=True, random_state=SEED)"
   ]
  },
  {
   "cell_type": "code",
   "execution_count": 366,
   "id": "c827ca55-faae-4c17-bd55-79383bc2f005",
   "metadata": {},
   "outputs": [],
   "source": [
    "def OOF_predict(model, X, y, test, score_func, Kfold, is_StratifiedKfold):\n",
    "    \"\"\"\n",
    "    Out-Of-Fold 방식을 통해 test를 예측\n",
    "    X는 csr_matrix이고 predict_proba 메소드가 있는 model이어야 함\n",
    "    \"\"\"\n",
    "    if is_StratifiedKfold:\n",
    "        split_fold = Kfold.split(X, y)\n",
    "    else:\n",
    "        split_fold = Kfold.split(X)\n",
    "        \n",
    "    model_valid_score = []\n",
    "    model_predict = np.zeros(shape=(X.shape[0], len(y.unique())))\n",
    "\n",
    "    for train_idx, valid_idx in split_fold:\n",
    "        X_train, y_train = X[train_idx], y[train_idx]\n",
    "        X_valid, y_valid = X[valid_idx], y[valid_idx]\n",
    "\n",
    "        model.fit(X_train, y_train)\n",
    "\n",
    "        y_predict = model.predict_proba(X_valid).argmax(-1) ## 각 클래스별 확률을 구하고 -1차원을 기준으로 argmax를 구한다(확률이 가장 높은 인덱스 번호를 반환)\n",
    "        test_predict = model.predict_proba(test)  ## 각 클래스별 확률을 구함\n",
    "\n",
    "        model_valid_score.append(score_func(y_predict, y_valid)) ## valid 예측값\n",
    "        model_predict += test_predict / Kfold.n_splits ## test 예측값(k Fold)\n",
    "        \n",
    "    model_predict = model_predict.argmax(-1)              \n",
    "    return model_valid_score, model_predict"
   ]
  },
  {
   "cell_type": "markdown",
   "id": "9a847e72-8ac1-4b39-b199-144400f6cd7b",
   "metadata": {},
   "source": [
    "`-` 위의 함수를 더 일반화 시키자(ex: 회귀에서도 쓸 수 있게)"
   ]
  },
  {
   "cell_type": "code",
   "execution_count": 364,
   "id": "3433d6a5-a08c-4d3b-8f9b-835504827b08",
   "metadata": {},
   "outputs": [],
   "source": [
    "CNB_valid_acc, CNB_test_pred = OOF_predict(CNB, train_tfidf2, target, test_tfidf2, accuracy, skfold, True)"
   ]
  },
  {
   "cell_type": "code",
   "execution_count": 359,
   "id": "f6216b8c-3002-42f7-b363-75e789b8d547",
   "metadata": {},
   "outputs": [
    {
     "data": {
      "text/html": [
       "<div>\n",
       "<style scoped>\n",
       "    .dataframe tbody tr th:only-of-type {\n",
       "        vertical-align: middle;\n",
       "    }\n",
       "\n",
       "    .dataframe tbody tr th {\n",
       "        vertical-align: top;\n",
       "    }\n",
       "\n",
       "    .dataframe thead th {\n",
       "        text-align: right;\n",
       "    }\n",
       "</style>\n",
       "<table border=\"1\" class=\"dataframe\">\n",
       "  <thead>\n",
       "    <tr style=\"text-align: right;\">\n",
       "      <th></th>\n",
       "      <th>id</th>\n",
       "      <th>target</th>\n",
       "    </tr>\n",
       "  </thead>\n",
       "  <tbody>\n",
       "    <tr>\n",
       "      <th>0</th>\n",
       "      <td>0</td>\n",
       "      <td>3</td>\n",
       "    </tr>\n",
       "    <tr>\n",
       "      <th>1</th>\n",
       "      <td>1</td>\n",
       "      <td>16</td>\n",
       "    </tr>\n",
       "    <tr>\n",
       "      <th>2</th>\n",
       "      <td>2</td>\n",
       "      <td>11</td>\n",
       "    </tr>\n",
       "    <tr>\n",
       "      <th>3</th>\n",
       "      <td>3</td>\n",
       "      <td>8</td>\n",
       "    </tr>\n",
       "    <tr>\n",
       "      <th>4</th>\n",
       "      <td>4</td>\n",
       "      <td>7</td>\n",
       "    </tr>\n",
       "  </tbody>\n",
       "</table>\n",
       "</div>"
      ],
      "text/plain": [
       "   id  target\n",
       "0   0       3\n",
       "1   1      16\n",
       "2   2      11\n",
       "3   3       8\n",
       "4   4       7"
      ]
     },
     "execution_count": 359,
     "metadata": {},
     "output_type": "execute_result"
    }
   ],
   "source": [
    "submission['target'] = CNB_test_pred\n",
    "submission.head()"
   ]
  },
  {
   "cell_type": "code",
   "execution_count": 317,
   "id": "2cff2a09-45ac-4d26-8a51-df302e569ded",
   "metadata": {},
   "outputs": [],
   "source": [
    "submission.to_csv('./Data/submission_CNB-OOF.csv', index=False)"
   ]
  },
  {
   "cell_type": "code",
   "execution_count": null,
   "id": "c3ab3d5b-45bd-43a6-8eef-30d1e7c2f9f1",
   "metadata": {},
   "outputs": [],
   "source": []
  }
 ],
 "metadata": {
  "kernelspec": {
   "display_name": "Python 3 (ipykernel)",
   "language": "python",
   "name": "python3"
  },
  "language_info": {
   "codemirror_mode": {
    "name": "ipython",
    "version": 3
   },
   "file_extension": ".py",
   "mimetype": "text/x-python",
   "name": "python",
   "nbconvert_exporter": "python",
   "pygments_lexer": "ipython3",
   "version": "3.8.11"
  }
 },
 "nbformat": 4,
 "nbformat_minor": 5
}
