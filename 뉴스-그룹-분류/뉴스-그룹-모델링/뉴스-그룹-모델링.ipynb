{
 "cells": [
  {
   "cell_type": "markdown",
   "id": "d229cb4e-3aa7-45a1-919f-76707a62d87b",
   "metadata": {},
   "source": [
    "# 뉴스 그룹 분류 경진대회"
   ]
  },
  {
   "cell_type": "markdown",
   "id": "d021095d-375b-4d3c-81f6-f5888e487ca3",
   "metadata": {},
   "source": [
    "`-` 참고: https://dacon.io/competitions/official/235884/codeshare/4739?page=1&dtype=recent\n",
    "\n",
    "`-` 참고: https://dacon.io/competitions/official/235864/codeshare/4246?page=1&dtype=recent"
   ]
  },
  {
   "cell_type": "markdown",
   "id": "b6335e6f-7580-4ecb-8131-0b359929a650",
   "metadata": {},
   "source": [
    "## 패키지 import및 데이터 전치리"
   ]
  },
  {
   "cell_type": "code",
   "execution_count": 1,
   "id": "073c34d0-a355-429d-b1f8-9fe4125ab4e4",
   "metadata": {},
   "outputs": [],
   "source": [
    "import pandas as pd\n",
    "import numpy as np\n",
    "import matplotlib.pyplot as plt\n",
    "import re\n",
    "import os\n",
    "from tqdm import tqdm\n",
    "import nltk\n",
    "from nltk.corpus import stopwords\n",
    "# nltk.download('all')"
   ]
  },
  {
   "cell_type": "code",
   "execution_count": 2,
   "id": "79426438-d270-45c4-a874-3cfed0ff876e",
   "metadata": {},
   "outputs": [],
   "source": [
    "SEED = 22"
   ]
  },
  {
   "cell_type": "code",
   "execution_count": 3,
   "id": "54870ac7-7c1d-4bf4-83b8-3880824c6cbd",
   "metadata": {},
   "outputs": [],
   "source": [
    "os.chdir('C:\\\\Users\\\\Jaesu\\\\github_desktop\\\\Dacon-Basic\\\\뉴스-그룹-분류')"
   ]
  },
  {
   "cell_type": "code",
   "execution_count": 4,
   "id": "7008780e-524e-48a0-996a-3b8c115d7949",
   "metadata": {},
   "outputs": [],
   "source": [
    "df = pd.read_csv('./Data/train.csv')\n",
    "test = pd.read_csv('./Data/test.csv')\n",
    "submission = pd.read_csv('./Data/sample_submission.csv')"
   ]
  },
  {
   "cell_type": "code",
   "execution_count": 5,
   "id": "c683c70e-fac8-4e58-90bb-b5c36da8384a",
   "metadata": {},
   "outputs": [],
   "source": [
    "def clean_text(texts): \n",
    "    corpus = [] \n",
    "    for i in range(0, len(texts)): \n",
    "        review = re.sub(r'[@%\\\\*=()/~#&\\+á?\\xc3\\xa1\\-\\|\\.\\:\\;\\!\\-\\,\\_\\~\\$\\'\\\"\\n\\]\\[\\>]', '', texts[i]) ## @%*=()/+ 와 같은 문장부호 제거\n",
    "        review = re.sub(r'\\d+','', review) ## 숫자 제거\n",
    "        review = review.lower() ## 소문자 변환\n",
    "        review = re.sub(r'\\s+', ' ', review) ## extra space 제거\n",
    "        review = re.sub(r'<[^>]+>','',review) ## Html tags 제거\n",
    "        review = re.sub(r'\\s+', ' ', review) ## spaces 제거\n",
    "        review = re.sub(r\"^\\s+\", '', review) ## space from start 제거\n",
    "        review = re.sub(r'\\s+$', '', review) ## space from the end 제거\n",
    "        review = re.sub(r'_', ' ', review) ## space from the end 제거\n",
    "        corpus.append(review) \n",
    "\n",
    "    return corpus"
   ]
  },
  {
   "cell_type": "code",
   "execution_count": 6,
   "id": "def1b5b1-9928-4e2e-948c-cfaf477d3b1d",
   "metadata": {},
   "outputs": [],
   "source": [
    "df['clean_text'] = clean_text(df['text'])\n",
    "test['clean_text'] = clean_text(test['text'])"
   ]
  },
  {
   "cell_type": "code",
   "execution_count": 7,
   "id": "564e26e5-9ce3-40ef-8607-ea835ac96568",
   "metadata": {},
   "outputs": [],
   "source": [
    "def remove_stopwords(df_text, stopwords_list):\n",
    "    df_words = df_text.split()\n",
    "    df_text_without_stopwords  = ' '.join([df_word for df_word in df_words if df_word not in stopwords_list])\n",
    "    return df_text_without_stopwords"
   ]
  },
  {
   "cell_type": "code",
   "execution_count": 8,
   "id": "0d722519-bce0-4175-875e-63682911bb24",
   "metadata": {},
   "outputs": [],
   "source": [
    "stopwords_list = stopwords.words('english') ## nltk에서 제공하는 불용어사전 이용"
   ]
  },
  {
   "cell_type": "code",
   "execution_count": 9,
   "id": "07b0c37c-9aa7-453a-b9f5-f480d349eefd",
   "metadata": {},
   "outputs": [],
   "source": [
    "df['clean_text'] = df['clean_text'].apply(lambda text: remove_stopwords(text, stopwords_list))\n",
    "test['clean_text'] = test['clean_text'].apply(lambda text: remove_stopwords(text, stopwords_list))"
   ]
  },
  {
   "cell_type": "markdown",
   "id": "35e5e2b8-945b-4a79-825e-aef248fdde9c",
   "metadata": {},
   "source": [
    "## 모델링"
   ]
  },
  {
   "cell_type": "code",
   "execution_count": 10,
   "id": "d0705eaa-1f13-4318-b1d5-8a7fe4b77130",
   "metadata": {},
   "outputs": [
    {
     "name": "stderr",
     "output_type": "stream",
     "text": [
      "C:\\anaconda3\\envs\\py38r40\\lib\\site-packages\\xgboost\\compat.py:36: FutureWarning: pandas.Int64Index is deprecated and will be removed from pandas in a future version. Use pandas.Index with the appropriate dtype instead.\n",
      "  from pandas import MultiIndex, Int64Index\n"
     ]
    }
   ],
   "source": [
    "import rich \n",
    "from rich.table import Table\n",
    "\n",
    "from sklearn.pipeline import Pipeline\n",
    "from sklearn.feature_extraction.text import TfidfVectorizer\n",
    "from sklearn.model_selection import StratifiedKFold, cross_val_score\n",
    "from sklearn.naive_bayes import BernoulliNB\n",
    "from sklearn.linear_model import SGDClassifier\n",
    "from sklearn.ensemble import RandomForestClassifier, AdaBoostClassifier\n",
    "from sklearn.neural_network import MLPClassifier\n",
    "from sklearn.svm import SVC\n",
    "from sklearn.neighbors import KNeighborsClassifier\n",
    "\n",
    "from lightgbm import LGBMClassifier\n",
    "from xgboost import XGBClassifier\n",
    "from catboost import CatBoostClassifier"
   ]
  },
  {
   "cell_type": "code",
   "execution_count": 11,
   "id": "d56a7c15-e16b-4c4e-95ec-61f98ca1378a",
   "metadata": {},
   "outputs": [],
   "source": [
    "def get_pipe(model, model_name: str) -> Pipeline:\n",
    "    \"\"\"TfidfVectorizer와 모델을 연결한 파이프라인을 반환하는 함수\"\"\"\n",
    "    tfidf = TfidfVectorizer(analyzer='char', ngram_range=(1, 3))\n",
    "    pipe = Pipeline([\n",
    "        ('tfidf', tfidf),\n",
    "        (model_name, model)\n",
    "    ])\n",
    "    return pipe"
   ]
  },
  {
   "cell_type": "code",
   "execution_count": 12,
   "id": "51be93a9-8ad7-4861-940c-46438844cfba",
   "metadata": {},
   "outputs": [],
   "source": [
    "models = [\n",
    "    ('xgb', XGBClassifier(n_estimators=500, learning_rate=0.05, random_state=SEED,\n",
    "                          max_depth=7, objective='softmax', num_class=20, use_label_encoder=False,\n",
    "                          eval_metric='mlogloss')),\n",
    "    ('cb', CatBoostClassifier(n_estimators=500, learning_rate=0.05, random_state=SEED, max_depth=7, objective='softmax')),\n",
    "    ('lgbm', LGBMClassifier(n_estimators=500, learning_rate=0.05, random_state=SEED, max_depth=7, objective='softmax')),\n",
    "    ('knn', KNeighborsClassifier(n_neighbors=10)),\n",
    "    ('MLP', MLPClassifier(random_state=SEED)),\n",
    "]"
   ]
  },
  {
   "cell_type": "code",
   "execution_count": 13,
   "id": "5e912fbd-9091-47f2-92ac-7ecc0e175898",
   "metadata": {},
   "outputs": [],
   "source": [
    "# model_pipes = [(model_name, get_pipe(model, model_name)) for model_name, model in models]"
   ]
  },
  {
   "cell_type": "markdown",
   "id": "13367f31-ba57-4b23-a69b-acca50ff90e0",
   "metadata": {},
   "source": [
    "`-` 학습이 중간에 멈춘다...(에러가 나는건 아닌데 무한 로딩 걸림)\n",
    "\n",
    "`-` 생각해보니 학습할 파라미터 수가 너무 많아서 GPU 없으면 못할 듯"
   ]
  },
  {
   "cell_type": "code",
   "execution_count": 14,
   "id": "b2706966-73f2-4129-93f7-34245caacbe7",
   "metadata": {},
   "outputs": [],
   "source": [
    "from sklearn.ensemble import StackingClassifier\n",
    "\n",
    "# stack_models = [(model_name, get_pipe(model, model_name)) for model_name, model in models]\n",
    "\n",
    "# stacking = StackingClassifier(stack_models)\n",
    "# acc = return_kfold_accuarcy(stacking)\n",
    "# rich.print(acc)"
   ]
  },
  {
   "cell_type": "code",
   "execution_count": 15,
   "id": "6a02a8c7-c2dd-4252-b57f-ea18bd3c7856",
   "metadata": {},
   "outputs": [],
   "source": [
    "skfold = StratifiedKFold(n_splits=5, random_state=SEED, shuffle=True)"
   ]
  },
  {
   "cell_type": "code",
   "execution_count": 21,
   "id": "b294513f-d34b-4103-b39c-101757cefe6d",
   "metadata": {},
   "outputs": [],
   "source": [
    "tfidf = TfidfVectorizer(ngram_range=(1, 3))"
   ]
  },
  {
   "cell_type": "code",
   "execution_count": 22,
   "id": "d3e0a1a6-a91b-4b98-a919-a507b6244994",
   "metadata": {},
   "outputs": [
    {
     "data": {
      "text/plain": [
       "TfidfVectorizer(ngram_range=(1, 3))"
      ]
     },
     "execution_count": 22,
     "metadata": {},
     "output_type": "execute_result"
    }
   ],
   "source": [
    "tfidf.fit(np.array(df['clean_text']))"
   ]
  },
  {
   "cell_type": "code",
   "execution_count": 23,
   "id": "716b15dc-905e-4cae-a105-fb2992dc10f8",
   "metadata": {},
   "outputs": [],
   "source": [
    "train_tfidf = tfidf.transform(df['clean_text'])\n",
    "test_tfidf = tfidf.transform(test['clean_text'])"
   ]
  },
  {
   "cell_type": "code",
   "execution_count": 24,
   "id": "2e5a2a7a-eaa9-4438-94fe-66831fbae9bf",
   "metadata": {},
   "outputs": [
    {
     "data": {
      "text/plain": [
       "<9233x1641825 sparse matrix of type '<class 'numpy.float64'>'\n",
       "\twith 2324459 stored elements in Compressed Sparse Row format>"
      ]
     },
     "execution_count": 24,
     "metadata": {},
     "output_type": "execute_result"
    }
   ],
   "source": [
    "train_tfidf"
   ]
  },
  {
   "cell_type": "markdown",
   "id": "7e0231b6-9919-4c7e-a911-7672fb6c3d8a",
   "metadata": {},
   "source": [
    "`-` 파라미터 수가 160만을 넘는다..."
   ]
  },
  {
   "cell_type": "code",
   "execution_count": 25,
   "id": "0fc01d0a-54df-428e-b970-ad628fb5d01f",
   "metadata": {},
   "outputs": [],
   "source": [
    "lgbm = LGBMClassifier(n_estimators=500, learning_rate=0.05, random_state=SEED, max_depth=7)"
   ]
  },
  {
   "cell_type": "code",
   "execution_count": 26,
   "id": "3c511609-74ca-45c4-b532-73a10fe8c96f",
   "metadata": {},
   "outputs": [],
   "source": [
    "xgb = XGBClassifier(n_estimators=500, learning_rate=0.05, random_state=SEED,\n",
    "                    max_depth=7, objective='softmax', num_class=20, use_label_encoder=False,\n",
    "                    eval_metric='mlogloss')"
   ]
  },
  {
   "cell_type": "code",
   "execution_count": 27,
   "id": "50c5b236-37a3-40a2-a402-75032e2cb262",
   "metadata": {},
   "outputs": [],
   "source": [
    "#lgbm.fit(train_tfidf, df['target'])"
   ]
  },
  {
   "cell_type": "code",
   "execution_count": 28,
   "id": "628bbc80-16b2-41c6-a60e-9ff45aa21380",
   "metadata": {},
   "outputs": [],
   "source": [
    "#pred = xgb.predict(test_tfidf)"
   ]
  },
  {
   "cell_type": "code",
   "execution_count": 29,
   "id": "fe9ebbd3-0c41-4206-9995-2de0ed89dd10",
   "metadata": {},
   "outputs": [],
   "source": [
    "# submission['target'] = pred\n",
    "# submission.head()"
   ]
  },
  {
   "cell_type": "code",
   "execution_count": 30,
   "id": "505437a0-9559-447f-b8a0-339f032f3443",
   "metadata": {},
   "outputs": [],
   "source": [
    "#submission.to_csv('./Data/submission2.csv', index=False)"
   ]
  },
  {
   "cell_type": "code",
   "execution_count": null,
   "id": "963452b4-47e7-4350-b5c7-87356eb93500",
   "metadata": {},
   "outputs": [],
   "source": []
  }
 ],
 "metadata": {
  "kernelspec": {
   "display_name": "Python 3 (ipykernel)",
   "language": "python",
   "name": "python3"
  },
  "language_info": {
   "codemirror_mode": {
    "name": "ipython",
    "version": 3
   },
   "file_extension": ".py",
   "mimetype": "text/x-python",
   "name": "python",
   "nbconvert_exporter": "python",
   "pygments_lexer": "ipython3",
   "version": "3.8.11"
  }
 },
 "nbformat": 4,
 "nbformat_minor": 5
}
