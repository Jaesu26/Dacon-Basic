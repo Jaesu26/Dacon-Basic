{
 "cells": [
  {
   "cell_type": "markdown",
   "id": "d229cb4e-3aa7-45a1-919f-76707a62d87b",
   "metadata": {},
   "source": [
    "# 뉴스 그룹 분류 경진대회"
   ]
  },
  {
   "cell_type": "markdown",
   "id": "d021095d-375b-4d3c-81f6-f5888e487ca3",
   "metadata": {},
   "source": [
    "`-` 참고: https://dacon.io/competitions/official/235884/codeshare/4739?page=1&dtype=recent\n",
    "\n",
    "`-` 참고: https://dacon.io/competitions/official/235864/codeshare/4246?page=1&dtype=recent"
   ]
  },
  {
   "cell_type": "markdown",
   "id": "b6335e6f-7580-4ecb-8131-0b359929a650",
   "metadata": {},
   "source": [
    "## 패키지 import및 데이터 전치리"
   ]
  },
  {
   "cell_type": "code",
   "execution_count": 1,
   "id": "073c34d0-a355-429d-b1f8-9fe4125ab4e4",
   "metadata": {},
   "outputs": [],
   "source": [
    "import pandas as pd\n",
    "import numpy as np\n",
    "import matplotlib.pyplot as plt\n",
    "import re\n",
    "import os\n",
    "from tqdm import tqdm\n",
    "import nltk\n",
    "from nltk.corpus import stopwords\n",
    "# nltk.download('all')"
   ]
  },
  {
   "cell_type": "code",
   "execution_count": 2,
   "id": "79426438-d270-45c4-a874-3cfed0ff876e",
   "metadata": {},
   "outputs": [],
   "source": [
    "SEED = 22"
   ]
  },
  {
   "cell_type": "code",
   "execution_count": 3,
   "id": "54870ac7-7c1d-4bf4-83b8-3880824c6cbd",
   "metadata": {},
   "outputs": [],
   "source": [
    "os.chdir('C:\\\\Users\\\\Jaesu\\\\github_desktop\\\\Dacon-Basic\\\\뉴스-그룹-분류')"
   ]
  },
  {
   "cell_type": "code",
   "execution_count": 4,
   "id": "7008780e-524e-48a0-996a-3b8c115d7949",
   "metadata": {},
   "outputs": [],
   "source": [
    "df = pd.read_csv('./Data/train.csv')\n",
    "test = pd.read_csv('./Data/test.csv')\n",
    "submission = pd.read_csv('./Data/sample_submission.csv')"
   ]
  },
  {
   "cell_type": "code",
   "execution_count": 276,
   "id": "c683c70e-fac8-4e58-90bb-b5c36da8384a",
   "metadata": {},
   "outputs": [],
   "source": [
    "def clean_text(texts): \n",
    "    corpus = [] \n",
    "    for i in range(0, len(texts)): \n",
    "        review = re.sub(r'[@%\\\\*=()/~#&\\+á?\\xc3\\xa1\\-\\|\\.\\:\\;\\!\\-\\,\\_\\~\\$\\'\\\"\\n\\]\\[\\>]', '', texts[i]) ## @%*=()/+ 와 같은 문장부호 제거\n",
    "        review = re.sub(r'\\d+','', review) ## 숫자 제거\n",
    "        review = review.lower() ## 소문자 변환\n",
    "        review = re.sub(r'\\s+', ' ', review) ## extra space 제거\n",
    "        review = re.sub(r'<[^>]+>','',review) ## Html tags 제거\n",
    "        review = re.sub(r'\\s+', ' ', review) ## spaces 제거\n",
    "        review = re.sub(r\"^\\s+\", '', review) ## space from start 제거\n",
    "        review = re.sub(r'\\s+$', '', review) ## space from the end 제거\n",
    "        review = re.sub(r'_', ' ', review) ## space from the end 제거\n",
    "        corpus.append(review) \n",
    "\n",
    "    return corpus"
   ]
  },
  {
   "cell_type": "code",
   "execution_count": 254,
   "id": "def1b5b1-9928-4e2e-948c-cfaf477d3b1d",
   "metadata": {},
   "outputs": [],
   "source": [
    "df['clean_text'] = clean_text(df['text'])\n",
    "test['clean_text'] = clean_text(test['text'])"
   ]
  },
  {
   "cell_type": "code",
   "execution_count": 7,
   "id": "564e26e5-9ce3-40ef-8607-ea835ac96568",
   "metadata": {},
   "outputs": [],
   "source": [
    "def remove_stopwords(df_text, stopwords_list):\n",
    "    df_words = df_text.split()\n",
    "    df_text_without_stopwords  = ' '.join([df_word for df_word in df_words if df_word not in stopwords_list])\n",
    "    return df_text_without_stopwords"
   ]
  },
  {
   "cell_type": "code",
   "execution_count": 8,
   "id": "0d722519-bce0-4175-875e-63682911bb24",
   "metadata": {},
   "outputs": [],
   "source": [
    "stopwords_list = stopwords.words('english') ## nltk에서 제공하는 불용어사전 이용"
   ]
  },
  {
   "cell_type": "code",
   "execution_count": 262,
   "id": "07b0c37c-9aa7-453a-b9f5-f480d349eefd",
   "metadata": {},
   "outputs": [],
   "source": [
    "df['clean_text'] = df['clean_text'].apply(lambda text: remove_stopwords(text, stopwords_list))\n",
    "test['clean_text'] = test['clean_text'].apply(lambda text: remove_stopwords(text, stopwords_list))"
   ]
  },
  {
   "cell_type": "markdown",
   "id": "35e5e2b8-945b-4a79-825e-aef248fdde9c",
   "metadata": {},
   "source": [
    "## 스태킹 (Stacking)"
   ]
  },
  {
   "cell_type": "code",
   "execution_count": 142,
   "id": "d0705eaa-1f13-4318-b1d5-8a7fe4b77130",
   "metadata": {},
   "outputs": [],
   "source": [
    "import rich \n",
    "from rich.table import Table\n",
    "\n",
    "from sklearn.pipeline import Pipeline\n",
    "from sklearn.feature_extraction.text import TfidfVectorizer\n",
    "from sklearn.model_selection import StratifiedKFold, train_test_split\n",
    "from sklearn.naive_bayes import BernoulliNB\n",
    "from sklearn.linear_model import SGDClassifier, LogisticRegression \n",
    "from sklearn.ensemble import RandomForestClassifier\n",
    "from sklearn.svm import SVC, LinearSVC"
   ]
  },
  {
   "cell_type": "code",
   "execution_count": 13,
   "id": "a4decfc1-b80f-487a-bd10-1912ef63db6f",
   "metadata": {},
   "outputs": [],
   "source": [
    "## accuracy 계산\n",
    "def accuracy(true, pred):\n",
    "    return sum(true == pred) / len(true)"
   ]
  },
  {
   "cell_type": "code",
   "execution_count": 14,
   "id": "d56a7c15-e16b-4c4e-95ec-61f98ca1378a",
   "metadata": {},
   "outputs": [],
   "source": [
    "def get_pipe(model, model_name: str) -> Pipeline:\n",
    "    \"\"\"TfidfVectorizer와 모델을 연결한 파이프라인을 반환하는 함수\"\"\"\n",
    "    tfidf = TfidfVectorizer(analyzer='char', ngram_range=(1, 3))\n",
    "    pipe = Pipeline([\n",
    "        ('tfidf', tfidf),\n",
    "        (model_name, model)\n",
    "    ])\n",
    "    return pipe"
   ]
  },
  {
   "cell_type": "code",
   "execution_count": 15,
   "id": "3eba56fe-4db2-478c-a8f2-1aa0e16f73ba",
   "metadata": {},
   "outputs": [],
   "source": [
    "def get_kfold_accuarcy(model, k: int = 5) -> float:\n",
    "    \"\"\"모델을 입력받아 KFold 예측 후 accuracy score를 반환하는 함수\"\"\"\n",
    "    skfold = StratifiedKFold(k, shuffle=True, random_state=SEED)\n",
    "    acc_list = []\n",
    "    for train_idx, valid_idx in skfold.split(df['clean_text'], df['target']):\n",
    "        print('training......')\n",
    "        train, valid = df.iloc[train_idx], df.iloc[valid_idx]\n",
    "        model.fit(train['clean_text'], train['target'])\n",
    "        pred = model.predict(valid['clean_text'])\n",
    "        acc = accuracy(valid['target'], pred)\n",
    "        acc_list.append(acc)\n",
    "\n",
    "    return np.mean(acc_list)"
   ]
  },
  {
   "cell_type": "code",
   "execution_count": 25,
   "id": "51be93a9-8ad7-4861-940c-46438844cfba",
   "metadata": {},
   "outputs": [],
   "source": [
    "models = [\n",
    "    ('SGD', SGDClassifier(random_state=SEED, n_jobs=-1)),\n",
    "    ('rfc', RandomForestClassifier(random_state=SEED, min_samples_split=10, n_jobs=-1)),\n",
    "    ('logistic', LogisticRegression(random_state=SEED, max_iter=500)),\n",
    "]"
   ]
  },
  {
   "cell_type": "code",
   "execution_count": 20,
   "id": "5e912fbd-9091-47f2-92ac-7ecc0e175898",
   "metadata": {},
   "outputs": [],
   "source": [
    "model_pipes = [(model_name, get_pipe(model, model_name)) for model_name, model in models]"
   ]
  },
  {
   "cell_type": "markdown",
   "id": "13367f31-ba57-4b23-a69b-acca50ff90e0",
   "metadata": {},
   "source": [
    "`-` 부스팅 모델(xgboost, lgbm, catboost)을 쓰면 너무너무 느리다...(에러가 나는건 아닌데 무한 로딩 걸림)\n",
    "\n",
    "`-` 생각해보니 학습할 파라미터 수가 너무 많다"
   ]
  },
  {
   "cell_type": "code",
   "execution_count": 21,
   "id": "0f7b1699-8591-428f-8121-4d47173a23c1",
   "metadata": {},
   "outputs": [
    {
     "name": "stderr",
     "output_type": "stream",
     "text": [
      "                                                                                                                       \r"
     ]
    },
    {
     "data": {
      "text/html": [
       "<pre style=\"white-space:pre;overflow-x:auto;line-height:normal;font-family:Menlo,'DejaVu Sans Mono',consolas,'Courier New',monospace\"><span style=\"font-style: italic\"> Model Comparison Table  </span>\n",
       "┏━━━━━━━━━━━━┳━━━━━━━━━━┓\n",
       "┃<span style=\"font-weight: bold\"> Model Name </span>┃<span style=\"font-weight: bold\"> Accuracy </span>┃\n",
       "┡━━━━━━━━━━━━╇━━━━━━━━━━┩\n",
       "│<span style=\"color: #008000; text-decoration-color: #008000\"> SGD        </span>│   0.6663 │\n",
       "│<span style=\"color: #008000; text-decoration-color: #008000\"> rfc        </span>│   0.5498 │\n",
       "│<span style=\"color: #008000; text-decoration-color: #008000\"> logistic   </span>│   0.6173 │\n",
       "└────────────┴──────────┘\n",
       "</pre>\n"
      ],
      "text/plain": [
       "\u001b[3m Model Comparison Table  \u001b[0m\n",
       "┏━━━━━━━━━━━━┳━━━━━━━━━━┓\n",
       "┃\u001b[1m \u001b[0m\u001b[1mModel Name\u001b[0m\u001b[1m \u001b[0m┃\u001b[1m \u001b[0m\u001b[1mAccuracy\u001b[0m\u001b[1m \u001b[0m┃\n",
       "┡━━━━━━━━━━━━╇━━━━━━━━━━┩\n",
       "│\u001b[32m \u001b[0m\u001b[32mSGD       \u001b[0m\u001b[32m \u001b[0m│   0.6663 │\n",
       "│\u001b[32m \u001b[0m\u001b[32mrfc       \u001b[0m\u001b[32m \u001b[0m│   0.5498 │\n",
       "│\u001b[32m \u001b[0m\u001b[32mlogistic  \u001b[0m\u001b[32m \u001b[0m│   0.6173 │\n",
       "└────────────┴──────────┘\n"
      ]
     },
     "metadata": {},
     "output_type": "display_data"
    }
   ],
   "source": [
    "table = Table(title='Model Comparison Table')\n",
    "table.add_column('Model Name', justify='left', style='green')\n",
    "table.add_column('Accuracy', justify='right')\n",
    "\n",
    "for model_name, model in tqdm(model_pipes, leave=False):\n",
    "    acc = get_kfold_accuarcy(model)\n",
    "    table.add_row(model_name, f'{acc:0.4f}')\n",
    "\n",
    "rich.print(table)"
   ]
  },
  {
   "cell_type": "code",
   "execution_count": 24,
   "id": "b2706966-73f2-4129-93f7-34245caacbe7",
   "metadata": {},
   "outputs": [
    {
     "name": "stdout",
     "output_type": "stream",
     "text": [
      "training......\n"
     ]
    },
    {
     "name": "stderr",
     "output_type": "stream",
     "text": [
      "C:\\anaconda3\\envs\\py38r40\\lib\\site-packages\\sklearn\\linear_model\\_logistic.py:814: ConvergenceWarning: lbfgs failed to converge (status=1):\n",
      "STOP: TOTAL NO. of ITERATIONS REACHED LIMIT.\n",
      "\n",
      "Increase the number of iterations (max_iter) or scale the data as shown in:\n",
      "    https://scikit-learn.org/stable/modules/preprocessing.html\n",
      "Please also refer to the documentation for alternative solver options:\n",
      "    https://scikit-learn.org/stable/modules/linear_model.html#logistic-regression\n",
      "  n_iter_i = _check_optimize_result(\n"
     ]
    },
    {
     "name": "stdout",
     "output_type": "stream",
     "text": [
      "training......\n"
     ]
    },
    {
     "name": "stderr",
     "output_type": "stream",
     "text": [
      "C:\\anaconda3\\envs\\py38r40\\lib\\site-packages\\sklearn\\linear_model\\_logistic.py:814: ConvergenceWarning: lbfgs failed to converge (status=1):\n",
      "STOP: TOTAL NO. of ITERATIONS REACHED LIMIT.\n",
      "\n",
      "Increase the number of iterations (max_iter) or scale the data as shown in:\n",
      "    https://scikit-learn.org/stable/modules/preprocessing.html\n",
      "Please also refer to the documentation for alternative solver options:\n",
      "    https://scikit-learn.org/stable/modules/linear_model.html#logistic-regression\n",
      "  n_iter_i = _check_optimize_result(\n"
     ]
    },
    {
     "name": "stdout",
     "output_type": "stream",
     "text": [
      "training......\n"
     ]
    },
    {
     "name": "stderr",
     "output_type": "stream",
     "text": [
      "C:\\anaconda3\\envs\\py38r40\\lib\\site-packages\\sklearn\\linear_model\\_logistic.py:814: ConvergenceWarning: lbfgs failed to converge (status=1):\n",
      "STOP: TOTAL NO. of ITERATIONS REACHED LIMIT.\n",
      "\n",
      "Increase the number of iterations (max_iter) or scale the data as shown in:\n",
      "    https://scikit-learn.org/stable/modules/preprocessing.html\n",
      "Please also refer to the documentation for alternative solver options:\n",
      "    https://scikit-learn.org/stable/modules/linear_model.html#logistic-regression\n",
      "  n_iter_i = _check_optimize_result(\n"
     ]
    },
    {
     "name": "stdout",
     "output_type": "stream",
     "text": [
      "training......\n"
     ]
    },
    {
     "name": "stderr",
     "output_type": "stream",
     "text": [
      "C:\\anaconda3\\envs\\py38r40\\lib\\site-packages\\sklearn\\linear_model\\_logistic.py:814: ConvergenceWarning: lbfgs failed to converge (status=1):\n",
      "STOP: TOTAL NO. of ITERATIONS REACHED LIMIT.\n",
      "\n",
      "Increase the number of iterations (max_iter) or scale the data as shown in:\n",
      "    https://scikit-learn.org/stable/modules/preprocessing.html\n",
      "Please also refer to the documentation for alternative solver options:\n",
      "    https://scikit-learn.org/stable/modules/linear_model.html#logistic-regression\n",
      "  n_iter_i = _check_optimize_result(\n"
     ]
    },
    {
     "name": "stdout",
     "output_type": "stream",
     "text": [
      "training......\n"
     ]
    },
    {
     "name": "stderr",
     "output_type": "stream",
     "text": [
      "C:\\anaconda3\\envs\\py38r40\\lib\\site-packages\\sklearn\\linear_model\\_logistic.py:814: ConvergenceWarning: lbfgs failed to converge (status=1):\n",
      "STOP: TOTAL NO. of ITERATIONS REACHED LIMIT.\n",
      "\n",
      "Increase the number of iterations (max_iter) or scale the data as shown in:\n",
      "    https://scikit-learn.org/stable/modules/preprocessing.html\n",
      "Please also refer to the documentation for alternative solver options:\n",
      "    https://scikit-learn.org/stable/modules/linear_model.html#logistic-regression\n",
      "  n_iter_i = _check_optimize_result(\n"
     ]
    },
    {
     "data": {
      "text/html": [
       "<pre style=\"white-space:pre;overflow-x:auto;line-height:normal;font-family:Menlo,'DejaVu Sans Mono',consolas,'Courier New',monospace\"><span style=\"color: #008080; text-decoration-color: #008080; font-weight: bold\">0.6683616253348671</span>\n",
       "</pre>\n"
      ],
      "text/plain": [
       "\u001b[1;36m0.6683616253348671\u001b[0m\n"
      ]
     },
     "metadata": {},
     "output_type": "display_data"
    }
   ],
   "source": [
    "from sklearn.ensemble import StackingClassifier\n",
    "\n",
    "stack_models = [(model_name, get_pipe(model, model_name)) for model_name, model in models]\n",
    "stacking = StackingClassifier(stack_models)\n",
    "acc = get_kfold_accuarcy(stacking)\n",
    "rich.print(acc)"
   ]
  },
  {
   "cell_type": "code",
   "execution_count": 26,
   "id": "6a02a8c7-c2dd-4252-b57f-ea18bd3c7856",
   "metadata": {},
   "outputs": [
    {
     "name": "stderr",
     "output_type": "stream",
     "text": [
      "C:\\anaconda3\\envs\\py38r40\\lib\\site-packages\\sklearn\\linear_model\\_logistic.py:814: ConvergenceWarning: lbfgs failed to converge (status=1):\n",
      "STOP: TOTAL NO. of ITERATIONS REACHED LIMIT.\n",
      "\n",
      "Increase the number of iterations (max_iter) or scale the data as shown in:\n",
      "    https://scikit-learn.org/stable/modules/preprocessing.html\n",
      "Please also refer to the documentation for alternative solver options:\n",
      "    https://scikit-learn.org/stable/modules/linear_model.html#logistic-regression\n",
      "  n_iter_i = _check_optimize_result(\n"
     ]
    }
   ],
   "source": [
    "stacking.fit(df['clean_text'], df['target'])\n",
    "pred = stacking.predict(test['clean_text'])"
   ]
  },
  {
   "cell_type": "code",
   "execution_count": 27,
   "id": "fe9ebbd3-0c41-4206-9995-2de0ed89dd10",
   "metadata": {},
   "outputs": [
    {
     "data": {
      "text/html": [
       "<div>\n",
       "<style scoped>\n",
       "    .dataframe tbody tr th:only-of-type {\n",
       "        vertical-align: middle;\n",
       "    }\n",
       "\n",
       "    .dataframe tbody tr th {\n",
       "        vertical-align: top;\n",
       "    }\n",
       "\n",
       "    .dataframe thead th {\n",
       "        text-align: right;\n",
       "    }\n",
       "</style>\n",
       "<table border=\"1\" class=\"dataframe\">\n",
       "  <thead>\n",
       "    <tr style=\"text-align: right;\">\n",
       "      <th></th>\n",
       "      <th>id</th>\n",
       "      <th>target</th>\n",
       "    </tr>\n",
       "  </thead>\n",
       "  <tbody>\n",
       "    <tr>\n",
       "      <th>0</th>\n",
       "      <td>0</td>\n",
       "      <td>3</td>\n",
       "    </tr>\n",
       "    <tr>\n",
       "      <th>1</th>\n",
       "      <td>1</td>\n",
       "      <td>16</td>\n",
       "    </tr>\n",
       "    <tr>\n",
       "      <th>2</th>\n",
       "      <td>2</td>\n",
       "      <td>11</td>\n",
       "    </tr>\n",
       "    <tr>\n",
       "      <th>3</th>\n",
       "      <td>3</td>\n",
       "      <td>8</td>\n",
       "    </tr>\n",
       "    <tr>\n",
       "      <th>4</th>\n",
       "      <td>4</td>\n",
       "      <td>7</td>\n",
       "    </tr>\n",
       "  </tbody>\n",
       "</table>\n",
       "</div>"
      ],
      "text/plain": [
       "   id  target\n",
       "0   0       3\n",
       "1   1      16\n",
       "2   2      11\n",
       "3   3       8\n",
       "4   4       7"
      ]
     },
     "execution_count": 27,
     "metadata": {},
     "output_type": "execute_result"
    }
   ],
   "source": [
    "submission['target'] = pred\n",
    "submission.head()"
   ]
  },
  {
   "cell_type": "code",
   "execution_count": 28,
   "id": "505437a0-9559-447f-b8a0-339f032f3443",
   "metadata": {},
   "outputs": [],
   "source": [
    "submission.to_csv('./Data/submission2.csv', index=False)"
   ]
  },
  {
   "cell_type": "markdown",
   "id": "b89f76eb-685a-40f1-858b-a682d3791a2c",
   "metadata": {},
   "source": [
    "`-` 점수는 0.6681109185"
   ]
  },
  {
   "cell_type": "markdown",
   "id": "75893fe8-fade-449d-aa66-f7d8f1031fc9",
   "metadata": {},
   "source": [
    "## 단일 모델"
   ]
  },
  {
   "cell_type": "code",
   "execution_count": 277,
   "id": "0b01c1ed-4672-4769-98ea-ee0212fd4a03",
   "metadata": {},
   "outputs": [],
   "source": [
    "tfidf = TfidfVectorizer(ngram_range=(1, 2), stop_words='english')"
   ]
  },
  {
   "cell_type": "code",
   "execution_count": 281,
   "id": "1684c6e7-ffcd-4782-9cfc-a7a02775e1ab",
   "metadata": {},
   "outputs": [
    {
     "data": {
      "text/plain": [
       "TfidfVectorizer(ngram_range=(1, 2), stop_words='english')"
      ]
     },
     "execution_count": 281,
     "metadata": {},
     "output_type": "execute_result"
    }
   ],
   "source": [
    "tfidf.fit(np.array(df['text']))"
   ]
  },
  {
   "cell_type": "code",
   "execution_count": 282,
   "id": "ec160d65-248a-4534-a8f5-6fc1e81b0c86",
   "metadata": {},
   "outputs": [],
   "source": [
    "train_tfidf = tfidf.transform(df['text'])\n",
    "test_tfidf = tfidf.transform(test['text'])"
   ]
  },
  {
   "cell_type": "code",
   "execution_count": 283,
   "id": "5787e543-3d31-44a7-bb60-ce13842f2e52",
   "metadata": {},
   "outputs": [],
   "source": [
    "target = df['target']"
   ]
  },
  {
   "cell_type": "code",
   "execution_count": 284,
   "id": "3f694955-13bd-4aa3-ac1b-177382dd398d",
   "metadata": {},
   "outputs": [],
   "source": [
    "X_train, X_valid, y_train, y_valid = train_test_split(train_tfidf, target, train_size=0.8, test_size=0.2, random_state=SEED, stratify=target)"
   ]
  },
  {
   "cell_type": "code",
   "execution_count": 285,
   "id": "3a5bfa96-7c89-4f01-9109-b8dcaf602707",
   "metadata": {},
   "outputs": [],
   "source": [
    "SGD = SGDClassifier(random_state=SEED, n_jobs=-1)\n",
    "LSVC = LinearSVC(random_state=SEED, C=5)"
   ]
  },
  {
   "cell_type": "code",
   "execution_count": 286,
   "id": "739bd830-3567-41f3-8d88-8d2ebee9f585",
   "metadata": {},
   "outputs": [
    {
     "data": {
      "text/plain": [
       "SGDClassifier(n_jobs=-1, random_state=22)"
      ]
     },
     "execution_count": 286,
     "metadata": {},
     "output_type": "execute_result"
    }
   ],
   "source": [
    "LSVC.fit(X_train, y_train)\n",
    "SGD.fit(X_train, y_train)"
   ]
  },
  {
   "cell_type": "code",
   "execution_count": 287,
   "id": "af2fc0ed-376e-4aea-94e5-7de125f9ccdf",
   "metadata": {},
   "outputs": [
    {
     "name": "stdout",
     "output_type": "stream",
     "text": [
      "SGD의 valid accuracy: 0.7693557119653492\n",
      "LSVC의 valid accuracy: 0.7639415268002165\n"
     ]
    }
   ],
   "source": [
    "print(f'SGD의 valid accuracy: {accuracy(SGD.predict(X_valid), y_valid)}')\n",
    "print(f'LSVC의 valid accuracy: {accuracy(LSVC.predict(X_valid), y_valid)}')"
   ]
  },
  {
   "cell_type": "markdown",
   "id": "082058cb-a9d4-4e81-b0f5-e0b55ebf8e9b",
   "metadata": {},
   "source": [
    "`-` 전체 데이터로 다시 학습"
   ]
  },
  {
   "cell_type": "code",
   "execution_count": 288,
   "id": "a256ffa7-ef4d-4652-8d1e-670e306ab6f7",
   "metadata": {},
   "outputs": [
    {
     "data": {
      "text/plain": [
       "SGDClassifier(n_jobs=-1, random_state=22)"
      ]
     },
     "execution_count": 288,
     "metadata": {},
     "output_type": "execute_result"
    }
   ],
   "source": [
    "LSVC.fit(train_tfidf, target)\n",
    "SGD.fit(train_tfidf, target)"
   ]
  },
  {
   "cell_type": "code",
   "execution_count": 289,
   "id": "e873fc1e-5945-4384-aa2b-9df38012283d",
   "metadata": {},
   "outputs": [],
   "source": [
    "pred1 = SGD.predict(test_tfidf)\n",
    "pred2 = LSVC.predict(test_tfidf)"
   ]
  },
  {
   "cell_type": "code",
   "execution_count": 299,
   "id": "8e9c1bbf-dc9d-4281-a171-4e430f2c4a0c",
   "metadata": {},
   "outputs": [
    {
     "data": {
      "text/html": [
       "<div>\n",
       "<style scoped>\n",
       "    .dataframe tbody tr th:only-of-type {\n",
       "        vertical-align: middle;\n",
       "    }\n",
       "\n",
       "    .dataframe tbody tr th {\n",
       "        vertical-align: top;\n",
       "    }\n",
       "\n",
       "    .dataframe thead th {\n",
       "        text-align: right;\n",
       "    }\n",
       "</style>\n",
       "<table border=\"1\" class=\"dataframe\">\n",
       "  <thead>\n",
       "    <tr style=\"text-align: right;\">\n",
       "      <th></th>\n",
       "      <th>id</th>\n",
       "      <th>target</th>\n",
       "    </tr>\n",
       "  </thead>\n",
       "  <tbody>\n",
       "    <tr>\n",
       "      <th>0</th>\n",
       "      <td>0</td>\n",
       "      <td>3</td>\n",
       "    </tr>\n",
       "    <tr>\n",
       "      <th>1</th>\n",
       "      <td>1</td>\n",
       "      <td>16</td>\n",
       "    </tr>\n",
       "    <tr>\n",
       "      <th>2</th>\n",
       "      <td>2</td>\n",
       "      <td>11</td>\n",
       "    </tr>\n",
       "    <tr>\n",
       "      <th>3</th>\n",
       "      <td>3</td>\n",
       "      <td>8</td>\n",
       "    </tr>\n",
       "    <tr>\n",
       "      <th>4</th>\n",
       "      <td>4</td>\n",
       "      <td>13</td>\n",
       "    </tr>\n",
       "  </tbody>\n",
       "</table>\n",
       "</div>"
      ],
      "text/plain": [
       "   id  target\n",
       "0   0       3\n",
       "1   1      16\n",
       "2   2      11\n",
       "3   3       8\n",
       "4   4      13"
      ]
     },
     "execution_count": 299,
     "metadata": {},
     "output_type": "execute_result"
    }
   ],
   "source": [
    "submission['target'] = pred1\n",
    "submission.head()"
   ]
  },
  {
   "cell_type": "code",
   "execution_count": 297,
   "id": "6d6ed2b0-d72d-4a77-bfe9-23377c2b6093",
   "metadata": {},
   "outputs": [],
   "source": [
    "submission.to_csv('./Data/submission_SGD.csv', index=False)"
   ]
  },
  {
   "cell_type": "code",
   "execution_count": 300,
   "id": "11886ce6-c8ab-4e33-8d40-b31c263818ae",
   "metadata": {},
   "outputs": [],
   "source": [
    "submission['target'] = pred2\n",
    "submission.to_csv('./Data/submission_LSVC.csv', index=False)"
   ]
  },
  {
   "cell_type": "markdown",
   "id": "ac274075-7149-4a4a-98b2-34668372b7a1",
   "metadata": {},
   "source": [
    "`-` 점수는 0.7350519931"
   ]
  },
  {
   "cell_type": "markdown",
   "id": "795191bb-ebe7-40c5-925c-640ae47ac0ec",
   "metadata": {},
   "source": [
    "`-` 단일 모델이 위의 스태킹 모델보다 점수가 훨씬 잘 나왔다\n",
    "\n",
    "`-` 텍스트를 숫자로 변환하는 방법이 다르고 스태킹에 성능이 낮은 모델이 섞여있어서 그런 것 같다\n",
    "\n",
    "`-` 근데 텍스트를 숫자로 변환하는 방법의 차이가 영향이 더 큰 것 같다"
   ]
  },
  {
   "cell_type": "markdown",
   "id": "d435f347-4aa8-49a0-8244-2aea3973e444",
   "metadata": {},
   "source": [
    "## TF-IDF + Stacking"
   ]
  },
  {
   "cell_type": "code",
   "execution_count": 301,
   "id": "3d608dfd-a0c7-43ef-825a-ac0a0984c9e4",
   "metadata": {},
   "outputs": [],
   "source": [
    "def get_pipe2(model, model_name: str) -> Pipeline:\n",
    "    \"\"\"TfidfVectorizer와 모델을 연결한 파이프라인을 반환하는 함수\"\"\"\n",
    "    tfidf = TfidfVectorizer(ngram_range=(1, 2), stop_words='english')\n",
    "    pipe = Pipeline([\n",
    "        ('tfidf', tfidf),\n",
    "        (model_name, model)\n",
    "    ])\n",
    "    return pipe"
   ]
  },
  {
   "cell_type": "code",
   "execution_count": 302,
   "id": "a1f232ec-637c-4e3d-9a35-ded27a0403ad",
   "metadata": {},
   "outputs": [],
   "source": [
    "models = [\n",
    "    ('SGD', SGDClassifier(random_state=SEED, n_jobs=-1)),\n",
    "    ('LSVC', LinearSVC(random_state=SEED, C=5.0)),\n",
    "]"
   ]
  },
  {
   "cell_type": "code",
   "execution_count": 303,
   "id": "b6aa54ce-b1a7-40f4-b4d9-38f6df081c7d",
   "metadata": {},
   "outputs": [],
   "source": [
    "stack_models = [(model_name, get_pipe2(model, model_name)) for model_name, model in models]\n",
    "stacking = StackingClassifier(stack_models)"
   ]
  },
  {
   "cell_type": "code",
   "execution_count": 304,
   "id": "2ed3af8e-0f88-474f-b64e-59bc73e85d8b",
   "metadata": {},
   "outputs": [
    {
     "name": "stderr",
     "output_type": "stream",
     "text": [
      "C:\\anaconda3\\envs\\py38r40\\lib\\site-packages\\sklearn\\linear_model\\_logistic.py:814: ConvergenceWarning: lbfgs failed to converge (status=1):\n",
      "STOP: TOTAL NO. of ITERATIONS REACHED LIMIT.\n",
      "\n",
      "Increase the number of iterations (max_iter) or scale the data as shown in:\n",
      "    https://scikit-learn.org/stable/modules/preprocessing.html\n",
      "Please also refer to the documentation for alternative solver options:\n",
      "    https://scikit-learn.org/stable/modules/linear_model.html#logistic-regression\n",
      "  n_iter_i = _check_optimize_result(\n"
     ]
    }
   ],
   "source": [
    "stacking.fit(df['text'], target)\n",
    "pred = stacking.predict(test['text'])"
   ]
  },
  {
   "cell_type": "code",
   "execution_count": 305,
   "id": "cfaac68f-be67-4eb8-9860-34b05323e2a6",
   "metadata": {},
   "outputs": [
    {
     "data": {
      "text/html": [
       "<div>\n",
       "<style scoped>\n",
       "    .dataframe tbody tr th:only-of-type {\n",
       "        vertical-align: middle;\n",
       "    }\n",
       "\n",
       "    .dataframe tbody tr th {\n",
       "        vertical-align: top;\n",
       "    }\n",
       "\n",
       "    .dataframe thead th {\n",
       "        text-align: right;\n",
       "    }\n",
       "</style>\n",
       "<table border=\"1\" class=\"dataframe\">\n",
       "  <thead>\n",
       "    <tr style=\"text-align: right;\">\n",
       "      <th></th>\n",
       "      <th>id</th>\n",
       "      <th>target</th>\n",
       "    </tr>\n",
       "  </thead>\n",
       "  <tbody>\n",
       "    <tr>\n",
       "      <th>0</th>\n",
       "      <td>0</td>\n",
       "      <td>3</td>\n",
       "    </tr>\n",
       "    <tr>\n",
       "      <th>1</th>\n",
       "      <td>1</td>\n",
       "      <td>16</td>\n",
       "    </tr>\n",
       "    <tr>\n",
       "      <th>2</th>\n",
       "      <td>2</td>\n",
       "      <td>11</td>\n",
       "    </tr>\n",
       "    <tr>\n",
       "      <th>3</th>\n",
       "      <td>3</td>\n",
       "      <td>8</td>\n",
       "    </tr>\n",
       "    <tr>\n",
       "      <th>4</th>\n",
       "      <td>4</td>\n",
       "      <td>13</td>\n",
       "    </tr>\n",
       "  </tbody>\n",
       "</table>\n",
       "</div>"
      ],
      "text/plain": [
       "   id  target\n",
       "0   0       3\n",
       "1   1      16\n",
       "2   2      11\n",
       "3   3       8\n",
       "4   4      13"
      ]
     },
     "execution_count": 305,
     "metadata": {},
     "output_type": "execute_result"
    }
   ],
   "source": [
    "submission['target'] = pred\n",
    "submission.head()"
   ]
  },
  {
   "cell_type": "code",
   "execution_count": 309,
   "id": "0598e15d-81d5-45fa-b486-a11b3a13c5cc",
   "metadata": {},
   "outputs": [],
   "source": [
    "submission.to_csv('./Data/submission_stacking.csv', index=False)"
   ]
  },
  {
   "cell_type": "code",
   "execution_count": null,
   "id": "7af8f282-e11f-4dff-a149-9cf4ca8b8745",
   "metadata": {},
   "outputs": [],
   "source": []
  }
 ],
 "metadata": {
  "kernelspec": {
   "display_name": "Python 3 (ipykernel)",
   "language": "python",
   "name": "python3"
  },
  "language_info": {
   "codemirror_mode": {
    "name": "ipython",
    "version": 3
   },
   "file_extension": ".py",
   "mimetype": "text/x-python",
   "name": "python",
   "nbconvert_exporter": "python",
   "pygments_lexer": "ipython3",
   "version": "3.8.11"
  }
 },
 "nbformat": 4,
 "nbformat_minor": 5
}
