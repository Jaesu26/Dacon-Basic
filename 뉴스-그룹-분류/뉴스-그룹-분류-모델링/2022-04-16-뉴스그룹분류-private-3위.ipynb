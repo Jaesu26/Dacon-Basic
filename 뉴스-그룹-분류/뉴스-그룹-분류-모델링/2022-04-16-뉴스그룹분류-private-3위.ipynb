{
 "cells": [
  {
   "cell_type": "markdown",
   "id": "ca10a084-fc61-4ead-9b1d-0925c9bf3d63",
   "metadata": {},
   "source": [
    "# 뉴스 그룹 분류 경진대회"
   ]
  },
  {
   "cell_type": "markdown",
   "id": "00ec13ab-fd44-48a4-977e-c92b928bd1b2",
   "metadata": {},
   "source": [
    "## 데이터 불러오기"
   ]
  },
  {
   "cell_type": "code",
   "execution_count": 1,
   "id": "cabe4de1-a242-465a-8ee5-7d50fbe7dadd",
   "metadata": {},
   "outputs": [],
   "source": [
    "import pandas as pd\n",
    "import numpy as np\n",
    "import matplotlib.pyplot as plt\n",
    "import re\n",
    "import nltk\n",
    "from nltk.corpus import stopwords"
   ]
  },
  {
   "cell_type": "code",
   "execution_count": 2,
   "id": "9c435743-7c4c-49cb-afbb-a1e544b81191",
   "metadata": {},
   "outputs": [],
   "source": [
    "# nltk.download('all') ## 다운로드 안되어 있으면 실행해야 한다"
   ]
  },
  {
   "cell_type": "code",
   "execution_count": 4,
   "id": "3c2f9d99-5a84-419c-9760-2f5dbe3b5323",
   "metadata": {},
   "outputs": [],
   "source": [
    "SEED = 22"
   ]
  },
  {
   "cell_type": "code",
   "execution_count": 5,
   "id": "221abdec-14be-4650-b592-4bc1a8a19901",
   "metadata": {},
   "outputs": [],
   "source": [
    "df = pd.read_csv('./Data/train.csv')\n",
    "test = pd.read_csv('./Data/test.csv')\n",
    "submission = pd.read_csv('./Data/sample_submission.csv')"
   ]
  },
  {
   "cell_type": "markdown",
   "id": "ef40c8c2-1d8f-4357-b32a-a26f97ae446b",
   "metadata": {},
   "source": [
    "## 텍스트 전처리"
   ]
  },
  {
   "cell_type": "code",
   "execution_count": 6,
   "id": "51b1ad2b-ae77-4ae0-ab62-643723c5b2b1",
   "metadata": {},
   "outputs": [],
   "source": [
    "def remove_stopwords(text, stopwords_list):\n",
    "    words = text.split()\n",
    "    text_without_stopwords  = ' '.join([word for word in words if word not in stopwords_list]) ## 불용어 리스트에 포함되지 않는 단어만 선택하여 join\n",
    "    return text_without_stopwords"
   ]
  },
  {
   "cell_type": "code",
   "execution_count": 7,
   "id": "9561b6aa-7e79-4a46-a276-434e697a9b0b",
   "metadata": {},
   "outputs": [],
   "source": [
    "stopwords_list = stopwords.words('english') ## nltk에서 제공하는 불용어사전 이용"
   ]
  },
  {
   "cell_type": "code",
   "execution_count": 8,
   "id": "5120e299-2f3c-4e4f-afd5-d26e58ce66f3",
   "metadata": {},
   "outputs": [],
   "source": [
    "df['text_without_stopwords'] = df['text'].apply(lambda text: remove_stopwords(text, stopwords_list))\n",
    "test['text_without_stopwords'] = test['text'].apply(lambda text: remove_stopwords(text, stopwords_list))"
   ]
  },
  {
   "cell_type": "markdown",
   "id": "976e4506-b11f-41ff-869d-634ab8fd04a7",
   "metadata": {},
   "source": [
    "## 모델 생성"
   ]
  },
  {
   "cell_type": "code",
   "execution_count": 9,
   "id": "bb430e71-9afc-447d-aa84-d675569ee146",
   "metadata": {},
   "outputs": [],
   "source": [
    "from sklearn.feature_extraction.text import TfidfVectorizer\n",
    "from sklearn.model_selection import StratifiedKFold\n",
    "from sklearn.naive_bayes import ComplementNB"
   ]
  },
  {
   "cell_type": "code",
   "execution_count": 10,
   "id": "d3f059f6-8bbc-4d06-9ad2-04ccef76fcd8",
   "metadata": {},
   "outputs": [],
   "source": [
    "## accuracy 계산\n",
    "def accuracy(true, pred):\n",
    "    return sum(true == pred) / len(true)"
   ]
  },
  {
   "cell_type": "code",
   "execution_count": 11,
   "id": "3a85f6ea-6479-4855-90a8-3363f360c05b",
   "metadata": {},
   "outputs": [],
   "source": [
    "tfidf = TfidfVectorizer(ngram_range=(1, 2), stop_words='english')"
   ]
  },
  {
   "cell_type": "code",
   "execution_count": 12,
   "id": "3423da2d-f7be-4b05-a82e-fc89833004d2",
   "metadata": {},
   "outputs": [],
   "source": [
    "train_tfidf = tfidf.fit_transform(df['text_without_stopwords'])\n",
    "test_tfidf = tfidf.transform(test['text_without_stopwords'])"
   ]
  },
  {
   "cell_type": "code",
   "execution_count": 13,
   "id": "9df714b6-573d-423e-a247-b79ae1d25cc5",
   "metadata": {},
   "outputs": [],
   "source": [
    "target = df['target']"
   ]
  },
  {
   "cell_type": "code",
   "execution_count": 14,
   "id": "1d59239e-c0e0-4513-a575-58685654683b",
   "metadata": {},
   "outputs": [],
   "source": [
    "k = 15\n",
    "skfold = StratifiedKFold(k, shuffle=True, random_state=SEED)"
   ]
  },
  {
   "cell_type": "code",
   "execution_count": 15,
   "id": "cabfb22e-c448-44df-91c8-cc7183aa02b2",
   "metadata": {},
   "outputs": [],
   "source": [
    "CNB = ComplementNB(alpha=0.2) ## 모델 생성"
   ]
  },
  {
   "cell_type": "markdown",
   "id": "5a9436a1-9bff-4eb5-a871-6843a38af005",
   "metadata": {},
   "source": [
    "## 모델 학습 및 test 예측"
   ]
  },
  {
   "cell_type": "code",
   "execution_count": 16,
   "id": "27f5f825-1bbd-4238-95a6-64b1aae93838",
   "metadata": {},
   "outputs": [],
   "source": [
    "def OOF_predict(model, X, y, test, SKfold):\n",
    "    \"\"\"\n",
    "    Out-Of-Fold 방식을 통해 test를 예측\n",
    "    \"\"\" \n",
    "    model_valid_score = []\n",
    "    model_predict = np.zeros(shape=(test.shape[0], len(y.unique())))\n",
    "\n",
    "    for train_idx, valid_idx in SKfold.split(X, y):\n",
    "        X_train, y_train = X[train_idx], y[train_idx]\n",
    "        X_valid, y_valid = X[valid_idx], y[valid_idx]\n",
    "\n",
    "        model.fit(X_train, y_train)\n",
    "\n",
    "        y_predict = model.predict_proba(X_valid).argmax(-1) ## 각 클래스별 확률(valid)을 구하고 -1차원을 기준으로 argmax를 구한다(확률이 가장 높은 인덱스 번호를 반환)\n",
    "        test_predict = model.predict_proba(test)  ## 각 클래스별 확률(test)을 구함\n",
    "\n",
    "        model_valid_score.append(accuracy(y_predict, y_valid)) ## valid 정확도\n",
    "        model_predict += test_predict / SKfold.n_splits ## test 예측값(k Fold)\n",
    "        \n",
    "    model_predict = model_predict.argmax(-1)              \n",
    "    return model_valid_score, model_predict"
   ]
  },
  {
   "cell_type": "code",
   "execution_count": 17,
   "id": "48642895-52a3-43ad-9931-312684a6e62e",
   "metadata": {},
   "outputs": [],
   "source": [
    "CNB_valid_acc, CNB_test_pred = OOF_predict(CNB, train_tfidf, target, test_tfidf, skfold)"
   ]
  },
  {
   "cell_type": "code",
   "execution_count": 18,
   "id": "825cd780-f10c-42d2-a742-a85d2f08b63f",
   "metadata": {},
   "outputs": [
    {
     "data": {
      "text/plain": [
       "0.7870654277971353"
      ]
     },
     "execution_count": 18,
     "metadata": {},
     "output_type": "execute_result"
    }
   ],
   "source": [
    "np.mean(CNB_valid_acc)"
   ]
  },
  {
   "cell_type": "markdown",
   "id": "2981de00-6e90-45ad-bb6e-188688263942",
   "metadata": {},
   "source": [
    "`-` 예측 데이터 제출"
   ]
  },
  {
   "cell_type": "code",
   "execution_count": 19,
   "id": "8647e6f1-4175-4f3c-9169-ebc3636ed864",
   "metadata": {},
   "outputs": [
    {
     "data": {
      "text/html": [
       "<div>\n",
       "<style scoped>\n",
       "    .dataframe tbody tr th:only-of-type {\n",
       "        vertical-align: middle;\n",
       "    }\n",
       "\n",
       "    .dataframe tbody tr th {\n",
       "        vertical-align: top;\n",
       "    }\n",
       "\n",
       "    .dataframe thead th {\n",
       "        text-align: right;\n",
       "    }\n",
       "</style>\n",
       "<table border=\"1\" class=\"dataframe\">\n",
       "  <thead>\n",
       "    <tr style=\"text-align: right;\">\n",
       "      <th></th>\n",
       "      <th>id</th>\n",
       "      <th>target</th>\n",
       "    </tr>\n",
       "  </thead>\n",
       "  <tbody>\n",
       "    <tr>\n",
       "      <th>0</th>\n",
       "      <td>0</td>\n",
       "      <td>3</td>\n",
       "    </tr>\n",
       "    <tr>\n",
       "      <th>1</th>\n",
       "      <td>1</td>\n",
       "      <td>16</td>\n",
       "    </tr>\n",
       "    <tr>\n",
       "      <th>2</th>\n",
       "      <td>2</td>\n",
       "      <td>11</td>\n",
       "    </tr>\n",
       "    <tr>\n",
       "      <th>3</th>\n",
       "      <td>3</td>\n",
       "      <td>8</td>\n",
       "    </tr>\n",
       "    <tr>\n",
       "      <th>4</th>\n",
       "      <td>4</td>\n",
       "      <td>7</td>\n",
       "    </tr>\n",
       "  </tbody>\n",
       "</table>\n",
       "</div>"
      ],
      "text/plain": [
       "   id  target\n",
       "0   0       3\n",
       "1   1      16\n",
       "2   2      11\n",
       "3   3       8\n",
       "4   4       7"
      ]
     },
     "execution_count": 19,
     "metadata": {},
     "output_type": "execute_result"
    }
   ],
   "source": [
    "submission['target'] = CNB_test_pred\n",
    "submission.head()"
   ]
  },
  {
   "cell_type": "code",
   "execution_count": 20,
   "id": "1addf776-d27d-461c-a240-8a907f09b685",
   "metadata": {},
   "outputs": [],
   "source": [
    "submission.to_csv('./Data/submission_CNB-OOF.csv', index=False)"
   ]
  },
  {
   "cell_type": "code",
   "execution_count": null,
   "id": "d980d6e3-4299-4a11-b1b0-661e95540a96",
   "metadata": {},
   "outputs": [],
   "source": []
  }
 ],
 "metadata": {
  "kernelspec": {
   "display_name": "Python 3 (ipykernel)",
   "language": "python",
   "name": "python3"
  },
  "language_info": {
   "codemirror_mode": {
    "name": "ipython",
    "version": 3
   },
   "file_extension": ".py",
   "mimetype": "text/x-python",
   "name": "python",
   "nbconvert_exporter": "python",
   "pygments_lexer": "ipython3",
   "version": "3.8.11"
  }
 },
 "nbformat": 4,
 "nbformat_minor": 5
}
