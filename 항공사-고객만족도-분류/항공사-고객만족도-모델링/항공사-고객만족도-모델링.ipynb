{
 "cells": [
  {
   "cell_type": "markdown",
   "id": "508ea008-4ffe-48ff-9535-480e442b09e4",
   "metadata": {},
   "source": [
    "# 항공사 고객 만족도 예측 경진대회"
   ]
  },
  {
   "cell_type": "markdown",
   "id": "6be2eea5-a2a7-4e6e-bfc4-479c5a6c0247",
   "metadata": {},
   "source": [
    "## 패키지 import 및 데이터 전처리"
   ]
  },
  {
   "cell_type": "code",
   "execution_count": 1,
   "id": "32c6493a-2404-4a84-ad9e-de9b1546396a",
   "metadata": {},
   "outputs": [],
   "source": [
    "import pandas as pd\n",
    "import numpy as np\n",
    "import matplotlib.pyplot as plt\n",
    "import seaborn as sns\n",
    "from sklearn.preprocessing import LabelEncoder\n",
    "import warnings\n",
    "\n",
    "warnings.filterwarnings('ignore')\n",
    "sns.set_theme()"
   ]
  },
  {
   "cell_type": "code",
   "execution_count": 2,
   "id": "dc34816c-eaa3-4aa6-a9e7-7db7eedc3f91",
   "metadata": {},
   "outputs": [],
   "source": [
    "pd.set_option('display.max_columns', None) ## 컬럼 전체를 출력하도록 설정"
   ]
  },
  {
   "cell_type": "code",
   "execution_count": 1096,
   "id": "a222e83c-2c80-4238-9231-3a8dd805a5b5",
   "metadata": {},
   "outputs": [],
   "source": [
    "df = pd.read_csv('C:/Users/Jaesu/github_desktop/Dacon-Basic/항공사-고객만족도-예측/Data/train.csv')\n",
    "test = pd.read_csv('C:/Users/Jaesu/github_desktop/Dacon-Basic/항공사-고객만족도-예측/Data/test.csv')"
   ]
  },
  {
   "cell_type": "code",
   "execution_count": 1097,
   "id": "f2e40136-414a-4313-813a-64e05aaa66d7",
   "metadata": {},
   "outputs": [
    {
     "data": {
      "text/html": [
       "<div>\n",
       "<style scoped>\n",
       "    .dataframe tbody tr th:only-of-type {\n",
       "        vertical-align: middle;\n",
       "    }\n",
       "\n",
       "    .dataframe tbody tr th {\n",
       "        vertical-align: top;\n",
       "    }\n",
       "\n",
       "    .dataframe thead th {\n",
       "        text-align: right;\n",
       "    }\n",
       "</style>\n",
       "<table border=\"1\" class=\"dataframe\">\n",
       "  <thead>\n",
       "    <tr style=\"text-align: right;\">\n",
       "      <th></th>\n",
       "      <th>id</th>\n",
       "      <th>Gender</th>\n",
       "      <th>Customer Type</th>\n",
       "      <th>Age</th>\n",
       "      <th>Type of Travel</th>\n",
       "      <th>Class</th>\n",
       "      <th>Flight Distance</th>\n",
       "      <th>Seat comfort</th>\n",
       "      <th>Departure/Arrival time convenient</th>\n",
       "      <th>Food and drink</th>\n",
       "      <th>Gate location</th>\n",
       "      <th>Inflight wifi service</th>\n",
       "      <th>Inflight entertainment</th>\n",
       "      <th>Online support</th>\n",
       "      <th>Ease of Online booking</th>\n",
       "      <th>On-board service</th>\n",
       "      <th>Leg room service</th>\n",
       "      <th>Baggage handling</th>\n",
       "      <th>Checkin service</th>\n",
       "      <th>Cleanliness</th>\n",
       "      <th>Online boarding</th>\n",
       "      <th>Departure Delay in Minutes</th>\n",
       "      <th>Arrival Delay in Minutes</th>\n",
       "      <th>target</th>\n",
       "    </tr>\n",
       "  </thead>\n",
       "  <tbody>\n",
       "    <tr>\n",
       "      <th>0</th>\n",
       "      <td>1</td>\n",
       "      <td>Female</td>\n",
       "      <td>disloyal Customer</td>\n",
       "      <td>22</td>\n",
       "      <td>Business travel</td>\n",
       "      <td>Eco</td>\n",
       "      <td>1599</td>\n",
       "      <td>3</td>\n",
       "      <td>0</td>\n",
       "      <td>3</td>\n",
       "      <td>3</td>\n",
       "      <td>4</td>\n",
       "      <td>3</td>\n",
       "      <td>4</td>\n",
       "      <td>4</td>\n",
       "      <td>5</td>\n",
       "      <td>4</td>\n",
       "      <td>4</td>\n",
       "      <td>4</td>\n",
       "      <td>5</td>\n",
       "      <td>4</td>\n",
       "      <td>0</td>\n",
       "      <td>0.0</td>\n",
       "      <td>0</td>\n",
       "    </tr>\n",
       "    <tr>\n",
       "      <th>1</th>\n",
       "      <td>2</td>\n",
       "      <td>Female</td>\n",
       "      <td>Loyal Customer</td>\n",
       "      <td>37</td>\n",
       "      <td>Business travel</td>\n",
       "      <td>Business</td>\n",
       "      <td>2810</td>\n",
       "      <td>2</td>\n",
       "      <td>4</td>\n",
       "      <td>4</td>\n",
       "      <td>4</td>\n",
       "      <td>1</td>\n",
       "      <td>4</td>\n",
       "      <td>3</td>\n",
       "      <td>5</td>\n",
       "      <td>5</td>\n",
       "      <td>4</td>\n",
       "      <td>2</td>\n",
       "      <td>1</td>\n",
       "      <td>5</td>\n",
       "      <td>2</td>\n",
       "      <td>18</td>\n",
       "      <td>18.0</td>\n",
       "      <td>0</td>\n",
       "    </tr>\n",
       "    <tr>\n",
       "      <th>2</th>\n",
       "      <td>3</td>\n",
       "      <td>Male</td>\n",
       "      <td>Loyal Customer</td>\n",
       "      <td>46</td>\n",
       "      <td>Business travel</td>\n",
       "      <td>Business</td>\n",
       "      <td>2622</td>\n",
       "      <td>1</td>\n",
       "      <td>1</td>\n",
       "      <td>1</td>\n",
       "      <td>1</td>\n",
       "      <td>4</td>\n",
       "      <td>5</td>\n",
       "      <td>5</td>\n",
       "      <td>4</td>\n",
       "      <td>4</td>\n",
       "      <td>4</td>\n",
       "      <td>4</td>\n",
       "      <td>5</td>\n",
       "      <td>4</td>\n",
       "      <td>3</td>\n",
       "      <td>0</td>\n",
       "      <td>0.0</td>\n",
       "      <td>1</td>\n",
       "    </tr>\n",
       "    <tr>\n",
       "      <th>3</th>\n",
       "      <td>4</td>\n",
       "      <td>Female</td>\n",
       "      <td>disloyal Customer</td>\n",
       "      <td>24</td>\n",
       "      <td>Business travel</td>\n",
       "      <td>Eco</td>\n",
       "      <td>2348</td>\n",
       "      <td>3</td>\n",
       "      <td>3</td>\n",
       "      <td>3</td>\n",
       "      <td>3</td>\n",
       "      <td>3</td>\n",
       "      <td>3</td>\n",
       "      <td>3</td>\n",
       "      <td>3</td>\n",
       "      <td>2</td>\n",
       "      <td>4</td>\n",
       "      <td>5</td>\n",
       "      <td>3</td>\n",
       "      <td>4</td>\n",
       "      <td>3</td>\n",
       "      <td>10</td>\n",
       "      <td>2.0</td>\n",
       "      <td>0</td>\n",
       "    </tr>\n",
       "    <tr>\n",
       "      <th>4</th>\n",
       "      <td>5</td>\n",
       "      <td>Female</td>\n",
       "      <td>Loyal Customer</td>\n",
       "      <td>58</td>\n",
       "      <td>Business travel</td>\n",
       "      <td>Business</td>\n",
       "      <td>105</td>\n",
       "      <td>3</td>\n",
       "      <td>3</td>\n",
       "      <td>3</td>\n",
       "      <td>3</td>\n",
       "      <td>4</td>\n",
       "      <td>4</td>\n",
       "      <td>5</td>\n",
       "      <td>4</td>\n",
       "      <td>4</td>\n",
       "      <td>4</td>\n",
       "      <td>4</td>\n",
       "      <td>4</td>\n",
       "      <td>4</td>\n",
       "      <td>5</td>\n",
       "      <td>0</td>\n",
       "      <td>0.0</td>\n",
       "      <td>1</td>\n",
       "    </tr>\n",
       "  </tbody>\n",
       "</table>\n",
       "</div>"
      ],
      "text/plain": [
       "   id  Gender      Customer Type  Age   Type of Travel     Class  \\\n",
       "0   1  Female  disloyal Customer   22  Business travel       Eco   \n",
       "1   2  Female     Loyal Customer   37  Business travel  Business   \n",
       "2   3    Male     Loyal Customer   46  Business travel  Business   \n",
       "3   4  Female  disloyal Customer   24  Business travel       Eco   \n",
       "4   5  Female     Loyal Customer   58  Business travel  Business   \n",
       "\n",
       "   Flight Distance  Seat comfort  Departure/Arrival time convenient  \\\n",
       "0             1599             3                                  0   \n",
       "1             2810             2                                  4   \n",
       "2             2622             1                                  1   \n",
       "3             2348             3                                  3   \n",
       "4              105             3                                  3   \n",
       "\n",
       "   Food and drink  Gate location  Inflight wifi service  \\\n",
       "0               3              3                      4   \n",
       "1               4              4                      1   \n",
       "2               1              1                      4   \n",
       "3               3              3                      3   \n",
       "4               3              3                      4   \n",
       "\n",
       "   Inflight entertainment  Online support  Ease of Online booking  \\\n",
       "0                       3               4                       4   \n",
       "1                       4               3                       5   \n",
       "2                       5               5                       4   \n",
       "3                       3               3                       3   \n",
       "4                       4               5                       4   \n",
       "\n",
       "   On-board service  Leg room service  Baggage handling  Checkin service  \\\n",
       "0                 5                 4                 4                4   \n",
       "1                 5                 4                 2                1   \n",
       "2                 4                 4                 4                5   \n",
       "3                 2                 4                 5                3   \n",
       "4                 4                 4                 4                4   \n",
       "\n",
       "   Cleanliness  Online boarding  Departure Delay in Minutes  \\\n",
       "0            5                4                           0   \n",
       "1            5                2                          18   \n",
       "2            4                3                           0   \n",
       "3            4                3                          10   \n",
       "4            4                5                           0   \n",
       "\n",
       "   Arrival Delay in Minutes  target  \n",
       "0                       0.0       0  \n",
       "1                      18.0       0  \n",
       "2                       0.0       1  \n",
       "3                       2.0       0  \n",
       "4                       0.0       1  "
      ]
     },
     "execution_count": 1097,
     "metadata": {},
     "output_type": "execute_result"
    }
   ],
   "source": [
    "df.head()"
   ]
  },
  {
   "cell_type": "markdown",
   "id": "9ec2093a-a090-4898-9ef0-29447a56be17",
   "metadata": {},
   "source": [
    "|컬럼명|세부사항|\n",
    "|:-:|:-:|\n",
    "|id | 샘플 아이디|\n",
    "|Gender | 성별|\n",
    "|Customer Type | Disloyal 또는 Loyal 고객|\n",
    "|Age | 나이|\n",
    "|Type of Travel | Business 또는 Personal Travel\n",
    "|Class | 등급|\n",
    "|Flight Distance | 비행 거리|\n",
    "|Seat comfort | 좌석 만족도|\n",
    "|Departure/Arrival time convenient | 출발/도착 시간 편의성 만족도|\n",
    "|Food and drink | 식음료 만족도|\n",
    "|Gate location | 게이트 위치 만족도|\n",
    "|Inflight wifi service | 기내 와이파이 서비스 만족도|\n",
    "|Inflight entertainment | 기내 엔터테인먼트 만족도|\n",
    "|Online support |온라인 지원 만족도|\n",
    "|Ease of Online booking| 온라인 예매 편리성 만족도|\n",
    "|On-board service | 탑승 서비스 만족도|\n",
    "|Leg room service | Leg room 서비스 만족도|\n",
    "|Baggage handling | 수하물 처리 만족도|\n",
    "|Checkin service | 체크인 서비스 만족도|\n",
    "|Cleanliness | 청결도 만족도|\n",
    "|Online boarding | 온라인보딩 만족도|\n",
    "|Departure Delay in Minutes | 출발 지연 시간|\n",
    "|Arrival Delay in Minutes | 도착 지연 시간|\n",
    "|target | 만족 여부|"
   ]
  },
  {
   "cell_type": "code",
   "execution_count": 1098,
   "id": "9beac9e1-4af1-45dc-99cf-e52e50562735",
   "metadata": {},
   "outputs": [],
   "source": [
    "df.drop('id', axis = 1, inplace = True) ## id는 필요없으니 제거\n",
    "test.drop('id', axis = 1, inplace = True) ## id는 필요없으니 제거"
   ]
  },
  {
   "cell_type": "markdown",
   "id": "67b4481d-d70e-4f4a-99f9-c3c43aae4141",
   "metadata": {},
   "source": [
    "`-` 나이는 범주화 시키겠다\n",
    "\n",
    "`-` 그런데 1\\~10과 71\\~80은 표본이 적은 관계로 다른 범주와 통합시키겠다"
   ]
  },
  {
   "cell_type": "code",
   "execution_count": 1099,
   "id": "7be50488-f50a-4b1e-a68e-f2e2137e064c",
   "metadata": {},
   "outputs": [],
   "source": [
    "def categorize_age(age):\n",
    "    for i in range(2, 8):  ## 10살 이하여도 11~20 범주에 포함 \n",
    "        if age <= i*10:\n",
    "            return i-1  \n",
    "        \n",
    "    return 6  ## 71살 이상이면 61~70 범주에 포함 "
   ]
  },
  {
   "cell_type": "code",
   "execution_count": 1100,
   "id": "4414e88c-67ee-40b1-ae99-212c4e16a651",
   "metadata": {},
   "outputs": [],
   "source": [
    "# df['Age'] = df['Age'].apply(lambda x: categorize_age(x)) \n",
    "# test['Age'] = test['Age'].apply(lambda x: categorize_age(x)) \n",
    "df['Age'] = df['Age'].apply(lambda x: 0 if x <= 35 else 1) ## 35세 전후로 나눈다\n",
    "test['Age'] = test['Age'].apply(lambda x: 0 if x <= 35 else 1) ## 35세 전후로 나눈다 ---> 간단한 모델링에서 사용"
   ]
  },
  {
   "cell_type": "markdown",
   "id": "a5f152fb-f465-48f4-9c74-21ea0e0bd1d5",
   "metadata": {},
   "source": [
    "`-` Eco plus는 Eco로 취급하자(등급이 비즈니스이냐 이코노미이냐가 중요함)"
   ]
  },
  {
   "cell_type": "code",
   "execution_count": 1101,
   "id": "01bd8bfe-224e-421d-bd71-76164e56a6a9",
   "metadata": {},
   "outputs": [],
   "source": [
    "df['Class'] = df['Class'].apply(lambda x: 'Eco' if x == 'Eco Plus' else x)\n",
    "test['Class'] = test['Class'].apply(lambda x: 'Eco' if x == 'Eco Plus' else x)"
   ]
  },
  {
   "cell_type": "markdown",
   "id": "257eaa02-8ba0-423e-af36-8ddc921dc717",
   "metadata": {},
   "source": [
    "`-` EDA에서 확인바와 같이 비행거리도 범주화 시키겠다(킬로미터인지 마일인지는 모르겠음; 편의상 km라고 하자)\n",
    "\n",
    "`-` 1000km를 기준으로 가까우면 0, 멀면 1로 맵핑하겠다"
   ]
  },
  {
   "cell_type": "code",
   "execution_count": 1102,
   "id": "f0291961-d564-4c37-be1c-3e38dfdc3e20",
   "metadata": {},
   "outputs": [],
   "source": [
    "df['Flight Distance'] = df['Flight Distance'].apply(lambda x: 0 if x <= 1000 else 1)\n",
    "test['Flight Distance'] = test['Flight Distance'].apply(lambda x: 0 if x <= 1000 else 1)"
   ]
  },
  {
   "cell_type": "code",
   "execution_count": 1103,
   "id": "ad75420d-acd1-4497-b9ae-845c0b509dd1",
   "metadata": {},
   "outputs": [
    {
     "data": {
      "text/plain": [
       "1    2484\n",
       "0     516\n",
       "Name: Flight Distance, dtype: int64"
      ]
     },
     "execution_count": 1103,
     "metadata": {},
     "output_type": "execute_result"
    }
   ],
   "source": [
    "df['Flight Distance'].value_counts()"
   ]
  },
  {
   "cell_type": "markdown",
   "id": "154c57fe-d260-41d3-9c8d-b5e9d0e4cd61",
   "metadata": {},
   "source": [
    "`-` 출발 시간 딜레이와 도착 시간 딜레이는 딜레이가 있으면 1, 없으면 0으로 코딩하겠다"
   ]
  },
  {
   "cell_type": "code",
   "execution_count": 1104,
   "id": "b4ad093a-d923-44f8-a4b1-f68743b249d9",
   "metadata": {},
   "outputs": [],
   "source": [
    "df['Departure Delay in Minutes'] = df['Departure Delay in Minutes'].apply(lambda x: 1 if x > 0 else 0)\n",
    "df['Arrival Delay in Minutes'] = df['Arrival Delay in Minutes'].apply(lambda x: 1 if x > 0 else 0)\n",
    "\n",
    "test['Departure Delay in Minutes'] = test['Departure Delay in Minutes'].apply(lambda x: 1 if x > 0 else 0)\n",
    "test['Arrival Delay in Minutes'] = test['Arrival Delay in Minutes'].apply(lambda x: 1 if x > 0 else 0)"
   ]
  },
  {
   "cell_type": "code",
   "execution_count": 1105,
   "id": "695afeb6-7de0-483e-9248-c13525df4838",
   "metadata": {},
   "outputs": [
    {
     "data": {
      "text/plain": [
       "2378"
      ]
     },
     "execution_count": 1105,
     "metadata": {},
     "output_type": "execute_result"
    }
   ],
   "source": [
    "sum(df['Arrival Delay in Minutes'] == df['Departure Delay in Minutes'])"
   ]
  },
  {
   "cell_type": "markdown",
   "id": "1d008c1c-4587-4be3-84ca-2b2921072bb4",
   "metadata": {},
   "source": [
    "`-` 출발 시간 딜레이가 있으면 대체로 도착 시간 딜레이도 있다"
   ]
  },
  {
   "cell_type": "markdown",
   "id": "e22a2418-e5d8-4bed-92b2-7cb8202cc890",
   "metadata": {},
   "source": [
    "`-` 문자형 타입 변수를 수치형 타입으로 변환하자\n",
    "\n",
    "`-` 범주가 많아야 2개이므로 라벨인코딩을 하자(0 또는 1, 2는 unknown)"
   ]
  },
  {
   "cell_type": "code",
   "execution_count": 1106,
   "id": "74059257-0cfb-436b-b766-4a3450d57bd8",
   "metadata": {},
   "outputs": [],
   "source": [
    "## 코드 출처 : https://dacon.io/competitions/official/235871/codeshare/4420?page=1&dtype=recent\n",
    "## 라벨인코딩을 하기 위함 dictionary map 생성 함수\n",
    "def make_label_map(df):\n",
    "    label_maps = {} ## 문자타입 컬럼들을 맵핑해줄 딕셔러니 집합 생성\n",
    "    for col in df.columns:\n",
    "        if df[col].dtype == 'object':\n",
    "            label_map = {'unknown':2} ## 빈 딕셔러니 생성\n",
    "            for i, key in enumerate(df[col].unique()):\n",
    "                label_map[key] = i  ## 새로 등장하는 유니크 값들에 대해 0부터 1씩 증가시켜 키값을 부여\n",
    "                \n",
    "            label_maps[col] = label_map  ## 하나의 컬럼에 대한 맵핑을 추가\n",
    "            \n",
    "    return label_maps\n",
    "\n",
    "## 각 범주형 변수에 인코딩 값을 부여하는 함수\n",
    "def label_encoder(df_, label_map):\n",
    "    df = df_.copy()\n",
    "    \n",
    "    for col in df.columns:\n",
    "        if df[col].dtype == 'object':\n",
    "            df[col] = df[col].map(label_map[col]) ## 맵핑\n",
    "            df[col] = df[col].fillna(label_map[col]['unknown']) ## 혹시 모를 결측값은 unknown의 값(2)으로 채움\n",
    "            \n",
    "    return df"
   ]
  },
  {
   "cell_type": "code",
   "execution_count": 1107,
   "id": "1a3758d4-2699-4260-a232-076aee8e118c",
   "metadata": {},
   "outputs": [],
   "source": [
    "## train 데이터 라벨 인코딩\n",
    "label_map = make_label_map(df) ## train 사용해 label map 생성\n",
    "df = label_encoder(df, label_map) ## train 라벨 인코딩"
   ]
  },
  {
   "cell_type": "code",
   "execution_count": 1108,
   "id": "de3e9084-6ff9-48b2-8482-a680252c5d3c",
   "metadata": {},
   "outputs": [
    {
     "data": {
      "text/plain": [
       "{'Gender': {'unknown': 2, 'Female': 0, 'Male': 1},\n",
       " 'Customer Type': {'unknown': 2, 'disloyal Customer': 0, 'Loyal Customer': 1},\n",
       " 'Type of Travel': {'unknown': 2, 'Business travel': 0, 'Personal Travel': 1},\n",
       " 'Class': {'unknown': 2, 'Eco': 0, 'Business': 1}}"
      ]
     },
     "execution_count": 1108,
     "metadata": {},
     "output_type": "execute_result"
    }
   ],
   "source": [
    "label_map"
   ]
  },
  {
   "cell_type": "code",
   "execution_count": 1109,
   "id": "a853f175-a699-4436-b6a5-e90ab4ee0002",
   "metadata": {},
   "outputs": [],
   "source": [
    "test = label_encoder(test, label_map) ## train 라벨 인코딩"
   ]
  },
  {
   "cell_type": "code",
   "execution_count": 1110,
   "id": "7445a2bb-f2e8-4fd7-bc80-422b034da6e0",
   "metadata": {},
   "outputs": [
    {
     "data": {
      "text/html": [
       "<div>\n",
       "<style scoped>\n",
       "    .dataframe tbody tr th:only-of-type {\n",
       "        vertical-align: middle;\n",
       "    }\n",
       "\n",
       "    .dataframe tbody tr th {\n",
       "        vertical-align: top;\n",
       "    }\n",
       "\n",
       "    .dataframe thead th {\n",
       "        text-align: right;\n",
       "    }\n",
       "</style>\n",
       "<table border=\"1\" class=\"dataframe\">\n",
       "  <thead>\n",
       "    <tr style=\"text-align: right;\">\n",
       "      <th></th>\n",
       "      <th>Gender</th>\n",
       "      <th>Customer Type</th>\n",
       "      <th>Age</th>\n",
       "      <th>Type of Travel</th>\n",
       "      <th>Class</th>\n",
       "      <th>Flight Distance</th>\n",
       "      <th>Seat comfort</th>\n",
       "      <th>Departure/Arrival time convenient</th>\n",
       "      <th>Food and drink</th>\n",
       "      <th>Gate location</th>\n",
       "      <th>Inflight wifi service</th>\n",
       "      <th>Inflight entertainment</th>\n",
       "      <th>Online support</th>\n",
       "      <th>Ease of Online booking</th>\n",
       "      <th>On-board service</th>\n",
       "      <th>Leg room service</th>\n",
       "      <th>Baggage handling</th>\n",
       "      <th>Checkin service</th>\n",
       "      <th>Cleanliness</th>\n",
       "      <th>Online boarding</th>\n",
       "      <th>Departure Delay in Minutes</th>\n",
       "      <th>Arrival Delay in Minutes</th>\n",
       "      <th>target</th>\n",
       "    </tr>\n",
       "  </thead>\n",
       "  <tbody>\n",
       "    <tr>\n",
       "      <th>0</th>\n",
       "      <td>0</td>\n",
       "      <td>0</td>\n",
       "      <td>0</td>\n",
       "      <td>0</td>\n",
       "      <td>0</td>\n",
       "      <td>1</td>\n",
       "      <td>3</td>\n",
       "      <td>0</td>\n",
       "      <td>3</td>\n",
       "      <td>3</td>\n",
       "      <td>4</td>\n",
       "      <td>3</td>\n",
       "      <td>4</td>\n",
       "      <td>4</td>\n",
       "      <td>5</td>\n",
       "      <td>4</td>\n",
       "      <td>4</td>\n",
       "      <td>4</td>\n",
       "      <td>5</td>\n",
       "      <td>4</td>\n",
       "      <td>0</td>\n",
       "      <td>0</td>\n",
       "      <td>0</td>\n",
       "    </tr>\n",
       "    <tr>\n",
       "      <th>1</th>\n",
       "      <td>0</td>\n",
       "      <td>1</td>\n",
       "      <td>1</td>\n",
       "      <td>0</td>\n",
       "      <td>1</td>\n",
       "      <td>1</td>\n",
       "      <td>2</td>\n",
       "      <td>4</td>\n",
       "      <td>4</td>\n",
       "      <td>4</td>\n",
       "      <td>1</td>\n",
       "      <td>4</td>\n",
       "      <td>3</td>\n",
       "      <td>5</td>\n",
       "      <td>5</td>\n",
       "      <td>4</td>\n",
       "      <td>2</td>\n",
       "      <td>1</td>\n",
       "      <td>5</td>\n",
       "      <td>2</td>\n",
       "      <td>1</td>\n",
       "      <td>1</td>\n",
       "      <td>0</td>\n",
       "    </tr>\n",
       "    <tr>\n",
       "      <th>2</th>\n",
       "      <td>1</td>\n",
       "      <td>1</td>\n",
       "      <td>1</td>\n",
       "      <td>0</td>\n",
       "      <td>1</td>\n",
       "      <td>1</td>\n",
       "      <td>1</td>\n",
       "      <td>1</td>\n",
       "      <td>1</td>\n",
       "      <td>1</td>\n",
       "      <td>4</td>\n",
       "      <td>5</td>\n",
       "      <td>5</td>\n",
       "      <td>4</td>\n",
       "      <td>4</td>\n",
       "      <td>4</td>\n",
       "      <td>4</td>\n",
       "      <td>5</td>\n",
       "      <td>4</td>\n",
       "      <td>3</td>\n",
       "      <td>0</td>\n",
       "      <td>0</td>\n",
       "      <td>1</td>\n",
       "    </tr>\n",
       "    <tr>\n",
       "      <th>3</th>\n",
       "      <td>0</td>\n",
       "      <td>0</td>\n",
       "      <td>0</td>\n",
       "      <td>0</td>\n",
       "      <td>0</td>\n",
       "      <td>1</td>\n",
       "      <td>3</td>\n",
       "      <td>3</td>\n",
       "      <td>3</td>\n",
       "      <td>3</td>\n",
       "      <td>3</td>\n",
       "      <td>3</td>\n",
       "      <td>3</td>\n",
       "      <td>3</td>\n",
       "      <td>2</td>\n",
       "      <td>4</td>\n",
       "      <td>5</td>\n",
       "      <td>3</td>\n",
       "      <td>4</td>\n",
       "      <td>3</td>\n",
       "      <td>1</td>\n",
       "      <td>1</td>\n",
       "      <td>0</td>\n",
       "    </tr>\n",
       "    <tr>\n",
       "      <th>4</th>\n",
       "      <td>0</td>\n",
       "      <td>1</td>\n",
       "      <td>1</td>\n",
       "      <td>0</td>\n",
       "      <td>1</td>\n",
       "      <td>0</td>\n",
       "      <td>3</td>\n",
       "      <td>3</td>\n",
       "      <td>3</td>\n",
       "      <td>3</td>\n",
       "      <td>4</td>\n",
       "      <td>4</td>\n",
       "      <td>5</td>\n",
       "      <td>4</td>\n",
       "      <td>4</td>\n",
       "      <td>4</td>\n",
       "      <td>4</td>\n",
       "      <td>4</td>\n",
       "      <td>4</td>\n",
       "      <td>5</td>\n",
       "      <td>0</td>\n",
       "      <td>0</td>\n",
       "      <td>1</td>\n",
       "    </tr>\n",
       "  </tbody>\n",
       "</table>\n",
       "</div>"
      ],
      "text/plain": [
       "   Gender  Customer Type  Age  Type of Travel  Class  Flight Distance  \\\n",
       "0       0              0    0               0      0                1   \n",
       "1       0              1    1               0      1                1   \n",
       "2       1              1    1               0      1                1   \n",
       "3       0              0    0               0      0                1   \n",
       "4       0              1    1               0      1                0   \n",
       "\n",
       "   Seat comfort  Departure/Arrival time convenient  Food and drink  \\\n",
       "0             3                                  0               3   \n",
       "1             2                                  4               4   \n",
       "2             1                                  1               1   \n",
       "3             3                                  3               3   \n",
       "4             3                                  3               3   \n",
       "\n",
       "   Gate location  Inflight wifi service  Inflight entertainment  \\\n",
       "0              3                      4                       3   \n",
       "1              4                      1                       4   \n",
       "2              1                      4                       5   \n",
       "3              3                      3                       3   \n",
       "4              3                      4                       4   \n",
       "\n",
       "   Online support  Ease of Online booking  On-board service  Leg room service  \\\n",
       "0               4                       4                 5                 4   \n",
       "1               3                       5                 5                 4   \n",
       "2               5                       4                 4                 4   \n",
       "3               3                       3                 2                 4   \n",
       "4               5                       4                 4                 4   \n",
       "\n",
       "   Baggage handling  Checkin service  Cleanliness  Online boarding  \\\n",
       "0                 4                4            5                4   \n",
       "1                 2                1            5                2   \n",
       "2                 4                5            4                3   \n",
       "3                 5                3            4                3   \n",
       "4                 4                4            4                5   \n",
       "\n",
       "   Departure Delay in Minutes  Arrival Delay in Minutes  target  \n",
       "0                           0                         0       0  \n",
       "1                           1                         1       0  \n",
       "2                           0                         0       1  \n",
       "3                           1                         1       0  \n",
       "4                           0                         0       1  "
      ]
     },
     "execution_count": 1110,
     "metadata": {},
     "output_type": "execute_result"
    }
   ],
   "source": [
    "df.head()"
   ]
  },
  {
   "cell_type": "markdown",
   "id": "da17c83f-2f0c-475e-9867-3703ffc2a8b8",
   "metadata": {},
   "source": [
    "`-` 모두 범주형 변수이다!"
   ]
  },
  {
   "cell_type": "markdown",
   "id": "068f230c-5c7c-49e3-b2d2-5aa84faeb719",
   "metadata": {},
   "source": [
    "## 간단한 모델링"
   ]
  },
  {
   "cell_type": "code",
   "execution_count": 19,
   "id": "aa69467f-714c-491d-8b9b-297341b0f319",
   "metadata": {},
   "outputs": [],
   "source": [
    "from sklearn.ensemble import RandomForestClassifier\n",
    "from sklearn.linear_model import LogisticRegression\n",
    "from catboost import CatBoostClassifier\n",
    "from xgboost import XGBClassifier\n",
    "from lightgbm import LGBMClassifier\n",
    "from sklearn.model_selection import cross_validate, StratifiedKFold, train_test_split"
   ]
  },
  {
   "cell_type": "code",
   "execution_count": 750,
   "id": "c88a81b6-7ccf-4b30-875f-527d33349be2",
   "metadata": {},
   "outputs": [],
   "source": [
    "def accuracy(true, pred):   \n",
    "    score = np.mean(true == pred)\n",
    "    return score"
   ]
  },
  {
   "cell_type": "code",
   "execution_count": 1111,
   "id": "d9c4be13-9890-4b68-853a-a920f29ac0e9",
   "metadata": {},
   "outputs": [],
   "source": [
    "dt = df.copy()"
   ]
  },
  {
   "cell_type": "code",
   "execution_count": 479,
   "id": "bf3ef7ca-ccd9-4822-82a5-99044bbb2154",
   "metadata": {},
   "outputs": [],
   "source": [
    "#dt['Avg_service'] = dt[service_features].sum(axis = 1) / len(service_features) ## 만족도의 평균"
   ]
  },
  {
   "cell_type": "code",
   "execution_count": 1112,
   "id": "6cfe6f74-82ec-48a6-8783-713eaf3f531c",
   "metadata": {},
   "outputs": [],
   "source": [
    "target = dt['target']\n",
    "dt.drop('target', axis = 1, inplace = True)"
   ]
  },
  {
   "cell_type": "code",
   "execution_count": 480,
   "id": "bda58783-566c-427a-ba48-798d59483490",
   "metadata": {},
   "outputs": [],
   "source": [
    "#dt.drop(['Food and drink', 'Departure/Arrival time convenient', 'Departure Delay in Minutes'], axis = 1, inplace = True)\n",
    "#dt.drop(['Avg_service'], axis = 1, inplace = True)"
   ]
  },
  {
   "cell_type": "code",
   "execution_count": 1121,
   "id": "99f8cf26-2bc5-4866-9edb-0af3c68fadb4",
   "metadata": {},
   "outputs": [],
   "source": [
    "skfold = StratifiedKFold(n_splits = 5,  shuffle = True, random_state = 22)"
   ]
  },
  {
   "cell_type": "markdown",
   "id": "1ca0206e-ee40-4c8e-bc78-83ed32342cea",
   "metadata": {},
   "source": [
    "### 로지스틱 회귀"
   ]
  },
  {
   "cell_type": "code",
   "execution_count": 418,
   "id": "3c87aefc-cc02-4eb5-9cbf-c87b512a2979",
   "metadata": {},
   "outputs": [],
   "source": [
    "logistic_reg = LogisticRegression(random_state = 22, max_iter = 500) "
   ]
  },
  {
   "cell_type": "code",
   "execution_count": 419,
   "id": "ba51602a-e40c-4e7b-a25f-28fcba19e22a",
   "metadata": {},
   "outputs": [],
   "source": [
    "scores = cross_validate(logistic_reg, dt, target, return_train_score = True, scoring = 'accuracy', cv = skfold)"
   ]
  },
  {
   "cell_type": "code",
   "execution_count": 420,
   "id": "8953dc62-1308-450e-a4ed-d9fcd0fee5f1",
   "metadata": {},
   "outputs": [
    {
     "data": {
      "text/plain": [
       "(0.8467499999999999, 0.8383333333333333)"
      ]
     },
     "execution_count": 420,
     "metadata": {},
     "output_type": "execute_result"
    }
   ],
   "source": [
    "np.mean(scores['train_score']), np.mean(scores['test_score'])"
   ]
  },
  {
   "cell_type": "markdown",
   "id": "65fc4cc8-bbd4-444d-aa04-19998d614122",
   "metadata": {},
   "source": [
    "### 랜덤포레스트"
   ]
  },
  {
   "cell_type": "code",
   "execution_count": 421,
   "id": "0a2c9a03-1dea-4ff3-b6d1-a302f54b4bfc",
   "metadata": {},
   "outputs": [],
   "source": [
    "rf = RandomForestClassifier(random_state = 22)"
   ]
  },
  {
   "cell_type": "code",
   "execution_count": 422,
   "id": "c27c68ab-664e-49d0-b701-da53188e9e16",
   "metadata": {},
   "outputs": [
    {
     "data": {
      "text/plain": [
       "RandomForestClassifier(random_state=22)"
      ]
     },
     "execution_count": 422,
     "metadata": {},
     "output_type": "execute_result"
    }
   ],
   "source": [
    "rf.fit(dt, target)"
   ]
  },
  {
   "cell_type": "code",
   "execution_count": 423,
   "id": "6d2e9629-39d1-4b3f-845f-485547433e7e",
   "metadata": {},
   "outputs": [],
   "source": [
    "_ = pd.DataFrame(dict(zip(rf.feature_names_in_, rf.feature_importances_)), index = [0]).T.\\\n",
    "reset_index().rename(columns = {'index':'feature', 0:'importance'}).\\\n",
    "sort_values('importance', ascending = False)"
   ]
  },
  {
   "cell_type": "code",
   "execution_count": 424,
   "id": "e8cece14-3b16-4f99-a506-62d20930475f",
   "metadata": {},
   "outputs": [
    {
     "data": {
      "text/plain": [
       "<AxesSubplot:xlabel='importance', ylabel='feature'>"
      ]
     },
     "execution_count": 424,
     "metadata": {},
     "output_type": "execute_result"
    },
    {
     "data": {
      "image/png": "[encoded data removed]",
      "text/plain": [
       "<Figure size 432x288 with 1 Axes>"
      ]
     },
     "metadata": {},
     "output_type": "display_data"
    }
   ],
   "source": [
    "sns.barplot(y = 'feature', x = 'importance', data = _)"
   ]
  },
  {
   "cell_type": "markdown",
   "id": "832e1850-c2ed-4ada-9090-0cca6ddf08f3",
   "metadata": {},
   "source": [
    "`-` Inflight entertainment와 Seat comfort의 중요도 합이 0.3을 넘긴다"
   ]
  },
  {
   "cell_type": "code",
   "execution_count": 425,
   "id": "a5df95c9-45b9-40f7-8d4e-ff9b07034333",
   "metadata": {},
   "outputs": [],
   "source": [
    "scores = cross_validate(rf, dt, target, return_train_score = True, scoring = 'accuracy', cv = skfold)"
   ]
  },
  {
   "cell_type": "code",
   "execution_count": 426,
   "id": "abd7af51-7282-4488-8f2e-208f3619a85b",
   "metadata": {},
   "outputs": [
    {
     "data": {
      "text/plain": [
       "(0.9995, 0.9206666666666667)"
      ]
     },
     "execution_count": 426,
     "metadata": {},
     "output_type": "execute_result"
    }
   ],
   "source": [
    "np.mean(scores['train_score']), np.mean(scores['test_score'])"
   ]
  },
  {
   "cell_type": "markdown",
   "id": "c6ed8d63-d181-48f0-83de-a262366db767",
   "metadata": {},
   "source": [
    "### catboost"
   ]
  },
  {
   "cell_type": "code",
   "execution_count": 1122,
   "id": "0c32394b-2002-4b19-98e2-de8a90b3f699",
   "metadata": {},
   "outputs": [],
   "source": [
    "cb = CatBoostClassifier(random_state = 22, learning_rate = 0.03, n_estimators = 1000, verbose = 0, max_depth = 6)"
   ]
  },
  {
   "cell_type": "code",
   "execution_count": 482,
   "id": "0b6f0477-6c7a-4ee4-bad6-6999695c141a",
   "metadata": {},
   "outputs": [],
   "source": [
    "scores = cross_validate(cb, dt, target, return_train_score = True, scoring = 'accuracy', cv = skfold)"
   ]
  },
  {
   "cell_type": "code",
   "execution_count": 429,
   "id": "df09de9d-bcf0-4be5-b7e5-5c8f2659205f",
   "metadata": {},
   "outputs": [
    {
     "data": {
      "text/plain": [
       "(0.9991666666666668, 0.9363333333333334)"
      ]
     },
     "execution_count": 429,
     "metadata": {},
     "output_type": "execute_result"
    }
   ],
   "source": [
    "np.mean(scores['train_score']), np.mean(scores['test_score'])"
   ]
  },
  {
   "cell_type": "code",
   "execution_count": 1114,
   "id": "9ff0c88c-6786-4425-b00b-fa0bc9045d8a",
   "metadata": {},
   "outputs": [
    {
     "data": {
      "text/plain": [
       "<catboost.core.CatBoostClassifier at 0x280a88ac460>"
      ]
     },
     "execution_count": 1114,
     "metadata": {},
     "output_type": "execute_result"
    }
   ],
   "source": [
    "cb.fit(dt, target)"
   ]
  },
  {
   "cell_type": "code",
   "execution_count": 1115,
   "id": "3d6c8f04-5e87-40c1-82f9-ec40614c0cc8",
   "metadata": {},
   "outputs": [],
   "source": [
    "_ = pd.DataFrame(dict(zip(cb.feature_names_, cb.feature_importances_)), index = [0]).T.\\\n",
    "reset_index().rename(columns = {'index':'feature', 0:'importance'}).\\\n",
    "sort_values('importance', ascending = False)"
   ]
  },
  {
   "cell_type": "code",
   "execution_count": 1116,
   "id": "3c61a968-aec2-472b-acaa-537f922633d5",
   "metadata": {},
   "outputs": [
    {
     "data": {
      "text/plain": [
       "<AxesSubplot:xlabel='importance', ylabel='feature'>"
      ]
     },
     "execution_count": 1116,
     "metadata": {},
     "output_type": "execute_result"
    },
    {
     "data": {
      "image/png": "[encoded data removed]",
      "text/plain": [
       "<Figure size 432x288 with 1 Axes>"
      ]
     },
     "metadata": {},
     "output_type": "display_data"
    }
   ],
   "source": [
    "sns.barplot(y = 'feature', x = 'importance', data = _)"
   ]
  },
  {
   "cell_type": "markdown",
   "id": "6aba32e8-3258-49ad-a547-702e7118bfe5",
   "metadata": {},
   "source": [
    "`-` 만족도 점수들의 평균 피쳐를 만들겠다"
   ]
  },
  {
   "cell_type": "code",
   "execution_count": 1117,
   "id": "f4de3dff-ed47-4f3c-957d-001ab0684a73",
   "metadata": {},
   "outputs": [],
   "source": [
    "service_features =\\\n",
    "list(set(df.columns.tolist()) -\\\n",
    "{'Gender', 'Customer Type', 'Age', 'Type of Travel', 'Class', 'Flight Distance', 'Departure Delay in Minutes', 'Arrival Delay in Minutes', 'target'})"
   ]
  },
  {
   "cell_type": "markdown",
   "id": "7fb84124-e9dc-49ef-a69d-da78cec7aa48",
   "metadata": {},
   "source": [
    "`-` 서비스 피쳐들의 평균을 새로운 파생변수로 만들자\n",
    "\n",
    "`-` 위의 중요도를 이용해 가중평균을 구하겠다"
   ]
  },
  {
   "cell_type": "code",
   "execution_count": 1118,
   "id": "e701832b-cb1e-4437-b021-e335cf475a98",
   "metadata": {},
   "outputs": [],
   "source": [
    "dict_ = dict(zip(cb.feature_names_, cb.feature_importances_))"
   ]
  },
  {
   "cell_type": "code",
   "execution_count": 1119,
   "id": "200f7c5f-0774-4564-91c1-52c1fec1c437",
   "metadata": {},
   "outputs": [],
   "source": [
    "dt['Avg_service'] = 0\n",
    "test['Avg_service'] = 0\n",
    "total = sum([dict_[qual] for qual in service_features])\n",
    "\n",
    "for qual_feature in service_features:\n",
    "    dt['Avg_service'] = dt['Avg_service'] + dt[qual_feature] * (dict_[qual_feature] / total)\n",
    "    test['Avg_service'] = test['Avg_service'] + test[qual_feature] * (dict_[qual_feature] / total)"
   ]
  },
  {
   "cell_type": "code",
   "execution_count": 1130,
   "id": "f774a970-2d86-4f28-9daa-d267f7b503ce",
   "metadata": {},
   "outputs": [],
   "source": [
    "scores = cross_validate(cb, dt, target, return_train_score = True, scoring = 'accuracy', cv = skfold)"
   ]
  },
  {
   "cell_type": "code",
   "execution_count": 464,
   "id": "50b65348-7b28-460c-bba2-aaa660f95361",
   "metadata": {},
   "outputs": [
    {
     "data": {
      "text/plain": [
       "(0.9990833333333333, 0.9383333333333332)"
      ]
     },
     "execution_count": 464,
     "metadata": {},
     "output_type": "execute_result"
    }
   ],
   "source": [
    "np.mean(scores['train_score']), np.mean(scores['test_score'])"
   ]
  },
  {
   "cell_type": "code",
   "execution_count": 465,
   "id": "055ef72e-fe6d-442c-bdda-7993bb4d9ddd",
   "metadata": {},
   "outputs": [
    {
     "data": {
      "text/plain": [
       "<catboost.core.CatBoostClassifier at 0x245836ecc70>"
      ]
     },
     "execution_count": 465,
     "metadata": {},
     "output_type": "execute_result"
    }
   ],
   "source": [
    "cb.fit(dt, target)"
   ]
  },
  {
   "cell_type": "code",
   "execution_count": 466,
   "id": "7c53c49a-06d9-47b7-b657-22a0557851c0",
   "metadata": {},
   "outputs": [],
   "source": [
    "_ = pd.DataFrame(dict(zip(cb.feature_names_, cb.feature_importances_)), index = [0]).T.\\\n",
    "reset_index().rename(columns = {'index':'feature', 0:'importance'}).\\\n",
    "sort_values('importance', ascending = False)"
   ]
  },
  {
   "cell_type": "code",
   "execution_count": 467,
   "id": "7d979ce3-92d1-49e0-b42f-7ab413d4602a",
   "metadata": {},
   "outputs": [
    {
     "data": {
      "text/plain": [
       "<AxesSubplot:xlabel='importance', ylabel='feature'>"
      ]
     },
     "execution_count": 467,
     "metadata": {},
     "output_type": "execute_result"
    },
    {
     "data": {
      "image/png": "[encoded data removed]",
      "text/plain": [
       "<Figure size 432x288 with 1 Axes>"
      ]
     },
     "metadata": {},
     "output_type": "display_data"
    }
   ],
   "source": [
    "sns.barplot(y = 'feature', x = 'importance', data = _)"
   ]
  },
  {
   "cell_type": "markdown",
   "id": "264dfe06-533f-4fb2-95d5-3ec303b3a91c",
   "metadata": {},
   "source": [
    "### xgboost"
   ]
  },
  {
   "cell_type": "code",
   "execution_count": 1085,
   "id": "82a4a80c-0e62-4077-b17d-75e51fdb77d4",
   "metadata": {},
   "outputs": [],
   "source": [
    "xgb = XGBClassifier(random_state = 22, learning_rate = 0.03, n_estimators = 600, max_depth = 7, eval_metric = 'logloss')"
   ]
  },
  {
   "cell_type": "code",
   "execution_count": 1086,
   "id": "06e3358b-e731-440d-b5c9-e1be97385b2c",
   "metadata": {},
   "outputs": [],
   "source": [
    "scores = cross_validate(xgb, dt, target, return_train_score = True, scoring = 'accuracy', cv = skfold)"
   ]
  },
  {
   "cell_type": "code",
   "execution_count": 777,
   "id": "8327d784-c22b-4336-b84f-23bd560c946b",
   "metadata": {},
   "outputs": [
    {
     "data": {
      "text/plain": [
       "(0.9989166666666666, 0.933)"
      ]
     },
     "execution_count": 777,
     "metadata": {},
     "output_type": "execute_result"
    }
   ],
   "source": [
    "np.mean(scores['train_score']), np.mean(scores['test_score'])"
   ]
  },
  {
   "cell_type": "markdown",
   "id": "451b753d-6950-4c1e-b41d-3cfda3ee3e07",
   "metadata": {},
   "source": [
    "### lgbm"
   ]
  },
  {
   "cell_type": "code",
   "execution_count": 759,
   "id": "a776fc49-dcc3-4e25-8121-845bffc2c9bf",
   "metadata": {},
   "outputs": [],
   "source": [
    "lgbm = LGBMClassifier(random_state = 22, learning_rate = 0.03, n_estimators = 600, max_depth = 8)"
   ]
  },
  {
   "cell_type": "code",
   "execution_count": 760,
   "id": "45415839-768f-48b3-9511-46407747eff0",
   "metadata": {},
   "outputs": [],
   "source": [
    "scores = cross_validate(lgbm, dt, target, return_train_score = True, scoring = 'accuracy', cv = skfold)"
   ]
  },
  {
   "cell_type": "code",
   "execution_count": 761,
   "id": "12835040-8c44-4064-b08a-c2854fe81a6b",
   "metadata": {},
   "outputs": [
    {
     "data": {
      "text/plain": [
       "(0.9995, 0.93)"
      ]
     },
     "execution_count": 761,
     "metadata": {},
     "output_type": "execute_result"
    }
   ],
   "source": [
    "np.mean(scores['train_score']), np.mean(scores['test_score'])"
   ]
  },
  {
   "cell_type": "markdown",
   "id": "37d6950b-571f-4829-876d-4c59378b02b5",
   "metadata": {},
   "source": [
    "### test 예측"
   ]
  },
  {
   "cell_type": "markdown",
   "id": "ba7c5505-875d-4e42-bc78-7e90bb3b644e",
   "metadata": {},
   "source": [
    "`-` 캣부스트를 사용해 test를 예측하자"
   ]
  },
  {
   "cell_type": "code",
   "execution_count": 1076,
   "id": "1bec5e07-050c-497d-9b3d-b8f65d49dd24",
   "metadata": {},
   "outputs": [],
   "source": [
    "skfold = StratifiedKFold(n_splits = 10,  shuffle = True, random_state = 22)"
   ]
  },
  {
   "cell_type": "code",
   "execution_count": 88,
   "id": "31a48d14-4bc0-4400-ad11-69ed03a47e63",
   "metadata": {},
   "outputs": [],
   "source": [
    "threshold = 0.48 ## 주어진 데이터에서 만족이 55.6% 불만족이 44.4% 이다"
   ]
  },
  {
   "cell_type": "code",
   "execution_count": 90,
   "id": "d6e9a735-de18-4021-b52d-f7c9e0181329",
   "metadata": {},
   "outputs": [],
   "source": [
    "cb_valid = []\n",
    "cb_predict = np.zeros(test.shape[0])\n",
    "\n",
    "for train_idx, valid_idx in skfold.split(dt, target):\n",
    "    x_train, y_train = dt.iloc[train_idx], target.iloc[train_idx]\n",
    "    x_valid, y_valid = dt.iloc[valid_idx], target.iloc[valid_idx]\n",
    "    \n",
    "    cb = CatBoostClassifier(random_state = 22, learning_rate = 0.03, n_estimators = 3000, verbose = 0, max_depth = 6)\n",
    "    cb.fit(x_train, y_train, early_stopping_rounds = 300, verbose = 0)\n",
    "    \n",
    "    y_predict = (cb.predict_proba(x_valid)[:,1] > threshold).astype(int) ## 만족일 확률이 0.5 이상이면 1 아니면 0 ## valid셋 예측\n",
    "    test_predict = cb.predict_proba(test)[:,1]  ## 1(만족)일 확률 ## test셋 예측\n",
    "\n",
    "    cb_valid.append(accuracy(y_predict, y_valid)) ## valid 예측값\n",
    "    cb_predict += test_predict / 10 ## test 예측값(10 Fold)"
   ]
  },
  {
   "cell_type": "code",
   "execution_count": 591,
   "id": "ea0d074e-8f86-4752-8836-af0c50cdd4d2",
   "metadata": {},
   "outputs": [
    {
     "data": {
      "text/plain": [
       "(0.9396666666666667, 0.0188826787176914)"
      ]
     },
     "execution_count": 591,
     "metadata": {},
     "output_type": "execute_result"
    }
   ],
   "source": [
    "np.mean(cb_valid), np.std(cb_valid) # threshold 0.46\n",
    "#cb = CatBoostClassifier(random_state = 22, learning_rate = 0.03, n_estimators = 3000, verbose = 0, max_depth = 6)\n",
    "#cb.fit(x_train, y_train, early_stopping_rounds = 300, verbose = 0)"
   ]
  },
  {
   "cell_type": "code",
   "execution_count": 679,
   "id": "aa989f46-aec5-4f56-804d-99e9ca7e8cf5",
   "metadata": {},
   "outputs": [
    {
     "data": {
      "text/plain": [
       "(0.9406666666666668, 0.02037427571991484)"
      ]
     },
     "execution_count": 679,
     "metadata": {},
     "output_type": "execute_result"
    }
   ],
   "source": [
    "np.mean(cb_valid), np.std(cb_valid) # threshold 0.47\n",
    "#cb = CatBoostClassifier(random_state = 22, learning_rate = 0.03, n_estimators = 1000, verbose = 0, max_depth = 6)\n",
    "#cb.fit(x_train, y_train, early_stopping_rounds = 100, verbose = 0)\n",
    "# 학습 횟수 3000 ---> 1000이 더 낫다"
   ]
  },
  {
   "cell_type": "code",
   "execution_count": 682,
   "id": "0c9bc8ba-f069-42d2-87cf-7409031d844e",
   "metadata": {},
   "outputs": [
    {
     "data": {
      "text/plain": [
       "(0.9406666666666668, 0.02037427571991484)"
      ]
     },
     "execution_count": 682,
     "metadata": {},
     "output_type": "execute_result"
    }
   ],
   "source": [
    "np.mean(cb_valid), np.std(cb_valid) # threshold 0.48\n",
    "#cb = CatBoostClassifier(random_state = 22, learning_rate = 0.03, n_estimators = 1000, verbose = 0, max_depth = 6)\n",
    "#cb.fit(x_train, y_train, early_stopping_rounds = 100, verbose = 0)"
   ]
  },
  {
   "cell_type": "code",
   "execution_count": 610,
   "id": "9b7f1c21-97da-4fec-9a3a-675641e1979d",
   "metadata": {},
   "outputs": [
    {
     "data": {
      "text/plain": [
       "(0.9393333333333332, 0.020805982045769663)"
      ]
     },
     "execution_count": 610,
     "metadata": {},
     "output_type": "execute_result"
    }
   ],
   "source": [
    "np.mean(cb_valid), np.std(cb_valid) # threshold 0.49\n",
    "#cb = CatBoostClassifier(random_state = 22, learning_rate = 0.03, n_estimators = 3000, verbose = 0, max_depth = 6)\n",
    "#cb.fit(x_train, y_train, early_stopping_rounds = 300, verbose = 0)"
   ]
  },
  {
   "cell_type": "code",
   "execution_count": 577,
   "id": "af6cb390-2a51-4f2f-ad66-e0c3370e6cb8",
   "metadata": {},
   "outputs": [
    {
     "data": {
      "text/plain": [
       "(0.9393333333333335, 0.020428737928059423)"
      ]
     },
     "execution_count": 577,
     "metadata": {},
     "output_type": "execute_result"
    }
   ],
   "source": [
    "np.mean(cb_valid), np.std(cb_valid) # threshold 0.5\n",
    "#cb = CatBoostClassifier(random_state = 22, learning_rate = 0.03, n_estimators = 3000, verbose = 0, max_depth = 6)\n",
    "#cb.fit(x_train, y_train, early_stopping_rounds = 300, verbose = 0)"
   ]
  },
  {
   "cell_type": "code",
   "execution_count": 578,
   "id": "db8da7aa-d3e8-48df-84f9-ff4fccd272a1",
   "metadata": {},
   "outputs": [],
   "source": [
    "submission = pd.read_csv('C:/Users/Jaesu/github_desktop/Dacon-Basic/항공사-고객만족도-예측/Data/sample_submission.csv')"
   ]
  },
  {
   "cell_type": "code",
   "execution_count": 592,
   "id": "887fcb78-8db3-471f-b6de-379a67032fd1",
   "metadata": {},
   "outputs": [],
   "source": [
    "pred = (cb_predict > threshold).astype(int) ## 만족일 확률이 threshold보다 높으면 1(만족) 아니면 0(불만족)"
   ]
  },
  {
   "cell_type": "code",
   "execution_count": 593,
   "id": "292df989-9794-4288-a41e-0ecf4077a0a9",
   "metadata": {},
   "outputs": [
    {
     "data": {
      "text/html": [
       "<div>\n",
       "<style scoped>\n",
       "    .dataframe tbody tr th:only-of-type {\n",
       "        vertical-align: middle;\n",
       "    }\n",
       "\n",
       "    .dataframe tbody tr th {\n",
       "        vertical-align: top;\n",
       "    }\n",
       "\n",
       "    .dataframe thead th {\n",
       "        text-align: right;\n",
       "    }\n",
       "</style>\n",
       "<table border=\"1\" class=\"dataframe\">\n",
       "  <thead>\n",
       "    <tr style=\"text-align: right;\">\n",
       "      <th></th>\n",
       "      <th>id</th>\n",
       "      <th>target</th>\n",
       "    </tr>\n",
       "  </thead>\n",
       "  <tbody>\n",
       "    <tr>\n",
       "      <th>0</th>\n",
       "      <td>1</td>\n",
       "      <td>1</td>\n",
       "    </tr>\n",
       "    <tr>\n",
       "      <th>1</th>\n",
       "      <td>2</td>\n",
       "      <td>0</td>\n",
       "    </tr>\n",
       "    <tr>\n",
       "      <th>2</th>\n",
       "      <td>3</td>\n",
       "      <td>1</td>\n",
       "    </tr>\n",
       "    <tr>\n",
       "      <th>3</th>\n",
       "      <td>4</td>\n",
       "      <td>1</td>\n",
       "    </tr>\n",
       "    <tr>\n",
       "      <th>4</th>\n",
       "      <td>5</td>\n",
       "      <td>1</td>\n",
       "    </tr>\n",
       "  </tbody>\n",
       "</table>\n",
       "</div>"
      ],
      "text/plain": [
       "   id  target\n",
       "0   1       1\n",
       "1   2       0\n",
       "2   3       1\n",
       "3   4       1\n",
       "4   5       1"
      ]
     },
     "execution_count": 593,
     "metadata": {},
     "output_type": "execute_result"
    }
   ],
   "source": [
    "## 위에서 구한 예측값을 그대로 넣어줌\n",
    "submission['target'] = pred\n",
    "\n",
    "## 데이터가 잘 들어갔는지 확인\n",
    "submission.head()"
   ]
  },
  {
   "cell_type": "code",
   "execution_count": 585,
   "id": "0541ce08-d555-4d1a-8c3c-51709cda40da",
   "metadata": {},
   "outputs": [],
   "source": [
    "## submission을 csv 파일로 저장\n",
    "submission.to_csv('C:/Users/Jaesu/github_desktop/Dacon-Basic/항공사-고객만족도-예측/Data/submission1.csv', index = False)"
   ]
  },
  {
   "cell_type": "markdown",
   "id": "f2edefa6-7ac7-4bed-9b3e-78a4c5cc41ac",
   "metadata": {},
   "source": [
    "`-` xgb, lgbm, catboost를 앙상블해서\n",
    "\n",
    "`-` test를 예측해보자"
   ]
  },
  {
   "cell_type": "code",
   "execution_count": 1079,
   "id": "5f29120b-31fa-4177-b505-b12d233f43a6",
   "metadata": {},
   "outputs": [],
   "source": [
    "# dt.drop('Departure Delay in Minutes', axis = 1, inplace = True)\n",
    "# test.drop('Departure Delay in Minutes', axis = 1, inplace = True)"
   ]
  },
  {
   "cell_type": "code",
   "execution_count": 1090,
   "id": "088b2b6a-f7d0-4949-bf6f-17c838918b42",
   "metadata": {},
   "outputs": [],
   "source": [
    "skfold = StratifiedKFold(n_splits = 10,  shuffle = True, random_state = 22)"
   ]
  },
  {
   "cell_type": "code",
   "execution_count": 1091,
   "id": "33988827-3fda-4f76-9316-589bd57bcdd3",
   "metadata": {},
   "outputs": [],
   "source": [
    "threshold = 0.48 ## 주어진 데이터에서 만족이 55.6% 불만족이 44.4% 이다"
   ]
  },
  {
   "cell_type": "markdown",
   "id": "e144796a-d60d-4d84-8112-c4896747e8ae",
   "metadata": {},
   "source": [
    "`-` catboost"
   ]
  },
  {
   "cell_type": "code",
   "execution_count": 1084,
   "id": "1e4e912b-84e9-45e9-9760-f2715e382899",
   "metadata": {},
   "outputs": [],
   "source": [
    "cb_valid = []\n",
    "cb_predict = np.zeros(test.shape[0])\n",
    "\n",
    "for train_idx, valid_idx in skfold.split(dt, target):\n",
    "    x_train, y_train = dt.iloc[train_idx], target.iloc[train_idx]\n",
    "    x_valid, y_valid = dt.iloc[valid_idx], target.iloc[valid_idx]\n",
    "    \n",
    "    cb = CatBoostClassifier(random_state = 22, learning_rate = 0.03, n_estimators = 1000, verbose = 0, max_depth = 6)\n",
    "    cb.fit(x_train, y_train, early_stopping_rounds = 100, verbose = 0)\n",
    "    \n",
    "    y_predict = (cb.predict_proba(x_valid)[:,1] > threshold).astype(int) ## 만족일 확률이 0.5 이상이면 1 아니면 0 ## valid셋 예측\n",
    "    test_predict = cb.predict_proba(test)[:,1]  ## 1(만족)일 확률 ## test셋 예측\n",
    "\n",
    "    cb_valid.append(accuracy(y_predict, y_valid)) ## valid 예측값\n",
    "    cb_predict += test_predict / 10 ## test 예측값(10 Fold)"
   ]
  },
  {
   "cell_type": "markdown",
   "id": "afaedb04-c0f7-43ad-92b4-915a7fcf1083",
   "metadata": {},
   "source": [
    "`-` xgboost"
   ]
  },
  {
   "cell_type": "code",
   "execution_count": 1089,
   "id": "bb4d0e08-0254-4291-bfef-3f967d5d1342",
   "metadata": {},
   "outputs": [],
   "source": [
    "xgb_valid = []\n",
    "xgb_predict = np.zeros(test.shape[0])\n",
    "\n",
    "for train_idx, valid_idx in skfold.split(dt, target):\n",
    "    x_train, y_train = dt.iloc[train_idx], target.iloc[train_idx]\n",
    "    x_valid, y_valid = dt.iloc[valid_idx], target.iloc[valid_idx]\n",
    "    \n",
    "    xgb = XGBClassifier(random_state = 22, learning_rate = 0.03, n_estimators = 600, max_depth = 7, eval_metric = 'logloss')\n",
    "    xgb.fit(x_train, y_train)\n",
    "    \n",
    "    y_predict = (xgb.predict_proba(x_valid)[:,1] > threshold).astype(int) ## 만족일 확률이 0.5 이상이면 1 아니면 0 ## valid셋 예측\n",
    "    test_predict = xgb.predict_proba(test)[:,1]  ## 1(만족)일 확률 ## test셋 예측\n",
    "\n",
    "    xgb_valid.append(accuracy(y_predict, y_valid)) ## valid 예측값\n",
    "    xgb_predict += test_predict / 10 ## test 예측값(10 Fold)"
   ]
  },
  {
   "cell_type": "code",
   "execution_count": 768,
   "id": "ae5a6b1e-ce0b-4f4f-8e13-675957096e80",
   "metadata": {},
   "outputs": [],
   "source": [
    "lgbm_valid = []\n",
    "lgbm_predict = np.zeros(test.shape[0])\n",
    "\n",
    "for train_idx, valid_idx in skfold.split(dt, target):\n",
    "    x_train, y_train = dt.iloc[train_idx], target.iloc[train_idx]\n",
    "    x_valid, y_valid = dt.iloc[valid_idx], target.iloc[valid_idx]\n",
    "    \n",
    "    lgbm = LGBMClassifier(random_state = 22, learning_rate = 0.03, n_estimators = 600, max_depth = 8)\n",
    "    lgbm.fit(x_train, y_train)\n",
    "    \n",
    "    y_predict = (lgbm.predict_proba(x_valid)[:,1] > threshold).astype(int) ## 만족일 확률이 0.5 이상이면 1 아니면 0 ## valid셋 예측\n",
    "    test_predict = lgbm.predict_proba(test)[:,1]  ## 1(만족)일 확률 ## test셋 예측\n",
    "\n",
    "    lgbm_valid.append(accuracy(y_predict, y_valid)) ## valid 예측값\n",
    "    lgbm_predict += test_predict / 10 ## test 예측값(10 Fold)"
   ]
  },
  {
   "cell_type": "code",
   "execution_count": 780,
   "id": "067b0864-e537-4869-9cd5-52d3fbf92162",
   "metadata": {},
   "outputs": [
    {
     "data": {
      "text/plain": [
       "(0.9406666666666668, 0.9283333333333333, 0.931)"
      ]
     },
     "execution_count": 780,
     "metadata": {},
     "output_type": "execute_result"
    }
   ],
   "source": [
    "# cb = CatBoostClassifier(random_state = 22, learning_rate = 0.03, n_estimators = 1000, verbose = 0, max_depth = 6)\n",
    "# cb.fit(x_train, y_train, early_stopping_rounds = 100, verbose = 0)\n",
    "# xgb = XGBClassifier(random_state = 22, learning_rate = 0.03, n_estimators = 600, max_depth = 7)\n",
    "# lgbm = LGBMClassifier(random_state = 22, learning_rate = 0.03, n_estimators = 600, max_depth = 8)\n",
    "\n",
    "np.mean(cb_valid), np.mean(xgb_valid), np.mean(lgbm_valid)"
   ]
  },
  {
   "cell_type": "code",
   "execution_count": 781,
   "id": "db792bc9-45f6-43c1-838f-7ea9f9112bb9",
   "metadata": {},
   "outputs": [
    {
     "data": {
      "text/plain": [
       "(0.02037427571991484, 0.021512270400350062, 0.021860669909426127)"
      ]
     },
     "execution_count": 781,
     "metadata": {},
     "output_type": "execute_result"
    }
   ],
   "source": [
    "np.std(cb_valid), np.std(xgb_valid), np.std(lgbm_valid)"
   ]
  },
  {
   "cell_type": "code",
   "execution_count": 787,
   "id": "f6a9530e-c315-446d-8e25-b8c0b02aef17",
   "metadata": {},
   "outputs": [],
   "source": [
    "pred = ((lgbm_predict + cb_predict + xgb_predict) / 3 > threshold).astype(int) ## 만족일 확률이 threshold보다 높으면 1(만족) 아니면 0(불만족)"
   ]
  },
  {
   "cell_type": "code",
   "execution_count": 75,
   "id": "799d35ec-8d9e-4e6e-b130-86e054f681ff",
   "metadata": {},
   "outputs": [],
   "source": [
    "submission = pd.read_csv('C:/Users/Jaesu/github_desktop/Dacon-Basic/항공사-고객만족도-예측/Data/sample_submission.csv')"
   ]
  },
  {
   "cell_type": "code",
   "execution_count": 791,
   "id": "a25b3ff2-6a4b-4340-9378-44bed8a305f0",
   "metadata": {},
   "outputs": [
    {
     "data": {
      "text/html": [
       "<div>\n",
       "<style scoped>\n",
       "    .dataframe tbody tr th:only-of-type {\n",
       "        vertical-align: middle;\n",
       "    }\n",
       "\n",
       "    .dataframe tbody tr th {\n",
       "        vertical-align: top;\n",
       "    }\n",
       "\n",
       "    .dataframe thead th {\n",
       "        text-align: right;\n",
       "    }\n",
       "</style>\n",
       "<table border=\"1\" class=\"dataframe\">\n",
       "  <thead>\n",
       "    <tr style=\"text-align: right;\">\n",
       "      <th></th>\n",
       "      <th>id</th>\n",
       "      <th>target</th>\n",
       "    </tr>\n",
       "  </thead>\n",
       "  <tbody>\n",
       "    <tr>\n",
       "      <th>0</th>\n",
       "      <td>1</td>\n",
       "      <td>1</td>\n",
       "    </tr>\n",
       "    <tr>\n",
       "      <th>1</th>\n",
       "      <td>2</td>\n",
       "      <td>0</td>\n",
       "    </tr>\n",
       "    <tr>\n",
       "      <th>2</th>\n",
       "      <td>3</td>\n",
       "      <td>1</td>\n",
       "    </tr>\n",
       "    <tr>\n",
       "      <th>3</th>\n",
       "      <td>4</td>\n",
       "      <td>1</td>\n",
       "    </tr>\n",
       "    <tr>\n",
       "      <th>4</th>\n",
       "      <td>5</td>\n",
       "      <td>1</td>\n",
       "    </tr>\n",
       "  </tbody>\n",
       "</table>\n",
       "</div>"
      ],
      "text/plain": [
       "   id  target\n",
       "0   1       1\n",
       "1   2       0\n",
       "2   3       1\n",
       "3   4       1\n",
       "4   5       1"
      ]
     },
     "execution_count": 791,
     "metadata": {},
     "output_type": "execute_result"
    }
   ],
   "source": [
    "## 위에서 구한 예측값을 그대로 넣어줌\n",
    "submission['target'] = pred\n",
    "\n",
    "## 데이터가 잘 들어갔는지 확인\n",
    "submission.head()"
   ]
  },
  {
   "cell_type": "code",
   "execution_count": 792,
   "id": "e00f7f66-10a8-4860-a06c-8ea8157a8ac5",
   "metadata": {},
   "outputs": [],
   "source": [
    "## submission을 csv 파일로 저장\n",
    "submission.to_csv('C:/Users/Jaesu/github_desktop/Dacon-Basic/항공사-고객만족도-예측/Data/submission2.csv', index = False)"
   ]
  },
  {
   "cell_type": "markdown",
   "id": "b04c6f40-447e-4907-a675-6d5324e6bbad",
   "metadata": {},
   "source": [
    "`-` catboost만 써보았다"
   ]
  },
  {
   "cell_type": "code",
   "execution_count": 1093,
   "id": "b29dfc7f-bd93-4889-be49-995021515f25",
   "metadata": {},
   "outputs": [],
   "source": [
    "pred = (cb_predict > threshold).astype(int)\n",
    "\n",
    "## 위에서 구한 예측값을 그대로 넣어줌\n",
    "submission['target'] = pred ## 점수는 0.937이다"
   ]
  },
  {
   "cell_type": "code",
   "execution_count": 1094,
   "id": "cf0c086b-2a8f-4a59-b978-5b4e9af845cd",
   "metadata": {},
   "outputs": [],
   "source": [
    "## submission을 csv 파일로 저장\n",
    "## 점수는 0.937이다\n",
    "submission.to_csv('C:/Users/Jaesu/github_desktop/Dacon-Basic/항공사-고객만족도-예측/Data/submission3.csv', index = False)"
   ]
  },
  {
   "cell_type": "markdown",
   "id": "594da432-ba87-4057-a9a6-1e8812bf1a5c",
   "metadata": {},
   "source": [
    "`-` 점수가 잘 나왔다(valid 정확도가 0.94인데 public score가 0.937나옴)\n",
    "\n",
    "`-` catboost 하이퍼파라미터 바꾸기 전에는 valid 정확도 0.939인데 public score가 0.931 나왔었음\n",
    "\n",
    "`-` 바꾸기 전은 반복횟수 3000에 조기 중단 300 이었는데 과적합 됐나보다\n",
    "\n",
    "`-` 반복횟수 1000에 조기 중단 100으로 하니 점수가 위와 같이 잘 나옴(과적합 컨트롤의 중요성)"
   ]
  },
  {
   "cell_type": "markdown",
   "id": "7fb50089-ebb3-4f29-8c04-18fdde4063e4",
   "metadata": {},
   "source": [
    "- voting을 하지 않아봤다\n",
    "\n",
    "`-` voting 사용한 결과가 더 나았다"
   ]
  },
  {
   "cell_type": "markdown",
   "id": "a75d940c-c11f-4f33-aa34-bbda6ae2c343",
   "metadata": {},
   "source": [
    "### 예측 결과 확인\n",
    "\n",
    "`-` catboost가 잘못된 예측을 한 사람의 특징을 살펴보자"
   ]
  },
  {
   "cell_type": "code",
   "execution_count": 326,
   "id": "603c628b-d37d-4beb-935d-23326e9d8d60",
   "metadata": {},
   "outputs": [],
   "source": [
    "cb = CatBoostClassifier(random_state = 22, learning_rate = 0.03, n_estimators = 700, verbose = 0, max_depth = 6)"
   ]
  },
  {
   "cell_type": "code",
   "execution_count": 327,
   "id": "372f7212-401f-4231-baec-1c34c515e840",
   "metadata": {},
   "outputs": [],
   "source": [
    "x_train, x_valid, y_train, y_valid = train_test_split(dt, target, stratify = target, test_size = 0.2, random_state = 42)"
   ]
  },
  {
   "cell_type": "code",
   "execution_count": 328,
   "id": "3d41c157-c327-4680-a604-64cc8ed91558",
   "metadata": {},
   "outputs": [
    {
     "data": {
      "text/plain": [
       "<catboost.core.CatBoostClassifier at 0x280a476bc40>"
      ]
     },
     "execution_count": 328,
     "metadata": {},
     "output_type": "execute_result"
    }
   ],
   "source": [
    "cb.fit(x_train, y_train)"
   ]
  },
  {
   "cell_type": "code",
   "execution_count": 350,
   "id": "a26996a2-4b78-453d-8c37-cfa2b9e13acf",
   "metadata": {},
   "outputs": [],
   "source": [
    "y_predict = (cb.predict_proba(x_valid)[:,1] > 0.5).astype(int)"
   ]
  },
  {
   "cell_type": "code",
   "execution_count": 340,
   "id": "81e5b0e3-de6c-4364-aa67-0947bf06631b",
   "metadata": {},
   "outputs": [
    {
     "data": {
      "image/png": "[encoded data removed]",
      "text/plain": [
       "<Figure size 432x288 with 1 Axes>"
      ]
     },
     "metadata": {},
     "output_type": "display_data"
    }
   ],
   "source": [
    "plt.hist(cb.predict_proba(x_valid)[:,1], bins = 20)\n",
    "plt.show()"
   ]
  },
  {
   "cell_type": "code",
   "execution_count": 351,
   "id": "de9f5be3-0db1-4ad5-9521-169be19a6f32",
   "metadata": {},
   "outputs": [
    {
     "data": {
      "text/plain": [
       "0.9366666666666666"
      ]
     },
     "execution_count": 351,
     "metadata": {},
     "output_type": "execute_result"
    }
   ],
   "source": [
    "accuracy(y_predict, y_valid)"
   ]
  },
  {
   "cell_type": "markdown",
   "id": "40f540ce-8cda-4187-a54a-53870ed5c271",
   "metadata": {},
   "source": [
    "`-` 정확도가 약 93.7% 이다\n",
    "\n",
    "`-` 맞추지 못한 나머지 6.3%는 어떤 특징을 가지고 있는지 확인하자"
   ]
  },
  {
   "cell_type": "code",
   "execution_count": 136,
   "id": "572d83a6-c174-458d-a2ce-d6e5a4a24b91",
   "metadata": {},
   "outputs": [
    {
     "data": {
      "text/plain": [
       "600"
      ]
     },
     "execution_count": 136,
     "metadata": {},
     "output_type": "execute_result"
    }
   ],
   "source": [
    "x_valid.shape[0] ## valid셋의 크기는 600"
   ]
  },
  {
   "cell_type": "code",
   "execution_count": 135,
   "id": "3f02c544-862d-4074-8bae-b7f8771e3522",
   "metadata": {},
   "outputs": [
    {
     "data": {
      "text/plain": [
       "38"
      ]
     },
     "execution_count": 135,
     "metadata": {},
     "output_type": "execute_result"
    }
   ],
   "source": [
    "x_valid[y_valid != y_predict].shape[0] ## 562개는 정확히 예측했고 38개는 잘못 예측했다"
   ]
  },
  {
   "cell_type": "code",
   "execution_count": 147,
   "id": "d94f487f-ec15-46c5-afa2-05cac5967feb",
   "metadata": {},
   "outputs": [],
   "source": [
    "df2 = pd.concat([x_valid[y_valid != y_predict], y_valid[y_valid != y_predict]], axis = 1)"
   ]
  },
  {
   "cell_type": "code",
   "execution_count": 149,
   "id": "0388c93e-c71e-42d3-9bce-c35b8a529c1b",
   "metadata": {},
   "outputs": [],
   "source": [
    "df2['predict'] = y_predict[y_valid != y_predict]"
   ]
  },
  {
   "cell_type": "code",
   "execution_count": 151,
   "id": "408908fc-1752-4ce4-8d29-c83067e6fa0e",
   "metadata": {},
   "outputs": [
    {
     "data": {
      "text/html": [
       "<div>\n",
       "<style scoped>\n",
       "    .dataframe tbody tr th:only-of-type {\n",
       "        vertical-align: middle;\n",
       "    }\n",
       "\n",
       "    .dataframe tbody tr th {\n",
       "        vertical-align: top;\n",
       "    }\n",
       "\n",
       "    .dataframe thead th {\n",
       "        text-align: right;\n",
       "    }\n",
       "</style>\n",
       "<table border=\"1\" class=\"dataframe\">\n",
       "  <thead>\n",
       "    <tr style=\"text-align: right;\">\n",
       "      <th></th>\n",
       "      <th>Gender</th>\n",
       "      <th>Customer Type</th>\n",
       "      <th>Age</th>\n",
       "      <th>Type of Travel</th>\n",
       "      <th>Class</th>\n",
       "      <th>Flight Distance</th>\n",
       "      <th>Seat comfort</th>\n",
       "      <th>Departure/Arrival time convenient</th>\n",
       "      <th>Food and drink</th>\n",
       "      <th>Gate location</th>\n",
       "      <th>Inflight wifi service</th>\n",
       "      <th>Inflight entertainment</th>\n",
       "      <th>Online support</th>\n",
       "      <th>Ease of Online booking</th>\n",
       "      <th>On-board service</th>\n",
       "      <th>Leg room service</th>\n",
       "      <th>Baggage handling</th>\n",
       "      <th>Checkin service</th>\n",
       "      <th>Cleanliness</th>\n",
       "      <th>Online boarding</th>\n",
       "      <th>Departure Delay in Minutes</th>\n",
       "      <th>Arrival Delay in Minutes</th>\n",
       "      <th>Avg_service</th>\n",
       "      <th>target</th>\n",
       "      <th>predict</th>\n",
       "    </tr>\n",
       "  </thead>\n",
       "  <tbody>\n",
       "    <tr>\n",
       "      <th>1751</th>\n",
       "      <td>0</td>\n",
       "      <td>1</td>\n",
       "      <td>1</td>\n",
       "      <td>1</td>\n",
       "      <td>0</td>\n",
       "      <td>1</td>\n",
       "      <td>4</td>\n",
       "      <td>2</td>\n",
       "      <td>4</td>\n",
       "      <td>4</td>\n",
       "      <td>4</td>\n",
       "      <td>3</td>\n",
       "      <td>3</td>\n",
       "      <td>2</td>\n",
       "      <td>2</td>\n",
       "      <td>4</td>\n",
       "      <td>2</td>\n",
       "      <td>3</td>\n",
       "      <td>2</td>\n",
       "      <td>1</td>\n",
       "      <td>0</td>\n",
       "      <td>0</td>\n",
       "      <td>3.049099</td>\n",
       "      <td>1</td>\n",
       "      <td>0</td>\n",
       "    </tr>\n",
       "    <tr>\n",
       "      <th>668</th>\n",
       "      <td>1</td>\n",
       "      <td>1</td>\n",
       "      <td>1</td>\n",
       "      <td>1</td>\n",
       "      <td>0</td>\n",
       "      <td>1</td>\n",
       "      <td>4</td>\n",
       "      <td>1</td>\n",
       "      <td>4</td>\n",
       "      <td>3</td>\n",
       "      <td>2</td>\n",
       "      <td>4</td>\n",
       "      <td>2</td>\n",
       "      <td>2</td>\n",
       "      <td>3</td>\n",
       "      <td>2</td>\n",
       "      <td>4</td>\n",
       "      <td>3</td>\n",
       "      <td>4</td>\n",
       "      <td>2</td>\n",
       "      <td>1</td>\n",
       "      <td>1</td>\n",
       "      <td>3.202773</td>\n",
       "      <td>1</td>\n",
       "      <td>0</td>\n",
       "    </tr>\n",
       "    <tr>\n",
       "      <th>737</th>\n",
       "      <td>0</td>\n",
       "      <td>1</td>\n",
       "      <td>0</td>\n",
       "      <td>0</td>\n",
       "      <td>1</td>\n",
       "      <td>1</td>\n",
       "      <td>4</td>\n",
       "      <td>4</td>\n",
       "      <td>4</td>\n",
       "      <td>4</td>\n",
       "      <td>4</td>\n",
       "      <td>4</td>\n",
       "      <td>4</td>\n",
       "      <td>3</td>\n",
       "      <td>2</td>\n",
       "      <td>5</td>\n",
       "      <td>4</td>\n",
       "      <td>4</td>\n",
       "      <td>3</td>\n",
       "      <td>4</td>\n",
       "      <td>1</td>\n",
       "      <td>1</td>\n",
       "      <td>3.830021</td>\n",
       "      <td>1</td>\n",
       "      <td>0</td>\n",
       "    </tr>\n",
       "    <tr>\n",
       "      <th>2509</th>\n",
       "      <td>0</td>\n",
       "      <td>1</td>\n",
       "      <td>1</td>\n",
       "      <td>1</td>\n",
       "      <td>0</td>\n",
       "      <td>0</td>\n",
       "      <td>4</td>\n",
       "      <td>3</td>\n",
       "      <td>4</td>\n",
       "      <td>4</td>\n",
       "      <td>2</td>\n",
       "      <td>4</td>\n",
       "      <td>3</td>\n",
       "      <td>2</td>\n",
       "      <td>2</td>\n",
       "      <td>4</td>\n",
       "      <td>2</td>\n",
       "      <td>4</td>\n",
       "      <td>2</td>\n",
       "      <td>3</td>\n",
       "      <td>1</td>\n",
       "      <td>0</td>\n",
       "      <td>3.331286</td>\n",
       "      <td>1</td>\n",
       "      <td>0</td>\n",
       "    </tr>\n",
       "    <tr>\n",
       "      <th>2865</th>\n",
       "      <td>0</td>\n",
       "      <td>1</td>\n",
       "      <td>0</td>\n",
       "      <td>1</td>\n",
       "      <td>0</td>\n",
       "      <td>1</td>\n",
       "      <td>4</td>\n",
       "      <td>1</td>\n",
       "      <td>3</td>\n",
       "      <td>2</td>\n",
       "      <td>3</td>\n",
       "      <td>3</td>\n",
       "      <td>3</td>\n",
       "      <td>3</td>\n",
       "      <td>4</td>\n",
       "      <td>4</td>\n",
       "      <td>2</td>\n",
       "      <td>4</td>\n",
       "      <td>3</td>\n",
       "      <td>3</td>\n",
       "      <td>0</td>\n",
       "      <td>0</td>\n",
       "      <td>3.110328</td>\n",
       "      <td>0</td>\n",
       "      <td>1</td>\n",
       "    </tr>\n",
       "  </tbody>\n",
       "</table>\n",
       "</div>"
      ],
      "text/plain": [
       "      Gender  Customer Type  Age  Type of Travel  Class  Flight Distance  \\\n",
       "1751       0              1    1               1      0                1   \n",
       "668        1              1    1               1      0                1   \n",
       "737        0              1    0               0      1                1   \n",
       "2509       0              1    1               1      0                0   \n",
       "2865       0              1    0               1      0                1   \n",
       "\n",
       "      Seat comfort  Departure/Arrival time convenient  Food and drink  \\\n",
       "1751             4                                  2               4   \n",
       "668              4                                  1               4   \n",
       "737              4                                  4               4   \n",
       "2509             4                                  3               4   \n",
       "2865             4                                  1               3   \n",
       "\n",
       "      Gate location  Inflight wifi service  Inflight entertainment  \\\n",
       "1751              4                      4                       3   \n",
       "668               3                      2                       4   \n",
       "737               4                      4                       4   \n",
       "2509              4                      2                       4   \n",
       "2865              2                      3                       3   \n",
       "\n",
       "      Online support  Ease of Online booking  On-board service  \\\n",
       "1751               3                       2                 2   \n",
       "668                2                       2                 3   \n",
       "737                4                       3                 2   \n",
       "2509               3                       2                 2   \n",
       "2865               3                       3                 4   \n",
       "\n",
       "      Leg room service  Baggage handling  Checkin service  Cleanliness  \\\n",
       "1751                 4                 2                3            2   \n",
       "668                  2                 4                3            4   \n",
       "737                  5                 4                4            3   \n",
       "2509                 4                 2                4            2   \n",
       "2865                 4                 2                4            3   \n",
       "\n",
       "      Online boarding  Departure Delay in Minutes  Arrival Delay in Minutes  \\\n",
       "1751                1                           0                         0   \n",
       "668                 2                           1                         1   \n",
       "737                 4                           1                         1   \n",
       "2509                3                           1                         0   \n",
       "2865                3                           0                         0   \n",
       "\n",
       "      Avg_service  target  predict  \n",
       "1751     3.049099       1        0  \n",
       "668      3.202773       1        0  \n",
       "737      3.830021       1        0  \n",
       "2509     3.331286       1        0  \n",
       "2865     3.110328       0        1  "
      ]
     },
     "execution_count": 151,
     "metadata": {},
     "output_type": "execute_result"
    }
   ],
   "source": [
    "df2.head()"
   ]
  },
  {
   "cell_type": "markdown",
   "id": "fa674f78-e66e-4e99-b0e0-f03185be7e44",
   "metadata": {},
   "source": [
    "`-` 잘못 예측한 데이터를 시각화하자"
   ]
  },
  {
   "cell_type": "code",
   "execution_count": 156,
   "id": "afce7ba6-8e0c-4803-8ac4-1f60c50f8bcb",
   "metadata": {},
   "outputs": [],
   "source": [
    "numeric_features = ['Flight Distance', 'Departure Delay in Minutes', 'Arrival Delay in Minutes', 'Avg_service', 'target', 'predict']"
   ]
  },
  {
   "cell_type": "code",
   "execution_count": 157,
   "id": "74b5d5cb-67f1-41dc-867d-6482411f2ffa",
   "metadata": {},
   "outputs": [],
   "source": [
    "categorical_features = list(set(df2.columns.tolist()) - set(numeric_features))"
   ]
  },
  {
   "cell_type": "code",
   "execution_count": 161,
   "id": "0c537791-b425-4f6f-91dd-4dc62e47a81b",
   "metadata": {},
   "outputs": [
    {
     "data": {
      "image/png": "[encoded data removed]",
      "text/plain": [
       "<Figure size 1440x1440 with 19 Axes>"
      ]
     },
     "metadata": {},
     "output_type": "display_data"
    }
   ],
   "source": [
    "## 히스토그램을 사용해 범주의 빈도 확인\n",
    "features = categorical_features\n",
    "\n",
    "plt.figure(figsize = (20,20))\n",
    "plt.suptitle('Wrong prediction', fontsize = 30)\n",
    "\n",
    "for i, feature in enumerate(features):\n",
    "    plt.subplot(5,4,i+1)\n",
    "    sns.countplot(x = feature, hue = 'predict', data = df2) \n",
    "\n",
    "plt.tight_layout(rect = [0, 0.03, 1, 0.95])\n",
    "plt.show()"
   ]
  },
  {
   "cell_type": "markdown",
   "id": "522006a5-0253-4c9d-8abd-ca8a0f63665b",
   "metadata": {},
   "source": [
    "- EDA에서 살펴본 것과 차이점을 알아보자"
   ]
  },
  {
   "cell_type": "markdown",
   "id": "5a41a8c5-4d4c-42af-b208-5810f7c9ea80",
   "metadata": {},
   "source": [
    "`-` 일단 음식/음료를 miss marking한 사람들을 잘 예측하지 못하고 있다\n",
    "\n",
    "`-` 음식/음료 만족도 점수가 4인 경우 매우 혼란스러워 하고(이 외에도 좌석, 기내 와이파이 등등)\n",
    "\n",
    "`-` 0점과 1점(miss marking인 듯)의 경우 불만족으로 예측했지만 사실은 전부 만족이다\n",
    "\n",
    "`-` 막대그래프를 보면 만족/불만족을 비슷한 비율로 예측 실패한 범주도 있는 반면\n",
    "\n",
    "`-` on-board service의 2점 범주처럼 비율이 한 쪽으로 쏠린 경우도 있다\n",
    "\n",
    "`-` 기본적으로는 기존의 만족/불만족 비율과 비슷하도록 예측하는 것이 좋다(내 생각)\n",
    "\n",
    "`-` 예컨대 남:여 = 1:9 데이터에서 \n",
    "\n",
    "`-` 남자 100명, 여자 900명을 예측 ---> 100명 잘못 예측 ---> 남자인데 여자로 예측(90명), 여자인데 남자로 예측(10명)\n",
    "\n",
    "`-` 위의 예시처럼 예측하는 것이 일반화가 잘 된 모형이지 않을까?\n",
    "\n",
    "`-` 100명 잘못 예측 = 900명 정확히 예측 ---> 남자인데 남자로 예측(90명), 여자인데 여자로 예측(810명)\n",
    "\n",
    "`-` 기존의 비율이 1:9이니까 예측한 결과의 비율도 1:9 이어야 일반화 잘 된 모형의 예측이라고 할 수 있을 듯"
   ]
  },
  {
   "cell_type": "markdown",
   "id": "0c34135f-af5f-4297-ae9a-6daeca0eabce",
   "metadata": {},
   "source": [
    "## 모델링"
   ]
  },
  {
   "cell_type": "markdown",
   "id": "90ccd7c1-a982-4890-94ff-d4d80ffb2bbb",
   "metadata": {},
   "source": [
    "`-` 좌석 만족도에 따라 예측을 수행할 것이다\n",
    "\n",
    "`-` 일단은 좌석 만족도에 따라 데이터를 나누지 않고 예측을 진행하자"
   ]
  },
  {
   "cell_type": "code",
   "execution_count": 578,
   "id": "5c067798-9315-4e59-9b92-67be2e947e72",
   "metadata": {},
   "outputs": [],
   "source": [
    "service_features2 = ['Baggage handling',\n",
    "                     'On-board service',\n",
    "                     'Online boarding',\n",
    "                     'Checkin service',\n",
    "                     'Leg room service',\n",
    "                     'Cleanliness',\n",
    "                     'Online support',\n",
    "                     'Inflight entertainment',\n",
    "                     'Ease of Online booking']"
   ]
  },
  {
   "cell_type": "code",
   "execution_count": 579,
   "id": "71b7a8e2-c82a-4e83-b2a3-1ef41b3e1653",
   "metadata": {},
   "outputs": [],
   "source": [
    "skfold = StratifiedKFold(n_splits = 5,  shuffle = True, random_state = 22)"
   ]
  },
  {
   "cell_type": "code",
   "execution_count": 977,
   "id": "caf98f9f-354e-46db-ad57-819efcf1098e",
   "metadata": {},
   "outputs": [],
   "source": [
    "dt = df.copy()"
   ]
  },
  {
   "cell_type": "code",
   "execution_count": 978,
   "id": "b61b46c0-aaad-4153-84d5-df523d5d92d6",
   "metadata": {},
   "outputs": [],
   "source": [
    "dt.drop(['Departure Delay in Minutes', 'Food and drink'], axis = 1, inplace = True) \n",
    "test.drop(['Departure Delay in Minutes', 'Food and drink'], axis = 1, inplace = True) "
   ]
  },
  {
   "cell_type": "code",
   "execution_count": 979,
   "id": "0ba313b3-53d6-4184-9dfa-402c9726f933",
   "metadata": {},
   "outputs": [],
   "source": [
    "target = dt['target']\n",
    "dt.drop('target', axis = 1, inplace = True)"
   ]
  },
  {
   "cell_type": "code",
   "execution_count": 980,
   "id": "6a801980-3f34-4502-aa09-b2511b162962",
   "metadata": {},
   "outputs": [],
   "source": [
    "cb = CatBoostClassifier(random_state = 22, learning_rate = 0.03, n_estimators = 800, verbose = 0, max_depth = 6)"
   ]
  },
  {
   "cell_type": "code",
   "execution_count": 981,
   "id": "bb8076c4-64f6-43cd-ae4f-040254597b23",
   "metadata": {},
   "outputs": [
    {
     "data": {
      "text/plain": [
       "<catboost.core.CatBoostClassifier at 0x280a888c490>"
      ]
     },
     "execution_count": 981,
     "metadata": {},
     "output_type": "execute_result"
    }
   ],
   "source": [
    "cb.fit(dt, target)"
   ]
  },
  {
   "cell_type": "code",
   "execution_count": 916,
   "id": "a6e3ecf2-3f6a-445d-b384-6ea9c3d5a16e",
   "metadata": {},
   "outputs": [],
   "source": [
    "_ = pd.DataFrame(dict(zip(cb.feature_names_, cb.feature_importances_)), index = [0]).T.\\\n",
    "reset_index().rename(columns = {'index':'feature', 0:'importance'}).\\\n",
    "sort_values('importance', ascending = False)"
   ]
  },
  {
   "cell_type": "code",
   "execution_count": 917,
   "id": "7ba2ea44-1299-4123-8a4c-681c76937235",
   "metadata": {},
   "outputs": [
    {
     "data": {
      "text/plain": [
       "<AxesSubplot:xlabel='importance', ylabel='feature'>"
      ]
     },
     "execution_count": 917,
     "metadata": {},
     "output_type": "execute_result"
    },
    {
     "data": {
      "image/png": "[encoded data removed]",
      "text/plain": [
       "<Figure size 432x288 with 1 Axes>"
      ]
     },
     "metadata": {},
     "output_type": "display_data"
    }
   ],
   "source": [
    "sns.barplot(y = 'feature', x = 'importance', data = _)"
   ]
  },
  {
   "cell_type": "markdown",
   "id": "80461393-bf6d-4be2-b6ba-56da7e03dc8d",
   "metadata": {},
   "source": [
    "`-` 만족도 점수들의 평균 피쳐를 만들겠다"
   ]
  },
  {
   "cell_type": "code",
   "execution_count": 982,
   "id": "b09840d7-abde-4e08-ac3b-0175a79f1813",
   "metadata": {},
   "outputs": [],
   "source": [
    "service_features =\\\n",
    "list(set(df.columns.tolist()) -\\\n",
    "{'Food and drink', 'Gender', 'Customer Type', 'Age', 'Type of Travel', 'Class', 'Flight Distance', 'Departure Delay in Minutes', 'Arrival Delay in Minutes', 'target'})"
   ]
  },
  {
   "cell_type": "markdown",
   "id": "3d3f79ac-0b73-463f-8a17-8e7cf7fe4332",
   "metadata": {},
   "source": [
    "`-` 서비스 피쳐들의 평균을 새로운 파생변수로 만들자\n",
    "\n",
    "`-` 위의 중요도를 이용해 가중평균을 구하겠다"
   ]
  },
  {
   "cell_type": "code",
   "execution_count": 983,
   "id": "ab8bc434-04ae-4c43-b9d2-408b9c62bdc4",
   "metadata": {},
   "outputs": [],
   "source": [
    "dict_ = dict(zip(cb.feature_names_, cb.feature_importances_))"
   ]
  },
  {
   "cell_type": "code",
   "execution_count": 984,
   "id": "9531fc9b-d885-41d3-998f-2e69513902be",
   "metadata": {},
   "outputs": [],
   "source": [
    "dt['Avg_service'] = 0\n",
    "test['Avg_service'] = 0\n",
    "total = sum([dict_[qual] for qual in service_features])\n",
    "\n",
    "for qual_feature in service_features:\n",
    "    dt['Avg_service'] = dt['Avg_service'] + dt[qual_feature] * (dict_[qual_feature] / total)\n",
    "    test['Avg_service'] = test['Avg_service'] + test[qual_feature] * (dict_[qual_feature] / total)"
   ]
  },
  {
   "cell_type": "code",
   "execution_count": 1037,
   "id": "e5d5b3b5-d3dd-4df0-9213-1ebc439c08e9",
   "metadata": {},
   "outputs": [],
   "source": [
    "cb = CatBoostClassifier(random_state = 22, learning_rate = 0.03, n_estimators = 800, verbose = 0, depth = 6)"
   ]
  },
  {
   "cell_type": "code",
   "execution_count": 1038,
   "id": "e780c576-8c48-4043-8182-de0b3e61da78",
   "metadata": {},
   "outputs": [],
   "source": [
    "skfold = StratifiedKFold(n_splits = 10,  shuffle = True, random_state = 22)"
   ]
  },
  {
   "cell_type": "code",
   "execution_count": 1029,
   "id": "f26f1f10-3f0c-4621-b5c3-5612ebb314d6",
   "metadata": {},
   "outputs": [],
   "source": [
    "scores = cross_validate(cb, dt, target, scoring = 'accuracy', cv = skfold)"
   ]
  },
  {
   "cell_type": "code",
   "execution_count": 1015,
   "id": "3e56dba2-2d07-48fb-bf00-8ce95fae4e6e",
   "metadata": {},
   "outputs": [
    {
     "data": {
      "text/plain": [
       "0.9396666666666667"
      ]
     },
     "execution_count": 1015,
     "metadata": {},
     "output_type": "execute_result"
    }
   ],
   "source": [
    "np.mean(scores['test_score'])"
   ]
  },
  {
   "cell_type": "code",
   "execution_count": 1039,
   "id": "89a8c347-e2c3-48d8-ab8d-01ef25d0cf6f",
   "metadata": {},
   "outputs": [],
   "source": [
    "threshold = 0.48 ## 주어진 데이터에서 만족이 55.6% 불만족이 44.4% 이다"
   ]
  },
  {
   "cell_type": "markdown",
   "id": "250c6986-a4b8-414e-8688-e474f4410c0d",
   "metadata": {},
   "source": [
    "`-` catboost"
   ]
  },
  {
   "cell_type": "code",
   "execution_count": 1040,
   "id": "c75f512f-6b63-4750-9606-b9f47fef73f7",
   "metadata": {},
   "outputs": [],
   "source": [
    "cb_valid = []\n",
    "cb_predict = np.zeros(test.shape[0])\n",
    "\n",
    "for train_idx, valid_idx in skfold.split(dt, target):\n",
    "    x_train, y_train = dt.iloc[train_idx], target.iloc[train_idx]\n",
    "    x_valid, y_valid = dt.iloc[valid_idx], target.iloc[valid_idx]\n",
    "    \n",
    "    cb = CatBoostClassifier(random_state = 22, learning_rate = 0.03, n_estimators = 800, verbose = 0, depth = 6)\n",
    "    cb.fit(x_train, y_train)\n",
    "    \n",
    "    y_predict = (cb.predict_proba(x_valid)[:,1] > threshold).astype(int) ## 만족일 확률이 0.5 이상이면 1 아니면 0 ## valid셋 예측\n",
    "    test_predict = cb.predict_proba(test)[:,1]  ## 1(만족)일 확률 ## test셋 예측\n",
    "\n",
    "    cb_valid.append(accuracy(y_predict, y_valid)) ## valid 예측값\n",
    "    cb_predict += test_predict / 10 ## test 예측값(10 Fold)"
   ]
  },
  {
   "cell_type": "code",
   "execution_count": 1041,
   "id": "e575d7b7-bbd6-4115-acd5-ec7b8f2b9b3e",
   "metadata": {},
   "outputs": [
    {
     "data": {
      "text/plain": [
       "(0.937, 0.018040078836979747)"
      ]
     },
     "execution_count": 1041,
     "metadata": {},
     "output_type": "execute_result"
    }
   ],
   "source": [
    "np.mean(cb_valid), np.std(cb_valid) # threshold 0.48"
   ]
  },
  {
   "cell_type": "code",
   "execution_count": 1042,
   "id": "beb0302e-3400-45b8-9f14-a0772a41beb2",
   "metadata": {},
   "outputs": [],
   "source": [
    "submission = pd.read_csv('C:/Users/Jaesu/github_desktop/Dacon-Basic/항공사-고객만족도-예측/Data/sample_submission.csv')"
   ]
  },
  {
   "cell_type": "code",
   "execution_count": 1043,
   "id": "eb27b0a6-a484-4bd7-89d9-fea9903d021e",
   "metadata": {},
   "outputs": [],
   "source": [
    "pred = (cb_predict > threshold).astype(int) ## 만족일 확률이 threshold보다 높으면 1(만족) 아니면 0(불만족)"
   ]
  },
  {
   "cell_type": "code",
   "execution_count": 1044,
   "id": "197cd52a-b387-421b-8233-7d54546fbb76",
   "metadata": {},
   "outputs": [
    {
     "data": {
      "text/html": [
       "<div>\n",
       "<style scoped>\n",
       "    .dataframe tbody tr th:only-of-type {\n",
       "        vertical-align: middle;\n",
       "    }\n",
       "\n",
       "    .dataframe tbody tr th {\n",
       "        vertical-align: top;\n",
       "    }\n",
       "\n",
       "    .dataframe thead th {\n",
       "        text-align: right;\n",
       "    }\n",
       "</style>\n",
       "<table border=\"1\" class=\"dataframe\">\n",
       "  <thead>\n",
       "    <tr style=\"text-align: right;\">\n",
       "      <th></th>\n",
       "      <th>id</th>\n",
       "      <th>target</th>\n",
       "    </tr>\n",
       "  </thead>\n",
       "  <tbody>\n",
       "    <tr>\n",
       "      <th>0</th>\n",
       "      <td>1</td>\n",
       "      <td>1</td>\n",
       "    </tr>\n",
       "    <tr>\n",
       "      <th>1</th>\n",
       "      <td>2</td>\n",
       "      <td>0</td>\n",
       "    </tr>\n",
       "    <tr>\n",
       "      <th>2</th>\n",
       "      <td>3</td>\n",
       "      <td>1</td>\n",
       "    </tr>\n",
       "    <tr>\n",
       "      <th>3</th>\n",
       "      <td>4</td>\n",
       "      <td>1</td>\n",
       "    </tr>\n",
       "    <tr>\n",
       "      <th>4</th>\n",
       "      <td>5</td>\n",
       "      <td>1</td>\n",
       "    </tr>\n",
       "  </tbody>\n",
       "</table>\n",
       "</div>"
      ],
      "text/plain": [
       "   id  target\n",
       "0   1       1\n",
       "1   2       0\n",
       "2   3       1\n",
       "3   4       1\n",
       "4   5       1"
      ]
     },
     "execution_count": 1044,
     "metadata": {},
     "output_type": "execute_result"
    }
   ],
   "source": [
    "## 위에서 구한 예측값을 그대로 넣어줌\n",
    "submission['target'] = pred\n",
    "\n",
    "## 데이터가 잘 들어갔는지 확인\n",
    "submission.head()"
   ]
  },
  {
   "cell_type": "code",
   "execution_count": 1045,
   "id": "afbb51f2-dcb0-4e50-88b5-0a062f8654cd",
   "metadata": {},
   "outputs": [],
   "source": [
    "## submission을 csv 파일로 저장\n",
    "## 점수는 0.933\n",
    "submission.to_csv('C:/Users/Jaesu/github_desktop/Dacon-Basic/항공사-고객만족도-예측/Data/submission5.csv', index = False)"
   ]
  },
  {
   "cell_type": "markdown",
   "id": "52bc5ff6-a31f-40b6-ad89-8b7c9beaff37",
   "metadata": {},
   "source": [
    "### 좌석 만족도에 따른 모델링"
   ]
  },
  {
   "cell_type": "code",
   "execution_count": 911,
   "id": "65ed3fff-86b3-4a25-a49e-0cc44769aa50",
   "metadata": {},
   "outputs": [],
   "source": [
    "dt = df.copy()"
   ]
  },
  {
   "cell_type": "code",
   "execution_count": 912,
   "id": "d263f2b5-1ee9-4521-93c9-ca8c93d04a5c",
   "metadata": {},
   "outputs": [],
   "source": [
    "dt.drop(['Departure Delay in Minutes', 'Food and drink'], axis = 1, inplace = True) \n",
    "#test.drop(['Departure Delay in Minutes', 'Food and drink'], axis = 1, inplace = True) "
   ]
  },
  {
   "cell_type": "code",
   "execution_count": 914,
   "id": "92fe636c-5e81-4bd3-96ad-5a3bb8394ffc",
   "metadata": {},
   "outputs": [],
   "source": [
    "target = dt['target']\n",
    "dt.drop('target', axis = 1, inplace = True)"
   ]
  },
  {
   "cell_type": "code",
   "execution_count": 905,
   "id": "9edfae74-ab3d-4ae2-a14b-65ab01edc58e",
   "metadata": {},
   "outputs": [],
   "source": [
    "dt['Avg_service'] = dt[service_features].sum(axis = 1) / len(service_features) ## 만족도의 평균\n",
    "#test['Avg_service'] = test[service_features].sum(axis = 1) / len(service_features) ## 만족도의 평균\n",
    "#dt['Avg_service2'] = dt[service_features2].sum(axis = 1) / len(service_features2)"
   ]
  },
  {
   "cell_type": "code",
   "execution_count": 582,
   "id": "7c9196fc-8450-46a8-8b8f-7a4944d630d9",
   "metadata": {},
   "outputs": [],
   "source": [
    "dt.drop(['Departure Delay in Minutes', 'Online boarding'], axis = 1, inplace = True) \n",
    "test.drop(['Departure Delay in Minutes', 'Online boarding'], axis = 1, inplace = True) "
   ]
  },
  {
   "cell_type": "code",
   "execution_count": 553,
   "id": "f7abd6a9-c35b-4b9f-b769-a1b55ef54339",
   "metadata": {},
   "outputs": [],
   "source": [
    "# dt2 = dt[(dt['Seat comfort'] != 0) & (dt['Seat comfort'] != 5)]\n",
    "# target = dt2['target']\n",
    "# dt2.drop(['Food and drink', 'Departure/Arrival time convenient', 'target'], axis = 1, inplace = True)"
   ]
  },
  {
   "cell_type": "code",
   "execution_count": 583,
   "id": "d86bd1c7-cb22-447e-b53f-17875210ade4",
   "metadata": {},
   "outputs": [],
   "source": [
    "dt_seat1 = dt[dt['Seat comfort'] == 1]\n",
    "dt_seat2 = dt[dt['Seat comfort'] == 2]\n",
    "dt_seat3 = dt[dt['Seat comfort'] == 3]\n",
    "dt_seat4 = dt[dt['Seat comfort'] == 4]\n",
    "\n",
    "test_seat1 = test[test['Seat comfort'] == 1]\n",
    "test_seat2 = test[test['Seat comfort'] == 2]\n",
    "test_seat3 = test[test['Seat comfort'] == 3]\n",
    "test_seat4 = test[test['Seat comfort'] == 4]"
   ]
  },
  {
   "cell_type": "code",
   "execution_count": 586,
   "id": "62024530-5965-4c2d-b37b-fd1e0e64bf68",
   "metadata": {},
   "outputs": [],
   "source": [
    "target1 = dt_seat1['target']\n",
    "target2 = dt_seat2['target']\n",
    "target3 = dt_seat3['target']\n",
    "target4 = dt_seat4['target']\n",
    "\n",
    "## 게이트 위치 만족도 피쳐가 있으니 출발/도착 시간 만족도 피쳐와 음식/음료 만족도 피쳐는 드랍\n",
    "## 좌석 만족도가 1점일 땐 관계가 명확하기에 드랍X\n",
    "dt_seat1.drop(['Seat comfort',  'target'], axis = 1, inplace = True)\n",
    "dt_seat2.drop(['Seat comfort', 'Food and drink', 'Departure/Arrival time convenient', 'target'], axis = 1, inplace = True)\n",
    "dt_seat3.drop(['Seat comfort', 'Food and drink', 'Departure/Arrival time convenient', 'target'], axis = 1, inplace = True)\n",
    "dt_seat4.drop(['Seat comfort', 'Food and drink', 'Departure/Arrival time convenient', 'target'], axis = 1, inplace = True)\n",
    "\n",
    "## test 데이터\n",
    "test_seat1.drop(['Seat comfort'], axis = 1, inplace = True)\n",
    "test_seat2.drop(['Seat comfort', 'Food and drink', 'Departure/Arrival time convenient'], axis = 1, inplace = True)\n",
    "test_seat3.drop(['Seat comfort', 'Food and drink', 'Departure/Arrival time convenient'], axis = 1, inplace = True)\n",
    "test_seat4.drop(['Seat comfort', 'Food and drink', 'Departure/Arrival time convenient'], axis = 1, inplace = True)"
   ]
  },
  {
   "cell_type": "code",
   "execution_count": 584,
   "id": "5b2fbe8f-4f4c-478d-b644-9cb6ef7bffde",
   "metadata": {},
   "outputs": [
    {
     "data": {
      "text/plain": [
       "(476, 655, 680, 651)"
      ]
     },
     "execution_count": 584,
     "metadata": {},
     "output_type": "execute_result"
    }
   ],
   "source": [
    "len(target1), len(target2), len(target3), len(target4)"
   ]
  },
  {
   "cell_type": "code",
   "execution_count": 657,
   "id": "4ff93aee-2a84-40cd-a073-0b5fc38304a2",
   "metadata": {},
   "outputs": [],
   "source": [
    "cb1 = CatBoostClassifier(random_state = 22, learning_rate = 0.03, n_estimators = 800, verbose = 0, depth = 5)\n",
    "cb2 = CatBoostClassifier(random_state = 22, learning_rate = 0.03, n_estimators = 800, verbose = 0, depth = 6)\n",
    "cb3 = CatBoostClassifier(random_state = 22, learning_rate = 0.03, n_estimators = 800, verbose = 0, depth = 6)\n",
    "cb4 = CatBoostClassifier(random_state = 22, learning_rate = 0.03, n_estimators = 800, verbose = 0, depth = 7)"
   ]
  },
  {
   "cell_type": "code",
   "execution_count": 658,
   "id": "8fc2fbf3-4392-40f6-9500-fbd71f311fd1",
   "metadata": {},
   "outputs": [],
   "source": [
    "skfold = StratifiedKFold(n_splits = 10,  shuffle = True, random_state = 22)"
   ]
  },
  {
   "cell_type": "code",
   "execution_count": 659,
   "id": "e9a7b8cd-e21e-4706-834a-523ac9dda0f8",
   "metadata": {},
   "outputs": [],
   "source": [
    "scores1 = cross_validate(cb1, dt_seat1, target1, scoring = 'accuracy', cv = skfold)\n",
    "scores2 = cross_validate(cb2, dt_seat2, target2, scoring = 'accuracy', cv = skfold)\n",
    "scores3 = cross_validate(cb3, dt_seat3, target3, scoring = 'accuracy', cv = skfold)\n",
    "scores4 = cross_validate(cb4, dt_seat4, target4, scoring = 'accuracy', cv = skfold)"
   ]
  },
  {
   "cell_type": "code",
   "execution_count": 661,
   "id": "73362ec1-8f63-4977-b24d-0c32fc6d8a47",
   "metadata": {},
   "outputs": [
    {
     "data": {
      "text/plain": [
       "(0.99375, 0.964895104895105, 0.9558823529411764, 0.7911421911421911)"
      ]
     },
     "execution_count": 661,
     "metadata": {},
     "output_type": "execute_result"
    }
   ],
   "source": [
    "np.mean(scores1['test_score']), np.mean(scores2['test_score']), np.mean(scores3['test_score']), np.mean(scores4['test_score'])"
   ]
  },
  {
   "cell_type": "markdown",
   "id": "3a00b5b0-ef29-4259-9c36-bcc150ced7ab",
   "metadata": {},
   "source": [
    "### test 예측"
   ]
  },
  {
   "cell_type": "code",
   "execution_count": 682,
   "id": "d1718ded-335b-4cdc-8f57-99662f053c0f",
   "metadata": {},
   "outputs": [],
   "source": [
    "threshold = 0.5 ## 주어진 데이터에서 만족이 55.6% 불만족이 44.4% 이다"
   ]
  },
  {
   "cell_type": "code",
   "execution_count": 683,
   "id": "2e2b4a9d-1683-4721-a9ea-29d20913a102",
   "metadata": {},
   "outputs": [],
   "source": [
    "dt_seat = [dt_seat1, dt_seat2, dt_seat3, dt_seat4]\n",
    "target_seat = [target1, target2, target3, target4]\n",
    "test_seat = [test_seat1, test_seat2, test_seat3, test_seat4]"
   ]
  },
  {
   "cell_type": "code",
   "execution_count": 684,
   "id": "3aef316f-7dc3-4e24-ae79-25f77f73846b",
   "metadata": {},
   "outputs": [],
   "source": [
    "cb_list = [cb1, cb2, cb3, cb4]\n",
    "cb_valid = [[] for i in range(4)]\n",
    "cb_predict = [np.zeros(test_seat[i].shape[0]) for i in range(4)]\n",
    "\n",
    "for i in range(4):\n",
    "    for train_idx, valid_idx in skfold.split(dt_seat[i], target_seat[i]):\n",
    "        x_train, y_train = dt_seat[i].iloc[train_idx], target_seat[i].iloc[train_idx]\n",
    "        x_valid, y_valid = dt_seat[i].iloc[valid_idx], target_seat[i].iloc[valid_idx]\n",
    "\n",
    "        cb = cb_list[i]\n",
    "        cb.fit(x_train, y_train)\n",
    "\n",
    "        y_predict = (cb.predict_proba(x_valid)[:,1] > threshold).astype(int) ## 만족일 확률이 threshold 초과이면 1 아니라면 0 ## valid셋 예측\n",
    "        test_predict = cb.predict_proba(test_seat[i])[:,1]  ## 1(만족)일 확률 ## test셋 예측\n",
    "\n",
    "        cb_valid[i].append(accuracy(y_predict, y_valid)) ## valid 예측값\n",
    "        cb_predict[i] = cb_predict[i] + (test_predict / 10) ## test 예측값(10 Fold)"
   ]
  },
  {
   "cell_type": "code",
   "execution_count": 677,
   "id": "7c1da9f3-8209-4ee9-b33a-091fe3f22ae6",
   "metadata": {},
   "outputs": [
    {
     "data": {
      "text/plain": [
       "[0.99375, 0.964895104895105, 0.9558823529411764, 0.7926806526806527]"
      ]
     },
     "execution_count": 677,
     "metadata": {},
     "output_type": "execute_result"
    }
   ],
   "source": [
    "[np.mean(cb_valid[i]) for i in range(4)] # threshold 0.52"
   ]
  },
  {
   "cell_type": "code",
   "execution_count": 685,
   "id": "5b0d416c-f333-4de7-8fb7-f80d91d490d4",
   "metadata": {},
   "outputs": [
    {
     "data": {
      "text/plain": [
       "[0.99375, 0.964895104895105, 0.9558823529411764, 0.7911421911421911]"
      ]
     },
     "execution_count": 685,
     "metadata": {},
     "output_type": "execute_result"
    }
   ],
   "source": [
    "[np.mean(cb_valid[i]) for i in range(4)] # threshold 0.5"
   ]
  },
  {
   "cell_type": "code",
   "execution_count": 669,
   "id": "1a4cacca-3a37-4be1-bb66-9bd6c448d496",
   "metadata": {},
   "outputs": [
    {
     "data": {
      "text/plain": [
       "[0.99375, 0.964895104895105, 0.9558823529411764, 0.788065268065268]"
      ]
     },
     "execution_count": 669,
     "metadata": {},
     "output_type": "execute_result"
    }
   ],
   "source": [
    "[np.mean(cb_valid[i]) for i in range(4)] # threshold 0.49"
   ]
  },
  {
   "cell_type": "code",
   "execution_count": 665,
   "id": "4af05a2d-5fc8-46d1-bd7c-534127e10c32",
   "metadata": {},
   "outputs": [
    {
     "data": {
      "text/plain": [
       "[0.99375, 0.964895104895105, 0.9558823529411764, 0.7880419580419581]"
      ]
     },
     "execution_count": 665,
     "metadata": {},
     "output_type": "execute_result"
    }
   ],
   "source": [
    "[np.mean(cb_valid[i]) for i in range(4)] # threshold 0.48"
   ]
  },
  {
   "cell_type": "markdown",
   "id": "cdc1b576-425b-40e2-b30a-e144a09c66fb",
   "metadata": {},
   "source": [
    "`-` 예측"
   ]
  },
  {
   "cell_type": "code",
   "execution_count": 686,
   "id": "e375ec44-4f85-4bad-8f87-40b994a141f4",
   "metadata": {},
   "outputs": [],
   "source": [
    "submission = pd.read_csv('C:/Users/Jaesu/github_desktop/Dacon-Basic/항공사-고객만족도-예측/Data/sample_submission.csv')"
   ]
  },
  {
   "cell_type": "code",
   "execution_count": 723,
   "id": "c9f8e18b-b24b-45ee-b511-c6d2ff0722db",
   "metadata": {},
   "outputs": [],
   "source": [
    "test['target'] = 1 ## 좌석 만족도가 0점 또는 5점이면 만족(1)으로 예측"
   ]
  },
  {
   "cell_type": "code",
   "execution_count": 725,
   "id": "a8b412be-97f8-4470-bf01-77708a0ed48b",
   "metadata": {},
   "outputs": [],
   "source": [
    "for i in range(4):\n",
    "    test.loc[test_seat[i].index.tolist(), 'target'] = cb_predict[i]"
   ]
  },
  {
   "cell_type": "code",
   "execution_count": 726,
   "id": "94b8b895-5b22-4741-a1c2-70a123f534f4",
   "metadata": {},
   "outputs": [
    {
     "data": {
      "text/plain": [
       "<AxesSubplot:>"
      ]
     },
     "execution_count": 726,
     "metadata": {},
     "output_type": "execute_result"
    },
    {
     "data": {
      "image/png": "[encoded data removed]",
      "text/plain": [
       "<Figure size 432x288 with 1 Axes>"
      ]
     },
     "metadata": {},
     "output_type": "display_data"
    }
   ],
   "source": [
    "test['target'].hist()"
   ]
  },
  {
   "cell_type": "code",
   "execution_count": 731,
   "id": "a4f9ac98-d5d1-4763-a742-bac6bea649d9",
   "metadata": {},
   "outputs": [],
   "source": [
    "pred = (test['target'] > threshold).astype(int) ## 만족일 확률이 threshold보다 높으면 1(만족) 아니면 0(불만족)"
   ]
  },
  {
   "cell_type": "code",
   "execution_count": 733,
   "id": "0b040df0-50d6-4375-b07d-b7e2821969a5",
   "metadata": {},
   "outputs": [
    {
     "data": {
      "text/html": [
       "<div>\n",
       "<style scoped>\n",
       "    .dataframe tbody tr th:only-of-type {\n",
       "        vertical-align: middle;\n",
       "    }\n",
       "\n",
       "    .dataframe tbody tr th {\n",
       "        vertical-align: top;\n",
       "    }\n",
       "\n",
       "    .dataframe thead th {\n",
       "        text-align: right;\n",
       "    }\n",
       "</style>\n",
       "<table border=\"1\" class=\"dataframe\">\n",
       "  <thead>\n",
       "    <tr style=\"text-align: right;\">\n",
       "      <th></th>\n",
       "      <th>id</th>\n",
       "      <th>target</th>\n",
       "    </tr>\n",
       "  </thead>\n",
       "  <tbody>\n",
       "    <tr>\n",
       "      <th>0</th>\n",
       "      <td>1</td>\n",
       "      <td>1</td>\n",
       "    </tr>\n",
       "    <tr>\n",
       "      <th>1</th>\n",
       "      <td>2</td>\n",
       "      <td>0</td>\n",
       "    </tr>\n",
       "    <tr>\n",
       "      <th>2</th>\n",
       "      <td>3</td>\n",
       "      <td>1</td>\n",
       "    </tr>\n",
       "    <tr>\n",
       "      <th>3</th>\n",
       "      <td>4</td>\n",
       "      <td>1</td>\n",
       "    </tr>\n",
       "    <tr>\n",
       "      <th>4</th>\n",
       "      <td>5</td>\n",
       "      <td>1</td>\n",
       "    </tr>\n",
       "  </tbody>\n",
       "</table>\n",
       "</div>"
      ],
      "text/plain": [
       "   id  target\n",
       "0   1       1\n",
       "1   2       0\n",
       "2   3       1\n",
       "3   4       1\n",
       "4   5       1"
      ]
     },
     "execution_count": 733,
     "metadata": {},
     "output_type": "execute_result"
    }
   ],
   "source": [
    "## 위에서 구한 예측값을 그대로 넣어줌\n",
    "submission['target'] = pred\n",
    "\n",
    "## 데이터가 잘 들어갔는지 확인\n",
    "submission.head()"
   ]
  },
  {
   "cell_type": "code",
   "execution_count": 734,
   "id": "437896cd-55e4-4295-97a4-988babc1dff4",
   "metadata": {},
   "outputs": [],
   "source": [
    "## submission을 csv 파일로 저장\n",
    "## 점수는 0.924 ---> 성능이 별로임\n",
    "submission.to_csv('C:/Users/Jaesu/github_desktop/Dacon-Basic/항공사-고객만족도-예측/Data/submission4.csv', index = False)"
   ]
  },
  {
   "cell_type": "markdown",
   "id": "ba98bc95-af64-4a66-a647-a90f6e2a0bb6",
   "metadata": {},
   "source": [
    "`-` 각각의 점수에 대해 모델링하지 말고 좌석 만족도가 0점, 5점인 경우만 제외하고 모델링을 해보자"
   ]
  },
  {
   "cell_type": "code",
   "execution_count": null,
   "id": "680adcc9-3357-4849-a55d-a7606cee497d",
   "metadata": {},
   "outputs": [],
   "source": []
  }
 ],
 "metadata": {
  "kernelspec": {
   "display_name": "Python 3 (ipykernel)",
   "language": "python",
   "name": "python3"
  },
  "language_info": {
   "codemirror_mode": {
    "name": "ipython",
    "version": 3
   },
   "file_extension": ".py",
   "mimetype": "text/x-python",
   "name": "python",
   "nbconvert_exporter": "python",
   "pygments_lexer": "ipython3",
   "version": "3.8.11"
  }
 },
 "nbformat": 4,
 "nbformat_minor": 5
}
