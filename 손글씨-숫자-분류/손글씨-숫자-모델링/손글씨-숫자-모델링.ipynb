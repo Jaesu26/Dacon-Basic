{
 "cells": [
  {
   "cell_type": "markdown",
   "id": "e55a4596-235c-440e-a5d1-b22d4f1e08d0",
   "metadata": {},
   "source": [
    "# 손글씨(숫자) 분류 경진대회"
   ]
  },
  {
   "cell_type": "markdown",
   "id": "3ce8dd8e-f3f0-4c9a-836c-dba1851e926c",
   "metadata": {},
   "source": [
    "`-` 참고 : https://dacon.io/competitions/official/235838/codeshare/3717?page=2&dtype=recent\n",
    "\n",
    "`-` 참고 : https://dacon.io/competitions/official/235838/codeshare/3758?page=2&dtype=recent\n",
    "    \n",
    "`-` 참고 : https://tutorials.pytorch.kr/beginner/basics/intro.html"
   ]
  },
  {
   "cell_type": "markdown",
   "id": "d0ee6085-7bd3-47be-9756-4496fb5ae2d1",
   "metadata": {},
   "source": [
    "## 데이터 불러오기"
   ]
  },
  {
   "cell_type": "code",
   "execution_count": 3,
   "id": "594d1229-7572-479b-82af-1c912936de38",
   "metadata": {},
   "outputs": [],
   "source": [
    "import pandas as pd\n",
    "import warnings\n",
    "from PIL import Image\n",
    "import numpy as np\n",
    "import matplotlib.pyplot as plt\n",
    "\n",
    "warnings.filterwarnings(action = 'ignore')"
   ]
  },
  {
   "cell_type": "code",
   "execution_count": 5,
   "id": "ec0d7096-2fa8-4d96-aebd-9b15feedf962",
   "metadata": {},
   "outputs": [],
   "source": [
    "train = pd.read_csv('C:/Users/Jaesu/Dataset/mnist_dataset/train/train_data.csv')"
   ]
  },
  {
   "cell_type": "code",
   "execution_count": 6,
   "id": "73c82ca4-fbf4-4eaf-a6b2-e58a62d80940",
   "metadata": {},
   "outputs": [
    {
     "data": {
      "text/html": [
       "<div>\n",
       "<style scoped>\n",
       "    .dataframe tbody tr th:only-of-type {\n",
       "        vertical-align: middle;\n",
       "    }\n",
       "\n",
       "    .dataframe tbody tr th {\n",
       "        vertical-align: top;\n",
       "    }\n",
       "\n",
       "    .dataframe thead th {\n",
       "        text-align: right;\n",
       "    }\n",
       "</style>\n",
       "<table border=\"1\" class=\"dataframe\">\n",
       "  <thead>\n",
       "    <tr style=\"text-align: right;\">\n",
       "      <th></th>\n",
       "      <th>file_name</th>\n",
       "      <th>label</th>\n",
       "    </tr>\n",
       "  </thead>\n",
       "  <tbody>\n",
       "    <tr>\n",
       "      <th>0</th>\n",
       "      <td>train0001.png</td>\n",
       "      <td>8</td>\n",
       "    </tr>\n",
       "    <tr>\n",
       "      <th>1</th>\n",
       "      <td>train0002.png</td>\n",
       "      <td>8</td>\n",
       "    </tr>\n",
       "    <tr>\n",
       "      <th>2</th>\n",
       "      <td>train0003.png</td>\n",
       "      <td>8</td>\n",
       "    </tr>\n",
       "    <tr>\n",
       "      <th>3</th>\n",
       "      <td>train0004.png</td>\n",
       "      <td>8</td>\n",
       "    </tr>\n",
       "    <tr>\n",
       "      <th>4</th>\n",
       "      <td>train0005.png</td>\n",
       "      <td>8</td>\n",
       "    </tr>\n",
       "  </tbody>\n",
       "</table>\n",
       "</div>"
      ],
      "text/plain": [
       "       file_name  label\n",
       "0  train0001.png      8\n",
       "1  train0002.png      8\n",
       "2  train0003.png      8\n",
       "3  train0004.png      8\n",
       "4  train0005.png      8"
      ]
     },
     "execution_count": 6,
     "metadata": {},
     "output_type": "execute_result"
    }
   ],
   "source": [
    "train.head()"
   ]
  },
  {
   "cell_type": "markdown",
   "id": "3f0bf772-a8c1-4dd1-b533-1190178e0821",
   "metadata": {},
   "source": [
    "`-` 이미지파일 이름과 라벨이 있다"
   ]
  },
  {
   "cell_type": "code",
   "execution_count": 8,
   "id": "3d4b784e-2f25-428d-9fd7-8de0e4b8a2e5",
   "metadata": {},
   "outputs": [
    {
     "data": {
      "image/png": "[encoded data removed]",
      "text/plain": [
       "<Figure size 432x288 with 1 Axes>"
      ]
     },
     "metadata": {
      "needs_background": "light"
     },
     "output_type": "display_data"
    }
   ],
   "source": [
    "file_dir = 'C:/Users/Jaesu/Dataset/mnist_dataset/train/'\n",
    "sample_file = train['file_name'][0] ## 0번째 인덱스 파일 이름 선택\n",
    "\n",
    "sample_image_array= np.array(Image.open(file_dir + sample_file)) ## path에서 이미지를 불러온 뒤 numpy array로 변환\n",
    "\n",
    "## 이미지 출력\n",
    "plt.imshow(np.array(sample_image_array))\n",
    "plt.show()"
   ]
  },
  {
   "cell_type": "code",
   "execution_count": 9,
   "id": "905e2bc2-9f98-4507-8fe9-56ff88dbaf4b",
   "metadata": {},
   "outputs": [
    {
     "name": "stdout",
     "output_type": "stream",
     "text": [
      "sample image의 모양: (28, 28)\n"
     ]
    }
   ],
   "source": [
    "print('sample image의 모양:' , sample_image_array.shape)"
   ]
  },
  {
   "cell_type": "markdown",
   "id": "de9a7248-03d8-47b3-b593-843247ee2cdc",
   "metadata": {},
   "source": [
    "`-` $28\\times 28$크기의 array이다(모양은 8)"
   ]
  },
  {
   "cell_type": "markdown",
   "id": "7e95e749-c584-4cb1-aa5e-d301fa502edc",
   "metadata": {},
   "source": [
    "## 딥러닝을 이용한 학습\n",
    "\n",
    "`-` pytorch를 사용하여 학습해보자\n",
    "\n",
    "`-` 일단은 2차원 데이터를 1차원으로 만들어서 학습시키자"
   ]
  },
  {
   "cell_type": "markdown",
   "id": "74824421-95e2-428e-a793-9ceb7ef23683",
   "metadata": {},
   "source": [
    "### Dataset, DataLoader 준비\n",
    "\n",
    "`-` `Dataset` : 학습에 필요한 데이터셋을 정의(샘플과 정답(label)을 저장)\n",
    "\n",
    "`-` `DataLoader` : 모델에 데이터셋을 어떤 방식으로 전달할지를 (데이터셋을 섞을지 말지, 한번에 몇개씩(batch_size) 모델에게 던져줄지 등) 정의하며\n",
    "\n",
    "`-` Dataset 을 샘플에 쉽게 접근할 수 있도록 순회 가능한 객체(iterable)로 감싼다"
   ]
  },
  {
   "cell_type": "code",
   "execution_count": 10,
   "id": "57014e3f-e28b-4df5-bd0d-6835e62263b6",
   "metadata": {},
   "outputs": [],
   "source": [
    "import torch\n",
    "from torch.utils.data import Dataset, DataLoader\n",
    "from torch import nn\n",
    "from torchvision import transforms"
   ]
  },
  {
   "cell_type": "markdown",
   "id": "20fa4680-9811-4de0-8891-4db5e313f938",
   "metadata": {},
   "source": [
    "`-` 파이토치에서 커스텀 데이터셋을 만들 땐 `Dataset` 클래스를 상속받아서 만든다\n",
    "\n",
    "`-` 또한 `__init__` , `__len__` ,  `__getitem__` 함수는 필수로 구현해야 한다"
   ]
  },
  {
   "cell_type": "code",
   "execution_count": 13,
   "id": "39426873-a6dd-42a4-9514-a7883a9b80ba",
   "metadata": {},
   "outputs": [],
   "source": [
    "class MNIST(Dataset):  ## 파이토치의 Dataset 클래스를 상속받음   \n",
    "    def __init__(self, file_path_list, labels = None): \n",
    "        self.file_path_list = file_path_list ## 이미지 파일 경로 리스트\n",
    "        self.labels = labels ## 이미지의 라벨\n",
    "        self.PIL2tensor = transforms.PILToTensor() ## 이미지 파일을 텐서로 만들고 정규화한다(0~1)\n",
    "        \n",
    "    def __getitem__(self, idx):  ## [] 연산자 오버로딩     \n",
    "        image = Image.open(self.file_path_list[idx])  ## 해당 인덱스에 맞는 image 추출\n",
    "        tensor_image = self.PIL2tensor(image)  ## PIL로 읽은 이미지를 torch tensor형으로 변환\n",
    "        flattened_image = tensor_image.flatten().float() ## 2차원 이미지를 1차원으로 변환\n",
    "        \n",
    "        if self.labels is not None: ## 라벨이 존재 하는경우: 학습(train)에 이용할경우\n",
    "            label = self.labels[idx] ## 해당 인덱스에 맞는 라벨 추출\n",
    "            return flattened_image, label  ## 1차원으로 변환한 이미지와 라벨을 return\n",
    "        \n",
    "        return flattened_image ## test단계에선 label이 존재하지 않기때문에 image만을 return\n",
    "        \n",
    "    def __len__(self): \n",
    "        return len(self.file_path_list)  ## 이미지 파일 경로 리스트의 길이 = 총 이미지파일의 개수 "
   ]
  },
  {
   "cell_type": "code",
   "execution_count": 14,
   "id": "ffbf4297-5b8d-4e10-9cd3-671716d97bee",
   "metadata": {},
   "outputs": [],
   "source": [
    "file_path_list = file_dir + train['file_name'] ## 브로드캐스트 ## 이미지 파일의 경로\n",
    "labels = train['label'] ## 이미지의 라벨\n",
    "\n",
    "mnist_dataset = MNIST(file_path_list, labels) ## train 데이터이므로 label이 존재하니 인자로 넣어준다"
   ]
  },
  {
   "cell_type": "code",
   "execution_count": 13,
   "id": "941511f1-302b-483d-8526-e06b8daeeed8",
   "metadata": {},
   "outputs": [],
   "source": [
    "mnist_loader = DataLoader(mnist_dataset, batch_size = 32, shuffle = True) ## 학습마다 32개씩 데이터를 가지고 학습 ## ex) 데이터가 100개라면 32, 32, 32, 4"
   ]
  },
  {
   "cell_type": "markdown",
   "id": "4e47b38d-84b0-499d-9360-3f0a57ae7ef1",
   "metadata": {},
   "source": [
    "### 모델 설계\n",
    "\n",
    "`-` $784\\,(=28\\times 28)$개의 픽셀값을 $100$개의 은닉층으로 사영(projection)시키고 또 $10$개의 확률값으로 뽑아내는 작업을 수행\n",
    "\n",
    "`-` 커스텀 신경망은 파이토치의 `Module` 클래스를 상속받아서 만든다\n",
    "\n",
    "`-` 또한 `forward` 함수는 필수로 구현해야 한다 $\\longrightarrow$ 다음 layer로 전달할 값을 리턴\n",
    "\n",
    "`-` `__init__` 함수를 통해 계층(layer)들을 초기화한다"
   ]
  },
  {
   "cell_type": "code",
   "execution_count": 11,
   "id": "ccb0f134-ff39-44ea-a9e6-5ffed7dde370",
   "metadata": {},
   "outputs": [],
   "source": [
    "## accuracy 계산\n",
    "def compute_acc(true, pred):\n",
    "    return sum(true == pred) / len(true)"
   ]
  },
  {
   "cell_type": "code",
   "execution_count": 15,
   "id": "4c7d3a5b-2ec5-432b-a804-81df1e8be015",
   "metadata": {},
   "outputs": [],
   "source": [
    "class FullyConnected(nn.Module):\n",
    "    def __init__(self, input_dim, class_num):  ## 입력차원과 출력차원을 인자로 받는다\n",
    "        super(FullyConnected, self).__init__() \n",
    "        self.pix2hidden = nn.Linear(input_dim, 100)  ## 784개의 픽셀값을 100개의 은닉층으로 사영시키는 layer\n",
    "        self.hidden2dight = nn.Linear(100, class_num)  ## 100개의 은닉층을 10개 클래스의 확률값으로 사영시키는 layer\n",
    "        self.softmax = nn.Softmax()  ## 10개의 logit을 확률값으로 변환 (각 숫자일 확률)\n",
    "        \n",
    "    def forward(self, x):\n",
    "        hidden = self.pix2hidden(x)  ## 784개의 픽셀값을 100개의 은닉층으로 사영\n",
    "        digit_logit = self.hidden2dight(hidden)  ## 100개의 은닉층을 10개 클래스의 확률값으로 사영\n",
    "        digit_proba = self.softmax(digit_logit)  ## 10개 클래스의 logit을 확률값으로 변환\n",
    "        return digit_proba  ## 확률값 return"
   ]
  },
  {
   "cell_type": "code",
   "execution_count": 16,
   "id": "b9d6b5b8-6eda-456d-8c80-9cde1fe327dd",
   "metadata": {},
   "outputs": [
    {
     "name": "stderr",
     "output_type": "stream",
     "text": [
      "  3%|██▊                                                                                | 1/30 [00:40<19:35, 40.52s/it]"
     ]
    },
    {
     "name": "stdout",
     "output_type": "stream",
     "text": [
      "EPOCH: 0, loss: 2.078181743621826, acc: 0.375\n"
     ]
    },
    {
     "name": "stderr",
     "output_type": "stream",
     "text": [
      " 37%|██████████████████████████████                                                    | 11/30 [01:18<01:25,  4.51s/it]"
     ]
    },
    {
     "name": "stdout",
     "output_type": "stream",
     "text": [
      "EPOCH: 10, loss: 2.2523984909057617, acc: 0.25\n"
     ]
    },
    {
     "name": "stderr",
     "output_type": "stream",
     "text": [
      " 70%|█████████████████████████████████████████████████████████▍                        | 21/30 [01:56<00:34,  3.84s/it]"
     ]
    },
    {
     "name": "stdout",
     "output_type": "stream",
     "text": [
      "EPOCH: 20, loss: 1.8361501693725586, acc: 0.625\n"
     ]
    },
    {
     "name": "stderr",
     "output_type": "stream",
     "text": [
      "100%|██████████████████████████████████████████████████████████████████████████████████| 30/30 [02:27<00:00,  4.91s/it]"
     ]
    },
    {
     "name": "stdout",
     "output_type": "stream",
     "text": [
      "EPOCH: 29, loss: 2.0866358280181885, acc: 0.375\n"
     ]
    },
    {
     "name": "stderr",
     "output_type": "stream",
     "text": [
      "\n"
     ]
    }
   ],
   "source": [
    "from tqdm import tqdm ## 출력 현황을 나타내는 라이브러리\n",
    "\n",
    "model = FullyConnected(784, 10) ## 모델 선언 \n",
    "device = 'cuda:0' if torch.cuda.is_available() else 'cpu' ## 학습에 사용할 device 선언 gpu가 사용 가능하다면 gpu 아니라면 cpu로 학습\n",
    "optimizer = torch.optim.Adam(model.parameters(), lr = 1e-5) ## optimizer 선언 (Adam)\n",
    "ce_loss = nn.CrossEntropyLoss() ## loss함수 선언 cross entrophy loss\n",
    "\n",
    "model.to(device)\n",
    "for Epoch in tqdm(range(30)):\n",
    "    for batch, labels in mnist_loader:\n",
    "        batch = batch.to(device)\n",
    "        labels = labels.to(device)\n",
    "        \n",
    "        output = model(batch) ## 모델에 이미지들을 넣은 뒤 값 출력\n",
    "        loss = ce_loss(output, labels) ## loss 계산\n",
    "        loss.backward() ## 오차를 역전파\n",
    "        optimizer.step() ## 업데이트\n",
    "        optimizer.zero_grad() ## 다음 업데이트를 위한 미분값 초기화\n",
    "        acc = compute_acc(labels.detach().cpu().numpy(), output.detach().cpu().numpy().argmax(-1))\n",
    "        \n",
    "    if Epoch % 10 == 0 or Epoch == 29:\n",
    "        print(f'EPOCH: {Epoch}, loss: {loss}, acc: {acc}')"
   ]
  },
  {
   "cell_type": "markdown",
   "id": "154fde1a-14ec-431b-99d6-ec83d895855f",
   "metadata": {},
   "source": [
    "### test 예측"
   ]
  },
  {
   "cell_type": "markdown",
   "id": "43981137-ba94-43e9-a273-7bd03a23fbcf",
   "metadata": {},
   "source": [
    "`-` test 데이터에는 label이 존재하지 않기때문에 image 경로들만 넣어준다"
   ]
  },
  {
   "cell_type": "code",
   "execution_count": 49,
   "id": "4d27d643-526e-45de-a5ca-a8dde0800b6a",
   "metadata": {},
   "outputs": [],
   "source": [
    "test = pd.read_csv('C:/Users/Jaesu/mnist_dataset/test/test_data.csv') ## test_data.csv 불러오기\n",
    "test_file_dir = 'C:/Users/Jaesu/mnist_dataset/test/'"
   ]
  },
  {
   "cell_type": "markdown",
   "id": "842fc90f-17a1-4de3-955c-df95c58948e6",
   "metadata": {},
   "source": [
    "`-` dataset을 만든 뒤 DataLoader를 선언한다\n",
    "\n",
    "`-` 이때 shuffle옵션을 True로 넣으면 절대 안된다\n",
    "\n",
    "`-` 파일이 순서대로 들어가지 않기때문에 파일 이름과 예측한 라벨이 어긋날 수 있음"
   ]
  },
  {
   "cell_type": "code",
   "execution_count": 18,
   "id": "d4a756fb-d7b1-4d2a-bff7-6e2062816aa4",
   "metadata": {},
   "outputs": [
    {
     "name": "stderr",
     "output_type": "stream",
     "text": [
      "100%|████████████████████████████████████████████████████████████████████████████████| 157/157 [00:34<00:00,  4.59it/s]\n"
     ]
    }
   ],
   "source": [
    "test_mnist_dataset = MNIST(test_file_dir + test['file_name'])\n",
    "test_mnist_loader = DataLoader(test_mnist_dataset, batch_size = 32)\n",
    "\n",
    "preds = None\n",
    "\n",
    "for test_batch in tqdm(test_mnist_loader):\n",
    "    test_batch = test_batch.to(device)\n",
    "    output = model(test_batch)\n",
    "    \n",
    "    digit_pred = output.detach().cpu().numpy().argmax(-1)\n",
    "    if preds is None:\n",
    "        preds = digit_pred\n",
    "    else:\n",
    "        preds = np.concatenate([preds, digit_pred]) "
   ]
  },
  {
   "cell_type": "code",
   "execution_count": 19,
   "id": "d9d0ee04-aede-4423-af65-e4f0b906e7e7",
   "metadata": {},
   "outputs": [],
   "source": [
    "submission = pd.read_csv('C:/Users/Jaesu/github_desktop/Dacon-Basic/손글씨(숫자)-분류/Data/sample_submission.csv') ## sample submission 불러오기\n",
    "\n",
    "submission['label'] = preds\n",
    "\n",
    "submission.to_csv('C:/Users/Jaesu/github_desktop/Dacon-Basic/손글씨(숫자)-분류/Data/submission.csv', index = False)"
   ]
  },
  {
   "cell_type": "markdown",
   "id": "bdd6cde6-f236-43f3-adb8-650f609284a6",
   "metadata": {},
   "source": [
    "## 딥러닝을 이용한 학습 2"
   ]
  },
  {
   "cell_type": "markdown",
   "id": "b079201e-b5f7-43bd-80a5-7dc025a47967",
   "metadata": {},
   "source": [
    "### Data augmentation"
   ]
  },
  {
   "cell_type": "markdown",
   "id": "7d1cbbd8-fc82-469f-9bf6-d5be770674af",
   "metadata": {},
   "source": [
    "`-` 데이터를 회전시키고 찌그러트리고 반전시키고 자르고 옆으로 밀어서 지금의 이미지와 비슷하지만 다른 데이터를 만들자\n",
    "\n",
    "`-` torchvision의 `trasform` 클래스를 사용"
   ]
  },
  {
   "cell_type": "code",
   "execution_count": 15,
   "id": "346298e1-a067-4ab1-a333-eec1d8b675fa",
   "metadata": {},
   "outputs": [
    {
     "data": {
      "image/png": "[encoded data removed]",
      "text/plain": [
       "<PIL.Image.Image image mode=L size=224x224 at 0x247FF793130>"
      ]
     },
     "execution_count": 15,
     "metadata": {},
     "output_type": "execute_result"
    }
   ],
   "source": [
    "resize = transforms.Resize(224) ## 224 * 224 사이즈로 변환\n",
    "crop = transforms.CenterCrop(112) ## center를 중심으로 112만 잘라냄\n",
    "rotation = transforms.RandomRotation(40) ## 시계 혹은 반시계로 40도만큼 돌림\n",
    "erasing = transforms.Compose([\n",
    "    transforms.PILToTensor(),\n",
    "    transforms.RandomErasing(1),\n",
    "    transforms.ToPILImage()\n",
    "])  ## 무작위로 특정 영역 지우기\n",
    "vertical_flip = transforms.RandomVerticalFlip(1) ## 상하반전\n",
    "horizontal_file = transforms.RandomHorizontalFlip(1) ## 좌우반전\n",
    "\n",
    "sample_image = Image.open(file_path_list[10]) ## transform을 실험할 sample image\n",
    "sample_image = resize(sample_image)\n",
    "sample_image"
   ]
  },
  {
   "cell_type": "markdown",
   "id": "c66c5f0c-b29f-4217-bf21-b7bece7a65e2",
   "metadata": {},
   "source": [
    "`-` 위에 보이는 9는 이미지 변환 실험에 쓸 sample이다\n",
    "\n",
    "`-` $28 \\times 28$이 너무 작으니 $224 \\times 224$로 실험하자"
   ]
  },
  {
   "cell_type": "code",
   "execution_count": 16,
   "id": "b3f73539-2170-4507-bb5b-2616a160eb7f",
   "metadata": {},
   "outputs": [
    {
     "data": {
      "image/png": "[encoded data removed]",
      "text/plain": [
       "<Figure size 720x720 with 6 Axes>"
      ]
     },
     "metadata": {
      "needs_background": "light"
     },
     "output_type": "display_data"
    }
   ],
   "source": [
    "transform_list = [crop, rotation, erasing, vertical_flip, horizontal_file]\n",
    "transform_name = ['crop', 'rotation', 'erasing', 'vertical_flip', 'horizontal_file']\n",
    "\n",
    "fig, ax = plt.subplots(2, 3, figsize = (10, 10))\n",
    "fig.suptitle('Data Augmentation', fontsize = 40)\n",
    "for i, transform_idx in enumerate(range(0, 4, 3)):\n",
    "    for j in range(3):\n",
    "        if transform_idx + j >= 5:\n",
    "            break\n",
    "        ax[i, j].imshow(transform_list[transform_idx + j](sample_image), cmap = 'gray')\n",
    "        ax[i, j].set_title(transform_name[transform_idx + j])\n",
    "\n",
    "fig.tight_layout()"
   ]
  },
  {
   "cell_type": "markdown",
   "id": "92988063-fbc7-4c3a-8c62-35fd45d3c21b",
   "metadata": {},
   "source": [
    "`-` 이런 방식으로 이미지 데이터를 늘리거나 변주를 주는 방법은 컴퓨터비전 문제를 해결할 때 성능 상승에 큰 이점을 가져다준다\n",
    "\n",
    "`-` 다만 9의 경우 상하반전을 실행한다면 6과 구분하기 힘들며\n",
    "\n",
    "`-` 무작위로 지우는 방식도 너무 많은 부분을 제거하면 원본이 크게 훼손되기에 적당한 scale을 설정해야 한다\n",
    "\n",
    "`-` 따라서 augmentaion을 진행할 때에는 사전에 라벨링이 어떻게 되어있는지\n",
    "\n",
    "`-` 자칫 학습에 혼선을 줄 수 있는 데이터를 만들어낼 가능성이 있는지 미리 체크해야 된다"
   ]
  },
  {
   "cell_type": "markdown",
   "id": "aefdef29-833a-4c91-94f2-1f6d6beba99e",
   "metadata": {},
   "source": [
    "### Dataset, DataLoader 준비"
   ]
  },
  {
   "cell_type": "code",
   "execution_count": 17,
   "id": "e647fd80-e94e-4911-8cde-cc1c1a47285e",
   "metadata": {},
   "outputs": [],
   "source": [
    "class MNIST2(Dataset):    \n",
    "    def __init__(self, file_path_list, labels = None): \n",
    "        self.file_path_list = file_path_list\n",
    "        self.labels = labels\n",
    "        self.random_choice = transforms.RandomChoice([transforms.RandomRotation(degrees = 40), ## 시계 or 반시계 방향으로 40도 회전\n",
    "                                                      transforms.RandomResizedCrop(size = 28),\n",
    "                                                      transforms.RandomHorizontalFlip(p = 0.5)])\n",
    "        self.transform = transforms.Compose([\n",
    "          # transforms.Resize(224), ## 시각화를 위해 사이즈를 키웠던 것\n",
    "            self.random_choice,\n",
    "            transforms.PILToTensor(),\n",
    "        ])\n",
    "        \n",
    "    def __getitem__(self, idx):       \n",
    "        image = Image.open(self.file_path_list[idx]) ## 해당 인덱스에 맞는 image 추출\n",
    "        tensor_image = self.transform(image).float() ## PIL로 읽은 이미지를 torch tensor형으로 변환\n",
    "        ## 지금은 2차원 이미지 처리중이므로 flatten() 사용 안함\n",
    "        \n",
    "        if self.labels is not None: ## 라벨이 존재 하는경우: 학습에 이용할경우\n",
    "            label = self.labels[idx] ## 해당 인덱스에 맞는 라벨 추출\n",
    "            return tensor_image, label  ## Agumentation을 적용한 2D 이미지와 라벨을 return\n",
    "        \n",
    "        return tensor_image ## test단계에선 label이 존재하지 않기때문에 image만을 return      \n",
    "        \n",
    "    def __len__(self):\n",
    "        return len(self.file_path_list)"
   ]
  },
  {
   "cell_type": "code",
   "execution_count": 18,
   "id": "0b50a1b6-0e43-423e-a8cf-56ccb6292ce8",
   "metadata": {},
   "outputs": [],
   "source": [
    "labels = train['label']\n",
    "mnist_dataset = MNIST2(file_path_list, labels)\n",
    "mnist_loader = DataLoader(mnist_dataset, batch_size = 32, shuffle = True)"
   ]
  },
  {
   "cell_type": "markdown",
   "id": "50bea572-26bf-46c7-994e-b859858f455f",
   "metadata": {},
   "source": [
    "### CNN 모델 설계"
   ]
  },
  {
   "cell_type": "markdown",
   "id": "f810209a-a2f5-4798-ba8c-e3666edffb62",
   "metadata": {},
   "source": [
    "`-` 2차원 행렬 형태를 유지하며 이미지에서 정보를 추출할 수 있는 구조"
   ]
  },
  {
   "cell_type": "code",
   "execution_count": 19,
   "id": "60bf0003-3395-4bcf-99a7-c9ab913dd6c5",
   "metadata": {},
   "outputs": [],
   "source": [
    "class BasicConv(nn.Module):\n",
    "    def __init__(self, image_width, image_height): ## 학습에 사용할 레이어 정의\n",
    "        super(BasicConv, self).__init__()\n",
    "        self.conv1 = nn.Conv2d(1, 64, kernel_size = (3, 3), padding = 1) \n",
    "        self.conv2 = nn.Conv2d(64, 128, kernel_size = (3, 3) , padding = 1)\n",
    "        self.maxpool = nn.MaxPool2d(2) ## 커널사이즈 (2,2)\n",
    "        self.batchnorm = nn.BatchNorm2d(128) ## input차원 128\n",
    "        self.relu = nn.ReLU()\n",
    "        self.flatten = nn.Flatten()\n",
    "        self.linear = nn.Linear((image_width // 2) * (image_height // 2) * 128, 10)\n",
    "        \n",
    "    def forward(self, x):\n",
    "        ## 2D part\n",
    "        x = self.conv1(x)     ## 컨볼루션\n",
    "        x = self.conv2(x)     ## 컨볼루션\n",
    "        x = self.batchnorm(x) ## 배치노멀라이즈\n",
    "        x = self.maxpool(x)   ## 맥스풀링\n",
    "        x = self.relu(x)      ## 렐루\n",
    "\n",
    "        ## 1D part\n",
    "        x = self.flatten(x) ## 평활화\n",
    "        x = self.linear(x)  ## 선형변환\n",
    "        return x"
   ]
  },
  {
   "cell_type": "code",
   "execution_count": 20,
   "id": "f46d6186-6798-466a-8f3c-0443c17ccba9",
   "metadata": {},
   "outputs": [],
   "source": [
    "model = BasicConv(28, 28) ## 클래스 인스턴스 생성"
   ]
  },
  {
   "cell_type": "markdown",
   "id": "44893f87-379e-41bf-9c1a-45b4e7bc1541",
   "metadata": {},
   "source": [
    "### 모델학습"
   ]
  },
  {
   "cell_type": "code",
   "execution_count": 23,
   "id": "57896892-3106-4209-9d46-9911e93ffb1d",
   "metadata": {},
   "outputs": [
    {
     "name": "stderr",
     "output_type": "stream",
     "text": [
      " 10%|████████▎                                                                          | 1/10 [01:19<11:57, 79.70s/it]"
     ]
    },
    {
     "name": "stdout",
     "output_type": "stream",
     "text": [
      "EPOCH: 1, loss: 1.2972004413604736, acc: 0.75\n"
     ]
    },
    {
     "name": "stderr",
     "output_type": "stream",
     "text": [
      " 20%|████████████████▌                                                                  | 2/10 [01:46<06:30, 48.78s/it]"
     ]
    },
    {
     "name": "stdout",
     "output_type": "stream",
     "text": [
      "EPOCH: 2, loss: 2.0169460773468018, acc: 0.25\n"
     ]
    },
    {
     "name": "stderr",
     "output_type": "stream",
     "text": [
      " 30%|████████████████████████▉                                                          | 3/10 [02:15<04:37, 39.61s/it]"
     ]
    },
    {
     "name": "stdout",
     "output_type": "stream",
     "text": [
      "EPOCH: 3, loss: 0.8340880870819092, acc: 0.75\n"
     ]
    },
    {
     "name": "stderr",
     "output_type": "stream",
     "text": [
      " 40%|█████████████████████████████████▏                                                 | 4/10 [02:43<03:29, 34.90s/it]"
     ]
    },
    {
     "name": "stdout",
     "output_type": "stream",
     "text": [
      "EPOCH: 4, loss: 1.4013645648956299, acc: 0.5\n"
     ]
    },
    {
     "name": "stderr",
     "output_type": "stream",
     "text": [
      " 50%|█████████████████████████████████████████▌                                         | 5/10 [03:10<02:41, 32.32s/it]"
     ]
    },
    {
     "name": "stdout",
     "output_type": "stream",
     "text": [
      "EPOCH: 5, loss: 1.3972439765930176, acc: 0.5\n"
     ]
    },
    {
     "name": "stderr",
     "output_type": "stream",
     "text": [
      " 60%|█████████████████████████████████████████████████▊                                 | 6/10 [03:38<02:02, 30.63s/it]"
     ]
    },
    {
     "name": "stdout",
     "output_type": "stream",
     "text": [
      "EPOCH: 6, loss: 0.5631416440010071, acc: 0.75\n"
     ]
    },
    {
     "name": "stderr",
     "output_type": "stream",
     "text": [
      " 70%|██████████████████████████████████████████████████████████                         | 7/10 [04:05<01:28, 29.60s/it]"
     ]
    },
    {
     "name": "stdout",
     "output_type": "stream",
     "text": [
      "EPOCH: 7, loss: 0.6897216439247131, acc: 0.75\n"
     ]
    },
    {
     "name": "stderr",
     "output_type": "stream",
     "text": [
      " 80%|██████████████████████████████████████████████████████████████████▍                | 8/10 [04:33<00:57, 28.89s/it]"
     ]
    },
    {
     "name": "stdout",
     "output_type": "stream",
     "text": [
      "EPOCH: 8, loss: 1.5836496353149414, acc: 0.375\n"
     ]
    },
    {
     "name": "stderr",
     "output_type": "stream",
     "text": [
      " 90%|██████████████████████████████████████████████████████████████████████████▋        | 9/10 [05:01<00:28, 28.63s/it]"
     ]
    },
    {
     "name": "stdout",
     "output_type": "stream",
     "text": [
      "EPOCH: 9, loss: 1.0328075885772705, acc: 0.625\n"
     ]
    },
    {
     "name": "stderr",
     "output_type": "stream",
     "text": [
      "100%|██████████████████████████████████████████████████████████████████████████████████| 10/10 [05:28<00:00, 32.82s/it]"
     ]
    },
    {
     "name": "stdout",
     "output_type": "stream",
     "text": [
      "EPOCH: 10, loss: 1.7062122821807861, acc: 0.375\n"
     ]
    },
    {
     "name": "stderr",
     "output_type": "stream",
     "text": [
      "\n"
     ]
    }
   ],
   "source": [
    "device = 'cuda:3' if torch.cuda.is_available() else 'cpu' ## 학습에 사용할 device 선언 gpu가 사용 가능하다면 gpu 아니라면 cpu로 학습\n",
    "optimizer = torch.optim.Adam(model.parameters(), lr = 1e-5) ## optimizer 선언 (Adam)\n",
    "ce_loss = nn.CrossEntropyLoss() ## loss함수 선언 cross entrophy loss\n",
    "\n",
    "model.to(device)\n",
    "\n",
    "for Epoch in tqdm(range(10)):\n",
    "    for batch, labels in mnist_loader:\n",
    "        batch = batch.to(device)\n",
    "        labels = labels.to(device)\n",
    "        \n",
    "        output = model(batch) # 모델에 이미지들을 넣은 뒤 값 출력\n",
    "        loss = ce_loss(output, labels) # loss 계산\n",
    "        optimizer.zero_grad()\n",
    "        loss.backward() # 오차를 역전파\n",
    "        optimizer.step()\n",
    "        acc = compute_acc(labels.detach().cpu().numpy(), output.detach().cpu().numpy().argmax(-1))\n",
    "           \n",
    "    print(f'EPOCH: {Epoch + 1}, loss: {loss}, acc: {acc}')"
   ]
  },
  {
   "cell_type": "markdown",
   "id": "56bcf0be-a78c-4f53-ad8e-49c0736c5aba",
   "metadata": {},
   "source": [
    "### test 예측"
   ]
  },
  {
   "cell_type": "code",
   "execution_count": 50,
   "id": "705cb702-93ba-44a6-b391-72a18d39e419",
   "metadata": {},
   "outputs": [
    {
     "name": "stderr",
     "output_type": "stream",
     "text": [
      "100%|████████████████████████████████████████████████████████████████████████████████| 157/157 [00:32<00:00,  4.77it/s]\n"
     ]
    }
   ],
   "source": [
    "test_mnist_dataset = MNIST2(test_file_dir + test['file_name'])\n",
    "test_mnist_loader = DataLoader(test_mnist_dataset, batch_size = 32)\n",
    "\n",
    "preds = None\n",
    "\n",
    "for test_batch in tqdm(test_mnist_loader):\n",
    "    test_batch = test_batch.to(device)\n",
    "    output = model(test_batch)\n",
    "    \n",
    "    digit_pred = output.detach().cpu().numpy().argmax(-1)\n",
    "    if preds is None:\n",
    "        preds = digit_pred\n",
    "    else:\n",
    "        preds = np.concatenate([preds, digit_pred])"
   ]
  },
  {
   "cell_type": "code",
   "execution_count": 51,
   "id": "b87c905c-2503-473a-ab1f-bc3c01cd48a6",
   "metadata": {},
   "outputs": [],
   "source": [
    "submission['label'] = preds\n",
    "\n",
    "submission.to_csv('submission2.csv', index = False)"
   ]
  },
  {
   "cell_type": "markdown",
   "id": "e6cc2718-6ace-49d7-a902-3646be2e3cdb",
   "metadata": {},
   "source": [
    "`-` 간단한 CNN 설계 끝"
   ]
  },
  {
   "cell_type": "code",
   "execution_count": null,
   "id": "78d71363-479f-4b96-8cb6-0eb766a96405",
   "metadata": {},
   "outputs": [],
   "source": []
  }
 ],
 "metadata": {
  "kernelspec": {
   "display_name": "Python 3 (ipykernel)",
   "language": "python",
   "name": "python3"
  },
  "language_info": {
   "codemirror_mode": {
    "name": "ipython",
    "version": 3
   },
   "file_extension": ".py",
   "mimetype": "text/x-python",
   "name": "python",
   "nbconvert_exporter": "python",
   "pygments_lexer": "ipython3",
   "version": "3.8.11"
  }
 },
 "nbformat": 4,
 "nbformat_minor": 5
}
