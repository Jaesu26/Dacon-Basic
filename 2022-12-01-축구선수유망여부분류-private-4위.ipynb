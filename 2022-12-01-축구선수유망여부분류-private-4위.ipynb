{
  "cells": [
    {
      "cell_type": "markdown",
      "metadata": {
        "id": "view-in-github",
        "colab_type": "text"
      },
      "source": [
        "<a href=\"https://colab.research.google.com/github/Jaesu26/dacon-basic/blob/main/2022-12-01-%EC%B6%95%EA%B5%AC%EC%84%A0%EC%88%98%EC%9C%A0%EB%A7%9D%EC%97%AC%EB%B6%80%EB%B6%84%EB%A5%98-private-4%EC%9C%84.ipynb\" target=\"_parent\"><img src=\"https://colab.research.google.com/assets/colab-badge.svg\" alt=\"Open In Colab\"/></a>"
      ]
    },
    {
      "cell_type": "markdown",
      "metadata": {
        "id": "75xRhMA-ZZ4g"
      },
      "source": [
        "# 축구선수의 유망 여부 예측 AI 경진대회"
      ]
    },
    {
      "cell_type": "code",
      "source": [
        "!nvidia-smi"
      ],
      "metadata": {
        "id": "Vry2J_Ifj6ZW",
        "colab": {
          "base_uri": "https://localhost:8080/"
        },
        "outputId": "47b976c6-bffb-46bf-c751-c09ffb2607dc"
      },
      "execution_count": 1,
      "outputs": [
        {
          "output_type": "stream",
          "name": "stdout",
          "text": [
            "Thu Dec  1 10:22:20 2022       \n",
            "+-----------------------------------------------------------------------------+\n",
            "| NVIDIA-SMI 460.32.03    Driver Version: 460.32.03    CUDA Version: 11.2     |\n",
            "|-------------------------------+----------------------+----------------------+\n",
            "| GPU  Name        Persistence-M| Bus-Id        Disp.A | Volatile Uncorr. ECC |\n",
            "| Fan  Temp  Perf  Pwr:Usage/Cap|         Memory-Usage | GPU-Util  Compute M. |\n",
            "|                               |                      |               MIG M. |\n",
            "|===============================+======================+======================|\n",
            "|   0  Tesla T4            Off  | 00000000:00:04.0 Off |                    0 |\n",
            "| N/A   76C    P0    34W /  70W |      0MiB / 15109MiB |      0%      Default |\n",
            "|                               |                      |                  N/A |\n",
            "+-------------------------------+----------------------+----------------------+\n",
            "                                                                               \n",
            "+-----------------------------------------------------------------------------+\n",
            "| Processes:                                                                  |\n",
            "|  GPU   GI   CI        PID   Type   Process name                  GPU Memory |\n",
            "|        ID   ID                                                   Usage      |\n",
            "|=============================================================================|\n",
            "|  No running processes found                                                 |\n",
            "+-----------------------------------------------------------------------------+\n"
          ]
        }
      ]
    },
    {
      "cell_type": "code",
      "source": [
        "!pip install pytorch-lightning==1.8.3"
      ],
      "metadata": {
        "colab": {
          "base_uri": "https://localhost:8080/"
        },
        "id": "fukHh1TaZoYG",
        "outputId": "3c84a67f-e19e-45b3-b45b-649b9efaf7d2"
      },
      "execution_count": 2,
      "outputs": [
        {
          "output_type": "stream",
          "name": "stdout",
          "text": [
            "Looking in indexes: https://pypi.org/simple, https://us-python.pkg.dev/colab-wheels/public/simple/\n",
            "Requirement already satisfied: pytorch-lightning==1.8.3 in /usr/local/lib/python3.8/dist-packages (1.8.3)\n",
            "Requirement already satisfied: fsspec[http]>2021.06.0 in /usr/local/lib/python3.8/dist-packages (from pytorch-lightning==1.8.3) (2022.11.0)\n",
            "Requirement already satisfied: tensorboardX>=2.2 in /usr/local/lib/python3.8/dist-packages (from pytorch-lightning==1.8.3) (2.5.1)\n",
            "Requirement already satisfied: PyYAML>=5.4 in /usr/local/lib/python3.8/dist-packages (from pytorch-lightning==1.8.3) (6.0)\n",
            "Requirement already satisfied: torchmetrics>=0.7.0 in /usr/local/lib/python3.8/dist-packages (from pytorch-lightning==1.8.3) (0.11.0)\n",
            "Requirement already satisfied: lightning-utilities==0.3.* in /usr/local/lib/python3.8/dist-packages (from pytorch-lightning==1.8.3) (0.3.0)\n",
            "Requirement already satisfied: tqdm>=4.57.0 in /usr/local/lib/python3.8/dist-packages (from pytorch-lightning==1.8.3) (4.64.1)\n",
            "Requirement already satisfied: numpy>=1.17.2 in /usr/local/lib/python3.8/dist-packages (from pytorch-lightning==1.8.3) (1.21.6)\n",
            "Requirement already satisfied: packaging>=17.0 in /usr/local/lib/python3.8/dist-packages (from pytorch-lightning==1.8.3) (21.3)\n",
            "Requirement already satisfied: typing-extensions>=4.0.0 in /usr/local/lib/python3.8/dist-packages (from pytorch-lightning==1.8.3) (4.1.1)\n",
            "Requirement already satisfied: torch>=1.9.* in /usr/local/lib/python3.8/dist-packages (from pytorch-lightning==1.8.3) (1.12.1+cu113)\n",
            "Requirement already satisfied: fire in /usr/local/lib/python3.8/dist-packages (from lightning-utilities==0.3.*->pytorch-lightning==1.8.3) (0.4.0)\n",
            "Requirement already satisfied: aiohttp!=4.0.0a0,!=4.0.0a1 in /usr/local/lib/python3.8/dist-packages (from fsspec[http]>2021.06.0->pytorch-lightning==1.8.3) (3.8.3)\n",
            "Requirement already satisfied: requests in /usr/local/lib/python3.8/dist-packages (from fsspec[http]>2021.06.0->pytorch-lightning==1.8.3) (2.23.0)\n",
            "Requirement already satisfied: frozenlist>=1.1.1 in /usr/local/lib/python3.8/dist-packages (from aiohttp!=4.0.0a0,!=4.0.0a1->fsspec[http]>2021.06.0->pytorch-lightning==1.8.3) (1.3.3)\n",
            "Requirement already satisfied: attrs>=17.3.0 in /usr/local/lib/python3.8/dist-packages (from aiohttp!=4.0.0a0,!=4.0.0a1->fsspec[http]>2021.06.0->pytorch-lightning==1.8.3) (22.1.0)\n",
            "Requirement already satisfied: multidict<7.0,>=4.5 in /usr/local/lib/python3.8/dist-packages (from aiohttp!=4.0.0a0,!=4.0.0a1->fsspec[http]>2021.06.0->pytorch-lightning==1.8.3) (6.0.2)\n",
            "Requirement already satisfied: aiosignal>=1.1.2 in /usr/local/lib/python3.8/dist-packages (from aiohttp!=4.0.0a0,!=4.0.0a1->fsspec[http]>2021.06.0->pytorch-lightning==1.8.3) (1.3.1)\n",
            "Requirement already satisfied: charset-normalizer<3.0,>=2.0 in /usr/local/lib/python3.8/dist-packages (from aiohttp!=4.0.0a0,!=4.0.0a1->fsspec[http]>2021.06.0->pytorch-lightning==1.8.3) (2.1.1)\n",
            "Requirement already satisfied: yarl<2.0,>=1.0 in /usr/local/lib/python3.8/dist-packages (from aiohttp!=4.0.0a0,!=4.0.0a1->fsspec[http]>2021.06.0->pytorch-lightning==1.8.3) (1.8.1)\n",
            "Requirement already satisfied: async-timeout<5.0,>=4.0.0a3 in /usr/local/lib/python3.8/dist-packages (from aiohttp!=4.0.0a0,!=4.0.0a1->fsspec[http]>2021.06.0->pytorch-lightning==1.8.3) (4.0.2)\n",
            "Requirement already satisfied: pyparsing!=3.0.5,>=2.0.2 in /usr/local/lib/python3.8/dist-packages (from packaging>=17.0->pytorch-lightning==1.8.3) (3.0.9)\n",
            "Requirement already satisfied: protobuf<=3.20.1,>=3.8.0 in /usr/local/lib/python3.8/dist-packages (from tensorboardX>=2.2->pytorch-lightning==1.8.3) (3.19.6)\n",
            "Requirement already satisfied: idna>=2.0 in /usr/local/lib/python3.8/dist-packages (from yarl<2.0,>=1.0->aiohttp!=4.0.0a0,!=4.0.0a1->fsspec[http]>2021.06.0->pytorch-lightning==1.8.3) (2.10)\n",
            "Requirement already satisfied: six in /usr/local/lib/python3.8/dist-packages (from fire->lightning-utilities==0.3.*->pytorch-lightning==1.8.3) (1.15.0)\n",
            "Requirement already satisfied: termcolor in /usr/local/lib/python3.8/dist-packages (from fire->lightning-utilities==0.3.*->pytorch-lightning==1.8.3) (2.1.1)\n",
            "Requirement already satisfied: chardet<4,>=3.0.2 in /usr/local/lib/python3.8/dist-packages (from requests->fsspec[http]>2021.06.0->pytorch-lightning==1.8.3) (3.0.4)\n",
            "Requirement already satisfied: certifi>=2017.4.17 in /usr/local/lib/python3.8/dist-packages (from requests->fsspec[http]>2021.06.0->pytorch-lightning==1.8.3) (2022.9.24)\n",
            "Requirement already satisfied: urllib3!=1.25.0,!=1.25.1,<1.26,>=1.21.1 in /usr/local/lib/python3.8/dist-packages (from requests->fsspec[http]>2021.06.0->pytorch-lightning==1.8.3) (1.24.3)\n"
          ]
        }
      ]
    },
    {
      "cell_type": "markdown",
      "metadata": {
        "id": "_P6pjIkRBeFZ"
      },
      "source": [
        "`-` 런타임 재시작"
      ]
    },
    {
      "cell_type": "markdown",
      "metadata": {
        "id": "68xM6jF0ZchA"
      },
      "source": [
        "## 데이터 불러오기"
      ]
    },
    {
      "cell_type": "code",
      "execution_count": 3,
      "metadata": {
        "id": "zJnLWFhmMGG4"
      },
      "outputs": [],
      "source": [
        "import numpy as np\n",
        "import pandas as pd\n",
        "import seaborn as sns\n",
        "import matplotlib.pyplot as plt\n",
        "import warnings\n",
        "import random\n",
        "import easydict\n",
        "import os\n",
        "import gc\n",
        "\n",
        "from sklearn.model_selection import StratifiedKFold\n",
        "from sklearn.preprocessing import MinMaxScaler, OneHotEncoder\n",
        "from imblearn.over_sampling import SMOTE\n",
        "from sklearn.metrics import accuracy_score, f1_score\n",
        "\n",
        "from typing import Dict, List, Optional, Tuple, Union\n",
        "from numpy.typing import NDArray\n",
        "\n",
        "from tqdm.auto import tqdm\n",
        "from glob import glob\n",
        "\n",
        "warnings.filterwarnings('ignore') "
      ]
    },
    {
      "cell_type": "code",
      "execution_count": 4,
      "metadata": {
        "colab": {
          "base_uri": "https://localhost:8080/"
        },
        "id": "GjvmmVOVMW_P",
        "outputId": "cf7eeaec-abf2-4198-ca09-4e66e05b89a2"
      },
      "outputs": [
        {
          "output_type": "stream",
          "name": "stdout",
          "text": [
            "Drive already mounted at /content/drive; to attempt to forcibly remount, call drive.mount(\"/content/drive\", force_remount=True).\n"
          ]
        }
      ],
      "source": [
        "from google.colab import drive\n",
        "\n",
        "drive.mount('/content/drive')  # 구글코랩과 구글드라이브 연결"
      ]
    },
    {
      "cell_type": "code",
      "source": [
        "%cd /content/drive/MyDrive/Colab Notebooks/축구선수-유망여부-분류"
      ],
      "metadata": {
        "colab": {
          "base_uri": "https://localhost:8080/"
        },
        "id": "vcJwBS1jt4J2",
        "outputId": "e29e70c9-eaed-40dd-fabc-7f4d47a70b94"
      },
      "execution_count": 5,
      "outputs": [
        {
          "output_type": "stream",
          "name": "stdout",
          "text": [
            "/content/drive/MyDrive/Colab Notebooks/축구선수-유망여부-분류\n"
          ]
        }
      ]
    },
    {
      "cell_type": "markdown",
      "metadata": {
        "id": "MRrJ4A5RKC4B"
      },
      "source": [
        "- 데이터 불러오기"
      ]
    },
    {
      "cell_type": "code",
      "source": [
        "df = pd.read_csv('./data/train.csv')\n",
        "test = pd.read_csv('./data/test.csv')\n",
        "submission = pd.read_csv('./data/sample_submission.csv')\n",
        "\n",
        "df = df.drop('ID', axis=1)\n",
        "test = test.drop('ID', axis=1)"
      ],
      "metadata": {
        "id": "N7JdJZofCXED"
      },
      "execution_count": 32,
      "outputs": []
    },
    {
      "cell_type": "markdown",
      "metadata": {
        "id": "NN7RHXuYr88l"
      },
      "source": [
        "- 하이퍼파라미터 "
      ]
    },
    {
      "cell_type": "code",
      "execution_count": 7,
      "metadata": {
        "id": "ZBe2gEgzr-q1"
      },
      "outputs": [],
      "source": [
        "args = easydict.EasyDict({\n",
        "    'weight_path':'./weights',\n",
        "    'num_classes':1,\n",
        "    'num_folds':5,\n",
        "    'num_epochs':50,\n",
        "    'bs':64,    # batch size\n",
        "    'lr':1e-3,  # learning rate\n",
        "    'label_smoothing':0.05,\n",
        "    'gradient_clip_val':1.0,\n",
        "    'mc_iteration':30,\n",
        "    'seed':22\n",
        "})"
      ]
    },
    {
      "cell_type": "markdown",
      "metadata": {
        "id": "II2XMQAVsAQt"
      },
      "source": [
        "- 가중치 저장폴더"
      ]
    },
    {
      "cell_type": "code",
      "execution_count": 8,
      "metadata": {
        "id": "YnpAfBHMsCb1"
      },
      "outputs": [],
      "source": [
        "def create_folder(path: str) -> None:\n",
        "    try:\n",
        "        if not os.path.exists(path):\n",
        "            os.makedirs(path)\n",
        "    except OSError as error:\n",
        "        print(error)"
      ]
    },
    {
      "cell_type": "code",
      "execution_count": 9,
      "metadata": {
        "id": "WRCnOvxlsE2F"
      },
      "outputs": [],
      "source": [
        "create_folder(args.weight_path)"
      ]
    },
    {
      "cell_type": "markdown",
      "metadata": {
        "id": "bvB62nkihj3a"
      },
      "source": [
        "## 시각화"
      ]
    },
    {
      "cell_type": "code",
      "source": [
        "sns.set_theme(style='white')"
      ],
      "metadata": {
        "id": "yJGwzRfkpoeP"
      },
      "execution_count": 10,
      "outputs": []
    },
    {
      "cell_type": "code",
      "source": [
        "pd.set_option('display.max_rows', None)\n",
        "df.describe().T"
      ],
      "metadata": {
        "colab": {
          "base_uri": "https://localhost:8080/",
          "height": 1000
        },
        "id": "THBtgpLrO8Be",
        "outputId": "16c3cb4b-c273-43cf-a67b-8a29efd70d74"
      },
      "execution_count": 38,
      "outputs": [
        {
          "output_type": "execute_result",
          "data": {
            "text/plain": [
              "                   count        mean       std       min        25%       50%  \\\n",
              "Age               3019.0   19.632329  1.235638   16.0000   19.00000   20.0000   \n",
              "Height            3019.0  180.892348  6.800187  160.0000  176.00000  180.0000   \n",
              "Weight            3019.0   73.081153  6.539758   49.0000   69.00000   73.0000   \n",
              "PaceTotal         3019.0    5.760521  1.298024    0.7246    4.92750    5.7971   \n",
              "ShootingTotal     3019.0    4.292595  1.624982    0.5263    3.09210    4.6053   \n",
              "PassingTotal      3019.0    4.080918  1.301538    0.0000    3.23530    4.1176   \n",
              "DribblingTotal    3019.0    4.708363  1.366596    0.0000    3.93940    4.8485   \n",
              "DefendingTotal    3019.0    3.816096  2.029423    0.0000    1.84210    4.2105   \n",
              "PhysicalityTotal  3019.0    4.549276  1.414989    0.0000    3.60660    4.5902   \n",
              "Crossing          3019.0    4.371896  1.790045    0.1136    3.29550    4.7727   \n",
              "Finishing         3019.0    4.345083  2.037801    0.0000    2.80220    4.6154   \n",
              "HeadingAccuracy   3019.0    4.750821  1.718073    0.1136    4.09090    5.0000   \n",
              "ShortPassing      3019.0    5.368810  1.627738    0.6024    4.69880    5.7831   \n",
              "Volleys           3019.0    4.048384  1.743603    0.0000    2.98850    4.2529   \n",
              "Dribbling         3019.0    5.415954  1.971838    0.2174    4.89130    5.9783   \n",
              "Curve             3019.0    4.241490  1.748832    0.0000    3.21840    4.3678   \n",
              "FKAccuracy        3019.0    3.796328  1.532390    0.1111    2.88890    3.7778   \n",
              "LongPassing       3019.0    4.694633  1.643123    0.5952    3.57140    5.0000   \n",
              "BallControl       3019.0    5.555829  1.798204    0.3371    5.05620    6.0674   \n",
              "Acceleration      3019.0    6.115808  1.844954    0.0000    5.66270    6.5060   \n",
              "SprintSpeed       3019.0    6.044850  1.822515    0.0000    5.48780    6.3415   \n",
              "Agility           3019.0    5.783241  1.930989    0.1316    4.86840    6.0526   \n",
              "Reactions         3019.0    3.927158  1.247837    0.0000    3.12500    3.9062   \n",
              "Balance           3019.0    5.839417  1.898949    0.1333    4.80000    6.1333   \n",
              "ShotPower         3019.0    4.483316  1.508987    0.2632    3.42110    4.6053   \n",
              "Jumping           3019.0    5.226804  1.447769    1.0959    4.52050    5.3425   \n",
              "Stamina           3019.0    5.300832  1.807786    0.1235    4.69140    5.6790   \n",
              "Strength          3019.0    4.679659  1.683236    0.2817    3.52110    4.6479   \n",
              "LongShots         3019.0    4.278840  1.990667    0.0000    2.87360    4.5977   \n",
              "Aggression        3019.0    4.570037  1.715511    0.0000    3.35295    4.8235   \n",
              "Interceptions     3019.0    4.255209  2.174812    0.2273    2.15910    4.8864   \n",
              "Positioning       3019.0    4.712949  1.915240    0.1064    3.72340    5.3191   \n",
              "Vision            3019.0    4.711863  1.445694    0.5952    3.63095    4.8810   \n",
              "Penalties         3019.0    4.484968  1.647784    0.0000    3.60470    4.6512   \n",
              "Composure         3019.0    4.634023  1.327883    0.6024    3.85540    4.6988   \n",
              "Marking           3019.0    4.185553  2.104758    0.1124    2.24720    4.6067   \n",
              "StandingTackle    3019.0    4.313868  2.251930    0.1149    2.18390    4.9425   \n",
              "SlidingTackle     3019.0    4.279642  2.248174    0.2381    2.02380    4.8810   \n",
              "GKDiving          3019.0    1.492854  1.723756    0.3409    0.68180    1.0227   \n",
              "GKHandling        3019.0    1.459996  1.662393    0.3409    0.68180    0.9091   \n",
              "GKKicking         3019.0    1.409684  1.605038    0.3297    0.65930    0.8791   \n",
              "GKPositioning     3019.0    1.440693  1.610872    0.3371    0.67420    1.0112   \n",
              "GKReflexes        3019.0    1.487171  1.754476    0.3409    0.68180    0.9091   \n",
              "STRating          3019.0    4.601225  1.737719    0.0000    3.97260    4.9315   \n",
              "LWRating          3019.0    5.020833  1.841542    0.1316    4.34210    5.5263   \n",
              "LFRating          3019.0    4.836344  1.780348    0.1316    4.07890    5.2632   \n",
              "CFRating          3019.0    4.836344  1.780348    0.1316    4.07890    5.2632   \n",
              "RFRating          3019.0    4.836344  1.780348    0.1316    4.07890    5.2632   \n",
              "RWRating          3019.0    5.020833  1.841542    0.1316    4.34210    5.5263   \n",
              "CAMRating         3019.0    4.946363  1.782596    0.1333    4.26670    5.3333   \n",
              "LMRating          3019.0    4.961191  1.814854    0.0000    4.45950    5.4054   \n",
              "CMRating          3019.0    4.748056  1.677262    0.0000    4.10960    5.0685   \n",
              "RMRating          3019.0    4.961191  1.814854    0.0000    4.45950    5.4054   \n",
              "LWBRating         3019.0    4.874432  1.815744    0.0000    4.22540    5.2113   \n",
              "CDMRating         3019.0    4.508399  1.809723    0.0000    3.57140    4.8571   \n",
              "RWBRating         3019.0    4.874432  1.815744    0.0000    4.22540    5.2113   \n",
              "LBRating          3019.0    4.852789  1.877633    0.0000    4.00000    5.2857   \n",
              "CBRating          3019.0    4.330720  1.880760    0.0000    3.05560    4.5833   \n",
              "RBRating          3019.0    4.852789  1.877633    0.0000    4.00000    5.2857   \n",
              "GKRating          3019.0    1.424188  1.606925    0.2500    0.75000    0.8750   \n",
              "Prospect          3019.0    0.361047  0.480384    0.0000    0.00000    0.0000   \n",
              "\n",
              "                       75%       max  \n",
              "Age                21.0000   21.0000  \n",
              "Height            185.5000  204.0000  \n",
              "Weight             77.0000   99.0000  \n",
              "PaceTotal           6.6667    9.7101  \n",
              "ShootingTotal       5.5263    9.8684  \n",
              "PassingTotal        5.0000    8.2353  \n",
              "DribblingTotal      5.6061    9.3939  \n",
              "DefendingTotal      5.5263    8.6842  \n",
              "PhysicalityTotal    5.5738    9.3443  \n",
              "Crossing            5.6818    8.5227  \n",
              "Finishing           6.0440   10.0000  \n",
              "HeadingAccuracy     5.9091    8.5227  \n",
              "ShortPassing        6.3855    9.2771  \n",
              "Volleys             5.2874    9.7701  \n",
              "Dribbling           6.7391    9.6739  \n",
              "Curve               5.5172    9.6552  \n",
              "FKAccuracy          4.7778    9.2222  \n",
              "LongPassing         5.9524    9.0476  \n",
              "BallControl         6.7416    9.4382  \n",
              "Acceleration        7.2289    9.7590  \n",
              "SprintSpeed         7.1951    9.7561  \n",
              "Agility             7.1053   10.0000  \n",
              "Reactions           4.6875    9.0625  \n",
              "Balance             7.2000   10.0000  \n",
              "ShotPower           5.5263   10.0000  \n",
              "Jumping             6.3014    9.5890  \n",
              "Stamina             6.4198   10.0000  \n",
              "Strength            5.9155    9.5775  \n",
              "LongShots           5.8621    9.5402  \n",
              "Aggression          5.8824    9.0588  \n",
              "Interceptions       6.1364    9.2045  \n",
              "Positioning         6.0638    9.2553  \n",
              "Vision              5.7143    9.2857  \n",
              "Penalties           5.6977    8.7209  \n",
              "Composure           5.5422    8.9157  \n",
              "Marking             5.9551    8.9888  \n",
              "StandingTackle      6.2069    8.8506  \n",
              "SlidingTackle       6.1905    9.2857  \n",
              "GKDiving            1.2500    8.7500  \n",
              "GKHandling          1.2500    8.6364  \n",
              "GKKicking           1.2088    7.9121  \n",
              "GKPositioning       1.2360    8.6517  \n",
              "GKReflexes          1.2500    8.8636  \n",
              "STRating            5.7534    9.7260  \n",
              "LWRating            6.1842    9.3421  \n",
              "LFRating            6.0526    9.0789  \n",
              "CFRating            6.0526    9.0789  \n",
              "RFRating            6.0526    9.0789  \n",
              "RWRating            6.1842    9.3421  \n",
              "CAMRating           6.1333    9.0667  \n",
              "LMRating            6.0811    9.1892  \n",
              "CMRating            5.8904    9.3151  \n",
              "RMRating            6.0811    9.1892  \n",
              "LWBRating           6.0563    9.0141  \n",
              "CDMRating           5.8571    9.1429  \n",
              "RWBRating           6.0563    9.0141  \n",
              "LBRating            6.1429    9.1429  \n",
              "CBRating            5.8333    9.0278  \n",
              "RBRating            6.1429    9.1429  \n",
              "GKRating            1.1250    8.6250  \n",
              "Prospect            1.0000    1.0000  "
            ],
            "text/html": [
              "\n",
              "  <div id=\"df-9d2bb0be-7dd7-4f5a-879c-dc1a7cc4db65\">\n",
              "    <div class=\"colab-df-container\">\n",
              "      <div>\n",
              "<style scoped>\n",
              "    .dataframe tbody tr th:only-of-type {\n",
              "        vertical-align: middle;\n",
              "    }\n",
              "\n",
              "    .dataframe tbody tr th {\n",
              "        vertical-align: top;\n",
              "    }\n",
              "\n",
              "    .dataframe thead th {\n",
              "        text-align: right;\n",
              "    }\n",
              "</style>\n",
              "<table border=\"1\" class=\"dataframe\">\n",
              "  <thead>\n",
              "    <tr style=\"text-align: right;\">\n",
              "      <th></th>\n",
              "      <th>count</th>\n",
              "      <th>mean</th>\n",
              "      <th>std</th>\n",
              "      <th>min</th>\n",
              "      <th>25%</th>\n",
              "      <th>50%</th>\n",
              "      <th>75%</th>\n",
              "      <th>max</th>\n",
              "    </tr>\n",
              "  </thead>\n",
              "  <tbody>\n",
              "    <tr>\n",
              "      <th>Age</th>\n",
              "      <td>3019.0</td>\n",
              "      <td>19.632329</td>\n",
              "      <td>1.235638</td>\n",
              "      <td>16.0000</td>\n",
              "      <td>19.00000</td>\n",
              "      <td>20.0000</td>\n",
              "      <td>21.0000</td>\n",
              "      <td>21.0000</td>\n",
              "    </tr>\n",
              "    <tr>\n",
              "      <th>Height</th>\n",
              "      <td>3019.0</td>\n",
              "      <td>180.892348</td>\n",
              "      <td>6.800187</td>\n",
              "      <td>160.0000</td>\n",
              "      <td>176.00000</td>\n",
              "      <td>180.0000</td>\n",
              "      <td>185.5000</td>\n",
              "      <td>204.0000</td>\n",
              "    </tr>\n",
              "    <tr>\n",
              "      <th>Weight</th>\n",
              "      <td>3019.0</td>\n",
              "      <td>73.081153</td>\n",
              "      <td>6.539758</td>\n",
              "      <td>49.0000</td>\n",
              "      <td>69.00000</td>\n",
              "      <td>73.0000</td>\n",
              "      <td>77.0000</td>\n",
              "      <td>99.0000</td>\n",
              "    </tr>\n",
              "    <tr>\n",
              "      <th>PaceTotal</th>\n",
              "      <td>3019.0</td>\n",
              "      <td>5.760521</td>\n",
              "      <td>1.298024</td>\n",
              "      <td>0.7246</td>\n",
              "      <td>4.92750</td>\n",
              "      <td>5.7971</td>\n",
              "      <td>6.6667</td>\n",
              "      <td>9.7101</td>\n",
              "    </tr>\n",
              "    <tr>\n",
              "      <th>ShootingTotal</th>\n",
              "      <td>3019.0</td>\n",
              "      <td>4.292595</td>\n",
              "      <td>1.624982</td>\n",
              "      <td>0.5263</td>\n",
              "      <td>3.09210</td>\n",
              "      <td>4.6053</td>\n",
              "      <td>5.5263</td>\n",
              "      <td>9.8684</td>\n",
              "    </tr>\n",
              "    <tr>\n",
              "      <th>PassingTotal</th>\n",
              "      <td>3019.0</td>\n",
              "      <td>4.080918</td>\n",
              "      <td>1.301538</td>\n",
              "      <td>0.0000</td>\n",
              "      <td>3.23530</td>\n",
              "      <td>4.1176</td>\n",
              "      <td>5.0000</td>\n",
              "      <td>8.2353</td>\n",
              "    </tr>\n",
              "    <tr>\n",
              "      <th>DribblingTotal</th>\n",
              "      <td>3019.0</td>\n",
              "      <td>4.708363</td>\n",
              "      <td>1.366596</td>\n",
              "      <td>0.0000</td>\n",
              "      <td>3.93940</td>\n",
              "      <td>4.8485</td>\n",
              "      <td>5.6061</td>\n",
              "      <td>9.3939</td>\n",
              "    </tr>\n",
              "    <tr>\n",
              "      <th>DefendingTotal</th>\n",
              "      <td>3019.0</td>\n",
              "      <td>3.816096</td>\n",
              "      <td>2.029423</td>\n",
              "      <td>0.0000</td>\n",
              "      <td>1.84210</td>\n",
              "      <td>4.2105</td>\n",
              "      <td>5.5263</td>\n",
              "      <td>8.6842</td>\n",
              "    </tr>\n",
              "    <tr>\n",
              "      <th>PhysicalityTotal</th>\n",
              "      <td>3019.0</td>\n",
              "      <td>4.549276</td>\n",
              "      <td>1.414989</td>\n",
              "      <td>0.0000</td>\n",
              "      <td>3.60660</td>\n",
              "      <td>4.5902</td>\n",
              "      <td>5.5738</td>\n",
              "      <td>9.3443</td>\n",
              "    </tr>\n",
              "    <tr>\n",
              "      <th>Crossing</th>\n",
              "      <td>3019.0</td>\n",
              "      <td>4.371896</td>\n",
              "      <td>1.790045</td>\n",
              "      <td>0.1136</td>\n",
              "      <td>3.29550</td>\n",
              "      <td>4.7727</td>\n",
              "      <td>5.6818</td>\n",
              "      <td>8.5227</td>\n",
              "    </tr>\n",
              "    <tr>\n",
              "      <th>Finishing</th>\n",
              "      <td>3019.0</td>\n",
              "      <td>4.345083</td>\n",
              "      <td>2.037801</td>\n",
              "      <td>0.0000</td>\n",
              "      <td>2.80220</td>\n",
              "      <td>4.6154</td>\n",
              "      <td>6.0440</td>\n",
              "      <td>10.0000</td>\n",
              "    </tr>\n",
              "    <tr>\n",
              "      <th>HeadingAccuracy</th>\n",
              "      <td>3019.0</td>\n",
              "      <td>4.750821</td>\n",
              "      <td>1.718073</td>\n",
              "      <td>0.1136</td>\n",
              "      <td>4.09090</td>\n",
              "      <td>5.0000</td>\n",
              "      <td>5.9091</td>\n",
              "      <td>8.5227</td>\n",
              "    </tr>\n",
              "    <tr>\n",
              "      <th>ShortPassing</th>\n",
              "      <td>3019.0</td>\n",
              "      <td>5.368810</td>\n",
              "      <td>1.627738</td>\n",
              "      <td>0.6024</td>\n",
              "      <td>4.69880</td>\n",
              "      <td>5.7831</td>\n",
              "      <td>6.3855</td>\n",
              "      <td>9.2771</td>\n",
              "    </tr>\n",
              "    <tr>\n",
              "      <th>Volleys</th>\n",
              "      <td>3019.0</td>\n",
              "      <td>4.048384</td>\n",
              "      <td>1.743603</td>\n",
              "      <td>0.0000</td>\n",
              "      <td>2.98850</td>\n",
              "      <td>4.2529</td>\n",
              "      <td>5.2874</td>\n",
              "      <td>9.7701</td>\n",
              "    </tr>\n",
              "    <tr>\n",
              "      <th>Dribbling</th>\n",
              "      <td>3019.0</td>\n",
              "      <td>5.415954</td>\n",
              "      <td>1.971838</td>\n",
              "      <td>0.2174</td>\n",
              "      <td>4.89130</td>\n",
              "      <td>5.9783</td>\n",
              "      <td>6.7391</td>\n",
              "      <td>9.6739</td>\n",
              "    </tr>\n",
              "    <tr>\n",
              "      <th>Curve</th>\n",
              "      <td>3019.0</td>\n",
              "      <td>4.241490</td>\n",
              "      <td>1.748832</td>\n",
              "      <td>0.0000</td>\n",
              "      <td>3.21840</td>\n",
              "      <td>4.3678</td>\n",
              "      <td>5.5172</td>\n",
              "      <td>9.6552</td>\n",
              "    </tr>\n",
              "    <tr>\n",
              "      <th>FKAccuracy</th>\n",
              "      <td>3019.0</td>\n",
              "      <td>3.796328</td>\n",
              "      <td>1.532390</td>\n",
              "      <td>0.1111</td>\n",
              "      <td>2.88890</td>\n",
              "      <td>3.7778</td>\n",
              "      <td>4.7778</td>\n",
              "      <td>9.2222</td>\n",
              "    </tr>\n",
              "    <tr>\n",
              "      <th>LongPassing</th>\n",
              "      <td>3019.0</td>\n",
              "      <td>4.694633</td>\n",
              "      <td>1.643123</td>\n",
              "      <td>0.5952</td>\n",
              "      <td>3.57140</td>\n",
              "      <td>5.0000</td>\n",
              "      <td>5.9524</td>\n",
              "      <td>9.0476</td>\n",
              "    </tr>\n",
              "    <tr>\n",
              "      <th>BallControl</th>\n",
              "      <td>3019.0</td>\n",
              "      <td>5.555829</td>\n",
              "      <td>1.798204</td>\n",
              "      <td>0.3371</td>\n",
              "      <td>5.05620</td>\n",
              "      <td>6.0674</td>\n",
              "      <td>6.7416</td>\n",
              "      <td>9.4382</td>\n",
              "    </tr>\n",
              "    <tr>\n",
              "      <th>Acceleration</th>\n",
              "      <td>3019.0</td>\n",
              "      <td>6.115808</td>\n",
              "      <td>1.844954</td>\n",
              "      <td>0.0000</td>\n",
              "      <td>5.66270</td>\n",
              "      <td>6.5060</td>\n",
              "      <td>7.2289</td>\n",
              "      <td>9.7590</td>\n",
              "    </tr>\n",
              "    <tr>\n",
              "      <th>SprintSpeed</th>\n",
              "      <td>3019.0</td>\n",
              "      <td>6.044850</td>\n",
              "      <td>1.822515</td>\n",
              "      <td>0.0000</td>\n",
              "      <td>5.48780</td>\n",
              "      <td>6.3415</td>\n",
              "      <td>7.1951</td>\n",
              "      <td>9.7561</td>\n",
              "    </tr>\n",
              "    <tr>\n",
              "      <th>Agility</th>\n",
              "      <td>3019.0</td>\n",
              "      <td>5.783241</td>\n",
              "      <td>1.930989</td>\n",
              "      <td>0.1316</td>\n",
              "      <td>4.86840</td>\n",
              "      <td>6.0526</td>\n",
              "      <td>7.1053</td>\n",
              "      <td>10.0000</td>\n",
              "    </tr>\n",
              "    <tr>\n",
              "      <th>Reactions</th>\n",
              "      <td>3019.0</td>\n",
              "      <td>3.927158</td>\n",
              "      <td>1.247837</td>\n",
              "      <td>0.0000</td>\n",
              "      <td>3.12500</td>\n",
              "      <td>3.9062</td>\n",
              "      <td>4.6875</td>\n",
              "      <td>9.0625</td>\n",
              "    </tr>\n",
              "    <tr>\n",
              "      <th>Balance</th>\n",
              "      <td>3019.0</td>\n",
              "      <td>5.839417</td>\n",
              "      <td>1.898949</td>\n",
              "      <td>0.1333</td>\n",
              "      <td>4.80000</td>\n",
              "      <td>6.1333</td>\n",
              "      <td>7.2000</td>\n",
              "      <td>10.0000</td>\n",
              "    </tr>\n",
              "    <tr>\n",
              "      <th>ShotPower</th>\n",
              "      <td>3019.0</td>\n",
              "      <td>4.483316</td>\n",
              "      <td>1.508987</td>\n",
              "      <td>0.2632</td>\n",
              "      <td>3.42110</td>\n",
              "      <td>4.6053</td>\n",
              "      <td>5.5263</td>\n",
              "      <td>10.0000</td>\n",
              "    </tr>\n",
              "    <tr>\n",
              "      <th>Jumping</th>\n",
              "      <td>3019.0</td>\n",
              "      <td>5.226804</td>\n",
              "      <td>1.447769</td>\n",
              "      <td>1.0959</td>\n",
              "      <td>4.52050</td>\n",
              "      <td>5.3425</td>\n",
              "      <td>6.3014</td>\n",
              "      <td>9.5890</td>\n",
              "    </tr>\n",
              "    <tr>\n",
              "      <th>Stamina</th>\n",
              "      <td>3019.0</td>\n",
              "      <td>5.300832</td>\n",
              "      <td>1.807786</td>\n",
              "      <td>0.1235</td>\n",
              "      <td>4.69140</td>\n",
              "      <td>5.6790</td>\n",
              "      <td>6.4198</td>\n",
              "      <td>10.0000</td>\n",
              "    </tr>\n",
              "    <tr>\n",
              "      <th>Strength</th>\n",
              "      <td>3019.0</td>\n",
              "      <td>4.679659</td>\n",
              "      <td>1.683236</td>\n",
              "      <td>0.2817</td>\n",
              "      <td>3.52110</td>\n",
              "      <td>4.6479</td>\n",
              "      <td>5.9155</td>\n",
              "      <td>9.5775</td>\n",
              "    </tr>\n",
              "    <tr>\n",
              "      <th>LongShots</th>\n",
              "      <td>3019.0</td>\n",
              "      <td>4.278840</td>\n",
              "      <td>1.990667</td>\n",
              "      <td>0.0000</td>\n",
              "      <td>2.87360</td>\n",
              "      <td>4.5977</td>\n",
              "      <td>5.8621</td>\n",
              "      <td>9.5402</td>\n",
              "    </tr>\n",
              "    <tr>\n",
              "      <th>Aggression</th>\n",
              "      <td>3019.0</td>\n",
              "      <td>4.570037</td>\n",
              "      <td>1.715511</td>\n",
              "      <td>0.0000</td>\n",
              "      <td>3.35295</td>\n",
              "      <td>4.8235</td>\n",
              "      <td>5.8824</td>\n",
              "      <td>9.0588</td>\n",
              "    </tr>\n",
              "    <tr>\n",
              "      <th>Interceptions</th>\n",
              "      <td>3019.0</td>\n",
              "      <td>4.255209</td>\n",
              "      <td>2.174812</td>\n",
              "      <td>0.2273</td>\n",
              "      <td>2.15910</td>\n",
              "      <td>4.8864</td>\n",
              "      <td>6.1364</td>\n",
              "      <td>9.2045</td>\n",
              "    </tr>\n",
              "    <tr>\n",
              "      <th>Positioning</th>\n",
              "      <td>3019.0</td>\n",
              "      <td>4.712949</td>\n",
              "      <td>1.915240</td>\n",
              "      <td>0.1064</td>\n",
              "      <td>3.72340</td>\n",
              "      <td>5.3191</td>\n",
              "      <td>6.0638</td>\n",
              "      <td>9.2553</td>\n",
              "    </tr>\n",
              "    <tr>\n",
              "      <th>Vision</th>\n",
              "      <td>3019.0</td>\n",
              "      <td>4.711863</td>\n",
              "      <td>1.445694</td>\n",
              "      <td>0.5952</td>\n",
              "      <td>3.63095</td>\n",
              "      <td>4.8810</td>\n",
              "      <td>5.7143</td>\n",
              "      <td>9.2857</td>\n",
              "    </tr>\n",
              "    <tr>\n",
              "      <th>Penalties</th>\n",
              "      <td>3019.0</td>\n",
              "      <td>4.484968</td>\n",
              "      <td>1.647784</td>\n",
              "      <td>0.0000</td>\n",
              "      <td>3.60470</td>\n",
              "      <td>4.6512</td>\n",
              "      <td>5.6977</td>\n",
              "      <td>8.7209</td>\n",
              "    </tr>\n",
              "    <tr>\n",
              "      <th>Composure</th>\n",
              "      <td>3019.0</td>\n",
              "      <td>4.634023</td>\n",
              "      <td>1.327883</td>\n",
              "      <td>0.6024</td>\n",
              "      <td>3.85540</td>\n",
              "      <td>4.6988</td>\n",
              "      <td>5.5422</td>\n",
              "      <td>8.9157</td>\n",
              "    </tr>\n",
              "    <tr>\n",
              "      <th>Marking</th>\n",
              "      <td>3019.0</td>\n",
              "      <td>4.185553</td>\n",
              "      <td>2.104758</td>\n",
              "      <td>0.1124</td>\n",
              "      <td>2.24720</td>\n",
              "      <td>4.6067</td>\n",
              "      <td>5.9551</td>\n",
              "      <td>8.9888</td>\n",
              "    </tr>\n",
              "    <tr>\n",
              "      <th>StandingTackle</th>\n",
              "      <td>3019.0</td>\n",
              "      <td>4.313868</td>\n",
              "      <td>2.251930</td>\n",
              "      <td>0.1149</td>\n",
              "      <td>2.18390</td>\n",
              "      <td>4.9425</td>\n",
              "      <td>6.2069</td>\n",
              "      <td>8.8506</td>\n",
              "    </tr>\n",
              "    <tr>\n",
              "      <th>SlidingTackle</th>\n",
              "      <td>3019.0</td>\n",
              "      <td>4.279642</td>\n",
              "      <td>2.248174</td>\n",
              "      <td>0.2381</td>\n",
              "      <td>2.02380</td>\n",
              "      <td>4.8810</td>\n",
              "      <td>6.1905</td>\n",
              "      <td>9.2857</td>\n",
              "    </tr>\n",
              "    <tr>\n",
              "      <th>GKDiving</th>\n",
              "      <td>3019.0</td>\n",
              "      <td>1.492854</td>\n",
              "      <td>1.723756</td>\n",
              "      <td>0.3409</td>\n",
              "      <td>0.68180</td>\n",
              "      <td>1.0227</td>\n",
              "      <td>1.2500</td>\n",
              "      <td>8.7500</td>\n",
              "    </tr>\n",
              "    <tr>\n",
              "      <th>GKHandling</th>\n",
              "      <td>3019.0</td>\n",
              "      <td>1.459996</td>\n",
              "      <td>1.662393</td>\n",
              "      <td>0.3409</td>\n",
              "      <td>0.68180</td>\n",
              "      <td>0.9091</td>\n",
              "      <td>1.2500</td>\n",
              "      <td>8.6364</td>\n",
              "    </tr>\n",
              "    <tr>\n",
              "      <th>GKKicking</th>\n",
              "      <td>3019.0</td>\n",
              "      <td>1.409684</td>\n",
              "      <td>1.605038</td>\n",
              "      <td>0.3297</td>\n",
              "      <td>0.65930</td>\n",
              "      <td>0.8791</td>\n",
              "      <td>1.2088</td>\n",
              "      <td>7.9121</td>\n",
              "    </tr>\n",
              "    <tr>\n",
              "      <th>GKPositioning</th>\n",
              "      <td>3019.0</td>\n",
              "      <td>1.440693</td>\n",
              "      <td>1.610872</td>\n",
              "      <td>0.3371</td>\n",
              "      <td>0.67420</td>\n",
              "      <td>1.0112</td>\n",
              "      <td>1.2360</td>\n",
              "      <td>8.6517</td>\n",
              "    </tr>\n",
              "    <tr>\n",
              "      <th>GKReflexes</th>\n",
              "      <td>3019.0</td>\n",
              "      <td>1.487171</td>\n",
              "      <td>1.754476</td>\n",
              "      <td>0.3409</td>\n",
              "      <td>0.68180</td>\n",
              "      <td>0.9091</td>\n",
              "      <td>1.2500</td>\n",
              "      <td>8.8636</td>\n",
              "    </tr>\n",
              "    <tr>\n",
              "      <th>STRating</th>\n",
              "      <td>3019.0</td>\n",
              "      <td>4.601225</td>\n",
              "      <td>1.737719</td>\n",
              "      <td>0.0000</td>\n",
              "      <td>3.97260</td>\n",
              "      <td>4.9315</td>\n",
              "      <td>5.7534</td>\n",
              "      <td>9.7260</td>\n",
              "    </tr>\n",
              "    <tr>\n",
              "      <th>LWRating</th>\n",
              "      <td>3019.0</td>\n",
              "      <td>5.020833</td>\n",
              "      <td>1.841542</td>\n",
              "      <td>0.1316</td>\n",
              "      <td>4.34210</td>\n",
              "      <td>5.5263</td>\n",
              "      <td>6.1842</td>\n",
              "      <td>9.3421</td>\n",
              "    </tr>\n",
              "    <tr>\n",
              "      <th>LFRating</th>\n",
              "      <td>3019.0</td>\n",
              "      <td>4.836344</td>\n",
              "      <td>1.780348</td>\n",
              "      <td>0.1316</td>\n",
              "      <td>4.07890</td>\n",
              "      <td>5.2632</td>\n",
              "      <td>6.0526</td>\n",
              "      <td>9.0789</td>\n",
              "    </tr>\n",
              "    <tr>\n",
              "      <th>CFRating</th>\n",
              "      <td>3019.0</td>\n",
              "      <td>4.836344</td>\n",
              "      <td>1.780348</td>\n",
              "      <td>0.1316</td>\n",
              "      <td>4.07890</td>\n",
              "      <td>5.2632</td>\n",
              "      <td>6.0526</td>\n",
              "      <td>9.0789</td>\n",
              "    </tr>\n",
              "    <tr>\n",
              "      <th>RFRating</th>\n",
              "      <td>3019.0</td>\n",
              "      <td>4.836344</td>\n",
              "      <td>1.780348</td>\n",
              "      <td>0.1316</td>\n",
              "      <td>4.07890</td>\n",
              "      <td>5.2632</td>\n",
              "      <td>6.0526</td>\n",
              "      <td>9.0789</td>\n",
              "    </tr>\n",
              "    <tr>\n",
              "      <th>RWRating</th>\n",
              "      <td>3019.0</td>\n",
              "      <td>5.020833</td>\n",
              "      <td>1.841542</td>\n",
              "      <td>0.1316</td>\n",
              "      <td>4.34210</td>\n",
              "      <td>5.5263</td>\n",
              "      <td>6.1842</td>\n",
              "      <td>9.3421</td>\n",
              "    </tr>\n",
              "    <tr>\n",
              "      <th>CAMRating</th>\n",
              "      <td>3019.0</td>\n",
              "      <td>4.946363</td>\n",
              "      <td>1.782596</td>\n",
              "      <td>0.1333</td>\n",
              "      <td>4.26670</td>\n",
              "      <td>5.3333</td>\n",
              "      <td>6.1333</td>\n",
              "      <td>9.0667</td>\n",
              "    </tr>\n",
              "    <tr>\n",
              "      <th>LMRating</th>\n",
              "      <td>3019.0</td>\n",
              "      <td>4.961191</td>\n",
              "      <td>1.814854</td>\n",
              "      <td>0.0000</td>\n",
              "      <td>4.45950</td>\n",
              "      <td>5.4054</td>\n",
              "      <td>6.0811</td>\n",
              "      <td>9.1892</td>\n",
              "    </tr>\n",
              "    <tr>\n",
              "      <th>CMRating</th>\n",
              "      <td>3019.0</td>\n",
              "      <td>4.748056</td>\n",
              "      <td>1.677262</td>\n",
              "      <td>0.0000</td>\n",
              "      <td>4.10960</td>\n",
              "      <td>5.0685</td>\n",
              "      <td>5.8904</td>\n",
              "      <td>9.3151</td>\n",
              "    </tr>\n",
              "    <tr>\n",
              "      <th>RMRating</th>\n",
              "      <td>3019.0</td>\n",
              "      <td>4.961191</td>\n",
              "      <td>1.814854</td>\n",
              "      <td>0.0000</td>\n",
              "      <td>4.45950</td>\n",
              "      <td>5.4054</td>\n",
              "      <td>6.0811</td>\n",
              "      <td>9.1892</td>\n",
              "    </tr>\n",
              "    <tr>\n",
              "      <th>LWBRating</th>\n",
              "      <td>3019.0</td>\n",
              "      <td>4.874432</td>\n",
              "      <td>1.815744</td>\n",
              "      <td>0.0000</td>\n",
              "      <td>4.22540</td>\n",
              "      <td>5.2113</td>\n",
              "      <td>6.0563</td>\n",
              "      <td>9.0141</td>\n",
              "    </tr>\n",
              "    <tr>\n",
              "      <th>CDMRating</th>\n",
              "      <td>3019.0</td>\n",
              "      <td>4.508399</td>\n",
              "      <td>1.809723</td>\n",
              "      <td>0.0000</td>\n",
              "      <td>3.57140</td>\n",
              "      <td>4.8571</td>\n",
              "      <td>5.8571</td>\n",
              "      <td>9.1429</td>\n",
              "    </tr>\n",
              "    <tr>\n",
              "      <th>RWBRating</th>\n",
              "      <td>3019.0</td>\n",
              "      <td>4.874432</td>\n",
              "      <td>1.815744</td>\n",
              "      <td>0.0000</td>\n",
              "      <td>4.22540</td>\n",
              "      <td>5.2113</td>\n",
              "      <td>6.0563</td>\n",
              "      <td>9.0141</td>\n",
              "    </tr>\n",
              "    <tr>\n",
              "      <th>LBRating</th>\n",
              "      <td>3019.0</td>\n",
              "      <td>4.852789</td>\n",
              "      <td>1.877633</td>\n",
              "      <td>0.0000</td>\n",
              "      <td>4.00000</td>\n",
              "      <td>5.2857</td>\n",
              "      <td>6.1429</td>\n",
              "      <td>9.1429</td>\n",
              "    </tr>\n",
              "    <tr>\n",
              "      <th>CBRating</th>\n",
              "      <td>3019.0</td>\n",
              "      <td>4.330720</td>\n",
              "      <td>1.880760</td>\n",
              "      <td>0.0000</td>\n",
              "      <td>3.05560</td>\n",
              "      <td>4.5833</td>\n",
              "      <td>5.8333</td>\n",
              "      <td>9.0278</td>\n",
              "    </tr>\n",
              "    <tr>\n",
              "      <th>RBRating</th>\n",
              "      <td>3019.0</td>\n",
              "      <td>4.852789</td>\n",
              "      <td>1.877633</td>\n",
              "      <td>0.0000</td>\n",
              "      <td>4.00000</td>\n",
              "      <td>5.2857</td>\n",
              "      <td>6.1429</td>\n",
              "      <td>9.1429</td>\n",
              "    </tr>\n",
              "    <tr>\n",
              "      <th>GKRating</th>\n",
              "      <td>3019.0</td>\n",
              "      <td>1.424188</td>\n",
              "      <td>1.606925</td>\n",
              "      <td>0.2500</td>\n",
              "      <td>0.75000</td>\n",
              "      <td>0.8750</td>\n",
              "      <td>1.1250</td>\n",
              "      <td>8.6250</td>\n",
              "    </tr>\n",
              "    <tr>\n",
              "      <th>Prospect</th>\n",
              "      <td>3019.0</td>\n",
              "      <td>0.361047</td>\n",
              "      <td>0.480384</td>\n",
              "      <td>0.0000</td>\n",
              "      <td>0.00000</td>\n",
              "      <td>0.0000</td>\n",
              "      <td>1.0000</td>\n",
              "      <td>1.0000</td>\n",
              "    </tr>\n",
              "  </tbody>\n",
              "</table>\n",
              "</div>\n",
              "      <button class=\"colab-df-convert\" onclick=\"convertToInteractive('df-9d2bb0be-7dd7-4f5a-879c-dc1a7cc4db65')\"\n",
              "              title=\"Convert this dataframe to an interactive table.\"\n",
              "              style=\"display:none;\">\n",
              "        \n",
              "  <svg xmlns=\"http://www.w3.org/2000/svg\" height=\"24px\"viewBox=\"0 0 24 24\"\n",
              "       width=\"24px\">\n",
              "    <path d=\"M0 0h24v24H0V0z\" fill=\"none\"/>\n",
              "    <path d=\"M18.56 5.44l.94 2.06.94-2.06 2.06-.94-2.06-.94-.94-2.06-.94 2.06-2.06.94zm-11 1L8.5 8.5l.94-2.06 2.06-.94-2.06-.94L8.5 2.5l-.94 2.06-2.06.94zm10 10l.94 2.06.94-2.06 2.06-.94-2.06-.94-.94-2.06-.94 2.06-2.06.94z\"/><path d=\"M17.41 7.96l-1.37-1.37c-.4-.4-.92-.59-1.43-.59-.52 0-1.04.2-1.43.59L10.3 9.45l-7.72 7.72c-.78.78-.78 2.05 0 2.83L4 21.41c.39.39.9.59 1.41.59.51 0 1.02-.2 1.41-.59l7.78-7.78 2.81-2.81c.8-.78.8-2.07 0-2.86zM5.41 20L4 18.59l7.72-7.72 1.47 1.35L5.41 20z\"/>\n",
              "  </svg>\n",
              "      </button>\n",
              "      \n",
              "  <style>\n",
              "    .colab-df-container {\n",
              "      display:flex;\n",
              "      flex-wrap:wrap;\n",
              "      gap: 12px;\n",
              "    }\n",
              "\n",
              "    .colab-df-convert {\n",
              "      background-color: #E8F0FE;\n",
              "      border: none;\n",
              "      border-radius: 50%;\n",
              "      cursor: pointer;\n",
              "      display: none;\n",
              "      fill: #1967D2;\n",
              "      height: 32px;\n",
              "      padding: 0 0 0 0;\n",
              "      width: 32px;\n",
              "    }\n",
              "\n",
              "    .colab-df-convert:hover {\n",
              "      background-color: #E2EBFA;\n",
              "      box-shadow: 0px 1px 2px rgba(60, 64, 67, 0.3), 0px 1px 3px 1px rgba(60, 64, 67, 0.15);\n",
              "      fill: #174EA6;\n",
              "    }\n",
              "\n",
              "    [theme=dark] .colab-df-convert {\n",
              "      background-color: #3B4455;\n",
              "      fill: #D2E3FC;\n",
              "    }\n",
              "\n",
              "    [theme=dark] .colab-df-convert:hover {\n",
              "      background-color: #434B5C;\n",
              "      box-shadow: 0px 1px 3px 1px rgba(0, 0, 0, 0.15);\n",
              "      filter: drop-shadow(0px 1px 2px rgba(0, 0, 0, 0.3));\n",
              "      fill: #FFFFFF;\n",
              "    }\n",
              "  </style>\n",
              "\n",
              "      <script>\n",
              "        const buttonEl =\n",
              "          document.querySelector('#df-9d2bb0be-7dd7-4f5a-879c-dc1a7cc4db65 button.colab-df-convert');\n",
              "        buttonEl.style.display =\n",
              "          google.colab.kernel.accessAllowed ? 'block' : 'none';\n",
              "\n",
              "        async function convertToInteractive(key) {\n",
              "          const element = document.querySelector('#df-9d2bb0be-7dd7-4f5a-879c-dc1a7cc4db65');\n",
              "          const dataTable =\n",
              "            await google.colab.kernel.invokeFunction('convertToInteractive',\n",
              "                                                     [key], {});\n",
              "          if (!dataTable) return;\n",
              "\n",
              "          const docLinkHtml = 'Like what you see? Visit the ' +\n",
              "            '<a target=\"_blank\" href=https://colab.research.google.com/notebooks/data_table.ipynb>data table notebook</a>'\n",
              "            + ' to learn more about interactive tables.';\n",
              "          element.innerHTML = '';\n",
              "          dataTable['output_type'] = 'display_data';\n",
              "          await google.colab.output.renderOutput(dataTable, element);\n",
              "          const docLink = document.createElement('div');\n",
              "          docLink.innerHTML = docLinkHtml;\n",
              "          element.appendChild(docLink);\n",
              "        }\n",
              "      </script>\n",
              "    </div>\n",
              "  </div>\n",
              "  "
            ]
          },
          "metadata": {},
          "execution_count": 38
        }
      ]
    },
    {
      "cell_type": "markdown",
      "source": [
        "`-` 컬럼별로 문제가 될만한 이상치는 없다"
      ],
      "metadata": {
        "id": "e7zKtHEBPPss"
      }
    },
    {
      "cell_type": "code",
      "source": [
        "sns.countplot(df['Prospect'])"
      ],
      "metadata": {
        "colab": {
          "base_uri": "https://localhost:8080/",
          "height": 304
        },
        "id": "eva2cOqI8WoI",
        "outputId": "1f5172a3-7491-4acd-b389-37bf222e3a40"
      },
      "execution_count": 11,
      "outputs": [
        {
          "output_type": "execute_result",
          "data": {
            "text/plain": [
              "<matplotlib.axes._subplots.AxesSubplot at 0x7fd897f1bfd0>"
            ]
          },
          "metadata": {},
          "execution_count": 11
        },
        {
          "output_type": "display_data",
          "data": {
            "text/plain": [
              "<Figure size 432x288 with 1 Axes>"
            ],
            "image/png": "[encoded data removed]"
          },
          "metadata": {}
        }
      ]
    },
    {
      "cell_type": "markdown",
      "source": [
        "`-` 라벨 불균형이 존재한다\n",
        "\n",
        "`-` 평가산식은 `macro f1`으로 긍정 라벨과 부정 라벨의 중요도가 동일하다\n",
        "\n",
        "`-` 오버샘플링을 통해 샘플의 수를 맞춰주겠다"
      ],
      "metadata": {
        "id": "sOeqzs7sslzg"
      }
    },
    {
      "cell_type": "code",
      "source": [
        "sns.histplot(data=df, x='Age', hue='Prospect')"
      ],
      "metadata": {
        "colab": {
          "base_uri": "https://localhost:8080/",
          "height": 303
        },
        "id": "SqhgEpeofYW9",
        "outputId": "0107aca4-d2e6-4543-d953-bb58908c3b32"
      },
      "execution_count": 12,
      "outputs": [
        {
          "output_type": "execute_result",
          "data": {
            "text/plain": [
              "<matplotlib.axes._subplots.AxesSubplot at 0x7fd884511700>"
            ]
          },
          "metadata": {},
          "execution_count": 12
        },
        {
          "output_type": "display_data",
          "data": {
            "text/plain": [
              "<Figure size 432x288 with 1 Axes>"
            ],
            "image/png": "[encoded data removed]"
          },
          "metadata": {}
        }
      ]
    },
    {
      "cell_type": "markdown",
      "source": [
        "`-` 유망 여부를 분류하는데 가장 중요한 변수"
      ],
      "metadata": {
        "id": "SgmlMRjEECwH"
      }
    },
    {
      "cell_type": "markdown",
      "metadata": {
        "id": "8R8eEwVqa-Yw"
      },
      "source": [
        "## 모델 학습 준비"
      ]
    },
    {
      "cell_type": "code",
      "execution_count": 13,
      "metadata": {
        "id": "n8LBsMPybBJx"
      },
      "outputs": [],
      "source": [
        "import torch\n",
        "import torch.nn as nn\n",
        "import torch.optim as optim\n",
        "import torch.nn.functional as F\n",
        "from torch import Tensor\n",
        "from torch.utils.data import Dataset, DataLoader\n",
        "from torch.optim.lr_scheduler import _LRScheduler\n",
        "from torch.nn.modules.loss import _WeightedLoss\n",
        "from torch.optim import Optimizer\n",
        "\n",
        "import pytorch_lightning as pl\n",
        "from pytorch_lightning.callbacks.early_stopping import EarlyStopping\n",
        "from pytorch_lightning.callbacks import ModelCheckpoint"
      ]
    },
    {
      "cell_type": "code",
      "execution_count": 14,
      "metadata": {
        "id": "Bs1K4etzcwE-"
      },
      "outputs": [],
      "source": [
        "def seed_everything(seed: int) -> None:\n",
        "    random.seed(seed)\n",
        "    os.environ['PYTHONHASHSEED'] = str(seed)\n",
        "    np.random.seed(seed)\n",
        "    torch.manual_seed(seed)\n",
        "    torch.cuda.manual_seed(seed)\n",
        "    torch.backends.cudnn.deterministic = True  \n",
        "    torch.backends.cudnn.benchmark = False  \n",
        "    torch.backends.cudnn.enabled = False"
      ]
    },
    {
      "cell_type": "markdown",
      "source": [
        "- 나이를 기준으로 변수 추가\n",
        "\n",
        "`-` 18살 이하이면 '0', 19살이면 '1', 20살 이상이면 '2'로 인코딩하겠다"
      ],
      "metadata": {
        "id": "Hunsje9JfSP9"
      }
    },
    {
      "cell_type": "code",
      "source": [
        "df['AgeGroup'] = df['Age'].apply(lambda x: '0' if x <= 18 else ('1' if x == 19 else '2'))\n",
        "test['AgeGroup'] = test['Age'].apply(lambda x: '0' if x <= 18 else ('1' if x == 19 else '2'))"
      ],
      "metadata": {
        "id": "-Xjv_an-f_5V"
      },
      "execution_count": 15,
      "outputs": []
    },
    {
      "cell_type": "markdown",
      "source": [
        "- 수치형 변수 스케일링"
      ],
      "metadata": {
        "id": "RK16MQXxIncA"
      }
    },
    {
      "cell_type": "markdown",
      "source": [
        "`-` 컬럼별로 문제가 될만한 이상치는 없다"
      ],
      "metadata": {
        "id": "XJbsrcjYX9Cv"
      }
    },
    {
      "cell_type": "code",
      "source": [
        "minmax_scaler = MinMaxScaler()\n",
        "quality_columns = df.columns[(df.dtypes == np.int) | (df.dtypes == np.float)].drop('Prospect')\n",
        "for col in quality_columns:\n",
        "    df[col] = minmax_scaler.fit_transform(df[[col]])\n",
        "    test[col] = minmax_scaler.transform(test[[col]])"
      ],
      "metadata": {
        "id": "99X3bgHrImAx"
      },
      "execution_count": 16,
      "outputs": []
    },
    {
      "cell_type": "markdown",
      "source": [
        "- 범주형 변수 원핫인코딩"
      ],
      "metadata": {
        "id": "kJ5dIzUNu-PV"
      }
    },
    {
      "cell_type": "code",
      "source": [
        "onehot_encoder = OneHotEncoder(sparse=False)\n",
        "quantity_columns = df.columns[df.dtypes == 'object']\n",
        "for col in quantity_columns:\n",
        "    df = pd.concat([df, pd.DataFrame(onehot_encoder.fit_transform(df[[col]]), columns=onehot_encoder.categories_[0])], axis=1)\n",
        "    test = pd.concat([test, pd.DataFrame(onehot_encoder.transform(test[[col]]), columns=onehot_encoder.categories_[0])], axis=1)\n",
        "\n",
        "df = df.drop(quantity_columns, axis=1)\n",
        "test = test.drop(quantity_columns, axis=1)"
      ],
      "metadata": {
        "id": "w_U-RcKqPDhS"
      },
      "execution_count": 17,
      "outputs": []
    },
    {
      "cell_type": "code",
      "source": [
        "df.shape, test.shape"
      ],
      "metadata": {
        "colab": {
          "base_uri": "https://localhost:8080/"
        },
        "id": "zhgieXP8Xjiv",
        "outputId": "5cb5a5c7-e8b3-484d-e023-40e719dbe1fa"
      },
      "execution_count": 18,
      "outputs": [
        {
          "output_type": "execute_result",
          "data": {
            "text/plain": [
              "((3019, 87), (1626, 86))"
            ]
          },
          "metadata": {},
          "execution_count": 18
        }
      ]
    },
    {
      "cell_type": "markdown",
      "metadata": {
        "id": "VqF9HjyEEelg"
      },
      "source": [
        "- 데이터 셋과 데이터 로더"
      ]
    },
    {
      "cell_type": "code",
      "source": [
        "class CustomDataset(Dataset):\n",
        "    def __init__(\n",
        "        self, \n",
        "        X: NDArray[np.float_],\n",
        "        y: Optional[NDArray[np.int_]] = None\n",
        "    ) -> None:\n",
        "        self.X = X\n",
        "        self.y = y\n",
        "    \n",
        "    def __getitem__(self, idx: int) -> Union[Tuple[Tensor, Tensor, int], Tuple[Tensor, Tensor]]:\n",
        "        X = torch.FloatTensor(self.X[idx])\n",
        "        if self.y is not None:\n",
        "            y = torch.FloatTensor(self.y[idx])  # y shape: (B, 1)\n",
        "            return X, y\n",
        "        return X\n",
        "\n",
        "    def __len__(self) -> int:\n",
        "        return self.X.shape[0]"
      ],
      "metadata": {
        "id": "qrr0GvDNjB_6"
      },
      "execution_count": 19,
      "outputs": []
    },
    {
      "cell_type": "markdown",
      "source": [
        "- 모델 선언"
      ],
      "metadata": {
        "id": "b5UyMaQDpCik"
      }
    },
    {
      "cell_type": "code",
      "source": [
        "def get_block(in_features, out_features, drop_prob=0.3):\n",
        "    return nn.Sequential(\n",
        "            nn.Linear(in_features, out_features),\n",
        "            nn.BatchNorm1d(out_features),\n",
        "            nn.Mish(),\n",
        "            nn.Dropout(p=drop_prob)\n",
        "        )\n",
        "        \n",
        "\n",
        "def init_weights(model):\n",
        "    classname = model.__class__.__name__\n",
        "    if classname.find('Linear') != -1:\n",
        "        y = model.in_features\n",
        "        model.weight.data.normal_(0.0, np.sqrt(1 / y))\n",
        "        model.bias.data.fill_(0)\n",
        "    elif classname.find('BatchNorm') != -1:\n",
        "        model.weight.data.normal_(1.0, 0.02)\n",
        "        model.bias.data.fill_(0)"
      ],
      "metadata": {
        "id": "zv1CijoOEWBO"
      },
      "execution_count": 20,
      "outputs": []
    },
    {
      "cell_type": "code",
      "source": [
        "class Net(nn.Module):\n",
        "    def __init__(self, num_classes):\n",
        "        super(Net, self).__init__()\n",
        "        self.in_features_list = [86, 128, 256, 128]\n",
        "        self.out_features_list = [128, 256, 128, 32]\n",
        "        self.net = nn.Sequential(\n",
        "            *[get_block(in_features, out_features) \n",
        "            for in_features, out_features in zip(self.in_features_list, self.out_features_list)]\n",
        "        )\n",
        "        self.classifier = nn.Linear(self.out_features_list[-1], num_classes)  \n",
        "\n",
        "    def forward(self, x):\n",
        "        x = self.net(x)\n",
        "        x = self.classifier(x)\n",
        "        return x "
      ],
      "metadata": {
        "id": "4HOb2rFctyfP"
      },
      "execution_count": 21,
      "outputs": []
    },
    {
      "cell_type": "code",
      "source": [
        "class LightningNet(pl.LightningModule):\n",
        "    def __init__(self, **kwargs):\n",
        "        super(LightningNet, self).__init__()\n",
        "        self.save_hyperparameters(logger=False)  \n",
        "        self.model = Net(self.hparams.num_classes).apply(init_weights)\n",
        "        self.label_smoothing = self.hparams.label_smoothing\n",
        "        self.dropout = nn.Dropout(p=0.5)               # monte carlo dropout\n",
        "        self.mc_iteration = self.hparams.mc_iteration  # monte carlo dropout\n",
        "\n",
        "    def forward(self, x):\n",
        "        x = self.model(x)\n",
        "        return x\n",
        "\n",
        "    def step(self, batch, batch_idx):\n",
        "        x, y = batch\n",
        "        smooth_y = y * (1.0 - self.hparams.label_smoothing) + 0.5*self.hparams.label_smoothing  # label smoothing\n",
        "        y_hat = self(x)\n",
        "        loss = F.binary_cross_entropy_with_logits(y_hat, smooth_y)\n",
        "        return {'loss':loss, 'y':y, 'y_hat':y_hat}\n",
        "\n",
        "    def training_step(self, batch, batch_idx):\n",
        "        return self.step(batch, batch_idx)\n",
        "\n",
        "    def training_epoch_end(self, outputs):\n",
        "        avg_loss = torch.stack([x['loss'] for x in outputs]).mean()\n",
        "        print(f'Epoch {self.current_epoch} | Train Loss: {avg_loss:.4f}', end='  ')\n",
        "\n",
        "    def validation_step(self, batch, batch_idx):\n",
        "        return self.step(batch, batch_idx)\n",
        "\n",
        "    def validation_epoch_end(self, outputs):\n",
        "        y = torch.cat([x['y'] for x in outputs]).detach().cpu().numpy()\n",
        "        y_hat = torch.cat([F.sigmoid(x['y_hat']) for x in outputs]).detach().cpu().numpy()\n",
        "        y_hat = np.where(y_hat > 0.5, 1, 0)\n",
        "\n",
        "        acc = accuracy_score(y, y_hat)\n",
        "        f1 = f1_score(y, y_hat, average='macro')\n",
        "        avg_loss = torch.stack([x['loss'] for x in outputs]).mean()\n",
        "\n",
        "        self.log_dict({'val_f1':f1}, logger=False)\n",
        "        print(f'Val Loss: {avg_loss:.4f}  Val Acc: {acc:.4f}  Val F1: {f1:.4f}')\n",
        " \n",
        "    def predict_step(self, batch, batch_idx, dataloader_idx=0):\n",
        "        x = batch\n",
        "\n",
        "        # enable Monte Carlo Dropout\n",
        "        self.dropout.train()\n",
        "\n",
        "        # take average of `self.mc_iteration` iterations\n",
        "        pred = [self.dropout(self.model(x)) for _ in range(self.mc_iteration)]\n",
        "        pred = F.sigmoid(torch.stack(pred).mean(dim=0)).cpu().numpy()  \n",
        "        return pred\n",
        "\n",
        "    def configure_optimizers(self):\n",
        "        optimizer = optim.Adam(self.parameters(), lr=args.lr)\n",
        "        scheduler = optim.lr_scheduler.ExponentialLR(optimizer, gamma=0.95)\n",
        "        return [optimizer], [scheduler]"
      ],
      "metadata": {
        "id": "c6AqdqiapEML"
      },
      "execution_count": 22,
      "outputs": []
    },
    {
      "cell_type": "code",
      "source": [
        "class DataModule(pl.LightningDataModule):\n",
        "    def __init__(self, X, y, X_predict, **kwargs):\n",
        "        super(DataModule, self).__init__()\n",
        "        self.save_hyperparameters(logger=False)  \n",
        "        self.X = X\n",
        "        self.y = y\n",
        "        self.X_predict = X_predict\n",
        "\n",
        "    def setup(self, stage):\n",
        "        if stage == 'fit':\n",
        "            skfold = StratifiedKFold(n_splits=self.hparams.num_folds, shuffle=True, random_state=self.hparams.seed)\n",
        "            idx_splits = [[train_idx, val_idx] for train_idx, val_idx in skfold.split(self.X, self.y)]\n",
        "            train_idx, val_idx = idx_splits[self.hparams.current_fold]\n",
        "            \n",
        "            X_train, y_train, X_val, y_val = self.X[train_idx], self.y[train_idx], self.X[val_idx], self.y[val_idx]\n",
        "            X_train, y_train = SMOTE(random_state=self.hparams.seed).fit_resample(X_train, y_train)  # over-sampling  \n",
        "            y_train, y_val = y_train.reshape(-1, 1), y_val.reshape(-1, 1)\n",
        "\n",
        "            self.train_dataset = CustomDataset(X_train, y_train) \n",
        "            self.val_dataset = CustomDataset(X_val, y_val) \n",
        "        elif stage == 'predict':\n",
        "            self.predict_dataset = CustomDataset(self.X_predict)\n",
        "\n",
        "    def train_dataloader(self):\n",
        "        return DataLoader(self.train_dataset, batch_size=self.hparams.bs, shuffle=True)\n",
        "\n",
        "    def val_dataloader(self):\n",
        "        return DataLoader(self.val_dataset, batch_size=self.hparams.bs, shuffle=False)\n",
        "\n",
        "    def predict_dataloader(self):\n",
        "        return DataLoader(self.predict_dataset, batch_size=self.hparams.bs, shuffle=False)"
      ],
      "metadata": {
        "id": "oOz-tIsu4QwS"
      },
      "execution_count": 23,
      "outputs": []
    },
    {
      "cell_type": "markdown",
      "metadata": {
        "id": "3lq9uwAwJbZI"
      },
      "source": [
        "## 모델 교차검증 및 예측"
      ]
    },
    {
      "cell_type": "markdown",
      "metadata": {
        "id": "s0OMjmQ_t12g"
      },
      "source": [
        "- 모델 k-fold 교차검증"
      ]
    },
    {
      "cell_type": "code",
      "source": [
        "y = df.pop('Prospect').values\n",
        "X = df.to_numpy()\n",
        "X_predict = test.to_numpy()"
      ],
      "metadata": {
        "id": "b49ifFXF7QlD"
      },
      "execution_count": 24,
      "outputs": []
    },
    {
      "cell_type": "code",
      "source": [
        "preds = np.zeros(shape=(X_predict.shape[0], args.num_classes))\n",
        "for fold in tqdm(range(args.num_folds)):\n",
        "    print(f'\\n[{fold + 1} / {args.num_folds}] Fold Training......', end='\\n'*2)\n",
        "    seed_everything(args.seed)\n",
        "    model = LightningNet(**args)\n",
        "    datamodule = DataModule(X, y, X_predict, current_fold=fold, **args)\n",
        "\n",
        "    checkpoint_callback = ModelCheckpoint(dirpath=args.weight_path,\n",
        "                                          filename=str(fold+1) + 'fold-{epoch}-{val_f1:.2f}',\n",
        "                                          monitor='val_f1',\n",
        "                                          mode='max',\n",
        "                                          save_weights_only=True)\n",
        "\n",
        "    early_stopping = EarlyStopping(monitor='val_f1', \n",
        "                                   patience=10,\n",
        "                                   verbose=False,\n",
        "                                   mode='max')\n",
        "\n",
        "    trainer = pl.Trainer(accelerator='gpu', \n",
        "                         devices=1, \n",
        "                         gradient_clip_val=args.gradient_clip_val, \n",
        "                         logger=False,\n",
        "                         enable_progress_bar=False, \n",
        "                         max_epochs=args.num_epochs,\n",
        "                         callbacks=[checkpoint_callback, early_stopping])\n",
        "\n",
        "    trainer.fit(model, datamodule=datamodule)\n",
        "    pred = trainer.predict(model, datamodule=datamodule, ckpt_path=checkpoint_callback.best_model_path)\n",
        "    preds += (np.concatenate(pred) / args.num_folds)"
      ],
      "metadata": {
        "id": "Vo2CbdrTuyda",
        "colab": {
          "base_uri": "https://localhost:8080/",
          "height": 1000,
          "referenced_widgets": [
            "5c28e9321f8b49fe85376cc0bdd8bdc4",
            "f0ab0880d3e64d1d8516a1b11b9965fc",
            "585c18c4778b47fbb5eab04422fe2bb5",
            "da23ce7f97e04c96aa398b2749279759",
            "b9c342dd21c44c0c891cc1bbe60532be",
            "ac8cd36e252e409fb98eeef0a55506d8",
            "7d0526e7e3504694b16f6d120bd852d2",
            "4e9e9a06a19442a0888a0092a1e911e5",
            "7ea1c6ff42ba46808bb848ce64076830",
            "9ce8877dc8144c4e923007e372420764",
            "ebb72ee64c0c41019bc3e6a203bbd7fd"
          ]
        },
        "outputId": "5a9664c5-0f97-4133-ac4f-60202b23c6ba"
      },
      "execution_count": 25,
      "outputs": [
        {
          "output_type": "display_data",
          "data": {
            "text/plain": [
              "  0%|          | 0/5 [00:00<?, ?it/s]"
            ],
            "application/vnd.jupyter.widget-view+json": {
              "version_major": 2,
              "version_minor": 0,
              "model_id": "5c28e9321f8b49fe85376cc0bdd8bdc4"
            }
          },
          "metadata": {}
        },
        {
          "output_type": "stream",
          "name": "stdout",
          "text": [
            "\n",
            "[1 / 5] Fold Training......\n",
            "\n"
          ]
        },
        {
          "output_type": "stream",
          "name": "stderr",
          "text": [
            "INFO:pytorch_lightning.utilities.rank_zero:GPU available: True (cuda), used: True\n",
            "INFO:pytorch_lightning.utilities.rank_zero:TPU available: False, using: 0 TPU cores\n",
            "INFO:pytorch_lightning.utilities.rank_zero:IPU available: False, using: 0 IPUs\n",
            "INFO:pytorch_lightning.utilities.rank_zero:HPU available: False, using: 0 HPUs\n",
            "INFO:pytorch_lightning.accelerators.cuda:LOCAL_RANK: 0 - CUDA_VISIBLE_DEVICES: [0]\n",
            "INFO:pytorch_lightning.callbacks.model_summary:\n",
            "  | Name    | Type    | Params\n",
            "------------------------------------\n",
            "0 | model   | Net     | 82.3 K\n",
            "1 | dropout | Dropout | 0     \n",
            "------------------------------------\n",
            "82.3 K    Trainable params\n",
            "0         Non-trainable params\n",
            "82.3 K    Total params\n",
            "0.329     Total estimated model params size (MB)\n"
          ]
        },
        {
          "output_type": "stream",
          "name": "stdout",
          "text": [
            "Val Loss: 0.6920  Val Acc: 0.4609  Val F1: 0.4318\n",
            "Val Loss: 0.5041  Val Acc: 0.7848  Val F1: 0.7589\n",
            "Epoch 0 | Train Loss: 0.5816  Val Loss: 0.5132  Val Acc: 0.7798  Val F1: 0.7655\n",
            "Epoch 1 | Train Loss: 0.5462  Val Loss: 0.5019  Val Acc: 0.7881  Val F1: 0.7729\n",
            "Epoch 2 | Train Loss: 0.5320  Val Loss: 0.4956  Val Acc: 0.7947  Val F1: 0.7784\n",
            "Epoch 3 | Train Loss: 0.5160  Val Loss: 0.4893  Val Acc: 0.7914  Val F1: 0.7761\n",
            "Epoch 4 | Train Loss: 0.5175  Val Loss: 0.5079  Val Acc: 0.7781  Val F1: 0.7659\n",
            "Epoch 5 | Train Loss: 0.5107  Val Loss: 0.4958  Val Acc: 0.7848  Val F1: 0.7685\n",
            "Epoch 6 | Train Loss: 0.5025  Val Loss: 0.5070  Val Acc: 0.7765  Val F1: 0.7628\n",
            "Epoch 7 | Train Loss: 0.4935  Val Loss: 0.5108  Val Acc: 0.7765  Val F1: 0.7655\n",
            "Epoch 8 | Train Loss: 0.4921  Val Loss: 0.5347  Val Acc: 0.7732  Val F1: 0.7646\n",
            "Epoch 9 | Train Loss: 0.4885  Val Loss: 0.5159  Val Acc: 0.7765  Val F1: 0.7665\n",
            "Epoch 10 | Train Loss: 0.4909  Val Loss: 0.4904  Val Acc: 0.7864  Val F1: 0.7709\n",
            "Epoch 11 | Train Loss: 0.4973  Val Loss: 0.5262  Val Acc: 0.7748  Val F1: 0.7665\n",
            "Epoch 12 | Train Loss: 0.4880  "
          ]
        },
        {
          "output_type": "stream",
          "name": "stderr",
          "text": [
            "INFO:pytorch_lightning.utilities.rank_zero:Restoring states from the checkpoint path at /content/drive/MyDrive/Colab Notebooks/축구선수-유망여부-분류/weights/1fold-epoch=3-val_f1=0.78.ckpt\n",
            "INFO:pytorch_lightning.accelerators.cuda:LOCAL_RANK: 0 - CUDA_VISIBLE_DEVICES: [0]\n",
            "INFO:pytorch_lightning.utilities.rank_zero:Loaded model weights from checkpoint at /content/drive/MyDrive/Colab Notebooks/축구선수-유망여부-분류/weights/1fold-epoch=3-val_f1=0.78.ckpt\n"
          ]
        },
        {
          "output_type": "stream",
          "name": "stdout",
          "text": [
            "Val Loss: 0.4981  Val Acc: 0.7831  Val F1: 0.7702\n",
            "Epoch 13 | Train Loss: 0.4796  "
          ]
        },
        {
          "output_type": "stream",
          "name": "stderr",
          "text": [
            "INFO:pytorch_lightning.utilities.rank_zero:GPU available: True (cuda), used: True\n",
            "INFO:pytorch_lightning.utilities.rank_zero:TPU available: False, using: 0 TPU cores\n",
            "INFO:pytorch_lightning.utilities.rank_zero:IPU available: False, using: 0 IPUs\n",
            "INFO:pytorch_lightning.utilities.rank_zero:HPU available: False, using: 0 HPUs\n",
            "INFO:pytorch_lightning.accelerators.cuda:LOCAL_RANK: 0 - CUDA_VISIBLE_DEVICES: [0]\n",
            "INFO:pytorch_lightning.callbacks.model_summary:\n",
            "  | Name    | Type    | Params\n",
            "------------------------------------\n",
            "0 | model   | Net     | 82.3 K\n",
            "1 | dropout | Dropout | 0     \n",
            "------------------------------------\n",
            "82.3 K    Trainable params\n",
            "0         Non-trainable params\n",
            "82.3 K    Total params\n",
            "0.329     Total estimated model params size (MB)\n"
          ]
        },
        {
          "output_type": "stream",
          "name": "stdout",
          "text": [
            "\n",
            "[2 / 5] Fold Training......\n",
            "\n",
            "Val Loss: 0.6937  Val Acc: 0.4531  Val F1: 0.4394\n",
            "Val Loss: 0.5355  Val Acc: 0.7781  Val F1: 0.7614\n",
            "Epoch 0 | Train Loss: 0.5612  Val Loss: 0.5656  Val Acc: 0.7748  Val F1: 0.7621\n",
            "Epoch 1 | Train Loss: 0.5205  Val Loss: 0.5330  Val Acc: 0.7798  Val F1: 0.7647\n",
            "Epoch 2 | Train Loss: 0.5059  Val Loss: 0.5582  Val Acc: 0.7765  Val F1: 0.7640\n",
            "Epoch 3 | Train Loss: 0.4962  Val Loss: 0.5387  Val Acc: 0.7765  Val F1: 0.7603\n",
            "Epoch 4 | Train Loss: 0.4975  Val Loss: 0.5564  Val Acc: 0.7715  Val F1: 0.7589\n",
            "Epoch 5 | Train Loss: 0.4943  Val Loss: 0.5818  Val Acc: 0.7616  Val F1: 0.7514\n",
            "Epoch 6 | Train Loss: 0.4890  Val Loss: 0.5463  Val Acc: 0.7715  Val F1: 0.7538\n",
            "Epoch 7 | Train Loss: 0.4858  Val Loss: 0.5607  Val Acc: 0.7616  Val F1: 0.7476\n",
            "Epoch 8 | Train Loss: 0.4761  Val Loss: 0.5816  Val Acc: 0.7517  Val F1: 0.7431\n",
            "Epoch 9 | Train Loss: 0.4710  Val Loss: 0.5549  Val Acc: 0.7765  Val F1: 0.7616\n",
            "Epoch 10 | Train Loss: 0.4718  Val Loss: 0.5605  Val Acc: 0.7500  Val F1: 0.7388\n",
            "Epoch 11 | Train Loss: 0.4724  "
          ]
        },
        {
          "output_type": "stream",
          "name": "stderr",
          "text": [
            "INFO:pytorch_lightning.utilities.rank_zero:Restoring states from the checkpoint path at /content/drive/MyDrive/Colab Notebooks/축구선수-유망여부-분류/weights/2fold-epoch=2-val_f1=0.76.ckpt\n",
            "INFO:pytorch_lightning.accelerators.cuda:LOCAL_RANK: 0 - CUDA_VISIBLE_DEVICES: [0]\n",
            "INFO:pytorch_lightning.utilities.rank_zero:Loaded model weights from checkpoint at /content/drive/MyDrive/Colab Notebooks/축구선수-유망여부-분류/weights/2fold-epoch=2-val_f1=0.76.ckpt\n"
          ]
        },
        {
          "output_type": "stream",
          "name": "stdout",
          "text": [
            "Val Loss: 0.5531  Val Acc: 0.7666  Val F1: 0.7510\n",
            "Epoch 12 | Train Loss: 0.4660  "
          ]
        },
        {
          "output_type": "stream",
          "name": "stderr",
          "text": [
            "INFO:pytorch_lightning.utilities.rank_zero:GPU available: True (cuda), used: True\n",
            "INFO:pytorch_lightning.utilities.rank_zero:TPU available: False, using: 0 TPU cores\n",
            "INFO:pytorch_lightning.utilities.rank_zero:IPU available: False, using: 0 IPUs\n",
            "INFO:pytorch_lightning.utilities.rank_zero:HPU available: False, using: 0 HPUs\n",
            "INFO:pytorch_lightning.accelerators.cuda:LOCAL_RANK: 0 - CUDA_VISIBLE_DEVICES: [0]\n",
            "INFO:pytorch_lightning.callbacks.model_summary:\n",
            "  | Name    | Type    | Params\n",
            "------------------------------------\n",
            "0 | model   | Net     | 82.3 K\n",
            "1 | dropout | Dropout | 0     \n",
            "------------------------------------\n",
            "82.3 K    Trainable params\n",
            "0         Non-trainable params\n",
            "82.3 K    Total params\n",
            "0.329     Total estimated model params size (MB)\n"
          ]
        },
        {
          "output_type": "stream",
          "name": "stdout",
          "text": [
            "\n",
            "[3 / 5] Fold Training......\n",
            "\n",
            "Val Loss: 0.6938  Val Acc: 0.4375  Val F1: 0.4170\n",
            "Val Loss: 0.5370  Val Acc: 0.7483  Val F1: 0.7299\n",
            "Epoch 0 | Train Loss: 0.5712  Val Loss: 0.5393  Val Acc: 0.7500  Val F1: 0.7333\n",
            "Epoch 1 | Train Loss: 0.5274  Val Loss: 0.5511  Val Acc: 0.7517  Val F1: 0.7367\n",
            "Epoch 2 | Train Loss: 0.5158  Val Loss: 0.5358  Val Acc: 0.7483  Val F1: 0.7299\n",
            "Epoch 3 | Train Loss: 0.5123  Val Loss: 0.5396  Val Acc: 0.7517  Val F1: 0.7371\n",
            "Epoch 4 | Train Loss: 0.5120  Val Loss: 0.5488  Val Acc: 0.7533  Val F1: 0.7391\n",
            "Epoch 5 | Train Loss: 0.5004  Val Loss: 0.5442  Val Acc: 0.7434  Val F1: 0.7290\n",
            "Epoch 6 | Train Loss: 0.4932  Val Loss: 0.5264  Val Acc: 0.7483  Val F1: 0.7323\n",
            "Epoch 7 | Train Loss: 0.4948  Val Loss: 0.5351  Val Acc: 0.7368  Val F1: 0.7220\n",
            "Epoch 8 | Train Loss: 0.4921  Val Loss: 0.5561  Val Acc: 0.7235  Val F1: 0.7131\n",
            "Epoch 9 | Train Loss: 0.4842  Val Loss: 0.5368  Val Acc: 0.7434  Val F1: 0.7319\n",
            "Epoch 10 | Train Loss: 0.4835  Val Loss: 0.5352  Val Acc: 0.7401  Val F1: 0.7260\n",
            "Epoch 11 | Train Loss: 0.4781  Val Loss: 0.5351  Val Acc: 0.7500  Val F1: 0.7395\n",
            "Epoch 12 | Train Loss: 0.4793  Val Loss: 0.5632  Val Acc: 0.7351  Val F1: 0.7253\n",
            "Epoch 13 | Train Loss: 0.4767  Val Loss: 0.5571  Val Acc: 0.7351  Val F1: 0.7257\n",
            "Epoch 14 | Train Loss: 0.4708  Val Loss: 0.5430  Val Acc: 0.7417  Val F1: 0.7318\n",
            "Epoch 15 | Train Loss: 0.4695  Val Loss: 0.5490  Val Acc: 0.7434  Val F1: 0.7341\n",
            "Epoch 16 | Train Loss: 0.4742  Val Loss: 0.5316  Val Acc: 0.7384  Val F1: 0.7261\n",
            "Epoch 17 | Train Loss: 0.4673  Val Loss: 0.5336  Val Acc: 0.7351  Val F1: 0.7187\n",
            "Epoch 18 | Train Loss: 0.4657  Val Loss: 0.5564  Val Acc: 0.7401  Val F1: 0.7292\n",
            "Epoch 19 | Train Loss: 0.4629  Val Loss: 0.5627  Val Acc: 0.7384  Val F1: 0.7304\n",
            "Epoch 20 | Train Loss: 0.4706  Val Loss: 0.5536  Val Acc: 0.7219  Val F1: 0.7119\n",
            "Epoch 21 | Train Loss: 0.4649  "
          ]
        },
        {
          "output_type": "stream",
          "name": "stderr",
          "text": [
            "INFO:pytorch_lightning.utilities.rank_zero:Restoring states from the checkpoint path at /content/drive/MyDrive/Colab Notebooks/축구선수-유망여부-분류/weights/3fold-epoch=12-val_f1=0.74.ckpt\n",
            "INFO:pytorch_lightning.accelerators.cuda:LOCAL_RANK: 0 - CUDA_VISIBLE_DEVICES: [0]\n",
            "INFO:pytorch_lightning.utilities.rank_zero:Loaded model weights from checkpoint at /content/drive/MyDrive/Colab Notebooks/축구선수-유망여부-분류/weights/3fold-epoch=12-val_f1=0.74.ckpt\n"
          ]
        },
        {
          "output_type": "stream",
          "name": "stdout",
          "text": [
            "Val Loss: 0.5402  Val Acc: 0.7318  Val F1: 0.7188\n",
            "Epoch 22 | Train Loss: 0.4644  "
          ]
        },
        {
          "output_type": "stream",
          "name": "stderr",
          "text": [
            "INFO:pytorch_lightning.utilities.rank_zero:GPU available: True (cuda), used: True\n",
            "INFO:pytorch_lightning.utilities.rank_zero:TPU available: False, using: 0 TPU cores\n",
            "INFO:pytorch_lightning.utilities.rank_zero:IPU available: False, using: 0 IPUs\n",
            "INFO:pytorch_lightning.utilities.rank_zero:HPU available: False, using: 0 HPUs\n",
            "INFO:pytorch_lightning.accelerators.cuda:LOCAL_RANK: 0 - CUDA_VISIBLE_DEVICES: [0]\n",
            "INFO:pytorch_lightning.callbacks.model_summary:\n",
            "  | Name    | Type    | Params\n",
            "------------------------------------\n",
            "0 | model   | Net     | 82.3 K\n",
            "1 | dropout | Dropout | 0     \n",
            "------------------------------------\n",
            "82.3 K    Trainable params\n",
            "0         Non-trainable params\n",
            "82.3 K    Total params\n",
            "0.329     Total estimated model params size (MB)\n"
          ]
        },
        {
          "output_type": "stream",
          "name": "stdout",
          "text": [
            "\n",
            "[4 / 5] Fold Training......\n",
            "\n",
            "Val Loss: 0.6953  Val Acc: 0.4062  Val F1: 0.3846\n",
            "Val Loss: 0.4590  Val Acc: 0.8046  Val F1: 0.7907\n",
            "Epoch 0 | Train Loss: 0.5892  Val Loss: 0.4749  Val Acc: 0.8013  Val F1: 0.7867\n",
            "Epoch 1 | Train Loss: 0.5384  Val Loss: 0.4648  Val Acc: 0.8030  Val F1: 0.7875\n",
            "Epoch 2 | Train Loss: 0.5264  Val Loss: 0.4931  Val Acc: 0.7964  Val F1: 0.7863\n",
            "Epoch 3 | Train Loss: 0.5118  Val Loss: 0.4828  Val Acc: 0.8013  Val F1: 0.7900\n",
            "Epoch 4 | Train Loss: 0.5079  Val Loss: 0.4871  Val Acc: 0.7930  Val F1: 0.7832\n",
            "Epoch 5 | Train Loss: 0.5195  Val Loss: 0.4724  Val Acc: 0.7980  Val F1: 0.7847\n",
            "Epoch 6 | Train Loss: 0.5019  Val Loss: 0.4838  Val Acc: 0.8030  Val F1: 0.7916\n",
            "Epoch 7 | Train Loss: 0.5132  Val Loss: 0.4715  Val Acc: 0.8013  Val F1: 0.7879\n",
            "Epoch 8 | Train Loss: 0.5014  Val Loss: 0.4744  Val Acc: 0.7980  Val F1: 0.7844\n",
            "Epoch 9 | Train Loss: 0.4971  Val Loss: 0.4804  Val Acc: 0.7930  Val F1: 0.7822\n",
            "Epoch 10 | Train Loss: 0.4851  Val Loss: 0.4785  Val Acc: 0.8013  Val F1: 0.7897\n",
            "Epoch 11 | Train Loss: 0.4924  Val Loss: 0.4817  Val Acc: 0.7980  Val F1: 0.7847\n",
            "Epoch 12 | Train Loss: 0.4840  Val Loss: 0.4719  Val Acc: 0.7964  Val F1: 0.7808\n",
            "Epoch 13 | Train Loss: 0.4835  Val Loss: 0.4727  Val Acc: 0.7881  Val F1: 0.7721\n",
            "Epoch 14 | Train Loss: 0.4834  Val Loss: 0.4848  Val Acc: 0.7930  Val F1: 0.7822\n",
            "Epoch 15 | Train Loss: 0.4831  Val Loss: 0.4822  Val Acc: 0.7914  Val F1: 0.7806\n",
            "Epoch 16 | Train Loss: 0.4789  "
          ]
        },
        {
          "output_type": "stream",
          "name": "stderr",
          "text": [
            "INFO:pytorch_lightning.utilities.rank_zero:Restoring states from the checkpoint path at /content/drive/MyDrive/Colab Notebooks/축구선수-유망여부-분류/weights/4fold-epoch=7-val_f1=0.79.ckpt\n",
            "INFO:pytorch_lightning.accelerators.cuda:LOCAL_RANK: 0 - CUDA_VISIBLE_DEVICES: [0]\n",
            "INFO:pytorch_lightning.utilities.rank_zero:Loaded model weights from checkpoint at /content/drive/MyDrive/Colab Notebooks/축구선수-유망여부-분류/weights/4fold-epoch=7-val_f1=0.79.ckpt\n"
          ]
        },
        {
          "output_type": "stream",
          "name": "stdout",
          "text": [
            "Val Loss: 0.4999  Val Acc: 0.7666  Val F1: 0.7584\n",
            "Epoch 17 | Train Loss: 0.4706  "
          ]
        },
        {
          "output_type": "stream",
          "name": "stderr",
          "text": [
            "INFO:pytorch_lightning.utilities.rank_zero:GPU available: True (cuda), used: True\n",
            "INFO:pytorch_lightning.utilities.rank_zero:TPU available: False, using: 0 TPU cores\n",
            "INFO:pytorch_lightning.utilities.rank_zero:IPU available: False, using: 0 IPUs\n",
            "INFO:pytorch_lightning.utilities.rank_zero:HPU available: False, using: 0 HPUs\n",
            "INFO:pytorch_lightning.accelerators.cuda:LOCAL_RANK: 0 - CUDA_VISIBLE_DEVICES: [0]\n",
            "INFO:pytorch_lightning.callbacks.model_summary:\n",
            "  | Name    | Type    | Params\n",
            "------------------------------------\n",
            "0 | model   | Net     | 82.3 K\n",
            "1 | dropout | Dropout | 0     \n",
            "------------------------------------\n",
            "82.3 K    Trainable params\n",
            "0         Non-trainable params\n",
            "82.3 K    Total params\n",
            "0.329     Total estimated model params size (MB)\n"
          ]
        },
        {
          "output_type": "stream",
          "name": "stdout",
          "text": [
            "\n",
            "[5 / 5] Fold Training......\n",
            "\n",
            "Val Loss: 0.6922  Val Acc: 0.4766  Val F1: 0.4591\n",
            "Val Loss: 0.4977  Val Acc: 0.7761  Val F1: 0.7568\n",
            "Epoch 0 | Train Loss: 0.5780  Val Loss: 0.5033  Val Acc: 0.7761  Val F1: 0.7614\n",
            "Epoch 1 | Train Loss: 0.5318  Val Loss: 0.4964  Val Acc: 0.7811  Val F1: 0.7656\n",
            "Epoch 2 | Train Loss: 0.5256  Val Loss: 0.4932  Val Acc: 0.7778  Val F1: 0.7616\n",
            "Epoch 3 | Train Loss: 0.5152  Val Loss: 0.4998  Val Acc: 0.7728  Val F1: 0.7587\n",
            "Epoch 4 | Train Loss: 0.5164  Val Loss: 0.5262  Val Acc: 0.7711  Val F1: 0.7609\n",
            "Epoch 5 | Train Loss: 0.5062  Val Loss: 0.5038  Val Acc: 0.7811  Val F1: 0.7684\n",
            "Epoch 6 | Train Loss: 0.4983  Val Loss: 0.5236  Val Acc: 0.7479  Val F1: 0.7400\n",
            "Epoch 7 | Train Loss: 0.4946  Val Loss: 0.4993  Val Acc: 0.7745  Val F1: 0.7610\n",
            "Epoch 8 | Train Loss: 0.4986  Val Loss: 0.5079  Val Acc: 0.7629  Val F1: 0.7505\n",
            "Epoch 9 | Train Loss: 0.4941  Val Loss: 0.5128  Val Acc: 0.7562  Val F1: 0.7475\n",
            "Epoch 10 | Train Loss: 0.4898  Val Loss: 0.5138  Val Acc: 0.7579  Val F1: 0.7491\n",
            "Epoch 11 | Train Loss: 0.4844  Val Loss: 0.4858  Val Acc: 0.7778  Val F1: 0.7641\n",
            "Epoch 12 | Train Loss: 0.4945  Val Loss: 0.4943  Val Acc: 0.7778  Val F1: 0.7657\n",
            "Epoch 13 | Train Loss: 0.4834  Val Loss: 0.5295  Val Acc: 0.7430  Val F1: 0.7374\n",
            "Epoch 14 | Train Loss: 0.4820  Val Loss: 0.5078  Val Acc: 0.7629  Val F1: 0.7534\n",
            "Epoch 15 | Train Loss: 0.4771  "
          ]
        },
        {
          "output_type": "stream",
          "name": "stderr",
          "text": [
            "INFO:pytorch_lightning.utilities.rank_zero:Restoring states from the checkpoint path at /content/drive/MyDrive/Colab Notebooks/축구선수-유망여부-분류/weights/5fold-epoch=6-val_f1=0.77.ckpt\n",
            "INFO:pytorch_lightning.accelerators.cuda:LOCAL_RANK: 0 - CUDA_VISIBLE_DEVICES: [0]\n",
            "INFO:pytorch_lightning.utilities.rank_zero:Loaded model weights from checkpoint at /content/drive/MyDrive/Colab Notebooks/축구선수-유망여부-분류/weights/5fold-epoch=6-val_f1=0.77.ckpt\n"
          ]
        },
        {
          "output_type": "stream",
          "name": "stdout",
          "text": [
            "Val Loss: 0.5246  Val Acc: 0.7413  Val F1: 0.7350\n",
            "Epoch 16 | Train Loss: 0.4677  "
          ]
        }
      ]
    },
    {
      "cell_type": "markdown",
      "metadata": {
        "id": "2F1rlPmIPpvL"
      },
      "source": [
        "- test 예측"
      ]
    },
    {
      "cell_type": "code",
      "source": [
        "submission['Prospect'] = np.where(preds > 0.5, 1, 0)\n",
        "submission.to_csv('./data/submission-6.csv', index=False)"
      ],
      "metadata": {
        "id": "77UJLCzpgN2Z"
      },
      "execution_count": 30,
      "outputs": []
    },
    {
      "cell_type": "code",
      "source": [
        "sns.countplot(submission['Prospect'])"
      ],
      "metadata": {
        "colab": {
          "base_uri": "https://localhost:8080/",
          "height": 303
        },
        "id": "6BXj682Vgg1x",
        "outputId": "a1d36a7b-5983-44b7-cfb7-3f8414eba8d1"
      },
      "execution_count": 31,
      "outputs": [
        {
          "output_type": "execute_result",
          "data": {
            "text/plain": [
              "<matplotlib.axes._subplots.AxesSubplot at 0x7fd8125dcca0>"
            ]
          },
          "metadata": {},
          "execution_count": 31
        },
        {
          "output_type": "display_data",
          "data": {
            "text/plain": [
              "<Figure size 432x288 with 1 Axes>"
            ],
            "image/png": "[encoded data removed]"
          },
          "metadata": {}
        }
      ]
    },
    {
      "cell_type": "code",
      "source": [],
      "metadata": {
        "id": "sSbjnYMgkQue"
      },
      "execution_count": null,
      "outputs": []
    }
  ],
  "metadata": {
    "colab": {
      "provenance": [],
      "toc_visible": true,
      "include_colab_link": true
    },
    "gpuClass": "standard",
    "kernelspec": {
      "display_name": "Python 3 (ipykernel)",
      "language": "python",
      "name": "python3"
    },
    "language_info": {
      "codemirror_mode": {
        "name": "ipython",
        "version": 3
      },
      "file_extension": ".py",
      "mimetype": "text/x-python",
      "name": "python",
      "nbconvert_exporter": "python",
      "pygments_lexer": "ipython3",
      "version": "3.8.11"
    },
    "accelerator": "GPU",
    "widgets": {
      "application/vnd.jupyter.widget-state+json": {
        "5c28e9321f8b49fe85376cc0bdd8bdc4": {
          "model_module": "@jupyter-widgets/controls",
          "model_name": "HBoxModel",
          "model_module_version": "1.5.0",
          "state": {
            "_dom_classes": [],
            "_model_module": "@jupyter-widgets/controls",
            "_model_module_version": "1.5.0",
            "_model_name": "HBoxModel",
            "_view_count": null,
            "_view_module": "@jupyter-widgets/controls",
            "_view_module_version": "1.5.0",
            "_view_name": "HBoxView",
            "box_style": "",
            "children": [
              "IPY_MODEL_f0ab0880d3e64d1d8516a1b11b9965fc",
              "IPY_MODEL_585c18c4778b47fbb5eab04422fe2bb5",
              "IPY_MODEL_da23ce7f97e04c96aa398b2749279759"
            ],
            "layout": "IPY_MODEL_b9c342dd21c44c0c891cc1bbe60532be"
          }
        },
        "f0ab0880d3e64d1d8516a1b11b9965fc": {
          "model_module": "@jupyter-widgets/controls",
          "model_name": "HTMLModel",
          "model_module_version": "1.5.0",
          "state": {
            "_dom_classes": [],
            "_model_module": "@jupyter-widgets/controls",
            "_model_module_version": "1.5.0",
            "_model_name": "HTMLModel",
            "_view_count": null,
            "_view_module": "@jupyter-widgets/controls",
            "_view_module_version": "1.5.0",
            "_view_name": "HTMLView",
            "description": "",
            "description_tooltip": null,
            "layout": "IPY_MODEL_ac8cd36e252e409fb98eeef0a55506d8",
            "placeholder": "​",
            "style": "IPY_MODEL_7d0526e7e3504694b16f6d120bd852d2",
            "value": "100%"
          }
        },
        "585c18c4778b47fbb5eab04422fe2bb5": {
          "model_module": "@jupyter-widgets/controls",
          "model_name": "FloatProgressModel",
          "model_module_version": "1.5.0",
          "state": {
            "_dom_classes": [],
            "_model_module": "@jupyter-widgets/controls",
            "_model_module_version": "1.5.0",
            "_model_name": "FloatProgressModel",
            "_view_count": null,
            "_view_module": "@jupyter-widgets/controls",
            "_view_module_version": "1.5.0",
            "_view_name": "ProgressView",
            "bar_style": "success",
            "description": "",
            "description_tooltip": null,
            "layout": "IPY_MODEL_4e9e9a06a19442a0888a0092a1e911e5",
            "max": 5,
            "min": 0,
            "orientation": "horizontal",
            "style": "IPY_MODEL_7ea1c6ff42ba46808bb848ce64076830",
            "value": 5
          }
        },
        "da23ce7f97e04c96aa398b2749279759": {
          "model_module": "@jupyter-widgets/controls",
          "model_name": "HTMLModel",
          "model_module_version": "1.5.0",
          "state": {
            "_dom_classes": [],
            "_model_module": "@jupyter-widgets/controls",
            "_model_module_version": "1.5.0",
            "_model_name": "HTMLModel",
            "_view_count": null,
            "_view_module": "@jupyter-widgets/controls",
            "_view_module_version": "1.5.0",
            "_view_name": "HTMLView",
            "description": "",
            "description_tooltip": null,
            "layout": "IPY_MODEL_9ce8877dc8144c4e923007e372420764",
            "placeholder": "​",
            "style": "IPY_MODEL_ebb72ee64c0c41019bc3e6a203bbd7fd",
            "value": " 5/5 [00:43&lt;00:00,  8.33s/it]"
          }
        },
        "b9c342dd21c44c0c891cc1bbe60532be": {
          "model_module": "@jupyter-widgets/base",
          "model_name": "LayoutModel",
          "model_module_version": "1.2.0",
          "state": {
            "_model_module": "@jupyter-widgets/base",
            "_model_module_version": "1.2.0",
            "_model_name": "LayoutModel",
            "_view_count": null,
            "_view_module": "@jupyter-widgets/base",
            "_view_module_version": "1.2.0",
            "_view_name": "LayoutView",
            "align_content": null,
            "align_items": null,
            "align_self": null,
            "border": null,
            "bottom": null,
            "display": null,
            "flex": null,
            "flex_flow": null,
            "grid_area": null,
            "grid_auto_columns": null,
            "grid_auto_flow": null,
            "grid_auto_rows": null,
            "grid_column": null,
            "grid_gap": null,
            "grid_row": null,
            "grid_template_areas": null,
            "grid_template_columns": null,
            "grid_template_rows": null,
            "height": null,
            "justify_content": null,
            "justify_items": null,
            "left": null,
            "margin": null,
            "max_height": null,
            "max_width": null,
            "min_height": null,
            "min_width": null,
            "object_fit": null,
            "object_position": null,
            "order": null,
            "overflow": null,
            "overflow_x": null,
            "overflow_y": null,
            "padding": null,
            "right": null,
            "top": null,
            "visibility": null,
            "width": null
          }
        },
        "ac8cd36e252e409fb98eeef0a55506d8": {
          "model_module": "@jupyter-widgets/base",
          "model_name": "LayoutModel",
          "model_module_version": "1.2.0",
          "state": {
            "_model_module": "@jupyter-widgets/base",
            "_model_module_version": "1.2.0",
            "_model_name": "LayoutModel",
            "_view_count": null,
            "_view_module": "@jupyter-widgets/base",
            "_view_module_version": "1.2.0",
            "_view_name": "LayoutView",
            "align_content": null,
            "align_items": null,
            "align_self": null,
            "border": null,
            "bottom": null,
            "display": null,
            "flex": null,
            "flex_flow": null,
            "grid_area": null,
            "grid_auto_columns": null,
            "grid_auto_flow": null,
            "grid_auto_rows": null,
            "grid_column": null,
            "grid_gap": null,
            "grid_row": null,
            "grid_template_areas": null,
            "grid_template_columns": null,
            "grid_template_rows": null,
            "height": null,
            "justify_content": null,
            "justify_items": null,
            "left": null,
            "margin": null,
            "max_height": null,
            "max_width": null,
            "min_height": null,
            "min_width": null,
            "object_fit": null,
            "object_position": null,
            "order": null,
            "overflow": null,
            "overflow_x": null,
            "overflow_y": null,
            "padding": null,
            "right": null,
            "top": null,
            "visibility": null,
            "width": null
          }
        },
        "7d0526e7e3504694b16f6d120bd852d2": {
          "model_module": "@jupyter-widgets/controls",
          "model_name": "DescriptionStyleModel",
          "model_module_version": "1.5.0",
          "state": {
            "_model_module": "@jupyter-widgets/controls",
            "_model_module_version": "1.5.0",
            "_model_name": "DescriptionStyleModel",
            "_view_count": null,
            "_view_module": "@jupyter-widgets/base",
            "_view_module_version": "1.2.0",
            "_view_name": "StyleView",
            "description_width": ""
          }
        },
        "4e9e9a06a19442a0888a0092a1e911e5": {
          "model_module": "@jupyter-widgets/base",
          "model_name": "LayoutModel",
          "model_module_version": "1.2.0",
          "state": {
            "_model_module": "@jupyter-widgets/base",
            "_model_module_version": "1.2.0",
            "_model_name": "LayoutModel",
            "_view_count": null,
            "_view_module": "@jupyter-widgets/base",
            "_view_module_version": "1.2.0",
            "_view_name": "LayoutView",
            "align_content": null,
            "align_items": null,
            "align_self": null,
            "border": null,
            "bottom": null,
            "display": null,
            "flex": null,
            "flex_flow": null,
            "grid_area": null,
            "grid_auto_columns": null,
            "grid_auto_flow": null,
            "grid_auto_rows": null,
            "grid_column": null,
            "grid_gap": null,
            "grid_row": null,
            "grid_template_areas": null,
            "grid_template_columns": null,
            "grid_template_rows": null,
            "height": null,
            "justify_content": null,
            "justify_items": null,
            "left": null,
            "margin": null,
            "max_height": null,
            "max_width": null,
            "min_height": null,
            "min_width": null,
            "object_fit": null,
            "object_position": null,
            "order": null,
            "overflow": null,
            "overflow_x": null,
            "overflow_y": null,
            "padding": null,
            "right": null,
            "top": null,
            "visibility": null,
            "width": null
          }
        },
        "7ea1c6ff42ba46808bb848ce64076830": {
          "model_module": "@jupyter-widgets/controls",
          "model_name": "ProgressStyleModel",
          "model_module_version": "1.5.0",
          "state": {
            "_model_module": "@jupyter-widgets/controls",
            "_model_module_version": "1.5.0",
            "_model_name": "ProgressStyleModel",
            "_view_count": null,
            "_view_module": "@jupyter-widgets/base",
            "_view_module_version": "1.2.0",
            "_view_name": "StyleView",
            "bar_color": null,
            "description_width": ""
          }
        },
        "9ce8877dc8144c4e923007e372420764": {
          "model_module": "@jupyter-widgets/base",
          "model_name": "LayoutModel",
          "model_module_version": "1.2.0",
          "state": {
            "_model_module": "@jupyter-widgets/base",
            "_model_module_version": "1.2.0",
            "_model_name": "LayoutModel",
            "_view_count": null,
            "_view_module": "@jupyter-widgets/base",
            "_view_module_version": "1.2.0",
            "_view_name": "LayoutView",
            "align_content": null,
            "align_items": null,
            "align_self": null,
            "border": null,
            "bottom": null,
            "display": null,
            "flex": null,
            "flex_flow": null,
            "grid_area": null,
            "grid_auto_columns": null,
            "grid_auto_flow": null,
            "grid_auto_rows": null,
            "grid_column": null,
            "grid_gap": null,
            "grid_row": null,
            "grid_template_areas": null,
            "grid_template_columns": null,
            "grid_template_rows": null,
            "height": null,
            "justify_content": null,
            "justify_items": null,
            "left": null,
            "margin": null,
            "max_height": null,
            "max_width": null,
            "min_height": null,
            "min_width": null,
            "object_fit": null,
            "object_position": null,
            "order": null,
            "overflow": null,
            "overflow_x": null,
            "overflow_y": null,
            "padding": null,
            "right": null,
            "top": null,
            "visibility": null,
            "width": null
          }
        },
        "ebb72ee64c0c41019bc3e6a203bbd7fd": {
          "model_module": "@jupyter-widgets/controls",
          "model_name": "DescriptionStyleModel",
          "model_module_version": "1.5.0",
          "state": {
            "_model_module": "@jupyter-widgets/controls",
            "_model_module_version": "1.5.0",
            "_model_name": "DescriptionStyleModel",
            "_view_count": null,
            "_view_module": "@jupyter-widgets/base",
            "_view_module_version": "1.2.0",
            "_view_name": "StyleView",
            "description_width": ""
          }
        }
      }
    }
  },
  "nbformat": 4,
  "nbformat_minor": 0
}