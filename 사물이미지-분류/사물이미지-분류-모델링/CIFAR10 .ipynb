{
 "cells": [
  {
   "cell_type": "markdown",
   "metadata": {
    "id": "fQm8thdqqVxD"
   },
   "source": [
    "# 사물 이미지 분류 경진대회"
   ]
  },
  {
   "cell_type": "markdown",
   "metadata": {
    "id": "lFRvsvGBqgwu"
   },
   "source": [
    "## 데이터 불러오기\n",
    "\n",
    "`-` 업데이트 속도가 조금 느리다"
   ]
  },
  {
   "cell_type": "code",
   "execution_count": 123,
   "metadata": {
    "id": "nyx_GhjHKEBn"
   },
   "outputs": [],
   "source": [
    "import os\n",
    "import pandas as pd\n",
    "import warnings\n",
    "from PIL import Image\n",
    "from glob import glob\n",
    "import numpy as np\n",
    "import matplotlib.pyplot as plt\n",
    "import seaborn as sns\n",
    "import copy\n",
    "import torch\n",
    "from tqdm import tqdm\n",
    "\n",
    "warnings.filterwarnings('ignore')"
   ]
  },
  {
   "cell_type": "code",
   "execution_count": 124,
   "metadata": {
    "colab": {
     "base_uri": "https://localhost:8080/"
    },
    "id": "fb47xbRkQPX2",
    "outputId": "42de3a6e-d789-43ef-a945-f83a59fffc25"
   },
   "outputs": [
    {
     "name": "stdout",
     "output_type": "stream",
     "text": [
      "Drive already mounted at /content/drive; to attempt to forcibly remount, call drive.mount(\"/content/drive\", force_remount=True).\n"
     ]
    }
   ],
   "source": [
    "from google.colab import drive\n",
    "\n",
    "drive.mount('/content/drive') ## 구글코랩과 구글드라이브 연결"
   ]
  },
  {
   "cell_type": "code",
   "execution_count": null,
   "metadata": {
    "colab": {
     "base_uri": "https://localhost:8080/"
    },
    "id": "0qEB0jQBSbB_",
    "outputId": "3b9276ee-eae9-457e-ac55-5b3dc6de1c01"
   },
   "outputs": [
    {
     "name": "stdout",
     "output_type": "stream",
     "text": [
      "/content/drive/My Drive/Colab Notebooks/CIFAR10\n"
     ]
    }
   ],
   "source": [
    "%cd '/content/drive/My Drive/Colab Notebooks/CIFAR10'"
   ]
  },
  {
   "cell_type": "code",
   "execution_count": 125,
   "metadata": {
    "id": "t5TAh_xaYuwF"
   },
   "outputs": [],
   "source": [
    "#!unzip -o 'data.zip' ## 현재 디렉토리에 존재하는 data.zip이라는 zip파일을 현재 디렉토리에 압축해제"
   ]
  },
  {
   "cell_type": "code",
   "execution_count": null,
   "metadata": {
    "id": "2gO938XdKMRN"
   },
   "outputs": [],
   "source": [
    "## 데이터를 불러올 함수를 정의\n",
    "def load_CIFAR10(path, train=True):\n",
    "    '''\n",
    "    If train then\n",
    "        path -> folder1, folder2, ..., folder10\n",
    "        folder1 -> img1, img2, ..., img5000\n",
    "        ...\n",
    "        folder10 -> img1, img2, ..., img5000\n",
    "        \n",
    "    If test then\n",
    "        path -> img1, img2, ..., img5000\n",
    "    '''\n",
    "    from tqdm import tqdm\n",
    "    path = path ## 이미지 파일들이 담겨있는 폴더들이 담겨있는 파일 경로\n",
    "    images = [] ## 이미지 리스트\n",
    "    labels = [] ## 라벨 리스트\n",
    "    \n",
    "    ## train\n",
    "    if train:\n",
    "        for foldername in os.listdir(path): ## 이미지 파일들이 담겨있는 폴더 이름(=라벨)\n",
    "            img_path = path + foldername + '/'\n",
    "            for img in tqdm(os.listdir(img_path)):  ## 폴더에 담겨있는 이미지들\n",
    "                an_img = Image.open(img_path + img)  ## 이미지를 불러온다\n",
    "                img_array = np.array(an_img)  ## 이미지를 넘파이 어레이로 변경한다\n",
    "                images.append(img_array)      ## 이미지 리스트에 넘파이 어레이로 된 이미지를 추가한다\n",
    "                label = foldername            ## 라벨을 가져온다\n",
    "                labels.append(label)          ## 라벨 리스트에 라벨을 추가한다\n",
    "                \n",
    "        return images, labels ## 이미지와 라벨을 반환\n",
    "                \n",
    "    ## test\n",
    "    test_img_list = sorted(os.listdir(path)) ## 0000.jpg부터 9999.jpg 파일을 순서대로 불러와야 함\n",
    "    for img in tqdm(test_img_list):\n",
    "        an_img = Image.open(path + img)  \n",
    "        img_array = np.array(an_img)  \n",
    "        images.append(img_array)               \n",
    "        \n",
    "    return images ## 이미지를 반환(test는 라벨이 없다)"
   ]
  },
  {
   "cell_type": "code",
   "execution_count": null,
   "metadata": {
    "id": "QTLL6oQHKQvU"
   },
   "outputs": [],
   "source": [
    "file_path = '/content/drive/My Drive/Colab Notebooks/CIFAR10/'\n",
    "train_file_path = file_path + 'train/'\n",
    "test_file_path = file_path + 'test/'"
   ]
  },
  {
   "cell_type": "code",
   "execution_count": null,
   "metadata": {
    "colab": {
     "base_uri": "https://localhost:8080/"
    },
    "id": "JglQJJguKTJ0",
    "outputId": "579fb699-5ace-4aab-e6df-77e128fb5e59"
   },
   "outputs": [
    {
     "name": "stderr",
     "output_type": "stream",
     "text": [
      "100%|██████████| 5000/5000 [00:12<00:00, 389.03it/s]\n",
      "100%|██████████| 5000/5000 [00:13<00:00, 376.95it/s]\n",
      "100%|██████████| 5000/5000 [00:14<00:00, 347.51it/s]\n",
      "100%|██████████| 5000/5000 [00:12<00:00, 398.79it/s]\n",
      "100%|██████████| 5000/5000 [00:12<00:00, 398.58it/s]\n",
      "100%|██████████| 5000/5000 [00:12<00:00, 406.74it/s]\n",
      "100%|██████████| 5000/5000 [00:12<00:00, 395.21it/s]\n",
      "100%|██████████| 5000/5000 [00:12<00:00, 402.47it/s]\n",
      "100%|██████████| 5000/5000 [00:12<00:00, 407.95it/s]\n",
      "100%|██████████| 5000/5000 [00:12<00:00, 402.21it/s]\n"
     ]
    }
   ],
   "source": [
    "train_images, train_labels = load_CIFAR10(path=train_file_path)"
   ]
  },
  {
   "cell_type": "code",
   "execution_count": null,
   "metadata": {
    "colab": {
     "base_uri": "https://localhost:8080/"
    },
    "id": "N9n7BqR6Kbjb",
    "outputId": "d4b5378f-11e0-49f8-8436-8420d81337f4"
   },
   "outputs": [
    {
     "name": "stderr",
     "output_type": "stream",
     "text": [
      "100%|██████████| 10000/10000 [00:23<00:00, 428.93it/s]\n"
     ]
    }
   ],
   "source": [
    "test_images = load_CIFAR10(path=test_file_path, train=False)"
   ]
  },
  {
   "cell_type": "code",
   "execution_count": null,
   "metadata": {
    "id": "RL60UsnQKcMK"
   },
   "outputs": [],
   "source": [
    "from sklearn.preprocessing import LabelEncoder"
   ]
  },
  {
   "cell_type": "code",
   "execution_count": null,
   "metadata": {
    "id": "DDeWlIddKb5a"
   },
   "outputs": [],
   "source": [
    "train_images = np.array(train_images)\n",
    "train_labels = np.array(train_labels)\n",
    "test_images = np.array(test_images)"
   ]
  },
  {
   "cell_type": "code",
   "execution_count": null,
   "metadata": {
    "id": "7MEAr6VBgbeJ"
   },
   "outputs": [],
   "source": [
    "le = LabelEncoder()\n",
    "train_labels = le.fit_transform(train_labels)\n",
    "train_labels = train_labels.reshape(-1)\n",
    "train_labels = torch.Tensor(train_labels).type(torch.LongTensor) ## 라벨은 Tensor"
   ]
  },
  {
   "cell_type": "code",
   "execution_count": null,
   "metadata": {
    "colab": {
     "base_uri": "https://localhost:8080/"
    },
    "id": "kuznzvbngc84",
    "outputId": "d7225bbd-dd00-4e15-f0c5-c2882e433a79"
   },
   "outputs": [
    {
     "data": {
      "text/plain": [
       "((50000, 32, 32, 3), torch.Size([50000]), (10000, 32, 32, 3))"
      ]
     },
     "execution_count": 18,
     "metadata": {},
     "output_type": "execute_result"
    }
   ],
   "source": [
    "train_images.shape, train_labels.shape, test_images.shape"
   ]
  },
  {
   "cell_type": "markdown",
   "metadata": {
    "id": "8eH4IbpYqnL8"
   },
   "source": [
    "## 간단한 EDA"
   ]
  },
  {
   "cell_type": "markdown",
   "metadata": {
    "id": "Y0HCZw7hqphF"
   },
   "source": [
    "`-` 무작위로 이미지를 뽑아 시각화"
   ]
  },
  {
   "cell_type": "code",
   "execution_count": null,
   "metadata": {
    "colab": {
     "base_uri": "https://localhost:8080/",
     "height": 289
    },
    "id": "ZTfMrUViqoL7",
    "outputId": "01c9ead6-4e2e-40cb-8b9d-20d83c6c7085"
   },
   "outputs": [
    {
     "data": {
      "image/png": "[encoded data removed]",
      "text/plain": [
       "<Figure size 720x360 with 10 Axes>"
      ]
     },
     "metadata": {},
     "output_type": "display_data"
    }
   ],
   "source": [
    "plt.figure(figsize=[10, 5])\n",
    "for i in range(10):\n",
    "    import random\n",
    "    num = random.randint(0, 50000)\n",
    "    plt.subplot(2, 5, i + 1)\n",
    "    plt.grid(False)\n",
    "    plt.xticks([])\n",
    "    plt.yticks([])\n",
    "    plt.xlabel(le.inverse_transform([train_labels[num].item()]).item())\n",
    "    plt.imshow(train_images[num])\n",
    "plt.show()"
   ]
  },
  {
   "cell_type": "markdown",
   "metadata": {
    "id": "jfCUwV6Jqsoj"
   },
   "source": [
    "`-` 라벨 빈도수 확인"
   ]
  },
  {
   "cell_type": "code",
   "execution_count": null,
   "metadata": {
    "colab": {
     "base_uri": "https://localhost:8080/",
     "height": 350
    },
    "id": "znAF1BaJq4yT",
    "outputId": "e15da58d-a4c3-495f-99a9-6eb9c426d282"
   },
   "outputs": [
    {
     "data": {
      "image/png": "[encoded data removed]",
      "text/plain": [
       "<Figure size 720x360 with 1 Axes>"
      ]
     },
     "metadata": {
      "needs_background": "light"
     },
     "output_type": "display_data"
    }
   ],
   "source": [
    "plt.figure(figsize=[10,5])\n",
    "sns.countplot(np.array(train_labels))\n",
    "plt.title('Distribution of training data')\n",
    "plt.xlabel('Classes')\n",
    "plt.show()"
   ]
  },
  {
   "cell_type": "markdown",
   "metadata": {
    "id": "XtyQfF3gq-1z"
   },
   "source": [
    "## Dataset 준비"
   ]
  },
  {
   "cell_type": "code",
   "execution_count": null,
   "metadata": {
    "id": "zSNJ8ESSra7F"
   },
   "outputs": [],
   "source": [
    "import torch\n",
    "from torch.utils.data import Dataset, DataLoader\n",
    "from torch import nn\n",
    "from torchvision import transforms, models\n",
    "from sklearn.model_selection import train_test_split"
   ]
  },
  {
   "cell_type": "markdown",
   "metadata": {
    "id": "cBBy_TbkrcG7"
   },
   "source": [
    "`-` RGB 각각 표준화"
   ]
  },
  {
   "cell_type": "code",
   "execution_count": null,
   "metadata": {
    "id": "3l92pgNrrnKt"
   },
   "outputs": [],
   "source": [
    "RGB_MEAN = [np.mean(train_images[...,i] / 255) for i in range(3)] ## 255로 나눈후 RGB 각각의 평균\n",
    "RGB_STD = [np.std(train_images[...,i] / 255) for i in range(3)]  ## 255로 나눈후 RGB 각각의 표준편차"
   ]
  },
  {
   "cell_type": "markdown",
   "metadata": {
    "id": "WdezmMRcroMj"
   },
   "source": [
    "`-` 데이터 변환 방식 정의"
   ]
  },
  {
   "cell_type": "code",
   "execution_count": null,
   "metadata": {
    "id": "JUlBMUkJrxGT"
   },
   "outputs": [],
   "source": [
    "## 데이터 변환 방식을 정의(Agumentation)\n",
    "def get_transform(train=True):\n",
    "    trans = transforms.Compose([                                                   \n",
    "        transforms.ToTensor(), ## 0~255 -> 0~1\n",
    "        transforms.Normalize(RGB_MEAN, RGB_STD) ## 평균을 0, 표준편차를 1로 만듦\n",
    "    ])\n",
    "    \n",
    "    if train:\n",
    "        trans = transforms.Compose([\n",
    "            transforms.ToPILImage(), ## numpy array를 PIL이미지로 바꾸고 이미지를 변형시킨다 ## 변형은 PIL이미지 타입일 때 가능\n",
    "            transforms.RandomResizedCrop(size=32, scale=(0.7, 1.0)), ## 0.7~1.0 비율 영역을 무작위로 잘라내기\n",
    "            transforms.RandomHorizontalFlip(p=0.5), ## 50%의 확률로 수평으로 뒤집음\n",
    "            transforms.RandomRotation(degrees=20), ## 무작위로 -20~20도 회전\n",
    "            transforms.ToTensor(), ## PIL이미지를 다시 텐서로 변환하고 0~1로 정규화\n",
    "            transforms.Normalize(RGB_MEAN, RGB_STD) ## 평균을 0, 표준편차를 1로 만듦\n",
    "        ])\n",
    "\n",
    "    return trans ## 데이터 변환 방식을 반환"
   ]
  },
  {
   "cell_type": "markdown",
   "metadata": {
    "id": "GSlVuN9gryWK"
   },
   "source": [
    "`-` 데이터셋 정의"
   ]
  },
  {
   "cell_type": "code",
   "execution_count": null,
   "metadata": {
    "id": "YVrVl7IFr0R0"
   },
   "outputs": [],
   "source": [
    "class CustomDataset(Dataset):\n",
    "    def __init__(self, X: np.array, labels=None, transform=None, target_transform=None):\n",
    "        self.X = X  ## 넘파이 어레이로 변환된 이미지\n",
    "        self.labels = labels  ## 라벨\n",
    "        self.transform = transform  ## X 변환방법\n",
    "        self.target_transform = target_transform ## 라벨 변환방법\n",
    "    \n",
    "    def __getitem__(self, idx):\n",
    "        numpy_img = self.X[idx]\n",
    "        if self.transform is not None: \n",
    "            transformed_img = self.transform(numpy_img) \n",
    "            \n",
    "        if self.labels is not None:\n",
    "            label = self.labels[idx]\n",
    "            if self.target_transform:\n",
    "                label = self.target_transform(label)             \n",
    "            return transformed_img, label  ## train   \n",
    "        \n",
    "        return transformed_img  ## test\n",
    "    \n",
    "    def __len__(self):\n",
    "        return len(self.X) ## 데이터 개수 반환"
   ]
  },
  {
   "cell_type": "code",
   "execution_count": null,
   "metadata": {
    "id": "d3dg7pvHr1Yy"
   },
   "outputs": [],
   "source": [
    "transform_train = get_transform() ## train\n",
    "transform_test = get_transform(train=False) ## test"
   ]
  },
  {
   "cell_type": "code",
   "execution_count": null,
   "metadata": {
    "id": "Dupgkp1_r3P7"
   },
   "outputs": [],
   "source": [
    "X_train, X_valid, y_train, y_valid = train_test_split(train_images, train_labels, test_size=0.2, stratify=train_labels, random_state=22)\n",
    "X_test = copy.deepcopy(test_images)"
   ]
  },
  {
   "cell_type": "code",
   "execution_count": null,
   "metadata": {
    "colab": {
     "base_uri": "https://localhost:8080/"
    },
    "id": "_WI9cS4dr4uq",
    "outputId": "656af498-c9c6-4282-cf2e-b3ae83491e85"
   },
   "outputs": [
    {
     "name": "stdout",
     "output_type": "stream",
     "text": [
      "X_train 크기: (40000, 32, 32, 3)\n",
      "X_valid 크기: (10000, 32, 32, 3)\n",
      "X_test  크기: (10000, 32, 32, 3)\n"
     ]
    }
   ],
   "source": [
    "print('X_train 크기:', X_train.shape)\n",
    "print('X_valid 크기:', X_valid.shape)\n",
    "print('X_test  크기:', X_test.shape)"
   ]
  },
  {
   "cell_type": "markdown",
   "metadata": {
    "id": "0mjNsS2-sGez"
   },
   "source": [
    "## 모델 설계"
   ]
  },
  {
   "cell_type": "code",
   "execution_count": null,
   "metadata": {
    "id": "PqwT_ZTnsQaS"
   },
   "outputs": [],
   "source": [
    "#nn.init.xavier_normal_?"
   ]
  },
  {
   "cell_type": "code",
   "execution_count": null,
   "metadata": {
    "id": "1udjCGEesR3C"
   },
   "outputs": [],
   "source": [
    "w = torch.empty(2, 2)"
   ]
  },
  {
   "cell_type": "code",
   "execution_count": null,
   "metadata": {
    "colab": {
     "base_uri": "https://localhost:8080/"
    },
    "id": "IW4Rt4ujsSUa",
    "outputId": "43b5673e-f813-47c8-96dc-d40fc951757f"
   },
   "outputs": [
    {
     "name": "stdout",
     "output_type": "stream",
     "text": [
      "tensor([[-1.0701e+11,  3.0656e-41],\n",
      "        [ 3.3631e-44,  0.0000e+00]])\n"
     ]
    }
   ],
   "source": [
    "print(w)"
   ]
  },
  {
   "cell_type": "code",
   "execution_count": null,
   "metadata": {
    "colab": {
     "base_uri": "https://localhost:8080/"
    },
    "id": "j1QESLJjsSt6",
    "outputId": "e66e5715-1602-4fe0-cd42-548b333fe461"
   },
   "outputs": [
    {
     "name": "stdout",
     "output_type": "stream",
     "text": [
      "tensor([[-0.5797, -0.1526],\n",
      "        [-0.3713, -0.9028]])\n"
     ]
    }
   ],
   "source": [
    "nn.init.xavier_normal_(w) ## 모델의 가중치를 가우시안 분포를 사용하여 초기화\n",
    "print(w)"
   ]
  },
  {
   "cell_type": "code",
   "execution_count": null,
   "metadata": {
    "id": "trNQvxhlsIlu"
   },
   "outputs": [],
   "source": [
    "class Resnet(nn.Module):\n",
    "    def __init__(self):\n",
    "        super(CustomModel, self).__init__()\n",
    "        self.model = models.resnet18(pretrained=False) ## Resnet18 아키텍쳐사용\n",
    "        self.drop = nn.Dropout(0.3)\n",
    "        self.fc = nn.Linear(1000, 10) ## resnet18의 최종 output차원은 1000\n",
    "        nn.init.xavier_normal_(self.fc.weight) ## 모델의 가중치 초기화\n",
    "        \n",
    "    def forward(self, x):\n",
    "        x = self.model(x)\n",
    "        x = self.drop(x)\n",
    "        x = self.fc(x)\n",
    "        return x"
   ]
  },
  {
   "cell_type": "code",
   "execution_count": null,
   "metadata": {
    "colab": {
     "base_uri": "https://localhost:8080/"
    },
    "id": "VFKib4H9sN_S",
    "outputId": "e4032e40-e888-4c4a-9d10-54b522ec6a56"
   },
   "outputs": [
    {
     "data": {
      "text/plain": [
       "<torch._C.Generator at 0x7faa98c6c8d0>"
      ]
     },
     "execution_count": 33,
     "metadata": {},
     "output_type": "execute_result"
    }
   ],
   "source": [
    "## 랜덤 시드 고정\n",
    "torch.manual_seed(22)"
   ]
  },
  {
   "cell_type": "code",
   "execution_count": null,
   "metadata": {
    "id": "Q7nGUT3Gso8E"
   },
   "outputs": [],
   "source": [
    "device = 'cuda' if torch.cuda.is_available() else 'cpu'"
   ]
  },
  {
   "cell_type": "code",
   "execution_count": null,
   "metadata": {
    "colab": {
     "base_uri": "https://localhost:8080/"
    },
    "id": "QgXuHvFwW7rB",
    "outputId": "12e3f68a-dc08-4079-9058-4246e7c183e0"
   },
   "outputs": [
    {
     "name": "stdout",
     "output_type": "stream",
     "text": [
      "cuda\n"
     ]
    }
   ],
   "source": [
    "print(device)"
   ]
  },
  {
   "cell_type": "code",
   "execution_count": null,
   "metadata": {
    "id": "wYmJu0xTsrRr"
   },
   "outputs": [],
   "source": [
    "learning_rate = 0.001\n",
    "epochs = 30\n",
    "batch_size = 100"
   ]
  },
  {
   "cell_type": "markdown",
   "metadata": {
    "id": "e1yAYsyissCS"
   },
   "source": [
    "`-` train 데이터셋과 데이터로더"
   ]
  },
  {
   "cell_type": "code",
   "execution_count": null,
   "metadata": {
    "id": "hFOyuALbsyEG"
   },
   "outputs": [],
   "source": [
    "train_dataset = CustomDataset(X=X_train, labels=y_train, transform=transform_train)\n",
    "train_dataloader = DataLoader(train_dataset, batch_size=batch_size, shuffle=True)"
   ]
  },
  {
   "cell_type": "markdown",
   "metadata": {
    "id": "oy35qivuszEK"
   },
   "source": [
    "`-` valid 데이터셋과 데이터로더"
   ]
  },
  {
   "cell_type": "code",
   "execution_count": null,
   "metadata": {
    "id": "QJNGrkvcs2R6"
   },
   "outputs": [],
   "source": [
    "valid_dataset = CustomDataset(X=X_valid, labels=y_valid, transform=transform_train) ## trasform_test는 test 데이터에 적용\n",
    "## 일반화 능력을 따지는 것이므로 transform_train을 적용시켜야 할 듯\n",
    "## 예시로 정석대로 작성된 mnist데이터셋을 가지고 휘갈겨 쓴 손글씨(숫자)를 예측하려면\n",
    "## 가지고 있는 데이터를 변형시켜야 한다\n",
    "## 그런데 train, valid로 나눴을 때 valid 데이터가 test 데이터를 대표하지 못한다면\n",
    "## 평가하는 것이 의미가 없다\n",
    "## 그러므로 valid 데이터에도 transform_train을 적용시켜 test 데이터를 대표하도록 만들어야 한다\n",
    "valid_dataloader = DataLoader(valid_dataset, batch_size=batch_size, shuffle=False)"
   ]
  },
  {
   "cell_type": "code",
   "execution_count": null,
   "metadata": {
    "colab": {
     "base_uri": "https://localhost:8080/"
    },
    "id": "x9XawfDss7nj",
    "outputId": "b5f67bcd-1393-4495-bd7b-bbb0a0da27fa"
   },
   "outputs": [
    {
     "name": "stdout",
     "output_type": "stream",
     "text": [
      "총 배치의 수 : 400\n"
     ]
    }
   ],
   "source": [
    "total_batch = len(train_dataloader)\n",
    "print(f'총 배치의 수 : {total_batch}')"
   ]
  },
  {
   "cell_type": "code",
   "execution_count": null,
   "metadata": {
    "id": "J9eSmYgSs8qC"
   },
   "outputs": [],
   "source": [
    "## 모델 정의\n",
    "net = Resnet().to(device)"
   ]
  },
  {
   "cell_type": "code",
   "execution_count": null,
   "metadata": {
    "id": "-2T-DvRBDouH"
   },
   "outputs": [],
   "source": [
    "loss_fn = torch.nn.CrossEntropyLoss().to(device)   ## 비용 함수에 소프트맥스 함수 포함 -> net 내부에서 마지막 활성화함수로 소프트맥스 사용안해도 됨\n",
    "optimizer = torch.optim.Adam(net.parameters(), lr=learning_rate) ## 옵티마이저에 최적화할 파라미터와 학습률 전달"
   ]
  },
  {
   "cell_type": "code",
   "execution_count": null,
   "metadata": {
    "id": "O_pIox1XDtel"
   },
   "outputs": [],
   "source": [
    "## accuracy 계산\n",
    "def accuracy(true, pred):\n",
    "    return sum(true == pred) / len(true)"
   ]
  },
  {
   "cell_type": "markdown",
   "metadata": {
    "id": "9HEcaFRxNBYr"
   },
   "source": [
    "`-` 이제 모델을 훈련시키자"
   ]
  },
  {
   "cell_type": "code",
   "execution_count": null,
   "metadata": {
    "colab": {
     "base_uri": "https://localhost:8080/"
    },
    "id": "4v57_boxP3W5",
    "outputId": "7b345708-e08e-4272-80a1-b54cf1b6cb16"
   },
   "outputs": [
    {
     "name": "stderr",
     "output_type": "stream",
     "text": [
      "  3%|▎         | 1/30 [00:32<15:53, 32.87s/it]"
     ]
    },
    {
     "name": "stdout",
     "output_type": "stream",
     "text": [
      "[Epoch:    1] loss = 1.97766328\n"
     ]
    },
    {
     "name": "stderr",
     "output_type": "stream",
     "text": [
      "  7%|▋         | 2/30 [01:06<15:38, 33.53s/it]"
     ]
    },
    {
     "name": "stdout",
     "output_type": "stream",
     "text": [
      "[Epoch:    2] loss = 1.52698731\n"
     ]
    },
    {
     "name": "stderr",
     "output_type": "stream",
     "text": [
      " 10%|█         | 3/30 [01:41<15:19, 34.07s/it]"
     ]
    },
    {
     "name": "stdout",
     "output_type": "stream",
     "text": [
      "[Epoch:    3] loss = 1.3991158\n"
     ]
    },
    {
     "name": "stderr",
     "output_type": "stream",
     "text": [
      " 13%|█▎        | 4/30 [02:13<14:27, 33.37s/it]"
     ]
    },
    {
     "name": "stdout",
     "output_type": "stream",
     "text": [
      "[Epoch:    4] loss = 1.26024926\n"
     ]
    },
    {
     "name": "stderr",
     "output_type": "stream",
     "text": [
      " 17%|█▋        | 5/30 [02:47<13:55, 33.41s/it]"
     ]
    },
    {
     "name": "stdout",
     "output_type": "stream",
     "text": [
      "[Epoch:    5] loss = 1.19831073\n"
     ]
    },
    {
     "name": "stderr",
     "output_type": "stream",
     "text": [
      " 20%|██        | 6/30 [03:19<13:14, 33.11s/it]"
     ]
    },
    {
     "name": "stdout",
     "output_type": "stream",
     "text": [
      "[Epoch:    6] loss = 1.16081834\n"
     ]
    },
    {
     "name": "stderr",
     "output_type": "stream",
     "text": [
      " 23%|██▎       | 7/30 [03:52<12:37, 32.94s/it]"
     ]
    },
    {
     "name": "stdout",
     "output_type": "stream",
     "text": [
      "[Epoch:    7] loss = 1.07492077\n"
     ]
    },
    {
     "name": "stderr",
     "output_type": "stream",
     "text": [
      " 27%|██▋       | 8/30 [04:24<12:01, 32.79s/it]"
     ]
    },
    {
     "name": "stdout",
     "output_type": "stream",
     "text": [
      "[Epoch:    8] loss = 1.04340708\n"
     ]
    },
    {
     "name": "stderr",
     "output_type": "stream",
     "text": [
      " 30%|███       | 9/30 [04:57<11:25, 32.66s/it]"
     ]
    },
    {
     "name": "stdout",
     "output_type": "stream",
     "text": [
      "[Epoch:    9] loss = 1.00095797\n"
     ]
    },
    {
     "name": "stderr",
     "output_type": "stream",
     "text": [
      " 33%|███▎      | 10/30 [05:29<10:52, 32.64s/it]"
     ]
    },
    {
     "name": "stdout",
     "output_type": "stream",
     "text": [
      "[Epoch:   10] loss = 0.96820569\n"
     ]
    },
    {
     "name": "stderr",
     "output_type": "stream",
     "text": [
      " 37%|███▋      | 11/30 [06:02<10:18, 32.55s/it]"
     ]
    },
    {
     "name": "stdout",
     "output_type": "stream",
     "text": [
      "[Epoch:   11] loss = 0.930207968\n"
     ]
    },
    {
     "name": "stderr",
     "output_type": "stream",
     "text": [
      " 40%|████      | 12/30 [06:34<09:43, 32.43s/it]"
     ]
    },
    {
     "name": "stdout",
     "output_type": "stream",
     "text": [
      "[Epoch:   12] loss = 0.905728281\n"
     ]
    },
    {
     "name": "stderr",
     "output_type": "stream",
     "text": [
      " 43%|████▎     | 13/30 [07:06<09:11, 32.42s/it]"
     ]
    },
    {
     "name": "stdout",
     "output_type": "stream",
     "text": [
      "[Epoch:   13] loss = 0.870518625\n"
     ]
    },
    {
     "name": "stderr",
     "output_type": "stream",
     "text": [
      " 47%|████▋     | 14/30 [07:39<08:38, 32.43s/it]"
     ]
    },
    {
     "name": "stdout",
     "output_type": "stream",
     "text": [
      "[Epoch:   14] loss = 0.863468349\n"
     ]
    },
    {
     "name": "stderr",
     "output_type": "stream",
     "text": [
      " 50%|█████     | 15/30 [08:11<08:06, 32.45s/it]"
     ]
    },
    {
     "name": "stdout",
     "output_type": "stream",
     "text": [
      "[Epoch:   15] loss = 0.834938943\n"
     ]
    },
    {
     "name": "stderr",
     "output_type": "stream",
     "text": [
      " 53%|█████▎    | 16/30 [08:44<07:35, 32.54s/it]"
     ]
    },
    {
     "name": "stdout",
     "output_type": "stream",
     "text": [
      "[Epoch:   16] loss = 0.813953936\n"
     ]
    },
    {
     "name": "stderr",
     "output_type": "stream",
     "text": [
      " 57%|█████▋    | 17/30 [09:17<07:03, 32.56s/it]"
     ]
    },
    {
     "name": "stdout",
     "output_type": "stream",
     "text": [
      "[Epoch:   17] loss = 0.799825847\n"
     ]
    },
    {
     "name": "stderr",
     "output_type": "stream",
     "text": [
      " 60%|██████    | 18/30 [09:49<06:30, 32.51s/it]"
     ]
    },
    {
     "name": "stdout",
     "output_type": "stream",
     "text": [
      "[Epoch:   18] loss = 0.768852234\n"
     ]
    },
    {
     "name": "stderr",
     "output_type": "stream",
     "text": [
      " 63%|██████▎   | 19/30 [10:21<05:57, 32.50s/it]"
     ]
    },
    {
     "name": "stdout",
     "output_type": "stream",
     "text": [
      "[Epoch:   19] loss = 0.766335189\n"
     ]
    },
    {
     "name": "stderr",
     "output_type": "stream",
     "text": [
      " 67%|██████▋   | 20/30 [10:54<05:24, 32.42s/it]"
     ]
    },
    {
     "name": "stdout",
     "output_type": "stream",
     "text": [
      "[Epoch:   20] loss = 0.739138782\n"
     ]
    },
    {
     "name": "stderr",
     "output_type": "stream",
     "text": [
      " 70%|███████   | 21/30 [11:26<04:52, 32.46s/it]"
     ]
    },
    {
     "name": "stdout",
     "output_type": "stream",
     "text": [
      "[Epoch:   21] loss = 0.731873333\n"
     ]
    },
    {
     "name": "stderr",
     "output_type": "stream",
     "text": [
      " 73%|███████▎  | 22/30 [11:59<04:19, 32.40s/it]"
     ]
    },
    {
     "name": "stdout",
     "output_type": "stream",
     "text": [
      "[Epoch:   22] loss = 0.720454514\n"
     ]
    },
    {
     "name": "stderr",
     "output_type": "stream",
     "text": [
      " 77%|███████▋  | 23/30 [12:31<03:46, 32.31s/it]"
     ]
    },
    {
     "name": "stdout",
     "output_type": "stream",
     "text": [
      "[Epoch:   23] loss = 0.704185724\n"
     ]
    },
    {
     "name": "stderr",
     "output_type": "stream",
     "text": [
      " 80%|████████  | 24/30 [13:06<03:18, 33.14s/it]"
     ]
    },
    {
     "name": "stdout",
     "output_type": "stream",
     "text": [
      "[Epoch:   24] loss = 0.673499167\n"
     ]
    },
    {
     "name": "stderr",
     "output_type": "stream",
     "text": [
      " 83%|████████▎ | 25/30 [13:38<02:44, 32.89s/it]"
     ]
    },
    {
     "name": "stdout",
     "output_type": "stream",
     "text": [
      "[Epoch:   25] loss = 0.661172748\n"
     ]
    },
    {
     "name": "stderr",
     "output_type": "stream",
     "text": [
      " 87%|████████▋ | 26/30 [14:10<02:10, 32.69s/it]"
     ]
    },
    {
     "name": "stdout",
     "output_type": "stream",
     "text": [
      "[Epoch:   26] loss = 0.654141963\n"
     ]
    },
    {
     "name": "stderr",
     "output_type": "stream",
     "text": [
      " 90%|█████████ | 27/30 [14:42<01:37, 32.52s/it]"
     ]
    },
    {
     "name": "stdout",
     "output_type": "stream",
     "text": [
      "[Epoch:   27] loss = 0.648748934\n"
     ]
    },
    {
     "name": "stderr",
     "output_type": "stream",
     "text": [
      " 93%|█████████▎| 28/30 [15:15<01:04, 32.41s/it]"
     ]
    },
    {
     "name": "stdout",
     "output_type": "stream",
     "text": [
      "[Epoch:   28] loss = 0.671127439\n"
     ]
    },
    {
     "name": "stderr",
     "output_type": "stream",
     "text": [
      " 97%|█████████▋| 29/30 [15:46<00:32, 32.24s/it]"
     ]
    },
    {
     "name": "stdout",
     "output_type": "stream",
     "text": [
      "[Epoch:   29] loss = 0.636662364\n"
     ]
    },
    {
     "name": "stderr",
     "output_type": "stream",
     "text": [
      "100%|██████████| 30/30 [16:19<00:00, 32.65s/it]"
     ]
    },
    {
     "name": "stdout",
     "output_type": "stream",
     "text": [
      "[Epoch:   30] loss = 0.624601841\n"
     ]
    },
    {
     "name": "stderr",
     "output_type": "stream",
     "text": [
      "\n"
     ]
    }
   ],
   "source": [
    "net.train() ## 훈련모드\n",
    "for epoch in tqdm(range(epochs)): ## 에폭 1번당 대략 30초 걸림\n",
    "    avg_loss = 0 ## 평균 loss\n",
    "\n",
    "    for X, y in train_dataloader: # 미니 배치 단위로 꺼내온다, X는 미니 배치, y는 레이블\n",
    "        X = X.to(device)\n",
    "        y = y.to(device) \n",
    "\n",
    "        optimizer.zero_grad() ## 그래디언트 초기화\n",
    "        yhat = net(X) ## y_hat을 구한다\n",
    "        loss = loss_fn(yhat, y) ## 오차를 계산\n",
    "        loss.backward()  ## 미분\n",
    "        optimizer.step() ## 업데이트\n",
    "\n",
    "        avg_loss += (loss / total_batch)\n",
    "\n",
    "    print('[Epoch: {:>4}] loss = {:>.9}'.format(epoch + 1, avg_loss))"
   ]
  },
  {
   "cell_type": "markdown",
   "metadata": {
    "id": "sNicKq4FNGHp"
   },
   "source": [
    "`-` 이제 훈련된 모델을 평가하자"
   ]
  },
  {
   "cell_type": "code",
   "execution_count": null,
   "metadata": {
    "colab": {
     "base_uri": "https://localhost:8080/"
    },
    "id": "DZmE8wvIDtv3",
    "outputId": "d7b242fa-79a9-4cda-9abb-058351a6cd77"
   },
   "outputs": [
    {
     "name": "stderr",
     "output_type": "stream",
     "text": [
      "100%|██████████| 100/100 [00:08<00:00, 11.78it/s]"
     ]
    },
    {
     "name": "stdout",
     "output_type": "stream",
     "text": [
      "Mean Valid Loss : 0.837452\n",
      "Mean Valid accuracy : 0.721500\n"
     ]
    },
    {
     "name": "stderr",
     "output_type": "stream",
     "text": [
      "\n"
     ]
    }
   ],
   "source": [
    "net.eval() ## 평가모드\n",
    "valid_loss = [] \n",
    "acc_list = []\n",
    "\n",
    "with torch.no_grad(): ## 평가할 땐 역전파를 쓸 필요가 없으니까\n",
    "    for X, y in tqdm(valid_dataloader): ## 7초 걸림\n",
    "        X = X.to(device)\n",
    "        y = y.to(device)\n",
    "        yhat = net(X)\n",
    "        loss = loss_fn(yhat,y)\n",
    "        acc = accuracy(y.detach().cpu().numpy(), yhat.detach().cpu().numpy().argmax(-1))                                                         \n",
    "        valid_loss.append(loss.cpu().numpy())\n",
    "        acc_list.append(acc)\n",
    "            \n",
    "print(f'Mean Valid Loss : {np.mean(valid_loss):>8f}') ## 평가 루프 종료시 평균 loss를 출력\n",
    "print(f'Mean Valid accuracy : {np.mean(acc_list):>8f}') ## 평가 루프 종료시 accuracy를 출력"
   ]
  },
  {
   "cell_type": "markdown",
   "metadata": {
    "id": "RsWlvYTHPZAY"
   },
   "source": [
    "## test 예측"
   ]
  },
  {
   "cell_type": "code",
   "execution_count": null,
   "metadata": {
    "id": "6YnQ18L9UtmW"
   },
   "outputs": [],
   "source": [
    "test_dataset = CustomDataset(X=X_test, transform=transform_test)\n",
    "test_dataloader = DataLoader(test_dataset, batch_size=batch_size, shuffle=False) ## 섞으면 순서가 뒤죽박죽된다"
   ]
  },
  {
   "cell_type": "code",
   "execution_count": null,
   "metadata": {
    "colab": {
     "base_uri": "https://localhost:8080/"
    },
    "id": "d-1RXtebUrcP",
    "outputId": "85d8c370-3cce-456f-8341-4086d5a01164"
   },
   "outputs": [
    {
     "name": "stderr",
     "output_type": "stream",
     "text": [
      "100%|██████████| 100/100 [00:04<00:00, 24.77it/s]\n"
     ]
    }
   ],
   "source": [
    "preds = None\n",
    "\n",
    "for X in tqdm(test_dataloader): \n",
    "    X = X.to(device)\n",
    "    yhat = net(X)\n",
    "    \n",
    "    pred = yhat.detach().cpu().numpy().argmax(-1)\n",
    "    if preds is None:\n",
    "        preds = pred\n",
    "    else:\n",
    "        preds = np.concatenate([preds, pred])"
   ]
  },
  {
   "cell_type": "code",
   "execution_count": null,
   "metadata": {
    "id": "RBUwIR_cUVYm"
   },
   "outputs": [],
   "source": [
    "submission = pd.read_csv('/content/drive/My Drive/Colab Notebooks/CIFAR10/sample_submission.csv')"
   ]
  },
  {
   "cell_type": "code",
   "execution_count": null,
   "metadata": {
    "id": "GD93ycv4ZNhU"
   },
   "outputs": [],
   "source": [
    "predictions = le.inverse_transform(preds)"
   ]
  },
  {
   "cell_type": "code",
   "execution_count": null,
   "metadata": {
    "id": "2WC-HBOsZWxM"
   },
   "outputs": [],
   "source": [
    "submission['target'] = predictions"
   ]
  },
  {
   "cell_type": "code",
   "execution_count": null,
   "metadata": {
    "colab": {
     "base_uri": "https://localhost:8080/",
     "height": 206
    },
    "id": "lQv58TgegH3B",
    "outputId": "b4fea1a6-4325-4d66-cee0-85b2a809754d"
   },
   "outputs": [
    {
     "data": {
      "text/html": [
       "\n",
       "  <div id=\"df-25306346-9046-4019-a908-61e41dd19012\">\n",
       "    <div class=\"colab-df-container\">\n",
       "      <div>\n",
       "<style scoped>\n",
       "    .dataframe tbody tr th:only-of-type {\n",
       "        vertical-align: middle;\n",
       "    }\n",
       "\n",
       "    .dataframe tbody tr th {\n",
       "        vertical-align: top;\n",
       "    }\n",
       "\n",
       "    .dataframe thead th {\n",
       "        text-align: right;\n",
       "    }\n",
       "</style>\n",
       "<table border=\"1\" class=\"dataframe\">\n",
       "  <thead>\n",
       "    <tr style=\"text-align: right;\">\n",
       "      <th></th>\n",
       "      <th>id</th>\n",
       "      <th>target</th>\n",
       "    </tr>\n",
       "  </thead>\n",
       "  <tbody>\n",
       "    <tr>\n",
       "      <th>0</th>\n",
       "      <td>0000.jpg</td>\n",
       "      <td>horse</td>\n",
       "    </tr>\n",
       "    <tr>\n",
       "      <th>1</th>\n",
       "      <td>0001.jpg</td>\n",
       "      <td>airplane</td>\n",
       "    </tr>\n",
       "    <tr>\n",
       "      <th>2</th>\n",
       "      <td>0002.jpg</td>\n",
       "      <td>airplane</td>\n",
       "    </tr>\n",
       "    <tr>\n",
       "      <th>3</th>\n",
       "      <td>0003.jpg</td>\n",
       "      <td>dog</td>\n",
       "    </tr>\n",
       "    <tr>\n",
       "      <th>4</th>\n",
       "      <td>0004.jpg</td>\n",
       "      <td>airplane</td>\n",
       "    </tr>\n",
       "  </tbody>\n",
       "</table>\n",
       "</div>\n",
       "      <button class=\"colab-df-convert\" onclick=\"convertToInteractive('df-25306346-9046-4019-a908-61e41dd19012')\"\n",
       "              title=\"Convert this dataframe to an interactive table.\"\n",
       "              style=\"display:none;\">\n",
       "        \n",
       "  <svg xmlns=\"http://www.w3.org/2000/svg\" height=\"24px\"viewBox=\"0 0 24 24\"\n",
       "       width=\"24px\">\n",
       "    <path d=\"M0 0h24v24H0V0z\" fill=\"none\"/>\n",
       "    <path d=\"M18.56 5.44l.94 2.06.94-2.06 2.06-.94-2.06-.94-.94-2.06-.94 2.06-2.06.94zm-11 1L8.5 8.5l.94-2.06 2.06-.94-2.06-.94L8.5 2.5l-.94 2.06-2.06.94zm10 10l.94 2.06.94-2.06 2.06-.94-2.06-.94-.94-2.06-.94 2.06-2.06.94z\"/><path d=\"M17.41 7.96l-1.37-1.37c-.4-.4-.92-.59-1.43-.59-.52 0-1.04.2-1.43.59L10.3 9.45l-7.72 7.72c-.78.78-.78 2.05 0 2.83L4 21.41c.39.39.9.59 1.41.59.51 0 1.02-.2 1.41-.59l7.78-7.78 2.81-2.81c.8-.78.8-2.07 0-2.86zM5.41 20L4 18.59l7.72-7.72 1.47 1.35L5.41 20z\"/>\n",
       "  </svg>\n",
       "      </button>\n",
       "      \n",
       "  <style>\n",
       "    .colab-df-container {\n",
       "      display:flex;\n",
       "      flex-wrap:wrap;\n",
       "      gap: 12px;\n",
       "    }\n",
       "\n",
       "    .colab-df-convert {\n",
       "      background-color: #E8F0FE;\n",
       "      border: none;\n",
       "      border-radius: 50%;\n",
       "      cursor: pointer;\n",
       "      display: none;\n",
       "      fill: #1967D2;\n",
       "      height: 32px;\n",
       "      padding: 0 0 0 0;\n",
       "      width: 32px;\n",
       "    }\n",
       "\n",
       "    .colab-df-convert:hover {\n",
       "      background-color: #E2EBFA;\n",
       "      box-shadow: 0px 1px 2px rgba(60, 64, 67, 0.3), 0px 1px 3px 1px rgba(60, 64, 67, 0.15);\n",
       "      fill: #174EA6;\n",
       "    }\n",
       "\n",
       "    [theme=dark] .colab-df-convert {\n",
       "      background-color: #3B4455;\n",
       "      fill: #D2E3FC;\n",
       "    }\n",
       "\n",
       "    [theme=dark] .colab-df-convert:hover {\n",
       "      background-color: #434B5C;\n",
       "      box-shadow: 0px 1px 3px 1px rgba(0, 0, 0, 0.15);\n",
       "      filter: drop-shadow(0px 1px 2px rgba(0, 0, 0, 0.3));\n",
       "      fill: #FFFFFF;\n",
       "    }\n",
       "  </style>\n",
       "\n",
       "      <script>\n",
       "        const buttonEl =\n",
       "          document.querySelector('#df-25306346-9046-4019-a908-61e41dd19012 button.colab-df-convert');\n",
       "        buttonEl.style.display =\n",
       "          google.colab.kernel.accessAllowed ? 'block' : 'none';\n",
       "\n",
       "        async function convertToInteractive(key) {\n",
       "          const element = document.querySelector('#df-25306346-9046-4019-a908-61e41dd19012');\n",
       "          const dataTable =\n",
       "            await google.colab.kernel.invokeFunction('convertToInteractive',\n",
       "                                                     [key], {});\n",
       "          if (!dataTable) return;\n",
       "\n",
       "          const docLinkHtml = 'Like what you see? Visit the ' +\n",
       "            '<a target=\"_blank\" href=https://colab.research.google.com/notebooks/data_table.ipynb>data table notebook</a>'\n",
       "            + ' to learn more about interactive tables.';\n",
       "          element.innerHTML = '';\n",
       "          dataTable['output_type'] = 'display_data';\n",
       "          await google.colab.output.renderOutput(dataTable, element);\n",
       "          const docLink = document.createElement('div');\n",
       "          docLink.innerHTML = docLinkHtml;\n",
       "          element.appendChild(docLink);\n",
       "        }\n",
       "      </script>\n",
       "    </div>\n",
       "  </div>\n",
       "  "
      ],
      "text/plain": [
       "         id    target\n",
       "0  0000.jpg     horse\n",
       "1  0001.jpg  airplane\n",
       "2  0002.jpg  airplane\n",
       "3  0003.jpg       dog\n",
       "4  0004.jpg  airplane"
      ]
     },
     "execution_count": 83,
     "metadata": {},
     "output_type": "execute_result"
    }
   ],
   "source": [
    "submission.head()"
   ]
  },
  {
   "cell_type": "code",
   "execution_count": null,
   "metadata": {
    "id": "eRZHpkaSZ3sz"
   },
   "outputs": [],
   "source": [
    "submission.to_csv('/content/drive/My Drive/Colab Notebooks/CIFAR10/submission.csv', index=False)"
   ]
  },
  {
   "cell_type": "markdown",
   "metadata": {
    "id": "aZP14BU4f8NN"
   },
   "source": [
    "`-` 점수는 0.755"
   ]
  },
  {
   "cell_type": "code",
   "execution_count": null,
   "metadata": {
    "id": "hjpZLbFZv5Au"
   },
   "outputs": [],
   "source": []
  }
 ],
 "metadata": {
  "accelerator": "GPU",
  "colab": {
   "collapsed_sections": [],
   "name": "CIFAR10.ipynb",
   "provenance": []
  },
  "kernelspec": {
   "display_name": "Python 3 (ipykernel)",
   "language": "python",
   "name": "python3"
  },
  "language_info": {
   "codemirror_mode": {
    "name": "ipython",
    "version": 3
   },
   "file_extension": ".py",
   "mimetype": "text/x-python",
   "name": "python",
   "nbconvert_exporter": "python",
   "pygments_lexer": "ipython3",
   "version": "3.8.11"
  }
 },
 "nbformat": 4,
 "nbformat_minor": 4
}
