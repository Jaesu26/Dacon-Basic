{
 "cells": [
  {
   "cell_type": "markdown",
   "id": "a692a477-d4c4-4d4c-9280-71ff5823a48d",
   "metadata": {},
   "source": [
    "# 사물 이미지 분류 경진대회"
   ]
  },
  {
   "cell_type": "markdown",
   "id": "d6f0c098-5c1f-4b38-bbf7-de187fc15331",
   "metadata": {},
   "source": [
    "## 데이터 불러오기"
   ]
  },
  {
   "cell_type": "code",
   "execution_count": 1,
   "id": "91a654ef-90af-4923-a542-48e9aaaf2b6c",
   "metadata": {},
   "outputs": [],
   "source": [
    "import os\n",
    "import pandas as pd\n",
    "import warnings\n",
    "from PIL import Image\n",
    "import numpy as np\n",
    "import matplotlib.pyplot as plt\n",
    "import seaborn as sns\n",
    "import copy\n",
    "import torch\n",
    "from tqdm import tqdm\n",
    "\n",
    "warnings.filterwarnings('ignore')"
   ]
  },
  {
   "cell_type": "code",
   "execution_count": 2,
   "id": "1f6a43bb-c907-46f7-9efb-01a8248b8594",
   "metadata": {},
   "outputs": [],
   "source": [
    "## 데이터를 불러올 함수를 정의\n",
    "def load_CIFAR10(path, train=True):\n",
    "    '''\n",
    "    If train then\n",
    "        path -> folder1, folder2, ..., folder10\n",
    "        folder1 -> img1, img2, ..., img5000\n",
    "        ...\n",
    "        folder10 -> img1, img2, ..., img5000\n",
    "        \n",
    "    If test then\n",
    "        path -> img1, img2, ..., img5000\n",
    "    '''\n",
    "    from tqdm import tqdm\n",
    "    path = path ## 이미지 파일들이 담겨있는 폴더들이 담겨있는 파일 경로\n",
    "    images = [] ## 이미지 리스트\n",
    "    labels = [] ## 라벨 리스트\n",
    "    \n",
    "    ## train\n",
    "    if train:\n",
    "        for foldername in tqdm(os.listdir(path)): ## 이미지 파일들이 담겨있는 폴더 이름(=라벨)\n",
    "            img_path = path + foldername + '/'\n",
    "            for img in os.listdir(img_path):  ## 폴더에 담겨있는 이미지들\n",
    "                an_img = Image.open(img_path + img)  ## 이미지를 불러온다\n",
    "                img_array = np.array(an_img)  ## 이미지를 넘파이 어레이로 변경한다\n",
    "                images.append(img_array)      ## 이미지 리스트에 넘파이 어레이로 된 이미지를 추가한다\n",
    "                label = foldername            ## 라벨을 가져온다\n",
    "                labels.append(label)          ## 라벨 리스트에 라벨을 추가한다\n",
    "                \n",
    "        return images, labels ## 이미지와 라벨을 반환\n",
    "                \n",
    "    ## test\n",
    "    for img in tqdm(os.listdir(path)):\n",
    "        an_img = Image.open(path + img)  \n",
    "        img_array = np.array(an_img)  \n",
    "        images.append(img_array)               \n",
    "        \n",
    "    return images ## 이미지를 반환(test는 라벨이 없다)"
   ]
  },
  {
   "cell_type": "code",
   "execution_count": 3,
   "id": "0b768b87-949c-4b9d-b699-a2f37bc57298",
   "metadata": {},
   "outputs": [],
   "source": [
    "file_path = 'C:/Users/Jaesu/Dataset/CIFAR10_dataset/'"
   ]
  },
  {
   "cell_type": "code",
   "execution_count": 4,
   "id": "b0c06197-ced9-4c86-9a03-dae2a0540233",
   "metadata": {},
   "outputs": [],
   "source": [
    "train_file_path = file_path + 'train/'\n",
    "test_file_path = file_path + 'test/'"
   ]
  },
  {
   "cell_type": "code",
   "execution_count": 6,
   "id": "6156e0fb-d6b0-4cc3-8bcb-abfc120223da",
   "metadata": {},
   "outputs": [
    {
     "name": "stderr",
     "output_type": "stream",
     "text": [
      "100%|██████████████████████████████████████████████████████████████████████████████████| 10/10 [07:37<00:00, 45.78s/it]\n"
     ]
    }
   ],
   "source": [
    "train_images, train_labels = load_CIFAR10(path=train_file_path)"
   ]
  },
  {
   "cell_type": "code",
   "execution_count": 5,
   "id": "d5bfbf51-4cd4-41d7-bad4-25e6e2e941da",
   "metadata": {},
   "outputs": [
    {
     "name": "stderr",
     "output_type": "stream",
     "text": [
      "100%|████████████████████████████████████████████████████████████████████████████| 10000/10000 [01:56<00:00, 85.59it/s]\n"
     ]
    }
   ],
   "source": [
    "test_images = load_CIFAR10(path=test_file_path, train=False)"
   ]
  },
  {
   "cell_type": "markdown",
   "id": "e246c64f-9c06-48a1-9120-7f360abdef00",
   "metadata": {},
   "source": [
    "`-` 신기한게 처음에 이미지 불러올 땐 6분 걸렸는데 다시 불러오니 22초 걸림\n",
    "\n",
    "`-` 라벨 인코딩을 해주자"
   ]
  },
  {
   "cell_type": "code",
   "execution_count": 7,
   "id": "8340de45-51aa-42ba-8f59-24b4e7f1d57c",
   "metadata": {},
   "outputs": [],
   "source": [
    "from sklearn.preprocessing import LabelEncoder"
   ]
  },
  {
   "cell_type": "code",
   "execution_count": 8,
   "id": "f3c10b70-32e5-4a5b-9d12-55014eb91d6f",
   "metadata": {},
   "outputs": [],
   "source": [
    "train_images = np.array(train_images)\n",
    "train_labels = np.array(train_labels)\n",
    "test_images = np.array(test_images)"
   ]
  },
  {
   "cell_type": "code",
   "execution_count": 9,
   "id": "f9185d95-df80-4c40-87ef-dfda7fb8d5da",
   "metadata": {},
   "outputs": [],
   "source": [
    "le = LabelEncoder()\n",
    "train_labels = le.fit_transform(train_labels)\n",
    "train_labels = train_labels.reshape(-1)\n",
    "train_labels = torch.Tensor(train_labels).type(torch.LongTensor) ## 라벨은 Tensor"
   ]
  },
  {
   "cell_type": "code",
   "execution_count": 10,
   "id": "b9d16f5e-c2f6-4b68-a54d-b181713f58d9",
   "metadata": {},
   "outputs": [
    {
     "data": {
      "text/plain": [
       "((50000, 32, 32, 3), torch.Size([50000]), (10000, 32, 32, 3))"
      ]
     },
     "execution_count": 10,
     "metadata": {},
     "output_type": "execute_result"
    }
   ],
   "source": [
    "train_images.shape, train_labels.shape, test_images.shape"
   ]
  },
  {
   "cell_type": "markdown",
   "id": "59e0fbcf-5a7f-4fa6-8358-dcb98df08dd9",
   "metadata": {},
   "source": [
    "## 간단한 EDA"
   ]
  },
  {
   "cell_type": "markdown",
   "id": "0896dd55-4d95-42bb-a4d0-8ab33e0969d7",
   "metadata": {},
   "source": [
    "`-` 무작위로 이미지를 뽑아 시각화"
   ]
  },
  {
   "cell_type": "code",
   "execution_count": 11,
   "id": "4f9d2fcf-e055-427d-86c3-842d31e9bb9f",
   "metadata": {},
   "outputs": [
    {
     "data": {
      "image/png": "[encoded data removed]",
      "text/plain": [
       "<Figure size 720x360 with 10 Axes>"
      ]
     },
     "metadata": {},
     "output_type": "display_data"
    }
   ],
   "source": [
    "plt.figure(figsize=[10, 5])\n",
    "for i in range(10):\n",
    "    import random\n",
    "    num = random.randint(0, 50000)\n",
    "    plt.subplot(2, 5, i + 1)\n",
    "    plt.grid(False)\n",
    "    plt.xticks([])\n",
    "    plt.yticks([])\n",
    "    plt.xlabel(le.inverse_transform([train_labels[num].item()]).item())\n",
    "    plt.imshow(train_images[num])\n",
    "plt.show()"
   ]
  },
  {
   "cell_type": "markdown",
   "id": "044dfd11-4f6b-4208-a2a9-3070e4a8def4",
   "metadata": {},
   "source": [
    "`-` 라벨 빈도수 확인"
   ]
  },
  {
   "cell_type": "code",
   "execution_count": 12,
   "id": "60e6b55a-3479-4f0b-a20e-87572bbf472e",
   "metadata": {},
   "outputs": [
    {
     "data": {
      "image/png": "[encoded data removed]",
      "text/plain": [
       "<Figure size 720x360 with 1 Axes>"
      ]
     },
     "metadata": {
      "needs_background": "light"
     },
     "output_type": "display_data"
    }
   ],
   "source": [
    "plt.figure(figsize=[10,5])\n",
    "sns.countplot(np.array(train_labels))\n",
    "plt.title('Distribution of training data')\n",
    "plt.xlabel('Classes')\n",
    "plt.show()"
   ]
  },
  {
   "cell_type": "markdown",
   "id": "26962527-8739-43f5-8ab0-4fb441f455a0",
   "metadata": {},
   "source": [
    "## Dataset 준비"
   ]
  },
  {
   "cell_type": "code",
   "execution_count": 13,
   "id": "107b6ccb-abde-4202-9b09-53d10eba5dd8",
   "metadata": {},
   "outputs": [],
   "source": [
    "import torch\n",
    "from torch.utils.data import Dataset, DataLoader\n",
    "from torch import nn\n",
    "from torchvision import transforms, models\n",
    "from sklearn.model_selection import train_test_split"
   ]
  },
  {
   "cell_type": "markdown",
   "id": "0a1a0ae0-9112-4b7a-b417-68f4c9e5cf8b",
   "metadata": {},
   "source": [
    "`-` RGB 각각 표준화"
   ]
  },
  {
   "cell_type": "code",
   "execution_count": 14,
   "id": "62404175-982b-43e7-9e7d-dfd251427ea8",
   "metadata": {},
   "outputs": [],
   "source": [
    "RGB_MEAN = [np.mean((train_images[...,i] / 255)) for i in range(3)] ## 255로 나눈후 RGB 각각의 평균\n",
    "RGB_STD = [np.std(train_images[...,i] / 255) for i in range(3)]  ## 255로 나눈후 RGB 각각의 표준편차"
   ]
  },
  {
   "cell_type": "markdown",
   "id": "4dc76690-c252-4d06-be0e-99b05694fa51",
   "metadata": {},
   "source": [
    "`-` 데이터 변환 방식 정의"
   ]
  },
  {
   "cell_type": "code",
   "execution_count": 32,
   "id": "d9cf690a-d574-4818-b511-3c5cca2ffa51",
   "metadata": {},
   "outputs": [],
   "source": [
    "## 데이터 변환 방식을 정의(Agumentation)\n",
    "def get_transform(train=True):\n",
    "    trans = transforms.Compose([\n",
    "        transforms.ToTensor(), ## 0~255 -> 0~1\n",
    "        transforms.Normalize(RGB_MEAN, RGB_STD) ## 평균을 0, 표준편차를 1로 만듦\n",
    "    ])\n",
    "    \n",
    "    if train:\n",
    "        trans = transforms.Compose([\n",
    "            transforms.ToPILImage(), ## numpy array를 PIL이미지로 바꾸고 이미지를 변형시킨다 ## 변형은 PIL이미지 타입일 때 가능\n",
    "            #transforms.RandomResizedCrop(size=32, scale=(0.6, 1.0)), # 0.6~1.0 비율 영역을 무작위로 잘라내기\n",
    "            transforms.RandomHorizontalFlip(p=0.5), ## 50%의 확률로 수평으로 뒤집음\n",
    "            transforms.RandomRotation(degrees=20), ## 무작위로 -20~20도 회전\n",
    "            transforms.ToTensor(), ## PIL이미지를 다시 텐서로 변환하고 0~1로 정규화\n",
    "            transforms.Normalize(RGB_MEAN, RGB_STD) ## 평균을 0, 표준편차를 1로 만듦\n",
    "        ])\n",
    "\n",
    "    return trans ## 데이터 변환 방식을 반환"
   ]
  },
  {
   "cell_type": "markdown",
   "id": "a4e90959-2c0b-402b-9b05-2b4f00ee2e71",
   "metadata": {},
   "source": [
    "`-` 데이터셋 정의"
   ]
  },
  {
   "cell_type": "code",
   "execution_count": 16,
   "id": "cab35b08-2ef3-48b4-9bc6-583db2493804",
   "metadata": {},
   "outputs": [],
   "source": [
    "class CustomDataset(Dataset):\n",
    "    def __init__(self, X: np.array, labels=None, transform=None, target_transform=None):\n",
    "        self.X = X  ## 넘파이 어레이로 변환된 이미지\n",
    "        self.labels = labels  ## 라벨\n",
    "        self.transform = transform  ## X 변환방법\n",
    "        self.target_transform = target_transform ## 라벨 변환방법\n",
    "    \n",
    "    def __getitem__(self, idx):\n",
    "        numpy_img = self.X[idx]\n",
    "        if self.transform is not None: \n",
    "            transformed_img = self.transform(numpy_img) \n",
    "            \n",
    "        if self.labels is not None:\n",
    "            label = self.labels[idx]\n",
    "            if self.target_transform:\n",
    "                label = self.target_transform(label)             \n",
    "            return transformed_img, label  ## train   \n",
    "        \n",
    "        return transformed_img  ## test\n",
    "    \n",
    "    def __len__(self):\n",
    "        return len(self.X) ## 데이터 개수 반환"
   ]
  },
  {
   "cell_type": "code",
   "execution_count": 17,
   "id": "ae9f9b92-3756-40a7-a8d5-6acb4268a3d1",
   "metadata": {},
   "outputs": [],
   "source": [
    "transform_train = get_transform() ## train\n",
    "transform_test = get_transform(train=False) ## test"
   ]
  },
  {
   "cell_type": "code",
   "execution_count": 18,
   "id": "28ae79fe-16cf-4eb4-b187-b5c8646cb1d8",
   "metadata": {},
   "outputs": [],
   "source": [
    "X_train, X_valid, y_train, y_valid = train_test_split(train_images, train_labels, test_size=0.2, stratify=train_labels, random_state=22)\n",
    "X_test = copy.deepcopy(test_images)"
   ]
  },
  {
   "cell_type": "code",
   "execution_count": 19,
   "id": "46a49a56-f87c-4323-88c1-d74162cc5082",
   "metadata": {},
   "outputs": [
    {
     "name": "stdout",
     "output_type": "stream",
     "text": [
      "X_train 크기: (40000, 32, 32, 3)\n",
      "X_valid 크기: (10000, 32, 32, 3)\n",
      "X_test  크기: (10000, 32, 32, 3)\n"
     ]
    }
   ],
   "source": [
    "print('X_train 크기:', X_train.shape)\n",
    "print('X_valid 크기:', X_valid.shape)\n",
    "print('X_test  크기:', X_test.shape)"
   ]
  },
  {
   "cell_type": "markdown",
   "id": "7a7e3964-fd3d-48e5-8716-d860a819fb41",
   "metadata": {},
   "source": [
    "## 모델 설계\n",
    "\n",
    "`-` 학습은 gpu없으면 너무 오래걸려서 colab에서 해야됨\n",
    "\n",
    "`-` 아래는 모델이 잘 돌아가는지 확인용으로 작성함"
   ]
  },
  {
   "cell_type": "code",
   "execution_count": 29,
   "id": "8d78d472-234c-4747-bc09-246e308aeddc",
   "metadata": {},
   "outputs": [],
   "source": [
    "#nn.init.xavier_normal_?"
   ]
  },
  {
   "cell_type": "code",
   "execution_count": 36,
   "id": "1c6bc5eb-225e-4c97-a69e-a14f7c57cc8f",
   "metadata": {},
   "outputs": [],
   "source": [
    "w = torch.empty(3, 3)"
   ]
  },
  {
   "cell_type": "code",
   "execution_count": 37,
   "id": "d6cb7634-69bf-467d-bb0d-12465cb54c0b",
   "metadata": {},
   "outputs": [
    {
     "name": "stdout",
     "output_type": "stream",
     "text": [
      "tensor([[0., 0., 0.],\n",
      "        [0., 0., 0.],\n",
      "        [0., 0., 0.]])\n"
     ]
    }
   ],
   "source": [
    "print(w)"
   ]
  },
  {
   "cell_type": "code",
   "execution_count": 38,
   "id": "e42196eb-c908-4152-a441-39056f0443cb",
   "metadata": {},
   "outputs": [
    {
     "name": "stdout",
     "output_type": "stream",
     "text": [
      "tensor([[-0.2961, -0.6533,  0.5028],\n",
      "        [ 0.4814, -0.0267,  0.2600],\n",
      "        [-0.4015, -0.0679, -0.5427]])\n"
     ]
    }
   ],
   "source": [
    "nn.init.xavier_normal_(w) ## 모델의 가중치를 가우시안 분포를 사용하여 초기화\n",
    "print(w)"
   ]
  },
  {
   "cell_type": "code",
   "execution_count": 20,
   "id": "fe5f2bbc-6423-49cf-a8e0-053c7e6f942e",
   "metadata": {},
   "outputs": [],
   "source": [
    "class CustomModel(nn.Module):\n",
    "    def __init__(self):\n",
    "        super(CustomModel, self).__init__()\n",
    "        self.model = models.resnet18(pretrained=False) ## Resnet18 아키텍쳐사용\n",
    "        self.drop = nn.Dropout(0.25)\n",
    "        self.fc = nn.Linear(1000, 10) ## resnet18의 최종 output차원은 1000\n",
    "        nn.init.xavier_normal_(self.fc.weight) ## 모델의 가중치 초기화 ---> 매우 중요(안하면 성능 매우 많이 떨어짐) \n",
    "        \n",
    "    def forward(self, x):\n",
    "        x = self.model(x)\n",
    "        x = self.drop(x)\n",
    "        x = self.fc(x)\n",
    "        return x"
   ]
  },
  {
   "cell_type": "code",
   "execution_count": 21,
   "id": "1faaec97-a287-4fd1-bf44-89470dbb285a",
   "metadata": {},
   "outputs": [
    {
     "data": {
      "text/plain": [
       "<torch._C.Generator at 0x19487a0bc50>"
      ]
     },
     "execution_count": 21,
     "metadata": {},
     "output_type": "execute_result"
    }
   ],
   "source": [
    "## 랜덤 시드 고정\n",
    "torch.manual_seed(22)"
   ]
  },
  {
   "cell_type": "code",
   "execution_count": 22,
   "id": "6d64fecc-8be9-4fa4-b561-ae800eca986c",
   "metadata": {},
   "outputs": [],
   "source": [
    "device = 'cuda' if torch.cuda.is_available() else 'cpu'"
   ]
  },
  {
   "cell_type": "code",
   "execution_count": 23,
   "id": "417b3a6c-7498-41dc-bff3-3eb970cc0560",
   "metadata": {},
   "outputs": [],
   "source": [
    "learning_rate = 0.001\n",
    "epochs = 1 ## test 용도, 나중에 할 땐 10으로 변경\n",
    "batch_size = 100"
   ]
  },
  {
   "cell_type": "markdown",
   "id": "0f266074-8927-4bf5-897e-54cd8620b926",
   "metadata": {},
   "source": [
    "`-` train 데이터셋과 데이터로더"
   ]
  },
  {
   "cell_type": "code",
   "execution_count": 24,
   "id": "4ba44121-3dc4-4d08-a9f7-81ee5d84f11d",
   "metadata": {},
   "outputs": [],
   "source": [
    "train_dataset = CustomDataset(X=X_train, labels=y_train, transform=transform_train)\n",
    "train_dataloader = DataLoader(train_dataset, batch_size=batch_size, shuffle=True)"
   ]
  },
  {
   "cell_type": "markdown",
   "id": "c8fe99a0-c318-444f-b182-e6d36e86df76",
   "metadata": {},
   "source": [
    "`-` valid 데이터셋과 데이터로더"
   ]
  },
  {
   "cell_type": "code",
   "execution_count": 25,
   "id": "3fcdaab0-4089-4449-b3ac-4bd3d9da6122",
   "metadata": {},
   "outputs": [],
   "source": [
    "valid_dataset = CustomDataset(X=X_valid, labels=y_valid, transform=transform_train)\n",
    "valid_dataloader = DataLoader(valid_dataset, batch_size=batch_size, shuffle=False)"
   ]
  },
  {
   "cell_type": "code",
   "execution_count": 26,
   "id": "95cf5a24-9ae1-4e57-9535-37b5f06944e0",
   "metadata": {},
   "outputs": [
    {
     "name": "stdout",
     "output_type": "stream",
     "text": [
      "총 배치의 수 : 400\n"
     ]
    }
   ],
   "source": [
    "total_batch = len(train_dataloader)\n",
    "print(f'총 배치의 수 : {total_batch}')"
   ]
  },
  {
   "cell_type": "code",
   "execution_count": 27,
   "id": "cabd83ac-61aa-47ab-b84e-3aa62738f191",
   "metadata": {},
   "outputs": [],
   "source": [
    "## 모델 정의\n",
    "net = CustomModel().to(device)"
   ]
  },
  {
   "cell_type": "code",
   "execution_count": 28,
   "id": "31e1e627-f1e9-4b31-a4a2-de4a248acade",
   "metadata": {},
   "outputs": [],
   "source": [
    "loss_fn = torch.nn.CrossEntropyLoss().to(device)   ## 비용 함수에 소프트맥스 함수 포함 -> net 내부에서 마지막 활성화함수로 소프트맥스 사용안해도 됨\n",
    "optimizer = torch.optim.Adam(net.parameters(), lr=learning_rate) ## 옵티마이저에 최적화할 파라미터와 학습률 전달"
   ]
  },
  {
   "cell_type": "markdown",
   "id": "45d3d703-4995-4dd9-a424-15ff46f6d31b",
   "metadata": {},
   "source": [
    "`-` 이제 모델을 훈련시키자"
   ]
  },
  {
   "cell_type": "code",
   "execution_count": 29,
   "id": "888a3471-c0fd-454b-9e13-f9498a3b7182",
   "metadata": {},
   "outputs": [
    {
     "name": "stderr",
     "output_type": "stream",
     "text": [
      "100%|████████████████████████████████████████████████████████████████████████████████| 400/400 [11:18<00:00,  1.70s/it]"
     ]
    },
    {
     "name": "stdout",
     "output_type": "stream",
     "text": [
      "[Epoch:    1] loss = 2.01297808\n"
     ]
    },
    {
     "name": "stderr",
     "output_type": "stream",
     "text": [
      "\n"
     ]
    }
   ],
   "source": [
    "net.train() ## 훈련모드\n",
    "for epoch in range(epochs):\n",
    "    avg_loss = 0 ## 평균 loss\n",
    "\n",
    "    for X, y in tqdm(train_dataloader): # 미니 배치 단위로 꺼내온다, X는 미니 배치, y는 레이블\n",
    "        X = X.to(device)\n",
    "        y = y.to(device) ## shape를 2d에서 1d로 맞춰주고 type을 float32에서 int64로 바꿔줌\n",
    "\n",
    "        optimizer.zero_grad() ## 그래디언트 초기화\n",
    "        yhat = net(X) ## y_hat을 구한다\n",
    "        loss = loss_fn(yhat, y) ## 오차를 계산\n",
    "        loss.backward()  ## 미분\n",
    "        optimizer.step() ## 업데이트\n",
    "\n",
    "        avg_loss += (loss / total_batch)\n",
    "\n",
    "    print('[Epoch: {:>4}] loss = {:>.9}'.format(epoch + 1, avg_loss))"
   ]
  },
  {
   "cell_type": "code",
   "execution_count": 30,
   "id": "1c60d713-1234-4d4f-bf99-521f1639e8c1",
   "metadata": {},
   "outputs": [],
   "source": [
    "## accuracy 계산\n",
    "def accuracy(true, pred):\n",
    "    return sum(true == pred) / len(true)"
   ]
  },
  {
   "cell_type": "code",
   "execution_count": 31,
   "id": "efd7d5ed-525f-4537-adbb-df8600953f48",
   "metadata": {},
   "outputs": [
    {
     "name": "stderr",
     "output_type": "stream",
     "text": [
      "100%|████████████████████████████████████████████████████████████████████████████████| 100/100 [00:24<00:00,  4.13it/s]"
     ]
    },
    {
     "name": "stdout",
     "output_type": "stream",
     "text": [
      "Mean Valid Loss : 2.025927\n",
      "Mean Valid accuracy : 0.360600\n"
     ]
    },
    {
     "name": "stderr",
     "output_type": "stream",
     "text": [
      "\n"
     ]
    }
   ],
   "source": [
    "net.eval() ## 평가모드\n",
    "valid_loss = [] \n",
    "acc_list = []\n",
    "\n",
    "with torch.no_grad(): ## 평가할 땐 역전파를 쓸 필요가 없으니까\n",
    "    for X, y in tqdm(valid_dataloader):\n",
    "        X = X.to(device)\n",
    "        y = y.to(device)\n",
    "        yhat = net(X)\n",
    "        loss = loss_fn(yhat,y)\n",
    "        acc = accuracy(y.detach().cpu().numpy(), yhat.detach().cpu().numpy().argmax(-1))                                                         \n",
    "        valid_loss.append(loss)\n",
    "        acc_list.append(acc)\n",
    "            \n",
    "print(f'Mean Valid Loss : {np.mean(valid_loss):>8f}') ## 평가 루프 종료시 평균 loss를 출력\n",
    "print(f'Mean Valid accuracy : {np.mean(acc_list):>8f}') ## 평가 루프 종료시 accuracy를 출력"
   ]
  },
  {
   "cell_type": "markdown",
   "id": "78c455a2-20b0-46b7-8c80-93dbe9aa1188",
   "metadata": {
    "id": "RsWlvYTHPZAY"
   },
   "source": [
    "## test 예측"
   ]
  },
  {
   "cell_type": "code",
   "execution_count": 39,
   "id": "2ebee884-da6c-4d0f-90b4-72ee8fe3c370",
   "metadata": {
    "id": "6YnQ18L9UtmW"
   },
   "outputs": [],
   "source": [
    "test_dataset = CustomDataset(X=X_test, transform=transform_test)\n",
    "test_dataloader = DataLoader(test_dataset, batch_size=batch_size, shuffle=False)"
   ]
  },
  {
   "cell_type": "code",
   "execution_count": 41,
   "id": "635d8cae-1609-418a-b0f9-7e0b815c85a6",
   "metadata": {
    "colab": {
     "base_uri": "https://localhost:8080/"
    },
    "id": "d-1RXtebUrcP",
    "outputId": "ae9ec92b-28ea-49cc-a930-1cec24dac06e"
   },
   "outputs": [
    {
     "name": "stderr",
     "output_type": "stream",
     "text": [
      "100%|████████████████████████████████████████████████████████████████████████████████| 100/100 [00:19<00:00,  5.16it/s]\n"
     ]
    }
   ],
   "source": [
    "preds = None\n",
    "\n",
    "for X in tqdm(test_dataloader): \n",
    "    X = X.to(device)\n",
    "    yhat = net(X)\n",
    "    \n",
    "    pred = yhat.detach().cpu().numpy().argmax(-1)\n",
    "    if preds is None:\n",
    "        preds = pred\n",
    "    else:\n",
    "        preds = np.concatenate([preds, pred])"
   ]
  },
  {
   "cell_type": "code",
   "execution_count": 225,
   "id": "8f5a1771-fc91-45f8-90b7-c16666b526a7",
   "metadata": {
    "id": "RBUwIR_cUVYm"
   },
   "outputs": [],
   "source": [
    "submission = pd.read_csv('/content/drive/My Drive/Colab Notebooks/CIFAR10/sample_submission.csv')"
   ]
  },
  {
   "cell_type": "code",
   "execution_count": 235,
   "id": "00d1dd7c-f932-4db0-a98a-e54e8d925590",
   "metadata": {
    "id": "GD93ycv4ZNhU"
   },
   "outputs": [],
   "source": [
    "predictions = le.inverse_transform(preds)"
   ]
  },
  {
   "cell_type": "code",
   "execution_count": 237,
   "id": "74ef9266-fd00-436b-919e-aae265f7854b",
   "metadata": {
    "id": "2WC-HBOsZWxM"
   },
   "outputs": [],
   "source": [
    "submission['target'] = predictions"
   ]
  },
  {
   "cell_type": "code",
   "execution_count": 239,
   "id": "457d4819-dd83-4ea3-8ca3-79808883f786",
   "metadata": {
    "colab": {
     "base_uri": "https://localhost:8080/",
     "height": 206
    },
    "id": "lQv58TgegH3B",
    "outputId": "3b01ae6e-e886-4fa8-fe8b-3aba84c14c8f"
   },
   "outputs": [
    {
     "data": {
      "text/html": [
       "\n",
       "  <div id=\"df-e8e16daf-ec8b-4478-a025-633dbd6a7dbf\">\n",
       "    <div class=\"colab-df-container\">\n",
       "      <div>\n",
       "<style scoped>\n",
       "    .dataframe tbody tr th:only-of-type {\n",
       "        vertical-align: middle;\n",
       "    }\n",
       "\n",
       "    .dataframe tbody tr th {\n",
       "        vertical-align: top;\n",
       "    }\n",
       "\n",
       "    .dataframe thead th {\n",
       "        text-align: right;\n",
       "    }\n",
       "</style>\n",
       "<table border=\"1\" class=\"dataframe\">\n",
       "  <thead>\n",
       "    <tr style=\"text-align: right;\">\n",
       "      <th></th>\n",
       "      <th>id</th>\n",
       "      <th>target</th>\n",
       "    </tr>\n",
       "  </thead>\n",
       "  <tbody>\n",
       "    <tr>\n",
       "      <th>0</th>\n",
       "      <td>0000.jpg</td>\n",
       "      <td>frog</td>\n",
       "    </tr>\n",
       "    <tr>\n",
       "      <th>1</th>\n",
       "      <td>0001.jpg</td>\n",
       "      <td>cat</td>\n",
       "    </tr>\n",
       "    <tr>\n",
       "      <th>2</th>\n",
       "      <td>0002.jpg</td>\n",
       "      <td>truck</td>\n",
       "    </tr>\n",
       "    <tr>\n",
       "      <th>3</th>\n",
       "      <td>0003.jpg</td>\n",
       "      <td>airplane</td>\n",
       "    </tr>\n",
       "    <tr>\n",
       "      <th>4</th>\n",
       "      <td>0004.jpg</td>\n",
       "      <td>deer</td>\n",
       "    </tr>\n",
       "  </tbody>\n",
       "</table>\n",
       "</div>\n",
       "      <button class=\"colab-df-convert\" onclick=\"convertToInteractive('df-e8e16daf-ec8b-4478-a025-633dbd6a7dbf')\"\n",
       "              title=\"Convert this dataframe to an interactive table.\"\n",
       "              style=\"display:none;\">\n",
       "        \n",
       "  <svg xmlns=\"http://www.w3.org/2000/svg\" height=\"24px\"viewBox=\"0 0 24 24\"\n",
       "       width=\"24px\">\n",
       "    <path d=\"M0 0h24v24H0V0z\" fill=\"none\"/>\n",
       "    <path d=\"M18.56 5.44l.94 2.06.94-2.06 2.06-.94-2.06-.94-.94-2.06-.94 2.06-2.06.94zm-11 1L8.5 8.5l.94-2.06 2.06-.94-2.06-.94L8.5 2.5l-.94 2.06-2.06.94zm10 10l.94 2.06.94-2.06 2.06-.94-2.06-.94-.94-2.06-.94 2.06-2.06.94z\"/><path d=\"M17.41 7.96l-1.37-1.37c-.4-.4-.92-.59-1.43-.59-.52 0-1.04.2-1.43.59L10.3 9.45l-7.72 7.72c-.78.78-.78 2.05 0 2.83L4 21.41c.39.39.9.59 1.41.59.51 0 1.02-.2 1.41-.59l7.78-7.78 2.81-2.81c.8-.78.8-2.07 0-2.86zM5.41 20L4 18.59l7.72-7.72 1.47 1.35L5.41 20z\"/>\n",
       "  </svg>\n",
       "      </button>\n",
       "      \n",
       "  <style>\n",
       "    .colab-df-container {\n",
       "      display:flex;\n",
       "      flex-wrap:wrap;\n",
       "      gap: 12px;\n",
       "    }\n",
       "\n",
       "    .colab-df-convert {\n",
       "      background-color: #E8F0FE;\n",
       "      border: none;\n",
       "      border-radius: 50%;\n",
       "      cursor: pointer;\n",
       "      display: none;\n",
       "      fill: #1967D2;\n",
       "      height: 32px;\n",
       "      padding: 0 0 0 0;\n",
       "      width: 32px;\n",
       "    }\n",
       "\n",
       "    .colab-df-convert:hover {\n",
       "      background-color: #E2EBFA;\n",
       "      box-shadow: 0px 1px 2px rgba(60, 64, 67, 0.3), 0px 1px 3px 1px rgba(60, 64, 67, 0.15);\n",
       "      fill: #174EA6;\n",
       "    }\n",
       "\n",
       "    [theme=dark] .colab-df-convert {\n",
       "      background-color: #3B4455;\n",
       "      fill: #D2E3FC;\n",
       "    }\n",
       "\n",
       "    [theme=dark] .colab-df-convert:hover {\n",
       "      background-color: #434B5C;\n",
       "      box-shadow: 0px 1px 3px 1px rgba(0, 0, 0, 0.15);\n",
       "      filter: drop-shadow(0px 1px 2px rgba(0, 0, 0, 0.3));\n",
       "      fill: #FFFFFF;\n",
       "    }\n",
       "  </style>\n",
       "\n",
       "      <script>\n",
       "        const buttonEl =\n",
       "          document.querySelector('#df-e8e16daf-ec8b-4478-a025-633dbd6a7dbf button.colab-df-convert');\n",
       "        buttonEl.style.display =\n",
       "          google.colab.kernel.accessAllowed ? 'block' : 'none';\n",
       "\n",
       "        async function convertToInteractive(key) {\n",
       "          const element = document.querySelector('#df-e8e16daf-ec8b-4478-a025-633dbd6a7dbf');\n",
       "          const dataTable =\n",
       "            await google.colab.kernel.invokeFunction('convertToInteractive',\n",
       "                                                     [key], {});\n",
       "          if (!dataTable) return;\n",
       "\n",
       "          const docLinkHtml = 'Like what you see? Visit the ' +\n",
       "            '<a target=\"_blank\" href=https://colab.research.google.com/notebooks/data_table.ipynb>data table notebook</a>'\n",
       "            + ' to learn more about interactive tables.';\n",
       "          element.innerHTML = '';\n",
       "          dataTable['output_type'] = 'display_data';\n",
       "          await google.colab.output.renderOutput(dataTable, element);\n",
       "          const docLink = document.createElement('div');\n",
       "          docLink.innerHTML = docLinkHtml;\n",
       "          element.appendChild(docLink);\n",
       "        }\n",
       "      </script>\n",
       "    </div>\n",
       "  </div>\n",
       "  "
      ],
      "text/plain": [
       "         id    target\n",
       "0  0000.jpg      frog\n",
       "1  0001.jpg       cat\n",
       "2  0002.jpg     truck\n",
       "3  0003.jpg  airplane\n",
       "4  0004.jpg      deer"
      ]
     },
     "execution_count": 239,
     "metadata": {},
     "output_type": "execute_result"
    }
   ],
   "source": [
    "submission.head()"
   ]
  },
  {
   "cell_type": "code",
   "execution_count": 238,
   "id": "fe48c508-47cf-4d4d-ba75-bf1b41fa4f9e",
   "metadata": {
    "id": "eRZHpkaSZ3sz"
   },
   "outputs": [],
   "source": [
    "submission.to_csv('/content/drive/My Drive/Colab Notebooks/CIFAR10/submission.csv', index=False)"
   ]
  },
  {
   "cell_type": "markdown",
   "id": "1672a67d-45e2-47fd-b17e-a7db064ca6db",
   "metadata": {},
   "source": [
    "`-` 점수가 이상하게 나왔는데 test 데이터셋을 불러올 때 순서를 지키지 않아서 그런거였다"
   ]
  },
  {
   "cell_type": "code",
   "execution_count": null,
   "id": "8b3b80c9-4f72-4bd9-b069-bead91827e36",
   "metadata": {},
   "outputs": [],
   "source": []
  }
 ],
 "metadata": {
  "kernelspec": {
   "display_name": "Python 3 (ipykernel)",
   "language": "python",
   "name": "python3"
  },
  "language_info": {
   "codemirror_mode": {
    "name": "ipython",
    "version": 3
   },
   "file_extension": ".py",
   "mimetype": "text/x-python",
   "name": "python",
   "nbconvert_exporter": "python",
   "pygments_lexer": "ipython3",
   "version": "3.8.11"
  }
 },
 "nbformat": 4,
 "nbformat_minor": 5
}
