{
  "cells": [
    {
      "cell_type": "markdown",
      "metadata": {
        "id": "view-in-github",
        "colab_type": "text"
      },
      "source": [
        "<a href=\"https://colab.research.google.com/github/Jaesu26/dacon-temp/blob/main/2024-02-04-%EA%B3%A0%EA%B0%9D-%EB%8C%80%EC%B6%9C%EB%93%B1%EA%B8%89-%EB%B6%84%EB%A5%98.ipynb\" target=\"_parent\"><img src=\"https://colab.research.google.com/assets/colab-badge.svg\" alt=\"Open In Colab\"/></a>"
      ]
    },
    {
      "cell_type": "markdown",
      "metadata": {
        "id": "75xRhMA-ZZ4g"
      },
      "source": [
        "# 고객 대출 등급 분류 AI 경진대회"
      ]
    },
    {
      "cell_type": "code",
      "source": [
        "!sudo apt-get install -y fonts-nanum\n",
        "!sudo fc-cache -fv\n",
        "!rm ~/.cache/matplotlib -rf"
      ],
      "metadata": {
        "colab": {
          "base_uri": "https://localhost:8080/"
        },
        "id": "AKaF8AA7c15k",
        "outputId": "b84ea550-9e3e-4cda-b9a0-e09cb6a90004"
      },
      "execution_count": 1,
      "outputs": [
        {
          "output_type": "stream",
          "name": "stdout",
          "text": [
            "Reading package lists... Done\n",
            "Building dependency tree... Done\n",
            "Reading state information... Done\n",
            "fonts-nanum is already the newest version (20200506-1).\n",
            "0 upgraded, 0 newly installed, 0 to remove and 32 not upgraded.\n",
            "/usr/share/fonts: caching, new cache contents: 0 fonts, 1 dirs\n",
            "/usr/share/fonts/truetype: caching, new cache contents: 0 fonts, 3 dirs\n",
            "/usr/share/fonts/truetype/humor-sans: caching, new cache contents: 1 fonts, 0 dirs\n",
            "/usr/share/fonts/truetype/liberation: caching, new cache contents: 16 fonts, 0 dirs\n",
            "/usr/share/fonts/truetype/nanum: caching, new cache contents: 12 fonts, 0 dirs\n",
            "/usr/local/share/fonts: caching, new cache contents: 0 fonts, 0 dirs\n",
            "/root/.local/share/fonts: skipping, no such directory\n",
            "/root/.fonts: skipping, no such directory\n",
            "/usr/share/fonts/truetype: skipping, looped directory detected\n",
            "/usr/share/fonts/truetype/humor-sans: skipping, looped directory detected\n",
            "/usr/share/fonts/truetype/liberation: skipping, looped directory detected\n",
            "/usr/share/fonts/truetype/nanum: skipping, looped directory detected\n",
            "/var/cache/fontconfig: cleaning cache directory\n",
            "/root/.cache/fontconfig: not cleaning non-existent cache directory\n",
            "/root/.fontconfig: not cleaning non-existent cache directory\n",
            "fc-cache: succeeded\n"
          ]
        }
      ]
    },
    {
      "cell_type": "markdown",
      "metadata": {
        "id": "68xM6jF0ZchA"
      },
      "source": [
        "## 데이터 불러오기"
      ]
    },
    {
      "cell_type": "code",
      "execution_count": 2,
      "metadata": {
        "id": "zJnLWFhmMGG4"
      },
      "outputs": [],
      "source": [
        "import os\n",
        "import random\n",
        "import warnings\n",
        "\n",
        "import easydict\n",
        "import matplotlib.pyplot as plt\n",
        "import numpy as np\n",
        "import pandas as pd\n",
        "import seaborn as sns\n",
        "from sklearn.metrics import f1_score\n",
        "from sklearn.model_selection import StratifiedKFold\n",
        "from sklearn.preprocessing import LabelEncoder, OneHotEncoder, RobustScaler\n",
        "from tqdm.notebook import tqdm\n",
        "\n",
        "warnings.filterwarnings(\"ignore\")\n",
        "sns.set_theme(style=\"white\")\n",
        "plt.rc(\"font\", family=\"NanumBarunGothic\")\n",
        "plt.rcParams[\"axes.unicode_minus\"] = False"
      ]
    },
    {
      "cell_type": "code",
      "execution_count": 3,
      "metadata": {
        "colab": {
          "base_uri": "https://localhost:8080/"
        },
        "id": "GjvmmVOVMW_P",
        "outputId": "672e10f9-ea14-4ea8-aa37-ab46d7a5eaa7"
      },
      "outputs": [
        {
          "output_type": "stream",
          "name": "stdout",
          "text": [
            "Drive already mounted at /content/drive; to attempt to forcibly remount, call drive.mount(\"/content/drive\", force_remount=True).\n"
          ]
        }
      ],
      "source": [
        "from google.colab import drive\n",
        "\n",
        "drive.mount(\"/content/drive\")  # 구글코랩과 구글드라이브 연결"
      ]
    },
    {
      "cell_type": "code",
      "source": [
        "%cd /content/drive/MyDrive/Colab Notebooks/고객-대출등급-분류"
      ],
      "metadata": {
        "colab": {
          "base_uri": "https://localhost:8080/"
        },
        "id": "vcJwBS1jt4J2",
        "outputId": "bb4260ae-da8d-4da1-fe10-bfbffc61c8e6"
      },
      "execution_count": 4,
      "outputs": [
        {
          "output_type": "stream",
          "name": "stdout",
          "text": [
            "/content/drive/MyDrive/Colab Notebooks/고객-대출등급-분류\n"
          ]
        }
      ]
    },
    {
      "cell_type": "code",
      "source": [
        "pd.set_option(\"display.float_format\", \"{:.3f}\".format)"
      ],
      "metadata": {
        "id": "vIgACQtRSC_z"
      },
      "execution_count": 5,
      "outputs": []
    },
    {
      "cell_type": "markdown",
      "metadata": {
        "id": "MRrJ4A5RKC4B"
      },
      "source": [
        "- 데이터 불러오기"
      ]
    },
    {
      "cell_type": "code",
      "source": [
        "df = pd.read_csv(\"./data/train.csv\")\n",
        "test = pd.read_csv(\"./data/test.csv\")\n",
        "submission = pd.read_csv(\"./data/sample_submission.csv\")"
      ],
      "metadata": {
        "id": "N7JdJZofCXED"
      },
      "execution_count": 316,
      "outputs": []
    },
    {
      "cell_type": "code",
      "source": [
        "df = df.drop(\"ID\", axis=1)\n",
        "test = test.drop(\"ID\", axis=1)"
      ],
      "metadata": {
        "id": "Rc0FRRweZsHr"
      },
      "execution_count": 317,
      "outputs": []
    },
    {
      "cell_type": "code",
      "source": [
        "df.describe()"
      ],
      "metadata": {
        "id": "8t5VUHKbOdGP",
        "outputId": "370cd105-f1a5-4f17-e5a6-e4dbe505ebc3",
        "colab": {
          "base_uri": "https://localhost:8080/",
          "height": 300
        }
      },
      "execution_count": 318,
      "outputs": [
        {
          "output_type": "execute_result",
          "data": {
            "text/plain": [
              "              대출금액            연간소득  부채_대비_소득_비율      총계좌수  최근_2년간_연체_횟수  \\\n",
              "count    96294.000       96294.000    96294.000 96294.000     96294.000   \n",
              "mean  18303998.068    93926724.678       19.380    25.305         0.346   \n",
              "std   10329075.611    99568708.177       33.570    12.089         0.919   \n",
              "min    1200000.000           0.000        0.000     4.000         0.000   \n",
              "25%   10200000.000    57600000.000       12.650    17.000         0.000   \n",
              "50%   16800000.000    78000000.000       18.740    24.000         0.000   \n",
              "75%   24000000.000   112800000.000       25.540    32.000         0.000   \n",
              "max   42000000.000 10800000000.000     9999.000   169.000        30.000   \n",
              "\n",
              "             총상환원금       총상환이자     총연체금액     연체계좌수  \n",
              "count    96294.000   96294.000 96294.000 96294.000  \n",
              "mean    822503.486  428228.248    54.381     0.006  \n",
              "std    1027745.264  440211.076  1414.769     0.080  \n",
              "min          0.000       0.000     0.000     0.000  \n",
              "25%     307572.000  134616.000     0.000     0.000  \n",
              "50%     597696.000  287004.000     0.000     0.000  \n",
              "75%    1055076.000  570216.000     0.000     0.000  \n",
              "max   41955936.000 5653416.000 75768.000     4.000  "
            ],
            "text/html": [
              "\n",
              "  <div id=\"df-3a5d2627-0145-4690-a9b2-55353bef96b2\" class=\"colab-df-container\">\n",
              "    <div>\n",
              "<style scoped>\n",
              "    .dataframe tbody tr th:only-of-type {\n",
              "        vertical-align: middle;\n",
              "    }\n",
              "\n",
              "    .dataframe tbody tr th {\n",
              "        vertical-align: top;\n",
              "    }\n",
              "\n",
              "    .dataframe thead th {\n",
              "        text-align: right;\n",
              "    }\n",
              "</style>\n",
              "<table border=\"1\" class=\"dataframe\">\n",
              "  <thead>\n",
              "    <tr style=\"text-align: right;\">\n",
              "      <th></th>\n",
              "      <th>대출금액</th>\n",
              "      <th>연간소득</th>\n",
              "      <th>부채_대비_소득_비율</th>\n",
              "      <th>총계좌수</th>\n",
              "      <th>최근_2년간_연체_횟수</th>\n",
              "      <th>총상환원금</th>\n",
              "      <th>총상환이자</th>\n",
              "      <th>총연체금액</th>\n",
              "      <th>연체계좌수</th>\n",
              "    </tr>\n",
              "  </thead>\n",
              "  <tbody>\n",
              "    <tr>\n",
              "      <th>count</th>\n",
              "      <td>96294.000</td>\n",
              "      <td>96294.000</td>\n",
              "      <td>96294.000</td>\n",
              "      <td>96294.000</td>\n",
              "      <td>96294.000</td>\n",
              "      <td>96294.000</td>\n",
              "      <td>96294.000</td>\n",
              "      <td>96294.000</td>\n",
              "      <td>96294.000</td>\n",
              "    </tr>\n",
              "    <tr>\n",
              "      <th>mean</th>\n",
              "      <td>18303998.068</td>\n",
              "      <td>93926724.678</td>\n",
              "      <td>19.380</td>\n",
              "      <td>25.305</td>\n",
              "      <td>0.346</td>\n",
              "      <td>822503.486</td>\n",
              "      <td>428228.248</td>\n",
              "      <td>54.381</td>\n",
              "      <td>0.006</td>\n",
              "    </tr>\n",
              "    <tr>\n",
              "      <th>std</th>\n",
              "      <td>10329075.611</td>\n",
              "      <td>99568708.177</td>\n",
              "      <td>33.570</td>\n",
              "      <td>12.089</td>\n",
              "      <td>0.919</td>\n",
              "      <td>1027745.264</td>\n",
              "      <td>440211.076</td>\n",
              "      <td>1414.769</td>\n",
              "      <td>0.080</td>\n",
              "    </tr>\n",
              "    <tr>\n",
              "      <th>min</th>\n",
              "      <td>1200000.000</td>\n",
              "      <td>0.000</td>\n",
              "      <td>0.000</td>\n",
              "      <td>4.000</td>\n",
              "      <td>0.000</td>\n",
              "      <td>0.000</td>\n",
              "      <td>0.000</td>\n",
              "      <td>0.000</td>\n",
              "      <td>0.000</td>\n",
              "    </tr>\n",
              "    <tr>\n",
              "      <th>25%</th>\n",
              "      <td>10200000.000</td>\n",
              "      <td>57600000.000</td>\n",
              "      <td>12.650</td>\n",
              "      <td>17.000</td>\n",
              "      <td>0.000</td>\n",
              "      <td>307572.000</td>\n",
              "      <td>134616.000</td>\n",
              "      <td>0.000</td>\n",
              "      <td>0.000</td>\n",
              "    </tr>\n",
              "    <tr>\n",
              "      <th>50%</th>\n",
              "      <td>16800000.000</td>\n",
              "      <td>78000000.000</td>\n",
              "      <td>18.740</td>\n",
              "      <td>24.000</td>\n",
              "      <td>0.000</td>\n",
              "      <td>597696.000</td>\n",
              "      <td>287004.000</td>\n",
              "      <td>0.000</td>\n",
              "      <td>0.000</td>\n",
              "    </tr>\n",
              "    <tr>\n",
              "      <th>75%</th>\n",
              "      <td>24000000.000</td>\n",
              "      <td>112800000.000</td>\n",
              "      <td>25.540</td>\n",
              "      <td>32.000</td>\n",
              "      <td>0.000</td>\n",
              "      <td>1055076.000</td>\n",
              "      <td>570216.000</td>\n",
              "      <td>0.000</td>\n",
              "      <td>0.000</td>\n",
              "    </tr>\n",
              "    <tr>\n",
              "      <th>max</th>\n",
              "      <td>42000000.000</td>\n",
              "      <td>10800000000.000</td>\n",
              "      <td>9999.000</td>\n",
              "      <td>169.000</td>\n",
              "      <td>30.000</td>\n",
              "      <td>41955936.000</td>\n",
              "      <td>5653416.000</td>\n",
              "      <td>75768.000</td>\n",
              "      <td>4.000</td>\n",
              "    </tr>\n",
              "  </tbody>\n",
              "</table>\n",
              "</div>\n",
              "    <div class=\"colab-df-buttons\">\n",
              "\n",
              "  <div class=\"colab-df-container\">\n",
              "    <button class=\"colab-df-convert\" onclick=\"convertToInteractive('df-3a5d2627-0145-4690-a9b2-55353bef96b2')\"\n",
              "            title=\"Convert this dataframe to an interactive table.\"\n",
              "            style=\"display:none;\">\n",
              "\n",
              "  <svg xmlns=\"http://www.w3.org/2000/svg\" height=\"24px\" viewBox=\"0 -960 960 960\">\n",
              "    <path d=\"M120-120v-720h720v720H120Zm60-500h600v-160H180v160Zm220 220h160v-160H400v160Zm0 220h160v-160H400v160ZM180-400h160v-160H180v160Zm440 0h160v-160H620v160ZM180-180h160v-160H180v160Zm440 0h160v-160H620v160Z\"/>\n",
              "  </svg>\n",
              "    </button>\n",
              "\n",
              "  <style>\n",
              "    .colab-df-container {\n",
              "      display:flex;\n",
              "      gap: 12px;\n",
              "    }\n",
              "\n",
              "    .colab-df-convert {\n",
              "      background-color: #E8F0FE;\n",
              "      border: none;\n",
              "      border-radius: 50%;\n",
              "      cursor: pointer;\n",
              "      display: none;\n",
              "      fill: #1967D2;\n",
              "      height: 32px;\n",
              "      padding: 0 0 0 0;\n",
              "      width: 32px;\n",
              "    }\n",
              "\n",
              "    .colab-df-convert:hover {\n",
              "      background-color: #E2EBFA;\n",
              "      box-shadow: 0px 1px 2px rgba(60, 64, 67, 0.3), 0px 1px 3px 1px rgba(60, 64, 67, 0.15);\n",
              "      fill: #174EA6;\n",
              "    }\n",
              "\n",
              "    .colab-df-buttons div {\n",
              "      margin-bottom: 4px;\n",
              "    }\n",
              "\n",
              "    [theme=dark] .colab-df-convert {\n",
              "      background-color: #3B4455;\n",
              "      fill: #D2E3FC;\n",
              "    }\n",
              "\n",
              "    [theme=dark] .colab-df-convert:hover {\n",
              "      background-color: #434B5C;\n",
              "      box-shadow: 0px 1px 3px 1px rgba(0, 0, 0, 0.15);\n",
              "      filter: drop-shadow(0px 1px 2px rgba(0, 0, 0, 0.3));\n",
              "      fill: #FFFFFF;\n",
              "    }\n",
              "  </style>\n",
              "\n",
              "    <script>\n",
              "      const buttonEl =\n",
              "        document.querySelector('#df-3a5d2627-0145-4690-a9b2-55353bef96b2 button.colab-df-convert');\n",
              "      buttonEl.style.display =\n",
              "        google.colab.kernel.accessAllowed ? 'block' : 'none';\n",
              "\n",
              "      async function convertToInteractive(key) {\n",
              "        const element = document.querySelector('#df-3a5d2627-0145-4690-a9b2-55353bef96b2');\n",
              "        const dataTable =\n",
              "          await google.colab.kernel.invokeFunction('convertToInteractive',\n",
              "                                                    [key], {});\n",
              "        if (!dataTable) return;\n",
              "\n",
              "        const docLinkHtml = 'Like what you see? Visit the ' +\n",
              "          '<a target=\"_blank\" href=https://colab.research.google.com/notebooks/data_table.ipynb>data table notebook</a>'\n",
              "          + ' to learn more about interactive tables.';\n",
              "        element.innerHTML = '';\n",
              "        dataTable['output_type'] = 'display_data';\n",
              "        await google.colab.output.renderOutput(dataTable, element);\n",
              "        const docLink = document.createElement('div');\n",
              "        docLink.innerHTML = docLinkHtml;\n",
              "        element.appendChild(docLink);\n",
              "      }\n",
              "    </script>\n",
              "  </div>\n",
              "\n",
              "\n",
              "<div id=\"df-5ca88aa2-c311-47e2-a740-91f710eb1f20\">\n",
              "  <button class=\"colab-df-quickchart\" onclick=\"quickchart('df-5ca88aa2-c311-47e2-a740-91f710eb1f20')\"\n",
              "            title=\"Suggest charts\"\n",
              "            style=\"display:none;\">\n",
              "\n",
              "<svg xmlns=\"http://www.w3.org/2000/svg\" height=\"24px\"viewBox=\"0 0 24 24\"\n",
              "     width=\"24px\">\n",
              "    <g>\n",
              "        <path d=\"M19 3H5c-1.1 0-2 .9-2 2v14c0 1.1.9 2 2 2h14c1.1 0 2-.9 2-2V5c0-1.1-.9-2-2-2zM9 17H7v-7h2v7zm4 0h-2V7h2v10zm4 0h-2v-4h2v4z\"/>\n",
              "    </g>\n",
              "</svg>\n",
              "  </button>\n",
              "\n",
              "<style>\n",
              "  .colab-df-quickchart {\n",
              "      --bg-color: #E8F0FE;\n",
              "      --fill-color: #1967D2;\n",
              "      --hover-bg-color: #E2EBFA;\n",
              "      --hover-fill-color: #174EA6;\n",
              "      --disabled-fill-color: #AAA;\n",
              "      --disabled-bg-color: #DDD;\n",
              "  }\n",
              "\n",
              "  [theme=dark] .colab-df-quickchart {\n",
              "      --bg-color: #3B4455;\n",
              "      --fill-color: #D2E3FC;\n",
              "      --hover-bg-color: #434B5C;\n",
              "      --hover-fill-color: #FFFFFF;\n",
              "      --disabled-bg-color: #3B4455;\n",
              "      --disabled-fill-color: #666;\n",
              "  }\n",
              "\n",
              "  .colab-df-quickchart {\n",
              "    background-color: var(--bg-color);\n",
              "    border: none;\n",
              "    border-radius: 50%;\n",
              "    cursor: pointer;\n",
              "    display: none;\n",
              "    fill: var(--fill-color);\n",
              "    height: 32px;\n",
              "    padding: 0;\n",
              "    width: 32px;\n",
              "  }\n",
              "\n",
              "  .colab-df-quickchart:hover {\n",
              "    background-color: var(--hover-bg-color);\n",
              "    box-shadow: 0 1px 2px rgba(60, 64, 67, 0.3), 0 1px 3px 1px rgba(60, 64, 67, 0.15);\n",
              "    fill: var(--button-hover-fill-color);\n",
              "  }\n",
              "\n",
              "  .colab-df-quickchart-complete:disabled,\n",
              "  .colab-df-quickchart-complete:disabled:hover {\n",
              "    background-color: var(--disabled-bg-color);\n",
              "    fill: var(--disabled-fill-color);\n",
              "    box-shadow: none;\n",
              "  }\n",
              "\n",
              "  .colab-df-spinner {\n",
              "    border: 2px solid var(--fill-color);\n",
              "    border-color: transparent;\n",
              "    border-bottom-color: var(--fill-color);\n",
              "    animation:\n",
              "      spin 1s steps(1) infinite;\n",
              "  }\n",
              "\n",
              "  @keyframes spin {\n",
              "    0% {\n",
              "      border-color: transparent;\n",
              "      border-bottom-color: var(--fill-color);\n",
              "      border-left-color: var(--fill-color);\n",
              "    }\n",
              "    20% {\n",
              "      border-color: transparent;\n",
              "      border-left-color: var(--fill-color);\n",
              "      border-top-color: var(--fill-color);\n",
              "    }\n",
              "    30% {\n",
              "      border-color: transparent;\n",
              "      border-left-color: var(--fill-color);\n",
              "      border-top-color: var(--fill-color);\n",
              "      border-right-color: var(--fill-color);\n",
              "    }\n",
              "    40% {\n",
              "      border-color: transparent;\n",
              "      border-right-color: var(--fill-color);\n",
              "      border-top-color: var(--fill-color);\n",
              "    }\n",
              "    60% {\n",
              "      border-color: transparent;\n",
              "      border-right-color: var(--fill-color);\n",
              "    }\n",
              "    80% {\n",
              "      border-color: transparent;\n",
              "      border-right-color: var(--fill-color);\n",
              "      border-bottom-color: var(--fill-color);\n",
              "    }\n",
              "    90% {\n",
              "      border-color: transparent;\n",
              "      border-bottom-color: var(--fill-color);\n",
              "    }\n",
              "  }\n",
              "</style>\n",
              "\n",
              "  <script>\n",
              "    async function quickchart(key) {\n",
              "      const quickchartButtonEl =\n",
              "        document.querySelector('#' + key + ' button');\n",
              "      quickchartButtonEl.disabled = true;  // To prevent multiple clicks.\n",
              "      quickchartButtonEl.classList.add('colab-df-spinner');\n",
              "      try {\n",
              "        const charts = await google.colab.kernel.invokeFunction(\n",
              "            'suggestCharts', [key], {});\n",
              "      } catch (error) {\n",
              "        console.error('Error during call to suggestCharts:', error);\n",
              "      }\n",
              "      quickchartButtonEl.classList.remove('colab-df-spinner');\n",
              "      quickchartButtonEl.classList.add('colab-df-quickchart-complete');\n",
              "    }\n",
              "    (() => {\n",
              "      let quickchartButtonEl =\n",
              "        document.querySelector('#df-5ca88aa2-c311-47e2-a740-91f710eb1f20 button');\n",
              "      quickchartButtonEl.style.display =\n",
              "        google.colab.kernel.accessAllowed ? 'block' : 'none';\n",
              "    })();\n",
              "  </script>\n",
              "</div>\n",
              "\n",
              "    </div>\n",
              "  </div>\n"
            ]
          },
          "metadata": {},
          "execution_count": 318
        }
      ]
    },
    {
      "cell_type": "markdown",
      "source": [
        "`-` 대출 금액의 최댓값은 42000000이다"
      ],
      "metadata": {
        "id": "ycSh_4zrMJx2"
      }
    },
    {
      "cell_type": "code",
      "source": [
        "test.shape"
      ],
      "metadata": {
        "colab": {
          "base_uri": "https://localhost:8080/"
        },
        "id": "rZmGqWL3Ox1J",
        "outputId": "93dc7b1c-a5d7-451b-cf84-eaae5e6a48af"
      },
      "execution_count": 10,
      "outputs": [
        {
          "output_type": "execute_result",
          "data": {
            "text/plain": [
              "(64197, 13)"
            ]
          },
          "metadata": {},
          "execution_count": 10
        }
      ]
    },
    {
      "cell_type": "code",
      "source": [
        "df[\"대출등급\"].value_counts().sort_index()"
      ],
      "metadata": {
        "colab": {
          "base_uri": "https://localhost:8080/"
        },
        "id": "LvRIAqWXO0WK",
        "outputId": "7882fe22-510c-4a3b-a429-b294c982478f"
      },
      "execution_count": 11,
      "outputs": [
        {
          "output_type": "execute_result",
          "data": {
            "text/plain": [
              "A    16772\n",
              "B    28817\n",
              "C    27623\n",
              "D    13354\n",
              "E     7354\n",
              "F     1954\n",
              "G      420\n",
              "Name: 대출등급, dtype: int64"
            ]
          },
          "metadata": {},
          "execution_count": 11
        }
      ]
    },
    {
      "cell_type": "markdown",
      "source": [
        "`-` 주어진 데이터에선 A등급이 최상, G등급이 최하이다\n",
        "\n",
        "`-` 데이터 불균형이 심하다\n",
        "\n",
        "`-` 평가지표가 `macro f1`이므로 모든 범주에 대하여 높은 정확도를 보여야 좋은 점수를 얻을 수 있다"
      ],
      "metadata": {
        "id": "o-Uvwt2BPz3A"
      }
    },
    {
      "cell_type": "markdown",
      "source": [
        "## 시각화"
      ],
      "metadata": {
        "id": "DGdxkQRMiksS"
      }
    },
    {
      "cell_type": "code",
      "source": [
        "df[\"상환비율\"] = df[\"총상환원금\"] / df[\"대출금액\"]\n",
        "df[\"대출금액대비상환이자\"] = df[\"총상환이자\"] / df[\"대출금액\"]\n",
        "\n",
        "test[\"상환비율\"] = test[\"총상환원금\"] / test[\"대출금액\"]\n",
        "test[\"대출금액대비상환이자\"] = test[\"총상환이자\"] / test[\"대출금액\"]"
      ],
      "metadata": {
        "id": "NytW7ibXu5Kd"
      },
      "execution_count": 320,
      "outputs": []
    },
    {
      "cell_type": "code",
      "source": [
        "grade_order = sorted(df[\"대출등급\"].unique())"
      ],
      "metadata": {
        "id": "CxSj3H9qdpGs"
      },
      "execution_count": 161,
      "outputs": []
    },
    {
      "cell_type": "markdown",
      "source": [
        "- 상환 비율"
      ],
      "metadata": {
        "id": "kmaH5eGsvhqG"
      }
    },
    {
      "cell_type": "code",
      "source": [
        "sns.boxplot(data=df, x=\"대출등급\", y=\"상환비율\", hue=\"대출기간\", order=grade_order)"
      ],
      "metadata": {
        "colab": {
          "base_uri": "https://localhost:8080/",
          "height": 477
        },
        "id": "CzXhNeI1u6QN",
        "outputId": "3fc8e93f-4d42-4179-8301-9c3a5b8de10f"
      },
      "execution_count": 63,
      "outputs": [
        {
          "output_type": "execute_result",
          "data": {
            "text/plain": [
              "<Axes: xlabel='대출등급', ylabel='상환비율'>"
            ]
          },
          "metadata": {},
          "execution_count": 63
        },
        {
          "output_type": "display_data",
          "data": {
            "text/plain": [
              "<Figure size 640x480 with 1 Axes>"
            ],
            "image/png": "[encoded data removed]"
          },
          "metadata": {}
        }
      ]
    },
    {
      "cell_type": "markdown",
      "source": [
        "`-` 등급이 우수할수록 평균적으로 대출금을 많이 갚았다"
      ],
      "metadata": {
        "id": "1ronWBEDvjd-"
      }
    },
    {
      "cell_type": "markdown",
      "source": [
        "- 대출 금액 대비 상환 이자"
      ],
      "metadata": {
        "id": "QN25VUg9vrA2"
      }
    },
    {
      "cell_type": "code",
      "source": [
        "sns.boxplot(data=df, x=\"대출등급\", y=\"대출금액대비상환이자\", hue=\"대출기간\", order=grade_order)"
      ],
      "metadata": {
        "colab": {
          "base_uri": "https://localhost:8080/",
          "height": 477
        },
        "id": "GPWg8pR1vsnd",
        "outputId": "ab91845c-e658-48db-c33a-df7840b6bb66"
      },
      "execution_count": 64,
      "outputs": [
        {
          "output_type": "execute_result",
          "data": {
            "text/plain": [
              "<Axes: xlabel='대출등급', ylabel='대출금액대비상환이자'>"
            ]
          },
          "metadata": {},
          "execution_count": 64
        },
        {
          "output_type": "display_data",
          "data": {
            "text/plain": [
              "<Figure size 640x480 with 1 Axes>"
            ],
            "image/png": "[encoded data removed]"
          },
          "metadata": {}
        }
      ]
    },
    {
      "cell_type": "markdown",
      "source": [
        "`-` 등급이 낮을수록 이자를 평균적으로 많이 갚는다"
      ],
      "metadata": {
        "id": "KSiuMG2Ovxn1"
      }
    },
    {
      "cell_type": "markdown",
      "source": [
        "- 대출 금액"
      ],
      "metadata": {
        "id": "dGJYc-L5aeKM"
      }
    },
    {
      "cell_type": "code",
      "source": [
        "sns.boxplot(data=df, x=\"대출등급\", y=\"대출금액\", order=grade_order)"
      ],
      "metadata": {
        "colab": {
          "base_uri": "https://localhost:8080/",
          "height": 493
        },
        "id": "H81GdwyhSWCn",
        "outputId": "d2766f12-1d99-4c5d-ca4f-40854447def4"
      },
      "execution_count": 13,
      "outputs": [
        {
          "output_type": "execute_result",
          "data": {
            "text/plain": [
              "<Axes: xlabel='대출등급', ylabel='대출금액'>"
            ]
          },
          "metadata": {},
          "execution_count": 13
        },
        {
          "output_type": "display_data",
          "data": {
            "text/plain": [
              "<Figure size 640x480 with 1 Axes>"
            ],
            "image/png": "[encoded data removed]"
          },
          "metadata": {}
        }
      ]
    },
    {
      "cell_type": "markdown",
      "source": [
        "`-` 대출 등급이 낮을수록 대출 금액이 평균적으로 큰 경향이 있다"
      ],
      "metadata": {
        "id": "mOkE1hkldTT0"
      }
    },
    {
      "cell_type": "markdown",
      "source": [
        "- 대출 기간"
      ],
      "metadata": {
        "id": "sqAQFSTnahW8"
      }
    },
    {
      "cell_type": "code",
      "source": [
        "pd.crosstab(df[\"대출등급\"], df[\"대출기간\"])"
      ],
      "metadata": {
        "colab": {
          "base_uri": "https://localhost:8080/",
          "height": 300
        },
        "id": "SQNh_ZSs0G9k",
        "outputId": "8932d134-b3a3-415f-bdb2-7020b9adeb75"
      },
      "execution_count": 14,
      "outputs": [
        {
          "output_type": "execute_result",
          "data": {
            "text/plain": [
              "대출기간   36 months   60 months\n",
              "대출등급                        \n",
              "A          15952         820\n",
              "B          22883        5934\n",
              "C          16935       10688\n",
              "D           6485        6869\n",
              "E           1895        5459\n",
              "F            270        1684\n",
              "G             59         361"
            ],
            "text/html": [
              "\n",
              "  <div id=\"df-d6771b86-0a90-4a07-8730-36272c1f80ec\" class=\"colab-df-container\">\n",
              "    <div>\n",
              "<style scoped>\n",
              "    .dataframe tbody tr th:only-of-type {\n",
              "        vertical-align: middle;\n",
              "    }\n",
              "\n",
              "    .dataframe tbody tr th {\n",
              "        vertical-align: top;\n",
              "    }\n",
              "\n",
              "    .dataframe thead th {\n",
              "        text-align: right;\n",
              "    }\n",
              "</style>\n",
              "<table border=\"1\" class=\"dataframe\">\n",
              "  <thead>\n",
              "    <tr style=\"text-align: right;\">\n",
              "      <th>대출기간</th>\n",
              "      <th>36 months</th>\n",
              "      <th>60 months</th>\n",
              "    </tr>\n",
              "    <tr>\n",
              "      <th>대출등급</th>\n",
              "      <th></th>\n",
              "      <th></th>\n",
              "    </tr>\n",
              "  </thead>\n",
              "  <tbody>\n",
              "    <tr>\n",
              "      <th>A</th>\n",
              "      <td>15952</td>\n",
              "      <td>820</td>\n",
              "    </tr>\n",
              "    <tr>\n",
              "      <th>B</th>\n",
              "      <td>22883</td>\n",
              "      <td>5934</td>\n",
              "    </tr>\n",
              "    <tr>\n",
              "      <th>C</th>\n",
              "      <td>16935</td>\n",
              "      <td>10688</td>\n",
              "    </tr>\n",
              "    <tr>\n",
              "      <th>D</th>\n",
              "      <td>6485</td>\n",
              "      <td>6869</td>\n",
              "    </tr>\n",
              "    <tr>\n",
              "      <th>E</th>\n",
              "      <td>1895</td>\n",
              "      <td>5459</td>\n",
              "    </tr>\n",
              "    <tr>\n",
              "      <th>F</th>\n",
              "      <td>270</td>\n",
              "      <td>1684</td>\n",
              "    </tr>\n",
              "    <tr>\n",
              "      <th>G</th>\n",
              "      <td>59</td>\n",
              "      <td>361</td>\n",
              "    </tr>\n",
              "  </tbody>\n",
              "</table>\n",
              "</div>\n",
              "    <div class=\"colab-df-buttons\">\n",
              "\n",
              "  <div class=\"colab-df-container\">\n",
              "    <button class=\"colab-df-convert\" onclick=\"convertToInteractive('df-d6771b86-0a90-4a07-8730-36272c1f80ec')\"\n",
              "            title=\"Convert this dataframe to an interactive table.\"\n",
              "            style=\"display:none;\">\n",
              "\n",
              "  <svg xmlns=\"http://www.w3.org/2000/svg\" height=\"24px\" viewBox=\"0 -960 960 960\">\n",
              "    <path d=\"M120-120v-720h720v720H120Zm60-500h600v-160H180v160Zm220 220h160v-160H400v160Zm0 220h160v-160H400v160ZM180-400h160v-160H180v160Zm440 0h160v-160H620v160ZM180-180h160v-160H180v160Zm440 0h160v-160H620v160Z\"/>\n",
              "  </svg>\n",
              "    </button>\n",
              "\n",
              "  <style>\n",
              "    .colab-df-container {\n",
              "      display:flex;\n",
              "      gap: 12px;\n",
              "    }\n",
              "\n",
              "    .colab-df-convert {\n",
              "      background-color: #E8F0FE;\n",
              "      border: none;\n",
              "      border-radius: 50%;\n",
              "      cursor: pointer;\n",
              "      display: none;\n",
              "      fill: #1967D2;\n",
              "      height: 32px;\n",
              "      padding: 0 0 0 0;\n",
              "      width: 32px;\n",
              "    }\n",
              "\n",
              "    .colab-df-convert:hover {\n",
              "      background-color: #E2EBFA;\n",
              "      box-shadow: 0px 1px 2px rgba(60, 64, 67, 0.3), 0px 1px 3px 1px rgba(60, 64, 67, 0.15);\n",
              "      fill: #174EA6;\n",
              "    }\n",
              "\n",
              "    .colab-df-buttons div {\n",
              "      margin-bottom: 4px;\n",
              "    }\n",
              "\n",
              "    [theme=dark] .colab-df-convert {\n",
              "      background-color: #3B4455;\n",
              "      fill: #D2E3FC;\n",
              "    }\n",
              "\n",
              "    [theme=dark] .colab-df-convert:hover {\n",
              "      background-color: #434B5C;\n",
              "      box-shadow: 0px 1px 3px 1px rgba(0, 0, 0, 0.15);\n",
              "      filter: drop-shadow(0px 1px 2px rgba(0, 0, 0, 0.3));\n",
              "      fill: #FFFFFF;\n",
              "    }\n",
              "  </style>\n",
              "\n",
              "    <script>\n",
              "      const buttonEl =\n",
              "        document.querySelector('#df-d6771b86-0a90-4a07-8730-36272c1f80ec button.colab-df-convert');\n",
              "      buttonEl.style.display =\n",
              "        google.colab.kernel.accessAllowed ? 'block' : 'none';\n",
              "\n",
              "      async function convertToInteractive(key) {\n",
              "        const element = document.querySelector('#df-d6771b86-0a90-4a07-8730-36272c1f80ec');\n",
              "        const dataTable =\n",
              "          await google.colab.kernel.invokeFunction('convertToInteractive',\n",
              "                                                    [key], {});\n",
              "        if (!dataTable) return;\n",
              "\n",
              "        const docLinkHtml = 'Like what you see? Visit the ' +\n",
              "          '<a target=\"_blank\" href=https://colab.research.google.com/notebooks/data_table.ipynb>data table notebook</a>'\n",
              "          + ' to learn more about interactive tables.';\n",
              "        element.innerHTML = '';\n",
              "        dataTable['output_type'] = 'display_data';\n",
              "        await google.colab.output.renderOutput(dataTable, element);\n",
              "        const docLink = document.createElement('div');\n",
              "        docLink.innerHTML = docLinkHtml;\n",
              "        element.appendChild(docLink);\n",
              "      }\n",
              "    </script>\n",
              "  </div>\n",
              "\n",
              "\n",
              "<div id=\"df-1b4bb220-85c8-453d-ae01-5611fac41dad\">\n",
              "  <button class=\"colab-df-quickchart\" onclick=\"quickchart('df-1b4bb220-85c8-453d-ae01-5611fac41dad')\"\n",
              "            title=\"Suggest charts\"\n",
              "            style=\"display:none;\">\n",
              "\n",
              "<svg xmlns=\"http://www.w3.org/2000/svg\" height=\"24px\"viewBox=\"0 0 24 24\"\n",
              "     width=\"24px\">\n",
              "    <g>\n",
              "        <path d=\"M19 3H5c-1.1 0-2 .9-2 2v14c0 1.1.9 2 2 2h14c1.1 0 2-.9 2-2V5c0-1.1-.9-2-2-2zM9 17H7v-7h2v7zm4 0h-2V7h2v10zm4 0h-2v-4h2v4z\"/>\n",
              "    </g>\n",
              "</svg>\n",
              "  </button>\n",
              "\n",
              "<style>\n",
              "  .colab-df-quickchart {\n",
              "      --bg-color: #E8F0FE;\n",
              "      --fill-color: #1967D2;\n",
              "      --hover-bg-color: #E2EBFA;\n",
              "      --hover-fill-color: #174EA6;\n",
              "      --disabled-fill-color: #AAA;\n",
              "      --disabled-bg-color: #DDD;\n",
              "  }\n",
              "\n",
              "  [theme=dark] .colab-df-quickchart {\n",
              "      --bg-color: #3B4455;\n",
              "      --fill-color: #D2E3FC;\n",
              "      --hover-bg-color: #434B5C;\n",
              "      --hover-fill-color: #FFFFFF;\n",
              "      --disabled-bg-color: #3B4455;\n",
              "      --disabled-fill-color: #666;\n",
              "  }\n",
              "\n",
              "  .colab-df-quickchart {\n",
              "    background-color: var(--bg-color);\n",
              "    border: none;\n",
              "    border-radius: 50%;\n",
              "    cursor: pointer;\n",
              "    display: none;\n",
              "    fill: var(--fill-color);\n",
              "    height: 32px;\n",
              "    padding: 0;\n",
              "    width: 32px;\n",
              "  }\n",
              "\n",
              "  .colab-df-quickchart:hover {\n",
              "    background-color: var(--hover-bg-color);\n",
              "    box-shadow: 0 1px 2px rgba(60, 64, 67, 0.3), 0 1px 3px 1px rgba(60, 64, 67, 0.15);\n",
              "    fill: var(--button-hover-fill-color);\n",
              "  }\n",
              "\n",
              "  .colab-df-quickchart-complete:disabled,\n",
              "  .colab-df-quickchart-complete:disabled:hover {\n",
              "    background-color: var(--disabled-bg-color);\n",
              "    fill: var(--disabled-fill-color);\n",
              "    box-shadow: none;\n",
              "  }\n",
              "\n",
              "  .colab-df-spinner {\n",
              "    border: 2px solid var(--fill-color);\n",
              "    border-color: transparent;\n",
              "    border-bottom-color: var(--fill-color);\n",
              "    animation:\n",
              "      spin 1s steps(1) infinite;\n",
              "  }\n",
              "\n",
              "  @keyframes spin {\n",
              "    0% {\n",
              "      border-color: transparent;\n",
              "      border-bottom-color: var(--fill-color);\n",
              "      border-left-color: var(--fill-color);\n",
              "    }\n",
              "    20% {\n",
              "      border-color: transparent;\n",
              "      border-left-color: var(--fill-color);\n",
              "      border-top-color: var(--fill-color);\n",
              "    }\n",
              "    30% {\n",
              "      border-color: transparent;\n",
              "      border-left-color: var(--fill-color);\n",
              "      border-top-color: var(--fill-color);\n",
              "      border-right-color: var(--fill-color);\n",
              "    }\n",
              "    40% {\n",
              "      border-color: transparent;\n",
              "      border-right-color: var(--fill-color);\n",
              "      border-top-color: var(--fill-color);\n",
              "    }\n",
              "    60% {\n",
              "      border-color: transparent;\n",
              "      border-right-color: var(--fill-color);\n",
              "    }\n",
              "    80% {\n",
              "      border-color: transparent;\n",
              "      border-right-color: var(--fill-color);\n",
              "      border-bottom-color: var(--fill-color);\n",
              "    }\n",
              "    90% {\n",
              "      border-color: transparent;\n",
              "      border-bottom-color: var(--fill-color);\n",
              "    }\n",
              "  }\n",
              "</style>\n",
              "\n",
              "  <script>\n",
              "    async function quickchart(key) {\n",
              "      const quickchartButtonEl =\n",
              "        document.querySelector('#' + key + ' button');\n",
              "      quickchartButtonEl.disabled = true;  // To prevent multiple clicks.\n",
              "      quickchartButtonEl.classList.add('colab-df-spinner');\n",
              "      try {\n",
              "        const charts = await google.colab.kernel.invokeFunction(\n",
              "            'suggestCharts', [key], {});\n",
              "      } catch (error) {\n",
              "        console.error('Error during call to suggestCharts:', error);\n",
              "      }\n",
              "      quickchartButtonEl.classList.remove('colab-df-spinner');\n",
              "      quickchartButtonEl.classList.add('colab-df-quickchart-complete');\n",
              "    }\n",
              "    (() => {\n",
              "      let quickchartButtonEl =\n",
              "        document.querySelector('#df-1b4bb220-85c8-453d-ae01-5611fac41dad button');\n",
              "      quickchartButtonEl.style.display =\n",
              "        google.colab.kernel.accessAllowed ? 'block' : 'none';\n",
              "    })();\n",
              "  </script>\n",
              "</div>\n",
              "\n",
              "    </div>\n",
              "  </div>\n"
            ]
          },
          "metadata": {},
          "execution_count": 14
        }
      ]
    },
    {
      "cell_type": "code",
      "source": [
        "sns.boxplot(data=df, x=\"대출기간\", y=\"대출금액\", hue=\"대출등급\", hue_order=grade_order)"
      ],
      "metadata": {
        "colab": {
          "base_uri": "https://localhost:8080/",
          "height": 493
        },
        "id": "Am-UU1hVetY4",
        "outputId": "efee044b-a246-4614-ecf6-6631639a0508"
      },
      "execution_count": 15,
      "outputs": [
        {
          "output_type": "execute_result",
          "data": {
            "text/plain": [
              "<Axes: xlabel='대출기간', ylabel='대출금액'>"
            ]
          },
          "metadata": {},
          "execution_count": 15
        },
        {
          "output_type": "display_data",
          "data": {
            "text/plain": [
              "<Figure size 640x480 with 1 Axes>"
            ],
            "image/png": "[encoded data removed]"
          },
          "metadata": {}
        }
      ]
    },
    {
      "cell_type": "markdown",
      "source": [
        "`-` 대출 기간과 대출 등급은 서로 관련이 있다\n",
        "\n",
        "`-` 대출 기간에 따라 대출 등급의 분포가 다르다\n",
        "\n",
        "`-` 하나의 대출 기간에 대하여 대출 등급에 따라 대출 금액의 분포가 A 등급의 경우 다르다\n",
        "\n",
        "`-` 대출 등급별로 대출 가능한 상품이 구분되어 있을텐데 그 것이 위와 같이 나타난 것 같다"
      ],
      "metadata": {
        "id": "_J8XyhE81C5t"
      }
    },
    {
      "cell_type": "markdown",
      "source": [
        "- 연간 소득"
      ],
      "metadata": {
        "id": "TXZGNmL9ajpV"
      }
    },
    {
      "cell_type": "code",
      "source": [
        "df.query(\"연간소득 > 2e8\").shape[0]"
      ],
      "metadata": {
        "colab": {
          "base_uri": "https://localhost:8080/"
        },
        "id": "UlNv97MINqFO",
        "outputId": "6729ca41-98f9-4dfe-f4a4-d3aa303e61ed"
      },
      "execution_count": 31,
      "outputs": [
        {
          "output_type": "execute_result",
          "data": {
            "text/plain": [
              "4076"
            ]
          },
          "metadata": {},
          "execution_count": 31
        }
      ]
    },
    {
      "cell_type": "code",
      "source": [
        "sns.boxplot(data=df.query(\"연간소득 < 2e8\"), x=\"대출등급\", y=\"연간소득\", order=grade_order)"
      ],
      "metadata": {
        "colab": {
          "base_uri": "https://localhost:8080/",
          "height": 493
        },
        "id": "lIfvN2G9L1WG",
        "outputId": "45fc2392-5198-4137-bfe4-da3c8fbefc20"
      },
      "execution_count": 17,
      "outputs": [
        {
          "output_type": "execute_result",
          "data": {
            "text/plain": [
              "<Axes: xlabel='대출등급', ylabel='연간소득'>"
            ]
          },
          "metadata": {},
          "execution_count": 17
        },
        {
          "output_type": "display_data",
          "data": {
            "text/plain": [
              "<Figure size 640x480 with 1 Axes>"
            ],
            "image/png": "[encoded data removed]"
          },
          "metadata": {}
        }
      ]
    },
    {
      "cell_type": "markdown",
      "source": [
        "`-` 대출 등급이 우수할수록 연간 소득이 평균적으로 더 많다"
      ],
      "metadata": {
        "id": "bk9Btk3uOU8-"
      }
    },
    {
      "cell_type": "markdown",
      "source": [
        "- 주택 소유 상태"
      ],
      "metadata": {
        "id": "cuPkfSYyanMU"
      }
    },
    {
      "cell_type": "code",
      "source": [
        "df[\"주택소유상태\"].value_counts()"
      ],
      "metadata": {
        "colab": {
          "base_uri": "https://localhost:8080/"
        },
        "id": "Gf1UZiWw1dJE",
        "outputId": "da3abadc-528d-443e-8767-6c33d92edb98"
      },
      "execution_count": 19,
      "outputs": [
        {
          "output_type": "execute_result",
          "data": {
            "text/plain": [
              "MORTGAGE    47934\n",
              "RENT        37705\n",
              "OWN         10654\n",
              "ANY             1\n",
              "Name: 주택소유상태, dtype: int64"
            ]
          },
          "metadata": {},
          "execution_count": 19
        }
      ]
    },
    {
      "cell_type": "code",
      "source": [
        "pd.crosstab(df[\"대출등급\"], df[\"주택소유상태\"])"
      ],
      "metadata": {
        "colab": {
          "base_uri": "https://localhost:8080/",
          "height": 300
        },
        "id": "_xVtxEqH1ugk",
        "outputId": "4a255594-e38f-4eaf-e7b3-3a062bc0ea3a"
      },
      "execution_count": 20,
      "outputs": [
        {
          "output_type": "execute_result",
          "data": {
            "text/plain": [
              "주택소유상태  ANY  MORTGAGE   OWN   RENT\n",
              "대출등급                              \n",
              "A         0      9640  1864   5268\n",
              "B         0     14518  3099  11200\n",
              "C         1     13106  3038  11478\n",
              "D         0      6163  1538   5653\n",
              "E         0      3452   846   3056\n",
              "F         0       883   216    855\n",
              "G         0       172    53    195"
            ],
            "text/html": [
              "\n",
              "  <div id=\"df-32a15d6a-ca3d-4b55-876b-63c9e1831ad6\" class=\"colab-df-container\">\n",
              "    <div>\n",
              "<style scoped>\n",
              "    .dataframe tbody tr th:only-of-type {\n",
              "        vertical-align: middle;\n",
              "    }\n",
              "\n",
              "    .dataframe tbody tr th {\n",
              "        vertical-align: top;\n",
              "    }\n",
              "\n",
              "    .dataframe thead th {\n",
              "        text-align: right;\n",
              "    }\n",
              "</style>\n",
              "<table border=\"1\" class=\"dataframe\">\n",
              "  <thead>\n",
              "    <tr style=\"text-align: right;\">\n",
              "      <th>주택소유상태</th>\n",
              "      <th>ANY</th>\n",
              "      <th>MORTGAGE</th>\n",
              "      <th>OWN</th>\n",
              "      <th>RENT</th>\n",
              "    </tr>\n",
              "    <tr>\n",
              "      <th>대출등급</th>\n",
              "      <th></th>\n",
              "      <th></th>\n",
              "      <th></th>\n",
              "      <th></th>\n",
              "    </tr>\n",
              "  </thead>\n",
              "  <tbody>\n",
              "    <tr>\n",
              "      <th>A</th>\n",
              "      <td>0</td>\n",
              "      <td>9640</td>\n",
              "      <td>1864</td>\n",
              "      <td>5268</td>\n",
              "    </tr>\n",
              "    <tr>\n",
              "      <th>B</th>\n",
              "      <td>0</td>\n",
              "      <td>14518</td>\n",
              "      <td>3099</td>\n",
              "      <td>11200</td>\n",
              "    </tr>\n",
              "    <tr>\n",
              "      <th>C</th>\n",
              "      <td>1</td>\n",
              "      <td>13106</td>\n",
              "      <td>3038</td>\n",
              "      <td>11478</td>\n",
              "    </tr>\n",
              "    <tr>\n",
              "      <th>D</th>\n",
              "      <td>0</td>\n",
              "      <td>6163</td>\n",
              "      <td>1538</td>\n",
              "      <td>5653</td>\n",
              "    </tr>\n",
              "    <tr>\n",
              "      <th>E</th>\n",
              "      <td>0</td>\n",
              "      <td>3452</td>\n",
              "      <td>846</td>\n",
              "      <td>3056</td>\n",
              "    </tr>\n",
              "    <tr>\n",
              "      <th>F</th>\n",
              "      <td>0</td>\n",
              "      <td>883</td>\n",
              "      <td>216</td>\n",
              "      <td>855</td>\n",
              "    </tr>\n",
              "    <tr>\n",
              "      <th>G</th>\n",
              "      <td>0</td>\n",
              "      <td>172</td>\n",
              "      <td>53</td>\n",
              "      <td>195</td>\n",
              "    </tr>\n",
              "  </tbody>\n",
              "</table>\n",
              "</div>\n",
              "    <div class=\"colab-df-buttons\">\n",
              "\n",
              "  <div class=\"colab-df-container\">\n",
              "    <button class=\"colab-df-convert\" onclick=\"convertToInteractive('df-32a15d6a-ca3d-4b55-876b-63c9e1831ad6')\"\n",
              "            title=\"Convert this dataframe to an interactive table.\"\n",
              "            style=\"display:none;\">\n",
              "\n",
              "  <svg xmlns=\"http://www.w3.org/2000/svg\" height=\"24px\" viewBox=\"0 -960 960 960\">\n",
              "    <path d=\"M120-120v-720h720v720H120Zm60-500h600v-160H180v160Zm220 220h160v-160H400v160Zm0 220h160v-160H400v160ZM180-400h160v-160H180v160Zm440 0h160v-160H620v160ZM180-180h160v-160H180v160Zm440 0h160v-160H620v160Z\"/>\n",
              "  </svg>\n",
              "    </button>\n",
              "\n",
              "  <style>\n",
              "    .colab-df-container {\n",
              "      display:flex;\n",
              "      gap: 12px;\n",
              "    }\n",
              "\n",
              "    .colab-df-convert {\n",
              "      background-color: #E8F0FE;\n",
              "      border: none;\n",
              "      border-radius: 50%;\n",
              "      cursor: pointer;\n",
              "      display: none;\n",
              "      fill: #1967D2;\n",
              "      height: 32px;\n",
              "      padding: 0 0 0 0;\n",
              "      width: 32px;\n",
              "    }\n",
              "\n",
              "    .colab-df-convert:hover {\n",
              "      background-color: #E2EBFA;\n",
              "      box-shadow: 0px 1px 2px rgba(60, 64, 67, 0.3), 0px 1px 3px 1px rgba(60, 64, 67, 0.15);\n",
              "      fill: #174EA6;\n",
              "    }\n",
              "\n",
              "    .colab-df-buttons div {\n",
              "      margin-bottom: 4px;\n",
              "    }\n",
              "\n",
              "    [theme=dark] .colab-df-convert {\n",
              "      background-color: #3B4455;\n",
              "      fill: #D2E3FC;\n",
              "    }\n",
              "\n",
              "    [theme=dark] .colab-df-convert:hover {\n",
              "      background-color: #434B5C;\n",
              "      box-shadow: 0px 1px 3px 1px rgba(0, 0, 0, 0.15);\n",
              "      filter: drop-shadow(0px 1px 2px rgba(0, 0, 0, 0.3));\n",
              "      fill: #FFFFFF;\n",
              "    }\n",
              "  </style>\n",
              "\n",
              "    <script>\n",
              "      const buttonEl =\n",
              "        document.querySelector('#df-32a15d6a-ca3d-4b55-876b-63c9e1831ad6 button.colab-df-convert');\n",
              "      buttonEl.style.display =\n",
              "        google.colab.kernel.accessAllowed ? 'block' : 'none';\n",
              "\n",
              "      async function convertToInteractive(key) {\n",
              "        const element = document.querySelector('#df-32a15d6a-ca3d-4b55-876b-63c9e1831ad6');\n",
              "        const dataTable =\n",
              "          await google.colab.kernel.invokeFunction('convertToInteractive',\n",
              "                                                    [key], {});\n",
              "        if (!dataTable) return;\n",
              "\n",
              "        const docLinkHtml = 'Like what you see? Visit the ' +\n",
              "          '<a target=\"_blank\" href=https://colab.research.google.com/notebooks/data_table.ipynb>data table notebook</a>'\n",
              "          + ' to learn more about interactive tables.';\n",
              "        element.innerHTML = '';\n",
              "        dataTable['output_type'] = 'display_data';\n",
              "        await google.colab.output.renderOutput(dataTable, element);\n",
              "        const docLink = document.createElement('div');\n",
              "        docLink.innerHTML = docLinkHtml;\n",
              "        element.appendChild(docLink);\n",
              "      }\n",
              "    </script>\n",
              "  </div>\n",
              "\n",
              "\n",
              "<div id=\"df-5f1fe4c9-f266-43cb-9623-2513fe1e8b42\">\n",
              "  <button class=\"colab-df-quickchart\" onclick=\"quickchart('df-5f1fe4c9-f266-43cb-9623-2513fe1e8b42')\"\n",
              "            title=\"Suggest charts\"\n",
              "            style=\"display:none;\">\n",
              "\n",
              "<svg xmlns=\"http://www.w3.org/2000/svg\" height=\"24px\"viewBox=\"0 0 24 24\"\n",
              "     width=\"24px\">\n",
              "    <g>\n",
              "        <path d=\"M19 3H5c-1.1 0-2 .9-2 2v14c0 1.1.9 2 2 2h14c1.1 0 2-.9 2-2V5c0-1.1-.9-2-2-2zM9 17H7v-7h2v7zm4 0h-2V7h2v10zm4 0h-2v-4h2v4z\"/>\n",
              "    </g>\n",
              "</svg>\n",
              "  </button>\n",
              "\n",
              "<style>\n",
              "  .colab-df-quickchart {\n",
              "      --bg-color: #E8F0FE;\n",
              "      --fill-color: #1967D2;\n",
              "      --hover-bg-color: #E2EBFA;\n",
              "      --hover-fill-color: #174EA6;\n",
              "      --disabled-fill-color: #AAA;\n",
              "      --disabled-bg-color: #DDD;\n",
              "  }\n",
              "\n",
              "  [theme=dark] .colab-df-quickchart {\n",
              "      --bg-color: #3B4455;\n",
              "      --fill-color: #D2E3FC;\n",
              "      --hover-bg-color: #434B5C;\n",
              "      --hover-fill-color: #FFFFFF;\n",
              "      --disabled-bg-color: #3B4455;\n",
              "      --disabled-fill-color: #666;\n",
              "  }\n",
              "\n",
              "  .colab-df-quickchart {\n",
              "    background-color: var(--bg-color);\n",
              "    border: none;\n",
              "    border-radius: 50%;\n",
              "    cursor: pointer;\n",
              "    display: none;\n",
              "    fill: var(--fill-color);\n",
              "    height: 32px;\n",
              "    padding: 0;\n",
              "    width: 32px;\n",
              "  }\n",
              "\n",
              "  .colab-df-quickchart:hover {\n",
              "    background-color: var(--hover-bg-color);\n",
              "    box-shadow: 0 1px 2px rgba(60, 64, 67, 0.3), 0 1px 3px 1px rgba(60, 64, 67, 0.15);\n",
              "    fill: var(--button-hover-fill-color);\n",
              "  }\n",
              "\n",
              "  .colab-df-quickchart-complete:disabled,\n",
              "  .colab-df-quickchart-complete:disabled:hover {\n",
              "    background-color: var(--disabled-bg-color);\n",
              "    fill: var(--disabled-fill-color);\n",
              "    box-shadow: none;\n",
              "  }\n",
              "\n",
              "  .colab-df-spinner {\n",
              "    border: 2px solid var(--fill-color);\n",
              "    border-color: transparent;\n",
              "    border-bottom-color: var(--fill-color);\n",
              "    animation:\n",
              "      spin 1s steps(1) infinite;\n",
              "  }\n",
              "\n",
              "  @keyframes spin {\n",
              "    0% {\n",
              "      border-color: transparent;\n",
              "      border-bottom-color: var(--fill-color);\n",
              "      border-left-color: var(--fill-color);\n",
              "    }\n",
              "    20% {\n",
              "      border-color: transparent;\n",
              "      border-left-color: var(--fill-color);\n",
              "      border-top-color: var(--fill-color);\n",
              "    }\n",
              "    30% {\n",
              "      border-color: transparent;\n",
              "      border-left-color: var(--fill-color);\n",
              "      border-top-color: var(--fill-color);\n",
              "      border-right-color: var(--fill-color);\n",
              "    }\n",
              "    40% {\n",
              "      border-color: transparent;\n",
              "      border-right-color: var(--fill-color);\n",
              "      border-top-color: var(--fill-color);\n",
              "    }\n",
              "    60% {\n",
              "      border-color: transparent;\n",
              "      border-right-color: var(--fill-color);\n",
              "    }\n",
              "    80% {\n",
              "      border-color: transparent;\n",
              "      border-right-color: var(--fill-color);\n",
              "      border-bottom-color: var(--fill-color);\n",
              "    }\n",
              "    90% {\n",
              "      border-color: transparent;\n",
              "      border-bottom-color: var(--fill-color);\n",
              "    }\n",
              "  }\n",
              "</style>\n",
              "\n",
              "  <script>\n",
              "    async function quickchart(key) {\n",
              "      const quickchartButtonEl =\n",
              "        document.querySelector('#' + key + ' button');\n",
              "      quickchartButtonEl.disabled = true;  // To prevent multiple clicks.\n",
              "      quickchartButtonEl.classList.add('colab-df-spinner');\n",
              "      try {\n",
              "        const charts = await google.colab.kernel.invokeFunction(\n",
              "            'suggestCharts', [key], {});\n",
              "      } catch (error) {\n",
              "        console.error('Error during call to suggestCharts:', error);\n",
              "      }\n",
              "      quickchartButtonEl.classList.remove('colab-df-spinner');\n",
              "      quickchartButtonEl.classList.add('colab-df-quickchart-complete');\n",
              "    }\n",
              "    (() => {\n",
              "      let quickchartButtonEl =\n",
              "        document.querySelector('#df-5f1fe4c9-f266-43cb-9623-2513fe1e8b42 button');\n",
              "      quickchartButtonEl.style.display =\n",
              "        google.colab.kernel.accessAllowed ? 'block' : 'none';\n",
              "    })();\n",
              "  </script>\n",
              "</div>\n",
              "\n",
              "    </div>\n",
              "  </div>\n"
            ]
          },
          "metadata": {},
          "execution_count": 20
        }
      ]
    },
    {
      "cell_type": "code",
      "source": [
        "sns.boxplot(data=df, hue=\"대출등급\", y=\"대출금액\", x=\"주택소유상태\", hue_order=grade_order)"
      ],
      "metadata": {
        "colab": {
          "base_uri": "https://localhost:8080/",
          "height": 493
        },
        "id": "ORqXfcWO_IAz",
        "outputId": "467027bc-3df3-4d6b-99b3-d8e0ae6d03be"
      },
      "execution_count": 22,
      "outputs": [
        {
          "output_type": "execute_result",
          "data": {
            "text/plain": [
              "<Axes: xlabel='주택소유상태', ylabel='대출금액'>"
            ]
          },
          "metadata": {},
          "execution_count": 22
        },
        {
          "output_type": "display_data",
          "data": {
            "text/plain": [
              "<Figure size 640x480 with 1 Axes>"
            ],
            "image/png": "[encoded data removed]"
          },
          "metadata": {}
        }
      ]
    },
    {
      "cell_type": "markdown",
      "source": [
        "`-` 주택 소유 상태 별로 대출 등급에 따른 대출 금액의 분포가 겹쳐있어 구분하기 쉽지 않다\n",
        "\n",
        "`-` 하지만 MORTGAGE의 경우, 평균적으로 대출 금액이 더 높다\n",
        "\n",
        "`-` 범주를 MORTGAGE인지 아닌지로 나누는게 좋아보인다"
      ],
      "metadata": {
        "id": "8S3ScJq9CjxS"
      }
    },
    {
      "cell_type": "markdown",
      "source": [
        "- 부채 대비 소득 비율"
      ],
      "metadata": {
        "id": "5G_5x--GbAPE"
      }
    },
    {
      "cell_type": "code",
      "source": [
        "df.query(\"부채_대비_소득_비율 > 50\").shape[0]"
      ],
      "metadata": {
        "colab": {
          "base_uri": "https://localhost:8080/"
        },
        "id": "iWjcHKRlbFS0",
        "outputId": "0ca80767-8ab6-4db0-83f7-7d2a7a5dd806"
      },
      "execution_count": 30,
      "outputs": [
        {
          "output_type": "execute_result",
          "data": {
            "text/plain": [
              "19"
            ]
          },
          "metadata": {},
          "execution_count": 30
        }
      ]
    },
    {
      "cell_type": "code",
      "source": [
        "sns.boxplot(data=df.query(\"부채_대비_소득_비율 < 50\"), x=\"대출등급\", y=\"부채_대비_소득_비율\", order=grade_order)"
      ],
      "metadata": {
        "colab": {
          "base_uri": "https://localhost:8080/",
          "height": 477
        },
        "id": "oW5sJE4fQDCt",
        "outputId": "6598c730-af9b-45bb-c305-7bb8cce6b110"
      },
      "execution_count": 24,
      "outputs": [
        {
          "output_type": "execute_result",
          "data": {
            "text/plain": [
              "<Axes: xlabel='대출등급', ylabel='부채_대비_소득_비율'>"
            ]
          },
          "metadata": {},
          "execution_count": 24
        },
        {
          "output_type": "display_data",
          "data": {
            "text/plain": [
              "<Figure size 640x480 with 1 Axes>"
            ],
            "image/png": "[encoded data removed]"
          },
          "metadata": {}
        }
      ]
    },
    {
      "cell_type": "markdown",
      "source": [
        "`-` 대출 등급이 우수할수록 부채 대비 소득 비율이 평균적으로 더 작다"
      ],
      "metadata": {
        "id": "XBQa2YwtQefN"
      }
    },
    {
      "cell_type": "code",
      "source": [
        "sns.boxplot(data=df, x=\"대출기간\", y=\"총상환원금\", hue=\"대출등급\", hue_order=grade_order)"
      ],
      "metadata": {
        "colab": {
          "base_uri": "https://localhost:8080/",
          "height": 493
        },
        "id": "NAu2A-iZuMZV",
        "outputId": "24ed0622-fda2-43ec-acf8-bcbc6afa0995"
      },
      "execution_count": 60,
      "outputs": [
        {
          "output_type": "execute_result",
          "data": {
            "text/plain": [
              "<Axes: xlabel='대출기간', ylabel='총상환원금'>"
            ]
          },
          "metadata": {},
          "execution_count": 60
        },
        {
          "output_type": "display_data",
          "data": {
            "text/plain": [
              "<Figure size 640x480 with 1 Axes>"
            ],
            "image/png": "[encoded data removed]"
          },
          "metadata": {}
        }
      ]
    },
    {
      "cell_type": "markdown",
      "source": [
        "`-` 대출 등급이 우수할수록 평균적으로 원금을 많이 갚았다"
      ],
      "metadata": {
        "id": "p1McI7DUwgsG"
      }
    },
    {
      "cell_type": "markdown",
      "source": [
        "- 총 상환 이자"
      ],
      "metadata": {
        "id": "8nTUL0XpbXIU"
      }
    },
    {
      "cell_type": "code",
      "source": [
        "sns.boxplot(data=df, x=\"대출기간\", y=\"총상환이자\", hue=\"대출등급\", hue_order=grade_order)"
      ],
      "metadata": {
        "colab": {
          "base_uri": "https://localhost:8080/",
          "height": 493
        },
        "id": "wQKp9OWVQmot",
        "outputId": "06c20d35-ad5d-4d73-e9ff-39d52286d8fa"
      },
      "execution_count": 33,
      "outputs": [
        {
          "output_type": "execute_result",
          "data": {
            "text/plain": [
              "<Axes: xlabel='대출기간', ylabel='총상환이자'>"
            ]
          },
          "metadata": {},
          "execution_count": 33
        },
        {
          "output_type": "display_data",
          "data": {
            "text/plain": [
              "<Figure size 640x480 with 1 Axes>"
            ],
            "image/png": "[encoded data removed]"
          },
          "metadata": {}
        }
      ]
    },
    {
      "cell_type": "markdown",
      "source": [
        "`-` 대출 등급이 낮을수록 돈을 많이 갚지 못해 이자만 쌓여 대출 금액이 더 적지만 오히려 총 상환 이자는 평균적으로 더 많다"
      ],
      "metadata": {
        "id": "AbqEzXOgXioa"
      }
    },
    {
      "cell_type": "markdown",
      "source": [
        "- 대출 목적"
      ],
      "metadata": {
        "id": "jrxWtCx6bfFs"
      }
    },
    {
      "cell_type": "code",
      "source": [
        "pd.crosstab(df[\"대출등급\"], df[\"대출목적\"])"
      ],
      "metadata": {
        "colab": {
          "base_uri": "https://localhost:8080/",
          "height": 300
        },
        "id": "GqGx3x6Fjlye",
        "outputId": "5f33c28e-d274-4e27-e15c-b89d76cc45f7"
      },
      "execution_count": 35,
      "outputs": [
        {
          "output_type": "execute_result",
          "data": {
            "text/plain": [
              "대출목적    기타  부채 통합  소규모 사업  신용 카드   의료   이사  자동차  재생 에너지  주요 구매  주택  주택 개선   휴가\n",
              "대출등급                                                                          \n",
              "A      356   8036      19   6424  104   13  174       1    372   8   1225   40\n",
              "B     1080  15680      75   8917  238   86  258       4    479  36   1845  119\n",
              "C     1705  16349     249   6036  375  203  213      20    503  85   1689  196\n",
              "D      916   8529     192   2092  197  131   87      21    238  68    805   78\n",
              "E      478   4979     158    877   91   50   46      10    150  63    425   27\n",
              "F      147   1311      64    137   27   18   15       4     53  29    145    4\n",
              "G       43    266      30     17    7    5    4       0      8  12     26    2"
            ],
            "text/html": [
              "\n",
              "  <div id=\"df-a07423ac-d5f1-49e1-9610-1dd450c9bcf2\" class=\"colab-df-container\">\n",
              "    <div>\n",
              "<style scoped>\n",
              "    .dataframe tbody tr th:only-of-type {\n",
              "        vertical-align: middle;\n",
              "    }\n",
              "\n",
              "    .dataframe tbody tr th {\n",
              "        vertical-align: top;\n",
              "    }\n",
              "\n",
              "    .dataframe thead th {\n",
              "        text-align: right;\n",
              "    }\n",
              "</style>\n",
              "<table border=\"1\" class=\"dataframe\">\n",
              "  <thead>\n",
              "    <tr style=\"text-align: right;\">\n",
              "      <th>대출목적</th>\n",
              "      <th>기타</th>\n",
              "      <th>부채 통합</th>\n",
              "      <th>소규모 사업</th>\n",
              "      <th>신용 카드</th>\n",
              "      <th>의료</th>\n",
              "      <th>이사</th>\n",
              "      <th>자동차</th>\n",
              "      <th>재생 에너지</th>\n",
              "      <th>주요 구매</th>\n",
              "      <th>주택</th>\n",
              "      <th>주택 개선</th>\n",
              "      <th>휴가</th>\n",
              "    </tr>\n",
              "    <tr>\n",
              "      <th>대출등급</th>\n",
              "      <th></th>\n",
              "      <th></th>\n",
              "      <th></th>\n",
              "      <th></th>\n",
              "      <th></th>\n",
              "      <th></th>\n",
              "      <th></th>\n",
              "      <th></th>\n",
              "      <th></th>\n",
              "      <th></th>\n",
              "      <th></th>\n",
              "      <th></th>\n",
              "    </tr>\n",
              "  </thead>\n",
              "  <tbody>\n",
              "    <tr>\n",
              "      <th>A</th>\n",
              "      <td>356</td>\n",
              "      <td>8036</td>\n",
              "      <td>19</td>\n",
              "      <td>6424</td>\n",
              "      <td>104</td>\n",
              "      <td>13</td>\n",
              "      <td>174</td>\n",
              "      <td>1</td>\n",
              "      <td>372</td>\n",
              "      <td>8</td>\n",
              "      <td>1225</td>\n",
              "      <td>40</td>\n",
              "    </tr>\n",
              "    <tr>\n",
              "      <th>B</th>\n",
              "      <td>1080</td>\n",
              "      <td>15680</td>\n",
              "      <td>75</td>\n",
              "      <td>8917</td>\n",
              "      <td>238</td>\n",
              "      <td>86</td>\n",
              "      <td>258</td>\n",
              "      <td>4</td>\n",
              "      <td>479</td>\n",
              "      <td>36</td>\n",
              "      <td>1845</td>\n",
              "      <td>119</td>\n",
              "    </tr>\n",
              "    <tr>\n",
              "      <th>C</th>\n",
              "      <td>1705</td>\n",
              "      <td>16349</td>\n",
              "      <td>249</td>\n",
              "      <td>6036</td>\n",
              "      <td>375</td>\n",
              "      <td>203</td>\n",
              "      <td>213</td>\n",
              "      <td>20</td>\n",
              "      <td>503</td>\n",
              "      <td>85</td>\n",
              "      <td>1689</td>\n",
              "      <td>196</td>\n",
              "    </tr>\n",
              "    <tr>\n",
              "      <th>D</th>\n",
              "      <td>916</td>\n",
              "      <td>8529</td>\n",
              "      <td>192</td>\n",
              "      <td>2092</td>\n",
              "      <td>197</td>\n",
              "      <td>131</td>\n",
              "      <td>87</td>\n",
              "      <td>21</td>\n",
              "      <td>238</td>\n",
              "      <td>68</td>\n",
              "      <td>805</td>\n",
              "      <td>78</td>\n",
              "    </tr>\n",
              "    <tr>\n",
              "      <th>E</th>\n",
              "      <td>478</td>\n",
              "      <td>4979</td>\n",
              "      <td>158</td>\n",
              "      <td>877</td>\n",
              "      <td>91</td>\n",
              "      <td>50</td>\n",
              "      <td>46</td>\n",
              "      <td>10</td>\n",
              "      <td>150</td>\n",
              "      <td>63</td>\n",
              "      <td>425</td>\n",
              "      <td>27</td>\n",
              "    </tr>\n",
              "    <tr>\n",
              "      <th>F</th>\n",
              "      <td>147</td>\n",
              "      <td>1311</td>\n",
              "      <td>64</td>\n",
              "      <td>137</td>\n",
              "      <td>27</td>\n",
              "      <td>18</td>\n",
              "      <td>15</td>\n",
              "      <td>4</td>\n",
              "      <td>53</td>\n",
              "      <td>29</td>\n",
              "      <td>145</td>\n",
              "      <td>4</td>\n",
              "    </tr>\n",
              "    <tr>\n",
              "      <th>G</th>\n",
              "      <td>43</td>\n",
              "      <td>266</td>\n",
              "      <td>30</td>\n",
              "      <td>17</td>\n",
              "      <td>7</td>\n",
              "      <td>5</td>\n",
              "      <td>4</td>\n",
              "      <td>0</td>\n",
              "      <td>8</td>\n",
              "      <td>12</td>\n",
              "      <td>26</td>\n",
              "      <td>2</td>\n",
              "    </tr>\n",
              "  </tbody>\n",
              "</table>\n",
              "</div>\n",
              "    <div class=\"colab-df-buttons\">\n",
              "\n",
              "  <div class=\"colab-df-container\">\n",
              "    <button class=\"colab-df-convert\" onclick=\"convertToInteractive('df-a07423ac-d5f1-49e1-9610-1dd450c9bcf2')\"\n",
              "            title=\"Convert this dataframe to an interactive table.\"\n",
              "            style=\"display:none;\">\n",
              "\n",
              "  <svg xmlns=\"http://www.w3.org/2000/svg\" height=\"24px\" viewBox=\"0 -960 960 960\">\n",
              "    <path d=\"M120-120v-720h720v720H120Zm60-500h600v-160H180v160Zm220 220h160v-160H400v160Zm0 220h160v-160H400v160ZM180-400h160v-160H180v160Zm440 0h160v-160H620v160ZM180-180h160v-160H180v160Zm440 0h160v-160H620v160Z\"/>\n",
              "  </svg>\n",
              "    </button>\n",
              "\n",
              "  <style>\n",
              "    .colab-df-container {\n",
              "      display:flex;\n",
              "      gap: 12px;\n",
              "    }\n",
              "\n",
              "    .colab-df-convert {\n",
              "      background-color: #E8F0FE;\n",
              "      border: none;\n",
              "      border-radius: 50%;\n",
              "      cursor: pointer;\n",
              "      display: none;\n",
              "      fill: #1967D2;\n",
              "      height: 32px;\n",
              "      padding: 0 0 0 0;\n",
              "      width: 32px;\n",
              "    }\n",
              "\n",
              "    .colab-df-convert:hover {\n",
              "      background-color: #E2EBFA;\n",
              "      box-shadow: 0px 1px 2px rgba(60, 64, 67, 0.3), 0px 1px 3px 1px rgba(60, 64, 67, 0.15);\n",
              "      fill: #174EA6;\n",
              "    }\n",
              "\n",
              "    .colab-df-buttons div {\n",
              "      margin-bottom: 4px;\n",
              "    }\n",
              "\n",
              "    [theme=dark] .colab-df-convert {\n",
              "      background-color: #3B4455;\n",
              "      fill: #D2E3FC;\n",
              "    }\n",
              "\n",
              "    [theme=dark] .colab-df-convert:hover {\n",
              "      background-color: #434B5C;\n",
              "      box-shadow: 0px 1px 3px 1px rgba(0, 0, 0, 0.15);\n",
              "      filter: drop-shadow(0px 1px 2px rgba(0, 0, 0, 0.3));\n",
              "      fill: #FFFFFF;\n",
              "    }\n",
              "  </style>\n",
              "\n",
              "    <script>\n",
              "      const buttonEl =\n",
              "        document.querySelector('#df-a07423ac-d5f1-49e1-9610-1dd450c9bcf2 button.colab-df-convert');\n",
              "      buttonEl.style.display =\n",
              "        google.colab.kernel.accessAllowed ? 'block' : 'none';\n",
              "\n",
              "      async function convertToInteractive(key) {\n",
              "        const element = document.querySelector('#df-a07423ac-d5f1-49e1-9610-1dd450c9bcf2');\n",
              "        const dataTable =\n",
              "          await google.colab.kernel.invokeFunction('convertToInteractive',\n",
              "                                                    [key], {});\n",
              "        if (!dataTable) return;\n",
              "\n",
              "        const docLinkHtml = 'Like what you see? Visit the ' +\n",
              "          '<a target=\"_blank\" href=https://colab.research.google.com/notebooks/data_table.ipynb>data table notebook</a>'\n",
              "          + ' to learn more about interactive tables.';\n",
              "        element.innerHTML = '';\n",
              "        dataTable['output_type'] = 'display_data';\n",
              "        await google.colab.output.renderOutput(dataTable, element);\n",
              "        const docLink = document.createElement('div');\n",
              "        docLink.innerHTML = docLinkHtml;\n",
              "        element.appendChild(docLink);\n",
              "      }\n",
              "    </script>\n",
              "  </div>\n",
              "\n",
              "\n",
              "<div id=\"df-c0ea24ca-855d-4027-9659-7e2e5444437f\">\n",
              "  <button class=\"colab-df-quickchart\" onclick=\"quickchart('df-c0ea24ca-855d-4027-9659-7e2e5444437f')\"\n",
              "            title=\"Suggest charts\"\n",
              "            style=\"display:none;\">\n",
              "\n",
              "<svg xmlns=\"http://www.w3.org/2000/svg\" height=\"24px\"viewBox=\"0 0 24 24\"\n",
              "     width=\"24px\">\n",
              "    <g>\n",
              "        <path d=\"M19 3H5c-1.1 0-2 .9-2 2v14c0 1.1.9 2 2 2h14c1.1 0 2-.9 2-2V5c0-1.1-.9-2-2-2zM9 17H7v-7h2v7zm4 0h-2V7h2v10zm4 0h-2v-4h2v4z\"/>\n",
              "    </g>\n",
              "</svg>\n",
              "  </button>\n",
              "\n",
              "<style>\n",
              "  .colab-df-quickchart {\n",
              "      --bg-color: #E8F0FE;\n",
              "      --fill-color: #1967D2;\n",
              "      --hover-bg-color: #E2EBFA;\n",
              "      --hover-fill-color: #174EA6;\n",
              "      --disabled-fill-color: #AAA;\n",
              "      --disabled-bg-color: #DDD;\n",
              "  }\n",
              "\n",
              "  [theme=dark] .colab-df-quickchart {\n",
              "      --bg-color: #3B4455;\n",
              "      --fill-color: #D2E3FC;\n",
              "      --hover-bg-color: #434B5C;\n",
              "      --hover-fill-color: #FFFFFF;\n",
              "      --disabled-bg-color: #3B4455;\n",
              "      --disabled-fill-color: #666;\n",
              "  }\n",
              "\n",
              "  .colab-df-quickchart {\n",
              "    background-color: var(--bg-color);\n",
              "    border: none;\n",
              "    border-radius: 50%;\n",
              "    cursor: pointer;\n",
              "    display: none;\n",
              "    fill: var(--fill-color);\n",
              "    height: 32px;\n",
              "    padding: 0;\n",
              "    width: 32px;\n",
              "  }\n",
              "\n",
              "  .colab-df-quickchart:hover {\n",
              "    background-color: var(--hover-bg-color);\n",
              "    box-shadow: 0 1px 2px rgba(60, 64, 67, 0.3), 0 1px 3px 1px rgba(60, 64, 67, 0.15);\n",
              "    fill: var(--button-hover-fill-color);\n",
              "  }\n",
              "\n",
              "  .colab-df-quickchart-complete:disabled,\n",
              "  .colab-df-quickchart-complete:disabled:hover {\n",
              "    background-color: var(--disabled-bg-color);\n",
              "    fill: var(--disabled-fill-color);\n",
              "    box-shadow: none;\n",
              "  }\n",
              "\n",
              "  .colab-df-spinner {\n",
              "    border: 2px solid var(--fill-color);\n",
              "    border-color: transparent;\n",
              "    border-bottom-color: var(--fill-color);\n",
              "    animation:\n",
              "      spin 1s steps(1) infinite;\n",
              "  }\n",
              "\n",
              "  @keyframes spin {\n",
              "    0% {\n",
              "      border-color: transparent;\n",
              "      border-bottom-color: var(--fill-color);\n",
              "      border-left-color: var(--fill-color);\n",
              "    }\n",
              "    20% {\n",
              "      border-color: transparent;\n",
              "      border-left-color: var(--fill-color);\n",
              "      border-top-color: var(--fill-color);\n",
              "    }\n",
              "    30% {\n",
              "      border-color: transparent;\n",
              "      border-left-color: var(--fill-color);\n",
              "      border-top-color: var(--fill-color);\n",
              "      border-right-color: var(--fill-color);\n",
              "    }\n",
              "    40% {\n",
              "      border-color: transparent;\n",
              "      border-right-color: var(--fill-color);\n",
              "      border-top-color: var(--fill-color);\n",
              "    }\n",
              "    60% {\n",
              "      border-color: transparent;\n",
              "      border-right-color: var(--fill-color);\n",
              "    }\n",
              "    80% {\n",
              "      border-color: transparent;\n",
              "      border-right-color: var(--fill-color);\n",
              "      border-bottom-color: var(--fill-color);\n",
              "    }\n",
              "    90% {\n",
              "      border-color: transparent;\n",
              "      border-bottom-color: var(--fill-color);\n",
              "    }\n",
              "  }\n",
              "</style>\n",
              "\n",
              "  <script>\n",
              "    async function quickchart(key) {\n",
              "      const quickchartButtonEl =\n",
              "        document.querySelector('#' + key + ' button');\n",
              "      quickchartButtonEl.disabled = true;  // To prevent multiple clicks.\n",
              "      quickchartButtonEl.classList.add('colab-df-spinner');\n",
              "      try {\n",
              "        const charts = await google.colab.kernel.invokeFunction(\n",
              "            'suggestCharts', [key], {});\n",
              "      } catch (error) {\n",
              "        console.error('Error during call to suggestCharts:', error);\n",
              "      }\n",
              "      quickchartButtonEl.classList.remove('colab-df-spinner');\n",
              "      quickchartButtonEl.classList.add('colab-df-quickchart-complete');\n",
              "    }\n",
              "    (() => {\n",
              "      let quickchartButtonEl =\n",
              "        document.querySelector('#df-c0ea24ca-855d-4027-9659-7e2e5444437f button');\n",
              "      quickchartButtonEl.style.display =\n",
              "        google.colab.kernel.accessAllowed ? 'block' : 'none';\n",
              "    })();\n",
              "  </script>\n",
              "</div>\n",
              "\n",
              "    </div>\n",
              "  </div>\n"
            ]
          },
          "metadata": {},
          "execution_count": 35
        }
      ]
    },
    {
      "cell_type": "markdown",
      "source": [
        "`-` 대출 목적별로 대출 등급의 분포가 조금 다르다"
      ],
      "metadata": {
        "id": "1Jxw4Fc5j7WA"
      }
    },
    {
      "cell_type": "markdown",
      "source": [
        "- 총 계좌 수"
      ],
      "metadata": {
        "id": "wn13Qoz_bkiU"
      }
    },
    {
      "cell_type": "code",
      "source": [
        "sns.boxplot(data=df, x=\"대출등급\", y=\"총계좌수\", order=grade_order)"
      ],
      "metadata": {
        "colab": {
          "base_uri": "https://localhost:8080/",
          "height": 478
        },
        "id": "kjcdqH3Pbn7c",
        "outputId": "c8c1bd8b-af4c-46d8-b4da-29d3c9e956a9"
      },
      "execution_count": 38,
      "outputs": [
        {
          "output_type": "execute_result",
          "data": {
            "text/plain": [
              "<Axes: xlabel='대출등급', ylabel='총계좌수'>"
            ]
          },
          "metadata": {},
          "execution_count": 38
        },
        {
          "output_type": "display_data",
          "data": {
            "text/plain": [
              "<Figure size 640x480 with 1 Axes>"
            ],
            "image/png": "[encoded data removed]"
          },
          "metadata": {}
        }
      ]
    },
    {
      "cell_type": "markdown",
      "source": [
        "`-` 가장 낮은 G등급의 경우 총 계좌 수의 이상치 상한이 다른 등급에 비해 작다\n",
        "\n",
        "`-` 대출 등급과 총 계좌 수는 서로 관련이 없어 보인다"
      ],
      "metadata": {
        "id": "EMyB94FIb0qX"
      }
    },
    {
      "cell_type": "markdown",
      "source": [
        "- 최근 2년간 연체 횟수"
      ],
      "metadata": {
        "id": "FGXlEqfAlvpB"
      }
    },
    {
      "cell_type": "code",
      "source": [
        "df[\"최근_2년간_연체_횟수\"].value_counts().sort_index()"
      ],
      "metadata": {
        "colab": {
          "base_uri": "https://localhost:8080/"
        },
        "id": "_Ig4oCvul0XB",
        "outputId": "fb3fac48-e3c5-44c9-e7b6-57eea8e3e1a4"
      },
      "execution_count": 44,
      "outputs": [
        {
          "output_type": "execute_result",
          "data": {
            "text/plain": [
              "0     76392\n",
              "1     13079\n",
              "2      3896\n",
              "3      1430\n",
              "4       697\n",
              "5       338\n",
              "6       178\n",
              "7        86\n",
              "8        67\n",
              "9        40\n",
              "10       35\n",
              "11       21\n",
              "12        9\n",
              "13        8\n",
              "14        8\n",
              "15        2\n",
              "16        4\n",
              "17        1\n",
              "18        2\n",
              "30        1\n",
              "Name: 최근_2년간_연체_횟수, dtype: int64"
            ]
          },
          "metadata": {},
          "execution_count": 44
        }
      ]
    },
    {
      "cell_type": "code",
      "source": [
        "df[\"대출등급\"].value_counts().sort_index() / len(df)"
      ],
      "metadata": {
        "colab": {
          "base_uri": "https://localhost:8080/"
        },
        "id": "9BsofmmmtIgW",
        "outputId": "5d227ee5-6cdb-4ee1-f809-09e34ac5ee00"
      },
      "execution_count": 48,
      "outputs": [
        {
          "output_type": "execute_result",
          "data": {
            "text/plain": [
              "A   0.174\n",
              "B   0.299\n",
              "C   0.287\n",
              "D   0.139\n",
              "E   0.076\n",
              "F   0.020\n",
              "G   0.004\n",
              "Name: 대출등급, dtype: float64"
            ]
          },
          "metadata": {},
          "execution_count": 48
        }
      ]
    },
    {
      "cell_type": "code",
      "source": [
        "df.query(\"최근_2년간_연체_횟수 == 0\")[\"대출등급\"].value_counts().sort_index() / len(df.query(\"최근_2년간_연체_횟수 == 0\"))"
      ],
      "metadata": {
        "colab": {
          "base_uri": "https://localhost:8080/"
        },
        "id": "kO8tNuvxkijQ",
        "outputId": "f557858c-7b1b-43c6-bdfd-e4aea4e2c393"
      },
      "execution_count": 45,
      "outputs": [
        {
          "output_type": "execute_result",
          "data": {
            "text/plain": [
              "A   0.188\n",
              "B   0.296\n",
              "C   0.280\n",
              "D   0.135\n",
              "E   0.076\n",
              "F   0.020\n",
              "G   0.004\n",
              "Name: 대출등급, dtype: float64"
            ]
          },
          "metadata": {},
          "execution_count": 45
        }
      ]
    },
    {
      "cell_type": "code",
      "source": [
        "df.query(\"최근_2년간_연체_횟수 > 0\")[\"대출등급\"].value_counts().sort_index() / len(df.query(\"최근_2년간_연체_횟수 > 0\"))"
      ],
      "metadata": {
        "colab": {
          "base_uri": "https://localhost:8080/"
        },
        "id": "DIE18T8vkHDP",
        "outputId": "4ab8091a-5537-4d85-bb7d-538895ec0bae"
      },
      "execution_count": 46,
      "outputs": [
        {
          "output_type": "execute_result",
          "data": {
            "text/plain": [
              "A   0.120\n",
              "B   0.312\n",
              "C   0.312\n",
              "D   0.152\n",
              "E   0.078\n",
              "F   0.021\n",
              "G   0.005\n",
              "Name: 대출등급, dtype: float64"
            ]
          },
          "metadata": {},
          "execution_count": 46
        }
      ]
    },
    {
      "cell_type": "markdown",
      "source": [
        "`-` 대출 등급이 낮을수록 연체를 하지 않는다"
      ],
      "metadata": {
        "id": "-5bKOqq6kein"
      }
    },
    {
      "cell_type": "markdown",
      "source": [
        "- 연체 계좌수"
      ],
      "metadata": {
        "id": "4nkukuChs0hm"
      }
    },
    {
      "cell_type": "code",
      "source": [
        "df[\"연체계좌수\"].astype(int).value_counts()"
      ],
      "metadata": {
        "colab": {
          "base_uri": "https://localhost:8080/"
        },
        "id": "Th23Poy8tztG",
        "outputId": "7600dd53-f6b0-4656-ca2d-eb5c2aa65b09"
      },
      "execution_count": 59,
      "outputs": [
        {
          "output_type": "execute_result",
          "data": {
            "text/plain": [
              "0    95762\n",
              "1      507\n",
              "2       24\n",
              "4        1\n",
              "Name: 연체계좌수, dtype: int64"
            ]
          },
          "metadata": {},
          "execution_count": 59
        }
      ]
    },
    {
      "cell_type": "code",
      "source": [
        "df.query(\"연체계좌수 == 0\")[\"대출등급\"].value_counts().sort_index() / len(df.query(\"연체계좌수 == 0\"))"
      ],
      "metadata": {
        "colab": {
          "base_uri": "https://localhost:8080/"
        },
        "id": "fCGsZG4BtuVK",
        "outputId": "b980eb1f-42a1-49ac-d4af-23f7bf87c6e7"
      },
      "execution_count": 56,
      "outputs": [
        {
          "output_type": "execute_result",
          "data": {
            "text/plain": [
              "A   0.175\n",
              "B   0.300\n",
              "C   0.286\n",
              "D   0.138\n",
              "E   0.076\n",
              "F   0.020\n",
              "G   0.004\n",
              "Name: 대출등급, dtype: float64"
            ]
          },
          "metadata": {},
          "execution_count": 56
        }
      ]
    },
    {
      "cell_type": "code",
      "source": [
        "df.query(\"연체계좌수 > 0\")[\"대출등급\"].value_counts().sort_index() / len(df.query(\"연체계좌수 > 0\"))"
      ],
      "metadata": {
        "colab": {
          "base_uri": "https://localhost:8080/"
        },
        "id": "NK2AV9v7kx3m",
        "outputId": "9270d1fb-b8ca-415c-b472-4e25929c23fb"
      },
      "execution_count": 55,
      "outputs": [
        {
          "output_type": "execute_result",
          "data": {
            "text/plain": [
              "A   0.036\n",
              "B   0.252\n",
              "C   0.385\n",
              "D   0.201\n",
              "E   0.100\n",
              "F   0.023\n",
              "G   0.004\n",
              "Name: 대출등급, dtype: float64"
            ]
          },
          "metadata": {},
          "execution_count": 55
        }
      ]
    },
    {
      "cell_type": "markdown",
      "source": [
        "`-` A등급의 경우 연체 비율에 비해 연체된 계좌가 현저히 적다"
      ],
      "metadata": {
        "id": "oJePh1Mdk1_-"
      }
    },
    {
      "cell_type": "code",
      "source": [
        "def correct(df):\n",
        "    df[\"근로기간\"] = df[\"근로기간\"].replace(\"<1 year\", \"< 1 year\")\n",
        "    df[\"근로기간\"] = df[\"근로기간\"].replace(\"10+years\", \"10+ years\")\n",
        "    df[\"근로기간\"] = df[\"근로기간\"].replace(\"3\", \"3 years\")\n",
        "    df[\"근로기간\"] = df[\"근로기간\"].replace(\"1 years\", \"1 year\")\n",
        "    return df"
      ],
      "metadata": {
        "id": "pN1eD6ENd6VX"
      },
      "execution_count": 89,
      "outputs": []
    },
    {
      "cell_type": "code",
      "source": [
        "df = correct(df)"
      ],
      "metadata": {
        "id": "qpFg1qOFWT0V"
      },
      "execution_count": 90,
      "outputs": []
    },
    {
      "cell_type": "code",
      "source": [
        "df[\"근로기간\"].value_counts().sort_index()"
      ],
      "metadata": {
        "colab": {
          "base_uri": "https://localhost:8080/"
        },
        "id": "46tMqF_BjDgx",
        "outputId": "01a8ef43-f514-474d-ff00-5d42d35b0e00"
      },
      "execution_count": 69,
      "outputs": [
        {
          "output_type": "execute_result",
          "data": {
            "text/plain": [
              "1 year        6305\n",
              "10+ years    32481\n",
              "2 years       8450\n",
              "3 years       7670\n",
              "4 years       5588\n",
              "5 years       5665\n",
              "6 years       3874\n",
              "7 years       3814\n",
              "8 years       4888\n",
              "9 years       3744\n",
              "< 1 year      8144\n",
              "Unknown       5671\n",
              "Name: 근로기간, dtype: int64"
            ]
          },
          "metadata": {},
          "execution_count": 69
        }
      ]
    },
    {
      "cell_type": "code",
      "source": [
        "df.query(\"근로기간 == '10+ years'\")[\"대출등급\"].value_counts().sort_index() / len(df.query(\"근로기간 == '10+ years'\"))"
      ],
      "metadata": {
        "colab": {
          "base_uri": "https://localhost:8080/"
        },
        "id": "WxYuews3zhhl",
        "outputId": "2ddf203c-fbec-4ef6-db6f-5a7e54ad5286"
      },
      "execution_count": 71,
      "outputs": [
        {
          "output_type": "execute_result",
          "data": {
            "text/plain": [
              "A   0.185\n",
              "B   0.304\n",
              "C   0.280\n",
              "D   0.135\n",
              "E   0.072\n",
              "F   0.020\n",
              "G   0.004\n",
              "Name: 대출등급, dtype: float64"
            ]
          },
          "metadata": {},
          "execution_count": 71
        }
      ]
    },
    {
      "cell_type": "code",
      "source": [
        "df.query(\"근로기간 == '< 1 year'\")[\"대출등급\"].value_counts().sort_index() / len(df.query(\"근로기간 == '< 1 year'\"))"
      ],
      "metadata": {
        "colab": {
          "base_uri": "https://localhost:8080/"
        },
        "id": "Fa93ArcQ01gE",
        "outputId": "97a02f02-fefb-4cb6-fd6d-90e58d10ff39"
      },
      "execution_count": 72,
      "outputs": [
        {
          "output_type": "execute_result",
          "data": {
            "text/plain": [
              "A   0.162\n",
              "B   0.290\n",
              "C   0.300\n",
              "D   0.144\n",
              "E   0.081\n",
              "F   0.020\n",
              "G   0.003\n",
              "Name: 대출등급, dtype: float64"
            ]
          },
          "metadata": {},
          "execution_count": 72
        }
      ]
    },
    {
      "cell_type": "markdown",
      "source": [
        "`-` 근로 기간이 길수록 대출 등급이 우수하다\n",
        "\n",
        "`-` 이는 연봉이 높아서 그런 것으로 보인다"
      ],
      "metadata": {
        "id": "a0C0QBYM1ne8"
      }
    },
    {
      "cell_type": "markdown",
      "source": [
        "## 전처리"
      ],
      "metadata": {
        "id": "6x_SzV_9hFBU"
      }
    },
    {
      "cell_type": "markdown",
      "source": [
        "`-` 차원의 저주를 고려하여 사용할 변수는 대출 금액, 대출 기간, 주택 소유 상태, 연간 소득, 최근 2년간 연체 횟수, 총 상환 이자, 상환 비율, 대출 금액 대비 상환 이자, 연체 계좌 수이다"
      ],
      "metadata": {
        "id": "mNJjRlYE1zOl"
      }
    },
    {
      "cell_type": "code",
      "source": [
        "def preprocessing(df):\n",
        "    df[\"대출기간\"] = df[\"대출기간\"].apply(lambda x: 0 if x == \" 36 months\" else 1)\n",
        "    df[\"주택소유상태\"] = df[\"주택소유상태\"].apply(lambda x: 0 if x == \"MORTGAGE\" else 1)\n",
        "    df[\"최근_2년간_연체_횟수\"] = df[\"최근_2년간_연체_횟수\"].apply(lambda x: 10 if x > 10 else x)\n",
        "    df[\"연체계좌수\"] = df[\"연체계좌수\"].apply(lambda x: 1 if x >= 1 else 0)\n",
        "    return df"
      ],
      "metadata": {
        "id": "hA2M_SqT2n17"
      },
      "execution_count": 322,
      "outputs": []
    },
    {
      "cell_type": "code",
      "source": [
        "vars = [\"대출금액\", \"대출기간\", \"주택소유상태\", \"연간소득\", \"최근_2년간_연체_횟수\", \"총상환이자\", \"상환비율\", \"대출금액대비상환이자\", \"연체계좌수\"]"
      ],
      "metadata": {
        "id": "UpZAq8Df9DF5"
      },
      "execution_count": 323,
      "outputs": []
    },
    {
      "cell_type": "code",
      "source": [
        "df = preprocessing(df)\n",
        "test = preprocessing(test)"
      ],
      "metadata": {
        "id": "so1braCh9TT5"
      },
      "execution_count": 324,
      "outputs": []
    },
    {
      "cell_type": "markdown",
      "source": [
        "- 수치형 변수 스케일링"
      ],
      "metadata": {
        "id": "wfVWNvvxjUsV"
      }
    },
    {
      "cell_type": "code",
      "source": [
        "scaler = RobustScaler()\n",
        "numeric_columns = [\"대출금액\", \"연간소득\", \"총상환이자\"]\n",
        "df.loc[:, numeric_columns] = scaler.fit_transform(df[numeric_columns])\n",
        "test.loc[:, numeric_columns] = scaler.transform(test[numeric_columns])"
      ],
      "metadata": {
        "id": "dkt36Ia2hakn"
      },
      "execution_count": 325,
      "outputs": []
    },
    {
      "cell_type": "markdown",
      "source": [
        "- 범주형 변수 인코딩"
      ],
      "metadata": {
        "id": "bXN4NVP8SK9D"
      }
    },
    {
      "cell_type": "code",
      "source": [
        "goal_columns = df[\"대출목적\"].unique().tolist()"
      ],
      "metadata": {
        "id": "5XsnYIzQVRxh"
      },
      "execution_count": 326,
      "outputs": []
    },
    {
      "cell_type": "code",
      "source": [
        "onehot_encoder = OneHotEncoder(sparse_output=False, handle_unknown=\"ignore\")\n",
        "categorical_column = \"대출목적\"\n",
        "df = pd.concat([df, pd.DataFrame(onehot_encoder.fit_transform(df[[categorical_column]]), columns=onehot_encoder.categories_[0])], axis=1)\n",
        "test = pd.concat([test, pd.DataFrame(onehot_encoder.transform(test[[categorical_column]]), columns=onehot_encoder.categories_[0])], axis=1)\n",
        "df = df.drop(categorical_column, axis=1)\n",
        "test = test.drop(categorical_column, axis=1)"
      ],
      "metadata": {
        "id": "qX4XLSMESvsa"
      },
      "execution_count": 327,
      "outputs": []
    },
    {
      "cell_type": "markdown",
      "source": [
        "- 라벨 인코딩"
      ],
      "metadata": {
        "id": "Ts2ZGEO58XbZ"
      }
    },
    {
      "cell_type": "code",
      "source": [
        "target_encoder = LabelEncoder()\n",
        "target_encoder.fit(df[\"대출등급\"])"
      ],
      "metadata": {
        "colab": {
          "base_uri": "https://localhost:8080/",
          "height": 74
        },
        "id": "9a7yy9td8Yth",
        "outputId": "8ea7536c-20a1-4164-b4c3-7e9dff846464"
      },
      "execution_count": 328,
      "outputs": [
        {
          "output_type": "execute_result",
          "data": {
            "text/plain": [
              "LabelEncoder()"
            ],
            "text/html": [
              "<style>#sk-container-id-6 {color: black;background-color: white;}#sk-container-id-6 pre{padding: 0;}#sk-container-id-6 div.sk-toggleable {background-color: white;}#sk-container-id-6 label.sk-toggleable__label {cursor: pointer;display: block;width: 100%;margin-bottom: 0;padding: 0.3em;box-sizing: border-box;text-align: center;}#sk-container-id-6 label.sk-toggleable__label-arrow:before {content: \"▸\";float: left;margin-right: 0.25em;color: #696969;}#sk-container-id-6 label.sk-toggleable__label-arrow:hover:before {color: black;}#sk-container-id-6 div.sk-estimator:hover label.sk-toggleable__label-arrow:before {color: black;}#sk-container-id-6 div.sk-toggleable__content {max-height: 0;max-width: 0;overflow: hidden;text-align: left;background-color: #f0f8ff;}#sk-container-id-6 div.sk-toggleable__content pre {margin: 0.2em;color: black;border-radius: 0.25em;background-color: #f0f8ff;}#sk-container-id-6 input.sk-toggleable__control:checked~div.sk-toggleable__content {max-height: 200px;max-width: 100%;overflow: auto;}#sk-container-id-6 input.sk-toggleable__control:checked~label.sk-toggleable__label-arrow:before {content: \"▾\";}#sk-container-id-6 div.sk-estimator input.sk-toggleable__control:checked~label.sk-toggleable__label {background-color: #d4ebff;}#sk-container-id-6 div.sk-label input.sk-toggleable__control:checked~label.sk-toggleable__label {background-color: #d4ebff;}#sk-container-id-6 input.sk-hidden--visually {border: 0;clip: rect(1px 1px 1px 1px);clip: rect(1px, 1px, 1px, 1px);height: 1px;margin: -1px;overflow: hidden;padding: 0;position: absolute;width: 1px;}#sk-container-id-6 div.sk-estimator {font-family: monospace;background-color: #f0f8ff;border: 1px dotted black;border-radius: 0.25em;box-sizing: border-box;margin-bottom: 0.5em;}#sk-container-id-6 div.sk-estimator:hover {background-color: #d4ebff;}#sk-container-id-6 div.sk-parallel-item::after {content: \"\";width: 100%;border-bottom: 1px solid gray;flex-grow: 1;}#sk-container-id-6 div.sk-label:hover label.sk-toggleable__label {background-color: #d4ebff;}#sk-container-id-6 div.sk-serial::before {content: \"\";position: absolute;border-left: 1px solid gray;box-sizing: border-box;top: 0;bottom: 0;left: 50%;z-index: 0;}#sk-container-id-6 div.sk-serial {display: flex;flex-direction: column;align-items: center;background-color: white;padding-right: 0.2em;padding-left: 0.2em;position: relative;}#sk-container-id-6 div.sk-item {position: relative;z-index: 1;}#sk-container-id-6 div.sk-parallel {display: flex;align-items: stretch;justify-content: center;background-color: white;position: relative;}#sk-container-id-6 div.sk-item::before, #sk-container-id-6 div.sk-parallel-item::before {content: \"\";position: absolute;border-left: 1px solid gray;box-sizing: border-box;top: 0;bottom: 0;left: 50%;z-index: -1;}#sk-container-id-6 div.sk-parallel-item {display: flex;flex-direction: column;z-index: 1;position: relative;background-color: white;}#sk-container-id-6 div.sk-parallel-item:first-child::after {align-self: flex-end;width: 50%;}#sk-container-id-6 div.sk-parallel-item:last-child::after {align-self: flex-start;width: 50%;}#sk-container-id-6 div.sk-parallel-item:only-child::after {width: 0;}#sk-container-id-6 div.sk-dashed-wrapped {border: 1px dashed gray;margin: 0 0.4em 0.5em 0.4em;box-sizing: border-box;padding-bottom: 0.4em;background-color: white;}#sk-container-id-6 div.sk-label label {font-family: monospace;font-weight: bold;display: inline-block;line-height: 1.2em;}#sk-container-id-6 div.sk-label-container {text-align: center;}#sk-container-id-6 div.sk-container {/* jupyter's `normalize.less` sets `[hidden] { display: none; }` but bootstrap.min.css set `[hidden] { display: none !important; }` so we also need the `!important` here to be able to override the default hidden behavior on the sphinx rendered scikit-learn.org. See: https://github.com/scikit-learn/scikit-learn/issues/21755 */display: inline-block !important;position: relative;}#sk-container-id-6 div.sk-text-repr-fallback {display: none;}</style><div id=\"sk-container-id-6\" class=\"sk-top-container\"><div class=\"sk-text-repr-fallback\"><pre>LabelEncoder()</pre><b>In a Jupyter environment, please rerun this cell to show the HTML representation or trust the notebook. <br />On GitHub, the HTML representation is unable to render, please try loading this page with nbviewer.org.</b></div><div class=\"sk-container\" hidden><div class=\"sk-item\"><div class=\"sk-estimator sk-toggleable\"><input class=\"sk-toggleable__control sk-hidden--visually\" id=\"sk-estimator-id-6\" type=\"checkbox\" checked><label for=\"sk-estimator-id-6\" class=\"sk-toggleable__label sk-toggleable__label-arrow\">LabelEncoder</label><div class=\"sk-toggleable__content\"><pre>LabelEncoder()</pre></div></div></div></div></div>"
            ]
          },
          "metadata": {},
          "execution_count": 328
        }
      ]
    },
    {
      "cell_type": "markdown",
      "source": [
        "## 모델 학습"
      ],
      "metadata": {
        "id": "KPK2m5B57Fxo"
      }
    },
    {
      "cell_type": "code",
      "source": [
        "from sklearn.utils.class_weight import compute_sample_weight\n",
        "from xgboost import XGBClassifier"
      ],
      "metadata": {
        "id": "J9k56GnGC_MO"
      },
      "execution_count": 331,
      "outputs": []
    },
    {
      "cell_type": "code",
      "source": [
        "NUM_FOLDS = 5\n",
        "SEED = 2024"
      ],
      "metadata": {
        "id": "iNZAQNwBCrkf"
      },
      "execution_count": 332,
      "outputs": []
    },
    {
      "cell_type": "code",
      "source": [
        "y = df.pop(\"대출등급\")\n",
        "y = target_encoder.transform(y)\n",
        "X = df[vars + goal_columns].to_numpy()\n",
        "X_test = test[vars + goal_columns].to_numpy()"
      ],
      "metadata": {
        "id": "qqze-T7s8kQV"
      },
      "execution_count": 333,
      "outputs": []
    },
    {
      "cell_type": "code",
      "source": [
        "kfold = StratifiedKFold(n_splits=NUM_FOLDS, shuffle=True, random_state=SEED)"
      ],
      "metadata": {
        "id": "Y-MsI065C1f3"
      },
      "execution_count": 342,
      "outputs": []
    },
    {
      "cell_type": "code",
      "source": [
        "test_pred = np.zeros((test.shape[0], 7))\n",
        "preds_valid = []\n",
        "xgb = XGBClassifier(\n",
        "    n_estimators=300,\n",
        "    learning_rate=0.05,\n",
        "    early_stopping_rounds=50,\n",
        "    max_depth=6,\n",
        "    random_state=SEED,\n",
        ")"
      ],
      "metadata": {
        "id": "IsEHLunXYnyx"
      },
      "execution_count": 343,
      "outputs": []
    },
    {
      "cell_type": "code",
      "source": [
        "for fold, (train_indices, valid_indices) in enumerate(kfold.split(X, y)):\n",
        "    print(f\"[{fold + 1} / {NUM_FOLDS}] Fold Training......\")\n",
        "    X_train, y_train = X[train_indices], y[train_indices]\n",
        "    X_valid, y_valid = X[valid_indices], y[valid_indices]\n",
        "    sample_weight = compute_sample_weight(\n",
        "        class_weight={0: 1, 1: 1, 2: 1, 3: 1, 4: 1, 5: 1.5, 6: 3},\n",
        "        y=y_train,\n",
        "    )\n",
        "    xgb.fit(X_train, y_train, sample_weight=sample_weight, eval_set=[(X_valid, y_valid)], verbose=30)\n",
        "    pred_valid = xgb.predict(X_valid)\n",
        "    preds_valid.append(f1_score(y_valid, pred_valid, average=\"macro\"))\n",
        "    test_pred += xgb.predict_proba(X_test) / NUM_FOLDS"
      ],
      "metadata": {
        "id": "g36TI_XrDNsO",
        "colab": {
          "base_uri": "https://localhost:8080/"
        },
        "outputId": "6e1ab0d6-16d4-4ca3-8c10-aa5d2d76b86a"
      },
      "execution_count": 344,
      "outputs": [
        {
          "output_type": "stream",
          "name": "stdout",
          "text": [
            "[1 / 5] Fold Training......\n",
            "[0]\tvalidation_0-mlogloss:1.82449\n",
            "[30]\tvalidation_0-mlogloss:0.57798\n",
            "[60]\tvalidation_0-mlogloss:0.29350\n",
            "[90]\tvalidation_0-mlogloss:0.20784\n",
            "[120]\tvalidation_0-mlogloss:0.17839\n",
            "[150]\tvalidation_0-mlogloss:0.16750\n",
            "[180]\tvalidation_0-mlogloss:0.16161\n",
            "[210]\tvalidation_0-mlogloss:0.15766\n",
            "[240]\tvalidation_0-mlogloss:0.15514\n",
            "[270]\tvalidation_0-mlogloss:0.15295\n",
            "[299]\tvalidation_0-mlogloss:0.15156\n",
            "[2 / 5] Fold Training......\n",
            "[0]\tvalidation_0-mlogloss:1.82232\n",
            "[30]\tvalidation_0-mlogloss:0.58374\n",
            "[60]\tvalidation_0-mlogloss:0.29649\n",
            "[90]\tvalidation_0-mlogloss:0.20904\n",
            "[120]\tvalidation_0-mlogloss:0.17874\n",
            "[150]\tvalidation_0-mlogloss:0.16778\n",
            "[180]\tvalidation_0-mlogloss:0.16144\n",
            "[210]\tvalidation_0-mlogloss:0.15796\n",
            "[240]\tvalidation_0-mlogloss:0.15557\n",
            "[270]\tvalidation_0-mlogloss:0.15389\n",
            "[299]\tvalidation_0-mlogloss:0.15280\n",
            "[3 / 5] Fold Training......\n",
            "[0]\tvalidation_0-mlogloss:1.82212\n",
            "[30]\tvalidation_0-mlogloss:0.57692\n",
            "[60]\tvalidation_0-mlogloss:0.29040\n",
            "[90]\tvalidation_0-mlogloss:0.20046\n",
            "[120]\tvalidation_0-mlogloss:0.16987\n",
            "[150]\tvalidation_0-mlogloss:0.16028\n",
            "[180]\tvalidation_0-mlogloss:0.15535\n",
            "[210]\tvalidation_0-mlogloss:0.15204\n",
            "[240]\tvalidation_0-mlogloss:0.15020\n",
            "[270]\tvalidation_0-mlogloss:0.14837\n",
            "[299]\tvalidation_0-mlogloss:0.14748\n",
            "[4 / 5] Fold Training......\n",
            "[0]\tvalidation_0-mlogloss:1.82543\n",
            "[30]\tvalidation_0-mlogloss:0.57454\n",
            "[60]\tvalidation_0-mlogloss:0.29321\n",
            "[90]\tvalidation_0-mlogloss:0.20316\n",
            "[120]\tvalidation_0-mlogloss:0.17249\n",
            "[150]\tvalidation_0-mlogloss:0.16202\n",
            "[180]\tvalidation_0-mlogloss:0.15673\n",
            "[210]\tvalidation_0-mlogloss:0.15378\n",
            "[240]\tvalidation_0-mlogloss:0.15190\n",
            "[270]\tvalidation_0-mlogloss:0.14993\n",
            "[299]\tvalidation_0-mlogloss:0.14856\n",
            "[5 / 5] Fold Training......\n",
            "[0]\tvalidation_0-mlogloss:1.82392\n",
            "[30]\tvalidation_0-mlogloss:0.57433\n",
            "[60]\tvalidation_0-mlogloss:0.29204\n",
            "[90]\tvalidation_0-mlogloss:0.20551\n",
            "[120]\tvalidation_0-mlogloss:0.17390\n",
            "[150]\tvalidation_0-mlogloss:0.16359\n",
            "[180]\tvalidation_0-mlogloss:0.15743\n",
            "[210]\tvalidation_0-mlogloss:0.15368\n",
            "[240]\tvalidation_0-mlogloss:0.15135\n",
            "[270]\tvalidation_0-mlogloss:0.14976\n",
            "[299]\tvalidation_0-mlogloss:0.14810\n"
          ]
        }
      ]
    },
    {
      "cell_type": "code",
      "source": [
        "preds_valid"
      ],
      "metadata": {
        "colab": {
          "base_uri": "https://localhost:8080/"
        },
        "id": "S5YwyorQko1F",
        "outputId": "eff1204c-c006-436f-9468-419ff3310fbd"
      },
      "execution_count": 352,
      "outputs": [
        {
          "output_type": "execute_result",
          "data": {
            "text/plain": [
              "[0.91551725105305,\n",
              " 0.9184233694744288,\n",
              " 0.9064873416726543,\n",
              " 0.9230753815567784,\n",
              " 0.9262651700624245]"
            ]
          },
          "metadata": {},
          "execution_count": 352
        }
      ]
    },
    {
      "cell_type": "code",
      "source": [
        "pred = test_pred.argmax(-1)\n",
        "pred = target_encoder.inverse_transform(pred)"
      ],
      "metadata": {
        "id": "cMLe0CDud2ZH"
      },
      "execution_count": 346,
      "outputs": []
    },
    {
      "cell_type": "code",
      "source": [
        "submission[\"대출등급\"] = pred\n",
        "submission.to_csv(\"./data/submission-1.csv\", index=False)"
      ],
      "metadata": {
        "id": "LIlBQRa_sdUV"
      },
      "execution_count": 348,
      "outputs": []
    },
    {
      "cell_type": "code",
      "source": [
        "submission[\"대출등급\"].value_counts().sort_index()"
      ],
      "metadata": {
        "id": "HCn3EOlKsp58",
        "colab": {
          "base_uri": "https://localhost:8080/"
        },
        "outputId": "41f1561e-1cbc-47e4-e48e-669ac087cce8"
      },
      "execution_count": 350,
      "outputs": [
        {
          "output_type": "execute_result",
          "data": {
            "text/plain": [
              "A    11198\n",
              "B    19477\n",
              "C    18798\n",
              "D     8488\n",
              "E     4642\n",
              "F     1300\n",
              "G      294\n",
              "Name: 대출등급, dtype: int64"
            ]
          },
          "metadata": {},
          "execution_count": 350
        }
      ]
    },
    {
      "cell_type": "code",
      "source": [],
      "metadata": {
        "id": "MpbM8JU9kTRk"
      },
      "execution_count": null,
      "outputs": []
    }
  ],
  "metadata": {
    "colab": {
      "provenance": [],
      "toc_visible": true,
      "include_colab_link": true
    },
    "gpuClass": "standard",
    "kernelspec": {
      "display_name": "Python 3 (ipykernel)",
      "language": "python",
      "name": "python3"
    },
    "language_info": {
      "codemirror_mode": {
        "name": "ipython",
        "version": 3
      },
      "file_extension": ".py",
      "mimetype": "text/x-python",
      "name": "python",
      "nbconvert_exporter": "python",
      "pygments_lexer": "ipython3",
      "version": "3.8.11"
    }
  },
  "nbformat": 4,
  "nbformat_minor": 0
}