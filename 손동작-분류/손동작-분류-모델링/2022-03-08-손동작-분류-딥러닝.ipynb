{
 "cells": [
  {
   "cell_type": "markdown",
   "id": "57f66b9a-19b8-4987-98a0-27af1d8dd4a0",
   "metadata": {},
   "source": [
    "# 손동작 분류 경진대회"
   ]
  },
  {
   "cell_type": "markdown",
   "id": "7882a81b-5309-4fa3-9b39-c909d0f284f8",
   "metadata": {},
   "source": [
    "## 데이터 불러오기"
   ]
  },
  {
   "cell_type": "code",
   "execution_count": 88,
   "id": "7e3b12ea-dd29-4a89-ba1b-83660af4c424",
   "metadata": {},
   "outputs": [],
   "source": [
    "import pandas as pd\n",
    "import numpy as np\n",
    "from tqdm import tqdm\n",
    "import seaborn as sns\n",
    "import matplotlib.pyplot as plt\n",
    "%matplotlib inline\n",
    "\n",
    "import warnings\n",
    "warnings.filterwarnings('ignore')"
   ]
  },
  {
   "cell_type": "code",
   "execution_count": 18,
   "id": "1490e8bd-5858-41a6-86c6-a38cecfd6be7",
   "metadata": {},
   "outputs": [],
   "source": [
    "pd.set_option('display.max_columns', 15)"
   ]
  },
  {
   "cell_type": "code",
   "execution_count": 54,
   "id": "e0676658-cbec-46d2-9e5c-084e71aa0eef",
   "metadata": {},
   "outputs": [],
   "source": [
    "df = pd.read_csv('C:/Users/Jaesu/Dacon-Basic/손동작-분류/Data/train.csv')"
   ]
  },
  {
   "cell_type": "code",
   "execution_count": 55,
   "id": "6e7dc38a-f08e-4aa8-88f8-6430c8ee142c",
   "metadata": {},
   "outputs": [
    {
     "data": {
      "text/plain": [
       "(2335, 34)"
      ]
     },
     "execution_count": 55,
     "metadata": {},
     "output_type": "execute_result"
    }
   ],
   "source": [
    "df.shape"
   ]
  },
  {
   "cell_type": "code",
   "execution_count": 56,
   "id": "e921612a-3375-47e2-a9a2-e49c249ad3d1",
   "metadata": {},
   "outputs": [],
   "source": [
    "df.drop('id', axis=1, inplace=True)"
   ]
  },
  {
   "cell_type": "markdown",
   "id": "4ea2d07f-c358-4ed4-8538-ea58b224d82d",
   "metadata": {},
   "source": [
    "## 센서 데이터를 이미지로 변환"
   ]
  },
  {
   "cell_type": "code",
   "execution_count": 89,
   "id": "01631bd5-66fe-4b6d-8cf0-9b022fe99e8e",
   "metadata": {},
   "outputs": [
    {
     "data": {
      "text/html": [
       "<div>\n",
       "<style scoped>\n",
       "    .dataframe tbody tr th:only-of-type {\n",
       "        vertical-align: middle;\n",
       "    }\n",
       "\n",
       "    .dataframe tbody tr th {\n",
       "        vertical-align: top;\n",
       "    }\n",
       "\n",
       "    .dataframe thead th {\n",
       "        text-align: right;\n",
       "    }\n",
       "</style>\n",
       "<table border=\"1\" class=\"dataframe\">\n",
       "  <thead>\n",
       "    <tr style=\"text-align: right;\">\n",
       "      <th></th>\n",
       "      <th>sensor_1</th>\n",
       "      <th>sensor_2</th>\n",
       "      <th>sensor_3</th>\n",
       "      <th>sensor_4</th>\n",
       "      <th>sensor_5</th>\n",
       "      <th>sensor_6</th>\n",
       "      <th>sensor_7</th>\n",
       "      <th>...</th>\n",
       "      <th>sensor_27</th>\n",
       "      <th>sensor_28</th>\n",
       "      <th>sensor_29</th>\n",
       "      <th>sensor_30</th>\n",
       "      <th>sensor_31</th>\n",
       "      <th>sensor_32</th>\n",
       "      <th>target</th>\n",
       "    </tr>\n",
       "  </thead>\n",
       "  <tbody>\n",
       "    <tr>\n",
       "      <th>count</th>\n",
       "      <td>2335.000000</td>\n",
       "      <td>2335.000000</td>\n",
       "      <td>2335.000000</td>\n",
       "      <td>2335.000000</td>\n",
       "      <td>2335.000000</td>\n",
       "      <td>2335.000000</td>\n",
       "      <td>2335.000000</td>\n",
       "      <td>...</td>\n",
       "      <td>2335.000000</td>\n",
       "      <td>2335.000000</td>\n",
       "      <td>2335.000000</td>\n",
       "      <td>2335.000000</td>\n",
       "      <td>2335.000000</td>\n",
       "      <td>2335.000000</td>\n",
       "      <td>2335.000000</td>\n",
       "    </tr>\n",
       "    <tr>\n",
       "      <th>mean</th>\n",
       "      <td>-1.122174</td>\n",
       "      <td>-1.024673</td>\n",
       "      <td>-0.672769</td>\n",
       "      <td>-0.147724</td>\n",
       "      <td>-0.327494</td>\n",
       "      <td>-0.423462</td>\n",
       "      <td>0.676275</td>\n",
       "      <td>...</td>\n",
       "      <td>-0.081374</td>\n",
       "      <td>-0.370812</td>\n",
       "      <td>-0.726941</td>\n",
       "      <td>-0.809534</td>\n",
       "      <td>-0.495062</td>\n",
       "      <td>-0.743585</td>\n",
       "      <td>1.523340</td>\n",
       "    </tr>\n",
       "    <tr>\n",
       "      <th>std</th>\n",
       "      <td>11.486353</td>\n",
       "      <td>7.399859</td>\n",
       "      <td>26.519159</td>\n",
       "      <td>15.551500</td>\n",
       "      <td>11.461970</td>\n",
       "      <td>7.314322</td>\n",
       "      <td>26.869479</td>\n",
       "      <td>...</td>\n",
       "      <td>25.923355</td>\n",
       "      <td>15.541803</td>\n",
       "      <td>11.636507</td>\n",
       "      <td>7.469744</td>\n",
       "      <td>25.291238</td>\n",
       "      <td>16.300385</td>\n",
       "      <td>1.118221</td>\n",
       "    </tr>\n",
       "    <tr>\n",
       "      <th>min</th>\n",
       "      <td>-94.746969</td>\n",
       "      <td>-63.942094</td>\n",
       "      <td>-122.195138</td>\n",
       "      <td>-111.870691</td>\n",
       "      <td>-94.147972</td>\n",
       "      <td>-70.916786</td>\n",
       "      <td>-105.956553</td>\n",
       "      <td>...</td>\n",
       "      <td>-105.751637</td>\n",
       "      <td>-105.890010</td>\n",
       "      <td>-74.977182</td>\n",
       "      <td>-74.006065</td>\n",
       "      <td>-121.097086</td>\n",
       "      <td>-123.876153</td>\n",
       "      <td>0.000000</td>\n",
       "    </tr>\n",
       "    <tr>\n",
       "      <th>25%</th>\n",
       "      <td>-4.036597</td>\n",
       "      <td>-4.031957</td>\n",
       "      <td>-14.878500</td>\n",
       "      <td>-7.116633</td>\n",
       "      <td>-3.968687</td>\n",
       "      <td>-3.957699</td>\n",
       "      <td>-13.937806</td>\n",
       "      <td>...</td>\n",
       "      <td>-14.096840</td>\n",
       "      <td>-8.004561</td>\n",
       "      <td>-3.981055</td>\n",
       "      <td>-3.988965</td>\n",
       "      <td>-13.998874</td>\n",
       "      <td>-7.873898</td>\n",
       "      <td>1.000000</td>\n",
       "    </tr>\n",
       "    <tr>\n",
       "      <th>50%</th>\n",
       "      <td>-0.951398</td>\n",
       "      <td>-1.015582</td>\n",
       "      <td>-0.961088</td>\n",
       "      <td>-0.890469</td>\n",
       "      <td>-0.871690</td>\n",
       "      <td>-0.804810</td>\n",
       "      <td>0.058910</td>\n",
       "      <td>...</td>\n",
       "      <td>-0.954791</td>\n",
       "      <td>-0.989293</td>\n",
       "      <td>-0.889780</td>\n",
       "      <td>-0.928504</td>\n",
       "      <td>-0.955684</td>\n",
       "      <td>-1.019547</td>\n",
       "      <td>2.000000</td>\n",
       "    </tr>\n",
       "    <tr>\n",
       "      <th>75%</th>\n",
       "      <td>2.895540</td>\n",
       "      <td>2.140456</td>\n",
       "      <td>13.974075</td>\n",
       "      <td>6.110973</td>\n",
       "      <td>2.970387</td>\n",
       "      <td>3.006144</td>\n",
       "      <td>13.934438</td>\n",
       "      <td>...</td>\n",
       "      <td>13.903783</td>\n",
       "      <td>5.922250</td>\n",
       "      <td>2.972719</td>\n",
       "      <td>2.519426</td>\n",
       "      <td>13.926128</td>\n",
       "      <td>5.121679</td>\n",
       "      <td>3.000000</td>\n",
       "    </tr>\n",
       "    <tr>\n",
       "      <th>max</th>\n",
       "      <td>68.876142</td>\n",
       "      <td>39.913391</td>\n",
       "      <td>127.124171</td>\n",
       "      <td>102.015561</td>\n",
       "      <td>89.059852</td>\n",
       "      <td>34.923040</td>\n",
       "      <td>120.046277</td>\n",
       "      <td>...</td>\n",
       "      <td>123.179253</td>\n",
       "      <td>111.137925</td>\n",
       "      <td>54.098746</td>\n",
       "      <td>35.896503</td>\n",
       "      <td>125.974107</td>\n",
       "      <td>104.959621</td>\n",
       "      <td>3.000000</td>\n",
       "    </tr>\n",
       "  </tbody>\n",
       "</table>\n",
       "<p>8 rows × 33 columns</p>\n",
       "</div>"
      ],
      "text/plain": [
       "          sensor_1     sensor_2     sensor_3     sensor_4     sensor_5  \\\n",
       "count  2335.000000  2335.000000  2335.000000  2335.000000  2335.000000   \n",
       "mean     -1.122174    -1.024673    -0.672769    -0.147724    -0.327494   \n",
       "std      11.486353     7.399859    26.519159    15.551500    11.461970   \n",
       "min     -94.746969   -63.942094  -122.195138  -111.870691   -94.147972   \n",
       "25%      -4.036597    -4.031957   -14.878500    -7.116633    -3.968687   \n",
       "50%      -0.951398    -1.015582    -0.961088    -0.890469    -0.871690   \n",
       "75%       2.895540     2.140456    13.974075     6.110973     2.970387   \n",
       "max      68.876142    39.913391   127.124171   102.015561    89.059852   \n",
       "\n",
       "          sensor_6     sensor_7  ...    sensor_27    sensor_28    sensor_29  \\\n",
       "count  2335.000000  2335.000000  ...  2335.000000  2335.000000  2335.000000   \n",
       "mean     -0.423462     0.676275  ...    -0.081374    -0.370812    -0.726941   \n",
       "std       7.314322    26.869479  ...    25.923355    15.541803    11.636507   \n",
       "min     -70.916786  -105.956553  ...  -105.751637  -105.890010   -74.977182   \n",
       "25%      -3.957699   -13.937806  ...   -14.096840    -8.004561    -3.981055   \n",
       "50%      -0.804810     0.058910  ...    -0.954791    -0.989293    -0.889780   \n",
       "75%       3.006144    13.934438  ...    13.903783     5.922250     2.972719   \n",
       "max      34.923040   120.046277  ...   123.179253   111.137925    54.098746   \n",
       "\n",
       "         sensor_30    sensor_31    sensor_32       target  \n",
       "count  2335.000000  2335.000000  2335.000000  2335.000000  \n",
       "mean     -0.809534    -0.495062    -0.743585     1.523340  \n",
       "std       7.469744    25.291238    16.300385     1.118221  \n",
       "min     -74.006065  -121.097086  -123.876153     0.000000  \n",
       "25%      -3.988965   -13.998874    -7.873898     1.000000  \n",
       "50%      -0.928504    -0.955684    -1.019547     2.000000  \n",
       "75%       2.519426    13.926128     5.121679     3.000000  \n",
       "max      35.896503   125.974107   104.959621     3.000000  \n",
       "\n",
       "[8 rows x 33 columns]"
      ]
     },
     "execution_count": 89,
     "metadata": {},
     "output_type": "execute_result"
    }
   ],
   "source": [
    "df.describe()"
   ]
  },
  {
   "cell_type": "markdown",
   "id": "7a1975db-76e9-4c8f-9800-3cbaff805029",
   "metadata": {},
   "source": [
    "`-` 32개의 센서피쳐는 하나의 픽셀을 의미하는 것이 아닐까?(손동작 이미지를 32개의 픽셀로 나눈 것 같다)\n",
    "\n",
    "`-` 0부근에 값이 많고 변수마다 분포가 유사함(종모양) \n",
    "\n",
    "`-` $4\\times 8$ 배열로 변환하고 이를 확인해보자($8\\times 4$로 해도 상관없다)"
   ]
  },
  {
   "cell_type": "markdown",
   "id": "f1a5432a-e538-4351-96a9-db3236af90aa",
   "metadata": {},
   "source": [
    "`-` 위는 각 target의 sensor_1부터 sensor_32까지 각각의 평균이다"
   ]
  },
  {
   "cell_type": "code",
   "execution_count": 83,
   "id": "0a679cc7-5ba0-4922-afbe-ec2b800bf422",
   "metadata": {},
   "outputs": [
    {
     "data": {
      "image/png": "[encoded data removed]",
      "text/plain": [
       "<Figure size 864x432 with 4 Axes>"
      ]
     },
     "metadata": {
      "needs_background": "light"
     },
     "output_type": "display_data"
    }
   ],
   "source": [
    "plt.figure(figsize=(12, 6))\n",
    "for i in range(4) :\n",
    "    plt.subplot(2, 2, i+1)\n",
    "    plt.title(f'target{i}')\n",
    "    plt.imshow(df.groupby('target').agg('mean').iloc[i,:].to_numpy().reshape(4, 8))\n",
    "plt.suptitle('Target image', fontsize=20)\n",
    "plt.show()"
   ]
  },
  {
   "cell_type": "markdown",
   "id": "a2e4a840-8d86-4ae7-8aa1-9f72d681466f",
   "metadata": {},
   "source": [
    "`-` 위의 4가지 그림을 보면 target마다 평균적으로 값의 차이가 있음을 알 수 있다"
   ]
  },
  {
   "cell_type": "markdown",
   "id": "80c2f807-d656-4cd0-9599-a246ebf1c8b1",
   "metadata": {},
   "source": [
    "## DNN 설계"
   ]
  },
  {
   "cell_type": "code",
   "execution_count": 121,
   "id": "7314dd5e-9a0a-43c5-a8e8-4cf1fa315375",
   "metadata": {},
   "outputs": [],
   "source": [
    "import torch\n",
    "from torch.utils.data import Dataset, DataLoader\n",
    "from torch import nn\n",
    "from torchvision import transforms, models\n",
    "from sklearn.model_selection import train_test_split"
   ]
  },
  {
   "cell_type": "markdown",
   "id": "31dfac14-a75c-4851-b317-08dc44ab3920",
   "metadata": {},
   "source": [
    "`-` 일단 데이터를 정규화시켜주자(0부터 1까지)"
   ]
  },
  {
   "cell_type": "code",
   "execution_count": 96,
   "id": "003c841f-9696-420a-b736-39c8d75462a2",
   "metadata": {},
   "outputs": [],
   "source": [
    "target = df['target']\n",
    "df.drop('target', axis=1, inplace=True)"
   ]
  },
  {
   "cell_type": "code",
   "execution_count": 109,
   "id": "be952f6b-3120-4e0a-8eca-2bda7d250258",
   "metadata": {},
   "outputs": [],
   "source": [
    "X = df.applymap(lambda x: (x - df.to_numpy().min()) / (df.to_numpy().max() - df.to_numpy().min())).copy()"
   ]
  },
  {
   "cell_type": "code",
   "execution_count": 115,
   "id": "8d7bc061-623d-485d-8a17-191b1f900f85",
   "metadata": {},
   "outputs": [],
   "source": [
    "X = np.array(X).reshape(-1, 4, 8, 1) ## 8(세로)*4(가로)*1(흑백) 이미지가 -1(2335)개 존재함"
   ]
  },
  {
   "cell_type": "code",
   "execution_count": 116,
   "id": "d23afade-5aab-476d-95ff-d0d377cee2a8",
   "metadata": {},
   "outputs": [
    {
     "data": {
      "text/plain": [
       "2335"
      ]
     },
     "execution_count": 116,
     "metadata": {},
     "output_type": "execute_result"
    }
   ],
   "source": [
    "len(X)"
   ]
  },
  {
   "cell_type": "code",
   "execution_count": null,
   "id": "3b2a958d-ba00-4bc3-87ed-8cb9edef4079",
   "metadata": {},
   "outputs": [],
   "source": []
  }
 ],
 "metadata": {
  "kernelspec": {
   "display_name": "Python 3 (ipykernel)",
   "language": "python",
   "name": "python3"
  },
  "language_info": {
   "codemirror_mode": {
    "name": "ipython",
    "version": 3
   },
   "file_extension": ".py",
   "mimetype": "text/x-python",
   "name": "python",
   "nbconvert_exporter": "python",
   "pygments_lexer": "ipython3",
   "version": "3.8.11"
  }
 },
 "nbformat": 4,
 "nbformat_minor": 5
}
