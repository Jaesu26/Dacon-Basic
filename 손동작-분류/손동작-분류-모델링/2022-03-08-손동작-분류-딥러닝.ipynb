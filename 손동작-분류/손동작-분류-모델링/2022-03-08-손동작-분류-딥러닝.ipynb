{
 "cells": [
  {
   "cell_type": "markdown",
   "id": "57f66b9a-19b8-4987-98a0-27af1d8dd4a0",
   "metadata": {},
   "source": [
    "# 손동작 분류 경진대회"
   ]
  },
  {
   "cell_type": "markdown",
   "id": "7882a81b-5309-4fa3-9b39-c909d0f284f8",
   "metadata": {},
   "source": [
    "## 데이터 불러오기"
   ]
  },
  {
   "cell_type": "code",
   "execution_count": 1,
   "id": "7e3b12ea-dd29-4a89-ba1b-83660af4c424",
   "metadata": {},
   "outputs": [],
   "source": [
    "import pandas as pd\n",
    "import numpy as np\n",
    "from tqdm import tqdm\n",
    "import seaborn as sns\n",
    "import matplotlib.pyplot as plt\n",
    "%matplotlib inline\n",
    "\n",
    "import warnings\n",
    "warnings.filterwarnings('ignore')"
   ]
  },
  {
   "cell_type": "code",
   "execution_count": 2,
   "id": "c6628a40-a2e5-4eba-8087-6b40a3d75265",
   "metadata": {},
   "outputs": [],
   "source": [
    "pd.set_option('display.max_columns', 15)"
   ]
  },
  {
   "cell_type": "code",
   "execution_count": 9,
   "id": "e0676658-cbec-46d2-9e5c-084e71aa0eef",
   "metadata": {},
   "outputs": [],
   "source": [
    "df = pd.read_csv('C:/Users/Jaesu/Dacon-Basic/손동작-분류/Data/train.csv')\n",
    "test = pd.read_csv('C:/Users/Jaesu/Dacon-Basic/손동작-분류/Data/test.csv')"
   ]
  },
  {
   "cell_type": "code",
   "execution_count": 11,
   "id": "6e7dc38a-f08e-4aa8-88f8-6430c8ee142c",
   "metadata": {},
   "outputs": [
    {
     "data": {
      "text/plain": [
       "((2335, 33), (9343, 32))"
      ]
     },
     "execution_count": 11,
     "metadata": {},
     "output_type": "execute_result"
    }
   ],
   "source": [
    "df.shape, test.shape"
   ]
  },
  {
   "cell_type": "code",
   "execution_count": 10,
   "id": "e921612a-3375-47e2-a9a2-e49c249ad3d1",
   "metadata": {},
   "outputs": [],
   "source": [
    "df.drop('id', axis=1, inplace=True) ## id 컬럼 드랍\n",
    "test.drop('id', axis=1, inplace=True) ## id 컬럼 드랍"
   ]
  },
  {
   "cell_type": "markdown",
   "id": "4ea2d07f-c358-4ed4-8538-ea58b224d82d",
   "metadata": {},
   "source": [
    "## 센서 데이터를 이미지로 변환"
   ]
  },
  {
   "cell_type": "code",
   "execution_count": 6,
   "id": "01631bd5-66fe-4b6d-8cf0-9b022fe99e8e",
   "metadata": {},
   "outputs": [
    {
     "data": {
      "text/html": [
       "<div>\n",
       "<style scoped>\n",
       "    .dataframe tbody tr th:only-of-type {\n",
       "        vertical-align: middle;\n",
       "    }\n",
       "\n",
       "    .dataframe tbody tr th {\n",
       "        vertical-align: top;\n",
       "    }\n",
       "\n",
       "    .dataframe thead th {\n",
       "        text-align: right;\n",
       "    }\n",
       "</style>\n",
       "<table border=\"1\" class=\"dataframe\">\n",
       "  <thead>\n",
       "    <tr style=\"text-align: right;\">\n",
       "      <th></th>\n",
       "      <th>sensor_1</th>\n",
       "      <th>sensor_2</th>\n",
       "      <th>sensor_3</th>\n",
       "      <th>sensor_4</th>\n",
       "      <th>sensor_5</th>\n",
       "      <th>sensor_6</th>\n",
       "      <th>sensor_7</th>\n",
       "      <th>...</th>\n",
       "      <th>sensor_27</th>\n",
       "      <th>sensor_28</th>\n",
       "      <th>sensor_29</th>\n",
       "      <th>sensor_30</th>\n",
       "      <th>sensor_31</th>\n",
       "      <th>sensor_32</th>\n",
       "      <th>target</th>\n",
       "    </tr>\n",
       "  </thead>\n",
       "  <tbody>\n",
       "    <tr>\n",
       "      <th>count</th>\n",
       "      <td>2335.000000</td>\n",
       "      <td>2335.000000</td>\n",
       "      <td>2335.000000</td>\n",
       "      <td>2335.000000</td>\n",
       "      <td>2335.000000</td>\n",
       "      <td>2335.000000</td>\n",
       "      <td>2335.000000</td>\n",
       "      <td>...</td>\n",
       "      <td>2335.000000</td>\n",
       "      <td>2335.000000</td>\n",
       "      <td>2335.000000</td>\n",
       "      <td>2335.000000</td>\n",
       "      <td>2335.000000</td>\n",
       "      <td>2335.000000</td>\n",
       "      <td>2335.000000</td>\n",
       "    </tr>\n",
       "    <tr>\n",
       "      <th>mean</th>\n",
       "      <td>-1.122174</td>\n",
       "      <td>-1.024673</td>\n",
       "      <td>-0.672769</td>\n",
       "      <td>-0.147724</td>\n",
       "      <td>-0.327494</td>\n",
       "      <td>-0.423462</td>\n",
       "      <td>0.676275</td>\n",
       "      <td>...</td>\n",
       "      <td>-0.081374</td>\n",
       "      <td>-0.370812</td>\n",
       "      <td>-0.726941</td>\n",
       "      <td>-0.809534</td>\n",
       "      <td>-0.495062</td>\n",
       "      <td>-0.743585</td>\n",
       "      <td>1.523340</td>\n",
       "    </tr>\n",
       "    <tr>\n",
       "      <th>std</th>\n",
       "      <td>11.486353</td>\n",
       "      <td>7.399859</td>\n",
       "      <td>26.519159</td>\n",
       "      <td>15.551500</td>\n",
       "      <td>11.461970</td>\n",
       "      <td>7.314322</td>\n",
       "      <td>26.869479</td>\n",
       "      <td>...</td>\n",
       "      <td>25.923355</td>\n",
       "      <td>15.541803</td>\n",
       "      <td>11.636507</td>\n",
       "      <td>7.469744</td>\n",
       "      <td>25.291238</td>\n",
       "      <td>16.300385</td>\n",
       "      <td>1.118221</td>\n",
       "    </tr>\n",
       "    <tr>\n",
       "      <th>min</th>\n",
       "      <td>-94.746969</td>\n",
       "      <td>-63.942094</td>\n",
       "      <td>-122.195138</td>\n",
       "      <td>-111.870691</td>\n",
       "      <td>-94.147972</td>\n",
       "      <td>-70.916786</td>\n",
       "      <td>-105.956553</td>\n",
       "      <td>...</td>\n",
       "      <td>-105.751637</td>\n",
       "      <td>-105.890010</td>\n",
       "      <td>-74.977182</td>\n",
       "      <td>-74.006065</td>\n",
       "      <td>-121.097086</td>\n",
       "      <td>-123.876153</td>\n",
       "      <td>0.000000</td>\n",
       "    </tr>\n",
       "    <tr>\n",
       "      <th>25%</th>\n",
       "      <td>-4.036597</td>\n",
       "      <td>-4.031957</td>\n",
       "      <td>-14.878500</td>\n",
       "      <td>-7.116633</td>\n",
       "      <td>-3.968687</td>\n",
       "      <td>-3.957699</td>\n",
       "      <td>-13.937806</td>\n",
       "      <td>...</td>\n",
       "      <td>-14.096840</td>\n",
       "      <td>-8.004561</td>\n",
       "      <td>-3.981055</td>\n",
       "      <td>-3.988965</td>\n",
       "      <td>-13.998874</td>\n",
       "      <td>-7.873898</td>\n",
       "      <td>1.000000</td>\n",
       "    </tr>\n",
       "    <tr>\n",
       "      <th>50%</th>\n",
       "      <td>-0.951398</td>\n",
       "      <td>-1.015582</td>\n",
       "      <td>-0.961088</td>\n",
       "      <td>-0.890469</td>\n",
       "      <td>-0.871690</td>\n",
       "      <td>-0.804810</td>\n",
       "      <td>0.058910</td>\n",
       "      <td>...</td>\n",
       "      <td>-0.954791</td>\n",
       "      <td>-0.989293</td>\n",
       "      <td>-0.889780</td>\n",
       "      <td>-0.928504</td>\n",
       "      <td>-0.955684</td>\n",
       "      <td>-1.019547</td>\n",
       "      <td>2.000000</td>\n",
       "    </tr>\n",
       "    <tr>\n",
       "      <th>75%</th>\n",
       "      <td>2.895540</td>\n",
       "      <td>2.140456</td>\n",
       "      <td>13.974075</td>\n",
       "      <td>6.110973</td>\n",
       "      <td>2.970387</td>\n",
       "      <td>3.006144</td>\n",
       "      <td>13.934438</td>\n",
       "      <td>...</td>\n",
       "      <td>13.903783</td>\n",
       "      <td>5.922250</td>\n",
       "      <td>2.972719</td>\n",
       "      <td>2.519426</td>\n",
       "      <td>13.926128</td>\n",
       "      <td>5.121679</td>\n",
       "      <td>3.000000</td>\n",
       "    </tr>\n",
       "    <tr>\n",
       "      <th>max</th>\n",
       "      <td>68.876142</td>\n",
       "      <td>39.913391</td>\n",
       "      <td>127.124171</td>\n",
       "      <td>102.015561</td>\n",
       "      <td>89.059852</td>\n",
       "      <td>34.923040</td>\n",
       "      <td>120.046277</td>\n",
       "      <td>...</td>\n",
       "      <td>123.179253</td>\n",
       "      <td>111.137925</td>\n",
       "      <td>54.098746</td>\n",
       "      <td>35.896503</td>\n",
       "      <td>125.974107</td>\n",
       "      <td>104.959621</td>\n",
       "      <td>3.000000</td>\n",
       "    </tr>\n",
       "  </tbody>\n",
       "</table>\n",
       "<p>8 rows × 33 columns</p>\n",
       "</div>"
      ],
      "text/plain": [
       "          sensor_1     sensor_2     sensor_3     sensor_4     sensor_5  \\\n",
       "count  2335.000000  2335.000000  2335.000000  2335.000000  2335.000000   \n",
       "mean     -1.122174    -1.024673    -0.672769    -0.147724    -0.327494   \n",
       "std      11.486353     7.399859    26.519159    15.551500    11.461970   \n",
       "min     -94.746969   -63.942094  -122.195138  -111.870691   -94.147972   \n",
       "25%      -4.036597    -4.031957   -14.878500    -7.116633    -3.968687   \n",
       "50%      -0.951398    -1.015582    -0.961088    -0.890469    -0.871690   \n",
       "75%       2.895540     2.140456    13.974075     6.110973     2.970387   \n",
       "max      68.876142    39.913391   127.124171   102.015561    89.059852   \n",
       "\n",
       "          sensor_6     sensor_7  ...    sensor_27    sensor_28    sensor_29  \\\n",
       "count  2335.000000  2335.000000  ...  2335.000000  2335.000000  2335.000000   \n",
       "mean     -0.423462     0.676275  ...    -0.081374    -0.370812    -0.726941   \n",
       "std       7.314322    26.869479  ...    25.923355    15.541803    11.636507   \n",
       "min     -70.916786  -105.956553  ...  -105.751637  -105.890010   -74.977182   \n",
       "25%      -3.957699   -13.937806  ...   -14.096840    -8.004561    -3.981055   \n",
       "50%      -0.804810     0.058910  ...    -0.954791    -0.989293    -0.889780   \n",
       "75%       3.006144    13.934438  ...    13.903783     5.922250     2.972719   \n",
       "max      34.923040   120.046277  ...   123.179253   111.137925    54.098746   \n",
       "\n",
       "         sensor_30    sensor_31    sensor_32       target  \n",
       "count  2335.000000  2335.000000  2335.000000  2335.000000  \n",
       "mean     -0.809534    -0.495062    -0.743585     1.523340  \n",
       "std       7.469744    25.291238    16.300385     1.118221  \n",
       "min     -74.006065  -121.097086  -123.876153     0.000000  \n",
       "25%      -3.988965   -13.998874    -7.873898     1.000000  \n",
       "50%      -0.928504    -0.955684    -1.019547     2.000000  \n",
       "75%       2.519426    13.926128     5.121679     3.000000  \n",
       "max      35.896503   125.974107   104.959621     3.000000  \n",
       "\n",
       "[8 rows x 33 columns]"
      ]
     },
     "execution_count": 6,
     "metadata": {},
     "output_type": "execute_result"
    }
   ],
   "source": [
    "df.describe()"
   ]
  },
  {
   "cell_type": "markdown",
   "id": "7a1975db-76e9-4c8f-9800-3cbaff805029",
   "metadata": {},
   "source": [
    "`-` 32개의 센서피쳐는 하나의 픽셀을 의미하는 것이 아닐까?(손동작 이미지를 32개의 픽셀로 나눈 것 같다; 아님말고)\n",
    "\n",
    "`-` 0부근에 값이 많고 변수마다 분포가 유사함(종모양) \n",
    "\n",
    "`-` $8\\times 4$ 배열로 변환하고 이를 확인해보자($4\\times 8$로 해도 상관없을 듯)"
   ]
  },
  {
   "cell_type": "markdown",
   "id": "f1a5432a-e538-4351-96a9-db3236af90aa",
   "metadata": {},
   "source": [
    "`-` 위는 각 target의 sensor_1부터 sensor_32까지 각각의 평균이다"
   ]
  },
  {
   "cell_type": "code",
   "execution_count": 7,
   "id": "0a679cc7-5ba0-4922-afbe-ec2b800bf422",
   "metadata": {},
   "outputs": [
    {
     "data": {
      "image/png": "[encoded data removed]",
      "text/plain": [
       "<Figure size 576x720 with 4 Axes>"
      ]
     },
     "metadata": {
      "needs_background": "light"
     },
     "output_type": "display_data"
    }
   ],
   "source": [
    "plt.figure(figsize=(8, 10))\n",
    "for i in range(4) :\n",
    "    plt.subplot(2, 2, i+1)\n",
    "    plt.title(f'target{i}')\n",
    "    plt.imshow(df.groupby('target').agg('mean').iloc[i,:].to_numpy().reshape(8, 4))\n",
    "plt.suptitle('Target image', fontsize=20)\n",
    "plt.show()"
   ]
  },
  {
   "cell_type": "markdown",
   "id": "a2e4a840-8d86-4ae7-8aa1-9f72d681466f",
   "metadata": {},
   "source": [
    "`-` 위의 4가지 그림을 보면 target마다 평균적으로 값의 차이가 있음을 알 수 있다"
   ]
  },
  {
   "cell_type": "markdown",
   "id": "80c2f807-d656-4cd0-9599-a246ebf1c8b1",
   "metadata": {},
   "source": [
    "## CNN 설계 및 학습"
   ]
  },
  {
   "cell_type": "code",
   "execution_count": 8,
   "id": "7314dd5e-9a0a-43c5-a8e8-4cf1fa315375",
   "metadata": {},
   "outputs": [],
   "source": [
    "import torch\n",
    "from torch.utils.data import TensorDataset, DataLoader\n",
    "from torch import nn\n",
    "from sklearn.model_selection import StratifiedKFold"
   ]
  },
  {
   "cell_type": "code",
   "execution_count": 60,
   "id": "f5058368-cf4c-4860-a3e1-c5fbf1e7707a",
   "metadata": {},
   "outputs": [
    {
     "data": {
      "text/plain": [
       "<torch._C.Generator at 0x22bc2d7a0b0>"
      ]
     },
     "execution_count": 60,
     "metadata": {},
     "output_type": "execute_result"
    }
   ],
   "source": [
    "torch.manual_seed(22) ## 재현을 위한 seed 고정"
   ]
  },
  {
   "cell_type": "markdown",
   "id": "31dfac14-a75c-4851-b317-08dc44ab3920",
   "metadata": {},
   "source": [
    "`-` 일단 데이터를 정규화시켜주자(0부터 1까지)\n",
    "\n",
    "`-` 값이 음수이면 활성화함수로 렐루를 취할 때 0이 되면서 노드가 죽어버린다(기울기 소멸)"
   ]
  },
  {
   "cell_type": "code",
   "execution_count": 13,
   "id": "003c841f-9696-420a-b736-39c8d75462a2",
   "metadata": {},
   "outputs": [],
   "source": [
    "target = df['target']\n",
    "df.drop('target', axis=1, inplace=True)"
   ]
  },
  {
   "cell_type": "code",
   "execution_count": 46,
   "id": "be952f6b-3120-4e0a-8eca-2bda7d250258",
   "metadata": {},
   "outputs": [],
   "source": [
    "X_df = (df + 130) / 260 ## 음수를 양수로 만들어주고 값을 0~1사이로 맞춰준다\n",
    "X_test = (test + 130) / 260"
   ]
  },
  {
   "cell_type": "code",
   "execution_count": 47,
   "id": "8d7bc061-623d-485d-8a17-191b1f900f85",
   "metadata": {},
   "outputs": [],
   "source": [
    "X_df = torch.tensor(np.array(X_df).reshape(-1, 1, 8, 4), dtype=torch.float32) ## 1(흑백) * 8(높이) * 4(너비) 이미지가 -1(2335)개 존재함\n",
    "X_test = torch.tensor(np.array(X_test).reshape(-1, 1, 8, 4), dtype=torch.float32)"
   ]
  },
  {
   "cell_type": "code",
   "execution_count": 48,
   "id": "58957b68-7441-4568-b873-134f985860a8",
   "metadata": {},
   "outputs": [
    {
     "name": "stdout",
     "output_type": "stream",
     "text": [
      "min : tensor(0.0085) \n",
      "max : tensor(0.9891)\n"
     ]
    }
   ],
   "source": [
    "print('min :', X_df.min(), '\\nmax :', X_df.max())"
   ]
  },
  {
   "cell_type": "markdown",
   "id": "f0a22eec-9411-4c71-a3b8-cbb9b5787767",
   "metadata": {},
   "source": [
    "`-` 정규화가 잘 되었다"
   ]
  },
  {
   "cell_type": "code",
   "execution_count": 50,
   "id": "d23afade-5aab-476d-95ff-d0d377cee2a8",
   "metadata": {},
   "outputs": [
    {
     "data": {
      "text/plain": [
       "2335"
      ]
     },
     "execution_count": 50,
     "metadata": {},
     "output_type": "execute_result"
    }
   ],
   "source": [
    "len(X_df)"
   ]
  },
  {
   "cell_type": "code",
   "execution_count": 88,
   "id": "13b79f0e-397f-4d3e-ace6-0742b95b367d",
   "metadata": {},
   "outputs": [],
   "source": [
    "class CNN(nn.Module):\n",
    "    def __init__(self):\n",
    "        super().__init__()\n",
    "        self.cnn_model = nn.Sequential(\n",
    "            nn.Conv2d(in_channels=1, out_channels=8, kernel_size=(2, 1), padding='same'), ## padding='same' 옵션을 사용할려면 stride가 1이어야 한다\n",
    "            ## 흑백이미지이므로 처음 인풋 채널은 1이다\n",
    "            nn.ReLU(),\n",
    "            nn.BatchNorm2d(8),\n",
    "            nn.Conv2d(8, 16, kernel_size=(2, 1), padding='same'), ## 이미지가 직사각형이라 직사각형 커널 사용\n",
    "            nn.ReLU(),\n",
    "            nn.BatchNorm2d(16),\n",
    "            nn.Conv2d(16, 32, kernel_size=(4, 2), padding='same'),\n",
    "            nn.ReLU(),\n",
    "            nn.AvgPool2d(kernel_size=(2, 2), stride=(2, 2)),\n",
    "            nn.BatchNorm2d(32),\n",
    "            nn.Conv2d(32, 16, kernel_size=(3, 2), padding='same'),\n",
    "            nn.ReLU(),\n",
    "            nn.BatchNorm2d(16),\n",
    "            nn.Conv2d(16, 32, kernel_size=(3, 2), padding='same'),\n",
    "            nn.ReLU(),\n",
    "            nn.BatchNorm2d(32),\n",
    "            nn.Conv2d(32, 16, kernel_size=(3, 2), padding='same'),\n",
    "            nn.ReLU(),\n",
    "            nn.BatchNorm2d(16),\n",
    "            nn.AdaptiveAvgPool2d(1) ## Flatten역할 ## 이미지를 평균내서 1*1 크기로 만든다\n",
    "        )\n",
    "        \n",
    "        self.linear_model = nn.Sequential(\n",
    "            nn.Linear(16, 64),\n",
    "            nn.ReLU(),\n",
    "            nn.Dropout(0.5),\n",
    "            nn.Linear(64, 4) ## softmax는 옵티마이저(CrossEntorpyLoss)에서 수행\n",
    "        )\n",
    "\n",
    "    def forward(self, x):\n",
    "        x = self.cnn_model(x) ## After, shape -> (N, 16, 1, 1) \n",
    "        x = x.squeeze() ## After, shape -> (N, 16)\n",
    "        x = self.linear_model(x) ## After, shape -> (N, 4)\n",
    "        return x"
   ]
  },
  {
   "cell_type": "code",
   "execution_count": 89,
   "id": "4ad78b3e-3384-4dfe-85af-5cb6831ef859",
   "metadata": {},
   "outputs": [],
   "source": [
    "## Linear layer 가중치 초기화\n",
    "def init_weights(m):\n",
    "    classname = m.__class__.__name__\n",
    "    if classname.find('Linear') != -1:\n",
    "        nn.init.normal_(m.weight.data, 0, 1)\n",
    "        nn.init.constant_(m.bias.data, 0)"
   ]
  },
  {
   "cell_type": "code",
   "execution_count": 90,
   "id": "ebb48f30-b94d-4423-8e2d-e377a4a67f57",
   "metadata": {},
   "outputs": [],
   "source": [
    "skfold = StratifiedKFold(n_splits=15, random_state=22, shuffle=True) ## 15겹 교차검증"
   ]
  },
  {
   "cell_type": "code",
   "execution_count": 91,
   "id": "a11a917d-d153-4321-910c-bf9c6ed1f17e",
   "metadata": {},
   "outputs": [],
   "source": [
    "learning_rate = 0.005\n",
    "epochs = 100\n",
    "batch_size = 32\n",
    "loss_fn = torch.nn.CrossEntropyLoss()   ## 손실 함수에 소프트맥스 함수 포함 -> net 내부에서 마지막 활성화함수로 소프트맥스 사용안해도 됨"
   ]
  },
  {
   "cell_type": "code",
   "execution_count": 92,
   "id": "539ff5dc-cb25-4d82-8961-d4112d18ec5f",
   "metadata": {},
   "outputs": [],
   "source": [
    "## accuracy 계산\n",
    "def accuracy(true, pred):\n",
    "    return sum(true == pred) / len(true)"
   ]
  },
  {
   "cell_type": "markdown",
   "id": "e79b14dc-fdcc-49a5-a167-f9bdc6c13e0f",
   "metadata": {},
   "source": [
    "`-` 모델 앙상블"
   ]
  },
  {
   "cell_type": "code",
   "execution_count": 93,
   "id": "a4a78160-1380-453c-b740-e3164cf05c1f",
   "metadata": {},
   "outputs": [
    {
     "name": "stderr",
     "output_type": "stream",
     "text": [
      "0it [00:00, ?it/s]"
     ]
    },
    {
     "name": "stdout",
     "output_type": "stream",
     "text": [
      "1 Fold Training......\n",
      "[Epoch:    1] loss = 2.15869594\n",
      "[Epoch:   21] loss = 0.424006552\n",
      "[Epoch:   41] loss = 0.251804352\n",
      "[Epoch:   61] loss = 0.176591977\n",
      "[Epoch:   81] loss = 0.114561364\n",
      "[Epoch:  100] loss = 0.110126682\n",
      "1 Fold -> Mean Valid Loss : 0.068236\n",
      "1 Fold -> Mean Valid accuracy : 0.971467\n"
     ]
    },
    {
     "name": "stderr",
     "output_type": "stream",
     "text": [
      "1it [00:58, 58.75s/it]"
     ]
    },
    {
     "name": "stdout",
     "output_type": "stream",
     "text": [
      "2 Fold Training......\n",
      "[Epoch:    1] loss = 1.9950099\n",
      "[Epoch:   21] loss = 0.401188642\n",
      "[Epoch:   41] loss = 0.229782701\n",
      "[Epoch:   61] loss = 0.131951496\n",
      "[Epoch:   81] loss = 0.137745157\n",
      "[Epoch:  100] loss = 0.073887594\n",
      "2 Fold -> Mean Valid Loss : 0.127197\n",
      "2 Fold -> Mean Valid accuracy : 0.958786\n"
     ]
    },
    {
     "name": "stderr",
     "output_type": "stream",
     "text": [
      "2it [01:56, 58.37s/it]"
     ]
    },
    {
     "name": "stdout",
     "output_type": "stream",
     "text": [
      "3 Fold Training......\n",
      "[Epoch:    1] loss = 1.99249601\n",
      "[Epoch:   21] loss = 0.388645321\n",
      "[Epoch:   41] loss = 0.238821641\n",
      "[Epoch:   61] loss = 0.181996584\n",
      "[Epoch:   81] loss = 0.106204957\n",
      "[Epoch:  100] loss = 0.10752365\n",
      "3 Fold -> Mean Valid Loss : 0.060115\n",
      "3 Fold -> Mean Valid accuracy : 0.980072\n"
     ]
    },
    {
     "name": "stderr",
     "output_type": "stream",
     "text": [
      "3it [02:56, 59.04s/it]"
     ]
    },
    {
     "name": "stdout",
     "output_type": "stream",
     "text": [
      "4 Fold Training......\n",
      "[Epoch:    1] loss = 1.67914402\n",
      "[Epoch:   21] loss = 0.454761684\n",
      "[Epoch:   41] loss = 0.330356866\n",
      "[Epoch:   61] loss = 0.209405869\n",
      "[Epoch:   81] loss = 0.150803208\n",
      "[Epoch:  100] loss = 0.115767837\n",
      "4 Fold -> Mean Valid Loss : 0.293462\n",
      "4 Fold -> Mean Valid accuracy : 0.907609\n"
     ]
    },
    {
     "name": "stderr",
     "output_type": "stream",
     "text": [
      "4it [03:53, 58.28s/it]"
     ]
    },
    {
     "name": "stdout",
     "output_type": "stream",
     "text": [
      "5 Fold Training......\n",
      "[Epoch:    1] loss = 1.81479704\n",
      "[Epoch:   21] loss = 0.434202105\n",
      "[Epoch:   41] loss = 0.280167907\n",
      "[Epoch:   61] loss = 0.189241409\n",
      "[Epoch:   81] loss = 0.130159035\n",
      "[Epoch:  100] loss = 0.102035411\n",
      "5 Fold -> Mean Valid Loss : 0.233831\n",
      "5 Fold -> Mean Valid accuracy : 0.925272\n"
     ]
    },
    {
     "name": "stderr",
     "output_type": "stream",
     "text": [
      "5it [04:50, 57.78s/it]"
     ]
    },
    {
     "name": "stdout",
     "output_type": "stream",
     "text": [
      "6 Fold Training......\n",
      "[Epoch:    1] loss = 2.35469174\n",
      "[Epoch:   21] loss = 0.397476107\n",
      "[Epoch:   41] loss = 0.250626832\n",
      "[Epoch:   61] loss = 0.183634073\n",
      "[Epoch:   81] loss = 0.126272067\n",
      "[Epoch:  100] loss = 0.071669288\n",
      "6 Fold -> Mean Valid Loss : 0.051255\n",
      "6 Fold -> Mean Valid accuracy : 0.981884\n"
     ]
    },
    {
     "name": "stderr",
     "output_type": "stream",
     "text": [
      "6it [05:47, 57.56s/it]"
     ]
    },
    {
     "name": "stdout",
     "output_type": "stream",
     "text": [
      "7 Fold Training......\n",
      "[Epoch:    1] loss = 1.92802119\n",
      "[Epoch:   21] loss = 0.37985146\n",
      "[Epoch:   41] loss = 0.214130193\n",
      "[Epoch:   61] loss = 0.130274549\n",
      "[Epoch:   81] loss = 0.0951441154\n",
      "[Epoch:  100] loss = 0.112077296\n",
      "7 Fold -> Mean Valid Loss : 0.069476\n",
      "7 Fold -> Mean Valid accuracy : 0.971467\n"
     ]
    },
    {
     "name": "stderr",
     "output_type": "stream",
     "text": [
      "7it [06:43, 57.05s/it]"
     ]
    },
    {
     "name": "stdout",
     "output_type": "stream",
     "text": [
      "8 Fold Training......\n",
      "[Epoch:    1] loss = 1.7847538\n",
      "[Epoch:   21] loss = 0.416910768\n",
      "[Epoch:   41] loss = 0.301644176\n",
      "[Epoch:   61] loss = 0.173742801\n",
      "[Epoch:   81] loss = 0.0978725851\n",
      "[Epoch:  100] loss = 0.116472855\n",
      "8 Fold -> Mean Valid Loss : 0.096030\n",
      "8 Fold -> Mean Valid accuracy : 0.965127\n"
     ]
    },
    {
     "name": "stderr",
     "output_type": "stream",
     "text": [
      "8it [07:43, 57.94s/it]"
     ]
    },
    {
     "name": "stdout",
     "output_type": "stream",
     "text": [
      "9 Fold Training......\n",
      "[Epoch:    1] loss = 1.9704057\n",
      "[Epoch:   21] loss = 0.45969075\n",
      "[Epoch:   41] loss = 0.270368248\n",
      "[Epoch:   61] loss = 0.178803548\n",
      "[Epoch:   81] loss = 0.185436606\n",
      "[Epoch:  100] loss = 0.0943489149\n",
      "9 Fold -> Mean Valid Loss : 0.035140\n",
      "9 Fold -> Mean Valid accuracy : 0.988678\n"
     ]
    },
    {
     "name": "stderr",
     "output_type": "stream",
     "text": [
      "9it [08:46, 59.45s/it]"
     ]
    },
    {
     "name": "stdout",
     "output_type": "stream",
     "text": [
      "10 Fold Training......\n",
      "[Epoch:    1] loss = 1.7167232\n",
      "[Epoch:   21] loss = 0.441697925\n",
      "[Epoch:   41] loss = 0.278887928\n",
      "[Epoch:   61] loss = 0.173484504\n",
      "[Epoch:   81] loss = 0.102154218\n",
      "[Epoch:  100] loss = 0.0798909888\n",
      "10 Fold -> Mean Valid Loss : 0.063936\n",
      "10 Fold -> Mean Valid accuracy : 0.972977\n"
     ]
    },
    {
     "name": "stderr",
     "output_type": "stream",
     "text": [
      "10it [09:52, 61.46s/it]"
     ]
    },
    {
     "name": "stdout",
     "output_type": "stream",
     "text": [
      "11 Fold Training......\n",
      "[Epoch:    1] loss = 2.09545922\n",
      "[Epoch:   21] loss = 0.426127136\n",
      "[Epoch:   41] loss = 0.227760509\n",
      "[Epoch:   61] loss = 0.14794901\n",
      "[Epoch:   81] loss = 0.118709996\n",
      "[Epoch:  100] loss = 0.127772957\n",
      "11 Fold -> Mean Valid Loss : 0.408248\n",
      "11 Fold -> Mean Valid accuracy : 0.887228\n"
     ]
    },
    {
     "name": "stderr",
     "output_type": "stream",
     "text": [
      "11it [11:05, 65.17s/it]"
     ]
    },
    {
     "name": "stdout",
     "output_type": "stream",
     "text": [
      "12 Fold Training......\n",
      "[Epoch:    1] loss = 2.53746223\n",
      "[Epoch:   21] loss = 0.490479887\n",
      "[Epoch:   41] loss = 0.266013801\n",
      "[Epoch:   61] loss = 0.231878638\n",
      "[Epoch:   81] loss = 0.117690489\n",
      "[Epoch:  100] loss = 0.0987436995\n",
      "12 Fold -> Mean Valid Loss : 0.076302\n",
      "12 Fold -> Mean Valid accuracy : 0.974638\n"
     ]
    },
    {
     "name": "stderr",
     "output_type": "stream",
     "text": [
      "12it [12:16, 66.69s/it]"
     ]
    },
    {
     "name": "stdout",
     "output_type": "stream",
     "text": [
      "13 Fold Training......\n",
      "[Epoch:    1] loss = 1.93519032\n",
      "[Epoch:   21] loss = 0.395111769\n",
      "[Epoch:   41] loss = 0.219403505\n",
      "[Epoch:   61] loss = 0.146826267\n",
      "[Epoch:   81] loss = 0.0902135596\n",
      "[Epoch:  100] loss = 0.0807329342\n",
      "13 Fold -> Mean Valid Loss : 0.022014\n",
      "13 Fold -> Mean Valid accuracy : 0.995471\n"
     ]
    },
    {
     "name": "stderr",
     "output_type": "stream",
     "text": [
      "13it [13:28, 68.49s/it]"
     ]
    },
    {
     "name": "stdout",
     "output_type": "stream",
     "text": [
      "14 Fold Training......\n",
      "[Epoch:    1] loss = 2.75410843\n",
      "[Epoch:   21] loss = 0.401631355\n",
      "[Epoch:   41] loss = 0.27603519\n",
      "[Epoch:   61] loss = 0.158221394\n",
      "[Epoch:   81] loss = 0.116362669\n",
      "[Epoch:  100] loss = 0.115833238\n",
      "14 Fold -> Mean Valid Loss : 0.024413\n",
      "14 Fold -> Mean Valid accuracy : 0.992301\n"
     ]
    },
    {
     "name": "stderr",
     "output_type": "stream",
     "text": [
      "14it [14:36, 68.26s/it]"
     ]
    },
    {
     "name": "stdout",
     "output_type": "stream",
     "text": [
      "15 Fold Training......\n",
      "[Epoch:    1] loss = 1.8521086\n",
      "[Epoch:   21] loss = 0.419041961\n",
      "[Epoch:   41] loss = 0.267218202\n",
      "[Epoch:   61] loss = 0.159111947\n",
      "[Epoch:   81] loss = 0.151619598\n",
      "[Epoch:  100] loss = 0.126291052\n",
      "15 Fold -> Mean Valid Loss : 0.113421\n",
      "15 Fold -> Mean Valid accuracy : 0.966486\n"
     ]
    },
    {
     "name": "stderr",
     "output_type": "stream",
     "text": [
      "15it [15:30, 62.04s/it]\n"
     ]
    }
   ],
   "source": [
    "cnn_acc = [] ## fold별 valid셋의 평균 정확도\n",
    "cnn_pred = torch.tensor(np.zeros((X_test.shape[0], 4))) ## test예측값\n",
    "\n",
    "for i, (train_idx, valid_idx) in tqdm(enumerate(skfold.split(X_df, target))):\n",
    "    print(f'{i + 1} Fold Training......')\n",
    "    X_train, y_train = X_df[train_idx], target[train_idx]\n",
    "    X_valid, y_valid = X_df[valid_idx], target[valid_idx]\n",
    "    y_train = torch.tensor(y_train.to_numpy(), dtype=torch.int64) ## target을 텐서로 변환\n",
    "    y_valid = torch.tensor(y_valid.to_numpy(), dtype=torch.int64) ## target을 텐서로 변환\n",
    "    \n",
    "    ## CNN 모델\n",
    "    net = CNN()\n",
    "    net.apply(init_weights) ## Linear layer 가중치 초기화\n",
    "    \n",
    "    ## Dataset, Dataloader\n",
    "    train_dataset = TensorDataset(X_train, y_train)\n",
    "    valid_dataset = TensorDataset(X_valid, y_valid)\n",
    "    \n",
    "    train_dataloader = DataLoader(train_dataset, batch_size=batch_size, shuffle=True, drop_last=True)\n",
    "    valid_dataloader = DataLoader(train_dataset, batch_size=batch_size, shuffle=True)\n",
    "    \n",
    "    total_batch = len(train_dataloader) ## 배치 크기\n",
    "    \n",
    "    ## optimizer\n",
    "    optimizer = torch.optim.Adam(net.parameters(), lr=learning_rate) ## 옵티마이저에 최적화할 파라미터와 학습률 전달\n",
    "    \n",
    "    ## fold별로 모델 학습\n",
    "    net.train() ## 훈련모드\n",
    "    for epoch in range(epochs): \n",
    "        avg_loss = 0 ## train mean loss\n",
    "\n",
    "        for X, y in train_dataloader: ## 미니 배치 단위로 꺼내온다, X는 미니 배치, y는 레이블\n",
    "            optimizer.zero_grad() ## 그래디언트 초기화\n",
    "            yhat = net(X) ## y_hat을 구한다\n",
    "            loss = loss_fn(yhat, y) ## 오차를 계산 ## train loss\n",
    "            loss.backward()  ## 미분\n",
    "            optimizer.step() ## 업데이트\n",
    "            avg_loss += (loss / total_batch) ## 평균 오차 누적\n",
    "\n",
    "        if epoch % 20 == 0 or epoch == epochs - 1:\n",
    "            print('[Epoch: {:>4}] loss = {:>.9}'.format(epoch + 1, avg_loss)) ## 에폭마다 현재 훈련 오차 출력\n",
    "    \n",
    "    ## fold별로 모델 평가\n",
    "    net.eval() ## 평가모드\n",
    "    valid_loss = [] \n",
    "    acc_list = []\n",
    "\n",
    "    with torch.no_grad(): ## 평가할 땐 역전파를 쓸 필요가 없으니까\n",
    "        for X, y in valid_dataloader: \n",
    "            yhat = net(X)\n",
    "            loss = loss_fn(yhat, y) ## valid loss\n",
    "            acc = accuracy(y.detach().cpu().numpy(), yhat.detach().cpu().numpy().argmax(-1))                                                         \n",
    "            valid_loss.append(loss.cpu().numpy())\n",
    "            acc_list.append(acc)\n",
    "            \n",
    "    cnn_acc.append(np.mean(acc_list)) ## fold별 정확도\n",
    "            \n",
    "    print(f'{i + 1} Fold -> Mean Valid Loss : {np.mean(valid_loss):>8f}') ## fold별 평가 루프 종료시 평균 loss를 출력\n",
    "    print(f'{i + 1} Fold -> Mean Valid accuracy : {np.mean(acc_list):>8f}') ## fold별 평가 루프 종료시 accuracy를 출력\n",
    "    \n",
    "    ## fold별로 test 예측\n",
    "    net.eval() ## 평가모드\n",
    "    with torch.no_grad():\n",
    "        outputs = net(X_test) ## shape -> (9343, 4)\n",
    "        cnn_pred += outputs / skfold.n_splits"
   ]
  },
  {
   "cell_type": "code",
   "execution_count": 72,
   "id": "a5b4f602-c9fe-4f1d-89e2-4bc945896029",
   "metadata": {},
   "outputs": [
    {
     "name": "stderr",
     "output_type": "stream",
     "text": [
      "0it [00:00, ?it/s]"
     ]
    },
    {
     "name": "stdout",
     "output_type": "stream",
     "text": [
      "1 Fold Training......\n",
      "[Epoch:    1] loss = 1.10051358\n",
      "[Epoch:   21] loss = 0.223249987\n",
      "[Epoch:   41] loss = 0.0922718644\n",
      "[Epoch:   61] loss = 0.117340177\n",
      "[Epoch:   81] loss = 0.0453387722\n",
      "[Epoch:  100] loss = 0.021794714\n",
      "1 Fold -> Mean Valid Loss : 0.020981\n",
      "1 Fold -> Mean Valid accuracy : 0.993659\n"
     ]
    },
    {
     "name": "stderr",
     "output_type": "stream",
     "text": [
      "1it [00:49, 49.46s/it]"
     ]
    },
    {
     "name": "stdout",
     "output_type": "stream",
     "text": [
      "2 Fold Training......\n",
      "[Epoch:    1] loss = 1.17392814\n",
      "[Epoch:   21] loss = 0.252365708\n",
      "[Epoch:   41] loss = 0.116710544\n",
      "[Epoch:   61] loss = 0.0564955659\n",
      "[Epoch:   81] loss = 0.0315789878\n",
      "[Epoch:  100] loss = 0.0467428491\n",
      "2 Fold -> Mean Valid Loss : 1.171700\n",
      "2 Fold -> Mean Valid accuracy : 0.775362\n"
     ]
    },
    {
     "name": "stderr",
     "output_type": "stream",
     "text": [
      "2it [01:38, 49.29s/it]"
     ]
    },
    {
     "name": "stdout",
     "output_type": "stream",
     "text": [
      "3 Fold Training......\n",
      "[Epoch:    1] loss = 1.16563857\n",
      "[Epoch:   21] loss = 0.229865566\n",
      "[Epoch:   41] loss = 0.184297517\n",
      "[Epoch:   61] loss = 0.0787316561\n",
      "[Epoch:   81] loss = 0.0624652319\n",
      "[Epoch:  100] loss = 0.0458124839\n",
      "3 Fold -> Mean Valid Loss : 0.177993\n",
      "3 Fold -> Mean Valid accuracy : 0.927989\n"
     ]
    },
    {
     "name": "stderr",
     "output_type": "stream",
     "text": [
      "3it [02:29, 50.05s/it]"
     ]
    },
    {
     "name": "stdout",
     "output_type": "stream",
     "text": [
      "4 Fold Training......\n",
      "[Epoch:    1] loss = 1.29755652\n",
      "[Epoch:   21] loss = 0.230661452\n",
      "[Epoch:   41] loss = 0.12180528\n",
      "[Epoch:   61] loss = 0.067038089\n",
      "[Epoch:   81] loss = 0.0429222882\n",
      "[Epoch:  100] loss = 0.0550783873\n",
      "4 Fold -> Mean Valid Loss : 0.058732\n",
      "4 Fold -> Mean Valid accuracy : 0.979620\n"
     ]
    },
    {
     "name": "stderr",
     "output_type": "stream",
     "text": [
      "4it [03:19, 49.95s/it]"
     ]
    },
    {
     "name": "stdout",
     "output_type": "stream",
     "text": [
      "5 Fold Training......\n",
      "[Epoch:    1] loss = 1.27536321\n",
      "[Epoch:   21] loss = 0.258081198\n",
      "[Epoch:   41] loss = 0.116938263\n",
      "[Epoch:   61] loss = 0.0684954897\n",
      "[Epoch:   81] loss = 0.0296407547\n",
      "[Epoch:  100] loss = 0.0593740456\n",
      "5 Fold -> Mean Valid Loss : 0.055726\n",
      "5 Fold -> Mean Valid accuracy : 0.984149\n"
     ]
    },
    {
     "name": "stderr",
     "output_type": "stream",
     "text": [
      "5it [04:10, 50.21s/it]"
     ]
    },
    {
     "name": "stdout",
     "output_type": "stream",
     "text": [
      "6 Fold Training......\n",
      "[Epoch:    1] loss = 1.20267212\n",
      "[Epoch:   21] loss = 0.214390472\n",
      "[Epoch:   41] loss = 0.109184414\n",
      "[Epoch:   61] loss = 0.107145913\n",
      "[Epoch:   81] loss = 0.0434503742\n",
      "[Epoch:  100] loss = 0.0526989289\n",
      "6 Fold -> Mean Valid Loss : 0.032527\n",
      "6 Fold -> Mean Valid accuracy : 0.988678\n"
     ]
    },
    {
     "name": "stderr",
     "output_type": "stream",
     "text": [
      "6it [05:05, 51.84s/it]"
     ]
    },
    {
     "name": "stdout",
     "output_type": "stream",
     "text": [
      "7 Fold Training......\n",
      "[Epoch:    1] loss = 1.20789778\n",
      "[Epoch:   21] loss = 0.208147943\n",
      "[Epoch:   41] loss = 0.0928229168\n",
      "[Epoch:   61] loss = 0.0636091083\n",
      "[Epoch:   81] loss = 0.0585144311\n",
      "[Epoch:  100] loss = 0.0419949926\n",
      "7 Fold -> Mean Valid Loss : 1.745016\n",
      "7 Fold -> Mean Valid accuracy : 0.755888\n"
     ]
    },
    {
     "name": "stderr",
     "output_type": "stream",
     "text": [
      "7it [05:53, 50.67s/it]"
     ]
    },
    {
     "name": "stdout",
     "output_type": "stream",
     "text": [
      "8 Fold Training......\n",
      "[Epoch:    1] loss = 1.3583498\n",
      "[Epoch:   21] loss = 0.166333765\n",
      "[Epoch:   41] loss = 0.097830385\n",
      "[Epoch:   61] loss = 0.0522908792\n",
      "[Epoch:   81] loss = 0.0648565218\n",
      "[Epoch:  100] loss = 0.069615081\n",
      "8 Fold -> Mean Valid Loss : 0.020280\n",
      "8 Fold -> Mean Valid accuracy : 0.993659\n"
     ]
    },
    {
     "name": "stderr",
     "output_type": "stream",
     "text": [
      "8it [06:43, 50.36s/it]"
     ]
    },
    {
     "name": "stdout",
     "output_type": "stream",
     "text": [
      "9 Fold Training......\n",
      "[Epoch:    1] loss = 1.19541252\n",
      "[Epoch:   21] loss = 0.216289654\n",
      "[Epoch:   41] loss = 0.0853321701\n",
      "[Epoch:   61] loss = 0.0824637711\n",
      "[Epoch:   81] loss = 0.070773825\n",
      "[Epoch:  100] loss = 0.0525862314\n",
      "9 Fold -> Mean Valid Loss : 0.763534\n",
      "9 Fold -> Mean Valid accuracy : 0.817633\n"
     ]
    },
    {
     "name": "stderr",
     "output_type": "stream",
     "text": [
      "9it [07:34, 50.69s/it]"
     ]
    },
    {
     "name": "stdout",
     "output_type": "stream",
     "text": [
      "10 Fold Training......\n",
      "[Epoch:    1] loss = 1.22113359\n",
      "[Epoch:   21] loss = 0.190957457\n",
      "[Epoch:   41] loss = 0.120721966\n",
      "[Epoch:   61] loss = 0.0863023028\n",
      "[Epoch:   81] loss = 0.0464561917\n",
      "[Epoch:  100] loss = 0.0387136005\n",
      "10 Fold -> Mean Valid Loss : 0.119613\n",
      "10 Fold -> Mean Valid accuracy : 0.956975\n"
     ]
    },
    {
     "name": "stderr",
     "output_type": "stream",
     "text": [
      "10it [08:38, 54.77s/it]"
     ]
    },
    {
     "name": "stdout",
     "output_type": "stream",
     "text": [
      "11 Fold Training......\n",
      "[Epoch:    1] loss = 1.34486914\n",
      "[Epoch:   21] loss = 0.262805343\n",
      "[Epoch:   41] loss = 0.0948042795\n",
      "[Epoch:   61] loss = 0.0647485331\n",
      "[Epoch:   81] loss = 0.0420575142\n",
      "[Epoch:  100] loss = 0.0710336566\n",
      "11 Fold -> Mean Valid Loss : 0.060428\n",
      "11 Fold -> Mean Valid accuracy : 0.975996\n"
     ]
    },
    {
     "name": "stderr",
     "output_type": "stream",
     "text": [
      "11it [09:31, 54.36s/it]"
     ]
    },
    {
     "name": "stdout",
     "output_type": "stream",
     "text": [
      "12 Fold Training......\n",
      "[Epoch:    1] loss = 1.36971498\n",
      "[Epoch:   21] loss = 0.281120747\n",
      "[Epoch:   41] loss = 0.152324677\n",
      "[Epoch:   61] loss = 0.098904863\n",
      "[Epoch:   81] loss = 0.0544994734\n",
      "[Epoch:  100] loss = 0.0822492614\n",
      "12 Fold -> Mean Valid Loss : 0.071704\n",
      "12 Fold -> Mean Valid accuracy : 0.971920\n"
     ]
    },
    {
     "name": "stderr",
     "output_type": "stream",
     "text": [
      "12it [10:20, 52.78s/it]"
     ]
    },
    {
     "name": "stdout",
     "output_type": "stream",
     "text": [
      "13 Fold Training......\n",
      "[Epoch:    1] loss = 1.25195181\n",
      "[Epoch:   21] loss = 0.238601282\n",
      "[Epoch:   41] loss = 0.163281858\n",
      "[Epoch:   61] loss = 0.0898292288\n",
      "[Epoch:   81] loss = 0.0710017383\n",
      "[Epoch:  100] loss = 0.0219975375\n",
      "13 Fold -> Mean Valid Loss : 0.002483\n",
      "13 Fold -> Mean Valid accuracy : 1.000000\n"
     ]
    },
    {
     "name": "stderr",
     "output_type": "stream",
     "text": [
      "13it [11:09, 51.54s/it]"
     ]
    },
    {
     "name": "stdout",
     "output_type": "stream",
     "text": [
      "14 Fold Training......\n",
      "[Epoch:    1] loss = 1.30532718\n",
      "[Epoch:   21] loss = 0.224212632\n",
      "[Epoch:   41] loss = 0.110390209\n",
      "[Epoch:   61] loss = 0.0451067574\n",
      "[Epoch:   81] loss = 0.0599729121\n",
      "[Epoch:  100] loss = 0.0571893677\n",
      "14 Fold -> Mean Valid Loss : 0.017025\n",
      "14 Fold -> Mean Valid accuracy : 0.994565\n"
     ]
    },
    {
     "name": "stderr",
     "output_type": "stream",
     "text": [
      "14it [11:59, 51.10s/it]"
     ]
    },
    {
     "name": "stdout",
     "output_type": "stream",
     "text": [
      "15 Fold Training......\n",
      "[Epoch:    1] loss = 1.29976344\n",
      "[Epoch:   21] loss = 0.231570661\n",
      "[Epoch:   41] loss = 0.156360418\n",
      "[Epoch:   61] loss = 0.030473927\n",
      "[Epoch:   81] loss = 0.0564520396\n",
      "[Epoch:  100] loss = 0.0265852027\n",
      "15 Fold -> Mean Valid Loss : 0.117527\n",
      "15 Fold -> Mean Valid accuracy : 0.961051\n"
     ]
    },
    {
     "name": "stderr",
     "output_type": "stream",
     "text": [
      "15it [13:01, 52.10s/it]\n"
     ]
    }
   ],
   "source": [
    "cnn_acc = [] ## fold별 valid셋의 평균 정확도\n",
    "cnn_pred = torch.tensor(np.zeros((X_test.shape[0], 4))) ## test예측값\n",
    "\n",
    "for i, (train_idx, valid_idx) in tqdm(enumerate(skfold.split(X_df, target))):\n",
    "    print(f'{i + 1} Fold Training......')\n",
    "    X_train, y_train = X_df[train_idx], target[train_idx]\n",
    "    X_valid, y_valid = X_df[valid_idx], target[valid_idx]\n",
    "    y_train = torch.tensor(y_train.to_numpy(), dtype=torch.int64) ## target을 텐서로 변환\n",
    "    y_valid = torch.tensor(y_valid.to_numpy(), dtype=torch.int64) ## target을 텐서로 변환\n",
    "    \n",
    "    ## CNN 모델\n",
    "    net = CNN()\n",
    "    net.apply(init_weights) ## Linear layer 가중치 초기화\n",
    "    \n",
    "    ## Dataset, Dataloader\n",
    "    train_dataset = TensorDataset(X_train, y_train)\n",
    "    valid_dataset = TensorDataset(X_valid, y_valid)\n",
    "    \n",
    "    train_dataloader = DataLoader(train_dataset, batch_size=batch_size, shuffle=True, drop_last=True)\n",
    "    valid_dataloader = DataLoader(train_dataset, batch_size=batch_size, shuffle=True)\n",
    "    \n",
    "    total_batch = len(train_dataloader) ## 배치 크기\n",
    "    \n",
    "    ## optimizer\n",
    "    optimizer = torch.optim.Adam(net.parameters(), lr=learning_rate) ## 옵티마이저에 최적화할 파라미터와 학습률 전달\n",
    "    \n",
    "    ## fold별로 모델 학습\n",
    "    net.train() ## 훈련모드\n",
    "    for epoch in range(epochs): \n",
    "        avg_loss = 0 ## train mean loss\n",
    "\n",
    "        for X, y in train_dataloader: ## 미니 배치 단위로 꺼내온다, X는 미니 배치, y는 레이블\n",
    "            optimizer.zero_grad() ## 그래디언트 초기화\n",
    "            yhat = net(X) ## y_hat을 구한다\n",
    "            loss = loss_fn(yhat, y) ## 오차를 계산 ## train loss\n",
    "            loss.backward()  ## 미분\n",
    "            optimizer.step() ## 업데이트\n",
    "            avg_loss += (loss / total_batch) ## 평균 오차 누적\n",
    "\n",
    "        if epoch % 20 == 0 or epoch == epochs - 1:\n",
    "            print('[Epoch: {:>4}] loss = {:>.9}'.format(epoch + 1, avg_loss)) ## 에폭마다 현재 훈련 오차 출력\n",
    "    \n",
    "    ## fold별로 모델 평가\n",
    "    net.eval() ## 평가모드\n",
    "    valid_loss = [] \n",
    "    acc_list = []\n",
    "\n",
    "    with torch.no_grad(): ## 평가할 땐 역전파를 쓸 필요가 없으니까\n",
    "        for X, y in valid_dataloader: \n",
    "            yhat = net(X)\n",
    "            loss = loss_fn(yhat, y) ## valid loss\n",
    "            acc = accuracy(y.detach().cpu().numpy(), yhat.detach().cpu().numpy().argmax(-1))                                                         \n",
    "            valid_loss.append(loss.cpu().numpy())\n",
    "            acc_list.append(acc)\n",
    "            \n",
    "    cnn_acc.append(np.mean(acc_list)) ## fold별 정확도\n",
    "            \n",
    "    print(f'{i + 1} Fold -> Mean Valid Loss : {np.mean(valid_loss):>8f}') ## fold별 평가 루프 종료시 평균 loss를 출력\n",
    "    print(f'{i + 1} Fold -> Mean Valid accuracy : {np.mean(acc_list):>8f}') ## fold별 평가 루프 종료시 accuracy를 출력\n",
    "    \n",
    "    ## fold별로 test 예측\n",
    "    net.eval() ## 평가모드\n",
    "    with torch.no_grad():\n",
    "        outputs = net(X_test) ## shape -> (9343, 4)\n",
    "        cnn_pred += outputs / skfold.n_splits"
   ]
  },
  {
   "cell_type": "code",
   "execution_count": 76,
   "id": "50dcef6d-1c52-499d-9e16-b7a015bbc6ae",
   "metadata": {},
   "outputs": [
    {
     "name": "stdout",
     "output_type": "stream",
     "text": [
      "평균 정확도: 0.9384762479871175\n"
     ]
    }
   ],
   "source": [
    "print('평균 정확도:', np.mean(cnn_acc))"
   ]
  },
  {
   "cell_type": "code",
   "execution_count": null,
   "id": "536a1062-b86a-4a5d-8d65-5852a21af50f",
   "metadata": {},
   "outputs": [],
   "source": []
  },
  {
   "cell_type": "code",
   "execution_count": 94,
   "id": "682ad34e-0491-4d76-965f-b531b43b14c1",
   "metadata": {},
   "outputs": [
    {
     "name": "stdout",
     "output_type": "stream",
     "text": [
      "평균 정확도: 0.9626308373590983\n"
     ]
    }
   ],
   "source": [
    "print('평균 정확도:', np.mean(cnn_acc))"
   ]
  },
  {
   "cell_type": "code",
   "execution_count": 79,
   "id": "a3127914-d4b2-43e3-b350-0f5462beb69c",
   "metadata": {},
   "outputs": [
    {
     "data": {
      "text/plain": [
       "torch.Size([9343, 4])"
      ]
     },
     "execution_count": 79,
     "metadata": {},
     "output_type": "execute_result"
    }
   ],
   "source": [
    "cnn_pred.shape"
   ]
  },
  {
   "cell_type": "markdown",
   "id": "22281f79-a43f-40b0-baeb-23ef225f86ad",
   "metadata": {},
   "source": [
    "`-` softmax function을 취하면 4개의 원소 중 최대값의 인덱스 번호가 최종 예측값이 된다"
   ]
  },
  {
   "cell_type": "code",
   "execution_count": 95,
   "id": "c700e4d9-8983-4677-9698-c12218acb76a",
   "metadata": {},
   "outputs": [],
   "source": [
    "_, pred = torch.max(cnn_pred, dim=1) ## 최대값과 인덱스를 반환\n",
    "## return (value, indices), 1차원을 기준으로 max를 구한다\n",
    "## 1차원을 기준으로 max를 구하므로 1차원을 없앤 9343개의 max가 반환된다\n",
    "## 행별로 4개의 값 중 최대값을 리턴(총 9343개)\n",
    "## 만약 dim=0으로 했다면 0번째 열~4번째 열별로 최대값을 구하므로 총 4개의 max값이 리턴됨"
   ]
  },
  {
   "cell_type": "code",
   "execution_count": 96,
   "id": "a0ff1a95-e6e3-406c-87c6-258837380de1",
   "metadata": {},
   "outputs": [],
   "source": [
    "submission = pd.read_csv('C:/Users/Jaesu/Dacon-Basic/손동작-분류/Data/sample_submission.csv')"
   ]
  },
  {
   "cell_type": "code",
   "execution_count": 97,
   "id": "def9e81f-bfac-40a1-a4f5-b97dffccca50",
   "metadata": {},
   "outputs": [
    {
     "data": {
      "text/html": [
       "<div>\n",
       "<style scoped>\n",
       "    .dataframe tbody tr th:only-of-type {\n",
       "        vertical-align: middle;\n",
       "    }\n",
       "\n",
       "    .dataframe tbody tr th {\n",
       "        vertical-align: top;\n",
       "    }\n",
       "\n",
       "    .dataframe thead th {\n",
       "        text-align: right;\n",
       "    }\n",
       "</style>\n",
       "<table border=\"1\" class=\"dataframe\">\n",
       "  <thead>\n",
       "    <tr style=\"text-align: right;\">\n",
       "      <th></th>\n",
       "      <th>id</th>\n",
       "      <th>target</th>\n",
       "    </tr>\n",
       "  </thead>\n",
       "  <tbody>\n",
       "    <tr>\n",
       "      <th>0</th>\n",
       "      <td>1</td>\n",
       "      <td>0</td>\n",
       "    </tr>\n",
       "    <tr>\n",
       "      <th>1</th>\n",
       "      <td>2</td>\n",
       "      <td>0</td>\n",
       "    </tr>\n",
       "    <tr>\n",
       "      <th>2</th>\n",
       "      <td>3</td>\n",
       "      <td>1</td>\n",
       "    </tr>\n",
       "    <tr>\n",
       "      <th>3</th>\n",
       "      <td>4</td>\n",
       "      <td>3</td>\n",
       "    </tr>\n",
       "    <tr>\n",
       "      <th>4</th>\n",
       "      <td>5</td>\n",
       "      <td>2</td>\n",
       "    </tr>\n",
       "  </tbody>\n",
       "</table>\n",
       "</div>"
      ],
      "text/plain": [
       "   id  target\n",
       "0   1       0\n",
       "1   2       0\n",
       "2   3       1\n",
       "3   4       3\n",
       "4   5       2"
      ]
     },
     "execution_count": 97,
     "metadata": {},
     "output_type": "execute_result"
    }
   ],
   "source": [
    "submission['target'] = pred\n",
    "submission.head()"
   ]
  },
  {
   "cell_type": "code",
   "execution_count": 98,
   "id": "94156a16-1fb5-4016-862e-37a3f6a02993",
   "metadata": {},
   "outputs": [],
   "source": [
    "submission.to_csv('C:/Users/Jaesu/github_desktop/Dacon-Basic/손동작-분류/Data/submission2_15fold.csv', index=False)"
   ]
  },
  {
   "cell_type": "code",
   "execution_count": null,
   "id": "bac8223c-0451-400b-974c-14f19b430abb",
   "metadata": {},
   "outputs": [],
   "source": []
  }
 ],
 "metadata": {
  "kernelspec": {
   "display_name": "Python 3 (ipykernel)",
   "language": "python",
   "name": "python3"
  },
  "language_info": {
   "codemirror_mode": {
    "name": "ipython",
    "version": 3
   },
   "file_extension": ".py",
   "mimetype": "text/x-python",
   "name": "python",
   "nbconvert_exporter": "python",
   "pygments_lexer": "ipython3",
   "version": "3.8.11"
  }
 },
 "nbformat": 4,
 "nbformat_minor": 5
}
