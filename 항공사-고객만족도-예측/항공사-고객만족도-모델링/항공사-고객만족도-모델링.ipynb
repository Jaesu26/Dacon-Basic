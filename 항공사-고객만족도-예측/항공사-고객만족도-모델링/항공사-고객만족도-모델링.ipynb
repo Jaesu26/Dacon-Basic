{
 "cells": [
  {
   "cell_type": "markdown",
   "id": "508ea008-4ffe-48ff-9535-480e442b09e4",
   "metadata": {},
   "source": [
    "# 항공사 고객 만족도 예측 경진대회"
   ]
  },
  {
   "cell_type": "markdown",
   "id": "6be2eea5-a2a7-4e6e-bfc4-479c5a6c0247",
   "metadata": {},
   "source": [
    "## 패키지 import 및 데이터 전처리"
   ]
  },
  {
   "cell_type": "code",
   "execution_count": 637,
   "id": "32c6493a-2404-4a84-ad9e-de9b1546396a",
   "metadata": {},
   "outputs": [],
   "source": [
    "import pandas as pd\n",
    "import numpy as np\n",
    "import matplotlib.pyplot as plt\n",
    "import seaborn as sns\n",
    "from sklearn.preprocessing import LabelEncoder\n",
    "import warnings\n",
    "\n",
    "warnings.filterwarnings('ignore')\n",
    "sns.set_theme()"
   ]
  },
  {
   "cell_type": "code",
   "execution_count": 2,
   "id": "dc34816c-eaa3-4aa6-a9e7-7db7eedc3f91",
   "metadata": {},
   "outputs": [],
   "source": [
    "pd.set_option('display.max_columns', None) ## 컬럼 전체를 출력하도록 설정"
   ]
  },
  {
   "cell_type": "code",
   "execution_count": 502,
   "id": "a222e83c-2c80-4238-9231-3a8dd805a5b5",
   "metadata": {},
   "outputs": [],
   "source": [
    "df = pd.read_csv('C:/Users/Jaesu/github_desktop/Dacon-Basic/항공사-고객만족도-예측/Data/train.csv')\n",
    "test = pd.read_csv('C:/Users/Jaesu/github_desktop/Dacon-Basic/항공사-고객만족도-예측/Data/test.csv')"
   ]
  },
  {
   "cell_type": "code",
   "execution_count": 83,
   "id": "f2e40136-414a-4313-813a-64e05aaa66d7",
   "metadata": {},
   "outputs": [
    {
     "data": {
      "text/html": [
       "<div>\n",
       "<style scoped>\n",
       "    .dataframe tbody tr th:only-of-type {\n",
       "        vertical-align: middle;\n",
       "    }\n",
       "\n",
       "    .dataframe tbody tr th {\n",
       "        vertical-align: top;\n",
       "    }\n",
       "\n",
       "    .dataframe thead th {\n",
       "        text-align: right;\n",
       "    }\n",
       "</style>\n",
       "<table border=\"1\" class=\"dataframe\">\n",
       "  <thead>\n",
       "    <tr style=\"text-align: right;\">\n",
       "      <th></th>\n",
       "      <th>id</th>\n",
       "      <th>Gender</th>\n",
       "      <th>Customer Type</th>\n",
       "      <th>Age</th>\n",
       "      <th>Type of Travel</th>\n",
       "      <th>Class</th>\n",
       "      <th>Flight Distance</th>\n",
       "      <th>Seat comfort</th>\n",
       "      <th>Departure/Arrival time convenient</th>\n",
       "      <th>Food and drink</th>\n",
       "      <th>Gate location</th>\n",
       "      <th>Inflight wifi service</th>\n",
       "      <th>Inflight entertainment</th>\n",
       "      <th>Online support</th>\n",
       "      <th>Ease of Online booking</th>\n",
       "      <th>On-board service</th>\n",
       "      <th>Leg room service</th>\n",
       "      <th>Baggage handling</th>\n",
       "      <th>Checkin service</th>\n",
       "      <th>Cleanliness</th>\n",
       "      <th>Online boarding</th>\n",
       "      <th>Departure Delay in Minutes</th>\n",
       "      <th>Arrival Delay in Minutes</th>\n",
       "      <th>target</th>\n",
       "    </tr>\n",
       "  </thead>\n",
       "  <tbody>\n",
       "    <tr>\n",
       "      <th>0</th>\n",
       "      <td>1</td>\n",
       "      <td>Female</td>\n",
       "      <td>disloyal Customer</td>\n",
       "      <td>22</td>\n",
       "      <td>Business travel</td>\n",
       "      <td>Eco</td>\n",
       "      <td>1599</td>\n",
       "      <td>3</td>\n",
       "      <td>0</td>\n",
       "      <td>3</td>\n",
       "      <td>3</td>\n",
       "      <td>4</td>\n",
       "      <td>3</td>\n",
       "      <td>4</td>\n",
       "      <td>4</td>\n",
       "      <td>5</td>\n",
       "      <td>4</td>\n",
       "      <td>4</td>\n",
       "      <td>4</td>\n",
       "      <td>5</td>\n",
       "      <td>4</td>\n",
       "      <td>0</td>\n",
       "      <td>0.0</td>\n",
       "      <td>0</td>\n",
       "    </tr>\n",
       "    <tr>\n",
       "      <th>1</th>\n",
       "      <td>2</td>\n",
       "      <td>Female</td>\n",
       "      <td>Loyal Customer</td>\n",
       "      <td>37</td>\n",
       "      <td>Business travel</td>\n",
       "      <td>Business</td>\n",
       "      <td>2810</td>\n",
       "      <td>2</td>\n",
       "      <td>4</td>\n",
       "      <td>4</td>\n",
       "      <td>4</td>\n",
       "      <td>1</td>\n",
       "      <td>4</td>\n",
       "      <td>3</td>\n",
       "      <td>5</td>\n",
       "      <td>5</td>\n",
       "      <td>4</td>\n",
       "      <td>2</td>\n",
       "      <td>1</td>\n",
       "      <td>5</td>\n",
       "      <td>2</td>\n",
       "      <td>18</td>\n",
       "      <td>18.0</td>\n",
       "      <td>0</td>\n",
       "    </tr>\n",
       "    <tr>\n",
       "      <th>2</th>\n",
       "      <td>3</td>\n",
       "      <td>Male</td>\n",
       "      <td>Loyal Customer</td>\n",
       "      <td>46</td>\n",
       "      <td>Business travel</td>\n",
       "      <td>Business</td>\n",
       "      <td>2622</td>\n",
       "      <td>1</td>\n",
       "      <td>1</td>\n",
       "      <td>1</td>\n",
       "      <td>1</td>\n",
       "      <td>4</td>\n",
       "      <td>5</td>\n",
       "      <td>5</td>\n",
       "      <td>4</td>\n",
       "      <td>4</td>\n",
       "      <td>4</td>\n",
       "      <td>4</td>\n",
       "      <td>5</td>\n",
       "      <td>4</td>\n",
       "      <td>3</td>\n",
       "      <td>0</td>\n",
       "      <td>0.0</td>\n",
       "      <td>1</td>\n",
       "    </tr>\n",
       "    <tr>\n",
       "      <th>3</th>\n",
       "      <td>4</td>\n",
       "      <td>Female</td>\n",
       "      <td>disloyal Customer</td>\n",
       "      <td>24</td>\n",
       "      <td>Business travel</td>\n",
       "      <td>Eco</td>\n",
       "      <td>2348</td>\n",
       "      <td>3</td>\n",
       "      <td>3</td>\n",
       "      <td>3</td>\n",
       "      <td>3</td>\n",
       "      <td>3</td>\n",
       "      <td>3</td>\n",
       "      <td>3</td>\n",
       "      <td>3</td>\n",
       "      <td>2</td>\n",
       "      <td>4</td>\n",
       "      <td>5</td>\n",
       "      <td>3</td>\n",
       "      <td>4</td>\n",
       "      <td>3</td>\n",
       "      <td>10</td>\n",
       "      <td>2.0</td>\n",
       "      <td>0</td>\n",
       "    </tr>\n",
       "    <tr>\n",
       "      <th>4</th>\n",
       "      <td>5</td>\n",
       "      <td>Female</td>\n",
       "      <td>Loyal Customer</td>\n",
       "      <td>58</td>\n",
       "      <td>Business travel</td>\n",
       "      <td>Business</td>\n",
       "      <td>105</td>\n",
       "      <td>3</td>\n",
       "      <td>3</td>\n",
       "      <td>3</td>\n",
       "      <td>3</td>\n",
       "      <td>4</td>\n",
       "      <td>4</td>\n",
       "      <td>5</td>\n",
       "      <td>4</td>\n",
       "      <td>4</td>\n",
       "      <td>4</td>\n",
       "      <td>4</td>\n",
       "      <td>4</td>\n",
       "      <td>4</td>\n",
       "      <td>5</td>\n",
       "      <td>0</td>\n",
       "      <td>0.0</td>\n",
       "      <td>1</td>\n",
       "    </tr>\n",
       "  </tbody>\n",
       "</table>\n",
       "</div>"
      ],
      "text/plain": [
       "   id  Gender      Customer Type  Age   Type of Travel     Class  \\\n",
       "0   1  Female  disloyal Customer   22  Business travel       Eco   \n",
       "1   2  Female     Loyal Customer   37  Business travel  Business   \n",
       "2   3    Male     Loyal Customer   46  Business travel  Business   \n",
       "3   4  Female  disloyal Customer   24  Business travel       Eco   \n",
       "4   5  Female     Loyal Customer   58  Business travel  Business   \n",
       "\n",
       "   Flight Distance  Seat comfort  Departure/Arrival time convenient  \\\n",
       "0             1599             3                                  0   \n",
       "1             2810             2                                  4   \n",
       "2             2622             1                                  1   \n",
       "3             2348             3                                  3   \n",
       "4              105             3                                  3   \n",
       "\n",
       "   Food and drink  Gate location  Inflight wifi service  \\\n",
       "0               3              3                      4   \n",
       "1               4              4                      1   \n",
       "2               1              1                      4   \n",
       "3               3              3                      3   \n",
       "4               3              3                      4   \n",
       "\n",
       "   Inflight entertainment  Online support  Ease of Online booking  \\\n",
       "0                       3               4                       4   \n",
       "1                       4               3                       5   \n",
       "2                       5               5                       4   \n",
       "3                       3               3                       3   \n",
       "4                       4               5                       4   \n",
       "\n",
       "   On-board service  Leg room service  Baggage handling  Checkin service  \\\n",
       "0                 5                 4                 4                4   \n",
       "1                 5                 4                 2                1   \n",
       "2                 4                 4                 4                5   \n",
       "3                 2                 4                 5                3   \n",
       "4                 4                 4                 4                4   \n",
       "\n",
       "   Cleanliness  Online boarding  Departure Delay in Minutes  \\\n",
       "0            5                4                           0   \n",
       "1            5                2                          18   \n",
       "2            4                3                           0   \n",
       "3            4                3                          10   \n",
       "4            4                5                           0   \n",
       "\n",
       "   Arrival Delay in Minutes  target  \n",
       "0                       0.0       0  \n",
       "1                      18.0       0  \n",
       "2                       0.0       1  \n",
       "3                       2.0       0  \n",
       "4                       0.0       1  "
      ]
     },
     "execution_count": 83,
     "metadata": {},
     "output_type": "execute_result"
    }
   ],
   "source": [
    "df.head()"
   ]
  },
  {
   "cell_type": "markdown",
   "id": "9ec2093a-a090-4898-9ef0-29447a56be17",
   "metadata": {},
   "source": [
    "|컬럼명|세부사항|\n",
    "|:-:|:-:|\n",
    "|id | 샘플 아이디|\n",
    "|Gender | 성별|\n",
    "|Customer Type | Disloyal 또는 Loyal 고객|\n",
    "|Age | 나이|\n",
    "|Type of Travel | Business 또는 Personal Travel\n",
    "|Class | 등급|\n",
    "|Flight Distance | 비행 거리|\n",
    "|Seat comfort | 좌석 만족도|\n",
    "|Departure/Arrival time convenient | 출발/도착 시간 편의성 만족도|\n",
    "|Food and drink | 식음료 만족도|\n",
    "|Gate location | 게이트 위치 만족도|\n",
    "|Inflight wifi service | 기내 와이파이 서비스 만족도|\n",
    "|Inflight entertainment | 기내 엔터테인먼트 만족도|\n",
    "|Online support |온라인 지원 만족도|\n",
    "|Ease of Online booking| 온라인 예매 편리성 만족도|\n",
    "|On-board service | 탑승 서비스 만족도|\n",
    "|Leg room service | Leg room 서비스 만족도|\n",
    "|Baggage handling | 수하물 처리 만족도|\n",
    "|Checkin service | 체크인 서비스 만족도|\n",
    "|Cleanliness | 청결도 만족도|\n",
    "|Online boarding | 온라인보딩 만족도|\n",
    "|Departure Delay in Minutes | 출발 지연 시간|\n",
    "|Arrival Delay in Minutes | 도착 지연 시간|\n",
    "|target | 만족 여부|"
   ]
  },
  {
   "cell_type": "code",
   "execution_count": 503,
   "id": "9beac9e1-4af1-45dc-99cf-e52e50562735",
   "metadata": {},
   "outputs": [],
   "source": [
    "df.drop('id', axis = 1, inplace = True) ## id는 필요없으니 제거\n",
    "test.drop('id', axis = 1, inplace = True) ## id는 필요없으니 제거"
   ]
  },
  {
   "cell_type": "markdown",
   "id": "67b4481d-d70e-4f4a-99f9-c3c43aae4141",
   "metadata": {},
   "source": [
    "`-` 나이는 범주화 시키겠다\n",
    "\n",
    "`-` 그런데 1\\~10과 71\\~80은 표본이 적은 관계로 다른 범주와 통합시키겠다"
   ]
  },
  {
   "cell_type": "code",
   "execution_count": 85,
   "id": "7be50488-f50a-4b1e-a68e-f2e2137e064c",
   "metadata": {},
   "outputs": [],
   "source": [
    "def categorize_age(age):\n",
    "    for i in range(2, 8):  ## 10살 이하여도 11~20 범주에 포함 \n",
    "        if age <= i*10:\n",
    "            return i-1  \n",
    "        \n",
    "    return 6  ## 71살 이상이면 61~70 범주에 포함 "
   ]
  },
  {
   "cell_type": "code",
   "execution_count": 505,
   "id": "4414e88c-67ee-40b1-ae99-212c4e16a651",
   "metadata": {},
   "outputs": [],
   "source": [
    "#df['Age'] = df['Age'].apply(lambda x: categorize_age(x)) \n",
    "df['Age'] = df['Age'].apply(lambda x: 0 if x <= 35 else 1) ## 35세 전후로 나눈다\n",
    "test['Age'] = test['Age'].apply(lambda x: 0 if x <= 35 else 1) ## 35세 전후로 나눈다"
   ]
  },
  {
   "cell_type": "code",
   "execution_count": 309,
   "id": "0222f105-7f8c-4a28-b1fe-fa4dd49d64d4",
   "metadata": {},
   "outputs": [
    {
     "data": {
      "text/plain": [
       "1    1793\n",
       "0    1207\n",
       "Name: Age, dtype: int64"
      ]
     },
     "execution_count": 309,
     "metadata": {},
     "output_type": "execute_result"
    }
   ],
   "source": [
    "df['Age'].value_counts()"
   ]
  },
  {
   "cell_type": "code",
   "execution_count": 310,
   "id": "067ae1b6-4a86-41c1-899f-93b3bbe93e6d",
   "metadata": {},
   "outputs": [
    {
     "data": {
      "text/plain": [
       "<AxesSubplot:xlabel='Age', ylabel='count'>"
      ]
     },
     "execution_count": 310,
     "metadata": {},
     "output_type": "execute_result"
    },
    {
     "data": {
      "image/png": "[encoded data removed]",
      "text/plain": [
       "<Figure size 432x288 with 1 Axes>"
      ]
     },
     "metadata": {},
     "output_type": "display_data"
    }
   ],
   "source": [
    "sns.countplot(x = 'Age', hue = 'target', data = df) "
   ]
  },
  {
   "cell_type": "markdown",
   "id": "a5f152fb-f465-48f4-9c74-21ea0e0bd1d5",
   "metadata": {},
   "source": [
    "`-` Eco plus는 Eco로 취급하자(등급이 비즈니스이냐 이코노미이냐가 중요함)"
   ]
  },
  {
   "cell_type": "code",
   "execution_count": 507,
   "id": "01bd8bfe-224e-421d-bd71-76164e56a6a9",
   "metadata": {},
   "outputs": [],
   "source": [
    "df['Class'] = df['Class'].apply(lambda x: 'Eco' if x == 'Eco Plus' else x)\n",
    "test['Class'] = test['Class'].apply(lambda x: 'Eco' if x == 'Eco Plus' else x)"
   ]
  },
  {
   "cell_type": "markdown",
   "id": "257eaa02-8ba0-423e-af36-8ddc921dc717",
   "metadata": {},
   "source": [
    "`-` EDA에서 확인바와 같이 비행거리도 범주화 시키겠다(킬로미터인지 마일인지는 모르겠음; 편의상 km라고 하자)\n",
    "\n",
    "`-` 1000km를 기준으로 가까우면 0, 멀면 1로 맵핑하겠다"
   ]
  },
  {
   "cell_type": "code",
   "execution_count": 508,
   "id": "f0291961-d564-4c37-be1c-3e38dfdc3e20",
   "metadata": {},
   "outputs": [],
   "source": [
    "df['Flight Distance'] = df['Flight Distance'].apply(lambda x: 0 if x <= 1000 else 1)\n",
    "test['Flight Distance'] = test['Flight Distance'].apply(lambda x: 0 if x <= 1000 else 1)"
   ]
  },
  {
   "cell_type": "code",
   "execution_count": 313,
   "id": "ad75420d-acd1-4497-b9ae-845c0b509dd1",
   "metadata": {},
   "outputs": [
    {
     "data": {
      "text/plain": [
       "1    2484\n",
       "0     516\n",
       "Name: Flight Distance, dtype: int64"
      ]
     },
     "execution_count": 313,
     "metadata": {},
     "output_type": "execute_result"
    }
   ],
   "source": [
    "df['Flight Distance'].value_counts()"
   ]
  },
  {
   "cell_type": "markdown",
   "id": "154c57fe-d260-41d3-9c8d-b5e9d0e4cd61",
   "metadata": {},
   "source": [
    "`-` 출발 시간 딜레이와 도착 시간 딜레이는 딜레이가 있으면 1, 없으면 0으로 코딩하겠다"
   ]
  },
  {
   "cell_type": "code",
   "execution_count": 513,
   "id": "b4ad093a-d923-44f8-a4b1-f68743b249d9",
   "metadata": {},
   "outputs": [],
   "source": [
    "df['Departure Delay in Minutes'] = df['Departure Delay in Minutes'].apply(lambda x: 1 if x > 0 else 0)\n",
    "df['Arrival Delay in Minutes'] = df['Arrival Delay in Minutes'].apply(lambda x: 1 if x > 0 else 0)\n",
    "\n",
    "test['Departure Delay in Minutes'] = test['Departure Delay in Minutes'].apply(lambda x: 1 if x > 0 else 0)\n",
    "test['Arrival Delay in Minutes'] = test['Arrival Delay in Minutes'].apply(lambda x: 1 if x > 0 else 0)"
   ]
  },
  {
   "cell_type": "code",
   "execution_count": 514,
   "id": "695afeb6-7de0-483e-9248-c13525df4838",
   "metadata": {},
   "outputs": [
    {
     "data": {
      "text/plain": [
       "2378"
      ]
     },
     "execution_count": 514,
     "metadata": {},
     "output_type": "execute_result"
    }
   ],
   "source": [
    "sum(df['Arrival Delay in Minutes'] == df['Departure Delay in Minutes'])"
   ]
  },
  {
   "cell_type": "markdown",
   "id": "1d008c1c-4587-4be3-84ca-2b2921072bb4",
   "metadata": {},
   "source": [
    "`-` 출발 시간 딜레이가 있으면 대체로 도착 시간 딜레이도 있다"
   ]
  },
  {
   "cell_type": "markdown",
   "id": "e22a2418-e5d8-4bed-92b2-7cb8202cc890",
   "metadata": {},
   "source": [
    "`-` 문자형 타입 변수를 수치형 타입으로 변환하자\n",
    "\n",
    "`-` 범주가 많아야 2개이므로 라벨인코딩을 하자(0 또는 1, 2는 unknown)"
   ]
  },
  {
   "cell_type": "code",
   "execution_count": 515,
   "id": "74059257-0cfb-436b-b766-4a3450d57bd8",
   "metadata": {},
   "outputs": [],
   "source": [
    "## 코드 출처 : https://dacon.io/competitions/official/235871/codeshare/4420?page=1&dtype=recent\n",
    "## 라벨인코딩을 하기 위함 dictionary map 생성 함수\n",
    "def make_label_map(df):\n",
    "    label_maps = {} ## 문자타입 컬럼들을 맵핑해줄 딕셔러니 집합 생성\n",
    "    for col in df.columns:\n",
    "        if df[col].dtype == 'object':\n",
    "            label_map = {'unknown':2} ## 빈 딕셔러니 생성\n",
    "            for i, key in enumerate(df[col].unique()):\n",
    "                label_map[key] = i  ## 새로 등장하는 유니크 값들에 대해 0부터 1씩 증가시켜 키값을 부여\n",
    "                \n",
    "            label_maps[col] = label_map  ## 하나의 컬럼에 대한 맵핑을 추가\n",
    "            \n",
    "    return label_maps\n",
    "\n",
    "## 각 범주형 변수에 인코딩 값을 부여하는 함수\n",
    "def label_encoder(df_, label_map):\n",
    "    df = df_.copy()\n",
    "    \n",
    "    for col in df.columns:\n",
    "        if df[col].dtype == 'object':\n",
    "            df[col] = df[col].map(label_map[col]) ## 맵핑\n",
    "            df[col] = df[col].fillna(label_map[col]['unknown']) ## 혹시 모를 결측값은 unknown의 값(2)으로 채움\n",
    "            \n",
    "    return df"
   ]
  },
  {
   "cell_type": "code",
   "execution_count": 516,
   "id": "1a3758d4-2699-4260-a232-076aee8e118c",
   "metadata": {},
   "outputs": [],
   "source": [
    "## train 데이터 라벨 인코딩\n",
    "label_map = make_label_map(df) ## train 사용해 label map 생성\n",
    "df = label_encoder(df, label_map) ## train 라벨 인코딩"
   ]
  },
  {
   "cell_type": "code",
   "execution_count": 517,
   "id": "de3e9084-6ff9-48b2-8482-a680252c5d3c",
   "metadata": {},
   "outputs": [
    {
     "data": {
      "text/plain": [
       "{'Gender': {'unknown': 2, 'Female': 0, 'Male': 1},\n",
       " 'Customer Type': {'unknown': 2, 'disloyal Customer': 0, 'Loyal Customer': 1},\n",
       " 'Type of Travel': {'unknown': 2, 'Business travel': 0, 'Personal Travel': 1},\n",
       " 'Class': {'unknown': 2, 'Eco': 0, 'Business': 1}}"
      ]
     },
     "execution_count": 517,
     "metadata": {},
     "output_type": "execute_result"
    }
   ],
   "source": [
    "label_map"
   ]
  },
  {
   "cell_type": "code",
   "execution_count": 518,
   "id": "a853f175-a699-4436-b6a5-e90ab4ee0002",
   "metadata": {},
   "outputs": [],
   "source": [
    "test = label_encoder(test, label_map) ## train 라벨 인코딩"
   ]
  },
  {
   "cell_type": "code",
   "execution_count": 321,
   "id": "7445a2bb-f2e8-4fd7-bc80-422b034da6e0",
   "metadata": {},
   "outputs": [
    {
     "data": {
      "text/html": [
       "<div>\n",
       "<style scoped>\n",
       "    .dataframe tbody tr th:only-of-type {\n",
       "        vertical-align: middle;\n",
       "    }\n",
       "\n",
       "    .dataframe tbody tr th {\n",
       "        vertical-align: top;\n",
       "    }\n",
       "\n",
       "    .dataframe thead th {\n",
       "        text-align: right;\n",
       "    }\n",
       "</style>\n",
       "<table border=\"1\" class=\"dataframe\">\n",
       "  <thead>\n",
       "    <tr style=\"text-align: right;\">\n",
       "      <th></th>\n",
       "      <th>Gender</th>\n",
       "      <th>Customer Type</th>\n",
       "      <th>Age</th>\n",
       "      <th>Type of Travel</th>\n",
       "      <th>Class</th>\n",
       "      <th>Flight Distance</th>\n",
       "      <th>Seat comfort</th>\n",
       "      <th>Departure/Arrival time convenient</th>\n",
       "      <th>Food and drink</th>\n",
       "      <th>Gate location</th>\n",
       "      <th>Inflight wifi service</th>\n",
       "      <th>Inflight entertainment</th>\n",
       "      <th>Online support</th>\n",
       "      <th>Ease of Online booking</th>\n",
       "      <th>On-board service</th>\n",
       "      <th>Leg room service</th>\n",
       "      <th>Baggage handling</th>\n",
       "      <th>Checkin service</th>\n",
       "      <th>Cleanliness</th>\n",
       "      <th>Online boarding</th>\n",
       "      <th>Departure Delay in Minutes</th>\n",
       "      <th>Arrival Delay in Minutes</th>\n",
       "      <th>Avg_service</th>\n",
       "      <th>target</th>\n",
       "    </tr>\n",
       "  </thead>\n",
       "  <tbody>\n",
       "    <tr>\n",
       "      <th>0</th>\n",
       "      <td>0</td>\n",
       "      <td>0</td>\n",
       "      <td>0</td>\n",
       "      <td>0</td>\n",
       "      <td>0</td>\n",
       "      <td>1</td>\n",
       "      <td>3</td>\n",
       "      <td>0</td>\n",
       "      <td>3</td>\n",
       "      <td>3</td>\n",
       "      <td>4</td>\n",
       "      <td>3</td>\n",
       "      <td>4</td>\n",
       "      <td>4</td>\n",
       "      <td>5</td>\n",
       "      <td>4</td>\n",
       "      <td>4</td>\n",
       "      <td>4</td>\n",
       "      <td>5</td>\n",
       "      <td>4</td>\n",
       "      <td>0</td>\n",
       "      <td>0</td>\n",
       "      <td>3.571429</td>\n",
       "      <td>0</td>\n",
       "    </tr>\n",
       "    <tr>\n",
       "      <th>1</th>\n",
       "      <td>0</td>\n",
       "      <td>1</td>\n",
       "      <td>1</td>\n",
       "      <td>0</td>\n",
       "      <td>1</td>\n",
       "      <td>1</td>\n",
       "      <td>2</td>\n",
       "      <td>4</td>\n",
       "      <td>4</td>\n",
       "      <td>4</td>\n",
       "      <td>1</td>\n",
       "      <td>4</td>\n",
       "      <td>3</td>\n",
       "      <td>5</td>\n",
       "      <td>5</td>\n",
       "      <td>4</td>\n",
       "      <td>2</td>\n",
       "      <td>1</td>\n",
       "      <td>5</td>\n",
       "      <td>2</td>\n",
       "      <td>1</td>\n",
       "      <td>1</td>\n",
       "      <td>3.285714</td>\n",
       "      <td>0</td>\n",
       "    </tr>\n",
       "    <tr>\n",
       "      <th>2</th>\n",
       "      <td>1</td>\n",
       "      <td>1</td>\n",
       "      <td>1</td>\n",
       "      <td>0</td>\n",
       "      <td>1</td>\n",
       "      <td>1</td>\n",
       "      <td>1</td>\n",
       "      <td>1</td>\n",
       "      <td>1</td>\n",
       "      <td>1</td>\n",
       "      <td>4</td>\n",
       "      <td>5</td>\n",
       "      <td>5</td>\n",
       "      <td>4</td>\n",
       "      <td>4</td>\n",
       "      <td>4</td>\n",
       "      <td>4</td>\n",
       "      <td>5</td>\n",
       "      <td>4</td>\n",
       "      <td>3</td>\n",
       "      <td>0</td>\n",
       "      <td>0</td>\n",
       "      <td>3.285714</td>\n",
       "      <td>1</td>\n",
       "    </tr>\n",
       "    <tr>\n",
       "      <th>3</th>\n",
       "      <td>0</td>\n",
       "      <td>0</td>\n",
       "      <td>0</td>\n",
       "      <td>0</td>\n",
       "      <td>0</td>\n",
       "      <td>1</td>\n",
       "      <td>3</td>\n",
       "      <td>3</td>\n",
       "      <td>3</td>\n",
       "      <td>3</td>\n",
       "      <td>3</td>\n",
       "      <td>3</td>\n",
       "      <td>3</td>\n",
       "      <td>3</td>\n",
       "      <td>2</td>\n",
       "      <td>4</td>\n",
       "      <td>5</td>\n",
       "      <td>3</td>\n",
       "      <td>4</td>\n",
       "      <td>3</td>\n",
       "      <td>1</td>\n",
       "      <td>1</td>\n",
       "      <td>3.214286</td>\n",
       "      <td>0</td>\n",
       "    </tr>\n",
       "    <tr>\n",
       "      <th>4</th>\n",
       "      <td>0</td>\n",
       "      <td>1</td>\n",
       "      <td>1</td>\n",
       "      <td>0</td>\n",
       "      <td>1</td>\n",
       "      <td>0</td>\n",
       "      <td>3</td>\n",
       "      <td>3</td>\n",
       "      <td>3</td>\n",
       "      <td>3</td>\n",
       "      <td>4</td>\n",
       "      <td>4</td>\n",
       "      <td>5</td>\n",
       "      <td>4</td>\n",
       "      <td>4</td>\n",
       "      <td>4</td>\n",
       "      <td>4</td>\n",
       "      <td>4</td>\n",
       "      <td>4</td>\n",
       "      <td>5</td>\n",
       "      <td>0</td>\n",
       "      <td>0</td>\n",
       "      <td>3.857143</td>\n",
       "      <td>1</td>\n",
       "    </tr>\n",
       "  </tbody>\n",
       "</table>\n",
       "</div>"
      ],
      "text/plain": [
       "   Gender  Customer Type  Age  Type of Travel  Class  Flight Distance  \\\n",
       "0       0              0    0               0      0                1   \n",
       "1       0              1    1               0      1                1   \n",
       "2       1              1    1               0      1                1   \n",
       "3       0              0    0               0      0                1   \n",
       "4       0              1    1               0      1                0   \n",
       "\n",
       "   Seat comfort  Departure/Arrival time convenient  Food and drink  \\\n",
       "0             3                                  0               3   \n",
       "1             2                                  4               4   \n",
       "2             1                                  1               1   \n",
       "3             3                                  3               3   \n",
       "4             3                                  3               3   \n",
       "\n",
       "   Gate location  Inflight wifi service  Inflight entertainment  \\\n",
       "0              3                      4                       3   \n",
       "1              4                      1                       4   \n",
       "2              1                      4                       5   \n",
       "3              3                      3                       3   \n",
       "4              3                      4                       4   \n",
       "\n",
       "   Online support  Ease of Online booking  On-board service  Leg room service  \\\n",
       "0               4                       4                 5                 4   \n",
       "1               3                       5                 5                 4   \n",
       "2               5                       4                 4                 4   \n",
       "3               3                       3                 2                 4   \n",
       "4               5                       4                 4                 4   \n",
       "\n",
       "   Baggage handling  Checkin service  Cleanliness  Online boarding  \\\n",
       "0                 4                4            5                4   \n",
       "1                 2                1            5                2   \n",
       "2                 4                5            4                3   \n",
       "3                 5                3            4                3   \n",
       "4                 4                4            4                5   \n",
       "\n",
       "   Departure Delay in Minutes  Arrival Delay in Minutes  Avg_service  target  \n",
       "0                           0                         0     3.571429       0  \n",
       "1                           1                         1     3.285714       0  \n",
       "2                           0                         0     3.285714       1  \n",
       "3                           1                         1     3.214286       0  \n",
       "4                           0                         0     3.857143       1  "
      ]
     },
     "execution_count": 321,
     "metadata": {},
     "output_type": "execute_result"
    }
   ],
   "source": [
    "df.head()"
   ]
  },
  {
   "cell_type": "markdown",
   "id": "da17c83f-2f0c-475e-9867-3703ffc2a8b8",
   "metadata": {},
   "source": [
    "`-` 모두 범주형 변수이다!"
   ]
  },
  {
   "cell_type": "markdown",
   "id": "068f230c-5c7c-49e3-b2d2-5aa84faeb719",
   "metadata": {},
   "source": [
    "## 간단한 모델링"
   ]
  },
  {
   "cell_type": "code",
   "execution_count": 638,
   "id": "aa69467f-714c-491d-8b9b-297341b0f319",
   "metadata": {},
   "outputs": [],
   "source": [
    "from sklearn.ensemble import RandomForestClassifier\n",
    "from sklearn.linear_model import LogisticRegression\n",
    "from catboost import CatBoostClassifier\n",
    "from xgboost import XGBClassifier\n",
    "from lightgbm import LGBMClassifier\n",
    "from sklearn.model_selection import cross_validate, StratifiedKFold"
   ]
  },
  {
   "cell_type": "code",
   "execution_count": 110,
   "id": "c88a81b6-7ccf-4b30-875f-527d33349be2",
   "metadata": {},
   "outputs": [],
   "source": [
    "def accuracy(true, pred):   \n",
    "    score = np.mean(true == pred)\n",
    "    return score"
   ]
  },
  {
   "cell_type": "code",
   "execution_count": 528,
   "id": "d9c4be13-9890-4b68-853a-a920f29ac0e9",
   "metadata": {},
   "outputs": [],
   "source": [
    "dt = df.copy()"
   ]
  },
  {
   "cell_type": "code",
   "execution_count": 529,
   "id": "6cfe6f74-82ec-48a6-8783-713eaf3f531c",
   "metadata": {},
   "outputs": [],
   "source": [
    "target = dt['target']\n",
    "dt.drop('target', axis = 1, inplace = True)"
   ]
  },
  {
   "cell_type": "code",
   "execution_count": 531,
   "id": "bda58783-566c-427a-ba48-798d59483490",
   "metadata": {},
   "outputs": [],
   "source": [
    "#dt.drop(['Departure Delay in Minutes', 'Arrival Delay in Minutes'], axis = 1, inplace = True)\n",
    "#dt.drop(['Avg_service'], axis = 1, inplace = True)"
   ]
  },
  {
   "cell_type": "code",
   "execution_count": 685,
   "id": "99f8cf26-2bc5-4866-9edb-0af3c68fadb4",
   "metadata": {},
   "outputs": [],
   "source": [
    "skfold = StratifiedKFold(n_splits = 5,  shuffle = True, random_state = 22)"
   ]
  },
  {
   "cell_type": "markdown",
   "id": "1ca0206e-ee40-4c8e-bc78-83ed32342cea",
   "metadata": {},
   "source": [
    "### 로지스틱 회귀"
   ]
  },
  {
   "cell_type": "code",
   "execution_count": 418,
   "id": "3c87aefc-cc02-4eb5-9cbf-c87b512a2979",
   "metadata": {},
   "outputs": [],
   "source": [
    "logistic_reg = LogisticRegression(random_state = 22, max_iter = 500) "
   ]
  },
  {
   "cell_type": "code",
   "execution_count": 419,
   "id": "ba51602a-e40c-4e7b-a25f-28fcba19e22a",
   "metadata": {},
   "outputs": [],
   "source": [
    "scores = cross_validate(logistic_reg, dt, target, return_train_score = True, scoring = 'accuracy', cv = skfold)"
   ]
  },
  {
   "cell_type": "code",
   "execution_count": 420,
   "id": "8953dc62-1308-450e-a4ed-d9fcd0fee5f1",
   "metadata": {},
   "outputs": [
    {
     "data": {
      "text/plain": [
       "(0.8467499999999999, 0.8383333333333333)"
      ]
     },
     "execution_count": 420,
     "metadata": {},
     "output_type": "execute_result"
    }
   ],
   "source": [
    "np.mean(scores['train_score']), np.mean(scores['test_score'])"
   ]
  },
  {
   "cell_type": "markdown",
   "id": "65fc4cc8-bbd4-444d-aa04-19998d614122",
   "metadata": {},
   "source": [
    "### 랜덤포레스트"
   ]
  },
  {
   "cell_type": "code",
   "execution_count": 421,
   "id": "0a2c9a03-1dea-4ff3-b6d1-a302f54b4bfc",
   "metadata": {},
   "outputs": [],
   "source": [
    "rf = RandomForestClassifier(random_state = 22)"
   ]
  },
  {
   "cell_type": "code",
   "execution_count": 422,
   "id": "c27c68ab-664e-49d0-b701-da53188e9e16",
   "metadata": {},
   "outputs": [
    {
     "data": {
      "text/plain": [
       "RandomForestClassifier(random_state=22)"
      ]
     },
     "execution_count": 422,
     "metadata": {},
     "output_type": "execute_result"
    }
   ],
   "source": [
    "rf.fit(dt, target)"
   ]
  },
  {
   "cell_type": "code",
   "execution_count": 423,
   "id": "6d2e9629-39d1-4b3f-845f-485547433e7e",
   "metadata": {},
   "outputs": [],
   "source": [
    "_ = pd.DataFrame(dict(zip(rf.feature_names_in_, rf.feature_importances_)), index = [0]).T.\\\n",
    "reset_index().rename(columns = {'index':'feature', 0:'importance'}).\\\n",
    "sort_values('importance', ascending = False)"
   ]
  },
  {
   "cell_type": "code",
   "execution_count": 424,
   "id": "e8cece14-3b16-4f99-a506-62d20930475f",
   "metadata": {},
   "outputs": [
    {
     "data": {
      "text/plain": [
       "<AxesSubplot:xlabel='importance', ylabel='feature'>"
      ]
     },
     "execution_count": 424,
     "metadata": {},
     "output_type": "execute_result"
    },
    {
     "data": {
      "image/png": "[encoded data removed]",
      "text/plain": [
       "<Figure size 432x288 with 1 Axes>"
      ]
     },
     "metadata": {},
     "output_type": "display_data"
    }
   ],
   "source": [
    "sns.barplot(y = 'feature', x = 'importance', data = _)"
   ]
  },
  {
   "cell_type": "markdown",
   "id": "832e1850-c2ed-4ada-9090-0cca6ddf08f3",
   "metadata": {},
   "source": [
    "`-` Inflight entertainment와 Seat comfort의 중요도 합이 0.3을 넘긴다"
   ]
  },
  {
   "cell_type": "code",
   "execution_count": 425,
   "id": "a5df95c9-45b9-40f7-8d4e-ff9b07034333",
   "metadata": {},
   "outputs": [],
   "source": [
    "scores = cross_validate(rf, dt, target, return_train_score = True, scoring = 'accuracy', cv = skfold)"
   ]
  },
  {
   "cell_type": "code",
   "execution_count": 426,
   "id": "abd7af51-7282-4488-8f2e-208f3619a85b",
   "metadata": {},
   "outputs": [
    {
     "data": {
      "text/plain": [
       "(0.9995, 0.9206666666666667)"
      ]
     },
     "execution_count": 426,
     "metadata": {},
     "output_type": "execute_result"
    }
   ],
   "source": [
    "np.mean(scores['train_score']), np.mean(scores['test_score'])"
   ]
  },
  {
   "cell_type": "markdown",
   "id": "c6ed8d63-d181-48f0-83de-a262366db767",
   "metadata": {},
   "source": [
    "### catboost"
   ]
  },
  {
   "cell_type": "code",
   "execution_count": 494,
   "id": "0c32394b-2002-4b19-98e2-de8a90b3f699",
   "metadata": {},
   "outputs": [],
   "source": [
    "cb = CatBoostClassifier(random_state = 22, learning_rate = 0.03, n_estimators = 1000, verbose = 0, max_depth = 6)"
   ]
  },
  {
   "cell_type": "code",
   "execution_count": 428,
   "id": "0b6f0477-6c7a-4ee4-bad6-6999695c141a",
   "metadata": {},
   "outputs": [],
   "source": [
    "scores = cross_validate(cb, dt, target, return_train_score = True, scoring = 'accuracy', cv = skfold)"
   ]
  },
  {
   "cell_type": "code",
   "execution_count": 429,
   "id": "df09de9d-bcf0-4be5-b7e5-5c8f2659205f",
   "metadata": {},
   "outputs": [
    {
     "data": {
      "text/plain": [
       "(0.9991666666666668, 0.9363333333333334)"
      ]
     },
     "execution_count": 429,
     "metadata": {},
     "output_type": "execute_result"
    }
   ],
   "source": [
    "np.mean(scores['train_score']), np.mean(scores['test_score'])"
   ]
  },
  {
   "cell_type": "code",
   "execution_count": 532,
   "id": "9ff0c88c-6786-4425-b00b-fa0bc9045d8a",
   "metadata": {},
   "outputs": [
    {
     "data": {
      "text/plain": [
       "<catboost.core.CatBoostClassifier at 0x245837f12e0>"
      ]
     },
     "execution_count": 532,
     "metadata": {},
     "output_type": "execute_result"
    }
   ],
   "source": [
    "cb.fit(dt, target)"
   ]
  },
  {
   "cell_type": "code",
   "execution_count": 533,
   "id": "3d6c8f04-5e87-40c1-82f9-ec40614c0cc8",
   "metadata": {},
   "outputs": [],
   "source": [
    "_ = pd.DataFrame(dict(zip(cb.feature_names_, cb.feature_importances_)), index = [0]).T.\\\n",
    "reset_index().rename(columns = {'index':'feature', 0:'importance'}).\\\n",
    "sort_values('importance', ascending = False)"
   ]
  },
  {
   "cell_type": "code",
   "execution_count": 534,
   "id": "3c61a968-aec2-472b-acaa-537f922633d5",
   "metadata": {},
   "outputs": [
    {
     "data": {
      "text/plain": [
       "<AxesSubplot:xlabel='importance', ylabel='feature'>"
      ]
     },
     "execution_count": 534,
     "metadata": {},
     "output_type": "execute_result"
    },
    {
     "data": {
      "image/png": "[encoded data removed]",
      "text/plain": [
       "<Figure size 432x288 with 1 Axes>"
      ]
     },
     "metadata": {},
     "output_type": "display_data"
    }
   ],
   "source": [
    "sns.barplot(y = 'feature', x = 'importance', data = _)"
   ]
  },
  {
   "cell_type": "markdown",
   "id": "6aba32e8-3258-49ad-a547-702e7118bfe5",
   "metadata": {},
   "source": [
    "`-` 만족도 점수들의 평균 피쳐를 만들겠다"
   ]
  },
  {
   "cell_type": "code",
   "execution_count": 535,
   "id": "f4de3dff-ed47-4f3c-957d-001ab0684a73",
   "metadata": {},
   "outputs": [],
   "source": [
    "service_features =\\\n",
    "list(set(df.columns.tolist()) -\\\n",
    "{'Gender', 'Customer Type', 'Age', 'Type of Travel', 'Class', 'Flight Distance', 'Departure Delay in Minutes', 'Arrival Delay in Minutes', 'target'})"
   ]
  },
  {
   "cell_type": "markdown",
   "id": "7fb84124-e9dc-49ef-a69d-da78cec7aa48",
   "metadata": {},
   "source": [
    "`-` 서비스 피쳐들의 평균을 새로운 파생변수로 만들자\n",
    "\n",
    "`-` 위의 중요도를 이용해 가중평균을 구하겠다"
   ]
  },
  {
   "cell_type": "code",
   "execution_count": 536,
   "id": "e701832b-cb1e-4437-b021-e335cf475a98",
   "metadata": {},
   "outputs": [],
   "source": [
    "dict_ = dict(zip(cb.feature_names_, cb.feature_importances_))"
   ]
  },
  {
   "cell_type": "code",
   "execution_count": 537,
   "id": "200f7c5f-0774-4564-91c1-52c1fec1c437",
   "metadata": {},
   "outputs": [],
   "source": [
    "dt['Avg_service'] = 0\n",
    "test['Avg_service'] = 0\n",
    "total = sum([dict_[qual] for qual in service_features])\n",
    "\n",
    "for qual_feature in service_features:\n",
    "    dt['Avg_service'] = dt['Avg_service'] + dt[qual_feature] * (dict_[qual_feature] / total)\n",
    "    test['Avg_service'] = test['Avg_service'] + test[qual_feature] * (dict_[qual_feature] / total)"
   ]
  },
  {
   "cell_type": "code",
   "execution_count": 540,
   "id": "f774a970-2d86-4f28-9daa-d267f7b503ce",
   "metadata": {},
   "outputs": [],
   "source": [
    "scores = cross_validate(cb, dt, target, return_train_score = True, scoring = 'accuracy', cv = skfold)"
   ]
  },
  {
   "cell_type": "code",
   "execution_count": 464,
   "id": "50b65348-7b28-460c-bba2-aaa660f95361",
   "metadata": {},
   "outputs": [
    {
     "data": {
      "text/plain": [
       "(0.9990833333333333, 0.9383333333333332)"
      ]
     },
     "execution_count": 464,
     "metadata": {},
     "output_type": "execute_result"
    }
   ],
   "source": [
    "np.mean(scores['train_score']), np.mean(scores['test_score'])"
   ]
  },
  {
   "cell_type": "code",
   "execution_count": 465,
   "id": "055ef72e-fe6d-442c-bdda-7993bb4d9ddd",
   "metadata": {},
   "outputs": [
    {
     "data": {
      "text/plain": [
       "<catboost.core.CatBoostClassifier at 0x245836ecc70>"
      ]
     },
     "execution_count": 465,
     "metadata": {},
     "output_type": "execute_result"
    }
   ],
   "source": [
    "cb.fit(dt, target)"
   ]
  },
  {
   "cell_type": "code",
   "execution_count": 466,
   "id": "7c53c49a-06d9-47b7-b657-22a0557851c0",
   "metadata": {},
   "outputs": [],
   "source": [
    "_ = pd.DataFrame(dict(zip(cb.feature_names_, cb.feature_importances_)), index = [0]).T.\\\n",
    "reset_index().rename(columns = {'index':'feature', 0:'importance'}).\\\n",
    "sort_values('importance', ascending = False)"
   ]
  },
  {
   "cell_type": "code",
   "execution_count": 467,
   "id": "7d979ce3-92d1-49e0-b42f-7ab413d4602a",
   "metadata": {},
   "outputs": [
    {
     "data": {
      "text/plain": [
       "<AxesSubplot:xlabel='importance', ylabel='feature'>"
      ]
     },
     "execution_count": 467,
     "metadata": {},
     "output_type": "execute_result"
    },
    {
     "data": {
      "image/png": "[encoded data removed]",
      "text/plain": [
       "<Figure size 432x288 with 1 Axes>"
      ]
     },
     "metadata": {},
     "output_type": "display_data"
    }
   ],
   "source": [
    "sns.barplot(y = 'feature', x = 'importance', data = _)"
   ]
  },
  {
   "cell_type": "markdown",
   "id": "264dfe06-533f-4fb2-95d5-3ec303b3a91c",
   "metadata": {},
   "source": [
    "### xgboost"
   ]
  },
  {
   "cell_type": "code",
   "execution_count": 775,
   "id": "82a4a80c-0e62-4077-b17d-75e51fdb77d4",
   "metadata": {},
   "outputs": [],
   "source": [
    "xgb = XGBClassifier(random_state = 22, learning_rate = 0.03, n_estimators = 600, max_depth = 7)"
   ]
  },
  {
   "cell_type": "code",
   "execution_count": 776,
   "id": "06e3358b-e731-440d-b5c9-e1be97385b2c",
   "metadata": {},
   "outputs": [
    {
     "name": "stdout",
     "output_type": "stream",
     "text": [
      "[03:53:49] WARNING: ..\\src\\learner.cc:1115: Starting in XGBoost 1.3.0, the default evaluation metric used with the objective 'binary:logistic' was changed from 'error' to 'logloss'. Explicitly set eval_metric if you'd like to restore the old behavior.\n",
      "[03:53:51] WARNING: ..\\src\\learner.cc:1115: Starting in XGBoost 1.3.0, the default evaluation metric used with the objective 'binary:logistic' was changed from 'error' to 'logloss'. Explicitly set eval_metric if you'd like to restore the old behavior.\n",
      "[03:53:53] WARNING: ..\\src\\learner.cc:1115: Starting in XGBoost 1.3.0, the default evaluation metric used with the objective 'binary:logistic' was changed from 'error' to 'logloss'. Explicitly set eval_metric if you'd like to restore the old behavior.\n",
      "[03:53:55] WARNING: ..\\src\\learner.cc:1115: Starting in XGBoost 1.3.0, the default evaluation metric used with the objective 'binary:logistic' was changed from 'error' to 'logloss'. Explicitly set eval_metric if you'd like to restore the old behavior.\n",
      "[03:53:56] WARNING: ..\\src\\learner.cc:1115: Starting in XGBoost 1.3.0, the default evaluation metric used with the objective 'binary:logistic' was changed from 'error' to 'logloss'. Explicitly set eval_metric if you'd like to restore the old behavior.\n"
     ]
    }
   ],
   "source": [
    "scores = cross_validate(xgb, dt, target, return_train_score = True, scoring = 'accuracy', cv = skfold)"
   ]
  },
  {
   "cell_type": "code",
   "execution_count": 777,
   "id": "8327d784-c22b-4336-b84f-23bd560c946b",
   "metadata": {},
   "outputs": [
    {
     "data": {
      "text/plain": [
       "(0.9989166666666666, 0.933)"
      ]
     },
     "execution_count": 777,
     "metadata": {},
     "output_type": "execute_result"
    }
   ],
   "source": [
    "np.mean(scores['train_score']), np.mean(scores['test_score'])"
   ]
  },
  {
   "cell_type": "markdown",
   "id": "451b753d-6950-4c1e-b41d-3cfda3ee3e07",
   "metadata": {},
   "source": [
    "### lgbm"
   ]
  },
  {
   "cell_type": "code",
   "execution_count": 759,
   "id": "a776fc49-dcc3-4e25-8121-845bffc2c9bf",
   "metadata": {},
   "outputs": [],
   "source": [
    "lgbm = LGBMClassifier(random_state = 22, learning_rate = 0.03, n_estimators = 600, max_depth = 8)"
   ]
  },
  {
   "cell_type": "code",
   "execution_count": 760,
   "id": "45415839-768f-48b3-9511-46407747eff0",
   "metadata": {},
   "outputs": [],
   "source": [
    "scores = cross_validate(lgbm, dt, target, return_train_score = True, scoring = 'accuracy', cv = skfold)"
   ]
  },
  {
   "cell_type": "code",
   "execution_count": 761,
   "id": "12835040-8c44-4064-b08a-c2854fe81a6b",
   "metadata": {},
   "outputs": [
    {
     "data": {
      "text/plain": [
       "(0.9995, 0.93)"
      ]
     },
     "execution_count": 761,
     "metadata": {},
     "output_type": "execute_result"
    }
   ],
   "source": [
    "np.mean(scores['train_score']), np.mean(scores['test_score'])"
   ]
  },
  {
   "cell_type": "markdown",
   "id": "37d6950b-571f-4829-876d-4c59378b02b5",
   "metadata": {},
   "source": [
    "### test 예측"
   ]
  },
  {
   "cell_type": "markdown",
   "id": "ba7c5505-875d-4e42-bc78-7e90bb3b644e",
   "metadata": {},
   "source": [
    "`-` 캣부스트를 사용해 test를 예측하자"
   ]
  },
  {
   "cell_type": "code",
   "execution_count": 762,
   "id": "1bec5e07-050c-497d-9b3d-b8f65d49dd24",
   "metadata": {},
   "outputs": [],
   "source": [
    "skfold = StratifiedKFold(n_splits = 10,  shuffle = True, random_state = 22)"
   ]
  },
  {
   "cell_type": "code",
   "execution_count": 763,
   "id": "31a48d14-4bc0-4400-ad11-69ed03a47e63",
   "metadata": {},
   "outputs": [],
   "source": [
    "threshold = 0.48 ## 주어진 데이터에서 만족이 55.6% 불만족이 44.4% 이다"
   ]
  },
  {
   "cell_type": "code",
   "execution_count": 681,
   "id": "80364f55-2ade-4e5c-9d5d-a76912c1455a",
   "metadata": {},
   "outputs": [],
   "source": [
    "cb_valid = []\n",
    "cb_predict = np.zeros(test.shape[0])\n",
    "\n",
    "for train_idx, valid_idx in skfold.split(dt, target):\n",
    "    x_train, y_train = dt.iloc[train_idx], target.iloc[train_idx]\n",
    "    x_valid, y_valid = dt.iloc[valid_idx], target.iloc[valid_idx]\n",
    "    \n",
    "    cb = CatBoostClassifier(random_state = 22, learning_rate = 0.03, n_estimators = 3000, verbose = 0, max_depth = 6)\n",
    "    cb.fit(x_train, y_train, early_stopping_rounds = 300, verbose = 0)\n",
    "    \n",
    "    y_predict = (cb.predict_proba(x_valid)[:,1] > threshold).astype(int) ## 만족일 확률이 0.5 이상이면 1 아니면 0 ## valid셋 예측\n",
    "    test_predict = cb.predict_proba(test)[:,1]  ## 1(만족)일 확률 ## test셋 예측\n",
    "\n",
    "    cb_valid.append(accuracy(y_predict, y_valid)) ## valid 예측값\n",
    "    cb_predict += test_predict / 10 ## test 예측값(10 Fold)"
   ]
  },
  {
   "cell_type": "code",
   "execution_count": 591,
   "id": "ea0d074e-8f86-4752-8836-af0c50cdd4d2",
   "metadata": {},
   "outputs": [
    {
     "data": {
      "text/plain": [
       "(0.9396666666666667, 0.0188826787176914)"
      ]
     },
     "execution_count": 591,
     "metadata": {},
     "output_type": "execute_result"
    }
   ],
   "source": [
    "np.mean(cb_valid), np.std(cb_valid) # threshold 0.46\n",
    "#cb = CatBoostClassifier(random_state = 22, learning_rate = 0.03, n_estimators = 3000, verbose = 0, max_depth = 6)\n",
    "#cb.fit(x_train, y_train, early_stopping_rounds = 300, verbose = 0)"
   ]
  },
  {
   "cell_type": "code",
   "execution_count": 679,
   "id": "aa989f46-aec5-4f56-804d-99e9ca7e8cf5",
   "metadata": {},
   "outputs": [
    {
     "data": {
      "text/plain": [
       "(0.9406666666666668, 0.02037427571991484)"
      ]
     },
     "execution_count": 679,
     "metadata": {},
     "output_type": "execute_result"
    }
   ],
   "source": [
    "np.mean(cb_valid), np.std(cb_valid) # threshold 0.47\n",
    "#cb = CatBoostClassifier(random_state = 22, learning_rate = 0.03, n_estimators = 1000, verbose = 0, max_depth = 6)\n",
    "#cb.fit(x_train, y_train, early_stopping_rounds = 100, verbose = 0)\n",
    "# 학습 횟수 3000 ---> 1000이 더 낫다"
   ]
  },
  {
   "cell_type": "code",
   "execution_count": 682,
   "id": "0c9bc8ba-f069-42d2-87cf-7409031d844e",
   "metadata": {},
   "outputs": [
    {
     "data": {
      "text/plain": [
       "(0.9406666666666668, 0.02037427571991484)"
      ]
     },
     "execution_count": 682,
     "metadata": {},
     "output_type": "execute_result"
    }
   ],
   "source": [
    "np.mean(cb_valid), np.std(cb_valid) # threshold 0.48\n",
    "#cb = CatBoostClassifier(random_state = 22, learning_rate = 0.03, n_estimators = 1000, verbose = 0, max_depth = 6)\n",
    "#cb.fit(x_train, y_train, early_stopping_rounds = 100, verbose = 0)"
   ]
  },
  {
   "cell_type": "code",
   "execution_count": 610,
   "id": "9b7f1c21-97da-4fec-9a3a-675641e1979d",
   "metadata": {},
   "outputs": [
    {
     "data": {
      "text/plain": [
       "(0.9393333333333332, 0.020805982045769663)"
      ]
     },
     "execution_count": 610,
     "metadata": {},
     "output_type": "execute_result"
    }
   ],
   "source": [
    "np.mean(cb_valid), np.std(cb_valid) # threshold 0.49\n",
    "#cb = CatBoostClassifier(random_state = 22, learning_rate = 0.03, n_estimators = 3000, verbose = 0, max_depth = 6)\n",
    "#cb.fit(x_train, y_train, early_stopping_rounds = 300, verbose = 0)"
   ]
  },
  {
   "cell_type": "code",
   "execution_count": 577,
   "id": "af6cb390-2a51-4f2f-ad66-e0c3370e6cb8",
   "metadata": {},
   "outputs": [
    {
     "data": {
      "text/plain": [
       "(0.9393333333333335, 0.020428737928059423)"
      ]
     },
     "execution_count": 577,
     "metadata": {},
     "output_type": "execute_result"
    }
   ],
   "source": [
    "np.mean(cb_valid), np.std(cb_valid) # threshold 0.5\n",
    "#cb = CatBoostClassifier(random_state = 22, learning_rate = 0.03, n_estimators = 3000, verbose = 0, max_depth = 6)\n",
    "#cb.fit(x_train, y_train, early_stopping_rounds = 300, verbose = 0)"
   ]
  },
  {
   "cell_type": "code",
   "execution_count": 578,
   "id": "db8da7aa-d3e8-48df-84f9-ff4fccd272a1",
   "metadata": {},
   "outputs": [],
   "source": [
    "submission = pd.read_csv('C:/Users/Jaesu/github_desktop/Dacon-Basic/항공사-고객만족도-예측/Data/sample_submission.csv')"
   ]
  },
  {
   "cell_type": "code",
   "execution_count": 592,
   "id": "887fcb78-8db3-471f-b6de-379a67032fd1",
   "metadata": {},
   "outputs": [],
   "source": [
    "pred = (cb_predict > threshold).astype(int) ## 만족일 확률이 threshold보다 높으면 1(만족) 아니면 0(불만족)"
   ]
  },
  {
   "cell_type": "code",
   "execution_count": 593,
   "id": "292df989-9794-4288-a41e-0ecf4077a0a9",
   "metadata": {},
   "outputs": [
    {
     "data": {
      "text/html": [
       "<div>\n",
       "<style scoped>\n",
       "    .dataframe tbody tr th:only-of-type {\n",
       "        vertical-align: middle;\n",
       "    }\n",
       "\n",
       "    .dataframe tbody tr th {\n",
       "        vertical-align: top;\n",
       "    }\n",
       "\n",
       "    .dataframe thead th {\n",
       "        text-align: right;\n",
       "    }\n",
       "</style>\n",
       "<table border=\"1\" class=\"dataframe\">\n",
       "  <thead>\n",
       "    <tr style=\"text-align: right;\">\n",
       "      <th></th>\n",
       "      <th>id</th>\n",
       "      <th>target</th>\n",
       "    </tr>\n",
       "  </thead>\n",
       "  <tbody>\n",
       "    <tr>\n",
       "      <th>0</th>\n",
       "      <td>1</td>\n",
       "      <td>1</td>\n",
       "    </tr>\n",
       "    <tr>\n",
       "      <th>1</th>\n",
       "      <td>2</td>\n",
       "      <td>0</td>\n",
       "    </tr>\n",
       "    <tr>\n",
       "      <th>2</th>\n",
       "      <td>3</td>\n",
       "      <td>1</td>\n",
       "    </tr>\n",
       "    <tr>\n",
       "      <th>3</th>\n",
       "      <td>4</td>\n",
       "      <td>1</td>\n",
       "    </tr>\n",
       "    <tr>\n",
       "      <th>4</th>\n",
       "      <td>5</td>\n",
       "      <td>1</td>\n",
       "    </tr>\n",
       "  </tbody>\n",
       "</table>\n",
       "</div>"
      ],
      "text/plain": [
       "   id  target\n",
       "0   1       1\n",
       "1   2       0\n",
       "2   3       1\n",
       "3   4       1\n",
       "4   5       1"
      ]
     },
     "execution_count": 593,
     "metadata": {},
     "output_type": "execute_result"
    }
   ],
   "source": [
    "## 위에서 구한 예측값을 그대로 넣어줌\n",
    "submission['target'] = pred\n",
    "\n",
    "## 데이터가 잘 들어갔는지 확인\n",
    "submission.head()"
   ]
  },
  {
   "cell_type": "code",
   "execution_count": 585,
   "id": "0541ce08-d555-4d1a-8c3c-51709cda40da",
   "metadata": {},
   "outputs": [],
   "source": [
    "## submission을 csv 파일로 저장\n",
    "submission.to_csv('C:/Users/Jaesu/github_desktop/Dacon-Basic/항공사-고객만족도-예측/Data/submission1.csv', index = False)"
   ]
  },
  {
   "cell_type": "markdown",
   "id": "f2edefa6-7ac7-4bed-9b3e-78a4c5cc41ac",
   "metadata": {},
   "source": [
    "`-` xgb, lgbm, catboost를 앙상블해서\n",
    "\n",
    "`-` test를 예측해보자"
   ]
  },
  {
   "cell_type": "code",
   "execution_count": 762,
   "id": "088b2b6a-f7d0-4949-bf6f-17c838918b42",
   "metadata": {},
   "outputs": [],
   "source": [
    "skfold = StratifiedKFold(n_splits = 10,  shuffle = True, random_state = 22)"
   ]
  },
  {
   "cell_type": "code",
   "execution_count": 764,
   "id": "33988827-3fda-4f76-9316-589bd57bcdd3",
   "metadata": {},
   "outputs": [],
   "source": [
    "threshold = 0.48 ## 주어진 데이터에서 만족이 55.6% 불만족이 44.4% 이다"
   ]
  },
  {
   "cell_type": "markdown",
   "id": "e144796a-d60d-4d84-8112-c4896747e8ae",
   "metadata": {},
   "source": [
    "`-` catboost"
   ]
  },
  {
   "cell_type": "code",
   "execution_count": 765,
   "id": "1e4e912b-84e9-45e9-9760-f2715e382899",
   "metadata": {},
   "outputs": [],
   "source": [
    "cb_valid = []\n",
    "cb_predict = np.zeros(test.shape[0])\n",
    "\n",
    "for train_idx, valid_idx in skfold.split(dt, target):\n",
    "    x_train, y_train = dt.iloc[train_idx], target.iloc[train_idx]\n",
    "    x_valid, y_valid = dt.iloc[valid_idx], target.iloc[valid_idx]\n",
    "    \n",
    "    cb = CatBoostClassifier(random_state = 22, learning_rate = 0.03, n_estimators = 1000, verbose = 0, max_depth = 6)\n",
    "    cb.fit(x_train, y_train, early_stopping_rounds = 100, verbose = 0)\n",
    "    \n",
    "    y_predict = (cb.predict_proba(x_valid)[:,1] > threshold).astype(int) ## 만족일 확률이 0.5 이상이면 1 아니면 0 ## valid셋 예측\n",
    "    test_predict = cb.predict_proba(test)[:,1]  ## 1(만족)일 확률 ## test셋 예측\n",
    "\n",
    "    cb_valid.append(accuracy(y_predict, y_valid)) ## valid 예측값\n",
    "    cb_predict += test_predict / 10 ## test 예측값(10 Fold)"
   ]
  },
  {
   "cell_type": "markdown",
   "id": "afaedb04-c0f7-43ad-92b4-915a7fcf1083",
   "metadata": {},
   "source": [
    "`-` xgboost"
   ]
  },
  {
   "cell_type": "code",
   "execution_count": 767,
   "id": "bb4d0e08-0254-4291-bfef-3f967d5d1342",
   "metadata": {},
   "outputs": [
    {
     "name": "stdout",
     "output_type": "stream",
     "text": [
      "[03:51:30] WARNING: ..\\src\\learner.cc:1115: Starting in XGBoost 1.3.0, the default evaluation metric used with the objective 'binary:logistic' was changed from 'error' to 'logloss'. Explicitly set eval_metric if you'd like to restore the old behavior.\n",
      "[03:51:32] WARNING: ..\\src\\learner.cc:1115: Starting in XGBoost 1.3.0, the default evaluation metric used with the objective 'binary:logistic' was changed from 'error' to 'logloss'. Explicitly set eval_metric if you'd like to restore the old behavior.\n",
      "[03:51:34] WARNING: ..\\src\\learner.cc:1115: Starting in XGBoost 1.3.0, the default evaluation metric used with the objective 'binary:logistic' was changed from 'error' to 'logloss'. Explicitly set eval_metric if you'd like to restore the old behavior.\n",
      "[03:51:36] WARNING: ..\\src\\learner.cc:1115: Starting in XGBoost 1.3.0, the default evaluation metric used with the objective 'binary:logistic' was changed from 'error' to 'logloss'. Explicitly set eval_metric if you'd like to restore the old behavior.\n",
      "[03:51:39] WARNING: ..\\src\\learner.cc:1115: Starting in XGBoost 1.3.0, the default evaluation metric used with the objective 'binary:logistic' was changed from 'error' to 'logloss'. Explicitly set eval_metric if you'd like to restore the old behavior.\n",
      "[03:51:41] WARNING: ..\\src\\learner.cc:1115: Starting in XGBoost 1.3.0, the default evaluation metric used with the objective 'binary:logistic' was changed from 'error' to 'logloss'. Explicitly set eval_metric if you'd like to restore the old behavior.\n",
      "[03:51:43] WARNING: ..\\src\\learner.cc:1115: Starting in XGBoost 1.3.0, the default evaluation metric used with the objective 'binary:logistic' was changed from 'error' to 'logloss'. Explicitly set eval_metric if you'd like to restore the old behavior.\n",
      "[03:51:45] WARNING: ..\\src\\learner.cc:1115: Starting in XGBoost 1.3.0, the default evaluation metric used with the objective 'binary:logistic' was changed from 'error' to 'logloss'. Explicitly set eval_metric if you'd like to restore the old behavior.\n",
      "[03:51:47] WARNING: ..\\src\\learner.cc:1115: Starting in XGBoost 1.3.0, the default evaluation metric used with the objective 'binary:logistic' was changed from 'error' to 'logloss'. Explicitly set eval_metric if you'd like to restore the old behavior.\n",
      "[03:51:49] WARNING: ..\\src\\learner.cc:1115: Starting in XGBoost 1.3.0, the default evaluation metric used with the objective 'binary:logistic' was changed from 'error' to 'logloss'. Explicitly set eval_metric if you'd like to restore the old behavior.\n"
     ]
    }
   ],
   "source": [
    "xgb_valid = []\n",
    "xgb_predict = np.zeros(test.shape[0])\n",
    "\n",
    "for train_idx, valid_idx in skfold.split(dt, target):\n",
    "    x_train, y_train = dt.iloc[train_idx], target.iloc[train_idx]\n",
    "    x_valid, y_valid = dt.iloc[valid_idx], target.iloc[valid_idx]\n",
    "    \n",
    "    xgb = XGBClassifier(random_state = 22, learning_rate = 0.03, n_estimators = 600, max_depth = 7)\n",
    "    xgb.fit(x_train, y_train)\n",
    "    \n",
    "    y_predict = (xgb.predict_proba(x_valid)[:,1] > threshold).astype(int) ## 만족일 확률이 0.5 이상이면 1 아니면 0 ## valid셋 예측\n",
    "    test_predict = xgb.predict_proba(test)[:,1]  ## 1(만족)일 확률 ## test셋 예측\n",
    "\n",
    "    xgb_valid.append(accuracy(y_predict, y_valid)) ## valid 예측값\n",
    "    xgb_predict += test_predict / 10 ## test 예측값(10 Fold)"
   ]
  },
  {
   "cell_type": "code",
   "execution_count": 768,
   "id": "ae5a6b1e-ce0b-4f4f-8e13-675957096e80",
   "metadata": {},
   "outputs": [],
   "source": [
    "lgbm_valid = []\n",
    "lgbm_predict = np.zeros(test.shape[0])\n",
    "\n",
    "for train_idx, valid_idx in skfold.split(dt, target):\n",
    "    x_train, y_train = dt.iloc[train_idx], target.iloc[train_idx]\n",
    "    x_valid, y_valid = dt.iloc[valid_idx], target.iloc[valid_idx]\n",
    "    \n",
    "    lgbm = LGBMClassifier(random_state = 22, learning_rate = 0.03, n_estimators = 600, max_depth = 8)\n",
    "    lgbm.fit(x_train, y_train)\n",
    "    \n",
    "    y_predict = (lgbm.predict_proba(x_valid)[:,1] > threshold).astype(int) ## 만족일 확률이 0.5 이상이면 1 아니면 0 ## valid셋 예측\n",
    "    test_predict = lgbm.predict_proba(test)[:,1]  ## 1(만족)일 확률 ## test셋 예측\n",
    "\n",
    "    lgbm_valid.append(accuracy(y_predict, y_valid)) ## valid 예측값\n",
    "    lgbm_predict += test_predict / 10 ## test 예측값(10 Fold)"
   ]
  },
  {
   "cell_type": "code",
   "execution_count": 780,
   "id": "067b0864-e537-4869-9cd5-52d3fbf92162",
   "metadata": {},
   "outputs": [
    {
     "data": {
      "text/plain": [
       "(0.9406666666666668, 0.9283333333333333, 0.931)"
      ]
     },
     "execution_count": 780,
     "metadata": {},
     "output_type": "execute_result"
    }
   ],
   "source": [
    "# cb = CatBoostClassifier(random_state = 22, learning_rate = 0.03, n_estimators = 1000, verbose = 0, max_depth = 6)\n",
    "# cb.fit(x_train, y_train, early_stopping_rounds = 100, verbose = 0)\n",
    "# xgb = XGBClassifier(random_state = 22, learning_rate = 0.03, n_estimators = 600, max_depth = 7)\n",
    "# lgbm = LGBMClassifier(random_state = 22, learning_rate = 0.03, n_estimators = 600, max_depth = 8)\n",
    "\n",
    "np.mean(cb_valid), np.mean(xgb_valid), np.mean(lgbm_valid)"
   ]
  },
  {
   "cell_type": "code",
   "execution_count": 781,
   "id": "db792bc9-45f6-43c1-838f-7ea9f9112bb9",
   "metadata": {},
   "outputs": [
    {
     "data": {
      "text/plain": [
       "(0.02037427571991484, 0.021512270400350062, 0.021860669909426127)"
      ]
     },
     "execution_count": 781,
     "metadata": {},
     "output_type": "execute_result"
    }
   ],
   "source": [
    "np.std(cb_valid), np.std(xgb_valid), np.std(lgbm_valid)"
   ]
  },
  {
   "cell_type": "code",
   "execution_count": 787,
   "id": "f6a9530e-c315-446d-8e25-b8c0b02aef17",
   "metadata": {},
   "outputs": [],
   "source": [
    "pred = ((lgbm_predict + cb_predict + xgb_predict) / 3 > threshold).astype(int) ## 만족일 확률이 threshold보다 높으면 1(만족) 아니면 0(불만족)"
   ]
  },
  {
   "cell_type": "code",
   "execution_count": 790,
   "id": "799d35ec-8d9e-4e6e-b130-86e054f681ff",
   "metadata": {},
   "outputs": [],
   "source": [
    "submission = pd.read_csv('C:/Users/Jaesu/github_desktop/Dacon-Basic/항공사-고객만족도-예측/Data/sample_submission.csv')"
   ]
  },
  {
   "cell_type": "code",
   "execution_count": 791,
   "id": "a25b3ff2-6a4b-4340-9378-44bed8a305f0",
   "metadata": {},
   "outputs": [
    {
     "data": {
      "text/html": [
       "<div>\n",
       "<style scoped>\n",
       "    .dataframe tbody tr th:only-of-type {\n",
       "        vertical-align: middle;\n",
       "    }\n",
       "\n",
       "    .dataframe tbody tr th {\n",
       "        vertical-align: top;\n",
       "    }\n",
       "\n",
       "    .dataframe thead th {\n",
       "        text-align: right;\n",
       "    }\n",
       "</style>\n",
       "<table border=\"1\" class=\"dataframe\">\n",
       "  <thead>\n",
       "    <tr style=\"text-align: right;\">\n",
       "      <th></th>\n",
       "      <th>id</th>\n",
       "      <th>target</th>\n",
       "    </tr>\n",
       "  </thead>\n",
       "  <tbody>\n",
       "    <tr>\n",
       "      <th>0</th>\n",
       "      <td>1</td>\n",
       "      <td>1</td>\n",
       "    </tr>\n",
       "    <tr>\n",
       "      <th>1</th>\n",
       "      <td>2</td>\n",
       "      <td>0</td>\n",
       "    </tr>\n",
       "    <tr>\n",
       "      <th>2</th>\n",
       "      <td>3</td>\n",
       "      <td>1</td>\n",
       "    </tr>\n",
       "    <tr>\n",
       "      <th>3</th>\n",
       "      <td>4</td>\n",
       "      <td>1</td>\n",
       "    </tr>\n",
       "    <tr>\n",
       "      <th>4</th>\n",
       "      <td>5</td>\n",
       "      <td>1</td>\n",
       "    </tr>\n",
       "  </tbody>\n",
       "</table>\n",
       "</div>"
      ],
      "text/plain": [
       "   id  target\n",
       "0   1       1\n",
       "1   2       0\n",
       "2   3       1\n",
       "3   4       1\n",
       "4   5       1"
      ]
     },
     "execution_count": 791,
     "metadata": {},
     "output_type": "execute_result"
    }
   ],
   "source": [
    "## 위에서 구한 예측값을 그대로 넣어줌\n",
    "submission['target'] = pred\n",
    "\n",
    "## 데이터가 잘 들어갔는지 확인\n",
    "submission.head()"
   ]
  },
  {
   "cell_type": "code",
   "execution_count": 792,
   "id": "e00f7f66-10a8-4860-a06c-8ea8157a8ac5",
   "metadata": {},
   "outputs": [],
   "source": [
    "## submission을 csv 파일로 저장\n",
    "submission.to_csv('C:/Users/Jaesu/github_desktop/Dacon-Basic/항공사-고객만족도-예측/Data/submission2.csv', index = False)"
   ]
  },
  {
   "cell_type": "markdown",
   "id": "b04c6f40-447e-4907-a675-6d5324e6bbad",
   "metadata": {},
   "source": [
    "`-` catboost만 써보았다"
   ]
  },
  {
   "cell_type": "code",
   "execution_count": 800,
   "id": "b29dfc7f-bd93-4889-be49-995021515f25",
   "metadata": {},
   "outputs": [],
   "source": [
    "pred = (cb_predict > threshold).astype(int)\n",
    "\n",
    "## 위에서 구한 예측값을 그대로 넣어줌\n",
    "submission['target'] = pred ## 점수는 0.937이다"
   ]
  },
  {
   "cell_type": "code",
   "execution_count": 801,
   "id": "cf0c086b-2a8f-4a59-b978-5b4e9af845cd",
   "metadata": {},
   "outputs": [],
   "source": [
    "## submission을 csv 파일로 저장\n",
    "## 점수는 0.937이다\n",
    "submission.to_csv('C:/Users/Jaesu/github_desktop/Dacon-Basic/항공사-고객만족도-예측/Data/submission3.csv', index = False)"
   ]
  },
  {
   "cell_type": "markdown",
   "id": "594da432-ba87-4057-a9a6-1e8812bf1a5c",
   "metadata": {},
   "source": [
    "`-` 점수가 잘 나왔다(valid 정확도가 0.94인데 public score가 0.937나옴)\n",
    "\n",
    "`-` catboost 하이퍼파라미터 바꾸기 전에는 valid 정확도 0.939인데 public score가 0.931 나왔었음\n",
    "\n",
    "`-` 바꾸기 전은 반복횟수 3000에 조기 중단 300 이었는데 과적합 됐나보다\n",
    "\n",
    "`-` 반복횟수 1000에 조기 중단 100으로 하니 점수가 위와 같이 잘 나옴(과적합 컨트롤의 중요성)"
   ]
  },
  {
   "cell_type": "code",
   "execution_count": null,
   "id": "a04f28b0-bffe-4ecf-abc9-8673f3781c27",
   "metadata": {},
   "outputs": [],
   "source": []
  }
 ],
 "metadata": {
  "kernelspec": {
   "display_name": "Python 3 (ipykernel)",
   "language": "python",
   "name": "python3"
  },
  "language_info": {
   "codemirror_mode": {
    "name": "ipython",
    "version": 3
   },
   "file_extension": ".py",
   "mimetype": "text/x-python",
   "name": "python",
   "nbconvert_exporter": "python",
   "pygments_lexer": "ipython3",
   "version": "3.8.11"
  }
 },
 "nbformat": 4,
 "nbformat_minor": 5
}
