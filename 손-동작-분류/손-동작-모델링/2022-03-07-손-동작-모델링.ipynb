{
 "cells": [
  {
   "cell_type": "markdown",
   "id": "fb7d5085-763f-467e-8d39-e25270b72c17",
   "metadata": {},
   "source": [
    "# 손동작 분류 경진대회"
   ]
  },
  {
   "cell_type": "markdown",
   "id": "90590f63-608f-46d8-9d11-7ff908073c46",
   "metadata": {},
   "source": [
    "## 데이터 불러오기"
   ]
  },
  {
   "cell_type": "code",
   "execution_count": 1,
   "id": "c9c78a03-935d-4f93-ae67-a9693d77535f",
   "metadata": {},
   "outputs": [],
   "source": [
    "import pandas as pd\n",
    "import numpy as np\n",
    "import seaborn as sns\n",
    "import matplotlib.pyplot as plt\n",
    "%matplotlib inline\n",
    "\n",
    "import warnings\n",
    "warnings.filterwarnings('ignore')"
   ]
  },
  {
   "cell_type": "code",
   "execution_count": 2,
   "id": "2dee07a7-0839-4ec5-a418-e8374405f527",
   "metadata": {},
   "outputs": [],
   "source": [
    "pd.set_option('display.max_columns', None)"
   ]
  },
  {
   "cell_type": "code",
   "execution_count": 3,
   "id": "2cd15884-e155-4f3c-8467-ecbca1db602f",
   "metadata": {},
   "outputs": [],
   "source": [
    "df = pd.read_csv('C:/Users/Jaesu/Dacon-Basic/손동작-분류/Data/train.csv')"
   ]
  },
  {
   "cell_type": "code",
   "execution_count": 4,
   "id": "63859bd6-8993-41ba-b9cd-95787c34f610",
   "metadata": {},
   "outputs": [
    {
     "data": {
      "text/plain": [
       "(2335, 34)"
      ]
     },
     "execution_count": 4,
     "metadata": {},
     "output_type": "execute_result"
    }
   ],
   "source": [
    "df.shape"
   ]
  },
  {
   "cell_type": "code",
   "execution_count": 7,
   "id": "19ca13eb-8dc2-4df9-9641-19d8bdbc2729",
   "metadata": {},
   "outputs": [],
   "source": [
    "df.drop('id', axis=1, inplace=True)"
   ]
  },
  {
   "cell_type": "markdown",
   "id": "51a09f20-2fbb-431c-b789-65a532e607fd",
   "metadata": {},
   "source": [
    "## 간단한 모델링"
   ]
  },
  {
   "cell_type": "code",
   "execution_count": 5,
   "id": "925fb967-855f-4f26-b9e0-b6bff22b677b",
   "metadata": {},
   "outputs": [],
   "source": [
    "from sklearn.ensemble import RandomForestClassifier\n",
    "from sklearn.linear_model import LogisticRegression\n",
    "from catboost import CatBoostClassifier\n",
    "from xgboost import XGBClassifier\n",
    "from lightgbm import LGBMClassifier\n",
    "from sklearn.model_selection import cross_validate, StratifiedKFold, train_test_split"
   ]
  },
  {
   "cell_type": "code",
   "execution_count": 8,
   "id": "65eb6d0a-0655-4045-8e94-9302a6846317",
   "metadata": {},
   "outputs": [],
   "source": [
    "def accuracy(true, pred):   \n",
    "    score = np.mean(true == pred)\n",
    "    return score"
   ]
  },
  {
   "cell_type": "code",
   "execution_count": 9,
   "id": "9a223c4f-47bc-42a9-b0f4-4061f1fd25bf",
   "metadata": {},
   "outputs": [],
   "source": [
    "dt = df.copy()"
   ]
  },
  {
   "cell_type": "code",
   "execution_count": 10,
   "id": "62148e6b-58e8-43a0-806f-9cf0c052f2b3",
   "metadata": {},
   "outputs": [],
   "source": [
    "target = dt['target']\n",
    "dt.drop('target', axis = 1, inplace = True)"
   ]
  },
  {
   "cell_type": "code",
   "execution_count": 11,
   "id": "391880a9-8d58-48b5-8f3d-d2ba104c1fb7",
   "metadata": {},
   "outputs": [],
   "source": [
    "skfold = StratifiedKFold(n_splits = 5,  shuffle = True, random_state = 22)"
   ]
  },
  {
   "cell_type": "code",
   "execution_count": 50,
   "id": "85b40bf4-fc34-4947-9baf-a2e1e7c7aac8",
   "metadata": {},
   "outputs": [],
   "source": [
    "cb = CatBoostClassifier(random_state = 22, learning_rate = 0.03, n_estimators = 750, verbose = 0, max_depth = 6)"
   ]
  },
  {
   "cell_type": "code",
   "execution_count": 48,
   "id": "4789380a-457b-4c1e-8994-50a1e885c1f6",
   "metadata": {},
   "outputs": [],
   "source": [
    "scores = cross_validate(cb, dt, target, return_train_score = True, scoring = 'accuracy', cv = skfold)"
   ]
  },
  {
   "cell_type": "code",
   "execution_count": 14,
   "id": "85339cea-8b0d-4d43-b4f0-564fc5bd0efa",
   "metadata": {},
   "outputs": [
    {
     "data": {
      "text/plain": [
       "(0.9795503211991434, 0.8261241970021412)"
      ]
     },
     "execution_count": 14,
     "metadata": {},
     "output_type": "execute_result"
    }
   ],
   "source": [
    "np.mean(scores['train_score']), np.mean(scores['test_score'])"
   ]
  },
  {
   "cell_type": "code",
   "execution_count": 28,
   "id": "9571fe46-d2bd-49c5-854a-39a2463733f9",
   "metadata": {},
   "outputs": [],
   "source": [
    "xgb = XGBClassifier(random_state = 22, learning_rate = 0.03, n_estimators = 500, max_depth = 6, eval_metric = 'logloss')"
   ]
  },
  {
   "cell_type": "code",
   "execution_count": 29,
   "id": "2c107d0c-683b-4bb0-ba02-60edb32fb85b",
   "metadata": {},
   "outputs": [],
   "source": [
    "scores = cross_validate(xgb, dt, target, return_train_score = True, scoring = 'accuracy', cv = skfold)"
   ]
  },
  {
   "cell_type": "code",
   "execution_count": 30,
   "id": "9dbc9fb8-848a-4a37-b484-52a23f659f37",
   "metadata": {},
   "outputs": [
    {
     "data": {
      "text/plain": [
       "(1.0, 0.8021413276231263)"
      ]
     },
     "execution_count": 30,
     "metadata": {},
     "output_type": "execute_result"
    }
   ],
   "source": [
    "np.mean(scores['train_score']), np.mean(scores['test_score'])"
   ]
  },
  {
   "cell_type": "code",
   "execution_count": 18,
   "id": "81d97dd2-7d9a-4ed9-8818-e85822bc8ba5",
   "metadata": {},
   "outputs": [],
   "source": [
    "lgbm = LGBMClassifier(random_state = 22, learning_rate = 0.03, n_estimators = 700, max_depth = 5)"
   ]
  },
  {
   "cell_type": "code",
   "execution_count": 19,
   "id": "e1e2d751-c1b3-4206-b000-ff637e52ba43",
   "metadata": {},
   "outputs": [],
   "source": [
    "scores = cross_validate(lgbm, dt, target, return_train_score = True, scoring = 'accuracy', cv = skfold)"
   ]
  },
  {
   "cell_type": "code",
   "execution_count": 20,
   "id": "30f86050-066b-4132-b106-2670e713de1b",
   "metadata": {},
   "outputs": [
    {
     "data": {
      "text/plain": [
       "(1.0, 0.8098501070663812)"
      ]
     },
     "execution_count": 20,
     "metadata": {},
     "output_type": "execute_result"
    }
   ],
   "source": [
    "np.mean(scores['train_score']), np.mean(scores['test_score'])"
   ]
  },
  {
   "cell_type": "markdown",
   "id": "31544348-8bec-40e4-bb49-c5024f0286b0",
   "metadata": {},
   "source": [
    "## test 예측"
   ]
  },
  {
   "cell_type": "markdown",
   "id": "fb2ff59d-a20e-43f6-95ca-7de0221481bc",
   "metadata": {},
   "source": [
    "`-` catboost 사용"
   ]
  },
  {
   "cell_type": "code",
   "execution_count": 31,
   "id": "93d3e524-ff07-4d99-8569-5c880c54657b",
   "metadata": {},
   "outputs": [],
   "source": [
    "test = pd.read_csv('C:/Users/Jaesu/Dacon-Basic/손동작-분류/Data/test.csv')"
   ]
  },
  {
   "cell_type": "code",
   "execution_count": 32,
   "id": "d37dfb57-cff9-4db6-821c-527bb8e0acf1",
   "metadata": {},
   "outputs": [
    {
     "data": {
      "text/plain": [
       "(9343, 33)"
      ]
     },
     "execution_count": 32,
     "metadata": {},
     "output_type": "execute_result"
    }
   ],
   "source": [
    "test.shape"
   ]
  },
  {
   "cell_type": "code",
   "execution_count": 34,
   "id": "c50b3f63-bc67-4325-a943-e9f90f787b30",
   "metadata": {},
   "outputs": [],
   "source": [
    "test.drop('id', axis=1, inplace=True)"
   ]
  },
  {
   "cell_type": "code",
   "execution_count": 35,
   "id": "99a4825b-4bcb-4bee-8e54-6b01301c836a",
   "metadata": {},
   "outputs": [
    {
     "data": {
      "text/plain": [
       "<catboost.core.CatBoostClassifier at 0x2139ab41d60>"
      ]
     },
     "execution_count": 35,
     "metadata": {},
     "output_type": "execute_result"
    }
   ],
   "source": [
    "cb.fit(dt, target)"
   ]
  },
  {
   "cell_type": "code",
   "execution_count": 36,
   "id": "7f7aea81-3329-4221-abd9-5dd96a9d3501",
   "metadata": {},
   "outputs": [],
   "source": [
    "pred = cb.predict(test)"
   ]
  },
  {
   "cell_type": "code",
   "execution_count": 41,
   "id": "9ef59276-0daf-4016-8410-1935ac94a847",
   "metadata": {},
   "outputs": [
    {
     "data": {
      "text/plain": [
       "(9343, 1)"
      ]
     },
     "execution_count": 41,
     "metadata": {},
     "output_type": "execute_result"
    }
   ],
   "source": [
    "pred.shape"
   ]
  },
  {
   "cell_type": "code",
   "execution_count": 42,
   "id": "bcda6c4f-2a78-47bf-8d1f-f5a1200bb17a",
   "metadata": {},
   "outputs": [],
   "source": [
    "submission = pd.read_csv('C:/Users/Jaesu/Dacon-Basic/손동작-분류/Data/sample_submission.csv')"
   ]
  },
  {
   "cell_type": "code",
   "execution_count": 44,
   "id": "ca049878-bf62-46c8-a5a5-a1c089af91db",
   "metadata": {},
   "outputs": [],
   "source": [
    "submission['target'] = pred"
   ]
  },
  {
   "cell_type": "code",
   "execution_count": 45,
   "id": "11150720-d551-4eff-ba5b-f7831a204109",
   "metadata": {},
   "outputs": [
    {
     "data": {
      "text/html": [
       "<div>\n",
       "<style scoped>\n",
       "    .dataframe tbody tr th:only-of-type {\n",
       "        vertical-align: middle;\n",
       "    }\n",
       "\n",
       "    .dataframe tbody tr th {\n",
       "        vertical-align: top;\n",
       "    }\n",
       "\n",
       "    .dataframe thead th {\n",
       "        text-align: right;\n",
       "    }\n",
       "</style>\n",
       "<table border=\"1\" class=\"dataframe\">\n",
       "  <thead>\n",
       "    <tr style=\"text-align: right;\">\n",
       "      <th></th>\n",
       "      <th>id</th>\n",
       "      <th>target</th>\n",
       "    </tr>\n",
       "  </thead>\n",
       "  <tbody>\n",
       "    <tr>\n",
       "      <th>0</th>\n",
       "      <td>1</td>\n",
       "      <td>0</td>\n",
       "    </tr>\n",
       "    <tr>\n",
       "      <th>1</th>\n",
       "      <td>2</td>\n",
       "      <td>0</td>\n",
       "    </tr>\n",
       "    <tr>\n",
       "      <th>2</th>\n",
       "      <td>3</td>\n",
       "      <td>1</td>\n",
       "    </tr>\n",
       "    <tr>\n",
       "      <th>3</th>\n",
       "      <td>4</td>\n",
       "      <td>3</td>\n",
       "    </tr>\n",
       "    <tr>\n",
       "      <th>4</th>\n",
       "      <td>5</td>\n",
       "      <td>2</td>\n",
       "    </tr>\n",
       "  </tbody>\n",
       "</table>\n",
       "</div>"
      ],
      "text/plain": [
       "   id  target\n",
       "0   1       0\n",
       "1   2       0\n",
       "2   3       1\n",
       "3   4       3\n",
       "4   5       2"
      ]
     },
     "execution_count": 45,
     "metadata": {},
     "output_type": "execute_result"
    }
   ],
   "source": [
    "submission.head()"
   ]
  },
  {
   "cell_type": "code",
   "execution_count": 52,
   "id": "a1d9e6b2-aa0e-4eac-a4a4-7d06d6857edb",
   "metadata": {},
   "outputs": [],
   "source": [
    "submission.to_csv('C:/Users/Jaesu/github_desktop/Dacon-Basic/손동작-분류/Data/submission.csv', index=False)"
   ]
  },
  {
   "cell_type": "code",
   "execution_count": null,
   "id": "ca086553-aa85-42e0-a341-bdc5b7d98a09",
   "metadata": {},
   "outputs": [],
   "source": []
  }
 ],
 "metadata": {
  "kernelspec": {
   "display_name": "Python 3 (ipykernel)",
   "language": "python",
   "name": "python3"
  },
  "language_info": {
   "codemirror_mode": {
    "name": "ipython",
    "version": 3
   },
   "file_extension": ".py",
   "mimetype": "text/x-python",
   "name": "python",
   "nbconvert_exporter": "python",
   "pygments_lexer": "ipython3",
   "version": "3.8.11"
  }
 },
 "nbformat": 4,
 "nbformat_minor": 5
}
