{
 "cells": [
  {
   "cell_type": "markdown",
   "id": "05bc885c-ac6e-47ef-a501-196427ff89ff",
   "metadata": {},
   "source": [
    "# 쇼핑몰 리뷰 평점 분류 경진대회"
   ]
  },
  {
   "cell_type": "markdown",
   "id": "9b9086f4-7ca2-451f-aec4-b79f5e1195be",
   "metadata": {},
   "source": [
    "## 데이터 불러오기"
   ]
  },
  {
   "cell_type": "code",
   "execution_count": 1,
   "id": "ee892dc5-73de-4c90-ac26-24a998c9b5de",
   "metadata": {},
   "outputs": [],
   "source": [
    "import numpy as np\n",
    "import pandas as pd\n",
    "import re\n",
    "import os\n",
    "import matplotlib.pyplot as plt\n",
    "import seaborn as sns\n",
    "import warnings\n",
    "from tqdm import tqdm\n",
    "\n",
    "warnings.filterwarnings('ignore')"
   ]
  },
  {
   "cell_type": "code",
   "execution_count": 2,
   "id": "5b92906e-f438-471a-8ce3-5f5c8e67e1a8",
   "metadata": {},
   "outputs": [
    {
     "data": {
      "text/plain": [
       "'C:\\\\Users\\\\Jaesu\\\\github_desktop\\\\Dacon-Basic\\\\쇼핑몰리뷰-평점-분류\\\\쇼핑몰리뷰-평점-분류-모델링'"
      ]
     },
     "execution_count": 2,
     "metadata": {},
     "output_type": "execute_result"
    }
   ],
   "source": [
    "os.getcwd()"
   ]
  },
  {
   "cell_type": "code",
   "execution_count": 3,
   "id": "6297e4f9-3aaa-415e-843a-39f47792f6f1",
   "metadata": {},
   "outputs": [],
   "source": [
    "os.chdir('C:\\\\Users\\\\Jaesu\\\\github_desktop\\\\Dacon-Basic\\\\쇼핑몰리뷰-평점-분류')"
   ]
  },
  {
   "cell_type": "code",
   "execution_count": 6,
   "id": "a2eda86b-9dae-455c-8446-40f5789fb712",
   "metadata": {},
   "outputs": [],
   "source": [
    "df = pd.read_csv('./Data/clean_df10.csv')"
   ]
  },
  {
   "cell_type": "code",
   "execution_count": 4,
   "id": "bbeeb930-c3d6-456d-bf19-44c9bbf7e97c",
   "metadata": {},
   "outputs": [],
   "source": [
    "SEED = 22"
   ]
  },
  {
   "cell_type": "code",
   "execution_count": 5,
   "id": "ab773ae3-07a1-43ae-b87e-9faf9e4080a4",
   "metadata": {},
   "outputs": [],
   "source": [
    "sns.set_theme(style='white')"
   ]
  },
  {
   "cell_type": "code",
   "execution_count": 6,
   "id": "f74c60ac-700d-4947-a078-d7d7e9afc46a",
   "metadata": {},
   "outputs": [],
   "source": [
    "def ACCURACY(true, pred):   \n",
    "    score = np.mean(true == pred)\n",
    "    return score"
   ]
  },
  {
   "cell_type": "code",
   "execution_count": 7,
   "id": "fedf2880-df50-46d1-9d19-69cf8c9a69e1",
   "metadata": {},
   "outputs": [],
   "source": [
    "df = pd.read_csv('./Data/train.csv')\n",
    "test = pd.read_csv('./Data/test.csv')\n",
    "submission = pd.read_csv('./Data/sample_submission.csv')"
   ]
  },
  {
   "cell_type": "code",
   "execution_count": 8,
   "id": "95f1cebd-9c85-46c5-b119-041dab717471",
   "metadata": {},
   "outputs": [
    {
     "name": "stdout",
     "output_type": "stream",
     "text": [
      "<class 'pandas.core.frame.DataFrame'>\n",
      "RangeIndex: 25000 entries, 0 to 24999\n",
      "Data columns (total 3 columns):\n",
      " #   Column   Non-Null Count  Dtype \n",
      "---  ------   --------------  ----- \n",
      " 0   id       25000 non-null  int64 \n",
      " 1   reviews  25000 non-null  object\n",
      " 2   target   25000 non-null  int64 \n",
      "dtypes: int64(2), object(1)\n",
      "memory usage: 586.1+ KB\n"
     ]
    }
   ],
   "source": [
    "df.info()"
   ]
  },
  {
   "cell_type": "markdown",
   "id": "24a1098c-3aac-4e07-81f3-a03c30331e51",
   "metadata": {},
   "source": [
    "`-` 결측치는 없으며 데이터는 리뷰와 평점으로 구성되어 있다"
   ]
  },
  {
   "cell_type": "markdown",
   "id": "29a60f06-b6d7-40ca-b4f7-09a66432c97e",
   "metadata": {},
   "source": [
    "## EDA"
   ]
  },
  {
   "cell_type": "code",
   "execution_count": 9,
   "id": "d7ff0b6f-37bb-4170-bb7e-a98f14b9af54",
   "metadata": {},
   "outputs": [
    {
     "data": {
      "text/plain": [
       "<AxesSubplot:xlabel='target', ylabel='count'>"
      ]
     },
     "execution_count": 9,
     "metadata": {},
     "output_type": "execute_result"
    },
    {
     "data": {
      "image/png": "[encoded data removed]",
      "text/plain": [
       "<Figure size 432x288 with 1 Axes>"
      ]
     },
     "metadata": {
      "needs_background": "light"
     },
     "output_type": "display_data"
    }
   ],
   "source": [
    "sns.countplot(data=df, x='target')"
   ]
  },
  {
   "cell_type": "code",
   "execution_count": 10,
   "id": "2e10a1e4-35eb-4ca3-86a0-88d08e784c4e",
   "metadata": {},
   "outputs": [
    {
     "data": {
      "text/plain": [
       "<AxesSubplot:>"
      ]
     },
     "execution_count": 10,
     "metadata": {},
     "output_type": "execute_result"
    },
    {
     "data": {
      "image/png": "[encoded data removed]",
      "text/plain": [
       "<Figure size 432x288 with 1 Axes>"
      ]
     },
     "metadata": {
      "needs_background": "light"
     },
     "output_type": "display_data"
    }
   ],
   "source": [
    "df['reviews'].str.len().hist()"
   ]
  },
  {
   "cell_type": "markdown",
   "id": "3a155a8e-4b9c-4f88-a62e-48b76605b8e5",
   "metadata": {},
   "source": [
    "`-` 띄어쓰기를 포함한 텍스트 길이는 오른쪽으로 꼬리가 긴 분포를 띄고 있다\n",
    "\n",
    "`-` 길이가 0인 리뷰는 없다\n",
    "\n",
    "`-` 최소 길이는 5이며 최대 길이는 140이다"
   ]
  },
  {
   "cell_type": "code",
   "execution_count": 11,
   "id": "b5206fcd-6e64-4a8c-a34b-33cfb6dbfb8d",
   "metadata": {},
   "outputs": [
    {
     "data": {
      "text/plain": [
       "<AxesSubplot:xlabel='target', ylabel='reviews'>"
      ]
     },
     "execution_count": 11,
     "metadata": {},
     "output_type": "execute_result"
    },
    {
     "data": {
      "image/png": "[encoded data removed]",
      "text/plain": [
       "<Figure size 432x288 with 1 Axes>"
      ]
     },
     "metadata": {
      "needs_background": "light"
     },
     "output_type": "display_data"
    }
   ],
   "source": [
    "sns.boxplot(data=df, x='target', y=df['reviews'].str.len())"
   ]
  },
  {
   "cell_type": "markdown",
   "id": "decb3bb6-9ef3-4efd-a6a5-4cae2aa21dcc",
   "metadata": {},
   "source": [
    "`-` 리뷰의 길이가 길수록 평점이 낮은 경향이 있다"
   ]
  },
  {
   "cell_type": "markdown",
   "id": "1e5a5b61-e784-4846-9756-1cd47359872b",
   "metadata": {},
   "source": [
    "## 데이터 전처리"
   ]
  },
  {
   "cell_type": "code",
   "execution_count": 41,
   "id": "88a434b9-d633-4e66-98bd-67c99181b2cf",
   "metadata": {},
   "outputs": [],
   "source": [
    "def clean_text(texts): \n",
    "    corpus = [] \n",
    "    for text in texts: \n",
    "        review = re.sub(r'\\s+', ' ', text) ## extra space 제거\n",
    "        review = re.sub(r\"^\\s+\", '', review) ## space from start 제거\n",
    "        review = re.sub(r'\\s+$', '', review) ## space from the end 제거\n",
    "        review = re.sub(r'<[^>]+>', '', review) ## Html tags 제거\n",
    "        review = re.sub(r'[@%\\\\*=()/~#&\\+á?\\xc3\\xa1\\-\\|\\.\\:\\;\\-\\,\\_\\~\\$\\'\\\"\\n\\]\\[\\>]', '', review) ## @%*=()/+ 와 같은 문장부호 제거\n",
    "        review = review.lower() ## 소문자 변환\n",
    "        corpus.append(review) \n",
    "\n",
    "    return corpus"
   ]
  },
  {
   "cell_type": "code",
   "execution_count": 42,
   "id": "80440bed-f73a-4df2-89e3-7fe77c2538f0",
   "metadata": {},
   "outputs": [],
   "source": [
    "df['clean_reviews'] = clean_text(df['reviews'])\n",
    "test['clean_reviews'] = clean_text(test['reviews'])"
   ]
  },
  {
   "cell_type": "code",
   "execution_count": 43,
   "id": "b9c6fcc5-f171-40f9-a881-635ae6726eca",
   "metadata": {},
   "outputs": [
    {
     "data": {
      "text/plain": [
       "<AxesSubplot:>"
      ]
     },
     "execution_count": 43,
     "metadata": {},
     "output_type": "execute_result"
    },
    {
     "data": {
      "image/png": "[encoded data removed]",
      "text/plain": [
       "<Figure size 432x288 with 1 Axes>"
      ]
     },
     "metadata": {
      "needs_background": "light"
     },
     "output_type": "display_data"
    }
   ],
   "source": [
    "df['clean_reviews'].str.len().hist()"
   ]
  },
  {
   "cell_type": "markdown",
   "id": "40767437-21ea-4701-a7e7-f7ea3c9b737c",
   "metadata": {},
   "source": [
    "## 모델링"
   ]
  },
  {
   "cell_type": "code",
   "execution_count": 9,
   "id": "a844edb0-261e-4632-9776-4750c8627bc3",
   "metadata": {},
   "outputs": [],
   "source": [
    "from sklearn.feature_extraction.text import CountVectorizer, TfidfVectorizer\n",
    "from sklearn.model_selection import StratifiedKFold, cross_validate\n",
    "from sklearn.naive_bayes import BernoulliNB, ComplementNB\n",
    "from sklearn.linear_model import SGDClassifier, LogisticRegression\n",
    "from sklearn.neighbors import KNeighborsClassifier\n",
    "from sklearn.svm import LinearSVC"
   ]
  },
  {
   "cell_type": "markdown",
   "id": "7f88695c-a714-4ff5-abb4-1fdf451a65fd",
   "metadata": {},
   "source": [
    "`-` `CountVectorizer`는 성능이 별로다\n",
    "\n",
    "`-` 전처리를 안했을 때 성능이 더 좋다\n",
    "\n",
    "`-` `TfidfVectorizer`의 `analyzer`로 `word`보다 `char`를 사용했을 때 성능이 더 좋다\n",
    "\n",
    "`-` `analyzer=char, ngram_range=(1, 4)`일 때 성능이 가장 우수하다\n",
    "\n",
    "`-` `max_features` 옵션을 바꿔보자"
   ]
  },
  {
   "cell_type": "markdown",
   "id": "aafd503b-6267-4bc8-9b83-4ca390766ab3",
   "metadata": {},
   "source": [
    "### CountVectorizer, char"
   ]
  },
  {
   "cell_type": "code",
   "execution_count": 33,
   "id": "34c57f2f-5096-4d40-a7dd-dd0c583e1cb1",
   "metadata": {},
   "outputs": [],
   "source": [
    "countvec = CountVectorizer(analyzer='char', ngram_range=(1, 2), max_features=20000)"
   ]
  },
  {
   "cell_type": "code",
   "execution_count": 34,
   "id": "b4846a3f-cfbe-4527-b066-ac78816b93cc",
   "metadata": {},
   "outputs": [
    {
     "name": "stdout",
     "output_type": "stream",
     "text": [
      "Wall time: 3.1 s\n"
     ]
    }
   ],
   "source": [
    "%%time\n",
    "train_countvec = countvec.fit_transform(df['reviews'])\n",
    "test_countvec = countvec.transform(test['reviews'])"
   ]
  },
  {
   "cell_type": "code",
   "execution_count": 35,
   "id": "02d0e206-63ca-426a-8020-4b288e6f387c",
   "metadata": {},
   "outputs": [],
   "source": [
    "target = df['target']"
   ]
  },
  {
   "cell_type": "code",
   "execution_count": 36,
   "id": "17040959-36f5-4259-b572-6a6909da9202",
   "metadata": {},
   "outputs": [],
   "source": [
    "k = 5\n",
    "skfold = StratifiedKFold(k, shuffle=True, random_state=SEED)"
   ]
  },
  {
   "cell_type": "code",
   "execution_count": 37,
   "id": "9e74710e-0673-47a6-9155-3c23f9c10424",
   "metadata": {},
   "outputs": [],
   "source": [
    "SGD = SGDClassifier(loss='hinge', random_state=SEED)\n",
    "LSVC = LinearSVC(random_state=SEED, C=0.1)\n",
    "CNB = ComplementNB(alpha=2.5)"
   ]
  },
  {
   "cell_type": "code",
   "execution_count": 38,
   "id": "dbad0e25-7d60-48b7-b243-51bc73400ad4",
   "metadata": {},
   "outputs": [
    {
     "name": "stdout",
     "output_type": "stream",
     "text": [
      "Wall time: 1min 43s\n"
     ]
    }
   ],
   "source": [
    "%%time\n",
    "scores_LSVC = cross_validate(LSVC, train_countvec, target, scoring=('accuracy'), cv=skfold)\n",
    "scores_SGD = cross_validate(SGD, train_countvec, target, scoring=('accuracy'), cv=skfold)\n",
    "scores_CNB = cross_validate(CNB, train_countvec, target, scoring=('accuracy'), cv=skfold)"
   ]
  },
  {
   "cell_type": "code",
   "execution_count": 39,
   "id": "973d667a-f945-42f1-bfec-90451ecd9d44",
   "metadata": {},
   "outputs": [
    {
     "name": "stdout",
     "output_type": "stream",
     "text": [
      "countvec -> LSVC: 0.621 SGD: 0.615 CNB: 0.654\n"
     ]
    }
   ],
   "source": [
    "print(f\"countvec -> LSVC: {np.mean(scores_LSVC['test_score']):.3f} SGD: {np.mean(scores_SGD['test_score']):.3f} CNB: {np.mean(scores_CNB['test_score']):.3f}\")"
   ]
  },
  {
   "cell_type": "markdown",
   "id": "19a7e01a-739b-4c0c-9771-35e1ad8118fc",
   "metadata": {},
   "source": [
    "### TfidfVectorizer, word"
   ]
  },
  {
   "cell_type": "code",
   "execution_count": 35,
   "id": "3e80ea5b-3883-49f1-b18c-4b31338e53ec",
   "metadata": {},
   "outputs": [],
   "source": [
    "tfidf1 = TfidfVectorizer(analyzer='word', ngram_range=(1, 1), sublinear_tf=True)\n",
    "tfidf2 = TfidfVectorizer(analyzer='word', ngram_range=(1, 2), sublinear_tf=True)\n",
    "tfidf3 = TfidfVectorizer(analyzer='word', ngram_range=(1, 3), sublinear_tf=True)"
   ]
  },
  {
   "cell_type": "code",
   "execution_count": 32,
   "id": "383f2483-e9ac-4e30-a208-5a8e42edc715",
   "metadata": {},
   "outputs": [
    {
     "name": "stdout",
     "output_type": "stream",
     "text": [
      "Wall time: 5.28 s\n"
     ]
    }
   ],
   "source": [
    "%%time\n",
    "train_tfidf1 = tfidf1.fit_transform(df['reviews'])\n",
    "test_tfidf1 = tfidf1.transform(test['reviews'])\n",
    "\n",
    "train_tfidf2 = tfidf2.fit_transform(df['reviews'])\n",
    "test_tfidf2 = tfidf2.transform(test['reviews'])\n",
    "\n",
    "train_tfidf3 = tfidf3.fit_transform(df['reviews'])\n",
    "test_tfidf3 = tfidf3.transform(test['reviews'])"
   ]
  },
  {
   "cell_type": "code",
   "execution_count": 16,
   "id": "8c5e4b69-49d4-4771-a14f-d17b90498ae9",
   "metadata": {},
   "outputs": [],
   "source": [
    "target = df['target']"
   ]
  },
  {
   "cell_type": "code",
   "execution_count": 17,
   "id": "cee3e31a-95bd-4f57-aefb-701779ffec99",
   "metadata": {},
   "outputs": [],
   "source": [
    "k = 10\n",
    "skfold = StratifiedKFold(k, shuffle=True, random_state=SEED)"
   ]
  },
  {
   "cell_type": "markdown",
   "id": "6fe6fe63-1479-4d75-81e0-e34b5f1de4f8",
   "metadata": {},
   "source": [
    "- 텍스트 전처리에 따른 모델별 정확도"
   ]
  },
  {
   "cell_type": "code",
   "execution_count": 36,
   "id": "fbcbbc32-7355-4a66-a22e-12c3454f6ade",
   "metadata": {},
   "outputs": [],
   "source": [
    "SGD = SGDClassifier(loss='hinge', random_state=SEED)\n",
    "LSVC = LinearSVC(random_state=SEED, C=0.1)\n",
    "CNB = ComplementNB(alpha=2.5)"
   ]
  },
  {
   "cell_type": "markdown",
   "id": "4136d5d9-a230-44b0-8300-9ca5a7c43860",
   "metadata": {},
   "source": [
    "`-` `ngram_range = (1, 1)`"
   ]
  },
  {
   "cell_type": "code",
   "execution_count": 167,
   "id": "cfed0c53-d31b-4b56-ae82-423fcfee3755",
   "metadata": {},
   "outputs": [
    {
     "name": "stdout",
     "output_type": "stream",
     "text": [
      "Wall time: 3.72 s\n"
     ]
    }
   ],
   "source": [
    "%%time\n",
    "scores_LSVC = cross_validate(LSVC, train_tfidf1, target, scoring=('accuracy'), cv=skfold)\n",
    "scores_SGD = cross_validate(SGD, train_tfidf1, target, scoring=('accuracy'), cv=skfold)\n",
    "scores_CNB = cross_validate(CNB, train_tfidf1, target, scoring=('accuracy'), cv=skfold)"
   ]
  },
  {
   "cell_type": "code",
   "execution_count": 168,
   "id": "bc1283d5-a802-487c-87f4-579ee898a76d",
   "metadata": {},
   "outputs": [
    {
     "name": "stdout",
     "output_type": "stream",
     "text": [
      "tfidf1 -> LSVC: 0.621 SGD: 0.623 CNB: 0.592\n"
     ]
    }
   ],
   "source": [
    "print(f\"tfidf1 -> LSVC: {np.mean(scores_LSVC['test_score']):.3f} SGD: {np.mean(scores_SGD['test_score']):.3f} CNB: {np.mean(scores_CNB['test_score']):.3f}\")"
   ]
  },
  {
   "cell_type": "markdown",
   "id": "561061cd-2869-4d85-af58-efe1376fa442",
   "metadata": {},
   "source": [
    "`-` `ngram_range = (1, 2)`"
   ]
  },
  {
   "cell_type": "code",
   "execution_count": 33,
   "id": "3a1b1bc5-f9dc-4e63-9e4d-d3f888ec37bf",
   "metadata": {},
   "outputs": [
    {
     "name": "stdout",
     "output_type": "stream",
     "text": [
      "Wall time: 2.6 s\n"
     ]
    }
   ],
   "source": [
    "%%time\n",
    "scores_LSVC = cross_validate(LSVC, train_tfidf2, target, scoring=('accuracy'), cv=skfold)\n",
    "scores_SGD = cross_validate(SGD, train_tfidf2, target, scoring=('accuracy'), cv=skfold)\n",
    "scores_CNB = cross_validate(CNB, train_tfidf2, target, scoring=('accuracy'), cv=skfold)"
   ]
  },
  {
   "cell_type": "code",
   "execution_count": 170,
   "id": "3c56f889-473f-45a7-ac4c-9ca1b178abd9",
   "metadata": {},
   "outputs": [
    {
     "name": "stdout",
     "output_type": "stream",
     "text": [
      "tfidf2 -> LSVC: 0.615 SGD: 0.616 CNB: 0.590\n"
     ]
    }
   ],
   "source": [
    "print(f\"tfidf2 -> LSVC: {np.mean(scores_LSVC['test_score']):.3f} SGD: {np.mean(scores_SGD['test_score']):.3f} CNB: {np.mean(scores_CNB['test_score']):.3f}\")"
   ]
  },
  {
   "cell_type": "markdown",
   "id": "24896141-5b18-485d-b0f0-a725d12aa0ef",
   "metadata": {},
   "source": [
    "`-` `ngram_range = (1, 3)`"
   ]
  },
  {
   "cell_type": "code",
   "execution_count": 171,
   "id": "4f63d0de-9bc2-4c14-8fe7-bf54e12d4e0f",
   "metadata": {},
   "outputs": [
    {
     "name": "stdout",
     "output_type": "stream",
     "text": [
      "Wall time: 10 s\n"
     ]
    }
   ],
   "source": [
    "%%time\n",
    "scores_LSVC = cross_validate(LSVC, train_tfidf3, target, scoring=('accuracy'), cv=skfold)\n",
    "scores_SGD = cross_validate(SGD, train_tfidf3, target, scoring=('accuracy'), cv=skfold)\n",
    "scores_CNB = cross_validate(CNB, train_tfidf3, target, scoring=('accuracy'), cv=skfold)"
   ]
  },
  {
   "cell_type": "code",
   "execution_count": 172,
   "id": "d2af5b8c-a3b4-4ae4-bcc4-3f0512f1a79e",
   "metadata": {},
   "outputs": [
    {
     "name": "stdout",
     "output_type": "stream",
     "text": [
      "tfidf3 -> LSVC: 0.609 SGD: 0.610 CNB: 0.586\n"
     ]
    }
   ],
   "source": [
    "print(f\"tfidf3 -> LSVC: {np.mean(scores_LSVC['test_score']):.3f} SGD: {np.mean(scores_SGD['test_score']):.3f} CNB: {np.mean(scores_CNB['test_score']):.3f}\")"
   ]
  },
  {
   "cell_type": "markdown",
   "id": "b13e69c2-21a0-4bba-be70-31412f76a8de",
   "metadata": {},
   "source": [
    "### TfidfVectorizer, char"
   ]
  },
  {
   "cell_type": "code",
   "execution_count": 44,
   "id": "671210b6-668b-45cc-8bda-eb9f1f039ad7",
   "metadata": {},
   "outputs": [],
   "source": [
    "tfidf1 = TfidfVectorizer(analyzer='char', ngram_range=(1, 1), sublinear_tf=True)\n",
    "tfidf2 = TfidfVectorizer(analyzer='char', ngram_range=(1, 2), max_features = 10000, sublinear_tf=True)\n",
    "tfidf3 = TfidfVectorizer(analyzer='char', ngram_range=(1, 3), max_features = 20000, sublinear_tf=True)\n",
    "tfidf4 = TfidfVectorizer(analyzer='char', ngram_range=(1, 4), max_features = 50000, sublinear_tf=True)"
   ]
  },
  {
   "cell_type": "code",
   "execution_count": 52,
   "id": "f6a1167e-ad78-4a7c-ad15-20d5275b7f0a",
   "metadata": {},
   "outputs": [
    {
     "name": "stdout",
     "output_type": "stream",
     "text": [
      "Wall time: 20.9 s\n"
     ]
    }
   ],
   "source": [
    "%%time\n",
    "train_tfidf1 = tfidf1.fit_transform(df['reviews'])\n",
    "test_tfidf1 = tfidf1.transform(test['reviews'])\n",
    "\n",
    "train_tfidf2 = tfidf2.fit_transform(df['reviews'])\n",
    "test_tfidf2 = tfidf2.transform(test['reviews'])\n",
    "\n",
    "train_tfidf3 = tfidf3.fit_transform(df['reviews'])\n",
    "test_tfidf3 = tfidf3.transform(test['reviews'])\n",
    "\n",
    "train_tfidf4 = tfidf4.fit_transform(df['reviews'])\n",
    "test_tfidf4 = tfidf4.transform(test['reviews'])"
   ]
  },
  {
   "cell_type": "markdown",
   "id": "dad6bdae-fa42-4d81-a1fd-6d41bd29d9ff",
   "metadata": {},
   "source": [
    "`-` `ngram_range`에 따른 피쳐의 개수: $2073, 53175, 233107, 605388$"
   ]
  },
  {
   "cell_type": "code",
   "execution_count": 47,
   "id": "950d31a3-b276-428a-ad5b-4b606c00ced5",
   "metadata": {},
   "outputs": [],
   "source": [
    "target = df['target']"
   ]
  },
  {
   "cell_type": "code",
   "execution_count": 48,
   "id": "5b74b83b-7d8e-42de-a259-e7d3b1577b93",
   "metadata": {},
   "outputs": [],
   "source": [
    "k = 5\n",
    "skfold = StratifiedKFold(k, shuffle=True, random_state=SEED)"
   ]
  },
  {
   "cell_type": "markdown",
   "id": "2cda59a9-af84-408a-ad17-b974659ab554",
   "metadata": {},
   "source": [
    "- 텍스트 전처리에 따른 모델별 정확도"
   ]
  },
  {
   "cell_type": "code",
   "execution_count": 49,
   "id": "b32eb697-eaa1-4a90-90da-ee13ceda4bc8",
   "metadata": {},
   "outputs": [],
   "source": [
    "SGD = SGDClassifier(loss='hinge', random_state=SEED)\n",
    "LSVC = LinearSVC(random_state=SEED, C=0.1)\n",
    "CNB = ComplementNB(alpha=2.5)\n",
    "logistic = LogisticRegression(C=0.6, max_iter=500, random_state=SEED)"
   ]
  },
  {
   "cell_type": "markdown",
   "id": "1131d007-b79b-43cf-9c2d-225870a6860a",
   "metadata": {},
   "source": [
    "`-` `ngram_range = (1, 1)`"
   ]
  },
  {
   "cell_type": "code",
   "execution_count": 54,
   "id": "16cf1e9f-5ce9-4080-be64-a99fdc51c6eb",
   "metadata": {},
   "outputs": [
    {
     "name": "stdout",
     "output_type": "stream",
     "text": [
      "Wall time: 11.2 s\n"
     ]
    }
   ],
   "source": [
    "%%time\n",
    "scores_LSVC = cross_validate(LSVC, train_tfidf1, target, scoring = ('accuracy'), cv=skfold)\n",
    "scores_SGD = cross_validate(SGD, train_tfidf1, target, scoring = ('accuracy'), cv=skfold)\n",
    "scores_CNB = cross_validate(CNB, train_tfidf1, target, scoring = ('accuracy'), cv=skfold)\n",
    "scores_logistic = cross_validate(logistic, train_tfidf1, target, scoring = ('accuracy'), cv=skfold)"
   ]
  },
  {
   "cell_type": "code",
   "execution_count": 56,
   "id": "8300f166-785e-4851-949b-bfdfd9183e47",
   "metadata": {},
   "outputs": [
    {
     "name": "stdout",
     "output_type": "stream",
     "text": [
      "tfidf1 -> LSVC: 0.646 SGD: 0.639 CNB: 0.612 logistic 0.646\n"
     ]
    }
   ],
   "source": [
    "print(f\"tfidf1 -> LSVC: {np.mean(scores_LSVC['test_score']):.3f} SGD: {np.mean(scores_SGD['test_score']):.3f} \\\n",
    "CNB: {np.mean(scores_CNB['test_score']):.3f} logistic {np.mean(scores_logistic['test_score']):.3f}\")"
   ]
  },
  {
   "cell_type": "markdown",
   "id": "09884a24-e902-46a7-8cb2-9466d11f9b3e",
   "metadata": {},
   "source": [
    "`-` `ngram_range = (1, 2)`"
   ]
  },
  {
   "cell_type": "code",
   "execution_count": 57,
   "id": "88fa3428-75db-41c2-9172-fae226b8ca1c",
   "metadata": {},
   "outputs": [
    {
     "name": "stdout",
     "output_type": "stream",
     "text": [
      "Wall time: 19.2 s\n"
     ]
    }
   ],
   "source": [
    "%%time\n",
    "scores_LSVC = cross_validate(LSVC, train_tfidf2, target, scoring = ('accuracy'), cv=skfold)\n",
    "scores_SGD = cross_validate(SGD, train_tfidf2, target, scoring = ('accuracy'), cv=skfold)\n",
    "scores_CNB = cross_validate(CNB, train_tfidf2, target, scoring = ('accuracy'), cv=skfold)\n",
    "scores_logistic = cross_validate(logistic, train_tfidf2, target, scoring = ('accuracy'), cv=skfold)"
   ]
  },
  {
   "cell_type": "code",
   "execution_count": 58,
   "id": "1b6573fc-ff14-47d2-ac5d-db9db18eeddc",
   "metadata": {},
   "outputs": [
    {
     "name": "stdout",
     "output_type": "stream",
     "text": [
      "tfidf2 -> LSVC: 0.669 SGD: 0.667 CNB: 0.655 logistic 0.669\n"
     ]
    }
   ],
   "source": [
    "print(f\"tfidf2 -> LSVC: {np.mean(scores_LSVC['test_score']):.3f} SGD: {np.mean(scores_SGD['test_score']):.3f} \\\n",
    "CNB: {np.mean(scores_CNB['test_score']):.3f} logistic {np.mean(scores_logistic['test_score']):.3f}\")"
   ]
  },
  {
   "cell_type": "markdown",
   "id": "ec84ab14-1fb5-49d8-8d5d-630fd1498e17",
   "metadata": {},
   "source": [
    "`-` `ngram_range = (1, 3)`"
   ]
  },
  {
   "cell_type": "code",
   "execution_count": 50,
   "id": "c77f7b0c-bf2f-4cfd-8130-91b72f42da71",
   "metadata": {},
   "outputs": [
    {
     "name": "stdout",
     "output_type": "stream",
     "text": [
      "Wall time: 31.2 s\n"
     ]
    }
   ],
   "source": [
    "%%time\n",
    "scores_LSVC = cross_validate(LSVC, train_tfidf3, target, scoring=('accuracy'), cv=skfold)\n",
    "scores_SGD = cross_validate(SGD, train_tfidf3, target, scoring=('accuracy'), cv=skfold)\n",
    "scores_CNB = cross_validate(CNB, train_tfidf3, target, scoring=('accuracy'), cv=skfold)\n",
    "scores_logistic = cross_validate(logistic, train_tfidf3, target, scoring = ('accuracy'), cv=skfold)"
   ]
  },
  {
   "cell_type": "code",
   "execution_count": 63,
   "id": "39adc8fc-b993-476a-9d89-593701a5f9f5",
   "metadata": {},
   "outputs": [
    {
     "name": "stdout",
     "output_type": "stream",
     "text": [
      "tfidf3 -> LSVC: 0.673 SGD: 0.673 CNB: 0.665 logistic 0.670\n"
     ]
    }
   ],
   "source": [
    "print(f\"tfidf3 -> LSVC: {np.mean(scores_LSVC['test_score']):.3f} SGD: {np.mean(scores_SGD['test_score']):.3f} \\\n",
    "CNB: {np.mean(scores_CNB['test_score']):.3f} logistic {np.mean(scores_logistic['test_score']):.3f}\")"
   ]
  },
  {
   "cell_type": "markdown",
   "id": "9987b484-00cd-4050-8db7-9d2c0c772bc2",
   "metadata": {},
   "source": [
    "`-` `ngram_range = (1, 4)`"
   ]
  },
  {
   "cell_type": "code",
   "execution_count": 64,
   "id": "97db10a5-b46c-44a2-bd07-20d7eb0094fa",
   "metadata": {},
   "outputs": [
    {
     "name": "stdout",
     "output_type": "stream",
     "text": [
      "Wall time: 46.8 s\n"
     ]
    }
   ],
   "source": [
    "%%time\n",
    "scores_LSVC = cross_validate(LSVC, train_tfidf4, target, scoring=('accuracy'), cv=skfold)\n",
    "scores_SGD = cross_validate(SGD, train_tfidf4, target, scoring=('accuracy'), cv=skfold)\n",
    "scores_CNB = cross_validate(CNB, train_tfidf4, target, scoring=('accuracy'), cv=skfold)\n",
    "scores_logistic = cross_validate(logistic, train_tfidf4, target, scoring = ('accuracy'), cv=skfold)"
   ]
  },
  {
   "cell_type": "code",
   "execution_count": 65,
   "id": "86e07c73-0389-4958-ab8c-ab8bcca48ae5",
   "metadata": {},
   "outputs": [
    {
     "name": "stdout",
     "output_type": "stream",
     "text": [
      "tfidf4 -> LSVC: 0.674 SGD: 0.674 CNB: 0.666 logistic 0.673\n"
     ]
    }
   ],
   "source": [
    "print(f\"tfidf4 -> LSVC: {np.mean(scores_LSVC['test_score']):.3f} SGD: {np.mean(scores_SGD['test_score']):.3f} \\\n",
    "CNB: {np.mean(scores_CNB['test_score']):.3f} logistic {np.mean(scores_logistic['test_score']):.3f}\")"
   ]
  },
  {
   "cell_type": "markdown",
   "id": "e2f34af6-4fac-4798-957b-cdf09e04f949",
   "metadata": {},
   "source": [
    "### 다양한 모델 사용"
   ]
  },
  {
   "cell_type": "markdown",
   "id": "abb01aa4-27c1-41fd-9d1a-adb07e0e4494",
   "metadata": {},
   "source": [
    "`-` `TfidfVectorizer, analyzer=char, ngram_range=(1, 3)`를 사용해 리뷰를 숫자로 바꾸고 다양한 모델을 적용시키자\n",
    "\n",
    "`-` 만약 기존의 모델보다 성능이 더 좋다면 `ngram_range=(1, 4)`로 바꾸겠다\n",
    "\n",
    "`-` 피쳐의 수가 많은 관계로 부스팅 모델은 사용하지 않겠다\n",
    "\n",
    "`-` 나이브 베이즈, KNN을 사용해봤지만 성능은 좋지 않았다 (랜덤 포레스트와 부스팅 모델은 시간이 오래걸려서 포기했다)"
   ]
  },
  {
   "cell_type": "code",
   "execution_count": 37,
   "id": "777eba29-573f-487d-b6a7-81a61407e761",
   "metadata": {},
   "outputs": [],
   "source": [
    "NB = BernoulliNB(alpha=0.55)\n",
    "KNN = KNeighborsClassifier()"
   ]
  },
  {
   "cell_type": "code",
   "execution_count": 43,
   "id": "29d3d399-aa99-425e-8afe-a3de833a7086",
   "metadata": {},
   "outputs": [
    {
     "name": "stdout",
     "output_type": "stream",
     "text": [
      "Wall time: 14 s\n"
     ]
    }
   ],
   "source": [
    "%%time\n",
    "scores_logistic = cross_validate(logistic, train_tfidf2, target, scoring=('accuracy'), cv=skfold)"
   ]
  },
  {
   "cell_type": "code",
   "execution_count": 66,
   "id": "fd8d91ee-f080-4230-acdf-8c7c083bf4fa",
   "metadata": {},
   "outputs": [
    {
     "name": "stdout",
     "output_type": "stream",
     "text": [
      "Wall time: 35.5 s\n"
     ]
    }
   ],
   "source": [
    "%%time\n",
    "scores_NB = cross_validate(NB, train_tfidf3, target, scoring=('accuracy'), cv=skfold)\n",
    "scores_KNN = cross_validate(KNN, train_tfidf3, target, scoring=('accuracy'), cv=skfold)"
   ]
  },
  {
   "cell_type": "code",
   "execution_count": 67,
   "id": "290058e3-bfa9-441c-91db-2a890949c701",
   "metadata": {},
   "outputs": [
    {
     "name": "stdout",
     "output_type": "stream",
     "text": [
      "tfidf3 -> NB: 0.601 KNN: 0.575\n"
     ]
    }
   ],
   "source": [
    "print(f\"tfidf3 -> NB: {np.mean(scores_NB['test_score']):.3f} KNN: {np.mean(scores_KNN['test_score']):.3f}\")"
   ]
  },
  {
   "cell_type": "markdown",
   "id": "e5ea3cad-895d-4fdf-a5d0-9d80c17f7b39",
   "metadata": {
    "tags": []
   },
   "source": [
    "## test 예측\n",
    "\n",
    "`-` `LinearSVC`와 `SGDClassifier`에는 `predict_proba` 메소드가 없어서 앙상블 할 땐 `Hard Voting`을 사용하겠다"
   ]
  },
  {
   "cell_type": "code",
   "execution_count": 53,
   "id": "c4fe86e7-f957-411d-b2ba-db46f6f59b0f",
   "metadata": {},
   "outputs": [],
   "source": [
    "def OOF_predict(model, X, y, test, SKfold, is_prob=False):\n",
    "    \"\"\"\n",
    "    Out-Of-Fold 방식을 통해 test를 예측\n",
    "    X는 csr_matrix이고 predict_proba 메소드가 있는 model이어야 함\n",
    "    \"\"\"\n",
    "        \n",
    "    model_valid_score = []\n",
    "    model_predict = np.zeros(shape=(test.shape[0], len(y.unique())))\n",
    "\n",
    "    for train_idx, valid_idx in SKfold.split(X, y):\n",
    "        X_train, y_train = X[train_idx], y[train_idx]\n",
    "        X_valid, y_valid = X[valid_idx], y[valid_idx]\n",
    "\n",
    "        model.fit(X_train, y_train)\n",
    "\n",
    "        y_predict = model.predict_proba(X_valid).argmax(-1) ## 각 클래스별 확률을 구하고 -1차원을 기준으로 argmax를 구한다(확률이 가장 높은 인덱스 번호를 반환)\n",
    "        test_predict = model.predict_proba(test)  ## 각 클래스별 확률을 구함\n",
    "\n",
    "        model_valid_score.append(ACCURACY(y_predict, y_valid)) ## valid 정확도\n",
    "        model_predict += test_predict / SKfold.n_splits ## test 예측값(k Fold)\n",
    "    \n",
    "    if not is_prob:\n",
    "        model_predict = model_predict.argmax(-1)             \n",
    "    return model_valid_score, model_predict"
   ]
  },
  {
   "cell_type": "code",
   "execution_count": 54,
   "id": "0f454f87-785b-4d71-8277-6abae47bfde2",
   "metadata": {},
   "outputs": [],
   "source": [
    "SGD = SGDClassifier(loss='hinge', random_state=SEED)\n",
    "LSVC = LinearSVC(random_state=SEED, C=0.1)\n",
    "CNB = ComplementNB(alpha=2.5)\n",
    "logistic = LogisticRegression(C=0.6, max_iter=500, random_state=SEED)"
   ]
  },
  {
   "cell_type": "markdown",
   "id": "de2c611f-000b-46cc-b200-32ff0f6ec164",
   "metadata": {},
   "source": [
    "- hard voting"
   ]
  },
  {
   "cell_type": "code",
   "execution_count": 139,
   "id": "83743dbd-c093-4e7a-a9c1-447ad646b116",
   "metadata": {},
   "outputs": [],
   "source": [
    "# SGD.fit(train_tfidf3, target)\n",
    "# LSVC.fit(train_tfidf3, target)\n",
    "# CNB.fit(train_tfidf3, target)\n",
    "# logistic.fit(train_tfidf3, target)"
   ]
  },
  {
   "cell_type": "code",
   "execution_count": 55,
   "id": "6ce9b69e-1019-4edd-84d0-7743ecef4cc0",
   "metadata": {},
   "outputs": [
    {
     "data": {
      "text/plain": [
       "LogisticRegression(C=0.6, max_iter=500, random_state=22)"
      ]
     },
     "execution_count": 55,
     "metadata": {},
     "output_type": "execute_result"
    }
   ],
   "source": [
    "SGD.fit(train_tfidf4, target)\n",
    "LSVC.fit(train_tfidf4, target)\n",
    "CNB.fit(train_tfidf4, target)\n",
    "logistic.fit(train_tfidf4, target)"
   ]
  },
  {
   "cell_type": "code",
   "execution_count": 56,
   "id": "42ddd4c5-b67a-4ce3-b7bb-2c9cea711a64",
   "metadata": {},
   "outputs": [],
   "source": [
    "SGD_test_pred = SGD.predict(test_tfidf4)\n",
    "LSVC_test_pred = LSVC.predict(test_tfidf4)\n",
    "CNB_test_pred = CNB.predict(test_tfidf4)\n",
    "logistic_test_pred = logistic.predict(test_tfidf4)"
   ]
  },
  {
   "cell_type": "code",
   "execution_count": 76,
   "id": "186c4110-b8ed-476c-8281-dfd3d7185187",
   "metadata": {},
   "outputs": [],
   "source": [
    "def hard_voting(*preds):\n",
    "    \"\"\"\n",
    "    1과2를 헷갈리면 1로 매칭, 4와 5를 헷갈리면 4로 매칭 (사전 정보 활용)\n",
    "    동점을 피하기 위해 홀수 개의 모델을 사용\"\"\"\n",
    "    major = len(preds) // 2\n",
    "    test_pred = []\n",
    "    preds_list = np.stack([*preds], axis=1).tolist()\n",
    "    \n",
    "    for preds in preds_list:\n",
    "        pred_count = [0 for _ in range(6)] ## 평점: [0, 1, 2, 3, 4, 5], (0점과 3점은 없음)\n",
    "        for p in preds:\n",
    "            pred_count[p] += 1\n",
    "            \n",
    "        vote_count = max(pred_count)\n",
    "        if vote_count > major:\n",
    "            test_pred.append(pred_count.index(vote_count))\n",
    "        else: ## 과반수 투표 받은 평점이 없다\n",
    "            if sum(pred_count[3:]) > sum(pred_count[:3]): ## 4, 5점이 1, 2점보다 투표를 많이 받았다면\n",
    "                if pred_count[4] >= pred_count[5]:\n",
    "                    test_pred.append(4)\n",
    "                else:\n",
    "                    test_pred.append(5)\n",
    "            else:\n",
    "                if pred_count[1] >= pred_count[2]:\n",
    "                    test_pred.append(1)\n",
    "                else:\n",
    "                    test_pred.append(2)\n",
    "                    \n",
    "    return test_pred"
   ]
  },
  {
   "cell_type": "code",
   "execution_count": 81,
   "id": "c63a49ad-604e-4b99-9f56-a26f7911c497",
   "metadata": {},
   "outputs": [],
   "source": [
    "test_pred = hard_voting(SGD_test_pred, LSVC_test_pred, logistic_test_pred)"
   ]
  },
  {
   "cell_type": "code",
   "execution_count": 65,
   "id": "e295738d-5d8c-44d3-9590-48ba0f727efd",
   "metadata": {},
   "outputs": [
    {
     "data": {
      "text/html": [
       "<div>\n",
       "<style scoped>\n",
       "    .dataframe tbody tr th:only-of-type {\n",
       "        vertical-align: middle;\n",
       "    }\n",
       "\n",
       "    .dataframe tbody tr th {\n",
       "        vertical-align: top;\n",
       "    }\n",
       "\n",
       "    .dataframe thead th {\n",
       "        text-align: right;\n",
       "    }\n",
       "</style>\n",
       "<table border=\"1\" class=\"dataframe\">\n",
       "  <thead>\n",
       "    <tr style=\"text-align: right;\">\n",
       "      <th></th>\n",
       "      <th>id</th>\n",
       "      <th>target</th>\n",
       "    </tr>\n",
       "  </thead>\n",
       "  <tbody>\n",
       "    <tr>\n",
       "      <th>0</th>\n",
       "      <td>0</td>\n",
       "      <td>2</td>\n",
       "    </tr>\n",
       "    <tr>\n",
       "      <th>1</th>\n",
       "      <td>1</td>\n",
       "      <td>2</td>\n",
       "    </tr>\n",
       "    <tr>\n",
       "      <th>2</th>\n",
       "      <td>2</td>\n",
       "      <td>5</td>\n",
       "    </tr>\n",
       "    <tr>\n",
       "      <th>3</th>\n",
       "      <td>3</td>\n",
       "      <td>1</td>\n",
       "    </tr>\n",
       "    <tr>\n",
       "      <th>4</th>\n",
       "      <td>4</td>\n",
       "      <td>1</td>\n",
       "    </tr>\n",
       "  </tbody>\n",
       "</table>\n",
       "</div>"
      ],
      "text/plain": [
       "   id  target\n",
       "0   0       2\n",
       "1   1       2\n",
       "2   2       5\n",
       "3   3       1\n",
       "4   4       1"
      ]
     },
     "execution_count": 65,
     "metadata": {},
     "output_type": "execute_result"
    }
   ],
   "source": [
    "submission['target'] = LSVC_test_pred\n",
    "submission.head()"
   ]
  },
  {
   "cell_type": "code",
   "execution_count": 66,
   "id": "38bc53da-ca71-4918-b723-8f73134f9b45",
   "metadata": {},
   "outputs": [
    {
     "data": {
      "text/plain": [
       "<AxesSubplot:xlabel='target', ylabel='count'>"
      ]
     },
     "execution_count": 66,
     "metadata": {},
     "output_type": "execute_result"
    },
    {
     "data": {
      "image/png": "[encoded data removed]",
      "text/plain": [
       "<Figure size 432x288 with 1 Axes>"
      ]
     },
     "metadata": {
      "needs_background": "light"
     },
     "output_type": "display_data"
    }
   ],
   "source": [
    "sns.countplot(data=submission, x='target')"
   ]
  },
  {
   "cell_type": "code",
   "execution_count": 68,
   "id": "0fda525c-7c41-488f-abb8-72d6dc33a722",
   "metadata": {},
   "outputs": [],
   "source": [
    "# submission.to_csv('./Data/submission7.csv', index=False)"
   ]
  },
  {
   "cell_type": "code",
   "execution_count": null,
   "id": "c287687f-4c92-41b2-9e09-015a743c363d",
   "metadata": {},
   "outputs": [],
   "source": []
  }
 ],
 "metadata": {
  "kernelspec": {
   "display_name": "Python 3 (ipykernel)",
   "language": "python",
   "name": "python3"
  },
  "language_info": {
   "codemirror_mode": {
    "name": "ipython",
    "version": 3
   },
   "file_extension": ".py",
   "mimetype": "text/x-python",
   "name": "python",
   "nbconvert_exporter": "python",
   "pygments_lexer": "ipython3",
   "version": "3.8.11"
  }
 },
 "nbformat": 4,
 "nbformat_minor": 5
}
