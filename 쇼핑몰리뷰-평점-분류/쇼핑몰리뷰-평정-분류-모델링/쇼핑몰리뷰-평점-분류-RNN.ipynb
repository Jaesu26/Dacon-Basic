{
  "nbformat": 4,
  "nbformat_minor": 0,
  "metadata": {
    "colab": {
      "name": "쇼핑몰평점-분류-RNN.ipynb",
      "provenance": [],
      "collapsed_sections": [],
      "authorship_tag": "ABX9TyMhtJS/tskPiImuelk6yhh/",
      "include_colab_link": true
    },
    "kernelspec": {
      "name": "python3",
      "display_name": "Python 3"
    },
    "language_info": {
      "name": "python"
    },
    "accelerator": "GPU",
    "gpuClass": "standard"
  },
  "cells": [
    {
      "cell_type": "markdown",
      "metadata": {
        "id": "view-in-github",
        "colab_type": "text"
      },
      "source": [
        "<a href=\"https://colab.research.google.com/github/Jaesu26/Dacon-Basic/blob/main/%EC%87%BC%ED%95%91%EB%AA%B0%ED%8F%89%EC%A0%90-%EB%B6%84%EB%A5%98-RNN.ipynb\" target=\"_parent\"><img src=\"https://colab.research.google.com/assets/colab-badge.svg\" alt=\"Open In Colab\"/></a>"
      ]
    },
    {
      "cell_type": "markdown",
      "source": [
        "# 쇼핑몰 리뷰 평점 분류 경진대회"
      ],
      "metadata": {
        "id": "iwUWEkWIltJI"
      }
    },
    {
      "cell_type": "markdown",
      "source": [
        "## 데이터 불러오기"
      ],
      "metadata": {
        "id": "PAkzZHYTmALh"
      }
    },
    {
      "cell_type": "code",
      "source": [
        "import numpy as np\n",
        "import pandas as pd\n",
        "import os, re\n",
        "import matplotlib.pyplot as plt\n",
        "import seaborn as sns\n",
        "import warnings\n",
        "from tqdm import tqdm\n",
        "from glob import glob\n",
        "\n",
        "warnings.filterwarnings('ignore')"
      ],
      "metadata": {
        "id": "WDRodb6YmCYo"
      },
      "execution_count": 1,
      "outputs": []
    },
    {
      "cell_type": "code",
      "source": [
        "SEED = 22\n",
        "N_FOLD = 5\n",
        "SAVE_PATH = './weight2'\n",
        "LEARNING_RATE = 1e-6\n",
        "EPOCHS = 50\n",
        "BATCH_SIZE = 64"
      ],
      "metadata": {
        "id": "pne-4mx9mEoB"
      },
      "execution_count": 91,
      "outputs": []
    },
    {
      "cell_type": "code",
      "source": [
        "from google.colab import drive\n",
        "\n",
        "drive.mount('/content/drive') ## 구글코랩과 구글드라이브 연결"
      ],
      "metadata": {
        "colab": {
          "base_uri": "https://localhost:8080/"
        },
        "id": "zu9uDzutmThQ",
        "outputId": "bdfb8cce-781b-4d15-b21c-6854fd5f59c9"
      },
      "execution_count": 4,
      "outputs": [
        {
          "output_type": "stream",
          "name": "stdout",
          "text": [
            "Mounted at /content/drive\n"
          ]
        }
      ]
    },
    {
      "cell_type": "code",
      "source": [
        "%cd  '/content/drive/MyDrive/Colab Notebooks/쇼핑몰-평점-분류/Data'"
      ],
      "metadata": {
        "colab": {
          "base_uri": "https://localhost:8080/"
        },
        "id": "OFhKNrkBmUNA",
        "outputId": "4b641a56-ac7c-4f4d-f09a-88fb35400692"
      },
      "execution_count": 6,
      "outputs": [
        {
          "output_type": "stream",
          "name": "stdout",
          "text": [
            "/content/drive/MyDrive/Colab Notebooks/쇼핑몰-평점-분류/Data\n"
          ]
        }
      ]
    },
    {
      "cell_type": "code",
      "source": [
        "# !unzip -o 'dataset.zip의 사본' ## 현재 디렉토리에 존재하는 zip파일을 현재 디렉토리에 압축해제"
      ],
      "metadata": {
        "id": "alAc6aWFmiQA"
      },
      "execution_count": null,
      "outputs": []
    },
    {
      "cell_type": "code",
      "source": [
        "%cd  '/content/drive/MyDrive/Colab Notebooks/쇼핑몰-평점-분류'"
      ],
      "metadata": {
        "colab": {
          "base_uri": "https://localhost:8080/"
        },
        "id": "K6V_P6j1mnbQ",
        "outputId": "ff3cb7c5-ef40-4b6a-8c9a-9a146d4f2bc5"
      },
      "execution_count": 7,
      "outputs": [
        {
          "output_type": "stream",
          "name": "stdout",
          "text": [
            "/content/drive/MyDrive/Colab Notebooks/쇼핑몰-평점-분류\n"
          ]
        }
      ]
    },
    {
      "cell_type": "code",
      "source": [
        "df = pd.read_csv('./Data/train.csv')\n",
        "test = pd.read_csv('./Data/test.csv')\n",
        "submission = pd.read_csv('./Data/sample_submission.csv')"
      ],
      "metadata": {
        "id": "5N4jLtrvmqmR"
      },
      "execution_count": 8,
      "outputs": []
    },
    {
      "cell_type": "code",
      "source": [
        "sns.countplot(data=df, x='target')"
      ],
      "metadata": {
        "colab": {
          "base_uri": "https://localhost:8080/",
          "height": 297
        },
        "id": "il9WczfcG-Cp",
        "outputId": "f4787a39-1dba-4aba-b6ad-863fd3b62fea"
      },
      "execution_count": 9,
      "outputs": [
        {
          "output_type": "execute_result",
          "data": {
            "text/plain": [
              "<matplotlib.axes._subplots.AxesSubplot at 0x7fd1ed2f1690>"
            ]
          },
          "metadata": {},
          "execution_count": 9
        },
        {
          "output_type": "display_data",
          "data": {
            "text/plain": [
              "<Figure size 432x288 with 1 Axes>"
            ],
            "image/png": "[encoded data removed]"
          },
          "metadata": {
            "needs_background": "light"
          }
        }
      ]
    },
    {
      "cell_type": "code",
      "source": [
        "df['target'].value_counts()"
      ],
      "metadata": {
        "colab": {
          "base_uri": "https://localhost:8080/"
        },
        "id": "Lo1KjKDZHCHq",
        "outputId": "d0e2db64-de0d-4084-ceda-08bc3e9d2a37"
      },
      "execution_count": 10,
      "outputs": [
        {
          "output_type": "execute_result",
          "data": {
            "text/plain": [
              "5    10000\n",
              "2     8000\n",
              "1     4500\n",
              "4     2500\n",
              "Name: target, dtype: int64"
            ]
          },
          "metadata": {},
          "execution_count": 10
        }
      ]
    },
    {
      "cell_type": "markdown",
      "source": [
        "## 데이터 전처리"
      ],
      "metadata": {
        "id": "8xfozdGHnDUh"
      }
    },
    {
      "cell_type": "code",
      "source": [
        "def clean_text(texts): \n",
        "    corpus = [] \n",
        "    for text in texts: \n",
        "        review = re.sub(r'\\s+', ' ', text) ## extra space 제거\n",
        "        review = re.sub(r'^\\s+', '', review) ## space from start 제거\n",
        "        review = re.sub(r'\\s+$', '', review) ## space from the end 제거\n",
        "        corpus.append(review) \n",
        "\n",
        "    return corpus"
      ],
      "metadata": {
        "id": "8tz_MifXmweo"
      },
      "execution_count": 11,
      "outputs": []
    },
    {
      "cell_type": "code",
      "source": [
        "df['clean_reviews'] = clean_text(df['reviews'])\n",
        "test['clean_reviews'] = clean_text(test['reviews'])"
      ],
      "metadata": {
        "id": "oYG1pVsUnRny"
      },
      "execution_count": 12,
      "outputs": []
    },
    {
      "cell_type": "code",
      "source": [
        "df['clean_reviews'].str.len().hist()"
      ],
      "metadata": {
        "colab": {
          "base_uri": "https://localhost:8080/",
          "height": 283
        },
        "id": "pmPgKqkrnS7Y",
        "outputId": "89e9e76f-2b7f-4c5b-8e71-a8324e8d38d0"
      },
      "execution_count": 13,
      "outputs": [
        {
          "output_type": "execute_result",
          "data": {
            "text/plain": [
              "<matplotlib.axes._subplots.AxesSubplot at 0x7fd1ebef03d0>"
            ]
          },
          "metadata": {},
          "execution_count": 13
        },
        {
          "output_type": "display_data",
          "data": {
            "text/plain": [
              "<Figure size 432x288 with 1 Axes>"
            ],
            "image/png": "[encoded data removed]"
          },
          "metadata": {
            "needs_background": "light"
          }
        }
      ]
    },
    {
      "cell_type": "markdown",
      "source": [
        "## 데이터 셋 및 딥러닝 모델 정의"
      ],
      "metadata": {
        "id": "fWst40rhnWZI"
      }
    },
    {
      "cell_type": "code",
      "source": [
        "import torch\n",
        "from torch.utils.data import Dataset, DataLoader\n",
        "from torch import nn\n",
        "from sklearn.model_selection import StratifiedKFold\n",
        "from sklearn.feature_extraction.text import TfidfVectorizer\n",
        "import gc"
      ],
      "metadata": {
        "id": "7UcU3hv8nloY"
      },
      "execution_count": 14,
      "outputs": []
    },
    {
      "cell_type": "markdown",
      "source": [
        "- 가중치 저장 폴더 생성"
      ],
      "metadata": {
        "id": "p1-4stuyoybo"
      }
    },
    {
      "cell_type": "code",
      "source": [
        "def create_folder(directory):\n",
        "    try:\n",
        "        if not os.path.exists(directory):\n",
        "            os.makedirs(directory)\n",
        "    except OSError as error:\n",
        "        print(error)"
      ],
      "metadata": {
        "id": "ycIk-qTbo0BA"
      },
      "execution_count": 15,
      "outputs": []
    },
    {
      "cell_type": "code",
      "source": [
        "create_folder(SAVE_PATH)"
      ],
      "metadata": {
        "id": "IufaZ674o1HA"
      },
      "execution_count": 16,
      "outputs": []
    },
    {
      "cell_type": "code",
      "source": [
        "device = torch.device('cuda' if torch.cuda.is_available() else 'cpu')"
      ],
      "metadata": {
        "id": "jBQ7jvKpntKo"
      },
      "execution_count": 17,
      "outputs": []
    },
    {
      "cell_type": "code",
      "source": [
        "print(f'현재 device는 {device}입니다')"
      ],
      "metadata": {
        "colab": {
          "base_uri": "https://localhost:8080/"
        },
        "id": "CWUNyzOHnuEg",
        "outputId": "7139e794-6934-4cdf-ec6b-4ccecf06a8b6"
      },
      "execution_count": 18,
      "outputs": [
        {
          "output_type": "stream",
          "name": "stdout",
          "text": [
            "현재 device는 cuda입니다\n"
          ]
        }
      ]
    },
    {
      "cell_type": "code",
      "source": [
        "## accuracy 계산\n",
        "def ACCURACY(true, pred):\n",
        "    return sum(true == pred) / len(true)"
      ],
      "metadata": {
        "id": "_6bbzfe0ohu4"
      },
      "execution_count": 19,
      "outputs": []
    },
    {
      "cell_type": "code",
      "source": [
        "def seed_everything(seed: int = 22):\n",
        "    import random, os\n",
        "    import numpy as np\n",
        "    import torch\n",
        "    \n",
        "    random.seed(seed)\n",
        "    os.environ['PYTHONHASHSEED'] = str(seed)\n",
        "    np.random.seed(seed)\n",
        "    torch.manual_seed(seed)\n",
        "    torch.cuda.manual_seed(seed)\n",
        "    torch.backends.cudnn.deterministic = True\n",
        "    torch.backends.cudnn.benchmark = True"
      ],
      "metadata": {
        "id": "ZoKtIyp7nvFw"
      },
      "execution_count": 20,
      "outputs": []
    },
    {
      "cell_type": "code",
      "source": [
        "seed_everything(SEED) ## 재현을 위한 seed 고정"
      ],
      "metadata": {
        "id": "qYStbfYbnwXo"
      },
      "execution_count": 21,
      "outputs": []
    },
    {
      "cell_type": "code",
      "source": [
        "tfidf = TfidfVectorizer(analyzer='char', ngram_range=(1, 3), max_features=20000, sublinear_tf=True)"
      ],
      "metadata": {
        "id": "Jn2Pl33WncEo"
      },
      "execution_count": 77,
      "outputs": []
    },
    {
      "cell_type": "code",
      "source": [
        "train_tfidf = tfidf.fit_transform(df['clean_reviews'])\n",
        "test_tfidf = tfidf.transform(test['clean_reviews'])"
      ],
      "metadata": {
        "id": "nP7oO1ekn2eI"
      },
      "execution_count": 78,
      "outputs": []
    },
    {
      "cell_type": "code",
      "source": [
        "target = df['target'].copy()"
      ],
      "metadata": {
        "id": "Q6eCjcaCtrZA"
      },
      "execution_count": 79,
      "outputs": []
    },
    {
      "cell_type": "code",
      "source": [
        "target = target.map({1:0, 2:1, 4:2, 5:3})"
      ],
      "metadata": {
        "id": "l--gu2d9v87p"
      },
      "execution_count": 80,
      "outputs": []
    },
    {
      "cell_type": "markdown",
      "source": [
        "- 데이터 셋"
      ],
      "metadata": {
        "id": "Q0aAOUOKo71Y"
      }
    },
    {
      "cell_type": "code",
      "source": [
        "class CustomDataset(Dataset):\n",
        "  \n",
        "    def __init__(self, csr_matrix, labels=None, transform=None, target_transform=None):\n",
        "        self.X = csr_matrix  ## 희소행렬\n",
        "        self.labels = labels  ## 라벨\n",
        "        self.transform = transform  ## X 변환방법\n",
        "        self.target_transform = target_transform ## 라벨 변환방법\n",
        "    \n",
        "    def __getitem__(self, idx):\n",
        "        data = self.X[idx]\n",
        "        if self.transform is not None: \n",
        "            data = self.transform(data) \n",
        "            \n",
        "        if self.labels is not None:\n",
        "            label = self.labels[idx]\n",
        "            if self.target_transform:\n",
        "                label = self.target_transform(label)             \n",
        "            return data, label  ## train   \n",
        "        \n",
        "        return data  ## test는 라벨이 없다\n",
        "    \n",
        "    def __len__(self):\n",
        "        return self.X.shape[0] ## 데이터 개수 반환"
      ],
      "metadata": {
        "id": "cw-ix20fn85g"
      },
      "execution_count": 26,
      "outputs": []
    },
    {
      "cell_type": "code",
      "source": [
        "## 커스텀 train 데이터 로더를 위한 함수\n",
        "def collate_batch_train(batch):\n",
        "    \"\"\"희소행렬이 input으로 들어오면 batch에 해당하는 부분만 텐서로 변환하여 리턴\"\"\"\n",
        "    text_list = []\n",
        "    label_list = []\n",
        "    for text_tfidf, text_class in batch:\n",
        "        text_list.append(text_tfidf.toarray())\n",
        "        label_list.append(text_class)\n",
        "\n",
        "    label_tensor = torch.tensor(np.array(label_list), dtype=torch.int64) \n",
        "    text_tensor = torch.tensor(np.array(text_list), dtype=torch.float32)\n",
        "    return text_tensor, label_tensor"
      ],
      "metadata": {
        "id": "4AkxvNmMn_wo"
      },
      "execution_count": 27,
      "outputs": []
    },
    {
      "cell_type": "code",
      "source": [
        "## 커스텀 test 데이터 로더를 위한 함수\n",
        "def collate_batch_test(batch):\n",
        "    \"\"\"희소행렬이 input으로 들어오면 batch에 해당하는 부분만 텐서로 변환하여 리턴\"\"\"\n",
        "    text_list = []\n",
        "    for text_tfidf in batch:\n",
        "        text_list.append(text_tfidf.toarray())\n",
        "\n",
        "    text_tensor = torch.tensor(np.array(text_list), dtype=torch.float32) \n",
        "    return text_tensor"
      ],
      "metadata": {
        "id": "kTk3BU1eoDSY"
      },
      "execution_count": 28,
      "outputs": []
    },
    {
      "cell_type": "markdown",
      "source": [
        "`-` 데이터 셋의 아웃풋이 데이터 로더의 인풋이다\n",
        "\n",
        "`-` 그리고 데이터 로더의 아웃풋을 조정하는 DataLoader의 메소드가 collate_fn이다"
      ],
      "metadata": {
        "id": "TG5OogP8oFLw"
      }
    },
    {
      "cell_type": "markdown",
      "source": [
        "- RNN"
      ],
      "metadata": {
        "id": "rb7Quxf90oM6"
      }
    },
    {
      "cell_type": "code",
      "source": [
        "input_size = train_tfidf.shape[1]\n",
        "hidden_size = 256\n",
        "num_layers = 1\n",
        "num_classes = 4"
      ],
      "metadata": {
        "id": "XSgMe5wX1Qo6"
      },
      "execution_count": 105,
      "outputs": []
    },
    {
      "cell_type": "code",
      "source": [
        "## RNN class 정의 (many-to-one)\n",
        "## 코드: https://velog.io/@sjinu/Pytorch-Implementation-code\n",
        "\n",
        "class RNN(nn.Module):\n",
        "    def __init__(self, input_size, hidden_size, num_layers, num_classes):\n",
        "        super().__init__() ## 상속한 nn.Module에서 RNN에 해당하는 init 실행\n",
        "        self.hidden_size = hidden_size\n",
        "        self.num_layers = num_layers\n",
        "        self.lstm = nn.LSTM(input_size, hidden_size, num_layers, batch_first=True, bidirectional=True)\n",
        "        self.fc = nn.Linear(2*hidden_size, num_classes)\n",
        "\n",
        "    def forward(self, x): \n",
        "        ## input x : (BATCH, LENGTH, INPUT_SIZE) 입니다 (다양한 length를 다룰 수 있습니다.).\n",
        "        ## 최초의 hidden state와 cell state를 초기화시켜주어야 합니다.\n",
        "        ## 배치 사이즈는 가변적이므로 클래스 내에선 표현하지 않습니다.\n",
        "        ## 만약 Bi-directional LSTM이라면 아래의 hidden and cell states의 첫번째 차원은 2*self.num_layers 입니다. \n",
        "        h0 = torch.zeros(2*self.num_layers, x.size(0), self.hidden_size).to(device) ## (BATCH SIZE, SEQ_LENGTH, HIDDEN_SIZE)\n",
        "        c0 = torch.zeros(2*self.num_layers, x.size(0), self.hidden_size).to(device) ## hidden state와 동일\n",
        "\n",
        "        ## LSTM 순전파\n",
        "        out, _ = self.lstm(x, (h0, c0)) ## output : (BATCH_SIZE, SEQ_LENGTH, HIDDEN_SIZE) tensors. (hn, cn)은 필요 없으므로 받지 않고 _로 처리합니다. \n",
        "\n",
        "        ## 마지막 time step(sequence length)의 hidden state를 사용해 Class들의 logit을 반환합니다(hidden_size -> num_classes). \n",
        "        out = self.fc(out[:, -1, :])\n",
        "        return out"
      ],
      "metadata": {
        "id": "ut3MBw0T0pRR"
      },
      "execution_count": 30,
      "outputs": []
    },
    {
      "cell_type": "markdown",
      "source": [
        "- 가중치 초기화"
      ],
      "metadata": {
        "id": "iBPK_eNZpBfg"
      }
    },
    {
      "cell_type": "code",
      "source": [
        "## Linear layer 가중치 초기화\n",
        "def init_weights(m):\n",
        "    classname = m.__class__.__name__\n",
        "    if classname.find('Linear') != -1:\n",
        "        y = m.in_features\n",
        "        m.weight.data.normal_(0.0, np.sqrt(2 / y))\n",
        "        m.bias.data.fill_(0)"
      ],
      "metadata": {
        "id": "218bRaAyodj5"
      },
      "execution_count": 31,
      "outputs": []
    },
    {
      "cell_type": "markdown",
      "source": [
        "- 조기 중단"
      ],
      "metadata": {
        "id": "We66ZRaaokzY"
      }
    },
    {
      "cell_type": "code",
      "source": [
        "class EarlyStopping:\n",
        "    ## 코드 참고: https://github.com/Bjarten/early-stopping-pytorch/blob/master/pytorchtools.py\n",
        "    \n",
        "    \"\"\"주어진 patience 이후로 validation loss가 개선되지 않으면 학습을 조기 중지\"\"\"\n",
        "    def __init__(self, patience=7, verbose=False, delta=0, path='./weight', n_fold=1):\n",
        "        \"\"\"\n",
        "        Args:\n",
        "            patience (int): validation loss가 개선된 후 기다리는 에폭\n",
        "                            Default: 7\n",
        "            verbose (bool): True일 경우 각 validation loss의 개선 사항 메세지 출력\n",
        "                            Default: False\n",
        "            delta (float): 개선되었다고 인정되는 monitered quantity의 최소 변화\n",
        "                            Default: 0\n",
        "            path (str): checkpoint 저장 경로\n",
        "                            Default: 'checkpoint.pt'\n",
        "            n_fold (int): 현재 학습을 진행하는 fold의 순서\n",
        "                            Default: 1\n",
        "        \"\"\"\n",
        "        self.patience = patience\n",
        "        self.verbose = verbose\n",
        "        self.counter = 0\n",
        "        self.best_score = None\n",
        "        self.early_stop = False\n",
        "        self.val_loss_min = np.Inf\n",
        "        self.val_acc = None\n",
        "        self.delta = delta\n",
        "        self.path = path\n",
        "        self.n_fold = n_fold\n",
        "\n",
        "    def __call__(self, model, val_loss, val_acc):\n",
        "\n",
        "        score = -val_loss ## val_loss는 작을수록 좋다 ## score는 0에 가까울수록 좋다\n",
        "\n",
        "        if self.best_score is None:\n",
        "            self.best_score = score\n",
        "            self.save_checkpoint(val_loss, val_acc, model)  \n",
        "        elif score < self.best_score + self.delta: ## loss가 개선되지 않았을 때\n",
        "            self.counter += 1 ## 카운팅 +1\n",
        "            # print(f'EarlyStopping counter: {self.counter} out of {self.patience}')\n",
        "            if self.counter >= self.patience: ## 만약 loss가 개선되지 않은 스탭이 patience보다 크거나 같아진다면 조기중단\n",
        "                self.early_stop = True\n",
        "        else: ## loss가 개선됨\n",
        "            self.best_score = score ## score 갱신\n",
        "            self.save_checkpoint(val_loss, val_acc, model) ## loss와 model 저장\n",
        "            self.counter = 0 ## loss가 개선되었으므로 0으로 초기화\n",
        "\n",
        "    def save_checkpoint(self, val_loss, val_acc, model):\n",
        "        \"\"\"validation loss가 감소하면 모델을 저장\"\"\"\n",
        "        if self.verbose:\n",
        "            print(f'Validation loss decreased ({self.val_loss_min:.5f} -> {val_loss:.5f})  Saving model ...')\n",
        "        torch.save(model.state_dict(), self.path + f'/best_{self.n_fold}.pt') ## 모델의 계층별 가중치를 지정한 경로에 저장\n",
        "        self.val_loss_min = val_loss ## 모델이 더 좋게 갱신되었으므로 이때의 valid loss를 기준치로 변경\n",
        "        self.val_acc = val_acc ## 이때의 valid accuracy도 변경해준다"
      ],
      "metadata": {
        "id": "1I396-nepL95"
      },
      "execution_count": 32,
      "outputs": []
    },
    {
      "cell_type": "markdown",
      "source": [
        "- 스케쥴러"
      ],
      "metadata": {
        "id": "H8VZVb0PpMaB"
      }
    },
    {
      "cell_type": "code",
      "source": [
        "import math\n",
        "from torch.optim.lr_scheduler import _LRScheduler\n",
        "\n",
        "class CosineAnnealingWarmUpRestarts(_LRScheduler):\n",
        "    ## 코드: https://github.com/gaussian37/pytorch_deep_learning_models/blob/master/cosine_annealing_with_warmup/cosine_annealing_with_warmup.py\n",
        "    def __init__(self, optimizer, T_0, T_mult=1, eta_max=0.1, T_up=0, gamma=1., last_epoch=-1):\n",
        "        if T_0 <= 0 or not isinstance(T_0, int):\n",
        "            raise ValueError(\"Expected positive integer T_0, but got {}\".format(T_0))\n",
        "        if T_mult < 1 or not isinstance(T_mult, int):\n",
        "            raise ValueError(\"Expected integer T_mult >= 1, but got {}\".format(T_mult))\n",
        "        if T_up < 0 or not isinstance(T_up, int):\n",
        "            raise ValueError(\"Expected positive integer T_up, but got {}\".format(T_up))\n",
        "            \n",
        "        self.T_0 = T_0\n",
        "        self.T_mult = T_mult\n",
        "        self.base_eta_max = eta_max\n",
        "        self.eta_max = eta_max\n",
        "        self.T_up = T_up\n",
        "        self.T_i = T_0\n",
        "        self.gamma = gamma\n",
        "        self.cycle = 0\n",
        "        self.T_cur = last_epoch\n",
        "        super(CosineAnnealingWarmUpRestarts, self).__init__(optimizer, last_epoch)\n",
        "    \n",
        "    def get_lr(self):\n",
        "        if self.T_cur == -1:\n",
        "            return self.base_lrs\n",
        "        elif self.T_cur < self.T_up:\n",
        "            return [(self.eta_max - base_lr)*self.T_cur / self.T_up + base_lr for base_lr in self.base_lrs]\n",
        "        else:\n",
        "            return [base_lr + (self.eta_max - base_lr) * (1 + math.cos(math.pi * (self.T_cur-self.T_up) / (self.T_i - self.T_up))) / 2\n",
        "                    for base_lr in self.base_lrs]\n",
        "\n",
        "    def step(self, epoch=None):\n",
        "        if epoch is None:\n",
        "            epoch = self.last_epoch + 1\n",
        "            self.T_cur = self.T_cur + 1\n",
        "            if self.T_cur >= self.T_i:\n",
        "                self.cycle += 1\n",
        "                self.T_cur = self.T_cur - self.T_i\n",
        "                self.T_i = (self.T_i - self.T_up) * self.T_mult + self.T_up\n",
        "        else:\n",
        "            if epoch >= self.T_0:\n",
        "                if self.T_mult == 1:\n",
        "                    self.T_cur = epoch % self.T_0\n",
        "                    self.cycle = epoch // self.T_0\n",
        "                else:\n",
        "                    n = int(math.log((epoch / self.T_0 * (self.T_mult - 1) + 1), self.T_mult))\n",
        "                    self.cycle = n\n",
        "                    self.T_cur = epoch - self.T_0 * (self.T_mult ** n - 1) / (self.T_mult - 1)\n",
        "                    self.T_i = self.T_0 * self.T_mult ** (n)\n",
        "            else:\n",
        "                self.T_i = self.T_0\n",
        "                self.T_cur = epoch\n",
        "                \n",
        "        self.eta_max = self.base_eta_max * (self.gamma**self.cycle)\n",
        "        self.last_epoch = math.floor(epoch)\n",
        "        for param_group, lr in zip(self.optimizer.param_groups, self.get_lr()):\n",
        "            param_group['lr'] = lr"
      ],
      "metadata": {
        "id": "tkUnD2p2pPzw"
      },
      "execution_count": 33,
      "outputs": []
    },
    {
      "cell_type": "markdown",
      "source": [
        "## 모델 교차검증"
      ],
      "metadata": {
        "id": "jEM3ndTQpRdg"
      }
    },
    {
      "cell_type": "code",
      "source": [
        "skfold = StratifiedKFold(n_splits=N_FOLD, random_state=SEED, shuffle=True) ## k겹 교차검증"
      ],
      "metadata": {
        "id": "3nJhhK0gpbUy"
      },
      "execution_count": 89,
      "outputs": []
    },
    {
      "cell_type": "code",
      "source": [
        "loss_fn = torch.nn.CrossEntropyLoss(label_smoothing=0.025)   ## 손실 함수에 소프트맥스 함수 포함 -> net 내부에서 마지막 활성화함수로 소프트맥스 사용안해도 됨"
      ],
      "metadata": {
        "id": "4D09n3-gpdfQ"
      },
      "execution_count": 102,
      "outputs": []
    },
    {
      "cell_type": "code",
      "source": [
        "def train(model: nn.Module, dataloader, optimizer, loss_fn, scheduler=None):\n",
        "    \"\"\"dataloader의 데이터를 사용하여 학습된 모델과 epoch 하나당 batch들의 평균 훈련 오차를 반환\"\"\"\n",
        "    model.train() ## 훈련모드\n",
        "    train_avg_loss = 0 ## 에폭별 배치단위 평균 훈련 오차\n",
        "    train_total_batch = len(dataloader) ## 배치 크기\n",
        "\n",
        "    for X, y in dataloader: ## 미니 배치 단위로 꺼내온다, X는 미니 배치, y는 레이블\n",
        "        X, y = X.to(device), y.to(device)\n",
        "        optimizer.zero_grad() ## 그래디언트 초기화\n",
        "        yhat = model(X) ## y_hat을 구한다\n",
        "        loss = loss_fn(yhat, y).to(device) ## 오차를 계산 ## train loss\n",
        "        loss.backward()  ## 미분\n",
        "        optimizer.step() ## 업데이트\n",
        "        train_avg_loss += (loss.item() / train_total_batch) ## 각 배치마다 훈련 오차 누적\n",
        "\n",
        "    ## epoch마다 학습률 조절\n",
        "    if scheduler is not None:\n",
        "        scheduler.step()\n",
        "\n",
        "    return model, train_avg_loss"
      ],
      "metadata": {
        "id": "WiFZjNLQpf_o"
      },
      "execution_count": 36,
      "outputs": []
    },
    {
      "cell_type": "code",
      "source": [
        "def evaluate(model: nn.Module, dataloader, loss_fn):\n",
        "    \"\"\"dataloader의 데이터를 사용하여 모델에 대한 epoch 하나당 batch들의 평균 평가 오차와 평가 정확도를 반환\"\"\"\n",
        "    valid_avg_acc, valid_avg_loss = 0, 0\n",
        "\n",
        "    model.eval() ## 평가모드\n",
        "    with torch.no_grad(): ## 평가할 땐 역전파를 쓸 필요가 없으니까\n",
        "        for X, y in dataloader: \n",
        "            X, y = X.to(device), y.to(device)\n",
        "            yhat = model(X)\n",
        "            loss = loss_fn(yhat, y) ## valid loss\n",
        "            acc = ACCURACY(y.cpu().data.numpy(), yhat.cpu().data.numpy().argmax(-1))       \n",
        "            valid_avg_acc += (acc * len(y) / len(dataloader.dataset)) ## 각 배치마다 정확도(정답 개수 / 전체 개수)\n",
        "            valid_avg_loss += loss.item() / len(dataloader) ## 각 배치마다 평가 오차 누적    \n",
        "\n",
        "    return valid_avg_loss, valid_avg_acc"
      ],
      "metadata": {
        "id": "tXhoLZjRps1A"
      },
      "execution_count": 37,
      "outputs": []
    },
    {
      "cell_type": "code",
      "source": [
        "def show_loss_plot(train_loss: list, valid_loss: list, ax) -> None:\n",
        "    epochs = len(train_loss)\n",
        "    ax.set_title('Train Loss and Valid Loss')\n",
        "    ax.plot(range(1, epochs+1), train_loss, label='Train')\n",
        "    ax.plot(range(1, epochs+1), valid_loss, label='Valid')\n",
        "    ax.set_xlabel('Epochs')\n",
        "    ax.set_ylabel('Loss')\n",
        "    ax.legend()"
      ],
      "metadata": {
        "id": "xd5J3ltvxgTp"
      },
      "execution_count": 38,
      "outputs": []
    },
    {
      "cell_type": "markdown",
      "source": [
        "- 교차 검증"
      ],
      "metadata": {
        "id": "ZvdgWzPuxl3Z"
      }
    },
    {
      "cell_type": "code",
      "source": [
        "seed_everything(SEED) ## 정확한 loss 재현을 위함\n",
        "net_avg_acc = [] ## fold별 valid셋의 평균 정확도\n",
        "net_avg_loss = [] ## fold별 valid셋의 평균 손실\n",
        "net_epoch_train_loss = [[] for _ in range(N_FOLD)] ## fold별 train셋의 한 epoch당 valid셋의 배치 평균 손실\n",
        "net_epoch_valid_loss = [[] for _ in range(N_FOLD)] ## fold별 valid셋의 한 epoch당 valid셋의 배치 평균 손실\n",
        "\n",
        "for i, (train_idx, valid_idx) in enumerate(skfold.split(df, target)):\n",
        "    gc.collect()\n",
        "    torch.cuda.empty_cache()\n",
        "    print(f'{i + 1} / {N_FOLD} Fold Training......')\n",
        "    X_train, X_valid = train_tfidf[train_idx], train_tfidf[valid_idx] \n",
        "    y_train, y_valid = target.iloc[train_idx], target.iloc[valid_idx]\n",
        "    y_train = torch.tensor(y_train.to_numpy(), dtype=torch.int64) ## target을 텐서로 변환\n",
        "    y_valid = torch.tensor(y_valid.to_numpy(), dtype=torch.int64) ## target을 텐서로 변환\n",
        "    \n",
        "    ## early stopping\n",
        "    early_stopping = EarlyStopping(patience=5,\n",
        "                                   verbose=False,\n",
        "                                   path=SAVE_PATH,\n",
        "                                   n_fold=i+1) ## 특정 횟수 에폭후에도 valid loss가 작아지지 않으면 조기 중단\n",
        "    \n",
        "    ## Linear 모델\n",
        "    net = RNN(input_size, hidden_size, num_layers, num_classes).to(device) \n",
        "    #net = Net().to(device)\n",
        "    net.apply(init_weights) ## Linear layer 가중치 초기화\n",
        "    \n",
        "    ## Dataset, Dataloader\n",
        "    train_dataset = CustomDataset(X_train, y_train)\n",
        "    valid_dataset = CustomDataset(X_valid, y_valid)\n",
        "    \n",
        "    train_dataloader = DataLoader(train_dataset, batch_size=BATCH_SIZE, shuffle=True, collate_fn=collate_batch_train)\n",
        "    valid_dataloader = DataLoader(valid_dataset, batch_size=BATCH_SIZE, shuffle=True, collate_fn=collate_batch_train)\n",
        "\n",
        "    ## optimizer\n",
        "    optimizer = torch.optim.Adam(net.parameters(), lr=LEARNING_RATE) ## 옵티마이저에 최적화할 파라미터와 학습률 전달\n",
        "    \n",
        "    ## scheduler\n",
        "    scheduler = CosineAnnealingWarmUpRestarts(optimizer, T_0=30, T_mult=1, eta_max=1e-3, T_up=5, gamma=0.1)\n",
        "    \n",
        "    ## fold별로 모델 학습\n",
        "    for epoch in tqdm(range(EPOCHS)): ## (배치사이즈 * 에폭)만큼 훈련시킴\n",
        "        net, train_avg_loss = train(net, train_dataloader, optimizer, loss_fn, scheduler)  ## 모델 학습\n",
        "        valid_avg_loss, valid_avg_acc = evaluate(net, valid_dataloader, loss_fn)  ## 모델 평가\n",
        "        net_epoch_train_loss[i].append(train_avg_loss) ## i번째 fold의 에폭 하나당 평균 배치 훈련 오차\n",
        "        net_epoch_valid_loss[i].append(valid_avg_loss) ## i번째 fold의 에폭 하나당 평균 배치 평가 오차\n",
        "\n",
        "        if epoch % 10 == 0 or epoch == EPOCHS - 1: \n",
        "            ## 10의 배수값을 가지는 에폭마다 평균 배치 훈련 오차와 평가 오차 출력\n",
        "            print('[Epoch: {:>3}] train loss = {:>.5}  valid loss = {:>.5}'.format(epoch + 1, train_avg_loss, valid_avg_loss)) \n",
        "            \n",
        "        ## epoch마다 early stopping 실행\n",
        "        early_stopping(net, valid_avg_loss, valid_avg_acc) ## __call__ function\n",
        "        if early_stopping.early_stop: ## early_stop이 true이면\n",
        "            if epoch % 10 != 0 and epoch != EPOCHS - 1:\n",
        "                print('[Epoch: {:>3}] train loss = {:>.5}  valid loss = {:>.5}'.format(epoch + 1, train_avg_loss, valid_avg_loss)) \n",
        "            print('Early stopping!')\n",
        "            break \n",
        "\n",
        "    net_avg_acc.append(early_stopping.val_acc) ## fold별 loss가 가장 작은 모델의 정확도\n",
        "    net_avg_loss.append(early_stopping.val_loss_min) ## fold별 loss가 가장 작은 모델의 손실\n",
        "    \n",
        "    ## fold별 평가 루프 종료시 가장 작은 loss와 이때의 accuracy를 출력\n",
        "    print(f'{i + 1} Fold -> Best Valid Loss: {early_stopping.val_loss_min:.4f}  Best Valid Accuracy: {early_stopping.val_acc:.4f}\\n\\n')\n",
        "    \n",
        "## 마지막으로 폴드별 가장 loss가 작은 모델들의 평균 정확도와 평균 손실을 출력\n",
        "print(f'{skfold.n_splits} Fold Mean Valid Accuracy: {np.mean(net_avg_acc):.4f}')\n",
        "print(f'{skfold.n_splits} Fold Mean Valid Loss: {np.mean(net_avg_loss):.4f}')                "
      ],
      "metadata": {
        "colab": {
          "base_uri": "https://localhost:8080/"
        },
        "id": "mp_yt9j8ptzg",
        "outputId": "83cda565-4bc2-4e7c-a1c6-806f22c0322d"
      },
      "execution_count": 106,
      "outputs": [
        {
          "output_type": "stream",
          "name": "stdout",
          "text": [
            "1 / 5 Fold Training......\n"
          ]
        },
        {
          "output_type": "stream",
          "name": "stderr",
          "text": [
            "\r  0%|          | 0/50 [00:00<?, ?it/s]"
          ]
        },
        {
          "output_type": "stream",
          "name": "stdout",
          "text": [
            "[Epoch:   1] train loss = 1.3825  valid loss = 1.3807\n"
          ]
        },
        {
          "output_type": "stream",
          "name": "stderr",
          "text": [
            " 14%|█▍        | 7/50 [01:31<09:22, 13.08s/it]"
          ]
        },
        {
          "output_type": "stream",
          "name": "stdout",
          "text": [
            "[Epoch:   8] train loss = 0.29044  valid loss = 1.5996\n",
            "Early stopping!\n",
            "1 Fold -> Best Valid Loss: 0.8309  Best Valid Accuracy: 0.6784\n",
            "\n",
            "\n",
            "2 / 5 Fold Training......\n"
          ]
        },
        {
          "output_type": "stream",
          "name": "stderr",
          "text": [
            "\n",
            "  0%|          | 0/50 [00:00<?, ?it/s]"
          ]
        },
        {
          "output_type": "stream",
          "name": "stdout",
          "text": [
            "[Epoch:   1] train loss = 1.3865  valid loss = 1.3848\n"
          ]
        },
        {
          "output_type": "stream",
          "name": "stderr",
          "text": [
            " 14%|█▍        | 7/50 [01:31<09:20, 13.04s/it]"
          ]
        },
        {
          "output_type": "stream",
          "name": "stdout",
          "text": [
            "[Epoch:   8] train loss = 0.29387  valid loss = 1.5226\n",
            "Early stopping!\n",
            "2 Fold -> Best Valid Loss: 0.8236  Best Valid Accuracy: 0.6782\n",
            "\n",
            "\n",
            "3 / 5 Fold Training......\n"
          ]
        },
        {
          "output_type": "stream",
          "name": "stderr",
          "text": [
            "\n",
            "  0%|          | 0/50 [00:00<?, ?it/s]"
          ]
        },
        {
          "output_type": "stream",
          "name": "stdout",
          "text": [
            "[Epoch:   1] train loss = 1.38  valid loss = 1.3782\n"
          ]
        },
        {
          "output_type": "stream",
          "name": "stderr",
          "text": [
            " 14%|█▍        | 7/50 [01:32<09:26, 13.17s/it]"
          ]
        },
        {
          "output_type": "stream",
          "name": "stdout",
          "text": [
            "[Epoch:   8] train loss = 0.29703  valid loss = 1.524\n",
            "Early stopping!\n",
            "3 Fold -> Best Valid Loss: 0.8282  Best Valid Accuracy: 0.6796\n",
            "\n",
            "\n",
            "4 / 5 Fold Training......\n"
          ]
        },
        {
          "output_type": "stream",
          "name": "stderr",
          "text": [
            "\n",
            "  0%|          | 0/50 [00:00<?, ?it/s]"
          ]
        },
        {
          "output_type": "stream",
          "name": "stdout",
          "text": [
            "[Epoch:   1] train loss = 1.3903  valid loss = 1.3886\n"
          ]
        },
        {
          "output_type": "stream",
          "name": "stderr",
          "text": [
            " 14%|█▍        | 7/50 [01:32<09:27, 13.21s/it]"
          ]
        },
        {
          "output_type": "stream",
          "name": "stdout",
          "text": [
            "[Epoch:   8] train loss = 0.30055  valid loss = 1.4825\n",
            "Early stopping!\n",
            "4 Fold -> Best Valid Loss: 0.8368  Best Valid Accuracy: 0.6728\n",
            "\n",
            "\n",
            "5 / 5 Fold Training......\n"
          ]
        },
        {
          "output_type": "stream",
          "name": "stderr",
          "text": [
            "\n",
            "  0%|          | 0/50 [00:00<?, ?it/s]"
          ]
        },
        {
          "output_type": "stream",
          "name": "stdout",
          "text": [
            "[Epoch:   1] train loss = 1.3794  valid loss = 1.3775\n"
          ]
        },
        {
          "output_type": "stream",
          "name": "stderr",
          "text": [
            " 14%|█▍        | 7/50 [01:31<09:22, 13.09s/it]"
          ]
        },
        {
          "output_type": "stream",
          "name": "stdout",
          "text": [
            "[Epoch:   8] train loss = 0.29766  valid loss = 1.5197\n",
            "Early stopping!\n",
            "5 Fold -> Best Valid Loss: 0.8272  Best Valid Accuracy: 0.6762\n",
            "\n",
            "\n",
            "5 Fold Mean Valid Accuracy: 0.6770\n",
            "5 Fold Mean Valid Loss: 0.8293\n"
          ]
        },
        {
          "output_type": "stream",
          "name": "stderr",
          "text": [
            "\n"
          ]
        }
      ]
    },
    {
      "cell_type": "markdown",
      "source": [
        "- epoch에 따른 loss 변화"
      ],
      "metadata": {
        "id": "vEpE6OesxCEA"
      }
    },
    {
      "cell_type": "code",
      "source": [
        "## fold별 epoch당 train loss와 valid loss의 변화\n",
        "fig ,axs = plt.subplots(3, 2, figsize=(10, 8))\n",
        "for i, ax in enumerate(axs.flatten()):\n",
        "    try:\n",
        "        show_loss_plot(net_epoch_train_loss[i], net_epoch_valid_loss[i], ax)\n",
        "    except:\n",
        "        pass\n",
        "fig.tight_layout()"
      ],
      "metadata": {
        "colab": {
          "base_uri": "https://localhost:8080/",
          "height": 585
        },
        "id": "Y-yGC5H5xBxJ",
        "outputId": "9aedbec3-0157-43c0-9dea-30829b4f6eba"
      },
      "execution_count": 107,
      "outputs": [
        {
          "output_type": "display_data",
          "data": {
            "text/plain": [
              "<Figure size 720x576 with 6 Axes>"
            ],
            "image/png": "[encoded data removed]"
          },
          "metadata": {
            "needs_background": "light"
          }
        }
      ]
    },
    {
      "cell_type": "markdown",
      "source": [
        "## test 예측"
      ],
      "metadata": {
        "id": "yYV-aZ5hp0rZ"
      }
    },
    {
      "cell_type": "markdown",
      "source": [
        "`-` softmax function을 취하면 4개의 원소 중 최대값의 인덱스 번호가 최종 예측값이 된다"
      ],
      "metadata": {
        "id": "BM8CF7Pjp1iY"
      }
    },
    {
      "cell_type": "code",
      "source": [
        "def predict(model: nn.Module, dataloader, weight_save_path, is_prob=False) -> np.array:\n",
        "    model = model.to(device)\n",
        "    weight_path_list = glob(weight_save_path + '/*.pt')\n",
        "    test_probs = np.zeros(shape=(len(dataloader.dataset), num_classes)) ## test예측값\n",
        "\n",
        "    for weight in weight_path_list :\n",
        "        model.load_state_dict(torch.load(weight))\n",
        "        model.eval()\n",
        "        probs = None\n",
        "        \n",
        "        with torch.no_grad(): \n",
        "            for test_batch in dataloader:\n",
        "                test_batch = test_batch.to(device)\n",
        "                outputs = model(test_batch).cpu().numpy()\n",
        "                if probs is None:\n",
        "                    probs = outputs\n",
        "                else:\n",
        "                    probs = np.concatenate([probs, outputs])\n",
        "\n",
        "        test_probs += (probs / N_FOLD)\n",
        "    _, test_preds = torch.max(torch.tensor(test_probs), dim=1) ## 최대값과 인덱스를 반환\n",
        "\n",
        "    if is_prob:\n",
        "        return test_probs ## 각 컬럼별 확률값\n",
        "    return test_preds ## 라벨값"
      ],
      "metadata": {
        "id": "nDv50RF8p3bw"
      },
      "execution_count": 108,
      "outputs": []
    },
    {
      "cell_type": "code",
      "source": [
        "def softmax(arr):\n",
        "    new_arr = np.exp(arr) / (np.exp(arr[:, 0]).reshape(-1, 1) + np.exp(arr[:, 1]).reshape(-1, 1) + np.exp(arr[:, 2]).reshape(-1, 1) + np.exp(arr[:, 3]).reshape(-1, 1))\n",
        "    return new_arr"
      ],
      "metadata": {
        "id": "cia8_s_8EEGK"
      },
      "execution_count": 109,
      "outputs": []
    },
    {
      "cell_type": "code",
      "source": [
        "net = RNN(input_size, hidden_size, num_layers, num_classes).to(device)"
      ],
      "metadata": {
        "id": "aTR7mUYup6tZ"
      },
      "execution_count": 110,
      "outputs": []
    },
    {
      "cell_type": "code",
      "source": [
        "test_dataset = CustomDataset(test_tfidf)\n",
        "test_dataloader = DataLoader(test_dataset, batch_size=BATCH_SIZE, shuffle=False, collate_fn=collate_batch_test)"
      ],
      "metadata": {
        "id": "O2eHjXHhp9MY"
      },
      "execution_count": 111,
      "outputs": []
    },
    {
      "cell_type": "markdown",
      "source": [
        "`-` 가장 확률이 높은 평점이 1 or 2 인지 4 or 5 인지 확인한다\n",
        "\n",
        "`-` 만약 1 or 2일 확률이 더 높다면 사전 확률을 고려하여 1일 확률이 0.36 이상이면 1로 그 외에는 2로 맵핑한다\n",
        "\n",
        "`-` 만약 4 or 5일 확률이 더 높다면 사전 확률을 고려하여 4일 확률이 0.2 이상이면 4로 그 외에는 5로 맵핑한다\n",
        "\n",
        "`-` 단, 표본공간은 그대로 둔다\n",
        "\n",
        "`-` 단순히 사전 확률으로만 판단하지 않고 적당한 상수를 곱해주어 비교했다\n",
        "\n",
        "`-` 이유는 적당한 상수를 곱해주었을 때 성능이 더 잘 나왔기 때문이다\n",
        "\n",
        "- why?\n",
        "\n",
        "`-` 내 생각, 틀릴 확률 80% 정도\n",
        "\n",
        "`-` 정확하게 하려면, 예컨대 1 or 2일 확률이 더 높다면 부정적인 리뷰를 다시 예측하여 1점일 확률과 2점일 확률을 구하고 사전 확률을 이용하여 판단해야 한다 \n",
        "\n",
        "`-` 그런데 리뷰를 다시 예측하지 않으므로 단순히 사전 확률만 사용해 1점일 확률이 0.2보다 높은지를 판단하는 것은 리뷰에 평점을 매기기 애매할수록 주된 라벨 (2 or 5)일 확률이 낮으니까 (이는 1 or 4일 확률이 높음을 의미함) 기존에 의도한 사전 확률보다 1 or 4가 선택될 가능성이 과대 추정된다고 생각한다\n",
        "\n",
        "`-` 그런데 성능이 오히려 떨어졌다 (delta 값을 잘 설정해야 할 듯)"
      ],
      "metadata": {
        "id": "F2tm5wsRHJTK"
      }
    },
    {
      "cell_type": "code",
      "source": [
        "def get_label(probs, delta=0.1):\n",
        "    preds = []\n",
        "    for prob in probs:\n",
        "        max_idx = np.argmax(prob)\n",
        "        if max_idx >= 2: ## 평점은 4 or 5일 확률이 1 or 2일 확률보다 더 높다\n",
        "            if prob[2] > 0.2 * (1 + delta):\n",
        "                preds.append(4)\n",
        "            else:\n",
        "                preds.append(5)\n",
        "        else:\n",
        "            if prob[0] > 0.36 * (1 + delta):\n",
        "                preds.append(1)\n",
        "            else:\n",
        "                preds.append(2)\n",
        "    return preds"
      ],
      "metadata": {
        "id": "VtPopaTeHnNC"
      },
      "execution_count": 112,
      "outputs": []
    },
    {
      "cell_type": "code",
      "source": [
        "preds = predict(net, test_dataloader, SAVE_PATH, is_prob=False)"
      ],
      "metadata": {
        "id": "vo2smn4kDS3q"
      },
      "execution_count": 113,
      "outputs": []
    },
    {
      "cell_type": "code",
      "source": [
        "submission['target'] = preds\n",
        "submission['target'] = submission['target'].map({0:1, 1:2, 2:4, 3:5})\n",
        "submission.head()"
      ],
      "metadata": {
        "colab": {
          "base_uri": "https://localhost:8080/",
          "height": 206
        },
        "id": "PzLLwy-HqAWw",
        "outputId": "4aa6eb26-be0b-4a5e-cdeb-d9a2b9f9ec5f"
      },
      "execution_count": 115,
      "outputs": [
        {
          "output_type": "execute_result",
          "data": {
            "text/plain": [
              "   id  target\n",
              "0   0       2\n",
              "1   1       2\n",
              "2   2       5\n",
              "3   3       1\n",
              "4   4       1"
            ],
            "text/html": [
              "\n",
              "  <div id=\"df-ec01bdf0-189d-481a-8815-55243ea6fd5b\">\n",
              "    <div class=\"colab-df-container\">\n",
              "      <div>\n",
              "<style scoped>\n",
              "    .dataframe tbody tr th:only-of-type {\n",
              "        vertical-align: middle;\n",
              "    }\n",
              "\n",
              "    .dataframe tbody tr th {\n",
              "        vertical-align: top;\n",
              "    }\n",
              "\n",
              "    .dataframe thead th {\n",
              "        text-align: right;\n",
              "    }\n",
              "</style>\n",
              "<table border=\"1\" class=\"dataframe\">\n",
              "  <thead>\n",
              "    <tr style=\"text-align: right;\">\n",
              "      <th></th>\n",
              "      <th>id</th>\n",
              "      <th>target</th>\n",
              "    </tr>\n",
              "  </thead>\n",
              "  <tbody>\n",
              "    <tr>\n",
              "      <th>0</th>\n",
              "      <td>0</td>\n",
              "      <td>2</td>\n",
              "    </tr>\n",
              "    <tr>\n",
              "      <th>1</th>\n",
              "      <td>1</td>\n",
              "      <td>2</td>\n",
              "    </tr>\n",
              "    <tr>\n",
              "      <th>2</th>\n",
              "      <td>2</td>\n",
              "      <td>5</td>\n",
              "    </tr>\n",
              "    <tr>\n",
              "      <th>3</th>\n",
              "      <td>3</td>\n",
              "      <td>1</td>\n",
              "    </tr>\n",
              "    <tr>\n",
              "      <th>4</th>\n",
              "      <td>4</td>\n",
              "      <td>1</td>\n",
              "    </tr>\n",
              "  </tbody>\n",
              "</table>\n",
              "</div>\n",
              "      <button class=\"colab-df-convert\" onclick=\"convertToInteractive('df-ec01bdf0-189d-481a-8815-55243ea6fd5b')\"\n",
              "              title=\"Convert this dataframe to an interactive table.\"\n",
              "              style=\"display:none;\">\n",
              "        \n",
              "  <svg xmlns=\"http://www.w3.org/2000/svg\" height=\"24px\"viewBox=\"0 0 24 24\"\n",
              "       width=\"24px\">\n",
              "    <path d=\"M0 0h24v24H0V0z\" fill=\"none\"/>\n",
              "    <path d=\"M18.56 5.44l.94 2.06.94-2.06 2.06-.94-2.06-.94-.94-2.06-.94 2.06-2.06.94zm-11 1L8.5 8.5l.94-2.06 2.06-.94-2.06-.94L8.5 2.5l-.94 2.06-2.06.94zm10 10l.94 2.06.94-2.06 2.06-.94-2.06-.94-.94-2.06-.94 2.06-2.06.94z\"/><path d=\"M17.41 7.96l-1.37-1.37c-.4-.4-.92-.59-1.43-.59-.52 0-1.04.2-1.43.59L10.3 9.45l-7.72 7.72c-.78.78-.78 2.05 0 2.83L4 21.41c.39.39.9.59 1.41.59.51 0 1.02-.2 1.41-.59l7.78-7.78 2.81-2.81c.8-.78.8-2.07 0-2.86zM5.41 20L4 18.59l7.72-7.72 1.47 1.35L5.41 20z\"/>\n",
              "  </svg>\n",
              "      </button>\n",
              "      \n",
              "  <style>\n",
              "    .colab-df-container {\n",
              "      display:flex;\n",
              "      flex-wrap:wrap;\n",
              "      gap: 12px;\n",
              "    }\n",
              "\n",
              "    .colab-df-convert {\n",
              "      background-color: #E8F0FE;\n",
              "      border: none;\n",
              "      border-radius: 50%;\n",
              "      cursor: pointer;\n",
              "      display: none;\n",
              "      fill: #1967D2;\n",
              "      height: 32px;\n",
              "      padding: 0 0 0 0;\n",
              "      width: 32px;\n",
              "    }\n",
              "\n",
              "    .colab-df-convert:hover {\n",
              "      background-color: #E2EBFA;\n",
              "      box-shadow: 0px 1px 2px rgba(60, 64, 67, 0.3), 0px 1px 3px 1px rgba(60, 64, 67, 0.15);\n",
              "      fill: #174EA6;\n",
              "    }\n",
              "\n",
              "    [theme=dark] .colab-df-convert {\n",
              "      background-color: #3B4455;\n",
              "      fill: #D2E3FC;\n",
              "    }\n",
              "\n",
              "    [theme=dark] .colab-df-convert:hover {\n",
              "      background-color: #434B5C;\n",
              "      box-shadow: 0px 1px 3px 1px rgba(0, 0, 0, 0.15);\n",
              "      filter: drop-shadow(0px 1px 2px rgba(0, 0, 0, 0.3));\n",
              "      fill: #FFFFFF;\n",
              "    }\n",
              "  </style>\n",
              "\n",
              "      <script>\n",
              "        const buttonEl =\n",
              "          document.querySelector('#df-ec01bdf0-189d-481a-8815-55243ea6fd5b button.colab-df-convert');\n",
              "        buttonEl.style.display =\n",
              "          google.colab.kernel.accessAllowed ? 'block' : 'none';\n",
              "\n",
              "        async function convertToInteractive(key) {\n",
              "          const element = document.querySelector('#df-ec01bdf0-189d-481a-8815-55243ea6fd5b');\n",
              "          const dataTable =\n",
              "            await google.colab.kernel.invokeFunction('convertToInteractive',\n",
              "                                                     [key], {});\n",
              "          if (!dataTable) return;\n",
              "\n",
              "          const docLinkHtml = 'Like what you see? Visit the ' +\n",
              "            '<a target=\"_blank\" href=https://colab.research.google.com/notebooks/data_table.ipynb>data table notebook</a>'\n",
              "            + ' to learn more about interactive tables.';\n",
              "          element.innerHTML = '';\n",
              "          dataTable['output_type'] = 'display_data';\n",
              "          await google.colab.output.renderOutput(dataTable, element);\n",
              "          const docLink = document.createElement('div');\n",
              "          docLink.innerHTML = docLinkHtml;\n",
              "          element.appendChild(docLink);\n",
              "        }\n",
              "      </script>\n",
              "    </div>\n",
              "  </div>\n",
              "  "
            ]
          },
          "metadata": {},
          "execution_count": 115
        }
      ]
    },
    {
      "cell_type": "code",
      "source": [
        "sns.countplot(data=submission, x='target')"
      ],
      "metadata": {
        "colab": {
          "base_uri": "https://localhost:8080/",
          "height": 297
        },
        "id": "Ac_aJFWwJW2D",
        "outputId": "b2ddcfa5-00f9-4450-a4ed-7fb70e835ded"
      },
      "execution_count": 116,
      "outputs": [
        {
          "output_type": "execute_result",
          "data": {
            "text/plain": [
              "<matplotlib.axes._subplots.AxesSubplot at 0x7fd176a9db50>"
            ]
          },
          "metadata": {},
          "execution_count": 116
        },
        {
          "output_type": "display_data",
          "data": {
            "text/plain": [
              "<Figure size 432x288 with 1 Axes>"
            ],
            "image/png": "[encoded data removed]"
          },
          "metadata": {
            "needs_background": "light"
          }
        }
      ]
    },
    {
      "cell_type": "code",
      "source": [
        "# submission.to_csv('./Data/submission_RNN2.csv', index=False)"
      ],
      "metadata": {
        "id": "s4kw86EdqBNC"
      },
      "execution_count": 118,
      "outputs": []
    },
    {
      "cell_type": "code",
      "source": [
        ""
      ],
      "metadata": {
        "id": "UwdZ2oKmqCFA"
      },
      "execution_count": null,
      "outputs": []
    }
  ]
}